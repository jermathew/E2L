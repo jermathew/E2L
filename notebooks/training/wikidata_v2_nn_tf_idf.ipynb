{
 "cells": [
  {
   "cell_type": "markdown",
   "metadata": {},
   "source": [
    "# Training a neural network model on the Wikidata dataset"
   ]
  },
  {
   "cell_type": "code",
   "execution_count": 1,
   "metadata": {
    "ExecuteTime": {
     "end_time": "2020-11-22T23:13:01.439614Z",
     "start_time": "2020-11-22T23:13:01.074490Z"
    }
   },
   "outputs": [],
   "source": [
    "%matplotlib inline\n",
    "%config InlineBackend.figure_format = 'retina'"
   ]
  },
  {
   "cell_type": "markdown",
   "metadata": {},
   "source": [
    "---"
   ]
  },
  {
   "cell_type": "markdown",
   "metadata": {},
   "source": [
    "## Load the data"
   ]
  },
  {
   "cell_type": "code",
   "execution_count": 2,
   "metadata": {
    "ExecuteTime": {
     "end_time": "2020-11-22T23:13:02.883197Z",
     "start_time": "2020-11-22T23:13:02.878731Z"
    }
   },
   "outputs": [],
   "source": [
    "root_dir = '../../'\n",
    "src_dir = 'src'\n",
    "data_dir = 'data/corpus'\n",
    "models_dir = 'data/models'"
   ]
  },
  {
   "cell_type": "code",
   "execution_count": 3,
   "metadata": {
    "ExecuteTime": {
     "end_time": "2020-11-22T23:13:03.281959Z",
     "start_time": "2020-11-22T23:13:03.278219Z"
    }
   },
   "outputs": [],
   "source": [
    "version = 'v2'"
   ]
  },
  {
   "cell_type": "code",
   "execution_count": 4,
   "metadata": {
    "ExecuteTime": {
     "end_time": "2020-11-22T23:13:03.517920Z",
     "start_time": "2020-11-22T23:13:03.514468Z"
    }
   },
   "outputs": [],
   "source": [
    "import os\n",
    "import sys"
   ]
  },
  {
   "cell_type": "code",
   "execution_count": 5,
   "metadata": {
    "ExecuteTime": {
     "end_time": "2020-11-22T23:13:03.725851Z",
     "start_time": "2020-11-22T23:13:03.721507Z"
    }
   },
   "outputs": [],
   "source": [
    "sys.path.append(os.path.join(root_dir, src_dir))"
   ]
  },
  {
   "cell_type": "code",
   "execution_count": 6,
   "metadata": {
    "ExecuteTime": {
     "end_time": "2020-11-22T23:13:03.913179Z",
     "start_time": "2020-11-22T23:13:03.909261Z"
    }
   },
   "outputs": [],
   "source": [
    "corpus_filename = f'wikidata_corpus_{version}.json'"
   ]
  },
  {
   "cell_type": "code",
   "execution_count": 7,
   "metadata": {
    "ExecuteTime": {
     "end_time": "2020-11-22T23:13:05.020344Z",
     "start_time": "2020-11-22T23:13:04.118099Z"
    }
   },
   "outputs": [],
   "source": [
    "from training import TrainingCorpus"
   ]
  },
  {
   "cell_type": "code",
   "execution_count": 8,
   "metadata": {
    "ExecuteTime": {
     "end_time": "2020-11-22T23:13:05.041494Z",
     "start_time": "2020-11-22T23:13:05.022224Z"
    }
   },
   "outputs": [],
   "source": [
    "corpus = TrainingCorpus()\n",
    "corpus.load(os.path.join(root_dir, data_dir, corpus_filename))"
   ]
  },
  {
   "cell_type": "code",
   "execution_count": 9,
   "metadata": {
    "ExecuteTime": {
     "end_time": "2020-11-22T23:13:05.047018Z",
     "start_time": "2020-11-22T23:13:05.043085Z"
    }
   },
   "outputs": [
    {
     "data": {
      "text/plain": [
       "3294"
      ]
     },
     "execution_count": 9,
     "metadata": {},
     "output_type": "execute_result"
    }
   ],
   "source": [
    "corpus.size"
   ]
  },
  {
   "cell_type": "markdown",
   "metadata": {},
   "source": [
    "---"
   ]
  },
  {
   "cell_type": "markdown",
   "metadata": {},
   "source": [
    "## Split the dataset into training and test set"
   ]
  },
  {
   "cell_type": "code",
   "execution_count": 10,
   "metadata": {
    "ExecuteTime": {
     "end_time": "2020-11-22T23:13:05.057354Z",
     "start_time": "2020-11-22T23:13:05.048280Z"
    }
   },
   "outputs": [],
   "source": [
    "train_doc_ids, test_doc_ids, train_labels, test_labels = corpus.get_train_test_data(test_size=0.2, random_state=3)"
   ]
  },
  {
   "cell_type": "code",
   "execution_count": 11,
   "metadata": {
    "ExecuteTime": {
     "end_time": "2020-11-22T23:13:05.323818Z",
     "start_time": "2020-11-22T23:13:05.316977Z"
    }
   },
   "outputs": [
    {
     "name": "stdout",
     "output_type": "stream",
     "text": [
      "Training set size: 2635\n",
      "Test set size: 659\n",
      "No. of labels: 195\n"
     ]
    }
   ],
   "source": [
    "n_classes = train_labels.shape[1]\n",
    "print(f'Training set size: {len(train_doc_ids)}')\n",
    "print(f'Test set size: {len(test_doc_ids)}')\n",
    "print(f'No. of labels: {n_classes}')"
   ]
  },
  {
   "cell_type": "markdown",
   "metadata": {},
   "source": [
    "---"
   ]
  },
  {
   "cell_type": "markdown",
   "metadata": {},
   "source": [
    "## Vectorize the data using tf-idf"
   ]
  },
  {
   "cell_type": "markdown",
   "metadata": {},
   "source": [
    "### Define corpus for tf-idf"
   ]
  },
  {
   "cell_type": "code",
   "execution_count": 12,
   "metadata": {
    "ExecuteTime": {
     "end_time": "2020-11-22T23:13:06.029846Z",
     "start_time": "2020-11-22T23:13:06.025444Z"
    }
   },
   "outputs": [],
   "source": [
    "import numpy as np\n",
    "from collections import defaultdict"
   ]
  },
  {
   "cell_type": "code",
   "execution_count": 13,
   "metadata": {
    "ExecuteTime": {
     "end_time": "2020-11-22T23:13:06.215928Z",
     "start_time": "2020-11-22T23:13:06.211802Z"
    }
   },
   "outputs": [],
   "source": [
    "pseudo_docs = defaultdict(str)"
   ]
  },
  {
   "cell_type": "code",
   "execution_count": 14,
   "metadata": {
    "ExecuteTime": {
     "end_time": "2020-11-22T23:13:06.486905Z",
     "start_time": "2020-11-22T23:13:06.436326Z"
    }
   },
   "outputs": [],
   "source": [
    "for i in range(len(train_doc_ids)):\n",
    "    doc_id = train_doc_ids[i]\n",
    "    text = ' '.join(corpus.get_tokens(doc_id))\n",
    "    label = np.flatnonzero(train_labels[i])[0]\n",
    "    pseudo_docs[label] += ' ' + text"
   ]
  },
  {
   "cell_type": "code",
   "execution_count": 15,
   "metadata": {
    "ExecuteTime": {
     "end_time": "2020-11-22T23:13:06.643507Z",
     "start_time": "2020-11-22T23:13:06.637338Z"
    }
   },
   "outputs": [
    {
     "data": {
      "text/plain": [
       "195"
      ]
     },
     "execution_count": 15,
     "metadata": {},
     "output_type": "execute_result"
    }
   ],
   "source": [
    "len(pseudo_docs.values())"
   ]
  },
  {
   "cell_type": "code",
   "execution_count": 16,
   "metadata": {
    "ExecuteTime": {
     "end_time": "2020-11-22T23:13:06.854206Z",
     "start_time": "2020-11-22T23:13:06.850276Z"
    }
   },
   "outputs": [],
   "source": [
    "tfidf_corpus = list(pseudo_docs.values())"
   ]
  },
  {
   "cell_type": "markdown",
   "metadata": {},
   "source": [
    "### Instantiate TfidfVectorizer and vectorize training data"
   ]
  },
  {
   "cell_type": "code",
   "execution_count": 17,
   "metadata": {
    "ExecuteTime": {
     "end_time": "2020-11-22T23:13:07.247975Z",
     "start_time": "2020-11-22T23:13:07.243404Z"
    }
   },
   "outputs": [],
   "source": [
    "from sklearn.feature_extraction.text import TfidfVectorizer"
   ]
  },
  {
   "cell_type": "code",
   "execution_count": 18,
   "metadata": {
    "ExecuteTime": {
     "end_time": "2020-11-22T23:13:07.468265Z",
     "start_time": "2020-11-22T23:13:07.464008Z"
    }
   },
   "outputs": [],
   "source": [
    "def custom_tokenizer(input_text):\n",
    "    return input_text.split()"
   ]
  },
  {
   "cell_type": "code",
   "execution_count": 19,
   "metadata": {
    "ExecuteTime": {
     "end_time": "2020-11-22T23:13:07.667386Z",
     "start_time": "2020-11-22T23:13:07.663081Z"
    }
   },
   "outputs": [],
   "source": [
    "vectorizer = TfidfVectorizer(lowercase=False, tokenizer=custom_tokenizer)"
   ]
  },
  {
   "cell_type": "code",
   "execution_count": 20,
   "metadata": {
    "ExecuteTime": {
     "end_time": "2020-11-22T23:13:07.922103Z",
     "start_time": "2020-11-22T23:13:07.871050Z"
    }
   },
   "outputs": [
    {
     "data": {
      "text/plain": [
       "<195x4115 sparse matrix of type '<class 'numpy.float64'>'\n",
       "\twith 8348 stored elements in Compressed Sparse Row format>"
      ]
     },
     "execution_count": 20,
     "metadata": {},
     "output_type": "execute_result"
    }
   ],
   "source": [
    "vectorizer.fit(tfidf_corpus)"
   ]
  },
  {
   "cell_type": "code",
   "execution_count": 21,
   "metadata": {
    "ExecuteTime": {
     "end_time": "2020-11-22T23:13:08.157376Z",
     "start_time": "2020-11-22T23:13:08.096798Z"
    }
   },
   "outputs": [],
   "source": [
    "train_corpus = [' '.join(corpus.get_tokens(doc_id)) for doc_id in train_doc_ids]\n",
    "train_data = vectorizer.transform(train_corpus)"
   ]
  },
  {
   "cell_type": "code",
   "execution_count": 22,
   "metadata": {
    "ExecuteTime": {
     "end_time": "2020-11-22T23:13:08.315257Z",
     "start_time": "2020-11-22T23:13:08.309030Z"
    }
   },
   "outputs": [
    {
     "data": {
      "text/plain": [
       "4115"
      ]
     },
     "execution_count": 22,
     "metadata": {},
     "output_type": "execute_result"
    }
   ],
   "source": [
    "input_size = train_data.shape[1]\n",
    "input_size"
   ]
  },
  {
   "cell_type": "markdown",
   "metadata": {},
   "source": [
    "---"
   ]
  },
  {
   "cell_type": "markdown",
   "metadata": {},
   "source": [
    "## Train the model"
   ]
  },
  {
   "cell_type": "markdown",
   "metadata": {},
   "source": [
    "### Define the model"
   ]
  },
  {
   "cell_type": "code",
   "execution_count": 23,
   "metadata": {
    "ExecuteTime": {
     "end_time": "2020-11-22T23:13:10.718711Z",
     "start_time": "2020-11-22T23:13:09.221798Z"
    }
   },
   "outputs": [
    {
     "name": "stderr",
     "output_type": "stream",
     "text": [
      "Using TensorFlow backend.\n"
     ]
    }
   ],
   "source": [
    "from keras import Sequential\n",
    "from keras.layers import Dense\n",
    "from keras.optimizers import Adam"
   ]
  },
  {
   "cell_type": "code",
   "execution_count": 24,
   "metadata": {
    "ExecuteTime": {
     "end_time": "2020-11-22T23:13:10.903077Z",
     "start_time": "2020-11-22T23:13:10.720531Z"
    }
   },
   "outputs": [],
   "source": [
    "model = Sequential([\n",
    "    Dense(1024, activation='relu', input_dim=(input_size)),\n",
    "    Dense(512, activation='relu'),\n",
    "    Dense(n_classes, activation='softmax')\n",
    "])\n",
    "\n",
    "model.compile(loss='categorical_crossentropy',\n",
    "              optimizer=Adam(),\n",
    "              metrics=['accuracy'])"
   ]
  },
  {
   "cell_type": "code",
   "execution_count": 25,
   "metadata": {
    "ExecuteTime": {
     "end_time": "2020-11-22T23:13:10.909002Z",
     "start_time": "2020-11-22T23:13:10.905835Z"
    }
   },
   "outputs": [],
   "source": [
    "from IPython.display import SVG\n",
    "from keras.utils.vis_utils import model_to_dot"
   ]
  },
  {
   "cell_type": "code",
   "execution_count": 26,
   "metadata": {
    "ExecuteTime": {
     "end_time": "2020-11-22T23:13:11.070315Z",
     "start_time": "2020-11-22T23:13:10.911914Z"
    }
   },
   "outputs": [
    {
     "data": {
      "image/svg+xml": [
       "<svg xmlns=\"http://www.w3.org/2000/svg\" xmlns:xlink=\"http://www.w3.org/1999/xlink\" width=\"306pt\" height=\"296pt\" viewBox=\"0.00 0.00 315.00 304.00\">\n",
       "<g id=\"graph0\" class=\"graph\" transform=\"scale(.9722 .9722) rotate(0) translate(4 300)\">\n",
       "<title>G</title>\n",
       "<polygon fill=\"#ffffff\" stroke=\"transparent\" points=\"-4,4 -4,-300 311,-300 311,4 -4,4\"/>\n",
       "<!-- 139775102587328 -->\n",
       "<g id=\"node1\" class=\"node\">\n",
       "<title>139775102587328</title>\n",
       "<polygon fill=\"none\" stroke=\"#000000\" points=\"0,-249.5 0,-295.5 307,-295.5 307,-249.5 0,-249.5\"/>\n",
       "<text text-anchor=\"middle\" x=\"81.5\" y=\"-268.8\" font-family=\"Times,serif\" font-size=\"14.00\" fill=\"#000000\">dense_1_input: InputLayer</text>\n",
       "<polyline fill=\"none\" stroke=\"#000000\" points=\"163,-249.5 163,-295.5 \"/>\n",
       "<text text-anchor=\"middle\" x=\"190.5\" y=\"-280.3\" font-family=\"Times,serif\" font-size=\"14.00\" fill=\"#000000\">input:</text>\n",
       "<polyline fill=\"none\" stroke=\"#000000\" points=\"163,-272.5 218,-272.5 \"/>\n",
       "<text text-anchor=\"middle\" x=\"190.5\" y=\"-257.3\" font-family=\"Times,serif\" font-size=\"14.00\" fill=\"#000000\">output:</text>\n",
       "<polyline fill=\"none\" stroke=\"#000000\" points=\"218,-249.5 218,-295.5 \"/>\n",
       "<text text-anchor=\"middle\" x=\"262.5\" y=\"-280.3\" font-family=\"Times,serif\" font-size=\"14.00\" fill=\"#000000\">(None, 4115)</text>\n",
       "<polyline fill=\"none\" stroke=\"#000000\" points=\"218,-272.5 307,-272.5 \"/>\n",
       "<text text-anchor=\"middle\" x=\"262.5\" y=\"-257.3\" font-family=\"Times,serif\" font-size=\"14.00\" fill=\"#000000\">(None, 4115)</text>\n",
       "</g>\n",
       "<!-- 139775111268480 -->\n",
       "<g id=\"node2\" class=\"node\">\n",
       "<title>139775111268480</title>\n",
       "<polygon fill=\"none\" stroke=\"#000000\" points=\"30.5,-166.5 30.5,-212.5 276.5,-212.5 276.5,-166.5 30.5,-166.5\"/>\n",
       "<text text-anchor=\"middle\" x=\"81.5\" y=\"-185.8\" font-family=\"Times,serif\" font-size=\"14.00\" fill=\"#000000\">dense_1: Dense</text>\n",
       "<polyline fill=\"none\" stroke=\"#000000\" points=\"132.5,-166.5 132.5,-212.5 \"/>\n",
       "<text text-anchor=\"middle\" x=\"160\" y=\"-197.3\" font-family=\"Times,serif\" font-size=\"14.00\" fill=\"#000000\">input:</text>\n",
       "<polyline fill=\"none\" stroke=\"#000000\" points=\"132.5,-189.5 187.5,-189.5 \"/>\n",
       "<text text-anchor=\"middle\" x=\"160\" y=\"-174.3\" font-family=\"Times,serif\" font-size=\"14.00\" fill=\"#000000\">output:</text>\n",
       "<polyline fill=\"none\" stroke=\"#000000\" points=\"187.5,-166.5 187.5,-212.5 \"/>\n",
       "<text text-anchor=\"middle\" x=\"232\" y=\"-197.3\" font-family=\"Times,serif\" font-size=\"14.00\" fill=\"#000000\">(None, 4115)</text>\n",
       "<polyline fill=\"none\" stroke=\"#000000\" points=\"187.5,-189.5 276.5,-189.5 \"/>\n",
       "<text text-anchor=\"middle\" x=\"232\" y=\"-174.3\" font-family=\"Times,serif\" font-size=\"14.00\" fill=\"#000000\">(None, 1024)</text>\n",
       "</g>\n",
       "<!-- 139775102587328&#45;&gt;139775111268480 -->\n",
       "<g id=\"edge1\" class=\"edge\">\n",
       "<title>139775102587328-&gt;139775111268480</title>\n",
       "<path fill=\"none\" stroke=\"#000000\" d=\"M153.5,-249.3799C153.5,-241.1745 153.5,-231.7679 153.5,-222.8786\"/>\n",
       "<polygon fill=\"#000000\" stroke=\"#000000\" points=\"157.0001,-222.784 153.5,-212.784 150.0001,-222.784 157.0001,-222.784\"/>\n",
       "</g>\n",
       "<!-- 139775111268624 -->\n",
       "<g id=\"node3\" class=\"node\">\n",
       "<title>139775111268624</title>\n",
       "<polygon fill=\"none\" stroke=\"#000000\" points=\"30.5,-83.5 30.5,-129.5 276.5,-129.5 276.5,-83.5 30.5,-83.5\"/>\n",
       "<text text-anchor=\"middle\" x=\"81.5\" y=\"-102.8\" font-family=\"Times,serif\" font-size=\"14.00\" fill=\"#000000\">dense_2: Dense</text>\n",
       "<polyline fill=\"none\" stroke=\"#000000\" points=\"132.5,-83.5 132.5,-129.5 \"/>\n",
       "<text text-anchor=\"middle\" x=\"160\" y=\"-114.3\" font-family=\"Times,serif\" font-size=\"14.00\" fill=\"#000000\">input:</text>\n",
       "<polyline fill=\"none\" stroke=\"#000000\" points=\"132.5,-106.5 187.5,-106.5 \"/>\n",
       "<text text-anchor=\"middle\" x=\"160\" y=\"-91.3\" font-family=\"Times,serif\" font-size=\"14.00\" fill=\"#000000\">output:</text>\n",
       "<polyline fill=\"none\" stroke=\"#000000\" points=\"187.5,-83.5 187.5,-129.5 \"/>\n",
       "<text text-anchor=\"middle\" x=\"232\" y=\"-114.3\" font-family=\"Times,serif\" font-size=\"14.00\" fill=\"#000000\">(None, 1024)</text>\n",
       "<polyline fill=\"none\" stroke=\"#000000\" points=\"187.5,-106.5 276.5,-106.5 \"/>\n",
       "<text text-anchor=\"middle\" x=\"232\" y=\"-91.3\" font-family=\"Times,serif\" font-size=\"14.00\" fill=\"#000000\">(None, 512)</text>\n",
       "</g>\n",
       "<!-- 139775111268480&#45;&gt;139775111268624 -->\n",
       "<g id=\"edge2\" class=\"edge\">\n",
       "<title>139775111268480-&gt;139775111268624</title>\n",
       "<path fill=\"none\" stroke=\"#000000\" d=\"M153.5,-166.3799C153.5,-158.1745 153.5,-148.7679 153.5,-139.8786\"/>\n",
       "<polygon fill=\"#000000\" stroke=\"#000000\" points=\"157.0001,-139.784 153.5,-129.784 150.0001,-139.784 157.0001,-139.784\"/>\n",
       "</g>\n",
       "<!-- 139780386025872 -->\n",
       "<g id=\"node4\" class=\"node\">\n",
       "<title>139780386025872</title>\n",
       "<polygon fill=\"none\" stroke=\"#000000\" points=\"33.5,-.5 33.5,-46.5 273.5,-46.5 273.5,-.5 33.5,-.5\"/>\n",
       "<text text-anchor=\"middle\" x=\"84.5\" y=\"-19.8\" font-family=\"Times,serif\" font-size=\"14.00\" fill=\"#000000\">dense_3: Dense</text>\n",
       "<polyline fill=\"none\" stroke=\"#000000\" points=\"135.5,-.5 135.5,-46.5 \"/>\n",
       "<text text-anchor=\"middle\" x=\"163\" y=\"-31.3\" font-family=\"Times,serif\" font-size=\"14.00\" fill=\"#000000\">input:</text>\n",
       "<polyline fill=\"none\" stroke=\"#000000\" points=\"135.5,-23.5 190.5,-23.5 \"/>\n",
       "<text text-anchor=\"middle\" x=\"163\" y=\"-8.3\" font-family=\"Times,serif\" font-size=\"14.00\" fill=\"#000000\">output:</text>\n",
       "<polyline fill=\"none\" stroke=\"#000000\" points=\"190.5,-.5 190.5,-46.5 \"/>\n",
       "<text text-anchor=\"middle\" x=\"232\" y=\"-31.3\" font-family=\"Times,serif\" font-size=\"14.00\" fill=\"#000000\">(None, 512)</text>\n",
       "<polyline fill=\"none\" stroke=\"#000000\" points=\"190.5,-23.5 273.5,-23.5 \"/>\n",
       "<text text-anchor=\"middle\" x=\"232\" y=\"-8.3\" font-family=\"Times,serif\" font-size=\"14.00\" fill=\"#000000\">(None, 195)</text>\n",
       "</g>\n",
       "<!-- 139775111268624&#45;&gt;139780386025872 -->\n",
       "<g id=\"edge3\" class=\"edge\">\n",
       "<title>139775111268624-&gt;139780386025872</title>\n",
       "<path fill=\"none\" stroke=\"#000000\" d=\"M153.5,-83.3799C153.5,-75.1745 153.5,-65.7679 153.5,-56.8786\"/>\n",
       "<polygon fill=\"#000000\" stroke=\"#000000\" points=\"157.0001,-56.784 153.5,-46.784 150.0001,-56.784 157.0001,-56.784\"/>\n",
       "</g>\n",
       "</g>\n",
       "</svg>"
      ],
      "text/plain": [
       "<IPython.core.display.SVG object>"
      ]
     },
     "execution_count": 26,
     "metadata": {},
     "output_type": "execute_result"
    }
   ],
   "source": [
    "SVG(model_to_dot(model, show_shapes=True, dpi=70).create(prog='dot', format='svg'))"
   ]
  },
  {
   "cell_type": "markdown",
   "metadata": {},
   "source": [
    "### Train the model"
   ]
  },
  {
   "cell_type": "code",
   "execution_count": 27,
   "metadata": {
    "ExecuteTime": {
     "end_time": "2020-11-22T23:13:11.076670Z",
     "start_time": "2020-11-22T23:13:11.073128Z"
    }
   },
   "outputs": [],
   "source": [
    "import time"
   ]
  },
  {
   "cell_type": "code",
   "execution_count": 28,
   "metadata": {
    "ExecuteTime": {
     "end_time": "2020-11-22T23:13:23.075143Z",
     "start_time": "2020-11-22T23:13:11.079309Z"
    }
   },
   "outputs": [
    {
     "name": "stdout",
     "output_type": "stream",
     "text": [
      "Train on 2371 samples, validate on 264 samples\n",
      "Epoch 1/10\n",
      "2371/2371 [==============================] - 1s 567us/step - loss: 4.4903 - accuracy: 0.2957 - val_loss: 2.7192 - val_accuracy: 0.5985\n",
      "Epoch 2/10\n",
      "2371/2371 [==============================] - 1s 468us/step - loss: 1.1555 - accuracy: 0.8212 - val_loss: 0.4883 - val_accuracy: 0.9394\n",
      "Epoch 3/10\n",
      "2371/2371 [==============================] - 1s 479us/step - loss: 0.1638 - accuracy: 0.9755 - val_loss: 0.1652 - val_accuracy: 0.9924\n",
      "Epoch 4/10\n",
      "2371/2371 [==============================] - 1s 471us/step - loss: 0.0467 - accuracy: 0.9954 - val_loss: 0.0984 - val_accuracy: 0.9962\n",
      "Epoch 5/10\n",
      "2371/2371 [==============================] - 1s 461us/step - loss: 0.0208 - accuracy: 0.9996 - val_loss: 0.0759 - val_accuracy: 0.9924\n",
      "Epoch 6/10\n",
      "2371/2371 [==============================] - 1s 468us/step - loss: 0.0126 - accuracy: 0.9996 - val_loss: 0.0740 - val_accuracy: 0.9962\n",
      "Epoch 7/10\n",
      "2371/2371 [==============================] - 1s 463us/step - loss: 0.0107 - accuracy: 0.9975 - val_loss: 0.0628 - val_accuracy: 0.9962\n",
      "Epoch 8/10\n",
      "2371/2371 [==============================] - 1s 472us/step - loss: 0.0059 - accuracy: 1.0000 - val_loss: 0.0550 - val_accuracy: 0.9962\n",
      "Epoch 9/10\n",
      "2371/2371 [==============================] - 1s 554us/step - loss: 0.0041 - accuracy: 1.0000 - val_loss: 0.0510 - val_accuracy: 0.9962\n",
      "Epoch 10/10\n",
      "2371/2371 [==============================] - 1s 483us/step - loss: 0.0033 - accuracy: 1.0000 - val_loss: 0.0471 - val_accuracy: 0.9962\n",
      "Elapsed time (learning): 00:00:11\n"
     ]
    }
   ],
   "source": [
    "start_time = time.time()\n",
    "\n",
    "history = model.fit(train_data, \n",
    "                    train_labels, \n",
    "                    validation_split=0.1, \n",
    "                    epochs=10)\n",
    "\n",
    "elapsed_time = time.time() - start_time\n",
    "t = time.strftime(\"%H:%M:%S\", time.gmtime(elapsed_time))\n",
    "print('Elapsed time (learning):', t)"
   ]
  },
  {
   "cell_type": "markdown",
   "metadata": {},
   "source": [
    "### Plot loss and accuracy"
   ]
  },
  {
   "cell_type": "code",
   "execution_count": 29,
   "metadata": {
    "ExecuteTime": {
     "end_time": "2020-11-22T23:13:23.080538Z",
     "start_time": "2020-11-22T23:13:23.077305Z"
    }
   },
   "outputs": [],
   "source": [
    "history_dict = history.history\n",
    "\n",
    "acc = history_dict['accuracy']\n",
    "val_acc = history_dict['val_accuracy']\n",
    "loss = history_dict['loss']\n",
    "val_loss = history_dict['val_loss']\n",
    "\n",
    "epochs = range(1, len(acc) + 1)"
   ]
  },
  {
   "cell_type": "code",
   "execution_count": 30,
   "metadata": {
    "ExecuteTime": {
     "end_time": "2020-11-22T23:13:23.084113Z",
     "start_time": "2020-11-22T23:13:23.082049Z"
    }
   },
   "outputs": [],
   "source": [
    "import matplotlib.pyplot as plt"
   ]
  },
  {
   "cell_type": "code",
   "execution_count": 31,
   "metadata": {
    "ExecuteTime": {
     "end_time": "2020-11-22T23:13:23.344608Z",
     "start_time": "2020-11-22T23:13:23.085468Z"
    }
   },
   "outputs": [
    {
     "data": {
      "image/png": "[encoded data removed]",
      "text/plain": [
       "<Figure size 576x576 with 1 Axes>"
      ]
     },
     "metadata": {
      "image/png": {
       "height": 494,
       "width": 487
      },
      "needs_background": "light"
     },
     "output_type": "display_data"
    }
   ],
   "source": [
    "plt.figure(figsize=(8,8))\n",
    "plt.plot(epochs, loss, 'b', label='Training loss')\n",
    "plt.plot(epochs, val_loss, 'g', label='Validation loss')\n",
    "plt.title('Training and validation loss')\n",
    "plt.xlabel('Epochs')\n",
    "plt.ylabel('Loss')\n",
    "plt.legend()\n",
    "plt.show()"
   ]
  },
  {
   "cell_type": "code",
   "execution_count": 32,
   "metadata": {
    "ExecuteTime": {
     "end_time": "2020-11-22T23:13:23.577843Z",
     "start_time": "2020-11-22T23:13:23.345908Z"
    }
   },
   "outputs": [
    {
     "data": {
      "image/png": "[encoded data removed]",
      "text/plain": [
       "<Figure size 576x576 with 1 Axes>"
      ]
     },
     "metadata": {
      "image/png": {
       "height": 494,
       "width": 497
      },
      "needs_background": "light"
     },
     "output_type": "display_data"
    }
   ],
   "source": [
    "plt.figure(figsize=(8,8))\n",
    "plt.plot(epochs, acc, 'b', label='Training acc')\n",
    "plt.plot(epochs, val_acc, 'g', label='Validation acc')\n",
    "plt.title('Training and validation accuracy')\n",
    "plt.xlabel('Epochs')\n",
    "plt.ylabel('Accuracy')\n",
    "plt.legend()\n",
    "plt.show()"
   ]
  },
  {
   "cell_type": "markdown",
   "metadata": {},
   "source": [
    "---"
   ]
  },
  {
   "cell_type": "markdown",
   "metadata": {},
   "source": [
    "## Evaluate the model"
   ]
  },
  {
   "cell_type": "markdown",
   "metadata": {},
   "source": [
    "### Compute f-score on the test set"
   ]
  },
  {
   "cell_type": "code",
   "execution_count": 33,
   "metadata": {
    "ExecuteTime": {
     "end_time": "2020-11-22T23:13:23.589663Z",
     "start_time": "2020-11-22T23:13:23.578941Z"
    }
   },
   "outputs": [],
   "source": [
    "test_corpus = [' '.join(corpus.get_tokens(doc_id)) for doc_id in test_doc_ids]\n",
    "test_data = vectorizer.transform(test_corpus)"
   ]
  },
  {
   "cell_type": "code",
   "execution_count": 34,
   "metadata": {
    "ExecuteTime": {
     "end_time": "2020-11-22T23:13:23.674776Z",
     "start_time": "2020-11-22T23:13:23.590853Z"
    }
   },
   "outputs": [],
   "source": [
    "test_pred = model.predict(test_data)\n",
    "# round to nearest integer\n",
    "test_pred = np.rint(test_pred)"
   ]
  },
  {
   "cell_type": "code",
   "execution_count": 35,
   "metadata": {
    "ExecuteTime": {
     "end_time": "2020-11-22T23:13:23.681281Z",
     "start_time": "2020-11-22T23:13:23.676382Z"
    }
   },
   "outputs": [
    {
     "data": {
      "text/plain": [
       "array([0., 0., 0., 0., 0., 0., 0., 0., 0., 0., 0., 0., 0., 0., 0., 0., 0.,\n",
       "       0., 0., 0., 0., 0., 0., 0., 0., 0., 0., 0., 0., 0., 0., 0., 0., 0.,\n",
       "       0., 0., 0., 0., 0., 0., 0., 0., 0., 0., 0., 0., 0., 0., 0., 0., 0.,\n",
       "       0., 0., 0., 0., 0., 0., 0., 0., 0., 0., 0., 0., 0., 0., 0., 0., 0.,\n",
       "       0., 0., 0., 0., 0., 0., 0., 0., 0., 0., 0., 0., 0., 0., 0., 0., 0.,\n",
       "       0., 0., 0., 0., 0., 0., 0., 0., 0., 0., 0., 0., 0., 0., 0., 0., 0.,\n",
       "       0., 0., 0., 0., 0., 0., 0., 0., 0., 0., 0., 0., 0., 0., 0., 0., 0.,\n",
       "       0., 0., 0., 0., 0., 0., 0., 0., 0., 0., 0., 0., 0., 0., 0., 0., 0.,\n",
       "       0., 0., 0., 0., 0., 0., 0., 0., 0., 0., 0., 0., 0., 0., 0., 0., 0.,\n",
       "       0., 0., 0., 0., 0., 0., 0., 0., 0., 0., 0., 0., 0., 0., 0., 0., 0.,\n",
       "       0., 0., 0., 0., 0., 0., 1., 0., 0., 0., 0., 0., 0., 0., 0., 0., 0.,\n",
       "       0., 0., 0., 0., 0., 0., 0., 0.], dtype=float32)"
      ]
     },
     "execution_count": 35,
     "metadata": {},
     "output_type": "execute_result"
    }
   ],
   "source": [
    "test_pred[0]"
   ]
  },
  {
   "cell_type": "code",
   "execution_count": 36,
   "metadata": {
    "ExecuteTime": {
     "end_time": "2020-11-22T23:13:23.685662Z",
     "start_time": "2020-11-22T23:13:23.683362Z"
    }
   },
   "outputs": [],
   "source": [
    "from sklearn.metrics import classification_report"
   ]
  },
  {
   "cell_type": "code",
   "execution_count": 37,
   "metadata": {
    "ExecuteTime": {
     "end_time": "2020-11-22T23:13:23.708881Z",
     "start_time": "2020-11-22T23:13:23.687404Z"
    }
   },
   "outputs": [
    {
     "name": "stdout",
     "output_type": "stream",
     "text": [
      "              precision    recall  f1-score   support\n",
      "\n",
      "           0       1.00      1.00      1.00         1\n",
      "           1       0.00      0.00      0.00         0\n",
      "           2       0.00      0.00      0.00         0\n",
      "           3       0.00      0.00      0.00         0\n",
      "           4       1.00      1.00      1.00         7\n",
      "           5       1.00      1.00      1.00         3\n",
      "           6       1.00      1.00      1.00         2\n",
      "           7       1.00      1.00      1.00         5\n",
      "           8       1.00      1.00      1.00         2\n",
      "           9       1.00      1.00      1.00         8\n",
      "          10       1.00      1.00      1.00         7\n",
      "          11       1.00      1.00      1.00         2\n",
      "          12       1.00      1.00      1.00         4\n",
      "          13       1.00      1.00      1.00         2\n",
      "          14       1.00      1.00      1.00         4\n",
      "          15       0.00      0.00      0.00         0\n",
      "          16       1.00      1.00      1.00         2\n",
      "          17       1.00      1.00      1.00         8\n",
      "          18       1.00      1.00      1.00         1\n",
      "          19       1.00      1.00      1.00         1\n",
      "          20       1.00      1.00      1.00         2\n",
      "          21       1.00      1.00      1.00         6\n",
      "          22       1.00      1.00      1.00         1\n",
      "          23       1.00      1.00      1.00         2\n",
      "          24       1.00      1.00      1.00         3\n",
      "          25       1.00      1.00      1.00         8\n",
      "          26       1.00      1.00      1.00         3\n",
      "          27       0.00      0.00      0.00         0\n",
      "          28       1.00      1.00      1.00         4\n",
      "          29       1.00      1.00      1.00         5\n",
      "          30       1.00      1.00      1.00         3\n",
      "          31       1.00      1.00      1.00         6\n",
      "          32       1.00      1.00      1.00         1\n",
      "          33       1.00      1.00      1.00         9\n",
      "          34       1.00      1.00      1.00         7\n",
      "          35       1.00      1.00      1.00         5\n",
      "          36       1.00      1.00      1.00         3\n",
      "          37       1.00      1.00      1.00         3\n",
      "          38       1.00      1.00      1.00         5\n",
      "          39       1.00      1.00      1.00         2\n",
      "          40       1.00      1.00      1.00         2\n",
      "          41       1.00      1.00      1.00         1\n",
      "          42       1.00      1.00      1.00         2\n",
      "          43       1.00      1.00      1.00         4\n",
      "          44       1.00      1.00      1.00         1\n",
      "          45       1.00      1.00      1.00         3\n",
      "          46       1.00      1.00      1.00         4\n",
      "          47       1.00      1.00      1.00         1\n",
      "          48       0.00      0.00      0.00         0\n",
      "          49       1.00      0.50      0.67         2\n",
      "          50       1.00      1.00      1.00         3\n",
      "          51       1.00      1.00      1.00         4\n",
      "          52       1.00      1.00      1.00         4\n",
      "          53       1.00      1.00      1.00         6\n",
      "          54       0.00      0.00      0.00         0\n",
      "          55       1.00      0.80      0.89         5\n",
      "          56       1.00      0.67      0.80         3\n",
      "          57       1.00      1.00      1.00         2\n",
      "          58       1.00      1.00      1.00         1\n",
      "          59       1.00      1.00      1.00         4\n",
      "          60       1.00      1.00      1.00         5\n",
      "          61       1.00      1.00      1.00         7\n",
      "          62       1.00      1.00      1.00         1\n",
      "          63       1.00      1.00      1.00         1\n",
      "          64       1.00      0.75      0.86         4\n",
      "          65       1.00      1.00      1.00         1\n",
      "          66       1.00      1.00      1.00         2\n",
      "          67       1.00      1.00      1.00         1\n",
      "          68       1.00      1.00      1.00         4\n",
      "          69       1.00      1.00      1.00         1\n",
      "          70       1.00      1.00      1.00         3\n",
      "          71       1.00      1.00      1.00         8\n",
      "          72       1.00      1.00      1.00         1\n",
      "          73       1.00      1.00      1.00         3\n",
      "          74       1.00      1.00      1.00         2\n",
      "          75       1.00      1.00      1.00         1\n",
      "          76       1.00      1.00      1.00         3\n",
      "          77       1.00      0.50      0.67         2\n",
      "          78       1.00      1.00      1.00         6\n",
      "          79       0.80      1.00      0.89         4\n",
      "          80       1.00      1.00      1.00         5\n",
      "          81       1.00      1.00      1.00         3\n",
      "          82       1.00      1.00      1.00         7\n",
      "          83       0.00      0.00      0.00         2\n",
      "          84       1.00      1.00      1.00         5\n",
      "          85       1.00      1.00      1.00         2\n",
      "          86       1.00      1.00      1.00         3\n",
      "          87       1.00      1.00      1.00         3\n",
      "          88       1.00      1.00      1.00         5\n",
      "          89       1.00      1.00      1.00         3\n",
      "          90       1.00      1.00      1.00         2\n",
      "          91       1.00      1.00      1.00         6\n",
      "          92       1.00      1.00      1.00         6\n",
      "          93       0.00      0.00      0.00         0\n",
      "          94       0.91      1.00      0.95        10\n",
      "          95       1.00      1.00      1.00         6\n",
      "          96       1.00      1.00      1.00         1\n",
      "          97       1.00      1.00      1.00         4\n",
      "          98       1.00      0.50      0.67         4\n",
      "          99       1.00      1.00      1.00         2\n",
      "         100       1.00      1.00      1.00         2\n",
      "         101       1.00      1.00      1.00         3\n",
      "         102       1.00      1.00      1.00         5\n",
      "         103       1.00      1.00      1.00         1\n",
      "         104       1.00      1.00      1.00         3\n",
      "         105       1.00      1.00      1.00         2\n",
      "         106       1.00      1.00      1.00         2\n",
      "         107       1.00      1.00      1.00         4\n",
      "         108       1.00      1.00      1.00         1\n",
      "         109       0.00      0.00      0.00         1\n",
      "         110       1.00      1.00      1.00         3\n",
      "         111       1.00      1.00      1.00         2\n",
      "         112       1.00      1.00      1.00         4\n",
      "         113       1.00      0.80      0.89         5\n",
      "         114       1.00      0.80      0.89         5\n",
      "         115       1.00      1.00      1.00         3\n",
      "         116       1.00      1.00      1.00         6\n",
      "         117       1.00      1.00      1.00         1\n",
      "         118       1.00      1.00      1.00         3\n",
      "         119       1.00      1.00      1.00         4\n",
      "         120       1.00      1.00      1.00         6\n",
      "         121       1.00      1.00      1.00         6\n",
      "         122       1.00      1.00      1.00         1\n",
      "         123       1.00      1.00      1.00         1\n",
      "         124       1.00      1.00      1.00         5\n",
      "         125       1.00      1.00      1.00         2\n",
      "         126       1.00      1.00      1.00         5\n",
      "         127       1.00      1.00      1.00         7\n",
      "         128       1.00      1.00      1.00         8\n",
      "         129       1.00      1.00      1.00         2\n",
      "         130       1.00      1.00      1.00         1\n",
      "         131       1.00      1.00      1.00         2\n",
      "         132       1.00      1.00      1.00         4\n",
      "         133       1.00      0.75      0.86         4\n",
      "         134       1.00      1.00      1.00         2\n",
      "         135       1.00      1.00      1.00         3\n",
      "         136       1.00      1.00      1.00         3\n",
      "         137       1.00      1.00      1.00         5\n",
      "         138       1.00      0.88      0.93         8\n",
      "         139       1.00      1.00      1.00         3\n",
      "         140       1.00      1.00      1.00         6\n",
      "         141       1.00      1.00      1.00         2\n",
      "         142       1.00      1.00      1.00         1\n",
      "         143       1.00      1.00      1.00         2\n",
      "         144       1.00      1.00      1.00         5\n",
      "         145       1.00      1.00      1.00         3\n",
      "         146       1.00      1.00      1.00         5\n",
      "         147       1.00      1.00      1.00         3\n",
      "         148       1.00      1.00      1.00         3\n",
      "         149       1.00      1.00      1.00         4\n",
      "         150       1.00      0.75      0.86         4\n",
      "         151       1.00      1.00      1.00         4\n",
      "         152       1.00      1.00      1.00         4\n",
      "         153       1.00      1.00      1.00         2\n",
      "         154       1.00      1.00      1.00         3\n",
      "         155       1.00      1.00      1.00         4\n",
      "         156       0.00      0.00      0.00         0\n",
      "         157       1.00      1.00      1.00         1\n",
      "         158       1.00      1.00      1.00        12\n",
      "         159       1.00      1.00      1.00         6\n",
      "         160       1.00      1.00      1.00         8\n",
      "         161       1.00      0.80      0.89         5\n",
      "         162       1.00      1.00      1.00         6\n",
      "         163       1.00      1.00      1.00         1\n",
      "         164       1.00      1.00      1.00         5\n",
      "         165       1.00      1.00      1.00         2\n",
      "         166       1.00      1.00      1.00         3\n",
      "         167       1.00      1.00      1.00         5\n",
      "         168       0.00      0.00      0.00         0\n",
      "         169       1.00      1.00      1.00         1\n",
      "         170       1.00      1.00      1.00         5\n",
      "         171       1.00      1.00      1.00         1\n",
      "         172       1.00      1.00      1.00         3\n",
      "         173       1.00      1.00      1.00         2\n",
      "         174       1.00      1.00      1.00         3\n",
      "         175       1.00      1.00      1.00         5\n",
      "         176       1.00      1.00      1.00         2\n",
      "         177       1.00      1.00      1.00         2\n",
      "         178       1.00      0.86      0.92         7\n",
      "         179       1.00      1.00      1.00         3\n",
      "         180       1.00      1.00      1.00         6\n",
      "         181       1.00      1.00      1.00         8\n",
      "         182       1.00      1.00      1.00         2\n",
      "         183       1.00      1.00      1.00         4\n",
      "         184       1.00      1.00      1.00         2\n",
      "         185       1.00      1.00      1.00         3\n",
      "         186       1.00      0.75      0.86         4\n",
      "         187       1.00      0.80      0.89         5\n",
      "         188       1.00      1.00      1.00         1\n",
      "         189       1.00      1.00      1.00         6\n",
      "         190       1.00      1.00      1.00         2\n",
      "         191       1.00      1.00      1.00         3\n",
      "         192       1.00      1.00      1.00         1\n",
      "         193       0.00      0.00      0.00         0\n",
      "         194       1.00      1.00      1.00         3\n",
      "\n",
      "   micro avg       1.00      0.97      0.98       659\n",
      "   macro avg       0.93      0.91      0.92       659\n",
      "weighted avg       0.99      0.97      0.98       659\n",
      " samples avg       0.97      0.97      0.97       659\n",
      "\n"
     ]
    },
    {
     "name": "stderr",
     "output_type": "stream",
     "text": [
      "/home/nvidia/anaconda3/envs/testenv/lib/python3.8/site-packages/sklearn/metrics/_classification.py:1272: UndefinedMetricWarning: Precision and F-score are ill-defined and being set to 0.0 in labels with no predicted samples. Use `zero_division` parameter to control this behavior.\n",
      "  _warn_prf(average, modifier, msg_start, len(result))\n",
      "/home/nvidia/anaconda3/envs/testenv/lib/python3.8/site-packages/sklearn/metrics/_classification.py:1272: UndefinedMetricWarning: Recall and F-score are ill-defined and being set to 0.0 in labels with no true samples. Use `zero_division` parameter to control this behavior.\n",
      "  _warn_prf(average, modifier, msg_start, len(result))\n",
      "/home/nvidia/anaconda3/envs/testenv/lib/python3.8/site-packages/sklearn/metrics/_classification.py:1272: UndefinedMetricWarning: Precision and F-score are ill-defined and being set to 0.0 in samples with no predicted labels. Use `zero_division` parameter to control this behavior.\n",
      "  _warn_prf(average, modifier, msg_start, len(result))\n"
     ]
    }
   ],
   "source": [
    "print(classification_report(test_labels, test_pred))"
   ]
  },
  {
   "cell_type": "markdown",
   "metadata": {},
   "source": [
    "## Save model to a file"
   ]
  },
  {
   "cell_type": "code",
   "execution_count": 38,
   "metadata": {
    "ExecuteTime": {
     "end_time": "2020-11-22T23:13:23.712805Z",
     "start_time": "2020-11-22T23:13:23.710333Z"
    }
   },
   "outputs": [],
   "source": [
    "nn_filename = f'wikidata_nn_tfidf_model_{version}.h5'\n",
    "nn_filepath = os.path.join(root_dir, models_dir, nn_filename)"
   ]
  },
  {
   "cell_type": "code",
   "execution_count": 39,
   "metadata": {
    "ExecuteTime": {
     "end_time": "2020-11-22T23:13:23.806544Z",
     "start_time": "2020-11-22T23:13:23.714369Z"
    }
   },
   "outputs": [],
   "source": [
    "model.save(nn_filepath)"
   ]
  },
  {
   "cell_type": "markdown",
   "metadata": {},
   "source": [
    "---"
   ]
  },
  {
   "cell_type": "markdown",
   "metadata": {},
   "source": [
    "## Save `vectorizer` to a file"
   ]
  },
  {
   "cell_type": "code",
   "execution_count": 40,
   "metadata": {
    "ExecuteTime": {
     "end_time": "2020-11-22T23:13:23.816344Z",
     "start_time": "2020-11-22T23:13:23.808323Z"
    }
   },
   "outputs": [],
   "source": [
    "import dill"
   ]
  },
  {
   "cell_type": "code",
   "execution_count": 41,
   "metadata": {
    "ExecuteTime": {
     "end_time": "2020-11-22T23:13:23.959637Z",
     "start_time": "2020-11-22T23:13:23.817594Z"
    }
   },
   "outputs": [],
   "source": [
    "vectorizer_filename = f'wikidata_tfidf_vectorizer_{version}.pkl'\n",
    "vectorizer_filepath = os.path.join(root_dir, models_dir, vectorizer_filename)"
   ]
  },
  {
   "cell_type": "code",
   "execution_count": 42,
   "metadata": {
    "ExecuteTime": {
     "end_time": "2020-11-22T23:13:24.101316Z",
     "start_time": "2020-11-22T23:13:23.962503Z"
    }
   },
   "outputs": [],
   "source": [
    "with open(vectorizer_filepath, 'wb') as out:\n",
    "    dill.dump(vectorizer, out)"
   ]
  },
  {
   "cell_type": "markdown",
   "metadata": {},
   "source": [
    "---"
   ]
  }
 ],
 "metadata": {
  "kernelspec": {
   "display_name": "Python 3",
   "language": "python",
   "name": "python3"
  },
  "language_info": {
   "codemirror_mode": {
    "name": "ipython",
    "version": 3
   },
   "file_extension": ".py",
   "mimetype": "text/x-python",
   "name": "python",
   "nbconvert_exporter": "python",
   "pygments_lexer": "ipython3",
   "version": "3.8.1"
  },
  "toc": {
   "base_numbering": 1,
   "nav_menu": {},
   "number_sections": true,
   "sideBar": true,
   "skip_h1_title": false,
   "title_cell": "Table of Contents",
   "title_sidebar": "Contents",
   "toc_cell": false,
   "toc_position": {},
   "toc_section_display": true,
   "toc_window_display": false
  }
 },
 "nbformat": 4,
 "nbformat_minor": 4
}
