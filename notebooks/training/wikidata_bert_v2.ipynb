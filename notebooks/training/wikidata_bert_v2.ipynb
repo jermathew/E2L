{
 "cells": [
  {
   "cell_type": "markdown",
   "metadata": {},
   "source": [
    "# Training a neural network model on the Wikidata dataset"
   ]
  },
  {
   "cell_type": "code",
   "execution_count": 1,
   "metadata": {
    "ExecuteTime": {
     "end_time": "2020-12-06T22:39:14.391048Z",
     "start_time": "2020-12-06T22:39:14.039541Z"
    }
   },
   "outputs": [],
   "source": [
    "%matplotlib inline\n",
    "%config InlineBackend.figure_format = 'retina'"
   ]
  },
  {
   "cell_type": "markdown",
   "metadata": {},
   "source": [
    "---"
   ]
  },
  {
   "cell_type": "markdown",
   "metadata": {},
   "source": [
    "## Load the data"
   ]
  },
  {
   "cell_type": "code",
   "execution_count": 2,
   "metadata": {
    "ExecuteTime": {
     "end_time": "2020-12-06T22:39:14.396444Z",
     "start_time": "2020-12-06T22:39:14.393545Z"
    }
   },
   "outputs": [],
   "source": [
    "root_dir = '../../'\n",
    "src_dir = 'src'\n",
    "data_dir = 'data/corpus'\n",
    "models_dir = 'data/models'"
   ]
  },
  {
   "cell_type": "code",
   "execution_count": 3,
   "metadata": {
    "ExecuteTime": {
     "end_time": "2020-12-06T22:39:14.403738Z",
     "start_time": "2020-12-06T22:39:14.401227Z"
    }
   },
   "outputs": [],
   "source": [
    "import os\n",
    "import sys"
   ]
  },
  {
   "cell_type": "code",
   "execution_count": 4,
   "metadata": {
    "ExecuteTime": {
     "end_time": "2020-12-06T22:39:14.408994Z",
     "start_time": "2020-12-06T22:39:14.405960Z"
    }
   },
   "outputs": [],
   "source": [
    "sys.path.append(os.path.join(root_dir, src_dir))"
   ]
  },
  {
   "cell_type": "code",
   "execution_count": 5,
   "metadata": {
    "ExecuteTime": {
     "end_time": "2020-12-06T22:39:14.415802Z",
     "start_time": "2020-12-06T22:39:14.413201Z"
    }
   },
   "outputs": [],
   "source": [
    "version = 'v2'\n",
    "corpus_filename = f'wikidata_corpus_{version}.json'"
   ]
  },
  {
   "cell_type": "code",
   "execution_count": 6,
   "metadata": {
    "ExecuteTime": {
     "end_time": "2020-12-06T22:39:15.435965Z",
     "start_time": "2020-12-06T22:39:14.419536Z"
    }
   },
   "outputs": [],
   "source": [
    "from training import TrainingCorpus"
   ]
  },
  {
   "cell_type": "code",
   "execution_count": 7,
   "metadata": {
    "ExecuteTime": {
     "end_time": "2020-12-06T22:39:15.458271Z",
     "start_time": "2020-12-06T22:39:15.437821Z"
    }
   },
   "outputs": [],
   "source": [
    "corpus = TrainingCorpus()\n",
    "corpus.load(os.path.join(root_dir, data_dir, corpus_filename))"
   ]
  },
  {
   "cell_type": "code",
   "execution_count": 8,
   "metadata": {
    "ExecuteTime": {
     "end_time": "2020-12-06T22:39:15.465026Z",
     "start_time": "2020-12-06T22:39:15.460022Z"
    }
   },
   "outputs": [
    {
     "data": {
      "text/plain": [
       "3294"
      ]
     },
     "execution_count": 8,
     "metadata": {},
     "output_type": "execute_result"
    }
   ],
   "source": [
    "corpus.size"
   ]
  },
  {
   "cell_type": "markdown",
   "metadata": {},
   "source": [
    "---"
   ]
  },
  {
   "cell_type": "markdown",
   "metadata": {},
   "source": [
    "## Split the dataset into training, validation and test set"
   ]
  },
  {
   "cell_type": "code",
   "execution_count": 9,
   "metadata": {
    "ExecuteTime": {
     "end_time": "2020-12-06T22:39:15.468629Z",
     "start_time": "2020-12-06T22:39:15.466577Z"
    }
   },
   "outputs": [],
   "source": [
    "#from sklearn.model_selection import train_test_split"
   ]
  },
  {
   "cell_type": "code",
   "execution_count": 10,
   "metadata": {
    "ExecuteTime": {
     "end_time": "2020-12-06T22:39:15.619923Z",
     "start_time": "2020-12-06T22:39:15.616091Z"
    }
   },
   "outputs": [],
   "source": [
    "random_state = 3"
   ]
  },
  {
   "cell_type": "code",
   "execution_count": 11,
   "metadata": {
    "ExecuteTime": {
     "end_time": "2020-12-06T22:39:15.817831Z",
     "start_time": "2020-12-06T22:39:15.795770Z"
    }
   },
   "outputs": [],
   "source": [
    "train_ids, test_ids, train_labels, test_labels = corpus.get_train_test_data(test_size=0.1, random_state=random_state)"
   ]
  },
  {
   "cell_type": "code",
   "execution_count": 12,
   "metadata": {
    "ExecuteTime": {
     "end_time": "2020-12-06T22:39:16.264214Z",
     "start_time": "2020-12-06T22:39:16.256665Z"
    }
   },
   "outputs": [
    {
     "name": "stdout",
     "output_type": "stream",
     "text": [
      "Training set size: 2964\n",
      "Test set size: 330\n",
      "No. of labels: 195\n"
     ]
    }
   ],
   "source": [
    "n_classes = train_labels.shape[1]\n",
    "print(f'Training set size: {len(train_ids)}')\n",
    "#print(f'Validation set size: {len(val_ids)}')\n",
    "print(f'Test set size: {len(test_ids)}')\n",
    "print(f'No. of labels: {n_classes}')"
   ]
  },
  {
   "cell_type": "markdown",
   "metadata": {},
   "source": [
    "## Retrieve text from ids"
   ]
  },
  {
   "cell_type": "code",
   "execution_count": 13,
   "metadata": {
    "ExecuteTime": {
     "end_time": "2020-12-06T22:39:17.146807Z",
     "start_time": "2020-12-06T22:39:17.138692Z"
    }
   },
   "outputs": [],
   "source": [
    "train_texts = [corpus.get_text(doc_id) for doc_id in train_ids]\n",
    "test_texts = [corpus.get_text(doc_id) for doc_id in test_ids]"
   ]
  },
  {
   "cell_type": "markdown",
   "metadata": {},
   "source": [
    "---"
   ]
  },
  {
   "cell_type": "markdown",
   "metadata": {},
   "source": [
    "## Training the model"
   ]
  },
  {
   "cell_type": "code",
   "execution_count": 14,
   "metadata": {
    "ExecuteTime": {
     "end_time": "2020-12-06T22:39:18.275486Z",
     "start_time": "2020-12-06T22:39:18.272909Z"
    }
   },
   "outputs": [],
   "source": [
    "batch_size = 16\n",
    "num_epochs = 4"
   ]
  },
  {
   "cell_type": "code",
   "execution_count": 15,
   "metadata": {
    "ExecuteTime": {
     "end_time": "2020-12-06T22:39:18.660977Z",
     "start_time": "2020-12-06T22:39:18.658799Z"
    }
   },
   "outputs": [],
   "source": [
    "model_name = 'distilbert-base-cased'"
   ]
  },
  {
   "cell_type": "code",
   "execution_count": 16,
   "metadata": {
    "ExecuteTime": {
     "end_time": "2020-12-06T22:39:23.049633Z",
     "start_time": "2020-12-06T22:39:19.145992Z"
    }
   },
   "outputs": [
    {
     "name": "stderr",
     "output_type": "stream",
     "text": [
      "/home/nvidia/anaconda3/envs/iml/lib/python3.7/site-packages/torch/cuda/__init__.py:52: UserWarning: CUDA initialization: The NVIDIA driver on your system is too old (found version 10000). Please update your GPU driver by downloading and installing a new version from the URL: http://www.nvidia.com/Download/index.aspx Alternatively, go to: https://pytorch.org to install a PyTorch version that has been compiled with your version of the CUDA driver. (Triggered internally at  /pytorch/c10/cuda/CUDAFunctions.cpp:100.)\n",
      "  return torch._C._cuda_getDeviceCount() > 0\n"
     ]
    }
   ],
   "source": [
    "from transformers import DistilBertTokenizerFast\n",
    "tokenizer = DistilBertTokenizerFast.from_pretrained(model_name)"
   ]
  },
  {
   "cell_type": "code",
   "execution_count": 17,
   "metadata": {
    "ExecuteTime": {
     "end_time": "2020-12-06T22:39:23.960664Z",
     "start_time": "2020-12-06T22:39:23.053291Z"
    }
   },
   "outputs": [],
   "source": [
    "train_encodings = tokenizer(train_texts, truncation=True, padding=True)"
   ]
  },
  {
   "cell_type": "code",
   "execution_count": 18,
   "metadata": {
    "ExecuteTime": {
     "end_time": "2020-12-06T22:39:29.298743Z",
     "start_time": "2020-12-06T22:39:23.968144Z"
    }
   },
   "outputs": [],
   "source": [
    "import tensorflow as tf\n",
    "\n",
    "train_dataset = tf.data.Dataset.from_tensor_slices((\n",
    "    dict(train_encodings),\n",
    "    train_labels\n",
    "))"
   ]
  },
  {
   "cell_type": "markdown",
   "metadata": {},
   "source": [
    "### Load the pretrained model"
   ]
  },
  {
   "cell_type": "code",
   "execution_count": 19,
   "metadata": {
    "ExecuteTime": {
     "end_time": "2020-12-06T22:39:30.993725Z",
     "start_time": "2020-12-06T22:39:29.300946Z"
    }
   },
   "outputs": [
    {
     "name": "stderr",
     "output_type": "stream",
     "text": [
      "Some layers from the model checkpoint at distilbert-base-cased were not used when initializing TFDistilBertForSequenceClassification: ['vocab_projector', 'activation_13', 'vocab_transform', 'vocab_layer_norm']\n",
      "- This IS expected if you are initializing TFDistilBertForSequenceClassification from the checkpoint of a model trained on another task or with another architecture (e.g. initializing a BertForSequenceClassification model from a BertForPreTraining model).\n",
      "- This IS NOT expected if you are initializing TFDistilBertForSequenceClassification from the checkpoint of a model that you expect to be exactly identical (initializing a BertForSequenceClassification model from a BertForSequenceClassification model).\n",
      "Some layers of TFDistilBertForSequenceClassification were not initialized from the model checkpoint at distilbert-base-cased and are newly initialized: ['dropout_19', 'classifier', 'pre_classifier']\n",
      "You should probably TRAIN this model on a down-stream task to be able to use it for predictions and inference.\n"
     ]
    }
   ],
   "source": [
    "from transformers import TFDistilBertForSequenceClassification\n",
    "\n",
    "model = TFDistilBertForSequenceClassification.from_pretrained(model_name, num_labels=n_classes)\n",
    "optimizer = tf.keras.optimizers.Adam(learning_rate=5e-5)\n",
    "model.compile(optimizer=optimizer, \n",
    "              loss=tf.keras.losses.CategoricalCrossentropy(from_logits=True), \n",
    "              metrics=['accuracy'])"
   ]
  },
  {
   "cell_type": "code",
   "execution_count": 20,
   "metadata": {
    "ExecuteTime": {
     "end_time": "2020-12-06T22:39:31.010190Z",
     "start_time": "2020-12-06T22:39:30.995415Z"
    }
   },
   "outputs": [
    {
     "name": "stdout",
     "output_type": "stream",
     "text": [
      "Model: \"tf_distil_bert_for_sequence_classification\"\n",
      "_________________________________________________________________\n",
      "Layer (type)                 Output Shape              Param #   \n",
      "=================================================================\n",
      "distilbert (TFDistilBertMain multiple                  65190912  \n",
      "_________________________________________________________________\n",
      "pre_classifier (Dense)       multiple                  590592    \n",
      "_________________________________________________________________\n",
      "classifier (Dense)           multiple                  149955    \n",
      "_________________________________________________________________\n",
      "dropout_19 (Dropout)         multiple                  0         \n",
      "=================================================================\n",
      "Total params: 65,931,459\n",
      "Trainable params: 65,931,459\n",
      "Non-trainable params: 0\n",
      "_________________________________________________________________\n"
     ]
    }
   ],
   "source": [
    "model.summary()"
   ]
  },
  {
   "cell_type": "markdown",
   "metadata": {},
   "source": [
    "### Train the model"
   ]
  },
  {
   "cell_type": "code",
   "execution_count": 21,
   "metadata": {
    "ExecuteTime": {
     "end_time": "2020-12-06T22:39:31.013978Z",
     "start_time": "2020-12-06T22:39:31.011777Z"
    }
   },
   "outputs": [],
   "source": [
    "import time"
   ]
  },
  {
   "cell_type": "code",
   "execution_count": null,
   "metadata": {
    "ExecuteTime": {
     "start_time": "2020-12-06T22:39:23.786Z"
    }
   },
   "outputs": [
    {
     "name": "stdout",
     "output_type": "stream",
     "text": [
      "Epoch 1/4\n",
      "186/186 [==============================] - 822s 4s/step - loss: 4.3169 - accuracy: 0.3728\n",
      "Epoch 2/4\n",
      "186/186 [==============================] - 927s 5s/step - loss: 1.8527 - accuracy: 0.7827\n",
      "Epoch 3/4\n",
      " 85/186 [============>.................] - ETA: 7:24 - loss: 0.8074 - accuracy: 0.9103"
     ]
    }
   ],
   "source": [
    "start_time = time.time()\n",
    "\n",
    "history = model.fit(train_dataset.batch(batch_size), \n",
    "                    epochs=num_epochs, \n",
    "                    batch_size=batch_size)\n",
    "elapsed_time = time.time() - start_time\n",
    "t = time.strftime(\"%H:%M:%S\", time.gmtime(elapsed_time))\n",
    "print('Elapsed time (learning):', t)"
   ]
  },
  {
   "cell_type": "markdown",
   "metadata": {},
   "source": [
    "### Plot loss and accuracy"
   ]
  },
  {
   "cell_type": "code",
   "execution_count": 23,
   "metadata": {
    "ExecuteTime": {
     "end_time": "2020-12-06T22:37:10.471769Z",
     "start_time": "2020-12-06T22:37:10.463301Z"
    }
   },
   "outputs": [],
   "source": [
    "history_dict = history.history\n",
    "\n",
    "acc = history_dict['accuracy']\n",
    "loss = history_dict['loss']\n",
    "\n",
    "epochs = range(1, len(acc) + 1)"
   ]
  },
  {
   "cell_type": "code",
   "execution_count": 24,
   "metadata": {
    "ExecuteTime": {
     "end_time": "2020-12-06T22:37:11.117353Z",
     "start_time": "2020-12-06T22:37:11.110393Z"
    }
   },
   "outputs": [],
   "source": [
    "import matplotlib.pyplot as plt"
   ]
  },
  {
   "cell_type": "code",
   "execution_count": 25,
   "metadata": {
    "ExecuteTime": {
     "end_time": "2020-12-06T22:37:12.024354Z",
     "start_time": "2020-12-06T22:37:11.739541Z"
    }
   },
   "outputs": [
    {
     "data": {
      "image/png": "[encoded data removed]",
      "text/plain": [
       "<Figure size 576x576 with 1 Axes>"
      ]
     },
     "metadata": {
      "image/png": {
       "height": 494,
       "width": 497
      },
      "needs_background": "light"
     },
     "output_type": "display_data"
    }
   ],
   "source": [
    "plt.figure(figsize=(8,8))\n",
    "plt.plot(epochs, loss, 'b', label='Training loss')\n",
    "plt.title('Training loss')\n",
    "plt.xlabel('Epochs')\n",
    "plt.ylabel('Loss')\n",
    "plt.legend()\n",
    "plt.show()"
   ]
  },
  {
   "cell_type": "code",
   "execution_count": 26,
   "metadata": {
    "ExecuteTime": {
     "end_time": "2020-12-06T22:37:13.300853Z",
     "start_time": "2020-12-06T22:37:13.054894Z"
    }
   },
   "outputs": [
    {
     "data": {
      "image/png": "[encoded data removed]",
      "text/plain": [
       "<Figure size 576x576 with 1 Axes>"
      ]
     },
     "metadata": {
      "image/png": {
       "height": 494,
       "width": 497
      },
      "needs_background": "light"
     },
     "output_type": "display_data"
    }
   ],
   "source": [
    "plt.figure(figsize=(8,8))\n",
    "plt.plot(epochs, acc, 'b', label='Training acc')\n",
    "plt.title('Training accuracy')\n",
    "plt.xlabel('Epochs')\n",
    "plt.ylabel('Accuracy')\n",
    "plt.legend()\n",
    "plt.show()"
   ]
  },
  {
   "cell_type": "markdown",
   "metadata": {},
   "source": [
    "---"
   ]
  },
  {
   "cell_type": "markdown",
   "metadata": {},
   "source": [
    "## Evaluate the model"
   ]
  },
  {
   "cell_type": "markdown",
   "metadata": {},
   "source": [
    "### Compute f-score on the test set"
   ]
  },
  {
   "cell_type": "code",
   "execution_count": 27,
   "metadata": {
    "ExecuteTime": {
     "end_time": "2020-12-06T22:37:55.927879Z",
     "start_time": "2020-12-06T22:37:16.696154Z"
    }
   },
   "outputs": [],
   "source": [
    "test_pred = model(tokenizer(test_texts, padding=True, truncation=True, return_tensors='tf')).logits\n",
    "test_pred = tf.nn.softmax(test_pred, axis=-1)"
   ]
  },
  {
   "cell_type": "code",
   "execution_count": 28,
   "metadata": {
    "ExecuteTime": {
     "end_time": "2020-12-06T22:37:58.729135Z",
     "start_time": "2020-12-06T22:37:58.723593Z"
    }
   },
   "outputs": [],
   "source": [
    "import numpy as np"
   ]
  },
  {
   "cell_type": "code",
   "execution_count": 29,
   "metadata": {
    "ExecuteTime": {
     "end_time": "2020-12-06T22:37:59.113659Z",
     "start_time": "2020-12-06T22:37:59.108635Z"
    }
   },
   "outputs": [],
   "source": [
    "# round to nearest integer\n",
    "test_pred = np.rint(test_pred)"
   ]
  },
  {
   "cell_type": "code",
   "execution_count": 30,
   "metadata": {
    "ExecuteTime": {
     "end_time": "2020-12-06T22:37:59.831309Z",
     "start_time": "2020-12-06T22:37:59.827743Z"
    }
   },
   "outputs": [],
   "source": [
    "from sklearn.metrics import classification_report"
   ]
  },
  {
   "cell_type": "code",
   "execution_count": 31,
   "metadata": {
    "ExecuteTime": {
     "end_time": "2020-12-06T22:38:05.122886Z",
     "start_time": "2020-12-06T22:38:05.070235Z"
    }
   },
   "outputs": [
    {
     "name": "stdout",
     "output_type": "stream",
     "text": [
      "              precision    recall  f1-score   support\n",
      "\n",
      "           0       0.00      0.00      0.00         1\n",
      "           1       0.00      0.00      0.00         0\n",
      "           2       0.00      0.00      0.00         0\n",
      "           3       0.00      0.00      0.00         0\n",
      "           4       1.00      1.00      1.00         7\n",
      "           5       1.00      1.00      1.00         3\n",
      "           6       0.00      0.00      0.00         2\n",
      "           7       1.00      1.00      1.00         5\n",
      "           8       1.00      1.00      1.00         2\n",
      "           9       1.00      1.00      1.00         8\n",
      "          10       1.00      1.00      1.00         7\n",
      "          11       1.00      1.00      1.00         2\n",
      "          12       1.00      1.00      1.00         4\n",
      "          13       0.00      0.00      0.00         2\n",
      "          14       1.00      1.00      1.00         4\n",
      "          15       0.00      0.00      0.00         0\n",
      "          16       1.00      0.50      0.67         2\n",
      "          17       1.00      1.00      1.00         8\n",
      "          18       1.00      1.00      1.00         1\n",
      "          19       0.00      0.00      0.00         1\n",
      "          20       0.00      0.00      0.00         2\n",
      "          21       1.00      1.00      1.00         6\n",
      "          22       1.00      1.00      1.00         1\n",
      "          23       1.00      1.00      1.00         2\n",
      "          24       0.00      0.00      0.00         3\n",
      "          25       1.00      1.00      1.00         8\n",
      "          26       1.00      1.00      1.00         3\n",
      "          27       0.00      0.00      0.00         0\n",
      "          28       1.00      1.00      1.00         4\n",
      "          29       1.00      1.00      1.00         5\n",
      "          30       1.00      1.00      1.00         3\n",
      "          31       0.46      1.00      0.63         6\n",
      "          32       1.00      1.00      1.00         1\n",
      "          33       1.00      1.00      1.00         9\n",
      "          34       1.00      1.00      1.00         7\n",
      "          35       1.00      1.00      1.00         5\n",
      "          36       0.00      0.00      0.00         3\n",
      "          37       1.00      0.67      0.80         3\n",
      "          38       0.00      0.00      0.00         5\n",
      "          39       1.00      0.50      0.67         2\n",
      "          40       1.00      1.00      1.00         2\n",
      "          41       0.00      0.00      0.00         1\n",
      "          42       0.00      0.00      0.00         2\n",
      "          43       1.00      1.00      1.00         4\n",
      "          44       0.00      0.00      0.00         1\n",
      "          45       0.75      1.00      0.86         3\n",
      "          46       1.00      1.00      1.00         4\n",
      "          47       1.00      1.00      1.00         1\n",
      "          48       0.00      0.00      0.00         0\n",
      "          49       0.00      0.00      0.00         2\n",
      "          50       1.00      1.00      1.00         3\n",
      "          51       1.00      0.50      0.67         4\n",
      "          52       1.00      1.00      1.00         4\n",
      "          53       0.60      1.00      0.75         6\n",
      "          54       0.00      0.00      0.00         0\n",
      "          55       0.00      0.00      0.00         5\n",
      "          56       1.00      1.00      1.00         3\n",
      "          57       1.00      1.00      1.00         2\n",
      "          58       0.00      0.00      0.00         1\n",
      "          59       1.00      1.00      1.00         4\n",
      "          60       0.00      0.00      0.00         5\n",
      "          61       1.00      1.00      1.00         7\n",
      "          62       0.00      0.00      0.00         1\n",
      "          63       1.00      1.00      1.00         1\n",
      "          64       0.00      0.00      0.00         4\n",
      "          65       1.00      1.00      1.00         1\n",
      "          66       1.00      1.00      1.00         2\n",
      "          67       1.00      1.00      1.00         1\n",
      "          68       1.00      1.00      1.00         4\n",
      "          69       0.00      0.00      0.00         1\n",
      "          70       0.00      0.00      0.00         3\n",
      "          71       0.00      0.00      0.00         8\n",
      "          72       1.00      1.00      1.00         1\n",
      "          73       1.00      1.00      1.00         3\n",
      "          74       1.00      1.00      1.00         2\n",
      "          75       1.00      1.00      1.00         1\n",
      "          76       1.00      1.00      1.00         3\n",
      "          77       0.00      0.00      0.00         2\n",
      "          78       1.00      1.00      1.00         6\n",
      "          79       1.00      1.00      1.00         4\n",
      "          80       1.00      1.00      1.00         5\n",
      "          81       1.00      1.00      1.00         3\n",
      "          82       1.00      0.71      0.83         7\n",
      "          83       0.00      0.00      0.00         2\n",
      "          84       1.00      1.00      1.00         5\n",
      "          85       1.00      1.00      1.00         2\n",
      "          86       1.00      1.00      1.00         3\n",
      "          87       1.00      1.00      1.00         3\n",
      "          88       1.00      1.00      1.00         5\n",
      "          89       1.00      0.67      0.80         3\n",
      "          90       0.00      0.00      0.00         2\n",
      "          91       1.00      1.00      1.00         6\n",
      "          92       1.00      1.00      1.00         6\n",
      "          93       0.00      0.00      0.00         0\n",
      "          94       1.00      1.00      1.00        10\n",
      "          95       1.00      1.00      1.00         6\n",
      "          96       0.00      0.00      0.00         1\n",
      "          97       0.00      0.00      0.00         4\n",
      "          98       0.00      0.00      0.00         4\n",
      "          99       0.00      0.00      0.00         2\n",
      "         100       0.00      0.00      0.00         2\n",
      "         101       1.00      1.00      1.00         3\n",
      "         102       1.00      1.00      1.00         5\n",
      "         103       1.00      1.00      1.00         1\n",
      "         104       1.00      1.00      1.00         3\n",
      "         105       0.00      0.00      0.00         2\n",
      "         106       1.00      1.00      1.00         2\n",
      "         107       1.00      1.00      1.00         4\n",
      "         108       0.00      0.00      0.00         1\n",
      "         109       0.00      0.00      0.00         1\n",
      "         110       1.00      1.00      1.00         3\n",
      "         111       1.00      1.00      1.00         2\n",
      "         112       1.00      0.25      0.40         4\n",
      "         113       1.00      1.00      1.00         5\n",
      "         114       1.00      1.00      1.00         5\n",
      "         115       1.00      1.00      1.00         3\n",
      "         116       1.00      1.00      1.00         6\n",
      "         117       0.00      0.00      0.00         1\n",
      "         118       1.00      1.00      1.00         3\n",
      "         119       0.00      0.00      0.00         4\n",
      "         120       1.00      1.00      1.00         6\n",
      "         121       1.00      1.00      1.00         6\n",
      "         122       1.00      1.00      1.00         1\n",
      "         123       1.00      1.00      1.00         1\n",
      "         124       1.00      1.00      1.00         5\n",
      "         125       1.00      1.00      1.00         2\n",
      "         126       1.00      1.00      1.00         5\n",
      "         127       1.00      1.00      1.00         7\n",
      "         128       1.00      1.00      1.00         8\n",
      "         129       1.00      1.00      1.00         2\n",
      "         130       0.00      0.00      0.00         1\n",
      "         131       1.00      1.00      1.00         2\n",
      "         132       1.00      1.00      1.00         4\n",
      "         133       1.00      1.00      1.00         4\n",
      "         134       0.00      0.00      0.00         2\n",
      "         135       1.00      1.00      1.00         3\n",
      "         136       1.00      1.00      1.00         3\n",
      "         137       1.00      1.00      1.00         5\n",
      "         138       1.00      0.75      0.86         8\n",
      "         139       1.00      1.00      1.00         3\n",
      "         140       1.00      1.00      1.00         6\n",
      "         141       1.00      1.00      1.00         2\n",
      "         142       0.00      0.00      0.00         1\n",
      "         143       1.00      1.00      1.00         2\n",
      "         144       1.00      1.00      1.00         5\n",
      "         145       1.00      1.00      1.00         3\n",
      "         146       1.00      1.00      1.00         5\n",
      "         147       1.00      1.00      1.00         3\n",
      "         148       1.00      1.00      1.00         3\n",
      "         149       0.00      0.00      0.00         4\n",
      "         150       0.00      0.00      0.00         4\n",
      "         151       0.80      1.00      0.89         4\n",
      "         152       0.80      1.00      0.89         4\n",
      "         153       0.00      0.00      0.00         2\n",
      "         154       1.00      1.00      1.00         3\n",
      "         155       1.00      1.00      1.00         4\n",
      "         156       0.00      0.00      0.00         0\n",
      "         157       0.00      0.00      0.00         1\n",
      "         158       1.00      1.00      1.00        12\n",
      "         159       1.00      1.00      1.00         6\n",
      "         160       1.00      1.00      1.00         8\n",
      "         161       1.00      0.20      0.33         5\n",
      "         162       0.00      0.00      0.00         6\n",
      "         163       1.00      1.00      1.00         1\n",
      "         164       1.00      1.00      1.00         5\n",
      "         165       1.00      1.00      1.00         2\n",
      "         166       1.00      1.00      1.00         3\n",
      "         167       1.00      1.00      1.00         5\n",
      "         168       0.00      0.00      0.00         0\n",
      "         169       0.00      0.00      0.00         1\n",
      "         170       1.00      1.00      1.00         5\n",
      "         171       1.00      1.00      1.00         1\n",
      "         172       1.00      1.00      1.00         3\n",
      "         173       1.00      1.00      1.00         2\n",
      "         174       0.00      0.00      0.00         3\n",
      "         175       1.00      1.00      1.00         5\n",
      "         176       0.00      0.00      0.00         2\n",
      "         177       0.00      0.00      0.00         2\n",
      "         178       0.00      0.00      0.00         7\n",
      "         179       1.00      0.33      0.50         3\n",
      "         180       1.00      0.67      0.80         6\n",
      "         181       1.00      1.00      1.00         8\n",
      "         182       1.00      1.00      1.00         2\n",
      "         183       1.00      1.00      1.00         4\n",
      "         184       0.00      0.00      0.00         2\n",
      "         185       1.00      1.00      1.00         3\n",
      "         186       1.00      0.75      0.86         4\n",
      "         187       1.00      1.00      1.00         5\n",
      "         188       0.00      0.00      0.00         1\n",
      "         189       1.00      1.00      1.00         6\n",
      "         190       1.00      1.00      1.00         2\n",
      "         191       0.00      0.00      0.00         3\n",
      "         192       0.00      0.00      0.00         1\n",
      "         193       0.00      0.00      0.00         0\n",
      "         194       0.00      0.00      0.00         3\n",
      "\n",
      "   micro avg       0.97      0.77      0.86       659\n",
      "   macro avg       0.67      0.65      0.66       659\n",
      "weighted avg       0.80      0.77      0.78       659\n",
      " samples avg       0.77      0.77      0.77       659\n",
      "\n"
     ]
    },
    {
     "name": "stderr",
     "output_type": "stream",
     "text": [
      "/home/nvidia/.local/lib/python3.7/site-packages/sklearn/metrics/_classification.py:1221: UndefinedMetricWarning: Precision and F-score are ill-defined and being set to 0.0 in labels with no predicted samples. Use `zero_division` parameter to control this behavior.\n",
      "  _warn_prf(average, modifier, msg_start, len(result))\n",
      "/home/nvidia/.local/lib/python3.7/site-packages/sklearn/metrics/_classification.py:1221: UndefinedMetricWarning: Recall and F-score are ill-defined and being set to 0.0 in labels with no true samples. Use `zero_division` parameter to control this behavior.\n",
      "  _warn_prf(average, modifier, msg_start, len(result))\n",
      "/home/nvidia/.local/lib/python3.7/site-packages/sklearn/metrics/_classification.py:1221: UndefinedMetricWarning: Precision and F-score are ill-defined and being set to 0.0 in samples with no predicted labels. Use `zero_division` parameter to control this behavior.\n",
      "  _warn_prf(average, modifier, msg_start, len(result))\n"
     ]
    }
   ],
   "source": [
    "print(classification_report(test_labels, test_pred))"
   ]
  },
  {
   "cell_type": "markdown",
   "metadata": {},
   "source": [
    "## Save model and tokenizer to a file"
   ]
  },
  {
   "cell_type": "code",
   "execution_count": 37,
   "metadata": {
    "ExecuteTime": {
     "end_time": "2020-12-06T21:51:41.622680Z",
     "start_time": "2020-12-06T21:51:41.616264Z"
    }
   },
   "outputs": [],
   "source": [
    "out_dir_name = f'wikidata_bert_{version}'\n",
    "out_dir_path = os.path.join(root_dir, models_dir, out_dir_name)"
   ]
  },
  {
   "cell_type": "code",
   "execution_count": 40,
   "metadata": {
    "ExecuteTime": {
     "end_time": "2020-12-06T21:52:25.247226Z",
     "start_time": "2020-12-06T21:52:25.243356Z"
    }
   },
   "outputs": [],
   "source": [
    "if not os.path.exists(out_dir_path):\n",
    "    # make directory\n",
    "    os.mkdir(out_dir_path)"
   ]
  },
  {
   "cell_type": "code",
   "execution_count": 42,
   "metadata": {
    "ExecuteTime": {
     "end_time": "2020-12-06T21:53:10.288160Z",
     "start_time": "2020-12-06T21:53:09.622340Z"
    }
   },
   "outputs": [],
   "source": [
    "tokenizer.save_pretrained(out_dir_path)\n",
    "model.save_pretrained(out_dir_path)"
   ]
  },
  {
   "cell_type": "markdown",
   "metadata": {},
   "source": [
    "---"
   ]
  }
 ],
 "metadata": {
  "kernelspec": {
   "display_name": "Python 3",
   "language": "python",
   "name": "python3"
  },
  "language_info": {
   "codemirror_mode": {
    "name": "ipython",
    "version": 3
   },
   "file_extension": ".py",
   "mimetype": "text/x-python",
   "name": "python",
   "nbconvert_exporter": "python",
   "pygments_lexer": "ipython3",
   "version": "3.7.5"
  },
  "toc": {
   "base_numbering": 1,
   "nav_menu": {},
   "number_sections": true,
   "sideBar": true,
   "skip_h1_title": false,
   "title_cell": "Table of Contents",
   "title_sidebar": "Contents",
   "toc_cell": false,
   "toc_position": {},
   "toc_section_display": true,
   "toc_window_display": false
  }
 },
 "nbformat": 4,
 "nbformat_minor": 4
}
