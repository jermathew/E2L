{
 "cells": [
  {
   "cell_type": "markdown",
   "metadata": {},
   "source": [
    "# Training a neural network model on the Wikidata dataset"
   ]
  },
  {
   "cell_type": "code",
   "execution_count": 1,
   "metadata": {
    "ExecuteTime": {
     "end_time": "2020-12-08T20:20:08.839840Z",
     "start_time": "2020-12-08T20:20:08.307954Z"
    }
   },
   "outputs": [],
   "source": [
    "%matplotlib inline\n",
    "%config InlineBackend.figure_format = 'retina'"
   ]
  },
  {
   "cell_type": "markdown",
   "metadata": {},
   "source": [
    "---"
   ]
  },
  {
   "cell_type": "markdown",
   "metadata": {},
   "source": [
    "## Load the data"
   ]
  },
  {
   "cell_type": "code",
   "execution_count": 2,
   "metadata": {
    "ExecuteTime": {
     "end_time": "2020-12-08T20:20:08.877216Z",
     "start_time": "2020-12-08T20:20:08.869623Z"
    }
   },
   "outputs": [],
   "source": [
    "root_dir = '../../'\n",
    "src_dir = 'src'\n",
    "data_dir = 'data/corpus'\n",
    "models_dir = 'data/models'"
   ]
  },
  {
   "cell_type": "code",
   "execution_count": 3,
   "metadata": {
    "ExecuteTime": {
     "end_time": "2020-12-08T20:20:09.065972Z",
     "start_time": "2020-12-08T20:20:09.054171Z"
    }
   },
   "outputs": [],
   "source": [
    "import os\n",
    "import sys"
   ]
  },
  {
   "cell_type": "code",
   "execution_count": 4,
   "metadata": {
    "ExecuteTime": {
     "end_time": "2020-12-08T20:20:09.270167Z",
     "start_time": "2020-12-08T20:20:09.263057Z"
    }
   },
   "outputs": [],
   "source": [
    "sys.path.append(os.path.join(root_dir, src_dir))"
   ]
  },
  {
   "cell_type": "code",
   "execution_count": 5,
   "metadata": {
    "ExecuteTime": {
     "end_time": "2020-12-08T20:20:09.490490Z",
     "start_time": "2020-12-08T20:20:09.487089Z"
    }
   },
   "outputs": [],
   "source": [
    "version = 'v2'\n",
    "corpus_filename = f'wikidata_corpus_{version}.json'"
   ]
  },
  {
   "cell_type": "code",
   "execution_count": 6,
   "metadata": {
    "ExecuteTime": {
     "end_time": "2020-12-08T20:20:11.198323Z",
     "start_time": "2020-12-08T20:20:09.702298Z"
    }
   },
   "outputs": [],
   "source": [
    "from training import TrainingCorpus"
   ]
  },
  {
   "cell_type": "code",
   "execution_count": 7,
   "metadata": {
    "ExecuteTime": {
     "end_time": "2020-12-08T20:20:11.245353Z",
     "start_time": "2020-12-08T20:20:11.204816Z"
    }
   },
   "outputs": [],
   "source": [
    "corpus = TrainingCorpus()\n",
    "corpus.load(os.path.join(root_dir, data_dir, corpus_filename))"
   ]
  },
  {
   "cell_type": "code",
   "execution_count": 8,
   "metadata": {
    "ExecuteTime": {
     "end_time": "2020-12-08T20:20:11.255258Z",
     "start_time": "2020-12-08T20:20:11.248153Z"
    }
   },
   "outputs": [
    {
     "data": {
      "text/plain": [
       "3294"
      ]
     },
     "execution_count": 8,
     "metadata": {},
     "output_type": "execute_result"
    }
   ],
   "source": [
    "corpus.size"
   ]
  },
  {
   "cell_type": "markdown",
   "metadata": {},
   "source": [
    "---"
   ]
  },
  {
   "cell_type": "markdown",
   "metadata": {},
   "source": [
    "## Split the dataset into training, validation and test set"
   ]
  },
  {
   "cell_type": "code",
   "execution_count": 9,
   "metadata": {
    "ExecuteTime": {
     "end_time": "2020-12-08T20:20:11.261091Z",
     "start_time": "2020-12-08T20:20:11.257772Z"
    }
   },
   "outputs": [],
   "source": [
    "#from sklearn.model_selection import train_test_split"
   ]
  },
  {
   "cell_type": "code",
   "execution_count": 10,
   "metadata": {
    "ExecuteTime": {
     "end_time": "2020-12-08T20:20:11.267140Z",
     "start_time": "2020-12-08T20:20:11.263780Z"
    }
   },
   "outputs": [],
   "source": [
    "random_state = 3"
   ]
  },
  {
   "cell_type": "code",
   "execution_count": 11,
   "metadata": {
    "ExecuteTime": {
     "end_time": "2020-12-08T20:20:11.285456Z",
     "start_time": "2020-12-08T20:20:11.269652Z"
    }
   },
   "outputs": [],
   "source": [
    "train_ids, test_ids, train_labels, test_labels = corpus.get_train_test_data(test_size=0.1, random_state=random_state)"
   ]
  },
  {
   "cell_type": "code",
   "execution_count": 12,
   "metadata": {
    "ExecuteTime": {
     "end_time": "2020-12-08T20:20:12.261124Z",
     "start_time": "2020-12-08T20:20:12.255468Z"
    }
   },
   "outputs": [
    {
     "name": "stdout",
     "output_type": "stream",
     "text": [
      "Training set size: 2964\n",
      "Test set size: 330\n",
      "No. of labels: 195\n"
     ]
    }
   ],
   "source": [
    "n_classes = train_labels.shape[1]\n",
    "print(f'Training set size: {len(train_ids)}')\n",
    "#print(f'Validation set size: {len(val_ids)}')\n",
    "print(f'Test set size: {len(test_ids)}')\n",
    "print(f'No. of labels: {n_classes}')"
   ]
  },
  {
   "cell_type": "markdown",
   "metadata": {},
   "source": [
    "## Retrieve text from ids"
   ]
  },
  {
   "cell_type": "code",
   "execution_count": 13,
   "metadata": {
    "ExecuteTime": {
     "end_time": "2020-12-08T20:20:13.183823Z",
     "start_time": "2020-12-08T20:20:13.171012Z"
    }
   },
   "outputs": [],
   "source": [
    "train_texts = [' '.join(corpus.get_tokens(doc_id)) for doc_id in train_ids]\n",
    "test_texts = [' '.join(corpus.get_tokens(doc_id)) for doc_id in test_ids]"
   ]
  },
  {
   "cell_type": "markdown",
   "metadata": {},
   "source": [
    "---"
   ]
  },
  {
   "cell_type": "markdown",
   "metadata": {},
   "source": [
    "## Training the model"
   ]
  },
  {
   "cell_type": "code",
   "execution_count": 14,
   "metadata": {
    "ExecuteTime": {
     "end_time": "2020-12-08T20:20:15.032943Z",
     "start_time": "2020-12-08T20:20:15.029817Z"
    }
   },
   "outputs": [],
   "source": [
    "batch_size = 16\n",
    "num_epochs = 5"
   ]
  },
  {
   "cell_type": "code",
   "execution_count": 15,
   "metadata": {
    "ExecuteTime": {
     "end_time": "2020-12-08T20:20:15.281402Z",
     "start_time": "2020-12-08T20:20:15.275701Z"
    }
   },
   "outputs": [],
   "source": [
    "model_name = 'distilbert-base-uncased'"
   ]
  },
  {
   "cell_type": "code",
   "execution_count": 16,
   "metadata": {
    "ExecuteTime": {
     "end_time": "2020-12-08T20:20:18.639242Z",
     "start_time": "2020-12-08T20:20:15.489344Z"
    }
   },
   "outputs": [
    {
     "name": "stderr",
     "output_type": "stream",
     "text": [
      "/home/nvidia/anaconda3/envs/iml/lib/python3.7/site-packages/torch/cuda/__init__.py:52: UserWarning: CUDA initialization: The NVIDIA driver on your system is too old (found version 10000). Please update your GPU driver by downloading and installing a new version from the URL: http://www.nvidia.com/Download/index.aspx Alternatively, go to: https://pytorch.org to install a PyTorch version that has been compiled with your version of the CUDA driver. (Triggered internally at  /pytorch/c10/cuda/CUDAFunctions.cpp:100.)\n",
      "  return torch._C._cuda_getDeviceCount() > 0\n"
     ]
    }
   ],
   "source": [
    "from transformers import DistilBertTokenizerFast\n",
    "tokenizer = DistilBertTokenizerFast.from_pretrained(model_name)"
   ]
  },
  {
   "cell_type": "code",
   "execution_count": 17,
   "metadata": {
    "ExecuteTime": {
     "end_time": "2020-12-08T20:20:18.936907Z",
     "start_time": "2020-12-08T20:20:18.641974Z"
    }
   },
   "outputs": [],
   "source": [
    "train_encodings = tokenizer(train_texts, truncation=True, padding=True)"
   ]
  },
  {
   "cell_type": "code",
   "execution_count": 18,
   "metadata": {
    "ExecuteTime": {
     "end_time": "2020-12-08T20:20:22.922059Z",
     "start_time": "2020-12-08T20:20:18.946160Z"
    }
   },
   "outputs": [],
   "source": [
    "import tensorflow as tf\n",
    "\n",
    "train_dataset = tf.data.Dataset.from_tensor_slices((\n",
    "    dict(train_encodings),\n",
    "    train_labels\n",
    "))"
   ]
  },
  {
   "cell_type": "markdown",
   "metadata": {},
   "source": [
    "### Load the pretrained model"
   ]
  },
  {
   "cell_type": "code",
   "execution_count": 19,
   "metadata": {
    "ExecuteTime": {
     "end_time": "2020-12-08T20:20:24.889194Z",
     "start_time": "2020-12-08T20:20:22.924868Z"
    }
   },
   "outputs": [
    {
     "name": "stderr",
     "output_type": "stream",
     "text": [
      "Some layers from the model checkpoint at distilbert-base-uncased were not used when initializing TFDistilBertForSequenceClassification: ['activation_13', 'vocab_layer_norm', 'vocab_projector', 'vocab_transform']\n",
      "- This IS expected if you are initializing TFDistilBertForSequenceClassification from the checkpoint of a model trained on another task or with another architecture (e.g. initializing a BertForSequenceClassification model from a BertForPreTraining model).\n",
      "- This IS NOT expected if you are initializing TFDistilBertForSequenceClassification from the checkpoint of a model that you expect to be exactly identical (initializing a BertForSequenceClassification model from a BertForSequenceClassification model).\n",
      "Some layers of TFDistilBertForSequenceClassification were not initialized from the model checkpoint at distilbert-base-uncased and are newly initialized: ['classifier', 'dropout_19', 'pre_classifier']\n",
      "You should probably TRAIN this model on a down-stream task to be able to use it for predictions and inference.\n"
     ]
    }
   ],
   "source": [
    "from transformers import TFDistilBertForSequenceClassification\n",
    "\n",
    "model = TFDistilBertForSequenceClassification.from_pretrained(model_name, num_labels=n_classes)\n",
    "optimizer = tf.keras.optimizers.Adam(learning_rate=5e-5)\n",
    "model.compile(optimizer=optimizer, \n",
    "              loss=tf.keras.losses.CategoricalCrossentropy(from_logits=True), \n",
    "              metrics=['accuracy'])"
   ]
  },
  {
   "cell_type": "code",
   "execution_count": 20,
   "metadata": {
    "ExecuteTime": {
     "end_time": "2020-12-08T20:20:24.902991Z",
     "start_time": "2020-12-08T20:20:24.890814Z"
    }
   },
   "outputs": [
    {
     "name": "stdout",
     "output_type": "stream",
     "text": [
      "Model: \"tf_distil_bert_for_sequence_classification\"\n",
      "_________________________________________________________________\n",
      "Layer (type)                 Output Shape              Param #   \n",
      "=================================================================\n",
      "distilbert (TFDistilBertMain multiple                  66362880  \n",
      "_________________________________________________________________\n",
      "pre_classifier (Dense)       multiple                  590592    \n",
      "_________________________________________________________________\n",
      "classifier (Dense)           multiple                  149955    \n",
      "_________________________________________________________________\n",
      "dropout_19 (Dropout)         multiple                  0         \n",
      "=================================================================\n",
      "Total params: 67,103,427\n",
      "Trainable params: 67,103,427\n",
      "Non-trainable params: 0\n",
      "_________________________________________________________________\n"
     ]
    }
   ],
   "source": [
    "model.summary()"
   ]
  },
  {
   "cell_type": "markdown",
   "metadata": {},
   "source": [
    "### Train the model"
   ]
  },
  {
   "cell_type": "code",
   "execution_count": 21,
   "metadata": {
    "ExecuteTime": {
     "end_time": "2020-12-08T20:20:24.906311Z",
     "start_time": "2020-12-08T20:20:24.904354Z"
    }
   },
   "outputs": [],
   "source": [
    "import time"
   ]
  },
  {
   "cell_type": "code",
   "execution_count": 22,
   "metadata": {
    "ExecuteTime": {
     "end_time": "2020-12-08T20:56:54.072058Z",
     "start_time": "2020-12-08T20:20:24.909803Z"
    }
   },
   "outputs": [
    {
     "name": "stdout",
     "output_type": "stream",
     "text": [
      "Epoch 1/5\n",
      "186/186 [==============================] - 525s 3s/step - loss: 4.4974 - accuracy: 0.3330\n",
      "Epoch 2/5\n",
      "186/186 [==============================] - 400s 2s/step - loss: 2.2099 - accuracy: 0.7648\n",
      "Epoch 3/5\n",
      "186/186 [==============================] - 409s 2s/step - loss: 0.3575 - accuracy: 0.9767\n",
      "Epoch 5/5\n",
      "186/186 [==============================] - 399s 2s/step - loss: 0.1746 - accuracy: 0.9899\n",
      "Elapsed time (learning): 00:36:29\n"
     ]
    }
   ],
   "source": [
    "start_time = time.time()\n",
    "\n",
    "history = model.fit(train_dataset.batch(batch_size), \n",
    "                    epochs=num_epochs, \n",
    "                    batch_size=batch_size)\n",
    "elapsed_time = time.time() - start_time\n",
    "t = time.strftime(\"%H:%M:%S\", time.gmtime(elapsed_time))\n",
    "print('Elapsed time (learning):', t)"
   ]
  },
  {
   "cell_type": "markdown",
   "metadata": {},
   "source": [
    "### Plot loss and accuracy"
   ]
  },
  {
   "cell_type": "code",
   "execution_count": 23,
   "metadata": {
    "ExecuteTime": {
     "end_time": "2020-12-08T20:56:54.079832Z",
     "start_time": "2020-12-08T20:56:54.075950Z"
    }
   },
   "outputs": [],
   "source": [
    "history_dict = history.history\n",
    "\n",
    "acc = history_dict['accuracy']\n",
    "loss = history_dict['loss']\n",
    "\n",
    "epochs = range(1, len(acc) + 1)"
   ]
  },
  {
   "cell_type": "code",
   "execution_count": 24,
   "metadata": {
    "ExecuteTime": {
     "end_time": "2020-12-08T20:56:54.084832Z",
     "start_time": "2020-12-08T20:56:54.082020Z"
    }
   },
   "outputs": [],
   "source": [
    "import matplotlib.pyplot as plt"
   ]
  },
  {
   "cell_type": "code",
   "execution_count": 25,
   "metadata": {
    "ExecuteTime": {
     "end_time": "2020-12-08T20:56:54.275923Z",
     "start_time": "2020-12-08T20:56:54.086783Z"
    }
   },
   "outputs": [
    {
     "data": {
      "image/png": "[encoded data removed]",
      "text/plain": [
       "<Figure size 576x576 with 1 Axes>"
      ]
     },
     "metadata": {
      "image/png": {
       "height": 494,
       "width": 487
      },
      "needs_background": "light"
     },
     "output_type": "display_data"
    }
   ],
   "source": [
    "plt.figure(figsize=(8,8))\n",
    "plt.plot(epochs, loss, 'b', label='Training loss')\n",
    "plt.title('Training loss')\n",
    "plt.xlabel('Epochs')\n",
    "plt.ylabel('Loss')\n",
    "plt.legend()\n",
    "plt.show()"
   ]
  },
  {
   "cell_type": "code",
   "execution_count": 26,
   "metadata": {
    "ExecuteTime": {
     "end_time": "2020-12-08T20:56:54.455695Z",
     "start_time": "2020-12-08T20:56:54.277633Z"
    }
   },
   "outputs": [
    {
     "data": {
      "image/png": "[encoded data removed]",
      "text/plain": [
       "<Figure size 576x576 with 1 Axes>"
      ]
     },
     "metadata": {
      "image/png": {
       "height": 494,
       "width": 497
      },
      "needs_background": "light"
     },
     "output_type": "display_data"
    }
   ],
   "source": [
    "plt.figure(figsize=(8,8))\n",
    "plt.plot(epochs, acc, 'b', label='Training acc')\n",
    "plt.title('Training accuracy')\n",
    "plt.xlabel('Epochs')\n",
    "plt.ylabel('Accuracy')\n",
    "plt.legend()\n",
    "plt.show()"
   ]
  },
  {
   "cell_type": "markdown",
   "metadata": {},
   "source": [
    "---"
   ]
  },
  {
   "cell_type": "markdown",
   "metadata": {},
   "source": [
    "## Evaluate the model"
   ]
  },
  {
   "cell_type": "markdown",
   "metadata": {},
   "source": [
    "### Compute f-score on the test set"
   ]
  },
  {
   "cell_type": "code",
   "execution_count": 27,
   "metadata": {
    "ExecuteTime": {
     "end_time": "2020-12-08T20:57:04.935014Z",
     "start_time": "2020-12-08T20:56:54.457484Z"
    }
   },
   "outputs": [],
   "source": [
    "test_pred = model(tokenizer(test_texts, padding=True, truncation=True, return_tensors='tf')).logits\n",
    "test_pred = tf.nn.softmax(test_pred, axis=-1)"
   ]
  },
  {
   "cell_type": "code",
   "execution_count": 28,
   "metadata": {
    "ExecuteTime": {
     "end_time": "2020-12-08T20:57:04.939518Z",
     "start_time": "2020-12-08T20:57:04.936925Z"
    }
   },
   "outputs": [],
   "source": [
    "import numpy as np"
   ]
  },
  {
   "cell_type": "code",
   "execution_count": 29,
   "metadata": {
    "ExecuteTime": {
     "end_time": "2020-12-08T20:57:04.943842Z",
     "start_time": "2020-12-08T20:57:04.941302Z"
    }
   },
   "outputs": [],
   "source": [
    "# round to nearest integer\n",
    "test_pred = np.rint(test_pred)"
   ]
  },
  {
   "cell_type": "code",
   "execution_count": 30,
   "metadata": {
    "ExecuteTime": {
     "end_time": "2020-12-08T20:57:04.947897Z",
     "start_time": "2020-12-08T20:57:04.945472Z"
    }
   },
   "outputs": [],
   "source": [
    "from sklearn.metrics import classification_report"
   ]
  },
  {
   "cell_type": "code",
   "execution_count": 31,
   "metadata": {
    "ExecuteTime": {
     "end_time": "2020-12-08T20:57:04.970041Z",
     "start_time": "2020-12-08T20:57:04.949451Z"
    }
   },
   "outputs": [
    {
     "name": "stdout",
     "output_type": "stream",
     "text": [
      "              precision    recall  f1-score   support\n",
      "\n",
      "           0       1.00      1.00      1.00         1\n",
      "           1       0.00      0.00      0.00         0\n",
      "           2       0.00      0.00      0.00         0\n",
      "           3       0.00      0.00      0.00         0\n",
      "           4       1.00      1.00      1.00         4\n",
      "           5       1.00      1.00      1.00         2\n",
      "           6       1.00      1.00      1.00         1\n",
      "           7       1.00      1.00      1.00         3\n",
      "           8       0.00      0.00      0.00         0\n",
      "           9       1.00      1.00      1.00         3\n",
      "          10       1.00      1.00      1.00         2\n",
      "          11       1.00      1.00      1.00         2\n",
      "          12       1.00      1.00      1.00         1\n",
      "          13       1.00      1.00      1.00         2\n",
      "          14       1.00      1.00      1.00         2\n",
      "          15       0.00      0.00      0.00         0\n",
      "          16       1.00      1.00      1.00         1\n",
      "          17       1.00      1.00      1.00         5\n",
      "          18       0.00      0.00      0.00         0\n",
      "          19       1.00      1.00      1.00         1\n",
      "          20       0.00      0.00      0.00         0\n",
      "          21       1.00      1.00      1.00         4\n",
      "          22       1.00      1.00      1.00         1\n",
      "          23       0.00      0.00      0.00         0\n",
      "          24       1.00      1.00      1.00         2\n",
      "          25       1.00      1.00      1.00         4\n",
      "          26       1.00      1.00      1.00         2\n",
      "          27       0.00      0.00      0.00         0\n",
      "          28       1.00      1.00      1.00         1\n",
      "          29       1.00      1.00      1.00         4\n",
      "          30       1.00      1.00      1.00         1\n",
      "          31       0.86      1.00      0.92         6\n",
      "          32       0.00      0.00      0.00         0\n",
      "          33       1.00      1.00      1.00         4\n",
      "          34       1.00      1.00      1.00         4\n",
      "          35       0.00      0.00      0.00         0\n",
      "          36       0.00      0.00      0.00         3\n",
      "          37       1.00      1.00      1.00         2\n",
      "          38       1.00      1.00      1.00         2\n",
      "          39       1.00      1.00      1.00         1\n",
      "          40       1.00      1.00      1.00         1\n",
      "          41       0.00      0.00      0.00         0\n",
      "          42       0.00      0.00      0.00         0\n",
      "          43       1.00      1.00      1.00         1\n",
      "          44       0.00      0.00      0.00         0\n",
      "          45       0.50      1.00      0.67         1\n",
      "          46       1.00      1.00      1.00         2\n",
      "          47       1.00      1.00      1.00         1\n",
      "          48       0.00      0.00      0.00         0\n",
      "          49       1.00      1.00      1.00         1\n",
      "          50       0.00      0.00      0.00         0\n",
      "          51       0.00      0.00      0.00         0\n",
      "          52       1.00      1.00      1.00         3\n",
      "          53       1.00      1.00      1.00         3\n",
      "          54       0.00      0.00      0.00         0\n",
      "          55       1.00      1.00      1.00         3\n",
      "          56       1.00      1.00      1.00         1\n",
      "          57       1.00      1.00      1.00         1\n",
      "          58       1.00      1.00      1.00         1\n",
      "          59       0.00      0.00      0.00         0\n",
      "          60       0.00      0.00      0.00         0\n",
      "          61       1.00      1.00      1.00         4\n",
      "          62       0.00      0.00      0.00         0\n",
      "          63       0.00      0.00      0.00         0\n",
      "          64       1.00      1.00      1.00         3\n",
      "          65       0.00      0.00      0.00         0\n",
      "          66       0.00      0.00      0.00         0\n",
      "          67       1.00      1.00      1.00         1\n",
      "          68       1.00      1.00      1.00         3\n",
      "          69       1.00      1.00      1.00         1\n",
      "          70       1.00      1.00      1.00         3\n",
      "          71       1.00      1.00      1.00         1\n",
      "          72       1.00      1.00      1.00         1\n",
      "          73       1.00      1.00      1.00         2\n",
      "          74       0.00      0.00      0.00         0\n",
      "          75       0.00      0.00      0.00         0\n",
      "          76       0.00      0.00      0.00         0\n",
      "          77       0.00      0.00      0.00         2\n",
      "          78       1.00      1.00      1.00         4\n",
      "          79       1.00      1.00      1.00         2\n",
      "          80       1.00      1.00      1.00         1\n",
      "          81       1.00      1.00      1.00         2\n",
      "          82       1.00      1.00      1.00         4\n",
      "          83       1.00      1.00      1.00         1\n",
      "          84       1.00      1.00      1.00         4\n",
      "          85       1.00      1.00      1.00         1\n",
      "          86       1.00      1.00      1.00         2\n",
      "          87       0.00      0.00      0.00         0\n",
      "          88       1.00      1.00      1.00         5\n",
      "          89       1.00      1.00      1.00         1\n",
      "          90       0.00      0.00      0.00         0\n",
      "          91       1.00      1.00      1.00         2\n",
      "          92       1.00      1.00      1.00         5\n",
      "          93       0.00      0.00      0.00         0\n",
      "          94       1.00      1.00      1.00         5\n",
      "          95       1.00      1.00      1.00         3\n",
      "          96       1.00      1.00      1.00         1\n",
      "          97       1.00      1.00      1.00         1\n",
      "          98       1.00      1.00      1.00         1\n",
      "          99       0.00      0.00      0.00         2\n",
      "         100       1.00      1.00      1.00         1\n",
      "         101       1.00      1.00      1.00         3\n",
      "         102       1.00      1.00      1.00         1\n",
      "         103       0.00      0.00      0.00         0\n",
      "         104       1.00      1.00      1.00         2\n",
      "         105       1.00      1.00      1.00         2\n",
      "         106       1.00      1.00      1.00         2\n",
      "         107       1.00      1.00      1.00         3\n",
      "         108       1.00      1.00      1.00         1\n",
      "         109       1.00      1.00      1.00         1\n",
      "         110       1.00      1.00      1.00         1\n",
      "         111       1.00      1.00      1.00         1\n",
      "         112       1.00      1.00      1.00         1\n",
      "         113       1.00      1.00      1.00         2\n",
      "         114       1.00      1.00      1.00         3\n",
      "         115       0.00      0.00      0.00         0\n",
      "         116       1.00      1.00      1.00         3\n",
      "         117       0.00      0.00      0.00         0\n",
      "         118       1.00      1.00      1.00         3\n",
      "         119       1.00      1.00      1.00         2\n",
      "         120       1.00      1.00      1.00         3\n",
      "         121       1.00      1.00      1.00         3\n",
      "         122       1.00      1.00      1.00         1\n",
      "         123       0.00      0.00      0.00         0\n",
      "         124       1.00      1.00      1.00         4\n",
      "         125       1.00      1.00      1.00         2\n",
      "         126       1.00      1.00      1.00         2\n",
      "         127       1.00      1.00      1.00         3\n",
      "         128       1.00      1.00      1.00         2\n",
      "         129       0.00      0.00      0.00         0\n",
      "         130       0.00      0.00      0.00         0\n",
      "         131       1.00      1.00      1.00         1\n",
      "         132       1.00      1.00      1.00         3\n",
      "         133       1.00      1.00      1.00         3\n",
      "         134       0.00      0.00      0.00         2\n",
      "         135       1.00      1.00      1.00         1\n",
      "         136       1.00      1.00      1.00         2\n",
      "         137       1.00      1.00      1.00         5\n",
      "         138       1.00      0.75      0.86         4\n",
      "         139       1.00      1.00      1.00         3\n",
      "         140       1.00      1.00      1.00         1\n",
      "         141       1.00      1.00      1.00         1\n",
      "         142       0.00      0.00      0.00         0\n",
      "         143       1.00      1.00      1.00         1\n",
      "         144       1.00      1.00      1.00         3\n",
      "         145       1.00      1.00      1.00         1\n",
      "         146       1.00      1.00      1.00         1\n",
      "         147       1.00      1.00      1.00         1\n",
      "         148       0.00      0.00      0.00         0\n",
      "         149       1.00      1.00      1.00         2\n",
      "         150       1.00      0.50      0.67         2\n",
      "         151       1.00      1.00      1.00         3\n",
      "         152       1.00      1.00      1.00         2\n",
      "         153       1.00      0.50      0.67         2\n",
      "         154       0.00      0.00      0.00         0\n",
      "         155       1.00      1.00      1.00         2\n",
      "         156       0.00      0.00      0.00         0\n",
      "         157       1.00      1.00      1.00         1\n",
      "         158       1.00      1.00      1.00         7\n",
      "         159       1.00      1.00      1.00         3\n",
      "         160       1.00      1.00      1.00         4\n",
      "         161       1.00      1.00      1.00         2\n",
      "         162       1.00      1.00      1.00         3\n",
      "         163       1.00      1.00      1.00         1\n",
      "         164       1.00      1.00      1.00         4\n",
      "         165       1.00      1.00      1.00         1\n",
      "         166       1.00      1.00      1.00         1\n",
      "         167       1.00      1.00      1.00         3\n",
      "         168       0.00      0.00      0.00         0\n",
      "         169       1.00      1.00      1.00         1\n",
      "         170       0.00      0.00      0.00         0\n",
      "         171       0.00      0.00      0.00         0\n",
      "         172       1.00      1.00      1.00         1\n",
      "         173       0.00      0.00      0.00         0\n",
      "         174       1.00      1.00      1.00         2\n",
      "         175       1.00      1.00      1.00         4\n",
      "         176       1.00      1.00      1.00         2\n",
      "         177       1.00      1.00      1.00         1\n",
      "         178       1.00      0.80      0.89         5\n",
      "         179       1.00      1.00      1.00         2\n",
      "         180       1.00      0.67      0.80         3\n",
      "         181       1.00      1.00      1.00         5\n",
      "         182       1.00      1.00      1.00         1\n",
      "         183       1.00      1.00      1.00         2\n",
      "         184       0.00      0.00      0.00         0\n",
      "         185       1.00      1.00      1.00         2\n",
      "         186       1.00      1.00      1.00         1\n",
      "         187       1.00      1.00      1.00         3\n",
      "         188       1.00      1.00      1.00         1\n",
      "         189       1.00      1.00      1.00         3\n",
      "         190       0.00      0.00      0.00         0\n",
      "         191       1.00      1.00      1.00         2\n",
      "         192       1.00      1.00      1.00         1\n",
      "         193       0.00      0.00      0.00         0\n",
      "         194       1.00      1.00      1.00         2\n",
      "\n",
      "   micro avg       0.99      0.96      0.98       330\n",
      "   macro avg       0.74      0.73      0.73       330\n",
      "weighted avg       0.97      0.96      0.96       330\n",
      " samples avg       0.96      0.96      0.96       330\n",
      "\n"
     ]
    },
    {
     "name": "stderr",
     "output_type": "stream",
     "text": [
      "/home/nvidia/.local/lib/python3.7/site-packages/sklearn/metrics/_classification.py:1221: UndefinedMetricWarning: Precision and F-score are ill-defined and being set to 0.0 in labels with no predicted samples. Use `zero_division` parameter to control this behavior.\n",
      "  _warn_prf(average, modifier, msg_start, len(result))\n",
      "/home/nvidia/.local/lib/python3.7/site-packages/sklearn/metrics/_classification.py:1221: UndefinedMetricWarning: Recall and F-score are ill-defined and being set to 0.0 in labels with no true samples. Use `zero_division` parameter to control this behavior.\n",
      "  _warn_prf(average, modifier, msg_start, len(result))\n",
      "/home/nvidia/.local/lib/python3.7/site-packages/sklearn/metrics/_classification.py:1221: UndefinedMetricWarning: Precision and F-score are ill-defined and being set to 0.0 in samples with no predicted labels. Use `zero_division` parameter to control this behavior.\n",
      "  _warn_prf(average, modifier, msg_start, len(result))\n"
     ]
    }
   ],
   "source": [
    "print(classification_report(test_labels, test_pred))"
   ]
  },
  {
   "cell_type": "markdown",
   "metadata": {},
   "source": [
    "## Save model and tokenizer to a file"
   ]
  },
  {
   "cell_type": "code",
   "execution_count": 32,
   "metadata": {
    "ExecuteTime": {
     "end_time": "2020-12-08T20:57:04.974120Z",
     "start_time": "2020-12-08T20:57:04.971615Z"
    }
   },
   "outputs": [],
   "source": [
    "out_dir_name = f'wikidata_bert_{version}'\n",
    "out_dir_path = os.path.join(root_dir, models_dir, out_dir_name)"
   ]
  },
  {
   "cell_type": "code",
   "execution_count": 33,
   "metadata": {
    "ExecuteTime": {
     "end_time": "2020-12-08T20:57:04.978321Z",
     "start_time": "2020-12-08T20:57:04.975834Z"
    }
   },
   "outputs": [],
   "source": [
    "if not os.path.exists(out_dir_path):\n",
    "    # make directory\n",
    "    os.mkdir(out_dir_path)"
   ]
  },
  {
   "cell_type": "code",
   "execution_count": 34,
   "metadata": {
    "ExecuteTime": {
     "end_time": "2020-12-08T20:57:06.030910Z",
     "start_time": "2020-12-08T20:57:04.979865Z"
    }
   },
   "outputs": [],
   "source": [
    "tokenizer.save_pretrained(out_dir_path)\n",
    "model.save_pretrained(out_dir_path)"
   ]
  },
  {
   "cell_type": "markdown",
   "metadata": {},
   "source": [
    "---"
   ]
  }
 ],
 "metadata": {
  "kernelspec": {
   "display_name": "Python 3",
   "language": "python",
   "name": "python3"
  },
  "language_info": {
   "codemirror_mode": {
    "name": "ipython",
    "version": 3
   },
   "file_extension": ".py",
   "mimetype": "text/x-python",
   "name": "python",
   "nbconvert_exporter": "python",
   "pygments_lexer": "ipython3",
   "version": "3.8.1"
  },
  "toc": {
   "base_numbering": 1,
   "nav_menu": {},
   "number_sections": true,
   "sideBar": true,
   "skip_h1_title": false,
   "title_cell": "Table of Contents",
   "title_sidebar": "Contents",
   "toc_cell": false,
   "toc_position": {},
   "toc_section_display": true,
   "toc_window_display": false
  }
 },
 "nbformat": 4,
 "nbformat_minor": 4
}
