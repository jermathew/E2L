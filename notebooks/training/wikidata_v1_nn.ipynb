{
 "cells": [
  {
   "cell_type": "markdown",
   "metadata": {},
   "source": [
    "# Training a neural network model on the Wikidata dataset"
   ]
  },
  {
   "cell_type": "code",
   "execution_count": 1,
   "metadata": {
    "ExecuteTime": {
     "end_time": "2020-11-05T17:52:32.683181Z",
     "start_time": "2020-11-05T17:52:31.027162Z"
    }
   },
   "outputs": [],
   "source": [
    "%matplotlib inline\n",
    "%config InlineBackend.figure_format = 'retina'"
   ]
  },
  {
   "cell_type": "markdown",
   "metadata": {},
   "source": [
    "---"
   ]
  },
  {
   "cell_type": "markdown",
   "metadata": {},
   "source": [
    "## Load the data"
   ]
  },
  {
   "cell_type": "code",
   "execution_count": 2,
   "metadata": {
    "ExecuteTime": {
     "end_time": "2020-11-05T17:52:32.699863Z",
     "start_time": "2020-11-05T17:52:32.686136Z"
    }
   },
   "outputs": [],
   "source": [
    "root_dir = '../../'\n",
    "src_dir = 'src'\n",
    "data_dir = 'data/corpus'\n",
    "models_dir = 'data/models'"
   ]
  },
  {
   "cell_type": "code",
   "execution_count": null,
   "metadata": {},
   "outputs": [],
   "source": [
    "version = 'v1'"
   ]
  },
  {
   "cell_type": "code",
   "execution_count": 3,
   "metadata": {
    "ExecuteTime": {
     "end_time": "2020-11-05T17:52:32.720826Z",
     "start_time": "2020-11-05T17:52:32.707304Z"
    }
   },
   "outputs": [],
   "source": [
    "import os\n",
    "import sys"
   ]
  },
  {
   "cell_type": "code",
   "execution_count": 4,
   "metadata": {
    "ExecuteTime": {
     "end_time": "2020-11-05T17:52:32.740362Z",
     "start_time": "2020-11-05T17:52:32.732662Z"
    }
   },
   "outputs": [],
   "source": [
    "sys.path.append(os.path.join(root_dir, src_dir))"
   ]
  },
  {
   "cell_type": "code",
   "execution_count": 5,
   "metadata": {
    "ExecuteTime": {
     "end_time": "2020-11-05T17:52:32.754809Z",
     "start_time": "2020-11-05T17:52:32.749523Z"
    }
   },
   "outputs": [],
   "source": [
    "corpus_filename = f'wikidata_corpus_{version}.json'"
   ]
  },
  {
   "cell_type": "code",
   "execution_count": 6,
   "metadata": {
    "ExecuteTime": {
     "end_time": "2020-11-05T17:52:34.962826Z",
     "start_time": "2020-11-05T17:52:32.766792Z"
    }
   },
   "outputs": [],
   "source": [
    "from training import TrainingCorpus"
   ]
  },
  {
   "cell_type": "code",
   "execution_count": 7,
   "metadata": {
    "ExecuteTime": {
     "end_time": "2020-11-05T17:52:34.979353Z",
     "start_time": "2020-11-05T17:52:34.965593Z"
    }
   },
   "outputs": [],
   "source": [
    "corpus = TrainingCorpus()\n",
    "corpus.load(os.path.join(root_dir, data_dir, corpus_filename))"
   ]
  },
  {
   "cell_type": "code",
   "execution_count": 8,
   "metadata": {
    "ExecuteTime": {
     "end_time": "2020-11-05T17:52:34.999219Z",
     "start_time": "2020-11-05T17:52:34.988604Z"
    }
   },
   "outputs": [
    {
     "data": {
      "text/plain": [
       "120"
      ]
     },
     "execution_count": 8,
     "metadata": {},
     "output_type": "execute_result"
    }
   ],
   "source": [
    "corpus.size"
   ]
  },
  {
   "cell_type": "markdown",
   "metadata": {},
   "source": [
    "---"
   ]
  },
  {
   "cell_type": "markdown",
   "metadata": {},
   "source": [
    "## Load the Glove model"
   ]
  },
  {
   "cell_type": "code",
   "execution_count": 9,
   "metadata": {
    "ExecuteTime": {
     "end_time": "2020-11-05T17:52:35.343548Z",
     "start_time": "2020-11-05T17:52:35.005838Z"
    }
   },
   "outputs": [
    {
     "name": "stderr",
     "output_type": "stream",
     "text": [
      "unable to import 'smart_open.gcs', disabling that module\n"
     ]
    }
   ],
   "source": [
    "from gensim.models import KeyedVectors"
   ]
  },
  {
   "cell_type": "code",
   "execution_count": 10,
   "metadata": {
    "ExecuteTime": {
     "end_time": "2020-11-05T17:52:35.365587Z",
     "start_time": "2020-11-05T17:52:35.347743Z"
    }
   },
   "outputs": [],
   "source": [
    "glove_filename = 'glove.6B.200d.word2vec'"
   ]
  },
  {
   "cell_type": "code",
   "execution_count": 11,
   "metadata": {
    "ExecuteTime": {
     "end_time": "2020-11-05T17:54:45.902343Z",
     "start_time": "2020-11-05T17:52:35.369447Z"
    }
   },
   "outputs": [],
   "source": [
    "glove_model = KeyedVectors.load_word2vec_format(os.path.join(root_dir, models_dir, glove_filename), binary=False)"
   ]
  },
  {
   "cell_type": "markdown",
   "metadata": {},
   "source": [
    "---"
   ]
  },
  {
   "cell_type": "markdown",
   "metadata": {},
   "source": [
    "## Split the dataset into training and test set"
   ]
  },
  {
   "cell_type": "code",
   "execution_count": 12,
   "metadata": {
    "ExecuteTime": {
     "end_time": "2020-11-05T17:54:45.933922Z",
     "start_time": "2020-11-05T17:54:45.905477Z"
    }
   },
   "outputs": [],
   "source": [
    "train_doc_ids, test_doc_ids, train_labels, test_labels = corpus.get_train_test_data(test_size=0.2, random_state=3)"
   ]
  },
  {
   "cell_type": "code",
   "execution_count": 13,
   "metadata": {
    "ExecuteTime": {
     "end_time": "2020-11-05T17:54:45.947726Z",
     "start_time": "2020-11-05T17:54:45.937673Z"
    }
   },
   "outputs": [
    {
     "name": "stdout",
     "output_type": "stream",
     "text": [
      "Training set size: 96\n",
      "Test set size: 24\n",
      "No. of labels: 6\n"
     ]
    }
   ],
   "source": [
    "n_classes = train_labels.shape[1]\n",
    "print(f'Training set size: {len(train_doc_ids)}')\n",
    "print(f'Test set size: {len(test_doc_ids)}')\n",
    "print(f'No. of labels: {n_classes}')"
   ]
  },
  {
   "cell_type": "markdown",
   "metadata": {},
   "source": [
    "---"
   ]
  },
  {
   "cell_type": "markdown",
   "metadata": {},
   "source": [
    "## Build the embedding matrix"
   ]
  },
  {
   "cell_type": "markdown",
   "metadata": {},
   "source": [
    "### Define the vocabulary"
   ]
  },
  {
   "cell_type": "code",
   "execution_count": 14,
   "metadata": {
    "ExecuteTime": {
     "end_time": "2020-11-05T17:54:45.961583Z",
     "start_time": "2020-11-05T17:54:45.951559Z"
    }
   },
   "outputs": [],
   "source": [
    "docs_tokens = [corpus.get_tokens(doc_id) for doc_id in train_doc_ids]\n",
    "vocab = sorted({token for tokens in docs_tokens for token in tokens})"
   ]
  },
  {
   "cell_type": "code",
   "execution_count": 15,
   "metadata": {
    "ExecuteTime": {
     "end_time": "2020-11-05T17:54:45.980798Z",
     "start_time": "2020-11-05T17:54:45.965182Z"
    }
   },
   "outputs": [
    {
     "data": {
      "text/plain": [
       "['+23', '+8', '1', '1,439', '10,051']"
      ]
     },
     "execution_count": 15,
     "metadata": {},
     "output_type": "execute_result"
    }
   ],
   "source": [
    "vocab[:5]"
   ]
  },
  {
   "cell_type": "code",
   "execution_count": 16,
   "metadata": {
    "ExecuteTime": {
     "end_time": "2020-11-05T17:54:45.992096Z",
     "start_time": "2020-11-05T17:54:45.984773Z"
    }
   },
   "outputs": [
    {
     "name": "stdout",
     "output_type": "stream",
     "text": [
      "There are 239 unique words in the training set\n"
     ]
    }
   ],
   "source": [
    "print(f'There are {len(vocab)} unique words in the training set')"
   ]
  },
  {
   "cell_type": "markdown",
   "metadata": {},
   "source": [
    "### Encode vocabulary terms as integers"
   ]
  },
  {
   "cell_type": "code",
   "execution_count": 17,
   "metadata": {
    "ExecuteTime": {
     "end_time": "2020-11-05T17:54:46.003218Z",
     "start_time": "2020-11-05T17:54:45.996716Z"
    }
   },
   "outputs": [],
   "source": [
    "# +1 as index 0 is reserved\n",
    "word_to_idx_map = {word:idx+1 for idx, word in enumerate(vocab)}"
   ]
  },
  {
   "cell_type": "markdown",
   "metadata": {},
   "source": [
    "### Define the embedding matrix"
   ]
  },
  {
   "cell_type": "code",
   "execution_count": 18,
   "metadata": {
    "ExecuteTime": {
     "end_time": "2020-11-05T17:54:46.014804Z",
     "start_time": "2020-11-05T17:54:46.007414Z"
    }
   },
   "outputs": [],
   "source": [
    "import numpy as np"
   ]
  },
  {
   "cell_type": "code",
   "execution_count": 19,
   "metadata": {
    "ExecuteTime": {
     "end_time": "2020-11-05T17:54:46.032616Z",
     "start_time": "2020-11-05T17:54:46.021882Z"
    }
   },
   "outputs": [
    {
     "data": {
      "text/plain": [
       "200"
      ]
     },
     "execution_count": 19,
     "metadata": {},
     "output_type": "execute_result"
    }
   ],
   "source": [
    "embedding_size = glove_model.vector_size\n",
    "embedding_size"
   ]
  },
  {
   "cell_type": "code",
   "execution_count": 20,
   "metadata": {
    "ExecuteTime": {
     "end_time": "2020-11-05T17:54:46.049395Z",
     "start_time": "2020-11-05T17:54:46.036337Z"
    }
   },
   "outputs": [
    {
     "data": {
      "text/plain": [
       "(240, 200)"
      ]
     },
     "execution_count": 20,
     "metadata": {},
     "output_type": "execute_result"
    }
   ],
   "source": [
    "embedding_matrix = np.zeros((len(word_to_idx_map) + 1, embedding_size))\n",
    "embedding_matrix.shape"
   ]
  },
  {
   "cell_type": "code",
   "execution_count": 21,
   "metadata": {
    "ExecuteTime": {
     "end_time": "2020-11-05T17:54:46.065552Z",
     "start_time": "2020-11-05T17:54:46.055202Z"
    }
   },
   "outputs": [],
   "source": [
    "embedding_found_count = 0"
   ]
  },
  {
   "cell_type": "code",
   "execution_count": 22,
   "metadata": {
    "ExecuteTime": {
     "end_time": "2020-11-05T17:54:46.087378Z",
     "start_time": "2020-11-05T17:54:46.070268Z"
    }
   },
   "outputs": [],
   "source": [
    "for word, idx in word_to_idx_map.items():\n",
    "    if word in glove_model:\n",
    "        # words not found in the embedding matrix will be all-zeros.\n",
    "        embedding_matrix[idx] = glove_model[word]\n",
    "        embedding_found_count += 1"
   ]
  },
  {
   "cell_type": "code",
   "execution_count": 23,
   "metadata": {
    "ExecuteTime": {
     "end_time": "2020-11-05T17:54:46.110125Z",
     "start_time": "2020-11-05T17:54:46.102126Z"
    }
   },
   "outputs": [
    {
     "name": "stdout",
     "output_type": "stream",
     "text": [
      "Found embeddings for 231 out of 239 words (96.65%)\n"
     ]
    }
   ],
   "source": [
    "print(f'Found embeddings for {embedding_found_count} out of {len(vocab)} words ({round(embedding_found_count/len(vocab)*100,2)}%)')"
   ]
  },
  {
   "cell_type": "markdown",
   "metadata": {},
   "source": [
    "---"
   ]
  },
  {
   "cell_type": "markdown",
   "metadata": {},
   "source": [
    "## Convert documents to sequence of integer indexes"
   ]
  },
  {
   "cell_type": "markdown",
   "metadata": {},
   "source": [
    "### Define utility functions"
   ]
  },
  {
   "cell_type": "code",
   "execution_count": 24,
   "metadata": {
    "ExecuteTime": {
     "end_time": "2020-11-05T17:54:55.090000Z",
     "start_time": "2020-11-05T17:54:46.118877Z"
    }
   },
   "outputs": [
    {
     "name": "stderr",
     "output_type": "stream",
     "text": [
      "Using TensorFlow backend.\n"
     ]
    }
   ],
   "source": [
    "from keras.preprocessing.sequence import pad_sequences"
   ]
  },
  {
   "cell_type": "code",
   "execution_count": 25,
   "metadata": {
    "ExecuteTime": {
     "end_time": "2020-11-05T17:54:55.103411Z",
     "start_time": "2020-11-05T17:54:55.093345Z"
    }
   },
   "outputs": [],
   "source": [
    "def doc_tokens_to_sequence(doc_tokens, word_to_idx_map):\n",
    "    sequence = []\n",
    "    \n",
    "    for token in doc_tokens:\n",
    "        if token in word_to_idx_map:\n",
    "            sequence.append(word_to_idx_map[token])\n",
    "\n",
    "    return sequence"
   ]
  },
  {
   "cell_type": "markdown",
   "metadata": {},
   "source": [
    "### Encode texts"
   ]
  },
  {
   "cell_type": "code",
   "execution_count": 26,
   "metadata": {
    "ExecuteTime": {
     "end_time": "2020-11-05T17:54:55.132917Z",
     "start_time": "2020-11-05T17:54:55.113037Z"
    }
   },
   "outputs": [
    {
     "data": {
      "text/plain": [
       "45"
      ]
     },
     "execution_count": 26,
     "metadata": {},
     "output_type": "execute_result"
    }
   ],
   "source": [
    "max_doc_len = max(len(doc_tokens) for doc_tokens in docs_tokens)\n",
    "max_doc_len"
   ]
  },
  {
   "cell_type": "code",
   "execution_count": 27,
   "metadata": {
    "ExecuteTime": {
     "end_time": "2020-11-05T17:54:55.158480Z",
     "start_time": "2020-11-05T17:54:55.137170Z"
    }
   },
   "outputs": [],
   "source": [
    "train_doc_sequences = [doc_tokens_to_sequence(corpus.get_tokens(doc_id), word_to_idx_map) for doc_id in train_doc_ids]\n",
    "train_padded_sequences = pad_sequences(train_doc_sequences, maxlen=max_doc_len)"
   ]
  },
  {
   "cell_type": "markdown",
   "metadata": {},
   "source": [
    "## Train the model"
   ]
  },
  {
   "cell_type": "markdown",
   "metadata": {},
   "source": [
    "### Define the model"
   ]
  },
  {
   "cell_type": "code",
   "execution_count": 28,
   "metadata": {
    "ExecuteTime": {
     "end_time": "2020-11-05T17:54:55.179942Z",
     "start_time": "2020-11-05T17:54:55.167363Z"
    }
   },
   "outputs": [],
   "source": [
    "from keras import Input\n",
    "from keras.models import Model\n",
    "from keras.layers import Dense, Embedding, LSTM, Bidirectional\n",
    "from keras.optimizers import Adam"
   ]
  },
  {
   "cell_type": "code",
   "execution_count": 29,
   "metadata": {
    "ExecuteTime": {
     "end_time": "2020-11-05T17:54:56.432740Z",
     "start_time": "2020-11-05T17:54:55.187760Z"
    }
   },
   "outputs": [
    {
     "name": "stdout",
     "output_type": "stream",
     "text": [
      "WARNING:tensorflow:From /Users/jgmathew/miniconda3/envs/iml/lib/python3.7/site-packages/tensorflow_core/python/ops/resource_variable_ops.py:1630: calling BaseResourceVariable.__init__ (from tensorflow.python.ops.resource_variable_ops) with constraint is deprecated and will be removed in a future version.\n",
      "Instructions for updating:\n",
      "If using Keras pass *_constraint arguments to layers.\n",
      "WARNING:tensorflow:From /Users/jgmathew/miniconda3/envs/iml/lib/python3.7/site-packages/tensorflow_core/python/keras/backend.py:3994: where (from tensorflow.python.ops.array_ops) is deprecated and will be removed in a future version.\n",
      "Instructions for updating:\n",
      "Use tf.where in 2.0, which has the same broadcast rule as np.where\n"
     ]
    }
   ],
   "source": [
    "nn_input = Input(shape=(max_doc_len,), dtype='int32')\n",
    "embedding_output = Embedding(len(word_to_idx_map)+1,\n",
    "                             embedding_matrix.shape[1],\n",
    "                             weights=[embedding_matrix],\n",
    "                             input_length=max_doc_len,\n",
    "                             trainable=True,\n",
    "                             mask_zero=True)(nn_input)\n",
    "lstm = Bidirectional(LSTM(100))(embedding_output)\n",
    "dense = Dense(64, activation='relu')(lstm)\n",
    "nn_output = Dense(n_classes, activation='softmax')(dense)\n",
    "\n",
    "nn_model = Model(nn_input, nn_output)\n",
    "\n",
    "nn_model.compile(loss='categorical_crossentropy',\n",
    "                 optimizer=Adam(),\n",
    "                 metrics=['accuracy'])"
   ]
  },
  {
   "cell_type": "code",
   "execution_count": 30,
   "metadata": {
    "ExecuteTime": {
     "end_time": "2020-11-05T17:54:56.445706Z",
     "start_time": "2020-11-05T17:54:56.435481Z"
    }
   },
   "outputs": [],
   "source": [
    "from IPython.display import SVG\n",
    "from keras.utils.vis_utils import model_to_dot"
   ]
  },
  {
   "cell_type": "code",
   "execution_count": 31,
   "metadata": {
    "ExecuteTime": {
     "end_time": "2020-11-05T17:54:56.597287Z",
     "start_time": "2020-11-05T17:54:56.454135Z"
    }
   },
   "outputs": [
    {
     "data": {
      "image/svg+xml": [
       "<svg height=\"367pt\" viewBox=\"0.00 0.00 443.65 377.00\" width=\"431pt\" xmlns=\"http://www.w3.org/2000/svg\" xmlns:xlink=\"http://www.w3.org/1999/xlink\">\n",
       "<g class=\"graph\" id=\"graph0\" transform=\"scale(1.03 1.03) rotate(0) translate(4 373)\">\n",
       "<title>G</title>\n",
       "<polygon fill=\"white\" points=\"-4,4 -4,-373 439.65,-373 439.65,4 -4,4\" stroke=\"transparent\"/>\n",
       "<!-- 140367626050896 -->\n",
       "<g class=\"node\" id=\"node1\">\n",
       "<title>140367626050896</title>\n",
       "<polygon fill=\"none\" points=\"87.49,-324.5 87.49,-368.5 348.17,-368.5 348.17,-324.5 87.49,-324.5\" stroke=\"black\"/>\n",
       "<text font-family=\"Times,serif\" font-size=\"14.00\" text-anchor=\"middle\" x=\"151.67\" y=\"-342.3\">input_1: InputLayer</text>\n",
       "<polyline fill=\"none\" points=\"215.85,-324.5 215.85,-368.5 \" stroke=\"black\"/>\n",
       "<text font-family=\"Times,serif\" font-size=\"14.00\" text-anchor=\"middle\" x=\"243.68\" y=\"-353.3\">input:</text>\n",
       "<polyline fill=\"none\" points=\"215.85,-346.5 271.52,-346.5 \" stroke=\"black\"/>\n",
       "<text font-family=\"Times,serif\" font-size=\"14.00\" text-anchor=\"middle\" x=\"243.68\" y=\"-331.3\">output:</text>\n",
       "<polyline fill=\"none\" points=\"271.52,-324.5 271.52,-368.5 \" stroke=\"black\"/>\n",
       "<text font-family=\"Times,serif\" font-size=\"14.00\" text-anchor=\"middle\" x=\"309.84\" y=\"-353.3\">(None, 45)</text>\n",
       "<polyline fill=\"none\" points=\"271.52,-346.5 348.17,-346.5 \" stroke=\"black\"/>\n",
       "<text font-family=\"Times,serif\" font-size=\"14.00\" text-anchor=\"middle\" x=\"309.84\" y=\"-331.3\">(None, 45)</text>\n",
       "</g>\n",
       "<!-- 140367626078416 -->\n",
       "<g class=\"node\" id=\"node2\">\n",
       "<title>140367626078416</title>\n",
       "<polygon fill=\"none\" points=\"55.6,-243.5 55.6,-287.5 380.06,-287.5 380.06,-243.5 55.6,-243.5\" stroke=\"black\"/>\n",
       "<text font-family=\"Times,serif\" font-size=\"14.00\" text-anchor=\"middle\" x=\"137.67\" y=\"-261.3\">embedding_1: Embedding</text>\n",
       "<polyline fill=\"none\" points=\"219.74,-243.5 219.74,-287.5 \" stroke=\"black\"/>\n",
       "<text font-family=\"Times,serif\" font-size=\"14.00\" text-anchor=\"middle\" x=\"247.57\" y=\"-272.3\">input:</text>\n",
       "<polyline fill=\"none\" points=\"219.74,-265.5 275.41,-265.5 \" stroke=\"black\"/>\n",
       "<text font-family=\"Times,serif\" font-size=\"14.00\" text-anchor=\"middle\" x=\"247.57\" y=\"-250.3\">output:</text>\n",
       "<polyline fill=\"none\" points=\"275.41,-243.5 275.41,-287.5 \" stroke=\"black\"/>\n",
       "<text font-family=\"Times,serif\" font-size=\"14.00\" text-anchor=\"middle\" x=\"327.73\" y=\"-272.3\">(None, 45)</text>\n",
       "<polyline fill=\"none\" points=\"275.41,-265.5 380.06,-265.5 \" stroke=\"black\"/>\n",
       "<text font-family=\"Times,serif\" font-size=\"14.00\" text-anchor=\"middle\" x=\"327.73\" y=\"-250.3\">(None, 45, 200)</text>\n",
       "</g>\n",
       "<!-- 140367626050896&#45;&gt;140367626078416 -->\n",
       "<g class=\"edge\" id=\"edge1\">\n",
       "<title>140367626050896-&gt;140367626078416</title>\n",
       "<path d=\"M217.83,-324.33C217.83,-316.18 217.83,-306.7 217.83,-297.8\" fill=\"none\" stroke=\"black\"/>\n",
       "<polygon fill=\"black\" points=\"221.33,-297.73 217.83,-287.73 214.33,-297.73 221.33,-297.73\" stroke=\"black\"/>\n",
       "</g>\n",
       "<!-- 140367634784144 -->\n",
       "<g class=\"node\" id=\"node3\">\n",
       "<title>140367634784144</title>\n",
       "<polygon fill=\"none\" points=\"0,-162.5 0,-206.5 435.65,-206.5 435.65,-162.5 0,-162.5\" stroke=\"black\"/>\n",
       "<text font-family=\"Times,serif\" font-size=\"14.00\" text-anchor=\"middle\" x=\"137.67\" y=\"-180.3\">bidirectional_1(lstm_1): Bidirectional(LSTM)</text>\n",
       "<polyline fill=\"none\" points=\"275.33,-162.5 275.33,-206.5 \" stroke=\"black\"/>\n",
       "<text font-family=\"Times,serif\" font-size=\"14.00\" text-anchor=\"middle\" x=\"303.17\" y=\"-191.3\">input:</text>\n",
       "<polyline fill=\"none\" points=\"275.33,-184.5 331,-184.5 \" stroke=\"black\"/>\n",
       "<text font-family=\"Times,serif\" font-size=\"14.00\" text-anchor=\"middle\" x=\"303.17\" y=\"-169.3\">output:</text>\n",
       "<polyline fill=\"none\" points=\"331,-162.5 331,-206.5 \" stroke=\"black\"/>\n",
       "<text font-family=\"Times,serif\" font-size=\"14.00\" text-anchor=\"middle\" x=\"383.33\" y=\"-191.3\">(None, 45, 200)</text>\n",
       "<polyline fill=\"none\" points=\"331,-184.5 435.65,-184.5 \" stroke=\"black\"/>\n",
       "<text font-family=\"Times,serif\" font-size=\"14.00\" text-anchor=\"middle\" x=\"383.33\" y=\"-169.3\">(None, 200)</text>\n",
       "</g>\n",
       "<!-- 140367626078416&#45;&gt;140367634784144 -->\n",
       "<g class=\"edge\" id=\"edge2\">\n",
       "<title>140367626078416-&gt;140367634784144</title>\n",
       "<path d=\"M217.83,-243.33C217.83,-235.18 217.83,-225.7 217.83,-216.8\" fill=\"none\" stroke=\"black\"/>\n",
       "<polygon fill=\"black\" points=\"221.33,-216.73 217.83,-206.73 214.33,-216.73 221.33,-216.73\" stroke=\"black\"/>\n",
       "</g>\n",
       "<!-- 140367626076688 -->\n",
       "<g class=\"node\" id=\"node4\">\n",
       "<title>140367626076688</title>\n",
       "<polygon fill=\"none\" points=\"96.04,-81.5 96.04,-125.5 339.61,-125.5 339.61,-81.5 96.04,-81.5\" stroke=\"black\"/>\n",
       "<text font-family=\"Times,serif\" font-size=\"14.00\" text-anchor=\"middle\" x=\"148.17\" y=\"-99.3\">dense_1: Dense</text>\n",
       "<polyline fill=\"none\" points=\"200.29,-81.5 200.29,-125.5 \" stroke=\"black\"/>\n",
       "<text font-family=\"Times,serif\" font-size=\"14.00\" text-anchor=\"middle\" x=\"228.13\" y=\"-110.3\">input:</text>\n",
       "<polyline fill=\"none\" points=\"200.29,-103.5 255.96,-103.5 \" stroke=\"black\"/>\n",
       "<text font-family=\"Times,serif\" font-size=\"14.00\" text-anchor=\"middle\" x=\"228.13\" y=\"-88.3\">output:</text>\n",
       "<polyline fill=\"none\" points=\"255.96,-81.5 255.96,-125.5 \" stroke=\"black\"/>\n",
       "<text font-family=\"Times,serif\" font-size=\"14.00\" text-anchor=\"middle\" x=\"297.79\" y=\"-110.3\">(None, 200)</text>\n",
       "<polyline fill=\"none\" points=\"255.96,-103.5 339.61,-103.5 \" stroke=\"black\"/>\n",
       "<text font-family=\"Times,serif\" font-size=\"14.00\" text-anchor=\"middle\" x=\"297.79\" y=\"-88.3\">(None, 64)</text>\n",
       "</g>\n",
       "<!-- 140367634784144&#45;&gt;140367626076688 -->\n",
       "<g class=\"edge\" id=\"edge3\">\n",
       "<title>140367634784144-&gt;140367626076688</title>\n",
       "<path d=\"M217.83,-162.33C217.83,-154.18 217.83,-144.7 217.83,-135.8\" fill=\"none\" stroke=\"black\"/>\n",
       "<polygon fill=\"black\" points=\"221.33,-135.73 217.83,-125.73 214.33,-135.73 221.33,-135.73\" stroke=\"black\"/>\n",
       "</g>\n",
       "<!-- 140367635018768 -->\n",
       "<g class=\"node\" id=\"node5\">\n",
       "<title>140367635018768</title>\n",
       "<polygon fill=\"none\" points=\"99.54,-0.5 99.54,-44.5 336.11,-44.5 336.11,-0.5 99.54,-0.5\" stroke=\"black\"/>\n",
       "<text font-family=\"Times,serif\" font-size=\"14.00\" text-anchor=\"middle\" x=\"151.67\" y=\"-18.3\">dense_2: Dense</text>\n",
       "<polyline fill=\"none\" points=\"203.79,-0.5 203.79,-44.5 \" stroke=\"black\"/>\n",
       "<text font-family=\"Times,serif\" font-size=\"14.00\" text-anchor=\"middle\" x=\"231.63\" y=\"-29.3\">input:</text>\n",
       "<polyline fill=\"none\" points=\"203.79,-22.5 259.46,-22.5 \" stroke=\"black\"/>\n",
       "<text font-family=\"Times,serif\" font-size=\"14.00\" text-anchor=\"middle\" x=\"231.63\" y=\"-7.3\">output:</text>\n",
       "<polyline fill=\"none\" points=\"259.46,-0.5 259.46,-44.5 \" stroke=\"black\"/>\n",
       "<text font-family=\"Times,serif\" font-size=\"14.00\" text-anchor=\"middle\" x=\"297.79\" y=\"-29.3\">(None, 64)</text>\n",
       "<polyline fill=\"none\" points=\"259.46,-22.5 336.11,-22.5 \" stroke=\"black\"/>\n",
       "<text font-family=\"Times,serif\" font-size=\"14.00\" text-anchor=\"middle\" x=\"297.79\" y=\"-7.3\">(None, 6)</text>\n",
       "</g>\n",
       "<!-- 140367626076688&#45;&gt;140367635018768 -->\n",
       "<g class=\"edge\" id=\"edge4\">\n",
       "<title>140367626076688-&gt;140367635018768</title>\n",
       "<path d=\"M217.83,-81.33C217.83,-73.18 217.83,-63.7 217.83,-54.8\" fill=\"none\" stroke=\"black\"/>\n",
       "<polygon fill=\"black\" points=\"221.33,-54.73 217.83,-44.73 214.33,-54.73 221.33,-54.73\" stroke=\"black\"/>\n",
       "</g>\n",
       "</g>\n",
       "</svg>"
      ],
      "text/plain": [
       "<IPython.core.display.SVG object>"
      ]
     },
     "execution_count": 31,
     "metadata": {},
     "output_type": "execute_result"
    }
   ],
   "source": [
    "SVG(model_to_dot(nn_model, show_shapes=True, dpi=70).create(prog='dot', format='svg'))"
   ]
  },
  {
   "cell_type": "markdown",
   "metadata": {},
   "source": [
    "### Train the model"
   ]
  },
  {
   "cell_type": "code",
   "execution_count": 32,
   "metadata": {
    "ExecuteTime": {
     "end_time": "2020-11-05T17:54:56.618026Z",
     "start_time": "2020-11-05T17:54:56.610117Z"
    }
   },
   "outputs": [],
   "source": [
    "import time"
   ]
  },
  {
   "cell_type": "code",
   "execution_count": 33,
   "metadata": {
    "ExecuteTime": {
     "end_time": "2020-11-05T17:55:06.865804Z",
     "start_time": "2020-11-05T17:54:56.626478Z"
    }
   },
   "outputs": [
    {
     "name": "stdout",
     "output_type": "stream",
     "text": [
      "WARNING:tensorflow:From /Users/jgmathew/miniconda3/envs/iml/lib/python3.7/site-packages/keras/backend/tensorflow_backend.py:422: The name tf.global_variables is deprecated. Please use tf.compat.v1.global_variables instead.\n",
      "\n",
      "Train on 86 samples, validate on 10 samples\n",
      "Epoch 1/10\n",
      "86/86 [==============================] - 2s 22ms/step - loss: 1.7076 - accuracy: 0.2791 - val_loss: 1.5671 - val_accuracy: 0.6000\n",
      "Epoch 2/10\n",
      "86/86 [==============================] - 0s 4ms/step - loss: 1.3726 - accuracy: 0.8023 - val_loss: 1.3355 - val_accuracy: 0.8000\n",
      "Epoch 3/10\n",
      "86/86 [==============================] - 0s 4ms/step - loss: 1.0649 - accuracy: 0.9070 - val_loss: 1.0587 - val_accuracy: 0.8000\n",
      "Epoch 4/10\n",
      "86/86 [==============================] - 0s 4ms/step - loss: 0.7578 - accuracy: 0.9651 - val_loss: 0.7331 - val_accuracy: 0.9000\n",
      "Epoch 5/10\n",
      "86/86 [==============================] - 0s 4ms/step - loss: 0.4779 - accuracy: 0.9884 - val_loss: 0.4403 - val_accuracy: 1.0000\n",
      "Epoch 6/10\n",
      "86/86 [==============================] - 1s 7ms/step - loss: 0.2783 - accuracy: 1.0000 - val_loss: 0.2815 - val_accuracy: 1.0000\n",
      "Epoch 7/10\n",
      "86/86 [==============================] - 0s 4ms/step - loss: 0.1506 - accuracy: 1.0000 - val_loss: 0.1683 - val_accuracy: 1.0000\n",
      "Epoch 8/10\n",
      "86/86 [==============================] - 1s 6ms/step - loss: 0.0820 - accuracy: 1.0000 - val_loss: 0.0929 - val_accuracy: 1.0000\n",
      "Epoch 9/10\n",
      "86/86 [==============================] - 1s 11ms/step - loss: 0.0445 - accuracy: 1.0000 - val_loss: 0.0470 - val_accuracy: 1.0000\n",
      "Epoch 10/10\n",
      "86/86 [==============================] - 1s 10ms/step - loss: 0.0249 - accuracy: 1.0000 - val_loss: 0.0291 - val_accuracy: 1.0000\n",
      "Elapsed time (learning): 00:00:10\n"
     ]
    }
   ],
   "source": [
    "start_time = time.time()\n",
    "\n",
    "history = nn_model.fit(train_padded_sequences, \n",
    "                       train_labels, \n",
    "                       validation_split=0.1, \n",
    "                       epochs=10)\n",
    "\n",
    "elapsed_time = time.time() - start_time\n",
    "t = time.strftime(\"%H:%M:%S\", time.gmtime(elapsed_time))\n",
    "print('Elapsed time (learning):', t)"
   ]
  },
  {
   "cell_type": "markdown",
   "metadata": {},
   "source": [
    "### Plot loss and accuracy"
   ]
  },
  {
   "cell_type": "code",
   "execution_count": 34,
   "metadata": {
    "ExecuteTime": {
     "end_time": "2020-11-05T17:55:06.881149Z",
     "start_time": "2020-11-05T17:55:06.872620Z"
    }
   },
   "outputs": [],
   "source": [
    "history_dict = history.history\n",
    "\n",
    "acc = history_dict['accuracy']\n",
    "val_acc = history_dict['val_accuracy']\n",
    "loss = history_dict['loss']\n",
    "val_loss = history_dict['val_loss']\n",
    "\n",
    "epochs = range(1, len(acc) + 1)"
   ]
  },
  {
   "cell_type": "code",
   "execution_count": 35,
   "metadata": {
    "ExecuteTime": {
     "end_time": "2020-11-05T17:55:06.901437Z",
     "start_time": "2020-11-05T17:55:06.889663Z"
    }
   },
   "outputs": [],
   "source": [
    "import matplotlib.pyplot as plt"
   ]
  },
  {
   "cell_type": "code",
   "execution_count": 36,
   "metadata": {
    "ExecuteTime": {
     "end_time": "2020-11-05T17:55:08.191253Z",
     "start_time": "2020-11-05T17:55:06.905777Z"
    }
   },
   "outputs": [
    {
     "data": {
      "image/png": "[encoded data removed]",
      "text/plain": [
       "<Figure size 576x576 with 1 Axes>"
      ]
     },
     "metadata": {
      "image/png": {
       "height": 494,
       "width": 503
      },
      "needs_background": "light"
     },
     "output_type": "display_data"
    }
   ],
   "source": [
    "plt.figure(figsize=(8,8))\n",
    "plt.plot(epochs, loss, 'b', label='Training loss')\n",
    "plt.plot(epochs, val_loss, 'g', label='Validation loss')\n",
    "plt.title('Training and validation loss')\n",
    "plt.xlabel('Epochs')\n",
    "plt.ylabel('Loss')\n",
    "plt.legend()\n",
    "plt.show()"
   ]
  },
  {
   "cell_type": "code",
   "execution_count": 37,
   "metadata": {
    "ExecuteTime": {
     "end_time": "2020-11-05T17:55:09.055234Z",
     "start_time": "2020-11-05T17:55:08.205978Z"
    }
   },
   "outputs": [
    {
     "data": {
      "image/png": "[encoded data removed]",
      "text/plain": [
       "<Figure size 576x576 with 1 Axes>"
      ]
     },
     "metadata": {
      "image/png": {
       "height": 494,
       "width": 497
      },
      "needs_background": "light"
     },
     "output_type": "display_data"
    }
   ],
   "source": [
    "plt.figure(figsize=(8,8))\n",
    "plt.plot(epochs, acc, 'b', label='Training acc')\n",
    "plt.plot(epochs, val_acc, 'g', label='Validation acc')\n",
    "plt.title('Training and validation accuracy')\n",
    "plt.xlabel('Epochs')\n",
    "plt.ylabel('Accuracy')\n",
    "plt.legend()\n",
    "plt.show()"
   ]
  },
  {
   "cell_type": "markdown",
   "metadata": {},
   "source": [
    "---"
   ]
  },
  {
   "cell_type": "markdown",
   "metadata": {},
   "source": [
    "## Evaluate the model"
   ]
  },
  {
   "cell_type": "markdown",
   "metadata": {},
   "source": [
    "### Compute f-score on the test set"
   ]
  },
  {
   "cell_type": "code",
   "execution_count": 38,
   "metadata": {
    "ExecuteTime": {
     "end_time": "2020-11-05T17:55:09.083812Z",
     "start_time": "2020-11-05T17:55:09.064048Z"
    }
   },
   "outputs": [],
   "source": [
    "test_sequences = [doc_tokens_to_sequence(corpus.get_tokens(doc_id), word_to_idx_map) for doc_id in test_doc_ids]\n",
    "test_padded_sequences = pad_sequences(test_sequences, maxlen=max_doc_len)"
   ]
  },
  {
   "cell_type": "code",
   "execution_count": 39,
   "metadata": {
    "ExecuteTime": {
     "end_time": "2020-11-05T17:55:09.668720Z",
     "start_time": "2020-11-05T17:55:09.091036Z"
    }
   },
   "outputs": [],
   "source": [
    "test_pred = nn_model.predict(test_padded_sequences)"
   ]
  },
  {
   "cell_type": "code",
   "execution_count": 40,
   "metadata": {
    "ExecuteTime": {
     "end_time": "2020-11-05T17:55:09.682656Z",
     "start_time": "2020-11-05T17:55:09.671462Z"
    }
   },
   "outputs": [],
   "source": [
    "# round to nearest integer\n",
    "test_pred = np.rint(test_pred)"
   ]
  },
  {
   "cell_type": "code",
   "execution_count": 41,
   "metadata": {
    "ExecuteTime": {
     "end_time": "2020-11-05T17:55:09.701338Z",
     "start_time": "2020-11-05T17:55:09.686932Z"
    }
   },
   "outputs": [
    {
     "data": {
      "text/plain": [
       "array([0., 0., 0., 0., 1., 0.], dtype=float32)"
      ]
     },
     "execution_count": 41,
     "metadata": {},
     "output_type": "execute_result"
    }
   ],
   "source": [
    "test_pred[0]"
   ]
  },
  {
   "cell_type": "code",
   "execution_count": 42,
   "metadata": {
    "ExecuteTime": {
     "end_time": "2020-11-05T17:55:09.743033Z",
     "start_time": "2020-11-05T17:55:09.716621Z"
    }
   },
   "outputs": [],
   "source": [
    "from sklearn.metrics import classification_report"
   ]
  },
  {
   "cell_type": "code",
   "execution_count": 43,
   "metadata": {
    "ExecuteTime": {
     "end_time": "2020-11-05T17:55:09.798699Z",
     "start_time": "2020-11-05T17:55:09.752553Z"
    }
   },
   "outputs": [
    {
     "name": "stdout",
     "output_type": "stream",
     "text": [
      "              precision    recall  f1-score   support\n",
      "\n",
      "           0       1.00      1.00      1.00         3\n",
      "           1       0.00      0.00      0.00         0\n",
      "           2       1.00      1.00      1.00         6\n",
      "           3       1.00      0.83      0.91         6\n",
      "           4       1.00      1.00      1.00         8\n",
      "           5       1.00      1.00      1.00         1\n",
      "\n",
      "   micro avg       1.00      0.96      0.98        24\n",
      "   macro avg       0.83      0.81      0.82        24\n",
      "weighted avg       1.00      0.96      0.98        24\n",
      " samples avg       0.96      0.96      0.96        24\n",
      "\n"
     ]
    },
    {
     "name": "stderr",
     "output_type": "stream",
     "text": [
      "/Users/jgmathew/miniconda3/envs/iml/lib/python3.7/site-packages/sklearn/metrics/_classification.py:1272: UndefinedMetricWarning: Precision and F-score are ill-defined and being set to 0.0 in labels with no predicted samples. Use `zero_division` parameter to control this behavior.\n",
      "  _warn_prf(average, modifier, msg_start, len(result))\n",
      "/Users/jgmathew/miniconda3/envs/iml/lib/python3.7/site-packages/sklearn/metrics/_classification.py:1272: UndefinedMetricWarning: Recall and F-score are ill-defined and being set to 0.0 in labels with no true samples. Use `zero_division` parameter to control this behavior.\n",
      "  _warn_prf(average, modifier, msg_start, len(result))\n",
      "/Users/jgmathew/miniconda3/envs/iml/lib/python3.7/site-packages/sklearn/metrics/_classification.py:1272: UndefinedMetricWarning: Precision and F-score are ill-defined and being set to 0.0 in samples with no predicted labels. Use `zero_division` parameter to control this behavior.\n",
      "  _warn_prf(average, modifier, msg_start, len(result))\n"
     ]
    }
   ],
   "source": [
    "print(classification_report(test_labels, test_pred))"
   ]
  },
  {
   "cell_type": "markdown",
   "metadata": {},
   "source": [
    "## Save model to a file"
   ]
  },
  {
   "cell_type": "code",
   "execution_count": 44,
   "metadata": {
    "ExecuteTime": {
     "end_time": "2020-11-05T17:55:09.815147Z",
     "start_time": "2020-11-05T17:55:09.806196Z"
    }
   },
   "outputs": [],
   "source": [
    "nn_filename = f'wikidata_nn_model_{version}.h5'\n",
    "nn_filepath = os.path.join(root_dir, models_dir, nn_filename)"
   ]
  },
  {
   "cell_type": "code",
   "execution_count": 45,
   "metadata": {
    "ExecuteTime": {
     "end_time": "2020-11-05T17:55:11.004965Z",
     "start_time": "2020-11-05T17:55:09.820205Z"
    }
   },
   "outputs": [],
   "source": [
    "nn_model.save(nn_filepath)"
   ]
  },
  {
   "cell_type": "markdown",
   "metadata": {},
   "source": [
    "---"
   ]
  },
  {
   "cell_type": "markdown",
   "metadata": {},
   "source": [
    "## Save `word_to_index_map` to a file"
   ]
  },
  {
   "cell_type": "code",
   "execution_count": 46,
   "metadata": {
    "ExecuteTime": {
     "end_time": "2020-11-05T17:55:11.036365Z",
     "start_time": "2020-11-05T17:55:11.014081Z"
    }
   },
   "outputs": [],
   "source": [
    "import pandas as pd"
   ]
  },
  {
   "cell_type": "code",
   "execution_count": 47,
   "metadata": {
    "ExecuteTime": {
     "end_time": "2020-11-05T17:55:11.065421Z",
     "start_time": "2020-11-05T17:55:11.045476Z"
    }
   },
   "outputs": [],
   "source": [
    "word_to_index_df = pd.DataFrame(word_to_idx_map.items(), columns=['term', 'index'])"
   ]
  },
  {
   "cell_type": "code",
   "execution_count": 48,
   "metadata": {
    "ExecuteTime": {
     "end_time": "2020-11-05T17:55:11.094461Z",
     "start_time": "2020-11-05T17:55:11.071052Z"
    }
   },
   "outputs": [
    {
     "data": {
      "text/html": [
       "<div>\n",
       "<style scoped>\n",
       "    .dataframe tbody tr th:only-of-type {\n",
       "        vertical-align: middle;\n",
       "    }\n",
       "\n",
       "    .dataframe tbody tr th {\n",
       "        vertical-align: top;\n",
       "    }\n",
       "\n",
       "    .dataframe thead th {\n",
       "        text-align: right;\n",
       "    }\n",
       "</style>\n",
       "<table border=\"1\" class=\"dataframe\">\n",
       "  <thead>\n",
       "    <tr style=\"text-align: right;\">\n",
       "      <th></th>\n",
       "      <th>term</th>\n",
       "      <th>index</th>\n",
       "    </tr>\n",
       "  </thead>\n",
       "  <tbody>\n",
       "    <tr>\n",
       "      <td>0</td>\n",
       "      <td>+23</td>\n",
       "      <td>1</td>\n",
       "    </tr>\n",
       "    <tr>\n",
       "      <td>1</td>\n",
       "      <td>+8</td>\n",
       "      <td>2</td>\n",
       "    </tr>\n",
       "    <tr>\n",
       "      <td>2</td>\n",
       "      <td>1</td>\n",
       "      <td>3</td>\n",
       "    </tr>\n",
       "    <tr>\n",
       "      <td>3</td>\n",
       "      <td>1,439</td>\n",
       "      <td>4</td>\n",
       "    </tr>\n",
       "    <tr>\n",
       "      <td>4</td>\n",
       "      <td>10,051</td>\n",
       "      <td>5</td>\n",
       "    </tr>\n",
       "  </tbody>\n",
       "</table>\n",
       "</div>"
      ],
      "text/plain": [
       "     term  index\n",
       "0     +23      1\n",
       "1      +8      2\n",
       "2       1      3\n",
       "3   1,439      4\n",
       "4  10,051      5"
      ]
     },
     "execution_count": 48,
     "metadata": {},
     "output_type": "execute_result"
    }
   ],
   "source": [
    "word_to_index_df.head()"
   ]
  },
  {
   "cell_type": "code",
   "execution_count": 49,
   "metadata": {
    "ExecuteTime": {
     "end_time": "2020-11-05T17:55:11.121441Z",
     "start_time": "2020-11-05T17:55:11.101946Z"
    }
   },
   "outputs": [
    {
     "data": {
      "text/plain": [
       "(239, 2)"
      ]
     },
     "execution_count": 49,
     "metadata": {},
     "output_type": "execute_result"
    }
   ],
   "source": [
    "word_to_index_df.shape"
   ]
  },
  {
   "cell_type": "code",
   "execution_count": 50,
   "metadata": {
    "ExecuteTime": {
     "end_time": "2020-11-05T17:55:11.158512Z",
     "start_time": "2020-11-05T17:55:11.130894Z"
    }
   },
   "outputs": [],
   "source": [
    "index_filename = f'wikidata_nn_word_index_{version}.csv'\n",
    "index_filepath = os.path.join(root_dir, models_dir, index_filename)"
   ]
  },
  {
   "cell_type": "code",
   "execution_count": 51,
   "metadata": {
    "ExecuteTime": {
     "end_time": "2020-11-05T17:55:11.199784Z",
     "start_time": "2020-11-05T17:55:11.166895Z"
    }
   },
   "outputs": [],
   "source": [
    "word_to_index_df.to_csv(index_filepath, encoding='utf-8', index=False)"
   ]
  },
  {
   "cell_type": "markdown",
   "metadata": {},
   "source": [
    "---"
   ]
  }
 ],
 "metadata": {
  "kernelspec": {
   "display_name": "Python 3",
   "language": "python",
   "name": "python3"
  },
  "language_info": {
   "codemirror_mode": {
    "name": "ipython",
    "version": 3
   },
   "file_extension": ".py",
   "mimetype": "text/x-python",
   "name": "python",
   "nbconvert_exporter": "python",
   "pygments_lexer": "ipython3",
   "version": "3.8.1"
  },
  "toc": {
   "base_numbering": 1,
   "nav_menu": {},
   "number_sections": true,
   "sideBar": true,
   "skip_h1_title": false,
   "title_cell": "Table of Contents",
   "title_sidebar": "Contents",
   "toc_cell": false,
   "toc_position": {},
   "toc_section_display": true,
   "toc_window_display": false
  }
 },
 "nbformat": 4,
 "nbformat_minor": 4
}
