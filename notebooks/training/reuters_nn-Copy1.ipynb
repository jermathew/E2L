{
 "cells": [
  {
   "cell_type": "markdown",
   "metadata": {},
   "source": [
    "# Training a neural network model on the Reuters dataset"
   ]
  },
  {
   "cell_type": "code",
   "execution_count": 1,
   "metadata": {
    "ExecuteTime": {
     "end_time": "2020-09-28T13:51:25.459436Z",
     "start_time": "2020-09-28T13:51:25.016679Z"
    }
   },
   "outputs": [],
   "source": [
    "%matplotlib inline\n",
    "%config InlineBackend.figure_format = 'retina'"
   ]
  },
  {
   "cell_type": "markdown",
   "metadata": {},
   "source": [
    "---"
   ]
  },
  {
   "cell_type": "markdown",
   "metadata": {},
   "source": [
    "## Load the data"
   ]
  },
  {
   "cell_type": "code",
   "execution_count": 2,
   "metadata": {
    "ExecuteTime": {
     "end_time": "2020-09-28T13:51:25.559173Z",
     "start_time": "2020-09-28T13:51:25.552530Z"
    }
   },
   "outputs": [],
   "source": [
    "root_dir = '../../'\n",
    "src_dir = 'src'\n",
    "data_dir = 'data/corpus'\n",
    "models_dir = 'data/models'"
   ]
  },
  {
   "cell_type": "code",
   "execution_count": 3,
   "metadata": {
    "ExecuteTime": {
     "end_time": "2020-09-28T13:51:25.776846Z",
     "start_time": "2020-09-28T13:51:25.765528Z"
    }
   },
   "outputs": [],
   "source": [
    "import os\n",
    "import sys"
   ]
  },
  {
   "cell_type": "code",
   "execution_count": 4,
   "metadata": {
    "ExecuteTime": {
     "end_time": "2020-09-28T13:51:25.992880Z",
     "start_time": "2020-09-28T13:51:25.986649Z"
    }
   },
   "outputs": [],
   "source": [
    "sys.path.append(os.path.join(root_dir, src_dir))"
   ]
  },
  {
   "cell_type": "code",
   "execution_count": 5,
   "metadata": {
    "ExecuteTime": {
     "end_time": "2020-09-28T13:51:26.232565Z",
     "start_time": "2020-09-28T13:51:26.224866Z"
    }
   },
   "outputs": [],
   "source": [
    "corpus_filename = 'reuters_corpus.json'"
   ]
  },
  {
   "cell_type": "code",
   "execution_count": 6,
   "metadata": {
    "ExecuteTime": {
     "end_time": "2020-09-28T13:51:27.615940Z",
     "start_time": "2020-09-28T13:51:26.443359Z"
    }
   },
   "outputs": [],
   "source": [
    "from training import TrainingCorpus"
   ]
  },
  {
   "cell_type": "code",
   "execution_count": 7,
   "metadata": {
    "ExecuteTime": {
     "end_time": "2020-09-28T13:51:28.006686Z",
     "start_time": "2020-09-28T13:51:27.617722Z"
    }
   },
   "outputs": [],
   "source": [
    "reuters_corpus = TrainingCorpus()\n",
    "reuters_corpus.load(os.path.join(root_dir, data_dir, corpus_filename))"
   ]
  },
  {
   "cell_type": "code",
   "execution_count": 8,
   "metadata": {
    "ExecuteTime": {
     "end_time": "2020-09-28T13:51:28.015248Z",
     "start_time": "2020-09-28T13:51:28.009113Z"
    }
   },
   "outputs": [
    {
     "data": {
      "text/plain": [
       "9848"
      ]
     },
     "execution_count": 8,
     "metadata": {},
     "output_type": "execute_result"
    }
   ],
   "source": [
    "reuters_corpus.size"
   ]
  },
  {
   "cell_type": "markdown",
   "metadata": {},
   "source": [
    "---"
   ]
  },
  {
   "cell_type": "markdown",
   "metadata": {},
   "source": [
    "## Split the dataset into training and test set"
   ]
  },
  {
   "cell_type": "code",
   "execution_count": 9,
   "metadata": {
    "ExecuteTime": {
     "end_time": "2020-09-28T13:51:28.029035Z",
     "start_time": "2020-09-28T13:51:28.017238Z"
    }
   },
   "outputs": [],
   "source": [
    "train_doc_ids, test_doc_ids, train_labels, test_labels = reuters_corpus.get_train_test_data(test_size=0.2, random_state=3)"
   ]
  },
  {
   "cell_type": "code",
   "execution_count": 10,
   "metadata": {
    "ExecuteTime": {
     "end_time": "2020-09-28T13:51:28.037567Z",
     "start_time": "2020-09-28T13:51:28.032561Z"
    }
   },
   "outputs": [
    {
     "name": "stdout",
     "output_type": "stream",
     "text": [
      "Training set size: 7878\n",
      "Test set size: 1970\n",
      "No. of labels: 20\n"
     ]
    }
   ],
   "source": [
    "n_classes = train_labels.shape[1]\n",
    "print(f'Training set size: {len(train_doc_ids)}')\n",
    "print(f'Test set size: {len(test_doc_ids)}')\n",
    "print(f'No. of labels: {n_classes}')"
   ]
  },
  {
   "cell_type": "markdown",
   "metadata": {},
   "source": [
    "---"
   ]
  },
  {
   "cell_type": "markdown",
   "metadata": {},
   "source": [
    "## Train a Fasttext model"
   ]
  },
  {
   "cell_type": "code",
   "execution_count": 11,
   "metadata": {
    "ExecuteTime": {
     "end_time": "2020-09-28T13:51:28.597604Z",
     "start_time": "2020-09-28T13:51:28.363972Z"
    }
   },
   "outputs": [
    {
     "name": "stderr",
     "output_type": "stream",
     "text": [
      "unable to import 'smart_open.gcs', disabling that module\n"
     ]
    }
   ],
   "source": [
    "from gensim.models import FastText"
   ]
  },
  {
   "cell_type": "code",
   "execution_count": 12,
   "metadata": {
    "ExecuteTime": {
     "end_time": "2020-09-28T13:51:28.791184Z",
     "start_time": "2020-09-28T13:51:28.729933Z"
    }
   },
   "outputs": [],
   "source": [
    "fasttext_training_set = [' '.join(reuters_corpus.get_tokens(doc_id)) for doc_id in reuters_corpus.docs]"
   ]
  },
  {
   "cell_type": "code",
   "execution_count": 13,
   "metadata": {
    "ExecuteTime": {
     "end_time": "2020-09-28T13:51:34.052793Z",
     "start_time": "2020-09-28T13:51:28.956665Z"
    }
   },
   "outputs": [],
   "source": [
    "fasttext_model = FastText(size=200, window=3, min_count=10)"
   ]
  },
  {
   "cell_type": "code",
   "execution_count": 14,
   "metadata": {
    "ExecuteTime": {
     "end_time": "2020-09-28T13:51:44.076936Z",
     "start_time": "2020-09-28T13:51:34.055099Z"
    }
   },
   "outputs": [],
   "source": [
    "fasttext_model.build_vocab(sentences=fasttext_training_set)"
   ]
  },
  {
   "cell_type": "code",
   "execution_count": 15,
   "metadata": {
    "ExecuteTime": {
     "end_time": "2020-09-28T13:52:33.953323Z",
     "start_time": "2020-09-28T13:51:44.079062Z"
    }
   },
   "outputs": [],
   "source": [
    "fasttext_model.train(sentences=fasttext_training_set, total_examples=len(fasttext_training_set), epochs=30)"
   ]
  },
  {
   "cell_type": "markdown",
   "metadata": {},
   "source": [
    "## Build the embedding matrix"
   ]
  },
  {
   "cell_type": "markdown",
   "metadata": {},
   "source": [
    "### Define the vocabulary"
   ]
  },
  {
   "cell_type": "code",
   "execution_count": 16,
   "metadata": {
    "ExecuteTime": {
     "end_time": "2020-09-28T13:52:34.095438Z",
     "start_time": "2020-09-28T13:52:33.957226Z"
    }
   },
   "outputs": [],
   "source": [
    "docs_tokens = [reuters_corpus.get_tokens(doc_id) for doc_id in train_doc_ids]\n",
    "vocab = sorted({token for tokens in docs_tokens for token in tokens})"
   ]
  },
  {
   "cell_type": "code",
   "execution_count": 17,
   "metadata": {
    "ExecuteTime": {
     "end_time": "2020-09-28T13:52:34.101902Z",
     "start_time": "2020-09-28T13:52:34.097563Z"
    }
   },
   "outputs": [
    {
     "data": {
      "text/plain": [
       "38016"
      ]
     },
     "execution_count": 17,
     "metadata": {},
     "output_type": "execute_result"
    }
   ],
   "source": [
    "len(vocab)"
   ]
  },
  {
   "cell_type": "code",
   "execution_count": 18,
   "metadata": {
    "ExecuteTime": {
     "end_time": "2020-09-28T13:52:34.106933Z",
     "start_time": "2020-09-28T13:52:34.103506Z"
    }
   },
   "outputs": [
    {
     "name": "stdout",
     "output_type": "stream",
     "text": [
      "There are 38016 unique words in the training set\n"
     ]
    }
   ],
   "source": [
    "print(f'There are {len(vocab)} unique words in the training set')"
   ]
  },
  {
   "cell_type": "markdown",
   "metadata": {},
   "source": [
    "### Encode vocabulary terms as integers"
   ]
  },
  {
   "cell_type": "code",
   "execution_count": 19,
   "metadata": {
    "ExecuteTime": {
     "end_time": "2020-09-28T13:52:34.128195Z",
     "start_time": "2020-09-28T13:52:34.109953Z"
    }
   },
   "outputs": [],
   "source": [
    "# +1 as index 0 is reserved\n",
    "word_to_idx_map = {word:idx+1 for idx, word in enumerate(vocab)}"
   ]
  },
  {
   "cell_type": "markdown",
   "metadata": {},
   "source": [
    "### Define the embedding matrix"
   ]
  },
  {
   "cell_type": "code",
   "execution_count": 20,
   "metadata": {
    "ExecuteTime": {
     "end_time": "2020-09-28T13:52:34.139157Z",
     "start_time": "2020-09-28T13:52:34.132340Z"
    }
   },
   "outputs": [],
   "source": [
    "import numpy as np"
   ]
  },
  {
   "cell_type": "code",
   "execution_count": 21,
   "metadata": {
    "ExecuteTime": {
     "end_time": "2020-09-28T13:52:34.146312Z",
     "start_time": "2020-09-28T13:52:34.142062Z"
    }
   },
   "outputs": [
    {
     "data": {
      "text/plain": [
       "200"
      ]
     },
     "execution_count": 21,
     "metadata": {},
     "output_type": "execute_result"
    }
   ],
   "source": [
    "embedding_size = 200\n",
    "embedding_size"
   ]
  },
  {
   "cell_type": "code",
   "execution_count": 22,
   "metadata": {
    "ExecuteTime": {
     "end_time": "2020-09-28T13:52:34.154075Z",
     "start_time": "2020-09-28T13:52:34.148308Z"
    }
   },
   "outputs": [
    {
     "data": {
      "text/plain": [
       "(38017, 200)"
      ]
     },
     "execution_count": 22,
     "metadata": {},
     "output_type": "execute_result"
    }
   ],
   "source": [
    "embedding_matrix = np.zeros((len(word_to_idx_map) + 1, embedding_size))\n",
    "embedding_matrix.shape"
   ]
  },
  {
   "cell_type": "code",
   "execution_count": 23,
   "metadata": {
    "ExecuteTime": {
     "end_time": "2020-09-28T13:52:34.158920Z",
     "start_time": "2020-09-28T13:52:34.156070Z"
    }
   },
   "outputs": [],
   "source": [
    "embedding_found_count = 0"
   ]
  },
  {
   "cell_type": "code",
   "execution_count": 24,
   "metadata": {
    "ExecuteTime": {
     "end_time": "2020-09-28T13:52:35.739615Z",
     "start_time": "2020-09-28T13:52:34.160978Z"
    }
   },
   "outputs": [],
   "source": [
    "for word, idx in word_to_idx_map.items():\n",
    "    embedding_matrix[idx] = fasttext_model.wv[word]\n",
    "    embedding_found_count += 1"
   ]
  },
  {
   "cell_type": "code",
   "execution_count": 25,
   "metadata": {
    "ExecuteTime": {
     "end_time": "2020-09-28T13:52:35.745036Z",
     "start_time": "2020-09-28T13:52:35.741310Z"
    }
   },
   "outputs": [
    {
     "name": "stdout",
     "output_type": "stream",
     "text": [
      "Found embeddings for 38016 out of 38016 words (100.0%)\n"
     ]
    }
   ],
   "source": [
    "print(f'Found embeddings for {embedding_found_count} out of {len(vocab)} words ({round(embedding_found_count/len(vocab)*100,2)}%)')"
   ]
  },
  {
   "cell_type": "markdown",
   "metadata": {},
   "source": [
    "---"
   ]
  },
  {
   "cell_type": "markdown",
   "metadata": {},
   "source": [
    "## Convert documents to sequence of integer indexes"
   ]
  },
  {
   "cell_type": "markdown",
   "metadata": {},
   "source": [
    "### Define utility functions"
   ]
  },
  {
   "cell_type": "code",
   "execution_count": 26,
   "metadata": {
    "ExecuteTime": {
     "end_time": "2020-09-28T13:52:37.526054Z",
     "start_time": "2020-09-28T13:52:35.746739Z"
    }
   },
   "outputs": [
    {
     "name": "stderr",
     "output_type": "stream",
     "text": [
      "Using TensorFlow backend.\n"
     ]
    }
   ],
   "source": [
    "from keras.preprocessing.sequence import pad_sequences"
   ]
  },
  {
   "cell_type": "code",
   "execution_count": 27,
   "metadata": {
    "ExecuteTime": {
     "end_time": "2020-09-28T13:52:37.531753Z",
     "start_time": "2020-09-28T13:52:37.527615Z"
    }
   },
   "outputs": [],
   "source": [
    "def doc_tokens_to_sequence(doc_tokens, word_to_idx_map):\n",
    "    sequence = []\n",
    "    \n",
    "    for token in doc_tokens:\n",
    "        if token in word_to_idx_map:\n",
    "            sequence.append(word_to_idx_map[token])\n",
    "\n",
    "    return sequence"
   ]
  },
  {
   "cell_type": "markdown",
   "metadata": {},
   "source": [
    "### Encode texts"
   ]
  },
  {
   "cell_type": "code",
   "execution_count": 28,
   "metadata": {
    "ExecuteTime": {
     "end_time": "2020-09-28T13:52:37.538371Z",
     "start_time": "2020-09-28T13:52:37.533187Z"
    }
   },
   "outputs": [
    {
     "data": {
      "text/plain": [
       "1828"
      ]
     },
     "execution_count": 28,
     "metadata": {},
     "output_type": "execute_result"
    }
   ],
   "source": [
    "max_doc_len = max(len(doc_tokens) for doc_tokens in docs_tokens)\n",
    "max_doc_len"
   ]
  },
  {
   "cell_type": "code",
   "execution_count": 29,
   "metadata": {
    "ExecuteTime": {
     "end_time": "2020-09-28T13:52:37.809444Z",
     "start_time": "2020-09-28T13:52:37.539674Z"
    }
   },
   "outputs": [],
   "source": [
    "train_doc_sequences = [doc_tokens_to_sequence(reuters_corpus.get_tokens(doc_id), word_to_idx_map) for doc_id in train_doc_ids]\n",
    "train_padded_sequences = pad_sequences(train_doc_sequences, maxlen=max_doc_len)"
   ]
  },
  {
   "cell_type": "markdown",
   "metadata": {},
   "source": [
    "## Train the model"
   ]
  },
  {
   "cell_type": "markdown",
   "metadata": {},
   "source": [
    "### Define the model"
   ]
  },
  {
   "cell_type": "code",
   "execution_count": 30,
   "metadata": {
    "ExecuteTime": {
     "end_time": "2020-09-28T13:52:37.819514Z",
     "start_time": "2020-09-28T13:52:37.811052Z"
    }
   },
   "outputs": [],
   "source": [
    "from keras import Input\n",
    "from keras.models import Model\n",
    "from keras.layers import Dense, Embedding, LSTM, Bidirectional\n",
    "from keras.optimizers import Adam"
   ]
  },
  {
   "cell_type": "code",
   "execution_count": 31,
   "metadata": {
    "ExecuteTime": {
     "end_time": "2020-09-28T13:52:40.399945Z",
     "start_time": "2020-09-28T13:52:37.822243Z"
    }
   },
   "outputs": [],
   "source": [
    "nn_input = Input(shape=(max_doc_len,), dtype='int32')\n",
    "embedding_output = Embedding(len(word_to_idx_map)+1,\n",
    "                             embedding_matrix.shape[1],\n",
    "                             weights=[embedding_matrix],\n",
    "                             input_length=max_doc_len,\n",
    "                             trainable=True,\n",
    "                             mask_zero=True)(nn_input)\n",
    "lstm = Bidirectional(LSTM(100))(embedding_output)\n",
    "dense = Dense(64, activation='relu')(lstm)\n",
    "nn_output = Dense(n_classes, activation='sigmoid')(dense)\n",
    "\n",
    "nn_model = Model(nn_input, nn_output)\n",
    "\n",
    "nn_model.compile(loss='binary_crossentropy',\n",
    "                 optimizer=Adam(),\n",
    "                 metrics=['accuracy'])"
   ]
  },
  {
   "cell_type": "code",
   "execution_count": 32,
   "metadata": {
    "ExecuteTime": {
     "end_time": "2020-09-28T13:52:40.404295Z",
     "start_time": "2020-09-28T13:52:40.401590Z"
    }
   },
   "outputs": [],
   "source": [
    "from IPython.display import SVG\n",
    "from keras.utils.vis_utils import model_to_dot"
   ]
  },
  {
   "cell_type": "code",
   "execution_count": 33,
   "metadata": {
    "ExecuteTime": {
     "end_time": "2020-09-28T13:52:40.598640Z",
     "start_time": "2020-09-28T13:52:40.406727Z"
    }
   },
   "outputs": [
    {
     "data": {
      "image/svg+xml": [
       "<svg xmlns=\"http://www.w3.org/2000/svg\" xmlns:xlink=\"http://www.w3.org/1999/xlink\" width=\"437pt\" height=\"376pt\" viewBox=\"0.00 0.00 449.00 387.00\">\n",
       "<g id=\"graph0\" class=\"graph\" transform=\"scale(.9722 .9722) rotate(0) translate(4 383)\">\n",
       "<title>G</title>\n",
       "<polygon fill=\"#ffffff\" stroke=\"transparent\" points=\"-4,4 -4,-383 445,-383 445,4 -4,4\"/>\n",
       "<!-- 140677845880448 -->\n",
       "<g id=\"node1\" class=\"node\">\n",
       "<title>140677845880448</title>\n",
       "<polygon fill=\"none\" stroke=\"#000000\" points=\"86,-332.5 86,-378.5 355,-378.5 355,-332.5 86,-332.5\"/>\n",
       "<text text-anchor=\"middle\" x=\"148.5\" y=\"-351.8\" font-family=\"Times,serif\" font-size=\"14.00\" fill=\"#000000\">input_1: InputLayer</text>\n",
       "<polyline fill=\"none\" stroke=\"#000000\" points=\"211,-332.5 211,-378.5 \"/>\n",
       "<text text-anchor=\"middle\" x=\"238.5\" y=\"-363.3\" font-family=\"Times,serif\" font-size=\"14.00\" fill=\"#000000\">input:</text>\n",
       "<polyline fill=\"none\" stroke=\"#000000\" points=\"211,-355.5 266,-355.5 \"/>\n",
       "<text text-anchor=\"middle\" x=\"238.5\" y=\"-340.3\" font-family=\"Times,serif\" font-size=\"14.00\" fill=\"#000000\">output:</text>\n",
       "<polyline fill=\"none\" stroke=\"#000000\" points=\"266,-332.5 266,-378.5 \"/>\n",
       "<text text-anchor=\"middle\" x=\"310.5\" y=\"-363.3\" font-family=\"Times,serif\" font-size=\"14.00\" fill=\"#000000\">(None, 1828)</text>\n",
       "<polyline fill=\"none\" stroke=\"#000000\" points=\"266,-355.5 355,-355.5 \"/>\n",
       "<text text-anchor=\"middle\" x=\"310.5\" y=\"-340.3\" font-family=\"Times,serif\" font-size=\"14.00\" fill=\"#000000\">(None, 1828)</text>\n",
       "</g>\n",
       "<!-- 140677845880352 -->\n",
       "<g id=\"node2\" class=\"node\">\n",
       "<title>140677845880352</title>\n",
       "<polygon fill=\"none\" stroke=\"#000000\" points=\"54,-249.5 54,-295.5 387,-295.5 387,-249.5 54,-249.5\"/>\n",
       "<text text-anchor=\"middle\" x=\"134.5\" y=\"-268.8\" font-family=\"Times,serif\" font-size=\"14.00\" fill=\"#000000\">embedding_1: Embedding</text>\n",
       "<polyline fill=\"none\" stroke=\"#000000\" points=\"215,-249.5 215,-295.5 \"/>\n",
       "<text text-anchor=\"middle\" x=\"242.5\" y=\"-280.3\" font-family=\"Times,serif\" font-size=\"14.00\" fill=\"#000000\">input:</text>\n",
       "<polyline fill=\"none\" stroke=\"#000000\" points=\"215,-272.5 270,-272.5 \"/>\n",
       "<text text-anchor=\"middle\" x=\"242.5\" y=\"-257.3\" font-family=\"Times,serif\" font-size=\"14.00\" fill=\"#000000\">output:</text>\n",
       "<polyline fill=\"none\" stroke=\"#000000\" points=\"270,-249.5 270,-295.5 \"/>\n",
       "<text text-anchor=\"middle\" x=\"328.5\" y=\"-280.3\" font-family=\"Times,serif\" font-size=\"14.00\" fill=\"#000000\">(None, 1828)</text>\n",
       "<polyline fill=\"none\" stroke=\"#000000\" points=\"270,-272.5 387,-272.5 \"/>\n",
       "<text text-anchor=\"middle\" x=\"328.5\" y=\"-257.3\" font-family=\"Times,serif\" font-size=\"14.00\" fill=\"#000000\">(None, 1828, 200)</text>\n",
       "</g>\n",
       "<!-- 140677845880448&#45;&gt;140677845880352 -->\n",
       "<g id=\"edge1\" class=\"edge\">\n",
       "<title>140677845880448-&gt;140677845880352</title>\n",
       "<path fill=\"none\" stroke=\"#000000\" d=\"M220.5,-332.3799C220.5,-324.1745 220.5,-314.7679 220.5,-305.8786\"/>\n",
       "<polygon fill=\"#000000\" stroke=\"#000000\" points=\"224.0001,-305.784 220.5,-295.784 217.0001,-305.784 224.0001,-305.784\"/>\n",
       "</g>\n",
       "<!-- 140677786371648 -->\n",
       "<g id=\"node3\" class=\"node\">\n",
       "<title>140677786371648</title>\n",
       "<polygon fill=\"none\" stroke=\"#000000\" points=\"0,-166.5 0,-212.5 441,-212.5 441,-166.5 0,-166.5\"/>\n",
       "<text text-anchor=\"middle\" x=\"134.5\" y=\"-185.8\" font-family=\"Times,serif\" font-size=\"14.00\" fill=\"#000000\">bidirectional_1(lstm_1): Bidirectional(LSTM)</text>\n",
       "<polyline fill=\"none\" stroke=\"#000000\" points=\"269,-166.5 269,-212.5 \"/>\n",
       "<text text-anchor=\"middle\" x=\"296.5\" y=\"-197.3\" font-family=\"Times,serif\" font-size=\"14.00\" fill=\"#000000\">input:</text>\n",
       "<polyline fill=\"none\" stroke=\"#000000\" points=\"269,-189.5 324,-189.5 \"/>\n",
       "<text text-anchor=\"middle\" x=\"296.5\" y=\"-174.3\" font-family=\"Times,serif\" font-size=\"14.00\" fill=\"#000000\">output:</text>\n",
       "<polyline fill=\"none\" stroke=\"#000000\" points=\"324,-166.5 324,-212.5 \"/>\n",
       "<text text-anchor=\"middle\" x=\"382.5\" y=\"-197.3\" font-family=\"Times,serif\" font-size=\"14.00\" fill=\"#000000\">(None, 1828, 200)</text>\n",
       "<polyline fill=\"none\" stroke=\"#000000\" points=\"324,-189.5 441,-189.5 \"/>\n",
       "<text text-anchor=\"middle\" x=\"382.5\" y=\"-174.3\" font-family=\"Times,serif\" font-size=\"14.00\" fill=\"#000000\">(None, 200)</text>\n",
       "</g>\n",
       "<!-- 140677845880352&#45;&gt;140677786371648 -->\n",
       "<g id=\"edge2\" class=\"edge\">\n",
       "<title>140677845880352-&gt;140677786371648</title>\n",
       "<path fill=\"none\" stroke=\"#000000\" d=\"M220.5,-249.3799C220.5,-241.1745 220.5,-231.7679 220.5,-222.8786\"/>\n",
       "<polygon fill=\"#000000\" stroke=\"#000000\" points=\"224.0001,-222.784 220.5,-212.784 217.0001,-222.784 224.0001,-222.784\"/>\n",
       "</g>\n",
       "<!-- 140677845880400 -->\n",
       "<g id=\"node4\" class=\"node\">\n",
       "<title>140677845880400</title>\n",
       "<polygon fill=\"none\" stroke=\"#000000\" points=\"100.5,-83.5 100.5,-129.5 340.5,-129.5 340.5,-83.5 100.5,-83.5\"/>\n",
       "<text text-anchor=\"middle\" x=\"151.5\" y=\"-102.8\" font-family=\"Times,serif\" font-size=\"14.00\" fill=\"#000000\">dense_1: Dense</text>\n",
       "<polyline fill=\"none\" stroke=\"#000000\" points=\"202.5,-83.5 202.5,-129.5 \"/>\n",
       "<text text-anchor=\"middle\" x=\"230\" y=\"-114.3\" font-family=\"Times,serif\" font-size=\"14.00\" fill=\"#000000\">input:</text>\n",
       "<polyline fill=\"none\" stroke=\"#000000\" points=\"202.5,-106.5 257.5,-106.5 \"/>\n",
       "<text text-anchor=\"middle\" x=\"230\" y=\"-91.3\" font-family=\"Times,serif\" font-size=\"14.00\" fill=\"#000000\">output:</text>\n",
       "<polyline fill=\"none\" stroke=\"#000000\" points=\"257.5,-83.5 257.5,-129.5 \"/>\n",
       "<text text-anchor=\"middle\" x=\"299\" y=\"-114.3\" font-family=\"Times,serif\" font-size=\"14.00\" fill=\"#000000\">(None, 200)</text>\n",
       "<polyline fill=\"none\" stroke=\"#000000\" points=\"257.5,-106.5 340.5,-106.5 \"/>\n",
       "<text text-anchor=\"middle\" x=\"299\" y=\"-91.3\" font-family=\"Times,serif\" font-size=\"14.00\" fill=\"#000000\">(None, 64)</text>\n",
       "</g>\n",
       "<!-- 140677786371648&#45;&gt;140677845880400 -->\n",
       "<g id=\"edge3\" class=\"edge\">\n",
       "<title>140677786371648-&gt;140677845880400</title>\n",
       "<path fill=\"none\" stroke=\"#000000\" d=\"M220.5,-166.3799C220.5,-158.1745 220.5,-148.7679 220.5,-139.8786\"/>\n",
       "<polygon fill=\"#000000\" stroke=\"#000000\" points=\"224.0001,-139.784 220.5,-129.784 217.0001,-139.784 224.0001,-139.784\"/>\n",
       "</g>\n",
       "<!-- 140677631692864 -->\n",
       "<g id=\"node5\" class=\"node\">\n",
       "<title>140677631692864</title>\n",
       "<polygon fill=\"none\" stroke=\"#000000\" points=\"104,-.5 104,-46.5 337,-46.5 337,-.5 104,-.5\"/>\n",
       "<text text-anchor=\"middle\" x=\"155\" y=\"-19.8\" font-family=\"Times,serif\" font-size=\"14.00\" fill=\"#000000\">dense_2: Dense</text>\n",
       "<polyline fill=\"none\" stroke=\"#000000\" points=\"206,-.5 206,-46.5 \"/>\n",
       "<text text-anchor=\"middle\" x=\"233.5\" y=\"-31.3\" font-family=\"Times,serif\" font-size=\"14.00\" fill=\"#000000\">input:</text>\n",
       "<polyline fill=\"none\" stroke=\"#000000\" points=\"206,-23.5 261,-23.5 \"/>\n",
       "<text text-anchor=\"middle\" x=\"233.5\" y=\"-8.3\" font-family=\"Times,serif\" font-size=\"14.00\" fill=\"#000000\">output:</text>\n",
       "<polyline fill=\"none\" stroke=\"#000000\" points=\"261,-.5 261,-46.5 \"/>\n",
       "<text text-anchor=\"middle\" x=\"299\" y=\"-31.3\" font-family=\"Times,serif\" font-size=\"14.00\" fill=\"#000000\">(None, 64)</text>\n",
       "<polyline fill=\"none\" stroke=\"#000000\" points=\"261,-23.5 337,-23.5 \"/>\n",
       "<text text-anchor=\"middle\" x=\"299\" y=\"-8.3\" font-family=\"Times,serif\" font-size=\"14.00\" fill=\"#000000\">(None, 20)</text>\n",
       "</g>\n",
       "<!-- 140677845880400&#45;&gt;140677631692864 -->\n",
       "<g id=\"edge4\" class=\"edge\">\n",
       "<title>140677845880400-&gt;140677631692864</title>\n",
       "<path fill=\"none\" stroke=\"#000000\" d=\"M220.5,-83.3799C220.5,-75.1745 220.5,-65.7679 220.5,-56.8786\"/>\n",
       "<polygon fill=\"#000000\" stroke=\"#000000\" points=\"224.0001,-56.784 220.5,-46.784 217.0001,-56.784 224.0001,-56.784\"/>\n",
       "</g>\n",
       "</g>\n",
       "</svg>"
      ],
      "text/plain": [
       "<IPython.core.display.SVG object>"
      ]
     },
     "execution_count": 33,
     "metadata": {},
     "output_type": "execute_result"
    }
   ],
   "source": [
    "SVG(model_to_dot(nn_model, show_shapes=True, dpi=70).create(prog='dot', format='svg'))"
   ]
  },
  {
   "cell_type": "markdown",
   "metadata": {},
   "source": [
    "### Train the model"
   ]
  },
  {
   "cell_type": "code",
   "execution_count": 34,
   "metadata": {
    "ExecuteTime": {
     "end_time": "2020-09-28T13:52:40.606611Z",
     "start_time": "2020-09-28T13:52:40.602198Z"
    }
   },
   "outputs": [],
   "source": [
    "import time"
   ]
  },
  {
   "cell_type": "code",
   "execution_count": 35,
   "metadata": {
    "ExecuteTime": {
     "end_time": "2020-09-28T14:26:31.397469Z",
     "start_time": "2020-09-28T13:52:40.611968Z"
    }
   },
   "outputs": [
    {
     "name": "stderr",
     "output_type": "stream",
     "text": [
      "/home/nvidia/anaconda3/envs/testenv/lib/python3.8/site-packages/tensorflow/python/framework/indexed_slices.py:433: UserWarning: Converting sparse IndexedSlices to a dense Tensor of unknown shape. This may consume a large amount of memory.\n",
      "  warnings.warn(\n"
     ]
    },
    {
     "name": "stdout",
     "output_type": "stream",
     "text": [
      "Train on 7090 samples, validate on 788 samples\n",
      "Epoch 1/15\n",
      "7090/7090 [==============================] - 141s 20ms/step - loss: 0.3245 - accuracy: 0.9262 - val_loss: 0.1820 - val_accuracy: 0.9421\n",
      "Epoch 2/15\n",
      "7090/7090 [==============================] - 143s 20ms/step - loss: 0.1711 - accuracy: 0.9445 - val_loss: 0.1699 - val_accuracy: 0.9506\n",
      "Epoch 3/15\n",
      "7090/7090 [==============================] - 132s 19ms/step - loss: 0.1498 - accuracy: 0.9565 - val_loss: 0.1449 - val_accuracy: 0.9567\n",
      "Epoch 4/15\n",
      "7090/7090 [==============================] - 136s 19ms/step - loss: 0.1266 - accuracy: 0.9602 - val_loss: 0.1294 - val_accuracy: 0.9589\n",
      "Epoch 5/15\n",
      "7090/7090 [==============================] - 129s 18ms/step - loss: 0.1072 - accuracy: 0.9687 - val_loss: 0.1108 - val_accuracy: 0.9689\n",
      "Epoch 6/15\n",
      "7090/7090 [==============================] - 133s 19ms/step - loss: 0.0942 - accuracy: 0.9722 - val_loss: 0.1044 - val_accuracy: 0.9696\n",
      "Epoch 7/15\n",
      "7090/7090 [==============================] - 130s 18ms/step - loss: 0.0853 - accuracy: 0.9728 - val_loss: 0.0941 - val_accuracy: 0.9703\n",
      "Epoch 8/15\n",
      "7090/7090 [==============================] - 139s 20ms/step - loss: 0.0743 - accuracy: 0.9758 - val_loss: 0.0900 - val_accuracy: 0.9715\n",
      "Epoch 9/15\n",
      "7090/7090 [==============================] - 141s 20ms/step - loss: 0.0661 - accuracy: 0.9781 - val_loss: 0.0819 - val_accuracy: 0.9743\n",
      "Epoch 10/15\n",
      "7090/7090 [==============================] - 134s 19ms/step - loss: 0.0557 - accuracy: 0.9809 - val_loss: 0.0764 - val_accuracy: 0.9758\n",
      "Epoch 11/15\n",
      "7090/7090 [==============================] - 134s 19ms/step - loss: 0.0478 - accuracy: 0.9833 - val_loss: 0.0679 - val_accuracy: 0.9774\n",
      "Epoch 12/15\n",
      "7090/7090 [==============================] - 132s 19ms/step - loss: 0.0407 - accuracy: 0.9854 - val_loss: 0.0657 - val_accuracy: 0.9788\n",
      "Epoch 13/15\n",
      "7090/7090 [==============================] - 135s 19ms/step - loss: 0.0361 - accuracy: 0.9868 - val_loss: 0.0662 - val_accuracy: 0.9781\n",
      "Epoch 14/15\n",
      "7090/7090 [==============================] - 135s 19ms/step - loss: 0.0326 - accuracy: 0.9883 - val_loss: 0.0615 - val_accuracy: 0.9801\n",
      "Epoch 15/15\n",
      "7090/7090 [==============================] - 135s 19ms/step - loss: 0.0275 - accuracy: 0.9905 - val_loss: 0.0616 - val_accuracy: 0.9813\n",
      "Elapsed time (learning): 00:33:50\n"
     ]
    }
   ],
   "source": [
    "start_time = time.time()\n",
    "\n",
    "history = nn_model.fit(train_padded_sequences, \n",
    "                       train_labels, \n",
    "                       validation_split=0.1, \n",
    "                       epochs=15, \n",
    "                       batch_size=200)\n",
    "\n",
    "elapsed_time = time.time() - start_time\n",
    "t = time.strftime(\"%H:%M:%S\", time.gmtime(elapsed_time))\n",
    "print('Elapsed time (learning):', t)"
   ]
  },
  {
   "cell_type": "markdown",
   "metadata": {},
   "source": [
    "### Plot loss and accuracy"
   ]
  },
  {
   "cell_type": "code",
   "execution_count": 36,
   "metadata": {
    "ExecuteTime": {
     "end_time": "2020-09-28T15:10:19.648728Z",
     "start_time": "2020-09-28T15:10:19.642824Z"
    }
   },
   "outputs": [],
   "source": [
    "history_dict = history.history\n",
    "\n",
    "acc = history_dict['accuracy']\n",
    "val_acc = history_dict['val_accuracy']\n",
    "loss = history_dict['loss']\n",
    "val_loss = history_dict['val_loss']\n",
    "\n",
    "epochs = range(1, len(acc) + 1)"
   ]
  },
  {
   "cell_type": "code",
   "execution_count": 37,
   "metadata": {
    "ExecuteTime": {
     "end_time": "2020-09-28T15:10:20.181961Z",
     "start_time": "2020-09-28T15:10:20.178106Z"
    }
   },
   "outputs": [],
   "source": [
    "import matplotlib.pyplot as plt"
   ]
  },
  {
   "cell_type": "code",
   "execution_count": 38,
   "metadata": {
    "ExecuteTime": {
     "end_time": "2020-09-28T15:10:21.444965Z",
     "start_time": "2020-09-28T15:10:21.087424Z"
    }
   },
   "outputs": [
    {
     "data": {
      "image/png": "[encoded data removed]",
      "text/plain": [
       "<Figure size 576x576 with 1 Axes>"
      ]
     },
     "metadata": {
      "image/png": {
       "height": 494,
       "width": 503
      },
      "needs_background": "light"
     },
     "output_type": "display_data"
    }
   ],
   "source": [
    "plt.figure(figsize=(8,8))\n",
    "plt.plot(epochs, loss, 'b', label='Training loss')\n",
    "plt.plot(epochs, val_loss, 'g', label='Validation loss')\n",
    "plt.title('Training and validation loss')\n",
    "plt.xlabel('Epochs')\n",
    "plt.ylabel('Loss')\n",
    "plt.legend()\n",
    "plt.show()"
   ]
  },
  {
   "cell_type": "code",
   "execution_count": 39,
   "metadata": {
    "ExecuteTime": {
     "end_time": "2020-09-28T15:10:26.524024Z",
     "start_time": "2020-09-28T15:10:26.212552Z"
    }
   },
   "outputs": [
    {
     "data": {
      "image/png": "[encoded data removed]",
      "text/plain": [
       "<Figure size 576x576 with 1 Axes>"
      ]
     },
     "metadata": {
      "image/png": {
       "height": 494,
       "width": 503
      },
      "needs_background": "light"
     },
     "output_type": "display_data"
    }
   ],
   "source": [
    "plt.figure(figsize=(8,8))\n",
    "plt.plot(epochs, acc, 'b', label='Training acc')\n",
    "plt.plot(epochs, val_acc, 'g', label='Validation acc')\n",
    "plt.title('Training and validation accuracy')\n",
    "plt.xlabel('Epochs')\n",
    "plt.ylabel('Accuracy')\n",
    "plt.legend()\n",
    "plt.show()"
   ]
  },
  {
   "cell_type": "markdown",
   "metadata": {},
   "source": [
    "---"
   ]
  },
  {
   "cell_type": "markdown",
   "metadata": {},
   "source": [
    "## Evaluate the model"
   ]
  },
  {
   "cell_type": "markdown",
   "metadata": {},
   "source": [
    "### Compute f-score on the test set"
   ]
  },
  {
   "cell_type": "code",
   "execution_count": 40,
   "metadata": {
    "ExecuteTime": {
     "end_time": "2020-09-28T15:10:30.374975Z",
     "start_time": "2020-09-28T15:10:30.159646Z"
    }
   },
   "outputs": [],
   "source": [
    "test_sequences = [doc_tokens_to_sequence(reuters_corpus.get_tokens(doc_id), word_to_idx_map) for doc_id in test_doc_ids]\n",
    "test_padded_sequences = pad_sequences(test_sequences, maxlen=max_doc_len)"
   ]
  },
  {
   "cell_type": "code",
   "execution_count": 41,
   "metadata": {
    "ExecuteTime": {
     "end_time": "2020-09-28T15:10:56.535591Z",
     "start_time": "2020-09-28T15:10:30.575580Z"
    }
   },
   "outputs": [],
   "source": [
    "test_pred = nn_model.predict(test_padded_sequences)"
   ]
  },
  {
   "cell_type": "code",
   "execution_count": 42,
   "metadata": {
    "ExecuteTime": {
     "end_time": "2020-09-28T15:10:56.543246Z",
     "start_time": "2020-09-28T15:10:56.538645Z"
    }
   },
   "outputs": [],
   "source": [
    "# round to nearest integer\n",
    "test_pred = np.rint(test_pred)"
   ]
  },
  {
   "cell_type": "code",
   "execution_count": 43,
   "metadata": {
    "ExecuteTime": {
     "end_time": "2020-09-28T15:10:56.553019Z",
     "start_time": "2020-09-28T15:10:56.546553Z"
    }
   },
   "outputs": [
    {
     "data": {
      "text/plain": [
       "array([1., 0., 0., 0., 0., 0., 0., 0., 0., 0., 0., 0., 0., 0., 0., 0., 0.,\n",
       "       0., 0., 0.], dtype=float32)"
      ]
     },
     "execution_count": 43,
     "metadata": {},
     "output_type": "execute_result"
    }
   ],
   "source": [
    "test_pred[0]"
   ]
  },
  {
   "cell_type": "code",
   "execution_count": 44,
   "metadata": {
    "ExecuteTime": {
     "end_time": "2020-09-28T15:10:56.558040Z",
     "start_time": "2020-09-28T15:10:56.555008Z"
    }
   },
   "outputs": [],
   "source": [
    "from sklearn.metrics import classification_report"
   ]
  },
  {
   "cell_type": "code",
   "execution_count": 45,
   "metadata": {
    "ExecuteTime": {
     "end_time": "2020-09-28T15:10:59.296304Z",
     "start_time": "2020-09-28T15:10:59.257655Z"
    }
   },
   "outputs": [
    {
     "name": "stdout",
     "output_type": "stream",
     "text": [
      "              precision    recall  f1-score   support\n",
      "\n",
      "           0       0.96      0.91      0.94       497\n",
      "           1       0.00      0.00      0.00        24\n",
      "           2       1.00      0.44      0.61        25\n",
      "           3       1.00      0.31      0.47        52\n",
      "           4       0.83      0.79      0.81       114\n",
      "           5       0.93      0.34      0.50        38\n",
      "           6       0.97      0.97      0.97       778\n",
      "           7       0.50      0.39      0.44        23\n",
      "           8       0.00      0.00      0.00        24\n",
      "           9       0.81      0.75      0.78       110\n",
      "          10       0.82      0.68      0.74        99\n",
      "          11       0.88      0.79      0.83       145\n",
      "          12       0.93      0.69      0.79        39\n",
      "          13       0.00      0.00      0.00        35\n",
      "          14       0.79      0.23      0.36        64\n",
      "          15       1.00      0.04      0.08        25\n",
      "          16       0.83      0.28      0.42        36\n",
      "          17       0.86      0.62      0.72       104\n",
      "          18       0.00      0.00      0.00        23\n",
      "          19       0.51      0.55      0.53        47\n",
      "\n",
      "   micro avg       0.91      0.76      0.83      2302\n",
      "   macro avg       0.68      0.44      0.50      2302\n",
      "weighted avg       0.87      0.76      0.80      2302\n",
      " samples avg       0.83      0.82      0.82      2302\n",
      "\n"
     ]
    },
    {
     "name": "stderr",
     "output_type": "stream",
     "text": [
      "/home/nvidia/anaconda3/envs/testenv/lib/python3.8/site-packages/sklearn/metrics/_classification.py:1272: UndefinedMetricWarning: Precision and F-score are ill-defined and being set to 0.0 in labels with no predicted samples. Use `zero_division` parameter to control this behavior.\n",
      "  _warn_prf(average, modifier, msg_start, len(result))\n",
      "/home/nvidia/anaconda3/envs/testenv/lib/python3.8/site-packages/sklearn/metrics/_classification.py:1272: UndefinedMetricWarning: Precision and F-score are ill-defined and being set to 0.0 in samples with no predicted labels. Use `zero_division` parameter to control this behavior.\n",
      "  _warn_prf(average, modifier, msg_start, len(result))\n"
     ]
    }
   ],
   "source": [
    "print(classification_report(test_labels, test_pred))"
   ]
  },
  {
   "cell_type": "markdown",
   "metadata": {},
   "source": [
    "## Save model to a file"
   ]
  },
  {
   "cell_type": "code",
   "execution_count": 44,
   "metadata": {
    "ExecuteTime": {
     "end_time": "2020-09-28T12:02:48.407312Z",
     "start_time": "2020-09-28T12:02:48.404267Z"
    }
   },
   "outputs": [],
   "source": [
    "nn_filename = 'reuters_nn_model.h5'\n",
    "nn_filepath = os.path.join(root_dir, models_dir, nn_filename)"
   ]
  },
  {
   "cell_type": "code",
   "execution_count": 45,
   "metadata": {
    "ExecuteTime": {
     "end_time": "2020-09-28T12:02:48.585307Z",
     "start_time": "2020-09-28T12:02:48.409151Z"
    }
   },
   "outputs": [],
   "source": [
    "nn_model.save(nn_filepath)"
   ]
  },
  {
   "cell_type": "markdown",
   "metadata": {},
   "source": [
    "---"
   ]
  },
  {
   "cell_type": "markdown",
   "metadata": {},
   "source": [
    "## Save `word_to_index_map` to a file"
   ]
  },
  {
   "cell_type": "code",
   "execution_count": 46,
   "metadata": {
    "ExecuteTime": {
     "end_time": "2020-09-28T12:02:48.589382Z",
     "start_time": "2020-09-28T12:02:48.587005Z"
    }
   },
   "outputs": [],
   "source": [
    "import pandas as pd"
   ]
  },
  {
   "cell_type": "code",
   "execution_count": 47,
   "metadata": {
    "ExecuteTime": {
     "end_time": "2020-09-28T12:02:48.637471Z",
     "start_time": "2020-09-28T12:02:48.591000Z"
    }
   },
   "outputs": [],
   "source": [
    "word_to_index_df = pd.DataFrame(word_to_idx_map.items(), columns=['term', 'index'])"
   ]
  },
  {
   "cell_type": "code",
   "execution_count": 48,
   "metadata": {
    "ExecuteTime": {
     "end_time": "2020-09-28T12:02:48.647401Z",
     "start_time": "2020-09-28T12:02:48.638716Z"
    }
   },
   "outputs": [
    {
     "data": {
      "text/html": [
       "<div>\n",
       "<style scoped>\n",
       "    .dataframe tbody tr th:only-of-type {\n",
       "        vertical-align: middle;\n",
       "    }\n",
       "\n",
       "    .dataframe tbody tr th {\n",
       "        vertical-align: top;\n",
       "    }\n",
       "\n",
       "    .dataframe thead th {\n",
       "        text-align: right;\n",
       "    }\n",
       "</style>\n",
       "<table border=\"1\" class=\"dataframe\">\n",
       "  <thead>\n",
       "    <tr style=\"text-align: right;\">\n",
       "      <th></th>\n",
       "      <th>term</th>\n",
       "      <th>index</th>\n",
       "    </tr>\n",
       "  </thead>\n",
       "  <tbody>\n",
       "    <tr>\n",
       "      <th>0</th>\n",
       "      <td>,100</td>\n",
       "      <td>1</td>\n",
       "    </tr>\n",
       "    <tr>\n",
       "      <th>1</th>\n",
       "      <td>-aci</td>\n",
       "      <td>2</td>\n",
       "    </tr>\n",
       "    <tr>\n",
       "      <th>2</th>\n",
       "      <td>-agency</td>\n",
       "      <td>3</td>\n",
       "    </tr>\n",
       "    <tr>\n",
       "      <th>3</th>\n",
       "      <td>-analysts</td>\n",
       "      <td>4</td>\n",
       "    </tr>\n",
       "    <tr>\n",
       "      <th>4</th>\n",
       "      <td>-announced</td>\n",
       "      <td>5</td>\n",
       "    </tr>\n",
       "  </tbody>\n",
       "</table>\n",
       "</div>"
      ],
      "text/plain": [
       "         term  index\n",
       "0        ,100      1\n",
       "1        -aci      2\n",
       "2     -agency      3\n",
       "3   -analysts      4\n",
       "4  -announced      5"
      ]
     },
     "execution_count": 48,
     "metadata": {},
     "output_type": "execute_result"
    }
   ],
   "source": [
    "word_to_index_df.head()"
   ]
  },
  {
   "cell_type": "code",
   "execution_count": 49,
   "metadata": {
    "ExecuteTime": {
     "end_time": "2020-09-28T12:02:48.657478Z",
     "start_time": "2020-09-28T12:02:48.651528Z"
    }
   },
   "outputs": [
    {
     "data": {
      "text/plain": [
       "(38016, 2)"
      ]
     },
     "execution_count": 49,
     "metadata": {},
     "output_type": "execute_result"
    }
   ],
   "source": [
    "word_to_index_df.shape"
   ]
  },
  {
   "cell_type": "code",
   "execution_count": 50,
   "metadata": {
    "ExecuteTime": {
     "end_time": "2020-09-28T12:02:48.664379Z",
     "start_time": "2020-09-28T12:02:48.659598Z"
    }
   },
   "outputs": [],
   "source": [
    "index_filename = 'reuters_nn_word_index.csv'\n",
    "index_filepath = os.path.join(root_dir, models_dir, index_filename)"
   ]
  },
  {
   "cell_type": "code",
   "execution_count": 51,
   "metadata": {
    "ExecuteTime": {
     "end_time": "2020-09-28T12:02:48.766174Z",
     "start_time": "2020-09-28T12:02:48.666924Z"
    }
   },
   "outputs": [],
   "source": [
    "word_to_index_df.to_csv(index_filepath, encoding='utf-8', index=False)"
   ]
  },
  {
   "cell_type": "markdown",
   "metadata": {},
   "source": [
    "---"
   ]
  }
 ],
 "metadata": {
  "kernelspec": {
   "display_name": "Python 3",
   "language": "python",
   "name": "python3"
  },
  "language_info": {
   "codemirror_mode": {
    "name": "ipython",
    "version": 3
   },
   "file_extension": ".py",
   "mimetype": "text/x-python",
   "name": "python",
   "nbconvert_exporter": "python",
   "pygments_lexer": "ipython3",
   "version": "3.8.1"
  },
  "toc": {
   "base_numbering": 1,
   "nav_menu": {},
   "number_sections": true,
   "sideBar": true,
   "skip_h1_title": false,
   "title_cell": "Table of Contents",
   "title_sidebar": "Contents",
   "toc_cell": false,
   "toc_position": {},
   "toc_section_display": true,
   "toc_window_display": false
  }
 },
 "nbformat": 4,
 "nbformat_minor": 4
}
