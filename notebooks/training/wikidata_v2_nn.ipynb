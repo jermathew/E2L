{
 "cells": [
  {
   "cell_type": "markdown",
   "metadata": {},
   "source": [
    "# Training a neural network model on the Wikidata dataset"
   ]
  },
  {
   "cell_type": "code",
   "execution_count": 1,
   "metadata": {
    "ExecuteTime": {
     "end_time": "2020-11-13T11:22:00.957290Z",
     "start_time": "2020-11-13T11:22:00.622620Z"
    }
   },
   "outputs": [],
   "source": [
    "%matplotlib inline\n",
    "%config InlineBackend.figure_format = 'retina'"
   ]
  },
  {
   "cell_type": "markdown",
   "metadata": {},
   "source": [
    "---"
   ]
  },
  {
   "cell_type": "markdown",
   "metadata": {},
   "source": [
    "## Load the data"
   ]
  },
  {
   "cell_type": "code",
   "execution_count": 2,
   "metadata": {
    "ExecuteTime": {
     "end_time": "2020-11-13T11:22:01.290558Z",
     "start_time": "2020-11-13T11:22:01.286535Z"
    }
   },
   "outputs": [],
   "source": [
    "root_dir = '../../'\n",
    "src_dir = 'src'\n",
    "data_dir = 'data/corpus'\n",
    "models_dir = 'data/models'"
   ]
  },
  {
   "cell_type": "code",
   "execution_count": 3,
   "metadata": {
    "ExecuteTime": {
     "end_time": "2020-11-13T11:22:01.498508Z",
     "start_time": "2020-11-13T11:22:01.495048Z"
    }
   },
   "outputs": [],
   "source": [
    "version = 'v2'"
   ]
  },
  {
   "cell_type": "code",
   "execution_count": 4,
   "metadata": {
    "ExecuteTime": {
     "end_time": "2020-11-13T11:22:01.731619Z",
     "start_time": "2020-11-13T11:22:01.728385Z"
    }
   },
   "outputs": [],
   "source": [
    "import os\n",
    "import sys"
   ]
  },
  {
   "cell_type": "code",
   "execution_count": 5,
   "metadata": {
    "ExecuteTime": {
     "end_time": "2020-11-13T11:22:01.917881Z",
     "start_time": "2020-11-13T11:22:01.914114Z"
    }
   },
   "outputs": [],
   "source": [
    "sys.path.append(os.path.join(root_dir, src_dir))"
   ]
  },
  {
   "cell_type": "code",
   "execution_count": 6,
   "metadata": {
    "ExecuteTime": {
     "end_time": "2020-11-13T11:22:02.136265Z",
     "start_time": "2020-11-13T11:22:02.132748Z"
    }
   },
   "outputs": [],
   "source": [
    "corpus_filename = f'wikidata_corpus_{version}.json'"
   ]
  },
  {
   "cell_type": "code",
   "execution_count": 7,
   "metadata": {
    "ExecuteTime": {
     "end_time": "2020-11-13T11:22:03.324273Z",
     "start_time": "2020-11-13T11:22:02.365251Z"
    }
   },
   "outputs": [],
   "source": [
    "from training import TrainingCorpus"
   ]
  },
  {
   "cell_type": "code",
   "execution_count": 8,
   "metadata": {
    "ExecuteTime": {
     "end_time": "2020-11-13T11:22:03.346371Z",
     "start_time": "2020-11-13T11:22:03.325813Z"
    }
   },
   "outputs": [],
   "source": [
    "corpus = TrainingCorpus()\n",
    "corpus.load(os.path.join(root_dir, data_dir, corpus_filename))"
   ]
  },
  {
   "cell_type": "code",
   "execution_count": 9,
   "metadata": {
    "ExecuteTime": {
     "end_time": "2020-11-13T11:22:03.352313Z",
     "start_time": "2020-11-13T11:22:03.348090Z"
    }
   },
   "outputs": [
    {
     "data": {
      "text/plain": [
       "3294"
      ]
     },
     "execution_count": 9,
     "metadata": {},
     "output_type": "execute_result"
    }
   ],
   "source": [
    "corpus.size"
   ]
  },
  {
   "cell_type": "markdown",
   "metadata": {},
   "source": [
    "---"
   ]
  },
  {
   "cell_type": "markdown",
   "metadata": {},
   "source": [
    "## Load the Glove model"
   ]
  },
  {
   "cell_type": "code",
   "execution_count": 10,
   "metadata": {
    "ExecuteTime": {
     "end_time": "2020-11-13T11:22:03.433871Z",
     "start_time": "2020-11-13T11:22:03.353799Z"
    }
   },
   "outputs": [
    {
     "name": "stderr",
     "output_type": "stream",
     "text": [
      "unable to import 'smart_open.gcs', disabling that module\n"
     ]
    }
   ],
   "source": [
    "from gensim.models import KeyedVectors"
   ]
  },
  {
   "cell_type": "code",
   "execution_count": 11,
   "metadata": {
    "ExecuteTime": {
     "end_time": "2020-11-13T11:22:03.554102Z",
     "start_time": "2020-11-13T11:22:03.548839Z"
    }
   },
   "outputs": [],
   "source": [
    "glove_filename = 'glove.6B.200d.word2vec'"
   ]
  },
  {
   "cell_type": "code",
   "execution_count": 12,
   "metadata": {
    "ExecuteTime": {
     "end_time": "2020-11-13T11:23:13.882716Z",
     "start_time": "2020-11-13T11:22:03.764786Z"
    }
   },
   "outputs": [],
   "source": [
    "glove_model = KeyedVectors.load_word2vec_format(os.path.join(root_dir, models_dir, glove_filename), binary=False)"
   ]
  },
  {
   "cell_type": "markdown",
   "metadata": {},
   "source": [
    "---"
   ]
  },
  {
   "cell_type": "markdown",
   "metadata": {},
   "source": [
    "## Split the dataset into training and test set"
   ]
  },
  {
   "cell_type": "code",
   "execution_count": 13,
   "metadata": {
    "ExecuteTime": {
     "end_time": "2020-11-13T11:23:13.895002Z",
     "start_time": "2020-11-13T11:23:13.884676Z"
    }
   },
   "outputs": [],
   "source": [
    "train_doc_ids, test_doc_ids, train_labels, test_labels = corpus.get_train_test_data(test_size=0.2, random_state=3)"
   ]
  },
  {
   "cell_type": "code",
   "execution_count": 14,
   "metadata": {
    "ExecuteTime": {
     "end_time": "2020-11-13T11:23:13.900623Z",
     "start_time": "2020-11-13T11:23:13.896725Z"
    }
   },
   "outputs": [
    {
     "name": "stdout",
     "output_type": "stream",
     "text": [
      "Training set size: 2635\n",
      "Test set size: 659\n",
      "No. of labels: 195\n"
     ]
    }
   ],
   "source": [
    "n_classes = train_labels.shape[1]\n",
    "print(f'Training set size: {len(train_doc_ids)}')\n",
    "print(f'Test set size: {len(test_doc_ids)}')\n",
    "print(f'No. of labels: {n_classes}')"
   ]
  },
  {
   "cell_type": "markdown",
   "metadata": {},
   "source": [
    "---"
   ]
  },
  {
   "cell_type": "markdown",
   "metadata": {},
   "source": [
    "## Build the embedding matrix"
   ]
  },
  {
   "cell_type": "markdown",
   "metadata": {},
   "source": [
    "### Define the vocabulary"
   ]
  },
  {
   "cell_type": "code",
   "execution_count": 15,
   "metadata": {
    "ExecuteTime": {
     "end_time": "2020-11-13T11:23:13.910487Z",
     "start_time": "2020-11-13T11:23:13.902170Z"
    }
   },
   "outputs": [],
   "source": [
    "docs_tokens = [corpus.get_tokens(doc_id) for doc_id in train_doc_ids]\n",
    "vocab = sorted({token for tokens in docs_tokens for token in tokens})"
   ]
  },
  {
   "cell_type": "code",
   "execution_count": 16,
   "metadata": {
    "ExecuteTime": {
     "end_time": "2020-11-13T11:23:13.915554Z",
     "start_time": "2020-11-13T11:23:13.912157Z"
    }
   },
   "outputs": [
    {
     "data": {
      "text/plain": [
       "['+21', '+4', '+5', '...', '/maari/']"
      ]
     },
     "execution_count": 16,
     "metadata": {},
     "output_type": "execute_result"
    }
   ],
   "source": [
    "vocab[:5]"
   ]
  },
  {
   "cell_type": "code",
   "execution_count": 17,
   "metadata": {
    "ExecuteTime": {
     "end_time": "2020-11-13T11:23:13.919924Z",
     "start_time": "2020-11-13T11:23:13.916925Z"
    }
   },
   "outputs": [
    {
     "name": "stdout",
     "output_type": "stream",
     "text": [
      "There are 4115 unique words in the training set\n"
     ]
    }
   ],
   "source": [
    "print(f'There are {len(vocab)} unique words in the training set')"
   ]
  },
  {
   "cell_type": "markdown",
   "metadata": {},
   "source": [
    "### Encode vocabulary terms as integers"
   ]
  },
  {
   "cell_type": "code",
   "execution_count": 18,
   "metadata": {
    "ExecuteTime": {
     "end_time": "2020-11-13T11:23:13.924812Z",
     "start_time": "2020-11-13T11:23:13.921608Z"
    }
   },
   "outputs": [],
   "source": [
    "# +1 as index 0 is reserved\n",
    "word_to_idx_map = {word:idx+1 for idx, word in enumerate(vocab)}"
   ]
  },
  {
   "cell_type": "markdown",
   "metadata": {},
   "source": [
    "### Define the embedding matrix"
   ]
  },
  {
   "cell_type": "code",
   "execution_count": 19,
   "metadata": {
    "ExecuteTime": {
     "end_time": "2020-11-13T11:23:13.929496Z",
     "start_time": "2020-11-13T11:23:13.927276Z"
    }
   },
   "outputs": [],
   "source": [
    "import numpy as np"
   ]
  },
  {
   "cell_type": "code",
   "execution_count": 20,
   "metadata": {
    "ExecuteTime": {
     "end_time": "2020-11-13T11:23:13.935231Z",
     "start_time": "2020-11-13T11:23:13.931689Z"
    }
   },
   "outputs": [
    {
     "data": {
      "text/plain": [
       "200"
      ]
     },
     "execution_count": 20,
     "metadata": {},
     "output_type": "execute_result"
    }
   ],
   "source": [
    "embedding_size = glove_model.vector_size\n",
    "embedding_size"
   ]
  },
  {
   "cell_type": "code",
   "execution_count": 21,
   "metadata": {
    "ExecuteTime": {
     "end_time": "2020-11-13T11:23:13.941044Z",
     "start_time": "2020-11-13T11:23:13.936863Z"
    }
   },
   "outputs": [
    {
     "data": {
      "text/plain": [
       "(4116, 200)"
      ]
     },
     "execution_count": 21,
     "metadata": {},
     "output_type": "execute_result"
    }
   ],
   "source": [
    "embedding_matrix = np.zeros((len(word_to_idx_map) + 1, embedding_size))\n",
    "embedding_matrix.shape"
   ]
  },
  {
   "cell_type": "code",
   "execution_count": 22,
   "metadata": {
    "ExecuteTime": {
     "end_time": "2020-11-13T11:23:13.944741Z",
     "start_time": "2020-11-13T11:23:13.942506Z"
    }
   },
   "outputs": [],
   "source": [
    "embedding_found_count = 0"
   ]
  },
  {
   "cell_type": "code",
   "execution_count": 23,
   "metadata": {
    "ExecuteTime": {
     "end_time": "2020-11-13T11:23:13.967152Z",
     "start_time": "2020-11-13T11:23:13.946520Z"
    }
   },
   "outputs": [],
   "source": [
    "for word, idx in word_to_idx_map.items():\n",
    "    if word in glove_model:\n",
    "        # words not found in the embedding matrix will be all-zeros.\n",
    "        embedding_matrix[idx] = glove_model[word]\n",
    "        embedding_found_count += 1"
   ]
  },
  {
   "cell_type": "code",
   "execution_count": 24,
   "metadata": {
    "ExecuteTime": {
     "end_time": "2020-11-13T11:23:13.971709Z",
     "start_time": "2020-11-13T11:23:13.968675Z"
    }
   },
   "outputs": [
    {
     "name": "stdout",
     "output_type": "stream",
     "text": [
      "Found embeddings for 3675 out of 4115 words (89.31%)\n"
     ]
    }
   ],
   "source": [
    "print(f'Found embeddings for {embedding_found_count} out of {len(vocab)} words ({round(embedding_found_count/len(vocab)*100,2)}%)')"
   ]
  },
  {
   "cell_type": "markdown",
   "metadata": {},
   "source": [
    "---"
   ]
  },
  {
   "cell_type": "markdown",
   "metadata": {},
   "source": [
    "## Convert documents to sequence of integer indexes"
   ]
  },
  {
   "cell_type": "markdown",
   "metadata": {},
   "source": [
    "### Define utility functions"
   ]
  },
  {
   "cell_type": "code",
   "execution_count": 25,
   "metadata": {
    "ExecuteTime": {
     "end_time": "2020-11-13T11:23:15.185342Z",
     "start_time": "2020-11-13T11:23:13.973189Z"
    }
   },
   "outputs": [
    {
     "name": "stderr",
     "output_type": "stream",
     "text": [
      "Using TensorFlow backend.\n"
     ]
    }
   ],
   "source": [
    "from keras.preprocessing.sequence import pad_sequences"
   ]
  },
  {
   "cell_type": "code",
   "execution_count": 26,
   "metadata": {
    "ExecuteTime": {
     "end_time": "2020-11-13T11:23:15.190217Z",
     "start_time": "2020-11-13T11:23:15.187045Z"
    }
   },
   "outputs": [],
   "source": [
    "def doc_tokens_to_sequence(doc_tokens, word_to_idx_map):\n",
    "    sequence = []\n",
    "    \n",
    "    for token in doc_tokens:\n",
    "        if token in word_to_idx_map:\n",
    "            sequence.append(word_to_idx_map[token])\n",
    "\n",
    "    return sequence"
   ]
  },
  {
   "cell_type": "markdown",
   "metadata": {},
   "source": [
    "### Encode texts"
   ]
  },
  {
   "cell_type": "code",
   "execution_count": 27,
   "metadata": {
    "ExecuteTime": {
     "end_time": "2020-11-13T11:23:15.195811Z",
     "start_time": "2020-11-13T11:23:15.191960Z"
    }
   },
   "outputs": [
    {
     "data": {
      "text/plain": [
       "196"
      ]
     },
     "execution_count": 27,
     "metadata": {},
     "output_type": "execute_result"
    }
   ],
   "source": [
    "max_doc_len = max(len(doc_tokens) for doc_tokens in docs_tokens)\n",
    "max_doc_len"
   ]
  },
  {
   "cell_type": "code",
   "execution_count": 28,
   "metadata": {
    "ExecuteTime": {
     "end_time": "2020-11-13T11:23:15.218855Z",
     "start_time": "2020-11-13T11:23:15.197157Z"
    }
   },
   "outputs": [],
   "source": [
    "train_doc_sequences = [doc_tokens_to_sequence(corpus.get_tokens(doc_id), word_to_idx_map) for doc_id in train_doc_ids]\n",
    "train_padded_sequences = pad_sequences(train_doc_sequences, maxlen=max_doc_len)"
   ]
  },
  {
   "cell_type": "markdown",
   "metadata": {},
   "source": [
    "## Train the model"
   ]
  },
  {
   "cell_type": "markdown",
   "metadata": {},
   "source": [
    "### Define the model"
   ]
  },
  {
   "cell_type": "code",
   "execution_count": 29,
   "metadata": {
    "ExecuteTime": {
     "end_time": "2020-11-13T11:23:15.222859Z",
     "start_time": "2020-11-13T11:23:15.220276Z"
    }
   },
   "outputs": [],
   "source": [
    "from keras import Input\n",
    "from keras.models import Model\n",
    "from keras.layers import Dense, Embedding, LSTM, Bidirectional\n",
    "from keras.optimizers import Adam"
   ]
  },
  {
   "cell_type": "code",
   "execution_count": 30,
   "metadata": {
    "ExecuteTime": {
     "end_time": "2020-11-13T11:23:15.742477Z",
     "start_time": "2020-11-13T11:23:15.224233Z"
    }
   },
   "outputs": [],
   "source": [
    "nn_input = Input(shape=(max_doc_len,), dtype='int32')\n",
    "embedding_output = Embedding(len(word_to_idx_map)+1,\n",
    "                             embedding_matrix.shape[1],\n",
    "                             weights=[embedding_matrix],\n",
    "                             input_length=max_doc_len,\n",
    "                             trainable=True,\n",
    "                             mask_zero=True)(nn_input)\n",
    "lstm = Bidirectional(LSTM(100))(embedding_output)\n",
    "dense = Dense(64, activation='relu')(lstm)\n",
    "nn_output = Dense(n_classes, activation='softmax')(dense)\n",
    "\n",
    "nn_model = Model(nn_input, nn_output)\n",
    "\n",
    "nn_model.compile(loss='categorical_crossentropy',\n",
    "                 optimizer=Adam(),\n",
    "                 metrics=['accuracy'])"
   ]
  },
  {
   "cell_type": "code",
   "execution_count": 31,
   "metadata": {
    "ExecuteTime": {
     "end_time": "2020-11-13T11:23:15.746131Z",
     "start_time": "2020-11-13T11:23:15.743881Z"
    }
   },
   "outputs": [],
   "source": [
    "from IPython.display import SVG\n",
    "from keras.utils.vis_utils import model_to_dot"
   ]
  },
  {
   "cell_type": "code",
   "execution_count": 32,
   "metadata": {
    "ExecuteTime": {
     "end_time": "2020-11-13T11:23:15.931492Z",
     "start_time": "2020-11-13T11:23:15.747527Z"
    }
   },
   "outputs": [
    {
     "data": {
      "image/svg+xml": [
       "<svg xmlns=\"http://www.w3.org/2000/svg\" xmlns:xlink=\"http://www.w3.org/1999/xlink\" width=\"430pt\" height=\"376pt\" viewBox=\"0.00 0.00 442.00 387.00\">\n",
       "<g id=\"graph0\" class=\"graph\" transform=\"scale(.9722 .9722) rotate(0) translate(4 383)\">\n",
       "<title>G</title>\n",
       "<polygon fill=\"#ffffff\" stroke=\"transparent\" points=\"-4,4 -4,-383 438,-383 438,4 -4,4\"/>\n",
       "<!-- 139902060387584 -->\n",
       "<g id=\"node1\" class=\"node\">\n",
       "<title>139902060387584</title>\n",
       "<polygon fill=\"none\" stroke=\"#000000\" points=\"85.5,-332.5 85.5,-378.5 348.5,-378.5 348.5,-332.5 85.5,-332.5\"/>\n",
       "<text text-anchor=\"middle\" x=\"148\" y=\"-351.8\" font-family=\"Times,serif\" font-size=\"14.00\" fill=\"#000000\">input_1: InputLayer</text>\n",
       "<polyline fill=\"none\" stroke=\"#000000\" points=\"210.5,-332.5 210.5,-378.5 \"/>\n",
       "<text text-anchor=\"middle\" x=\"238\" y=\"-363.3\" font-family=\"Times,serif\" font-size=\"14.00\" fill=\"#000000\">input:</text>\n",
       "<polyline fill=\"none\" stroke=\"#000000\" points=\"210.5,-355.5 265.5,-355.5 \"/>\n",
       "<text text-anchor=\"middle\" x=\"238\" y=\"-340.3\" font-family=\"Times,serif\" font-size=\"14.00\" fill=\"#000000\">output:</text>\n",
       "<polyline fill=\"none\" stroke=\"#000000\" points=\"265.5,-332.5 265.5,-378.5 \"/>\n",
       "<text text-anchor=\"middle\" x=\"307\" y=\"-363.3\" font-family=\"Times,serif\" font-size=\"14.00\" fill=\"#000000\">(None, 196)</text>\n",
       "<polyline fill=\"none\" stroke=\"#000000\" points=\"265.5,-355.5 348.5,-355.5 \"/>\n",
       "<text text-anchor=\"middle\" x=\"307\" y=\"-340.3\" font-family=\"Times,serif\" font-size=\"14.00\" fill=\"#000000\">(None, 196)</text>\n",
       "</g>\n",
       "<!-- 139902060387488 -->\n",
       "<g id=\"node2\" class=\"node\">\n",
       "<title>139902060387488</title>\n",
       "<polygon fill=\"none\" stroke=\"#000000\" points=\"54,-249.5 54,-295.5 380,-295.5 380,-249.5 54,-249.5\"/>\n",
       "<text text-anchor=\"middle\" x=\"134.5\" y=\"-268.8\" font-family=\"Times,serif\" font-size=\"14.00\" fill=\"#000000\">embedding_1: Embedding</text>\n",
       "<polyline fill=\"none\" stroke=\"#000000\" points=\"215,-249.5 215,-295.5 \"/>\n",
       "<text text-anchor=\"middle\" x=\"242.5\" y=\"-280.3\" font-family=\"Times,serif\" font-size=\"14.00\" fill=\"#000000\">input:</text>\n",
       "<polyline fill=\"none\" stroke=\"#000000\" points=\"215,-272.5 270,-272.5 \"/>\n",
       "<text text-anchor=\"middle\" x=\"242.5\" y=\"-257.3\" font-family=\"Times,serif\" font-size=\"14.00\" fill=\"#000000\">output:</text>\n",
       "<polyline fill=\"none\" stroke=\"#000000\" points=\"270,-249.5 270,-295.5 \"/>\n",
       "<text text-anchor=\"middle\" x=\"325\" y=\"-280.3\" font-family=\"Times,serif\" font-size=\"14.00\" fill=\"#000000\">(None, 196)</text>\n",
       "<polyline fill=\"none\" stroke=\"#000000\" points=\"270,-272.5 380,-272.5 \"/>\n",
       "<text text-anchor=\"middle\" x=\"325\" y=\"-257.3\" font-family=\"Times,serif\" font-size=\"14.00\" fill=\"#000000\">(None, 196, 200)</text>\n",
       "</g>\n",
       "<!-- 139902060387584&#45;&gt;139902060387488 -->\n",
       "<g id=\"edge1\" class=\"edge\">\n",
       "<title>139902060387584-&gt;139902060387488</title>\n",
       "<path fill=\"none\" stroke=\"#000000\" d=\"M217,-332.3799C217,-324.1745 217,-314.7679 217,-305.8786\"/>\n",
       "<polygon fill=\"#000000\" stroke=\"#000000\" points=\"220.5001,-305.784 217,-295.784 213.5001,-305.784 220.5001,-305.784\"/>\n",
       "</g>\n",
       "<!-- 139902060381280 -->\n",
       "<g id=\"node3\" class=\"node\">\n",
       "<title>139902060381280</title>\n",
       "<polygon fill=\"none\" stroke=\"#000000\" points=\"0,-166.5 0,-212.5 434,-212.5 434,-166.5 0,-166.5\"/>\n",
       "<text text-anchor=\"middle\" x=\"134.5\" y=\"-185.8\" font-family=\"Times,serif\" font-size=\"14.00\" fill=\"#000000\">bidirectional_1(lstm_1): Bidirectional(LSTM)</text>\n",
       "<polyline fill=\"none\" stroke=\"#000000\" points=\"269,-166.5 269,-212.5 \"/>\n",
       "<text text-anchor=\"middle\" x=\"296.5\" y=\"-197.3\" font-family=\"Times,serif\" font-size=\"14.00\" fill=\"#000000\">input:</text>\n",
       "<polyline fill=\"none\" stroke=\"#000000\" points=\"269,-189.5 324,-189.5 \"/>\n",
       "<text text-anchor=\"middle\" x=\"296.5\" y=\"-174.3\" font-family=\"Times,serif\" font-size=\"14.00\" fill=\"#000000\">output:</text>\n",
       "<polyline fill=\"none\" stroke=\"#000000\" points=\"324,-166.5 324,-212.5 \"/>\n",
       "<text text-anchor=\"middle\" x=\"379\" y=\"-197.3\" font-family=\"Times,serif\" font-size=\"14.00\" fill=\"#000000\">(None, 196, 200)</text>\n",
       "<polyline fill=\"none\" stroke=\"#000000\" points=\"324,-189.5 434,-189.5 \"/>\n",
       "<text text-anchor=\"middle\" x=\"379\" y=\"-174.3\" font-family=\"Times,serif\" font-size=\"14.00\" fill=\"#000000\">(None, 200)</text>\n",
       "</g>\n",
       "<!-- 139902060387488&#45;&gt;139902060381280 -->\n",
       "<g id=\"edge2\" class=\"edge\">\n",
       "<title>139902060387488-&gt;139902060381280</title>\n",
       "<path fill=\"none\" stroke=\"#000000\" d=\"M217,-249.3799C217,-241.1745 217,-231.7679 217,-222.8786\"/>\n",
       "<polygon fill=\"#000000\" stroke=\"#000000\" points=\"220.5001,-222.784 217,-212.784 213.5001,-222.784 220.5001,-222.784\"/>\n",
       "</g>\n",
       "<!-- 139903600962720 -->\n",
       "<g id=\"node4\" class=\"node\">\n",
       "<title>139903600962720</title>\n",
       "<polygon fill=\"none\" stroke=\"#000000\" points=\"97,-83.5 97,-129.5 337,-129.5 337,-83.5 97,-83.5\"/>\n",
       "<text text-anchor=\"middle\" x=\"148\" y=\"-102.8\" font-family=\"Times,serif\" font-size=\"14.00\" fill=\"#000000\">dense_1: Dense</text>\n",
       "<polyline fill=\"none\" stroke=\"#000000\" points=\"199,-83.5 199,-129.5 \"/>\n",
       "<text text-anchor=\"middle\" x=\"226.5\" y=\"-114.3\" font-family=\"Times,serif\" font-size=\"14.00\" fill=\"#000000\">input:</text>\n",
       "<polyline fill=\"none\" stroke=\"#000000\" points=\"199,-106.5 254,-106.5 \"/>\n",
       "<text text-anchor=\"middle\" x=\"226.5\" y=\"-91.3\" font-family=\"Times,serif\" font-size=\"14.00\" fill=\"#000000\">output:</text>\n",
       "<polyline fill=\"none\" stroke=\"#000000\" points=\"254,-83.5 254,-129.5 \"/>\n",
       "<text text-anchor=\"middle\" x=\"295.5\" y=\"-114.3\" font-family=\"Times,serif\" font-size=\"14.00\" fill=\"#000000\">(None, 200)</text>\n",
       "<polyline fill=\"none\" stroke=\"#000000\" points=\"254,-106.5 337,-106.5 \"/>\n",
       "<text text-anchor=\"middle\" x=\"295.5\" y=\"-91.3\" font-family=\"Times,serif\" font-size=\"14.00\" fill=\"#000000\">(None, 64)</text>\n",
       "</g>\n",
       "<!-- 139902060381280&#45;&gt;139903600962720 -->\n",
       "<g id=\"edge3\" class=\"edge\">\n",
       "<title>139902060381280-&gt;139903600962720</title>\n",
       "<path fill=\"none\" stroke=\"#000000\" d=\"M217,-166.3799C217,-158.1745 217,-148.7679 217,-139.8786\"/>\n",
       "<polygon fill=\"#000000\" stroke=\"#000000\" points=\"220.5001,-139.784 217,-129.784 213.5001,-139.784 220.5001,-139.784\"/>\n",
       "</g>\n",
       "<!-- 139902060383536 -->\n",
       "<g id=\"node5\" class=\"node\">\n",
       "<title>139902060383536</title>\n",
       "<polygon fill=\"none\" stroke=\"#000000\" points=\"97,-.5 97,-46.5 337,-46.5 337,-.5 97,-.5\"/>\n",
       "<text text-anchor=\"middle\" x=\"148\" y=\"-19.8\" font-family=\"Times,serif\" font-size=\"14.00\" fill=\"#000000\">dense_2: Dense</text>\n",
       "<polyline fill=\"none\" stroke=\"#000000\" points=\"199,-.5 199,-46.5 \"/>\n",
       "<text text-anchor=\"middle\" x=\"226.5\" y=\"-31.3\" font-family=\"Times,serif\" font-size=\"14.00\" fill=\"#000000\">input:</text>\n",
       "<polyline fill=\"none\" stroke=\"#000000\" points=\"199,-23.5 254,-23.5 \"/>\n",
       "<text text-anchor=\"middle\" x=\"226.5\" y=\"-8.3\" font-family=\"Times,serif\" font-size=\"14.00\" fill=\"#000000\">output:</text>\n",
       "<polyline fill=\"none\" stroke=\"#000000\" points=\"254,-.5 254,-46.5 \"/>\n",
       "<text text-anchor=\"middle\" x=\"295.5\" y=\"-31.3\" font-family=\"Times,serif\" font-size=\"14.00\" fill=\"#000000\">(None, 64)</text>\n",
       "<polyline fill=\"none\" stroke=\"#000000\" points=\"254,-23.5 337,-23.5 \"/>\n",
       "<text text-anchor=\"middle\" x=\"295.5\" y=\"-8.3\" font-family=\"Times,serif\" font-size=\"14.00\" fill=\"#000000\">(None, 195)</text>\n",
       "</g>\n",
       "<!-- 139903600962720&#45;&gt;139902060383536 -->\n",
       "<g id=\"edge4\" class=\"edge\">\n",
       "<title>139903600962720-&gt;139902060383536</title>\n",
       "<path fill=\"none\" stroke=\"#000000\" d=\"M217,-83.3799C217,-75.1745 217,-65.7679 217,-56.8786\"/>\n",
       "<polygon fill=\"#000000\" stroke=\"#000000\" points=\"220.5001,-56.784 217,-46.784 213.5001,-56.784 220.5001,-56.784\"/>\n",
       "</g>\n",
       "</g>\n",
       "</svg>"
      ],
      "text/plain": [
       "<IPython.core.display.SVG object>"
      ]
     },
     "execution_count": 32,
     "metadata": {},
     "output_type": "execute_result"
    }
   ],
   "source": [
    "SVG(model_to_dot(nn_model, show_shapes=True, dpi=70).create(prog='dot', format='svg'))"
   ]
  },
  {
   "cell_type": "markdown",
   "metadata": {},
   "source": [
    "### Train the model"
   ]
  },
  {
   "cell_type": "code",
   "execution_count": 33,
   "metadata": {
    "ExecuteTime": {
     "end_time": "2020-11-13T11:23:15.937363Z",
     "start_time": "2020-11-13T11:23:15.934023Z"
    }
   },
   "outputs": [],
   "source": [
    "import time"
   ]
  },
  {
   "cell_type": "code",
   "execution_count": 34,
   "metadata": {
    "ExecuteTime": {
     "end_time": "2020-11-13T11:25:14.319602Z",
     "start_time": "2020-11-13T11:23:15.942827Z"
    }
   },
   "outputs": [
    {
     "name": "stderr",
     "output_type": "stream",
     "text": [
      "/home/nvidia/anaconda3/envs/testenv/lib/python3.8/site-packages/tensorflow/python/framework/indexed_slices.py:433: UserWarning: Converting sparse IndexedSlices to a dense Tensor of unknown shape. This may consume a large amount of memory.\n",
      "  warnings.warn(\n"
     ]
    },
    {
     "name": "stdout",
     "output_type": "stream",
     "text": [
      "Train on 2371 samples, validate on 264 samples\n",
      "Epoch 1/10\n",
      "2371/2371 [==============================] - 13s 5ms/step - loss: 4.5487 - accuracy: 0.1940 - val_loss: 3.1503 - val_accuracy: 0.4015\n",
      "Epoch 2/10\n",
      "2371/2371 [==============================] - 12s 5ms/step - loss: 1.8345 - accuracy: 0.6790 - val_loss: 1.0669 - val_accuracy: 0.7879\n",
      "Epoch 3/10\n",
      "2371/2371 [==============================] - 11s 5ms/step - loss: 0.5784 - accuracy: 0.9156 - val_loss: 0.4520 - val_accuracy: 0.9356\n",
      "Epoch 4/10\n",
      "2371/2371 [==============================] - 12s 5ms/step - loss: 0.2107 - accuracy: 0.9810 - val_loss: 0.2552 - val_accuracy: 0.9432\n",
      "Epoch 5/10\n",
      "2371/2371 [==============================] - 11s 5ms/step - loss: 0.1023 - accuracy: 0.9903 - val_loss: 0.1748 - val_accuracy: 0.9621\n",
      "Epoch 6/10\n",
      "2371/2371 [==============================] - 12s 5ms/step - loss: 0.0505 - accuracy: 0.9954 - val_loss: 0.1421 - val_accuracy: 0.9735\n",
      "Epoch 7/10\n",
      "2371/2371 [==============================] - 11s 5ms/step - loss: 0.0296 - accuracy: 0.9987 - val_loss: 0.1220 - val_accuracy: 0.9697\n",
      "Epoch 8/10\n",
      "2371/2371 [==============================] - 11s 5ms/step - loss: 0.0188 - accuracy: 0.9992 - val_loss: 0.1047 - val_accuracy: 0.9697\n",
      "Epoch 9/10\n",
      "2371/2371 [==============================] - 12s 5ms/step - loss: 0.0134 - accuracy: 0.9996 - val_loss: 0.1039 - val_accuracy: 0.9735\n",
      "Epoch 10/10\n",
      "2371/2371 [==============================] - 12s 5ms/step - loss: 0.0109 - accuracy: 1.0000 - val_loss: 0.0954 - val_accuracy: 0.9735\n",
      "Elapsed time (learning): 00:01:58\n"
     ]
    }
   ],
   "source": [
    "start_time = time.time()\n",
    "\n",
    "history = nn_model.fit(train_padded_sequences, \n",
    "                       train_labels, \n",
    "                       validation_split=0.1, \n",
    "                       epochs=10)\n",
    "\n",
    "elapsed_time = time.time() - start_time\n",
    "t = time.strftime(\"%H:%M:%S\", time.gmtime(elapsed_time))\n",
    "print('Elapsed time (learning):', t)"
   ]
  },
  {
   "cell_type": "markdown",
   "metadata": {},
   "source": [
    "### Plot loss and accuracy"
   ]
  },
  {
   "cell_type": "code",
   "execution_count": 35,
   "metadata": {
    "ExecuteTime": {
     "end_time": "2020-11-13T11:25:14.328201Z",
     "start_time": "2020-11-13T11:25:14.322960Z"
    }
   },
   "outputs": [],
   "source": [
    "history_dict = history.history\n",
    "\n",
    "acc = history_dict['accuracy']\n",
    "val_acc = history_dict['val_accuracy']\n",
    "loss = history_dict['loss']\n",
    "val_loss = history_dict['val_loss']\n",
    "\n",
    "epochs = range(1, len(acc) + 1)"
   ]
  },
  {
   "cell_type": "code",
   "execution_count": 36,
   "metadata": {
    "ExecuteTime": {
     "end_time": "2020-11-13T11:25:14.333252Z",
     "start_time": "2020-11-13T11:25:14.330251Z"
    }
   },
   "outputs": [],
   "source": [
    "import matplotlib.pyplot as plt"
   ]
  },
  {
   "cell_type": "code",
   "execution_count": 37,
   "metadata": {
    "ExecuteTime": {
     "end_time": "2020-11-13T11:25:14.615212Z",
     "start_time": "2020-11-13T11:25:14.335272Z"
    }
   },
   "outputs": [
    {
     "data": {
      "image/png": "[encoded data removed]",
      "text/plain": [
       "<Figure size 576x576 with 1 Axes>"
      ]
     },
     "metadata": {
      "image/png": {
       "height": 494,
       "width": 487
      },
      "needs_background": "light"
     },
     "output_type": "display_data"
    }
   ],
   "source": [
    "plt.figure(figsize=(8,8))\n",
    "plt.plot(epochs, loss, 'b', label='Training loss')\n",
    "plt.plot(epochs, val_loss, 'g', label='Validation loss')\n",
    "plt.title('Training and validation loss')\n",
    "plt.xlabel('Epochs')\n",
    "plt.ylabel('Loss')\n",
    "plt.legend()\n",
    "plt.show()"
   ]
  },
  {
   "cell_type": "code",
   "execution_count": 38,
   "metadata": {
    "ExecuteTime": {
     "end_time": "2020-11-13T11:25:14.891012Z",
     "start_time": "2020-11-13T11:25:14.616784Z"
    }
   },
   "outputs": [
    {
     "data": {
      "image/png": "[encoded data removed]",
      "text/plain": [
       "<Figure size 576x576 with 1 Axes>"
      ]
     },
     "metadata": {
      "image/png": {
       "height": 494,
       "width": 497
      },
      "needs_background": "light"
     },
     "output_type": "display_data"
    }
   ],
   "source": [
    "plt.figure(figsize=(8,8))\n",
    "plt.plot(epochs, acc, 'b', label='Training acc')\n",
    "plt.plot(epochs, val_acc, 'g', label='Validation acc')\n",
    "plt.title('Training and validation accuracy')\n",
    "plt.xlabel('Epochs')\n",
    "plt.ylabel('Accuracy')\n",
    "plt.legend()\n",
    "plt.show()"
   ]
  },
  {
   "cell_type": "markdown",
   "metadata": {},
   "source": [
    "---"
   ]
  },
  {
   "cell_type": "markdown",
   "metadata": {},
   "source": [
    "## Evaluate the model"
   ]
  },
  {
   "cell_type": "markdown",
   "metadata": {},
   "source": [
    "### Compute f-score on the test set"
   ]
  },
  {
   "cell_type": "code",
   "execution_count": 39,
   "metadata": {
    "ExecuteTime": {
     "end_time": "2020-11-13T11:25:14.903486Z",
     "start_time": "2020-11-13T11:25:14.892514Z"
    }
   },
   "outputs": [],
   "source": [
    "test_sequences = [doc_tokens_to_sequence(corpus.get_tokens(doc_id), word_to_idx_map) for doc_id in test_doc_ids]\n",
    "test_padded_sequences = pad_sequences(test_sequences, maxlen=max_doc_len)"
   ]
  },
  {
   "cell_type": "code",
   "execution_count": 40,
   "metadata": {
    "ExecuteTime": {
     "end_time": "2020-11-13T11:25:16.111614Z",
     "start_time": "2020-11-13T11:25:14.904822Z"
    }
   },
   "outputs": [],
   "source": [
    "test_pred = nn_model.predict(test_padded_sequences)"
   ]
  },
  {
   "cell_type": "code",
   "execution_count": 41,
   "metadata": {
    "ExecuteTime": {
     "end_time": "2020-11-13T11:25:16.117054Z",
     "start_time": "2020-11-13T11:25:16.113998Z"
    }
   },
   "outputs": [],
   "source": [
    "# round to nearest integer\n",
    "test_pred = np.rint(test_pred)"
   ]
  },
  {
   "cell_type": "code",
   "execution_count": 42,
   "metadata": {
    "ExecuteTime": {
     "end_time": "2020-11-13T11:25:16.126487Z",
     "start_time": "2020-11-13T11:25:16.119235Z"
    }
   },
   "outputs": [
    {
     "data": {
      "text/plain": [
       "array([0., 0., 0., 0., 0., 0., 0., 0., 0., 0., 0., 0., 0., 0., 0., 0., 0.,\n",
       "       0., 0., 0., 0., 0., 0., 0., 0., 0., 0., 0., 0., 0., 0., 0., 0., 0.,\n",
       "       0., 0., 0., 0., 0., 0., 0., 0., 0., 0., 0., 0., 0., 0., 0., 0., 0.,\n",
       "       0., 0., 0., 0., 0., 0., 0., 0., 0., 0., 0., 0., 0., 0., 0., 0., 0.,\n",
       "       0., 0., 0., 0., 0., 0., 0., 0., 0., 0., 0., 0., 0., 0., 0., 0., 0.,\n",
       "       0., 0., 0., 0., 0., 0., 0., 0., 0., 0., 0., 0., 0., 0., 0., 0., 0.,\n",
       "       0., 0., 0., 0., 0., 0., 0., 0., 0., 0., 0., 0., 0., 0., 0., 0., 0.,\n",
       "       0., 0., 0., 0., 0., 0., 0., 0., 0., 0., 0., 0., 0., 0., 0., 0., 0.,\n",
       "       0., 0., 0., 0., 0., 0., 0., 0., 0., 0., 0., 0., 0., 0., 0., 0., 0.,\n",
       "       0., 0., 0., 0., 0., 0., 0., 0., 0., 0., 0., 0., 0., 0., 0., 0., 0.,\n",
       "       0., 0., 0., 0., 0., 0., 1., 0., 0., 0., 0., 0., 0., 0., 0., 0., 0.,\n",
       "       0., 0., 0., 0., 0., 0., 0., 0.], dtype=float32)"
      ]
     },
     "execution_count": 42,
     "metadata": {},
     "output_type": "execute_result"
    }
   ],
   "source": [
    "test_pred[0]"
   ]
  },
  {
   "cell_type": "code",
   "execution_count": 43,
   "metadata": {
    "ExecuteTime": {
     "end_time": "2020-11-13T11:25:16.131529Z",
     "start_time": "2020-11-13T11:25:16.128470Z"
    }
   },
   "outputs": [],
   "source": [
    "from sklearn.metrics import classification_report"
   ]
  },
  {
   "cell_type": "code",
   "execution_count": 44,
   "metadata": {
    "ExecuteTime": {
     "end_time": "2020-11-13T11:25:16.173020Z",
     "start_time": "2020-11-13T11:25:16.133665Z"
    }
   },
   "outputs": [
    {
     "name": "stdout",
     "output_type": "stream",
     "text": [
      "              precision    recall  f1-score   support\n",
      "\n",
      "           0       1.00      1.00      1.00         1\n",
      "           1       0.00      0.00      0.00         0\n",
      "           2       0.00      0.00      0.00         0\n",
      "           3       0.00      0.00      0.00         0\n",
      "           4       1.00      1.00      1.00         7\n",
      "           5       1.00      1.00      1.00         3\n",
      "           6       1.00      1.00      1.00         2\n",
      "           7       1.00      1.00      1.00         5\n",
      "           8       1.00      1.00      1.00         2\n",
      "           9       1.00      1.00      1.00         8\n",
      "          10       1.00      1.00      1.00         7\n",
      "          11       1.00      1.00      1.00         2\n",
      "          12       1.00      1.00      1.00         4\n",
      "          13       0.67      1.00      0.80         2\n",
      "          14       1.00      1.00      1.00         4\n",
      "          15       0.00      0.00      0.00         0\n",
      "          16       1.00      1.00      1.00         2\n",
      "          17       1.00      1.00      1.00         8\n",
      "          18       1.00      1.00      1.00         1\n",
      "          19       1.00      1.00      1.00         1\n",
      "          20       1.00      1.00      1.00         2\n",
      "          21       1.00      1.00      1.00         6\n",
      "          22       1.00      1.00      1.00         1\n",
      "          23       1.00      1.00      1.00         2\n",
      "          24       1.00      1.00      1.00         3\n",
      "          25       1.00      1.00      1.00         8\n",
      "          26       1.00      1.00      1.00         3\n",
      "          27       0.00      0.00      0.00         0\n",
      "          28       1.00      1.00      1.00         4\n",
      "          29       1.00      1.00      1.00         5\n",
      "          30       1.00      1.00      1.00         3\n",
      "          31       1.00      1.00      1.00         6\n",
      "          32       1.00      1.00      1.00         1\n",
      "          33       1.00      1.00      1.00         9\n",
      "          34       1.00      1.00      1.00         7\n",
      "          35       1.00      1.00      1.00         5\n",
      "          36       1.00      1.00      1.00         3\n",
      "          37       1.00      0.67      0.80         3\n",
      "          38       1.00      1.00      1.00         5\n",
      "          39       1.00      1.00      1.00         2\n",
      "          40       1.00      1.00      1.00         2\n",
      "          41       1.00      1.00      1.00         1\n",
      "          42       1.00      1.00      1.00         2\n",
      "          43       1.00      1.00      1.00         4\n",
      "          44       0.00      0.00      0.00         1\n",
      "          45       0.75      1.00      0.86         3\n",
      "          46       1.00      1.00      1.00         4\n",
      "          47       1.00      1.00      1.00         1\n",
      "          48       0.00      0.00      0.00         0\n",
      "          49       0.00      0.00      0.00         2\n",
      "          50       1.00      1.00      1.00         3\n",
      "          51       1.00      1.00      1.00         4\n",
      "          52       1.00      1.00      1.00         4\n",
      "          53       1.00      1.00      1.00         6\n",
      "          54       0.00      0.00      0.00         0\n",
      "          55       1.00      1.00      1.00         5\n",
      "          56       1.00      1.00      1.00         3\n",
      "          57       1.00      1.00      1.00         2\n",
      "          58       1.00      1.00      1.00         1\n",
      "          59       1.00      1.00      1.00         4\n",
      "          60       1.00      1.00      1.00         5\n",
      "          61       1.00      1.00      1.00         7\n",
      "          62       1.00      1.00      1.00         1\n",
      "          63       1.00      1.00      1.00         1\n",
      "          64       1.00      0.50      0.67         4\n",
      "          65       1.00      1.00      1.00         1\n",
      "          66       1.00      1.00      1.00         2\n",
      "          67       1.00      1.00      1.00         1\n",
      "          68       1.00      1.00      1.00         4\n",
      "          69       1.00      1.00      1.00         1\n",
      "          70       1.00      1.00      1.00         3\n",
      "          71       1.00      1.00      1.00         8\n",
      "          72       1.00      1.00      1.00         1\n",
      "          73       1.00      1.00      1.00         3\n",
      "          74       1.00      1.00      1.00         2\n",
      "          75       1.00      1.00      1.00         1\n",
      "          76       1.00      1.00      1.00         3\n",
      "          77       0.00      0.00      0.00         2\n",
      "          78       1.00      1.00      1.00         6\n",
      "          79       1.00      1.00      1.00         4\n",
      "          80       1.00      1.00      1.00         5\n",
      "          81       1.00      1.00      1.00         3\n",
      "          82       1.00      1.00      1.00         7\n",
      "          83       1.00      0.50      0.67         2\n",
      "          84       1.00      1.00      1.00         5\n",
      "          85       1.00      1.00      1.00         2\n",
      "          86       1.00      1.00      1.00         3\n",
      "          87       1.00      1.00      1.00         3\n",
      "          88       1.00      1.00      1.00         5\n",
      "          89       1.00      1.00      1.00         3\n",
      "          90       1.00      1.00      1.00         2\n",
      "          91       1.00      1.00      1.00         6\n",
      "          92       1.00      1.00      1.00         6\n",
      "          93       0.00      0.00      0.00         0\n",
      "          94       1.00      1.00      1.00        10\n",
      "          95       1.00      1.00      1.00         6\n",
      "          96       1.00      1.00      1.00         1\n",
      "          97       1.00      1.00      1.00         4\n",
      "          98       0.00      0.00      0.00         4\n",
      "          99       1.00      1.00      1.00         2\n",
      "         100       1.00      1.00      1.00         2\n",
      "         101       1.00      0.67      0.80         3\n",
      "         102       1.00      1.00      1.00         5\n",
      "         103       1.00      1.00      1.00         1\n",
      "         104       1.00      1.00      1.00         3\n",
      "         105       1.00      1.00      1.00         2\n",
      "         106       0.67      1.00      0.80         2\n",
      "         107       1.00      1.00      1.00         4\n",
      "         108       1.00      1.00      1.00         1\n",
      "         109       0.00      0.00      0.00         1\n",
      "         110       1.00      1.00      1.00         3\n",
      "         111       1.00      1.00      1.00         2\n",
      "         112       1.00      1.00      1.00         4\n",
      "         113       1.00      1.00      1.00         5\n",
      "         114       1.00      1.00      1.00         5\n",
      "         115       1.00      1.00      1.00         3\n",
      "         116       1.00      1.00      1.00         6\n",
      "         117       0.50      1.00      0.67         1\n",
      "         118       1.00      1.00      1.00         3\n",
      "         119       1.00      1.00      1.00         4\n",
      "         120       1.00      1.00      1.00         6\n",
      "         121       1.00      1.00      1.00         6\n",
      "         122       1.00      1.00      1.00         1\n",
      "         123       1.00      1.00      1.00         1\n",
      "         124       1.00      1.00      1.00         5\n",
      "         125       1.00      1.00      1.00         2\n",
      "         126       1.00      1.00      1.00         5\n",
      "         127       1.00      0.86      0.92         7\n",
      "         128       1.00      1.00      1.00         8\n",
      "         129       1.00      1.00      1.00         2\n",
      "         130       1.00      1.00      1.00         1\n",
      "         131       1.00      1.00      1.00         2\n",
      "         132       1.00      1.00      1.00         4\n",
      "         133       1.00      0.75      0.86         4\n",
      "         134       1.00      1.00      1.00         2\n",
      "         135       1.00      1.00      1.00         3\n",
      "         136       1.00      1.00      1.00         3\n",
      "         137       1.00      1.00      1.00         5\n",
      "         138       1.00      0.88      0.93         8\n",
      "         139       1.00      1.00      1.00         3\n",
      "         140       1.00      1.00      1.00         6\n",
      "         141       1.00      1.00      1.00         2\n",
      "         142       1.00      1.00      1.00         1\n",
      "         143       1.00      1.00      1.00         2\n",
      "         144       1.00      1.00      1.00         5\n",
      "         145       1.00      1.00      1.00         3\n",
      "         146       1.00      1.00      1.00         5\n",
      "         147       1.00      1.00      1.00         3\n",
      "         148       1.00      1.00      1.00         3\n",
      "         149       1.00      1.00      1.00         4\n",
      "         150       1.00      1.00      1.00         4\n",
      "         151       1.00      1.00      1.00         4\n",
      "         152       1.00      1.00      1.00         4\n",
      "         153       1.00      1.00      1.00         2\n",
      "         154       1.00      1.00      1.00         3\n",
      "         155       1.00      1.00      1.00         4\n",
      "         156       0.00      0.00      0.00         0\n",
      "         157       1.00      1.00      1.00         1\n",
      "         158       1.00      1.00      1.00        12\n",
      "         159       1.00      1.00      1.00         6\n",
      "         160       1.00      1.00      1.00         8\n",
      "         161       1.00      0.60      0.75         5\n",
      "         162       0.86      1.00      0.92         6\n",
      "         163       1.00      1.00      1.00         1\n",
      "         164       1.00      1.00      1.00         5\n",
      "         165       1.00      1.00      1.00         2\n",
      "         166       1.00      1.00      1.00         3\n",
      "         167       1.00      1.00      1.00         5\n",
      "         168       0.00      0.00      0.00         0\n",
      "         169       1.00      1.00      1.00         1\n",
      "         170       1.00      1.00      1.00         5\n",
      "         171       1.00      1.00      1.00         1\n",
      "         172       1.00      1.00      1.00         3\n",
      "         173       1.00      1.00      1.00         2\n",
      "         174       1.00      1.00      1.00         3\n",
      "         175       1.00      1.00      1.00         5\n",
      "         176       1.00      1.00      1.00         2\n",
      "         177       1.00      1.00      1.00         2\n",
      "         178       1.00      0.71      0.83         7\n",
      "         179       1.00      1.00      1.00         3\n",
      "         180       1.00      1.00      1.00         6\n",
      "         181       1.00      1.00      1.00         8\n",
      "         182       1.00      0.50      0.67         2\n",
      "         183       1.00      1.00      1.00         4\n",
      "         184       1.00      1.00      1.00         2\n",
      "         185       1.00      1.00      1.00         3\n",
      "         186       1.00      1.00      1.00         4\n",
      "         187       1.00      1.00      1.00         5\n",
      "         188       1.00      1.00      1.00         1\n",
      "         189       1.00      1.00      1.00         6\n",
      "         190       1.00      1.00      1.00         2\n",
      "         191       1.00      1.00      1.00         3\n",
      "         192       1.00      1.00      1.00         1\n",
      "         193       0.00      0.00      0.00         0\n",
      "         194       1.00      1.00      1.00         3\n",
      "\n",
      "   micro avg       0.99      0.97      0.98       659\n",
      "   macro avg       0.91      0.90      0.90       659\n",
      "weighted avg       0.98      0.97      0.97       659\n",
      " samples avg       0.97      0.97      0.97       659\n",
      "\n"
     ]
    },
    {
     "name": "stderr",
     "output_type": "stream",
     "text": [
      "/home/nvidia/anaconda3/envs/testenv/lib/python3.8/site-packages/sklearn/metrics/_classification.py:1272: UndefinedMetricWarning: Precision and F-score are ill-defined and being set to 0.0 in labels with no predicted samples. Use `zero_division` parameter to control this behavior.\n",
      "  _warn_prf(average, modifier, msg_start, len(result))\n",
      "/home/nvidia/anaconda3/envs/testenv/lib/python3.8/site-packages/sklearn/metrics/_classification.py:1272: UndefinedMetricWarning: Recall and F-score are ill-defined and being set to 0.0 in labels with no true samples. Use `zero_division` parameter to control this behavior.\n",
      "  _warn_prf(average, modifier, msg_start, len(result))\n",
      "/home/nvidia/anaconda3/envs/testenv/lib/python3.8/site-packages/sklearn/metrics/_classification.py:1272: UndefinedMetricWarning: Precision and F-score are ill-defined and being set to 0.0 in samples with no predicted labels. Use `zero_division` parameter to control this behavior.\n",
      "  _warn_prf(average, modifier, msg_start, len(result))\n"
     ]
    }
   ],
   "source": [
    "print(classification_report(test_labels, test_pred))"
   ]
  },
  {
   "cell_type": "markdown",
   "metadata": {},
   "source": [
    "## Save model to a file"
   ]
  },
  {
   "cell_type": "code",
   "execution_count": 45,
   "metadata": {
    "ExecuteTime": {
     "end_time": "2020-11-13T11:25:16.178074Z",
     "start_time": "2020-11-13T11:25:16.174879Z"
    }
   },
   "outputs": [],
   "source": [
    "nn_filename = f'wikidata_nn_model_{version}.h5'\n",
    "nn_filepath = os.path.join(root_dir, models_dir, nn_filename)"
   ]
  },
  {
   "cell_type": "code",
   "execution_count": 46,
   "metadata": {
    "ExecuteTime": {
     "end_time": "2020-11-13T11:25:16.234807Z",
     "start_time": "2020-11-13T11:25:16.179999Z"
    }
   },
   "outputs": [],
   "source": [
    "nn_model.save(nn_filepath)"
   ]
  },
  {
   "cell_type": "markdown",
   "metadata": {},
   "source": [
    "---"
   ]
  },
  {
   "cell_type": "markdown",
   "metadata": {},
   "source": [
    "## Save `word_to_index_map` to a file"
   ]
  },
  {
   "cell_type": "code",
   "execution_count": 47,
   "metadata": {
    "ExecuteTime": {
     "end_time": "2020-11-13T11:25:16.239100Z",
     "start_time": "2020-11-13T11:25:16.236563Z"
    }
   },
   "outputs": [],
   "source": [
    "import pandas as pd"
   ]
  },
  {
   "cell_type": "code",
   "execution_count": 48,
   "metadata": {
    "ExecuteTime": {
     "end_time": "2020-11-13T11:25:16.251379Z",
     "start_time": "2020-11-13T11:25:16.240903Z"
    }
   },
   "outputs": [],
   "source": [
    "word_to_index_df = pd.DataFrame(word_to_idx_map.items(), columns=['term', 'index'])"
   ]
  },
  {
   "cell_type": "code",
   "execution_count": 49,
   "metadata": {
    "ExecuteTime": {
     "end_time": "2020-11-13T11:25:16.262936Z",
     "start_time": "2020-11-13T11:25:16.252919Z"
    }
   },
   "outputs": [
    {
     "data": {
      "text/html": [
       "<div>\n",
       "<style scoped>\n",
       "    .dataframe tbody tr th:only-of-type {\n",
       "        vertical-align: middle;\n",
       "    }\n",
       "\n",
       "    .dataframe tbody tr th {\n",
       "        vertical-align: top;\n",
       "    }\n",
       "\n",
       "    .dataframe thead th {\n",
       "        text-align: right;\n",
       "    }\n",
       "</style>\n",
       "<table border=\"1\" class=\"dataframe\">\n",
       "  <thead>\n",
       "    <tr style=\"text-align: right;\">\n",
       "      <th></th>\n",
       "      <th>term</th>\n",
       "      <th>index</th>\n",
       "    </tr>\n",
       "  </thead>\n",
       "  <tbody>\n",
       "    <tr>\n",
       "      <th>0</th>\n",
       "      <td>+21</td>\n",
       "      <td>1</td>\n",
       "    </tr>\n",
       "    <tr>\n",
       "      <th>1</th>\n",
       "      <td>+4</td>\n",
       "      <td>2</td>\n",
       "    </tr>\n",
       "    <tr>\n",
       "      <th>2</th>\n",
       "      <td>+5</td>\n",
       "      <td>3</td>\n",
       "    </tr>\n",
       "    <tr>\n",
       "      <th>3</th>\n",
       "      <td>...</td>\n",
       "      <td>4</td>\n",
       "    </tr>\n",
       "    <tr>\n",
       "      <th>4</th>\n",
       "      <td>/maari/</td>\n",
       "      <td>5</td>\n",
       "    </tr>\n",
       "  </tbody>\n",
       "</table>\n",
       "</div>"
      ],
      "text/plain": [
       "      term  index\n",
       "0      +21      1\n",
       "1       +4      2\n",
       "2       +5      3\n",
       "3      ...      4\n",
       "4  /maari/      5"
      ]
     },
     "execution_count": 49,
     "metadata": {},
     "output_type": "execute_result"
    }
   ],
   "source": [
    "word_to_index_df.head()"
   ]
  },
  {
   "cell_type": "code",
   "execution_count": 50,
   "metadata": {
    "ExecuteTime": {
     "end_time": "2020-11-13T11:25:16.268321Z",
     "start_time": "2020-11-13T11:25:16.264548Z"
    }
   },
   "outputs": [
    {
     "data": {
      "text/plain": [
       "(4115, 2)"
      ]
     },
     "execution_count": 50,
     "metadata": {},
     "output_type": "execute_result"
    }
   ],
   "source": [
    "word_to_index_df.shape"
   ]
  },
  {
   "cell_type": "code",
   "execution_count": 51,
   "metadata": {
    "ExecuteTime": {
     "end_time": "2020-11-13T11:25:16.272574Z",
     "start_time": "2020-11-13T11:25:16.269864Z"
    }
   },
   "outputs": [],
   "source": [
    "index_filename = f'wikidata_nn_word_index_{version}.csv'\n",
    "index_filepath = os.path.join(root_dir, models_dir, index_filename)"
   ]
  },
  {
   "cell_type": "code",
   "execution_count": 52,
   "metadata": {
    "ExecuteTime": {
     "end_time": "2020-11-13T11:25:16.286115Z",
     "start_time": "2020-11-13T11:25:16.274226Z"
    }
   },
   "outputs": [],
   "source": [
    "word_to_index_df.to_csv(index_filepath, encoding='utf-8', index=False)"
   ]
  },
  {
   "cell_type": "markdown",
   "metadata": {},
   "source": [
    "---"
   ]
  }
 ],
 "metadata": {
  "kernelspec": {
   "display_name": "Python 3",
   "language": "python",
   "name": "python3"
  },
  "language_info": {
   "codemirror_mode": {
    "name": "ipython",
    "version": 3
   },
   "file_extension": ".py",
   "mimetype": "text/x-python",
   "name": "python",
   "nbconvert_exporter": "python",
   "pygments_lexer": "ipython3",
   "version": "3.8.1"
  },
  "toc": {
   "base_numbering": 1,
   "nav_menu": {},
   "number_sections": true,
   "sideBar": true,
   "skip_h1_title": false,
   "title_cell": "Table of Contents",
   "title_sidebar": "Contents",
   "toc_cell": false,
   "toc_position": {},
   "toc_section_display": true,
   "toc_window_display": false
  }
 },
 "nbformat": 4,
 "nbformat_minor": 4
}
