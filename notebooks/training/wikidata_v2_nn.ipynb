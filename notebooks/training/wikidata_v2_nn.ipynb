{
 "cells": [
  {
   "cell_type": "markdown",
   "metadata": {},
   "source": [
    "# Training a neural network model on the Wikidata dataset"
   ]
  },
  {
   "cell_type": "code",
   "execution_count": 1,
   "metadata": {
    "ExecuteTime": {
     "end_time": "2020-12-17T20:09:48.022848Z",
     "start_time": "2020-12-17T20:09:47.688140Z"
    }
   },
   "outputs": [],
   "source": [
    "%matplotlib inline\n",
    "%config InlineBackend.figure_format = 'retina'"
   ]
  },
  {
   "cell_type": "markdown",
   "metadata": {},
   "source": [
    "---"
   ]
  },
  {
   "cell_type": "markdown",
   "metadata": {},
   "source": [
    "## Load the data"
   ]
  },
  {
   "cell_type": "code",
   "execution_count": 2,
   "metadata": {
    "ExecuteTime": {
     "end_time": "2020-12-17T20:09:48.027590Z",
     "start_time": "2020-12-17T20:09:48.024761Z"
    }
   },
   "outputs": [],
   "source": [
    "root_dir = '../../'\n",
    "src_dir = 'src'\n",
    "data_dir = 'data/corpus'\n",
    "models_dir = 'data/models'"
   ]
  },
  {
   "cell_type": "code",
   "execution_count": 3,
   "metadata": {
    "ExecuteTime": {
     "end_time": "2020-12-17T20:09:48.033295Z",
     "start_time": "2020-12-17T20:09:48.030410Z"
    }
   },
   "outputs": [],
   "source": [
    "version = 'v2'"
   ]
  },
  {
   "cell_type": "code",
   "execution_count": 4,
   "metadata": {
    "ExecuteTime": {
     "end_time": "2020-12-17T20:09:48.038339Z",
     "start_time": "2020-12-17T20:09:48.035646Z"
    }
   },
   "outputs": [],
   "source": [
    "import os\n",
    "import sys"
   ]
  },
  {
   "cell_type": "code",
   "execution_count": 5,
   "metadata": {
    "ExecuteTime": {
     "end_time": "2020-12-17T20:09:48.042580Z",
     "start_time": "2020-12-17T20:09:48.039883Z"
    }
   },
   "outputs": [],
   "source": [
    "sys.path.append(os.path.join(root_dir, src_dir))"
   ]
  },
  {
   "cell_type": "code",
   "execution_count": 6,
   "metadata": {
    "ExecuteTime": {
     "end_time": "2020-12-17T20:09:48.046710Z",
     "start_time": "2020-12-17T20:09:48.044271Z"
    }
   },
   "outputs": [],
   "source": [
    "corpus_filename = f'wikidata_corpus_{version}.json'"
   ]
  },
  {
   "cell_type": "code",
   "execution_count": 7,
   "metadata": {
    "ExecuteTime": {
     "end_time": "2020-12-17T20:09:48.745450Z",
     "start_time": "2020-12-17T20:09:48.048734Z"
    }
   },
   "outputs": [],
   "source": [
    "from training import TrainingCorpus"
   ]
  },
  {
   "cell_type": "code",
   "execution_count": 8,
   "metadata": {
    "ExecuteTime": {
     "end_time": "2020-12-17T20:09:48.766771Z",
     "start_time": "2020-12-17T20:09:48.747667Z"
    }
   },
   "outputs": [],
   "source": [
    "corpus = TrainingCorpus()\n",
    "corpus.load(os.path.join(root_dir, data_dir, corpus_filename))"
   ]
  },
  {
   "cell_type": "code",
   "execution_count": 9,
   "metadata": {
    "ExecuteTime": {
     "end_time": "2020-12-17T20:09:48.772362Z",
     "start_time": "2020-12-17T20:09:48.768297Z"
    }
   },
   "outputs": [
    {
     "data": {
      "text/plain": [
       "3294"
      ]
     },
     "execution_count": 9,
     "metadata": {},
     "output_type": "execute_result"
    }
   ],
   "source": [
    "corpus.size"
   ]
  },
  {
   "cell_type": "markdown",
   "metadata": {},
   "source": [
    "---"
   ]
  },
  {
   "cell_type": "markdown",
   "metadata": {},
   "source": [
    "## Load the Glove model"
   ]
  },
  {
   "cell_type": "code",
   "execution_count": 10,
   "metadata": {
    "ExecuteTime": {
     "end_time": "2020-12-17T20:09:48.854100Z",
     "start_time": "2020-12-17T20:09:48.773668Z"
    }
   },
   "outputs": [
    {
     "name": "stderr",
     "output_type": "stream",
     "text": [
      "unable to import 'smart_open.gcs', disabling that module\n"
     ]
    }
   ],
   "source": [
    "from gensim.models import KeyedVectors"
   ]
  },
  {
   "cell_type": "code",
   "execution_count": 11,
   "metadata": {
    "ExecuteTime": {
     "end_time": "2020-12-17T20:09:48.860735Z",
     "start_time": "2020-12-17T20:09:48.855393Z"
    }
   },
   "outputs": [],
   "source": [
    "glove_filename = 'glove.6B.200d.word2vec'"
   ]
  },
  {
   "cell_type": "code",
   "execution_count": 12,
   "metadata": {
    "ExecuteTime": {
     "end_time": "2020-12-17T20:10:55.678039Z",
     "start_time": "2020-12-17T20:09:48.862192Z"
    }
   },
   "outputs": [],
   "source": [
    "glove_model = KeyedVectors.load_word2vec_format(os.path.join(root_dir, models_dir, glove_filename), binary=False)"
   ]
  },
  {
   "cell_type": "markdown",
   "metadata": {},
   "source": [
    "---"
   ]
  },
  {
   "cell_type": "markdown",
   "metadata": {},
   "source": [
    "## Split the dataset into training and test set"
   ]
  },
  {
   "cell_type": "code",
   "execution_count": 13,
   "metadata": {
    "ExecuteTime": {
     "end_time": "2020-12-17T20:10:55.689794Z",
     "start_time": "2020-12-17T20:10:55.679874Z"
    }
   },
   "outputs": [],
   "source": [
    "train_doc_ids, test_doc_ids, train_labels, test_labels = corpus.get_train_test_data(test_size=0.1, random_state=3)"
   ]
  },
  {
   "cell_type": "code",
   "execution_count": 14,
   "metadata": {
    "ExecuteTime": {
     "end_time": "2020-12-17T20:10:55.695314Z",
     "start_time": "2020-12-17T20:10:55.691169Z"
    }
   },
   "outputs": [
    {
     "name": "stdout",
     "output_type": "stream",
     "text": [
      "Training set size: 2964\n",
      "Test set size: 330\n",
      "No. of labels: 195\n"
     ]
    }
   ],
   "source": [
    "n_classes = train_labels.shape[1]\n",
    "print(f'Training set size: {len(train_doc_ids)}')\n",
    "print(f'Test set size: {len(test_doc_ids)}')\n",
    "print(f'No. of labels: {n_classes}')"
   ]
  },
  {
   "cell_type": "markdown",
   "metadata": {},
   "source": [
    "---"
   ]
  },
  {
   "cell_type": "markdown",
   "metadata": {},
   "source": [
    "## Build the embedding matrix"
   ]
  },
  {
   "cell_type": "markdown",
   "metadata": {},
   "source": [
    "### Define the vocabulary"
   ]
  },
  {
   "cell_type": "code",
   "execution_count": 15,
   "metadata": {
    "ExecuteTime": {
     "end_time": "2020-12-17T20:10:55.705356Z",
     "start_time": "2020-12-17T20:10:55.696736Z"
    }
   },
   "outputs": [],
   "source": [
    "docs_tokens = [corpus.get_tokens(doc_id) for doc_id in train_doc_ids]\n",
    "vocab = sorted({token for tokens in docs_tokens for token in tokens})"
   ]
  },
  {
   "cell_type": "code",
   "execution_count": 16,
   "metadata": {
    "ExecuteTime": {
     "end_time": "2020-12-17T20:10:55.710497Z",
     "start_time": "2020-12-17T20:10:55.706982Z"
    }
   },
   "outputs": [
    {
     "data": {
      "text/plain": [
       "['+21', '+4', '+5', '...', '/maari/']"
      ]
     },
     "execution_count": 16,
     "metadata": {},
     "output_type": "execute_result"
    }
   ],
   "source": [
    "vocab[:5]"
   ]
  },
  {
   "cell_type": "code",
   "execution_count": 17,
   "metadata": {
    "ExecuteTime": {
     "end_time": "2020-12-17T20:10:55.714954Z",
     "start_time": "2020-12-17T20:10:55.711946Z"
    }
   },
   "outputs": [
    {
     "name": "stdout",
     "output_type": "stream",
     "text": [
      "There are 4270 unique words in the training set\n"
     ]
    }
   ],
   "source": [
    "print(f'There are {len(vocab)} unique words in the training set')"
   ]
  },
  {
   "cell_type": "markdown",
   "metadata": {},
   "source": [
    "### Encode vocabulary terms as integers"
   ]
  },
  {
   "cell_type": "code",
   "execution_count": 18,
   "metadata": {
    "ExecuteTime": {
     "end_time": "2020-12-17T20:10:55.719906Z",
     "start_time": "2020-12-17T20:10:55.716577Z"
    }
   },
   "outputs": [],
   "source": [
    "# +1 as index 0 is reserved\n",
    "word_to_idx_map = {word:idx+1 for idx, word in enumerate(vocab)}"
   ]
  },
  {
   "cell_type": "markdown",
   "metadata": {},
   "source": [
    "### Define the embedding matrix"
   ]
  },
  {
   "cell_type": "code",
   "execution_count": 19,
   "metadata": {
    "ExecuteTime": {
     "end_time": "2020-12-17T20:10:55.723932Z",
     "start_time": "2020-12-17T20:10:55.721640Z"
    }
   },
   "outputs": [],
   "source": [
    "import numpy as np"
   ]
  },
  {
   "cell_type": "code",
   "execution_count": 20,
   "metadata": {
    "ExecuteTime": {
     "end_time": "2020-12-17T20:10:55.728587Z",
     "start_time": "2020-12-17T20:10:55.725506Z"
    }
   },
   "outputs": [
    {
     "data": {
      "text/plain": [
       "200"
      ]
     },
     "execution_count": 20,
     "metadata": {},
     "output_type": "execute_result"
    }
   ],
   "source": [
    "embedding_size = glove_model.vector_size\n",
    "embedding_size"
   ]
  },
  {
   "cell_type": "code",
   "execution_count": 21,
   "metadata": {
    "ExecuteTime": {
     "end_time": "2020-12-17T20:10:55.733974Z",
     "start_time": "2020-12-17T20:10:55.730086Z"
    }
   },
   "outputs": [
    {
     "data": {
      "text/plain": [
       "(4271, 200)"
      ]
     },
     "execution_count": 21,
     "metadata": {},
     "output_type": "execute_result"
    }
   ],
   "source": [
    "embedding_matrix = np.zeros((len(word_to_idx_map) + 1, embedding_size))\n",
    "embedding_matrix.shape"
   ]
  },
  {
   "cell_type": "code",
   "execution_count": 22,
   "metadata": {
    "ExecuteTime": {
     "end_time": "2020-12-17T20:10:55.737337Z",
     "start_time": "2020-12-17T20:10:55.735312Z"
    }
   },
   "outputs": [],
   "source": [
    "embedding_found_count = 0"
   ]
  },
  {
   "cell_type": "code",
   "execution_count": 23,
   "metadata": {
    "ExecuteTime": {
     "end_time": "2020-12-17T20:10:55.761632Z",
     "start_time": "2020-12-17T20:10:55.740697Z"
    }
   },
   "outputs": [],
   "source": [
    "for word, idx in word_to_idx_map.items():\n",
    "    if word in glove_model:\n",
    "        # words not found in the embedding matrix will be all-zeros.\n",
    "        embedding_matrix[idx] = glove_model[word]\n",
    "        embedding_found_count += 1"
   ]
  },
  {
   "cell_type": "code",
   "execution_count": 24,
   "metadata": {
    "ExecuteTime": {
     "end_time": "2020-12-17T20:10:55.766546Z",
     "start_time": "2020-12-17T20:10:55.763354Z"
    }
   },
   "outputs": [
    {
     "name": "stdout",
     "output_type": "stream",
     "text": [
      "Found embeddings for 3811 out of 4270 words (89.25%)\n"
     ]
    }
   ],
   "source": [
    "print(f'Found embeddings for {embedding_found_count} out of {len(vocab)} words ({round(embedding_found_count/len(vocab)*100,2)}%)')"
   ]
  },
  {
   "cell_type": "markdown",
   "metadata": {},
   "source": [
    "---"
   ]
  },
  {
   "cell_type": "markdown",
   "metadata": {},
   "source": [
    "## Convert documents to sequence of integer indexes"
   ]
  },
  {
   "cell_type": "markdown",
   "metadata": {},
   "source": [
    "### Define utility functions"
   ]
  },
  {
   "cell_type": "code",
   "execution_count": 25,
   "metadata": {
    "ExecuteTime": {
     "end_time": "2020-12-17T20:10:56.994714Z",
     "start_time": "2020-12-17T20:10:55.768281Z"
    }
   },
   "outputs": [
    {
     "name": "stderr",
     "output_type": "stream",
     "text": [
      "Using TensorFlow backend.\n"
     ]
    }
   ],
   "source": [
    "from keras.preprocessing.sequence import pad_sequences"
   ]
  },
  {
   "cell_type": "code",
   "execution_count": 26,
   "metadata": {
    "ExecuteTime": {
     "end_time": "2020-12-17T20:10:56.999693Z",
     "start_time": "2020-12-17T20:10:56.996425Z"
    }
   },
   "outputs": [],
   "source": [
    "def doc_tokens_to_sequence(doc_tokens, word_to_idx_map):\n",
    "    sequence = []\n",
    "    \n",
    "    for token in doc_tokens:\n",
    "        if token in word_to_idx_map:\n",
    "            sequence.append(word_to_idx_map[token])\n",
    "\n",
    "    return sequence"
   ]
  },
  {
   "cell_type": "markdown",
   "metadata": {},
   "source": [
    "### Encode texts"
   ]
  },
  {
   "cell_type": "code",
   "execution_count": 27,
   "metadata": {
    "ExecuteTime": {
     "end_time": "2020-12-17T20:10:57.005339Z",
     "start_time": "2020-12-17T20:10:57.001306Z"
    }
   },
   "outputs": [
    {
     "data": {
      "text/plain": [
       "196"
      ]
     },
     "execution_count": 27,
     "metadata": {},
     "output_type": "execute_result"
    }
   ],
   "source": [
    "max_doc_len = max(len(doc_tokens) for doc_tokens in docs_tokens)\n",
    "max_doc_len"
   ]
  },
  {
   "cell_type": "code",
   "execution_count": 28,
   "metadata": {
    "ExecuteTime": {
     "end_time": "2020-12-17T20:10:57.033687Z",
     "start_time": "2020-12-17T20:10:57.006750Z"
    }
   },
   "outputs": [],
   "source": [
    "train_doc_sequences = [doc_tokens_to_sequence(corpus.get_tokens(doc_id), word_to_idx_map) for doc_id in train_doc_ids]\n",
    "train_padded_sequences = pad_sequences(train_doc_sequences, maxlen=max_doc_len)"
   ]
  },
  {
   "cell_type": "markdown",
   "metadata": {},
   "source": [
    "## Train the model"
   ]
  },
  {
   "cell_type": "markdown",
   "metadata": {},
   "source": [
    "### Define the model"
   ]
  },
  {
   "cell_type": "code",
   "execution_count": 29,
   "metadata": {
    "ExecuteTime": {
     "end_time": "2020-12-17T20:10:57.037740Z",
     "start_time": "2020-12-17T20:10:57.035145Z"
    }
   },
   "outputs": [],
   "source": [
    "from keras import Input\n",
    "from keras.models import Model\n",
    "from keras.layers import Dense, Embedding, LSTM, Bidirectional\n",
    "from keras.optimizers import Adam"
   ]
  },
  {
   "cell_type": "code",
   "execution_count": 30,
   "metadata": {
    "ExecuteTime": {
     "end_time": "2020-12-17T20:10:57.538856Z",
     "start_time": "2020-12-17T20:10:57.039304Z"
    }
   },
   "outputs": [],
   "source": [
    "nn_input = Input(shape=(max_doc_len,), dtype='int32')\n",
    "embedding_output = Embedding(len(word_to_idx_map)+1,\n",
    "                             embedding_matrix.shape[1],\n",
    "                             weights=[embedding_matrix],\n",
    "                             input_length=max_doc_len,\n",
    "                             trainable=True,\n",
    "                             mask_zero=True)(nn_input)\n",
    "lstm = Bidirectional(LSTM(100))(embedding_output)\n",
    "dense = Dense(64, activation='relu')(lstm)\n",
    "nn_output = Dense(n_classes, activation='softmax')(dense)\n",
    "\n",
    "nn_model = Model(nn_input, nn_output)\n",
    "\n",
    "nn_model.compile(loss='categorical_crossentropy',\n",
    "                 optimizer=Adam(),\n",
    "                 metrics=['accuracy'])"
   ]
  },
  {
   "cell_type": "code",
   "execution_count": 31,
   "metadata": {
    "ExecuteTime": {
     "end_time": "2020-12-17T20:10:57.542634Z",
     "start_time": "2020-12-17T20:10:57.540314Z"
    }
   },
   "outputs": [],
   "source": [
    "from IPython.display import SVG\n",
    "from keras.utils.vis_utils import model_to_dot"
   ]
  },
  {
   "cell_type": "code",
   "execution_count": 32,
   "metadata": {
    "ExecuteTime": {
     "end_time": "2020-12-17T20:10:57.713154Z",
     "start_time": "2020-12-17T20:10:57.544145Z"
    }
   },
   "outputs": [
    {
     "data": {
      "image/svg+xml": [
       "<svg xmlns=\"http://www.w3.org/2000/svg\" xmlns:xlink=\"http://www.w3.org/1999/xlink\" width=\"430pt\" height=\"376pt\" viewBox=\"0.00 0.00 442.00 387.00\">\n",
       "<g id=\"graph0\" class=\"graph\" transform=\"scale(.9722 .9722) rotate(0) translate(4 383)\">\n",
       "<title>G</title>\n",
       "<polygon fill=\"#ffffff\" stroke=\"transparent\" points=\"-4,4 -4,-383 438,-383 438,4 -4,4\"/>\n",
       "<!-- 140633701057632 -->\n",
       "<g id=\"node1\" class=\"node\">\n",
       "<title>140633701057632</title>\n",
       "<polygon fill=\"none\" stroke=\"#000000\" points=\"85.5,-332.5 85.5,-378.5 348.5,-378.5 348.5,-332.5 85.5,-332.5\"/>\n",
       "<text text-anchor=\"middle\" x=\"148\" y=\"-351.8\" font-family=\"Times,serif\" font-size=\"14.00\" fill=\"#000000\">input_1: InputLayer</text>\n",
       "<polyline fill=\"none\" stroke=\"#000000\" points=\"210.5,-332.5 210.5,-378.5 \"/>\n",
       "<text text-anchor=\"middle\" x=\"238\" y=\"-363.3\" font-family=\"Times,serif\" font-size=\"14.00\" fill=\"#000000\">input:</text>\n",
       "<polyline fill=\"none\" stroke=\"#000000\" points=\"210.5,-355.5 265.5,-355.5 \"/>\n",
       "<text text-anchor=\"middle\" x=\"238\" y=\"-340.3\" font-family=\"Times,serif\" font-size=\"14.00\" fill=\"#000000\">output:</text>\n",
       "<polyline fill=\"none\" stroke=\"#000000\" points=\"265.5,-332.5 265.5,-378.5 \"/>\n",
       "<text text-anchor=\"middle\" x=\"307\" y=\"-363.3\" font-family=\"Times,serif\" font-size=\"14.00\" fill=\"#000000\">(None, 196)</text>\n",
       "<polyline fill=\"none\" stroke=\"#000000\" points=\"265.5,-355.5 348.5,-355.5 \"/>\n",
       "<text text-anchor=\"middle\" x=\"307\" y=\"-340.3\" font-family=\"Times,serif\" font-size=\"14.00\" fill=\"#000000\">(None, 196)</text>\n",
       "</g>\n",
       "<!-- 140633701057536 -->\n",
       "<g id=\"node2\" class=\"node\">\n",
       "<title>140633701057536</title>\n",
       "<polygon fill=\"none\" stroke=\"#000000\" points=\"54,-249.5 54,-295.5 380,-295.5 380,-249.5 54,-249.5\"/>\n",
       "<text text-anchor=\"middle\" x=\"134.5\" y=\"-268.8\" font-family=\"Times,serif\" font-size=\"14.00\" fill=\"#000000\">embedding_1: Embedding</text>\n",
       "<polyline fill=\"none\" stroke=\"#000000\" points=\"215,-249.5 215,-295.5 \"/>\n",
       "<text text-anchor=\"middle\" x=\"242.5\" y=\"-280.3\" font-family=\"Times,serif\" font-size=\"14.00\" fill=\"#000000\">input:</text>\n",
       "<polyline fill=\"none\" stroke=\"#000000\" points=\"215,-272.5 270,-272.5 \"/>\n",
       "<text text-anchor=\"middle\" x=\"242.5\" y=\"-257.3\" font-family=\"Times,serif\" font-size=\"14.00\" fill=\"#000000\">output:</text>\n",
       "<polyline fill=\"none\" stroke=\"#000000\" points=\"270,-249.5 270,-295.5 \"/>\n",
       "<text text-anchor=\"middle\" x=\"325\" y=\"-280.3\" font-family=\"Times,serif\" font-size=\"14.00\" fill=\"#000000\">(None, 196)</text>\n",
       "<polyline fill=\"none\" stroke=\"#000000\" points=\"270,-272.5 380,-272.5 \"/>\n",
       "<text text-anchor=\"middle\" x=\"325\" y=\"-257.3\" font-family=\"Times,serif\" font-size=\"14.00\" fill=\"#000000\">(None, 196, 200)</text>\n",
       "</g>\n",
       "<!-- 140633701057632&#45;&gt;140633701057536 -->\n",
       "<g id=\"edge1\" class=\"edge\">\n",
       "<title>140633701057632-&gt;140633701057536</title>\n",
       "<path fill=\"none\" stroke=\"#000000\" d=\"M217,-332.3799C217,-324.1745 217,-314.7679 217,-305.8786\"/>\n",
       "<polygon fill=\"#000000\" stroke=\"#000000\" points=\"220.5001,-305.784 217,-295.784 213.5001,-305.784 220.5001,-305.784\"/>\n",
       "</g>\n",
       "<!-- 140633701059120 -->\n",
       "<g id=\"node3\" class=\"node\">\n",
       "<title>140633701059120</title>\n",
       "<polygon fill=\"none\" stroke=\"#000000\" points=\"0,-166.5 0,-212.5 434,-212.5 434,-166.5 0,-166.5\"/>\n",
       "<text text-anchor=\"middle\" x=\"134.5\" y=\"-185.8\" font-family=\"Times,serif\" font-size=\"14.00\" fill=\"#000000\">bidirectional_1(lstm_1): Bidirectional(LSTM)</text>\n",
       "<polyline fill=\"none\" stroke=\"#000000\" points=\"269,-166.5 269,-212.5 \"/>\n",
       "<text text-anchor=\"middle\" x=\"296.5\" y=\"-197.3\" font-family=\"Times,serif\" font-size=\"14.00\" fill=\"#000000\">input:</text>\n",
       "<polyline fill=\"none\" stroke=\"#000000\" points=\"269,-189.5 324,-189.5 \"/>\n",
       "<text text-anchor=\"middle\" x=\"296.5\" y=\"-174.3\" font-family=\"Times,serif\" font-size=\"14.00\" fill=\"#000000\">output:</text>\n",
       "<polyline fill=\"none\" stroke=\"#000000\" points=\"324,-166.5 324,-212.5 \"/>\n",
       "<text text-anchor=\"middle\" x=\"379\" y=\"-197.3\" font-family=\"Times,serif\" font-size=\"14.00\" fill=\"#000000\">(None, 196, 200)</text>\n",
       "<polyline fill=\"none\" stroke=\"#000000\" points=\"324,-189.5 434,-189.5 \"/>\n",
       "<text text-anchor=\"middle\" x=\"379\" y=\"-174.3\" font-family=\"Times,serif\" font-size=\"14.00\" fill=\"#000000\">(None, 200)</text>\n",
       "</g>\n",
       "<!-- 140633701057536&#45;&gt;140633701059120 -->\n",
       "<g id=\"edge2\" class=\"edge\">\n",
       "<title>140633701057536-&gt;140633701059120</title>\n",
       "<path fill=\"none\" stroke=\"#000000\" d=\"M217,-249.3799C217,-241.1745 217,-231.7679 217,-222.8786\"/>\n",
       "<polygon fill=\"#000000\" stroke=\"#000000\" points=\"220.5001,-222.784 217,-212.784 213.5001,-222.784 220.5001,-222.784\"/>\n",
       "</g>\n",
       "<!-- 140633701059744 -->\n",
       "<g id=\"node4\" class=\"node\">\n",
       "<title>140633701059744</title>\n",
       "<polygon fill=\"none\" stroke=\"#000000\" points=\"97,-83.5 97,-129.5 337,-129.5 337,-83.5 97,-83.5\"/>\n",
       "<text text-anchor=\"middle\" x=\"148\" y=\"-102.8\" font-family=\"Times,serif\" font-size=\"14.00\" fill=\"#000000\">dense_1: Dense</text>\n",
       "<polyline fill=\"none\" stroke=\"#000000\" points=\"199,-83.5 199,-129.5 \"/>\n",
       "<text text-anchor=\"middle\" x=\"226.5\" y=\"-114.3\" font-family=\"Times,serif\" font-size=\"14.00\" fill=\"#000000\">input:</text>\n",
       "<polyline fill=\"none\" stroke=\"#000000\" points=\"199,-106.5 254,-106.5 \"/>\n",
       "<text text-anchor=\"middle\" x=\"226.5\" y=\"-91.3\" font-family=\"Times,serif\" font-size=\"14.00\" fill=\"#000000\">output:</text>\n",
       "<polyline fill=\"none\" stroke=\"#000000\" points=\"254,-83.5 254,-129.5 \"/>\n",
       "<text text-anchor=\"middle\" x=\"295.5\" y=\"-114.3\" font-family=\"Times,serif\" font-size=\"14.00\" fill=\"#000000\">(None, 200)</text>\n",
       "<polyline fill=\"none\" stroke=\"#000000\" points=\"254,-106.5 337,-106.5 \"/>\n",
       "<text text-anchor=\"middle\" x=\"295.5\" y=\"-91.3\" font-family=\"Times,serif\" font-size=\"14.00\" fill=\"#000000\">(None, 64)</text>\n",
       "</g>\n",
       "<!-- 140633701059120&#45;&gt;140633701059744 -->\n",
       "<g id=\"edge3\" class=\"edge\">\n",
       "<title>140633701059120-&gt;140633701059744</title>\n",
       "<path fill=\"none\" stroke=\"#000000\" d=\"M217,-166.3799C217,-158.1745 217,-148.7679 217,-139.8786\"/>\n",
       "<polygon fill=\"#000000\" stroke=\"#000000\" points=\"220.5001,-139.784 217,-129.784 213.5001,-139.784 220.5001,-139.784\"/>\n",
       "</g>\n",
       "<!-- 140633701059840 -->\n",
       "<g id=\"node5\" class=\"node\">\n",
       "<title>140633701059840</title>\n",
       "<polygon fill=\"none\" stroke=\"#000000\" points=\"97,-.5 97,-46.5 337,-46.5 337,-.5 97,-.5\"/>\n",
       "<text text-anchor=\"middle\" x=\"148\" y=\"-19.8\" font-family=\"Times,serif\" font-size=\"14.00\" fill=\"#000000\">dense_2: Dense</text>\n",
       "<polyline fill=\"none\" stroke=\"#000000\" points=\"199,-.5 199,-46.5 \"/>\n",
       "<text text-anchor=\"middle\" x=\"226.5\" y=\"-31.3\" font-family=\"Times,serif\" font-size=\"14.00\" fill=\"#000000\">input:</text>\n",
       "<polyline fill=\"none\" stroke=\"#000000\" points=\"199,-23.5 254,-23.5 \"/>\n",
       "<text text-anchor=\"middle\" x=\"226.5\" y=\"-8.3\" font-family=\"Times,serif\" font-size=\"14.00\" fill=\"#000000\">output:</text>\n",
       "<polyline fill=\"none\" stroke=\"#000000\" points=\"254,-.5 254,-46.5 \"/>\n",
       "<text text-anchor=\"middle\" x=\"295.5\" y=\"-31.3\" font-family=\"Times,serif\" font-size=\"14.00\" fill=\"#000000\">(None, 64)</text>\n",
       "<polyline fill=\"none\" stroke=\"#000000\" points=\"254,-23.5 337,-23.5 \"/>\n",
       "<text text-anchor=\"middle\" x=\"295.5\" y=\"-8.3\" font-family=\"Times,serif\" font-size=\"14.00\" fill=\"#000000\">(None, 195)</text>\n",
       "</g>\n",
       "<!-- 140633701059744&#45;&gt;140633701059840 -->\n",
       "<g id=\"edge4\" class=\"edge\">\n",
       "<title>140633701059744-&gt;140633701059840</title>\n",
       "<path fill=\"none\" stroke=\"#000000\" d=\"M217,-83.3799C217,-75.1745 217,-65.7679 217,-56.8786\"/>\n",
       "<polygon fill=\"#000000\" stroke=\"#000000\" points=\"220.5001,-56.784 217,-46.784 213.5001,-56.784 220.5001,-56.784\"/>\n",
       "</g>\n",
       "</g>\n",
       "</svg>"
      ],
      "text/plain": [
       "<IPython.core.display.SVG object>"
      ]
     },
     "execution_count": 32,
     "metadata": {},
     "output_type": "execute_result"
    }
   ],
   "source": [
    "SVG(model_to_dot(nn_model, show_shapes=True, dpi=70).create(prog='dot', format='svg'))"
   ]
  },
  {
   "cell_type": "markdown",
   "metadata": {},
   "source": [
    "### Train the model"
   ]
  },
  {
   "cell_type": "code",
   "execution_count": 33,
   "metadata": {
    "ExecuteTime": {
     "end_time": "2020-12-17T20:10:57.719318Z",
     "start_time": "2020-12-17T20:10:57.715714Z"
    }
   },
   "outputs": [],
   "source": [
    "import time"
   ]
  },
  {
   "cell_type": "code",
   "execution_count": 34,
   "metadata": {
    "ExecuteTime": {
     "end_time": "2020-12-17T20:13:14.934807Z",
     "start_time": "2020-12-17T20:10:57.721684Z"
    }
   },
   "outputs": [
    {
     "name": "stderr",
     "output_type": "stream",
     "text": [
      "/home/nvidia/anaconda3/envs/testenv/lib/python3.8/site-packages/tensorflow/python/framework/indexed_slices.py:433: UserWarning: Converting sparse IndexedSlices to a dense Tensor of unknown shape. This may consume a large amount of memory.\n",
      "  warnings.warn(\n"
     ]
    },
    {
     "name": "stdout",
     "output_type": "stream",
     "text": [
      "Train on 2667 samples, validate on 297 samples\n",
      "Epoch 1/10\n",
      "2667/2667 [==============================] - 14s 5ms/step - loss: 4.4082 - accuracy: 0.2066 - val_loss: 2.6770 - val_accuracy: 0.4848\n",
      "Epoch 2/10\n",
      "2667/2667 [==============================] - 14s 5ms/step - loss: 1.4489 - accuracy: 0.7240 - val_loss: 0.7039 - val_accuracy: 0.8889\n",
      "Epoch 3/10\n",
      "2667/2667 [==============================] - 14s 5ms/step - loss: 0.4069 - accuracy: 0.9378 - val_loss: 0.2943 - val_accuracy: 0.9596\n",
      "Epoch 4/10\n",
      "2667/2667 [==============================] - 13s 5ms/step - loss: 0.1612 - accuracy: 0.9779 - val_loss: 0.1667 - val_accuracy: 0.9798\n",
      "Epoch 5/10\n",
      "2667/2667 [==============================] - 14s 5ms/step - loss: 0.0739 - accuracy: 0.9936 - val_loss: 0.1094 - val_accuracy: 0.9798\n",
      "Epoch 6/10\n",
      "2667/2667 [==============================] - 14s 5ms/step - loss: 0.0441 - accuracy: 0.9955 - val_loss: 0.0785 - val_accuracy: 0.9899\n",
      "Epoch 7/10\n",
      "2667/2667 [==============================] - 14s 5ms/step - loss: 0.0241 - accuracy: 0.9985 - val_loss: 0.0727 - val_accuracy: 0.9865\n",
      "Epoch 8/10\n",
      "2667/2667 [==============================] - 13s 5ms/step - loss: 0.0162 - accuracy: 0.9993 - val_loss: 0.0602 - val_accuracy: 0.9899\n",
      "Epoch 9/10\n",
      "2667/2667 [==============================] - 13s 5ms/step - loss: 0.0121 - accuracy: 0.9989 - val_loss: 0.0520 - val_accuracy: 0.9966\n",
      "Epoch 10/10\n",
      "2667/2667 [==============================] - 13s 5ms/step - loss: 0.0087 - accuracy: 0.9996 - val_loss: 0.0482 - val_accuracy: 0.9933\n",
      "Elapsed time (learning): 00:02:17\n"
     ]
    }
   ],
   "source": [
    "start_time = time.time()\n",
    "\n",
    "history = nn_model.fit(train_padded_sequences, \n",
    "                       train_labels, \n",
    "                       validation_split=0.1, \n",
    "                       epochs=10)\n",
    "\n",
    "elapsed_time = time.time() - start_time\n",
    "t = time.strftime(\"%H:%M:%S\", time.gmtime(elapsed_time))\n",
    "print('Elapsed time (learning):', t)"
   ]
  },
  {
   "cell_type": "markdown",
   "metadata": {},
   "source": [
    "### Plot loss and accuracy"
   ]
  },
  {
   "cell_type": "code",
   "execution_count": 35,
   "metadata": {
    "ExecuteTime": {
     "end_time": "2020-12-17T20:13:14.941893Z",
     "start_time": "2020-12-17T20:13:14.937234Z"
    }
   },
   "outputs": [],
   "source": [
    "history_dict = history.history\n",
    "\n",
    "acc = history_dict['accuracy']\n",
    "val_acc = history_dict['val_accuracy']\n",
    "loss = history_dict['loss']\n",
    "val_loss = history_dict['val_loss']\n",
    "\n",
    "epochs = range(1, len(acc) + 1)"
   ]
  },
  {
   "cell_type": "code",
   "execution_count": 36,
   "metadata": {
    "ExecuteTime": {
     "end_time": "2020-12-17T20:13:14.946444Z",
     "start_time": "2020-12-17T20:13:14.943730Z"
    }
   },
   "outputs": [],
   "source": [
    "import matplotlib.pyplot as plt"
   ]
  },
  {
   "cell_type": "code",
   "execution_count": 37,
   "metadata": {
    "ExecuteTime": {
     "end_time": "2020-12-17T20:13:15.235809Z",
     "start_time": "2020-12-17T20:13:14.948243Z"
    }
   },
   "outputs": [
    {
     "data": {
      "image/png": "[encoded data removed]",
      "text/plain": [
       "<Figure size 576x576 with 1 Axes>"
      ]
     },
     "metadata": {
      "image/png": {
       "height": 494,
       "width": 487
      },
      "needs_background": "light"
     },
     "output_type": "display_data"
    }
   ],
   "source": [
    "plt.figure(figsize=(8,8))\n",
    "plt.plot(epochs, loss, 'b', label='Training loss')\n",
    "plt.plot(epochs, val_loss, 'g', label='Validation loss')\n",
    "plt.title('Training and validation loss')\n",
    "plt.xlabel('Epochs')\n",
    "plt.ylabel('Loss')\n",
    "plt.legend()\n",
    "plt.show()"
   ]
  },
  {
   "cell_type": "code",
   "execution_count": 38,
   "metadata": {
    "ExecuteTime": {
     "end_time": "2020-12-17T20:13:15.524582Z",
     "start_time": "2020-12-17T20:13:15.237285Z"
    }
   },
   "outputs": [
    {
     "data": {
      "image/png": "[encoded data removed]",
      "text/plain": [
       "<Figure size 576x576 with 1 Axes>"
      ]
     },
     "metadata": {
      "image/png": {
       "height": 494,
       "width": 497
      },
      "needs_background": "light"
     },
     "output_type": "display_data"
    }
   ],
   "source": [
    "plt.figure(figsize=(8,8))\n",
    "plt.plot(epochs, acc, 'b', label='Training acc')\n",
    "plt.plot(epochs, val_acc, 'g', label='Validation acc')\n",
    "plt.title('Training and validation accuracy')\n",
    "plt.xlabel('Epochs')\n",
    "plt.ylabel('Accuracy')\n",
    "plt.legend()\n",
    "plt.show()"
   ]
  },
  {
   "cell_type": "markdown",
   "metadata": {},
   "source": [
    "---"
   ]
  },
  {
   "cell_type": "markdown",
   "metadata": {},
   "source": [
    "## Evaluate the model"
   ]
  },
  {
   "cell_type": "markdown",
   "metadata": {},
   "source": [
    "### Compute f-score on the test set"
   ]
  },
  {
   "cell_type": "code",
   "execution_count": 39,
   "metadata": {
    "ExecuteTime": {
     "end_time": "2020-12-17T20:13:15.533890Z",
     "start_time": "2020-12-17T20:13:15.526089Z"
    }
   },
   "outputs": [],
   "source": [
    "test_sequences = [doc_tokens_to_sequence(corpus.get_tokens(doc_id), word_to_idx_map) for doc_id in test_doc_ids]\n",
    "test_padded_sequences = pad_sequences(test_sequences, maxlen=max_doc_len)"
   ]
  },
  {
   "cell_type": "code",
   "execution_count": 40,
   "metadata": {
    "ExecuteTime": {
     "end_time": "2020-12-17T20:13:16.312786Z",
     "start_time": "2020-12-17T20:13:15.535422Z"
    }
   },
   "outputs": [],
   "source": [
    "test_pred = nn_model.predict(test_padded_sequences)"
   ]
  },
  {
   "cell_type": "code",
   "execution_count": 41,
   "metadata": {
    "ExecuteTime": {
     "end_time": "2020-12-17T20:13:16.318769Z",
     "start_time": "2020-12-17T20:13:16.315422Z"
    }
   },
   "outputs": [],
   "source": [
    "# round to nearest integer\n",
    "test_pred = np.rint(test_pred)"
   ]
  },
  {
   "cell_type": "code",
   "execution_count": 42,
   "metadata": {
    "ExecuteTime": {
     "end_time": "2020-12-17T20:13:16.329202Z",
     "start_time": "2020-12-17T20:13:16.321036Z"
    }
   },
   "outputs": [
    {
     "data": {
      "text/plain": [
       "array([0., 0., 0., 0., 0., 0., 0., 0., 0., 0., 0., 0., 0., 0., 0., 0., 0.,\n",
       "       0., 0., 0., 0., 0., 0., 0., 0., 0., 0., 0., 0., 0., 0., 0., 0., 0.,\n",
       "       0., 0., 0., 0., 0., 0., 0., 0., 0., 0., 0., 0., 0., 0., 0., 0., 0.,\n",
       "       0., 0., 0., 0., 0., 0., 0., 0., 0., 0., 0., 0., 0., 0., 0., 0., 0.,\n",
       "       0., 0., 0., 0., 0., 0., 0., 0., 0., 0., 0., 0., 0., 0., 0., 0., 0.,\n",
       "       0., 0., 0., 0., 0., 0., 0., 0., 0., 0., 0., 0., 0., 0., 0., 0., 0.,\n",
       "       0., 0., 0., 0., 0., 0., 0., 0., 0., 0., 0., 0., 0., 0., 0., 0., 0.,\n",
       "       0., 0., 0., 0., 0., 0., 0., 0., 0., 0., 0., 0., 0., 0., 0., 0., 0.,\n",
       "       0., 0., 0., 0., 0., 0., 0., 0., 0., 0., 0., 0., 0., 0., 0., 0., 0.,\n",
       "       0., 0., 0., 0., 0., 0., 0., 0., 0., 0., 0., 0., 0., 0., 0., 0., 0.,\n",
       "       0., 0., 0., 0., 0., 0., 1., 0., 0., 0., 0., 0., 0., 0., 0., 0., 0.,\n",
       "       0., 0., 0., 0., 0., 0., 0., 0.], dtype=float32)"
      ]
     },
     "execution_count": 42,
     "metadata": {},
     "output_type": "execute_result"
    }
   ],
   "source": [
    "test_pred[0]"
   ]
  },
  {
   "cell_type": "code",
   "execution_count": 43,
   "metadata": {
    "ExecuteTime": {
     "end_time": "2020-12-17T20:13:16.334210Z",
     "start_time": "2020-12-17T20:13:16.331209Z"
    }
   },
   "outputs": [],
   "source": [
    "from sklearn.metrics import classification_report"
   ]
  },
  {
   "cell_type": "code",
   "execution_count": 44,
   "metadata": {
    "ExecuteTime": {
     "end_time": "2020-12-17T20:13:16.370659Z",
     "start_time": "2020-12-17T20:13:16.336281Z"
    }
   },
   "outputs": [
    {
     "name": "stdout",
     "output_type": "stream",
     "text": [
      "              precision    recall  f1-score   support\n",
      "\n",
      "           0       1.00      1.00      1.00         1\n",
      "           1       0.00      0.00      0.00         0\n",
      "           2       0.00      0.00      0.00         0\n",
      "           3       0.00      0.00      0.00         0\n",
      "           4       1.00      1.00      1.00         4\n",
      "           5       1.00      1.00      1.00         2\n",
      "           6       1.00      1.00      1.00         1\n",
      "           7       1.00      1.00      1.00         3\n",
      "           8       0.00      0.00      0.00         0\n",
      "           9       1.00      1.00      1.00         3\n",
      "          10       1.00      1.00      1.00         2\n",
      "          11       1.00      1.00      1.00         2\n",
      "          12       1.00      1.00      1.00         1\n",
      "          13       1.00      1.00      1.00         2\n",
      "          14       1.00      1.00      1.00         2\n",
      "          15       0.00      0.00      0.00         0\n",
      "          16       1.00      1.00      1.00         1\n",
      "          17       1.00      1.00      1.00         5\n",
      "          18       0.00      0.00      0.00         0\n",
      "          19       1.00      1.00      1.00         1\n",
      "          20       0.00      0.00      0.00         0\n",
      "          21       1.00      1.00      1.00         4\n",
      "          22       1.00      1.00      1.00         1\n",
      "          23       0.00      0.00      0.00         0\n",
      "          24       1.00      1.00      1.00         2\n",
      "          25       1.00      1.00      1.00         4\n",
      "          26       1.00      1.00      1.00         2\n",
      "          27       0.00      0.00      0.00         0\n",
      "          28       1.00      1.00      1.00         1\n",
      "          29       1.00      1.00      1.00         4\n",
      "          30       1.00      1.00      1.00         1\n",
      "          31       0.86      1.00      0.92         6\n",
      "          32       0.00      0.00      0.00         0\n",
      "          33       1.00      1.00      1.00         4\n",
      "          34       1.00      1.00      1.00         4\n",
      "          35       0.00      0.00      0.00         0\n",
      "          36       1.00      1.00      1.00         3\n",
      "          37       1.00      1.00      1.00         2\n",
      "          38       1.00      1.00      1.00         2\n",
      "          39       1.00      1.00      1.00         1\n",
      "          40       1.00      1.00      1.00         1\n",
      "          41       0.00      0.00      0.00         0\n",
      "          42       0.00      0.00      0.00         0\n",
      "          43       1.00      1.00      1.00         1\n",
      "          44       0.00      0.00      0.00         0\n",
      "          45       1.00      1.00      1.00         1\n",
      "          46       1.00      1.00      1.00         2\n",
      "          47       1.00      1.00      1.00         1\n",
      "          48       0.00      0.00      0.00         0\n",
      "          49       0.00      0.00      0.00         1\n",
      "          50       0.00      0.00      0.00         0\n",
      "          51       0.00      0.00      0.00         0\n",
      "          52       1.00      1.00      1.00         3\n",
      "          53       1.00      1.00      1.00         3\n",
      "          54       0.00      0.00      0.00         0\n",
      "          55       1.00      1.00      1.00         3\n",
      "          56       0.00      0.00      0.00         1\n",
      "          57       1.00      1.00      1.00         1\n",
      "          58       1.00      1.00      1.00         1\n",
      "          59       0.00      0.00      0.00         0\n",
      "          60       0.00      0.00      0.00         0\n",
      "          61       1.00      1.00      1.00         4\n",
      "          62       0.00      0.00      0.00         0\n",
      "          63       0.00      0.00      0.00         0\n",
      "          64       1.00      1.00      1.00         3\n",
      "          65       0.00      0.00      0.00         0\n",
      "          66       0.00      0.00      0.00         0\n",
      "          67       1.00      1.00      1.00         1\n",
      "          68       1.00      1.00      1.00         3\n",
      "          69       1.00      1.00      1.00         1\n",
      "          70       1.00      1.00      1.00         3\n",
      "          71       1.00      1.00      1.00         1\n",
      "          72       1.00      1.00      1.00         1\n",
      "          73       1.00      1.00      1.00         2\n",
      "          74       0.00      0.00      0.00         0\n",
      "          75       0.00      0.00      0.00         0\n",
      "          76       0.00      0.00      0.00         0\n",
      "          77       1.00      1.00      1.00         2\n",
      "          78       1.00      1.00      1.00         4\n",
      "          79       1.00      1.00      1.00         2\n",
      "          80       1.00      1.00      1.00         1\n",
      "          81       1.00      1.00      1.00         2\n",
      "          82       1.00      1.00      1.00         4\n",
      "          83       0.00      0.00      0.00         1\n",
      "          84       1.00      1.00      1.00         4\n",
      "          85       1.00      1.00      1.00         1\n",
      "          86       1.00      1.00      1.00         2\n",
      "          87       0.00      0.00      0.00         0\n",
      "          88       1.00      0.80      0.89         5\n",
      "          89       1.00      1.00      1.00         1\n",
      "          90       0.00      0.00      0.00         0\n",
      "          91       1.00      1.00      1.00         2\n",
      "          92       1.00      1.00      1.00         5\n",
      "          93       0.00      0.00      0.00         0\n",
      "          94       1.00      0.80      0.89         5\n",
      "          95       1.00      1.00      1.00         3\n",
      "          96       1.00      1.00      1.00         1\n",
      "          97       1.00      1.00      1.00         1\n",
      "          98       0.00      0.00      0.00         1\n",
      "          99       1.00      1.00      1.00         2\n",
      "         100       1.00      1.00      1.00         1\n",
      "         101       1.00      1.00      1.00         3\n",
      "         102       1.00      1.00      1.00         1\n",
      "         103       0.00      0.00      0.00         0\n",
      "         104       1.00      1.00      1.00         2\n",
      "         105       1.00      1.00      1.00         2\n",
      "         106       1.00      1.00      1.00         2\n",
      "         107       1.00      1.00      1.00         3\n",
      "         108       1.00      1.00      1.00         1\n",
      "         109       1.00      1.00      1.00         1\n",
      "         110       1.00      1.00      1.00         1\n",
      "         111       1.00      1.00      1.00         1\n",
      "         112       0.00      0.00      0.00         1\n",
      "         113       1.00      1.00      1.00         2\n",
      "         114       1.00      1.00      1.00         3\n",
      "         115       0.00      0.00      0.00         0\n",
      "         116       1.00      1.00      1.00         3\n",
      "         117       0.00      0.00      0.00         0\n",
      "         118       1.00      1.00      1.00         3\n",
      "         119       1.00      1.00      1.00         2\n",
      "         120       1.00      1.00      1.00         3\n",
      "         121       1.00      1.00      1.00         3\n",
      "         122       1.00      1.00      1.00         1\n",
      "         123       0.00      0.00      0.00         0\n",
      "         124       1.00      1.00      1.00         4\n",
      "         125       1.00      1.00      1.00         2\n",
      "         126       1.00      1.00      1.00         2\n",
      "         127       1.00      1.00      1.00         3\n",
      "         128       1.00      1.00      1.00         2\n",
      "         129       0.00      0.00      0.00         0\n",
      "         130       0.00      0.00      0.00         0\n",
      "         131       1.00      1.00      1.00         1\n",
      "         132       1.00      1.00      1.00         3\n",
      "         133       0.67      0.67      0.67         3\n",
      "         134       1.00      1.00      1.00         2\n",
      "         135       1.00      1.00      1.00         1\n",
      "         136       1.00      1.00      1.00         2\n",
      "         137       1.00      1.00      1.00         5\n",
      "         138       1.00      0.75      0.86         4\n",
      "         139       1.00      1.00      1.00         3\n",
      "         140       1.00      1.00      1.00         1\n",
      "         141       1.00      1.00      1.00         1\n",
      "         142       0.00      0.00      0.00         0\n",
      "         143       1.00      1.00      1.00         1\n",
      "         144       1.00      1.00      1.00         3\n",
      "         145       1.00      1.00      1.00         1\n",
      "         146       1.00      1.00      1.00         1\n",
      "         147       1.00      1.00      1.00         1\n",
      "         148       0.00      0.00      0.00         0\n",
      "         149       1.00      1.00      1.00         2\n",
      "         150       1.00      0.50      0.67         2\n",
      "         151       1.00      1.00      1.00         3\n",
      "         152       0.67      1.00      0.80         2\n",
      "         153       1.00      0.50      0.67         2\n",
      "         154       0.00      0.00      0.00         0\n",
      "         155       1.00      1.00      1.00         2\n",
      "         156       0.00      0.00      0.00         0\n",
      "         157       1.00      1.00      1.00         1\n",
      "         158       1.00      1.00      1.00         7\n",
      "         159       1.00      1.00      1.00         3\n",
      "         160       1.00      1.00      1.00         4\n",
      "         161       1.00      1.00      1.00         2\n",
      "         162       1.00      1.00      1.00         3\n",
      "         163       1.00      1.00      1.00         1\n",
      "         164       1.00      1.00      1.00         4\n",
      "         165       1.00      1.00      1.00         1\n",
      "         166       1.00      1.00      1.00         1\n",
      "         167       1.00      1.00      1.00         3\n",
      "         168       0.00      0.00      0.00         0\n",
      "         169       1.00      1.00      1.00         1\n",
      "         170       0.00      0.00      0.00         0\n",
      "         171       0.00      0.00      0.00         0\n",
      "         172       1.00      1.00      1.00         1\n",
      "         173       0.00      0.00      0.00         0\n",
      "         174       1.00      1.00      1.00         2\n",
      "         175       1.00      1.00      1.00         4\n",
      "         176       1.00      1.00      1.00         2\n",
      "         177       1.00      1.00      1.00         1\n",
      "         178       1.00      0.60      0.75         5\n",
      "         179       1.00      1.00      1.00         2\n",
      "         180       1.00      1.00      1.00         3\n",
      "         181       0.83      1.00      0.91         5\n",
      "         182       1.00      1.00      1.00         1\n",
      "         183       1.00      1.00      1.00         2\n",
      "         184       0.00      0.00      0.00         0\n",
      "         185       1.00      1.00      1.00         2\n",
      "         186       0.50      1.00      0.67         1\n",
      "         187       1.00      1.00      1.00         3\n",
      "         188       1.00      1.00      1.00         1\n",
      "         189       1.00      1.00      1.00         3\n",
      "         190       0.00      0.00      0.00         0\n",
      "         191       1.00      1.00      1.00         2\n",
      "         192       1.00      1.00      1.00         1\n",
      "         193       0.00      0.00      0.00         0\n",
      "         194       1.00      1.00      1.00         2\n",
      "\n",
      "   micro avg       0.98      0.96      0.97       330\n",
      "   macro avg       0.73      0.72      0.72       330\n",
      "weighted avg       0.97      0.96      0.96       330\n",
      " samples avg       0.96      0.96      0.96       330\n",
      "\n"
     ]
    },
    {
     "name": "stderr",
     "output_type": "stream",
     "text": [
      "/home/nvidia/anaconda3/envs/testenv/lib/python3.8/site-packages/sklearn/metrics/_classification.py:1272: UndefinedMetricWarning: Precision and F-score are ill-defined and being set to 0.0 in labels with no predicted samples. Use `zero_division` parameter to control this behavior.\n",
      "  _warn_prf(average, modifier, msg_start, len(result))\n",
      "/home/nvidia/anaconda3/envs/testenv/lib/python3.8/site-packages/sklearn/metrics/_classification.py:1272: UndefinedMetricWarning: Recall and F-score are ill-defined and being set to 0.0 in labels with no true samples. Use `zero_division` parameter to control this behavior.\n",
      "  _warn_prf(average, modifier, msg_start, len(result))\n",
      "/home/nvidia/anaconda3/envs/testenv/lib/python3.8/site-packages/sklearn/metrics/_classification.py:1272: UndefinedMetricWarning: Precision and F-score are ill-defined and being set to 0.0 in samples with no predicted labels. Use `zero_division` parameter to control this behavior.\n",
      "  _warn_prf(average, modifier, msg_start, len(result))\n"
     ]
    }
   ],
   "source": [
    "print(classification_report(test_labels, test_pred))"
   ]
  },
  {
   "cell_type": "markdown",
   "metadata": {},
   "source": [
    "## Save model to a file"
   ]
  },
  {
   "cell_type": "code",
   "execution_count": 45,
   "metadata": {
    "ExecuteTime": {
     "end_time": "2020-12-17T20:13:16.375776Z",
     "start_time": "2020-12-17T20:13:16.372537Z"
    }
   },
   "outputs": [],
   "source": [
    "nn_filename = f'wikidata_nn_model_{version}.h5'\n",
    "nn_filepath = os.path.join(root_dir, models_dir, nn_filename)"
   ]
  },
  {
   "cell_type": "code",
   "execution_count": 46,
   "metadata": {
    "ExecuteTime": {
     "end_time": "2020-12-17T20:13:16.437417Z",
     "start_time": "2020-12-17T20:13:16.377696Z"
    }
   },
   "outputs": [],
   "source": [
    "nn_model.save(nn_filepath)"
   ]
  },
  {
   "cell_type": "markdown",
   "metadata": {},
   "source": [
    "---"
   ]
  },
  {
   "cell_type": "markdown",
   "metadata": {},
   "source": [
    "## Save `word_to_index_map` to a file"
   ]
  },
  {
   "cell_type": "code",
   "execution_count": 47,
   "metadata": {
    "ExecuteTime": {
     "end_time": "2020-12-17T20:13:16.441627Z",
     "start_time": "2020-12-17T20:13:16.439137Z"
    }
   },
   "outputs": [],
   "source": [
    "import pandas as pd"
   ]
  },
  {
   "cell_type": "code",
   "execution_count": 48,
   "metadata": {
    "ExecuteTime": {
     "end_time": "2020-12-17T20:13:16.484354Z",
     "start_time": "2020-12-17T20:13:16.443296Z"
    }
   },
   "outputs": [],
   "source": [
    "word_to_index_df = pd.DataFrame(word_to_idx_map.items(), columns=['term', 'index'])"
   ]
  },
  {
   "cell_type": "code",
   "execution_count": 49,
   "metadata": {
    "ExecuteTime": {
     "end_time": "2020-12-17T20:13:16.500413Z",
     "start_time": "2020-12-17T20:13:16.486643Z"
    }
   },
   "outputs": [
    {
     "data": {
      "text/html": [
       "<div>\n",
       "<style scoped>\n",
       "    .dataframe tbody tr th:only-of-type {\n",
       "        vertical-align: middle;\n",
       "    }\n",
       "\n",
       "    .dataframe tbody tr th {\n",
       "        vertical-align: top;\n",
       "    }\n",
       "\n",
       "    .dataframe thead th {\n",
       "        text-align: right;\n",
       "    }\n",
       "</style>\n",
       "<table border=\"1\" class=\"dataframe\">\n",
       "  <thead>\n",
       "    <tr style=\"text-align: right;\">\n",
       "      <th></th>\n",
       "      <th>term</th>\n",
       "      <th>index</th>\n",
       "    </tr>\n",
       "  </thead>\n",
       "  <tbody>\n",
       "    <tr>\n",
       "      <th>0</th>\n",
       "      <td>+21</td>\n",
       "      <td>1</td>\n",
       "    </tr>\n",
       "    <tr>\n",
       "      <th>1</th>\n",
       "      <td>+4</td>\n",
       "      <td>2</td>\n",
       "    </tr>\n",
       "    <tr>\n",
       "      <th>2</th>\n",
       "      <td>+5</td>\n",
       "      <td>3</td>\n",
       "    </tr>\n",
       "    <tr>\n",
       "      <th>3</th>\n",
       "      <td>...</td>\n",
       "      <td>4</td>\n",
       "    </tr>\n",
       "    <tr>\n",
       "      <th>4</th>\n",
       "      <td>/maari/</td>\n",
       "      <td>5</td>\n",
       "    </tr>\n",
       "  </tbody>\n",
       "</table>\n",
       "</div>"
      ],
      "text/plain": [
       "      term  index\n",
       "0      +21      1\n",
       "1       +4      2\n",
       "2       +5      3\n",
       "3      ...      4\n",
       "4  /maari/      5"
      ]
     },
     "execution_count": 49,
     "metadata": {},
     "output_type": "execute_result"
    }
   ],
   "source": [
    "word_to_index_df.head()"
   ]
  },
  {
   "cell_type": "code",
   "execution_count": 50,
   "metadata": {
    "ExecuteTime": {
     "end_time": "2020-12-17T20:13:16.507074Z",
     "start_time": "2020-12-17T20:13:16.502436Z"
    }
   },
   "outputs": [
    {
     "data": {
      "text/plain": [
       "(4270, 2)"
      ]
     },
     "execution_count": 50,
     "metadata": {},
     "output_type": "execute_result"
    }
   ],
   "source": [
    "word_to_index_df.shape"
   ]
  },
  {
   "cell_type": "code",
   "execution_count": 51,
   "metadata": {
    "ExecuteTime": {
     "end_time": "2020-12-17T20:13:16.512201Z",
     "start_time": "2020-12-17T20:13:16.509019Z"
    }
   },
   "outputs": [],
   "source": [
    "index_filename = f'wikidata_nn_word_index_{version}.csv'\n",
    "index_filepath = os.path.join(root_dir, models_dir, index_filename)"
   ]
  },
  {
   "cell_type": "code",
   "execution_count": 52,
   "metadata": {
    "ExecuteTime": {
     "end_time": "2020-12-17T20:13:16.529457Z",
     "start_time": "2020-12-17T20:13:16.514159Z"
    }
   },
   "outputs": [],
   "source": [
    "word_to_index_df.to_csv(index_filepath, encoding='utf-8', index=False)"
   ]
  },
  {
   "cell_type": "markdown",
   "metadata": {},
   "source": [
    "---"
   ]
  }
 ],
 "metadata": {
  "kernelspec": {
   "display_name": "Python 3",
   "language": "python",
   "name": "python3"
  },
  "language_info": {
   "codemirror_mode": {
    "name": "ipython",
    "version": 3
   },
   "file_extension": ".py",
   "mimetype": "text/x-python",
   "name": "python",
   "nbconvert_exporter": "python",
   "pygments_lexer": "ipython3",
   "version": "3.8.1"
  },
  "toc": {
   "base_numbering": 1,
   "nav_menu": {},
   "number_sections": true,
   "sideBar": true,
   "skip_h1_title": false,
   "title_cell": "Table of Contents",
   "title_sidebar": "Contents",
   "toc_cell": false,
   "toc_position": {},
   "toc_section_display": true,
   "toc_window_display": false
  }
 },
 "nbformat": 4,
 "nbformat_minor": 4
}
