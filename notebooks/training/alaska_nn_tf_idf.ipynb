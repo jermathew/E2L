{
 "cells": [
  {
   "cell_type": "markdown",
   "metadata": {},
   "source": [
    "# Training a neural network model on the Alaska dataset"
   ]
  },
  {
   "cell_type": "code",
   "execution_count": 1,
   "metadata": {
    "ExecuteTime": {
     "end_time": "2020-11-24T12:25:13.031916Z",
     "start_time": "2020-11-24T12:25:12.688402Z"
    }
   },
   "outputs": [],
   "source": [
    "%matplotlib inline\n",
    "%config InlineBackend.figure_format = 'retina'"
   ]
  },
  {
   "cell_type": "markdown",
   "metadata": {},
   "source": [
    "---"
   ]
  },
  {
   "cell_type": "markdown",
   "metadata": {},
   "source": [
    "## Load the data"
   ]
  },
  {
   "cell_type": "code",
   "execution_count": 2,
   "metadata": {
    "ExecuteTime": {
     "end_time": "2020-11-24T12:25:13.327604Z",
     "start_time": "2020-11-24T12:25:13.323464Z"
    }
   },
   "outputs": [],
   "source": [
    "root_dir = '../../'\n",
    "src_dir = 'src'\n",
    "data_dir = 'data/corpus'\n",
    "models_dir = 'data/models'"
   ]
  },
  {
   "cell_type": "code",
   "execution_count": 3,
   "metadata": {
    "ExecuteTime": {
     "end_time": "2020-11-24T12:25:13.543611Z",
     "start_time": "2020-11-24T12:25:13.539698Z"
    }
   },
   "outputs": [],
   "source": [
    "import os\n",
    "import sys"
   ]
  },
  {
   "cell_type": "code",
   "execution_count": 4,
   "metadata": {
    "ExecuteTime": {
     "end_time": "2020-11-24T12:25:13.754977Z",
     "start_time": "2020-11-24T12:25:13.749997Z"
    }
   },
   "outputs": [],
   "source": [
    "sys.path.append(os.path.join(root_dir, src_dir))"
   ]
  },
  {
   "cell_type": "code",
   "execution_count": 5,
   "metadata": {
    "ExecuteTime": {
     "end_time": "2020-11-24T12:25:13.979082Z",
     "start_time": "2020-11-24T12:25:13.975485Z"
    }
   },
   "outputs": [],
   "source": [
    "corpus_filename = 'alaska_corpus.json'"
   ]
  },
  {
   "cell_type": "code",
   "execution_count": 6,
   "metadata": {
    "ExecuteTime": {
     "end_time": "2020-11-24T12:25:15.315905Z",
     "start_time": "2020-11-24T12:25:14.208979Z"
    }
   },
   "outputs": [],
   "source": [
    "from training import TrainingCorpus"
   ]
  },
  {
   "cell_type": "code",
   "execution_count": 7,
   "metadata": {
    "ExecuteTime": {
     "end_time": "2020-11-24T12:25:15.337337Z",
     "start_time": "2020-11-24T12:25:15.318447Z"
    }
   },
   "outputs": [],
   "source": [
    "corpus = TrainingCorpus()\n",
    "corpus.load(os.path.join(root_dir, data_dir, corpus_filename))"
   ]
  },
  {
   "cell_type": "code",
   "execution_count": 8,
   "metadata": {
    "ExecuteTime": {
     "end_time": "2020-11-24T12:25:15.344580Z",
     "start_time": "2020-11-24T12:25:15.339510Z"
    }
   },
   "outputs": [
    {
     "data": {
      "text/plain": [
       "2171"
      ]
     },
     "execution_count": 8,
     "metadata": {},
     "output_type": "execute_result"
    }
   ],
   "source": [
    "corpus.size"
   ]
  },
  {
   "cell_type": "markdown",
   "metadata": {},
   "source": [
    "---"
   ]
  },
  {
   "cell_type": "markdown",
   "metadata": {},
   "source": [
    "## Split the dataset into training and test set"
   ]
  },
  {
   "cell_type": "code",
   "execution_count": 9,
   "metadata": {
    "ExecuteTime": {
     "end_time": "2020-11-24T12:25:15.373256Z",
     "start_time": "2020-11-24T12:25:15.364599Z"
    }
   },
   "outputs": [],
   "source": [
    "train_doc_ids, test_doc_ids, train_labels, test_labels = corpus.get_train_test_data(test_size=0.2, random_state=3)"
   ]
  },
  {
   "cell_type": "code",
   "execution_count": 10,
   "metadata": {
    "ExecuteTime": {
     "end_time": "2020-11-24T12:25:15.642669Z",
     "start_time": "2020-11-24T12:25:15.635620Z"
    }
   },
   "outputs": [
    {
     "name": "stdout",
     "output_type": "stream",
     "text": [
      "Training set size: 1736\n",
      "Test set size: 435\n",
      "No. of labels: 20\n"
     ]
    }
   ],
   "source": [
    "n_classes = train_labels.shape[1]\n",
    "print(f'Training set size: {len(train_doc_ids)}')\n",
    "print(f'Test set size: {len(test_doc_ids)}')\n",
    "print(f'No. of labels: {n_classes}')"
   ]
  },
  {
   "cell_type": "markdown",
   "metadata": {},
   "source": [
    "---"
   ]
  },
  {
   "cell_type": "markdown",
   "metadata": {},
   "source": [
    "## Vectorize the data using tf-idf## Build the embedding matrix"
   ]
  },
  {
   "cell_type": "markdown",
   "metadata": {},
   "source": [
    "### Define corpus for tf-idf"
   ]
  },
  {
   "cell_type": "code",
   "execution_count": 11,
   "metadata": {
    "ExecuteTime": {
     "end_time": "2020-11-24T12:25:16.810826Z",
     "start_time": "2020-11-24T12:25:16.807063Z"
    }
   },
   "outputs": [],
   "source": [
    "import numpy as np\n",
    "from collections import defaultdict"
   ]
  },
  {
   "cell_type": "code",
   "execution_count": 12,
   "metadata": {
    "ExecuteTime": {
     "end_time": "2020-11-24T12:25:17.104752Z",
     "start_time": "2020-11-24T12:25:17.100994Z"
    }
   },
   "outputs": [],
   "source": [
    "pseudo_docs = defaultdict(str)"
   ]
  },
  {
   "cell_type": "code",
   "execution_count": 13,
   "metadata": {
    "ExecuteTime": {
     "end_time": "2020-11-24T12:25:17.455630Z",
     "start_time": "2020-11-24T12:25:17.424455Z"
    }
   },
   "outputs": [],
   "source": [
    "for i in range(len(train_doc_ids)):\n",
    "    doc_id = train_doc_ids[i]\n",
    "    text = ' '.join(corpus.get_tokens(doc_id))\n",
    "    label = np.flatnonzero(train_labels[i])[0]\n",
    "    pseudo_docs[label] += ' ' + text"
   ]
  },
  {
   "cell_type": "code",
   "execution_count": 14,
   "metadata": {
    "ExecuteTime": {
     "end_time": "2020-11-24T12:25:17.656437Z",
     "start_time": "2020-11-24T12:25:17.650771Z"
    }
   },
   "outputs": [
    {
     "data": {
      "text/plain": [
       "20"
      ]
     },
     "execution_count": 14,
     "metadata": {},
     "output_type": "execute_result"
    }
   ],
   "source": [
    "len(pseudo_docs.values())"
   ]
  },
  {
   "cell_type": "code",
   "execution_count": 15,
   "metadata": {
    "ExecuteTime": {
     "end_time": "2020-11-24T12:25:18.040529Z",
     "start_time": "2020-11-24T12:25:18.036655Z"
    }
   },
   "outputs": [],
   "source": [
    "tfidf_corpus = list(pseudo_docs.values())"
   ]
  },
  {
   "cell_type": "markdown",
   "metadata": {
    "ExecuteTime": {
     "end_time": "2020-09-25T18:37:48.867798Z",
     "start_time": "2020-09-25T18:37:48.865852Z"
    }
   },
   "source": [
    "### Instantiate TfidfVectorizer and vectorize training data"
   ]
  },
  {
   "cell_type": "code",
   "execution_count": 16,
   "metadata": {
    "ExecuteTime": {
     "end_time": "2020-11-24T12:25:18.855339Z",
     "start_time": "2020-11-24T12:25:18.851183Z"
    }
   },
   "outputs": [],
   "source": [
    "from sklearn.feature_extraction.text import TfidfVectorizer"
   ]
  },
  {
   "cell_type": "code",
   "execution_count": 17,
   "metadata": {
    "ExecuteTime": {
     "end_time": "2020-11-24T12:25:19.217437Z",
     "start_time": "2020-11-24T12:25:19.213175Z"
    }
   },
   "outputs": [],
   "source": [
    "def custom_tokenizer(input_text):\n",
    "    return input_text.split()"
   ]
  },
  {
   "cell_type": "code",
   "execution_count": 18,
   "metadata": {
    "ExecuteTime": {
     "end_time": "2020-11-24T12:25:19.686299Z",
     "start_time": "2020-11-24T12:25:19.681863Z"
    }
   },
   "outputs": [],
   "source": [
    "vectorizer = TfidfVectorizer(lowercase=False, tokenizer=custom_tokenizer)"
   ]
  },
  {
   "cell_type": "code",
   "execution_count": 19,
   "metadata": {
    "ExecuteTime": {
     "end_time": "2020-11-24T12:25:19.986073Z",
     "start_time": "2020-11-24T12:25:19.954718Z"
    }
   },
   "outputs": [
    {
     "name": "stderr",
     "output_type": "stream",
     "text": [
      "/home/nvidia/anaconda3/envs/testenv/lib/python3.8/site-packages/sklearn/feature_extraction/text.py:507: UserWarning: The parameter 'token_pattern' will not be used since 'tokenizer' is not None'\n",
      "  warnings.warn(\"The parameter 'token_pattern' will not be used\"\n"
     ]
    },
    {
     "data": {
      "text/plain": [
       "TfidfVectorizer(analyzer='word', binary=False, decode_error='strict',\n",
       "                dtype=<class 'numpy.float64'>, encoding='utf-8',\n",
       "                input='content', lowercase=False, max_df=1.0, max_features=None,\n",
       "                min_df=1, ngram_range=(1, 1), norm='l2', preprocessor=None,\n",
       "                smooth_idf=True, stop_words=None, strip_accents=None,\n",
       "                sublinear_tf=False, token_pattern='(?u)\\\\b\\\\w\\\\w+\\\\b',\n",
       "                tokenizer=<function custom_tokenizer at 0x7f053f56c430>,\n",
       "                use_idf=True, vocabulary=None)"
      ]
     },
     "execution_count": 19,
     "metadata": {},
     "output_type": "execute_result"
    }
   ],
   "source": [
    "vectorizer.fit(tfidf_corpus)"
   ]
  },
  {
   "cell_type": "code",
   "execution_count": 20,
   "metadata": {
    "ExecuteTime": {
     "end_time": "2020-11-24T12:25:29.166742Z",
     "start_time": "2020-11-24T12:25:29.122317Z"
    }
   },
   "outputs": [],
   "source": [
    "train_corpus = [' '.join(corpus.get_tokens(doc_id)) for doc_id in train_doc_ids]\n",
    "train_data = vectorizer.transform(train_corpus)"
   ]
  },
  {
   "cell_type": "code",
   "execution_count": 21,
   "metadata": {
    "ExecuteTime": {
     "end_time": "2020-11-24T12:25:29.752664Z",
     "start_time": "2020-11-24T12:25:29.746790Z"
    }
   },
   "outputs": [
    {
     "data": {
      "text/plain": [
       "1096"
      ]
     },
     "execution_count": 21,
     "metadata": {},
     "output_type": "execute_result"
    }
   ],
   "source": [
    "input_size = train_data.shape[1]\n",
    "input_size"
   ]
  },
  {
   "cell_type": "markdown",
   "metadata": {},
   "source": [
    "---"
   ]
  },
  {
   "cell_type": "markdown",
   "metadata": {},
   "source": [
    "## Train the model"
   ]
  },
  {
   "cell_type": "markdown",
   "metadata": {},
   "source": [
    "### Define the model"
   ]
  },
  {
   "cell_type": "code",
   "execution_count": 22,
   "metadata": {
    "ExecuteTime": {
     "end_time": "2020-11-24T12:25:58.150129Z",
     "start_time": "2020-11-24T12:25:56.370148Z"
    }
   },
   "outputs": [
    {
     "name": "stderr",
     "output_type": "stream",
     "text": [
      "Using TensorFlow backend.\n"
     ]
    }
   ],
   "source": [
    "from keras import Sequential\n",
    "from keras.layers import Dense\n",
    "from keras.optimizers import Adam"
   ]
  },
  {
   "cell_type": "code",
   "execution_count": 23,
   "metadata": {
    "ExecuteTime": {
     "end_time": "2020-11-24T12:25:58.381896Z",
     "start_time": "2020-11-24T12:25:58.153305Z"
    }
   },
   "outputs": [],
   "source": [
    "model = Sequential([\n",
    "    Dense(1024, activation='relu', input_dim=(input_size)),\n",
    "    Dense(512, activation='relu'),\n",
    "    Dense(n_classes, activation='softmax')\n",
    "])\n",
    "\n",
    "model.compile(loss='categorical_crossentropy',\n",
    "              optimizer=Adam(),\n",
    "              metrics=['accuracy'])"
   ]
  },
  {
   "cell_type": "code",
   "execution_count": 24,
   "metadata": {
    "ExecuteTime": {
     "end_time": "2020-11-24T12:25:58.387994Z",
     "start_time": "2020-11-24T12:25:58.384793Z"
    }
   },
   "outputs": [],
   "source": [
    "from IPython.display import SVG\n",
    "from keras.utils.vis_utils import model_to_dot"
   ]
  },
  {
   "cell_type": "code",
   "execution_count": 25,
   "metadata": {
    "ExecuteTime": {
     "end_time": "2020-11-24T12:25:58.672495Z",
     "start_time": "2020-11-24T12:25:58.390222Z"
    }
   },
   "outputs": [
    {
     "data": {
      "image/svg+xml": [
       "<svg xmlns=\"http://www.w3.org/2000/svg\" xmlns:xlink=\"http://www.w3.org/1999/xlink\" width=\"306pt\" height=\"296pt\" viewBox=\"0.00 0.00 315.00 304.00\">\n",
       "<g id=\"graph0\" class=\"graph\" transform=\"scale(.9722 .9722) rotate(0) translate(4 300)\">\n",
       "<title>G</title>\n",
       "<polygon fill=\"#ffffff\" stroke=\"transparent\" points=\"-4,4 -4,-300 311,-300 311,4 -4,4\"/>\n",
       "<!-- 139660517018064 -->\n",
       "<g id=\"node1\" class=\"node\">\n",
       "<title>139660517018064</title>\n",
       "<polygon fill=\"none\" stroke=\"#000000\" points=\"0,-249.5 0,-295.5 307,-295.5 307,-249.5 0,-249.5\"/>\n",
       "<text text-anchor=\"middle\" x=\"81.5\" y=\"-268.8\" font-family=\"Times,serif\" font-size=\"14.00\" fill=\"#000000\">dense_1_input: InputLayer</text>\n",
       "<polyline fill=\"none\" stroke=\"#000000\" points=\"163,-249.5 163,-295.5 \"/>\n",
       "<text text-anchor=\"middle\" x=\"190.5\" y=\"-280.3\" font-family=\"Times,serif\" font-size=\"14.00\" fill=\"#000000\">input:</text>\n",
       "<polyline fill=\"none\" stroke=\"#000000\" points=\"163,-272.5 218,-272.5 \"/>\n",
       "<text text-anchor=\"middle\" x=\"190.5\" y=\"-257.3\" font-family=\"Times,serif\" font-size=\"14.00\" fill=\"#000000\">output:</text>\n",
       "<polyline fill=\"none\" stroke=\"#000000\" points=\"218,-249.5 218,-295.5 \"/>\n",
       "<text text-anchor=\"middle\" x=\"262.5\" y=\"-280.3\" font-family=\"Times,serif\" font-size=\"14.00\" fill=\"#000000\">(None, 1096)</text>\n",
       "<polyline fill=\"none\" stroke=\"#000000\" points=\"218,-272.5 307,-272.5 \"/>\n",
       "<text text-anchor=\"middle\" x=\"262.5\" y=\"-257.3\" font-family=\"Times,serif\" font-size=\"14.00\" fill=\"#000000\">(None, 1096)</text>\n",
       "</g>\n",
       "<!-- 139658962934128 -->\n",
       "<g id=\"node2\" class=\"node\">\n",
       "<title>139658962934128</title>\n",
       "<polygon fill=\"none\" stroke=\"#000000\" points=\"30.5,-166.5 30.5,-212.5 276.5,-212.5 276.5,-166.5 30.5,-166.5\"/>\n",
       "<text text-anchor=\"middle\" x=\"81.5\" y=\"-185.8\" font-family=\"Times,serif\" font-size=\"14.00\" fill=\"#000000\">dense_1: Dense</text>\n",
       "<polyline fill=\"none\" stroke=\"#000000\" points=\"132.5,-166.5 132.5,-212.5 \"/>\n",
       "<text text-anchor=\"middle\" x=\"160\" y=\"-197.3\" font-family=\"Times,serif\" font-size=\"14.00\" fill=\"#000000\">input:</text>\n",
       "<polyline fill=\"none\" stroke=\"#000000\" points=\"132.5,-189.5 187.5,-189.5 \"/>\n",
       "<text text-anchor=\"middle\" x=\"160\" y=\"-174.3\" font-family=\"Times,serif\" font-size=\"14.00\" fill=\"#000000\">output:</text>\n",
       "<polyline fill=\"none\" stroke=\"#000000\" points=\"187.5,-166.5 187.5,-212.5 \"/>\n",
       "<text text-anchor=\"middle\" x=\"232\" y=\"-197.3\" font-family=\"Times,serif\" font-size=\"14.00\" fill=\"#000000\">(None, 1096)</text>\n",
       "<polyline fill=\"none\" stroke=\"#000000\" points=\"187.5,-189.5 276.5,-189.5 \"/>\n",
       "<text text-anchor=\"middle\" x=\"232\" y=\"-174.3\" font-family=\"Times,serif\" font-size=\"14.00\" fill=\"#000000\">(None, 1024)</text>\n",
       "</g>\n",
       "<!-- 139660517018064&#45;&gt;139658962934128 -->\n",
       "<g id=\"edge1\" class=\"edge\">\n",
       "<title>139660517018064-&gt;139658962934128</title>\n",
       "<path fill=\"none\" stroke=\"#000000\" d=\"M153.5,-249.3799C153.5,-241.1745 153.5,-231.7679 153.5,-222.8786\"/>\n",
       "<polygon fill=\"#000000\" stroke=\"#000000\" points=\"157.0001,-222.784 153.5,-212.784 150.0001,-222.784 157.0001,-222.784\"/>\n",
       "</g>\n",
       "<!-- 139658963307920 -->\n",
       "<g id=\"node3\" class=\"node\">\n",
       "<title>139658963307920</title>\n",
       "<polygon fill=\"none\" stroke=\"#000000\" points=\"30.5,-83.5 30.5,-129.5 276.5,-129.5 276.5,-83.5 30.5,-83.5\"/>\n",
       "<text text-anchor=\"middle\" x=\"81.5\" y=\"-102.8\" font-family=\"Times,serif\" font-size=\"14.00\" fill=\"#000000\">dense_2: Dense</text>\n",
       "<polyline fill=\"none\" stroke=\"#000000\" points=\"132.5,-83.5 132.5,-129.5 \"/>\n",
       "<text text-anchor=\"middle\" x=\"160\" y=\"-114.3\" font-family=\"Times,serif\" font-size=\"14.00\" fill=\"#000000\">input:</text>\n",
       "<polyline fill=\"none\" stroke=\"#000000\" points=\"132.5,-106.5 187.5,-106.5 \"/>\n",
       "<text text-anchor=\"middle\" x=\"160\" y=\"-91.3\" font-family=\"Times,serif\" font-size=\"14.00\" fill=\"#000000\">output:</text>\n",
       "<polyline fill=\"none\" stroke=\"#000000\" points=\"187.5,-83.5 187.5,-129.5 \"/>\n",
       "<text text-anchor=\"middle\" x=\"232\" y=\"-114.3\" font-family=\"Times,serif\" font-size=\"14.00\" fill=\"#000000\">(None, 1024)</text>\n",
       "<polyline fill=\"none\" stroke=\"#000000\" points=\"187.5,-106.5 276.5,-106.5 \"/>\n",
       "<text text-anchor=\"middle\" x=\"232\" y=\"-91.3\" font-family=\"Times,serif\" font-size=\"14.00\" fill=\"#000000\">(None, 512)</text>\n",
       "</g>\n",
       "<!-- 139658962934128&#45;&gt;139658963307920 -->\n",
       "<g id=\"edge2\" class=\"edge\">\n",
       "<title>139658962934128-&gt;139658963307920</title>\n",
       "<path fill=\"none\" stroke=\"#000000\" d=\"M153.5,-166.3799C153.5,-158.1745 153.5,-148.7679 153.5,-139.8786\"/>\n",
       "<polygon fill=\"#000000\" stroke=\"#000000\" points=\"157.0001,-139.784 153.5,-129.784 150.0001,-139.784 157.0001,-139.784\"/>\n",
       "</g>\n",
       "<!-- 139660517016432 -->\n",
       "<g id=\"node4\" class=\"node\">\n",
       "<title>139660517016432</title>\n",
       "<polygon fill=\"none\" stroke=\"#000000\" points=\"33.5,-.5 33.5,-46.5 273.5,-46.5 273.5,-.5 33.5,-.5\"/>\n",
       "<text text-anchor=\"middle\" x=\"84.5\" y=\"-19.8\" font-family=\"Times,serif\" font-size=\"14.00\" fill=\"#000000\">dense_3: Dense</text>\n",
       "<polyline fill=\"none\" stroke=\"#000000\" points=\"135.5,-.5 135.5,-46.5 \"/>\n",
       "<text text-anchor=\"middle\" x=\"163\" y=\"-31.3\" font-family=\"Times,serif\" font-size=\"14.00\" fill=\"#000000\">input:</text>\n",
       "<polyline fill=\"none\" stroke=\"#000000\" points=\"135.5,-23.5 190.5,-23.5 \"/>\n",
       "<text text-anchor=\"middle\" x=\"163\" y=\"-8.3\" font-family=\"Times,serif\" font-size=\"14.00\" fill=\"#000000\">output:</text>\n",
       "<polyline fill=\"none\" stroke=\"#000000\" points=\"190.5,-.5 190.5,-46.5 \"/>\n",
       "<text text-anchor=\"middle\" x=\"232\" y=\"-31.3\" font-family=\"Times,serif\" font-size=\"14.00\" fill=\"#000000\">(None, 512)</text>\n",
       "<polyline fill=\"none\" stroke=\"#000000\" points=\"190.5,-23.5 273.5,-23.5 \"/>\n",
       "<text text-anchor=\"middle\" x=\"232\" y=\"-8.3\" font-family=\"Times,serif\" font-size=\"14.00\" fill=\"#000000\">(None, 20)</text>\n",
       "</g>\n",
       "<!-- 139658963307920&#45;&gt;139660517016432 -->\n",
       "<g id=\"edge3\" class=\"edge\">\n",
       "<title>139658963307920-&gt;139660517016432</title>\n",
       "<path fill=\"none\" stroke=\"#000000\" d=\"M153.5,-83.3799C153.5,-75.1745 153.5,-65.7679 153.5,-56.8786\"/>\n",
       "<polygon fill=\"#000000\" stroke=\"#000000\" points=\"157.0001,-56.784 153.5,-46.784 150.0001,-56.784 157.0001,-56.784\"/>\n",
       "</g>\n",
       "</g>\n",
       "</svg>"
      ],
      "text/plain": [
       "<IPython.core.display.SVG object>"
      ]
     },
     "execution_count": 25,
     "metadata": {},
     "output_type": "execute_result"
    }
   ],
   "source": [
    "SVG(model_to_dot(model, show_shapes=True, dpi=70).create(prog='dot', format='svg'))"
   ]
  },
  {
   "cell_type": "markdown",
   "metadata": {},
   "source": [
    "### Train the model"
   ]
  },
  {
   "cell_type": "code",
   "execution_count": 26,
   "metadata": {
    "ExecuteTime": {
     "end_time": "2020-11-24T12:26:05.908603Z",
     "start_time": "2020-11-24T12:26:05.904002Z"
    }
   },
   "outputs": [],
   "source": [
    "import time"
   ]
  },
  {
   "cell_type": "code",
   "execution_count": 27,
   "metadata": {
    "ExecuteTime": {
     "end_time": "2020-11-24T12:26:10.527355Z",
     "start_time": "2020-11-24T12:26:06.348237Z"
    }
   },
   "outputs": [
    {
     "name": "stdout",
     "output_type": "stream",
     "text": [
      "Train on 1562 samples, validate on 174 samples\n",
      "Epoch 1/10\n",
      "1562/1562 [==============================] - 1s 367us/step - loss: 1.3846 - accuracy: 0.7599 - val_loss: 0.1207 - val_accuracy: 0.9943\n",
      "Epoch 2/10\n",
      "1562/1562 [==============================] - 0s 233us/step - loss: 0.0176 - accuracy: 1.0000 - val_loss: 0.0275 - val_accuracy: 0.9943\n",
      "Epoch 3/10\n",
      "1562/1562 [==============================] - 0s 219us/step - loss: 0.0037 - accuracy: 1.0000 - val_loss: 0.0227 - val_accuracy: 0.9943\n",
      "Epoch 4/10\n",
      "1562/1562 [==============================] - 0s 207us/step - loss: 0.0021 - accuracy: 1.0000 - val_loss: 0.0217 - val_accuracy: 0.9943\n",
      "Epoch 5/10\n",
      "1562/1562 [==============================] - 0s 215us/step - loss: 0.0015 - accuracy: 1.0000 - val_loss: 0.0212 - val_accuracy: 0.9943\n",
      "Epoch 6/10\n",
      "1562/1562 [==============================] - 0s 217us/step - loss: 0.0011 - accuracy: 1.0000 - val_loss: 0.0212 - val_accuracy: 0.9943\n",
      "Epoch 7/10\n",
      "1562/1562 [==============================] - 0s 219us/step - loss: 8.2220e-04 - accuracy: 1.0000 - val_loss: 0.0211 - val_accuracy: 0.9943\n",
      "Epoch 8/10\n",
      "1562/1562 [==============================] - 0s 211us/step - loss: 6.6393e-04 - accuracy: 1.0000 - val_loss: 0.0208 - val_accuracy: 0.9943\n",
      "Epoch 9/10\n",
      "1562/1562 [==============================] - 0s 207us/step - loss: 5.3529e-04 - accuracy: 1.0000 - val_loss: 0.0211 - val_accuracy: 0.9943\n",
      "Epoch 10/10\n",
      "1562/1562 [==============================] - 0s 220us/step - loss: 4.4617e-04 - accuracy: 1.0000 - val_loss: 0.0212 - val_accuracy: 0.9943\n",
      "Elapsed time (learning): 00:00:04\n"
     ]
    }
   ],
   "source": [
    "start_time = time.time()\n",
    "\n",
    "history = model.fit(train_data,\n",
    "                    train_labels, \n",
    "                    validation_split=0.1,\n",
    "                    epochs=10)\n",
    "\n",
    "elapsed_time = time.time() - start_time\n",
    "t = time.strftime(\"%H:%M:%S\", time.gmtime(elapsed_time))\n",
    "print('Elapsed time (learning):', t)"
   ]
  },
  {
   "cell_type": "markdown",
   "metadata": {},
   "source": [
    "### Plot loss and accuracy"
   ]
  },
  {
   "cell_type": "code",
   "execution_count": 28,
   "metadata": {
    "ExecuteTime": {
     "end_time": "2020-11-24T12:26:24.068119Z",
     "start_time": "2020-11-24T12:26:24.052001Z"
    }
   },
   "outputs": [],
   "source": [
    "history_dict = history.history\n",
    "\n",
    "acc = history_dict['accuracy']\n",
    "val_acc = history_dict['val_accuracy']\n",
    "loss = history_dict['loss']\n",
    "val_loss = history_dict['val_loss']\n",
    "\n",
    "epochs = range(1, len(acc) + 1)"
   ]
  },
  {
   "cell_type": "code",
   "execution_count": 29,
   "metadata": {
    "ExecuteTime": {
     "end_time": "2020-11-24T12:26:24.657353Z",
     "start_time": "2020-11-24T12:26:24.653205Z"
    }
   },
   "outputs": [],
   "source": [
    "import matplotlib.pyplot as plt"
   ]
  },
  {
   "cell_type": "code",
   "execution_count": 30,
   "metadata": {
    "ExecuteTime": {
     "end_time": "2020-11-24T12:26:26.118926Z",
     "start_time": "2020-11-24T12:26:25.662691Z"
    }
   },
   "outputs": [
    {
     "data": {
      "image/png": "[encoded data removed]",
      "text/plain": [
       "<Figure size 576x576 with 1 Axes>"
      ]
     },
     "metadata": {
      "image/png": {
       "height": 494,
       "width": 497
      },
      "needs_background": "light"
     },
     "output_type": "display_data"
    }
   ],
   "source": [
    "plt.figure(figsize=(8,8))\n",
    "plt.plot(epochs, loss, 'b', label='Training loss')\n",
    "plt.plot(epochs, val_loss, 'g', label='Validation loss')\n",
    "plt.title('Training and validation loss')\n",
    "plt.xlabel('Epochs')\n",
    "plt.ylabel('Loss')\n",
    "plt.legend()\n",
    "plt.show()"
   ]
  },
  {
   "cell_type": "code",
   "execution_count": 31,
   "metadata": {
    "ExecuteTime": {
     "end_time": "2020-11-24T12:26:29.916269Z",
     "start_time": "2020-11-24T12:26:29.519061Z"
    }
   },
   "outputs": [
    {
     "data": {
      "image/png": "[encoded data removed]",
      "text/plain": [
       "<Figure size 576x576 with 1 Axes>"
      ]
     },
     "metadata": {
      "image/png": {
       "height": 494,
       "width": 503
      },
      "needs_background": "light"
     },
     "output_type": "display_data"
    }
   ],
   "source": [
    "plt.figure(figsize=(8,8))\n",
    "plt.plot(epochs, acc, 'b', label='Training acc')\n",
    "plt.plot(epochs, val_acc, 'g', label='Validation acc')\n",
    "plt.title('Training and validation accuracy')\n",
    "plt.xlabel('Epochs')\n",
    "plt.ylabel('Accuracy')\n",
    "plt.legend()\n",
    "plt.show()"
   ]
  },
  {
   "cell_type": "markdown",
   "metadata": {},
   "source": [
    "---"
   ]
  },
  {
   "cell_type": "markdown",
   "metadata": {},
   "source": [
    "## Evaluate the model"
   ]
  },
  {
   "cell_type": "markdown",
   "metadata": {},
   "source": [
    "### Compute f-score on the test set"
   ]
  },
  {
   "cell_type": "code",
   "execution_count": 32,
   "metadata": {
    "ExecuteTime": {
     "end_time": "2020-11-24T12:26:33.634712Z",
     "start_time": "2020-11-24T12:26:33.615523Z"
    }
   },
   "outputs": [],
   "source": [
    "test_corpus = [' '.join(corpus.get_tokens(doc_id)) for doc_id in test_doc_ids]\n",
    "test_data = vectorizer.transform(test_corpus)"
   ]
  },
  {
   "cell_type": "code",
   "execution_count": 33,
   "metadata": {
    "ExecuteTime": {
     "end_time": "2020-11-24T12:26:35.728578Z",
     "start_time": "2020-11-24T12:26:35.632962Z"
    }
   },
   "outputs": [],
   "source": [
    "test_pred = model.predict(test_data)\n",
    "# round to nearest integer\n",
    "test_pred = np.rint(test_pred)"
   ]
  },
  {
   "cell_type": "code",
   "execution_count": 34,
   "metadata": {
    "ExecuteTime": {
     "end_time": "2020-11-24T12:26:37.494464Z",
     "start_time": "2020-11-24T12:26:37.486980Z"
    }
   },
   "outputs": [
    {
     "data": {
      "text/plain": [
       "array([0., 0., 0., 0., 0., 0., 0., 0., 0., 0., 0., 1., 0., 0., 0., 0., 0.,\n",
       "       0., 0., 0.], dtype=float32)"
      ]
     },
     "execution_count": 34,
     "metadata": {},
     "output_type": "execute_result"
    }
   ],
   "source": [
    "test_pred[0]"
   ]
  },
  {
   "cell_type": "code",
   "execution_count": 35,
   "metadata": {
    "ExecuteTime": {
     "end_time": "2020-11-24T12:26:39.209668Z",
     "start_time": "2020-11-24T12:26:39.205767Z"
    }
   },
   "outputs": [],
   "source": [
    "from sklearn.metrics import classification_report"
   ]
  },
  {
   "cell_type": "code",
   "execution_count": 36,
   "metadata": {
    "ExecuteTime": {
     "end_time": "2020-11-24T12:26:39.461661Z",
     "start_time": "2020-11-24T12:26:39.427789Z"
    }
   },
   "outputs": [
    {
     "name": "stdout",
     "output_type": "stream",
     "text": [
      "              precision    recall  f1-score   support\n",
      "\n",
      "           0       1.00      1.00      1.00        14\n",
      "           1       1.00      1.00      1.00         9\n",
      "           2       1.00      1.00      1.00        14\n",
      "           3       1.00      1.00      1.00        21\n",
      "           4       1.00      1.00      1.00        35\n",
      "           5       1.00      1.00      1.00        22\n",
      "           6       1.00      1.00      1.00        28\n",
      "           7       1.00      1.00      1.00        40\n",
      "           8       1.00      1.00      1.00        33\n",
      "           9       1.00      1.00      1.00         8\n",
      "          10       1.00      0.97      0.98        29\n",
      "          11       1.00      0.98      0.99        41\n",
      "          12       1.00      1.00      1.00        12\n",
      "          13       1.00      1.00      1.00        18\n",
      "          14       1.00      1.00      1.00        25\n",
      "          15       1.00      1.00      1.00        12\n",
      "          16       1.00      1.00      1.00         9\n",
      "          17       1.00      1.00      1.00        28\n",
      "          18       1.00      1.00      1.00        23\n",
      "          19       1.00      1.00      1.00        14\n",
      "\n",
      "   micro avg       1.00      1.00      1.00       435\n",
      "   macro avg       1.00      1.00      1.00       435\n",
      "weighted avg       1.00      1.00      1.00       435\n",
      " samples avg       1.00      1.00      1.00       435\n",
      "\n"
     ]
    },
    {
     "name": "stderr",
     "output_type": "stream",
     "text": [
      "/home/nvidia/anaconda3/envs/testenv/lib/python3.8/site-packages/sklearn/metrics/_classification.py:1272: UndefinedMetricWarning: Precision and F-score are ill-defined and being set to 0.0 in samples with no predicted labels. Use `zero_division` parameter to control this behavior.\n",
      "  _warn_prf(average, modifier, msg_start, len(result))\n"
     ]
    }
   ],
   "source": [
    "print(classification_report(test_labels, test_pred))"
   ]
  },
  {
   "cell_type": "markdown",
   "metadata": {},
   "source": [
    "## Save model to a file"
   ]
  },
  {
   "cell_type": "code",
   "execution_count": 37,
   "metadata": {
    "ExecuteTime": {
     "end_time": "2020-11-24T12:26:45.562997Z",
     "start_time": "2020-11-24T12:26:45.558700Z"
    }
   },
   "outputs": [],
   "source": [
    "nn_filename = 'alaska_nn_tfidf_model.h5'\n",
    "nn_filepath = os.path.join(root_dir, models_dir, nn_filename)"
   ]
  },
  {
   "cell_type": "code",
   "execution_count": 38,
   "metadata": {
    "ExecuteTime": {
     "end_time": "2020-11-24T12:26:46.138790Z",
     "start_time": "2020-11-24T12:26:46.045428Z"
    }
   },
   "outputs": [],
   "source": [
    "model.save(nn_filepath)"
   ]
  },
  {
   "cell_type": "markdown",
   "metadata": {},
   "source": [
    "---"
   ]
  },
  {
   "cell_type": "markdown",
   "metadata": {},
   "source": [
    "## Save `vectorizer` to a file"
   ]
  },
  {
   "cell_type": "code",
   "execution_count": 39,
   "metadata": {
    "ExecuteTime": {
     "end_time": "2020-11-24T12:26:48.209914Z",
     "start_time": "2020-11-24T12:26:48.191481Z"
    }
   },
   "outputs": [],
   "source": [
    "import dill"
   ]
  },
  {
   "cell_type": "code",
   "execution_count": 40,
   "metadata": {
    "ExecuteTime": {
     "end_time": "2020-11-24T12:26:48.800126Z",
     "start_time": "2020-11-24T12:26:48.795755Z"
    }
   },
   "outputs": [],
   "source": [
    "vectorizer_filename = f'alaska_tfidf_vectorizer.pkl'\n",
    "vectorizer_filepath = os.path.join(root_dir, models_dir, vectorizer_filename)"
   ]
  },
  {
   "cell_type": "code",
   "execution_count": 41,
   "metadata": {
    "ExecuteTime": {
     "end_time": "2020-11-24T12:26:49.935966Z",
     "start_time": "2020-11-24T12:26:49.879458Z"
    }
   },
   "outputs": [],
   "source": [
    "with open(vectorizer_filepath, 'wb') as out:\n",
    "    dill.dump(vectorizer, out)"
   ]
  },
  {
   "cell_type": "markdown",
   "metadata": {},
   "source": [
    "---"
   ]
  }
 ],
 "metadata": {
  "kernelspec": {
   "display_name": "Python 3",
   "language": "python",
   "name": "python3"
  },
  "language_info": {
   "codemirror_mode": {
    "name": "ipython",
    "version": 3
   },
   "file_extension": ".py",
   "mimetype": "text/x-python",
   "name": "python",
   "nbconvert_exporter": "python",
   "pygments_lexer": "ipython3",
   "version": "3.8.1"
  },
  "toc": {
   "base_numbering": 1,
   "nav_menu": {},
   "number_sections": true,
   "sideBar": true,
   "skip_h1_title": false,
   "title_cell": "Table of Contents",
   "title_sidebar": "Contents",
   "toc_cell": false,
   "toc_position": {},
   "toc_section_display": true,
   "toc_window_display": false
  }
 },
 "nbformat": 4,
 "nbformat_minor": 4
}
