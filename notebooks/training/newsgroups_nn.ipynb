{
 "cells": [
  {
   "cell_type": "markdown",
   "metadata": {},
   "source": [
    "# Training a neural network model on the 20newsgroups dataset"
   ]
  },
  {
   "cell_type": "code",
   "execution_count": 1,
   "metadata": {
    "ExecuteTime": {
     "end_time": "2020-09-25T22:01:23.805375Z",
     "start_time": "2020-09-25T22:01:23.321819Z"
    }
   },
   "outputs": [],
   "source": [
    "%matplotlib inline\n",
    "%config InlineBackend.figure_format = 'retina'"
   ]
  },
  {
   "cell_type": "markdown",
   "metadata": {},
   "source": [
    "---"
   ]
  },
  {
   "cell_type": "markdown",
   "metadata": {},
   "source": [
    "## Load the data"
   ]
  },
  {
   "cell_type": "code",
   "execution_count": 2,
   "metadata": {
    "ExecuteTime": {
     "end_time": "2020-09-25T22:01:26.080931Z",
     "start_time": "2020-09-25T22:01:26.075712Z"
    }
   },
   "outputs": [],
   "source": [
    "root_dir = '../../'\n",
    "src_dir = 'src'\n",
    "data_dir = 'data/corpus'\n",
    "models_dir = 'data/models'"
   ]
  },
  {
   "cell_type": "code",
   "execution_count": 3,
   "metadata": {
    "ExecuteTime": {
     "end_time": "2020-09-25T22:01:26.605070Z",
     "start_time": "2020-09-25T22:01:26.599322Z"
    }
   },
   "outputs": [],
   "source": [
    "import os\n",
    "import sys"
   ]
  },
  {
   "cell_type": "code",
   "execution_count": 4,
   "metadata": {
    "ExecuteTime": {
     "end_time": "2020-09-25T22:01:26.913191Z",
     "start_time": "2020-09-25T22:01:26.909232Z"
    }
   },
   "outputs": [],
   "source": [
    "sys.path.append(os.path.join(root_dir, src_dir))"
   ]
  },
  {
   "cell_type": "code",
   "execution_count": 5,
   "metadata": {
    "ExecuteTime": {
     "end_time": "2020-09-25T22:01:27.265318Z",
     "start_time": "2020-09-25T22:01:27.262594Z"
    }
   },
   "outputs": [],
   "source": [
    "corpus_filename = 'newsgroups_corpus.json'"
   ]
  },
  {
   "cell_type": "code",
   "execution_count": 6,
   "metadata": {
    "ExecuteTime": {
     "end_time": "2020-09-25T22:01:28.654277Z",
     "start_time": "2020-09-25T22:01:27.563242Z"
    }
   },
   "outputs": [],
   "source": [
    "from training import TrainingCorpus"
   ]
  },
  {
   "cell_type": "code",
   "execution_count": 7,
   "metadata": {
    "ExecuteTime": {
     "end_time": "2020-09-25T22:01:29.122882Z",
     "start_time": "2020-09-25T22:01:28.656314Z"
    }
   },
   "outputs": [],
   "source": [
    "newsgroups_corpus = TrainingCorpus()\n",
    "newsgroups_corpus.load(os.path.join(root_dir, data_dir, corpus_filename))"
   ]
  },
  {
   "cell_type": "code",
   "execution_count": 8,
   "metadata": {
    "ExecuteTime": {
     "end_time": "2020-09-25T22:01:29.130380Z",
     "start_time": "2020-09-25T22:01:29.124855Z"
    }
   },
   "outputs": [
    {
     "data": {
      "text/plain": [
       "10000"
      ]
     },
     "execution_count": 8,
     "metadata": {},
     "output_type": "execute_result"
    }
   ],
   "source": [
    "newsgroups_corpus.size"
   ]
  },
  {
   "cell_type": "markdown",
   "metadata": {},
   "source": [
    "---"
   ]
  },
  {
   "cell_type": "markdown",
   "metadata": {},
   "source": [
    "## Split the dataset into training and test set"
   ]
  },
  {
   "cell_type": "code",
   "execution_count": 9,
   "metadata": {
    "ExecuteTime": {
     "end_time": "2020-09-25T22:01:30.996003Z",
     "start_time": "2020-09-25T22:01:30.975919Z"
    }
   },
   "outputs": [],
   "source": [
    "train_doc_ids, test_doc_ids, train_labels, test_labels = newsgroups_corpus.get_train_test_data(test_size=0.2, random_state=3)"
   ]
  },
  {
   "cell_type": "code",
   "execution_count": 10,
   "metadata": {
    "ExecuteTime": {
     "end_time": "2020-09-25T22:01:31.155370Z",
     "start_time": "2020-09-25T22:01:31.146415Z"
    }
   },
   "outputs": [
    {
     "name": "stdout",
     "output_type": "stream",
     "text": [
      "Training set size: 8000\n",
      "Test set size: 2000\n",
      "No. of labels: 20\n"
     ]
    }
   ],
   "source": [
    "n_classes = train_labels.shape[1]\n",
    "print(f'Training set size: {len(train_doc_ids)}')\n",
    "print(f'Test set size: {len(test_doc_ids)}')\n",
    "print(f'No. of labels: {n_classes}')"
   ]
  },
  {
   "cell_type": "markdown",
   "metadata": {},
   "source": [
    "---"
   ]
  },
  {
   "cell_type": "markdown",
   "metadata": {},
   "source": [
    "## Train a Fasttext model"
   ]
  },
  {
   "cell_type": "code",
   "execution_count": 11,
   "metadata": {
    "ExecuteTime": {
     "end_time": "2020-09-25T22:01:32.557679Z",
     "start_time": "2020-09-25T22:01:32.200526Z"
    }
   },
   "outputs": [
    {
     "name": "stderr",
     "output_type": "stream",
     "text": [
      "unable to import 'smart_open.gcs', disabling that module\n"
     ]
    }
   ],
   "source": [
    "from gensim.models import FastText"
   ]
  },
  {
   "cell_type": "code",
   "execution_count": 12,
   "metadata": {
    "ExecuteTime": {
     "end_time": "2020-09-25T22:01:32.831016Z",
     "start_time": "2020-09-25T22:01:32.776986Z"
    }
   },
   "outputs": [],
   "source": [
    "fasttext_training_set = [' '.join(newsgroups_corpus.get_tokens(doc_id)) for doc_id in newsgroups_corpus.docs]"
   ]
  },
  {
   "cell_type": "code",
   "execution_count": 13,
   "metadata": {
    "ExecuteTime": {
     "end_time": "2020-09-25T22:01:39.396807Z",
     "start_time": "2020-09-25T22:01:34.187002Z"
    }
   },
   "outputs": [],
   "source": [
    "fasttext_model = FastText(size=200, window=3, min_count=10)"
   ]
  },
  {
   "cell_type": "code",
   "execution_count": 14,
   "metadata": {
    "ExecuteTime": {
     "end_time": "2020-09-25T22:01:49.358936Z",
     "start_time": "2020-09-25T22:01:39.398576Z"
    }
   },
   "outputs": [],
   "source": [
    "fasttext_model.build_vocab(sentences=fasttext_training_set)"
   ]
  },
  {
   "cell_type": "code",
   "execution_count": 15,
   "metadata": {
    "ExecuteTime": {
     "end_time": "2020-09-25T22:02:54.120812Z",
     "start_time": "2020-09-25T22:01:49.361037Z"
    }
   },
   "outputs": [],
   "source": [
    "fasttext_model.train(sentences=fasttext_training_set, total_examples=len(fasttext_training_set), epochs=30)"
   ]
  },
  {
   "cell_type": "markdown",
   "metadata": {},
   "source": [
    "## Build the embedding matrix"
   ]
  },
  {
   "cell_type": "markdown",
   "metadata": {},
   "source": [
    "### Define the vocabulary"
   ]
  },
  {
   "cell_type": "code",
   "execution_count": 16,
   "metadata": {
    "ExecuteTime": {
     "end_time": "2020-09-25T22:02:58.477998Z",
     "start_time": "2020-09-25T22:02:58.210727Z"
    }
   },
   "outputs": [],
   "source": [
    "docs_tokens = [newsgroups_corpus.get_tokens(doc_id) for doc_id in train_doc_ids]\n",
    "vocab = sorted({token for tokens in docs_tokens for token in tokens})"
   ]
  },
  {
   "cell_type": "code",
   "execution_count": 17,
   "metadata": {
    "ExecuteTime": {
     "end_time": "2020-09-25T22:03:08.171367Z",
     "start_time": "2020-09-25T22:03:08.165326Z"
    }
   },
   "outputs": [
    {
     "data": {
      "text/plain": [
       "90844"
      ]
     },
     "execution_count": 17,
     "metadata": {},
     "output_type": "execute_result"
    }
   ],
   "source": [
    "len(vocab)"
   ]
  },
  {
   "cell_type": "code",
   "execution_count": 20,
   "metadata": {
    "ExecuteTime": {
     "end_time": "2020-09-25T22:04:22.908790Z",
     "start_time": "2020-09-25T22:04:22.883185Z"
    }
   },
   "outputs": [
    {
     "data": {
      "text/plain": [
       "['\\x02ubject',\n",
       " \"*'4jtj-\",\n",
       " \"*'ax\",\n",
       " '**',\n",
       " '***',\n",
       " '****shipping',\n",
       " '***collector',\n",
       " '**6',\n",
       " '**b',\n",
       " '**bhi8\\\\ucs\\\\xj*y^=8\\\\^',\n",
       " '**cu43t_',\n",
       " '**nk*',\n",
       " '**ys',\n",
       " '*+r\\\\z',\n",
       " '*-',\n",
       " '*-head',\n",
       " '*-v',\n",
       " '*-x745',\n",
       " \"*/'-m\",\n",
       " '*0',\n",
       " '*088z',\n",
       " '*1',\n",
       " '*10',\n",
       " '*11',\n",
       " '*12',\n",
       " '*15',\n",
       " '*1b8vbv',\n",
       " '*1n',\n",
       " '*2',\n",
       " '*20m',\n",
       " '*23:5',\n",
       " '*27m',\n",
       " '*28',\n",
       " '*28i',\n",
       " '*28kcxxj*28kcbhj*bn-',\n",
       " '*2dga',\n",
       " '*2di',\n",
       " '*2di*2',\n",
       " '*2di*2de14di*2',\n",
       " '*2di*2di*25',\n",
       " '*2di*2di*2de',\n",
       " '*2di*2di*2di*2',\n",
       " '*2di*2di*2di*25',\n",
       " '*2di*2di*2di*2di*2di*2di*2di',\n",
       " '*2di*2di*2di*2di*2di*2di*2di*2de145',\n",
       " '*2di*2g',\n",
       " \"*2di*2u=6'ax\",\n",
       " '*2di*2u=75u=75u=5',\n",
       " \"*2di+5u=75u=6'ax\",\n",
       " '*2di+5u=75u=75u4',\n",
       " '*2dm4y',\n",
       " '*2dm75u=75u4',\n",
       " '*2dm75u=75u=750d',\n",
       " '*2dm75u=75u=75u4',\n",
       " '*2g',\n",
       " '*2gt',\n",
       " '*2tpx5r',\n",
       " '*2u80-',\n",
       " '*2u=75',\n",
       " '*2u=75u4',\n",
       " '*2u=75u=75u=75u=5',\n",
       " \"*2u=75u=75u=75u=6'ax\",\n",
       " '*2u=75u=75u=75u=75u=75u0',\n",
       " '*3',\n",
       " '*3d',\n",
       " '*3dy8bhj*bhj*y^=',\n",
       " '*3q',\n",
       " '*4',\n",
       " '*45h',\n",
       " '*4e',\n",
       " '*4qb6',\n",
       " '*5',\n",
       " '*5e',\n",
       " '*6',\n",
       " '*6*',\n",
       " '*6/',\n",
       " '*6ag',\n",
       " '*7',\n",
       " '*7d*f8ps',\n",
       " '*8',\n",
       " '*8-\\\\9',\n",
       " '*8-\\\\k',\n",
       " '*8pgs',\n",
       " '*8r',\n",
       " \"*8r'ax\",\n",
       " '*9',\n",
       " '*9g',\n",
       " '*=',\n",
       " '*=91',\n",
       " '*=hpuhr',\n",
       " '*=ke2',\n",
       " '*\\\\',\n",
       " '*\\\\s+gy^',\n",
       " '*\\\\ub*y^',\n",
       " '*^',\n",
       " '*^*',\n",
       " '*^7xpdd',\n",
       " '*_u',\n",
       " '*a',\n",
       " '*aa',\n",
       " '*ack*',\n",
       " '*ai',\n",
       " \"*ai'*\",\n",
       " '*ao',\n",
       " '*aoj',\n",
       " '*aoj*bhj',\n",
       " '*ax',\n",
       " '*b5z',\n",
       " '*bc**',\n",
       " '*bc**xxhr3hkc',\n",
       " '*bc+cxtxrxxj*bn/c',\n",
       " '*bd',\n",
       " '*bdy8',\n",
       " '*bgn*3ea',\n",
       " '*bh',\n",
       " '*bhhr',\n",
       " '*bhi',\n",
       " '*bhj',\n",
       " '*bhj*',\n",
       " '*bhj*6',\n",
       " '*bhj*aoj',\n",
       " '*bhj*bgn*',\n",
       " '*bhj*bhj',\n",
       " '*bhj*bhj*bhj',\n",
       " '*bhj*bhj*bhj*bhjn',\n",
       " '*bhj*bhj*gizw',\n",
       " '*bhj*biz',\n",
       " '*bhj*ghj*giz*bizw',\n",
       " '*bhj*giz',\n",
       " '*bhj*gizw',\n",
       " '*bhj*kn',\n",
       " '*bhjn',\n",
       " '*bhkc',\n",
       " '*biz',\n",
       " '*biz1z4+9l0qax',\n",
       " '*bizw',\n",
       " '*bizwt',\n",
       " '*bj',\n",
       " '*bk',\n",
       " '*bn',\n",
       " '*bn-',\n",
       " '*bn/cbgn*x^/cxxhr',\n",
       " '*bn/cx^-',\n",
       " '*bn=8bc',\n",
       " '*bo.*bo-8bdy8bd',\n",
       " '*bo/s\\\\ty8',\n",
       " '*br',\n",
       " '*by',\n",
       " '*c',\n",
       " '*c/2',\n",
       " '*c/3k',\n",
       " '*cough*',\n",
       " '*d',\n",
       " '*d3horlk*09',\n",
       " '*does',\n",
       " '*e',\n",
       " '*ea6sthlia9hf',\n",
       " '*eaon',\n",
       " '*ecp\\\\/',\n",
       " '*ej',\n",
       " \"*eu6\\\\^'ax\",\n",
       " '*eup',\n",
       " '*exitpushbutton',\n",
       " '*ez9tae3',\n",
       " '*fckkatangc^',\n",
       " '*fsz',\n",
       " \"*gi'=75u1f4^\",\n",
       " \"*gi'i69f9l0qax\",\n",
       " '*giz',\n",
       " '*giz1z4+',\n",
       " '*gizw',\n",
       " '*gizwt',\n",
       " '*gk',\n",
       " '*great',\n",
       " '*gy\\\\7',\n",
       " '*h',\n",
       " '*h4',\n",
       " '*h4u-3/',\n",
       " '*how*',\n",
       " '*hx2\\\\',\n",
       " '*i',\n",
       " '*i-',\n",
       " '*ik',\n",
       " '*isaac',\n",
       " '*j',\n",
       " '*j3',\n",
       " '*j34aj7',\n",
       " '*j7prg',\n",
       " '*jbu-3/',\n",
       " '*jfxi',\n",
       " '*jj-mfl9-kt',\n",
       " '*jjh42',\n",
       " '*jjjc',\n",
       " '*jjjc8v1i',\n",
       " '*jjjc8vh^',\n",
       " '*jjjfc',\n",
       " '*jjjjk',\n",
       " '*jo',\n",
       " '*jp2',\n",
       " '*js',\n",
       " '*jswhl',\n",
       " '*jt',\n",
       " '*k',\n",
       " '*kjzzzo\\\\43',\n",
       " '*km',\n",
       " '*l1n2',\n",
       " '*ly2us',\n",
       " '*m',\n",
       " '*m1mihg',\n",
       " '*m49m9idhhm2fruq2ek',\n",
       " '*m^e9c',\n",
       " '*m_',\n",
       " '*may',\n",
       " '*maybe',\n",
       " '*mh0',\n",
       " '*mimq',\n",
       " \"*ms'lc\",\n",
       " '*nkj1b',\n",
       " '*not',\n",
       " '*ntzyd=6',\n",
       " '*openpushbutton',\n",
       " '*p',\n",
       " \"*p'9ge\",\n",
       " '*p=6hwhp4u-\\\\',\n",
       " '*p^9*sq',\n",
       " '*pf',\n",
       " '*pm',\n",
       " '*pm+8',\n",
       " '*q',\n",
       " \"*q*h/'lk-rq6a\",\n",
       " '*q*knsl\\\\',\n",
       " '*qd+8',\n",
       " '*qdvhpw46',\n",
       " '*qnpv',\n",
       " '*r',\n",
       " \"*r'ax\",\n",
       " '*rc67',\n",
       " '*rcs*',\n",
       " '*rdf',\n",
       " '*rdi',\n",
       " '*rft\\\\',\n",
       " '*rfv6rg/*',\n",
       " '*rg-s/',\n",
       " '*rg/8',\n",
       " '*ri',\n",
       " '*rj34a\\\\+2f',\n",
       " '*rj34a\\\\vbf',\n",
       " '*rl',\n",
       " '*rl1ez',\n",
       " '*rlb',\n",
       " '*rlh\\\\',\n",
       " '*rlhx0hk.',\n",
       " '*rlimrg/*rg/*',\n",
       " '*rlis',\n",
       " '*rlisv',\n",
       " '*rlk',\n",
       " '*rlk*+sk*rlhzalk*',\n",
       " '*rma826j',\n",
       " '*rmamrfw',\n",
       " '*rn',\n",
       " '*rnkh',\n",
       " '*ro-x9o0ez',\n",
       " '*rs',\n",
       " '*s',\n",
       " '*s,1',\n",
       " '*s/d',\n",
       " '*s3b',\n",
       " '*s3kfah',\n",
       " '*s9',\n",
       " '*se1',\n",
       " \"*se1'pi*8pg8\",\n",
       " '*se2',\n",
       " '*se2j',\n",
       " '*se99ot',\n",
       " '*se99otc',\n",
       " '*sigh*',\n",
       " '*sp',\n",
       " '*sph9',\n",
       " '*sq',\n",
       " '*t5k145mzvm',\n",
       " '*that',\n",
       " '*u',\n",
       " '*urmt',\n",
       " '*uv+',\n",
       " '*v',\n",
       " \"*v-c*rg/*/'/*v'-mv'/8/\",\n",
       " '*veg8-j',\n",
       " '*vi',\n",
       " '*vm',\n",
       " '*vmmw',\n",
       " '*vwm',\n",
       " '*w3x',\n",
       " '*w5',\n",
       " '*w5u.',\n",
       " '*w6j',\n",
       " '*wax',\n",
       " '*x^-',\n",
       " '*x^/cx^-',\n",
       " '*x^/cx^/cxwn*',\n",
       " '*xm+',\n",
       " '*xte',\n",
       " '*xua86',\n",
       " '*xwm',\n",
       " '*xwn*bgocbn/cbhkcbhj',\n",
       " '*xxi',\n",
       " '*xxj*',\n",
       " '*xxkc',\n",
       " '*y',\n",
       " \"*y73'dz6zfe\",\n",
       " '*y^=8bo-8',\n",
       " '*yh',\n",
       " '*yt',\n",
       " '*yty.\\\\ua',\n",
       " '*yu',\n",
       " '*yxhg',\n",
       " '*yxhr',\n",
       " '*yxi8',\n",
       " '*yxs',\n",
       " '*yyu',\n",
       " '*yyx',\n",
       " '*yz',\n",
       " '*yzi',\n",
       " '*z',\n",
       " '*z+',\n",
       " '*z-d\\\\',\n",
       " '*ze',\n",
       " '*zeu==',\n",
       " '*zlg0',\n",
       " '*zlkjz',\n",
       " '*zq/',\n",
       " \"+'0l'etl77t\",\n",
       " \"+'0u\",\n",
       " \"+'1t'c4u'gtu-34l+\",\n",
       " \"+'2znay\",\n",
       " \"+'jp\",\n",
       " \"+'jz\",\n",
       " \"+'jz.\",\n",
       " \"+'o6ei\",\n",
       " \"+'t\",\n",
       " \"+'tl\",\n",
       " \"+'tu+\",\n",
       " \"+'tu++\\\\lqrr_-7tlo\\\\=\",\n",
       " \"+'tuowtl'c5\",\n",
       " \"+'uax5r1\",\n",
       " \"+'ut72q\",\n",
       " \"+'vz770l'ay=\",\n",
       " \"+'vznkhf\",\n",
       " '+*',\n",
       " '+*f9f9lo^',\n",
       " '++',\n",
       " '++*zneut=+jz',\n",
       " '++++',\n",
       " '+++++++++++++++',\n",
       " '++++++++++++++++++++++++',\n",
       " '+++++++++++++++++++++++++',\n",
       " '+++++++++++++++++++++++++++++++++++++++++++',\n",
       " '++49',\n",
       " '++64',\n",
       " \"++\\\\l+'t\",\n",
       " '++\\\\l-2qiovdl',\n",
       " '++\\\\l77u=',\n",
       " '++\\\\uq\\\\',\n",
       " '++^_++^_os4l',\n",
       " '++don',\n",
       " '++i=',\n",
       " '++nvxiinly0*',\n",
       " '+,8',\n",
       " '+-',\n",
       " '+-*h',\n",
       " '+-+-+-+-+-+-+-+-+-+-+-+-+-+-+-+-+-+-+-+-+-+-+-+-+-+-+-+-+-+-+-+-+-+-+-+-+-+-+-+',\n",
       " '+-e',\n",
       " '+-h8',\n",
       " '+.',\n",
       " '+/-',\n",
       " '+/-20db',\n",
       " '+/p93',\n",
       " '+0',\n",
       " '+0000',\n",
       " '+0100',\n",
       " '+0200',\n",
       " '+0k',\n",
       " '+1',\n",
       " '+1-314-334-6317',\n",
       " '+1-404-985-1198',\n",
       " '+1-415-494-4440',\n",
       " '+1-505-988-2670',\n",
       " '+1-510-848-0853',\n",
       " '+1-510-848-0854',\n",
       " '+10',\n",
       " '+11',\n",
       " '+12',\n",
       " '+12/-12/+5',\n",
       " '+12v',\n",
       " '+12vdc',\n",
       " '+13',\n",
       " '+1300',\n",
       " '+16',\n",
       " '+18',\n",
       " '+1hm',\n",
       " '+2',\n",
       " '+20',\n",
       " '+26j',\n",
       " '+27',\n",
       " '+2\\\\',\n",
       " \"+2f'ax\",\n",
       " '+2jn*',\n",
       " '+2p',\n",
       " '+2t',\n",
       " '+2tl',\n",
       " '+2tm+',\n",
       " '+2tm+2tm',\n",
       " '+2tm+d',\n",
       " '+2tn0a',\n",
       " '+2ud9',\n",
       " '+2w',\n",
       " '+2w_4u-34',\n",
       " '+2we',\n",
       " '+2wex=:4e',\n",
       " '+2wp',\n",
       " '+3',\n",
       " '+32',\n",
       " '+33',\n",
       " '+34h^2y',\n",
       " '+38',\n",
       " '+3d',\n",
       " '+3x=',\n",
       " '+3xb0x',\n",
       " '+3yh',\n",
       " '+4',\n",
       " '+40',\n",
       " '+41',\n",
       " '+44',\n",
       " '+44-223-872522',\n",
       " '+44-954-211-797',\n",
       " '+45p',\n",
       " '+47',\n",
       " '+48',\n",
       " '+49',\n",
       " '+49-5323-72-3896',\n",
       " '+49-5323-78858',\n",
       " '+4^um',\n",
       " '+4r',\n",
       " '+4t',\n",
       " '+4tr',\n",
       " '+4u-34u-3',\n",
       " '+4ygz',\n",
       " '+4ykdb8x',\n",
       " '+5',\n",
       " '+50',\n",
       " '+58pcd5emb',\n",
       " '+5v',\n",
       " '+5vdc',\n",
       " '+6',\n",
       " '+61',\n",
       " '+61-3-822-0089',\n",
       " '+61-3-823-0222',\n",
       " '+61d9',\n",
       " '+61dk/',\n",
       " '+62d',\n",
       " '+62l',\n",
       " '+62l\\\\',\n",
       " '+62lk/',\n",
       " '+63p',\n",
       " '+64-7-838-4066',\n",
       " '+64-7-856-2889',\n",
       " '+65',\n",
       " '+67',\n",
       " '+6^',\n",
       " '+6t8d',\n",
       " '+6ub*z',\n",
       " '+6ukj',\n",
       " '+6um+3',\n",
       " '+6zjbu-3/5',\n",
       " '+7',\n",
       " '+8',\n",
       " '+80',\n",
       " '+85',\n",
       " '+8bmff',\n",
       " '+8co6d',\n",
       " '+8coo4-d',\n",
       " '+9',\n",
       " '+9-',\n",
       " '+91',\n",
       " '+9:6a+',\n",
       " '+9:6ni',\n",
       " '+9:6nkhm',\n",
       " '+9=8',\n",
       " '+9c',\n",
       " '+9f',\n",
       " '+9l3',\n",
       " '+=',\n",
       " '+=4t8*',\n",
       " '+=8',\n",
       " '+=91',\n",
       " '+=========+',\n",
       " '+====================================================================+',\n",
       " '+=============================================================================+',\n",
       " \"+=j'ax\",\n",
       " '+=kex8',\n",
       " '+\\\\',\n",
       " '+\\\\-',\n",
       " '+\\\\horb_*rci',\n",
       " '+\\\\ii',\n",
       " '+\\\\j',\n",
       " '+\\\\j1d3k8v',\n",
       " '+^',\n",
       " '+_+_+_+_+_+_+_+_+_+_+_+_+_+_+_+_+_+_+_+_+_+_+_+_+_+_+_+_+_+_+_+_+_+_+_+_+_+_+',\n",
       " '+_^h',\n",
       " '+and',\n",
       " '+at',\n",
       " '+bxn+bxn+',\n",
       " '+bxn+bxn+-',\n",
       " '+bxn+bxn+b^wm4u-34u',\n",
       " '+c',\n",
       " '+c*',\n",
       " '+ccq,60',\n",
       " '+clearsig=on',\n",
       " '+context',\n",
       " '+d',\n",
       " '+d2d',\n",
       " '+e',\n",
       " '+e*d-9',\n",
       " '+e-koys7',\n",
       " '+eh',\n",
       " '+fco',\n",
       " '+fgo',\n",
       " '+fq',\n",
       " '+fql6s3m',\n",
       " '+fql8',\n",
       " '+fr',\n",
       " '+fu',\n",
       " '+g',\n",
       " '+g3n',\n",
       " '+gc',\n",
       " '+go',\n",
       " '+go6a',\n",
       " '+gol8',\n",
       " '+h',\n",
       " '+has',\n",
       " '+have',\n",
       " '+helper',\n",
       " '+i',\n",
       " '+i2d',\n",
       " '+i2k5^',\n",
       " '+i2k6q',\n",
       " '+ic',\n",
       " '+interesting',\n",
       " '+is',\n",
       " '+it',\n",
       " '+itz',\n",
       " '+j',\n",
       " '+j=',\n",
       " '+jh',\n",
       " '+k',\n",
       " '+k5h',\n",
       " '+k6g',\n",
       " '+k6g6k',\n",
       " '+k6g6n^u',\n",
       " '+k8',\n",
       " '+k8=silp',\n",
       " '+k8=sm8p7.',\n",
       " '+kgu',\n",
       " '+killed',\n",
       " '+know',\n",
       " '+l',\n",
       " '+l/afs/rnd',\n",
       " '+la94',\n",
       " '+last',\n",
       " '+look',\n",
       " '+m-*2kf',\n",
       " '+m-e-a+s-u-r+i-n-g+',\n",
       " '+mindtool',\n",
       " '+nolock',\n",
       " '+o/tmp/data',\n",
       " '+o\\\\',\n",
       " '+oke',\n",
       " '+or',\n",
       " '+p',\n",
       " '+p1',\n",
       " '+p3',\n",
       " '+p33nd\\\\',\n",
       " '+p3a+p',\n",
       " '+p99li',\n",
       " '+p99li*90ggv',\n",
       " '+q',\n",
       " '+q1n2',\n",
       " '+r',\n",
       " '+r\\\\',\n",
       " '+r\\\\z',\n",
       " '+r\\\\z:2^1d',\n",
       " '+r\\\\zrci',\n",
       " '+r^1',\n",
       " '+r^1d',\n",
       " '+r^1d88zq\\\\',\n",
       " \"+r_'ah\",\n",
       " \"+r_'qx9iqy\",\n",
       " '+r_*+t',\n",
       " '+r_*rchzrlk*03k*+r_',\n",
       " '+r_*rck*',\n",
       " \"+rb-th3'b3f0r\",\n",
       " '+religion',\n",
       " '+rqj',\n",
       " '+rsvu4ay',\n",
       " '+rw',\n",
       " '+s',\n",
       " '+s6',\n",
       " '+s6.=8',\n",
       " '+s\\\\^=.\\\\s+g6/-',\n",
       " '+shipping',\n",
       " '+sho',\n",
       " '+sho03hz',\n",
       " '+sho:9',\n",
       " '+shz',\n",
       " '+shzd2',\n",
       " '+shzd2_*rlk8v-b1v',\n",
       " '+shzd9',\n",
       " '+shzrcj',\n",
       " '+shzv',\n",
       " '+si',\n",
       " '+sii',\n",
       " '+sj',\n",
       " '+sj1',\n",
       " '+sj1+\\\\hz',\n",
       " '+sj1+\\\\j1rlk',\n",
       " '+sj1d',\n",
       " '+sjlcugzzxtcfxbrqif7mslp98p0evyynlzbboryvhfszyyhyheqqqilhek3lpqe',\n",
       " \"+sk'acho\",\n",
       " '+sk*:2\\\\zri',\n",
       " '+sk*v-c8d',\n",
       " '+sy^=.',\n",
       " '+t',\n",
       " '+t_',\n",
       " '+talk',\n",
       " '+the',\n",
       " '+to',\n",
       " '+u',\n",
       " '+vdo',\n",
       " '+vdz:2^',\n",
       " '+vei:3hzd9',\n",
       " '+veiah8zd3ii',\n",
       " '+veial',\n",
       " '+veid',\n",
       " '+vf1:3k',\n",
       " '+vg',\n",
       " \"+vg'qy\",\n",
       " '+w',\n",
       " '+was',\n",
       " '+x',\n",
       " '+x8o:88o+vei',\n",
       " '+x8zd3hz',\n",
       " '+x8zd3hzacii02^',\n",
       " '+x8zd=c*d3hz',\n",
       " '+x8zrciid9',\n",
       " '+x8zri',\n",
       " '+x:1oveid6f',\n",
       " '+xw',\n",
       " '+y',\n",
       " \"+y'*0=\",\n",
       " \"+y'*d3j\",\n",
       " '+yj+=j',\n",
       " ',*2f',\n",
       " ',*=8i',\n",
       " ',*=hm',\n",
       " ',-_4-',\n",
       " ',.',\n",
       " ',/3',\n",
       " ',0',\n",
       " ',01',\n",
       " ',05rov',\n",
       " ',0c',\n",
       " ',0l',\n",
       " ',0l5h06j',\n",
       " ',0vx48',\n",
       " ',0y+',\n",
       " ',1',\n",
       " ',1-2-4-5',\n",
       " ',10,13',\n",
       " ',10000001b',\n",
       " ',136,110,123',\n",
       " ',15',\n",
       " ',18',\n",
       " ',18,6,86,23,49',\n",
       " ',2qsq=',\n",
       " ',3',\n",
       " ',32u__rm1ywk',\n",
       " ',3a',\n",
       " ',3bx',\n",
       " ',3o',\n",
       " ',3o+qv4bo0d',\n",
       " ',4',\n",
       " ',4*',\n",
       " ',4-',\n",
       " ',4.',\n",
       " ',45',\n",
       " ',46',\n",
       " ',4bq',\n",
       " ',66,69,17,21,26',\n",
       " ',71,30,34*2,69,48,2,79,15,16',\n",
       " ',72',\n",
       " ',8',\n",
       " \",8'8hh=8\",\n",
       " \",8':7h=8\",\n",
       " ',8+phh8',\n",
       " ',86yd',\n",
       " ',8o',\n",
       " ',9:6a+f',\n",
       " ',9:6a+fm',\n",
       " ',9^',\n",
       " ',9^99i^6',\n",
       " ',9dlp',\n",
       " ',9hl',\n",
       " ',9m',\n",
       " ',9w7o',\n",
       " ',b',\n",
       " ',b1w*',\n",
       " ',c',\n",
       " ',c*6e',\n",
       " ',c/0i',\n",
       " ',c/0i+63q',\n",
       " ',cbt',\n",
       " ',cco',\n",
       " ',cj7t',\n",
       " ',cj7t/qqo',\n",
       " ',cjc0rg6eh',\n",
       " ',cjc0ry',\n",
       " ',cjz',\n",
       " ',e',\n",
       " \",e':7g-y146\",\n",
       " ',ep',\n",
       " ',f',\n",
       " ',p',\n",
       " ',uhr',\n",
       " ',v',\n",
       " ',v6vmk',\n",
       " ',vacgpp',\n",
       " ',vbwe2*',\n",
       " ',vioq',\n",
       " ',vs4b',\n",
       " ',wlr',\n",
       " ',x2ul4r',\n",
       " ',x8',\n",
       " ',xv=',\n",
       " \"-'rsto8-do\",\n",
       " '-*',\n",
       " '-*/',\n",
       " '-*1',\n",
       " '-*ax',\n",
       " '-*i',\n",
       " '-+',\n",
       " '-+-',\n",
       " '-+2\\\\m_',\n",
       " '-+2tm+r\\\\o+',\n",
       " '-+8',\n",
       " '-+rw',\n",
       " '-,0',\n",
       " '-,06eh',\n",
       " '-,7',\n",
       " '-/',\n",
       " '-/-',\n",
       " '-//',\n",
       " '-/fhm+9-e/bud+1b8*',\n",
       " '-/k',\n",
       " '-0',\n",
       " '-0-',\n",
       " '-0.',\n",
       " '-04',\n",
       " '-0400',\n",
       " '-0500',\n",
       " '-06',\n",
       " '-0600',\n",
       " '-0qw',\n",
       " '-1',\n",
       " '-1+34j',\n",
       " '-1/4',\n",
       " '-10',\n",
       " '-100db',\n",
       " '-10dbv',\n",
       " '-10th',\n",
       " '-11',\n",
       " '-12',\n",
       " '-12-',\n",
       " '-127-127',\n",
       " '-12v',\n",
       " '-12vdc',\n",
       " '-13',\n",
       " '-14',\n",
       " '-15',\n",
       " '-15,1980',\n",
       " '-16',\n",
       " '-17',\n",
       " '-175u',\n",
       " \"-175z*'ax\",\n",
       " '-18',\n",
       " '-19',\n",
       " '-193',\n",
       " '-1991',\n",
       " '-1_',\n",
       " '-1_2tmn',\n",
       " '-1_2tmn2v',\n",
       " '-1_2tn082lk4kp3',\n",
       " '-1_2y',\n",
       " '-1_3=',\n",
       " '-1i',\n",
       " '-1p',\n",
       " '-1st',\n",
       " '-1xu+',\n",
       " \"-1y=='ut+\",\n",
       " '-2',\n",
       " \"-2'ax\",\n",
       " '-20',\n",
       " '-20m',\n",
       " '-21',\n",
       " '-218',\n",
       " '-22',\n",
       " '-225',\n",
       " '-227-9000',\n",
       " '-23',\n",
       " '-24',\n",
       " '-24g',\n",
       " '-24h12',\n",
       " '-25',\n",
       " '-250k',\n",
       " '-253-8897',\n",
       " '-255-2601',\n",
       " '-258-8381',\n",
       " '-26',\n",
       " '-27',\n",
       " '-28',\n",
       " '-286-9000',\n",
       " '-286/12',\n",
       " '-2c',\n",
       " '-2czl',\n",
       " '-2czslyn',\n",
       " '-2f/ih',\n",
       " '-2j',\n",
       " '-2m',\n",
       " '-2nd',\n",
       " '-2nh*',\n",
       " '-2pl',\n",
       " '-2pl-1xl',\n",
       " '-2pu-2r_o\\\\',\n",
       " '-2pu=',\n",
       " '-2q',\n",
       " '-2qt71xl',\n",
       " \"-2r_'gt\",\n",
       " '-3',\n",
       " '-30-',\n",
       " '-32',\n",
       " '-33',\n",
       " '-338-0030.',\n",
       " '-34',\n",
       " '-343-1200',\n",
       " '-344-6255',\n",
       " '-34^v+bxn+bxltq6=g9p',\n",
       " '-34^wm',\n",
       " '-34^wmbxlt-,7',\n",
       " \"-34l'axl+\",\n",
       " '-34t2',\n",
       " '-34u',\n",
       " '-34u-0',\n",
       " '-34u-3',\n",
       " '-34u-34',\n",
       " '-34u-34^wm',\n",
       " '-34u-34^wm4u-34u-3l+',\n",
       " '-34u-34tm',\n",
       " '-34u-34u-34u-3l',\n",
       " '-34u-34u-3l+',\n",
       " '-34u-34u/m',\n",
       " '-34u-34w',\n",
       " '-34u/m',\n",
       " '-34u/m6zh4r',\n",
       " '-34uqqxu+',\n",
       " '-34uqrs',\n",
       " '-34w',\n",
       " '-35',\n",
       " '-350-3614.',\n",
       " '-350-8174.',\n",
       " '-354-1987',\n",
       " '-354-5011',\n",
       " '-354-7666',\n",
       " '-358-1600',\n",
       " '-361-9',\n",
       " '-36s.+3',\n",
       " \"-37'orpu\",\n",
       " '-386amd',\n",
       " '-386and',\n",
       " '-3b+a',\n",
       " '-3db/octave',\n",
       " '-3jc0rv6eh',\n",
       " '-3l',\n",
       " '-3l+',\n",
       " '-3rd',\n",
       " '-3s\\\\_',\n",
       " '-4',\n",
       " '-4+2t',\n",
       " '-40',\n",
       " '-42',\n",
       " '-433-4000',\n",
       " '-434-7996',\n",
       " '-45',\n",
       " '-453-0034',\n",
       " '-459-4256',\n",
       " '-46',\n",
       " '-47',\n",
       " '-471-3241',\n",
       " '-472-7767',\n",
       " '-472-7791',\n",
       " '-48',\n",
       " '-483-5111',\n",
       " '-486dx2-66',\n",
       " '-487-4650.',\n",
       " '-488-3483',\n",
       " '-488-4158',\n",
       " '-497-1201',\n",
       " '-4q,9',\n",
       " '-4zt',\n",
       " '-5',\n",
       " '-50',\n",
       " '-51',\n",
       " '-526-2282.',\n",
       " '-54',\n",
       " '-543-1900',\n",
       " '-550-1000',\n",
       " '-578-5490',\n",
       " '-589-6062',\n",
       " '-5u',\n",
       " '-5v',\n",
       " '-6',\n",
       " '-6-561923',\n",
       " '-6-564934',\n",
       " '-60',\n",
       " '-620-2200',\n",
       " '-6209.',\n",
       " '-642-7330',\n",
       " '-646-7400',\n",
       " '-648-1813',\n",
       " '-65',\n",
       " '-654-1965.',\n",
       " '-68',\n",
       " '-682-7550',\n",
       " '-683-6722.',\n",
       " '-687-2468',\n",
       " '-687-5511',\n",
       " '-688-3341',\n",
       " '-694-5091',\n",
       " '-6db/octave',\n",
       " '-7',\n",
       " '-70',\n",
       " '-728-9075',\n",
       " '-74',\n",
       " '-750-3511',\n",
       " '-75u=75u=75u=75di*2de14',\n",
       " '-763-2626',\n",
       " '-763-4199',\n",
       " '-77db',\n",
       " '-7tu+',\n",
       " '-7tu-2p',\n",
       " '-7tu=',\n",
       " '-7v_+',\n",
       " '-7v_71yt',\n",
       " '-8',\n",
       " '-837-3400',\n",
       " '-85',\n",
       " '-865-2935',\n",
       " '-866-0020',\n",
       " '-867-2468',\n",
       " '-890-4300',\n",
       " '-890-8287',\n",
       " '-891-6161.',\n",
       " '-9',\n",
       " '-90',\n",
       " '-91h8',\n",
       " '-92',\n",
       " '-94',\n",
       " '-962-0058',\n",
       " '-964-3511',\n",
       " '-966-9222.',\n",
       " '-967-3200',\n",
       " '-969-2203.',\n",
       " '-:8',\n",
       " '-=',\n",
       " '-=*=-',\n",
       " '-=-',\n",
       " '-=-=-=-=-=-=-=-=-=-',\n",
       " '-=-=-=-=-=-=-=-=-=-=-=-=-=-=-=-=-',\n",
       " '-=-=-=-=-=-=-=-=-=-=-=-=-=-=-=-=-=-',\n",
       " '-=-=-=-=-=-=-=-=-=-=-=-=-=-=-=-=-=-=-=-=-=-=-=-=-=-=-=-=-=-=-=-=-=-',\n",
       " '-=i',\n",
       " '-\\\\',\n",
       " '-\\\\/',\n",
       " '-\\\\7',\n",
       " '-\\\\p-s',\n",
       " '-\\\\q',\n",
       " '-\\\\q1',\n",
       " '-\\\\qf9',\n",
       " \"-\\\\r'ax\",\n",
       " '-\\\\rk',\n",
       " '-\\\\s',\n",
       " '-^',\n",
       " \"-^'t*\"]"
      ]
     },
     "execution_count": 20,
     "metadata": {},
     "output_type": "execute_result"
    }
   ],
   "source": [
    "vocab[:1000]"
   ]
  },
  {
   "cell_type": "code",
   "execution_count": 22,
   "metadata": {
    "ExecuteTime": {
     "end_time": "2020-09-25T21:36:07.244191Z",
     "start_time": "2020-09-25T21:36:07.240531Z"
    }
   },
   "outputs": [
    {
     "name": "stdout",
     "output_type": "stream",
     "text": [
      "There are 92020 unique words in the training set\n"
     ]
    }
   ],
   "source": [
    "print(f'There are {len(vocab)} unique words in the training set')"
   ]
  },
  {
   "cell_type": "markdown",
   "metadata": {},
   "source": [
    "### Encode vocabulary terms as integers"
   ]
  },
  {
   "cell_type": "code",
   "execution_count": 19,
   "metadata": {
    "ExecuteTime": {
     "end_time": "2020-09-25T21:09:35.661219Z",
     "start_time": "2020-09-25T21:09:35.577464Z"
    }
   },
   "outputs": [],
   "source": [
    "# +1 as index 0 is reserved\n",
    "word_to_idx_map = {word:idx+1 for idx, word in enumerate(vocab)}"
   ]
  },
  {
   "cell_type": "markdown",
   "metadata": {},
   "source": [
    "### Define the embedding matrix"
   ]
  },
  {
   "cell_type": "code",
   "execution_count": 20,
   "metadata": {
    "ExecuteTime": {
     "end_time": "2020-09-25T21:09:37.451223Z",
     "start_time": "2020-09-25T21:09:37.448158Z"
    }
   },
   "outputs": [],
   "source": [
    "import numpy as np"
   ]
  },
  {
   "cell_type": "code",
   "execution_count": 21,
   "metadata": {
    "ExecuteTime": {
     "end_time": "2020-09-25T21:09:37.907151Z",
     "start_time": "2020-09-25T21:09:37.901406Z"
    }
   },
   "outputs": [
    {
     "data": {
      "text/plain": [
       "200"
      ]
     },
     "execution_count": 21,
     "metadata": {},
     "output_type": "execute_result"
    }
   ],
   "source": [
    "embedding_size = 200\n",
    "embedding_size"
   ]
  },
  {
   "cell_type": "code",
   "execution_count": 22,
   "metadata": {
    "ExecuteTime": {
     "end_time": "2020-09-25T21:09:39.461724Z",
     "start_time": "2020-09-25T21:09:39.455637Z"
    }
   },
   "outputs": [
    {
     "data": {
      "text/plain": [
       "(156688, 200)"
      ]
     },
     "execution_count": 22,
     "metadata": {},
     "output_type": "execute_result"
    }
   ],
   "source": [
    "embedding_matrix = np.zeros((len(word_to_idx_map) + 1, embedding_size))\n",
    "embedding_matrix.shape"
   ]
  },
  {
   "cell_type": "code",
   "execution_count": 23,
   "metadata": {
    "ExecuteTime": {
     "end_time": "2020-09-25T21:09:40.690459Z",
     "start_time": "2020-09-25T21:09:40.687087Z"
    }
   },
   "outputs": [],
   "source": [
    "embedding_found_count = 0"
   ]
  },
  {
   "cell_type": "code",
   "execution_count": 24,
   "metadata": {
    "ExecuteTime": {
     "end_time": "2020-09-25T21:09:50.008793Z",
     "start_time": "2020-09-25T21:09:42.122651Z"
    }
   },
   "outputs": [],
   "source": [
    "for word, idx in word_to_idx_map.items():\n",
    "    embedding_matrix[idx] = fasttext_model.wv[word]\n",
    "    embedding_found_count += 1"
   ]
  },
  {
   "cell_type": "code",
   "execution_count": 25,
   "metadata": {
    "ExecuteTime": {
     "end_time": "2020-09-25T21:09:51.526696Z",
     "start_time": "2020-09-25T21:09:51.522373Z"
    }
   },
   "outputs": [
    {
     "name": "stdout",
     "output_type": "stream",
     "text": [
      "Found embeddings for 156687 out of 156687 words (100.0%)\n"
     ]
    }
   ],
   "source": [
    "print(f'Found embeddings for {embedding_found_count} out of {len(vocab)} words ({round(embedding_found_count/len(vocab)*100,2)}%)')"
   ]
  },
  {
   "cell_type": "markdown",
   "metadata": {},
   "source": [
    "---"
   ]
  },
  {
   "cell_type": "markdown",
   "metadata": {},
   "source": [
    "## Convert documents to sequence of integer indexes"
   ]
  },
  {
   "cell_type": "markdown",
   "metadata": {},
   "source": [
    "### Define utility functions"
   ]
  },
  {
   "cell_type": "code",
   "execution_count": 26,
   "metadata": {
    "ExecuteTime": {
     "end_time": "2020-09-25T21:09:56.437562Z",
     "start_time": "2020-09-25T21:09:54.518195Z"
    }
   },
   "outputs": [
    {
     "name": "stderr",
     "output_type": "stream",
     "text": [
      "Using TensorFlow backend.\n"
     ]
    }
   ],
   "source": [
    "from keras.preprocessing.sequence import pad_sequences"
   ]
  },
  {
   "cell_type": "code",
   "execution_count": 27,
   "metadata": {
    "ExecuteTime": {
     "end_time": "2020-09-25T21:09:57.387412Z",
     "start_time": "2020-09-25T21:09:57.381537Z"
    }
   },
   "outputs": [],
   "source": [
    "def doc_tokens_to_sequence(doc_tokens, word_to_idx_map):\n",
    "    sequence = []\n",
    "    \n",
    "    for token in doc_tokens:\n",
    "        if token in word_to_idx_map:\n",
    "            sequence.append(word_to_idx_map[token])\n",
    "\n",
    "    return sequence"
   ]
  },
  {
   "cell_type": "markdown",
   "metadata": {},
   "source": [
    "### Encode texts"
   ]
  },
  {
   "cell_type": "code",
   "execution_count": 28,
   "metadata": {
    "ExecuteTime": {
     "end_time": "2020-09-25T21:09:58.287606Z",
     "start_time": "2020-09-25T21:09:58.274703Z"
    }
   },
   "outputs": [
    {
     "data": {
      "text/plain": [
       "29122"
      ]
     },
     "execution_count": 28,
     "metadata": {},
     "output_type": "execute_result"
    }
   ],
   "source": [
    "max_doc_len = max(len(doc_tokens) for doc_tokens in docs_tokens)\n",
    "max_doc_len"
   ]
  },
  {
   "cell_type": "code",
   "execution_count": 29,
   "metadata": {
    "ExecuteTime": {
     "end_time": "2020-09-25T21:10:01.018561Z",
     "start_time": "2020-09-25T21:09:59.570911Z"
    }
   },
   "outputs": [],
   "source": [
    "train_doc_sequences = [doc_tokens_to_sequence(newsgroups_corpus.get_tokens(doc_id), word_to_idx_map) for doc_id in train_doc_ids]\n",
    "train_padded_sequences = pad_sequences(train_doc_sequences, maxlen=max_doc_len)"
   ]
  },
  {
   "cell_type": "markdown",
   "metadata": {},
   "source": [
    "## Train the model"
   ]
  },
  {
   "cell_type": "markdown",
   "metadata": {},
   "source": [
    "### Define the model"
   ]
  },
  {
   "cell_type": "code",
   "execution_count": 30,
   "metadata": {
    "ExecuteTime": {
     "end_time": "2020-09-25T21:10:03.283439Z",
     "start_time": "2020-09-25T21:10:03.275522Z"
    }
   },
   "outputs": [],
   "source": [
    "from keras import Input\n",
    "from keras.models import Model\n",
    "from keras.layers import Dense, Embedding, LSTM, Bidirectional\n",
    "from keras.optimizers import Adam"
   ]
  },
  {
   "cell_type": "code",
   "execution_count": 31,
   "metadata": {
    "ExecuteTime": {
     "end_time": "2020-09-25T21:10:09.234247Z",
     "start_time": "2020-09-25T21:10:06.418704Z"
    }
   },
   "outputs": [],
   "source": [
    "nn_input = Input(shape=(max_doc_len,), dtype='int32')\n",
    "embedding_output = Embedding(len(word_to_idx_map)+1,\n",
    "                             embedding_matrix.shape[1],\n",
    "                             weights=[embedding_matrix],\n",
    "                             input_length=max_doc_len,\n",
    "                             trainable=False,\n",
    "                             mask_zero=True)(nn_input)\n",
    "lstm = Bidirectional(LSTM(100))(embedding_output)\n",
    "dense = Dense(64, activation='relu')(lstm)\n",
    "nn_output = Dense(n_classes, activation='softmax')(dense)\n",
    "\n",
    "nn_model = Model(nn_input, nn_output)\n",
    "\n",
    "nn_model.compile(loss='categorical_crossentropy',\n",
    "                 optimizer=Adam(),\n",
    "                 metrics=['accuracy'])"
   ]
  },
  {
   "cell_type": "code",
   "execution_count": 32,
   "metadata": {
    "ExecuteTime": {
     "end_time": "2020-09-25T21:10:10.508156Z",
     "start_time": "2020-09-25T21:10:10.504668Z"
    }
   },
   "outputs": [],
   "source": [
    "from IPython.display import SVG\n",
    "from keras.utils.vis_utils import model_to_dot"
   ]
  },
  {
   "cell_type": "code",
   "execution_count": 33,
   "metadata": {
    "ExecuteTime": {
     "end_time": "2020-09-25T21:10:14.751313Z",
     "start_time": "2020-09-25T21:10:14.537514Z"
    }
   },
   "outputs": [
    {
     "data": {
      "image/svg+xml": [
       "<svg xmlns=\"http://www.w3.org/2000/svg\" xmlns:xlink=\"http://www.w3.org/1999/xlink\" width=\"443pt\" height=\"376pt\" viewBox=\"0.00 0.00 456.00 387.00\">\n",
       "<g id=\"graph0\" class=\"graph\" transform=\"scale(.9722 .9722) rotate(0) translate(4 383)\">\n",
       "<title>G</title>\n",
       "<polygon fill=\"#ffffff\" stroke=\"transparent\" points=\"-4,4 -4,-383 452,-383 452,4 -4,4\"/>\n",
       "<!-- 140067019609472 -->\n",
       "<g id=\"node1\" class=\"node\">\n",
       "<title>140067019609472</title>\n",
       "<polygon fill=\"none\" stroke=\"#000000\" points=\"86,-332.5 86,-378.5 362,-378.5 362,-332.5 86,-332.5\"/>\n",
       "<text text-anchor=\"middle\" x=\"148.5\" y=\"-351.8\" font-family=\"Times,serif\" font-size=\"14.00\" fill=\"#000000\">input_1: InputLayer</text>\n",
       "<polyline fill=\"none\" stroke=\"#000000\" points=\"211,-332.5 211,-378.5 \"/>\n",
       "<text text-anchor=\"middle\" x=\"238.5\" y=\"-363.3\" font-family=\"Times,serif\" font-size=\"14.00\" fill=\"#000000\">input:</text>\n",
       "<polyline fill=\"none\" stroke=\"#000000\" points=\"211,-355.5 266,-355.5 \"/>\n",
       "<text text-anchor=\"middle\" x=\"238.5\" y=\"-340.3\" font-family=\"Times,serif\" font-size=\"14.00\" fill=\"#000000\">output:</text>\n",
       "<polyline fill=\"none\" stroke=\"#000000\" points=\"266,-332.5 266,-378.5 \"/>\n",
       "<text text-anchor=\"middle\" x=\"314\" y=\"-363.3\" font-family=\"Times,serif\" font-size=\"14.00\" fill=\"#000000\">(None, 29122)</text>\n",
       "<polyline fill=\"none\" stroke=\"#000000\" points=\"266,-355.5 362,-355.5 \"/>\n",
       "<text text-anchor=\"middle\" x=\"314\" y=\"-340.3\" font-family=\"Times,serif\" font-size=\"14.00\" fill=\"#000000\">(None, 29122)</text>\n",
       "</g>\n",
       "<!-- 140067019609376 -->\n",
       "<g id=\"node2\" class=\"node\">\n",
       "<title>140067019609376</title>\n",
       "<polygon fill=\"none\" stroke=\"#000000\" points=\"54,-249.5 54,-295.5 394,-295.5 394,-249.5 54,-249.5\"/>\n",
       "<text text-anchor=\"middle\" x=\"134.5\" y=\"-268.8\" font-family=\"Times,serif\" font-size=\"14.00\" fill=\"#000000\">embedding_1: Embedding</text>\n",
       "<polyline fill=\"none\" stroke=\"#000000\" points=\"215,-249.5 215,-295.5 \"/>\n",
       "<text text-anchor=\"middle\" x=\"242.5\" y=\"-280.3\" font-family=\"Times,serif\" font-size=\"14.00\" fill=\"#000000\">input:</text>\n",
       "<polyline fill=\"none\" stroke=\"#000000\" points=\"215,-272.5 270,-272.5 \"/>\n",
       "<text text-anchor=\"middle\" x=\"242.5\" y=\"-257.3\" font-family=\"Times,serif\" font-size=\"14.00\" fill=\"#000000\">output:</text>\n",
       "<polyline fill=\"none\" stroke=\"#000000\" points=\"270,-249.5 270,-295.5 \"/>\n",
       "<text text-anchor=\"middle\" x=\"332\" y=\"-280.3\" font-family=\"Times,serif\" font-size=\"14.00\" fill=\"#000000\">(None, 29122)</text>\n",
       "<polyline fill=\"none\" stroke=\"#000000\" points=\"270,-272.5 394,-272.5 \"/>\n",
       "<text text-anchor=\"middle\" x=\"332\" y=\"-257.3\" font-family=\"Times,serif\" font-size=\"14.00\" fill=\"#000000\">(None, 29122, 200)</text>\n",
       "</g>\n",
       "<!-- 140067019609472&#45;&gt;140067019609376 -->\n",
       "<g id=\"edge1\" class=\"edge\">\n",
       "<title>140067019609472-&gt;140067019609376</title>\n",
       "<path fill=\"none\" stroke=\"#000000\" d=\"M224,-332.3799C224,-324.1745 224,-314.7679 224,-305.8786\"/>\n",
       "<polygon fill=\"#000000\" stroke=\"#000000\" points=\"227.5001,-305.784 224,-295.784 220.5001,-305.784 227.5001,-305.784\"/>\n",
       "</g>\n",
       "<!-- 140067019610864 -->\n",
       "<g id=\"node3\" class=\"node\">\n",
       "<title>140067019610864</title>\n",
       "<polygon fill=\"none\" stroke=\"#000000\" points=\"0,-166.5 0,-212.5 448,-212.5 448,-166.5 0,-166.5\"/>\n",
       "<text text-anchor=\"middle\" x=\"134.5\" y=\"-185.8\" font-family=\"Times,serif\" font-size=\"14.00\" fill=\"#000000\">bidirectional_1(lstm_1): Bidirectional(LSTM)</text>\n",
       "<polyline fill=\"none\" stroke=\"#000000\" points=\"269,-166.5 269,-212.5 \"/>\n",
       "<text text-anchor=\"middle\" x=\"296.5\" y=\"-197.3\" font-family=\"Times,serif\" font-size=\"14.00\" fill=\"#000000\">input:</text>\n",
       "<polyline fill=\"none\" stroke=\"#000000\" points=\"269,-189.5 324,-189.5 \"/>\n",
       "<text text-anchor=\"middle\" x=\"296.5\" y=\"-174.3\" font-family=\"Times,serif\" font-size=\"14.00\" fill=\"#000000\">output:</text>\n",
       "<polyline fill=\"none\" stroke=\"#000000\" points=\"324,-166.5 324,-212.5 \"/>\n",
       "<text text-anchor=\"middle\" x=\"386\" y=\"-197.3\" font-family=\"Times,serif\" font-size=\"14.00\" fill=\"#000000\">(None, 29122, 200)</text>\n",
       "<polyline fill=\"none\" stroke=\"#000000\" points=\"324,-189.5 448,-189.5 \"/>\n",
       "<text text-anchor=\"middle\" x=\"386\" y=\"-174.3\" font-family=\"Times,serif\" font-size=\"14.00\" fill=\"#000000\">(None, 200)</text>\n",
       "</g>\n",
       "<!-- 140067019609376&#45;&gt;140067019610864 -->\n",
       "<g id=\"edge2\" class=\"edge\">\n",
       "<title>140067019609376-&gt;140067019610864</title>\n",
       "<path fill=\"none\" stroke=\"#000000\" d=\"M224,-249.3799C224,-241.1745 224,-231.7679 224,-222.8786\"/>\n",
       "<polygon fill=\"#000000\" stroke=\"#000000\" points=\"227.5001,-222.784 224,-212.784 220.5001,-222.784 227.5001,-222.784\"/>\n",
       "</g>\n",
       "<!-- 140067019611392 -->\n",
       "<g id=\"node4\" class=\"node\">\n",
       "<title>140067019611392</title>\n",
       "<polygon fill=\"none\" stroke=\"#000000\" points=\"104,-83.5 104,-129.5 344,-129.5 344,-83.5 104,-83.5\"/>\n",
       "<text text-anchor=\"middle\" x=\"155\" y=\"-102.8\" font-family=\"Times,serif\" font-size=\"14.00\" fill=\"#000000\">dense_1: Dense</text>\n",
       "<polyline fill=\"none\" stroke=\"#000000\" points=\"206,-83.5 206,-129.5 \"/>\n",
       "<text text-anchor=\"middle\" x=\"233.5\" y=\"-114.3\" font-family=\"Times,serif\" font-size=\"14.00\" fill=\"#000000\">input:</text>\n",
       "<polyline fill=\"none\" stroke=\"#000000\" points=\"206,-106.5 261,-106.5 \"/>\n",
       "<text text-anchor=\"middle\" x=\"233.5\" y=\"-91.3\" font-family=\"Times,serif\" font-size=\"14.00\" fill=\"#000000\">output:</text>\n",
       "<polyline fill=\"none\" stroke=\"#000000\" points=\"261,-83.5 261,-129.5 \"/>\n",
       "<text text-anchor=\"middle\" x=\"302.5\" y=\"-114.3\" font-family=\"Times,serif\" font-size=\"14.00\" fill=\"#000000\">(None, 200)</text>\n",
       "<polyline fill=\"none\" stroke=\"#000000\" points=\"261,-106.5 344,-106.5 \"/>\n",
       "<text text-anchor=\"middle\" x=\"302.5\" y=\"-91.3\" font-family=\"Times,serif\" font-size=\"14.00\" fill=\"#000000\">(None, 64)</text>\n",
       "</g>\n",
       "<!-- 140067019610864&#45;&gt;140067019611392 -->\n",
       "<g id=\"edge3\" class=\"edge\">\n",
       "<title>140067019610864-&gt;140067019611392</title>\n",
       "<path fill=\"none\" stroke=\"#000000\" d=\"M224,-166.3799C224,-158.1745 224,-148.7679 224,-139.8786\"/>\n",
       "<polygon fill=\"#000000\" stroke=\"#000000\" points=\"227.5001,-139.784 224,-129.784 220.5001,-139.784 227.5001,-139.784\"/>\n",
       "</g>\n",
       "<!-- 140067019611728 -->\n",
       "<g id=\"node5\" class=\"node\">\n",
       "<title>140067019611728</title>\n",
       "<polygon fill=\"none\" stroke=\"#000000\" points=\"107.5,-.5 107.5,-46.5 340.5,-46.5 340.5,-.5 107.5,-.5\"/>\n",
       "<text text-anchor=\"middle\" x=\"158.5\" y=\"-19.8\" font-family=\"Times,serif\" font-size=\"14.00\" fill=\"#000000\">dense_2: Dense</text>\n",
       "<polyline fill=\"none\" stroke=\"#000000\" points=\"209.5,-.5 209.5,-46.5 \"/>\n",
       "<text text-anchor=\"middle\" x=\"237\" y=\"-31.3\" font-family=\"Times,serif\" font-size=\"14.00\" fill=\"#000000\">input:</text>\n",
       "<polyline fill=\"none\" stroke=\"#000000\" points=\"209.5,-23.5 264.5,-23.5 \"/>\n",
       "<text text-anchor=\"middle\" x=\"237\" y=\"-8.3\" font-family=\"Times,serif\" font-size=\"14.00\" fill=\"#000000\">output:</text>\n",
       "<polyline fill=\"none\" stroke=\"#000000\" points=\"264.5,-.5 264.5,-46.5 \"/>\n",
       "<text text-anchor=\"middle\" x=\"302.5\" y=\"-31.3\" font-family=\"Times,serif\" font-size=\"14.00\" fill=\"#000000\">(None, 64)</text>\n",
       "<polyline fill=\"none\" stroke=\"#000000\" points=\"264.5,-23.5 340.5,-23.5 \"/>\n",
       "<text text-anchor=\"middle\" x=\"302.5\" y=\"-8.3\" font-family=\"Times,serif\" font-size=\"14.00\" fill=\"#000000\">(None, 20)</text>\n",
       "</g>\n",
       "<!-- 140067019611392&#45;&gt;140067019611728 -->\n",
       "<g id=\"edge4\" class=\"edge\">\n",
       "<title>140067019611392-&gt;140067019611728</title>\n",
       "<path fill=\"none\" stroke=\"#000000\" d=\"M224,-83.3799C224,-75.1745 224,-65.7679 224,-56.8786\"/>\n",
       "<polygon fill=\"#000000\" stroke=\"#000000\" points=\"227.5001,-56.784 224,-46.784 220.5001,-56.784 227.5001,-56.784\"/>\n",
       "</g>\n",
       "</g>\n",
       "</svg>"
      ],
      "text/plain": [
       "<IPython.core.display.SVG object>"
      ]
     },
     "execution_count": 33,
     "metadata": {},
     "output_type": "execute_result"
    }
   ],
   "source": [
    "SVG(model_to_dot(nn_model, show_shapes=True, dpi=70).create(prog='dot', format='svg'))"
   ]
  },
  {
   "cell_type": "markdown",
   "metadata": {},
   "source": [
    "### Train the model"
   ]
  },
  {
   "cell_type": "code",
   "execution_count": 34,
   "metadata": {
    "ExecuteTime": {
     "end_time": "2020-09-25T21:10:18.645820Z",
     "start_time": "2020-09-25T21:10:18.642163Z"
    }
   },
   "outputs": [],
   "source": [
    "import time"
   ]
  },
  {
   "cell_type": "code",
   "execution_count": 35,
   "metadata": {
    "ExecuteTime": {
     "end_time": "2020-09-25T21:13:22.255358Z",
     "start_time": "2020-09-25T21:10:19.525470Z"
    }
   },
   "outputs": [
    {
     "name": "stdout",
     "output_type": "stream",
     "text": [
      "Train on 13568 samples, validate on 1508 samples\n",
      "Epoch 1/30\n",
      "  400/13568 [..............................] - ETA: 1:07:47 - loss: 2.9949 - accuracy: 0.0575"
     ]
    },
    {
     "ename": "KeyboardInterrupt",
     "evalue": "",
     "output_type": "error",
     "traceback": [
      "\u001b[0;31m---------------------------------------------------------------------------\u001b[0m",
      "\u001b[0;31mKeyboardInterrupt\u001b[0m                         Traceback (most recent call last)",
      "\u001b[0;32m<ipython-input-35-c1a3cc268a38>\u001b[0m in \u001b[0;36m<module>\u001b[0;34m\u001b[0m\n\u001b[1;32m      1\u001b[0m \u001b[0mstart_time\u001b[0m \u001b[0;34m=\u001b[0m \u001b[0mtime\u001b[0m\u001b[0;34m.\u001b[0m\u001b[0mtime\u001b[0m\u001b[0;34m(\u001b[0m\u001b[0;34m)\u001b[0m\u001b[0;34m\u001b[0m\u001b[0;34m\u001b[0m\u001b[0m\n\u001b[1;32m      2\u001b[0m \u001b[0;34m\u001b[0m\u001b[0m\n\u001b[0;32m----> 3\u001b[0;31m history = nn_model.fit(train_padded_sequences, \n\u001b[0m\u001b[1;32m      4\u001b[0m                        \u001b[0mtrain_labels\u001b[0m\u001b[0;34m,\u001b[0m\u001b[0;34m\u001b[0m\u001b[0;34m\u001b[0m\u001b[0m\n\u001b[1;32m      5\u001b[0m                        \u001b[0mvalidation_split\u001b[0m\u001b[0;34m=\u001b[0m\u001b[0;36m0.1\u001b[0m\u001b[0;34m,\u001b[0m\u001b[0;34m\u001b[0m\u001b[0;34m\u001b[0m\u001b[0m\n",
      "\u001b[0;32m~/anaconda3/envs/testenv/lib/python3.8/site-packages/keras/engine/training.py\u001b[0m in \u001b[0;36mfit\u001b[0;34m(self, x, y, batch_size, epochs, verbose, callbacks, validation_split, validation_data, shuffle, class_weight, sample_weight, initial_epoch, steps_per_epoch, validation_steps, validation_freq, max_queue_size, workers, use_multiprocessing, **kwargs)\u001b[0m\n\u001b[1;32m   1225\u001b[0m \u001b[0;34m\u001b[0m\u001b[0m\n\u001b[1;32m   1226\u001b[0m         \u001b[0;31m# Delegate logic to `fit_loop`.\u001b[0m\u001b[0;34m\u001b[0m\u001b[0;34m\u001b[0m\u001b[0;34m\u001b[0m\u001b[0m\n\u001b[0;32m-> 1227\u001b[0;31m         return training_arrays.fit_loop(self, fit_function, fit_inputs,\n\u001b[0m\u001b[1;32m   1228\u001b[0m                                         \u001b[0mout_labels\u001b[0m\u001b[0;34m=\u001b[0m\u001b[0mout_labels\u001b[0m\u001b[0;34m,\u001b[0m\u001b[0;34m\u001b[0m\u001b[0;34m\u001b[0m\u001b[0m\n\u001b[1;32m   1229\u001b[0m                                         \u001b[0mbatch_size\u001b[0m\u001b[0;34m=\u001b[0m\u001b[0mbatch_size\u001b[0m\u001b[0;34m,\u001b[0m\u001b[0;34m\u001b[0m\u001b[0;34m\u001b[0m\u001b[0m\n",
      "\u001b[0;32m~/anaconda3/envs/testenv/lib/python3.8/site-packages/keras/engine/training_arrays.py\u001b[0m in \u001b[0;36mfit_loop\u001b[0;34m(model, fit_function, fit_inputs, out_labels, batch_size, epochs, verbose, callbacks, val_function, val_inputs, shuffle, initial_epoch, steps_per_epoch, validation_steps, validation_freq)\u001b[0m\n\u001b[1;32m    194\u001b[0m                     \u001b[0mins_batch\u001b[0m\u001b[0;34m[\u001b[0m\u001b[0mi\u001b[0m\u001b[0;34m]\u001b[0m \u001b[0;34m=\u001b[0m \u001b[0mins_batch\u001b[0m\u001b[0;34m[\u001b[0m\u001b[0mi\u001b[0m\u001b[0;34m]\u001b[0m\u001b[0;34m.\u001b[0m\u001b[0mtoarray\u001b[0m\u001b[0;34m(\u001b[0m\u001b[0;34m)\u001b[0m\u001b[0;34m\u001b[0m\u001b[0;34m\u001b[0m\u001b[0m\n\u001b[1;32m    195\u001b[0m \u001b[0;34m\u001b[0m\u001b[0m\n\u001b[0;32m--> 196\u001b[0;31m                 \u001b[0mouts\u001b[0m \u001b[0;34m=\u001b[0m \u001b[0mfit_function\u001b[0m\u001b[0;34m(\u001b[0m\u001b[0mins_batch\u001b[0m\u001b[0;34m)\u001b[0m\u001b[0;34m\u001b[0m\u001b[0;34m\u001b[0m\u001b[0m\n\u001b[0m\u001b[1;32m    197\u001b[0m                 \u001b[0mouts\u001b[0m \u001b[0;34m=\u001b[0m \u001b[0mto_list\u001b[0m\u001b[0;34m(\u001b[0m\u001b[0mouts\u001b[0m\u001b[0;34m)\u001b[0m\u001b[0;34m\u001b[0m\u001b[0;34m\u001b[0m\u001b[0m\n\u001b[1;32m    198\u001b[0m                 \u001b[0;32mfor\u001b[0m \u001b[0ml\u001b[0m\u001b[0;34m,\u001b[0m \u001b[0mo\u001b[0m \u001b[0;32min\u001b[0m \u001b[0mzip\u001b[0m\u001b[0;34m(\u001b[0m\u001b[0mout_labels\u001b[0m\u001b[0;34m,\u001b[0m \u001b[0mouts\u001b[0m\u001b[0;34m)\u001b[0m\u001b[0;34m:\u001b[0m\u001b[0;34m\u001b[0m\u001b[0;34m\u001b[0m\u001b[0m\n",
      "\u001b[0;32m~/anaconda3/envs/testenv/lib/python3.8/site-packages/tensorflow/python/keras/backend.py\u001b[0m in \u001b[0;36m__call__\u001b[0;34m(self, inputs)\u001b[0m\n\u001b[1;32m   3790\u001b[0m         \u001b[0mvalue\u001b[0m \u001b[0;34m=\u001b[0m \u001b[0mmath_ops\u001b[0m\u001b[0;34m.\u001b[0m\u001b[0mcast\u001b[0m\u001b[0;34m(\u001b[0m\u001b[0mvalue\u001b[0m\u001b[0;34m,\u001b[0m \u001b[0mtensor\u001b[0m\u001b[0;34m.\u001b[0m\u001b[0mdtype\u001b[0m\u001b[0;34m)\u001b[0m\u001b[0;34m\u001b[0m\u001b[0;34m\u001b[0m\u001b[0m\n\u001b[1;32m   3791\u001b[0m       \u001b[0mconverted_inputs\u001b[0m\u001b[0;34m.\u001b[0m\u001b[0mappend\u001b[0m\u001b[0;34m(\u001b[0m\u001b[0mvalue\u001b[0m\u001b[0;34m)\u001b[0m\u001b[0;34m\u001b[0m\u001b[0;34m\u001b[0m\u001b[0m\n\u001b[0;32m-> 3792\u001b[0;31m     \u001b[0moutputs\u001b[0m \u001b[0;34m=\u001b[0m \u001b[0mself\u001b[0m\u001b[0;34m.\u001b[0m\u001b[0m_graph_fn\u001b[0m\u001b[0;34m(\u001b[0m\u001b[0;34m*\u001b[0m\u001b[0mconverted_inputs\u001b[0m\u001b[0;34m)\u001b[0m\u001b[0;34m\u001b[0m\u001b[0;34m\u001b[0m\u001b[0m\n\u001b[0m\u001b[1;32m   3793\u001b[0m \u001b[0;34m\u001b[0m\u001b[0m\n\u001b[1;32m   3794\u001b[0m     \u001b[0;31m# EagerTensor.numpy() will often make a copy to ensure memory safety.\u001b[0m\u001b[0;34m\u001b[0m\u001b[0;34m\u001b[0m\u001b[0;34m\u001b[0m\u001b[0m\n",
      "\u001b[0;32m~/anaconda3/envs/testenv/lib/python3.8/site-packages/tensorflow/python/eager/function.py\u001b[0m in \u001b[0;36m__call__\u001b[0;34m(self, *args, **kwargs)\u001b[0m\n\u001b[1;32m   1603\u001b[0m       \u001b[0mTypeError\u001b[0m\u001b[0;34m:\u001b[0m \u001b[0mFor\u001b[0m \u001b[0minvalid\u001b[0m \u001b[0mpositional\u001b[0m\u001b[0;34m/\u001b[0m\u001b[0mkeyword\u001b[0m \u001b[0margument\u001b[0m \u001b[0mcombinations\u001b[0m\u001b[0;34m.\u001b[0m\u001b[0;34m\u001b[0m\u001b[0;34m\u001b[0m\u001b[0m\n\u001b[1;32m   1604\u001b[0m     \"\"\"\n\u001b[0;32m-> 1605\u001b[0;31m     \u001b[0;32mreturn\u001b[0m \u001b[0mself\u001b[0m\u001b[0;34m.\u001b[0m\u001b[0m_call_impl\u001b[0m\u001b[0;34m(\u001b[0m\u001b[0margs\u001b[0m\u001b[0;34m,\u001b[0m \u001b[0mkwargs\u001b[0m\u001b[0;34m)\u001b[0m\u001b[0;34m\u001b[0m\u001b[0;34m\u001b[0m\u001b[0m\n\u001b[0m\u001b[1;32m   1606\u001b[0m \u001b[0;34m\u001b[0m\u001b[0m\n\u001b[1;32m   1607\u001b[0m   \u001b[0;32mdef\u001b[0m \u001b[0m_call_impl\u001b[0m\u001b[0;34m(\u001b[0m\u001b[0mself\u001b[0m\u001b[0;34m,\u001b[0m \u001b[0margs\u001b[0m\u001b[0;34m,\u001b[0m \u001b[0mkwargs\u001b[0m\u001b[0;34m,\u001b[0m \u001b[0mcancellation_manager\u001b[0m\u001b[0;34m=\u001b[0m\u001b[0;32mNone\u001b[0m\u001b[0;34m)\u001b[0m\u001b[0;34m:\u001b[0m\u001b[0;34m\u001b[0m\u001b[0;34m\u001b[0m\u001b[0m\n",
      "\u001b[0;32m~/anaconda3/envs/testenv/lib/python3.8/site-packages/tensorflow/python/eager/function.py\u001b[0m in \u001b[0;36m_call_impl\u001b[0;34m(self, args, kwargs, cancellation_manager)\u001b[0m\n\u001b[1;32m   1643\u001b[0m       raise TypeError(\"Keyword arguments {} unknown. Expected {}.\".format(\n\u001b[1;32m   1644\u001b[0m           list(kwargs.keys()), list(self._arg_keywords)))\n\u001b[0;32m-> 1645\u001b[0;31m     \u001b[0;32mreturn\u001b[0m \u001b[0mself\u001b[0m\u001b[0;34m.\u001b[0m\u001b[0m_call_flat\u001b[0m\u001b[0;34m(\u001b[0m\u001b[0margs\u001b[0m\u001b[0;34m,\u001b[0m \u001b[0mself\u001b[0m\u001b[0;34m.\u001b[0m\u001b[0mcaptured_inputs\u001b[0m\u001b[0;34m,\u001b[0m \u001b[0mcancellation_manager\u001b[0m\u001b[0;34m)\u001b[0m\u001b[0;34m\u001b[0m\u001b[0;34m\u001b[0m\u001b[0m\n\u001b[0m\u001b[1;32m   1646\u001b[0m \u001b[0;34m\u001b[0m\u001b[0m\n\u001b[1;32m   1647\u001b[0m   \u001b[0;32mdef\u001b[0m \u001b[0m_filtered_call\u001b[0m\u001b[0;34m(\u001b[0m\u001b[0mself\u001b[0m\u001b[0;34m,\u001b[0m \u001b[0margs\u001b[0m\u001b[0;34m,\u001b[0m \u001b[0mkwargs\u001b[0m\u001b[0;34m)\u001b[0m\u001b[0;34m:\u001b[0m\u001b[0;34m\u001b[0m\u001b[0;34m\u001b[0m\u001b[0m\n",
      "\u001b[0;32m~/anaconda3/envs/testenv/lib/python3.8/site-packages/tensorflow/python/eager/function.py\u001b[0m in \u001b[0;36m_call_flat\u001b[0;34m(self, args, captured_inputs, cancellation_manager)\u001b[0m\n\u001b[1;32m   1743\u001b[0m         and executing_eagerly):\n\u001b[1;32m   1744\u001b[0m       \u001b[0;31m# No tape is watching; skip to running the function.\u001b[0m\u001b[0;34m\u001b[0m\u001b[0;34m\u001b[0m\u001b[0;34m\u001b[0m\u001b[0m\n\u001b[0;32m-> 1745\u001b[0;31m       return self._build_call_outputs(self._inference_function.call(\n\u001b[0m\u001b[1;32m   1746\u001b[0m           ctx, args, cancellation_manager=cancellation_manager))\n\u001b[1;32m   1747\u001b[0m     forward_backward = self._select_forward_and_backward_functions(\n",
      "\u001b[0;32m~/anaconda3/envs/testenv/lib/python3.8/site-packages/tensorflow/python/eager/function.py\u001b[0m in \u001b[0;36mcall\u001b[0;34m(self, ctx, args, cancellation_manager)\u001b[0m\n\u001b[1;32m    591\u001b[0m       \u001b[0;32mwith\u001b[0m \u001b[0m_InterpolateFunctionError\u001b[0m\u001b[0;34m(\u001b[0m\u001b[0mself\u001b[0m\u001b[0;34m)\u001b[0m\u001b[0;34m:\u001b[0m\u001b[0;34m\u001b[0m\u001b[0;34m\u001b[0m\u001b[0m\n\u001b[1;32m    592\u001b[0m         \u001b[0;32mif\u001b[0m \u001b[0mcancellation_manager\u001b[0m \u001b[0;32mis\u001b[0m \u001b[0;32mNone\u001b[0m\u001b[0;34m:\u001b[0m\u001b[0;34m\u001b[0m\u001b[0;34m\u001b[0m\u001b[0m\n\u001b[0;32m--> 593\u001b[0;31m           outputs = execute.execute(\n\u001b[0m\u001b[1;32m    594\u001b[0m               \u001b[0mstr\u001b[0m\u001b[0;34m(\u001b[0m\u001b[0mself\u001b[0m\u001b[0;34m.\u001b[0m\u001b[0msignature\u001b[0m\u001b[0;34m.\u001b[0m\u001b[0mname\u001b[0m\u001b[0;34m)\u001b[0m\u001b[0;34m,\u001b[0m\u001b[0;34m\u001b[0m\u001b[0;34m\u001b[0m\u001b[0m\n\u001b[1;32m    595\u001b[0m               \u001b[0mnum_outputs\u001b[0m\u001b[0;34m=\u001b[0m\u001b[0mself\u001b[0m\u001b[0;34m.\u001b[0m\u001b[0m_num_outputs\u001b[0m\u001b[0;34m,\u001b[0m\u001b[0;34m\u001b[0m\u001b[0;34m\u001b[0m\u001b[0m\n",
      "\u001b[0;32m~/anaconda3/envs/testenv/lib/python3.8/site-packages/tensorflow/python/eager/execute.py\u001b[0m in \u001b[0;36mquick_execute\u001b[0;34m(op_name, num_outputs, inputs, attrs, ctx, name)\u001b[0m\n\u001b[1;32m     57\u001b[0m   \u001b[0;32mtry\u001b[0m\u001b[0;34m:\u001b[0m\u001b[0;34m\u001b[0m\u001b[0;34m\u001b[0m\u001b[0m\n\u001b[1;32m     58\u001b[0m     \u001b[0mctx\u001b[0m\u001b[0;34m.\u001b[0m\u001b[0mensure_initialized\u001b[0m\u001b[0;34m(\u001b[0m\u001b[0;34m)\u001b[0m\u001b[0;34m\u001b[0m\u001b[0;34m\u001b[0m\u001b[0m\n\u001b[0;32m---> 59\u001b[0;31m     tensors = pywrap_tfe.TFE_Py_Execute(ctx._handle, device_name, op_name,\n\u001b[0m\u001b[1;32m     60\u001b[0m                                         inputs, attrs, num_outputs)\n\u001b[1;32m     61\u001b[0m   \u001b[0;32mexcept\u001b[0m \u001b[0mcore\u001b[0m\u001b[0;34m.\u001b[0m\u001b[0m_NotOkStatusException\u001b[0m \u001b[0;32mas\u001b[0m \u001b[0me\u001b[0m\u001b[0;34m:\u001b[0m\u001b[0;34m\u001b[0m\u001b[0;34m\u001b[0m\u001b[0m\n",
      "\u001b[0;31mKeyboardInterrupt\u001b[0m: "
     ]
    }
   ],
   "source": [
    "start_time = time.time()\n",
    "\n",
    "history = nn_model.fit(train_padded_sequences, \n",
    "                       train_labels, \n",
    "                       validation_split=0.1, \n",
    "                       epochs=30, \n",
    "                       batch_size=200)\n",
    "\n",
    "elapsed_time = time.time() - start_time\n",
    "t = time.strftime(\"%H:%M:%S\", time.gmtime(elapsed_time))\n",
    "print('Elapsed time (learning):', t)"
   ]
  },
  {
   "cell_type": "markdown",
   "metadata": {},
   "source": [
    "### Plot loss and accuracy"
   ]
  },
  {
   "cell_type": "code",
   "execution_count": 34,
   "metadata": {
    "ExecuteTime": {
     "end_time": "2020-09-24T17:11:52.729372Z",
     "start_time": "2020-09-24T17:11:52.720943Z"
    }
   },
   "outputs": [],
   "source": [
    "history_dict = history.history\n",
    "\n",
    "acc = history_dict['accuracy']\n",
    "val_acc = history_dict['val_accuracy']\n",
    "loss = history_dict['loss']\n",
    "val_loss = history_dict['val_loss']\n",
    "\n",
    "epochs = range(1, len(acc) + 1)"
   ]
  },
  {
   "cell_type": "code",
   "execution_count": 35,
   "metadata": {
    "ExecuteTime": {
     "end_time": "2020-09-24T17:11:54.448549Z",
     "start_time": "2020-09-24T17:11:54.442570Z"
    }
   },
   "outputs": [],
   "source": [
    "import matplotlib.pyplot as plt"
   ]
  },
  {
   "cell_type": "code",
   "execution_count": 36,
   "metadata": {
    "ExecuteTime": {
     "end_time": "2020-09-24T17:11:55.220893Z",
     "start_time": "2020-09-24T17:11:54.850385Z"
    }
   },
   "outputs": [
    {
     "data": {
      "image/png": "[encoded data removed]",
      "text/plain": [
       "<Figure size 576x576 with 1 Axes>"
      ]
     },
     "metadata": {
      "image/png": {
       "height": 494,
       "width": 497
      },
      "needs_background": "light"
     },
     "output_type": "display_data"
    }
   ],
   "source": [
    "plt.figure(figsize=(8,8))\n",
    "plt.plot(epochs, loss, 'b', label='Training loss')\n",
    "plt.plot(epochs, val_loss, 'g', label='Validation loss')\n",
    "plt.title('Training and validation loss')\n",
    "plt.xlabel('Epochs')\n",
    "plt.ylabel('Loss')\n",
    "plt.legend()\n",
    "plt.show()"
   ]
  },
  {
   "cell_type": "code",
   "execution_count": 37,
   "metadata": {
    "ExecuteTime": {
     "end_time": "2020-09-24T17:11:58.007009Z",
     "start_time": "2020-09-24T17:11:57.550813Z"
    }
   },
   "outputs": [
    {
     "data": {
      "image/png": "[encoded data removed]",
      "text/plain": [
       "<Figure size 576x576 with 1 Axes>"
      ]
     },
     "metadata": {
      "image/png": {
       "height": 494,
       "width": 497
      },
      "needs_background": "light"
     },
     "output_type": "display_data"
    }
   ],
   "source": [
    "plt.figure(figsize=(8,8))\n",
    "plt.plot(epochs, acc, 'b', label='Training acc')\n",
    "plt.plot(epochs, val_acc, 'g', label='Validation acc')\n",
    "plt.title('Training and validation accuracy')\n",
    "plt.xlabel('Epochs')\n",
    "plt.ylabel('Accuracy')\n",
    "plt.legend()\n",
    "plt.show()"
   ]
  },
  {
   "cell_type": "markdown",
   "metadata": {},
   "source": [
    "---"
   ]
  },
  {
   "cell_type": "markdown",
   "metadata": {},
   "source": [
    "## Evaluate the model"
   ]
  },
  {
   "cell_type": "markdown",
   "metadata": {},
   "source": [
    "### Compute f-score on the test set"
   ]
  },
  {
   "cell_type": "code",
   "execution_count": 38,
   "metadata": {
    "ExecuteTime": {
     "end_time": "2020-09-24T17:12:01.441785Z",
     "start_time": "2020-09-24T17:12:01.425995Z"
    }
   },
   "outputs": [],
   "source": [
    "test_sequences = [doc_tokens_to_sequence(newsgroups_corpus.get_tokens(doc_id), word_to_idx_map) for doc_id in test_doc_ids]\n",
    "test_padded_sequences = pad_sequences(test_sequences, maxlen=max_doc_len)"
   ]
  },
  {
   "cell_type": "code",
   "execution_count": 39,
   "metadata": {
    "ExecuteTime": {
     "end_time": "2020-09-24T17:12:03.091876Z",
     "start_time": "2020-09-24T17:12:01.955842Z"
    }
   },
   "outputs": [],
   "source": [
    "test_pred = nn_model.predict(test_padded_sequences)"
   ]
  },
  {
   "cell_type": "code",
   "execution_count": 40,
   "metadata": {
    "ExecuteTime": {
     "end_time": "2020-09-24T17:12:03.101199Z",
     "start_time": "2020-09-24T17:12:03.094585Z"
    }
   },
   "outputs": [],
   "source": [
    "# round to nearest integer\n",
    "test_pred = np.rint(test_pred)"
   ]
  },
  {
   "cell_type": "code",
   "execution_count": 41,
   "metadata": {
    "ExecuteTime": {
     "end_time": "2020-09-24T17:12:03.109149Z",
     "start_time": "2020-09-24T17:12:03.103565Z"
    }
   },
   "outputs": [
    {
     "data": {
      "text/plain": [
       "array([0., 0., 0., 0., 0., 0., 0., 0., 0., 0., 0., 1., 0., 0., 0., 0., 0.,\n",
       "       0., 0., 0.], dtype=float32)"
      ]
     },
     "execution_count": 41,
     "metadata": {},
     "output_type": "execute_result"
    }
   ],
   "source": [
    "test_pred[0]"
   ]
  },
  {
   "cell_type": "code",
   "execution_count": 42,
   "metadata": {
    "ExecuteTime": {
     "end_time": "2020-09-24T17:12:05.398368Z",
     "start_time": "2020-09-24T17:12:05.394343Z"
    }
   },
   "outputs": [],
   "source": [
    "from sklearn.metrics import classification_report"
   ]
  },
  {
   "cell_type": "code",
   "execution_count": 43,
   "metadata": {
    "ExecuteTime": {
     "end_time": "2020-09-24T17:12:05.794393Z",
     "start_time": "2020-09-24T17:12:05.765260Z"
    }
   },
   "outputs": [
    {
     "name": "stdout",
     "output_type": "stream",
     "text": [
      "              precision    recall  f1-score   support\n",
      "\n",
      "           0       0.93      1.00      0.97        14\n",
      "           1       1.00      1.00      1.00         9\n",
      "           2       1.00      0.93      0.96        14\n",
      "           3       1.00      1.00      1.00        21\n",
      "           4       1.00      1.00      1.00        35\n",
      "           5       1.00      1.00      1.00        22\n",
      "           6       0.96      0.96      0.96        28\n",
      "           7       1.00      1.00      1.00        40\n",
      "           8       0.92      1.00      0.96        33\n",
      "           9       1.00      1.00      1.00         8\n",
      "          10       1.00      0.86      0.93        29\n",
      "          11       0.97      0.95      0.96        41\n",
      "          12       1.00      1.00      1.00        12\n",
      "          13       1.00      0.94      0.97        18\n",
      "          14       1.00      0.96      0.98        25\n",
      "          15       0.92      1.00      0.96        12\n",
      "          16       1.00      1.00      1.00         9\n",
      "          17       1.00      1.00      1.00        28\n",
      "          18       1.00      1.00      1.00        23\n",
      "          19       1.00      1.00      1.00        14\n",
      "\n",
      "   micro avg       0.98      0.98      0.98       435\n",
      "   macro avg       0.99      0.98      0.98       435\n",
      "weighted avg       0.98      0.98      0.98       435\n",
      " samples avg       0.98      0.98      0.98       435\n",
      "\n"
     ]
    },
    {
     "name": "stderr",
     "output_type": "stream",
     "text": [
      "/home/nvidia/anaconda3/envs/testenv/lib/python3.8/site-packages/sklearn/metrics/_classification.py:1272: UndefinedMetricWarning: Precision and F-score are ill-defined and being set to 0.0 in samples with no predicted labels. Use `zero_division` parameter to control this behavior.\n",
      "  _warn_prf(average, modifier, msg_start, len(result))\n"
     ]
    }
   ],
   "source": [
    "print(classification_report(test_labels, test_pred))"
   ]
  },
  {
   "cell_type": "markdown",
   "metadata": {},
   "source": [
    "## Save model to a file"
   ]
  },
  {
   "cell_type": "code",
   "execution_count": 44,
   "metadata": {
    "ExecuteTime": {
     "end_time": "2020-09-24T17:12:21.402031Z",
     "start_time": "2020-09-24T17:12:21.395738Z"
    }
   },
   "outputs": [],
   "source": [
    "nn_filename = 'newsgroups_nn_model.h5'\n",
    "nn_filepath = os.path.join(root_dir, models_dir, nn_filename)"
   ]
  },
  {
   "cell_type": "code",
   "execution_count": 45,
   "metadata": {
    "ExecuteTime": {
     "end_time": "2020-09-24T17:12:22.031551Z",
     "start_time": "2020-09-24T17:12:21.942311Z"
    }
   },
   "outputs": [],
   "source": [
    "nn_model.save(nn_filepath)"
   ]
  },
  {
   "cell_type": "markdown",
   "metadata": {},
   "source": [
    "---"
   ]
  },
  {
   "cell_type": "markdown",
   "metadata": {},
   "source": [
    "## Save `word_to_index_map` to a file"
   ]
  },
  {
   "cell_type": "code",
   "execution_count": 46,
   "metadata": {
    "ExecuteTime": {
     "end_time": "2020-09-24T17:12:23.684273Z",
     "start_time": "2020-09-24T17:12:23.678488Z"
    }
   },
   "outputs": [],
   "source": [
    "import pandas as pd"
   ]
  },
  {
   "cell_type": "code",
   "execution_count": 47,
   "metadata": {
    "ExecuteTime": {
     "end_time": "2020-09-24T17:12:24.124719Z",
     "start_time": "2020-09-24T17:12:24.115207Z"
    }
   },
   "outputs": [],
   "source": [
    "word_to_index_df = pd.DataFrame(word_to_idx_map.items(), columns=['term', 'index'])"
   ]
  },
  {
   "cell_type": "code",
   "execution_count": 48,
   "metadata": {
    "ExecuteTime": {
     "end_time": "2020-09-24T17:12:24.662488Z",
     "start_time": "2020-09-24T17:12:24.644570Z"
    }
   },
   "outputs": [
    {
     "data": {
      "text/html": [
       "<div>\n",
       "<style scoped>\n",
       "    .dataframe tbody tr th:only-of-type {\n",
       "        vertical-align: middle;\n",
       "    }\n",
       "\n",
       "    .dataframe tbody tr th {\n",
       "        vertical-align: top;\n",
       "    }\n",
       "\n",
       "    .dataframe thead th {\n",
       "        text-align: right;\n",
       "    }\n",
       "</style>\n",
       "<table border=\"1\" class=\"dataframe\">\n",
       "  <thead>\n",
       "    <tr style=\"text-align: right;\">\n",
       "      <th></th>\n",
       "      <th>term</th>\n",
       "      <th>index</th>\n",
       "    </tr>\n",
       "  </thead>\n",
       "  <tbody>\n",
       "    <tr>\n",
       "      <th>0</th>\n",
       "      <td>0</td>\n",
       "      <td>1</td>\n",
       "    </tr>\n",
       "    <tr>\n",
       "      <th>1</th>\n",
       "      <td>0-5</td>\n",
       "      <td>2</td>\n",
       "    </tr>\n",
       "    <tr>\n",
       "      <th>2</th>\n",
       "      <td>0-inch</td>\n",
       "      <td>3</td>\n",
       "    </tr>\n",
       "    <tr>\n",
       "      <th>3</th>\n",
       "      <td>00</td>\n",
       "      <td>4</td>\n",
       "    </tr>\n",
       "    <tr>\n",
       "      <th>4</th>\n",
       "      <td>000</td>\n",
       "      <td>5</td>\n",
       "    </tr>\n",
       "  </tbody>\n",
       "</table>\n",
       "</div>"
      ],
      "text/plain": [
       "     term  index\n",
       "0       0      1\n",
       "1     0-5      2\n",
       "2  0-inch      3\n",
       "3      00      4\n",
       "4     000      5"
      ]
     },
     "execution_count": 48,
     "metadata": {},
     "output_type": "execute_result"
    }
   ],
   "source": [
    "word_to_index_df.head()"
   ]
  },
  {
   "cell_type": "code",
   "execution_count": 49,
   "metadata": {
    "ExecuteTime": {
     "end_time": "2020-09-24T17:12:27.010348Z",
     "start_time": "2020-09-24T17:12:26.999893Z"
    }
   },
   "outputs": [
    {
     "data": {
      "text/plain": [
       "(1096, 2)"
      ]
     },
     "execution_count": 49,
     "metadata": {},
     "output_type": "execute_result"
    }
   ],
   "source": [
    "word_to_index_df.shape"
   ]
  },
  {
   "cell_type": "code",
   "execution_count": 50,
   "metadata": {
    "ExecuteTime": {
     "end_time": "2020-09-24T17:12:33.654169Z",
     "start_time": "2020-09-24T17:12:33.647373Z"
    }
   },
   "outputs": [],
   "source": [
    "index_filename = 'newsgroups_nn_word_index.csv'\n",
    "index_filepath = os.path.join(root_dir, models_dir, index_filename)"
   ]
  },
  {
   "cell_type": "code",
   "execution_count": 51,
   "metadata": {
    "ExecuteTime": {
     "end_time": "2020-09-24T17:12:34.713540Z",
     "start_time": "2020-09-24T17:12:34.699380Z"
    }
   },
   "outputs": [],
   "source": [
    "word_to_index_df.to_csv(index_filepath, encoding='utf-8', index=False)"
   ]
  },
  {
   "cell_type": "markdown",
   "metadata": {},
   "source": [
    "---"
   ]
  }
 ],
 "metadata": {
  "kernelspec": {
   "display_name": "Python 3",
   "language": "python",
   "name": "python3"
  },
  "language_info": {
   "codemirror_mode": {
    "name": "ipython",
    "version": 3
   },
   "file_extension": ".py",
   "mimetype": "text/x-python",
   "name": "python",
   "nbconvert_exporter": "python",
   "pygments_lexer": "ipython3",
   "version": "3.8.1"
  },
  "toc": {
   "base_numbering": 1,
   "nav_menu": {},
   "number_sections": true,
   "sideBar": true,
   "skip_h1_title": false,
   "title_cell": "Table of Contents",
   "title_sidebar": "Contents",
   "toc_cell": false,
   "toc_position": {},
   "toc_section_display": true,
   "toc_window_display": false
  }
 },
 "nbformat": 4,
 "nbformat_minor": 4
}
