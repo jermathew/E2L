{
 "cells": [
  {
   "cell_type": "markdown",
   "metadata": {},
   "source": [
    "# Training a neural network model on the Alaska dataset"
   ]
  },
  {
   "cell_type": "code",
   "execution_count": 1,
   "metadata": {
    "ExecuteTime": {
     "end_time": "2021-03-17T14:46:36.590539Z",
     "start_time": "2021-03-17T14:46:36.178055Z"
    }
   },
   "outputs": [],
   "source": [
    "%matplotlib inline\n",
    "%config InlineBackend.figure_format = 'retina'"
   ]
  },
  {
   "cell_type": "markdown",
   "metadata": {},
   "source": [
    "---"
   ]
  },
  {
   "cell_type": "markdown",
   "metadata": {},
   "source": [
    "## Load the data"
   ]
  },
  {
   "cell_type": "code",
   "execution_count": 2,
   "metadata": {
    "ExecuteTime": {
     "end_time": "2021-03-17T14:46:37.085322Z",
     "start_time": "2021-03-17T14:46:37.081727Z"
    }
   },
   "outputs": [],
   "source": [
    "root_dir = '../../'\n",
    "src_dir = 'src'\n",
    "data_dir = 'data/corpus'\n",
    "models_dir = 'data/models'"
   ]
  },
  {
   "cell_type": "code",
   "execution_count": 3,
   "metadata": {
    "ExecuteTime": {
     "end_time": "2021-03-17T14:46:37.350660Z",
     "start_time": "2021-03-17T14:46:37.347730Z"
    }
   },
   "outputs": [],
   "source": [
    "import os\n",
    "import sys"
   ]
  },
  {
   "cell_type": "code",
   "execution_count": 4,
   "metadata": {
    "ExecuteTime": {
     "end_time": "2021-03-17T14:46:37.610026Z",
     "start_time": "2021-03-17T14:46:37.607259Z"
    }
   },
   "outputs": [],
   "source": [
    "sys.path.append(os.path.join(root_dir, src_dir))"
   ]
  },
  {
   "cell_type": "code",
   "execution_count": 5,
   "metadata": {
    "ExecuteTime": {
     "end_time": "2021-03-17T14:46:37.869528Z",
     "start_time": "2021-03-17T14:46:37.867231Z"
    }
   },
   "outputs": [],
   "source": [
    "corpus_filename = 'alaska_corpus_noisy.json'"
   ]
  },
  {
   "cell_type": "code",
   "execution_count": 6,
   "metadata": {
    "ExecuteTime": {
     "end_time": "2021-03-17T14:46:39.024454Z",
     "start_time": "2021-03-17T14:46:38.094963Z"
    }
   },
   "outputs": [],
   "source": [
    "from training import TrainingCorpus"
   ]
  },
  {
   "cell_type": "code",
   "execution_count": 7,
   "metadata": {
    "ExecuteTime": {
     "end_time": "2021-03-17T14:46:39.043687Z",
     "start_time": "2021-03-17T14:46:39.026726Z"
    }
   },
   "outputs": [],
   "source": [
    "alaska_corpus = TrainingCorpus()\n",
    "alaska_corpus.load(os.path.join(root_dir, data_dir, corpus_filename))"
   ]
  },
  {
   "cell_type": "code",
   "execution_count": 8,
   "metadata": {
    "ExecuteTime": {
     "end_time": "2021-03-17T14:46:39.402325Z",
     "start_time": "2021-03-17T14:46:39.397165Z"
    }
   },
   "outputs": [
    {
     "data": {
      "text/plain": [
       "2171"
      ]
     },
     "execution_count": 8,
     "metadata": {},
     "output_type": "execute_result"
    }
   ],
   "source": [
    "alaska_corpus.size"
   ]
  },
  {
   "cell_type": "markdown",
   "metadata": {},
   "source": [
    "---"
   ]
  },
  {
   "cell_type": "markdown",
   "metadata": {},
   "source": [
    "## Load the Glove model"
   ]
  },
  {
   "cell_type": "code",
   "execution_count": 9,
   "metadata": {
    "ExecuteTime": {
     "end_time": "2021-03-17T14:46:41.504652Z",
     "start_time": "2021-03-17T14:46:41.327129Z"
    }
   },
   "outputs": [
    {
     "name": "stderr",
     "output_type": "stream",
     "text": [
      "unable to import 'smart_open.gcs', disabling that module\n"
     ]
    }
   ],
   "source": [
    "from gensim.models import KeyedVectors"
   ]
  },
  {
   "cell_type": "code",
   "execution_count": 10,
   "metadata": {
    "ExecuteTime": {
     "end_time": "2021-03-17T14:46:41.525483Z",
     "start_time": "2021-03-17T14:46:41.518340Z"
    }
   },
   "outputs": [],
   "source": [
    "glove_filename = 'glove.6B.200d.word2vec'"
   ]
  },
  {
   "cell_type": "code",
   "execution_count": 11,
   "metadata": {
    "ExecuteTime": {
     "end_time": "2021-03-17T14:48:17.984092Z",
     "start_time": "2021-03-17T14:46:41.790437Z"
    }
   },
   "outputs": [],
   "source": [
    "glove_model = KeyedVectors.load_word2vec_format(os.path.join(root_dir, models_dir, glove_filename), binary=False)"
   ]
  },
  {
   "cell_type": "markdown",
   "metadata": {},
   "source": [
    "---"
   ]
  },
  {
   "cell_type": "markdown",
   "metadata": {},
   "source": [
    "## Split the dataset into training and test set"
   ]
  },
  {
   "cell_type": "code",
   "execution_count": 12,
   "metadata": {
    "ExecuteTime": {
     "end_time": "2021-03-17T14:48:17.992265Z",
     "start_time": "2021-03-17T14:48:17.986139Z"
    }
   },
   "outputs": [],
   "source": [
    "train_doc_ids, test_doc_ids, train_labels, test_labels = alaska_corpus.get_train_test_data(test_size=0.2, random_state=3)"
   ]
  },
  {
   "cell_type": "code",
   "execution_count": 13,
   "metadata": {
    "ExecuteTime": {
     "end_time": "2021-03-17T14:48:17.997533Z",
     "start_time": "2021-03-17T14:48:17.994257Z"
    }
   },
   "outputs": [
    {
     "name": "stdout",
     "output_type": "stream",
     "text": [
      "Training set size: 1736\n",
      "Test set size: 435\n",
      "No. of labels: 12\n"
     ]
    }
   ],
   "source": [
    "n_classes = train_labels.shape[1]\n",
    "print(f'Training set size: {len(train_doc_ids)}')\n",
    "print(f'Test set size: {len(test_doc_ids)}')\n",
    "print(f'No. of labels: {n_classes}')"
   ]
  },
  {
   "cell_type": "markdown",
   "metadata": {},
   "source": [
    "---"
   ]
  },
  {
   "cell_type": "markdown",
   "metadata": {},
   "source": [
    "## Build the embedding matrix"
   ]
  },
  {
   "cell_type": "markdown",
   "metadata": {},
   "source": [
    "### Define the vocabulary"
   ]
  },
  {
   "cell_type": "code",
   "execution_count": 14,
   "metadata": {
    "ExecuteTime": {
     "end_time": "2021-03-17T14:48:18.006834Z",
     "start_time": "2021-03-17T14:48:17.999667Z"
    }
   },
   "outputs": [],
   "source": [
    "docs_tokens = [alaska_corpus.get_tokens(doc_id) for doc_id in train_doc_ids]\n",
    "vocab = sorted({token for tokens in docs_tokens for token in tokens})"
   ]
  },
  {
   "cell_type": "code",
   "execution_count": 15,
   "metadata": {
    "ExecuteTime": {
     "end_time": "2021-03-17T14:48:18.011191Z",
     "start_time": "2021-03-17T14:48:18.008169Z"
    }
   },
   "outputs": [
    {
     "data": {
      "text/plain": [
       "['0', '0-5', '0-inch', '00', '000']"
      ]
     },
     "execution_count": 15,
     "metadata": {},
     "output_type": "execute_result"
    }
   ],
   "source": [
    "vocab[:5]"
   ]
  },
  {
   "cell_type": "code",
   "execution_count": 16,
   "metadata": {
    "ExecuteTime": {
     "end_time": "2021-03-17T14:48:18.015204Z",
     "start_time": "2021-03-17T14:48:18.012392Z"
    }
   },
   "outputs": [
    {
     "name": "stdout",
     "output_type": "stream",
     "text": [
      "There are 1096 unique words in the training set\n"
     ]
    }
   ],
   "source": [
    "print(f'There are {len(vocab)} unique words in the training set')"
   ]
  },
  {
   "cell_type": "markdown",
   "metadata": {},
   "source": [
    "### Encode vocabulary terms as integers"
   ]
  },
  {
   "cell_type": "code",
   "execution_count": 17,
   "metadata": {
    "ExecuteTime": {
     "end_time": "2021-03-17T14:48:18.019730Z",
     "start_time": "2021-03-17T14:48:18.016824Z"
    }
   },
   "outputs": [],
   "source": [
    "# +1 as index 0 is reserved\n",
    "word_to_idx_map = {word:idx+1 for idx, word in enumerate(vocab)}"
   ]
  },
  {
   "cell_type": "markdown",
   "metadata": {},
   "source": [
    "### Define the embedding matrix"
   ]
  },
  {
   "cell_type": "code",
   "execution_count": 18,
   "metadata": {
    "ExecuteTime": {
     "end_time": "2021-03-17T14:48:18.023993Z",
     "start_time": "2021-03-17T14:48:18.021804Z"
    }
   },
   "outputs": [],
   "source": [
    "import numpy as np"
   ]
  },
  {
   "cell_type": "code",
   "execution_count": 19,
   "metadata": {
    "ExecuteTime": {
     "end_time": "2021-03-17T14:48:18.028703Z",
     "start_time": "2021-03-17T14:48:18.025643Z"
    }
   },
   "outputs": [
    {
     "data": {
      "text/plain": [
       "200"
      ]
     },
     "execution_count": 19,
     "metadata": {},
     "output_type": "execute_result"
    }
   ],
   "source": [
    "embedding_size = glove_model.vector_size\n",
    "embedding_size"
   ]
  },
  {
   "cell_type": "code",
   "execution_count": 20,
   "metadata": {
    "ExecuteTime": {
     "end_time": "2021-03-17T14:48:18.033795Z",
     "start_time": "2021-03-17T14:48:18.030114Z"
    }
   },
   "outputs": [
    {
     "data": {
      "text/plain": [
       "(1097, 200)"
      ]
     },
     "execution_count": 20,
     "metadata": {},
     "output_type": "execute_result"
    }
   ],
   "source": [
    "embedding_matrix = np.zeros((len(word_to_idx_map) + 1, embedding_size))\n",
    "embedding_matrix.shape"
   ]
  },
  {
   "cell_type": "code",
   "execution_count": 21,
   "metadata": {
    "ExecuteTime": {
     "end_time": "2021-03-17T14:48:18.037323Z",
     "start_time": "2021-03-17T14:48:18.035161Z"
    }
   },
   "outputs": [],
   "source": [
    "embedding_found_count = 0"
   ]
  },
  {
   "cell_type": "code",
   "execution_count": 22,
   "metadata": {
    "ExecuteTime": {
     "end_time": "2021-03-17T14:48:18.049643Z",
     "start_time": "2021-03-17T14:48:18.038947Z"
    }
   },
   "outputs": [],
   "source": [
    "for word, idx in word_to_idx_map.items():\n",
    "    if word in glove_model:\n",
    "        # words not found in the embedding matrix will be all-zeros.\n",
    "        embedding_matrix[idx] = glove_model[word]\n",
    "        embedding_found_count += 1"
   ]
  },
  {
   "cell_type": "code",
   "execution_count": 23,
   "metadata": {
    "ExecuteTime": {
     "end_time": "2021-03-17T14:48:18.053952Z",
     "start_time": "2021-03-17T14:48:18.051227Z"
    }
   },
   "outputs": [
    {
     "name": "stdout",
     "output_type": "stream",
     "text": [
      "Found embeddings for 670 out of 1096 words (61.13%)\n"
     ]
    }
   ],
   "source": [
    "print(f'Found embeddings for {embedding_found_count} out of {len(vocab)} words ({round(embedding_found_count/len(vocab)*100,2)}%)')"
   ]
  },
  {
   "cell_type": "markdown",
   "metadata": {},
   "source": [
    "---"
   ]
  },
  {
   "cell_type": "markdown",
   "metadata": {},
   "source": [
    "## Convert documents to sequence of integer indexes"
   ]
  },
  {
   "cell_type": "markdown",
   "metadata": {},
   "source": [
    "### Define utility functions"
   ]
  },
  {
   "cell_type": "code",
   "execution_count": 24,
   "metadata": {
    "ExecuteTime": {
     "end_time": "2021-03-17T14:48:26.117672Z",
     "start_time": "2021-03-17T14:48:24.449870Z"
    }
   },
   "outputs": [
    {
     "name": "stderr",
     "output_type": "stream",
     "text": [
      "Using TensorFlow backend.\n"
     ]
    }
   ],
   "source": [
    "from keras.preprocessing.sequence import pad_sequences"
   ]
  },
  {
   "cell_type": "code",
   "execution_count": 25,
   "metadata": {
    "ExecuteTime": {
     "end_time": "2021-03-17T14:48:26.123300Z",
     "start_time": "2021-03-17T14:48:26.119749Z"
    }
   },
   "outputs": [],
   "source": [
    "def doc_tokens_to_sequence(doc_tokens, word_to_idx_map):\n",
    "    sequence = []\n",
    "    \n",
    "    for token in doc_tokens:\n",
    "        if token in word_to_idx_map:\n",
    "            sequence.append(word_to_idx_map[token])\n",
    "\n",
    "    return sequence"
   ]
  },
  {
   "cell_type": "markdown",
   "metadata": {},
   "source": [
    "### Encode texts"
   ]
  },
  {
   "cell_type": "code",
   "execution_count": 26,
   "metadata": {
    "ExecuteTime": {
     "end_time": "2021-03-17T14:48:26.129265Z",
     "start_time": "2021-03-17T14:48:26.125358Z"
    }
   },
   "outputs": [
    {
     "data": {
      "text/plain": [
       "42"
      ]
     },
     "execution_count": 26,
     "metadata": {},
     "output_type": "execute_result"
    }
   ],
   "source": [
    "max_doc_len = max(len(doc_tokens) for doc_tokens in docs_tokens)\n",
    "max_doc_len"
   ]
  },
  {
   "cell_type": "code",
   "execution_count": 27,
   "metadata": {
    "ExecuteTime": {
     "end_time": "2021-03-17T14:48:26.153594Z",
     "start_time": "2021-03-17T14:48:26.130634Z"
    }
   },
   "outputs": [],
   "source": [
    "train_doc_sequences = [doc_tokens_to_sequence(alaska_corpus.get_tokens(doc_id), word_to_idx_map) for doc_id in train_doc_ids]\n",
    "train_padded_sequences = pad_sequences(train_doc_sequences, maxlen=max_doc_len)"
   ]
  },
  {
   "cell_type": "markdown",
   "metadata": {},
   "source": [
    "## Train the model"
   ]
  },
  {
   "cell_type": "markdown",
   "metadata": {},
   "source": [
    "### Define the model"
   ]
  },
  {
   "cell_type": "code",
   "execution_count": 28,
   "metadata": {
    "ExecuteTime": {
     "end_time": "2021-03-17T14:48:28.179053Z",
     "start_time": "2021-03-17T14:48:28.174056Z"
    }
   },
   "outputs": [],
   "source": [
    "from keras import Input\n",
    "from keras.models import Model\n",
    "from keras.layers import Dense, Embedding, LSTM, Bidirectional\n",
    "from keras.optimizers import Adam"
   ]
  },
  {
   "cell_type": "code",
   "execution_count": 29,
   "metadata": {
    "ExecuteTime": {
     "end_time": "2021-03-17T14:48:31.459484Z",
     "start_time": "2021-03-17T14:48:29.897611Z"
    }
   },
   "outputs": [],
   "source": [
    "nn_input = Input(shape=(max_doc_len,), dtype='int32')\n",
    "embedding_output = Embedding(len(word_to_idx_map)+1,\n",
    "                             embedding_matrix.shape[1],\n",
    "                             weights=[embedding_matrix],\n",
    "                             input_length=max_doc_len,\n",
    "                             trainable=True,\n",
    "                             mask_zero=True)(nn_input)\n",
    "lstm = Bidirectional(LSTM(100))(embedding_output)\n",
    "dense = Dense(64, activation='relu')(lstm)\n",
    "nn_output = Dense(n_classes, activation='softmax')(dense)\n",
    "\n",
    "nn_model = Model(nn_input, nn_output)\n",
    "\n",
    "nn_model.compile(loss='categorical_crossentropy',\n",
    "                 optimizer=Adam(),\n",
    "                 metrics=['accuracy'])"
   ]
  },
  {
   "cell_type": "code",
   "execution_count": 30,
   "metadata": {
    "ExecuteTime": {
     "end_time": "2021-03-17T14:48:32.972233Z",
     "start_time": "2021-03-17T14:48:32.968070Z"
    }
   },
   "outputs": [],
   "source": [
    "from IPython.display import SVG\n",
    "from keras.utils.vis_utils import model_to_dot"
   ]
  },
  {
   "cell_type": "code",
   "execution_count": 31,
   "metadata": {
    "ExecuteTime": {
     "end_time": "2021-03-17T14:48:33.854414Z",
     "start_time": "2021-03-17T14:48:33.552099Z"
    }
   },
   "outputs": [
    {
     "data": {
      "image/svg+xml": [
       "<svg xmlns=\"http://www.w3.org/2000/svg\" xmlns:xlink=\"http://www.w3.org/1999/xlink\" width=\"424pt\" height=\"376pt\" viewBox=\"0.00 0.00 436.00 387.00\">\n",
       "<g id=\"graph0\" class=\"graph\" transform=\"scale(.9722 .9722) rotate(0) translate(4 383)\">\n",
       "<title>G</title>\n",
       "<polygon fill=\"#ffffff\" stroke=\"transparent\" points=\"-4,4 -4,-383 432,-383 432,4 -4,4\"/>\n",
       "<!-- 140277833521232 -->\n",
       "<g id=\"node1\" class=\"node\">\n",
       "<title>140277833521232</title>\n",
       "<polygon fill=\"none\" stroke=\"#000000\" points=\"86,-332.5 86,-378.5 342,-378.5 342,-332.5 86,-332.5\"/>\n",
       "<text text-anchor=\"middle\" x=\"148.5\" y=\"-351.8\" font-family=\"Times,serif\" font-size=\"14.00\" fill=\"#000000\">input_1: InputLayer</text>\n",
       "<polyline fill=\"none\" stroke=\"#000000\" points=\"211,-332.5 211,-378.5 \"/>\n",
       "<text text-anchor=\"middle\" x=\"238.5\" y=\"-363.3\" font-family=\"Times,serif\" font-size=\"14.00\" fill=\"#000000\">input:</text>\n",
       "<polyline fill=\"none\" stroke=\"#000000\" points=\"211,-355.5 266,-355.5 \"/>\n",
       "<text text-anchor=\"middle\" x=\"238.5\" y=\"-340.3\" font-family=\"Times,serif\" font-size=\"14.00\" fill=\"#000000\">output:</text>\n",
       "<polyline fill=\"none\" stroke=\"#000000\" points=\"266,-332.5 266,-378.5 \"/>\n",
       "<text text-anchor=\"middle\" x=\"304\" y=\"-363.3\" font-family=\"Times,serif\" font-size=\"14.00\" fill=\"#000000\">(None, 42)</text>\n",
       "<polyline fill=\"none\" stroke=\"#000000\" points=\"266,-355.5 342,-355.5 \"/>\n",
       "<text text-anchor=\"middle\" x=\"304\" y=\"-340.3\" font-family=\"Times,serif\" font-size=\"14.00\" fill=\"#000000\">(None, 42)</text>\n",
       "</g>\n",
       "<!-- 140277833521136 -->\n",
       "<g id=\"node2\" class=\"node\">\n",
       "<title>140277833521136</title>\n",
       "<polygon fill=\"none\" stroke=\"#000000\" points=\"54,-249.5 54,-295.5 374,-295.5 374,-249.5 54,-249.5\"/>\n",
       "<text text-anchor=\"middle\" x=\"134.5\" y=\"-268.8\" font-family=\"Times,serif\" font-size=\"14.00\" fill=\"#000000\">embedding_1: Embedding</text>\n",
       "<polyline fill=\"none\" stroke=\"#000000\" points=\"215,-249.5 215,-295.5 \"/>\n",
       "<text text-anchor=\"middle\" x=\"242.5\" y=\"-280.3\" font-family=\"Times,serif\" font-size=\"14.00\" fill=\"#000000\">input:</text>\n",
       "<polyline fill=\"none\" stroke=\"#000000\" points=\"215,-272.5 270,-272.5 \"/>\n",
       "<text text-anchor=\"middle\" x=\"242.5\" y=\"-257.3\" font-family=\"Times,serif\" font-size=\"14.00\" fill=\"#000000\">output:</text>\n",
       "<polyline fill=\"none\" stroke=\"#000000\" points=\"270,-249.5 270,-295.5 \"/>\n",
       "<text text-anchor=\"middle\" x=\"322\" y=\"-280.3\" font-family=\"Times,serif\" font-size=\"14.00\" fill=\"#000000\">(None, 42)</text>\n",
       "<polyline fill=\"none\" stroke=\"#000000\" points=\"270,-272.5 374,-272.5 \"/>\n",
       "<text text-anchor=\"middle\" x=\"322\" y=\"-257.3\" font-family=\"Times,serif\" font-size=\"14.00\" fill=\"#000000\">(None, 42, 200)</text>\n",
       "</g>\n",
       "<!-- 140277833521232&#45;&gt;140277833521136 -->\n",
       "<g id=\"edge1\" class=\"edge\">\n",
       "<title>140277833521232-&gt;140277833521136</title>\n",
       "<path fill=\"none\" stroke=\"#000000\" d=\"M214,-332.3799C214,-324.1745 214,-314.7679 214,-305.8786\"/>\n",
       "<polygon fill=\"#000000\" stroke=\"#000000\" points=\"217.5001,-305.784 214,-295.784 210.5001,-305.784 217.5001,-305.784\"/>\n",
       "</g>\n",
       "<!-- 140277833523008 -->\n",
       "<g id=\"node3\" class=\"node\">\n",
       "<title>140277833523008</title>\n",
       "<polygon fill=\"none\" stroke=\"#000000\" points=\"0,-166.5 0,-212.5 428,-212.5 428,-166.5 0,-166.5\"/>\n",
       "<text text-anchor=\"middle\" x=\"134.5\" y=\"-185.8\" font-family=\"Times,serif\" font-size=\"14.00\" fill=\"#000000\">bidirectional_1(lstm_1): Bidirectional(LSTM)</text>\n",
       "<polyline fill=\"none\" stroke=\"#000000\" points=\"269,-166.5 269,-212.5 \"/>\n",
       "<text text-anchor=\"middle\" x=\"296.5\" y=\"-197.3\" font-family=\"Times,serif\" font-size=\"14.00\" fill=\"#000000\">input:</text>\n",
       "<polyline fill=\"none\" stroke=\"#000000\" points=\"269,-189.5 324,-189.5 \"/>\n",
       "<text text-anchor=\"middle\" x=\"296.5\" y=\"-174.3\" font-family=\"Times,serif\" font-size=\"14.00\" fill=\"#000000\">output:</text>\n",
       "<polyline fill=\"none\" stroke=\"#000000\" points=\"324,-166.5 324,-212.5 \"/>\n",
       "<text text-anchor=\"middle\" x=\"376\" y=\"-197.3\" font-family=\"Times,serif\" font-size=\"14.00\" fill=\"#000000\">(None, 42, 200)</text>\n",
       "<polyline fill=\"none\" stroke=\"#000000\" points=\"324,-189.5 428,-189.5 \"/>\n",
       "<text text-anchor=\"middle\" x=\"376\" y=\"-174.3\" font-family=\"Times,serif\" font-size=\"14.00\" fill=\"#000000\">(None, 200)</text>\n",
       "</g>\n",
       "<!-- 140277833521136&#45;&gt;140277833523008 -->\n",
       "<g id=\"edge2\" class=\"edge\">\n",
       "<title>140277833521136-&gt;140277833523008</title>\n",
       "<path fill=\"none\" stroke=\"#000000\" d=\"M214,-249.3799C214,-241.1745 214,-231.7679 214,-222.8786\"/>\n",
       "<polygon fill=\"#000000\" stroke=\"#000000\" points=\"217.5001,-222.784 214,-212.784 210.5001,-222.784 217.5001,-222.784\"/>\n",
       "</g>\n",
       "<!-- 140277833521184 -->\n",
       "<g id=\"node4\" class=\"node\">\n",
       "<title>140277833521184</title>\n",
       "<polygon fill=\"none\" stroke=\"#000000\" points=\"94,-83.5 94,-129.5 334,-129.5 334,-83.5 94,-83.5\"/>\n",
       "<text text-anchor=\"middle\" x=\"145\" y=\"-102.8\" font-family=\"Times,serif\" font-size=\"14.00\" fill=\"#000000\">dense_1: Dense</text>\n",
       "<polyline fill=\"none\" stroke=\"#000000\" points=\"196,-83.5 196,-129.5 \"/>\n",
       "<text text-anchor=\"middle\" x=\"223.5\" y=\"-114.3\" font-family=\"Times,serif\" font-size=\"14.00\" fill=\"#000000\">input:</text>\n",
       "<polyline fill=\"none\" stroke=\"#000000\" points=\"196,-106.5 251,-106.5 \"/>\n",
       "<text text-anchor=\"middle\" x=\"223.5\" y=\"-91.3\" font-family=\"Times,serif\" font-size=\"14.00\" fill=\"#000000\">output:</text>\n",
       "<polyline fill=\"none\" stroke=\"#000000\" points=\"251,-83.5 251,-129.5 \"/>\n",
       "<text text-anchor=\"middle\" x=\"292.5\" y=\"-114.3\" font-family=\"Times,serif\" font-size=\"14.00\" fill=\"#000000\">(None, 200)</text>\n",
       "<polyline fill=\"none\" stroke=\"#000000\" points=\"251,-106.5 334,-106.5 \"/>\n",
       "<text text-anchor=\"middle\" x=\"292.5\" y=\"-91.3\" font-family=\"Times,serif\" font-size=\"14.00\" fill=\"#000000\">(None, 64)</text>\n",
       "</g>\n",
       "<!-- 140277833523008&#45;&gt;140277833521184 -->\n",
       "<g id=\"edge3\" class=\"edge\">\n",
       "<title>140277833523008-&gt;140277833521184</title>\n",
       "<path fill=\"none\" stroke=\"#000000\" d=\"M214,-166.3799C214,-158.1745 214,-148.7679 214,-139.8786\"/>\n",
       "<polygon fill=\"#000000\" stroke=\"#000000\" points=\"217.5001,-139.784 214,-129.784 210.5001,-139.784 217.5001,-139.784\"/>\n",
       "</g>\n",
       "<!-- 140277824694448 -->\n",
       "<g id=\"node5\" class=\"node\">\n",
       "<title>140277824694448</title>\n",
       "<polygon fill=\"none\" stroke=\"#000000\" points=\"97.5,-.5 97.5,-46.5 330.5,-46.5 330.5,-.5 97.5,-.5\"/>\n",
       "<text text-anchor=\"middle\" x=\"148.5\" y=\"-19.8\" font-family=\"Times,serif\" font-size=\"14.00\" fill=\"#000000\">dense_2: Dense</text>\n",
       "<polyline fill=\"none\" stroke=\"#000000\" points=\"199.5,-.5 199.5,-46.5 \"/>\n",
       "<text text-anchor=\"middle\" x=\"227\" y=\"-31.3\" font-family=\"Times,serif\" font-size=\"14.00\" fill=\"#000000\">input:</text>\n",
       "<polyline fill=\"none\" stroke=\"#000000\" points=\"199.5,-23.5 254.5,-23.5 \"/>\n",
       "<text text-anchor=\"middle\" x=\"227\" y=\"-8.3\" font-family=\"Times,serif\" font-size=\"14.00\" fill=\"#000000\">output:</text>\n",
       "<polyline fill=\"none\" stroke=\"#000000\" points=\"254.5,-.5 254.5,-46.5 \"/>\n",
       "<text text-anchor=\"middle\" x=\"292.5\" y=\"-31.3\" font-family=\"Times,serif\" font-size=\"14.00\" fill=\"#000000\">(None, 64)</text>\n",
       "<polyline fill=\"none\" stroke=\"#000000\" points=\"254.5,-23.5 330.5,-23.5 \"/>\n",
       "<text text-anchor=\"middle\" x=\"292.5\" y=\"-8.3\" font-family=\"Times,serif\" font-size=\"14.00\" fill=\"#000000\">(None, 12)</text>\n",
       "</g>\n",
       "<!-- 140277833521184&#45;&gt;140277824694448 -->\n",
       "<g id=\"edge4\" class=\"edge\">\n",
       "<title>140277833521184-&gt;140277824694448</title>\n",
       "<path fill=\"none\" stroke=\"#000000\" d=\"M214,-83.3799C214,-75.1745 214,-65.7679 214,-56.8786\"/>\n",
       "<polygon fill=\"#000000\" stroke=\"#000000\" points=\"217.5001,-56.784 214,-46.784 210.5001,-56.784 217.5001,-56.784\"/>\n",
       "</g>\n",
       "</g>\n",
       "</svg>"
      ],
      "text/plain": [
       "<IPython.core.display.SVG object>"
      ]
     },
     "execution_count": 31,
     "metadata": {},
     "output_type": "execute_result"
    }
   ],
   "source": [
    "SVG(model_to_dot(nn_model, show_shapes=True, dpi=70).create(prog='dot', format='svg'))"
   ]
  },
  {
   "cell_type": "markdown",
   "metadata": {},
   "source": [
    "### Train the model"
   ]
  },
  {
   "cell_type": "code",
   "execution_count": 32,
   "metadata": {
    "ExecuteTime": {
     "end_time": "2021-03-17T14:48:36.009215Z",
     "start_time": "2021-03-17T14:48:36.005107Z"
    }
   },
   "outputs": [],
   "source": [
    "import time"
   ]
  },
  {
   "cell_type": "code",
   "execution_count": 33,
   "metadata": {
    "ExecuteTime": {
     "end_time": "2021-03-17T14:49:02.284151Z",
     "start_time": "2021-03-17T14:48:36.805925Z"
    }
   },
   "outputs": [
    {
     "name": "stderr",
     "output_type": "stream",
     "text": [
      "/home/nvidia/anaconda3/envs/testenv/lib/python3.8/site-packages/tensorflow/python/framework/indexed_slices.py:433: UserWarning: Converting sparse IndexedSlices to a dense Tensor of unknown shape. This may consume a large amount of memory.\n",
      "  warnings.warn(\n"
     ]
    },
    {
     "name": "stdout",
     "output_type": "stream",
     "text": [
      "Train on 1562 samples, validate on 174 samples\n",
      "Epoch 1/30\n",
      "1562/1562 [==============================] - 2s 1ms/step - loss: 2.3140 - accuracy: 0.2318 - val_loss: 2.1115 - val_accuracy: 0.3391\n",
      "Epoch 2/30\n",
      "1562/1562 [==============================] - 1s 453us/step - loss: 1.9693 - accuracy: 0.3361 - val_loss: 1.8496 - val_accuracy: 0.4080\n",
      "Epoch 3/30\n",
      "1562/1562 [==============================] - 1s 460us/step - loss: 1.6541 - accuracy: 0.4366 - val_loss: 1.5749 - val_accuracy: 0.4310\n",
      "Epoch 4/30\n",
      "1562/1562 [==============================] - 1s 476us/step - loss: 1.3548 - accuracy: 0.5525 - val_loss: 1.3192 - val_accuracy: 0.5460\n",
      "Epoch 5/30\n",
      "1562/1562 [==============================] - 1s 463us/step - loss: 1.0666 - accuracy: 0.6479 - val_loss: 1.1013 - val_accuracy: 0.6264\n",
      "Epoch 6/30\n",
      "1562/1562 [==============================] - 1s 475us/step - loss: 0.7926 - accuracy: 0.7535 - val_loss: 0.8445 - val_accuracy: 0.7356\n",
      "Epoch 7/30\n",
      "1562/1562 [==============================] - 1s 469us/step - loss: 0.5382 - accuracy: 0.8476 - val_loss: 0.6151 - val_accuracy: 0.7989\n",
      "Epoch 8/30\n",
      "1562/1562 [==============================] - 1s 455us/step - loss: 0.3424 - accuracy: 0.9193 - val_loss: 0.4468 - val_accuracy: 0.8218\n",
      "Epoch 9/30\n",
      "1562/1562 [==============================] - 1s 440us/step - loss: 0.2167 - accuracy: 0.9533 - val_loss: 0.4016 - val_accuracy: 0.8506\n",
      "Epoch 10/30\n",
      "1562/1562 [==============================] - 1s 459us/step - loss: 0.1378 - accuracy: 0.9699 - val_loss: 0.2423 - val_accuracy: 0.9138\n",
      "Epoch 11/30\n",
      "1562/1562 [==============================] - 1s 483us/step - loss: 0.0746 - accuracy: 0.9898 - val_loss: 0.1946 - val_accuracy: 0.9368\n",
      "Epoch 12/30\n",
      "1562/1562 [==============================] - 1s 478us/step - loss: 0.0482 - accuracy: 0.9949 - val_loss: 0.1361 - val_accuracy: 0.9655\n",
      "Epoch 13/30\n",
      "1562/1562 [==============================] - 1s 491us/step - loss: 0.0271 - accuracy: 0.9981 - val_loss: 0.0841 - val_accuracy: 0.9885\n",
      "Epoch 14/30\n",
      "1562/1562 [==============================] - 1s 480us/step - loss: 0.0188 - accuracy: 0.9994 - val_loss: 0.0893 - val_accuracy: 0.9770\n",
      "Epoch 15/30\n",
      "1562/1562 [==============================] - 1s 464us/step - loss: 0.0171 - accuracy: 0.9987 - val_loss: 0.0458 - val_accuracy: 0.9943\n",
      "Epoch 16/30\n",
      "1562/1562 [==============================] - 1s 483us/step - loss: 0.0085 - accuracy: 1.0000 - val_loss: 0.0475 - val_accuracy: 0.9828\n",
      "Epoch 17/30\n",
      "1562/1562 [==============================] - 1s 481us/step - loss: 0.0067 - accuracy: 1.0000 - val_loss: 0.0396 - val_accuracy: 0.9885\n",
      "Epoch 18/30\n",
      "1562/1562 [==============================] - 1s 465us/step - loss: 0.0054 - accuracy: 1.0000 - val_loss: 0.0336 - val_accuracy: 0.9943\n",
      "Epoch 19/30\n",
      "1562/1562 [==============================] - 1s 461us/step - loss: 0.0046 - accuracy: 1.0000 - val_loss: 0.0360 - val_accuracy: 0.9885\n",
      "Epoch 20/30\n",
      "1562/1562 [==============================] - 1s 460us/step - loss: 0.0040 - accuracy: 1.0000 - val_loss: 0.0404 - val_accuracy: 0.9885\n",
      "Epoch 21/30\n",
      "1562/1562 [==============================] - 1s 472us/step - loss: 0.0035 - accuracy: 1.0000 - val_loss: 0.0427 - val_accuracy: 0.9885\n",
      "Epoch 22/30\n",
      "1562/1562 [==============================] - 1s 443us/step - loss: 0.0032 - accuracy: 1.0000 - val_loss: 0.0400 - val_accuracy: 0.9885\n",
      "Epoch 23/30\n",
      "1562/1562 [==============================] - 1s 460us/step - loss: 0.0029 - accuracy: 1.0000 - val_loss: 0.0402 - val_accuracy: 0.9885\n",
      "Epoch 24/30\n",
      "1562/1562 [==============================] - 1s 480us/step - loss: 0.0026 - accuracy: 1.0000 - val_loss: 0.0392 - val_accuracy: 0.9885\n",
      "Epoch 25/30\n",
      "1562/1562 [==============================] - 1s 472us/step - loss: 0.0024 - accuracy: 1.0000 - val_loss: 0.0411 - val_accuracy: 0.9885\n",
      "Epoch 26/30\n",
      "1562/1562 [==============================] - 1s 467us/step - loss: 0.0022 - accuracy: 1.0000 - val_loss: 0.0400 - val_accuracy: 0.9885\n",
      "Epoch 27/30\n",
      "1562/1562 [==============================] - 1s 471us/step - loss: 0.0021 - accuracy: 1.0000 - val_loss: 0.0387 - val_accuracy: 0.9885\n",
      "Epoch 28/30\n",
      "1562/1562 [==============================] - 1s 456us/step - loss: 0.0019 - accuracy: 1.0000 - val_loss: 0.0384 - val_accuracy: 0.9885\n",
      "Epoch 29/30\n",
      "1562/1562 [==============================] - 1s 464us/step - loss: 0.0018 - accuracy: 1.0000 - val_loss: 0.0395 - val_accuracy: 0.9885\n",
      "Epoch 30/30\n",
      "1562/1562 [==============================] - 1s 457us/step - loss: 0.0017 - accuracy: 1.0000 - val_loss: 0.0378 - val_accuracy: 0.9885\n",
      "Elapsed time (learning): 00:00:25\n"
     ]
    }
   ],
   "source": [
    "start_time = time.time()\n",
    "\n",
    "history = nn_model.fit(train_padded_sequences, \n",
    "                       train_labels, \n",
    "                       validation_split=0.1, \n",
    "                       epochs=30, \n",
    "                       batch_size=200)\n",
    "\n",
    "elapsed_time = time.time() - start_time\n",
    "t = time.strftime(\"%H:%M:%S\", time.gmtime(elapsed_time))\n",
    "print('Elapsed time (learning):', t)"
   ]
  },
  {
   "cell_type": "markdown",
   "metadata": {},
   "source": [
    "### Plot loss and accuracy"
   ]
  },
  {
   "cell_type": "code",
   "execution_count": 34,
   "metadata": {
    "ExecuteTime": {
     "end_time": "2021-03-17T14:49:49.397687Z",
     "start_time": "2021-03-17T14:49:49.393075Z"
    }
   },
   "outputs": [],
   "source": [
    "history_dict = history.history\n",
    "\n",
    "acc = history_dict['accuracy']\n",
    "val_acc = history_dict['val_accuracy']\n",
    "loss = history_dict['loss']\n",
    "val_loss = history_dict['val_loss']\n",
    "\n",
    "epochs = range(1, len(acc) + 1)"
   ]
  },
  {
   "cell_type": "code",
   "execution_count": 35,
   "metadata": {
    "ExecuteTime": {
     "end_time": "2021-03-17T14:49:50.112485Z",
     "start_time": "2021-03-17T14:49:50.109410Z"
    }
   },
   "outputs": [],
   "source": [
    "import matplotlib.pyplot as plt"
   ]
  },
  {
   "cell_type": "code",
   "execution_count": 36,
   "metadata": {
    "ExecuteTime": {
     "end_time": "2021-03-17T14:49:51.189290Z",
     "start_time": "2021-03-17T14:49:50.847448Z"
    }
   },
   "outputs": [
    {
     "data": {
      "image/png": "[encoded data removed]",
      "text/plain": [
       "<Figure size 576x576 with 1 Axes>"
      ]
     },
     "metadata": {
      "image/png": {
       "height": 494,
       "width": 497
      },
      "needs_background": "light"
     },
     "output_type": "display_data"
    }
   ],
   "source": [
    "plt.figure(figsize=(8,8))\n",
    "plt.plot(epochs, loss, 'b', label='Training loss')\n",
    "plt.plot(epochs, val_loss, 'g', label='Validation loss')\n",
    "plt.title('Training and validation loss')\n",
    "plt.xlabel('Epochs')\n",
    "plt.ylabel('Loss')\n",
    "plt.legend()\n",
    "plt.show()"
   ]
  },
  {
   "cell_type": "code",
   "execution_count": 37,
   "metadata": {
    "ExecuteTime": {
     "end_time": "2021-03-17T14:49:52.090334Z",
     "start_time": "2021-03-17T14:49:51.761359Z"
    }
   },
   "outputs": [
    {
     "data": {
      "image/png": "[encoded data removed]",
      "text/plain": [
       "<Figure size 576x576 with 1 Axes>"
      ]
     },
     "metadata": {
      "image/png": {
       "height": 494,
       "width": 497
      },
      "needs_background": "light"
     },
     "output_type": "display_data"
    }
   ],
   "source": [
    "plt.figure(figsize=(8,8))\n",
    "plt.plot(epochs, acc, 'b', label='Training acc')\n",
    "plt.plot(epochs, val_acc, 'g', label='Validation acc')\n",
    "plt.title('Training and validation accuracy')\n",
    "plt.xlabel('Epochs')\n",
    "plt.ylabel('Accuracy')\n",
    "plt.legend()\n",
    "plt.show()"
   ]
  },
  {
   "cell_type": "markdown",
   "metadata": {},
   "source": [
    "---"
   ]
  },
  {
   "cell_type": "markdown",
   "metadata": {},
   "source": [
    "## Evaluate the model"
   ]
  },
  {
   "cell_type": "markdown",
   "metadata": {},
   "source": [
    "### Compute f-score on the test set"
   ]
  },
  {
   "cell_type": "code",
   "execution_count": 38,
   "metadata": {
    "ExecuteTime": {
     "end_time": "2021-03-17T14:49:56.536832Z",
     "start_time": "2021-03-17T14:49:56.520902Z"
    }
   },
   "outputs": [],
   "source": [
    "test_sequences = [doc_tokens_to_sequence(alaska_corpus.get_tokens(doc_id), word_to_idx_map) for doc_id in test_doc_ids]\n",
    "test_padded_sequences = pad_sequences(test_sequences, maxlen=max_doc_len)"
   ]
  },
  {
   "cell_type": "code",
   "execution_count": 39,
   "metadata": {
    "ExecuteTime": {
     "end_time": "2021-03-17T14:49:57.397912Z",
     "start_time": "2021-03-17T14:49:56.917125Z"
    }
   },
   "outputs": [],
   "source": [
    "test_pred = nn_model.predict(test_padded_sequences)"
   ]
  },
  {
   "cell_type": "code",
   "execution_count": 40,
   "metadata": {
    "ExecuteTime": {
     "end_time": "2021-03-17T14:49:57.401665Z",
     "start_time": "2021-03-17T14:49:57.399543Z"
    }
   },
   "outputs": [],
   "source": [
    "# round to nearest integer\n",
    "test_pred = np.rint(test_pred)"
   ]
  },
  {
   "cell_type": "code",
   "execution_count": 41,
   "metadata": {
    "ExecuteTime": {
     "end_time": "2021-03-17T14:50:00.218901Z",
     "start_time": "2021-03-17T14:50:00.213441Z"
    }
   },
   "outputs": [
    {
     "data": {
      "text/plain": [
       "array([1., 0., 0., 0., 0., 0., 0., 0., 0., 0., 0., 0.], dtype=float32)"
      ]
     },
     "execution_count": 41,
     "metadata": {},
     "output_type": "execute_result"
    }
   ],
   "source": [
    "test_pred[0]"
   ]
  },
  {
   "cell_type": "code",
   "execution_count": 42,
   "metadata": {
    "ExecuteTime": {
     "end_time": "2021-03-17T14:50:02.061912Z",
     "start_time": "2021-03-17T14:50:02.059192Z"
    }
   },
   "outputs": [],
   "source": [
    "from sklearn.metrics import classification_report"
   ]
  },
  {
   "cell_type": "code",
   "execution_count": 43,
   "metadata": {
    "ExecuteTime": {
     "end_time": "2021-03-17T14:50:03.422304Z",
     "start_time": "2021-03-17T14:50:03.395870Z"
    }
   },
   "outputs": [
    {
     "name": "stdout",
     "output_type": "stream",
     "text": [
      "              precision    recall  f1-score   support\n",
      "\n",
      "           0       0.93      1.00      0.97        14\n",
      "           1       1.00      1.00      1.00        21\n",
      "           2       1.00      1.00      1.00        44\n",
      "           3       1.00      1.00      1.00        54\n",
      "           4       0.97      0.97      0.97        33\n",
      "           5       1.00      1.00      1.00         8\n",
      "           6       1.00      0.99      0.99        82\n",
      "           7       0.98      0.97      0.98        64\n",
      "           8       1.00      1.00      1.00        12\n",
      "           9       1.00      0.98      0.99        52\n",
      "          10       1.00      1.00      1.00        28\n",
      "          11       1.00      1.00      1.00        23\n",
      "\n",
      "   micro avg       0.99      0.99      0.99       435\n",
      "   macro avg       0.99      0.99      0.99       435\n",
      "weighted avg       0.99      0.99      0.99       435\n",
      " samples avg       0.99      0.99      0.99       435\n",
      "\n"
     ]
    },
    {
     "name": "stderr",
     "output_type": "stream",
     "text": [
      "/home/nvidia/anaconda3/envs/testenv/lib/python3.8/site-packages/sklearn/metrics/_classification.py:1272: UndefinedMetricWarning: Precision and F-score are ill-defined and being set to 0.0 in samples with no predicted labels. Use `zero_division` parameter to control this behavior.\n",
      "  _warn_prf(average, modifier, msg_start, len(result))\n"
     ]
    }
   ],
   "source": [
    "print(classification_report(test_labels, test_pred))"
   ]
  },
  {
   "cell_type": "markdown",
   "metadata": {},
   "source": [
    "## Save model to a file"
   ]
  },
  {
   "cell_type": "code",
   "execution_count": 44,
   "metadata": {
    "ExecuteTime": {
     "end_time": "2021-03-17T14:50:07.351542Z",
     "start_time": "2021-03-17T14:50:07.347674Z"
    }
   },
   "outputs": [],
   "source": [
    "nn_filename = 'alaska_nn_model_noisy.h5'\n",
    "nn_filepath = os.path.join(root_dir, models_dir, nn_filename)"
   ]
  },
  {
   "cell_type": "code",
   "execution_count": 45,
   "metadata": {
    "ExecuteTime": {
     "end_time": "2021-03-17T14:50:08.122722Z",
     "start_time": "2021-03-17T14:50:08.054251Z"
    }
   },
   "outputs": [],
   "source": [
    "nn_model.save(nn_filepath)"
   ]
  },
  {
   "cell_type": "markdown",
   "metadata": {},
   "source": [
    "---"
   ]
  },
  {
   "cell_type": "markdown",
   "metadata": {},
   "source": [
    "## Save `word_to_index_map` to a file"
   ]
  },
  {
   "cell_type": "code",
   "execution_count": 46,
   "metadata": {
    "ExecuteTime": {
     "end_time": "2021-03-17T14:50:09.260497Z",
     "start_time": "2021-03-17T14:50:09.256735Z"
    }
   },
   "outputs": [],
   "source": [
    "import pandas as pd"
   ]
  },
  {
   "cell_type": "code",
   "execution_count": 47,
   "metadata": {
    "ExecuteTime": {
     "end_time": "2021-03-17T14:50:09.580727Z",
     "start_time": "2021-03-17T14:50:09.569512Z"
    }
   },
   "outputs": [],
   "source": [
    "word_to_index_df = pd.DataFrame(word_to_idx_map.items(), columns=['term', 'index'])"
   ]
  },
  {
   "cell_type": "code",
   "execution_count": 48,
   "metadata": {
    "ExecuteTime": {
     "end_time": "2021-03-17T14:50:10.328484Z",
     "start_time": "2021-03-17T14:50:10.315319Z"
    }
   },
   "outputs": [
    {
     "data": {
      "text/html": [
       "<div>\n",
       "<style scoped>\n",
       "    .dataframe tbody tr th:only-of-type {\n",
       "        vertical-align: middle;\n",
       "    }\n",
       "\n",
       "    .dataframe tbody tr th {\n",
       "        vertical-align: top;\n",
       "    }\n",
       "\n",
       "    .dataframe thead th {\n",
       "        text-align: right;\n",
       "    }\n",
       "</style>\n",
       "<table border=\"1\" class=\"dataframe\">\n",
       "  <thead>\n",
       "    <tr style=\"text-align: right;\">\n",
       "      <th></th>\n",
       "      <th>term</th>\n",
       "      <th>index</th>\n",
       "    </tr>\n",
       "  </thead>\n",
       "  <tbody>\n",
       "    <tr>\n",
       "      <th>0</th>\n",
       "      <td>0</td>\n",
       "      <td>1</td>\n",
       "    </tr>\n",
       "    <tr>\n",
       "      <th>1</th>\n",
       "      <td>0-5</td>\n",
       "      <td>2</td>\n",
       "    </tr>\n",
       "    <tr>\n",
       "      <th>2</th>\n",
       "      <td>0-inch</td>\n",
       "      <td>3</td>\n",
       "    </tr>\n",
       "    <tr>\n",
       "      <th>3</th>\n",
       "      <td>00</td>\n",
       "      <td>4</td>\n",
       "    </tr>\n",
       "    <tr>\n",
       "      <th>4</th>\n",
       "      <td>000</td>\n",
       "      <td>5</td>\n",
       "    </tr>\n",
       "  </tbody>\n",
       "</table>\n",
       "</div>"
      ],
      "text/plain": [
       "     term  index\n",
       "0       0      1\n",
       "1     0-5      2\n",
       "2  0-inch      3\n",
       "3      00      4\n",
       "4     000      5"
      ]
     },
     "execution_count": 48,
     "metadata": {},
     "output_type": "execute_result"
    }
   ],
   "source": [
    "word_to_index_df.head()"
   ]
  },
  {
   "cell_type": "code",
   "execution_count": 49,
   "metadata": {
    "ExecuteTime": {
     "end_time": "2021-03-17T14:50:13.852117Z",
     "start_time": "2021-03-17T14:50:13.845494Z"
    }
   },
   "outputs": [
    {
     "data": {
      "text/plain": [
       "(1096, 2)"
      ]
     },
     "execution_count": 49,
     "metadata": {},
     "output_type": "execute_result"
    }
   ],
   "source": [
    "word_to_index_df.shape"
   ]
  },
  {
   "cell_type": "code",
   "execution_count": 50,
   "metadata": {
    "ExecuteTime": {
     "end_time": "2021-03-17T14:50:15.885813Z",
     "start_time": "2021-03-17T14:50:15.882896Z"
    }
   },
   "outputs": [],
   "source": [
    "index_filename = 'alaska_nn_word_index_noisy.csv'\n",
    "index_filepath = os.path.join(root_dir, models_dir, index_filename)"
   ]
  },
  {
   "cell_type": "code",
   "execution_count": 51,
   "metadata": {
    "ExecuteTime": {
     "end_time": "2021-03-17T14:50:17.547511Z",
     "start_time": "2021-03-17T14:50:17.536561Z"
    }
   },
   "outputs": [],
   "source": [
    "word_to_index_df.to_csv(index_filepath, encoding='utf-8', index=False)"
   ]
  },
  {
   "cell_type": "markdown",
   "metadata": {},
   "source": [
    "---"
   ]
  }
 ],
 "metadata": {
  "kernelspec": {
   "display_name": "Python 3",
   "language": "python",
   "name": "python3"
  },
  "language_info": {
   "codemirror_mode": {
    "name": "ipython",
    "version": 3
   },
   "file_extension": ".py",
   "mimetype": "text/x-python",
   "name": "python",
   "nbconvert_exporter": "python",
   "pygments_lexer": "ipython3",
   "version": "3.8.1"
  },
  "toc": {
   "base_numbering": 1,
   "nav_menu": {},
   "number_sections": true,
   "sideBar": true,
   "skip_h1_title": false,
   "title_cell": "Table of Contents",
   "title_sidebar": "Contents",
   "toc_cell": false,
   "toc_position": {},
   "toc_section_display": true,
   "toc_window_display": false
  }
 },
 "nbformat": 4,
 "nbformat_minor": 4
}
