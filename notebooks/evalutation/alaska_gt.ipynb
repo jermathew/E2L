{
 "cells": [
  {
   "cell_type": "markdown",
   "metadata": {},
   "source": [
    "# Evaluation\n",
    "Evaluate our ranked list of terms with the ground truth labels for each entity"
   ]
  },
  {
   "cell_type": "markdown",
   "metadata": {
    "ExecuteTime": {
     "end_time": "2020-09-27T20:51:05.193739Z",
     "start_time": "2020-09-27T20:51:05.189157Z"
    }
   },
   "source": [
    "---"
   ]
  },
  {
   "cell_type": "markdown",
   "metadata": {},
   "source": [
    "## Load data"
   ]
  },
  {
   "cell_type": "code",
   "execution_count": 1,
   "metadata": {
    "ExecuteTime": {
     "end_time": "2020-09-27T22:00:27.817457Z",
     "start_time": "2020-09-27T22:00:27.814404Z"
    }
   },
   "outputs": [],
   "source": [
    "root_dir = '../..'\n",
    "data_dir = 'data'\n",
    "rank_dir = 'terms'\n",
    "gt_dir = 'corpus'"
   ]
  },
  {
   "cell_type": "markdown",
   "metadata": {},
   "source": [
    "### Load ground truth labels"
   ]
  },
  {
   "cell_type": "code",
   "execution_count": 2,
   "metadata": {
    "ExecuteTime": {
     "end_time": "2020-09-27T22:00:27.824086Z",
     "start_time": "2020-09-27T22:00:27.820101Z"
    }
   },
   "outputs": [],
   "source": [
    "import os\n",
    "import json"
   ]
  },
  {
   "cell_type": "code",
   "execution_count": 3,
   "metadata": {
    "ExecuteTime": {
     "end_time": "2020-09-27T22:00:27.832926Z",
     "start_time": "2020-09-27T22:00:27.827761Z"
    }
   },
   "outputs": [],
   "source": [
    "gt_filename = 'alaska_camera_gt.json'\n",
    "gt_filepath = os.path.join(root_dir, data_dir, gt_dir, gt_filename)"
   ]
  },
  {
   "cell_type": "code",
   "execution_count": 4,
   "metadata": {
    "ExecuteTime": {
     "end_time": "2020-09-27T22:00:27.840641Z",
     "start_time": "2020-09-27T22:00:27.835910Z"
    }
   },
   "outputs": [],
   "source": [
    "with open(gt_filepath, 'r') as fd:\n",
    "    entity_to_label_dict = json.load(fd)"
   ]
  },
  {
   "cell_type": "code",
   "execution_count": 5,
   "metadata": {
    "ExecuteTime": {
     "end_time": "2020-09-27T22:00:27.846597Z",
     "start_time": "2020-09-27T22:00:27.843069Z"
    }
   },
   "outputs": [],
   "source": [
    "from pprint import pprint"
   ]
  },
  {
   "cell_type": "code",
   "execution_count": 6,
   "metadata": {
    "ExecuteTime": {
     "end_time": "2020-09-27T22:00:27.861239Z",
     "start_time": "2020-09-27T22:00:27.848821Z"
    }
   },
   "outputs": [
    {
     "name": "stdout",
     "output_type": "stream",
     "text": [
      "{'ENTITY#101': ['canon eos 5d mark iii'],\n",
      " 'ENTITY#102': ['canon eos 5d mark ii'],\n",
      " 'ENTITY#16': ['nikon d90'],\n",
      " 'ENTITY#18': ['canon eos 60d'],\n",
      " 'ENTITY#19': ['nikon d3300'],\n",
      " 'ENTITY#21': ['nikon d5100'],\n",
      " 'ENTITY#23': ['canon eos 7d'],\n",
      " 'ENTITY#36': ['nikon d3100'],\n",
      " 'ENTITY#37': ['nikon d80'],\n",
      " 'ENTITY#41': ['nikon d5200'],\n",
      " 'ENTITY#44': ['nikon d3200'],\n",
      " 'ENTITY#57': ['nikon d800'],\n",
      " 'ENTITY#58': ['nikon 1 j1'],\n",
      " 'ENTITY#6': ['nikon d5300', 'nikon d800e'],\n",
      " 'ENTITY#7': ['olympus omd em5',\n",
      "              'olympus om-d em5',\n",
      "              'olympus om-d e-m5',\n",
      "              'olympus omd e-m5'],\n",
      " 'ENTITY#75': ['nikon d7000'],\n",
      " 'ENTITY#76': ['nikon d610'],\n",
      " 'ENTITY#8': ['nikon 1 j3'],\n",
      " 'ENTITY#84': ['nikon d300'],\n",
      " 'ENTITY#96': ['canon eos 70d', 'canon eos 7d']}\n"
     ]
    }
   ],
   "source": [
    "pprint(entity_to_label_dict)"
   ]
  },
  {
   "cell_type": "markdown",
   "metadata": {},
   "source": [
    "### Load ranking"
   ]
  },
  {
   "cell_type": "code",
   "execution_count": 7,
   "metadata": {
    "ExecuteTime": {
     "end_time": "2020-09-27T22:00:28.180775Z",
     "start_time": "2020-09-27T22:00:27.864245Z"
    }
   },
   "outputs": [],
   "source": [
    "import pandas as pd"
   ]
  },
  {
   "cell_type": "code",
   "execution_count": 8,
   "metadata": {
    "ExecuteTime": {
     "end_time": "2020-09-27T22:00:28.188698Z",
     "start_time": "2020-09-27T22:00:28.184420Z"
    }
   },
   "outputs": [],
   "source": [
    "ranking_filename = 'ranking_alaska_nn.xlsx'\n",
    "ranking_filepath = os.path.join(root_dir, data_dir, rank_dir, ranking_filename)"
   ]
  },
  {
   "cell_type": "code",
   "execution_count": 9,
   "metadata": {
    "ExecuteTime": {
     "end_time": "2020-09-27T22:00:28.539008Z",
     "start_time": "2020-09-27T22:00:28.191574Z"
    }
   },
   "outputs": [
    {
     "data": {
      "text/html": [
       "<div>\n",
       "<style scoped>\n",
       "    .dataframe tbody tr th:only-of-type {\n",
       "        vertical-align: middle;\n",
       "    }\n",
       "\n",
       "    .dataframe tbody tr th {\n",
       "        vertical-align: top;\n",
       "    }\n",
       "\n",
       "    .dataframe thead th {\n",
       "        text-align: right;\n",
       "    }\n",
       "</style>\n",
       "<table border=\"1\" class=\"dataframe\">\n",
       "  <thead>\n",
       "    <tr style=\"text-align: right;\">\n",
       "      <th></th>\n",
       "      <th>label</th>\n",
       "      <th>term</th>\n",
       "      <th>weight</th>\n",
       "      <th>rank</th>\n",
       "      <th>count</th>\n",
       "    </tr>\n",
       "  </thead>\n",
       "  <tbody>\n",
       "    <tr>\n",
       "      <th>0</th>\n",
       "      <td>ENTITY#101</td>\n",
       "      <td>5d_mark_iii</td>\n",
       "      <td>38.210490</td>\n",
       "      <td>1.0</td>\n",
       "      <td>40</td>\n",
       "    </tr>\n",
       "    <tr>\n",
       "      <th>1</th>\n",
       "      <td>ENTITY#101</td>\n",
       "      <td>5d_mark</td>\n",
       "      <td>10.682544</td>\n",
       "      <td>1.0</td>\n",
       "      <td>14</td>\n",
       "    </tr>\n",
       "    <tr>\n",
       "      <th>2</th>\n",
       "      <td>ENTITY#101</td>\n",
       "      <td>canon_eos_5d_mark_iii_22_3_mp_full_frame</td>\n",
       "      <td>3.825436</td>\n",
       "      <td>1.0</td>\n",
       "      <td>4</td>\n",
       "    </tr>\n",
       "    <tr>\n",
       "      <th>3</th>\n",
       "      <td>ENTITY#101</td>\n",
       "      <td>canon_eos_5d_mark_iii_body</td>\n",
       "      <td>3.609619</td>\n",
       "      <td>1.0</td>\n",
       "      <td>4</td>\n",
       "    </tr>\n",
       "    <tr>\n",
       "      <th>4</th>\n",
       "      <td>ENTITY#101</td>\n",
       "      <td>5d_mark_iii_body</td>\n",
       "      <td>2.965371</td>\n",
       "      <td>1.0</td>\n",
       "      <td>3</td>\n",
       "    </tr>\n",
       "  </tbody>\n",
       "</table>\n",
       "</div>"
      ],
      "text/plain": [
       "        label                                      term     weight  rank  \\\n",
       "0  ENTITY#101                               5d_mark_iii  38.210490   1.0   \n",
       "1  ENTITY#101                                   5d_mark  10.682544   1.0   \n",
       "2  ENTITY#101  canon_eos_5d_mark_iii_22_3_mp_full_frame   3.825436   1.0   \n",
       "3  ENTITY#101                canon_eos_5d_mark_iii_body   3.609619   1.0   \n",
       "4  ENTITY#101                          5d_mark_iii_body   2.965371   1.0   \n",
       "\n",
       "   count  \n",
       "0     40  \n",
       "1     14  \n",
       "2      4  \n",
       "3      4  \n",
       "4      3  "
      ]
     },
     "execution_count": 9,
     "metadata": {},
     "output_type": "execute_result"
    }
   ],
   "source": [
    "alaska_ranking_df = pd.read_excel(ranking_filepath, index_col=0)\n",
    "alaska_ranking_df.head()"
   ]
  },
  {
   "cell_type": "code",
   "execution_count": 10,
   "metadata": {
    "ExecuteTime": {
     "end_time": "2020-09-27T22:00:28.544647Z",
     "start_time": "2020-09-27T22:00:28.540647Z"
    }
   },
   "outputs": [
    {
     "data": {
      "text/plain": [
       "(2039, 5)"
      ]
     },
     "execution_count": 10,
     "metadata": {},
     "output_type": "execute_result"
    }
   ],
   "source": [
    "alaska_ranking_df.shape"
   ]
  },
  {
   "cell_type": "markdown",
   "metadata": {
    "ExecuteTime": {
     "end_time": "2020-09-27T21:39:44.137622Z",
     "start_time": "2020-09-27T21:39:44.132302Z"
    }
   },
   "source": [
    "Replace '_' character with whitespaces"
   ]
  },
  {
   "cell_type": "code",
   "execution_count": 11,
   "metadata": {
    "ExecuteTime": {
     "end_time": "2020-09-27T22:00:28.565723Z",
     "start_time": "2020-09-27T22:00:28.548150Z"
    }
   },
   "outputs": [
    {
     "data": {
      "text/html": [
       "<div>\n",
       "<style scoped>\n",
       "    .dataframe tbody tr th:only-of-type {\n",
       "        vertical-align: middle;\n",
       "    }\n",
       "\n",
       "    .dataframe tbody tr th {\n",
       "        vertical-align: top;\n",
       "    }\n",
       "\n",
       "    .dataframe thead th {\n",
       "        text-align: right;\n",
       "    }\n",
       "</style>\n",
       "<table border=\"1\" class=\"dataframe\">\n",
       "  <thead>\n",
       "    <tr style=\"text-align: right;\">\n",
       "      <th></th>\n",
       "      <th>label</th>\n",
       "      <th>term</th>\n",
       "      <th>weight</th>\n",
       "      <th>rank</th>\n",
       "      <th>count</th>\n",
       "    </tr>\n",
       "  </thead>\n",
       "  <tbody>\n",
       "    <tr>\n",
       "      <th>0</th>\n",
       "      <td>ENTITY#101</td>\n",
       "      <td>5d mark iii</td>\n",
       "      <td>38.210490</td>\n",
       "      <td>1.0</td>\n",
       "      <td>40</td>\n",
       "    </tr>\n",
       "    <tr>\n",
       "      <th>1</th>\n",
       "      <td>ENTITY#101</td>\n",
       "      <td>5d mark</td>\n",
       "      <td>10.682544</td>\n",
       "      <td>1.0</td>\n",
       "      <td>14</td>\n",
       "    </tr>\n",
       "    <tr>\n",
       "      <th>2</th>\n",
       "      <td>ENTITY#101</td>\n",
       "      <td>canon eos 5d mark iii 22 3 mp full frame</td>\n",
       "      <td>3.825436</td>\n",
       "      <td>1.0</td>\n",
       "      <td>4</td>\n",
       "    </tr>\n",
       "    <tr>\n",
       "      <th>3</th>\n",
       "      <td>ENTITY#101</td>\n",
       "      <td>canon eos 5d mark iii body</td>\n",
       "      <td>3.609619</td>\n",
       "      <td>1.0</td>\n",
       "      <td>4</td>\n",
       "    </tr>\n",
       "    <tr>\n",
       "      <th>4</th>\n",
       "      <td>ENTITY#101</td>\n",
       "      <td>5d mark iii body</td>\n",
       "      <td>2.965371</td>\n",
       "      <td>1.0</td>\n",
       "      <td>3</td>\n",
       "    </tr>\n",
       "  </tbody>\n",
       "</table>\n",
       "</div>"
      ],
      "text/plain": [
       "        label                                      term     weight  rank  \\\n",
       "0  ENTITY#101                               5d mark iii  38.210490   1.0   \n",
       "1  ENTITY#101                                   5d mark  10.682544   1.0   \n",
       "2  ENTITY#101  canon eos 5d mark iii 22 3 mp full frame   3.825436   1.0   \n",
       "3  ENTITY#101                canon eos 5d mark iii body   3.609619   1.0   \n",
       "4  ENTITY#101                          5d mark iii body   2.965371   1.0   \n",
       "\n",
       "   count  \n",
       "0     40  \n",
       "1     14  \n",
       "2      4  \n",
       "3      4  \n",
       "4      3  "
      ]
     },
     "execution_count": 11,
     "metadata": {},
     "output_type": "execute_result"
    }
   ],
   "source": [
    "alaska_ranking_df['term'] = alaska_ranking_df['term'].map(lambda x: x.replace('_', ' '))\n",
    "alaska_ranking_df.head()"
   ]
  },
  {
   "cell_type": "markdown",
   "metadata": {},
   "source": [
    "---"
   ]
  },
  {
   "cell_type": "markdown",
   "metadata": {},
   "source": [
    "## Mean rank\n",
    "For each label (that is entity id) compute the rank of the first term matching the ground truth for that label and compute the mean across all rankings"
   ]
  },
  {
   "cell_type": "code",
   "execution_count": 12,
   "metadata": {
    "ExecuteTime": {
     "end_time": "2020-09-27T22:00:28.592776Z",
     "start_time": "2020-09-27T22:00:28.568004Z"
    }
   },
   "outputs": [],
   "source": [
    "label_to_rank_dict = {}\n",
    "\n",
    "for entity_id, group_df in alaska_ranking_df.groupby('label'):\n",
    "    entity_labels = entity_to_label_dict[entity_id]\n",
    "    group_df = group_df.reset_index(drop=True)\n",
    "    \n",
    "    idx = 0\n",
    "    label_found = False\n",
    "    df_len = group_df.shape[0]\n",
    "    \n",
    "    while idx < df_len and not label_found:\n",
    "        row = group_df.iloc[idx]\n",
    "        term = row['term']\n",
    "        \n",
    "        for label in entity_labels:\n",
    "            if label in term:\n",
    "                label_found = True\n",
    "                label_to_rank_dict[entity_id] = idx + 1 # as indexes start from 0\n",
    "        \n",
    "        idx += 1"
   ]
  },
  {
   "cell_type": "code",
   "execution_count": 13,
   "metadata": {
    "ExecuteTime": {
     "end_time": "2020-09-27T22:00:28.600775Z",
     "start_time": "2020-09-27T22:00:28.594907Z"
    }
   },
   "outputs": [
    {
     "name": "stdout",
     "output_type": "stream",
     "text": [
      "{'ENTITY#101': 3,\n",
      " 'ENTITY#102': 3,\n",
      " 'ENTITY#16': 1,\n",
      " 'ENTITY#18': 1,\n",
      " 'ENTITY#19': 1,\n",
      " 'ENTITY#21': 1,\n",
      " 'ENTITY#23': 1,\n",
      " 'ENTITY#36': 2,\n",
      " 'ENTITY#37': 1,\n",
      " 'ENTITY#41': 1,\n",
      " 'ENTITY#44': 1,\n",
      " 'ENTITY#57': 1,\n",
      " 'ENTITY#58': 4,\n",
      " 'ENTITY#6': 1,\n",
      " 'ENTITY#7': 2,\n",
      " 'ENTITY#75': 1,\n",
      " 'ENTITY#76': 1,\n",
      " 'ENTITY#8': 6,\n",
      " 'ENTITY#84': 1,\n",
      " 'ENTITY#96': 1}\n"
     ]
    }
   ],
   "source": [
    "pprint(label_to_rank_dict)"
   ]
  },
  {
   "cell_type": "code",
   "execution_count": 14,
   "metadata": {
    "ExecuteTime": {
     "end_time": "2020-09-27T22:00:28.611821Z",
     "start_time": "2020-09-27T22:00:28.606053Z"
    }
   },
   "outputs": [
    {
     "data": {
      "text/plain": [
       "1.7"
      ]
     },
     "execution_count": 14,
     "metadata": {},
     "output_type": "execute_result"
    }
   ],
   "source": [
    "sum(label_to_rank_dict.values())/len(label_to_rank_dict)"
   ]
  },
  {
   "cell_type": "code",
   "execution_count": 16,
   "metadata": {
    "ExecuteTime": {
     "end_time": "2020-09-27T22:01:39.168344Z",
     "start_time": "2020-09-27T22:01:39.145969Z"
    }
   },
   "outputs": [
    {
     "data": {
      "text/html": [
       "<div>\n",
       "<style scoped>\n",
       "    .dataframe tbody tr th:only-of-type {\n",
       "        vertical-align: middle;\n",
       "    }\n",
       "\n",
       "    .dataframe tbody tr th {\n",
       "        vertical-align: top;\n",
       "    }\n",
       "\n",
       "    .dataframe thead th {\n",
       "        text-align: right;\n",
       "    }\n",
       "</style>\n",
       "<table border=\"1\" class=\"dataframe\">\n",
       "  <thead>\n",
       "    <tr style=\"text-align: right;\">\n",
       "      <th></th>\n",
       "      <th>label</th>\n",
       "      <th>term</th>\n",
       "      <th>weight</th>\n",
       "      <th>rank</th>\n",
       "      <th>count</th>\n",
       "    </tr>\n",
       "  </thead>\n",
       "  <tbody>\n",
       "    <tr>\n",
       "      <th>1833</th>\n",
       "      <td>ENTITY#8</td>\n",
       "      <td>1 j3</td>\n",
       "      <td>21.505273</td>\n",
       "      <td>1.0</td>\n",
       "      <td>28</td>\n",
       "    </tr>\n",
       "    <tr>\n",
       "      <th>1834</th>\n",
       "      <td>ENTITY#8</td>\n",
       "      <td>nikon j3 interchangable lens digital camera</td>\n",
       "      <td>5.700558</td>\n",
       "      <td>1.0</td>\n",
       "      <td>8</td>\n",
       "    </tr>\n",
       "    <tr>\n",
       "      <th>1835</th>\n",
       "      <td>ENTITY#8</td>\n",
       "      <td>j3</td>\n",
       "      <td>2.917831</td>\n",
       "      <td>1.0</td>\n",
       "      <td>7</td>\n",
       "    </tr>\n",
       "    <tr>\n",
       "      <th>1836</th>\n",
       "      <td>ENTITY#8</td>\n",
       "      <td>1 j3 digital camera silver</td>\n",
       "      <td>0.947486</td>\n",
       "      <td>1.0</td>\n",
       "      <td>1</td>\n",
       "    </tr>\n",
       "    <tr>\n",
       "      <th>1837</th>\n",
       "      <td>ENTITY#8</td>\n",
       "      <td>1 j3 digital camera beige vvk185xh</td>\n",
       "      <td>0.945133</td>\n",
       "      <td>1.0</td>\n",
       "      <td>1</td>\n",
       "    </tr>\n",
       "    <tr>\n",
       "      <th>1838</th>\n",
       "      <td>ENTITY#8</td>\n",
       "      <td>nikon 1 j3 14 2 mp hd digital camera system</td>\n",
       "      <td>0.925174</td>\n",
       "      <td>1.0</td>\n",
       "      <td>1</td>\n",
       "    </tr>\n",
       "    <tr>\n",
       "      <th>1839</th>\n",
       "      <td>ENTITY#8</td>\n",
       "      <td>new boxed nikon 1 j3 camera body</td>\n",
       "      <td>0.914038</td>\n",
       "      <td>1.0</td>\n",
       "      <td>1</td>\n",
       "    </tr>\n",
       "    <tr>\n",
       "      <th>1840</th>\n",
       "      <td>ENTITY#8</td>\n",
       "      <td>nikon 1 j3 digital camera vr</td>\n",
       "      <td>0.890436</td>\n",
       "      <td>1.0</td>\n",
       "      <td>1</td>\n",
       "    </tr>\n",
       "    <tr>\n",
       "      <th>1841</th>\n",
       "      <td>ENTITY#8</td>\n",
       "      <td>nikon j3 digital camera</td>\n",
       "      <td>0.855032</td>\n",
       "      <td>1.0</td>\n",
       "      <td>1</td>\n",
       "    </tr>\n",
       "    <tr>\n",
       "      <th>1842</th>\n",
       "      <td>ENTITY#8</td>\n",
       "      <td>nikon 1 j3 beige digital camera kit</td>\n",
       "      <td>0.813688</td>\n",
       "      <td>1.0</td>\n",
       "      <td>1</td>\n",
       "    </tr>\n",
       "  </tbody>\n",
       "</table>\n",
       "</div>"
      ],
      "text/plain": [
       "         label                                         term     weight  rank  \\\n",
       "1833  ENTITY#8                                         1 j3  21.505273   1.0   \n",
       "1834  ENTITY#8  nikon j3 interchangable lens digital camera   5.700558   1.0   \n",
       "1835  ENTITY#8                                           j3   2.917831   1.0   \n",
       "1836  ENTITY#8                   1 j3 digital camera silver   0.947486   1.0   \n",
       "1837  ENTITY#8           1 j3 digital camera beige vvk185xh   0.945133   1.0   \n",
       "1838  ENTITY#8  nikon 1 j3 14 2 mp hd digital camera system   0.925174   1.0   \n",
       "1839  ENTITY#8             new boxed nikon 1 j3 camera body   0.914038   1.0   \n",
       "1840  ENTITY#8                 nikon 1 j3 digital camera vr   0.890436   1.0   \n",
       "1841  ENTITY#8                      nikon j3 digital camera   0.855032   1.0   \n",
       "1842  ENTITY#8          nikon 1 j3 beige digital camera kit   0.813688   1.0   \n",
       "\n",
       "      count  \n",
       "1833     28  \n",
       "1834      8  \n",
       "1835      7  \n",
       "1836      1  \n",
       "1837      1  \n",
       "1838      1  \n",
       "1839      1  \n",
       "1840      1  \n",
       "1841      1  \n",
       "1842      1  "
      ]
     },
     "execution_count": 16,
     "metadata": {},
     "output_type": "execute_result"
    }
   ],
   "source": [
    "alaska_ranking_df.groupby('label').get_group('ENTITY#8').head(10)"
   ]
  },
  {
   "cell_type": "markdown",
   "metadata": {
    "ExecuteTime": {
     "end_time": "2020-09-27T21:45:40.498075Z",
     "start_time": "2020-09-27T21:45:40.493770Z"
    }
   },
   "source": [
    "---"
   ]
  }
 ],
 "metadata": {
  "kernelspec": {
   "display_name": "Python 3",
   "language": "python",
   "name": "python3"
  },
  "language_info": {
   "codemirror_mode": {
    "name": "ipython",
    "version": 3
   },
   "file_extension": ".py",
   "mimetype": "text/x-python",
   "name": "python",
   "nbconvert_exporter": "python",
   "pygments_lexer": "ipython3",
   "version": "3.8.1"
  },
  "toc": {
   "base_numbering": 1,
   "nav_menu": {},
   "number_sections": true,
   "sideBar": true,
   "skip_h1_title": false,
   "title_cell": "Table of Contents",
   "title_sidebar": "Contents",
   "toc_cell": false,
   "toc_position": {},
   "toc_section_display": true,
   "toc_window_display": false
  }
 },
 "nbformat": 4,
 "nbformat_minor": 4
}
