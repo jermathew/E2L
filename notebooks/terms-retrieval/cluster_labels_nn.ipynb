{
 "cells": [
  {
   "cell_type": "markdown",
   "metadata": {},
   "source": [
    "# Find cluster related terms using LIME"
   ]
  },
  {
   "cell_type": "markdown",
   "metadata": {},
   "source": [
    "## Load the data"
   ]
  },
  {
   "cell_type": "code",
   "execution_count": 1,
   "metadata": {
    "ExecuteTime": {
     "end_time": "2020-09-22T15:45:34.918799Z",
     "start_time": "2020-09-22T15:45:34.913324Z"
    }
   },
   "outputs": [],
   "source": [
    "root_dir = '../..'\n",
    "data_dir = 'data'\n",
    "corpus_dir = 'corpus'\n",
    "src_dir = 'src'"
   ]
  },
  {
   "cell_type": "code",
   "execution_count": 2,
   "metadata": {
    "ExecuteTime": {
     "end_time": "2020-09-22T15:45:35.062403Z",
     "start_time": "2020-09-22T15:45:35.058451Z"
    }
   },
   "outputs": [],
   "source": [
    "import os \n",
    "import sys"
   ]
  },
  {
   "cell_type": "code",
   "execution_count": 3,
   "metadata": {
    "ExecuteTime": {
     "end_time": "2020-09-22T15:45:35.210585Z",
     "start_time": "2020-09-22T15:45:35.205805Z"
    }
   },
   "outputs": [],
   "source": [
    "sys.path.append(os.path.join(root_dir, src_dir))"
   ]
  },
  {
   "cell_type": "code",
   "execution_count": 4,
   "metadata": {
    "ExecuteTime": {
     "end_time": "2020-09-22T15:45:35.367681Z",
     "start_time": "2020-09-22T15:45:35.362955Z"
    }
   },
   "outputs": [],
   "source": [
    "corpus_filename = 'reduced_alaska.json'\n",
    "corpus_filepath = os.path.join(root_dir, data_dir, corpus_dir, corpus_filename)"
   ]
  },
  {
   "cell_type": "code",
   "execution_count": 5,
   "metadata": {
    "ExecuteTime": {
     "end_time": "2020-09-22T15:45:35.517692Z",
     "start_time": "2020-09-22T15:45:35.513458Z"
    }
   },
   "outputs": [],
   "source": [
    "chunks_filename = 'alaska_chunks.json'\n",
    "chunks_filepath = os.path.join(root_dir, data_dir, corpus_dir, chunks_filename)"
   ]
  },
  {
   "cell_type": "code",
   "execution_count": 6,
   "metadata": {
    "ExecuteTime": {
     "end_time": "2020-09-22T15:45:36.520166Z",
     "start_time": "2020-09-22T15:45:35.656930Z"
    }
   },
   "outputs": [],
   "source": [
    "from dataset.training import TrainingCorpus"
   ]
  },
  {
   "cell_type": "code",
   "execution_count": 7,
   "metadata": {
    "ExecuteTime": {
     "end_time": "2020-09-22T15:45:36.548215Z",
     "start_time": "2020-09-22T15:45:36.523091Z"
    }
   },
   "outputs": [],
   "source": [
    "alaska_corpus = TrainingCorpus()\n",
    "alaska_corpus.load(corpus_filepath)\n",
    "alaska_corpus.load_chunks(chunks_filepath)"
   ]
  },
  {
   "cell_type": "markdown",
   "metadata": {},
   "source": [
    "---"
   ]
  },
  {
   "cell_type": "markdown",
   "metadata": {},
   "source": [
    "## Load the model"
   ]
  },
  {
   "cell_type": "code",
   "execution_count": 8,
   "metadata": {
    "ExecuteTime": {
     "end_time": "2020-09-22T15:45:38.359437Z",
     "start_time": "2020-09-22T15:45:36.550778Z"
    }
   },
   "outputs": [
    {
     "name": "stderr",
     "output_type": "stream",
     "text": [
      "Using TensorFlow backend.\n"
     ]
    }
   ],
   "source": [
    "from model_wrapper.model import TensorflowModel"
   ]
  },
  {
   "cell_type": "code",
   "execution_count": 9,
   "metadata": {
    "ExecuteTime": {
     "end_time": "2020-09-22T15:45:38.365164Z",
     "start_time": "2020-09-22T15:45:38.362086Z"
    }
   },
   "outputs": [],
   "source": [
    "models_dir = 'models'"
   ]
  },
  {
   "cell_type": "code",
   "execution_count": 10,
   "metadata": {
    "ExecuteTime": {
     "end_time": "2020-09-22T15:45:38.371159Z",
     "start_time": "2020-09-22T15:45:38.367666Z"
    }
   },
   "outputs": [],
   "source": [
    "model_filename = 'model.h5'\n",
    "model_filepath = os.path.join(root_dir, data_dir, models_dir, model_filename)"
   ]
  },
  {
   "cell_type": "code",
   "execution_count": 11,
   "metadata": {
    "ExecuteTime": {
     "end_time": "2020-09-22T15:45:38.376535Z",
     "start_time": "2020-09-22T15:45:38.373423Z"
    }
   },
   "outputs": [],
   "source": [
    "word_index_filename = 'word_index.csv'\n",
    "word_index_filepath = os.path.join(root_dir, data_dir, models_dir, word_index_filename)"
   ]
  },
  {
   "cell_type": "code",
   "execution_count": 12,
   "metadata": {
    "ExecuteTime": {
     "end_time": "2020-09-22T15:45:42.809738Z",
     "start_time": "2020-09-22T15:45:38.378538Z"
    }
   },
   "outputs": [
    {
     "name": "stderr",
     "output_type": "stream",
     "text": [
      "/home/nvidia/anaconda3/envs/testenv/lib/python3.8/site-packages/tensorflow/python/framework/indexed_slices.py:433: UserWarning: Converting sparse IndexedSlices to a dense Tensor of unknown shape. This may consume a large amount of memory.\n",
      "  warnings.warn(\n"
     ]
    }
   ],
   "source": [
    "nn_model = TensorflowModel(model_filepath, word_index_filepath)"
   ]
  },
  {
   "cell_type": "markdown",
   "metadata": {},
   "source": [
    "---"
   ]
  },
  {
   "cell_type": "markdown",
   "metadata": {},
   "source": [
    "## Find relevant terms for each cluster label using LIME"
   ]
  },
  {
   "cell_type": "markdown",
   "metadata": {},
   "source": [
    "### Define utility function for multicore processing"
   ]
  },
  {
   "cell_type": "code",
   "execution_count": 13,
   "metadata": {
    "ExecuteTime": {
     "end_time": "2020-09-22T15:45:42.821585Z",
     "start_time": "2020-09-22T15:45:42.813303Z"
    }
   },
   "outputs": [],
   "source": [
    "from iml.termfinder import LimeTermFinder"
   ]
  },
  {
   "cell_type": "code",
   "execution_count": 14,
   "metadata": {
    "ExecuteTime": {
     "end_time": "2020-09-22T15:45:42.827647Z",
     "start_time": "2020-09-22T15:45:42.823275Z"
    }
   },
   "outputs": [],
   "source": [
    "def get_relevant_terms_mp(model, corpus, input_data):\n",
    "    result_list = []\n",
    "    \n",
    "    term_finder = LimeTermFinder(model, corpus)\n",
    "    \n",
    "    for label_idx, data_idx in input_data:\n",
    "        relevant_terms = term_finder.get_relevant_terms(data_idx, label_idx)\n",
    "        \n",
    "        if relevant_terms:\n",
    "            \n",
    "            for term, weight in relevant_terms.items():\n",
    "                dict_entry = {'label': corpus.labels[label_idx],\n",
    "                              'term': term,\n",
    "                              'weight': weight,\n",
    "                              'data_id': corpus.docs[data_idx]}\n",
    "                result_list.append(dict_entry)\n",
    "    \n",
    "    return result_list"
   ]
  },
  {
   "cell_type": "markdown",
   "metadata": {},
   "source": [
    "### Split the data into multiple batches"
   ]
  },
  {
   "cell_type": "code",
   "execution_count": 15,
   "metadata": {
    "ExecuteTime": {
     "end_time": "2020-09-22T15:45:42.832429Z",
     "start_time": "2020-09-22T15:45:42.830056Z"
    }
   },
   "outputs": [],
   "source": [
    "import numpy as np"
   ]
  },
  {
   "cell_type": "code",
   "execution_count": 16,
   "metadata": {
    "ExecuteTime": {
     "end_time": "2020-09-22T15:45:43.694344Z",
     "start_time": "2020-09-22T15:45:42.834451Z"
    }
   },
   "outputs": [],
   "source": [
    "label_to_data_idx_dict = nn_model.label_to_data_idx(alaska_corpus)"
   ]
  },
  {
   "cell_type": "code",
   "execution_count": 17,
   "metadata": {
    "ExecuteTime": {
     "end_time": "2020-09-22T15:45:43.702597Z",
     "start_time": "2020-09-22T15:45:43.697038Z"
    }
   },
   "outputs": [],
   "source": [
    "input_data = np.array([(label_idx, data_idx) for label_idx, data_idxs in label_to_data_idx_dict.items()\n",
    "                       for data_idx in data_idxs])"
   ]
  },
  {
   "cell_type": "markdown",
   "metadata": {
    "ExecuteTime": {
     "end_time": "2020-09-22T15:36:03.060195Z",
     "start_time": "2020-09-22T15:36:03.054643Z"
    }
   },
   "source": [
    "Get the number of available CPU cores"
   ]
  },
  {
   "cell_type": "code",
   "execution_count": 18,
   "metadata": {
    "ExecuteTime": {
     "end_time": "2020-09-22T15:45:43.707528Z",
     "start_time": "2020-09-22T15:45:43.704829Z"
    }
   },
   "outputs": [],
   "source": [
    "import psutil"
   ]
  },
  {
   "cell_type": "code",
   "execution_count": 19,
   "metadata": {
    "ExecuteTime": {
     "end_time": "2020-09-22T15:45:43.725947Z",
     "start_time": "2020-09-22T15:45:43.709647Z"
    }
   },
   "outputs": [
    {
     "data": {
      "text/plain": [
       "22"
      ]
     },
     "execution_count": 19,
     "metadata": {},
     "output_type": "execute_result"
    }
   ],
   "source": [
    "psutil.cpu_count(logical=False)"
   ]
  },
  {
   "cell_type": "markdown",
   "metadata": {},
   "source": [
    "Set the number of parallel jobs"
   ]
  },
  {
   "cell_type": "code",
   "execution_count": 20,
   "metadata": {
    "ExecuteTime": {
     "end_time": "2020-09-22T15:45:43.730121Z",
     "start_time": "2020-09-22T15:45:43.727695Z"
    }
   },
   "outputs": [],
   "source": [
    "lime_jobs = 12"
   ]
  },
  {
   "cell_type": "markdown",
   "metadata": {},
   "source": [
    "Compute batches"
   ]
  },
  {
   "cell_type": "code",
   "execution_count": 21,
   "metadata": {
    "ExecuteTime": {
     "end_time": "2020-09-22T15:45:43.734649Z",
     "start_time": "2020-09-22T15:45:43.731920Z"
    }
   },
   "outputs": [],
   "source": [
    "input_slices = np.array_split(input_data, lime_jobs)"
   ]
  },
  {
   "cell_type": "markdown",
   "metadata": {
    "ExecuteTime": {
     "end_time": "2020-09-22T15:28:12.789888Z",
     "start_time": "2020-09-22T15:28:12.783746Z"
    }
   },
   "source": [
    "Finally, find relevant terms using `LIME`"
   ]
  },
  {
   "cell_type": "code",
   "execution_count": 22,
   "metadata": {
    "ExecuteTime": {
     "end_time": "2020-09-22T15:45:43.739079Z",
     "start_time": "2020-09-22T15:45:43.736492Z"
    }
   },
   "outputs": [],
   "source": [
    "from joblib import Parallel, delayed"
   ]
  },
  {
   "cell_type": "code",
   "execution_count": 23,
   "metadata": {
    "ExecuteTime": {
     "end_time": "2020-09-22T15:49:35.507734Z",
     "start_time": "2020-09-22T15:45:43.741324Z"
    }
   },
   "outputs": [
    {
     "name": "stderr",
     "output_type": "stream",
     "text": [
      "[Parallel(n_jobs=12)]: Using backend LokyBackend with 12 concurrent workers.\n",
      "[Parallel(n_jobs=12)]: Done   1 tasks      | elapsed:  3.7min\n",
      "[Parallel(n_jobs=12)]: Done   3 out of  12 | elapsed:  3.7min remaining: 11.2min\n",
      "[Parallel(n_jobs=12)]: Done   5 out of  12 | elapsed:  3.8min remaining:  5.3min\n",
      "[Parallel(n_jobs=12)]: Done   7 out of  12 | elapsed:  3.8min remaining:  2.7min\n",
      "[Parallel(n_jobs=12)]: Done   9 out of  12 | elapsed:  3.8min remaining:  1.3min\n",
      "[Parallel(n_jobs=12)]: Done  12 out of  12 | elapsed:  3.9min finished\n"
     ]
    }
   ],
   "source": [
    "terms_list_tmp = Parallel(n_jobs=lime_jobs, verbose=10, batch_size=1)(delayed(get_relevant_terms_mp)(nn_model, alaska_corpus, input_batch) for input_batch in input_slices)"
   ]
  },
  {
   "cell_type": "markdown",
   "metadata": {},
   "source": [
    "Build a DataFrame out of `terms_list_tmp`"
   ]
  },
  {
   "cell_type": "code",
   "execution_count": 24,
   "metadata": {
    "ExecuteTime": {
     "end_time": "2020-09-22T15:49:35.515585Z",
     "start_time": "2020-09-22T15:49:35.511040Z"
    }
   },
   "outputs": [],
   "source": [
    "df_data = []\n",
    "for sublist in terms_list_tmp:\n",
    "    df_data += sublist"
   ]
  },
  {
   "cell_type": "code",
   "execution_count": 25,
   "metadata": {
    "ExecuteTime": {
     "end_time": "2020-09-22T15:49:35.525613Z",
     "start_time": "2020-09-22T15:49:35.519210Z"
    }
   },
   "outputs": [
    {
     "data": {
      "text/plain": [
       "[{'label': 'ENTITY#44',\n",
       "  'term': 'nikon_d3200_dslr_camera',\n",
       "  'weight': 0.22166476809313615,\n",
       "  'data_id': 0},\n",
       " {'label': 'ENTITY#44',\n",
       "  'term': '55_200mm_lenses',\n",
       "  'weight': 0.19723080395194614,\n",
       "  'data_id': 0},\n",
       " {'label': 'ENTITY#44',\n",
       "  'term': '18_55mm',\n",
       "  'weight': 0.11550981842391102,\n",
       "  'data_id': 0}]"
      ]
     },
     "execution_count": 25,
     "metadata": {},
     "output_type": "execute_result"
    }
   ],
   "source": [
    "df_data[:3]"
   ]
  },
  {
   "cell_type": "code",
   "execution_count": 26,
   "metadata": {
    "ExecuteTime": {
     "end_time": "2020-09-22T15:49:35.531355Z",
     "start_time": "2020-09-22T15:49:35.528172Z"
    }
   },
   "outputs": [],
   "source": [
    "import pandas as pd"
   ]
  },
  {
   "cell_type": "code",
   "execution_count": 27,
   "metadata": {
    "ExecuteTime": {
     "end_time": "2020-09-22T15:49:35.550600Z",
     "start_time": "2020-09-22T15:49:35.533939Z"
    }
   },
   "outputs": [],
   "source": [
    "relevant_terms_df = pd.DataFrame(df_data)"
   ]
  },
  {
   "cell_type": "code",
   "execution_count": 28,
   "metadata": {
    "ExecuteTime": {
     "end_time": "2020-09-22T15:49:39.419334Z",
     "start_time": "2020-09-22T15:49:39.392028Z"
    }
   },
   "outputs": [
    {
     "data": {
      "text/html": [
       "<div>\n",
       "<style scoped>\n",
       "    .dataframe tbody tr th:only-of-type {\n",
       "        vertical-align: middle;\n",
       "    }\n",
       "\n",
       "    .dataframe tbody tr th {\n",
       "        vertical-align: top;\n",
       "    }\n",
       "\n",
       "    .dataframe thead th {\n",
       "        text-align: right;\n",
       "    }\n",
       "</style>\n",
       "<table border=\"1\" class=\"dataframe\">\n",
       "  <thead>\n",
       "    <tr style=\"text-align: right;\">\n",
       "      <th></th>\n",
       "      <th>label</th>\n",
       "      <th>term</th>\n",
       "      <th>weight</th>\n",
       "      <th>data_id</th>\n",
       "    </tr>\n",
       "  </thead>\n",
       "  <tbody>\n",
       "    <tr>\n",
       "      <th>0</th>\n",
       "      <td>ENTITY#44</td>\n",
       "      <td>nikon_d3200_dslr_camera</td>\n",
       "      <td>0.221665</td>\n",
       "      <td>0</td>\n",
       "    </tr>\n",
       "    <tr>\n",
       "      <th>1</th>\n",
       "      <td>ENTITY#44</td>\n",
       "      <td>55_200mm_lenses</td>\n",
       "      <td>0.197231</td>\n",
       "      <td>0</td>\n",
       "    </tr>\n",
       "    <tr>\n",
       "      <th>2</th>\n",
       "      <td>ENTITY#44</td>\n",
       "      <td>18_55mm</td>\n",
       "      <td>0.115510</td>\n",
       "      <td>0</td>\n",
       "    </tr>\n",
       "    <tr>\n",
       "      <th>3</th>\n",
       "      <td>ENTITY#44</td>\n",
       "      <td>black_ebay</td>\n",
       "      <td>0.102250</td>\n",
       "      <td>0</td>\n",
       "    </tr>\n",
       "    <tr>\n",
       "      <th>4</th>\n",
       "      <td>ENTITY#44</td>\n",
       "      <td>nikon_d3200</td>\n",
       "      <td>0.571242</td>\n",
       "      <td>1</td>\n",
       "    </tr>\n",
       "  </tbody>\n",
       "</table>\n",
       "</div>"
      ],
      "text/plain": [
       "       label                     term    weight  data_id\n",
       "0  ENTITY#44  nikon_d3200_dslr_camera  0.221665        0\n",
       "1  ENTITY#44          55_200mm_lenses  0.197231        0\n",
       "2  ENTITY#44                  18_55mm  0.115510        0\n",
       "3  ENTITY#44               black_ebay  0.102250        0\n",
       "4  ENTITY#44              nikon_d3200  0.571242        1"
      ]
     },
     "execution_count": 28,
     "metadata": {},
     "output_type": "execute_result"
    }
   ],
   "source": [
    "relevant_terms_df.head()"
   ]
  },
  {
   "cell_type": "markdown",
   "metadata": {},
   "source": [
    "---"
   ]
  },
  {
   "cell_type": "markdown",
   "metadata": {},
   "source": [
    "## Save retrieved terms to a file"
   ]
  },
  {
   "cell_type": "code",
   "execution_count": 29,
   "metadata": {
    "ExecuteTime": {
     "end_time": "2020-09-22T15:50:55.717450Z",
     "start_time": "2020-09-22T15:50:55.712320Z"
    }
   },
   "outputs": [],
   "source": [
    "terms_dir = 'terms'\n",
    "filename = 'relevant_terms_nn.csv'\n",
    "filepath = os.path.join(root_dir, data_dir, terms_dir, filename)"
   ]
  },
  {
   "cell_type": "code",
   "execution_count": 30,
   "metadata": {
    "ExecuteTime": {
     "end_time": "2020-09-22T15:50:56.480980Z",
     "start_time": "2020-09-22T15:50:56.440245Z"
    }
   },
   "outputs": [],
   "source": [
    "relevant_terms_df.to_csv(filepath, encoding='utf-8', index=False)"
   ]
  },
  {
   "cell_type": "markdown",
   "metadata": {},
   "source": [
    "---"
   ]
  },
  {
   "cell_type": "markdown",
   "metadata": {},
   "source": [
    "## Check for pending joblib processes"
   ]
  },
  {
   "cell_type": "code",
   "execution_count": 31,
   "metadata": {
    "ExecuteTime": {
     "end_time": "2020-09-22T15:51:02.701345Z",
     "start_time": "2020-09-22T15:51:02.696971Z"
    }
   },
   "outputs": [],
   "source": [
    "from multiprocessing import active_children"
   ]
  },
  {
   "cell_type": "code",
   "execution_count": 34,
   "metadata": {
    "ExecuteTime": {
     "end_time": "2020-09-22T15:56:25.103891Z",
     "start_time": "2020-09-22T15:56:25.096289Z"
    }
   },
   "outputs": [
    {
     "data": {
      "text/plain": [
       "[]"
      ]
     },
     "execution_count": 34,
     "metadata": {},
     "output_type": "execute_result"
    }
   ],
   "source": [
    "active_children()"
   ]
  },
  {
   "cell_type": "markdown",
   "metadata": {},
   "source": [
    "---"
   ]
  }
 ],
 "metadata": {
  "kernelspec": {
   "display_name": "Python 3",
   "language": "python",
   "name": "python3"
  },
  "language_info": {
   "codemirror_mode": {
    "name": "ipython",
    "version": 3
   },
   "file_extension": ".py",
   "mimetype": "text/x-python",
   "name": "python",
   "nbconvert_exporter": "python",
   "pygments_lexer": "ipython3",
   "version": "3.8.1"
  },
  "toc": {
   "base_numbering": 1,
   "nav_menu": {},
   "number_sections": true,
   "sideBar": true,
   "skip_h1_title": false,
   "title_cell": "Table of Contents",
   "title_sidebar": "Contents",
   "toc_cell": false,
   "toc_position": {},
   "toc_section_display": true,
   "toc_window_display": false
  }
 },
 "nbformat": 4,
 "nbformat_minor": 4
}
