{
 "cells": [
  {
   "cell_type": "markdown",
   "metadata": {},
   "source": [
    "# Find cluster related terms using LIME"
   ]
  },
  {
   "cell_type": "markdown",
   "metadata": {},
   "source": [
    "## Load the data"
   ]
  },
  {
   "cell_type": "code",
   "execution_count": 1,
   "metadata": {
    "ExecuteTime": {
     "end_time": "2020-11-22T23:23:45.157262Z",
     "start_time": "2020-11-22T23:23:45.152343Z"
    }
   },
   "outputs": [],
   "source": [
    "root_dir = '../..'\n",
    "data_dir = 'data'\n",
    "corpus_dir = 'corpus'\n",
    "src_dir = 'src'"
   ]
  },
  {
   "cell_type": "code",
   "execution_count": 2,
   "metadata": {
    "ExecuteTime": {
     "end_time": "2020-11-22T23:23:45.366083Z",
     "start_time": "2020-11-22T23:23:45.362346Z"
    }
   },
   "outputs": [],
   "source": [
    "version = 'v2'"
   ]
  },
  {
   "cell_type": "code",
   "execution_count": 3,
   "metadata": {
    "ExecuteTime": {
     "end_time": "2020-11-22T23:23:45.561922Z",
     "start_time": "2020-11-22T23:23:45.558330Z"
    }
   },
   "outputs": [],
   "source": [
    "import os \n",
    "import sys"
   ]
  },
  {
   "cell_type": "code",
   "execution_count": 4,
   "metadata": {
    "ExecuteTime": {
     "end_time": "2020-11-22T23:23:45.773833Z",
     "start_time": "2020-11-22T23:23:45.769405Z"
    }
   },
   "outputs": [],
   "source": [
    "sys.path.append(os.path.join(root_dir, src_dir))"
   ]
  },
  {
   "cell_type": "code",
   "execution_count": 5,
   "metadata": {
    "ExecuteTime": {
     "end_time": "2020-11-22T23:23:45.995010Z",
     "start_time": "2020-11-22T23:23:45.989923Z"
    }
   },
   "outputs": [],
   "source": [
    "corpus_filename = f'wikidata_corpus_{version}.json'\n",
    "corpus_filepath = os.path.join(root_dir, data_dir, corpus_dir, corpus_filename)"
   ]
  },
  {
   "cell_type": "code",
   "execution_count": 6,
   "metadata": {
    "ExecuteTime": {
     "end_time": "2020-11-22T23:23:46.198605Z",
     "start_time": "2020-11-22T23:23:46.193904Z"
    }
   },
   "outputs": [],
   "source": [
    "chunks_filename = f'wikidata_chunks_{version}.json'\n",
    "chunks_filepath = os.path.join(root_dir, data_dir, corpus_dir, chunks_filename)"
   ]
  },
  {
   "cell_type": "code",
   "execution_count": 7,
   "metadata": {
    "ExecuteTime": {
     "end_time": "2020-11-22T23:23:47.345622Z",
     "start_time": "2020-11-22T23:23:46.428937Z"
    }
   },
   "outputs": [],
   "source": [
    "from training import TrainingCorpus"
   ]
  },
  {
   "cell_type": "code",
   "execution_count": 8,
   "metadata": {
    "ExecuteTime": {
     "end_time": "2020-11-22T23:23:47.402136Z",
     "start_time": "2020-11-22T23:23:47.347168Z"
    }
   },
   "outputs": [],
   "source": [
    "corpus = TrainingCorpus()\n",
    "corpus.load(corpus_filepath)\n",
    "corpus.load_chunks(chunks_filepath)"
   ]
  },
  {
   "cell_type": "markdown",
   "metadata": {},
   "source": [
    "---"
   ]
  },
  {
   "cell_type": "markdown",
   "metadata": {},
   "source": [
    "## Load the model"
   ]
  },
  {
   "cell_type": "code",
   "execution_count": 9,
   "metadata": {
    "ExecuteTime": {
     "end_time": "2020-11-22T23:23:48.938418Z",
     "start_time": "2020-11-22T23:23:47.457217Z"
    }
   },
   "outputs": [
    {
     "name": "stderr",
     "output_type": "stream",
     "text": [
      "Using TensorFlow backend.\n"
     ]
    }
   ],
   "source": [
    "from model import TensorflowTfIdfModel"
   ]
  },
  {
   "cell_type": "code",
   "execution_count": 10,
   "metadata": {
    "ExecuteTime": {
     "end_time": "2020-11-22T23:23:48.942404Z",
     "start_time": "2020-11-22T23:23:48.940038Z"
    }
   },
   "outputs": [],
   "source": [
    "models_dir = 'models'"
   ]
  },
  {
   "cell_type": "code",
   "execution_count": 11,
   "metadata": {
    "ExecuteTime": {
     "end_time": "2020-11-22T23:23:48.946785Z",
     "start_time": "2020-11-22T23:23:48.944178Z"
    }
   },
   "outputs": [],
   "source": [
    "model_filename = f'wikidata_nn_tfidf_model_{version}.h5'\n",
    "model_filepath = os.path.join(root_dir, data_dir, models_dir, model_filename)"
   ]
  },
  {
   "cell_type": "code",
   "execution_count": 12,
   "metadata": {
    "ExecuteTime": {
     "end_time": "2020-11-22T23:23:48.950666Z",
     "start_time": "2020-11-22T23:23:48.948330Z"
    }
   },
   "outputs": [],
   "source": [
    "vectorizer_filename = f'wikidata_tfidf_vectorizer_{version}.pkl'\n",
    "vectorizer_filepath = os.path.join(root_dir, data_dir, models_dir, vectorizer_filename)"
   ]
  },
  {
   "cell_type": "code",
   "execution_count": 13,
   "metadata": {
    "ExecuteTime": {
     "end_time": "2020-11-22T23:23:50.738378Z",
     "start_time": "2020-11-22T23:23:49.960853Z"
    }
   },
   "outputs": [],
   "source": [
    "nn_model = TensorflowTfIdfModel(model_filepath, vectorizer_filepath)"
   ]
  },
  {
   "cell_type": "markdown",
   "metadata": {},
   "source": [
    "---"
   ]
  },
  {
   "cell_type": "markdown",
   "metadata": {},
   "source": [
    "## Find relevant terms for each cluster label using LIME"
   ]
  },
  {
   "cell_type": "markdown",
   "metadata": {},
   "source": [
    "### Define utility function for multicore processing"
   ]
  },
  {
   "cell_type": "code",
   "execution_count": 14,
   "metadata": {
    "ExecuteTime": {
     "end_time": "2020-11-22T23:23:51.014599Z",
     "start_time": "2020-11-22T23:23:51.005884Z"
    }
   },
   "outputs": [],
   "source": [
    "from termfinder import LimeTermFinder"
   ]
  },
  {
   "cell_type": "code",
   "execution_count": 15,
   "metadata": {
    "ExecuteTime": {
     "end_time": "2020-11-22T23:23:51.458938Z",
     "start_time": "2020-11-22T23:23:51.450194Z"
    }
   },
   "outputs": [],
   "source": [
    "def get_relevant_terms_mp(model, corpus, input_data):\n",
    "    result_list = []\n",
    "    \n",
    "    term_finder = LimeTermFinder(model, corpus)\n",
    "    \n",
    "    for label_idx, data_idx in input_data:\n",
    "        relevant_terms = term_finder.get_relevant_terms(data_idx, label_idx)\n",
    "        \n",
    "        if relevant_terms:\n",
    "            \n",
    "            for term, weight in relevant_terms.items():\n",
    "                dict_entry = {'label': corpus.labels[label_idx],\n",
    "                              'term': term,\n",
    "                              'weight': weight,\n",
    "                              'data_id': corpus.docs[data_idx]}\n",
    "                result_list.append(dict_entry)\n",
    "    \n",
    "    return result_list"
   ]
  },
  {
   "cell_type": "markdown",
   "metadata": {},
   "source": [
    "### Split the data into multiple batches"
   ]
  },
  {
   "cell_type": "code",
   "execution_count": 16,
   "metadata": {
    "ExecuteTime": {
     "end_time": "2020-11-22T23:23:52.231267Z",
     "start_time": "2020-11-22T23:23:52.227569Z"
    }
   },
   "outputs": [],
   "source": [
    "import numpy as np"
   ]
  },
  {
   "cell_type": "code",
   "execution_count": 17,
   "metadata": {
    "ExecuteTime": {
     "end_time": "2020-11-22T23:23:55.369432Z",
     "start_time": "2020-11-22T23:23:52.586967Z"
    }
   },
   "outputs": [],
   "source": [
    "label_to_data_idx_dict = nn_model.label_to_data_idx(corpus)"
   ]
  },
  {
   "cell_type": "code",
   "execution_count": 18,
   "metadata": {
    "ExecuteTime": {
     "end_time": "2020-11-22T23:23:56.709404Z",
     "start_time": "2020-11-22T23:23:56.702238Z"
    }
   },
   "outputs": [],
   "source": [
    "input_data = np.array([(label_idx, data_idx) for label_idx, data_idxs in label_to_data_idx_dict.items()\n",
    "                       for data_idx in data_idxs])"
   ]
  },
  {
   "cell_type": "markdown",
   "metadata": {
    "ExecuteTime": {
     "end_time": "2020-09-22T15:36:03.060195Z",
     "start_time": "2020-09-22T15:36:03.054643Z"
    }
   },
   "source": [
    "Get the number of available CPU cores"
   ]
  },
  {
   "cell_type": "code",
   "execution_count": 19,
   "metadata": {
    "ExecuteTime": {
     "end_time": "2020-11-22T23:23:58.658059Z",
     "start_time": "2020-11-22T23:23:58.653818Z"
    }
   },
   "outputs": [],
   "source": [
    "import psutil"
   ]
  },
  {
   "cell_type": "code",
   "execution_count": 20,
   "metadata": {
    "ExecuteTime": {
     "end_time": "2020-11-22T23:23:58.930224Z",
     "start_time": "2020-11-22T23:23:58.903223Z"
    }
   },
   "outputs": [
    {
     "data": {
      "text/plain": [
       "22"
      ]
     },
     "execution_count": 20,
     "metadata": {},
     "output_type": "execute_result"
    }
   ],
   "source": [
    "psutil.cpu_count(logical=False)"
   ]
  },
  {
   "cell_type": "markdown",
   "metadata": {},
   "source": [
    "Set the number of parallel jobs"
   ]
  },
  {
   "cell_type": "code",
   "execution_count": 21,
   "metadata": {
    "ExecuteTime": {
     "end_time": "2020-11-22T23:24:00.324618Z",
     "start_time": "2020-11-22T23:24:00.320792Z"
    }
   },
   "outputs": [],
   "source": [
    "lime_jobs = 12"
   ]
  },
  {
   "cell_type": "markdown",
   "metadata": {},
   "source": [
    "Compute batches"
   ]
  },
  {
   "cell_type": "code",
   "execution_count": 22,
   "metadata": {
    "ExecuteTime": {
     "end_time": "2020-11-22T23:24:01.836276Z",
     "start_time": "2020-11-22T23:24:01.829539Z"
    }
   },
   "outputs": [
    {
     "data": {
      "text/plain": [
       "273"
      ]
     },
     "execution_count": 22,
     "metadata": {},
     "output_type": "execute_result"
    }
   ],
   "source": [
    "input_slices = np.array_split(input_data, lime_jobs)\n",
    "len(input_slices[0])"
   ]
  },
  {
   "cell_type": "markdown",
   "metadata": {
    "ExecuteTime": {
     "end_time": "2020-09-22T15:28:12.789888Z",
     "start_time": "2020-09-22T15:28:12.783746Z"
    }
   },
   "source": [
    "Finally, find relevant terms using `LIME`"
   ]
  },
  {
   "cell_type": "code",
   "execution_count": 23,
   "metadata": {
    "ExecuteTime": {
     "end_time": "2020-11-22T23:24:03.851025Z",
     "start_time": "2020-11-22T23:24:03.847075Z"
    }
   },
   "outputs": [],
   "source": [
    "from joblib import Parallel, delayed"
   ]
  },
  {
   "cell_type": "code",
   "execution_count": 24,
   "metadata": {
    "ExecuteTime": {
     "end_time": "2020-11-22T23:43:58.492904Z",
     "start_time": "2020-11-22T23:24:04.170091Z"
    }
   },
   "outputs": [
    {
     "name": "stderr",
     "output_type": "stream",
     "text": [
      "[Parallel(n_jobs=12)]: Using backend LokyBackend with 12 concurrent workers.\n",
      "[Parallel(n_jobs=12)]: Done   1 tasks      | elapsed: 19.0min\n",
      "[Parallel(n_jobs=12)]: Done   3 out of  12 | elapsed: 19.2min remaining: 57.7min\n",
      "[Parallel(n_jobs=12)]: Done   5 out of  12 | elapsed: 19.3min remaining: 27.0min\n",
      "[Parallel(n_jobs=12)]: Done   7 out of  12 | elapsed: 19.5min remaining: 13.9min\n",
      "[Parallel(n_jobs=12)]: Done   9 out of  12 | elapsed: 19.5min remaining:  6.5min\n",
      "[Parallel(n_jobs=12)]: Done  12 out of  12 | elapsed: 19.9min finished\n"
     ]
    }
   ],
   "source": [
    "terms_list_tmp = Parallel(n_jobs=lime_jobs, verbose=10, batch_size=1)(delayed(get_relevant_terms_mp)(nn_model, corpus, input_batch) for input_batch in input_slices)"
   ]
  },
  {
   "cell_type": "markdown",
   "metadata": {},
   "source": [
    "Build a DataFrame out of `terms_list_tmp`"
   ]
  },
  {
   "cell_type": "code",
   "execution_count": 25,
   "metadata": {
    "ExecuteTime": {
     "end_time": "2020-11-22T23:44:06.351122Z",
     "start_time": "2020-11-22T23:44:06.344033Z"
    }
   },
   "outputs": [],
   "source": [
    "df_data = []\n",
    "for sublist in terms_list_tmp:\n",
    "    df_data += sublist"
   ]
  },
  {
   "cell_type": "code",
   "execution_count": 26,
   "metadata": {
    "ExecuteTime": {
     "end_time": "2020-11-22T23:44:06.812276Z",
     "start_time": "2020-11-22T23:44:06.804514Z"
    }
   },
   "outputs": [
    {
     "data": {
      "text/plain": [
       "[{'label': 'Q1754',\n",
       "  'term': 'stockholm',\n",
       "  'weight': 0.44258119438312654,\n",
       "  'data_id': 0},\n",
       " {'label': 'Q1754',\n",
       "  'term': 'sweden',\n",
       "  'weight': 0.35202554266831004,\n",
       "  'data_id': 0},\n",
       " {'label': 'Q1754',\n",
       "  'term': 'city',\n",
       "  'weight': 0.12302376773912832,\n",
       "  'data_id': 0}]"
      ]
     },
     "execution_count": 26,
     "metadata": {},
     "output_type": "execute_result"
    }
   ],
   "source": [
    "df_data[:3]"
   ]
  },
  {
   "cell_type": "code",
   "execution_count": 27,
   "metadata": {
    "ExecuteTime": {
     "end_time": "2020-11-22T23:44:24.079874Z",
     "start_time": "2020-11-22T23:44:24.075456Z"
    }
   },
   "outputs": [],
   "source": [
    "import pandas as pd"
   ]
  },
  {
   "cell_type": "code",
   "execution_count": 28,
   "metadata": {
    "ExecuteTime": {
     "end_time": "2020-11-22T23:44:24.550440Z",
     "start_time": "2020-11-22T23:44:24.483268Z"
    }
   },
   "outputs": [],
   "source": [
    "relevant_terms_df = pd.DataFrame(df_data)"
   ]
  },
  {
   "cell_type": "code",
   "execution_count": 29,
   "metadata": {
    "ExecuteTime": {
     "end_time": "2020-11-22T23:44:25.259610Z",
     "start_time": "2020-11-22T23:44:25.234850Z"
    }
   },
   "outputs": [
    {
     "data": {
      "text/html": [
       "<div>\n",
       "<style scoped>\n",
       "    .dataframe tbody tr th:only-of-type {\n",
       "        vertical-align: middle;\n",
       "    }\n",
       "\n",
       "    .dataframe tbody tr th {\n",
       "        vertical-align: top;\n",
       "    }\n",
       "\n",
       "    .dataframe thead th {\n",
       "        text-align: right;\n",
       "    }\n",
       "</style>\n",
       "<table border=\"1\" class=\"dataframe\">\n",
       "  <thead>\n",
       "    <tr style=\"text-align: right;\">\n",
       "      <th></th>\n",
       "      <th>label</th>\n",
       "      <th>term</th>\n",
       "      <th>weight</th>\n",
       "      <th>data_id</th>\n",
       "    </tr>\n",
       "  </thead>\n",
       "  <tbody>\n",
       "    <tr>\n",
       "      <th>0</th>\n",
       "      <td>Q1754</td>\n",
       "      <td>stockholm</td>\n",
       "      <td>0.442581</td>\n",
       "      <td>0</td>\n",
       "    </tr>\n",
       "    <tr>\n",
       "      <th>1</th>\n",
       "      <td>Q1754</td>\n",
       "      <td>sweden</td>\n",
       "      <td>0.352026</td>\n",
       "      <td>0</td>\n",
       "    </tr>\n",
       "    <tr>\n",
       "      <th>2</th>\n",
       "      <td>Q1754</td>\n",
       "      <td>city</td>\n",
       "      <td>0.123024</td>\n",
       "      <td>0</td>\n",
       "    </tr>\n",
       "    <tr>\n",
       "      <th>3</th>\n",
       "      <td>Q1754</td>\n",
       "      <td>capital</td>\n",
       "      <td>0.110941</td>\n",
       "      <td>0</td>\n",
       "    </tr>\n",
       "    <tr>\n",
       "      <th>4</th>\n",
       "      <td>Q1754</td>\n",
       "      <td>stockholm</td>\n",
       "      <td>0.473740</td>\n",
       "      <td>1</td>\n",
       "    </tr>\n",
       "  </tbody>\n",
       "</table>\n",
       "</div>"
      ],
      "text/plain": [
       "   label       term    weight  data_id\n",
       "0  Q1754  stockholm  0.442581        0\n",
       "1  Q1754     sweden  0.352026        0\n",
       "2  Q1754       city  0.123024        0\n",
       "3  Q1754    capital  0.110941        0\n",
       "4  Q1754  stockholm  0.473740        1"
      ]
     },
     "execution_count": 29,
     "metadata": {},
     "output_type": "execute_result"
    }
   ],
   "source": [
    "relevant_terms_df.head()"
   ]
  },
  {
   "cell_type": "markdown",
   "metadata": {},
   "source": [
    "---"
   ]
  },
  {
   "cell_type": "markdown",
   "metadata": {},
   "source": [
    "## Save retrieved terms to a file"
   ]
  },
  {
   "cell_type": "code",
   "execution_count": 30,
   "metadata": {
    "ExecuteTime": {
     "end_time": "2020-11-22T23:44:31.700943Z",
     "start_time": "2020-11-22T23:44:31.695794Z"
    }
   },
   "outputs": [],
   "source": [
    "terms_dir = 'terms'\n",
    "filename = f'relevant_terms_wikidata_nn_tfidf_{version}.csv'\n",
    "filepath = os.path.join(root_dir, data_dir, terms_dir, filename)"
   ]
  },
  {
   "cell_type": "code",
   "execution_count": 31,
   "metadata": {
    "ExecuteTime": {
     "end_time": "2020-11-22T23:44:32.632742Z",
     "start_time": "2020-11-22T23:44:32.626479Z"
    }
   },
   "outputs": [
    {
     "data": {
      "text/plain": [
       "'../../data/terms/relevant_terms_wikidata_nn_tfidf_v2.csv'"
      ]
     },
     "execution_count": 31,
     "metadata": {},
     "output_type": "execute_result"
    }
   ],
   "source": [
    "filepath"
   ]
  },
  {
   "cell_type": "code",
   "execution_count": 32,
   "metadata": {
    "ExecuteTime": {
     "end_time": "2020-11-22T23:44:35.285581Z",
     "start_time": "2020-11-22T23:44:35.161189Z"
    }
   },
   "outputs": [],
   "source": [
    "relevant_terms_df.to_csv(filepath, encoding='utf-8', index=False)"
   ]
  },
  {
   "cell_type": "markdown",
   "metadata": {},
   "source": [
    "---"
   ]
  },
  {
   "cell_type": "markdown",
   "metadata": {},
   "source": [
    "## Check for pending joblib processes"
   ]
  },
  {
   "cell_type": "code",
   "execution_count": 33,
   "metadata": {
    "ExecuteTime": {
     "end_time": "2020-11-22T23:44:37.505738Z",
     "start_time": "2020-11-22T23:44:37.501671Z"
    }
   },
   "outputs": [],
   "source": [
    "from multiprocessing import active_children"
   ]
  },
  {
   "cell_type": "code",
   "execution_count": 34,
   "metadata": {
    "ExecuteTime": {
     "end_time": "2020-11-22T23:44:38.073691Z",
     "start_time": "2020-11-22T23:44:38.063959Z"
    }
   },
   "outputs": [
    {
     "data": {
      "text/plain": [
       "[<LokyProcess name='LokyProcess-3' pid=36580 parent=36220 started>,\n",
       " <LokyProcess name='LokyProcess-10' pid=36587 parent=36220 started>,\n",
       " <LokyProcess name='LokyProcess-2' pid=36579 parent=36220 started>,\n",
       " <LokyProcess name='LokyProcess-6' pid=36583 parent=36220 started>,\n",
       " <LokyProcess name='LokyProcess-8' pid=36585 parent=36220 started>,\n",
       " <LokyProcess name='LokyProcess-5' pid=36582 parent=36220 started>,\n",
       " <LokyProcess name='LokyProcess-11' pid=36588 parent=36220 started>,\n",
       " <LokyProcess name='LokyProcess-4' pid=36581 parent=36220 started>,\n",
       " <LokyProcess name='LokyProcess-1' pid=36578 parent=36220 started>,\n",
       " <LokyProcess name='LokyProcess-12' pid=36589 parent=36220 started>,\n",
       " <LokyProcess name='LokyProcess-9' pid=36586 parent=36220 started>,\n",
       " <LokyProcess name='LokyProcess-7' pid=36584 parent=36220 started>]"
      ]
     },
     "execution_count": 34,
     "metadata": {},
     "output_type": "execute_result"
    }
   ],
   "source": [
    "active_children()"
   ]
  },
  {
   "cell_type": "markdown",
   "metadata": {},
   "source": [
    "---"
   ]
  }
 ],
 "metadata": {
  "kernelspec": {
   "display_name": "Python 3",
   "language": "python",
   "name": "python3"
  },
  "language_info": {
   "codemirror_mode": {
    "name": "ipython",
    "version": 3
   },
   "file_extension": ".py",
   "mimetype": "text/x-python",
   "name": "python",
   "nbconvert_exporter": "python",
   "pygments_lexer": "ipython3",
   "version": "3.8.1"
  },
  "toc": {
   "base_numbering": 1,
   "nav_menu": {},
   "number_sections": true,
   "sideBar": true,
   "skip_h1_title": false,
   "title_cell": "Table of Contents",
   "title_sidebar": "Contents",
   "toc_cell": false,
   "toc_position": {},
   "toc_section_display": true,
   "toc_window_display": false
  }
 },
 "nbformat": 4,
 "nbformat_minor": 4
}
