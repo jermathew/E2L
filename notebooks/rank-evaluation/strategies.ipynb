{
 "cells": [
  {
   "cell_type": "markdown",
   "metadata": {},
   "source": [
    "# Fill evaluation strategy for lime2label\n",
    "\n",
    "The idea of the fill evaluation strategy is to check how many tokens a model should learn in order to fill the correct label for and entity.\n",
    "\n",
    "In particular, let be $G_e = \\{t_1, t_2, \\dots, t_n\\}$ the set of **single** tokens that compose the correct label of an entity $e$, without punctuation and stopwords.\n",
    "\n",
    "Let be $R_m = [t_1, t_2, \\dots, t_k]$ the ordered list of the top-$k$ tokens learned by a model $m$. \n",
    "\n",
    "We call *check set* of the model $m$ the set $C_m = \\{t_i : i \\leq z\\}$ of the top-$z$ tokens such that $G_e - C_m \\equiv \\emptyset$.\n",
    "\n",
    "The performance $\\rho_m$ of the model $m$ is calculated as\n",
    "\n",
    "$$\\rho_m = \\frac{n + 1}{z + n}$$\n",
    "\n",
    "Moreover, we account also the *useless* tokens occurrences, that are tokens learned by the model within the check set $C_m$ that are not included in $G_e$."
   ]
  },
  {
   "cell_type": "code",
   "execution_count": 26,
   "metadata": {},
   "outputs": [],
   "source": [
    "import numpy as np\n",
    "import pandas as pd\n",
    "from tqdm.notebook import tqdm"
   ]
  },
  {
   "cell_type": "code",
   "execution_count": 27,
   "metadata": {},
   "outputs": [],
   "source": [
    "import string\n",
    "from nltk.corpus import stopwords"
   ]
  },
  {
   "cell_type": "code",
   "execution_count": 28,
   "metadata": {},
   "outputs": [],
   "source": [
    "import matplotlib.pyplot as plt"
   ]
  },
  {
   "cell_type": "code",
   "execution_count": 29,
   "metadata": {},
   "outputs": [],
   "source": [
    "stw = set(stopwords.words('english'))  "
   ]
  },
  {
   "cell_type": "code",
   "execution_count": 30,
   "metadata": {},
   "outputs": [],
   "source": [
    "def tokenize(s):\n",
    "    tokens = []\n",
    "    for candidate in s.split():\n",
    "        for c in candidate.split('_'):\n",
    "            k = \"\".join([x for x in c if c not in string.punctuation]).lower()\n",
    "            if k not in stw:\n",
    "                tokens.append(k)\n",
    "    return tokens"
   ]
  },
  {
   "cell_type": "code",
   "execution_count": 31,
   "metadata": {},
   "outputs": [],
   "source": [
    "def get_entities(xlsx):\n",
    "    return dict([(s, xlsx.parse(s)) for s in xlsx.sheet_names])"
   ]
  },
  {
   "cell_type": "code",
   "execution_count": 34,
   "metadata": {},
   "outputs": [],
   "source": [
    "def rho(guess, target_tokens, alpha=1):\n",
    "    t = set(target_tokens)\n",
    "    n = len(t)\n",
    "    useless = 0\n",
    "    for i, trial in enumerate(guess):\n",
    "        x = set(tokenize(trial))\n",
    "        r = t.difference(x)\n",
    "        u = x.difference(t)\n",
    "        t = r\n",
    "        useless += len(u)\n",
    "        if len(t) == 0:\n",
    "            break\n",
    "    return n / (np.power(i, alpha) + n), i + 1, useless\n",
    "\n",
    "def evaluate(data, alpha=1):\n",
    "    out = {}\n",
    "    for eid, e in data.items():\n",
    "        target = tokenize(e.target.values[0])\n",
    "        models = [x for x in e.columns if x != 'target']\n",
    "        for model in models:\n",
    "            r, i, u = rho(e[model], target, alpha=alpha)\n",
    "            out[(eid, model)] = {'rho': r, 'trials': i, 'useless': u}\n",
    "    return pd.DataFrame(out).T"
   ]
  },
  {
   "cell_type": "markdown",
   "metadata": {},
   "source": [
    "## Glove"
   ]
  },
  {
   "cell_type": "markdown",
   "metadata": {},
   "source": [
    "### Alaska"
   ]
  },
  {
   "cell_type": "code",
   "execution_count": 35,
   "metadata": {},
   "outputs": [],
   "source": [
    "alaska_xl = pd.ExcelFile('https://island.ricerca.di.unimi.it/~alfio/shared/lime2label/top_n_alaska.xlsx')\n",
    "wiki_xl = pd.ExcelFile('https://island.ricerca.di.unimi.it/~alfio/shared/lime2label/top_n_wikidata_v2.xlsx')"
   ]
  },
  {
   "cell_type": "code",
   "execution_count": 44,
   "metadata": {},
   "outputs": [
    {
     "data": {
      "text/html": [
       "<div>\n",
       "<style scoped>\n",
       "    .dataframe tbody tr th:only-of-type {\n",
       "        vertical-align: middle;\n",
       "    }\n",
       "\n",
       "    .dataframe tbody tr th {\n",
       "        vertical-align: top;\n",
       "    }\n",
       "\n",
       "    .dataframe thead th {\n",
       "        text-align: right;\n",
       "    }\n",
       "</style>\n",
       "<table border=\"1\" class=\"dataframe\">\n",
       "  <thead>\n",
       "    <tr style=\"text-align: right;\">\n",
       "      <th></th>\n",
       "      <th></th>\n",
       "      <th>rho</th>\n",
       "      <th>trials</th>\n",
       "      <th>useless</th>\n",
       "    </tr>\n",
       "  </thead>\n",
       "  <tbody>\n",
       "    <tr>\n",
       "      <th rowspan=\"2\" valign=\"top\">ENTITY#101</th>\n",
       "      <th>lime_term</th>\n",
       "      <td>0.555556</td>\n",
       "      <td>3.0</td>\n",
       "      <td>10.0</td>\n",
       "    </tr>\n",
       "    <tr>\n",
       "      <th>baseline_term</th>\n",
       "      <td>0.833333</td>\n",
       "      <td>2.0</td>\n",
       "      <td>0.0</td>\n",
       "    </tr>\n",
       "    <tr>\n",
       "      <th rowspan=\"2\" valign=\"top\">ENTITY#102</th>\n",
       "      <th>lime_term</th>\n",
       "      <td>0.555556</td>\n",
       "      <td>3.0</td>\n",
       "      <td>0.0</td>\n",
       "    </tr>\n",
       "    <tr>\n",
       "      <th>baseline_term</th>\n",
       "      <td>0.555556</td>\n",
       "      <td>3.0</td>\n",
       "      <td>0.0</td>\n",
       "    </tr>\n",
       "    <tr>\n",
       "      <th rowspan=\"2\" valign=\"top\">ENTITY#16</th>\n",
       "      <th>lime_term</th>\n",
       "      <td>1.000000</td>\n",
       "      <td>1.0</td>\n",
       "      <td>0.0</td>\n",
       "    </tr>\n",
       "    <tr>\n",
       "      <th>baseline_term</th>\n",
       "      <td>1.000000</td>\n",
       "      <td>1.0</td>\n",
       "      <td>0.0</td>\n",
       "    </tr>\n",
       "  </tbody>\n",
       "</table>\n",
       "</div>"
      ],
      "text/plain": [
       "                               rho  trials  useless\n",
       "ENTITY#101 lime_term      0.555556     3.0     10.0\n",
       "           baseline_term  0.833333     2.0      0.0\n",
       "ENTITY#102 lime_term      0.555556     3.0      0.0\n",
       "           baseline_term  0.555556     3.0      0.0\n",
       "ENTITY#16  lime_term      1.000000     1.0      0.0\n",
       "           baseline_term  1.000000     1.0      0.0"
      ]
     },
     "execution_count": 44,
     "metadata": {},
     "output_type": "execute_result"
    }
   ],
   "source": [
    "alaska_entities = get_entities(alaska_xl)\n",
    "alaska = evaluate(alaska_entities, alpha=2)\n",
    "alaska.head(6)"
   ]
  },
  {
   "cell_type": "code",
   "execution_count": 45,
   "metadata": {},
   "outputs": [],
   "source": [
    "lime = alaska.loc[pd.IndexSlice[:, 'lime_term'], :]\n",
    "baseline = alaska.loc[pd.IndexSlice[:, 'baseline_term'], :]"
   ]
  },
  {
   "cell_type": "code",
   "execution_count": 46,
   "metadata": {},
   "outputs": [
    {
     "data": {
      "image/png": "[encoded data removed]",
      "text/plain": [
       "<Figure size 1008x288 with 3 Axes>"
      ]
     },
     "metadata": {
      "needs_background": "light"
     },
     "output_type": "display_data"
    }
   ],
   "source": [
    "avg = {'lime': {}, 'baseline': {}}\n",
    "fig, ax = plt.subplots(figsize=(14, 4), ncols=3)\n",
    "for i, measure in enumerate(['rho', 'trials', 'useless']):\n",
    "    avg['lime'][measure] = lime[measure].mean()\n",
    "    avg['baseline'][measure] = baseline[measure].mean()\n",
    "    ax[i].boxplot([lime[measure], baseline[measure]])\n",
    "    ax[i].set_xticklabels(['lime', 'baseline'])\n",
    "    ax[i].set_title(measure)\n",
    "plt.show()\n",
    "A = pd.DataFrame(avg).T"
   ]
  },
  {
   "cell_type": "code",
   "execution_count": 47,
   "metadata": {},
   "outputs": [
    {
     "data": {
      "text/html": [
       "<div>\n",
       "<style scoped>\n",
       "    .dataframe tbody tr th:only-of-type {\n",
       "        vertical-align: middle;\n",
       "    }\n",
       "\n",
       "    .dataframe tbody tr th {\n",
       "        vertical-align: top;\n",
       "    }\n",
       "\n",
       "    .dataframe thead th {\n",
       "        text-align: right;\n",
       "    }\n",
       "</style>\n",
       "<table border=\"1\" class=\"dataframe\">\n",
       "  <thead>\n",
       "    <tr style=\"text-align: right;\">\n",
       "      <th></th>\n",
       "      <th>rho</th>\n",
       "      <th>trials</th>\n",
       "      <th>useless</th>\n",
       "    </tr>\n",
       "  </thead>\n",
       "  <tbody>\n",
       "    <tr>\n",
       "      <th>lime</th>\n",
       "      <td>0.805117</td>\n",
       "      <td>1.75</td>\n",
       "      <td>1.55</td>\n",
       "    </tr>\n",
       "    <tr>\n",
       "      <th>baseline</th>\n",
       "      <td>0.625155</td>\n",
       "      <td>3.55</td>\n",
       "      <td>3.35</td>\n",
       "    </tr>\n",
       "  </tbody>\n",
       "</table>\n",
       "</div>"
      ],
      "text/plain": [
       "               rho  trials  useless\n",
       "lime      0.805117    1.75     1.55\n",
       "baseline  0.625155    3.55     3.35"
      ]
     },
     "execution_count": 47,
     "metadata": {},
     "output_type": "execute_result"
    }
   ],
   "source": [
    "A"
   ]
  },
  {
   "cell_type": "markdown",
   "metadata": {},
   "source": [
    "### Wikidata"
   ]
  },
  {
   "cell_type": "code",
   "execution_count": 48,
   "metadata": {},
   "outputs": [
    {
     "data": {
      "text/html": [
       "<div>\n",
       "<style scoped>\n",
       "    .dataframe tbody tr th:only-of-type {\n",
       "        vertical-align: middle;\n",
       "    }\n",
       "\n",
       "    .dataframe tbody tr th {\n",
       "        vertical-align: top;\n",
       "    }\n",
       "\n",
       "    .dataframe thead th {\n",
       "        text-align: right;\n",
       "    }\n",
       "</style>\n",
       "<table border=\"1\" class=\"dataframe\">\n",
       "  <thead>\n",
       "    <tr style=\"text-align: right;\">\n",
       "      <th></th>\n",
       "      <th></th>\n",
       "      <th>rho</th>\n",
       "      <th>trials</th>\n",
       "      <th>useless</th>\n",
       "    </tr>\n",
       "  </thead>\n",
       "  <tbody>\n",
       "    <tr>\n",
       "      <th rowspan=\"2\" valign=\"top\">Q1005682</th>\n",
       "      <th>lime_term</th>\n",
       "      <td>0.125000</td>\n",
       "      <td>8.0</td>\n",
       "      <td>1.0</td>\n",
       "    </tr>\n",
       "    <tr>\n",
       "      <th>baseline_term</th>\n",
       "      <td>0.162791</td>\n",
       "      <td>7.0</td>\n",
       "      <td>0.0</td>\n",
       "    </tr>\n",
       "    <tr>\n",
       "      <th rowspan=\"2\" valign=\"top\">Q10123</th>\n",
       "      <th>lime_term</th>\n",
       "      <td>0.021739</td>\n",
       "      <td>16.0</td>\n",
       "      <td>18.0</td>\n",
       "    </tr>\n",
       "    <tr>\n",
       "      <th>baseline_term</th>\n",
       "      <td>0.058140</td>\n",
       "      <td>10.0</td>\n",
       "      <td>5.0</td>\n",
       "    </tr>\n",
       "    <tr>\n",
       "      <th>Q10127</th>\n",
       "      <th>lime_term</th>\n",
       "      <td>0.166667</td>\n",
       "      <td>6.0</td>\n",
       "      <td>4.0</td>\n",
       "    </tr>\n",
       "  </tbody>\n",
       "</table>\n",
       "</div>"
      ],
      "text/plain": [
       "                             rho  trials  useless\n",
       "Q1005682 lime_term      0.125000     8.0      1.0\n",
       "         baseline_term  0.162791     7.0      0.0\n",
       "Q10123   lime_term      0.021739    16.0     18.0\n",
       "         baseline_term  0.058140    10.0      5.0\n",
       "Q10127   lime_term      0.166667     6.0      4.0"
      ]
     },
     "execution_count": 48,
     "metadata": {},
     "output_type": "execute_result"
    }
   ],
   "source": [
    "wiki_entities = get_entities(wiki_xl)\n",
    "wiki = evaluate(wiki_entities, alpha=2)\n",
    "wiki.head()"
   ]
  },
  {
   "cell_type": "code",
   "execution_count": 49,
   "metadata": {},
   "outputs": [],
   "source": [
    "lime = wiki.loc[pd.IndexSlice[:, 'lime_term'], :]\n",
    "baseline = wiki.loc[pd.IndexSlice[:, 'baseline_term'], :]"
   ]
  },
  {
   "cell_type": "code",
   "execution_count": 50,
   "metadata": {},
   "outputs": [
    {
     "data": {
      "image/png": "[encoded data removed]",
      "text/plain": [
       "<Figure size 1008x288 with 3 Axes>"
      ]
     },
     "metadata": {
      "needs_background": "light"
     },
     "output_type": "display_data"
    }
   ],
   "source": [
    "avg = {'lime': {}, 'baseline': {}}\n",
    "fig, ax = plt.subplots(figsize=(14, 4), ncols=3)\n",
    "for i, measure in enumerate(['rho', 'trials', 'useless']):\n",
    "    avg['lime'][measure] = lime[measure].mean()\n",
    "    avg['baseline'][measure] = baseline[measure].mean()\n",
    "    ax[i].boxplot([lime[measure], baseline[measure]])\n",
    "    ax[i].set_xticklabels(['lime', 'baseline'])\n",
    "    ax[i].set_title(measure)\n",
    "plt.show()\n",
    "A = pd.DataFrame(avg).T"
   ]
  },
  {
   "cell_type": "code",
   "execution_count": 51,
   "metadata": {},
   "outputs": [
    {
     "data": {
      "text/html": [
       "<div>\n",
       "<style scoped>\n",
       "    .dataframe tbody tr th:only-of-type {\n",
       "        vertical-align: middle;\n",
       "    }\n",
       "\n",
       "    .dataframe tbody tr th {\n",
       "        vertical-align: top;\n",
       "    }\n",
       "\n",
       "    .dataframe thead th {\n",
       "        text-align: right;\n",
       "    }\n",
       "</style>\n",
       "<table border=\"1\" class=\"dataframe\">\n",
       "  <thead>\n",
       "    <tr style=\"text-align: right;\">\n",
       "      <th></th>\n",
       "      <th>rho</th>\n",
       "      <th>trials</th>\n",
       "      <th>useless</th>\n",
       "    </tr>\n",
       "  </thead>\n",
       "  <tbody>\n",
       "    <tr>\n",
       "      <th>lime</th>\n",
       "      <td>0.161088</td>\n",
       "      <td>10.800000</td>\n",
       "      <td>8.456410</td>\n",
       "    </tr>\n",
       "    <tr>\n",
       "      <th>baseline</th>\n",
       "      <td>0.166311</td>\n",
       "      <td>9.784615</td>\n",
       "      <td>5.964103</td>\n",
       "    </tr>\n",
       "  </tbody>\n",
       "</table>\n",
       "</div>"
      ],
      "text/plain": [
       "               rho     trials   useless\n",
       "lime      0.161088  10.800000  8.456410\n",
       "baseline  0.166311   9.784615  5.964103"
      ]
     },
     "execution_count": 51,
     "metadata": {},
     "output_type": "execute_result"
    }
   ],
   "source": [
    "A"
   ]
  },
  {
   "cell_type": "markdown",
   "metadata": {},
   "source": [
    "## Lime TfIdf"
   ]
  },
  {
   "cell_type": "markdown",
   "metadata": {},
   "source": [
    "### Alaska"
   ]
  },
  {
   "cell_type": "code",
   "execution_count": 17,
   "metadata": {},
   "outputs": [],
   "source": [
    "alaska_xl = pd.ExcelFile('https://island.ricerca.di.unimi.it/~alfio/shared/lime2label/top_n_alaska_tfidf.xlsx')\n",
    "wiki_xl = pd.ExcelFile('https://island.ricerca.di.unimi.it/~alfio/shared/lime2label/top_n_wikidata_tfidf_v2.xlsx')"
   ]
  },
  {
   "cell_type": "code",
   "execution_count": 18,
   "metadata": {},
   "outputs": [
    {
     "data": {
      "text/html": [
       "<div>\n",
       "<style scoped>\n",
       "    .dataframe tbody tr th:only-of-type {\n",
       "        vertical-align: middle;\n",
       "    }\n",
       "\n",
       "    .dataframe tbody tr th {\n",
       "        vertical-align: top;\n",
       "    }\n",
       "\n",
       "    .dataframe thead th {\n",
       "        text-align: right;\n",
       "    }\n",
       "</style>\n",
       "<table border=\"1\" class=\"dataframe\">\n",
       "  <thead>\n",
       "    <tr style=\"text-align: right;\">\n",
       "      <th></th>\n",
       "      <th></th>\n",
       "      <th>rho</th>\n",
       "      <th>trials</th>\n",
       "      <th>useless</th>\n",
       "    </tr>\n",
       "  </thead>\n",
       "  <tbody>\n",
       "    <tr>\n",
       "      <th rowspan=\"2\" valign=\"top\">ENTITY#101</th>\n",
       "      <th>lime_term</th>\n",
       "      <td>0.625000</td>\n",
       "      <td>4.0</td>\n",
       "      <td>21.0</td>\n",
       "    </tr>\n",
       "    <tr>\n",
       "      <th>baseline_term</th>\n",
       "      <td>0.833333</td>\n",
       "      <td>2.0</td>\n",
       "      <td>0.0</td>\n",
       "    </tr>\n",
       "    <tr>\n",
       "      <th rowspan=\"2\" valign=\"top\">ENTITY#102</th>\n",
       "      <th>lime_term</th>\n",
       "      <td>0.416667</td>\n",
       "      <td>8.0</td>\n",
       "      <td>22.0</td>\n",
       "    </tr>\n",
       "    <tr>\n",
       "      <th>baseline_term</th>\n",
       "      <td>0.714286</td>\n",
       "      <td>3.0</td>\n",
       "      <td>0.0</td>\n",
       "    </tr>\n",
       "    <tr>\n",
       "      <th rowspan=\"2\" valign=\"top\">ENTITY#16</th>\n",
       "      <th>lime_term</th>\n",
       "      <td>1.000000</td>\n",
       "      <td>1.0</td>\n",
       "      <td>0.0</td>\n",
       "    </tr>\n",
       "    <tr>\n",
       "      <th>baseline_term</th>\n",
       "      <td>1.000000</td>\n",
       "      <td>1.0</td>\n",
       "      <td>0.0</td>\n",
       "    </tr>\n",
       "  </tbody>\n",
       "</table>\n",
       "</div>"
      ],
      "text/plain": [
       "                               rho  trials  useless\n",
       "ENTITY#101 lime_term      0.625000     4.0     21.0\n",
       "           baseline_term  0.833333     2.0      0.0\n",
       "ENTITY#102 lime_term      0.416667     8.0     22.0\n",
       "           baseline_term  0.714286     3.0      0.0\n",
       "ENTITY#16  lime_term      1.000000     1.0      0.0\n",
       "           baseline_term  1.000000     1.0      0.0"
      ]
     },
     "execution_count": 18,
     "metadata": {},
     "output_type": "execute_result"
    }
   ],
   "source": [
    "alaska_entities = get_entities(alaska_xl)\n",
    "alaska = evaluate(alaska_entities)\n",
    "alaska.head(6)"
   ]
  },
  {
   "cell_type": "code",
   "execution_count": 19,
   "metadata": {},
   "outputs": [],
   "source": [
    "lime = alaska.loc[pd.IndexSlice[:, 'lime_term'], :]\n",
    "baseline = alaska.loc[pd.IndexSlice[:, 'baseline_term'], :]"
   ]
  },
  {
   "cell_type": "code",
   "execution_count": 20,
   "metadata": {},
   "outputs": [
    {
     "data": {
      "image/png": "[encoded data removed]",
      "text/plain": [
       "<Figure size 1008x288 with 3 Axes>"
      ]
     },
     "metadata": {
      "needs_background": "light"
     },
     "output_type": "display_data"
    }
   ],
   "source": [
    "avg = {'lime': {}, 'baseline': {}}\n",
    "fig, ax = plt.subplots(figsize=(14, 4), ncols=3)\n",
    "for i, measure in enumerate(['rho', 'trials', 'useless']):\n",
    "    avg['lime'][measure] = lime[measure].mean()\n",
    "    avg['baseline'][measure] = baseline[measure].mean()\n",
    "    ax[i].boxplot([lime[measure], baseline[measure]])\n",
    "    ax[i].set_xticklabels(['lime', 'baseline'])\n",
    "    ax[i].set_title(measure)\n",
    "plt.show()\n",
    "A = pd.DataFrame(avg).T"
   ]
  },
  {
   "cell_type": "code",
   "execution_count": 21,
   "metadata": {},
   "outputs": [
    {
     "data": {
      "text/html": [
       "<div>\n",
       "<style scoped>\n",
       "    .dataframe tbody tr th:only-of-type {\n",
       "        vertical-align: middle;\n",
       "    }\n",
       "\n",
       "    .dataframe tbody tr th {\n",
       "        vertical-align: top;\n",
       "    }\n",
       "\n",
       "    .dataframe thead th {\n",
       "        text-align: right;\n",
       "    }\n",
       "</style>\n",
       "<table border=\"1\" class=\"dataframe\">\n",
       "  <thead>\n",
       "    <tr style=\"text-align: right;\">\n",
       "      <th></th>\n",
       "      <th>rho</th>\n",
       "      <th>trials</th>\n",
       "      <th>useless</th>\n",
       "    </tr>\n",
       "  </thead>\n",
       "  <tbody>\n",
       "    <tr>\n",
       "      <th>lime</th>\n",
       "      <td>0.815179</td>\n",
       "      <td>2.05</td>\n",
       "      <td>3.05</td>\n",
       "    </tr>\n",
       "    <tr>\n",
       "      <th>baseline</th>\n",
       "      <td>0.707220</td>\n",
       "      <td>3.55</td>\n",
       "      <td>3.35</td>\n",
       "    </tr>\n",
       "  </tbody>\n",
       "</table>\n",
       "</div>"
      ],
      "text/plain": [
       "               rho  trials  useless\n",
       "lime      0.815179    2.05     3.05\n",
       "baseline  0.707220    3.55     3.35"
      ]
     },
     "execution_count": 21,
     "metadata": {},
     "output_type": "execute_result"
    }
   ],
   "source": [
    "A"
   ]
  },
  {
   "cell_type": "markdown",
   "metadata": {},
   "source": [
    "### Wiki"
   ]
  },
  {
   "cell_type": "code",
   "execution_count": 22,
   "metadata": {},
   "outputs": [
    {
     "data": {
      "text/html": [
       "<div>\n",
       "<style scoped>\n",
       "    .dataframe tbody tr th:only-of-type {\n",
       "        vertical-align: middle;\n",
       "    }\n",
       "\n",
       "    .dataframe tbody tr th {\n",
       "        vertical-align: top;\n",
       "    }\n",
       "\n",
       "    .dataframe thead th {\n",
       "        text-align: right;\n",
       "    }\n",
       "</style>\n",
       "<table border=\"1\" class=\"dataframe\">\n",
       "  <thead>\n",
       "    <tr style=\"text-align: right;\">\n",
       "      <th></th>\n",
       "      <th></th>\n",
       "      <th>rho</th>\n",
       "      <th>trials</th>\n",
       "      <th>useless</th>\n",
       "    </tr>\n",
       "  </thead>\n",
       "  <tbody>\n",
       "    <tr>\n",
       "      <th rowspan=\"2\" valign=\"top\">Q1005682</th>\n",
       "      <th>lime_term</th>\n",
       "      <td>0.500000</td>\n",
       "      <td>8.0</td>\n",
       "      <td>3.0</td>\n",
       "    </tr>\n",
       "    <tr>\n",
       "      <th>baseline_term</th>\n",
       "      <td>0.538462</td>\n",
       "      <td>7.0</td>\n",
       "      <td>0.0</td>\n",
       "    </tr>\n",
       "    <tr>\n",
       "      <th rowspan=\"2\" valign=\"top\">Q10123</th>\n",
       "      <th>lime_term</th>\n",
       "      <td>0.200000</td>\n",
       "      <td>21.0</td>\n",
       "      <td>26.0</td>\n",
       "    </tr>\n",
       "    <tr>\n",
       "      <th>baseline_term</th>\n",
       "      <td>0.357143</td>\n",
       "      <td>10.0</td>\n",
       "      <td>5.0</td>\n",
       "    </tr>\n",
       "    <tr>\n",
       "      <th>Q10127</th>\n",
       "      <th>lime_term</th>\n",
       "      <td>0.454545</td>\n",
       "      <td>7.0</td>\n",
       "      <td>2.0</td>\n",
       "    </tr>\n",
       "  </tbody>\n",
       "</table>\n",
       "</div>"
      ],
      "text/plain": [
       "                             rho  trials  useless\n",
       "Q1005682 lime_term      0.500000     8.0      3.0\n",
       "         baseline_term  0.538462     7.0      0.0\n",
       "Q10123   lime_term      0.200000    21.0     26.0\n",
       "         baseline_term  0.357143    10.0      5.0\n",
       "Q10127   lime_term      0.454545     7.0      2.0"
      ]
     },
     "execution_count": 22,
     "metadata": {},
     "output_type": "execute_result"
    }
   ],
   "source": [
    "wiki_entities = get_entities(wiki_xl)\n",
    "wiki = evaluate(wiki_entities)\n",
    "wiki.head()"
   ]
  },
  {
   "cell_type": "code",
   "execution_count": 23,
   "metadata": {},
   "outputs": [],
   "source": [
    "lime = wiki.loc[pd.IndexSlice[:, 'lime_term'], :]\n",
    "baseline = wiki.loc[pd.IndexSlice[:, 'baseline_term'], :]"
   ]
  },
  {
   "cell_type": "code",
   "execution_count": 24,
   "metadata": {},
   "outputs": [
    {
     "data": {
      "image/png": "[encoded data removed]",
      "text/plain": [
       "<Figure size 1008x288 with 3 Axes>"
      ]
     },
     "metadata": {
      "needs_background": "light"
     },
     "output_type": "display_data"
    }
   ],
   "source": [
    "avg = {'lime': {}, 'baseline': {}}\n",
    "fig, ax = plt.subplots(figsize=(14, 4), ncols=3)\n",
    "for i, measure in enumerate(['rho', 'trials', 'useless']):\n",
    "    avg['lime'][measure] = lime[measure].mean()\n",
    "    avg['baseline'][measure] = baseline[measure].mean()\n",
    "    ax[i].boxplot([lime[measure], baseline[measure]])\n",
    "    ax[i].set_xticklabels(['lime', 'baseline'])\n",
    "    ax[i].set_title(measure)\n",
    "plt.show()\n",
    "A = pd.DataFrame(avg).T"
   ]
  },
  {
   "cell_type": "code",
   "execution_count": 25,
   "metadata": {},
   "outputs": [
    {
     "data": {
      "text/html": [
       "<div>\n",
       "<style scoped>\n",
       "    .dataframe tbody tr th:only-of-type {\n",
       "        vertical-align: middle;\n",
       "    }\n",
       "\n",
       "    .dataframe tbody tr th {\n",
       "        vertical-align: top;\n",
       "    }\n",
       "\n",
       "    .dataframe thead th {\n",
       "        text-align: right;\n",
       "    }\n",
       "</style>\n",
       "<table border=\"1\" class=\"dataframe\">\n",
       "  <thead>\n",
       "    <tr style=\"text-align: right;\">\n",
       "      <th></th>\n",
       "      <th>rho</th>\n",
       "      <th>trials</th>\n",
       "      <th>useless</th>\n",
       "    </tr>\n",
       "  </thead>\n",
       "  <tbody>\n",
       "    <tr>\n",
       "      <th>lime</th>\n",
       "      <td>0.404306</td>\n",
       "      <td>11.774359</td>\n",
       "      <td>9.707692</td>\n",
       "    </tr>\n",
       "    <tr>\n",
       "      <th>baseline</th>\n",
       "      <td>0.429812</td>\n",
       "      <td>10.230769</td>\n",
       "      <td>6.410256</td>\n",
       "    </tr>\n",
       "  </tbody>\n",
       "</table>\n",
       "</div>"
      ],
      "text/plain": [
       "               rho     trials   useless\n",
       "lime      0.404306  11.774359  9.707692\n",
       "baseline  0.429812  10.230769  6.410256"
      ]
     },
     "execution_count": 25,
     "metadata": {},
     "output_type": "execute_result"
    }
   ],
   "source": [
    "A"
   ]
  },
  {
   "cell_type": "code",
   "execution_count": null,
   "metadata": {},
   "outputs": [],
   "source": []
  }
 ],
 "metadata": {
  "kernelspec": {
   "display_name": "Python 3",
   "language": "python",
   "name": "python3"
  },
  "language_info": {
   "codemirror_mode": {
    "name": "ipython",
    "version": 3
   },
   "file_extension": ".py",
   "mimetype": "text/x-python",
   "name": "python",
   "nbconvert_exporter": "python",
   "pygments_lexer": "ipython3",
   "version": "3.7.4"
  },
  "toc": {
   "base_numbering": 1,
   "nav_menu": {},
   "number_sections": true,
   "sideBar": true,
   "skip_h1_title": true,
   "title_cell": "Table of Contents",
   "title_sidebar": "Contents",
   "toc_cell": false,
   "toc_position": {},
   "toc_section_display": true,
   "toc_window_display": false
  }
 },
 "nbformat": 4,
 "nbformat_minor": 2
}
