{
 "cells": [
  {
   "cell_type": "markdown",
   "metadata": {},
   "source": [
    "# Top N terms for Alaska"
   ]
  },
  {
   "cell_type": "markdown",
   "metadata": {},
   "source": [
    "## Define filepaths"
   ]
  },
  {
   "cell_type": "code",
   "execution_count": 1,
   "metadata": {
    "ExecuteTime": {
     "end_time": "2021-01-11T14:11:09.767904Z",
     "start_time": "2021-01-11T14:11:09.764366Z"
    }
   },
   "outputs": [],
   "source": [
    "root_dir = '../..'\n",
    "src_dir = 'src'\n",
    "data_dir = 'data'\n",
    "corpus_dir = 'corpus'\n",
    "rankings_dir = 'terms'\n",
    "dataset_name = 'alaska'"
   ]
  },
  {
   "cell_type": "markdown",
   "metadata": {},
   "source": [
    "## Load ground truth"
   ]
  },
  {
   "cell_type": "code",
   "execution_count": 2,
   "metadata": {
    "ExecuteTime": {
     "end_time": "2021-01-11T14:11:10.196226Z",
     "start_time": "2021-01-11T14:11:10.193323Z"
    }
   },
   "outputs": [],
   "source": [
    "import os\n",
    "import json"
   ]
  },
  {
   "cell_type": "code",
   "execution_count": 3,
   "metadata": {
    "ExecuteTime": {
     "end_time": "2021-01-11T14:11:10.410151Z",
     "start_time": "2021-01-11T14:11:10.403003Z"
    }
   },
   "outputs": [],
   "source": [
    "gt_filename = 'alaska_camera_gt.json'\n",
    "gt_filepath = os.path.join(root_dir, data_dir, corpus_dir, gt_filename)"
   ]
  },
  {
   "cell_type": "code",
   "execution_count": 4,
   "metadata": {
    "ExecuteTime": {
     "end_time": "2021-01-11T14:11:10.669665Z",
     "start_time": "2021-01-11T14:11:10.663360Z"
    }
   },
   "outputs": [],
   "source": [
    "with open(gt_filepath, 'r') as fd:\n",
    "    gt_dict = json.load(fd)"
   ]
  },
  {
   "cell_type": "code",
   "execution_count": 5,
   "metadata": {
    "ExecuteTime": {
     "end_time": "2021-01-11T14:11:10.872803Z",
     "start_time": "2021-01-11T14:11:10.868467Z"
    }
   },
   "outputs": [],
   "source": [
    "from pprint import pprint"
   ]
  },
  {
   "cell_type": "code",
   "execution_count": 6,
   "metadata": {
    "ExecuteTime": {
     "end_time": "2021-01-11T14:11:11.126602Z",
     "start_time": "2021-01-11T14:11:11.116995Z"
    }
   },
   "outputs": [
    {
     "name": "stdout",
     "output_type": "stream",
     "text": [
      "{'ENTITY#101': 'canon eos 5d mark iii',\n",
      " 'ENTITY#102': 'canon eos 5d mark ii',\n",
      " 'ENTITY#16': 'nikon d90',\n",
      " 'ENTITY#18': 'canon eos 60d',\n",
      " 'ENTITY#19': 'nikon d3300',\n",
      " 'ENTITY#21': 'nikon d5100',\n",
      " 'ENTITY#23': 'canon eos 7d',\n",
      " 'ENTITY#36': 'nikon d3100',\n",
      " 'ENTITY#37': 'nikon d80',\n",
      " 'ENTITY#41': 'nikon d5200',\n",
      " 'ENTITY#44': 'nikon d3200',\n",
      " 'ENTITY#57': 'nikon d800',\n",
      " 'ENTITY#58': 'nikon 1 j1',\n",
      " 'ENTITY#6': 'nikon d5300',\n",
      " 'ENTITY#7': 'olympus omd em5',\n",
      " 'ENTITY#75': 'nikon d7000',\n",
      " 'ENTITY#76': 'nikon d610',\n",
      " 'ENTITY#8': 'nikon 1 j3',\n",
      " 'ENTITY#84': 'nikon d300',\n",
      " 'ENTITY#96': 'canon eos 70d'}\n"
     ]
    }
   ],
   "source": [
    "pprint(gt_dict)"
   ]
  },
  {
   "cell_type": "markdown",
   "metadata": {},
   "source": [
    "## Load, process and save rankings to a file"
   ]
  },
  {
   "cell_type": "code",
   "execution_count": 7,
   "metadata": {
    "ExecuteTime": {
     "end_time": "2021-01-11T14:11:13.477233Z",
     "start_time": "2021-01-11T14:11:12.101829Z"
    }
   },
   "outputs": [],
   "source": [
    "import sys\n",
    "import pandas as pd\n",
    "\n",
    "sys.path.append(os.path.join(root_dir, src_dir))\n",
    "\n",
    "from training import TrainingCorpus "
   ]
  },
  {
   "cell_type": "code",
   "execution_count": 8,
   "metadata": {
    "ExecuteTime": {
     "end_time": "2021-01-11T14:11:13.483918Z",
     "start_time": "2021-01-11T14:11:13.479479Z"
    }
   },
   "outputs": [],
   "source": [
    "def preprocess_rankings(df):\n",
    "    df = df.copy()\n",
    "    df['term'] = df['term'].map(lambda x: x.replace('_', ' '))\n",
    "    df['term'] = df['term'].map(lambda x: x.replace('-', ''))\n",
    "    return df"
   ]
  },
  {
   "cell_type": "code",
   "execution_count": 9,
   "metadata": {
    "ExecuteTime": {
     "end_time": "2021-01-11T14:11:13.497260Z",
     "start_time": "2021-01-11T14:11:13.486104Z"
    }
   },
   "outputs": [],
   "source": [
    "def save_top_terms(dataset_name, test_names, gt_dict, top_n):\n",
    "    # tfidf baseline\n",
    "    tfidf_filename = f'ranking_{dataset_name}_baseline.xlsx'\n",
    "    tfidf_filepath = os.path.join(root_dir, data_dir, rankings_dir, tfidf_filename)\n",
    "    tfidf_df = pd.read_excel(tfidf_filepath, index_col=0)\n",
    "    tfidf_df = preprocess_rankings(tfidf_df)\n",
    "    grouped_tfidf_df = tfidf_df.groupby('label')\n",
    "    \n",
    "    # BART baseline\n",
    "    bart_filename = f'chunk_summary_{dataset_name}.xlsx'\n",
    "    bart_filepath = os.path.join(root_dir, data_dir, rankings_dir, bart_filename)\n",
    "    bart_summaries_df = pd.read_excel(bart_filepath, index_col=0)\n",
    "    \n",
    "    # rank BART tokens based on their position\n",
    "    summary_rank_list = []\n",
    "    \n",
    "    for idx, row in bart_summaries_df.iterrows():\n",
    "        summary = row['summary']\n",
    "        for term in summary.split():\n",
    "            entry = (idx, term)\n",
    "            summary_rank_list.append(entry)\n",
    "    \n",
    "    bart_df = pd.DataFrame(summary_rank_list, columns=['label', 'term'])\n",
    "    bart_df = preprocess_rankings(bart_df) \n",
    "    grouped_bart_df = bart_df.groupby('label')\n",
    "    \n",
    "    for test_name in test_names:\n",
    "        # LSTM \n",
    "        nn_rank_filename = f'ranking_{dataset_name}_nn_{test_name}.xlsx'\n",
    "        nn_rank_filepath = os.path.join(root_dir, data_dir, rankings_dir, nn_rank_filename)\n",
    "        nn_df = pd.read_excel(nn_rank_filepath, index_col=0)\n",
    "        nn_df = preprocess_rankings(nn_df)\n",
    "        grouped_nn_df = nn_df.groupby('label')\n",
    "        \n",
    "        # distilBERT\n",
    "        bert_rank_filename = f'ranking_{dataset_name}_bert_{test_name}.xlsx'\n",
    "        bert_rank_filepath = os.path.join(root_dir, data_dir, rankings_dir, bert_rank_filename)\n",
    "        bert_df = pd.read_excel(bert_rank_filepath)\n",
    "        bert_df = preprocess_rankings(bert_df)\n",
    "        grouped_bert_df = bert_df.groupby('label')\n",
    "        \n",
    "        out_filename = f'top_n_{dataset_name}_{test_name}.xlsx'\n",
    "        out_filepath = os.path.join(root_dir, data_dir, rankings_dir, out_filename)\n",
    "        \n",
    "        with pd.ExcelWriter(out_filepath) as writer:\n",
    "            \n",
    "            for group_name, _ in grouped_tfidf_df:\n",
    "                tfidf_terms = grouped_tfidf_df.get_group(group_name)['term'][:top_n].values\n",
    "                summary_terms = grouped_bart_df.get_group(group_name)['term'][:top_n].values\n",
    "                nn_terms = grouped_nn_df.get_group(group_name)['term'][:top_n].values\n",
    "                bert_terms = grouped_bert_df.get_group(group_name)['term'][:top_n].values\n",
    "                target = ' '.join(TrainingCorpus.tokenize(gt_dict[group_name])).lower()\n",
    "            \n",
    "                df = pd.DataFrame({'tfidf_term': pd.Series(tfidf_terms), \n",
    "                           'summary_term': pd.Series(summary_terms), \n",
    "                           'glove_term': pd.Series(nn_terms), \n",
    "                           'bert_term': pd.Series(bert_terms),\n",
    "                           'target': target})\n",
    "                \n",
    "                df.to_excel(writer,\n",
    "                    sheet_name=group_name, \n",
    "                    index=False)  "
   ]
  },
  {
   "cell_type": "code",
   "execution_count": 10,
   "metadata": {
    "ExecuteTime": {
     "end_time": "2021-01-11T14:11:13.506344Z",
     "start_time": "2021-01-11T14:11:13.504266Z"
    }
   },
   "outputs": [],
   "source": [
    "test_names = ['sampling_terms_test1', \n",
    "              'sampling_terms_test2', \n",
    "              'sampling_records_test1', \n",
    "              'sampling_records_test2', \n",
    "              'sampling_records_and_terms_test1']"
   ]
  },
  {
   "cell_type": "code",
   "execution_count": 11,
   "metadata": {
    "ExecuteTime": {
     "end_time": "2021-01-11T14:11:13.930617Z",
     "start_time": "2021-01-11T14:11:13.927324Z"
    }
   },
   "outputs": [],
   "source": [
    "top_n = 30"
   ]
  },
  {
   "cell_type": "code",
   "execution_count": 12,
   "metadata": {
    "ExecuteTime": {
     "end_time": "2021-01-11T14:11:19.775810Z",
     "start_time": "2021-01-11T14:11:15.049161Z"
    }
   },
   "outputs": [],
   "source": [
    "save_top_terms(dataset_name, test_names, gt_dict, top_n)"
   ]
  },
  {
   "cell_type": "markdown",
   "metadata": {},
   "source": [
    "---"
   ]
  }
 ],
 "metadata": {
  "kernelspec": {
   "display_name": "Python 3",
   "language": "python",
   "name": "python3"
  },
  "language_info": {
   "codemirror_mode": {
    "name": "ipython",
    "version": 3
   },
   "file_extension": ".py",
   "mimetype": "text/x-python",
   "name": "python",
   "nbconvert_exporter": "python",
   "pygments_lexer": "ipython3",
   "version": "3.8.1"
  },
  "toc": {
   "base_numbering": 1,
   "nav_menu": {},
   "number_sections": true,
   "sideBar": true,
   "skip_h1_title": false,
   "title_cell": "Table of Contents",
   "title_sidebar": "Contents",
   "toc_cell": false,
   "toc_position": {},
   "toc_section_display": true,
   "toc_window_display": false
  }
 },
 "nbformat": 4,
 "nbformat_minor": 4
}
