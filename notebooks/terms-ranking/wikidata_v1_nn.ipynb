{
 "cells": [
  {
   "cell_type": "markdown",
   "metadata": {},
   "source": [
    "# Process terms \n",
    "Process terms retrieved from the neural network model using `LIME`"
   ]
  },
  {
   "cell_type": "markdown",
   "metadata": {},
   "source": [
    "---\n",
    "## Load the retrieved terms"
   ]
  },
  {
   "cell_type": "code",
   "execution_count": 1,
   "metadata": {
    "ExecuteTime": {
     "end_time": "2020-11-05T19:30:20.124706Z",
     "start_time": "2020-11-05T19:30:20.118509Z"
    }
   },
   "outputs": [],
   "source": [
    "import os"
   ]
  },
  {
   "cell_type": "code",
   "execution_count": null,
   "metadata": {},
   "outputs": [],
   "source": [
    "version = 'v1'"
   ]
  },
  {
   "cell_type": "code",
   "execution_count": 2,
   "metadata": {
    "ExecuteTime": {
     "end_time": "2020-11-05T19:30:20.635704Z",
     "start_time": "2020-11-05T19:30:20.629432Z"
    }
   },
   "outputs": [],
   "source": [
    "root_dir = '../..'\n",
    "data_dir = 'data/terms'\n",
    "filename = f'relevant_terms_wikidata_nn_{version}.csv'\n",
    "filepath = os.path.join(root_dir, data_dir, filename)"
   ]
  },
  {
   "cell_type": "code",
   "execution_count": 3,
   "metadata": {
    "ExecuteTime": {
     "end_time": "2020-11-05T19:30:21.483984Z",
     "start_time": "2020-11-05T19:30:21.058163Z"
    }
   },
   "outputs": [],
   "source": [
    "import pandas as pd"
   ]
  },
  {
   "cell_type": "code",
   "execution_count": 4,
   "metadata": {
    "ExecuteTime": {
     "end_time": "2020-11-05T19:30:21.503364Z",
     "start_time": "2020-11-05T19:30:21.492384Z"
    }
   },
   "outputs": [],
   "source": [
    "terms_df = pd.read_csv(filepath)"
   ]
  },
  {
   "cell_type": "code",
   "execution_count": 5,
   "metadata": {
    "ExecuteTime": {
     "end_time": "2020-11-05T19:30:22.649888Z",
     "start_time": "2020-11-05T19:30:22.625733Z"
    }
   },
   "outputs": [
    {
     "data": {
      "text/html": [
       "<div>\n",
       "<style scoped>\n",
       "    .dataframe tbody tr th:only-of-type {\n",
       "        vertical-align: middle;\n",
       "    }\n",
       "\n",
       "    .dataframe tbody tr th {\n",
       "        vertical-align: top;\n",
       "    }\n",
       "\n",
       "    .dataframe thead th {\n",
       "        text-align: right;\n",
       "    }\n",
       "</style>\n",
       "<table border=\"1\" class=\"dataframe\">\n",
       "  <thead>\n",
       "    <tr style=\"text-align: right;\">\n",
       "      <th></th>\n",
       "      <th>label</th>\n",
       "      <th>term</th>\n",
       "      <th>weight</th>\n",
       "      <th>data_id</th>\n",
       "    </tr>\n",
       "  </thead>\n",
       "  <tbody>\n",
       "    <tr>\n",
       "      <th>0</th>\n",
       "      <td>Q64</td>\n",
       "      <td>germany</td>\n",
       "      <td>0.262304</td>\n",
       "      <td>0</td>\n",
       "    </tr>\n",
       "    <tr>\n",
       "      <th>1</th>\n",
       "      <td>Q64</td>\n",
       "      <td>berlin</td>\n",
       "      <td>0.167252</td>\n",
       "      <td>0</td>\n",
       "    </tr>\n",
       "    <tr>\n",
       "      <th>2</th>\n",
       "      <td>Q64</td>\n",
       "      <td>largest_city</td>\n",
       "      <td>0.165496</td>\n",
       "      <td>0</td>\n",
       "    </tr>\n",
       "    <tr>\n",
       "      <th>3</th>\n",
       "      <td>Q64</td>\n",
       "      <td>capital</td>\n",
       "      <td>0.155119</td>\n",
       "      <td>0</td>\n",
       "    </tr>\n",
       "    <tr>\n",
       "      <th>4</th>\n",
       "      <td>Q64</td>\n",
       "      <td>convention_venues</td>\n",
       "      <td>0.027901</td>\n",
       "      <td>1</td>\n",
       "    </tr>\n",
       "  </tbody>\n",
       "</table>\n",
       "</div>"
      ],
      "text/plain": [
       "  label               term    weight  data_id\n",
       "0   Q64            germany  0.262304        0\n",
       "1   Q64             berlin  0.167252        0\n",
       "2   Q64       largest_city  0.165496        0\n",
       "3   Q64            capital  0.155119        0\n",
       "4   Q64  convention_venues  0.027901        1"
      ]
     },
     "execution_count": 5,
     "metadata": {},
     "output_type": "execute_result"
    }
   ],
   "source": [
    "terms_df.head()"
   ]
  },
  {
   "cell_type": "markdown",
   "metadata": {},
   "source": [
    "---"
   ]
  },
  {
   "cell_type": "markdown",
   "metadata": {},
   "source": [
    "## Rank terms"
   ]
  },
  {
   "cell_type": "markdown",
   "metadata": {},
   "source": [
    "### Add `rank` column\n",
    "Add a ranking column by sorting each document's terms by their LIME weight in descending order"
   ]
  },
  {
   "cell_type": "code",
   "execution_count": 6,
   "metadata": {
    "ExecuteTime": {
     "end_time": "2020-11-05T19:30:26.545276Z",
     "start_time": "2020-11-05T19:30:26.525860Z"
    }
   },
   "outputs": [],
   "source": [
    "terms_df['rank'] = terms_df.groupby(['label', 'data_id'])['weight'].rank(ascending=False)"
   ]
  },
  {
   "cell_type": "code",
   "execution_count": 7,
   "metadata": {
    "ExecuteTime": {
     "end_time": "2020-11-05T19:30:26.992527Z",
     "start_time": "2020-11-05T19:30:26.974851Z"
    }
   },
   "outputs": [
    {
     "data": {
      "text/html": [
       "<div>\n",
       "<style scoped>\n",
       "    .dataframe tbody tr th:only-of-type {\n",
       "        vertical-align: middle;\n",
       "    }\n",
       "\n",
       "    .dataframe tbody tr th {\n",
       "        vertical-align: top;\n",
       "    }\n",
       "\n",
       "    .dataframe thead th {\n",
       "        text-align: right;\n",
       "    }\n",
       "</style>\n",
       "<table border=\"1\" class=\"dataframe\">\n",
       "  <thead>\n",
       "    <tr style=\"text-align: right;\">\n",
       "      <th></th>\n",
       "      <th>label</th>\n",
       "      <th>term</th>\n",
       "      <th>weight</th>\n",
       "      <th>data_id</th>\n",
       "      <th>rank</th>\n",
       "    </tr>\n",
       "  </thead>\n",
       "  <tbody>\n",
       "    <tr>\n",
       "      <th>0</th>\n",
       "      <td>Q64</td>\n",
       "      <td>germany</td>\n",
       "      <td>0.262304</td>\n",
       "      <td>0</td>\n",
       "      <td>1.0</td>\n",
       "    </tr>\n",
       "    <tr>\n",
       "      <th>1</th>\n",
       "      <td>Q64</td>\n",
       "      <td>berlin</td>\n",
       "      <td>0.167252</td>\n",
       "      <td>0</td>\n",
       "      <td>2.0</td>\n",
       "    </tr>\n",
       "    <tr>\n",
       "      <th>2</th>\n",
       "      <td>Q64</td>\n",
       "      <td>largest_city</td>\n",
       "      <td>0.165496</td>\n",
       "      <td>0</td>\n",
       "      <td>3.0</td>\n",
       "    </tr>\n",
       "    <tr>\n",
       "      <th>3</th>\n",
       "      <td>Q64</td>\n",
       "      <td>capital</td>\n",
       "      <td>0.155119</td>\n",
       "      <td>0</td>\n",
       "      <td>4.0</td>\n",
       "    </tr>\n",
       "    <tr>\n",
       "      <th>4</th>\n",
       "      <td>Q64</td>\n",
       "      <td>convention_venues</td>\n",
       "      <td>0.027901</td>\n",
       "      <td>1</td>\n",
       "      <td>1.0</td>\n",
       "    </tr>\n",
       "  </tbody>\n",
       "</table>\n",
       "</div>"
      ],
      "text/plain": [
       "  label               term    weight  data_id  rank\n",
       "0   Q64            germany  0.262304        0   1.0\n",
       "1   Q64             berlin  0.167252        0   2.0\n",
       "2   Q64       largest_city  0.165496        0   3.0\n",
       "3   Q64            capital  0.155119        0   4.0\n",
       "4   Q64  convention_venues  0.027901        1   1.0"
      ]
     },
     "execution_count": 7,
     "metadata": {},
     "output_type": "execute_result"
    }
   ],
   "source": [
    "terms_df.head()"
   ]
  },
  {
   "cell_type": "markdown",
   "metadata": {},
   "source": [
    "### Compute stats"
   ]
  },
  {
   "cell_type": "code",
   "execution_count": 8,
   "metadata": {
    "ExecuteTime": {
     "end_time": "2020-11-05T19:30:28.360093Z",
     "start_time": "2020-11-05T19:30:28.336615Z"
    }
   },
   "outputs": [],
   "source": [
    "terms_stats_df_1 = terms_df.groupby(['label', 'term']).agg({'weight': 'sum','rank': 'mean'})\n",
    "terms_stats_df_2 = terms_df.groupby(['label', 'term']).size().to_frame('count')\n",
    "terms_stats_df = terms_stats_df_1.join(terms_stats_df_2).reset_index()"
   ]
  },
  {
   "cell_type": "code",
   "execution_count": 9,
   "metadata": {
    "ExecuteTime": {
     "end_time": "2020-11-05T19:30:28.681983Z",
     "start_time": "2020-11-05T19:30:28.664561Z"
    }
   },
   "outputs": [
    {
     "data": {
      "text/html": [
       "<div>\n",
       "<style scoped>\n",
       "    .dataframe tbody tr th:only-of-type {\n",
       "        vertical-align: middle;\n",
       "    }\n",
       "\n",
       "    .dataframe tbody tr th {\n",
       "        vertical-align: top;\n",
       "    }\n",
       "\n",
       "    .dataframe thead th {\n",
       "        text-align: right;\n",
       "    }\n",
       "</style>\n",
       "<table border=\"1\" class=\"dataframe\">\n",
       "  <thead>\n",
       "    <tr style=\"text-align: right;\">\n",
       "      <th></th>\n",
       "      <th>label</th>\n",
       "      <th>term</th>\n",
       "      <th>weight</th>\n",
       "      <th>rank</th>\n",
       "      <th>count</th>\n",
       "    </tr>\n",
       "  </thead>\n",
       "  <tbody>\n",
       "    <tr>\n",
       "      <th>0</th>\n",
       "      <td>Q1086827</td>\n",
       "      <td>+23_4</td>\n",
       "      <td>0.073926</td>\n",
       "      <td>13.0</td>\n",
       "      <td>8</td>\n",
       "    </tr>\n",
       "    <tr>\n",
       "      <th>1</th>\n",
       "      <td>Q1086827</td>\n",
       "      <td>1927</td>\n",
       "      <td>0.155277</td>\n",
       "      <td>4.0</td>\n",
       "      <td>8</td>\n",
       "    </tr>\n",
       "    <tr>\n",
       "      <th>2</th>\n",
       "      <td>Q1086827</td>\n",
       "      <td>2010</td>\n",
       "      <td>0.082367</td>\n",
       "      <td>12.0</td>\n",
       "      <td>8</td>\n",
       "    </tr>\n",
       "    <tr>\n",
       "      <th>3</th>\n",
       "      <td>Q1086827</td>\n",
       "      <td>29</td>\n",
       "      <td>0.083359</td>\n",
       "      <td>11.0</td>\n",
       "      <td>8</td>\n",
       "    </tr>\n",
       "    <tr>\n",
       "      <th>4</th>\n",
       "      <td>Q1086827</td>\n",
       "      <td>477_+8_4</td>\n",
       "      <td>0.131093</td>\n",
       "      <td>6.0</td>\n",
       "      <td>8</td>\n",
       "    </tr>\n",
       "  </tbody>\n",
       "</table>\n",
       "</div>"
      ],
      "text/plain": [
       "      label      term    weight  rank  count\n",
       "0  Q1086827     +23_4  0.073926  13.0      8\n",
       "1  Q1086827      1927  0.155277   4.0      8\n",
       "2  Q1086827      2010  0.082367  12.0      8\n",
       "3  Q1086827        29  0.083359  11.0      8\n",
       "4  Q1086827  477_+8_4  0.131093   6.0      8"
      ]
     },
     "execution_count": 9,
     "metadata": {},
     "output_type": "execute_result"
    }
   ],
   "source": [
    "terms_stats_df.head()"
   ]
  },
  {
   "cell_type": "markdown",
   "metadata": {
    "ExecuteTime": {
     "end_time": "2020-09-22T21:07:22.493467Z",
     "start_time": "2020-09-22T21:07:22.478186Z"
    }
   },
   "source": [
    "### Ranking #1\n",
    "Rank terms by mean ranking (ascending) and total weight (descending)"
   ]
  },
  {
   "cell_type": "code",
   "execution_count": 12,
   "metadata": {
    "ExecuteTime": {
     "end_time": "2020-11-05T19:30:54.192447Z",
     "start_time": "2020-11-05T19:30:54.161082Z"
    }
   },
   "outputs": [],
   "source": [
    "ranking1_df = terms_stats_df.groupby('label')\\\n",
    "                .apply(lambda grp: grp.sort_values(by=['rank', 'weight'], ascending=[True, False]))\\\n",
    "                .reset_index(drop=True)"
   ]
  },
  {
   "cell_type": "code",
   "execution_count": 14,
   "metadata": {
    "ExecuteTime": {
     "end_time": "2020-11-05T19:31:09.038766Z",
     "start_time": "2020-11-05T19:31:09.015827Z"
    }
   },
   "outputs": [
    {
     "data": {
      "text/html": [
       "<div>\n",
       "<style scoped>\n",
       "    .dataframe tbody tr th:only-of-type {\n",
       "        vertical-align: middle;\n",
       "    }\n",
       "\n",
       "    .dataframe tbody tr th {\n",
       "        vertical-align: top;\n",
       "    }\n",
       "\n",
       "    .dataframe thead th {\n",
       "        text-align: right;\n",
       "    }\n",
       "</style>\n",
       "<table border=\"1\" class=\"dataframe\">\n",
       "  <thead>\n",
       "    <tr style=\"text-align: right;\">\n",
       "      <th></th>\n",
       "      <th>label</th>\n",
       "      <th>term</th>\n",
       "      <th>weight</th>\n",
       "      <th>rank</th>\n",
       "      <th>count</th>\n",
       "    </tr>\n",
       "  </thead>\n",
       "  <tbody>\n",
       "    <tr>\n",
       "      <th>0</th>\n",
       "      <td>Q1086827</td>\n",
       "      <td>borough</td>\n",
       "      <td>2.502292</td>\n",
       "      <td>1.000000</td>\n",
       "      <td>20</td>\n",
       "    </tr>\n",
       "    <tr>\n",
       "      <th>1</th>\n",
       "      <td>Q1086827</td>\n",
       "      <td>borough_population</td>\n",
       "      <td>0.198643</td>\n",
       "      <td>2.000000</td>\n",
       "      <td>8</td>\n",
       "    </tr>\n",
       "    <tr>\n",
       "      <th>2</th>\n",
       "      <td>Q1086827</td>\n",
       "      <td>jersey</td>\n",
       "      <td>2.220848</td>\n",
       "      <td>2.400000</td>\n",
       "      <td>20</td>\n",
       "    </tr>\n",
       "    <tr>\n",
       "      <th>3</th>\n",
       "      <td>Q1086827</td>\n",
       "      <td>camden</td>\n",
       "      <td>0.901545</td>\n",
       "      <td>4.000000</td>\n",
       "      <td>12</td>\n",
       "    </tr>\n",
       "    <tr>\n",
       "      <th>4</th>\n",
       "      <td>Q1086827</td>\n",
       "      <td>1927</td>\n",
       "      <td>0.155277</td>\n",
       "      <td>4.000000</td>\n",
       "      <td>8</td>\n",
       "    </tr>\n",
       "    <tr>\n",
       "      <th>21</th>\n",
       "      <td>Q1569850</td>\n",
       "      <td>county</td>\n",
       "      <td>0.547549</td>\n",
       "      <td>1.000000</td>\n",
       "      <td>5</td>\n",
       "    </tr>\n",
       "    <tr>\n",
       "      <th>22</th>\n",
       "      <td>Q1569850</td>\n",
       "      <td>lake</td>\n",
       "      <td>1.104643</td>\n",
       "      <td>2.000000</td>\n",
       "      <td>16</td>\n",
       "    </tr>\n",
       "    <tr>\n",
       "      <th>23</th>\n",
       "      <td>Q1569850</td>\n",
       "      <td>2010_census</td>\n",
       "      <td>0.961878</td>\n",
       "      <td>2.000000</td>\n",
       "      <td>4</td>\n",
       "    </tr>\n",
       "    <tr>\n",
       "      <th>24</th>\n",
       "      <td>Q1569850</td>\n",
       "      <td>wisconsin</td>\n",
       "      <td>1.139769</td>\n",
       "      <td>2.214286</td>\n",
       "      <td>14</td>\n",
       "    </tr>\n",
       "    <tr>\n",
       "      <th>25</th>\n",
       "      <td>Q1569850</td>\n",
       "      <td>fourth-class</td>\n",
       "      <td>2.303453</td>\n",
       "      <td>2.400000</td>\n",
       "      <td>20</td>\n",
       "    </tr>\n",
       "    <tr>\n",
       "      <th>34</th>\n",
       "      <td>Q614184</td>\n",
       "      <td>population</td>\n",
       "      <td>0.780092</td>\n",
       "      <td>1.000000</td>\n",
       "      <td>5</td>\n",
       "    </tr>\n",
       "    <tr>\n",
       "      <th>35</th>\n",
       "      <td>Q614184</td>\n",
       "      <td>human</td>\n",
       "      <td>3.743031</td>\n",
       "      <td>1.650000</td>\n",
       "      <td>20</td>\n",
       "    </tr>\n",
       "    <tr>\n",
       "      <th>36</th>\n",
       "      <td>Q614184</td>\n",
       "      <td>settlement</td>\n",
       "      <td>3.758655</td>\n",
       "      <td>1.850000</td>\n",
       "      <td>20</td>\n",
       "    </tr>\n",
       "    <tr>\n",
       "      <th>37</th>\n",
       "      <td>Q614184</td>\n",
       "      <td>district</td>\n",
       "      <td>0.277894</td>\n",
       "      <td>3.000000</td>\n",
       "      <td>3</td>\n",
       "    </tr>\n",
       "    <tr>\n",
       "      <th>38</th>\n",
       "      <td>Q614184</td>\n",
       "      <td>berlin</td>\n",
       "      <td>1.719279</td>\n",
       "      <td>3.400000</td>\n",
       "      <td>20</td>\n",
       "    </tr>\n",
       "    <tr>\n",
       "      <th>50</th>\n",
       "      <td>Q64</td>\n",
       "      <td>government_capital</td>\n",
       "      <td>0.203489</td>\n",
       "      <td>1.000000</td>\n",
       "      <td>1</td>\n",
       "    </tr>\n",
       "    <tr>\n",
       "      <th>51</th>\n",
       "      <td>Q64</td>\n",
       "      <td>convention_venues</td>\n",
       "      <td>0.047197</td>\n",
       "      <td>1.000000</td>\n",
       "      <td>2</td>\n",
       "    </tr>\n",
       "    <tr>\n",
       "      <th>52</th>\n",
       "      <td>Q64</td>\n",
       "      <td>germany</td>\n",
       "      <td>2.453303</td>\n",
       "      <td>1.692308</td>\n",
       "      <td>13</td>\n",
       "    </tr>\n",
       "    <tr>\n",
       "      <th>53</th>\n",
       "      <td>Q64</td>\n",
       "      <td>federal_capital</td>\n",
       "      <td>0.137834</td>\n",
       "      <td>2.000000</td>\n",
       "      <td>1</td>\n",
       "    </tr>\n",
       "    <tr>\n",
       "      <th>54</th>\n",
       "      <td>Q64</td>\n",
       "      <td>international_film_productions</td>\n",
       "      <td>0.081932</td>\n",
       "      <td>2.000000</td>\n",
       "      <td>1</td>\n",
       "    </tr>\n",
       "    <tr>\n",
       "      <th>97</th>\n",
       "      <td>Q821199</td>\n",
       "      <td>town</td>\n",
       "      <td>4.694788</td>\n",
       "      <td>1.350000</td>\n",
       "      <td>20</td>\n",
       "    </tr>\n",
       "    <tr>\n",
       "      <th>98</th>\n",
       "      <td>Q821199</td>\n",
       "      <td>united</td>\n",
       "      <td>3.680004</td>\n",
       "      <td>2.100000</td>\n",
       "      <td>20</td>\n",
       "    </tr>\n",
       "    <tr>\n",
       "      <th>99</th>\n",
       "      <td>Q821199</td>\n",
       "      <td>connecticut</td>\n",
       "      <td>1.666190</td>\n",
       "      <td>3.416667</td>\n",
       "      <td>12</td>\n",
       "    </tr>\n",
       "    <tr>\n",
       "      <th>100</th>\n",
       "      <td>Q821199</td>\n",
       "      <td>states</td>\n",
       "      <td>2.893885</td>\n",
       "      <td>3.500000</td>\n",
       "      <td>20</td>\n",
       "    </tr>\n",
       "    <tr>\n",
       "      <th>101</th>\n",
       "      <td>Q821199</td>\n",
       "      <td>berlin</td>\n",
       "      <td>2.108997</td>\n",
       "      <td>4.062500</td>\n",
       "      <td>16</td>\n",
       "    </tr>\n",
       "    <tr>\n",
       "      <th>108</th>\n",
       "      <td>Q821244</td>\n",
       "      <td>less_60_miles</td>\n",
       "      <td>0.132831</td>\n",
       "      <td>1.000000</td>\n",
       "      <td>1</td>\n",
       "    </tr>\n",
       "    <tr>\n",
       "      <th>109</th>\n",
       "      <td>Q821244</td>\n",
       "      <td>city</td>\n",
       "      <td>2.843850</td>\n",
       "      <td>1.950000</td>\n",
       "      <td>20</td>\n",
       "    </tr>\n",
       "    <tr>\n",
       "      <th>110</th>\n",
       "      <td>Q821244</td>\n",
       "      <td>northernmost_city</td>\n",
       "      <td>0.494986</td>\n",
       "      <td>2.000000</td>\n",
       "      <td>2</td>\n",
       "    </tr>\n",
       "    <tr>\n",
       "      <th>111</th>\n",
       "      <td>Q821244</td>\n",
       "      <td>north</td>\n",
       "      <td>0.066177</td>\n",
       "      <td>2.000000</td>\n",
       "      <td>2</td>\n",
       "    </tr>\n",
       "    <tr>\n",
       "      <th>112</th>\n",
       "      <td>Q821244</td>\n",
       "      <td>hampshire</td>\n",
       "      <td>2.041232</td>\n",
       "      <td>2.666667</td>\n",
       "      <td>15</td>\n",
       "    </tr>\n",
       "  </tbody>\n",
       "</table>\n",
       "</div>"
      ],
      "text/plain": [
       "        label                            term    weight      rank  count\n",
       "0    Q1086827                         borough  2.502292  1.000000     20\n",
       "1    Q1086827              borough_population  0.198643  2.000000      8\n",
       "2    Q1086827                          jersey  2.220848  2.400000     20\n",
       "3    Q1086827                          camden  0.901545  4.000000     12\n",
       "4    Q1086827                            1927  0.155277  4.000000      8\n",
       "21   Q1569850                          county  0.547549  1.000000      5\n",
       "22   Q1569850                            lake  1.104643  2.000000     16\n",
       "23   Q1569850                     2010_census  0.961878  2.000000      4\n",
       "24   Q1569850                       wisconsin  1.139769  2.214286     14\n",
       "25   Q1569850                    fourth-class  2.303453  2.400000     20\n",
       "34    Q614184                      population  0.780092  1.000000      5\n",
       "35    Q614184                           human  3.743031  1.650000     20\n",
       "36    Q614184                      settlement  3.758655  1.850000     20\n",
       "37    Q614184                        district  0.277894  3.000000      3\n",
       "38    Q614184                          berlin  1.719279  3.400000     20\n",
       "50        Q64              government_capital  0.203489  1.000000      1\n",
       "51        Q64               convention_venues  0.047197  1.000000      2\n",
       "52        Q64                         germany  2.453303  1.692308     13\n",
       "53        Q64                 federal_capital  0.137834  2.000000      1\n",
       "54        Q64  international_film_productions  0.081932  2.000000      1\n",
       "97    Q821199                            town  4.694788  1.350000     20\n",
       "98    Q821199                          united  3.680004  2.100000     20\n",
       "99    Q821199                     connecticut  1.666190  3.416667     12\n",
       "100   Q821199                          states  2.893885  3.500000     20\n",
       "101   Q821199                          berlin  2.108997  4.062500     16\n",
       "108   Q821244                   less_60_miles  0.132831  1.000000      1\n",
       "109   Q821244                            city  2.843850  1.950000     20\n",
       "110   Q821244               northernmost_city  0.494986  2.000000      2\n",
       "111   Q821244                           north  0.066177  2.000000      2\n",
       "112   Q821244                       hampshire  2.041232  2.666667     15"
      ]
     },
     "execution_count": 14,
     "metadata": {},
     "output_type": "execute_result"
    }
   ],
   "source": [
    "ranking1_df.groupby('label').head(5)"
   ]
  },
  {
   "cell_type": "markdown",
   "metadata": {},
   "source": [
    "---"
   ]
  },
  {
   "cell_type": "markdown",
   "metadata": {},
   "source": [
    "## Ranking #2"
   ]
  },
  {
   "cell_type": "code",
   "execution_count": 15,
   "metadata": {
    "ExecuteTime": {
     "end_time": "2020-11-05T19:32:23.025073Z",
     "start_time": "2020-11-05T19:32:23.010772Z"
    }
   },
   "outputs": [],
   "source": [
    "terms_stats_df['score'] = terms_stats_df.apply(lambda x: x['count']/(x['rank'])**2, axis=1)"
   ]
  },
  {
   "cell_type": "code",
   "execution_count": 16,
   "metadata": {
    "ExecuteTime": {
     "end_time": "2020-11-05T19:32:23.411177Z",
     "start_time": "2020-11-05T19:32:23.393070Z"
    }
   },
   "outputs": [
    {
     "data": {
      "text/html": [
       "<div>\n",
       "<style scoped>\n",
       "    .dataframe tbody tr th:only-of-type {\n",
       "        vertical-align: middle;\n",
       "    }\n",
       "\n",
       "    .dataframe tbody tr th {\n",
       "        vertical-align: top;\n",
       "    }\n",
       "\n",
       "    .dataframe thead th {\n",
       "        text-align: right;\n",
       "    }\n",
       "</style>\n",
       "<table border=\"1\" class=\"dataframe\">\n",
       "  <thead>\n",
       "    <tr style=\"text-align: right;\">\n",
       "      <th></th>\n",
       "      <th>label</th>\n",
       "      <th>term</th>\n",
       "      <th>weight</th>\n",
       "      <th>rank</th>\n",
       "      <th>count</th>\n",
       "      <th>score</th>\n",
       "    </tr>\n",
       "  </thead>\n",
       "  <tbody>\n",
       "    <tr>\n",
       "      <th>0</th>\n",
       "      <td>Q1086827</td>\n",
       "      <td>+23_4</td>\n",
       "      <td>0.073926</td>\n",
       "      <td>13.0</td>\n",
       "      <td>8</td>\n",
       "      <td>0.047337</td>\n",
       "    </tr>\n",
       "    <tr>\n",
       "      <th>1</th>\n",
       "      <td>Q1086827</td>\n",
       "      <td>1927</td>\n",
       "      <td>0.155277</td>\n",
       "      <td>4.0</td>\n",
       "      <td>8</td>\n",
       "      <td>0.500000</td>\n",
       "    </tr>\n",
       "    <tr>\n",
       "      <th>2</th>\n",
       "      <td>Q1086827</td>\n",
       "      <td>2010</td>\n",
       "      <td>0.082367</td>\n",
       "      <td>12.0</td>\n",
       "      <td>8</td>\n",
       "      <td>0.055556</td>\n",
       "    </tr>\n",
       "    <tr>\n",
       "      <th>3</th>\n",
       "      <td>Q1086827</td>\n",
       "      <td>29</td>\n",
       "      <td>0.083359</td>\n",
       "      <td>11.0</td>\n",
       "      <td>8</td>\n",
       "      <td>0.066116</td>\n",
       "    </tr>\n",
       "    <tr>\n",
       "      <th>4</th>\n",
       "      <td>Q1086827</td>\n",
       "      <td>477_+8_4</td>\n",
       "      <td>0.131093</td>\n",
       "      <td>6.0</td>\n",
       "      <td>8</td>\n",
       "      <td>0.222222</td>\n",
       "    </tr>\n",
       "  </tbody>\n",
       "</table>\n",
       "</div>"
      ],
      "text/plain": [
       "      label      term    weight  rank  count     score\n",
       "0  Q1086827     +23_4  0.073926  13.0      8  0.047337\n",
       "1  Q1086827      1927  0.155277   4.0      8  0.500000\n",
       "2  Q1086827      2010  0.082367  12.0      8  0.055556\n",
       "3  Q1086827        29  0.083359  11.0      8  0.066116\n",
       "4  Q1086827  477_+8_4  0.131093   6.0      8  0.222222"
      ]
     },
     "execution_count": 16,
     "metadata": {},
     "output_type": "execute_result"
    }
   ],
   "source": [
    "terms_stats_df.head()"
   ]
  },
  {
   "cell_type": "code",
   "execution_count": 17,
   "metadata": {
    "ExecuteTime": {
     "end_time": "2020-11-05T19:32:38.050376Z",
     "start_time": "2020-11-05T19:32:38.026446Z"
    }
   },
   "outputs": [],
   "source": [
    "ranking2_df = terms_stats_df.groupby('label')\\\n",
    "                .apply(lambda grp: grp.sort_values(by='score', ascending=False))\\\n",
    "                .reset_index(drop=True)"
   ]
  },
  {
   "cell_type": "code",
   "execution_count": 25,
   "metadata": {
    "ExecuteTime": {
     "end_time": "2020-11-05T19:39:44.538078Z",
     "start_time": "2020-11-05T19:39:44.510661Z"
    }
   },
   "outputs": [
    {
     "data": {
      "text/html": [
       "<div>\n",
       "<style scoped>\n",
       "    .dataframe tbody tr th:only-of-type {\n",
       "        vertical-align: middle;\n",
       "    }\n",
       "\n",
       "    .dataframe tbody tr th {\n",
       "        vertical-align: top;\n",
       "    }\n",
       "\n",
       "    .dataframe thead th {\n",
       "        text-align: right;\n",
       "    }\n",
       "</style>\n",
       "<table border=\"1\" class=\"dataframe\">\n",
       "  <thead>\n",
       "    <tr style=\"text-align: right;\">\n",
       "      <th></th>\n",
       "      <th>label</th>\n",
       "      <th>term</th>\n",
       "      <th>weight</th>\n",
       "      <th>rank</th>\n",
       "      <th>count</th>\n",
       "      <th>score</th>\n",
       "    </tr>\n",
       "  </thead>\n",
       "  <tbody>\n",
       "    <tr>\n",
       "      <th>0</th>\n",
       "      <td>Q1086827</td>\n",
       "      <td>borough</td>\n",
       "      <td>2.502292</td>\n",
       "      <td>1.000000</td>\n",
       "      <td>20</td>\n",
       "      <td>20.000000</td>\n",
       "    </tr>\n",
       "    <tr>\n",
       "      <th>1</th>\n",
       "      <td>Q1086827</td>\n",
       "      <td>jersey</td>\n",
       "      <td>2.220848</td>\n",
       "      <td>2.400000</td>\n",
       "      <td>20</td>\n",
       "      <td>3.472222</td>\n",
       "    </tr>\n",
       "    <tr>\n",
       "      <th>2</th>\n",
       "      <td>Q1086827</td>\n",
       "      <td>borough_population</td>\n",
       "      <td>0.198643</td>\n",
       "      <td>2.000000</td>\n",
       "      <td>8</td>\n",
       "      <td>2.000000</td>\n",
       "    </tr>\n",
       "    <tr>\n",
       "      <th>3</th>\n",
       "      <td>Q1086827</td>\n",
       "      <td>camden</td>\n",
       "      <td>0.901545</td>\n",
       "      <td>4.000000</td>\n",
       "      <td>12</td>\n",
       "      <td>0.750000</td>\n",
       "    </tr>\n",
       "    <tr>\n",
       "      <th>4</th>\n",
       "      <td>Q1086827</td>\n",
       "      <td>new</td>\n",
       "      <td>1.134633</td>\n",
       "      <td>5.400000</td>\n",
       "      <td>20</td>\n",
       "      <td>0.685871</td>\n",
       "    </tr>\n",
       "    <tr>\n",
       "      <th>21</th>\n",
       "      <td>Q1569850</td>\n",
       "      <td>county</td>\n",
       "      <td>0.547549</td>\n",
       "      <td>1.000000</td>\n",
       "      <td>5</td>\n",
       "      <td>5.000000</td>\n",
       "    </tr>\n",
       "    <tr>\n",
       "      <th>22</th>\n",
       "      <td>Q1569850</td>\n",
       "      <td>lake</td>\n",
       "      <td>1.104643</td>\n",
       "      <td>2.000000</td>\n",
       "      <td>16</td>\n",
       "      <td>4.000000</td>\n",
       "    </tr>\n",
       "    <tr>\n",
       "      <th>23</th>\n",
       "      <td>Q1569850</td>\n",
       "      <td>fourth-class</td>\n",
       "      <td>2.303453</td>\n",
       "      <td>2.400000</td>\n",
       "      <td>20</td>\n",
       "      <td>3.472222</td>\n",
       "    </tr>\n",
       "    <tr>\n",
       "      <th>24</th>\n",
       "      <td>Q1569850</td>\n",
       "      <td>wisconsin</td>\n",
       "      <td>1.139769</td>\n",
       "      <td>2.214286</td>\n",
       "      <td>14</td>\n",
       "      <td>2.855359</td>\n",
       "    </tr>\n",
       "    <tr>\n",
       "      <th>25</th>\n",
       "      <td>Q1569850</td>\n",
       "      <td>city</td>\n",
       "      <td>1.594706</td>\n",
       "      <td>3.800000</td>\n",
       "      <td>20</td>\n",
       "      <td>1.385042</td>\n",
       "    </tr>\n",
       "    <tr>\n",
       "      <th>34</th>\n",
       "      <td>Q614184</td>\n",
       "      <td>human</td>\n",
       "      <td>3.743031</td>\n",
       "      <td>1.650000</td>\n",
       "      <td>20</td>\n",
       "      <td>7.346189</td>\n",
       "    </tr>\n",
       "    <tr>\n",
       "      <th>35</th>\n",
       "      <td>Q614184</td>\n",
       "      <td>settlement</td>\n",
       "      <td>3.758655</td>\n",
       "      <td>1.850000</td>\n",
       "      <td>20</td>\n",
       "      <td>5.843682</td>\n",
       "    </tr>\n",
       "    <tr>\n",
       "      <th>36</th>\n",
       "      <td>Q614184</td>\n",
       "      <td>population</td>\n",
       "      <td>0.780092</td>\n",
       "      <td>1.000000</td>\n",
       "      <td>5</td>\n",
       "      <td>5.000000</td>\n",
       "    </tr>\n",
       "    <tr>\n",
       "      <th>37</th>\n",
       "      <td>Q614184</td>\n",
       "      <td>berlin</td>\n",
       "      <td>1.719279</td>\n",
       "      <td>3.400000</td>\n",
       "      <td>20</td>\n",
       "      <td>1.730104</td>\n",
       "    </tr>\n",
       "    <tr>\n",
       "      <th>38</th>\n",
       "      <td>Q614184</td>\n",
       "      <td>statistical</td>\n",
       "      <td>0.457449</td>\n",
       "      <td>4.000000</td>\n",
       "      <td>7</td>\n",
       "      <td>0.437500</td>\n",
       "    </tr>\n",
       "    <tr>\n",
       "      <th>50</th>\n",
       "      <td>Q64</td>\n",
       "      <td>germany</td>\n",
       "      <td>2.453303</td>\n",
       "      <td>1.692308</td>\n",
       "      <td>13</td>\n",
       "      <td>4.539256</td>\n",
       "    </tr>\n",
       "    <tr>\n",
       "      <th>51</th>\n",
       "      <td>Q64</td>\n",
       "      <td>berlin</td>\n",
       "      <td>2.158105</td>\n",
       "      <td>2.157895</td>\n",
       "      <td>19</td>\n",
       "      <td>4.080309</td>\n",
       "    </tr>\n",
       "    <tr>\n",
       "      <th>52</th>\n",
       "      <td>Q64</td>\n",
       "      <td>convention_venues</td>\n",
       "      <td>0.047197</td>\n",
       "      <td>1.000000</td>\n",
       "      <td>2</td>\n",
       "      <td>2.000000</td>\n",
       "    </tr>\n",
       "    <tr>\n",
       "      <th>53</th>\n",
       "      <td>Q64</td>\n",
       "      <td>capital</td>\n",
       "      <td>1.254432</td>\n",
       "      <td>2.300000</td>\n",
       "      <td>10</td>\n",
       "      <td>1.890359</td>\n",
       "    </tr>\n",
       "    <tr>\n",
       "      <th>54</th>\n",
       "      <td>Q64</td>\n",
       "      <td>government_capital</td>\n",
       "      <td>0.203489</td>\n",
       "      <td>1.000000</td>\n",
       "      <td>1</td>\n",
       "      <td>1.000000</td>\n",
       "    </tr>\n",
       "    <tr>\n",
       "      <th>97</th>\n",
       "      <td>Q821199</td>\n",
       "      <td>town</td>\n",
       "      <td>4.694788</td>\n",
       "      <td>1.350000</td>\n",
       "      <td>20</td>\n",
       "      <td>10.973937</td>\n",
       "    </tr>\n",
       "    <tr>\n",
       "      <th>98</th>\n",
       "      <td>Q821199</td>\n",
       "      <td>united</td>\n",
       "      <td>3.680004</td>\n",
       "      <td>2.100000</td>\n",
       "      <td>20</td>\n",
       "      <td>4.535147</td>\n",
       "    </tr>\n",
       "    <tr>\n",
       "      <th>99</th>\n",
       "      <td>Q821199</td>\n",
       "      <td>states</td>\n",
       "      <td>2.893885</td>\n",
       "      <td>3.500000</td>\n",
       "      <td>20</td>\n",
       "      <td>1.632653</td>\n",
       "    </tr>\n",
       "    <tr>\n",
       "      <th>100</th>\n",
       "      <td>Q821199</td>\n",
       "      <td>connecticut</td>\n",
       "      <td>1.666190</td>\n",
       "      <td>3.416667</td>\n",
       "      <td>12</td>\n",
       "      <td>1.027960</td>\n",
       "    </tr>\n",
       "    <tr>\n",
       "      <th>101</th>\n",
       "      <td>Q821199</td>\n",
       "      <td>berlin</td>\n",
       "      <td>2.108997</td>\n",
       "      <td>4.062500</td>\n",
       "      <td>16</td>\n",
       "      <td>0.969467</td>\n",
       "    </tr>\n",
       "    <tr>\n",
       "      <th>108</th>\n",
       "      <td>Q821244</td>\n",
       "      <td>city</td>\n",
       "      <td>2.843850</td>\n",
       "      <td>1.950000</td>\n",
       "      <td>20</td>\n",
       "      <td>5.259698</td>\n",
       "    </tr>\n",
       "    <tr>\n",
       "      <th>109</th>\n",
       "      <td>Q821244</td>\n",
       "      <td>hampshire</td>\n",
       "      <td>2.041232</td>\n",
       "      <td>2.666667</td>\n",
       "      <td>15</td>\n",
       "      <td>2.109375</td>\n",
       "    </tr>\n",
       "    <tr>\n",
       "      <th>110</th>\n",
       "      <td>Q821244</td>\n",
       "      <td>united</td>\n",
       "      <td>2.070857</td>\n",
       "      <td>4.200000</td>\n",
       "      <td>20</td>\n",
       "      <td>1.133787</td>\n",
       "    </tr>\n",
       "    <tr>\n",
       "      <th>111</th>\n",
       "      <td>Q821244</td>\n",
       "      <td>less_60_miles</td>\n",
       "      <td>0.132831</td>\n",
       "      <td>1.000000</td>\n",
       "      <td>1</td>\n",
       "      <td>1.000000</td>\n",
       "    </tr>\n",
       "    <tr>\n",
       "      <th>112</th>\n",
       "      <td>Q821244</td>\n",
       "      <td>states</td>\n",
       "      <td>1.567765</td>\n",
       "      <td>5.611111</td>\n",
       "      <td>18</td>\n",
       "      <td>0.571709</td>\n",
       "    </tr>\n",
       "  </tbody>\n",
       "</table>\n",
       "</div>"
      ],
      "text/plain": [
       "        label                term    weight      rank  count      score\n",
       "0    Q1086827             borough  2.502292  1.000000     20  20.000000\n",
       "1    Q1086827              jersey  2.220848  2.400000     20   3.472222\n",
       "2    Q1086827  borough_population  0.198643  2.000000      8   2.000000\n",
       "3    Q1086827              camden  0.901545  4.000000     12   0.750000\n",
       "4    Q1086827                 new  1.134633  5.400000     20   0.685871\n",
       "21   Q1569850              county  0.547549  1.000000      5   5.000000\n",
       "22   Q1569850                lake  1.104643  2.000000     16   4.000000\n",
       "23   Q1569850        fourth-class  2.303453  2.400000     20   3.472222\n",
       "24   Q1569850           wisconsin  1.139769  2.214286     14   2.855359\n",
       "25   Q1569850                city  1.594706  3.800000     20   1.385042\n",
       "34    Q614184               human  3.743031  1.650000     20   7.346189\n",
       "35    Q614184          settlement  3.758655  1.850000     20   5.843682\n",
       "36    Q614184          population  0.780092  1.000000      5   5.000000\n",
       "37    Q614184              berlin  1.719279  3.400000     20   1.730104\n",
       "38    Q614184         statistical  0.457449  4.000000      7   0.437500\n",
       "50        Q64             germany  2.453303  1.692308     13   4.539256\n",
       "51        Q64              berlin  2.158105  2.157895     19   4.080309\n",
       "52        Q64   convention_venues  0.047197  1.000000      2   2.000000\n",
       "53        Q64             capital  1.254432  2.300000     10   1.890359\n",
       "54        Q64  government_capital  0.203489  1.000000      1   1.000000\n",
       "97    Q821199                town  4.694788  1.350000     20  10.973937\n",
       "98    Q821199              united  3.680004  2.100000     20   4.535147\n",
       "99    Q821199              states  2.893885  3.500000     20   1.632653\n",
       "100   Q821199         connecticut  1.666190  3.416667     12   1.027960\n",
       "101   Q821199              berlin  2.108997  4.062500     16   0.969467\n",
       "108   Q821244                city  2.843850  1.950000     20   5.259698\n",
       "109   Q821244           hampshire  2.041232  2.666667     15   2.109375\n",
       "110   Q821244              united  2.070857  4.200000     20   1.133787\n",
       "111   Q821244       less_60_miles  0.132831  1.000000      1   1.000000\n",
       "112   Q821244              states  1.567765  5.611111     18   0.571709"
      ]
     },
     "execution_count": 25,
     "metadata": {},
     "output_type": "execute_result"
    }
   ],
   "source": [
    "ranking2_df.groupby('label').head(5) #.reset_index(drop=True)[['label', 'term']].to_excel('test.xlsx')"
   ]
  },
  {
   "cell_type": "markdown",
   "metadata": {},
   "source": [
    "---"
   ]
  },
  {
   "cell_type": "markdown",
   "metadata": {},
   "source": [
    "## Save selected ranking"
   ]
  },
  {
   "cell_type": "code",
   "execution_count": 19,
   "metadata": {
    "ExecuteTime": {
     "end_time": "2020-11-05T19:33:37.552538Z",
     "start_time": "2020-11-05T19:33:37.546734Z"
    }
   },
   "outputs": [],
   "source": [
    "ranking_filename = f'ranking_wikipedia_nn_{version}.xlsx'\n",
    "ranking_filepath = os.path.join(root_dir, data_dir, ranking_filename)"
   ]
  },
  {
   "cell_type": "code",
   "execution_count": 20,
   "metadata": {
    "ExecuteTime": {
     "end_time": "2020-11-05T19:33:38.046192Z",
     "start_time": "2020-11-05T19:33:38.038267Z"
    }
   },
   "outputs": [
    {
     "data": {
      "text/plain": [
       "'../../data/terms/ranking_wikipedia_nn.xlsx'"
      ]
     },
     "execution_count": 20,
     "metadata": {},
     "output_type": "execute_result"
    }
   ],
   "source": [
    "ranking_filepath"
   ]
  },
  {
   "cell_type": "code",
   "execution_count": 21,
   "metadata": {
    "ExecuteTime": {
     "end_time": "2020-09-26T12:35:37.030022Z",
     "start_time": "2020-09-26T12:35:36.347391Z"
    }
   },
   "outputs": [],
   "source": [
    "ranking1_df.to_excel(ranking_filepath)"
   ]
  },
  {
   "cell_type": "markdown",
   "metadata": {},
   "source": [
    "---"
   ]
  }
 ],
 "metadata": {
  "kernelspec": {
   "display_name": "Python 3",
   "language": "python",
   "name": "python3"
  },
  "language_info": {
   "codemirror_mode": {
    "name": "ipython",
    "version": 3
   },
   "file_extension": ".py",
   "mimetype": "text/x-python",
   "name": "python",
   "nbconvert_exporter": "python",
   "pygments_lexer": "ipython3",
   "version": "3.8.1"
  },
  "toc": {
   "base_numbering": 1,
   "nav_menu": {},
   "number_sections": true,
   "sideBar": true,
   "skip_h1_title": false,
   "title_cell": "Table of Contents",
   "title_sidebar": "Contents",
   "toc_cell": false,
   "toc_position": {},
   "toc_section_display": true,
   "toc_window_display": false
  }
 },
 "nbformat": 4,
 "nbformat_minor": 4
}
