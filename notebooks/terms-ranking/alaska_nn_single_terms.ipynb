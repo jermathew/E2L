{
 "cells": [
  {
   "cell_type": "markdown",
   "metadata": {},
   "source": [
    "# Process terms \n",
    "Process terms retrieved from the neural network model using `LIME`"
   ]
  },
  {
   "cell_type": "markdown",
   "metadata": {},
   "source": [
    "---"
   ]
  },
  {
   "cell_type": "markdown",
   "metadata": {},
   "source": [
    "## Load the retrieved terms"
   ]
  },
  {
   "cell_type": "code",
   "execution_count": 1,
   "metadata": {
    "ExecuteTime": {
     "end_time": "2020-11-25T09:42:11.915957Z",
     "start_time": "2020-11-25T09:42:11.911511Z"
    }
   },
   "outputs": [],
   "source": [
    "import os"
   ]
  },
  {
   "cell_type": "code",
   "execution_count": 2,
   "metadata": {
    "ExecuteTime": {
     "end_time": "2020-11-25T09:42:12.116958Z",
     "start_time": "2020-11-25T09:42:12.112244Z"
    }
   },
   "outputs": [],
   "source": [
    "root_dir = '../..'\n",
    "data_dir = 'data/terms'\n",
    "filename = 'relevant_terms_alaska_nn.csv'\n",
    "filepath = os.path.join(root_dir, data_dir, filename)"
   ]
  },
  {
   "cell_type": "code",
   "execution_count": 3,
   "metadata": {
    "ExecuteTime": {
     "end_time": "2020-11-25T09:42:12.599582Z",
     "start_time": "2020-11-25T09:42:12.283663Z"
    }
   },
   "outputs": [],
   "source": [
    "import pandas as pd"
   ]
  },
  {
   "cell_type": "code",
   "execution_count": 4,
   "metadata": {
    "ExecuteTime": {
     "end_time": "2020-11-25T09:42:12.612744Z",
     "start_time": "2020-11-25T09:42:12.601538Z"
    }
   },
   "outputs": [],
   "source": [
    "terms_df = pd.read_csv(filepath)"
   ]
  },
  {
   "cell_type": "code",
   "execution_count": 5,
   "metadata": {
    "ExecuteTime": {
     "end_time": "2020-11-25T09:42:12.756718Z",
     "start_time": "2020-11-25T09:42:12.728783Z"
    }
   },
   "outputs": [
    {
     "data": {
      "text/html": [
       "<div>\n",
       "<style scoped>\n",
       "    .dataframe tbody tr th:only-of-type {\n",
       "        vertical-align: middle;\n",
       "    }\n",
       "\n",
       "    .dataframe tbody tr th {\n",
       "        vertical-align: top;\n",
       "    }\n",
       "\n",
       "    .dataframe thead th {\n",
       "        text-align: right;\n",
       "    }\n",
       "</style>\n",
       "<table border=\"1\" class=\"dataframe\">\n",
       "  <thead>\n",
       "    <tr style=\"text-align: right;\">\n",
       "      <th></th>\n",
       "      <th>label</th>\n",
       "      <th>term</th>\n",
       "      <th>weight</th>\n",
       "      <th>data_id</th>\n",
       "    </tr>\n",
       "  </thead>\n",
       "  <tbody>\n",
       "    <tr>\n",
       "      <th>0</th>\n",
       "      <td>ENTITY#44</td>\n",
       "      <td>nikon_d3200_dslr_camera</td>\n",
       "      <td>0.563572</td>\n",
       "      <td>0</td>\n",
       "    </tr>\n",
       "    <tr>\n",
       "      <th>1</th>\n",
       "      <td>ENTITY#44</td>\n",
       "      <td>18_55mm</td>\n",
       "      <td>0.265820</td>\n",
       "      <td>0</td>\n",
       "    </tr>\n",
       "    <tr>\n",
       "      <th>2</th>\n",
       "      <td>ENTITY#44</td>\n",
       "      <td>55_200mm_lenses</td>\n",
       "      <td>0.175857</td>\n",
       "      <td>0</td>\n",
       "    </tr>\n",
       "    <tr>\n",
       "      <th>3</th>\n",
       "      <td>ENTITY#44</td>\n",
       "      <td>black_ebay</td>\n",
       "      <td>0.129290</td>\n",
       "      <td>0</td>\n",
       "    </tr>\n",
       "    <tr>\n",
       "      <th>4</th>\n",
       "      <td>ENTITY#44</td>\n",
       "      <td>nikon_d3200</td>\n",
       "      <td>0.812544</td>\n",
       "      <td>1</td>\n",
       "    </tr>\n",
       "  </tbody>\n",
       "</table>\n",
       "</div>"
      ],
      "text/plain": [
       "       label                     term    weight  data_id\n",
       "0  ENTITY#44  nikon_d3200_dslr_camera  0.563572        0\n",
       "1  ENTITY#44                  18_55mm  0.265820        0\n",
       "2  ENTITY#44          55_200mm_lenses  0.175857        0\n",
       "3  ENTITY#44               black_ebay  0.129290        0\n",
       "4  ENTITY#44              nikon_d3200  0.812544        1"
      ]
     },
     "execution_count": 5,
     "metadata": {},
     "output_type": "execute_result"
    }
   ],
   "source": [
    "terms_df.head()"
   ]
  },
  {
   "cell_type": "markdown",
   "metadata": {},
   "source": [
    "---"
   ]
  },
  {
   "cell_type": "markdown",
   "metadata": {},
   "source": [
    "## Rank terms"
   ]
  },
  {
   "cell_type": "markdown",
   "metadata": {},
   "source": [
    "### Split noun chunks into single terms"
   ]
  },
  {
   "cell_type": "code",
   "execution_count": 6,
   "metadata": {
    "ExecuteTime": {
     "end_time": "2020-11-25T09:42:14.122685Z",
     "start_time": "2020-11-25T09:42:14.114831Z"
    }
   },
   "outputs": [],
   "source": [
    "def split_noun_chunks(input_df):\n",
    "    df_data = []\n",
    "    \n",
    "    for _, row in input_df.iterrows():\n",
    "        noun_chunk = row['term']\n",
    "\n",
    "        for term in noun_chunk.split('_'):\n",
    "            data_dict = {'label': row['label'], \n",
    "                         'term': term, \n",
    "                         'weight': row['weight'], \n",
    "                         'data_id': row['data_id']}\n",
    "            df_data.append(data_dict)\n",
    "    \n",
    "    return pd.DataFrame(df_data)"
   ]
  },
  {
   "cell_type": "code",
   "execution_count": 7,
   "metadata": {
    "ExecuteTime": {
     "end_time": "2020-11-25T09:42:15.503146Z",
     "start_time": "2020-11-25T09:42:14.464332Z"
    }
   },
   "outputs": [],
   "source": [
    "terms_df = split_noun_chunks(terms_df)"
   ]
  },
  {
   "cell_type": "code",
   "execution_count": 8,
   "metadata": {
    "ExecuteTime": {
     "end_time": "2020-11-25T09:42:16.964989Z",
     "start_time": "2020-11-25T09:42:16.942445Z"
    }
   },
   "outputs": [
    {
     "data": {
      "text/html": [
       "<div>\n",
       "<style scoped>\n",
       "    .dataframe tbody tr th:only-of-type {\n",
       "        vertical-align: middle;\n",
       "    }\n",
       "\n",
       "    .dataframe tbody tr th {\n",
       "        vertical-align: top;\n",
       "    }\n",
       "\n",
       "    .dataframe thead th {\n",
       "        text-align: right;\n",
       "    }\n",
       "</style>\n",
       "<table border=\"1\" class=\"dataframe\">\n",
       "  <thead>\n",
       "    <tr style=\"text-align: right;\">\n",
       "      <th></th>\n",
       "      <th>label</th>\n",
       "      <th>term</th>\n",
       "      <th>weight</th>\n",
       "      <th>data_id</th>\n",
       "    </tr>\n",
       "  </thead>\n",
       "  <tbody>\n",
       "    <tr>\n",
       "      <th>0</th>\n",
       "      <td>ENTITY#44</td>\n",
       "      <td>nikon</td>\n",
       "      <td>0.563572</td>\n",
       "      <td>0</td>\n",
       "    </tr>\n",
       "    <tr>\n",
       "      <th>1</th>\n",
       "      <td>ENTITY#44</td>\n",
       "      <td>d3200</td>\n",
       "      <td>0.563572</td>\n",
       "      <td>0</td>\n",
       "    </tr>\n",
       "    <tr>\n",
       "      <th>2</th>\n",
       "      <td>ENTITY#44</td>\n",
       "      <td>dslr</td>\n",
       "      <td>0.563572</td>\n",
       "      <td>0</td>\n",
       "    </tr>\n",
       "    <tr>\n",
       "      <th>3</th>\n",
       "      <td>ENTITY#44</td>\n",
       "      <td>camera</td>\n",
       "      <td>0.563572</td>\n",
       "      <td>0</td>\n",
       "    </tr>\n",
       "    <tr>\n",
       "      <th>4</th>\n",
       "      <td>ENTITY#44</td>\n",
       "      <td>18</td>\n",
       "      <td>0.265820</td>\n",
       "      <td>0</td>\n",
       "    </tr>\n",
       "    <tr>\n",
       "      <th>5</th>\n",
       "      <td>ENTITY#44</td>\n",
       "      <td>55mm</td>\n",
       "      <td>0.265820</td>\n",
       "      <td>0</td>\n",
       "    </tr>\n",
       "    <tr>\n",
       "      <th>6</th>\n",
       "      <td>ENTITY#44</td>\n",
       "      <td>55</td>\n",
       "      <td>0.175857</td>\n",
       "      <td>0</td>\n",
       "    </tr>\n",
       "    <tr>\n",
       "      <th>7</th>\n",
       "      <td>ENTITY#44</td>\n",
       "      <td>200mm</td>\n",
       "      <td>0.175857</td>\n",
       "      <td>0</td>\n",
       "    </tr>\n",
       "    <tr>\n",
       "      <th>8</th>\n",
       "      <td>ENTITY#44</td>\n",
       "      <td>lenses</td>\n",
       "      <td>0.175857</td>\n",
       "      <td>0</td>\n",
       "    </tr>\n",
       "    <tr>\n",
       "      <th>9</th>\n",
       "      <td>ENTITY#44</td>\n",
       "      <td>black</td>\n",
       "      <td>0.129290</td>\n",
       "      <td>0</td>\n",
       "    </tr>\n",
       "  </tbody>\n",
       "</table>\n",
       "</div>"
      ],
      "text/plain": [
       "       label    term    weight  data_id\n",
       "0  ENTITY#44   nikon  0.563572        0\n",
       "1  ENTITY#44   d3200  0.563572        0\n",
       "2  ENTITY#44    dslr  0.563572        0\n",
       "3  ENTITY#44  camera  0.563572        0\n",
       "4  ENTITY#44      18  0.265820        0\n",
       "5  ENTITY#44    55mm  0.265820        0\n",
       "6  ENTITY#44      55  0.175857        0\n",
       "7  ENTITY#44   200mm  0.175857        0\n",
       "8  ENTITY#44  lenses  0.175857        0\n",
       "9  ENTITY#44   black  0.129290        0"
      ]
     },
     "execution_count": 8,
     "metadata": {},
     "output_type": "execute_result"
    }
   ],
   "source": [
    "terms_df.head(10)"
   ]
  },
  {
   "cell_type": "markdown",
   "metadata": {},
   "source": [
    "### Aggregate (sum) LIME weights for each term"
   ]
  },
  {
   "cell_type": "code",
   "execution_count": 9,
   "metadata": {
    "ExecuteTime": {
     "end_time": "2020-11-25T09:42:19.999621Z",
     "start_time": "2020-11-25T09:42:19.977163Z"
    }
   },
   "outputs": [],
   "source": [
    "terms_stats_df = terms_df.groupby(['label', 'term']).agg({'weight': 'sum'}).reset_index()"
   ]
  },
  {
   "cell_type": "code",
   "execution_count": 10,
   "metadata": {
    "ExecuteTime": {
     "end_time": "2020-11-25T09:42:21.692479Z",
     "start_time": "2020-11-25T09:42:21.678556Z"
    }
   },
   "outputs": [
    {
     "data": {
      "text/html": [
       "<div>\n",
       "<style scoped>\n",
       "    .dataframe tbody tr th:only-of-type {\n",
       "        vertical-align: middle;\n",
       "    }\n",
       "\n",
       "    .dataframe tbody tr th {\n",
       "        vertical-align: top;\n",
       "    }\n",
       "\n",
       "    .dataframe thead th {\n",
       "        text-align: right;\n",
       "    }\n",
       "</style>\n",
       "<table border=\"1\" class=\"dataframe\">\n",
       "  <thead>\n",
       "    <tr style=\"text-align: right;\">\n",
       "      <th></th>\n",
       "      <th>label</th>\n",
       "      <th>term</th>\n",
       "      <th>weight</th>\n",
       "    </tr>\n",
       "  </thead>\n",
       "  <tbody>\n",
       "    <tr>\n",
       "      <th>0</th>\n",
       "      <td>ENTITY#101</td>\n",
       "      <td>16-35mm</td>\n",
       "      <td>0.724391</td>\n",
       "    </tr>\n",
       "    <tr>\n",
       "      <th>1</th>\n",
       "      <td>ENTITY#101</td>\n",
       "      <td>17-40mm</td>\n",
       "      <td>0.676306</td>\n",
       "    </tr>\n",
       "    <tr>\n",
       "      <th>2</th>\n",
       "      <td>ENTITY#101</td>\n",
       "      <td>2</td>\n",
       "      <td>0.055329</td>\n",
       "    </tr>\n",
       "    <tr>\n",
       "      <th>3</th>\n",
       "      <td>ENTITY#101</td>\n",
       "      <td>22</td>\n",
       "      <td>5.230077</td>\n",
       "    </tr>\n",
       "    <tr>\n",
       "      <th>4</th>\n",
       "      <td>ENTITY#101</td>\n",
       "      <td>24-105mm</td>\n",
       "      <td>0.724367</td>\n",
       "    </tr>\n",
       "  </tbody>\n",
       "</table>\n",
       "</div>"
      ],
      "text/plain": [
       "        label      term    weight\n",
       "0  ENTITY#101   16-35mm  0.724391\n",
       "1  ENTITY#101   17-40mm  0.676306\n",
       "2  ENTITY#101         2  0.055329\n",
       "3  ENTITY#101        22  5.230077\n",
       "4  ENTITY#101  24-105mm  0.724367"
      ]
     },
     "execution_count": 10,
     "metadata": {},
     "output_type": "execute_result"
    }
   ],
   "source": [
    "terms_stats_df.head()"
   ]
  },
  {
   "cell_type": "markdown",
   "metadata": {},
   "source": [
    "### Sort terms\n",
    "Rank terms by total weight (descending)"
   ]
  },
  {
   "cell_type": "code",
   "execution_count": 11,
   "metadata": {
    "ExecuteTime": {
     "end_time": "2020-11-25T09:42:30.385156Z",
     "start_time": "2020-11-25T09:42:30.341859Z"
    }
   },
   "outputs": [],
   "source": [
    "ranking_df = terms_stats_df.groupby('label')\\\n",
    "                .apply(lambda grp: grp.sort_values(by='weight', ascending=False))\\\n",
    "                .reset_index(drop=True)"
   ]
  },
  {
   "cell_type": "code",
   "execution_count": 12,
   "metadata": {
    "ExecuteTime": {
     "end_time": "2020-11-25T09:42:40.486237Z",
     "start_time": "2020-11-25T09:42:40.457423Z"
    }
   },
   "outputs": [
    {
     "data": {
      "text/html": [
       "<div>\n",
       "<style scoped>\n",
       "    .dataframe tbody tr th:only-of-type {\n",
       "        vertical-align: middle;\n",
       "    }\n",
       "\n",
       "    .dataframe tbody tr th {\n",
       "        vertical-align: top;\n",
       "    }\n",
       "\n",
       "    .dataframe thead th {\n",
       "        text-align: right;\n",
       "    }\n",
       "</style>\n",
       "<table border=\"1\" class=\"dataframe\">\n",
       "  <thead>\n",
       "    <tr style=\"text-align: right;\">\n",
       "      <th></th>\n",
       "      <th>label</th>\n",
       "      <th>term</th>\n",
       "      <th>weight</th>\n",
       "    </tr>\n",
       "  </thead>\n",
       "  <tbody>\n",
       "    <tr>\n",
       "      <th>0</th>\n",
       "      <td>ENTITY#101</td>\n",
       "      <td>5d</td>\n",
       "      <td>96.933690</td>\n",
       "    </tr>\n",
       "    <tr>\n",
       "      <th>1</th>\n",
       "      <td>ENTITY#101</td>\n",
       "      <td>mark</td>\n",
       "      <td>93.036158</td>\n",
       "    </tr>\n",
       "    <tr>\n",
       "      <th>2</th>\n",
       "      <td>ENTITY#101</td>\n",
       "      <td>iii</td>\n",
       "      <td>88.471847</td>\n",
       "    </tr>\n",
       "    <tr>\n",
       "      <th>50</th>\n",
       "      <td>ENTITY#102</td>\n",
       "      <td>5d</td>\n",
       "      <td>63.397395</td>\n",
       "    </tr>\n",
       "    <tr>\n",
       "      <th>51</th>\n",
       "      <td>ENTITY#102</td>\n",
       "      <td>canon</td>\n",
       "      <td>61.651098</td>\n",
       "    </tr>\n",
       "    <tr>\n",
       "      <th>52</th>\n",
       "      <td>ENTITY#102</td>\n",
       "      <td>eos</td>\n",
       "      <td>55.676296</td>\n",
       "    </tr>\n",
       "    <tr>\n",
       "      <th>101</th>\n",
       "      <td>ENTITY#16</td>\n",
       "      <td>d90</td>\n",
       "      <td>83.321507</td>\n",
       "    </tr>\n",
       "    <tr>\n",
       "      <th>102</th>\n",
       "      <td>ENTITY#16</td>\n",
       "      <td>nikon</td>\n",
       "      <td>82.346056</td>\n",
       "    </tr>\n",
       "    <tr>\n",
       "      <th>103</th>\n",
       "      <td>ENTITY#16</td>\n",
       "      <td>camera</td>\n",
       "      <td>20.047362</td>\n",
       "    </tr>\n",
       "    <tr>\n",
       "      <th>163</th>\n",
       "      <td>ENTITY#18</td>\n",
       "      <td>canon</td>\n",
       "      <td>120.404014</td>\n",
       "    </tr>\n",
       "    <tr>\n",
       "      <th>164</th>\n",
       "      <td>ENTITY#18</td>\n",
       "      <td>60d</td>\n",
       "      <td>107.265348</td>\n",
       "    </tr>\n",
       "    <tr>\n",
       "      <th>165</th>\n",
       "      <td>ENTITY#18</td>\n",
       "      <td>eos</td>\n",
       "      <td>106.102112</td>\n",
       "    </tr>\n",
       "    <tr>\n",
       "      <th>243</th>\n",
       "      <td>ENTITY#19</td>\n",
       "      <td>d3300</td>\n",
       "      <td>44.892108</td>\n",
       "    </tr>\n",
       "    <tr>\n",
       "      <th>244</th>\n",
       "      <td>ENTITY#19</td>\n",
       "      <td>nikon</td>\n",
       "      <td>42.904087</td>\n",
       "    </tr>\n",
       "    <tr>\n",
       "      <th>245</th>\n",
       "      <td>ENTITY#19</td>\n",
       "      <td>camera</td>\n",
       "      <td>17.887584</td>\n",
       "    </tr>\n",
       "    <tr>\n",
       "      <th>339</th>\n",
       "      <td>ENTITY#21</td>\n",
       "      <td>d5100</td>\n",
       "      <td>76.929881</td>\n",
       "    </tr>\n",
       "    <tr>\n",
       "      <th>340</th>\n",
       "      <td>ENTITY#21</td>\n",
       "      <td>nikon</td>\n",
       "      <td>54.453940</td>\n",
       "    </tr>\n",
       "    <tr>\n",
       "      <th>341</th>\n",
       "      <td>ENTITY#21</td>\n",
       "      <td>camera</td>\n",
       "      <td>33.805586</td>\n",
       "    </tr>\n",
       "    <tr>\n",
       "      <th>445</th>\n",
       "      <td>ENTITY#23</td>\n",
       "      <td>7d</td>\n",
       "      <td>166.897677</td>\n",
       "    </tr>\n",
       "    <tr>\n",
       "      <th>446</th>\n",
       "      <td>ENTITY#23</td>\n",
       "      <td>canon</td>\n",
       "      <td>149.756748</td>\n",
       "    </tr>\n",
       "    <tr>\n",
       "      <th>447</th>\n",
       "      <td>ENTITY#23</td>\n",
       "      <td>eos</td>\n",
       "      <td>144.130046</td>\n",
       "    </tr>\n",
       "    <tr>\n",
       "      <th>506</th>\n",
       "      <td>ENTITY#36</td>\n",
       "      <td>d3100</td>\n",
       "      <td>79.202322</td>\n",
       "    </tr>\n",
       "    <tr>\n",
       "      <th>507</th>\n",
       "      <td>ENTITY#36</td>\n",
       "      <td>nikon</td>\n",
       "      <td>76.874840</td>\n",
       "    </tr>\n",
       "    <tr>\n",
       "      <th>508</th>\n",
       "      <td>ENTITY#36</td>\n",
       "      <td>camera</td>\n",
       "      <td>58.161480</td>\n",
       "    </tr>\n",
       "    <tr>\n",
       "      <th>616</th>\n",
       "      <td>ENTITY#37</td>\n",
       "      <td>d80</td>\n",
       "      <td>48.835221</td>\n",
       "    </tr>\n",
       "    <tr>\n",
       "      <th>617</th>\n",
       "      <td>ENTITY#37</td>\n",
       "      <td>nikon</td>\n",
       "      <td>48.700405</td>\n",
       "    </tr>\n",
       "    <tr>\n",
       "      <th>618</th>\n",
       "      <td>ENTITY#37</td>\n",
       "      <td>camera</td>\n",
       "      <td>17.072802</td>\n",
       "    </tr>\n",
       "    <tr>\n",
       "      <th>667</th>\n",
       "      <td>ENTITY#41</td>\n",
       "      <td>d5200</td>\n",
       "      <td>99.020475</td>\n",
       "    </tr>\n",
       "    <tr>\n",
       "      <th>668</th>\n",
       "      <td>ENTITY#41</td>\n",
       "      <td>nikon</td>\n",
       "      <td>88.498027</td>\n",
       "    </tr>\n",
       "    <tr>\n",
       "      <th>669</th>\n",
       "      <td>ENTITY#41</td>\n",
       "      <td>camera</td>\n",
       "      <td>48.299833</td>\n",
       "    </tr>\n",
       "    <tr>\n",
       "      <th>767</th>\n",
       "      <td>ENTITY#44</td>\n",
       "      <td>d3200</td>\n",
       "      <td>109.311469</td>\n",
       "    </tr>\n",
       "    <tr>\n",
       "      <th>768</th>\n",
       "      <td>ENTITY#44</td>\n",
       "      <td>nikon</td>\n",
       "      <td>83.118989</td>\n",
       "    </tr>\n",
       "    <tr>\n",
       "      <th>769</th>\n",
       "      <td>ENTITY#44</td>\n",
       "      <td>camera</td>\n",
       "      <td>40.949975</td>\n",
       "    </tr>\n",
       "    <tr>\n",
       "      <th>894</th>\n",
       "      <td>ENTITY#57</td>\n",
       "      <td>d800</td>\n",
       "      <td>54.187886</td>\n",
       "    </tr>\n",
       "    <tr>\n",
       "      <th>895</th>\n",
       "      <td>ENTITY#57</td>\n",
       "      <td>nikon</td>\n",
       "      <td>47.181758</td>\n",
       "    </tr>\n",
       "    <tr>\n",
       "      <th>896</th>\n",
       "      <td>ENTITY#57</td>\n",
       "      <td>camera</td>\n",
       "      <td>20.911940</td>\n",
       "    </tr>\n",
       "    <tr>\n",
       "      <th>954</th>\n",
       "      <td>ENTITY#58</td>\n",
       "      <td>j1</td>\n",
       "      <td>42.357733</td>\n",
       "    </tr>\n",
       "    <tr>\n",
       "      <th>955</th>\n",
       "      <td>ENTITY#58</td>\n",
       "      <td>1</td>\n",
       "      <td>28.152220</td>\n",
       "    </tr>\n",
       "    <tr>\n",
       "      <th>956</th>\n",
       "      <td>ENTITY#58</td>\n",
       "      <td>nikon</td>\n",
       "      <td>13.960149</td>\n",
       "    </tr>\n",
       "    <tr>\n",
       "      <th>1023</th>\n",
       "      <td>ENTITY#6</td>\n",
       "      <td>d5300</td>\n",
       "      <td>79.516747</td>\n",
       "    </tr>\n",
       "    <tr>\n",
       "      <th>1024</th>\n",
       "      <td>ENTITY#6</td>\n",
       "      <td>nikon</td>\n",
       "      <td>76.001421</td>\n",
       "    </tr>\n",
       "    <tr>\n",
       "      <th>1025</th>\n",
       "      <td>ENTITY#6</td>\n",
       "      <td>camera</td>\n",
       "      <td>37.872451</td>\n",
       "    </tr>\n",
       "    <tr>\n",
       "      <th>1151</th>\n",
       "      <td>ENTITY#7</td>\n",
       "      <td>olympus</td>\n",
       "      <td>34.875893</td>\n",
       "    </tr>\n",
       "    <tr>\n",
       "      <th>1152</th>\n",
       "      <td>ENTITY#7</td>\n",
       "      <td>om-d</td>\n",
       "      <td>16.527350</td>\n",
       "    </tr>\n",
       "    <tr>\n",
       "      <th>1153</th>\n",
       "      <td>ENTITY#7</td>\n",
       "      <td>om</td>\n",
       "      <td>14.650134</td>\n",
       "    </tr>\n",
       "    <tr>\n",
       "      <th>1228</th>\n",
       "      <td>ENTITY#75</td>\n",
       "      <td>d7000</td>\n",
       "      <td>60.828743</td>\n",
       "    </tr>\n",
       "    <tr>\n",
       "      <th>1229</th>\n",
       "      <td>ENTITY#75</td>\n",
       "      <td>nikon</td>\n",
       "      <td>32.002905</td>\n",
       "    </tr>\n",
       "    <tr>\n",
       "      <th>1230</th>\n",
       "      <td>ENTITY#75</td>\n",
       "      <td>camera</td>\n",
       "      <td>26.298103</td>\n",
       "    </tr>\n",
       "    <tr>\n",
       "      <th>1407</th>\n",
       "      <td>ENTITY#76</td>\n",
       "      <td>d610</td>\n",
       "      <td>48.023933</td>\n",
       "    </tr>\n",
       "    <tr>\n",
       "      <th>1408</th>\n",
       "      <td>ENTITY#76</td>\n",
       "      <td>nikon</td>\n",
       "      <td>31.377943</td>\n",
       "    </tr>\n",
       "    <tr>\n",
       "      <th>1409</th>\n",
       "      <td>ENTITY#76</td>\n",
       "      <td>digital</td>\n",
       "      <td>30.139236</td>\n",
       "    </tr>\n",
       "    <tr>\n",
       "      <th>1488</th>\n",
       "      <td>ENTITY#8</td>\n",
       "      <td>j3</td>\n",
       "      <td>39.392156</td>\n",
       "    </tr>\n",
       "    <tr>\n",
       "      <th>1489</th>\n",
       "      <td>ENTITY#8</td>\n",
       "      <td>1</td>\n",
       "      <td>30.712742</td>\n",
       "    </tr>\n",
       "    <tr>\n",
       "      <th>1490</th>\n",
       "      <td>ENTITY#8</td>\n",
       "      <td>camera</td>\n",
       "      <td>18.150235</td>\n",
       "    </tr>\n",
       "    <tr>\n",
       "      <th>1539</th>\n",
       "      <td>ENTITY#84</td>\n",
       "      <td>d300</td>\n",
       "      <td>47.925283</td>\n",
       "    </tr>\n",
       "    <tr>\n",
       "      <th>1540</th>\n",
       "      <td>ENTITY#84</td>\n",
       "      <td>nikon</td>\n",
       "      <td>46.926917</td>\n",
       "    </tr>\n",
       "    <tr>\n",
       "      <th>1541</th>\n",
       "      <td>ENTITY#84</td>\n",
       "      <td>camera</td>\n",
       "      <td>10.326472</td>\n",
       "    </tr>\n",
       "    <tr>\n",
       "      <th>1580</th>\n",
       "      <td>ENTITY#96</td>\n",
       "      <td>canon</td>\n",
       "      <td>82.011505</td>\n",
       "    </tr>\n",
       "    <tr>\n",
       "      <th>1581</th>\n",
       "      <td>ENTITY#96</td>\n",
       "      <td>eos</td>\n",
       "      <td>77.613733</td>\n",
       "    </tr>\n",
       "    <tr>\n",
       "      <th>1582</th>\n",
       "      <td>ENTITY#96</td>\n",
       "      <td>70d</td>\n",
       "      <td>73.418477</td>\n",
       "    </tr>\n",
       "  </tbody>\n",
       "</table>\n",
       "</div>"
      ],
      "text/plain": [
       "           label     term      weight\n",
       "0     ENTITY#101       5d   96.933690\n",
       "1     ENTITY#101     mark   93.036158\n",
       "2     ENTITY#101      iii   88.471847\n",
       "50    ENTITY#102       5d   63.397395\n",
       "51    ENTITY#102    canon   61.651098\n",
       "52    ENTITY#102      eos   55.676296\n",
       "101    ENTITY#16      d90   83.321507\n",
       "102    ENTITY#16    nikon   82.346056\n",
       "103    ENTITY#16   camera   20.047362\n",
       "163    ENTITY#18    canon  120.404014\n",
       "164    ENTITY#18      60d  107.265348\n",
       "165    ENTITY#18      eos  106.102112\n",
       "243    ENTITY#19    d3300   44.892108\n",
       "244    ENTITY#19    nikon   42.904087\n",
       "245    ENTITY#19   camera   17.887584\n",
       "339    ENTITY#21    d5100   76.929881\n",
       "340    ENTITY#21    nikon   54.453940\n",
       "341    ENTITY#21   camera   33.805586\n",
       "445    ENTITY#23       7d  166.897677\n",
       "446    ENTITY#23    canon  149.756748\n",
       "447    ENTITY#23      eos  144.130046\n",
       "506    ENTITY#36    d3100   79.202322\n",
       "507    ENTITY#36    nikon   76.874840\n",
       "508    ENTITY#36   camera   58.161480\n",
       "616    ENTITY#37      d80   48.835221\n",
       "617    ENTITY#37    nikon   48.700405\n",
       "618    ENTITY#37   camera   17.072802\n",
       "667    ENTITY#41    d5200   99.020475\n",
       "668    ENTITY#41    nikon   88.498027\n",
       "669    ENTITY#41   camera   48.299833\n",
       "767    ENTITY#44    d3200  109.311469\n",
       "768    ENTITY#44    nikon   83.118989\n",
       "769    ENTITY#44   camera   40.949975\n",
       "894    ENTITY#57     d800   54.187886\n",
       "895    ENTITY#57    nikon   47.181758\n",
       "896    ENTITY#57   camera   20.911940\n",
       "954    ENTITY#58       j1   42.357733\n",
       "955    ENTITY#58        1   28.152220\n",
       "956    ENTITY#58    nikon   13.960149\n",
       "1023    ENTITY#6    d5300   79.516747\n",
       "1024    ENTITY#6    nikon   76.001421\n",
       "1025    ENTITY#6   camera   37.872451\n",
       "1151    ENTITY#7  olympus   34.875893\n",
       "1152    ENTITY#7     om-d   16.527350\n",
       "1153    ENTITY#7       om   14.650134\n",
       "1228   ENTITY#75    d7000   60.828743\n",
       "1229   ENTITY#75    nikon   32.002905\n",
       "1230   ENTITY#75   camera   26.298103\n",
       "1407   ENTITY#76     d610   48.023933\n",
       "1408   ENTITY#76    nikon   31.377943\n",
       "1409   ENTITY#76  digital   30.139236\n",
       "1488    ENTITY#8       j3   39.392156\n",
       "1489    ENTITY#8        1   30.712742\n",
       "1490    ENTITY#8   camera   18.150235\n",
       "1539   ENTITY#84     d300   47.925283\n",
       "1540   ENTITY#84    nikon   46.926917\n",
       "1541   ENTITY#84   camera   10.326472\n",
       "1580   ENTITY#96    canon   82.011505\n",
       "1581   ENTITY#96      eos   77.613733\n",
       "1582   ENTITY#96      70d   73.418477"
      ]
     },
     "execution_count": 12,
     "metadata": {},
     "output_type": "execute_result"
    }
   ],
   "source": [
    "ranking_df.groupby('label').head(3)"
   ]
  },
  {
   "cell_type": "markdown",
   "metadata": {},
   "source": [
    "---"
   ]
  },
  {
   "cell_type": "markdown",
   "metadata": {},
   "source": [
    "## Save ranking"
   ]
  },
  {
   "cell_type": "code",
   "execution_count": 13,
   "metadata": {
    "ExecuteTime": {
     "end_time": "2020-11-25T09:43:33.941273Z",
     "start_time": "2020-11-25T09:43:33.936945Z"
    }
   },
   "outputs": [],
   "source": [
    "ranking_filename = 'ranking_alaska_nn_single_terms.xlsx'\n",
    "ranking_filepath = os.path.join(root_dir, data_dir, ranking_filename)"
   ]
  },
  {
   "cell_type": "code",
   "execution_count": 14,
   "metadata": {
    "ExecuteTime": {
     "end_time": "2020-11-25T09:43:34.646497Z",
     "start_time": "2020-11-25T09:43:34.641330Z"
    }
   },
   "outputs": [
    {
     "data": {
      "text/plain": [
       "'../../data/terms/ranking_alaska_nn_single_terms.xlsx'"
      ]
     },
     "execution_count": 14,
     "metadata": {},
     "output_type": "execute_result"
    }
   ],
   "source": [
    "ranking_filepath"
   ]
  },
  {
   "cell_type": "code",
   "execution_count": 15,
   "metadata": {
    "ExecuteTime": {
     "end_time": "2020-11-25T09:43:37.582282Z",
     "start_time": "2020-11-25T09:43:37.088355Z"
    }
   },
   "outputs": [],
   "source": [
    "ranking_df.to_excel(ranking_filepath)"
   ]
  },
  {
   "cell_type": "markdown",
   "metadata": {},
   "source": [
    "---"
   ]
  }
 ],
 "metadata": {
  "kernelspec": {
   "display_name": "Python 3",
   "language": "python",
   "name": "python3"
  },
  "language_info": {
   "codemirror_mode": {
    "name": "ipython",
    "version": 3
   },
   "file_extension": ".py",
   "mimetype": "text/x-python",
   "name": "python",
   "nbconvert_exporter": "python",
   "pygments_lexer": "ipython3",
   "version": "3.8.1"
  },
  "toc": {
   "base_numbering": 1,
   "nav_menu": {},
   "number_sections": true,
   "sideBar": true,
   "skip_h1_title": false,
   "title_cell": "Table of Contents",
   "title_sidebar": "Contents",
   "toc_cell": false,
   "toc_position": {},
   "toc_section_display": true,
   "toc_window_display": false
  }
 },
 "nbformat": 4,
 "nbformat_minor": 4
}
