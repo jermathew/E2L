{
 "cells": [
  {
   "cell_type": "markdown",
   "metadata": {},
   "source": [
    "# Rank tokens\n",
    "Process terms retrieved from the neural network model using `LIME`"
   ]
  },
  {
   "cell_type": "code",
   "execution_count": 1,
   "metadata": {
    "ExecuteTime": {
     "end_time": "2021-01-10T21:34:44.486082Z",
     "start_time": "2021-01-10T21:34:44.139269Z"
    }
   },
   "outputs": [],
   "source": [
    "import os\n",
    "import pandas as pd"
   ]
  },
  {
   "cell_type": "code",
   "execution_count": 2,
   "metadata": {
    "ExecuteTime": {
     "end_time": "2021-01-10T21:34:44.497557Z",
     "start_time": "2021-01-10T21:34:44.492912Z"
    }
   },
   "outputs": [],
   "source": [
    "root_dir = '../..'\n",
    "data_dir = 'data/terms'"
   ]
  },
  {
   "cell_type": "code",
   "execution_count": 3,
   "metadata": {
    "ExecuteTime": {
     "end_time": "2021-01-10T21:34:45.161186Z",
     "start_time": "2021-01-10T21:34:45.154768Z"
    }
   },
   "outputs": [],
   "source": [
    "dataset_name = 'alaska'\n",
    "model_names = ['nn', 'bert']\n",
    "test_names = ['sampling_terms_test1',\n",
    "              'sampling_terms_test2',\n",
    "              'sampling_records_test1',\n",
    "              'sampling_records_test2',\n",
    "              'sampling_records_and_terms_test1']"
   ]
  },
  {
   "cell_type": "code",
   "execution_count": 4,
   "metadata": {
    "ExecuteTime": {
     "end_time": "2021-01-10T21:34:51.432744Z",
     "start_time": "2021-01-10T21:34:51.421888Z"
    }
   },
   "outputs": [],
   "source": [
    "def compute_rankings(dataset_name, model_name, test_name):\n",
    "    filename = f'relevant_terms_{dataset_name}_{model_name}_{test_name}.csv'\n",
    "    filepath = os.path.join(root_dir, data_dir, filename)\n",
    "    terms_df = pd.read_csv(filepath)\n",
    "    # aggregate (sum) LIME weights for each term\n",
    "    terms_stats_df = terms_df.groupby(['label', 'term']).agg({'weight': 'sum'}).reset_index()\n",
    "    \n",
    "    # sort terms\n",
    "    ranking_df = terms_stats_df.groupby('label')\\\n",
    "                 .apply(lambda grp: grp.sort_values(by='weight', ascending=False))\\\n",
    "                 .reset_index(drop=True)\n",
    "    \n",
    "    ranking_filename = f'ranking_{dataset_name}_{model_name}_{test_name}.xlsx'\n",
    "    ranking_filepath = os.path.join(root_dir, data_dir, ranking_filename)\n",
    "    ranking_df.to_excel(ranking_filepath)"
   ]
  },
  {
   "cell_type": "code",
   "execution_count": 5,
   "metadata": {
    "ExecuteTime": {
     "end_time": "2021-01-10T21:35:02.045592Z",
     "start_time": "2021-01-10T21:34:57.878864Z"
    }
   },
   "outputs": [],
   "source": [
    "for model_name in model_names:\n",
    "    for test_name in test_names:\n",
    "        compute_rankings(dataset_name, model_name, test_name)"
   ]
  },
  {
   "cell_type": "markdown",
   "metadata": {},
   "source": [
    "---"
   ]
  }
 ],
 "metadata": {
  "kernelspec": {
   "display_name": "Python 3",
   "language": "python",
   "name": "python3"
  },
  "language_info": {
   "codemirror_mode": {
    "name": "ipython",
    "version": 3
   },
   "file_extension": ".py",
   "mimetype": "text/x-python",
   "name": "python",
   "nbconvert_exporter": "python",
   "pygments_lexer": "ipython3",
   "version": "3.8.1"
  },
  "toc": {
   "base_numbering": 1,
   "nav_menu": {},
   "number_sections": true,
   "sideBar": true,
   "skip_h1_title": false,
   "title_cell": "Table of Contents",
   "title_sidebar": "Contents",
   "toc_cell": false,
   "toc_position": {},
   "toc_section_display": true,
   "toc_window_display": false
  }
 },
 "nbformat": 4,
 "nbformat_minor": 4
}
