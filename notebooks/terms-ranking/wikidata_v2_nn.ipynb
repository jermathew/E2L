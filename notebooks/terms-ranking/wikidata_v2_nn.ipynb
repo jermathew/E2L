{
 "cells": [
  {
   "cell_type": "markdown",
   "metadata": {},
   "source": [
    "# Process terms \n",
    "Process terms retrieved from the neural network model using `LIME`"
   ]
  },
  {
   "cell_type": "markdown",
   "metadata": {},
   "source": [
    "---\n",
    "## Load the retrieved terms"
   ]
  },
  {
   "cell_type": "code",
   "execution_count": 1,
   "metadata": {
    "ExecuteTime": {
     "end_time": "2020-11-13T14:46:56.283296Z",
     "start_time": "2020-11-13T14:46:56.275946Z"
    }
   },
   "outputs": [],
   "source": [
    "import os"
   ]
  },
  {
   "cell_type": "code",
   "execution_count": 2,
   "metadata": {
    "ExecuteTime": {
     "end_time": "2020-11-13T14:46:56.719688Z",
     "start_time": "2020-11-13T14:46:56.713196Z"
    }
   },
   "outputs": [],
   "source": [
    "version = 'v2'"
   ]
  },
  {
   "cell_type": "code",
   "execution_count": 3,
   "metadata": {
    "ExecuteTime": {
     "end_time": "2020-11-13T14:46:57.701680Z",
     "start_time": "2020-11-13T14:46:57.692996Z"
    }
   },
   "outputs": [],
   "source": [
    "root_dir = '../..'\n",
    "data_dir = 'data/terms'\n",
    "filename = f'relevant_terms_wikidata_nn_{version}.csv'\n",
    "filepath = os.path.join(root_dir, data_dir, filename)"
   ]
  },
  {
   "cell_type": "code",
   "execution_count": 4,
   "metadata": {
    "ExecuteTime": {
     "end_time": "2020-11-13T14:46:58.329400Z",
     "start_time": "2020-11-13T14:46:57.961447Z"
    }
   },
   "outputs": [],
   "source": [
    "import pandas as pd"
   ]
  },
  {
   "cell_type": "code",
   "execution_count": 5,
   "metadata": {
    "ExecuteTime": {
     "end_time": "2020-11-13T14:46:58.356389Z",
     "start_time": "2020-11-13T14:46:58.331744Z"
    }
   },
   "outputs": [],
   "source": [
    "terms_df = pd.read_csv(filepath)"
   ]
  },
  {
   "cell_type": "code",
   "execution_count": 6,
   "metadata": {
    "ExecuteTime": {
     "end_time": "2020-11-13T14:46:58.566853Z",
     "start_time": "2020-11-13T14:46:58.544902Z"
    }
   },
   "outputs": [
    {
     "data": {
      "text/html": [
       "<div>\n",
       "<style scoped>\n",
       "    .dataframe tbody tr th:only-of-type {\n",
       "        vertical-align: middle;\n",
       "    }\n",
       "\n",
       "    .dataframe tbody tr th {\n",
       "        vertical-align: top;\n",
       "    }\n",
       "\n",
       "    .dataframe thead th {\n",
       "        text-align: right;\n",
       "    }\n",
       "</style>\n",
       "<table border=\"1\" class=\"dataframe\">\n",
       "  <thead>\n",
       "    <tr style=\"text-align: right;\">\n",
       "      <th></th>\n",
       "      <th>label</th>\n",
       "      <th>term</th>\n",
       "      <th>weight</th>\n",
       "      <th>data_id</th>\n",
       "    </tr>\n",
       "  </thead>\n",
       "  <tbody>\n",
       "    <tr>\n",
       "      <th>0</th>\n",
       "      <td>Q1754</td>\n",
       "      <td>stockholm</td>\n",
       "      <td>0.555859</td>\n",
       "      <td>0</td>\n",
       "    </tr>\n",
       "    <tr>\n",
       "      <th>1</th>\n",
       "      <td>Q1754</td>\n",
       "      <td>sweden</td>\n",
       "      <td>0.406443</td>\n",
       "      <td>0</td>\n",
       "    </tr>\n",
       "    <tr>\n",
       "      <th>2</th>\n",
       "      <td>Q1754</td>\n",
       "      <td>city</td>\n",
       "      <td>0.138746</td>\n",
       "      <td>0</td>\n",
       "    </tr>\n",
       "    <tr>\n",
       "      <th>3</th>\n",
       "      <td>Q1754</td>\n",
       "      <td>capital</td>\n",
       "      <td>0.130178</td>\n",
       "      <td>0</td>\n",
       "    </tr>\n",
       "    <tr>\n",
       "      <th>4</th>\n",
       "      <td>Q1754</td>\n",
       "      <td>stockholm</td>\n",
       "      <td>0.395502</td>\n",
       "      <td>1</td>\n",
       "    </tr>\n",
       "  </tbody>\n",
       "</table>\n",
       "</div>"
      ],
      "text/plain": [
       "   label       term    weight  data_id\n",
       "0  Q1754  stockholm  0.555859        0\n",
       "1  Q1754     sweden  0.406443        0\n",
       "2  Q1754       city  0.138746        0\n",
       "3  Q1754    capital  0.130178        0\n",
       "4  Q1754  stockholm  0.395502        1"
      ]
     },
     "execution_count": 6,
     "metadata": {},
     "output_type": "execute_result"
    }
   ],
   "source": [
    "terms_df.head()"
   ]
  },
  {
   "cell_type": "markdown",
   "metadata": {},
   "source": [
    "---"
   ]
  },
  {
   "cell_type": "markdown",
   "metadata": {},
   "source": [
    "## Rank terms"
   ]
  },
  {
   "cell_type": "markdown",
   "metadata": {},
   "source": [
    "### Add `rank` column\n",
    "Add a ranking column by sorting each document's terms by their LIME weight in descending order"
   ]
  },
  {
   "cell_type": "code",
   "execution_count": 7,
   "metadata": {
    "ExecuteTime": {
     "end_time": "2020-11-13T14:47:00.253552Z",
     "start_time": "2020-11-13T14:47:00.228211Z"
    }
   },
   "outputs": [],
   "source": [
    "terms_df['rank'] = terms_df.groupby(['label', 'data_id'])['weight'].rank(ascending=False)"
   ]
  },
  {
   "cell_type": "code",
   "execution_count": 8,
   "metadata": {
    "ExecuteTime": {
     "end_time": "2020-11-13T14:47:01.312447Z",
     "start_time": "2020-11-13T14:47:01.293221Z"
    }
   },
   "outputs": [
    {
     "data": {
      "text/html": [
       "<div>\n",
       "<style scoped>\n",
       "    .dataframe tbody tr th:only-of-type {\n",
       "        vertical-align: middle;\n",
       "    }\n",
       "\n",
       "    .dataframe tbody tr th {\n",
       "        vertical-align: top;\n",
       "    }\n",
       "\n",
       "    .dataframe thead th {\n",
       "        text-align: right;\n",
       "    }\n",
       "</style>\n",
       "<table border=\"1\" class=\"dataframe\">\n",
       "  <thead>\n",
       "    <tr style=\"text-align: right;\">\n",
       "      <th></th>\n",
       "      <th>label</th>\n",
       "      <th>term</th>\n",
       "      <th>weight</th>\n",
       "      <th>data_id</th>\n",
       "      <th>rank</th>\n",
       "    </tr>\n",
       "  </thead>\n",
       "  <tbody>\n",
       "    <tr>\n",
       "      <th>0</th>\n",
       "      <td>Q1754</td>\n",
       "      <td>stockholm</td>\n",
       "      <td>0.555859</td>\n",
       "      <td>0</td>\n",
       "      <td>1.0</td>\n",
       "    </tr>\n",
       "    <tr>\n",
       "      <th>1</th>\n",
       "      <td>Q1754</td>\n",
       "      <td>sweden</td>\n",
       "      <td>0.406443</td>\n",
       "      <td>0</td>\n",
       "      <td>2.0</td>\n",
       "    </tr>\n",
       "    <tr>\n",
       "      <th>2</th>\n",
       "      <td>Q1754</td>\n",
       "      <td>city</td>\n",
       "      <td>0.138746</td>\n",
       "      <td>0</td>\n",
       "      <td>3.0</td>\n",
       "    </tr>\n",
       "    <tr>\n",
       "      <th>3</th>\n",
       "      <td>Q1754</td>\n",
       "      <td>capital</td>\n",
       "      <td>0.130178</td>\n",
       "      <td>0</td>\n",
       "      <td>4.0</td>\n",
       "    </tr>\n",
       "    <tr>\n",
       "      <th>4</th>\n",
       "      <td>Q1754</td>\n",
       "      <td>stockholm</td>\n",
       "      <td>0.395502</td>\n",
       "      <td>1</td>\n",
       "      <td>1.0</td>\n",
       "    </tr>\n",
       "  </tbody>\n",
       "</table>\n",
       "</div>"
      ],
      "text/plain": [
       "   label       term    weight  data_id  rank\n",
       "0  Q1754  stockholm  0.555859        0   1.0\n",
       "1  Q1754     sweden  0.406443        0   2.0\n",
       "2  Q1754       city  0.138746        0   3.0\n",
       "3  Q1754    capital  0.130178        0   4.0\n",
       "4  Q1754  stockholm  0.395502        1   1.0"
      ]
     },
     "execution_count": 8,
     "metadata": {},
     "output_type": "execute_result"
    }
   ],
   "source": [
    "terms_df.head()"
   ]
  },
  {
   "cell_type": "markdown",
   "metadata": {},
   "source": [
    "### Compute stats"
   ]
  },
  {
   "cell_type": "code",
   "execution_count": 9,
   "metadata": {
    "ExecuteTime": {
     "end_time": "2020-11-13T14:47:03.054182Z",
     "start_time": "2020-11-13T14:47:03.012818Z"
    }
   },
   "outputs": [],
   "source": [
    "terms_stats_df_1 = terms_df.groupby(['label', 'term']).agg({'weight': 'sum','rank': 'mean'})\n",
    "terms_stats_df_2 = terms_df.groupby(['label', 'term']).size().to_frame('count')\n",
    "terms_stats_df = terms_stats_df_1.join(terms_stats_df_2).reset_index()"
   ]
  },
  {
   "cell_type": "code",
   "execution_count": 10,
   "metadata": {
    "ExecuteTime": {
     "end_time": "2020-11-13T14:47:03.439418Z",
     "start_time": "2020-11-13T14:47:03.412913Z"
    }
   },
   "outputs": [
    {
     "data": {
      "text/html": [
       "<div>\n",
       "<style scoped>\n",
       "    .dataframe tbody tr th:only-of-type {\n",
       "        vertical-align: middle;\n",
       "    }\n",
       "\n",
       "    .dataframe tbody tr th {\n",
       "        vertical-align: top;\n",
       "    }\n",
       "\n",
       "    .dataframe thead th {\n",
       "        text-align: right;\n",
       "    }\n",
       "</style>\n",
       "<table border=\"1\" class=\"dataframe\">\n",
       "  <thead>\n",
       "    <tr style=\"text-align: right;\">\n",
       "      <th></th>\n",
       "      <th>label</th>\n",
       "      <th>term</th>\n",
       "      <th>weight</th>\n",
       "      <th>rank</th>\n",
       "      <th>count</th>\n",
       "    </tr>\n",
       "  </thead>\n",
       "  <tbody>\n",
       "    <tr>\n",
       "      <th>0</th>\n",
       "      <td>Q1005682</td>\n",
       "      <td>2010_census</td>\n",
       "      <td>0.304872</td>\n",
       "      <td>5.500000</td>\n",
       "      <td>2</td>\n",
       "    </tr>\n",
       "    <tr>\n",
       "      <th>1</th>\n",
       "      <td>Q1005682</td>\n",
       "      <td>513</td>\n",
       "      <td>0.418916</td>\n",
       "      <td>3.000000</td>\n",
       "      <td>2</td>\n",
       "    </tr>\n",
       "    <tr>\n",
       "      <th>2</th>\n",
       "      <td>Q1005682</td>\n",
       "      <td>carver</td>\n",
       "      <td>0.563979</td>\n",
       "      <td>5.400000</td>\n",
       "      <td>5</td>\n",
       "    </tr>\n",
       "    <tr>\n",
       "      <th>3</th>\n",
       "      <td>Q1005682</td>\n",
       "      <td>city</td>\n",
       "      <td>0.409819</td>\n",
       "      <td>6.000000</td>\n",
       "      <td>4</td>\n",
       "    </tr>\n",
       "    <tr>\n",
       "      <th>4</th>\n",
       "      <td>Q1005682</td>\n",
       "      <td>county</td>\n",
       "      <td>1.060182</td>\n",
       "      <td>5.333333</td>\n",
       "      <td>9</td>\n",
       "    </tr>\n",
       "  </tbody>\n",
       "</table>\n",
       "</div>"
      ],
      "text/plain": [
       "      label         term    weight      rank  count\n",
       "0  Q1005682  2010_census  0.304872  5.500000      2\n",
       "1  Q1005682          513  0.418916  3.000000      2\n",
       "2  Q1005682       carver  0.563979  5.400000      5\n",
       "3  Q1005682         city  0.409819  6.000000      4\n",
       "4  Q1005682       county  1.060182  5.333333      9"
      ]
     },
     "execution_count": 10,
     "metadata": {},
     "output_type": "execute_result"
    }
   ],
   "source": [
    "terms_stats_df.head()"
   ]
  },
  {
   "cell_type": "markdown",
   "metadata": {
    "ExecuteTime": {
     "end_time": "2020-09-22T21:07:22.493467Z",
     "start_time": "2020-09-22T21:07:22.478186Z"
    }
   },
   "source": [
    "### Ranking \n",
    "Rank terms by mean ranking (ascending) and total weight (descending)"
   ]
  },
  {
   "cell_type": "code",
   "execution_count": 11,
   "metadata": {
    "ExecuteTime": {
     "end_time": "2020-11-13T14:47:04.864972Z",
     "start_time": "2020-11-13T14:47:04.355821Z"
    }
   },
   "outputs": [],
   "source": [
    "ranking1_df = terms_stats_df.groupby('label')\\\n",
    "                .apply(lambda grp: grp.sort_values(by=['rank', 'weight'], ascending=[True, False]))\\\n",
    "                .reset_index(drop=True)"
   ]
  },
  {
   "cell_type": "code",
   "execution_count": 12,
   "metadata": {
    "ExecuteTime": {
     "end_time": "2020-11-13T14:47:05.662494Z",
     "start_time": "2020-11-13T14:47:05.637853Z"
    }
   },
   "outputs": [
    {
     "data": {
      "text/html": [
       "<div>\n",
       "<style scoped>\n",
       "    .dataframe tbody tr th:only-of-type {\n",
       "        vertical-align: middle;\n",
       "    }\n",
       "\n",
       "    .dataframe tbody tr th {\n",
       "        vertical-align: top;\n",
       "    }\n",
       "\n",
       "    .dataframe thead th {\n",
       "        text-align: right;\n",
       "    }\n",
       "</style>\n",
       "<table border=\"1\" class=\"dataframe\">\n",
       "  <thead>\n",
       "    <tr style=\"text-align: right;\">\n",
       "      <th></th>\n",
       "      <th>label</th>\n",
       "      <th>term</th>\n",
       "      <th>weight</th>\n",
       "      <th>rank</th>\n",
       "      <th>count</th>\n",
       "    </tr>\n",
       "  </thead>\n",
       "  <tbody>\n",
       "    <tr>\n",
       "      <th>0</th>\n",
       "      <td>Q1005682</td>\n",
       "      <td>hamburg</td>\n",
       "      <td>6.433465</td>\n",
       "      <td>1.000000</td>\n",
       "      <td>11</td>\n",
       "    </tr>\n",
       "    <tr>\n",
       "      <th>1</th>\n",
       "      <td>Q1005682</td>\n",
       "      <td>states</td>\n",
       "      <td>2.278421</td>\n",
       "      <td>2.454545</td>\n",
       "      <td>11</td>\n",
       "    </tr>\n",
       "    <tr>\n",
       "      <th>2</th>\n",
       "      <td>Q1005682</td>\n",
       "      <td>513</td>\n",
       "      <td>0.418916</td>\n",
       "      <td>3.000000</td>\n",
       "      <td>2</td>\n",
       "    </tr>\n",
       "    <tr>\n",
       "      <th>3</th>\n",
       "      <td>Q1005682</td>\n",
       "      <td>minnesota</td>\n",
       "      <td>1.838184</td>\n",
       "      <td>3.100000</td>\n",
       "      <td>10</td>\n",
       "    </tr>\n",
       "    <tr>\n",
       "      <th>4</th>\n",
       "      <td>Q1005682</td>\n",
       "      <td>united</td>\n",
       "      <td>2.012429</td>\n",
       "      <td>3.636364</td>\n",
       "      <td>11</td>\n",
       "    </tr>\n",
       "    <tr>\n",
       "      <th>...</th>\n",
       "      <td>...</td>\n",
       "      <td>...</td>\n",
       "      <td>...</td>\n",
       "      <td>...</td>\n",
       "      <td>...</td>\n",
       "    </tr>\n",
       "    <tr>\n",
       "      <th>3818</th>\n",
       "      <td>Q998718</td>\n",
       "      <td>hamburg</td>\n",
       "      <td>2.675068</td>\n",
       "      <td>1.222222</td>\n",
       "      <td>9</td>\n",
       "    </tr>\n",
       "    <tr>\n",
       "      <th>3819</th>\n",
       "      <td>Q998718</td>\n",
       "      <td>iowa</td>\n",
       "      <td>1.819555</td>\n",
       "      <td>1.600000</td>\n",
       "      <td>5</td>\n",
       "    </tr>\n",
       "    <tr>\n",
       "      <th>3820</th>\n",
       "      <td>Q998718</td>\n",
       "      <td>nishnabotna</td>\n",
       "      <td>1.040748</td>\n",
       "      <td>2.600000</td>\n",
       "      <td>5</td>\n",
       "    </tr>\n",
       "    <tr>\n",
       "      <th>3821</th>\n",
       "      <td>Q998718</td>\n",
       "      <td>fremont</td>\n",
       "      <td>0.865026</td>\n",
       "      <td>3.250000</td>\n",
       "      <td>4</td>\n",
       "    </tr>\n",
       "    <tr>\n",
       "      <th>3822</th>\n",
       "      <td>Q998718</td>\n",
       "      <td>states</td>\n",
       "      <td>1.636533</td>\n",
       "      <td>3.555556</td>\n",
       "      <td>9</td>\n",
       "    </tr>\n",
       "  </tbody>\n",
       "</table>\n",
       "<p>952 rows × 5 columns</p>\n",
       "</div>"
      ],
      "text/plain": [
       "         label         term    weight      rank  count\n",
       "0     Q1005682      hamburg  6.433465  1.000000     11\n",
       "1     Q1005682       states  2.278421  2.454545     11\n",
       "2     Q1005682          513  0.418916  3.000000      2\n",
       "3     Q1005682    minnesota  1.838184  3.100000     10\n",
       "4     Q1005682       united  2.012429  3.636364     11\n",
       "...        ...          ...       ...       ...    ...\n",
       "3818   Q998718      hamburg  2.675068  1.222222      9\n",
       "3819   Q998718         iowa  1.819555  1.600000      5\n",
       "3820   Q998718  nishnabotna  1.040748  2.600000      5\n",
       "3821   Q998718      fremont  0.865026  3.250000      4\n",
       "3822   Q998718       states  1.636533  3.555556      9\n",
       "\n",
       "[952 rows x 5 columns]"
      ]
     },
     "execution_count": 12,
     "metadata": {},
     "output_type": "execute_result"
    }
   ],
   "source": [
    "ranking1_df.groupby('label').head()"
   ]
  },
  {
   "cell_type": "markdown",
   "metadata": {},
   "source": [
    "---"
   ]
  },
  {
   "cell_type": "markdown",
   "metadata": {},
   "source": [
    "## Save selected ranking"
   ]
  },
  {
   "cell_type": "code",
   "execution_count": 13,
   "metadata": {
    "ExecuteTime": {
     "end_time": "2020-11-13T14:47:07.486425Z",
     "start_time": "2020-11-13T14:47:07.479136Z"
    }
   },
   "outputs": [],
   "source": [
    "ranking_filename = f'ranking_wikidata_nn_{version}.xlsx'\n",
    "ranking_filepath = os.path.join(root_dir, data_dir, ranking_filename)"
   ]
  },
  {
   "cell_type": "code",
   "execution_count": 14,
   "metadata": {
    "ExecuteTime": {
     "end_time": "2020-11-13T14:47:07.912376Z",
     "start_time": "2020-11-13T14:47:07.903863Z"
    }
   },
   "outputs": [
    {
     "data": {
      "text/plain": [
       "'../../data/terms/ranking_wikidata_nn_v2.xlsx'"
      ]
     },
     "execution_count": 14,
     "metadata": {},
     "output_type": "execute_result"
    }
   ],
   "source": [
    "ranking_filepath"
   ]
  },
  {
   "cell_type": "code",
   "execution_count": 15,
   "metadata": {
    "ExecuteTime": {
     "end_time": "2020-11-13T14:47:09.980936Z",
     "start_time": "2020-11-13T14:47:08.416343Z"
    }
   },
   "outputs": [],
   "source": [
    "ranking1_df.to_excel(ranking_filepath)"
   ]
  },
  {
   "cell_type": "markdown",
   "metadata": {},
   "source": [
    "---"
   ]
  }
 ],
 "metadata": {
  "kernelspec": {
   "display_name": "Python 3",
   "language": "python",
   "name": "python3"
  },
  "language_info": {
   "codemirror_mode": {
    "name": "ipython",
    "version": 3
   },
   "file_extension": ".py",
   "mimetype": "text/x-python",
   "name": "python",
   "nbconvert_exporter": "python",
   "pygments_lexer": "ipython3",
   "version": "3.8.1"
  },
  "toc": {
   "base_numbering": 1,
   "nav_menu": {},
   "number_sections": true,
   "sideBar": true,
   "skip_h1_title": false,
   "title_cell": "Table of Contents",
   "title_sidebar": "Contents",
   "toc_cell": false,
   "toc_position": {},
   "toc_section_display": true,
   "toc_window_display": false
  }
 },
 "nbformat": 4,
 "nbformat_minor": 4
}
