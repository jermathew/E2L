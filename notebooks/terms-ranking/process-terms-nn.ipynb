{
 "cells": [
  {
   "cell_type": "markdown",
   "metadata": {},
   "source": [
    "# Process terms \n",
    "Process terms retrieved from the neural network model using LIME"
   ]
  },
  {
   "cell_type": "markdown",
   "metadata": {},
   "source": [
    "---"
   ]
  },
  {
   "cell_type": "markdown",
   "metadata": {},
   "source": [
    "## Load the retrieved terms"
   ]
  },
  {
   "cell_type": "code",
   "execution_count": 1,
   "metadata": {
    "ExecuteTime": {
     "end_time": "2020-09-22T21:01:33.646988Z",
     "start_time": "2020-09-22T21:01:33.642475Z"
    }
   },
   "outputs": [],
   "source": [
    "import os"
   ]
  },
  {
   "cell_type": "code",
   "execution_count": 2,
   "metadata": {
    "ExecuteTime": {
     "end_time": "2020-09-22T21:01:33.903137Z",
     "start_time": "2020-09-22T21:01:33.898150Z"
    }
   },
   "outputs": [],
   "source": [
    "root_dir = '../..'\n",
    "data_dir = 'data/terms'\n",
    "filename = 'relevant_terms_nn.csv'\n",
    "filepath = os.path.join(root_dir, data_dir, filename)"
   ]
  },
  {
   "cell_type": "code",
   "execution_count": 3,
   "metadata": {
    "ExecuteTime": {
     "end_time": "2020-09-22T21:01:34.432104Z",
     "start_time": "2020-09-22T21:01:34.124231Z"
    }
   },
   "outputs": [],
   "source": [
    "import pandas as pd"
   ]
  },
  {
   "cell_type": "code",
   "execution_count": 4,
   "metadata": {
    "ExecuteTime": {
     "end_time": "2020-09-22T21:01:34.443491Z",
     "start_time": "2020-09-22T21:01:34.434081Z"
    }
   },
   "outputs": [],
   "source": [
    "terms_df = pd.read_csv(filepath)"
   ]
  },
  {
   "cell_type": "code",
   "execution_count": 5,
   "metadata": {
    "ExecuteTime": {
     "end_time": "2020-09-22T21:01:34.566990Z",
     "start_time": "2020-09-22T21:01:34.534793Z"
    }
   },
   "outputs": [
    {
     "data": {
      "text/html": [
       "<div>\n",
       "<style scoped>\n",
       "    .dataframe tbody tr th:only-of-type {\n",
       "        vertical-align: middle;\n",
       "    }\n",
       "\n",
       "    .dataframe tbody tr th {\n",
       "        vertical-align: top;\n",
       "    }\n",
       "\n",
       "    .dataframe thead th {\n",
       "        text-align: right;\n",
       "    }\n",
       "</style>\n",
       "<table border=\"1\" class=\"dataframe\">\n",
       "  <thead>\n",
       "    <tr style=\"text-align: right;\">\n",
       "      <th></th>\n",
       "      <th>label</th>\n",
       "      <th>term</th>\n",
       "      <th>weight</th>\n",
       "      <th>data_id</th>\n",
       "    </tr>\n",
       "  </thead>\n",
       "  <tbody>\n",
       "    <tr>\n",
       "      <th>0</th>\n",
       "      <td>ENTITY#44</td>\n",
       "      <td>nikon_d3200_dslr_camera</td>\n",
       "      <td>0.221665</td>\n",
       "      <td>0</td>\n",
       "    </tr>\n",
       "    <tr>\n",
       "      <th>1</th>\n",
       "      <td>ENTITY#44</td>\n",
       "      <td>55_200mm_lenses</td>\n",
       "      <td>0.197231</td>\n",
       "      <td>0</td>\n",
       "    </tr>\n",
       "    <tr>\n",
       "      <th>2</th>\n",
       "      <td>ENTITY#44</td>\n",
       "      <td>18_55mm</td>\n",
       "      <td>0.115510</td>\n",
       "      <td>0</td>\n",
       "    </tr>\n",
       "    <tr>\n",
       "      <th>3</th>\n",
       "      <td>ENTITY#44</td>\n",
       "      <td>black_ebay</td>\n",
       "      <td>0.102250</td>\n",
       "      <td>0</td>\n",
       "    </tr>\n",
       "    <tr>\n",
       "      <th>4</th>\n",
       "      <td>ENTITY#44</td>\n",
       "      <td>nikon_d3200</td>\n",
       "      <td>0.571242</td>\n",
       "      <td>1</td>\n",
       "    </tr>\n",
       "  </tbody>\n",
       "</table>\n",
       "</div>"
      ],
      "text/plain": [
       "       label                     term    weight  data_id\n",
       "0  ENTITY#44  nikon_d3200_dslr_camera  0.221665        0\n",
       "1  ENTITY#44          55_200mm_lenses  0.197231        0\n",
       "2  ENTITY#44                  18_55mm  0.115510        0\n",
       "3  ENTITY#44               black_ebay  0.102250        0\n",
       "4  ENTITY#44              nikon_d3200  0.571242        1"
      ]
     },
     "execution_count": 5,
     "metadata": {},
     "output_type": "execute_result"
    }
   ],
   "source": [
    "terms_df.head()"
   ]
  },
  {
   "cell_type": "markdown",
   "metadata": {},
   "source": [
    "---"
   ]
  },
  {
   "cell_type": "markdown",
   "metadata": {},
   "source": [
    "## Rank terms"
   ]
  },
  {
   "cell_type": "markdown",
   "metadata": {},
   "source": [
    "### Add ranking column\n",
    "Add a ranking column by sorting each document's terms by their LIME weight in descending order"
   ]
  },
  {
   "cell_type": "code",
   "execution_count": 6,
   "metadata": {
    "ExecuteTime": {
     "end_time": "2020-09-22T21:01:43.443053Z",
     "start_time": "2020-09-22T21:01:43.427457Z"
    }
   },
   "outputs": [],
   "source": [
    "terms_df['rank'] = terms_df.groupby(['label', 'data_id'])['weight'].rank(ascending=False)"
   ]
  },
  {
   "cell_type": "code",
   "execution_count": 7,
   "metadata": {
    "ExecuteTime": {
     "end_time": "2020-09-22T21:01:50.534757Z",
     "start_time": "2020-09-22T21:01:50.515178Z"
    }
   },
   "outputs": [
    {
     "data": {
      "text/html": [
       "<div>\n",
       "<style scoped>\n",
       "    .dataframe tbody tr th:only-of-type {\n",
       "        vertical-align: middle;\n",
       "    }\n",
       "\n",
       "    .dataframe tbody tr th {\n",
       "        vertical-align: top;\n",
       "    }\n",
       "\n",
       "    .dataframe thead th {\n",
       "        text-align: right;\n",
       "    }\n",
       "</style>\n",
       "<table border=\"1\" class=\"dataframe\">\n",
       "  <thead>\n",
       "    <tr style=\"text-align: right;\">\n",
       "      <th></th>\n",
       "      <th>label</th>\n",
       "      <th>term</th>\n",
       "      <th>weight</th>\n",
       "      <th>data_id</th>\n",
       "      <th>rank</th>\n",
       "    </tr>\n",
       "  </thead>\n",
       "  <tbody>\n",
       "    <tr>\n",
       "      <th>0</th>\n",
       "      <td>ENTITY#44</td>\n",
       "      <td>nikon_d3200_dslr_camera</td>\n",
       "      <td>0.221665</td>\n",
       "      <td>0</td>\n",
       "      <td>1.0</td>\n",
       "    </tr>\n",
       "    <tr>\n",
       "      <th>1</th>\n",
       "      <td>ENTITY#44</td>\n",
       "      <td>55_200mm_lenses</td>\n",
       "      <td>0.197231</td>\n",
       "      <td>0</td>\n",
       "      <td>2.0</td>\n",
       "    </tr>\n",
       "    <tr>\n",
       "      <th>2</th>\n",
       "      <td>ENTITY#44</td>\n",
       "      <td>18_55mm</td>\n",
       "      <td>0.115510</td>\n",
       "      <td>0</td>\n",
       "      <td>3.0</td>\n",
       "    </tr>\n",
       "    <tr>\n",
       "      <th>3</th>\n",
       "      <td>ENTITY#44</td>\n",
       "      <td>black_ebay</td>\n",
       "      <td>0.102250</td>\n",
       "      <td>0</td>\n",
       "      <td>4.0</td>\n",
       "    </tr>\n",
       "    <tr>\n",
       "      <th>4</th>\n",
       "      <td>ENTITY#44</td>\n",
       "      <td>nikon_d3200</td>\n",
       "      <td>0.571242</td>\n",
       "      <td>1</td>\n",
       "      <td>1.0</td>\n",
       "    </tr>\n",
       "  </tbody>\n",
       "</table>\n",
       "</div>"
      ],
      "text/plain": [
       "       label                     term    weight  data_id  rank\n",
       "0  ENTITY#44  nikon_d3200_dslr_camera  0.221665        0   1.0\n",
       "1  ENTITY#44          55_200mm_lenses  0.197231        0   2.0\n",
       "2  ENTITY#44                  18_55mm  0.115510        0   3.0\n",
       "3  ENTITY#44               black_ebay  0.102250        0   4.0\n",
       "4  ENTITY#44              nikon_d3200  0.571242        1   1.0"
      ]
     },
     "execution_count": 7,
     "metadata": {},
     "output_type": "execute_result"
    }
   ],
   "source": [
    "terms_df.head()"
   ]
  },
  {
   "cell_type": "markdown",
   "metadata": {},
   "source": [
    "### Compute stats"
   ]
  },
  {
   "cell_type": "code",
   "execution_count": 16,
   "metadata": {
    "ExecuteTime": {
     "end_time": "2020-09-22T21:07:44.876698Z",
     "start_time": "2020-09-22T21:07:44.845188Z"
    }
   },
   "outputs": [],
   "source": [
    "terms_stats_df_1 = terms_df.groupby(['label', 'term']).agg({'weight': 'sum','rank': 'mean'})\n",
    "terms_stats_df_2 = terms_df.groupby(['label', 'term']).size().to_frame('count')\n",
    "terms_stats_df = terms_stats_df_1.join(terms_stats_df_2).reset_index()"
   ]
  },
  {
   "cell_type": "code",
   "execution_count": 17,
   "metadata": {
    "ExecuteTime": {
     "end_time": "2020-09-22T21:07:45.954225Z",
     "start_time": "2020-09-22T21:07:45.934251Z"
    }
   },
   "outputs": [
    {
     "data": {
      "text/html": [
       "<div>\n",
       "<style scoped>\n",
       "    .dataframe tbody tr th:only-of-type {\n",
       "        vertical-align: middle;\n",
       "    }\n",
       "\n",
       "    .dataframe tbody tr th {\n",
       "        vertical-align: top;\n",
       "    }\n",
       "\n",
       "    .dataframe thead th {\n",
       "        text-align: right;\n",
       "    }\n",
       "</style>\n",
       "<table border=\"1\" class=\"dataframe\">\n",
       "  <thead>\n",
       "    <tr style=\"text-align: right;\">\n",
       "      <th></th>\n",
       "      <th>label</th>\n",
       "      <th>term</th>\n",
       "      <th>weight</th>\n",
       "      <th>rank</th>\n",
       "      <th>count</th>\n",
       "    </tr>\n",
       "  </thead>\n",
       "  <tbody>\n",
       "    <tr>\n",
       "      <th>0</th>\n",
       "      <td>ENTITY#101</td>\n",
       "      <td>3mp</td>\n",
       "      <td>0.046001</td>\n",
       "      <td>3.0</td>\n",
       "      <td>1</td>\n",
       "    </tr>\n",
       "    <tr>\n",
       "      <th>1</th>\n",
       "      <td>ENTITY#101</td>\n",
       "      <td>5d</td>\n",
       "      <td>1.673307</td>\n",
       "      <td>1.6</td>\n",
       "      <td>5</td>\n",
       "    </tr>\n",
       "    <tr>\n",
       "      <th>2</th>\n",
       "      <td>ENTITY#101</td>\n",
       "      <td>5d_mark</td>\n",
       "      <td>10.450083</td>\n",
       "      <td>1.0</td>\n",
       "      <td>14</td>\n",
       "    </tr>\n",
       "    <tr>\n",
       "      <th>3</th>\n",
       "      <td>ENTITY#101</td>\n",
       "      <td>5d_mark_iii</td>\n",
       "      <td>37.700795</td>\n",
       "      <td>1.0</td>\n",
       "      <td>40</td>\n",
       "    </tr>\n",
       "    <tr>\n",
       "      <th>4</th>\n",
       "      <td>ENTITY#101</td>\n",
       "      <td>5d_mark_iii_black_slr_digital_camera_kit_w/</td>\n",
       "      <td>1.670841</td>\n",
       "      <td>1.0</td>\n",
       "      <td>2</td>\n",
       "    </tr>\n",
       "  </tbody>\n",
       "</table>\n",
       "</div>"
      ],
      "text/plain": [
       "        label                                         term     weight  rank  \\\n",
       "0  ENTITY#101                                          3mp   0.046001   3.0   \n",
       "1  ENTITY#101                                           5d   1.673307   1.6   \n",
       "2  ENTITY#101                                      5d_mark  10.450083   1.0   \n",
       "3  ENTITY#101                                  5d_mark_iii  37.700795   1.0   \n",
       "4  ENTITY#101  5d_mark_iii_black_slr_digital_camera_kit_w/   1.670841   1.0   \n",
       "\n",
       "   count  \n",
       "0      1  \n",
       "1      5  \n",
       "2     14  \n",
       "3     40  \n",
       "4      2  "
      ]
     },
     "execution_count": 17,
     "metadata": {},
     "output_type": "execute_result"
    }
   ],
   "source": [
    "terms_stats_df.head()"
   ]
  },
  {
   "cell_type": "markdown",
   "metadata": {
    "ExecuteTime": {
     "end_time": "2020-09-22T21:07:22.493467Z",
     "start_time": "2020-09-22T21:07:22.478186Z"
    }
   },
   "source": [
    "### Ranking"
   ]
  },
  {
   "cell_type": "code",
   "execution_count": 29,
   "metadata": {
    "ExecuteTime": {
     "end_time": "2020-09-22T21:16:38.782471Z",
     "start_time": "2020-09-22T21:16:38.699793Z"
    }
   },
   "outputs": [
    {
     "data": {
      "text/html": [
       "<div>\n",
       "<style scoped>\n",
       "    .dataframe tbody tr th:only-of-type {\n",
       "        vertical-align: middle;\n",
       "    }\n",
       "\n",
       "    .dataframe tbody tr th {\n",
       "        vertical-align: top;\n",
       "    }\n",
       "\n",
       "    .dataframe thead th {\n",
       "        text-align: right;\n",
       "    }\n",
       "</style>\n",
       "<table border=\"1\" class=\"dataframe\">\n",
       "  <thead>\n",
       "    <tr style=\"text-align: right;\">\n",
       "      <th></th>\n",
       "      <th>label</th>\n",
       "      <th>term</th>\n",
       "    </tr>\n",
       "  </thead>\n",
       "  <tbody>\n",
       "    <tr>\n",
       "      <th>0</th>\n",
       "      <td>ENTITY#101</td>\n",
       "      <td>5d_mark_iii</td>\n",
       "    </tr>\n",
       "    <tr>\n",
       "      <th>1</th>\n",
       "      <td>ENTITY#101</td>\n",
       "      <td>5d_mark</td>\n",
       "    </tr>\n",
       "    <tr>\n",
       "      <th>2</th>\n",
       "      <td>ENTITY#101</td>\n",
       "      <td>canon_eos_5d_mark_iii_22_3_mp_full_frame</td>\n",
       "    </tr>\n",
       "    <tr>\n",
       "      <th>49</th>\n",
       "      <td>ENTITY#18</td>\n",
       "      <td>canon_eos_60d</td>\n",
       "    </tr>\n",
       "    <tr>\n",
       "      <th>50</th>\n",
       "      <td>ENTITY#18</td>\n",
       "      <td>canon_eos_60d_digital_slr_essentials</td>\n",
       "    </tr>\n",
       "    <tr>\n",
       "      <th>51</th>\n",
       "      <td>ENTITY#18</td>\n",
       "      <td>canon_eos_60d_dslr_camera_kit</td>\n",
       "    </tr>\n",
       "    <tr>\n",
       "      <th>172</th>\n",
       "      <td>ENTITY#21</td>\n",
       "      <td>nikon_d5100</td>\n",
       "    </tr>\n",
       "    <tr>\n",
       "      <th>173</th>\n",
       "      <td>ENTITY#21</td>\n",
       "      <td>nikon_d5100_digital_slr_camera</td>\n",
       "    </tr>\n",
       "    <tr>\n",
       "      <th>174</th>\n",
       "      <td>ENTITY#21</td>\n",
       "      <td>2_mp_digital_slr_camera_black_body</td>\n",
       "    </tr>\n",
       "    <tr>\n",
       "      <th>316</th>\n",
       "      <td>ENTITY#23</td>\n",
       "      <td>canon_eos_7d</td>\n",
       "    </tr>\n",
       "    <tr>\n",
       "      <th>317</th>\n",
       "      <td>ENTITY#23</td>\n",
       "      <td>7d</td>\n",
       "    </tr>\n",
       "    <tr>\n",
       "      <th>318</th>\n",
       "      <td>ENTITY#23</td>\n",
       "      <td>canon_eos_7d_digital_slr_camera</td>\n",
       "    </tr>\n",
       "    <tr>\n",
       "      <th>377</th>\n",
       "      <td>ENTITY#36</td>\n",
       "      <td>14_2_mp_digital_slr_camera_black_kit</td>\n",
       "    </tr>\n",
       "    <tr>\n",
       "      <th>378</th>\n",
       "      <td>ENTITY#36</td>\n",
       "      <td>nikon_d3100_digital_slr_camera</td>\n",
       "    </tr>\n",
       "    <tr>\n",
       "      <th>379</th>\n",
       "      <td>ENTITY#36</td>\n",
       "      <td>nikon_d3100_dslr_camera</td>\n",
       "    </tr>\n",
       "    <tr>\n",
       "      <th>513</th>\n",
       "      <td>ENTITY#41</td>\n",
       "      <td>24_1_mp_digital_slr_camera_black_kit</td>\n",
       "    </tr>\n",
       "    <tr>\n",
       "      <th>514</th>\n",
       "      <td>ENTITY#41</td>\n",
       "      <td>nikon_d5200_digital_slr_camera</td>\n",
       "    </tr>\n",
       "    <tr>\n",
       "      <th>515</th>\n",
       "      <td>ENTITY#41</td>\n",
       "      <td>nikon_d5200_twin_kit</td>\n",
       "    </tr>\n",
       "    <tr>\n",
       "      <th>694</th>\n",
       "      <td>ENTITY#44</td>\n",
       "      <td>nikon_d3200</td>\n",
       "    </tr>\n",
       "    <tr>\n",
       "      <th>695</th>\n",
       "      <td>ENTITY#44</td>\n",
       "      <td>24_2_mp_digital_slr_camera_black_kit</td>\n",
       "    </tr>\n",
       "    <tr>\n",
       "      <th>696</th>\n",
       "      <td>ENTITY#44</td>\n",
       "      <td>24_2_mp_digital_slr_camera_black_body</td>\n",
       "    </tr>\n",
       "    <tr>\n",
       "      <th>932</th>\n",
       "      <td>ENTITY#6</td>\n",
       "      <td>nikon_d5300_kit</td>\n",
       "    </tr>\n",
       "    <tr>\n",
       "      <th>933</th>\n",
       "      <td>ENTITY#6</td>\n",
       "      <td>nikon_d5300_digital_slr_camera_black</td>\n",
       "    </tr>\n",
       "    <tr>\n",
       "      <th>934</th>\n",
       "      <td>ENTITY#6</td>\n",
       "      <td>nikon_d5300_dslr_camera</td>\n",
       "    </tr>\n",
       "    <tr>\n",
       "      <th>1117</th>\n",
       "      <td>ENTITY#75</td>\n",
       "      <td>nikon_d7000</td>\n",
       "    </tr>\n",
       "    <tr>\n",
       "      <th>1118</th>\n",
       "      <td>ENTITY#75</td>\n",
       "      <td>nikon_d7000_18-55mm</td>\n",
       "    </tr>\n",
       "    <tr>\n",
       "      <th>1119</th>\n",
       "      <td>ENTITY#75</td>\n",
       "      <td>d7000_kit</td>\n",
       "    </tr>\n",
       "    <tr>\n",
       "      <th>1286</th>\n",
       "      <td>ENTITY#96</td>\n",
       "      <td>canon_eos_70d</td>\n",
       "    </tr>\n",
       "    <tr>\n",
       "      <th>1287</th>\n",
       "      <td>ENTITY#96</td>\n",
       "      <td>canon_eos_70d_dslr_camera</td>\n",
       "    </tr>\n",
       "    <tr>\n",
       "      <th>1288</th>\n",
       "      <td>ENTITY#96</td>\n",
       "      <td>canon_eos_70d_digital_slr_camera</td>\n",
       "    </tr>\n",
       "  </tbody>\n",
       "</table>\n",
       "</div>"
      ],
      "text/plain": [
       "           label                                      term\n",
       "0     ENTITY#101                               5d_mark_iii\n",
       "1     ENTITY#101                                   5d_mark\n",
       "2     ENTITY#101  canon_eos_5d_mark_iii_22_3_mp_full_frame\n",
       "49     ENTITY#18                             canon_eos_60d\n",
       "50     ENTITY#18      canon_eos_60d_digital_slr_essentials\n",
       "51     ENTITY#18             canon_eos_60d_dslr_camera_kit\n",
       "172    ENTITY#21                               nikon_d5100\n",
       "173    ENTITY#21            nikon_d5100_digital_slr_camera\n",
       "174    ENTITY#21        2_mp_digital_slr_camera_black_body\n",
       "316    ENTITY#23                              canon_eos_7d\n",
       "317    ENTITY#23                                        7d\n",
       "318    ENTITY#23           canon_eos_7d_digital_slr_camera\n",
       "377    ENTITY#36      14_2_mp_digital_slr_camera_black_kit\n",
       "378    ENTITY#36            nikon_d3100_digital_slr_camera\n",
       "379    ENTITY#36                   nikon_d3100_dslr_camera\n",
       "513    ENTITY#41      24_1_mp_digital_slr_camera_black_kit\n",
       "514    ENTITY#41            nikon_d5200_digital_slr_camera\n",
       "515    ENTITY#41                      nikon_d5200_twin_kit\n",
       "694    ENTITY#44                               nikon_d3200\n",
       "695    ENTITY#44      24_2_mp_digital_slr_camera_black_kit\n",
       "696    ENTITY#44     24_2_mp_digital_slr_camera_black_body\n",
       "932     ENTITY#6                           nikon_d5300_kit\n",
       "933     ENTITY#6      nikon_d5300_digital_slr_camera_black\n",
       "934     ENTITY#6                   nikon_d5300_dslr_camera\n",
       "1117   ENTITY#75                               nikon_d7000\n",
       "1118   ENTITY#75                       nikon_d7000_18-55mm\n",
       "1119   ENTITY#75                                 d7000_kit\n",
       "1286   ENTITY#96                             canon_eos_70d\n",
       "1287   ENTITY#96                 canon_eos_70d_dslr_camera\n",
       "1288   ENTITY#96          canon_eos_70d_digital_slr_camera"
      ]
     },
     "execution_count": 29,
     "metadata": {},
     "output_type": "execute_result"
    }
   ],
   "source": [
    "terms_stats_df.groupby('label')\\\n",
    "    .apply(lambda grp: grp.sort_values(by=['rank', 'weight'], ascending=[True, False]))\\\n",
    "        .reset_index(drop=True).groupby('label').head(3)[['label', 'term']]"
   ]
  },
  {
   "cell_type": "markdown",
   "metadata": {},
   "source": [
    "---"
   ]
  }
 ],
 "metadata": {
  "kernelspec": {
   "display_name": "Python 3",
   "language": "python",
   "name": "python3"
  },
  "language_info": {
   "codemirror_mode": {
    "name": "ipython",
    "version": 3
   },
   "file_extension": ".py",
   "mimetype": "text/x-python",
   "name": "python",
   "nbconvert_exporter": "python",
   "pygments_lexer": "ipython3",
   "version": "3.8.1"
  },
  "toc": {
   "base_numbering": 1,
   "nav_menu": {},
   "number_sections": true,
   "sideBar": true,
   "skip_h1_title": false,
   "title_cell": "Table of Contents",
   "title_sidebar": "Contents",
   "toc_cell": false,
   "toc_position": {},
   "toc_section_display": true,
   "toc_window_display": false
  }
 },
 "nbformat": 4,
 "nbformat_minor": 4
}
