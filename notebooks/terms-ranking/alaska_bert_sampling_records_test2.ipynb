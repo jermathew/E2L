{
 "cells": [
  {
   "cell_type": "markdown",
   "metadata": {},
   "source": [
    "# Process terms \n",
    "Process terms retrieved from the neural network model using `LIME`"
   ]
  },
  {
   "cell_type": "markdown",
   "metadata": {},
   "source": [
    "## Load the retrieved terms"
   ]
  },
  {
   "cell_type": "code",
   "execution_count": 1,
   "metadata": {
    "ExecuteTime": {
     "end_time": "2021-01-09T14:51:09.666230Z",
     "start_time": "2021-01-09T14:51:09.663067Z"
    }
   },
   "outputs": [],
   "source": [
    "import os"
   ]
  },
  {
   "cell_type": "code",
   "execution_count": 2,
   "metadata": {
    "ExecuteTime": {
     "end_time": "2021-01-09T14:51:09.928771Z",
     "start_time": "2021-01-09T14:51:09.923552Z"
    }
   },
   "outputs": [],
   "source": [
    "root_dir = '../..'\n",
    "data_dir = 'data/terms'\n",
    "dataset_name = 'alaska'\n",
    "test_name = 'sampling_records_test2'\n",
    "filename = f'relevant_terms_{dataset_name}_bert_{test_name}.csv'\n",
    "filepath = os.path.join(root_dir, data_dir, filename)"
   ]
  },
  {
   "cell_type": "code",
   "execution_count": 3,
   "metadata": {
    "ExecuteTime": {
     "end_time": "2021-01-09T14:51:10.566404Z",
     "start_time": "2021-01-09T14:51:10.211260Z"
    }
   },
   "outputs": [],
   "source": [
    "import pandas as pd"
   ]
  },
  {
   "cell_type": "code",
   "execution_count": 4,
   "metadata": {
    "ExecuteTime": {
     "end_time": "2021-01-09T14:51:10.575334Z",
     "start_time": "2021-01-09T14:51:10.568192Z"
    }
   },
   "outputs": [],
   "source": [
    "terms_df = pd.read_csv(filepath)"
   ]
  },
  {
   "cell_type": "code",
   "execution_count": 5,
   "metadata": {
    "ExecuteTime": {
     "end_time": "2021-01-09T14:51:10.902244Z",
     "start_time": "2021-01-09T14:51:10.872072Z"
    }
   },
   "outputs": [
    {
     "data": {
      "text/html": [
       "<div>\n",
       "<style scoped>\n",
       "    .dataframe tbody tr th:only-of-type {\n",
       "        vertical-align: middle;\n",
       "    }\n",
       "\n",
       "    .dataframe tbody tr th {\n",
       "        vertical-align: top;\n",
       "    }\n",
       "\n",
       "    .dataframe thead th {\n",
       "        text-align: right;\n",
       "    }\n",
       "</style>\n",
       "<table border=\"1\" class=\"dataframe\">\n",
       "  <thead>\n",
       "    <tr style=\"text-align: right;\">\n",
       "      <th></th>\n",
       "      <th>label</th>\n",
       "      <th>term</th>\n",
       "      <th>weight</th>\n",
       "      <th>data_id</th>\n",
       "    </tr>\n",
       "  </thead>\n",
       "  <tbody>\n",
       "    <tr>\n",
       "      <th>0</th>\n",
       "      <td>ENTITY#44</td>\n",
       "      <td>d32oo</td>\n",
       "      <td>0.849249</td>\n",
       "      <td>34</td>\n",
       "    </tr>\n",
       "    <tr>\n",
       "      <th>1</th>\n",
       "      <td>ENTITY#44</td>\n",
       "      <td>d3200</td>\n",
       "      <td>0.851559</td>\n",
       "      <td>116</td>\n",
       "    </tr>\n",
       "    <tr>\n",
       "      <th>2</th>\n",
       "      <td>ENTITY#44</td>\n",
       "      <td>d3200_24_2mp_digital_slr_camera_w_af</td>\n",
       "      <td>0.918222</td>\n",
       "      <td>32</td>\n",
       "    </tr>\n",
       "    <tr>\n",
       "      <th>3</th>\n",
       "      <td>ENTITY#44</td>\n",
       "      <td>nikon_d3200</td>\n",
       "      <td>0.589502</td>\n",
       "      <td>56</td>\n",
       "    </tr>\n",
       "    <tr>\n",
       "      <th>4</th>\n",
       "      <td>ENTITY#44</td>\n",
       "      <td>vr</td>\n",
       "      <td>0.045263</td>\n",
       "      <td>56</td>\n",
       "    </tr>\n",
       "  </tbody>\n",
       "</table>\n",
       "</div>"
      ],
      "text/plain": [
       "       label                                  term    weight  data_id\n",
       "0  ENTITY#44                                 d32oo  0.849249       34\n",
       "1  ENTITY#44                                 d3200  0.851559      116\n",
       "2  ENTITY#44  d3200_24_2mp_digital_slr_camera_w_af  0.918222       32\n",
       "3  ENTITY#44                           nikon_d3200  0.589502       56\n",
       "4  ENTITY#44                                    vr  0.045263       56"
      ]
     },
     "execution_count": 5,
     "metadata": {},
     "output_type": "execute_result"
    }
   ],
   "source": [
    "terms_df.head()"
   ]
  },
  {
   "cell_type": "code",
   "execution_count": 13,
   "metadata": {
    "ExecuteTime": {
     "end_time": "2021-01-09T14:51:38.948398Z",
     "start_time": "2021-01-09T14:51:38.939727Z"
    }
   },
   "outputs": [
    {
     "data": {
      "text/plain": [
       "(1336, 4)"
      ]
     },
     "execution_count": 13,
     "metadata": {},
     "output_type": "execute_result"
    }
   ],
   "source": [
    "terms_df.shape"
   ]
  },
  {
   "cell_type": "markdown",
   "metadata": {},
   "source": [
    "---"
   ]
  },
  {
   "cell_type": "markdown",
   "metadata": {},
   "source": [
    "## Rank terms"
   ]
  },
  {
   "cell_type": "markdown",
   "metadata": {},
   "source": [
    "### Aggregate (sum) LIME weights for each term"
   ]
  },
  {
   "cell_type": "code",
   "execution_count": 6,
   "metadata": {
    "ExecuteTime": {
     "end_time": "2021-01-09T14:51:12.307259Z",
     "start_time": "2021-01-09T14:51:12.290726Z"
    }
   },
   "outputs": [],
   "source": [
    "terms_stats_df = terms_df.groupby(['label', 'term']).agg({'weight': 'sum'}).reset_index()"
   ]
  },
  {
   "cell_type": "code",
   "execution_count": 7,
   "metadata": {
    "ExecuteTime": {
     "end_time": "2021-01-09T14:51:12.712820Z",
     "start_time": "2021-01-09T14:51:12.699332Z"
    }
   },
   "outputs": [
    {
     "data": {
      "text/html": [
       "<div>\n",
       "<style scoped>\n",
       "    .dataframe tbody tr th:only-of-type {\n",
       "        vertical-align: middle;\n",
       "    }\n",
       "\n",
       "    .dataframe tbody tr th {\n",
       "        vertical-align: top;\n",
       "    }\n",
       "\n",
       "    .dataframe thead th {\n",
       "        text-align: right;\n",
       "    }\n",
       "</style>\n",
       "<table border=\"1\" class=\"dataframe\">\n",
       "  <thead>\n",
       "    <tr style=\"text-align: right;\">\n",
       "      <th></th>\n",
       "      <th>label</th>\n",
       "      <th>term</th>\n",
       "      <th>weight</th>\n",
       "    </tr>\n",
       "  </thead>\n",
       "  <tbody>\n",
       "    <tr>\n",
       "      <th>0</th>\n",
       "      <td>ENTITY#101</td>\n",
       "      <td>22_3_mp_dslr_kit</td>\n",
       "      <td>0.033307</td>\n",
       "    </tr>\n",
       "    <tr>\n",
       "      <th>1</th>\n",
       "      <td>ENTITY#101</td>\n",
       "      <td>24-70/2</td>\n",
       "      <td>0.265517</td>\n",
       "    </tr>\n",
       "    <tr>\n",
       "      <th>2</th>\n",
       "      <td>ENTITY#101</td>\n",
       "      <td>2_batteries</td>\n",
       "      <td>0.105568</td>\n",
       "    </tr>\n",
       "    <tr>\n",
       "      <th>3</th>\n",
       "      <td>ENTITY#101</td>\n",
       "      <td>3</td>\n",
       "      <td>0.079372</td>\n",
       "    </tr>\n",
       "    <tr>\n",
       "      <th>4</th>\n",
       "      <td>ENTITY#101</td>\n",
       "      <td>3_ebay</td>\n",
       "      <td>0.057442</td>\n",
       "    </tr>\n",
       "  </tbody>\n",
       "</table>\n",
       "</div>"
      ],
      "text/plain": [
       "        label              term    weight\n",
       "0  ENTITY#101  22_3_mp_dslr_kit  0.033307\n",
       "1  ENTITY#101           24-70/2  0.265517\n",
       "2  ENTITY#101       2_batteries  0.105568\n",
       "3  ENTITY#101                 3  0.079372\n",
       "4  ENTITY#101            3_ebay  0.057442"
      ]
     },
     "execution_count": 7,
     "metadata": {},
     "output_type": "execute_result"
    }
   ],
   "source": [
    "terms_stats_df.head()"
   ]
  },
  {
   "cell_type": "markdown",
   "metadata": {
    "ExecuteTime": {
     "end_time": "2020-09-22T21:07:22.493467Z",
     "start_time": "2020-09-22T21:07:22.478186Z"
    }
   },
   "source": [
    "### Sort terms\n",
    "Rank terms by total weight (descending)"
   ]
  },
  {
   "cell_type": "code",
   "execution_count": 8,
   "metadata": {
    "ExecuteTime": {
     "end_time": "2021-01-09T14:51:13.700386Z",
     "start_time": "2021-01-09T14:51:13.661185Z"
    }
   },
   "outputs": [],
   "source": [
    "ranking_df = terms_stats_df.groupby('label')\\\n",
    "                .apply(lambda grp: grp.sort_values(by='weight', ascending=False))\\\n",
    "                .reset_index(drop=True)"
   ]
  },
  {
   "cell_type": "code",
   "execution_count": 9,
   "metadata": {
    "ExecuteTime": {
     "end_time": "2021-01-09T14:51:14.231293Z",
     "start_time": "2021-01-09T14:51:14.200835Z"
    }
   },
   "outputs": [
    {
     "data": {
      "text/html": [
       "<div>\n",
       "<style scoped>\n",
       "    .dataframe tbody tr th:only-of-type {\n",
       "        vertical-align: middle;\n",
       "    }\n",
       "\n",
       "    .dataframe tbody tr th {\n",
       "        vertical-align: top;\n",
       "    }\n",
       "\n",
       "    .dataframe thead th {\n",
       "        text-align: right;\n",
       "    }\n",
       "</style>\n",
       "<table border=\"1\" class=\"dataframe\">\n",
       "  <thead>\n",
       "    <tr style=\"text-align: right;\">\n",
       "      <th></th>\n",
       "      <th>label</th>\n",
       "      <th>term</th>\n",
       "      <th>weight</th>\n",
       "    </tr>\n",
       "  </thead>\n",
       "  <tbody>\n",
       "    <tr>\n",
       "      <th>0</th>\n",
       "      <td>ENTITY#101</td>\n",
       "      <td>5d_mark_iii</td>\n",
       "      <td>6.769827</td>\n",
       "    </tr>\n",
       "    <tr>\n",
       "      <th>1</th>\n",
       "      <td>ENTITY#101</td>\n",
       "      <td>5d_mark_iii_dslr_camera</td>\n",
       "      <td>2.659496</td>\n",
       "    </tr>\n",
       "    <tr>\n",
       "      <th>2</th>\n",
       "      <td>ENTITY#101</td>\n",
       "      <td>canon_eos_5d_mark_iii_body</td>\n",
       "      <td>2.583473</td>\n",
       "    </tr>\n",
       "    <tr>\n",
       "      <th>52</th>\n",
       "      <td>ENTITY#102</td>\n",
       "      <td>ii</td>\n",
       "      <td>22.943243</td>\n",
       "    </tr>\n",
       "    <tr>\n",
       "      <th>53</th>\n",
       "      <td>ENTITY#102</td>\n",
       "      <td>mark</td>\n",
       "      <td>6.373213</td>\n",
       "    </tr>\n",
       "    <tr>\n",
       "      <th>54</th>\n",
       "      <td>ENTITY#102</td>\n",
       "      <td>canon_eos_5d</td>\n",
       "      <td>4.938897</td>\n",
       "    </tr>\n",
       "    <tr>\n",
       "      <th>80</th>\n",
       "      <td>ENTITY#16</td>\n",
       "      <td>nikon_d90</td>\n",
       "      <td>20.657028</td>\n",
       "    </tr>\n",
       "    <tr>\n",
       "      <th>81</th>\n",
       "      <td>ENTITY#16</td>\n",
       "      <td>nikon_d90_camera</td>\n",
       "      <td>1.911760</td>\n",
       "    </tr>\n",
       "    <tr>\n",
       "      <th>82</th>\n",
       "      <td>ENTITY#16</td>\n",
       "      <td>nikon_d90_kit_w_speedlight</td>\n",
       "      <td>0.964545</td>\n",
       "    </tr>\n",
       "    <tr>\n",
       "      <th>111</th>\n",
       "      <td>ENTITY#18</td>\n",
       "      <td>canon_eos_60d</td>\n",
       "      <td>11.555803</td>\n",
       "    </tr>\n",
       "    <tr>\n",
       "      <th>112</th>\n",
       "      <td>ENTITY#18</td>\n",
       "      <td>60d</td>\n",
       "      <td>7.552393</td>\n",
       "    </tr>\n",
       "    <tr>\n",
       "      <th>113</th>\n",
       "      <td>ENTITY#18</td>\n",
       "      <td>canon_60d</td>\n",
       "      <td>1.773192</td>\n",
       "    </tr>\n",
       "    <tr>\n",
       "      <th>152</th>\n",
       "      <td>ENTITY#19</td>\n",
       "      <td>nikon_d3300</td>\n",
       "      <td>12.271616</td>\n",
       "    </tr>\n",
       "    <tr>\n",
       "      <th>153</th>\n",
       "      <td>ENTITY#19</td>\n",
       "      <td>d3300</td>\n",
       "      <td>7.471124</td>\n",
       "    </tr>\n",
       "    <tr>\n",
       "      <th>154</th>\n",
       "      <td>ENTITY#19</td>\n",
       "      <td>nikon_d3300_kit</td>\n",
       "      <td>3.498390</td>\n",
       "    </tr>\n",
       "    <tr>\n",
       "      <th>179</th>\n",
       "      <td>ENTITY#21</td>\n",
       "      <td>d5100</td>\n",
       "      <td>11.935918</td>\n",
       "    </tr>\n",
       "    <tr>\n",
       "      <th>180</th>\n",
       "      <td>ENTITY#21</td>\n",
       "      <td>nikon_d5100</td>\n",
       "      <td>8.297826</td>\n",
       "    </tr>\n",
       "    <tr>\n",
       "      <th>181</th>\n",
       "      <td>ENTITY#21</td>\n",
       "      <td>nikon_d5100_kit</td>\n",
       "      <td>1.904114</td>\n",
       "    </tr>\n",
       "    <tr>\n",
       "      <th>210</th>\n",
       "      <td>ENTITY#23</td>\n",
       "      <td>canon_eos_7d</td>\n",
       "      <td>14.893094</td>\n",
       "    </tr>\n",
       "    <tr>\n",
       "      <th>211</th>\n",
       "      <td>ENTITY#23</td>\n",
       "      <td>7d</td>\n",
       "      <td>5.425027</td>\n",
       "    </tr>\n",
       "    <tr>\n",
       "      <th>212</th>\n",
       "      <td>ENTITY#23</td>\n",
       "      <td>canon_7d</td>\n",
       "      <td>3.359564</td>\n",
       "    </tr>\n",
       "    <tr>\n",
       "      <th>241</th>\n",
       "      <td>ENTITY#36</td>\n",
       "      <td>nikon_d3100</td>\n",
       "      <td>12.002460</td>\n",
       "    </tr>\n",
       "    <tr>\n",
       "      <th>242</th>\n",
       "      <td>ENTITY#36</td>\n",
       "      <td>d3100</td>\n",
       "      <td>4.030879</td>\n",
       "    </tr>\n",
       "    <tr>\n",
       "      <th>243</th>\n",
       "      <td>ENTITY#36</td>\n",
       "      <td>nikon_d3100_dslr_camera</td>\n",
       "      <td>2.252924</td>\n",
       "    </tr>\n",
       "    <tr>\n",
       "      <th>299</th>\n",
       "      <td>ENTITY#37</td>\n",
       "      <td>nikon_d80</td>\n",
       "      <td>22.872165</td>\n",
       "    </tr>\n",
       "    <tr>\n",
       "      <th>300</th>\n",
       "      <td>ENTITY#37</td>\n",
       "      <td>nikon_d80_10_2mp_digital_slr_camera_kit</td>\n",
       "      <td>2.781959</td>\n",
       "    </tr>\n",
       "    <tr>\n",
       "      <th>301</th>\n",
       "      <td>ENTITY#37</td>\n",
       "      <td>nikon_d80_digital_slr_camera_black</td>\n",
       "      <td>0.947008</td>\n",
       "    </tr>\n",
       "    <tr>\n",
       "      <th>313</th>\n",
       "      <td>ENTITY#41</td>\n",
       "      <td>d5200</td>\n",
       "      <td>6.532683</td>\n",
       "    </tr>\n",
       "    <tr>\n",
       "      <th>314</th>\n",
       "      <td>ENTITY#41</td>\n",
       "      <td>nikon_d5200</td>\n",
       "      <td>5.667038</td>\n",
       "    </tr>\n",
       "    <tr>\n",
       "      <th>315</th>\n",
       "      <td>ENTITY#41</td>\n",
       "      <td>nikon_d5200_digital_slr_camera</td>\n",
       "      <td>3.769603</td>\n",
       "    </tr>\n",
       "    <tr>\n",
       "      <th>350</th>\n",
       "      <td>ENTITY#44</td>\n",
       "      <td>d3200</td>\n",
       "      <td>12.571315</td>\n",
       "    </tr>\n",
       "    <tr>\n",
       "      <th>351</th>\n",
       "      <td>ENTITY#44</td>\n",
       "      <td>nikon_d3200</td>\n",
       "      <td>8.952936</td>\n",
       "    </tr>\n",
       "    <tr>\n",
       "      <th>352</th>\n",
       "      <td>ENTITY#44</td>\n",
       "      <td>nikon_d3200_kit</td>\n",
       "      <td>2.112716</td>\n",
       "    </tr>\n",
       "    <tr>\n",
       "      <th>387</th>\n",
       "      <td>ENTITY#57</td>\n",
       "      <td>nikon_d800</td>\n",
       "      <td>17.753455</td>\n",
       "    </tr>\n",
       "    <tr>\n",
       "      <th>388</th>\n",
       "      <td>ENTITY#57</td>\n",
       "      <td>d800</td>\n",
       "      <td>3.555075</td>\n",
       "    </tr>\n",
       "    <tr>\n",
       "      <th>389</th>\n",
       "      <td>ENTITY#57</td>\n",
       "      <td>nikon_d800_digital_slr_camera_body</td>\n",
       "      <td>2.413873</td>\n",
       "    </tr>\n",
       "    <tr>\n",
       "      <th>407</th>\n",
       "      <td>ENTITY#58</td>\n",
       "      <td>1_j1</td>\n",
       "      <td>5.057683</td>\n",
       "    </tr>\n",
       "    <tr>\n",
       "      <th>408</th>\n",
       "      <td>ENTITY#58</td>\n",
       "      <td>j1</td>\n",
       "      <td>4.191352</td>\n",
       "    </tr>\n",
       "    <tr>\n",
       "      <th>409</th>\n",
       "      <td>ENTITY#58</td>\n",
       "      <td>1</td>\n",
       "      <td>2.791720</td>\n",
       "    </tr>\n",
       "    <tr>\n",
       "      <th>455</th>\n",
       "      <td>ENTITY#6</td>\n",
       "      <td>nikon_d5300</td>\n",
       "      <td>10.229263</td>\n",
       "    </tr>\n",
       "    <tr>\n",
       "      <th>456</th>\n",
       "      <td>ENTITY#6</td>\n",
       "      <td>d5300</td>\n",
       "      <td>3.887376</td>\n",
       "    </tr>\n",
       "    <tr>\n",
       "      <th>457</th>\n",
       "      <td>ENTITY#6</td>\n",
       "      <td>nikon_d5300_dslr_camera</td>\n",
       "      <td>3.706051</td>\n",
       "    </tr>\n",
       "    <tr>\n",
       "      <th>491</th>\n",
       "      <td>ENTITY#7</td>\n",
       "      <td>olympus_om_e_m5</td>\n",
       "      <td>5.547876</td>\n",
       "    </tr>\n",
       "    <tr>\n",
       "      <th>492</th>\n",
       "      <td>ENTITY#7</td>\n",
       "      <td>olympus_om</td>\n",
       "      <td>4.617429</td>\n",
       "    </tr>\n",
       "    <tr>\n",
       "      <th>493</th>\n",
       "      <td>ENTITY#7</td>\n",
       "      <td>olympus_om-d</td>\n",
       "      <td>2.770551</td>\n",
       "    </tr>\n",
       "    <tr>\n",
       "      <th>522</th>\n",
       "      <td>ENTITY#75</td>\n",
       "      <td>d7000</td>\n",
       "      <td>19.825527</td>\n",
       "    </tr>\n",
       "    <tr>\n",
       "      <th>523</th>\n",
       "      <td>ENTITY#75</td>\n",
       "      <td>nikon_d7000</td>\n",
       "      <td>9.623477</td>\n",
       "    </tr>\n",
       "    <tr>\n",
       "      <th>524</th>\n",
       "      <td>ENTITY#75</td>\n",
       "      <td>d7000_body</td>\n",
       "      <td>1.879771</td>\n",
       "    </tr>\n",
       "    <tr>\n",
       "      <th>546</th>\n",
       "      <td>ENTITY#76</td>\n",
       "      <td>d610</td>\n",
       "      <td>11.014550</td>\n",
       "    </tr>\n",
       "    <tr>\n",
       "      <th>547</th>\n",
       "      <td>ENTITY#76</td>\n",
       "      <td>nikon_d610</td>\n",
       "      <td>6.574877</td>\n",
       "    </tr>\n",
       "    <tr>\n",
       "      <th>548</th>\n",
       "      <td>ENTITY#76</td>\n",
       "      <td>d610_24_3_mp_digital_slr_camera_body</td>\n",
       "      <td>2.794514</td>\n",
       "    </tr>\n",
       "    <tr>\n",
       "      <th>574</th>\n",
       "      <td>ENTITY#8</td>\n",
       "      <td>1_j3</td>\n",
       "      <td>16.529044</td>\n",
       "    </tr>\n",
       "    <tr>\n",
       "      <th>575</th>\n",
       "      <td>ENTITY#8</td>\n",
       "      <td>j3</td>\n",
       "      <td>5.947541</td>\n",
       "    </tr>\n",
       "    <tr>\n",
       "      <th>576</th>\n",
       "      <td>ENTITY#8</td>\n",
       "      <td>nikon_j3_interchangable_lens_digital_camera</td>\n",
       "      <td>3.696314</td>\n",
       "    </tr>\n",
       "    <tr>\n",
       "      <th>596</th>\n",
       "      <td>ENTITY#84</td>\n",
       "      <td>nikon_d300</td>\n",
       "      <td>24.597781</td>\n",
       "    </tr>\n",
       "    <tr>\n",
       "      <th>597</th>\n",
       "      <td>ENTITY#84</td>\n",
       "      <td>nikon_d300_body</td>\n",
       "      <td>1.875102</td>\n",
       "    </tr>\n",
       "    <tr>\n",
       "      <th>598</th>\n",
       "      <td>ENTITY#84</td>\n",
       "      <td>d300</td>\n",
       "      <td>1.806945</td>\n",
       "    </tr>\n",
       "    <tr>\n",
       "      <th>608</th>\n",
       "      <td>ENTITY#96</td>\n",
       "      <td>70d</td>\n",
       "      <td>6.730381</td>\n",
       "    </tr>\n",
       "    <tr>\n",
       "      <th>609</th>\n",
       "      <td>ENTITY#96</td>\n",
       "      <td>canon_eos_70d</td>\n",
       "      <td>4.642494</td>\n",
       "    </tr>\n",
       "    <tr>\n",
       "      <th>610</th>\n",
       "      <td>ENTITY#96</td>\n",
       "      <td>canon_eos_70d_dslr_camera</td>\n",
       "      <td>2.703558</td>\n",
       "    </tr>\n",
       "  </tbody>\n",
       "</table>\n",
       "</div>"
      ],
      "text/plain": [
       "          label                                         term     weight\n",
       "0    ENTITY#101                                  5d_mark_iii   6.769827\n",
       "1    ENTITY#101                      5d_mark_iii_dslr_camera   2.659496\n",
       "2    ENTITY#101                   canon_eos_5d_mark_iii_body   2.583473\n",
       "52   ENTITY#102                                           ii  22.943243\n",
       "53   ENTITY#102                                         mark   6.373213\n",
       "54   ENTITY#102                                 canon_eos_5d   4.938897\n",
       "80    ENTITY#16                                    nikon_d90  20.657028\n",
       "81    ENTITY#16                             nikon_d90_camera   1.911760\n",
       "82    ENTITY#16                   nikon_d90_kit_w_speedlight   0.964545\n",
       "111   ENTITY#18                                canon_eos_60d  11.555803\n",
       "112   ENTITY#18                                          60d   7.552393\n",
       "113   ENTITY#18                                    canon_60d   1.773192\n",
       "152   ENTITY#19                                  nikon_d3300  12.271616\n",
       "153   ENTITY#19                                        d3300   7.471124\n",
       "154   ENTITY#19                              nikon_d3300_kit   3.498390\n",
       "179   ENTITY#21                                        d5100  11.935918\n",
       "180   ENTITY#21                                  nikon_d5100   8.297826\n",
       "181   ENTITY#21                              nikon_d5100_kit   1.904114\n",
       "210   ENTITY#23                                 canon_eos_7d  14.893094\n",
       "211   ENTITY#23                                           7d   5.425027\n",
       "212   ENTITY#23                                     canon_7d   3.359564\n",
       "241   ENTITY#36                                  nikon_d3100  12.002460\n",
       "242   ENTITY#36                                        d3100   4.030879\n",
       "243   ENTITY#36                      nikon_d3100_dslr_camera   2.252924\n",
       "299   ENTITY#37                                    nikon_d80  22.872165\n",
       "300   ENTITY#37      nikon_d80_10_2mp_digital_slr_camera_kit   2.781959\n",
       "301   ENTITY#37           nikon_d80_digital_slr_camera_black   0.947008\n",
       "313   ENTITY#41                                        d5200   6.532683\n",
       "314   ENTITY#41                                  nikon_d5200   5.667038\n",
       "315   ENTITY#41               nikon_d5200_digital_slr_camera   3.769603\n",
       "350   ENTITY#44                                        d3200  12.571315\n",
       "351   ENTITY#44                                  nikon_d3200   8.952936\n",
       "352   ENTITY#44                              nikon_d3200_kit   2.112716\n",
       "387   ENTITY#57                                   nikon_d800  17.753455\n",
       "388   ENTITY#57                                         d800   3.555075\n",
       "389   ENTITY#57           nikon_d800_digital_slr_camera_body   2.413873\n",
       "407   ENTITY#58                                         1_j1   5.057683\n",
       "408   ENTITY#58                                           j1   4.191352\n",
       "409   ENTITY#58                                            1   2.791720\n",
       "455    ENTITY#6                                  nikon_d5300  10.229263\n",
       "456    ENTITY#6                                        d5300   3.887376\n",
       "457    ENTITY#6                      nikon_d5300_dslr_camera   3.706051\n",
       "491    ENTITY#7                              olympus_om_e_m5   5.547876\n",
       "492    ENTITY#7                                   olympus_om   4.617429\n",
       "493    ENTITY#7                                 olympus_om-d   2.770551\n",
       "522   ENTITY#75                                        d7000  19.825527\n",
       "523   ENTITY#75                                  nikon_d7000   9.623477\n",
       "524   ENTITY#75                                   d7000_body   1.879771\n",
       "546   ENTITY#76                                         d610  11.014550\n",
       "547   ENTITY#76                                   nikon_d610   6.574877\n",
       "548   ENTITY#76         d610_24_3_mp_digital_slr_camera_body   2.794514\n",
       "574    ENTITY#8                                         1_j3  16.529044\n",
       "575    ENTITY#8                                           j3   5.947541\n",
       "576    ENTITY#8  nikon_j3_interchangable_lens_digital_camera   3.696314\n",
       "596   ENTITY#84                                   nikon_d300  24.597781\n",
       "597   ENTITY#84                              nikon_d300_body   1.875102\n",
       "598   ENTITY#84                                         d300   1.806945\n",
       "608   ENTITY#96                                          70d   6.730381\n",
       "609   ENTITY#96                                canon_eos_70d   4.642494\n",
       "610   ENTITY#96                    canon_eos_70d_dslr_camera   2.703558"
      ]
     },
     "execution_count": 9,
     "metadata": {},
     "output_type": "execute_result"
    }
   ],
   "source": [
    "ranking_df.groupby('label').head(3)"
   ]
  },
  {
   "cell_type": "markdown",
   "metadata": {},
   "source": [
    "---"
   ]
  },
  {
   "cell_type": "markdown",
   "metadata": {},
   "source": [
    "## Save ranking"
   ]
  },
  {
   "cell_type": "code",
   "execution_count": 10,
   "metadata": {
    "ExecuteTime": {
     "end_time": "2021-01-09T14:51:15.814609Z",
     "start_time": "2021-01-09T14:51:15.807719Z"
    }
   },
   "outputs": [],
   "source": [
    "ranking_filename = f'ranking_{dataset_name}_bert_{test_name}.xlsx'\n",
    "ranking_filepath = os.path.join(root_dir, data_dir, ranking_filename)"
   ]
  },
  {
   "cell_type": "code",
   "execution_count": 11,
   "metadata": {
    "ExecuteTime": {
     "end_time": "2021-01-09T14:51:22.574681Z",
     "start_time": "2021-01-09T14:51:22.570663Z"
    }
   },
   "outputs": [
    {
     "data": {
      "text/plain": [
       "'../../data/terms/ranking_alaska_bert_sampling_records_test2.xlsx'"
      ]
     },
     "execution_count": 11,
     "metadata": {},
     "output_type": "execute_result"
    }
   ],
   "source": [
    "ranking_filepath"
   ]
  },
  {
   "cell_type": "code",
   "execution_count": 12,
   "metadata": {
    "ExecuteTime": {
     "end_time": "2021-01-09T14:51:25.850556Z",
     "start_time": "2021-01-09T14:51:25.492261Z"
    }
   },
   "outputs": [],
   "source": [
    "ranking_df.to_excel(ranking_filepath)"
   ]
  },
  {
   "cell_type": "markdown",
   "metadata": {},
   "source": [
    "---"
   ]
  }
 ],
 "metadata": {
  "kernelspec": {
   "display_name": "Python 3",
   "language": "python",
   "name": "python3"
  },
  "language_info": {
   "codemirror_mode": {
    "name": "ipython",
    "version": 3
   },
   "file_extension": ".py",
   "mimetype": "text/x-python",
   "name": "python",
   "nbconvert_exporter": "python",
   "pygments_lexer": "ipython3",
   "version": "3.8.1"
  },
  "toc": {
   "base_numbering": 1,
   "nav_menu": {},
   "number_sections": true,
   "sideBar": true,
   "skip_h1_title": false,
   "title_cell": "Table of Contents",
   "title_sidebar": "Contents",
   "toc_cell": false,
   "toc_position": {},
   "toc_section_display": true,
   "toc_window_display": false
  }
 },
 "nbformat": 4,
 "nbformat_minor": 4
}
