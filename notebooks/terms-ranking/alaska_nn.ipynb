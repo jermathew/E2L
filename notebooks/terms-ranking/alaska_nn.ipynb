{
 "cells": [
  {
   "cell_type": "markdown",
   "metadata": {},
   "source": [
    "# Process terms \n",
    "Process terms retrieved from the neural network model using `LIME`"
   ]
  },
  {
   "cell_type": "markdown",
   "metadata": {},
   "source": [
    "---"
   ]
  },
  {
   "cell_type": "markdown",
   "metadata": {},
   "source": [
    "## Load the retrieved terms"
   ]
  },
  {
   "cell_type": "code",
   "execution_count": 1,
   "metadata": {
    "ExecuteTime": {
     "end_time": "2020-11-25T10:53:38.454207Z",
     "start_time": "2020-11-25T10:53:38.450040Z"
    }
   },
   "outputs": [],
   "source": [
    "import os"
   ]
  },
  {
   "cell_type": "code",
   "execution_count": 2,
   "metadata": {
    "ExecuteTime": {
     "end_time": "2020-11-25T10:53:38.462300Z",
     "start_time": "2020-11-25T10:53:38.457522Z"
    }
   },
   "outputs": [],
   "source": [
    "root_dir = '../..'\n",
    "data_dir = 'data/terms'\n",
    "filename = 'relevant_terms_alaska_nn.csv'\n",
    "filepath = os.path.join(root_dir, data_dir, filename)"
   ]
  },
  {
   "cell_type": "code",
   "execution_count": 3,
   "metadata": {
    "ExecuteTime": {
     "end_time": "2020-11-25T10:53:38.768703Z",
     "start_time": "2020-11-25T10:53:38.465560Z"
    }
   },
   "outputs": [],
   "source": [
    "import pandas as pd"
   ]
  },
  {
   "cell_type": "code",
   "execution_count": 4,
   "metadata": {
    "ExecuteTime": {
     "end_time": "2020-11-25T10:53:38.782071Z",
     "start_time": "2020-11-25T10:53:38.770782Z"
    }
   },
   "outputs": [],
   "source": [
    "terms_df = pd.read_csv(filepath)"
   ]
  },
  {
   "cell_type": "code",
   "execution_count": 5,
   "metadata": {
    "ExecuteTime": {
     "end_time": "2020-11-25T10:53:38.800858Z",
     "start_time": "2020-11-25T10:53:38.783853Z"
    }
   },
   "outputs": [
    {
     "data": {
      "text/html": [
       "<div>\n",
       "<style scoped>\n",
       "    .dataframe tbody tr th:only-of-type {\n",
       "        vertical-align: middle;\n",
       "    }\n",
       "\n",
       "    .dataframe tbody tr th {\n",
       "        vertical-align: top;\n",
       "    }\n",
       "\n",
       "    .dataframe thead th {\n",
       "        text-align: right;\n",
       "    }\n",
       "</style>\n",
       "<table border=\"1\" class=\"dataframe\">\n",
       "  <thead>\n",
       "    <tr style=\"text-align: right;\">\n",
       "      <th></th>\n",
       "      <th>label</th>\n",
       "      <th>term</th>\n",
       "      <th>weight</th>\n",
       "      <th>data_id</th>\n",
       "    </tr>\n",
       "  </thead>\n",
       "  <tbody>\n",
       "    <tr>\n",
       "      <th>0</th>\n",
       "      <td>ENTITY#44</td>\n",
       "      <td>nikon_d3200_dslr_camera</td>\n",
       "      <td>0.563572</td>\n",
       "      <td>0</td>\n",
       "    </tr>\n",
       "    <tr>\n",
       "      <th>1</th>\n",
       "      <td>ENTITY#44</td>\n",
       "      <td>18_55mm</td>\n",
       "      <td>0.265820</td>\n",
       "      <td>0</td>\n",
       "    </tr>\n",
       "    <tr>\n",
       "      <th>2</th>\n",
       "      <td>ENTITY#44</td>\n",
       "      <td>55_200mm_lenses</td>\n",
       "      <td>0.175857</td>\n",
       "      <td>0</td>\n",
       "    </tr>\n",
       "    <tr>\n",
       "      <th>3</th>\n",
       "      <td>ENTITY#44</td>\n",
       "      <td>black_ebay</td>\n",
       "      <td>0.129290</td>\n",
       "      <td>0</td>\n",
       "    </tr>\n",
       "    <tr>\n",
       "      <th>4</th>\n",
       "      <td>ENTITY#44</td>\n",
       "      <td>nikon_d3200</td>\n",
       "      <td>0.812544</td>\n",
       "      <td>1</td>\n",
       "    </tr>\n",
       "  </tbody>\n",
       "</table>\n",
       "</div>"
      ],
      "text/plain": [
       "       label                     term    weight  data_id\n",
       "0  ENTITY#44  nikon_d3200_dslr_camera  0.563572        0\n",
       "1  ENTITY#44                  18_55mm  0.265820        0\n",
       "2  ENTITY#44          55_200mm_lenses  0.175857        0\n",
       "3  ENTITY#44               black_ebay  0.129290        0\n",
       "4  ENTITY#44              nikon_d3200  0.812544        1"
      ]
     },
     "execution_count": 5,
     "metadata": {},
     "output_type": "execute_result"
    }
   ],
   "source": [
    "terms_df.head()"
   ]
  },
  {
   "cell_type": "markdown",
   "metadata": {},
   "source": [
    "---"
   ]
  },
  {
   "cell_type": "markdown",
   "metadata": {},
   "source": [
    "## Rank terms"
   ]
  },
  {
   "cell_type": "markdown",
   "metadata": {},
   "source": [
    "### Aggregate (sum) LIME weights for each term"
   ]
  },
  {
   "cell_type": "code",
   "execution_count": 6,
   "metadata": {
    "ExecuteTime": {
     "end_time": "2020-11-25T10:53:38.814339Z",
     "start_time": "2020-11-25T10:53:38.803393Z"
    }
   },
   "outputs": [],
   "source": [
    "terms_stats_df = terms_df.groupby(['label', 'term']).agg({'weight': 'sum'}).reset_index()"
   ]
  },
  {
   "cell_type": "code",
   "execution_count": 7,
   "metadata": {
    "ExecuteTime": {
     "end_time": "2020-11-25T10:53:38.825743Z",
     "start_time": "2020-11-25T10:53:38.816687Z"
    }
   },
   "outputs": [
    {
     "data": {
      "text/html": [
       "<div>\n",
       "<style scoped>\n",
       "    .dataframe tbody tr th:only-of-type {\n",
       "        vertical-align: middle;\n",
       "    }\n",
       "\n",
       "    .dataframe tbody tr th {\n",
       "        vertical-align: top;\n",
       "    }\n",
       "\n",
       "    .dataframe thead th {\n",
       "        text-align: right;\n",
       "    }\n",
       "</style>\n",
       "<table border=\"1\" class=\"dataframe\">\n",
       "  <thead>\n",
       "    <tr style=\"text-align: right;\">\n",
       "      <th></th>\n",
       "      <th>label</th>\n",
       "      <th>term</th>\n",
       "      <th>weight</th>\n",
       "    </tr>\n",
       "  </thead>\n",
       "  <tbody>\n",
       "    <tr>\n",
       "      <th>0</th>\n",
       "      <td>ENTITY#101</td>\n",
       "      <td>2</td>\n",
       "      <td>0.055329</td>\n",
       "    </tr>\n",
       "    <tr>\n",
       "      <th>1</th>\n",
       "      <td>ENTITY#101</td>\n",
       "      <td>3</td>\n",
       "      <td>0.085212</td>\n",
       "    </tr>\n",
       "    <tr>\n",
       "      <th>2</th>\n",
       "      <td>ENTITY#101</td>\n",
       "      <td>3_ebay</td>\n",
       "      <td>0.091817</td>\n",
       "    </tr>\n",
       "    <tr>\n",
       "      <th>3</th>\n",
       "      <td>ENTITY#101</td>\n",
       "      <td>5d</td>\n",
       "      <td>1.497793</td>\n",
       "    </tr>\n",
       "    <tr>\n",
       "      <th>4</th>\n",
       "      <td>ENTITY#101</td>\n",
       "      <td>5d_mark</td>\n",
       "      <td>10.682544</td>\n",
       "    </tr>\n",
       "  </tbody>\n",
       "</table>\n",
       "</div>"
      ],
      "text/plain": [
       "        label     term     weight\n",
       "0  ENTITY#101        2   0.055329\n",
       "1  ENTITY#101        3   0.085212\n",
       "2  ENTITY#101   3_ebay   0.091817\n",
       "3  ENTITY#101       5d   1.497793\n",
       "4  ENTITY#101  5d_mark  10.682544"
      ]
     },
     "execution_count": 7,
     "metadata": {},
     "output_type": "execute_result"
    }
   ],
   "source": [
    "terms_stats_df.head()"
   ]
  },
  {
   "cell_type": "markdown",
   "metadata": {
    "ExecuteTime": {
     "end_time": "2020-09-22T21:07:22.493467Z",
     "start_time": "2020-09-22T21:07:22.478186Z"
    }
   },
   "source": [
    "### Sort terms\n",
    "Rank terms by total weight (descending)"
   ]
  },
  {
   "cell_type": "code",
   "execution_count": 8,
   "metadata": {
    "ExecuteTime": {
     "end_time": "2020-11-25T10:53:38.854199Z",
     "start_time": "2020-11-25T10:53:38.827919Z"
    }
   },
   "outputs": [],
   "source": [
    "ranking_df = terms_stats_df.groupby('label')\\\n",
    "                .apply(lambda grp: grp.sort_values(by='weight', ascending=False))\\\n",
    "                .reset_index(drop=True)"
   ]
  },
  {
   "cell_type": "code",
   "execution_count": 9,
   "metadata": {
    "ExecuteTime": {
     "end_time": "2020-11-25T10:53:38.874186Z",
     "start_time": "2020-11-25T10:53:38.856261Z"
    }
   },
   "outputs": [
    {
     "data": {
      "text/html": [
       "<div>\n",
       "<style scoped>\n",
       "    .dataframe tbody tr th:only-of-type {\n",
       "        vertical-align: middle;\n",
       "    }\n",
       "\n",
       "    .dataframe tbody tr th {\n",
       "        vertical-align: top;\n",
       "    }\n",
       "\n",
       "    .dataframe thead th {\n",
       "        text-align: right;\n",
       "    }\n",
       "</style>\n",
       "<table border=\"1\" class=\"dataframe\">\n",
       "  <thead>\n",
       "    <tr style=\"text-align: right;\">\n",
       "      <th></th>\n",
       "      <th>label</th>\n",
       "      <th>term</th>\n",
       "      <th>weight</th>\n",
       "    </tr>\n",
       "  </thead>\n",
       "  <tbody>\n",
       "    <tr>\n",
       "      <th>0</th>\n",
       "      <td>ENTITY#101</td>\n",
       "      <td>5d_mark_iii</td>\n",
       "      <td>38.210490</td>\n",
       "    </tr>\n",
       "    <tr>\n",
       "      <th>1</th>\n",
       "      <td>ENTITY#101</td>\n",
       "      <td>5d_mark</td>\n",
       "      <td>10.682544</td>\n",
       "    </tr>\n",
       "    <tr>\n",
       "      <th>2</th>\n",
       "      <td>ENTITY#101</td>\n",
       "      <td>canon_eos_5d_mark_iii_22_3_mp_full_frame</td>\n",
       "      <td>3.825436</td>\n",
       "    </tr>\n",
       "    <tr>\n",
       "      <th>56</th>\n",
       "      <td>ENTITY#102</td>\n",
       "      <td>canon_eos_5d</td>\n",
       "      <td>51.191093</td>\n",
       "    </tr>\n",
       "    <tr>\n",
       "      <th>57</th>\n",
       "      <td>ENTITY#102</td>\n",
       "      <td>ii</td>\n",
       "      <td>22.174833</td>\n",
       "    </tr>\n",
       "    <tr>\n",
       "      <th>58</th>\n",
       "      <td>ENTITY#102</td>\n",
       "      <td>mark</td>\n",
       "      <td>13.996577</td>\n",
       "    </tr>\n",
       "    <tr>\n",
       "      <th>102</th>\n",
       "      <td>ENTITY#16</td>\n",
       "      <td>nikon_d90</td>\n",
       "      <td>57.921286</td>\n",
       "    </tr>\n",
       "    <tr>\n",
       "      <th>103</th>\n",
       "      <td>ENTITY#16</td>\n",
       "      <td>nikon_d90_dx_12_3mp_digital_slr_camera</td>\n",
       "      <td>1.926593</td>\n",
       "    </tr>\n",
       "    <tr>\n",
       "      <th>104</th>\n",
       "      <td>ENTITY#16</td>\n",
       "      <td>nikon_d90_camera_body</td>\n",
       "      <td>1.922917</td>\n",
       "    </tr>\n",
       "    <tr>\n",
       "      <th>155</th>\n",
       "      <td>ENTITY#18</td>\n",
       "      <td>canon_eos_60d</td>\n",
       "      <td>53.296572</td>\n",
       "    </tr>\n",
       "    <tr>\n",
       "      <th>156</th>\n",
       "      <td>ENTITY#18</td>\n",
       "      <td>canon</td>\n",
       "      <td>19.626492</td>\n",
       "    </tr>\n",
       "    <tr>\n",
       "      <th>157</th>\n",
       "      <td>ENTITY#18</td>\n",
       "      <td>eos</td>\n",
       "      <td>14.650882</td>\n",
       "    </tr>\n",
       "    <tr>\n",
       "      <th>281</th>\n",
       "      <td>ENTITY#19</td>\n",
       "      <td>nikon_d3300</td>\n",
       "      <td>10.181559</td>\n",
       "    </tr>\n",
       "    <tr>\n",
       "      <th>282</th>\n",
       "      <td>ENTITY#19</td>\n",
       "      <td>d3300</td>\n",
       "      <td>5.745647</td>\n",
       "    </tr>\n",
       "    <tr>\n",
       "      <th>283</th>\n",
       "      <td>ENTITY#19</td>\n",
       "      <td>nikon_d3300_body</td>\n",
       "      <td>3.384217</td>\n",
       "    </tr>\n",
       "    <tr>\n",
       "      <th>416</th>\n",
       "      <td>ENTITY#21</td>\n",
       "      <td>d5100</td>\n",
       "      <td>31.853529</td>\n",
       "    </tr>\n",
       "    <tr>\n",
       "      <th>417</th>\n",
       "      <td>ENTITY#21</td>\n",
       "      <td>16</td>\n",
       "      <td>11.250391</td>\n",
       "    </tr>\n",
       "    <tr>\n",
       "      <th>418</th>\n",
       "      <td>ENTITY#21</td>\n",
       "      <td>nikon</td>\n",
       "      <td>9.832226</td>\n",
       "    </tr>\n",
       "    <tr>\n",
       "      <th>552</th>\n",
       "      <td>ENTITY#23</td>\n",
       "      <td>canon_eos_7d</td>\n",
       "      <td>98.851863</td>\n",
       "    </tr>\n",
       "    <tr>\n",
       "      <th>553</th>\n",
       "      <td>ENTITY#23</td>\n",
       "      <td>7d</td>\n",
       "      <td>9.207415</td>\n",
       "    </tr>\n",
       "    <tr>\n",
       "      <th>554</th>\n",
       "      <td>ENTITY#23</td>\n",
       "      <td>canon_eos_7d_digital_slr_camera</td>\n",
       "      <td>5.868210</td>\n",
       "    </tr>\n",
       "    <tr>\n",
       "      <th>612</th>\n",
       "      <td>ENTITY#36</td>\n",
       "      <td>nikon_d3100</td>\n",
       "      <td>32.010075</td>\n",
       "    </tr>\n",
       "    <tr>\n",
       "      <th>613</th>\n",
       "      <td>ENTITY#36</td>\n",
       "      <td>14_2_mp_digital_slr_camera_black_kit</td>\n",
       "      <td>9.635717</td>\n",
       "    </tr>\n",
       "    <tr>\n",
       "      <th>614</th>\n",
       "      <td>ENTITY#36</td>\n",
       "      <td>d3100</td>\n",
       "      <td>6.230925</td>\n",
       "    </tr>\n",
       "    <tr>\n",
       "      <th>780</th>\n",
       "      <td>ENTITY#37</td>\n",
       "      <td>nikon_d80</td>\n",
       "      <td>36.767419</td>\n",
       "    </tr>\n",
       "    <tr>\n",
       "      <th>781</th>\n",
       "      <td>ENTITY#37</td>\n",
       "      <td>018208254125_ebay</td>\n",
       "      <td>3.827872</td>\n",
       "    </tr>\n",
       "    <tr>\n",
       "      <th>782</th>\n",
       "      <td>ENTITY#37</td>\n",
       "      <td>10_2_mp_digital_slr_camera_black_body</td>\n",
       "      <td>3.567617</td>\n",
       "    </tr>\n",
       "    <tr>\n",
       "      <th>825</th>\n",
       "      <td>ENTITY#41</td>\n",
       "      <td>nikon_d5200</td>\n",
       "      <td>13.422045</td>\n",
       "    </tr>\n",
       "    <tr>\n",
       "      <th>826</th>\n",
       "      <td>ENTITY#41</td>\n",
       "      <td>d5200</td>\n",
       "      <td>10.239494</td>\n",
       "    </tr>\n",
       "    <tr>\n",
       "      <th>827</th>\n",
       "      <td>ENTITY#41</td>\n",
       "      <td>nikon_d5200_digital_slr_camera</td>\n",
       "      <td>7.712675</td>\n",
       "    </tr>\n",
       "    <tr>\n",
       "      <th>962</th>\n",
       "      <td>ENTITY#44</td>\n",
       "      <td>d3200</td>\n",
       "      <td>33.509954</td>\n",
       "    </tr>\n",
       "    <tr>\n",
       "      <th>963</th>\n",
       "      <td>ENTITY#44</td>\n",
       "      <td>nikon_d3200</td>\n",
       "      <td>29.837938</td>\n",
       "    </tr>\n",
       "    <tr>\n",
       "      <th>964</th>\n",
       "      <td>ENTITY#44</td>\n",
       "      <td>nikon</td>\n",
       "      <td>14.853645</td>\n",
       "    </tr>\n",
       "    <tr>\n",
       "      <th>1139</th>\n",
       "      <td>ENTITY#57</td>\n",
       "      <td>nikon_d800</td>\n",
       "      <td>30.012217</td>\n",
       "    </tr>\n",
       "    <tr>\n",
       "      <th>1140</th>\n",
       "      <td>ENTITY#57</td>\n",
       "      <td>36_3_mp_digital_slr_camera_black_body</td>\n",
       "      <td>7.969399</td>\n",
       "    </tr>\n",
       "    <tr>\n",
       "      <th>1141</th>\n",
       "      <td>ENTITY#57</td>\n",
       "      <td>d800</td>\n",
       "      <td>6.363447</td>\n",
       "    </tr>\n",
       "    <tr>\n",
       "      <th>1201</th>\n",
       "      <td>ENTITY#58</td>\n",
       "      <td>j1</td>\n",
       "      <td>16.619817</td>\n",
       "    </tr>\n",
       "    <tr>\n",
       "      <th>1202</th>\n",
       "      <td>ENTITY#58</td>\n",
       "      <td>10</td>\n",
       "      <td>9.556074</td>\n",
       "    </tr>\n",
       "    <tr>\n",
       "      <th>1203</th>\n",
       "      <td>ENTITY#58</td>\n",
       "      <td>1_j1</td>\n",
       "      <td>6.401212</td>\n",
       "    </tr>\n",
       "    <tr>\n",
       "      <th>1274</th>\n",
       "      <td>ENTITY#6</td>\n",
       "      <td>nikon_d5300</td>\n",
       "      <td>14.302714</td>\n",
       "    </tr>\n",
       "    <tr>\n",
       "      <th>1275</th>\n",
       "      <td>ENTITY#6</td>\n",
       "      <td>nikon_d5300_kit</td>\n",
       "      <td>10.570854</td>\n",
       "    </tr>\n",
       "    <tr>\n",
       "      <th>1276</th>\n",
       "      <td>ENTITY#6</td>\n",
       "      <td>nikon_d5300_dslr_camera</td>\n",
       "      <td>5.780416</td>\n",
       "    </tr>\n",
       "    <tr>\n",
       "      <th>1458</th>\n",
       "      <td>ENTITY#7</td>\n",
       "      <td>olympus_om_e_m5</td>\n",
       "      <td>5.612352</td>\n",
       "    </tr>\n",
       "    <tr>\n",
       "      <th>1459</th>\n",
       "      <td>ENTITY#7</td>\n",
       "      <td>olympus_om-d_e-m5</td>\n",
       "      <td>4.325457</td>\n",
       "    </tr>\n",
       "    <tr>\n",
       "      <th>1460</th>\n",
       "      <td>ENTITY#7</td>\n",
       "      <td>olympus_om-d</td>\n",
       "      <td>3.039933</td>\n",
       "    </tr>\n",
       "    <tr>\n",
       "      <th>1538</th>\n",
       "      <td>ENTITY#75</td>\n",
       "      <td>d7000</td>\n",
       "      <td>28.607860</td>\n",
       "    </tr>\n",
       "    <tr>\n",
       "      <th>1539</th>\n",
       "      <td>ENTITY#75</td>\n",
       "      <td>nikon_d7000</td>\n",
       "      <td>13.333458</td>\n",
       "    </tr>\n",
       "    <tr>\n",
       "      <th>1540</th>\n",
       "      <td>ENTITY#75</td>\n",
       "      <td>ebay</td>\n",
       "      <td>5.643985</td>\n",
       "    </tr>\n",
       "    <tr>\n",
       "      <th>1737</th>\n",
       "      <td>ENTITY#76</td>\n",
       "      <td>d610</td>\n",
       "      <td>12.802945</td>\n",
       "    </tr>\n",
       "    <tr>\n",
       "      <th>1738</th>\n",
       "      <td>ENTITY#76</td>\n",
       "      <td>nikon_d610_digital_slr_camera_body</td>\n",
       "      <td>5.538693</td>\n",
       "    </tr>\n",
       "    <tr>\n",
       "      <th>1739</th>\n",
       "      <td>ENTITY#76</td>\n",
       "      <td>nikon_d610</td>\n",
       "      <td>5.128914</td>\n",
       "    </tr>\n",
       "    <tr>\n",
       "      <th>1833</th>\n",
       "      <td>ENTITY#8</td>\n",
       "      <td>1_j3</td>\n",
       "      <td>21.505273</td>\n",
       "    </tr>\n",
       "    <tr>\n",
       "      <th>1834</th>\n",
       "      <td>ENTITY#8</td>\n",
       "      <td>nikon_j3_interchangable_lens_digital_camera</td>\n",
       "      <td>5.700558</td>\n",
       "    </tr>\n",
       "    <tr>\n",
       "      <th>1835</th>\n",
       "      <td>ENTITY#8</td>\n",
       "      <td>j3</td>\n",
       "      <td>2.917831</td>\n",
       "    </tr>\n",
       "    <tr>\n",
       "      <th>1897</th>\n",
       "      <td>ENTITY#84</td>\n",
       "      <td>nikon_d300</td>\n",
       "      <td>37.061742</td>\n",
       "    </tr>\n",
       "    <tr>\n",
       "      <th>1898</th>\n",
       "      <td>ENTITY#84</td>\n",
       "      <td>12_3_mp_digital_slr_camera_black_body</td>\n",
       "      <td>2.065297</td>\n",
       "    </tr>\n",
       "    <tr>\n",
       "      <th>1899</th>\n",
       "      <td>ENTITY#84</td>\n",
       "      <td>nikon_d300_body</td>\n",
       "      <td>1.818226</td>\n",
       "    </tr>\n",
       "    <tr>\n",
       "      <th>1931</th>\n",
       "      <td>ENTITY#96</td>\n",
       "      <td>canon_eos_70d</td>\n",
       "      <td>13.459056</td>\n",
       "    </tr>\n",
       "    <tr>\n",
       "      <th>1932</th>\n",
       "      <td>ENTITY#96</td>\n",
       "      <td>canon</td>\n",
       "      <td>12.879940</td>\n",
       "    </tr>\n",
       "    <tr>\n",
       "      <th>1933</th>\n",
       "      <td>ENTITY#96</td>\n",
       "      <td>eos</td>\n",
       "      <td>12.852117</td>\n",
       "    </tr>\n",
       "  </tbody>\n",
       "</table>\n",
       "</div>"
      ],
      "text/plain": [
       "           label                                         term     weight\n",
       "0     ENTITY#101                                  5d_mark_iii  38.210490\n",
       "1     ENTITY#101                                      5d_mark  10.682544\n",
       "2     ENTITY#101     canon_eos_5d_mark_iii_22_3_mp_full_frame   3.825436\n",
       "56    ENTITY#102                                 canon_eos_5d  51.191093\n",
       "57    ENTITY#102                                           ii  22.174833\n",
       "58    ENTITY#102                                         mark  13.996577\n",
       "102    ENTITY#16                                    nikon_d90  57.921286\n",
       "103    ENTITY#16       nikon_d90_dx_12_3mp_digital_slr_camera   1.926593\n",
       "104    ENTITY#16                        nikon_d90_camera_body   1.922917\n",
       "155    ENTITY#18                                canon_eos_60d  53.296572\n",
       "156    ENTITY#18                                        canon  19.626492\n",
       "157    ENTITY#18                                          eos  14.650882\n",
       "281    ENTITY#19                                  nikon_d3300  10.181559\n",
       "282    ENTITY#19                                        d3300   5.745647\n",
       "283    ENTITY#19                             nikon_d3300_body   3.384217\n",
       "416    ENTITY#21                                        d5100  31.853529\n",
       "417    ENTITY#21                                           16  11.250391\n",
       "418    ENTITY#21                                        nikon   9.832226\n",
       "552    ENTITY#23                                 canon_eos_7d  98.851863\n",
       "553    ENTITY#23                                           7d   9.207415\n",
       "554    ENTITY#23              canon_eos_7d_digital_slr_camera   5.868210\n",
       "612    ENTITY#36                                  nikon_d3100  32.010075\n",
       "613    ENTITY#36         14_2_mp_digital_slr_camera_black_kit   9.635717\n",
       "614    ENTITY#36                                        d3100   6.230925\n",
       "780    ENTITY#37                                    nikon_d80  36.767419\n",
       "781    ENTITY#37                            018208254125_ebay   3.827872\n",
       "782    ENTITY#37        10_2_mp_digital_slr_camera_black_body   3.567617\n",
       "825    ENTITY#41                                  nikon_d5200  13.422045\n",
       "826    ENTITY#41                                        d5200  10.239494\n",
       "827    ENTITY#41               nikon_d5200_digital_slr_camera   7.712675\n",
       "962    ENTITY#44                                        d3200  33.509954\n",
       "963    ENTITY#44                                  nikon_d3200  29.837938\n",
       "964    ENTITY#44                                        nikon  14.853645\n",
       "1139   ENTITY#57                                   nikon_d800  30.012217\n",
       "1140   ENTITY#57        36_3_mp_digital_slr_camera_black_body   7.969399\n",
       "1141   ENTITY#57                                         d800   6.363447\n",
       "1201   ENTITY#58                                           j1  16.619817\n",
       "1202   ENTITY#58                                           10   9.556074\n",
       "1203   ENTITY#58                                         1_j1   6.401212\n",
       "1274    ENTITY#6                                  nikon_d5300  14.302714\n",
       "1275    ENTITY#6                              nikon_d5300_kit  10.570854\n",
       "1276    ENTITY#6                      nikon_d5300_dslr_camera   5.780416\n",
       "1458    ENTITY#7                              olympus_om_e_m5   5.612352\n",
       "1459    ENTITY#7                            olympus_om-d_e-m5   4.325457\n",
       "1460    ENTITY#7                                 olympus_om-d   3.039933\n",
       "1538   ENTITY#75                                        d7000  28.607860\n",
       "1539   ENTITY#75                                  nikon_d7000  13.333458\n",
       "1540   ENTITY#75                                         ebay   5.643985\n",
       "1737   ENTITY#76                                         d610  12.802945\n",
       "1738   ENTITY#76           nikon_d610_digital_slr_camera_body   5.538693\n",
       "1739   ENTITY#76                                   nikon_d610   5.128914\n",
       "1833    ENTITY#8                                         1_j3  21.505273\n",
       "1834    ENTITY#8  nikon_j3_interchangable_lens_digital_camera   5.700558\n",
       "1835    ENTITY#8                                           j3   2.917831\n",
       "1897   ENTITY#84                                   nikon_d300  37.061742\n",
       "1898   ENTITY#84        12_3_mp_digital_slr_camera_black_body   2.065297\n",
       "1899   ENTITY#84                              nikon_d300_body   1.818226\n",
       "1931   ENTITY#96                                canon_eos_70d  13.459056\n",
       "1932   ENTITY#96                                        canon  12.879940\n",
       "1933   ENTITY#96                                          eos  12.852117"
      ]
     },
     "execution_count": 9,
     "metadata": {},
     "output_type": "execute_result"
    }
   ],
   "source": [
    "ranking_df.groupby('label').head(3)"
   ]
  },
  {
   "cell_type": "markdown",
   "metadata": {},
   "source": [
    "---"
   ]
  },
  {
   "cell_type": "markdown",
   "metadata": {},
   "source": [
    "## Save ranking"
   ]
  },
  {
   "cell_type": "code",
   "execution_count": 10,
   "metadata": {
    "ExecuteTime": {
     "end_time": "2020-11-25T10:53:38.878759Z",
     "start_time": "2020-11-25T10:53:38.875956Z"
    }
   },
   "outputs": [],
   "source": [
    "ranking_filename = 'ranking_alaska_nn.xlsx'\n",
    "ranking_filepath = os.path.join(root_dir, data_dir, ranking_filename)"
   ]
  },
  {
   "cell_type": "code",
   "execution_count": 11,
   "metadata": {
    "ExecuteTime": {
     "end_time": "2020-11-25T10:53:38.884596Z",
     "start_time": "2020-11-25T10:53:38.880714Z"
    }
   },
   "outputs": [
    {
     "data": {
      "text/plain": [
       "'../../data/terms/ranking_alaska_nn.xlsx'"
      ]
     },
     "execution_count": 11,
     "metadata": {},
     "output_type": "execute_result"
    }
   ],
   "source": [
    "ranking_filepath"
   ]
  },
  {
   "cell_type": "code",
   "execution_count": 12,
   "metadata": {
    "ExecuteTime": {
     "end_time": "2020-11-25T10:53:39.329625Z",
     "start_time": "2020-11-25T10:53:38.886242Z"
    }
   },
   "outputs": [],
   "source": [
    "ranking_df.to_excel(ranking_filepath)"
   ]
  },
  {
   "cell_type": "markdown",
   "metadata": {},
   "source": [
    "---"
   ]
  }
 ],
 "metadata": {
  "kernelspec": {
   "display_name": "Python 3",
   "language": "python",
   "name": "python3"
  },
  "language_info": {
   "codemirror_mode": {
    "name": "ipython",
    "version": 3
   },
   "file_extension": ".py",
   "mimetype": "text/x-python",
   "name": "python",
   "nbconvert_exporter": "python",
   "pygments_lexer": "ipython3",
   "version": "3.8.1"
  },
  "toc": {
   "base_numbering": 1,
   "nav_menu": {},
   "number_sections": true,
   "sideBar": true,
   "skip_h1_title": false,
   "title_cell": "Table of Contents",
   "title_sidebar": "Contents",
   "toc_cell": false,
   "toc_position": {},
   "toc_section_display": true,
   "toc_window_display": false
  }
 },
 "nbformat": 4,
 "nbformat_minor": 4
}
