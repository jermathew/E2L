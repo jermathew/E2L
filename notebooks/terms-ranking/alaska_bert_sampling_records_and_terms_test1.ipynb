{
 "cells": [
  {
   "cell_type": "markdown",
   "metadata": {},
   "source": [
    "# Process terms \n",
    "Process terms retrieved from the neural network model using `LIME`"
   ]
  },
  {
   "cell_type": "markdown",
   "metadata": {},
   "source": [
    "## Load the retrieved terms"
   ]
  },
  {
   "cell_type": "code",
   "execution_count": 1,
   "metadata": {
    "ExecuteTime": {
     "end_time": "2021-01-09T22:00:43.712036Z",
     "start_time": "2021-01-09T22:00:43.704292Z"
    }
   },
   "outputs": [],
   "source": [
    "import os"
   ]
  },
  {
   "cell_type": "code",
   "execution_count": 2,
   "metadata": {
    "ExecuteTime": {
     "end_time": "2021-01-09T22:00:43.886506Z",
     "start_time": "2021-01-09T22:00:43.882013Z"
    }
   },
   "outputs": [],
   "source": [
    "root_dir = '../..'\n",
    "data_dir = 'data/terms'\n",
    "dataset_name = 'alaska'\n",
    "test_name = 'sampling_records_and_terms_test1'\n",
    "filename = f'relevant_terms_{dataset_name}_bert_{test_name}.csv'\n",
    "filepath = os.path.join(root_dir, data_dir, filename)"
   ]
  },
  {
   "cell_type": "code",
   "execution_count": 3,
   "metadata": {
    "ExecuteTime": {
     "end_time": "2021-01-09T22:00:44.553335Z",
     "start_time": "2021-01-09T22:00:44.232191Z"
    }
   },
   "outputs": [],
   "source": [
    "import pandas as pd"
   ]
  },
  {
   "cell_type": "code",
   "execution_count": 4,
   "metadata": {
    "ExecuteTime": {
     "end_time": "2021-01-09T22:00:44.561653Z",
     "start_time": "2021-01-09T22:00:44.554895Z"
    }
   },
   "outputs": [],
   "source": [
    "terms_df = pd.read_csv(filepath)"
   ]
  },
  {
   "cell_type": "code",
   "execution_count": 5,
   "metadata": {
    "ExecuteTime": {
     "end_time": "2021-01-09T22:00:44.593329Z",
     "start_time": "2021-01-09T22:00:44.570960Z"
    }
   },
   "outputs": [
    {
     "data": {
      "text/html": [
       "<div>\n",
       "<style scoped>\n",
       "    .dataframe tbody tr th:only-of-type {\n",
       "        vertical-align: middle;\n",
       "    }\n",
       "\n",
       "    .dataframe tbody tr th {\n",
       "        vertical-align: top;\n",
       "    }\n",
       "\n",
       "    .dataframe thead th {\n",
       "        text-align: right;\n",
       "    }\n",
       "</style>\n",
       "<table border=\"1\" class=\"dataframe\">\n",
       "  <thead>\n",
       "    <tr style=\"text-align: right;\">\n",
       "      <th></th>\n",
       "      <th>label</th>\n",
       "      <th>term</th>\n",
       "      <th>weight</th>\n",
       "      <th>data_id</th>\n",
       "    </tr>\n",
       "  </thead>\n",
       "  <tbody>\n",
       "    <tr>\n",
       "      <th>0</th>\n",
       "      <td>ENTITY#44</td>\n",
       "      <td>d3200_24_2_mp_digital_slr_camera_kit_body</td>\n",
       "      <td>0.925241</td>\n",
       "      <td>83</td>\n",
       "    </tr>\n",
       "    <tr>\n",
       "      <th>1</th>\n",
       "      <td>ENTITY#44</td>\n",
       "      <td>d3200</td>\n",
       "      <td>0.870331</td>\n",
       "      <td>160</td>\n",
       "    </tr>\n",
       "    <tr>\n",
       "      <th>2</th>\n",
       "      <td>ENTITY#44</td>\n",
       "      <td>nikon_d3200</td>\n",
       "      <td>0.752942</td>\n",
       "      <td>12</td>\n",
       "    </tr>\n",
       "    <tr>\n",
       "      <th>3</th>\n",
       "      <td>ENTITY#44</td>\n",
       "      <td>nikon_d3200_dslr_camera</td>\n",
       "      <td>0.742707</td>\n",
       "      <td>80</td>\n",
       "    </tr>\n",
       "    <tr>\n",
       "      <th>4</th>\n",
       "      <td>ENTITY#44</td>\n",
       "      <td>lens</td>\n",
       "      <td>0.040852</td>\n",
       "      <td>80</td>\n",
       "    </tr>\n",
       "  </tbody>\n",
       "</table>\n",
       "</div>"
      ],
      "text/plain": [
       "       label                                       term    weight  data_id\n",
       "0  ENTITY#44  d3200_24_2_mp_digital_slr_camera_kit_body  0.925241       83\n",
       "1  ENTITY#44                                      d3200  0.870331      160\n",
       "2  ENTITY#44                                nikon_d3200  0.752942       12\n",
       "3  ENTITY#44                    nikon_d3200_dslr_camera  0.742707       80\n",
       "4  ENTITY#44                                       lens  0.040852       80"
      ]
     },
     "execution_count": 5,
     "metadata": {},
     "output_type": "execute_result"
    }
   ],
   "source": [
    "terms_df.head()"
   ]
  },
  {
   "cell_type": "code",
   "execution_count": 6,
   "metadata": {
    "ExecuteTime": {
     "end_time": "2021-01-09T22:00:44.855550Z",
     "start_time": "2021-01-09T22:00:44.848092Z"
    }
   },
   "outputs": [
    {
     "data": {
      "text/plain": [
       "(2050, 4)"
      ]
     },
     "execution_count": 6,
     "metadata": {},
     "output_type": "execute_result"
    }
   ],
   "source": [
    "terms_df.shape"
   ]
  },
  {
   "cell_type": "markdown",
   "metadata": {},
   "source": [
    "---"
   ]
  },
  {
   "cell_type": "markdown",
   "metadata": {},
   "source": [
    "## Rank terms"
   ]
  },
  {
   "cell_type": "markdown",
   "metadata": {},
   "source": [
    "### Aggregate (sum) LIME weights for each term"
   ]
  },
  {
   "cell_type": "code",
   "execution_count": 7,
   "metadata": {
    "ExecuteTime": {
     "end_time": "2021-01-09T22:00:45.988853Z",
     "start_time": "2021-01-09T22:00:45.976161Z"
    }
   },
   "outputs": [],
   "source": [
    "terms_stats_df = terms_df.groupby(['label', 'term']).agg({'weight': 'sum'}).reset_index()"
   ]
  },
  {
   "cell_type": "code",
   "execution_count": 8,
   "metadata": {
    "ExecuteTime": {
     "end_time": "2021-01-09T22:00:46.400815Z",
     "start_time": "2021-01-09T22:00:46.386759Z"
    }
   },
   "outputs": [
    {
     "data": {
      "text/html": [
       "<div>\n",
       "<style scoped>\n",
       "    .dataframe tbody tr th:only-of-type {\n",
       "        vertical-align: middle;\n",
       "    }\n",
       "\n",
       "    .dataframe tbody tr th {\n",
       "        vertical-align: top;\n",
       "    }\n",
       "\n",
       "    .dataframe thead th {\n",
       "        text-align: right;\n",
       "    }\n",
       "</style>\n",
       "<table border=\"1\" class=\"dataframe\">\n",
       "  <thead>\n",
       "    <tr style=\"text-align: right;\">\n",
       "      <th></th>\n",
       "      <th>label</th>\n",
       "      <th>term</th>\n",
       "      <th>weight</th>\n",
       "    </tr>\n",
       "  </thead>\n",
       "  <tbody>\n",
       "    <tr>\n",
       "      <th>0</th>\n",
       "      <td>ENTITY#101</td>\n",
       "      <td>22_3_mp_dslr_kit</td>\n",
       "      <td>0.033307</td>\n",
       "    </tr>\n",
       "    <tr>\n",
       "      <th>1</th>\n",
       "      <td>ENTITY#101</td>\n",
       "      <td>22_3mp_brand</td>\n",
       "      <td>0.069255</td>\n",
       "    </tr>\n",
       "    <tr>\n",
       "      <th>2</th>\n",
       "      <td>ENTITY#101</td>\n",
       "      <td>24-70/2</td>\n",
       "      <td>0.265517</td>\n",
       "    </tr>\n",
       "    <tr>\n",
       "      <th>3</th>\n",
       "      <td>ENTITY#101</td>\n",
       "      <td>2_batteries</td>\n",
       "      <td>0.105568</td>\n",
       "    </tr>\n",
       "    <tr>\n",
       "      <th>4</th>\n",
       "      <td>ENTITY#101</td>\n",
       "      <td>3</td>\n",
       "      <td>0.079372</td>\n",
       "    </tr>\n",
       "  </tbody>\n",
       "</table>\n",
       "</div>"
      ],
      "text/plain": [
       "        label              term    weight\n",
       "0  ENTITY#101  22_3_mp_dslr_kit  0.033307\n",
       "1  ENTITY#101      22_3mp_brand  0.069255\n",
       "2  ENTITY#101           24-70/2  0.265517\n",
       "3  ENTITY#101       2_batteries  0.105568\n",
       "4  ENTITY#101                 3  0.079372"
      ]
     },
     "execution_count": 8,
     "metadata": {},
     "output_type": "execute_result"
    }
   ],
   "source": [
    "terms_stats_df.head()"
   ]
  },
  {
   "cell_type": "markdown",
   "metadata": {
    "ExecuteTime": {
     "end_time": "2020-09-22T21:07:22.493467Z",
     "start_time": "2020-09-22T21:07:22.478186Z"
    }
   },
   "source": [
    "### Sort terms\n",
    "Rank terms by total weight (descending)"
   ]
  },
  {
   "cell_type": "code",
   "execution_count": 9,
   "metadata": {
    "ExecuteTime": {
     "end_time": "2021-01-09T22:00:47.036599Z",
     "start_time": "2021-01-09T22:00:46.999078Z"
    }
   },
   "outputs": [],
   "source": [
    "ranking_df = terms_stats_df.groupby('label')\\\n",
    "                .apply(lambda grp: grp.sort_values(by='weight', ascending=False))\\\n",
    "                .reset_index(drop=True)"
   ]
  },
  {
   "cell_type": "code",
   "execution_count": 10,
   "metadata": {
    "ExecuteTime": {
     "end_time": "2021-01-09T22:00:47.379370Z",
     "start_time": "2021-01-09T22:00:47.335360Z"
    }
   },
   "outputs": [
    {
     "data": {
      "text/html": [
       "<div>\n",
       "<style scoped>\n",
       "    .dataframe tbody tr th:only-of-type {\n",
       "        vertical-align: middle;\n",
       "    }\n",
       "\n",
       "    .dataframe tbody tr th {\n",
       "        vertical-align: top;\n",
       "    }\n",
       "\n",
       "    .dataframe thead th {\n",
       "        text-align: right;\n",
       "    }\n",
       "</style>\n",
       "<table border=\"1\" class=\"dataframe\">\n",
       "  <thead>\n",
       "    <tr style=\"text-align: right;\">\n",
       "      <th></th>\n",
       "      <th>label</th>\n",
       "      <th>term</th>\n",
       "      <th>weight</th>\n",
       "    </tr>\n",
       "  </thead>\n",
       "  <tbody>\n",
       "    <tr>\n",
       "      <th>0</th>\n",
       "      <td>ENTITY#101</td>\n",
       "      <td>5d_mark_iii</td>\n",
       "      <td>13.082401</td>\n",
       "    </tr>\n",
       "    <tr>\n",
       "      <th>1</th>\n",
       "      <td>ENTITY#101</td>\n",
       "      <td>5d_mark</td>\n",
       "      <td>5.318549</td>\n",
       "    </tr>\n",
       "    <tr>\n",
       "      <th>2</th>\n",
       "      <td>ENTITY#101</td>\n",
       "      <td>canon_eos_5d_mark_iii_22_3_mp_full_frame</td>\n",
       "      <td>2.850493</td>\n",
       "    </tr>\n",
       "    <tr>\n",
       "      <th>63</th>\n",
       "      <td>ENTITY#102</td>\n",
       "      <td>ii</td>\n",
       "      <td>35.236154</td>\n",
       "    </tr>\n",
       "    <tr>\n",
       "      <th>64</th>\n",
       "      <td>ENTITY#102</td>\n",
       "      <td>mark</td>\n",
       "      <td>9.067888</td>\n",
       "    </tr>\n",
       "    <tr>\n",
       "      <th>65</th>\n",
       "      <td>ENTITY#102</td>\n",
       "      <td>canon_eos_5d</td>\n",
       "      <td>7.512695</td>\n",
       "    </tr>\n",
       "    <tr>\n",
       "      <th>91</th>\n",
       "      <td>ENTITY#16</td>\n",
       "      <td>nikon_d90</td>\n",
       "      <td>32.936929</td>\n",
       "    </tr>\n",
       "    <tr>\n",
       "      <th>92</th>\n",
       "      <td>ENTITY#16</td>\n",
       "      <td>nikon_d90_camera_body</td>\n",
       "      <td>1.922653</td>\n",
       "    </tr>\n",
       "    <tr>\n",
       "      <th>93</th>\n",
       "      <td>ENTITY#16</td>\n",
       "      <td>nikon_d90_camera</td>\n",
       "      <td>1.911760</td>\n",
       "    </tr>\n",
       "    <tr>\n",
       "      <th>122</th>\n",
       "      <td>ENTITY#18</td>\n",
       "      <td>canon_eos_60d</td>\n",
       "      <td>33.384055</td>\n",
       "    </tr>\n",
       "    <tr>\n",
       "      <th>123</th>\n",
       "      <td>ENTITY#18</td>\n",
       "      <td>60d</td>\n",
       "      <td>13.756493</td>\n",
       "    </tr>\n",
       "    <tr>\n",
       "      <th>124</th>\n",
       "      <td>ENTITY#18</td>\n",
       "      <td>canon_eos_60d_camera</td>\n",
       "      <td>2.584979</td>\n",
       "    </tr>\n",
       "    <tr>\n",
       "      <th>178</th>\n",
       "      <td>ENTITY#19</td>\n",
       "      <td>nikon_d3300</td>\n",
       "      <td>18.907803</td>\n",
       "    </tr>\n",
       "    <tr>\n",
       "      <th>179</th>\n",
       "      <td>ENTITY#19</td>\n",
       "      <td>d3300</td>\n",
       "      <td>9.369248</td>\n",
       "    </tr>\n",
       "    <tr>\n",
       "      <th>180</th>\n",
       "      <td>ENTITY#19</td>\n",
       "      <td>nikon_d3300_body</td>\n",
       "      <td>4.470056</td>\n",
       "    </tr>\n",
       "    <tr>\n",
       "      <th>210</th>\n",
       "      <td>ENTITY#21</td>\n",
       "      <td>d5100</td>\n",
       "      <td>28.950251</td>\n",
       "    </tr>\n",
       "    <tr>\n",
       "      <th>211</th>\n",
       "      <td>ENTITY#21</td>\n",
       "      <td>nikon_d5100</td>\n",
       "      <td>11.096690</td>\n",
       "    </tr>\n",
       "    <tr>\n",
       "      <th>212</th>\n",
       "      <td>ENTITY#21</td>\n",
       "      <td>nikon_d5100_digital_slr_camera</td>\n",
       "      <td>4.335855</td>\n",
       "    </tr>\n",
       "    <tr>\n",
       "      <th>247</th>\n",
       "      <td>ENTITY#23</td>\n",
       "      <td>canon_eos_7d</td>\n",
       "      <td>32.524124</td>\n",
       "    </tr>\n",
       "    <tr>\n",
       "      <th>248</th>\n",
       "      <td>ENTITY#23</td>\n",
       "      <td>7d</td>\n",
       "      <td>8.134262</td>\n",
       "    </tr>\n",
       "    <tr>\n",
       "      <th>249</th>\n",
       "      <td>ENTITY#23</td>\n",
       "      <td>canon_eos_7d_digital_slr_camera</td>\n",
       "      <td>5.300504</td>\n",
       "    </tr>\n",
       "    <tr>\n",
       "      <th>299</th>\n",
       "      <td>ENTITY#36</td>\n",
       "      <td>nikon_d3100</td>\n",
       "      <td>22.984877</td>\n",
       "    </tr>\n",
       "    <tr>\n",
       "      <th>300</th>\n",
       "      <td>ENTITY#36</td>\n",
       "      <td>d3100</td>\n",
       "      <td>12.269370</td>\n",
       "    </tr>\n",
       "    <tr>\n",
       "      <th>301</th>\n",
       "      <td>ENTITY#36</td>\n",
       "      <td>nikon_d3100_digital_slr_camera</td>\n",
       "      <td>4.194107</td>\n",
       "    </tr>\n",
       "    <tr>\n",
       "      <th>382</th>\n",
       "      <td>ENTITY#37</td>\n",
       "      <td>nikon_d80</td>\n",
       "      <td>28.225816</td>\n",
       "    </tr>\n",
       "    <tr>\n",
       "      <th>383</th>\n",
       "      <td>ENTITY#37</td>\n",
       "      <td>nikon_d80_10_2mp_digital_slr_camera_kit</td>\n",
       "      <td>2.781959</td>\n",
       "    </tr>\n",
       "    <tr>\n",
       "      <th>384</th>\n",
       "      <td>ENTITY#37</td>\n",
       "      <td>nikon_d80_digital_slr_camera_black</td>\n",
       "      <td>0.947008</td>\n",
       "    </tr>\n",
       "    <tr>\n",
       "      <th>396</th>\n",
       "      <td>ENTITY#41</td>\n",
       "      <td>nikon_d5200</td>\n",
       "      <td>12.275437</td>\n",
       "    </tr>\n",
       "    <tr>\n",
       "      <th>397</th>\n",
       "      <td>ENTITY#41</td>\n",
       "      <td>d5200</td>\n",
       "      <td>11.168044</td>\n",
       "    </tr>\n",
       "    <tr>\n",
       "      <th>398</th>\n",
       "      <td>ENTITY#41</td>\n",
       "      <td>nikon_d5200_digital_slr_camera</td>\n",
       "      <td>6.586261</td>\n",
       "    </tr>\n",
       "    <tr>\n",
       "      <th>449</th>\n",
       "      <td>ENTITY#44</td>\n",
       "      <td>d3200</td>\n",
       "      <td>24.069573</td>\n",
       "    </tr>\n",
       "    <tr>\n",
       "      <th>450</th>\n",
       "      <td>ENTITY#44</td>\n",
       "      <td>nikon_d3200</td>\n",
       "      <td>19.736269</td>\n",
       "    </tr>\n",
       "    <tr>\n",
       "      <th>451</th>\n",
       "      <td>ENTITY#44</td>\n",
       "      <td>nikon_d3200_kit</td>\n",
       "      <td>2.876053</td>\n",
       "    </tr>\n",
       "    <tr>\n",
       "      <th>512</th>\n",
       "      <td>ENTITY#57</td>\n",
       "      <td>nikon_d800</td>\n",
       "      <td>23.759762</td>\n",
       "    </tr>\n",
       "    <tr>\n",
       "      <th>513</th>\n",
       "      <td>ENTITY#57</td>\n",
       "      <td>d800</td>\n",
       "      <td>6.317728</td>\n",
       "    </tr>\n",
       "    <tr>\n",
       "      <th>514</th>\n",
       "      <td>ENTITY#57</td>\n",
       "      <td>nikon_d800_digital_slr_camera_body</td>\n",
       "      <td>2.413873</td>\n",
       "    </tr>\n",
       "    <tr>\n",
       "      <th>532</th>\n",
       "      <td>ENTITY#58</td>\n",
       "      <td>j1</td>\n",
       "      <td>6.967497</td>\n",
       "    </tr>\n",
       "    <tr>\n",
       "      <th>533</th>\n",
       "      <td>ENTITY#58</td>\n",
       "      <td>1_j1</td>\n",
       "      <td>5.057683</td>\n",
       "    </tr>\n",
       "    <tr>\n",
       "      <th>534</th>\n",
       "      <td>ENTITY#58</td>\n",
       "      <td>1</td>\n",
       "      <td>4.396067</td>\n",
       "    </tr>\n",
       "    <tr>\n",
       "      <th>588</th>\n",
       "      <td>ENTITY#6</td>\n",
       "      <td>nikon_d5300</td>\n",
       "      <td>17.731180</td>\n",
       "    </tr>\n",
       "    <tr>\n",
       "      <th>589</th>\n",
       "      <td>ENTITY#6</td>\n",
       "      <td>nikon_d5300_dslr_camera</td>\n",
       "      <td>6.540202</td>\n",
       "    </tr>\n",
       "    <tr>\n",
       "      <th>590</th>\n",
       "      <td>ENTITY#6</td>\n",
       "      <td>d5300</td>\n",
       "      <td>5.763841</td>\n",
       "    </tr>\n",
       "    <tr>\n",
       "      <th>641</th>\n",
       "      <td>ENTITY#7</td>\n",
       "      <td>olympus_om_e_m5</td>\n",
       "      <td>5.547876</td>\n",
       "    </tr>\n",
       "    <tr>\n",
       "      <th>642</th>\n",
       "      <td>ENTITY#7</td>\n",
       "      <td>olympus_om-d</td>\n",
       "      <td>5.544860</td>\n",
       "    </tr>\n",
       "    <tr>\n",
       "      <th>643</th>\n",
       "      <td>ENTITY#7</td>\n",
       "      <td>olympus_om-d_e-m5</td>\n",
       "      <td>5.332733</td>\n",
       "    </tr>\n",
       "    <tr>\n",
       "      <th>675</th>\n",
       "      <td>ENTITY#75</td>\n",
       "      <td>d7000</td>\n",
       "      <td>42.269901</td>\n",
       "    </tr>\n",
       "    <tr>\n",
       "      <th>676</th>\n",
       "      <td>ENTITY#75</td>\n",
       "      <td>nikon_d7000</td>\n",
       "      <td>17.161392</td>\n",
       "    </tr>\n",
       "    <tr>\n",
       "      <th>677</th>\n",
       "      <td>ENTITY#75</td>\n",
       "      <td>d7000_body</td>\n",
       "      <td>1.879771</td>\n",
       "    </tr>\n",
       "    <tr>\n",
       "      <th>703</th>\n",
       "      <td>ENTITY#76</td>\n",
       "      <td>d610</td>\n",
       "      <td>18.254911</td>\n",
       "    </tr>\n",
       "    <tr>\n",
       "      <th>704</th>\n",
       "      <td>ENTITY#76</td>\n",
       "      <td>nikon_d610</td>\n",
       "      <td>7.501417</td>\n",
       "    </tr>\n",
       "    <tr>\n",
       "      <th>705</th>\n",
       "      <td>ENTITY#76</td>\n",
       "      <td>d610_24_3_mp_digital_slr_camera_body</td>\n",
       "      <td>2.794514</td>\n",
       "    </tr>\n",
       "    <tr>\n",
       "      <th>733</th>\n",
       "      <td>ENTITY#8</td>\n",
       "      <td>1_j3</td>\n",
       "      <td>19.010078</td>\n",
       "    </tr>\n",
       "    <tr>\n",
       "      <th>734</th>\n",
       "      <td>ENTITY#8</td>\n",
       "      <td>nikon_j3_interchangable_lens_digital_camera</td>\n",
       "      <td>7.391838</td>\n",
       "    </tr>\n",
       "    <tr>\n",
       "      <th>735</th>\n",
       "      <td>ENTITY#8</td>\n",
       "      <td>j3</td>\n",
       "      <td>5.968734</td>\n",
       "    </tr>\n",
       "    <tr>\n",
       "      <th>756</th>\n",
       "      <td>ENTITY#84</td>\n",
       "      <td>nikon_d300</td>\n",
       "      <td>29.235261</td>\n",
       "    </tr>\n",
       "    <tr>\n",
       "      <th>757</th>\n",
       "      <td>ENTITY#84</td>\n",
       "      <td>nikon_d300_body</td>\n",
       "      <td>1.875102</td>\n",
       "    </tr>\n",
       "    <tr>\n",
       "      <th>758</th>\n",
       "      <td>ENTITY#84</td>\n",
       "      <td>d300</td>\n",
       "      <td>1.806945</td>\n",
       "    </tr>\n",
       "    <tr>\n",
       "      <th>769</th>\n",
       "      <td>ENTITY#96</td>\n",
       "      <td>canon_eos_70d</td>\n",
       "      <td>9.950603</td>\n",
       "    </tr>\n",
       "    <tr>\n",
       "      <th>770</th>\n",
       "      <td>ENTITY#96</td>\n",
       "      <td>70d</td>\n",
       "      <td>9.590052</td>\n",
       "    </tr>\n",
       "    <tr>\n",
       "      <th>771</th>\n",
       "      <td>ENTITY#96</td>\n",
       "      <td>canon_eos_70d_dslr_camera</td>\n",
       "      <td>8.136697</td>\n",
       "    </tr>\n",
       "  </tbody>\n",
       "</table>\n",
       "</div>"
      ],
      "text/plain": [
       "          label                                         term     weight\n",
       "0    ENTITY#101                                  5d_mark_iii  13.082401\n",
       "1    ENTITY#101                                      5d_mark   5.318549\n",
       "2    ENTITY#101     canon_eos_5d_mark_iii_22_3_mp_full_frame   2.850493\n",
       "63   ENTITY#102                                           ii  35.236154\n",
       "64   ENTITY#102                                         mark   9.067888\n",
       "65   ENTITY#102                                 canon_eos_5d   7.512695\n",
       "91    ENTITY#16                                    nikon_d90  32.936929\n",
       "92    ENTITY#16                        nikon_d90_camera_body   1.922653\n",
       "93    ENTITY#16                             nikon_d90_camera   1.911760\n",
       "122   ENTITY#18                                canon_eos_60d  33.384055\n",
       "123   ENTITY#18                                          60d  13.756493\n",
       "124   ENTITY#18                         canon_eos_60d_camera   2.584979\n",
       "178   ENTITY#19                                  nikon_d3300  18.907803\n",
       "179   ENTITY#19                                        d3300   9.369248\n",
       "180   ENTITY#19                             nikon_d3300_body   4.470056\n",
       "210   ENTITY#21                                        d5100  28.950251\n",
       "211   ENTITY#21                                  nikon_d5100  11.096690\n",
       "212   ENTITY#21               nikon_d5100_digital_slr_camera   4.335855\n",
       "247   ENTITY#23                                 canon_eos_7d  32.524124\n",
       "248   ENTITY#23                                           7d   8.134262\n",
       "249   ENTITY#23              canon_eos_7d_digital_slr_camera   5.300504\n",
       "299   ENTITY#36                                  nikon_d3100  22.984877\n",
       "300   ENTITY#36                                        d3100  12.269370\n",
       "301   ENTITY#36               nikon_d3100_digital_slr_camera   4.194107\n",
       "382   ENTITY#37                                    nikon_d80  28.225816\n",
       "383   ENTITY#37      nikon_d80_10_2mp_digital_slr_camera_kit   2.781959\n",
       "384   ENTITY#37           nikon_d80_digital_slr_camera_black   0.947008\n",
       "396   ENTITY#41                                  nikon_d5200  12.275437\n",
       "397   ENTITY#41                                        d5200  11.168044\n",
       "398   ENTITY#41               nikon_d5200_digital_slr_camera   6.586261\n",
       "449   ENTITY#44                                        d3200  24.069573\n",
       "450   ENTITY#44                                  nikon_d3200  19.736269\n",
       "451   ENTITY#44                              nikon_d3200_kit   2.876053\n",
       "512   ENTITY#57                                   nikon_d800  23.759762\n",
       "513   ENTITY#57                                         d800   6.317728\n",
       "514   ENTITY#57           nikon_d800_digital_slr_camera_body   2.413873\n",
       "532   ENTITY#58                                           j1   6.967497\n",
       "533   ENTITY#58                                         1_j1   5.057683\n",
       "534   ENTITY#58                                            1   4.396067\n",
       "588    ENTITY#6                                  nikon_d5300  17.731180\n",
       "589    ENTITY#6                      nikon_d5300_dslr_camera   6.540202\n",
       "590    ENTITY#6                                        d5300   5.763841\n",
       "641    ENTITY#7                              olympus_om_e_m5   5.547876\n",
       "642    ENTITY#7                                 olympus_om-d   5.544860\n",
       "643    ENTITY#7                            olympus_om-d_e-m5   5.332733\n",
       "675   ENTITY#75                                        d7000  42.269901\n",
       "676   ENTITY#75                                  nikon_d7000  17.161392\n",
       "677   ENTITY#75                                   d7000_body   1.879771\n",
       "703   ENTITY#76                                         d610  18.254911\n",
       "704   ENTITY#76                                   nikon_d610   7.501417\n",
       "705   ENTITY#76         d610_24_3_mp_digital_slr_camera_body   2.794514\n",
       "733    ENTITY#8                                         1_j3  19.010078\n",
       "734    ENTITY#8  nikon_j3_interchangable_lens_digital_camera   7.391838\n",
       "735    ENTITY#8                                           j3   5.968734\n",
       "756   ENTITY#84                                   nikon_d300  29.235261\n",
       "757   ENTITY#84                              nikon_d300_body   1.875102\n",
       "758   ENTITY#84                                         d300   1.806945\n",
       "769   ENTITY#96                                canon_eos_70d   9.950603\n",
       "770   ENTITY#96                                          70d   9.590052\n",
       "771   ENTITY#96                    canon_eos_70d_dslr_camera   8.136697"
      ]
     },
     "execution_count": 10,
     "metadata": {},
     "output_type": "execute_result"
    }
   ],
   "source": [
    "ranking_df.groupby('label').head(3)"
   ]
  },
  {
   "cell_type": "markdown",
   "metadata": {},
   "source": [
    "---"
   ]
  },
  {
   "cell_type": "markdown",
   "metadata": {},
   "source": [
    "## Save ranking"
   ]
  },
  {
   "cell_type": "code",
   "execution_count": 11,
   "metadata": {
    "ExecuteTime": {
     "end_time": "2021-01-09T22:00:52.709378Z",
     "start_time": "2021-01-09T22:00:52.705084Z"
    }
   },
   "outputs": [],
   "source": [
    "ranking_filename = f'ranking_{dataset_name}_bert_{test_name}.xlsx'\n",
    "ranking_filepath = os.path.join(root_dir, data_dir, ranking_filename)"
   ]
  },
  {
   "cell_type": "code",
   "execution_count": 12,
   "metadata": {
    "ExecuteTime": {
     "end_time": "2021-01-09T22:00:53.102510Z",
     "start_time": "2021-01-09T22:00:53.098091Z"
    }
   },
   "outputs": [
    {
     "data": {
      "text/plain": [
       "'../../data/terms/ranking_alaska_bert_sampling_records_and_terms_test1.xlsx'"
      ]
     },
     "execution_count": 12,
     "metadata": {},
     "output_type": "execute_result"
    }
   ],
   "source": [
    "ranking_filepath"
   ]
  },
  {
   "cell_type": "code",
   "execution_count": 13,
   "metadata": {
    "ExecuteTime": {
     "end_time": "2021-01-09T22:00:57.731864Z",
     "start_time": "2021-01-09T22:00:57.268432Z"
    }
   },
   "outputs": [],
   "source": [
    "ranking_df.to_excel(ranking_filepath)"
   ]
  },
  {
   "cell_type": "markdown",
   "metadata": {},
   "source": [
    "---"
   ]
  }
 ],
 "metadata": {
  "kernelspec": {
   "display_name": "Python 3",
   "language": "python",
   "name": "python3"
  },
  "language_info": {
   "codemirror_mode": {
    "name": "ipython",
    "version": 3
   },
   "file_extension": ".py",
   "mimetype": "text/x-python",
   "name": "python",
   "nbconvert_exporter": "python",
   "pygments_lexer": "ipython3",
   "version": "3.8.1"
  },
  "toc": {
   "base_numbering": 1,
   "nav_menu": {},
   "number_sections": true,
   "sideBar": true,
   "skip_h1_title": false,
   "title_cell": "Table of Contents",
   "title_sidebar": "Contents",
   "toc_cell": false,
   "toc_position": {},
   "toc_section_display": true,
   "toc_window_display": false
  }
 },
 "nbformat": 4,
 "nbformat_minor": 4
}
