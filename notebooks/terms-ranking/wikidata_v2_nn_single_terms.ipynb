{
 "cells": [
  {
   "cell_type": "markdown",
   "metadata": {},
   "source": [
    "# Process terms \n",
    "Process terms retrieved from the neural network model using `LIME`"
   ]
  },
  {
   "cell_type": "markdown",
   "metadata": {},
   "source": [
    "---\n",
    "## Load the retrieved terms"
   ]
  },
  {
   "cell_type": "code",
   "execution_count": 1,
   "metadata": {
    "ExecuteTime": {
     "end_time": "2020-11-25T10:12:08.455415Z",
     "start_time": "2020-11-25T10:12:08.451108Z"
    }
   },
   "outputs": [],
   "source": [
    "import os"
   ]
  },
  {
   "cell_type": "code",
   "execution_count": 2,
   "metadata": {
    "ExecuteTime": {
     "end_time": "2020-11-25T10:12:08.748583Z",
     "start_time": "2020-11-25T10:12:08.744843Z"
    }
   },
   "outputs": [],
   "source": [
    "version = 'v2'"
   ]
  },
  {
   "cell_type": "code",
   "execution_count": 3,
   "metadata": {
    "ExecuteTime": {
     "end_time": "2020-11-25T10:12:08.981273Z",
     "start_time": "2020-11-25T10:12:08.976068Z"
    }
   },
   "outputs": [],
   "source": [
    "root_dir = '../..'\n",
    "data_dir = 'data/terms'\n",
    "filename = f'relevant_terms_wikidata_nn_{version}.csv'\n",
    "filepath = os.path.join(root_dir, data_dir, filename)"
   ]
  },
  {
   "cell_type": "code",
   "execution_count": 4,
   "metadata": {
    "ExecuteTime": {
     "end_time": "2020-11-25T10:12:09.650393Z",
     "start_time": "2020-11-25T10:12:09.338054Z"
    }
   },
   "outputs": [],
   "source": [
    "import pandas as pd"
   ]
  },
  {
   "cell_type": "code",
   "execution_count": 5,
   "metadata": {
    "ExecuteTime": {
     "end_time": "2020-11-25T10:12:09.704234Z",
     "start_time": "2020-11-25T10:12:09.676210Z"
    }
   },
   "outputs": [],
   "source": [
    "terms_df = pd.read_csv(filepath)"
   ]
  },
  {
   "cell_type": "code",
   "execution_count": 6,
   "metadata": {
    "ExecuteTime": {
     "end_time": "2020-11-25T10:12:10.076937Z",
     "start_time": "2020-11-25T10:12:10.048980Z"
    }
   },
   "outputs": [
    {
     "data": {
      "text/html": [
       "<div>\n",
       "<style scoped>\n",
       "    .dataframe tbody tr th:only-of-type {\n",
       "        vertical-align: middle;\n",
       "    }\n",
       "\n",
       "    .dataframe tbody tr th {\n",
       "        vertical-align: top;\n",
       "    }\n",
       "\n",
       "    .dataframe thead th {\n",
       "        text-align: right;\n",
       "    }\n",
       "</style>\n",
       "<table border=\"1\" class=\"dataframe\">\n",
       "  <thead>\n",
       "    <tr style=\"text-align: right;\">\n",
       "      <th></th>\n",
       "      <th>label</th>\n",
       "      <th>term</th>\n",
       "      <th>weight</th>\n",
       "      <th>data_id</th>\n",
       "    </tr>\n",
       "  </thead>\n",
       "  <tbody>\n",
       "    <tr>\n",
       "      <th>0</th>\n",
       "      <td>Q1754</td>\n",
       "      <td>stockholm</td>\n",
       "      <td>0.555859</td>\n",
       "      <td>0</td>\n",
       "    </tr>\n",
       "    <tr>\n",
       "      <th>1</th>\n",
       "      <td>Q1754</td>\n",
       "      <td>sweden</td>\n",
       "      <td>0.406443</td>\n",
       "      <td>0</td>\n",
       "    </tr>\n",
       "    <tr>\n",
       "      <th>2</th>\n",
       "      <td>Q1754</td>\n",
       "      <td>city</td>\n",
       "      <td>0.138746</td>\n",
       "      <td>0</td>\n",
       "    </tr>\n",
       "    <tr>\n",
       "      <th>3</th>\n",
       "      <td>Q1754</td>\n",
       "      <td>capital</td>\n",
       "      <td>0.130178</td>\n",
       "      <td>0</td>\n",
       "    </tr>\n",
       "    <tr>\n",
       "      <th>4</th>\n",
       "      <td>Q1754</td>\n",
       "      <td>stockholm</td>\n",
       "      <td>0.395502</td>\n",
       "      <td>1</td>\n",
       "    </tr>\n",
       "  </tbody>\n",
       "</table>\n",
       "</div>"
      ],
      "text/plain": [
       "   label       term    weight  data_id\n",
       "0  Q1754  stockholm  0.555859        0\n",
       "1  Q1754     sweden  0.406443        0\n",
       "2  Q1754       city  0.138746        0\n",
       "3  Q1754    capital  0.130178        0\n",
       "4  Q1754  stockholm  0.395502        1"
      ]
     },
     "execution_count": 6,
     "metadata": {},
     "output_type": "execute_result"
    }
   ],
   "source": [
    "terms_df.head()"
   ]
  },
  {
   "cell_type": "markdown",
   "metadata": {},
   "source": [
    "---"
   ]
  },
  {
   "cell_type": "markdown",
   "metadata": {},
   "source": [
    "## Rank terms"
   ]
  },
  {
   "cell_type": "markdown",
   "metadata": {},
   "source": [
    "### Split noun chunks into single terms"
   ]
  },
  {
   "cell_type": "code",
   "execution_count": 7,
   "metadata": {
    "ExecuteTime": {
     "end_time": "2020-11-25T10:12:11.488350Z",
     "start_time": "2020-11-25T10:12:11.480528Z"
    }
   },
   "outputs": [],
   "source": [
    "def split_noun_chunks(input_df):\n",
    "    df_data = []\n",
    "    \n",
    "    for _, row in input_df.iterrows():\n",
    "        noun_chunk = row['term']\n",
    "\n",
    "        for term in noun_chunk.split('_'):\n",
    "            data_dict = {'label': row['label'], \n",
    "                         'term': term, \n",
    "                         'weight': row['weight'], \n",
    "                         'data_id': row['data_id']}\n",
    "            df_data.append(data_dict)\n",
    "    \n",
    "    return pd.DataFrame(df_data)"
   ]
  },
  {
   "cell_type": "code",
   "execution_count": 8,
   "metadata": {
    "ExecuteTime": {
     "end_time": "2020-11-25T10:12:14.012687Z",
     "start_time": "2020-11-25T10:12:11.972270Z"
    }
   },
   "outputs": [],
   "source": [
    "terms_df = split_noun_chunks(terms_df)"
   ]
  },
  {
   "cell_type": "code",
   "execution_count": 9,
   "metadata": {
    "ExecuteTime": {
     "end_time": "2020-11-25T10:12:14.031836Z",
     "start_time": "2020-11-25T10:12:14.015872Z"
    }
   },
   "outputs": [
    {
     "data": {
      "text/html": [
       "<div>\n",
       "<style scoped>\n",
       "    .dataframe tbody tr th:only-of-type {\n",
       "        vertical-align: middle;\n",
       "    }\n",
       "\n",
       "    .dataframe tbody tr th {\n",
       "        vertical-align: top;\n",
       "    }\n",
       "\n",
       "    .dataframe thead th {\n",
       "        text-align: right;\n",
       "    }\n",
       "</style>\n",
       "<table border=\"1\" class=\"dataframe\">\n",
       "  <thead>\n",
       "    <tr style=\"text-align: right;\">\n",
       "      <th></th>\n",
       "      <th>label</th>\n",
       "      <th>term</th>\n",
       "      <th>weight</th>\n",
       "      <th>data_id</th>\n",
       "    </tr>\n",
       "  </thead>\n",
       "  <tbody>\n",
       "    <tr>\n",
       "      <th>0</th>\n",
       "      <td>Q1754</td>\n",
       "      <td>stockholm</td>\n",
       "      <td>0.555859</td>\n",
       "      <td>0</td>\n",
       "    </tr>\n",
       "    <tr>\n",
       "      <th>1</th>\n",
       "      <td>Q1754</td>\n",
       "      <td>sweden</td>\n",
       "      <td>0.406443</td>\n",
       "      <td>0</td>\n",
       "    </tr>\n",
       "    <tr>\n",
       "      <th>2</th>\n",
       "      <td>Q1754</td>\n",
       "      <td>city</td>\n",
       "      <td>0.138746</td>\n",
       "      <td>0</td>\n",
       "    </tr>\n",
       "    <tr>\n",
       "      <th>3</th>\n",
       "      <td>Q1754</td>\n",
       "      <td>capital</td>\n",
       "      <td>0.130178</td>\n",
       "      <td>0</td>\n",
       "    </tr>\n",
       "    <tr>\n",
       "      <th>4</th>\n",
       "      <td>Q1754</td>\n",
       "      <td>stockholm</td>\n",
       "      <td>0.395502</td>\n",
       "      <td>1</td>\n",
       "    </tr>\n",
       "    <tr>\n",
       "      <th>5</th>\n",
       "      <td>Q1754</td>\n",
       "      <td>sweden</td>\n",
       "      <td>0.207462</td>\n",
       "      <td>1</td>\n",
       "    </tr>\n",
       "    <tr>\n",
       "      <th>6</th>\n",
       "      <td>Q1754</td>\n",
       "      <td>capital</td>\n",
       "      <td>0.106679</td>\n",
       "      <td>1</td>\n",
       "    </tr>\n",
       "    <tr>\n",
       "      <th>7</th>\n",
       "      <td>Q1754</td>\n",
       "      <td>city</td>\n",
       "      <td>0.341990</td>\n",
       "      <td>2</td>\n",
       "    </tr>\n",
       "    <tr>\n",
       "      <th>8</th>\n",
       "      <td>Q1754</td>\n",
       "      <td>fourteen</td>\n",
       "      <td>0.330890</td>\n",
       "      <td>2</td>\n",
       "    </tr>\n",
       "    <tr>\n",
       "      <th>9</th>\n",
       "      <td>Q1754</td>\n",
       "      <td>islands</td>\n",
       "      <td>0.330890</td>\n",
       "      <td>2</td>\n",
       "    </tr>\n",
       "  </tbody>\n",
       "</table>\n",
       "</div>"
      ],
      "text/plain": [
       "   label       term    weight  data_id\n",
       "0  Q1754  stockholm  0.555859        0\n",
       "1  Q1754     sweden  0.406443        0\n",
       "2  Q1754       city  0.138746        0\n",
       "3  Q1754    capital  0.130178        0\n",
       "4  Q1754  stockholm  0.395502        1\n",
       "5  Q1754     sweden  0.207462        1\n",
       "6  Q1754    capital  0.106679        1\n",
       "7  Q1754       city  0.341990        2\n",
       "8  Q1754   fourteen  0.330890        2\n",
       "9  Q1754    islands  0.330890        2"
      ]
     },
     "execution_count": 9,
     "metadata": {},
     "output_type": "execute_result"
    }
   ],
   "source": [
    "terms_df.head(10)"
   ]
  },
  {
   "cell_type": "markdown",
   "metadata": {},
   "source": [
    "### Aggregate (sum) LIME weights for each term"
   ]
  },
  {
   "cell_type": "code",
   "execution_count": 10,
   "metadata": {
    "ExecuteTime": {
     "end_time": "2020-11-25T10:12:23.735037Z",
     "start_time": "2020-11-25T10:12:23.693766Z"
    }
   },
   "outputs": [],
   "source": [
    "terms_stats_df = terms_df.groupby(['label', 'term']).agg({'weight': 'sum'}).reset_index()"
   ]
  },
  {
   "cell_type": "code",
   "execution_count": 11,
   "metadata": {
    "ExecuteTime": {
     "end_time": "2020-11-25T10:12:24.131429Z",
     "start_time": "2020-11-25T10:12:24.113258Z"
    }
   },
   "outputs": [
    {
     "data": {
      "text/html": [
       "<div>\n",
       "<style scoped>\n",
       "    .dataframe tbody tr th:only-of-type {\n",
       "        vertical-align: middle;\n",
       "    }\n",
       "\n",
       "    .dataframe tbody tr th {\n",
       "        vertical-align: top;\n",
       "    }\n",
       "\n",
       "    .dataframe thead th {\n",
       "        text-align: right;\n",
       "    }\n",
       "</style>\n",
       "<table border=\"1\" class=\"dataframe\">\n",
       "  <thead>\n",
       "    <tr style=\"text-align: right;\">\n",
       "      <th></th>\n",
       "      <th>label</th>\n",
       "      <th>term</th>\n",
       "      <th>weight</th>\n",
       "    </tr>\n",
       "  </thead>\n",
       "  <tbody>\n",
       "    <tr>\n",
       "      <th>0</th>\n",
       "      <td>Q1005682</td>\n",
       "      <td>2010</td>\n",
       "      <td>0.304872</td>\n",
       "    </tr>\n",
       "    <tr>\n",
       "      <th>1</th>\n",
       "      <td>Q1005682</td>\n",
       "      <td>513</td>\n",
       "      <td>0.418916</td>\n",
       "    </tr>\n",
       "    <tr>\n",
       "      <th>2</th>\n",
       "      <td>Q1005682</td>\n",
       "      <td>carver</td>\n",
       "      <td>0.563979</td>\n",
       "    </tr>\n",
       "    <tr>\n",
       "      <th>3</th>\n",
       "      <td>Q1005682</td>\n",
       "      <td>census</td>\n",
       "      <td>0.304872</td>\n",
       "    </tr>\n",
       "    <tr>\n",
       "      <th>4</th>\n",
       "      <td>Q1005682</td>\n",
       "      <td>city</td>\n",
       "      <td>0.409819</td>\n",
       "    </tr>\n",
       "  </tbody>\n",
       "</table>\n",
       "</div>"
      ],
      "text/plain": [
       "      label    term    weight\n",
       "0  Q1005682    2010  0.304872\n",
       "1  Q1005682     513  0.418916\n",
       "2  Q1005682  carver  0.563979\n",
       "3  Q1005682  census  0.304872\n",
       "4  Q1005682    city  0.409819"
      ]
     },
     "execution_count": 11,
     "metadata": {},
     "output_type": "execute_result"
    }
   ],
   "source": [
    "terms_stats_df.head()"
   ]
  },
  {
   "cell_type": "markdown",
   "metadata": {
    "ExecuteTime": {
     "end_time": "2020-09-22T21:07:22.493467Z",
     "start_time": "2020-09-22T21:07:22.478186Z"
    }
   },
   "source": [
    "### Sort terms\n",
    "Rank terms by total weight (descending)"
   ]
  },
  {
   "cell_type": "code",
   "execution_count": 12,
   "metadata": {
    "ExecuteTime": {
     "end_time": "2020-11-25T10:12:30.339734Z",
     "start_time": "2020-11-25T10:12:30.102544Z"
    }
   },
   "outputs": [],
   "source": [
    "ranking_df = terms_stats_df.groupby('label')\\\n",
    "                .apply(lambda grp: grp.sort_values(by='weight', ascending=False))\\\n",
    "                .reset_index(drop=True)"
   ]
  },
  {
   "cell_type": "code",
   "execution_count": 13,
   "metadata": {
    "ExecuteTime": {
     "end_time": "2020-11-25T10:12:30.901409Z",
     "start_time": "2020-11-25T10:12:30.876567Z"
    }
   },
   "outputs": [
    {
     "data": {
      "text/html": [
       "<div>\n",
       "<style scoped>\n",
       "    .dataframe tbody tr th:only-of-type {\n",
       "        vertical-align: middle;\n",
       "    }\n",
       "\n",
       "    .dataframe tbody tr th {\n",
       "        vertical-align: top;\n",
       "    }\n",
       "\n",
       "    .dataframe thead th {\n",
       "        text-align: right;\n",
       "    }\n",
       "</style>\n",
       "<table border=\"1\" class=\"dataframe\">\n",
       "  <thead>\n",
       "    <tr style=\"text-align: right;\">\n",
       "      <th></th>\n",
       "      <th>label</th>\n",
       "      <th>term</th>\n",
       "      <th>weight</th>\n",
       "    </tr>\n",
       "  </thead>\n",
       "  <tbody>\n",
       "    <tr>\n",
       "      <th>0</th>\n",
       "      <td>Q1005682</td>\n",
       "      <td>hamburg</td>\n",
       "      <td>6.433465</td>\n",
       "    </tr>\n",
       "    <tr>\n",
       "      <th>1</th>\n",
       "      <td>Q1005682</td>\n",
       "      <td>states</td>\n",
       "      <td>2.278421</td>\n",
       "    </tr>\n",
       "    <tr>\n",
       "      <th>2</th>\n",
       "      <td>Q1005682</td>\n",
       "      <td>united</td>\n",
       "      <td>2.012429</td>\n",
       "    </tr>\n",
       "    <tr>\n",
       "      <th>3</th>\n",
       "      <td>Q1005682</td>\n",
       "      <td>minnesota</td>\n",
       "      <td>1.838184</td>\n",
       "    </tr>\n",
       "    <tr>\n",
       "      <th>4</th>\n",
       "      <td>Q1005682</td>\n",
       "      <td>county</td>\n",
       "      <td>1.060182</td>\n",
       "    </tr>\n",
       "    <tr>\n",
       "      <th>...</th>\n",
       "      <td>...</td>\n",
       "      <td>...</td>\n",
       "      <td>...</td>\n",
       "    </tr>\n",
       "    <tr>\n",
       "      <th>4261</th>\n",
       "      <td>Q998718</td>\n",
       "      <td>hamburg</td>\n",
       "      <td>2.675068</td>\n",
       "    </tr>\n",
       "    <tr>\n",
       "      <th>4262</th>\n",
       "      <td>Q998718</td>\n",
       "      <td>iowa</td>\n",
       "      <td>1.819555</td>\n",
       "    </tr>\n",
       "    <tr>\n",
       "      <th>4263</th>\n",
       "      <td>Q998718</td>\n",
       "      <td>states</td>\n",
       "      <td>1.636533</td>\n",
       "    </tr>\n",
       "    <tr>\n",
       "      <th>4264</th>\n",
       "      <td>Q998718</td>\n",
       "      <td>united</td>\n",
       "      <td>1.130525</td>\n",
       "    </tr>\n",
       "    <tr>\n",
       "      <th>4265</th>\n",
       "      <td>Q998718</td>\n",
       "      <td>nishnabotna</td>\n",
       "      <td>1.040748</td>\n",
       "    </tr>\n",
       "  </tbody>\n",
       "</table>\n",
       "<p>952 rows × 3 columns</p>\n",
       "</div>"
      ],
      "text/plain": [
       "         label         term    weight\n",
       "0     Q1005682      hamburg  6.433465\n",
       "1     Q1005682       states  2.278421\n",
       "2     Q1005682       united  2.012429\n",
       "3     Q1005682    minnesota  1.838184\n",
       "4     Q1005682       county  1.060182\n",
       "...        ...          ...       ...\n",
       "4261   Q998718      hamburg  2.675068\n",
       "4262   Q998718         iowa  1.819555\n",
       "4263   Q998718       states  1.636533\n",
       "4264   Q998718       united  1.130525\n",
       "4265   Q998718  nishnabotna  1.040748\n",
       "\n",
       "[952 rows x 3 columns]"
      ]
     },
     "execution_count": 13,
     "metadata": {},
     "output_type": "execute_result"
    }
   ],
   "source": [
    "ranking_df.groupby('label').head()"
   ]
  },
  {
   "cell_type": "markdown",
   "metadata": {},
   "source": [
    "---"
   ]
  },
  {
   "cell_type": "markdown",
   "metadata": {},
   "source": [
    "## Save ranking"
   ]
  },
  {
   "cell_type": "code",
   "execution_count": 14,
   "metadata": {
    "ExecuteTime": {
     "end_time": "2020-11-25T10:12:39.629913Z",
     "start_time": "2020-11-25T10:12:39.625069Z"
    }
   },
   "outputs": [],
   "source": [
    "ranking_filename = f'ranking_wikidata_nn_{version}_single_terms.xlsx'\n",
    "ranking_filepath = os.path.join(root_dir, data_dir, ranking_filename)"
   ]
  },
  {
   "cell_type": "code",
   "execution_count": 15,
   "metadata": {
    "ExecuteTime": {
     "end_time": "2020-11-25T10:12:40.419133Z",
     "start_time": "2020-11-25T10:12:40.413578Z"
    }
   },
   "outputs": [
    {
     "data": {
      "text/plain": [
       "'../../data/terms/ranking_wikidata_nn_v2_single_terms.xlsx'"
      ]
     },
     "execution_count": 15,
     "metadata": {},
     "output_type": "execute_result"
    }
   ],
   "source": [
    "ranking_filepath"
   ]
  },
  {
   "cell_type": "code",
   "execution_count": 16,
   "metadata": {
    "ExecuteTime": {
     "end_time": "2020-11-25T10:12:42.200726Z",
     "start_time": "2020-11-25T10:12:41.279188Z"
    }
   },
   "outputs": [],
   "source": [
    "ranking_df.to_excel(ranking_filepath)"
   ]
  },
  {
   "cell_type": "markdown",
   "metadata": {},
   "source": [
    "---"
   ]
  }
 ],
 "metadata": {
  "kernelspec": {
   "display_name": "Python 3",
   "language": "python",
   "name": "python3"
  },
  "language_info": {
   "codemirror_mode": {
    "name": "ipython",
    "version": 3
   },
   "file_extension": ".py",
   "mimetype": "text/x-python",
   "name": "python",
   "nbconvert_exporter": "python",
   "pygments_lexer": "ipython3",
   "version": "3.8.1"
  },
  "toc": {
   "base_numbering": 1,
   "nav_menu": {},
   "number_sections": true,
   "sideBar": true,
   "skip_h1_title": false,
   "title_cell": "Table of Contents",
   "title_sidebar": "Contents",
   "toc_cell": false,
   "toc_position": {},
   "toc_section_display": true,
   "toc_window_display": false
  }
 },
 "nbformat": 4,
 "nbformat_minor": 4
}
