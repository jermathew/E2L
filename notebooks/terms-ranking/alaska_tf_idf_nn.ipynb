{
 "cells": [
  {
   "cell_type": "markdown",
   "metadata": {},
   "source": [
    "# Process terms \n",
    "Process terms retrieved from the neural network model using `LIME`"
   ]
  },
  {
   "cell_type": "markdown",
   "metadata": {},
   "source": [
    "---"
   ]
  },
  {
   "cell_type": "markdown",
   "metadata": {},
   "source": [
    "## Load the retrieved terms"
   ]
  },
  {
   "cell_type": "code",
   "execution_count": 1,
   "metadata": {
    "ExecuteTime": {
     "end_time": "2020-11-24T14:15:29.108358Z",
     "start_time": "2020-11-24T14:15:29.103977Z"
    }
   },
   "outputs": [],
   "source": [
    "import os"
   ]
  },
  {
   "cell_type": "code",
   "execution_count": 2,
   "metadata": {
    "ExecuteTime": {
     "end_time": "2020-11-24T14:15:29.474340Z",
     "start_time": "2020-11-24T14:15:29.469467Z"
    }
   },
   "outputs": [],
   "source": [
    "root_dir = '../..'\n",
    "data_dir = 'data/terms'\n",
    "filename = 'relevant_terms_alaska_nn_tfidf.csv'\n",
    "filepath = os.path.join(root_dir, data_dir, filename)"
   ]
  },
  {
   "cell_type": "code",
   "execution_count": 3,
   "metadata": {
    "ExecuteTime": {
     "end_time": "2020-11-24T14:15:30.141120Z",
     "start_time": "2020-11-24T14:15:29.823383Z"
    }
   },
   "outputs": [],
   "source": [
    "import pandas as pd"
   ]
  },
  {
   "cell_type": "code",
   "execution_count": 4,
   "metadata": {
    "ExecuteTime": {
     "end_time": "2020-11-24T14:15:30.277379Z",
     "start_time": "2020-11-24T14:15:30.258448Z"
    }
   },
   "outputs": [],
   "source": [
    "terms_df = pd.read_csv(filepath)"
   ]
  },
  {
   "cell_type": "code",
   "execution_count": 5,
   "metadata": {
    "ExecuteTime": {
     "end_time": "2020-11-24T14:15:30.954200Z",
     "start_time": "2020-11-24T14:15:30.925463Z"
    }
   },
   "outputs": [
    {
     "data": {
      "text/html": [
       "<div>\n",
       "<style scoped>\n",
       "    .dataframe tbody tr th:only-of-type {\n",
       "        vertical-align: middle;\n",
       "    }\n",
       "\n",
       "    .dataframe tbody tr th {\n",
       "        vertical-align: top;\n",
       "    }\n",
       "\n",
       "    .dataframe thead th {\n",
       "        text-align: right;\n",
       "    }\n",
       "</style>\n",
       "<table border=\"1\" class=\"dataframe\">\n",
       "  <thead>\n",
       "    <tr style=\"text-align: right;\">\n",
       "      <th></th>\n",
       "      <th>label</th>\n",
       "      <th>term</th>\n",
       "      <th>weight</th>\n",
       "      <th>data_id</th>\n",
       "    </tr>\n",
       "  </thead>\n",
       "  <tbody>\n",
       "    <tr>\n",
       "      <th>0</th>\n",
       "      <td>ENTITY#44</td>\n",
       "      <td>nikon_d3200_dslr_camera</td>\n",
       "      <td>0.874403</td>\n",
       "      <td>0</td>\n",
       "    </tr>\n",
       "    <tr>\n",
       "      <th>1</th>\n",
       "      <td>ENTITY#44</td>\n",
       "      <td>nikon_d3200</td>\n",
       "      <td>0.880964</td>\n",
       "      <td>1</td>\n",
       "    </tr>\n",
       "    <tr>\n",
       "      <th>2</th>\n",
       "      <td>ENTITY#44</td>\n",
       "      <td>nikon_d3200</td>\n",
       "      <td>0.887180</td>\n",
       "      <td>2</td>\n",
       "    </tr>\n",
       "    <tr>\n",
       "      <th>3</th>\n",
       "      <td>ENTITY#44</td>\n",
       "      <td>nikon_d3200_digital_dslr_camera</td>\n",
       "      <td>0.783001</td>\n",
       "      <td>3</td>\n",
       "    </tr>\n",
       "    <tr>\n",
       "      <th>4</th>\n",
       "      <td>ENTITY#44</td>\n",
       "      <td>24</td>\n",
       "      <td>0.068562</td>\n",
       "      <td>3</td>\n",
       "    </tr>\n",
       "  </tbody>\n",
       "</table>\n",
       "</div>"
      ],
      "text/plain": [
       "       label                             term    weight  data_id\n",
       "0  ENTITY#44          nikon_d3200_dslr_camera  0.874403        0\n",
       "1  ENTITY#44                      nikon_d3200  0.880964        1\n",
       "2  ENTITY#44                      nikon_d3200  0.887180        2\n",
       "3  ENTITY#44  nikon_d3200_digital_dslr_camera  0.783001        3\n",
       "4  ENTITY#44                               24  0.068562        3"
      ]
     },
     "execution_count": 5,
     "metadata": {},
     "output_type": "execute_result"
    }
   ],
   "source": [
    "terms_df.head()"
   ]
  },
  {
   "cell_type": "markdown",
   "metadata": {},
   "source": [
    "---"
   ]
  },
  {
   "cell_type": "markdown",
   "metadata": {},
   "source": [
    "## Rank terms"
   ]
  },
  {
   "cell_type": "markdown",
   "metadata": {},
   "source": [
    "### Aggregate (sum) LIME weights for each term"
   ]
  },
  {
   "cell_type": "code",
   "execution_count": 6,
   "metadata": {
    "ExecuteTime": {
     "end_time": "2020-11-24T14:15:32.765384Z",
     "start_time": "2020-11-24T14:15:32.746055Z"
    }
   },
   "outputs": [],
   "source": [
    "#terms_stats_df_1 = terms_df.groupby(['label', 'term']).agg({'weight': 'sum','rank': 'mean'})\n",
    "#terms_stats_df_2 = terms_df.groupby(['label', 'term']).size().to_frame('count')\n",
    "#terms_stats_df = terms_stats_df_1.join(terms_stats_df_2).reset_index()\n",
    "terms_stats_df = terms_df.groupby(['label', 'term']).agg({'weight': 'sum'}).reset_index()"
   ]
  },
  {
   "cell_type": "code",
   "execution_count": 7,
   "metadata": {
    "ExecuteTime": {
     "end_time": "2020-11-24T14:15:34.017413Z",
     "start_time": "2020-11-24T14:15:34.003365Z"
    }
   },
   "outputs": [
    {
     "data": {
      "text/html": [
       "<div>\n",
       "<style scoped>\n",
       "    .dataframe tbody tr th:only-of-type {\n",
       "        vertical-align: middle;\n",
       "    }\n",
       "\n",
       "    .dataframe tbody tr th {\n",
       "        vertical-align: top;\n",
       "    }\n",
       "\n",
       "    .dataframe thead th {\n",
       "        text-align: right;\n",
       "    }\n",
       "</style>\n",
       "<table border=\"1\" class=\"dataframe\">\n",
       "  <thead>\n",
       "    <tr style=\"text-align: right;\">\n",
       "      <th></th>\n",
       "      <th>label</th>\n",
       "      <th>term</th>\n",
       "      <th>weight</th>\n",
       "    </tr>\n",
       "  </thead>\n",
       "  <tbody>\n",
       "    <tr>\n",
       "      <th>0</th>\n",
       "      <td>ENTITY#101</td>\n",
       "      <td>013803142457</td>\n",
       "      <td>1.084708</td>\n",
       "    </tr>\n",
       "    <tr>\n",
       "      <th>1</th>\n",
       "      <td>ENTITY#101</td>\n",
       "      <td>013803142457_ebay</td>\n",
       "      <td>0.317570</td>\n",
       "    </tr>\n",
       "    <tr>\n",
       "      <th>2</th>\n",
       "      <td>ENTITY#101</td>\n",
       "      <td>0l</td>\n",
       "      <td>0.073076</td>\n",
       "    </tr>\n",
       "    <tr>\n",
       "      <th>3</th>\n",
       "      <td>ENTITY#101</td>\n",
       "      <td>1300</td>\n",
       "      <td>0.035443</td>\n",
       "    </tr>\n",
       "    <tr>\n",
       "      <th>4</th>\n",
       "      <td>ENTITY#101</td>\n",
       "      <td>16gb</td>\n",
       "      <td>0.036281</td>\n",
       "    </tr>\n",
       "  </tbody>\n",
       "</table>\n",
       "</div>"
      ],
      "text/plain": [
       "        label               term    weight\n",
       "0  ENTITY#101       013803142457  1.084708\n",
       "1  ENTITY#101  013803142457_ebay  0.317570\n",
       "2  ENTITY#101                 0l  0.073076\n",
       "3  ENTITY#101               1300  0.035443\n",
       "4  ENTITY#101               16gb  0.036281"
      ]
     },
     "execution_count": 7,
     "metadata": {},
     "output_type": "execute_result"
    }
   ],
   "source": [
    "terms_stats_df.head()"
   ]
  },
  {
   "cell_type": "markdown",
   "metadata": {
    "ExecuteTime": {
     "end_time": "2020-09-22T21:07:22.493467Z",
     "start_time": "2020-09-22T21:07:22.478186Z"
    }
   },
   "source": [
    "### Sort terms\n",
    "Rank terms by total weight (descending)"
   ]
  },
  {
   "cell_type": "code",
   "execution_count": 8,
   "metadata": {
    "ExecuteTime": {
     "end_time": "2020-11-24T14:15:34.997421Z",
     "start_time": "2020-11-24T14:15:34.954750Z"
    }
   },
   "outputs": [],
   "source": [
    "ranking_df = terms_stats_df.groupby('label')\\\n",
    "                .apply(lambda grp: grp.sort_values(by='weight', ascending=False))\\\n",
    "                .reset_index(drop=True)"
   ]
  },
  {
   "cell_type": "code",
   "execution_count": 9,
   "metadata": {
    "ExecuteTime": {
     "end_time": "2020-11-24T14:15:35.470383Z",
     "start_time": "2020-11-24T14:15:35.424559Z"
    }
   },
   "outputs": [
    {
     "data": {
      "text/html": [
       "<div>\n",
       "<style scoped>\n",
       "    .dataframe tbody tr th:only-of-type {\n",
       "        vertical-align: middle;\n",
       "    }\n",
       "\n",
       "    .dataframe tbody tr th {\n",
       "        vertical-align: top;\n",
       "    }\n",
       "\n",
       "    .dataframe thead th {\n",
       "        text-align: right;\n",
       "    }\n",
       "</style>\n",
       "<table border=\"1\" class=\"dataframe\">\n",
       "  <thead>\n",
       "    <tr style=\"text-align: right;\">\n",
       "      <th></th>\n",
       "      <th>label</th>\n",
       "      <th>term</th>\n",
       "      <th>weight</th>\n",
       "    </tr>\n",
       "  </thead>\n",
       "  <tbody>\n",
       "    <tr>\n",
       "      <th>0</th>\n",
       "      <td>ENTITY#101</td>\n",
       "      <td>5d_mark_iii</td>\n",
       "      <td>24.429103</td>\n",
       "    </tr>\n",
       "    <tr>\n",
       "      <th>1</th>\n",
       "      <td>ENTITY#101</td>\n",
       "      <td>iii_digital_slr_camera_body</td>\n",
       "      <td>4.285580</td>\n",
       "    </tr>\n",
       "    <tr>\n",
       "      <th>2</th>\n",
       "      <td>ENTITY#101</td>\n",
       "      <td>22_3_mp_digital_slr_camera_black_body</td>\n",
       "      <td>4.011217</td>\n",
       "    </tr>\n",
       "    <tr>\n",
       "      <th>87</th>\n",
       "      <td>ENTITY#102</td>\n",
       "      <td>ii</td>\n",
       "      <td>6.897895</td>\n",
       "    </tr>\n",
       "    <tr>\n",
       "      <th>88</th>\n",
       "      <td>ENTITY#102</td>\n",
       "      <td>013803105384_ebay</td>\n",
       "      <td>3.799566</td>\n",
       "    </tr>\n",
       "    <tr>\n",
       "      <th>89</th>\n",
       "      <td>ENTITY#102</td>\n",
       "      <td>013803105384</td>\n",
       "      <td>3.497794</td>\n",
       "    </tr>\n",
       "    <tr>\n",
       "      <th>157</th>\n",
       "      <td>ENTITY#16</td>\n",
       "      <td>nikon_d90</td>\n",
       "      <td>23.186647</td>\n",
       "    </tr>\n",
       "    <tr>\n",
       "      <th>158</th>\n",
       "      <td>ENTITY#16</td>\n",
       "      <td>018208254460</td>\n",
       "      <td>6.082784</td>\n",
       "    </tr>\n",
       "    <tr>\n",
       "      <th>159</th>\n",
       "      <td>ENTITY#16</td>\n",
       "      <td>12_3_mp_digital_slr_camera_black_kit</td>\n",
       "      <td>2.755507</td>\n",
       "    </tr>\n",
       "    <tr>\n",
       "      <th>240</th>\n",
       "      <td>ENTITY#18</td>\n",
       "      <td>canon_eos_60d</td>\n",
       "      <td>40.386567</td>\n",
       "    </tr>\n",
       "    <tr>\n",
       "      <th>241</th>\n",
       "      <td>ENTITY#18</td>\n",
       "      <td>60d</td>\n",
       "      <td>19.570732</td>\n",
       "    </tr>\n",
       "    <tr>\n",
       "      <th>242</th>\n",
       "      <td>ENTITY#18</td>\n",
       "      <td>013803129052</td>\n",
       "      <td>8.698860</td>\n",
       "    </tr>\n",
       "    <tr>\n",
       "      <th>370</th>\n",
       "      <td>ENTITY#19</td>\n",
       "      <td>nikon_d3300</td>\n",
       "      <td>13.025693</td>\n",
       "    </tr>\n",
       "    <tr>\n",
       "      <th>371</th>\n",
       "      <td>ENTITY#19</td>\n",
       "      <td>d3300</td>\n",
       "      <td>6.051306</td>\n",
       "    </tr>\n",
       "    <tr>\n",
       "      <th>372</th>\n",
       "      <td>ENTITY#19</td>\n",
       "      <td>nikon_d3300_kit</td>\n",
       "      <td>5.470238</td>\n",
       "    </tr>\n",
       "    <tr>\n",
       "      <th>438</th>\n",
       "      <td>ENTITY#21</td>\n",
       "      <td>d5100</td>\n",
       "      <td>24.444274</td>\n",
       "    </tr>\n",
       "    <tr>\n",
       "      <th>439</th>\n",
       "      <td>ENTITY#21</td>\n",
       "      <td>nikon_d5100</td>\n",
       "      <td>11.693344</td>\n",
       "    </tr>\n",
       "    <tr>\n",
       "      <th>440</th>\n",
       "      <td>ENTITY#21</td>\n",
       "      <td>018208254781</td>\n",
       "      <td>8.338838</td>\n",
       "    </tr>\n",
       "    <tr>\n",
       "      <th>539</th>\n",
       "      <td>ENTITY#23</td>\n",
       "      <td>canon_eos_7d</td>\n",
       "      <td>48.268087</td>\n",
       "    </tr>\n",
       "    <tr>\n",
       "      <th>540</th>\n",
       "      <td>ENTITY#23</td>\n",
       "      <td>013803117493</td>\n",
       "      <td>10.171756</td>\n",
       "    </tr>\n",
       "    <tr>\n",
       "      <th>541</th>\n",
       "      <td>ENTITY#23</td>\n",
       "      <td>013803117493_ebay</td>\n",
       "      <td>9.116535</td>\n",
       "    </tr>\n",
       "    <tr>\n",
       "      <th>674</th>\n",
       "      <td>ENTITY#36</td>\n",
       "      <td>nikon_d3100</td>\n",
       "      <td>31.508097</td>\n",
       "    </tr>\n",
       "    <tr>\n",
       "      <th>675</th>\n",
       "      <td>ENTITY#36</td>\n",
       "      <td>d3100</td>\n",
       "      <td>8.418503</td>\n",
       "    </tr>\n",
       "    <tr>\n",
       "      <th>676</th>\n",
       "      <td>ENTITY#36</td>\n",
       "      <td>14_2_mp_digital_slr_camera_black_kit</td>\n",
       "      <td>5.464632</td>\n",
       "    </tr>\n",
       "    <tr>\n",
       "      <th>803</th>\n",
       "      <td>ENTITY#37</td>\n",
       "      <td>nikon_d80</td>\n",
       "      <td>10.305835</td>\n",
       "    </tr>\n",
       "    <tr>\n",
       "      <th>804</th>\n",
       "      <td>ENTITY#37</td>\n",
       "      <td>018208254125</td>\n",
       "      <td>3.237252</td>\n",
       "    </tr>\n",
       "    <tr>\n",
       "      <th>805</th>\n",
       "      <td>ENTITY#37</td>\n",
       "      <td>nikon_d80_10_2mp_digital_slr_camera_kit</td>\n",
       "      <td>2.378195</td>\n",
       "    </tr>\n",
       "    <tr>\n",
       "      <th>853</th>\n",
       "      <td>ENTITY#41</td>\n",
       "      <td>d5200</td>\n",
       "      <td>18.196232</td>\n",
       "    </tr>\n",
       "    <tr>\n",
       "      <th>854</th>\n",
       "      <td>ENTITY#41</td>\n",
       "      <td>nikon_d5200</td>\n",
       "      <td>15.664675</td>\n",
       "    </tr>\n",
       "    <tr>\n",
       "      <th>855</th>\n",
       "      <td>ENTITY#41</td>\n",
       "      <td>nikon_d5200_digital_slr_camera</td>\n",
       "      <td>6.017642</td>\n",
       "    </tr>\n",
       "    <tr>\n",
       "      <th>990</th>\n",
       "      <td>ENTITY#44</td>\n",
       "      <td>d3200</td>\n",
       "      <td>53.766357</td>\n",
       "    </tr>\n",
       "    <tr>\n",
       "      <th>991</th>\n",
       "      <td>ENTITY#44</td>\n",
       "      <td>nikon_d3200</td>\n",
       "      <td>31.456219</td>\n",
       "    </tr>\n",
       "    <tr>\n",
       "      <th>992</th>\n",
       "      <td>ENTITY#44</td>\n",
       "      <td>nikon_d3200_kit</td>\n",
       "      <td>6.115461</td>\n",
       "    </tr>\n",
       "    <tr>\n",
       "      <th>1107</th>\n",
       "      <td>ENTITY#57</td>\n",
       "      <td>nikon_d800</td>\n",
       "      <td>8.356913</td>\n",
       "    </tr>\n",
       "    <tr>\n",
       "      <th>1108</th>\n",
       "      <td>ENTITY#57</td>\n",
       "      <td>018208254804</td>\n",
       "      <td>7.671751</td>\n",
       "    </tr>\n",
       "    <tr>\n",
       "      <th>1109</th>\n",
       "      <td>ENTITY#57</td>\n",
       "      <td>36_3_mp_digital_slr_camera_black_body</td>\n",
       "      <td>3.114018</td>\n",
       "    </tr>\n",
       "    <tr>\n",
       "      <th>1167</th>\n",
       "      <td>ENTITY#58</td>\n",
       "      <td>j1</td>\n",
       "      <td>7.499917</td>\n",
       "    </tr>\n",
       "    <tr>\n",
       "      <th>1168</th>\n",
       "      <td>ENTITY#58</td>\n",
       "      <td>1_j1</td>\n",
       "      <td>4.349892</td>\n",
       "    </tr>\n",
       "    <tr>\n",
       "      <th>1169</th>\n",
       "      <td>ENTITY#58</td>\n",
       "      <td>10</td>\n",
       "      <td>4.149075</td>\n",
       "    </tr>\n",
       "    <tr>\n",
       "      <th>1256</th>\n",
       "      <td>ENTITY#6</td>\n",
       "      <td>nikon_d5300</td>\n",
       "      <td>11.897862</td>\n",
       "    </tr>\n",
       "    <tr>\n",
       "      <th>1257</th>\n",
       "      <td>ENTITY#6</td>\n",
       "      <td>nikon_d5300_kit</td>\n",
       "      <td>9.622578</td>\n",
       "    </tr>\n",
       "    <tr>\n",
       "      <th>1258</th>\n",
       "      <td>ENTITY#6</td>\n",
       "      <td>018208015191</td>\n",
       "      <td>8.629788</td>\n",
       "    </tr>\n",
       "    <tr>\n",
       "      <th>1385</th>\n",
       "      <td>ENTITY#7</td>\n",
       "      <td>olympus_om_e_m5</td>\n",
       "      <td>5.083195</td>\n",
       "    </tr>\n",
       "    <tr>\n",
       "      <th>1386</th>\n",
       "      <td>ENTITY#7</td>\n",
       "      <td>olympus_om-d_e-m5</td>\n",
       "      <td>4.694142</td>\n",
       "    </tr>\n",
       "    <tr>\n",
       "      <th>1387</th>\n",
       "      <td>ENTITY#7</td>\n",
       "      <td>olympus_om</td>\n",
       "      <td>1.989283</td>\n",
       "    </tr>\n",
       "    <tr>\n",
       "      <th>1460</th>\n",
       "      <td>ENTITY#75</td>\n",
       "      <td>d7000</td>\n",
       "      <td>31.811068</td>\n",
       "    </tr>\n",
       "    <tr>\n",
       "      <th>1461</th>\n",
       "      <td>ENTITY#75</td>\n",
       "      <td>nikon_d7000</td>\n",
       "      <td>15.423314</td>\n",
       "    </tr>\n",
       "    <tr>\n",
       "      <th>1462</th>\n",
       "      <td>ENTITY#75</td>\n",
       "      <td>018208254682</td>\n",
       "      <td>6.929686</td>\n",
       "    </tr>\n",
       "    <tr>\n",
       "      <th>1576</th>\n",
       "      <td>ENTITY#76</td>\n",
       "      <td>d610</td>\n",
       "      <td>8.387202</td>\n",
       "    </tr>\n",
       "    <tr>\n",
       "      <th>1577</th>\n",
       "      <td>ENTITY#76</td>\n",
       "      <td>nikon_d610</td>\n",
       "      <td>5.243844</td>\n",
       "    </tr>\n",
       "    <tr>\n",
       "      <th>1578</th>\n",
       "      <td>ENTITY#76</td>\n",
       "      <td>018208015405</td>\n",
       "      <td>4.313579</td>\n",
       "    </tr>\n",
       "    <tr>\n",
       "      <th>1672</th>\n",
       "      <td>ENTITY#8</td>\n",
       "      <td>1_j3</td>\n",
       "      <td>9.294538</td>\n",
       "    </tr>\n",
       "    <tr>\n",
       "      <th>1673</th>\n",
       "      <td>ENTITY#8</td>\n",
       "      <td>nikon_j3_interchangable_lens_digital_camera</td>\n",
       "      <td>3.216426</td>\n",
       "    </tr>\n",
       "    <tr>\n",
       "      <th>1674</th>\n",
       "      <td>ENTITY#8</td>\n",
       "      <td>j3</td>\n",
       "      <td>3.008390</td>\n",
       "    </tr>\n",
       "    <tr>\n",
       "      <th>1744</th>\n",
       "      <td>ENTITY#84</td>\n",
       "      <td>nikon_d300</td>\n",
       "      <td>19.645601</td>\n",
       "    </tr>\n",
       "    <tr>\n",
       "      <th>1745</th>\n",
       "      <td>ENTITY#84</td>\n",
       "      <td>12_3_mp_digital_slr_camera_black_body</td>\n",
       "      <td>3.205628</td>\n",
       "    </tr>\n",
       "    <tr>\n",
       "      <th>1746</th>\n",
       "      <td>ENTITY#84</td>\n",
       "      <td>nikon_d300_body</td>\n",
       "      <td>1.696712</td>\n",
       "    </tr>\n",
       "    <tr>\n",
       "      <th>1813</th>\n",
       "      <td>ENTITY#96</td>\n",
       "      <td>canon_eos_70d</td>\n",
       "      <td>11.965442</td>\n",
       "    </tr>\n",
       "    <tr>\n",
       "      <th>1814</th>\n",
       "      <td>ENTITY#96</td>\n",
       "      <td>70d</td>\n",
       "      <td>9.217384</td>\n",
       "    </tr>\n",
       "    <tr>\n",
       "      <th>1815</th>\n",
       "      <td>ENTITY#96</td>\n",
       "      <td>canon_eos_70d_dslr_camera</td>\n",
       "      <td>6.712646</td>\n",
       "    </tr>\n",
       "  </tbody>\n",
       "</table>\n",
       "</div>"
      ],
      "text/plain": [
       "           label                                         term     weight\n",
       "0     ENTITY#101                                  5d_mark_iii  24.429103\n",
       "1     ENTITY#101                  iii_digital_slr_camera_body   4.285580\n",
       "2     ENTITY#101        22_3_mp_digital_slr_camera_black_body   4.011217\n",
       "87    ENTITY#102                                           ii   6.897895\n",
       "88    ENTITY#102                            013803105384_ebay   3.799566\n",
       "89    ENTITY#102                                 013803105384   3.497794\n",
       "157    ENTITY#16                                    nikon_d90  23.186647\n",
       "158    ENTITY#16                                 018208254460   6.082784\n",
       "159    ENTITY#16         12_3_mp_digital_slr_camera_black_kit   2.755507\n",
       "240    ENTITY#18                                canon_eos_60d  40.386567\n",
       "241    ENTITY#18                                          60d  19.570732\n",
       "242    ENTITY#18                                 013803129052   8.698860\n",
       "370    ENTITY#19                                  nikon_d3300  13.025693\n",
       "371    ENTITY#19                                        d3300   6.051306\n",
       "372    ENTITY#19                              nikon_d3300_kit   5.470238\n",
       "438    ENTITY#21                                        d5100  24.444274\n",
       "439    ENTITY#21                                  nikon_d5100  11.693344\n",
       "440    ENTITY#21                                 018208254781   8.338838\n",
       "539    ENTITY#23                                 canon_eos_7d  48.268087\n",
       "540    ENTITY#23                                 013803117493  10.171756\n",
       "541    ENTITY#23                            013803117493_ebay   9.116535\n",
       "674    ENTITY#36                                  nikon_d3100  31.508097\n",
       "675    ENTITY#36                                        d3100   8.418503\n",
       "676    ENTITY#36         14_2_mp_digital_slr_camera_black_kit   5.464632\n",
       "803    ENTITY#37                                    nikon_d80  10.305835\n",
       "804    ENTITY#37                                 018208254125   3.237252\n",
       "805    ENTITY#37      nikon_d80_10_2mp_digital_slr_camera_kit   2.378195\n",
       "853    ENTITY#41                                        d5200  18.196232\n",
       "854    ENTITY#41                                  nikon_d5200  15.664675\n",
       "855    ENTITY#41               nikon_d5200_digital_slr_camera   6.017642\n",
       "990    ENTITY#44                                        d3200  53.766357\n",
       "991    ENTITY#44                                  nikon_d3200  31.456219\n",
       "992    ENTITY#44                              nikon_d3200_kit   6.115461\n",
       "1107   ENTITY#57                                   nikon_d800   8.356913\n",
       "1108   ENTITY#57                                 018208254804   7.671751\n",
       "1109   ENTITY#57        36_3_mp_digital_slr_camera_black_body   3.114018\n",
       "1167   ENTITY#58                                           j1   7.499917\n",
       "1168   ENTITY#58                                         1_j1   4.349892\n",
       "1169   ENTITY#58                                           10   4.149075\n",
       "1256    ENTITY#6                                  nikon_d5300  11.897862\n",
       "1257    ENTITY#6                              nikon_d5300_kit   9.622578\n",
       "1258    ENTITY#6                                 018208015191   8.629788\n",
       "1385    ENTITY#7                              olympus_om_e_m5   5.083195\n",
       "1386    ENTITY#7                            olympus_om-d_e-m5   4.694142\n",
       "1387    ENTITY#7                                   olympus_om   1.989283\n",
       "1460   ENTITY#75                                        d7000  31.811068\n",
       "1461   ENTITY#75                                  nikon_d7000  15.423314\n",
       "1462   ENTITY#75                                 018208254682   6.929686\n",
       "1576   ENTITY#76                                         d610   8.387202\n",
       "1577   ENTITY#76                                   nikon_d610   5.243844\n",
       "1578   ENTITY#76                                 018208015405   4.313579\n",
       "1672    ENTITY#8                                         1_j3   9.294538\n",
       "1673    ENTITY#8  nikon_j3_interchangable_lens_digital_camera   3.216426\n",
       "1674    ENTITY#8                                           j3   3.008390\n",
       "1744   ENTITY#84                                   nikon_d300  19.645601\n",
       "1745   ENTITY#84        12_3_mp_digital_slr_camera_black_body   3.205628\n",
       "1746   ENTITY#84                              nikon_d300_body   1.696712\n",
       "1813   ENTITY#96                                canon_eos_70d  11.965442\n",
       "1814   ENTITY#96                                          70d   9.217384\n",
       "1815   ENTITY#96                    canon_eos_70d_dslr_camera   6.712646"
      ]
     },
     "execution_count": 9,
     "metadata": {},
     "output_type": "execute_result"
    }
   ],
   "source": [
    "ranking_df.groupby('label').head(3)"
   ]
  },
  {
   "cell_type": "markdown",
   "metadata": {},
   "source": [
    "---"
   ]
  },
  {
   "cell_type": "markdown",
   "metadata": {},
   "source": [
    "## Save selected ranking"
   ]
  },
  {
   "cell_type": "code",
   "execution_count": 10,
   "metadata": {
    "ExecuteTime": {
     "end_time": "2020-11-24T14:15:38.036617Z",
     "start_time": "2020-11-24T14:15:38.029168Z"
    }
   },
   "outputs": [],
   "source": [
    "ranking_filename = 'ranking_alaska_nn_tfidf.xlsx'\n",
    "ranking_filepath = os.path.join(root_dir, data_dir, ranking_filename)"
   ]
  },
  {
   "cell_type": "code",
   "execution_count": 11,
   "metadata": {
    "ExecuteTime": {
     "end_time": "2020-11-24T14:15:38.870789Z",
     "start_time": "2020-11-24T14:15:38.863959Z"
    }
   },
   "outputs": [
    {
     "data": {
      "text/plain": [
       "'../../data/terms/ranking_alaska_nn_tfidf.xlsx'"
      ]
     },
     "execution_count": 11,
     "metadata": {},
     "output_type": "execute_result"
    }
   ],
   "source": [
    "ranking_filepath"
   ]
  },
  {
   "cell_type": "code",
   "execution_count": 12,
   "metadata": {
    "ExecuteTime": {
     "end_time": "2020-11-24T14:15:57.346573Z",
     "start_time": "2020-11-24T14:15:56.732435Z"
    }
   },
   "outputs": [],
   "source": [
    "ranking_df.to_excel(ranking_filepath)"
   ]
  },
  {
   "cell_type": "markdown",
   "metadata": {},
   "source": [
    "---"
   ]
  }
 ],
 "metadata": {
  "kernelspec": {
   "display_name": "Python 3",
   "language": "python",
   "name": "python3"
  },
  "language_info": {
   "codemirror_mode": {
    "name": "ipython",
    "version": 3
   },
   "file_extension": ".py",
   "mimetype": "text/x-python",
   "name": "python",
   "nbconvert_exporter": "python",
   "pygments_lexer": "ipython3",
   "version": "3.8.1"
  },
  "toc": {
   "base_numbering": 1,
   "nav_menu": {},
   "number_sections": true,
   "sideBar": true,
   "skip_h1_title": false,
   "title_cell": "Table of Contents",
   "title_sidebar": "Contents",
   "toc_cell": false,
   "toc_position": {},
   "toc_section_display": true,
   "toc_window_display": false
  }
 },
 "nbformat": 4,
 "nbformat_minor": 4
}
