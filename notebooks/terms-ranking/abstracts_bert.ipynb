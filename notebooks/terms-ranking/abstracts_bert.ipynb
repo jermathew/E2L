{
 "cells": [
  {
   "cell_type": "markdown",
   "metadata": {},
   "source": [
    "# Process terms \n",
    "Process terms retrieved from the neural network model using `LIME`"
   ]
  },
  {
   "cell_type": "markdown",
   "metadata": {},
   "source": [
    "---\n",
    "## Load the retrieved terms"
   ]
  },
  {
   "cell_type": "code",
   "execution_count": 1,
   "metadata": {
    "ExecuteTime": {
     "end_time": "2021-01-04T10:50:43.699471Z",
     "start_time": "2021-01-04T10:50:43.693187Z"
    }
   },
   "outputs": [],
   "source": [
    "import os"
   ]
  },
  {
   "cell_type": "code",
   "execution_count": 2,
   "metadata": {
    "ExecuteTime": {
     "end_time": "2021-01-04T10:50:43.899782Z",
     "start_time": "2021-01-04T10:50:43.894039Z"
    }
   },
   "outputs": [],
   "source": [
    "dataset_name = 'abstracts'\n",
    "model_name = 'bert'"
   ]
  },
  {
   "cell_type": "code",
   "execution_count": 3,
   "metadata": {
    "ExecuteTime": {
     "end_time": "2021-01-04T10:50:44.100694Z",
     "start_time": "2021-01-04T10:50:44.094064Z"
    }
   },
   "outputs": [],
   "source": [
    "root_dir = '../..'\n",
    "data_dir = 'data/terms'\n",
    "filename = f'relevant_terms_{dataset_name}_{model_name}.csv'\n",
    "filepath = os.path.join(root_dir, data_dir, filename)"
   ]
  },
  {
   "cell_type": "code",
   "execution_count": 4,
   "metadata": {
    "ExecuteTime": {
     "end_time": "2021-01-04T10:50:44.666081Z",
     "start_time": "2021-01-04T10:50:44.306978Z"
    }
   },
   "outputs": [],
   "source": [
    "import pandas as pd"
   ]
  },
  {
   "cell_type": "code",
   "execution_count": 5,
   "metadata": {
    "ExecuteTime": {
     "end_time": "2021-01-04T10:50:44.712882Z",
     "start_time": "2021-01-04T10:50:44.670347Z"
    }
   },
   "outputs": [],
   "source": [
    "terms_df = pd.read_csv(filepath)"
   ]
  },
  {
   "cell_type": "code",
   "execution_count": 6,
   "metadata": {
    "ExecuteTime": {
     "end_time": "2021-01-04T10:50:44.747274Z",
     "start_time": "2021-01-04T10:50:44.720943Z"
    }
   },
   "outputs": [
    {
     "data": {
      "text/html": [
       "<div>\n",
       "<style scoped>\n",
       "    .dataframe tbody tr th:only-of-type {\n",
       "        vertical-align: middle;\n",
       "    }\n",
       "\n",
       "    .dataframe tbody tr th {\n",
       "        vertical-align: top;\n",
       "    }\n",
       "\n",
       "    .dataframe thead th {\n",
       "        text-align: right;\n",
       "    }\n",
       "</style>\n",
       "<table border=\"1\" class=\"dataframe\">\n",
       "  <thead>\n",
       "    <tr style=\"text-align: right;\">\n",
       "      <th></th>\n",
       "      <th>label</th>\n",
       "      <th>term</th>\n",
       "      <th>weight</th>\n",
       "      <th>data_id</th>\n",
       "    </tr>\n",
       "  </thead>\n",
       "  <tbody>\n",
       "    <tr>\n",
       "      <th>0</th>\n",
       "      <td>cs</td>\n",
       "      <td>architecture_description_language</td>\n",
       "      <td>0.016074</td>\n",
       "      <td>0</td>\n",
       "    </tr>\n",
       "    <tr>\n",
       "      <th>1</th>\n",
       "      <td>cs</td>\n",
       "      <td>software_based_systems</td>\n",
       "      <td>0.015230</td>\n",
       "      <td>0</td>\n",
       "    </tr>\n",
       "    <tr>\n",
       "      <th>2</th>\n",
       "      <td>cs</td>\n",
       "      <td>concurrent_systems</td>\n",
       "      <td>0.014052</td>\n",
       "      <td>0</td>\n",
       "    </tr>\n",
       "    <tr>\n",
       "      <th>3</th>\n",
       "      <td>cs</td>\n",
       "      <td>compositional_rely/guarantee_reasoning</td>\n",
       "      <td>0.009831</td>\n",
       "      <td>0</td>\n",
       "    </tr>\n",
       "    <tr>\n",
       "      <th>4</th>\n",
       "      <td>cs</td>\n",
       "      <td>components</td>\n",
       "      <td>0.009536</td>\n",
       "      <td>0</td>\n",
       "    </tr>\n",
       "  </tbody>\n",
       "</table>\n",
       "</div>"
      ],
      "text/plain": [
       "  label                                    term    weight  data_id\n",
       "0    cs       architecture_description_language  0.016074        0\n",
       "1    cs                  software_based_systems  0.015230        0\n",
       "2    cs                      concurrent_systems  0.014052        0\n",
       "3    cs  compositional_rely/guarantee_reasoning  0.009831        0\n",
       "4    cs                              components  0.009536        0"
      ]
     },
     "execution_count": 6,
     "metadata": {},
     "output_type": "execute_result"
    }
   ],
   "source": [
    "terms_df.head()"
   ]
  },
  {
   "cell_type": "markdown",
   "metadata": {},
   "source": [
    "---"
   ]
  },
  {
   "cell_type": "markdown",
   "metadata": {},
   "source": [
    "## Rank terms by LIME weights"
   ]
  },
  {
   "cell_type": "markdown",
   "metadata": {},
   "source": [
    "### Aggregate (sum) LIME weights for each term"
   ]
  },
  {
   "cell_type": "code",
   "execution_count": 7,
   "metadata": {
    "ExecuteTime": {
     "end_time": "2021-01-04T10:50:45.681430Z",
     "start_time": "2021-01-04T10:50:45.611539Z"
    }
   },
   "outputs": [],
   "source": [
    "terms_stats_df = terms_df.groupby(['label', 'term']).agg({'weight': 'sum'}).reset_index()"
   ]
  },
  {
   "cell_type": "code",
   "execution_count": 8,
   "metadata": {
    "ExecuteTime": {
     "end_time": "2021-01-04T10:50:45.838762Z",
     "start_time": "2021-01-04T10:50:45.819769Z"
    }
   },
   "outputs": [
    {
     "data": {
      "text/html": [
       "<div>\n",
       "<style scoped>\n",
       "    .dataframe tbody tr th:only-of-type {\n",
       "        vertical-align: middle;\n",
       "    }\n",
       "\n",
       "    .dataframe tbody tr th {\n",
       "        vertical-align: top;\n",
       "    }\n",
       "\n",
       "    .dataframe thead th {\n",
       "        text-align: right;\n",
       "    }\n",
       "</style>\n",
       "<table border=\"1\" class=\"dataframe\">\n",
       "  <thead>\n",
       "    <tr style=\"text-align: right;\">\n",
       "      <th></th>\n",
       "      <th>label</th>\n",
       "      <th>term</th>\n",
       "      <th>weight</th>\n",
       "    </tr>\n",
       "  </thead>\n",
       "  <tbody>\n",
       "    <tr>\n",
       "      <th>0</th>\n",
       "      <td>cs</td>\n",
       "      <td>-means++</td>\n",
       "      <td>0.043677</td>\n",
       "    </tr>\n",
       "    <tr>\n",
       "      <th>1</th>\n",
       "      <td>cs</td>\n",
       "      <td>...</td>\n",
       "      <td>0.109052</td>\n",
       "    </tr>\n",
       "    <tr>\n",
       "      <th>2</th>\n",
       "      <td>cs</td>\n",
       "      <td>0</td>\n",
       "      <td>0.004917</td>\n",
       "    </tr>\n",
       "    <tr>\n",
       "      <th>3</th>\n",
       "      <td>cs</td>\n",
       "      <td>1</td>\n",
       "      <td>0.009401</td>\n",
       "    </tr>\n",
       "    <tr>\n",
       "      <th>4</th>\n",
       "      <td>cs</td>\n",
       "      <td>1-dimensional_infinite_impulse_response_iir_fi...</td>\n",
       "      <td>0.077751</td>\n",
       "    </tr>\n",
       "  </tbody>\n",
       "</table>\n",
       "</div>"
      ],
      "text/plain": [
       "  label                                               term    weight\n",
       "0    cs                                           -means++  0.043677\n",
       "1    cs                                                ...  0.109052\n",
       "2    cs                                                  0  0.004917\n",
       "3    cs                                                  1  0.009401\n",
       "4    cs  1-dimensional_infinite_impulse_response_iir_fi...  0.077751"
      ]
     },
     "execution_count": 8,
     "metadata": {},
     "output_type": "execute_result"
    }
   ],
   "source": [
    "terms_stats_df.head()"
   ]
  },
  {
   "cell_type": "markdown",
   "metadata": {
    "ExecuteTime": {
     "end_time": "2020-09-22T21:07:22.493467Z",
     "start_time": "2020-09-22T21:07:22.478186Z"
    }
   },
   "source": [
    "### Sort terms\n",
    "Rank terms by total weight (descending)"
   ]
  },
  {
   "cell_type": "code",
   "execution_count": 9,
   "metadata": {
    "ExecuteTime": {
     "end_time": "2021-01-04T10:50:46.286563Z",
     "start_time": "2021-01-04T10:50:46.255116Z"
    }
   },
   "outputs": [],
   "source": [
    "ranking_df = terms_stats_df.groupby('label')\\\n",
    "                .apply(lambda grp: grp.sort_values(by='weight', ascending=False))\\\n",
    "                .reset_index(drop=True)"
   ]
  },
  {
   "cell_type": "code",
   "execution_count": 10,
   "metadata": {
    "ExecuteTime": {
     "end_time": "2021-01-04T10:50:46.496337Z",
     "start_time": "2021-01-04T10:50:46.471752Z"
    }
   },
   "outputs": [
    {
     "data": {
      "text/html": [
       "<div>\n",
       "<style scoped>\n",
       "    .dataframe tbody tr th:only-of-type {\n",
       "        vertical-align: middle;\n",
       "    }\n",
       "\n",
       "    .dataframe tbody tr th {\n",
       "        vertical-align: top;\n",
       "    }\n",
       "\n",
       "    .dataframe thead th {\n",
       "        text-align: right;\n",
       "    }\n",
       "</style>\n",
       "<table border=\"1\" class=\"dataframe\">\n",
       "  <thead>\n",
       "    <tr style=\"text-align: right;\">\n",
       "      <th></th>\n",
       "      <th>label</th>\n",
       "      <th>term</th>\n",
       "      <th>weight</th>\n",
       "    </tr>\n",
       "  </thead>\n",
       "  <tbody>\n",
       "    <tr>\n",
       "      <th>0</th>\n",
       "      <td>cs</td>\n",
       "      <td>algorithm</td>\n",
       "      <td>5.667145</td>\n",
       "    </tr>\n",
       "    <tr>\n",
       "      <th>1</th>\n",
       "      <td>cs</td>\n",
       "      <td>queries</td>\n",
       "      <td>2.093655</td>\n",
       "    </tr>\n",
       "    <tr>\n",
       "      <th>2</th>\n",
       "      <td>cs</td>\n",
       "      <td>algorithms</td>\n",
       "      <td>2.025943</td>\n",
       "    </tr>\n",
       "    <tr>\n",
       "      <th>3</th>\n",
       "      <td>cs</td>\n",
       "      <td>computing</td>\n",
       "      <td>1.922598</td>\n",
       "    </tr>\n",
       "    <tr>\n",
       "      <th>4</th>\n",
       "      <td>cs</td>\n",
       "      <td>using</td>\n",
       "      <td>1.851915</td>\n",
       "    </tr>\n",
       "    <tr>\n",
       "      <th>5609</th>\n",
       "      <td>math</td>\n",
       "      <td>theorem</td>\n",
       "      <td>1.817833</td>\n",
       "    </tr>\n",
       "    <tr>\n",
       "      <th>5610</th>\n",
       "      <td>math</td>\n",
       "      <td>prove</td>\n",
       "      <td>1.520121</td>\n",
       "    </tr>\n",
       "    <tr>\n",
       "      <th>5611</th>\n",
       "      <td>math</td>\n",
       "      <td>gromov_non-squeezing_theorem</td>\n",
       "      <td>0.813433</td>\n",
       "    </tr>\n",
       "    <tr>\n",
       "      <th>5612</th>\n",
       "      <td>math</td>\n",
       "      <td>artin_conjecture</td>\n",
       "      <td>0.765589</td>\n",
       "    </tr>\n",
       "    <tr>\n",
       "      <th>5613</th>\n",
       "      <td>math</td>\n",
       "      <td>proof</td>\n",
       "      <td>0.707245</td>\n",
       "    </tr>\n",
       "    <tr>\n",
       "      <th>9878</th>\n",
       "      <td>physics</td>\n",
       "      <td>quantum_theory</td>\n",
       "      <td>1.141836</td>\n",
       "    </tr>\n",
       "    <tr>\n",
       "      <th>9879</th>\n",
       "      <td>physics</td>\n",
       "      <td>high_energy_physics_experiments</td>\n",
       "      <td>0.982473</td>\n",
       "    </tr>\n",
       "    <tr>\n",
       "      <th>9880</th>\n",
       "      <td>physics</td>\n",
       "      <td>physics</td>\n",
       "      <td>0.904795</td>\n",
       "    </tr>\n",
       "    <tr>\n",
       "      <th>9881</th>\n",
       "      <td>physics</td>\n",
       "      <td>tevatron</td>\n",
       "      <td>0.816616</td>\n",
       "    </tr>\n",
       "    <tr>\n",
       "      <th>9882</th>\n",
       "      <td>physics</td>\n",
       "      <td>hydrogen_atom</td>\n",
       "      <td>0.763785</td>\n",
       "    </tr>\n",
       "    <tr>\n",
       "      <th>15465</th>\n",
       "      <td>stat</td>\n",
       "      <td>experiments</td>\n",
       "      <td>3.036573</td>\n",
       "    </tr>\n",
       "    <tr>\n",
       "      <th>15466</th>\n",
       "      <td>stat</td>\n",
       "      <td>model</td>\n",
       "      <td>2.653721</td>\n",
       "    </tr>\n",
       "    <tr>\n",
       "      <th>15467</th>\n",
       "      <td>stat</td>\n",
       "      <td>estimator</td>\n",
       "      <td>2.284743</td>\n",
       "    </tr>\n",
       "    <tr>\n",
       "      <th>15468</th>\n",
       "      <td>stat</td>\n",
       "      <td>estimating</td>\n",
       "      <td>1.724715</td>\n",
       "    </tr>\n",
       "    <tr>\n",
       "      <th>15469</th>\n",
       "      <td>stat</td>\n",
       "      <td>arxiv:0808_0620</td>\n",
       "      <td>1.491490</td>\n",
       "    </tr>\n",
       "  </tbody>\n",
       "</table>\n",
       "</div>"
      ],
      "text/plain": [
       "         label                             term    weight\n",
       "0           cs                        algorithm  5.667145\n",
       "1           cs                          queries  2.093655\n",
       "2           cs                       algorithms  2.025943\n",
       "3           cs                        computing  1.922598\n",
       "4           cs                            using  1.851915\n",
       "5609      math                          theorem  1.817833\n",
       "5610      math                            prove  1.520121\n",
       "5611      math     gromov_non-squeezing_theorem  0.813433\n",
       "5612      math                 artin_conjecture  0.765589\n",
       "5613      math                            proof  0.707245\n",
       "9878   physics                   quantum_theory  1.141836\n",
       "9879   physics  high_energy_physics_experiments  0.982473\n",
       "9880   physics                          physics  0.904795\n",
       "9881   physics                         tevatron  0.816616\n",
       "9882   physics                    hydrogen_atom  0.763785\n",
       "15465     stat                      experiments  3.036573\n",
       "15466     stat                            model  2.653721\n",
       "15467     stat                        estimator  2.284743\n",
       "15468     stat                       estimating  1.724715\n",
       "15469     stat                  arxiv:0808_0620  1.491490"
      ]
     },
     "execution_count": 10,
     "metadata": {},
     "output_type": "execute_result"
    }
   ],
   "source": [
    "ranking_df.groupby('label').head()"
   ]
  },
  {
   "cell_type": "markdown",
   "metadata": {},
   "source": [
    "---"
   ]
  },
  {
   "cell_type": "markdown",
   "metadata": {},
   "source": [
    "## Save ranking"
   ]
  },
  {
   "cell_type": "code",
   "execution_count": 11,
   "metadata": {
    "ExecuteTime": {
     "end_time": "2021-01-04T10:50:47.261905Z",
     "start_time": "2021-01-04T10:50:47.255535Z"
    }
   },
   "outputs": [],
   "source": [
    "ranking_filename = f'ranking_{dataset_name}_{model_name}.xlsx'\n",
    "ranking_filepath = os.path.join(root_dir, data_dir, ranking_filename)"
   ]
  },
  {
   "cell_type": "code",
   "execution_count": 12,
   "metadata": {
    "ExecuteTime": {
     "end_time": "2021-01-04T10:50:47.704314Z",
     "start_time": "2021-01-04T10:50:47.694556Z"
    }
   },
   "outputs": [
    {
     "data": {
      "text/plain": [
       "'../../data/terms/ranking_abstracts_bert.xlsx'"
      ]
     },
     "execution_count": 12,
     "metadata": {},
     "output_type": "execute_result"
    }
   ],
   "source": [
    "ranking_filepath"
   ]
  },
  {
   "cell_type": "code",
   "execution_count": 13,
   "metadata": {
    "ExecuteTime": {
     "end_time": "2021-01-04T10:50:53.315567Z",
     "start_time": "2021-01-04T10:50:48.122943Z"
    }
   },
   "outputs": [],
   "source": [
    "ranking_df.to_excel(ranking_filepath)"
   ]
  },
  {
   "cell_type": "markdown",
   "metadata": {},
   "source": [
    "---"
   ]
  }
 ],
 "metadata": {
  "kernelspec": {
   "display_name": "Python 3",
   "language": "python",
   "name": "python3"
  },
  "language_info": {
   "codemirror_mode": {
    "name": "ipython",
    "version": 3
   },
   "file_extension": ".py",
   "mimetype": "text/x-python",
   "name": "python",
   "nbconvert_exporter": "python",
   "pygments_lexer": "ipython3",
   "version": "3.8.1"
  },
  "toc": {
   "base_numbering": 1,
   "nav_menu": {},
   "number_sections": true,
   "sideBar": true,
   "skip_h1_title": false,
   "title_cell": "Table of Contents",
   "title_sidebar": "Contents",
   "toc_cell": false,
   "toc_position": {},
   "toc_section_display": true,
   "toc_window_display": false
  }
 },
 "nbformat": 4,
 "nbformat_minor": 4
}
