{
 "cells": [
  {
   "cell_type": "markdown",
   "metadata": {},
   "source": [
    "# Process terms \n",
    "Process terms retrieved from the neural network model using `LIME`"
   ]
  },
  {
   "cell_type": "markdown",
   "metadata": {},
   "source": [
    "## Load the retrieved terms"
   ]
  },
  {
   "cell_type": "code",
   "execution_count": 1,
   "metadata": {
    "ExecuteTime": {
     "end_time": "2021-03-17T14:32:18.725591Z",
     "start_time": "2021-03-17T14:32:18.722452Z"
    }
   },
   "outputs": [],
   "source": [
    "import os"
   ]
  },
  {
   "cell_type": "code",
   "execution_count": 2,
   "metadata": {
    "ExecuteTime": {
     "end_time": "2021-03-17T14:32:19.121913Z",
     "start_time": "2021-03-17T14:32:19.118256Z"
    }
   },
   "outputs": [],
   "source": [
    "root_dir = '../..'\n",
    "data_dir = 'data/terms'\n",
    "filename = 'relevant_terms_alaska_bert_noisy.csv'\n",
    "filepath = os.path.join(root_dir, data_dir, filename)"
   ]
  },
  {
   "cell_type": "code",
   "execution_count": 3,
   "metadata": {
    "ExecuteTime": {
     "end_time": "2021-03-17T14:32:19.812273Z",
     "start_time": "2021-03-17T14:32:19.521228Z"
    }
   },
   "outputs": [],
   "source": [
    "import pandas as pd"
   ]
  },
  {
   "cell_type": "code",
   "execution_count": 4,
   "metadata": {
    "ExecuteTime": {
     "end_time": "2021-03-17T14:32:19.902278Z",
     "start_time": "2021-03-17T14:32:19.891839Z"
    }
   },
   "outputs": [],
   "source": [
    "terms_df = pd.read_csv(filepath)"
   ]
  },
  {
   "cell_type": "code",
   "execution_count": 5,
   "metadata": {
    "ExecuteTime": {
     "end_time": "2021-03-17T14:32:20.475948Z",
     "start_time": "2021-03-17T14:32:20.457731Z"
    }
   },
   "outputs": [
    {
     "data": {
      "text/html": [
       "<div>\n",
       "<style scoped>\n",
       "    .dataframe tbody tr th:only-of-type {\n",
       "        vertical-align: middle;\n",
       "    }\n",
       "\n",
       "    .dataframe tbody tr th {\n",
       "        vertical-align: top;\n",
       "    }\n",
       "\n",
       "    .dataframe thead th {\n",
       "        text-align: right;\n",
       "    }\n",
       "</style>\n",
       "<table border=\"1\" class=\"dataframe\">\n",
       "  <thead>\n",
       "    <tr style=\"text-align: right;\">\n",
       "      <th></th>\n",
       "      <th>label</th>\n",
       "      <th>term</th>\n",
       "      <th>weight</th>\n",
       "      <th>data_id</th>\n",
       "    </tr>\n",
       "  </thead>\n",
       "  <tbody>\n",
       "    <tr>\n",
       "      <th>0</th>\n",
       "      <td>ENTITY#44</td>\n",
       "      <td>nikon_d3200_dslr_camera</td>\n",
       "      <td>0.554292</td>\n",
       "      <td>0</td>\n",
       "    </tr>\n",
       "    <tr>\n",
       "      <th>1</th>\n",
       "      <td>ENTITY#44</td>\n",
       "      <td>nikon_d3200</td>\n",
       "      <td>0.220909</td>\n",
       "      <td>1</td>\n",
       "    </tr>\n",
       "    <tr>\n",
       "      <th>2</th>\n",
       "      <td>ENTITY#44</td>\n",
       "      <td>55-200/4</td>\n",
       "      <td>0.031260</td>\n",
       "      <td>1</td>\n",
       "    </tr>\n",
       "    <tr>\n",
       "      <th>3</th>\n",
       "      <td>ENTITY#44</td>\n",
       "      <td>new_zealand_prices</td>\n",
       "      <td>0.026744</td>\n",
       "      <td>1</td>\n",
       "    </tr>\n",
       "    <tr>\n",
       "      <th>4</th>\n",
       "      <td>ENTITY#44</td>\n",
       "      <td>nikon_d3200</td>\n",
       "      <td>0.306589</td>\n",
       "      <td>2</td>\n",
       "    </tr>\n",
       "  </tbody>\n",
       "</table>\n",
       "</div>"
      ],
      "text/plain": [
       "       label                     term    weight  data_id\n",
       "0  ENTITY#44  nikon_d3200_dslr_camera  0.554292        0\n",
       "1  ENTITY#44              nikon_d3200  0.220909        1\n",
       "2  ENTITY#44                 55-200/4  0.031260        1\n",
       "3  ENTITY#44       new_zealand_prices  0.026744        1\n",
       "4  ENTITY#44              nikon_d3200  0.306589        2"
      ]
     },
     "execution_count": 5,
     "metadata": {},
     "output_type": "execute_result"
    }
   ],
   "source": [
    "terms_df.head()"
   ]
  },
  {
   "cell_type": "markdown",
   "metadata": {},
   "source": [
    "---"
   ]
  },
  {
   "cell_type": "markdown",
   "metadata": {},
   "source": [
    "## Rank terms"
   ]
  },
  {
   "cell_type": "markdown",
   "metadata": {},
   "source": [
    "### Aggregate (sum) LIME weights for each term"
   ]
  },
  {
   "cell_type": "code",
   "execution_count": 6,
   "metadata": {
    "ExecuteTime": {
     "end_time": "2021-03-17T14:32:25.209147Z",
     "start_time": "2021-03-17T14:32:25.194388Z"
    }
   },
   "outputs": [],
   "source": [
    "terms_stats_df = terms_df.groupby(['label', 'term']).agg({'weight': 'sum'}).reset_index()"
   ]
  },
  {
   "cell_type": "code",
   "execution_count": 7,
   "metadata": {
    "ExecuteTime": {
     "end_time": "2021-03-17T14:32:26.316561Z",
     "start_time": "2021-03-17T14:32:26.305978Z"
    }
   },
   "outputs": [
    {
     "data": {
      "text/html": [
       "<div>\n",
       "<style scoped>\n",
       "    .dataframe tbody tr th:only-of-type {\n",
       "        vertical-align: middle;\n",
       "    }\n",
       "\n",
       "    .dataframe tbody tr th {\n",
       "        vertical-align: top;\n",
       "    }\n",
       "\n",
       "    .dataframe thead th {\n",
       "        text-align: right;\n",
       "    }\n",
       "</style>\n",
       "<table border=\"1\" class=\"dataframe\">\n",
       "  <thead>\n",
       "    <tr style=\"text-align: right;\">\n",
       "      <th></th>\n",
       "      <th>label</th>\n",
       "      <th>term</th>\n",
       "      <th>weight</th>\n",
       "    </tr>\n",
       "  </thead>\n",
       "  <tbody>\n",
       "    <tr>\n",
       "      <th>0</th>\n",
       "      <td>ENTITY#101</td>\n",
       "      <td>3</td>\n",
       "      <td>0.148783</td>\n",
       "    </tr>\n",
       "    <tr>\n",
       "      <th>1</th>\n",
       "      <td>ENTITY#101</td>\n",
       "      <td>3_ebay</td>\n",
       "      <td>0.136557</td>\n",
       "    </tr>\n",
       "    <tr>\n",
       "      <th>2</th>\n",
       "      <td>ENTITY#101</td>\n",
       "      <td>3_lens_kit_usa_ebay</td>\n",
       "      <td>0.073260</td>\n",
       "    </tr>\n",
       "    <tr>\n",
       "      <th>3</th>\n",
       "      <td>ENTITY#101</td>\n",
       "      <td>5_mark_iii_body</td>\n",
       "      <td>0.316636</td>\n",
       "    </tr>\n",
       "    <tr>\n",
       "      <th>4</th>\n",
       "      <td>ENTITY#101</td>\n",
       "      <td>5d</td>\n",
       "      <td>0.258670</td>\n",
       "    </tr>\n",
       "  </tbody>\n",
       "</table>\n",
       "</div>"
      ],
      "text/plain": [
       "        label                 term    weight\n",
       "0  ENTITY#101                    3  0.148783\n",
       "1  ENTITY#101               3_ebay  0.136557\n",
       "2  ENTITY#101  3_lens_kit_usa_ebay  0.073260\n",
       "3  ENTITY#101      5_mark_iii_body  0.316636\n",
       "4  ENTITY#101                   5d  0.258670"
      ]
     },
     "execution_count": 7,
     "metadata": {},
     "output_type": "execute_result"
    }
   ],
   "source": [
    "terms_stats_df.head()"
   ]
  },
  {
   "cell_type": "markdown",
   "metadata": {
    "ExecuteTime": {
     "end_time": "2020-09-22T21:07:22.493467Z",
     "start_time": "2020-09-22T21:07:22.478186Z"
    }
   },
   "source": [
    "### Sort terms\n",
    "Rank terms by total weight (descending)"
   ]
  },
  {
   "cell_type": "code",
   "execution_count": 8,
   "metadata": {
    "ExecuteTime": {
     "end_time": "2021-03-17T14:32:28.249832Z",
     "start_time": "2021-03-17T14:32:28.229466Z"
    }
   },
   "outputs": [],
   "source": [
    "ranking_df = terms_stats_df.groupby('label')\\\n",
    "                .apply(lambda grp: grp.sort_values(by='weight', ascending=False))\\\n",
    "                .reset_index(drop=True)"
   ]
  },
  {
   "cell_type": "code",
   "execution_count": 9,
   "metadata": {
    "ExecuteTime": {
     "end_time": "2021-03-17T14:32:37.229135Z",
     "start_time": "2021-03-17T14:32:37.206490Z"
    }
   },
   "outputs": [
    {
     "data": {
      "text/html": [
       "<div>\n",
       "<style scoped>\n",
       "    .dataframe tbody tr th:only-of-type {\n",
       "        vertical-align: middle;\n",
       "    }\n",
       "\n",
       "    .dataframe tbody tr th {\n",
       "        vertical-align: top;\n",
       "    }\n",
       "\n",
       "    .dataframe thead th {\n",
       "        text-align: right;\n",
       "    }\n",
       "</style>\n",
       "<table border=\"1\" class=\"dataframe\">\n",
       "  <thead>\n",
       "    <tr style=\"text-align: right;\">\n",
       "      <th></th>\n",
       "      <th>label</th>\n",
       "      <th>term</th>\n",
       "      <th>weight</th>\n",
       "    </tr>\n",
       "  </thead>\n",
       "  <tbody>\n",
       "    <tr>\n",
       "      <th>0</th>\n",
       "      <td>ENTITY#101</td>\n",
       "      <td>5d_mark_iii</td>\n",
       "      <td>36.710231</td>\n",
       "    </tr>\n",
       "    <tr>\n",
       "      <th>1</th>\n",
       "      <td>ENTITY#101</td>\n",
       "      <td>5d_mark</td>\n",
       "      <td>10.632592</td>\n",
       "    </tr>\n",
       "    <tr>\n",
       "      <th>2</th>\n",
       "      <td>ENTITY#101</td>\n",
       "      <td>canon_eos_5d_mark_iii_22_3_mp_full_frame</td>\n",
       "      <td>3.788720</td>\n",
       "    </tr>\n",
       "    <tr>\n",
       "      <th>56</th>\n",
       "      <td>ENTITY#16</td>\n",
       "      <td>nikon_d90</td>\n",
       "      <td>58.969765</td>\n",
       "    </tr>\n",
       "    <tr>\n",
       "      <th>57</th>\n",
       "      <td>ENTITY#16</td>\n",
       "      <td>nikon_d90_camera</td>\n",
       "      <td>1.917338</td>\n",
       "    </tr>\n",
       "    <tr>\n",
       "      <th>58</th>\n",
       "      <td>ENTITY#16</td>\n",
       "      <td>nikon_d90_camera_body</td>\n",
       "      <td>1.907971</td>\n",
       "    </tr>\n",
       "    <tr>\n",
       "      <th>91</th>\n",
       "      <td>ENTITY#18</td>\n",
       "      <td>canon_eos_60d</td>\n",
       "      <td>51.833088</td>\n",
       "    </tr>\n",
       "    <tr>\n",
       "      <th>92</th>\n",
       "      <td>ENTITY#18</td>\n",
       "      <td>60d</td>\n",
       "      <td>46.676556</td>\n",
       "    </tr>\n",
       "    <tr>\n",
       "      <th>93</th>\n",
       "      <td>ENTITY#18</td>\n",
       "      <td>nikon_d300</td>\n",
       "      <td>37.805272</td>\n",
       "    </tr>\n",
       "    <tr>\n",
       "      <th>155</th>\n",
       "      <td>ENTITY#23</td>\n",
       "      <td>canon_eos_7d</td>\n",
       "      <td>98.118591</td>\n",
       "    </tr>\n",
       "    <tr>\n",
       "      <th>156</th>\n",
       "      <td>ENTITY#23</td>\n",
       "      <td>1_j3</td>\n",
       "      <td>27.195310</td>\n",
       "    </tr>\n",
       "    <tr>\n",
       "      <th>157</th>\n",
       "      <td>ENTITY#23</td>\n",
       "      <td>nikon_j3_interchangable_lens_digital_camera</td>\n",
       "      <td>7.551846</td>\n",
       "    </tr>\n",
       "    <tr>\n",
       "      <th>238</th>\n",
       "      <td>ENTITY#36</td>\n",
       "      <td>nikon_d3100</td>\n",
       "      <td>70.083246</td>\n",
       "    </tr>\n",
       "    <tr>\n",
       "      <th>239</th>\n",
       "      <td>ENTITY#36</td>\n",
       "      <td>d3100</td>\n",
       "      <td>20.820344</td>\n",
       "    </tr>\n",
       "    <tr>\n",
       "      <th>240</th>\n",
       "      <td>ENTITY#36</td>\n",
       "      <td>nikon_d3100_dslr_camera</td>\n",
       "      <td>6.202430</td>\n",
       "    </tr>\n",
       "    <tr>\n",
       "      <th>277</th>\n",
       "      <td>ENTITY#37</td>\n",
       "      <td>nikon_d80</td>\n",
       "      <td>38.657440</td>\n",
       "    </tr>\n",
       "    <tr>\n",
       "      <th>278</th>\n",
       "      <td>ENTITY#37</td>\n",
       "      <td>nikon_d80_10_2mp_digital_slr_camera_kit</td>\n",
       "      <td>2.665474</td>\n",
       "    </tr>\n",
       "    <tr>\n",
       "      <th>279</th>\n",
       "      <td>ENTITY#37</td>\n",
       "      <td>nikon_d80_digital_slr</td>\n",
       "      <td>0.894783</td>\n",
       "    </tr>\n",
       "    <tr>\n",
       "      <th>293</th>\n",
       "      <td>ENTITY#41</td>\n",
       "      <td>d7000</td>\n",
       "      <td>69.723750</td>\n",
       "    </tr>\n",
       "    <tr>\n",
       "      <th>294</th>\n",
       "      <td>ENTITY#41</td>\n",
       "      <td>d5100</td>\n",
       "      <td>64.825214</td>\n",
       "    </tr>\n",
       "    <tr>\n",
       "      <th>295</th>\n",
       "      <td>ENTITY#41</td>\n",
       "      <td>d5200</td>\n",
       "      <td>25.273952</td>\n",
       "    </tr>\n",
       "    <tr>\n",
       "      <th>453</th>\n",
       "      <td>ENTITY#44</td>\n",
       "      <td>d3200</td>\n",
       "      <td>57.291353</td>\n",
       "    </tr>\n",
       "    <tr>\n",
       "      <th>454</th>\n",
       "      <td>ENTITY#44</td>\n",
       "      <td>mark</td>\n",
       "      <td>48.015016</td>\n",
       "    </tr>\n",
       "    <tr>\n",
       "      <th>455</th>\n",
       "      <td>ENTITY#44</td>\n",
       "      <td>ii</td>\n",
       "      <td>26.556474</td>\n",
       "    </tr>\n",
       "    <tr>\n",
       "      <th>706</th>\n",
       "      <td>ENTITY#57</td>\n",
       "      <td>nikon_d800</td>\n",
       "      <td>45.124069</td>\n",
       "    </tr>\n",
       "    <tr>\n",
       "      <th>707</th>\n",
       "      <td>ENTITY#57</td>\n",
       "      <td>d800</td>\n",
       "      <td>8.487529</td>\n",
       "    </tr>\n",
       "    <tr>\n",
       "      <th>708</th>\n",
       "      <td>ENTITY#57</td>\n",
       "      <td>nikon_d800_digital_slr_camera_body</td>\n",
       "      <td>3.412675</td>\n",
       "    </tr>\n",
       "    <tr>\n",
       "      <th>729</th>\n",
       "      <td>ENTITY#6</td>\n",
       "      <td>nikon_d5300</td>\n",
       "      <td>19.972881</td>\n",
       "    </tr>\n",
       "    <tr>\n",
       "      <th>730</th>\n",
       "      <td>ENTITY#6</td>\n",
       "      <td>nikon_d5300_kit</td>\n",
       "      <td>13.210496</td>\n",
       "    </tr>\n",
       "    <tr>\n",
       "      <th>731</th>\n",
       "      <td>ENTITY#6</td>\n",
       "      <td>nikon_d5300_dslr_camera</td>\n",
       "      <td>7.331932</td>\n",
       "    </tr>\n",
       "    <tr>\n",
       "      <th>797</th>\n",
       "      <td>ENTITY#76</td>\n",
       "      <td>j1</td>\n",
       "      <td>27.875987</td>\n",
       "    </tr>\n",
       "    <tr>\n",
       "      <th>798</th>\n",
       "      <td>ENTITY#76</td>\n",
       "      <td>d610</td>\n",
       "      <td>21.231398</td>\n",
       "    </tr>\n",
       "    <tr>\n",
       "      <th>799</th>\n",
       "      <td>ENTITY#76</td>\n",
       "      <td>nikon_d3300</td>\n",
       "      <td>18.161218</td>\n",
       "    </tr>\n",
       "    <tr>\n",
       "      <th>924</th>\n",
       "      <td>ENTITY#96</td>\n",
       "      <td>70d</td>\n",
       "      <td>28.604230</td>\n",
       "    </tr>\n",
       "    <tr>\n",
       "      <th>925</th>\n",
       "      <td>ENTITY#96</td>\n",
       "      <td>canon_eos_70d</td>\n",
       "      <td>14.103025</td>\n",
       "    </tr>\n",
       "    <tr>\n",
       "      <th>926</th>\n",
       "      <td>ENTITY#96</td>\n",
       "      <td>canon_eos_70d_dslr_camera</td>\n",
       "      <td>11.515661</td>\n",
       "    </tr>\n",
       "  </tbody>\n",
       "</table>\n",
       "</div>"
      ],
      "text/plain": [
       "          label                                         term     weight\n",
       "0    ENTITY#101                                  5d_mark_iii  36.710231\n",
       "1    ENTITY#101                                      5d_mark  10.632592\n",
       "2    ENTITY#101     canon_eos_5d_mark_iii_22_3_mp_full_frame   3.788720\n",
       "56    ENTITY#16                                    nikon_d90  58.969765\n",
       "57    ENTITY#16                             nikon_d90_camera   1.917338\n",
       "58    ENTITY#16                        nikon_d90_camera_body   1.907971\n",
       "91    ENTITY#18                                canon_eos_60d  51.833088\n",
       "92    ENTITY#18                                          60d  46.676556\n",
       "93    ENTITY#18                                   nikon_d300  37.805272\n",
       "155   ENTITY#23                                 canon_eos_7d  98.118591\n",
       "156   ENTITY#23                                         1_j3  27.195310\n",
       "157   ENTITY#23  nikon_j3_interchangable_lens_digital_camera   7.551846\n",
       "238   ENTITY#36                                  nikon_d3100  70.083246\n",
       "239   ENTITY#36                                        d3100  20.820344\n",
       "240   ENTITY#36                      nikon_d3100_dslr_camera   6.202430\n",
       "277   ENTITY#37                                    nikon_d80  38.657440\n",
       "278   ENTITY#37      nikon_d80_10_2mp_digital_slr_camera_kit   2.665474\n",
       "279   ENTITY#37                        nikon_d80_digital_slr   0.894783\n",
       "293   ENTITY#41                                        d7000  69.723750\n",
       "294   ENTITY#41                                        d5100  64.825214\n",
       "295   ENTITY#41                                        d5200  25.273952\n",
       "453   ENTITY#44                                        d3200  57.291353\n",
       "454   ENTITY#44                                         mark  48.015016\n",
       "455   ENTITY#44                                           ii  26.556474\n",
       "706   ENTITY#57                                   nikon_d800  45.124069\n",
       "707   ENTITY#57                                         d800   8.487529\n",
       "708   ENTITY#57           nikon_d800_digital_slr_camera_body   3.412675\n",
       "729    ENTITY#6                                  nikon_d5300  19.972881\n",
       "730    ENTITY#6                              nikon_d5300_kit  13.210496\n",
       "731    ENTITY#6                      nikon_d5300_dslr_camera   7.331932\n",
       "797   ENTITY#76                                           j1  27.875987\n",
       "798   ENTITY#76                                         d610  21.231398\n",
       "799   ENTITY#76                                  nikon_d3300  18.161218\n",
       "924   ENTITY#96                                          70d  28.604230\n",
       "925   ENTITY#96                                canon_eos_70d  14.103025\n",
       "926   ENTITY#96                    canon_eos_70d_dslr_camera  11.515661"
      ]
     },
     "execution_count": 9,
     "metadata": {},
     "output_type": "execute_result"
    }
   ],
   "source": [
    "ranking_df.groupby('label').head(3)"
   ]
  },
  {
   "cell_type": "markdown",
   "metadata": {},
   "source": [
    "---"
   ]
  },
  {
   "cell_type": "markdown",
   "metadata": {},
   "source": [
    "## Save ranking"
   ]
  },
  {
   "cell_type": "code",
   "execution_count": 10,
   "metadata": {
    "ExecuteTime": {
     "end_time": "2021-03-17T14:32:46.301135Z",
     "start_time": "2021-03-17T14:32:46.297952Z"
    }
   },
   "outputs": [],
   "source": [
    "ranking_filename = 'ranking_alaska_bert_noisy.xlsx'\n",
    "ranking_filepath = os.path.join(root_dir, data_dir, ranking_filename)"
   ]
  },
  {
   "cell_type": "code",
   "execution_count": 11,
   "metadata": {
    "ExecuteTime": {
     "end_time": "2021-03-17T14:32:46.738529Z",
     "start_time": "2021-03-17T14:32:46.734895Z"
    }
   },
   "outputs": [
    {
     "data": {
      "text/plain": [
       "'../../data/terms/ranking_alaska_bert_noisy.xlsx'"
      ]
     },
     "execution_count": 11,
     "metadata": {},
     "output_type": "execute_result"
    }
   ],
   "source": [
    "ranking_filepath"
   ]
  },
  {
   "cell_type": "code",
   "execution_count": 12,
   "metadata": {
    "ExecuteTime": {
     "end_time": "2021-03-17T14:32:48.149871Z",
     "start_time": "2021-03-17T14:32:47.748915Z"
    }
   },
   "outputs": [],
   "source": [
    "ranking_df.to_excel(ranking_filepath)"
   ]
  },
  {
   "cell_type": "markdown",
   "metadata": {},
   "source": [
    "---"
   ]
  }
 ],
 "metadata": {
  "kernelspec": {
   "display_name": "Python 3",
   "language": "python",
   "name": "python3"
  },
  "language_info": {
   "codemirror_mode": {
    "name": "ipython",
    "version": 3
   },
   "file_extension": ".py",
   "mimetype": "text/x-python",
   "name": "python",
   "nbconvert_exporter": "python",
   "pygments_lexer": "ipython3",
   "version": "3.8.1"
  },
  "toc": {
   "base_numbering": 1,
   "nav_menu": {},
   "number_sections": true,
   "sideBar": true,
   "skip_h1_title": false,
   "title_cell": "Table of Contents",
   "title_sidebar": "Contents",
   "toc_cell": false,
   "toc_position": {},
   "toc_section_display": true,
   "toc_window_display": false
  }
 },
 "nbformat": 4,
 "nbformat_minor": 4
}
