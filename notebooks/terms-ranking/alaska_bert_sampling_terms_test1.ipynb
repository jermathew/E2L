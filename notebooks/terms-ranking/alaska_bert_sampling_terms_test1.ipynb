{
 "cells": [
  {
   "cell_type": "markdown",
   "metadata": {},
   "source": [
    "# Process terms \n",
    "Process terms retrieved from the neural network model using `LIME`"
   ]
  },
  {
   "cell_type": "markdown",
   "metadata": {},
   "source": [
    "## Load the retrieved terms"
   ]
  },
  {
   "cell_type": "code",
   "execution_count": 1,
   "metadata": {
    "ExecuteTime": {
     "end_time": "2021-01-09T21:58:52.433127Z",
     "start_time": "2021-01-09T21:58:52.429125Z"
    }
   },
   "outputs": [],
   "source": [
    "import os"
   ]
  },
  {
   "cell_type": "code",
   "execution_count": 2,
   "metadata": {
    "ExecuteTime": {
     "end_time": "2021-01-09T21:58:52.659177Z",
     "start_time": "2021-01-09T21:58:52.651870Z"
    }
   },
   "outputs": [],
   "source": [
    "root_dir = '../..'\n",
    "data_dir = 'data/terms'\n",
    "dataset_name = 'alaska'\n",
    "test_name = 'sampling_terms_test1'\n",
    "filename = f'relevant_terms_{dataset_name}_bert_{test_name}.csv'\n",
    "filepath = os.path.join(root_dir, data_dir, filename)"
   ]
  },
  {
   "cell_type": "code",
   "execution_count": 3,
   "metadata": {
    "ExecuteTime": {
     "end_time": "2021-01-09T21:58:53.245582Z",
     "start_time": "2021-01-09T21:58:52.911461Z"
    }
   },
   "outputs": [],
   "source": [
    "import pandas as pd"
   ]
  },
  {
   "cell_type": "code",
   "execution_count": 4,
   "metadata": {
    "ExecuteTime": {
     "end_time": "2021-01-09T21:58:53.271025Z",
     "start_time": "2021-01-09T21:58:53.253401Z"
    }
   },
   "outputs": [],
   "source": [
    "terms_df = pd.read_csv(filepath)"
   ]
  },
  {
   "cell_type": "code",
   "execution_count": 5,
   "metadata": {
    "ExecuteTime": {
     "end_time": "2021-01-09T21:58:53.513006Z",
     "start_time": "2021-01-09T21:58:53.486389Z"
    }
   },
   "outputs": [
    {
     "data": {
      "text/html": [
       "<div>\n",
       "<style scoped>\n",
       "    .dataframe tbody tr th:only-of-type {\n",
       "        vertical-align: middle;\n",
       "    }\n",
       "\n",
       "    .dataframe tbody tr th {\n",
       "        vertical-align: top;\n",
       "    }\n",
       "\n",
       "    .dataframe thead th {\n",
       "        text-align: right;\n",
       "    }\n",
       "</style>\n",
       "<table border=\"1\" class=\"dataframe\">\n",
       "  <thead>\n",
       "    <tr style=\"text-align: right;\">\n",
       "      <th></th>\n",
       "      <th>label</th>\n",
       "      <th>term</th>\n",
       "      <th>weight</th>\n",
       "      <th>data_id</th>\n",
       "    </tr>\n",
       "  </thead>\n",
       "  <tbody>\n",
       "    <tr>\n",
       "      <th>0</th>\n",
       "      <td>ENTITY#44</td>\n",
       "      <td>nikon_d3200_dslr_camera</td>\n",
       "      <td>0.865474</td>\n",
       "      <td>0</td>\n",
       "    </tr>\n",
       "    <tr>\n",
       "      <th>1</th>\n",
       "      <td>ENTITY#44</td>\n",
       "      <td>nikon_d3200</td>\n",
       "      <td>0.846243</td>\n",
       "      <td>1</td>\n",
       "    </tr>\n",
       "    <tr>\n",
       "      <th>2</th>\n",
       "      <td>ENTITY#44</td>\n",
       "      <td>nikon_d3200</td>\n",
       "      <td>0.746039</td>\n",
       "      <td>2</td>\n",
       "    </tr>\n",
       "    <tr>\n",
       "      <th>3</th>\n",
       "      <td>ENTITY#44</td>\n",
       "      <td>digital_dslr_camera</td>\n",
       "      <td>0.032710</td>\n",
       "      <td>2</td>\n",
       "    </tr>\n",
       "    <tr>\n",
       "      <th>4</th>\n",
       "      <td>ENTITY#44</td>\n",
       "      <td>nikon_d3200_digital_dslr_camera</td>\n",
       "      <td>0.819439</td>\n",
       "      <td>3</td>\n",
       "    </tr>\n",
       "  </tbody>\n",
       "</table>\n",
       "</div>"
      ],
      "text/plain": [
       "       label                             term    weight  data_id\n",
       "0  ENTITY#44          nikon_d3200_dslr_camera  0.865474        0\n",
       "1  ENTITY#44                      nikon_d3200  0.846243        1\n",
       "2  ENTITY#44                      nikon_d3200  0.746039        2\n",
       "3  ENTITY#44              digital_dslr_camera  0.032710        2\n",
       "4  ENTITY#44  nikon_d3200_digital_dslr_camera  0.819439        3"
      ]
     },
     "execution_count": 5,
     "metadata": {},
     "output_type": "execute_result"
    }
   ],
   "source": [
    "terms_df.head()"
   ]
  },
  {
   "cell_type": "code",
   "execution_count": 6,
   "metadata": {
    "ExecuteTime": {
     "end_time": "2021-01-09T21:58:53.929514Z",
     "start_time": "2021-01-09T21:58:53.920964Z"
    }
   },
   "outputs": [
    {
     "data": {
      "text/plain": [
       "(3034, 4)"
      ]
     },
     "execution_count": 6,
     "metadata": {},
     "output_type": "execute_result"
    }
   ],
   "source": [
    "terms_df.shape"
   ]
  },
  {
   "cell_type": "markdown",
   "metadata": {},
   "source": [
    "---"
   ]
  },
  {
   "cell_type": "markdown",
   "metadata": {},
   "source": [
    "## Rank terms"
   ]
  },
  {
   "cell_type": "markdown",
   "metadata": {},
   "source": [
    "### Aggregate (sum) LIME weights for each term"
   ]
  },
  {
   "cell_type": "code",
   "execution_count": 7,
   "metadata": {
    "ExecuteTime": {
     "end_time": "2021-01-09T21:58:55.603683Z",
     "start_time": "2021-01-09T21:58:55.590267Z"
    }
   },
   "outputs": [],
   "source": [
    "terms_stats_df = terms_df.groupby(['label', 'term']).agg({'weight': 'sum'}).reset_index()"
   ]
  },
  {
   "cell_type": "code",
   "execution_count": 8,
   "metadata": {
    "ExecuteTime": {
     "end_time": "2021-01-09T21:58:58.633169Z",
     "start_time": "2021-01-09T21:58:58.619427Z"
    }
   },
   "outputs": [
    {
     "data": {
      "text/html": [
       "<div>\n",
       "<style scoped>\n",
       "    .dataframe tbody tr th:only-of-type {\n",
       "        vertical-align: middle;\n",
       "    }\n",
       "\n",
       "    .dataframe tbody tr th {\n",
       "        vertical-align: top;\n",
       "    }\n",
       "\n",
       "    .dataframe thead th {\n",
       "        text-align: right;\n",
       "    }\n",
       "</style>\n",
       "<table border=\"1\" class=\"dataframe\">\n",
       "  <thead>\n",
       "    <tr style=\"text-align: right;\">\n",
       "      <th></th>\n",
       "      <th>label</th>\n",
       "      <th>term</th>\n",
       "      <th>weight</th>\n",
       "    </tr>\n",
       "  </thead>\n",
       "  <tbody>\n",
       "    <tr>\n",
       "      <th>0</th>\n",
       "      <td>ENTITY#101</td>\n",
       "      <td>22_3_mp_dslr_kit</td>\n",
       "      <td>0.066615</td>\n",
       "    </tr>\n",
       "    <tr>\n",
       "      <th>1</th>\n",
       "      <td>ENTITY#101</td>\n",
       "      <td>22_3mp_brand</td>\n",
       "      <td>0.069255</td>\n",
       "    </tr>\n",
       "    <tr>\n",
       "      <th>2</th>\n",
       "      <td>ENTITY#101</td>\n",
       "      <td>24-70/2</td>\n",
       "      <td>0.265517</td>\n",
       "    </tr>\n",
       "    <tr>\n",
       "      <th>3</th>\n",
       "      <td>ENTITY#101</td>\n",
       "      <td>2_batteries</td>\n",
       "      <td>0.105568</td>\n",
       "    </tr>\n",
       "    <tr>\n",
       "      <th>4</th>\n",
       "      <td>ENTITY#101</td>\n",
       "      <td>3</td>\n",
       "      <td>0.268691</td>\n",
       "    </tr>\n",
       "  </tbody>\n",
       "</table>\n",
       "</div>"
      ],
      "text/plain": [
       "        label              term    weight\n",
       "0  ENTITY#101  22_3_mp_dslr_kit  0.066615\n",
       "1  ENTITY#101      22_3mp_brand  0.069255\n",
       "2  ENTITY#101           24-70/2  0.265517\n",
       "3  ENTITY#101       2_batteries  0.105568\n",
       "4  ENTITY#101                 3  0.268691"
      ]
     },
     "execution_count": 8,
     "metadata": {},
     "output_type": "execute_result"
    }
   ],
   "source": [
    "terms_stats_df.head()"
   ]
  },
  {
   "cell_type": "markdown",
   "metadata": {
    "ExecuteTime": {
     "end_time": "2020-09-22T21:07:22.493467Z",
     "start_time": "2020-09-22T21:07:22.478186Z"
    }
   },
   "source": [
    "### Sort terms\n",
    "Rank terms by total weight (descending)"
   ]
  },
  {
   "cell_type": "code",
   "execution_count": 9,
   "metadata": {
    "ExecuteTime": {
     "end_time": "2021-01-09T21:59:02.411533Z",
     "start_time": "2021-01-09T21:59:02.360530Z"
    }
   },
   "outputs": [],
   "source": [
    "ranking_df = terms_stats_df.groupby('label')\\\n",
    "                .apply(lambda grp: grp.sort_values(by='weight', ascending=False))\\\n",
    "                .reset_index(drop=True)"
   ]
  },
  {
   "cell_type": "code",
   "execution_count": 10,
   "metadata": {
    "ExecuteTime": {
     "end_time": "2021-01-09T21:59:03.062991Z",
     "start_time": "2021-01-09T21:59:03.030391Z"
    }
   },
   "outputs": [
    {
     "data": {
      "text/html": [
       "<div>\n",
       "<style scoped>\n",
       "    .dataframe tbody tr th:only-of-type {\n",
       "        vertical-align: middle;\n",
       "    }\n",
       "\n",
       "    .dataframe tbody tr th {\n",
       "        vertical-align: top;\n",
       "    }\n",
       "\n",
       "    .dataframe thead th {\n",
       "        text-align: right;\n",
       "    }\n",
       "</style>\n",
       "<table border=\"1\" class=\"dataframe\">\n",
       "  <thead>\n",
       "    <tr style=\"text-align: right;\">\n",
       "      <th></th>\n",
       "      <th>label</th>\n",
       "      <th>term</th>\n",
       "      <th>weight</th>\n",
       "    </tr>\n",
       "  </thead>\n",
       "  <tbody>\n",
       "    <tr>\n",
       "      <th>0</th>\n",
       "      <td>ENTITY#101</td>\n",
       "      <td>5d_mark_iii</td>\n",
       "      <td>34.716912</td>\n",
       "    </tr>\n",
       "    <tr>\n",
       "      <th>1</th>\n",
       "      <td>ENTITY#101</td>\n",
       "      <td>5d_mark</td>\n",
       "      <td>7.262597</td>\n",
       "    </tr>\n",
       "    <tr>\n",
       "      <th>2</th>\n",
       "      <td>ENTITY#101</td>\n",
       "      <td>canon_eos_5d_mark_iii_22_3_mp_full_frame</td>\n",
       "      <td>3.797256</td>\n",
       "    </tr>\n",
       "    <tr>\n",
       "      <th>65</th>\n",
       "      <td>ENTITY#102</td>\n",
       "      <td>ii</td>\n",
       "      <td>59.270775</td>\n",
       "    </tr>\n",
       "    <tr>\n",
       "      <th>66</th>\n",
       "      <td>ENTITY#102</td>\n",
       "      <td>mark</td>\n",
       "      <td>15.274917</td>\n",
       "    </tr>\n",
       "    <tr>\n",
       "      <th>67</th>\n",
       "      <td>ENTITY#102</td>\n",
       "      <td>canon_eos_5d</td>\n",
       "      <td>13.672350</td>\n",
       "    </tr>\n",
       "    <tr>\n",
       "      <th>93</th>\n",
       "      <td>ENTITY#16</td>\n",
       "      <td>nikon_d90</td>\n",
       "      <td>58.398855</td>\n",
       "    </tr>\n",
       "    <tr>\n",
       "      <th>94</th>\n",
       "      <td>ENTITY#16</td>\n",
       "      <td>nikon_d90_camera_body</td>\n",
       "      <td>1.922653</td>\n",
       "    </tr>\n",
       "    <tr>\n",
       "      <th>95</th>\n",
       "      <td>ENTITY#16</td>\n",
       "      <td>nikon_d90_camera</td>\n",
       "      <td>1.911760</td>\n",
       "    </tr>\n",
       "    <tr>\n",
       "      <th>124</th>\n",
       "      <td>ENTITY#18</td>\n",
       "      <td>canon_eos_60d</td>\n",
       "      <td>49.905525</td>\n",
       "    </tr>\n",
       "    <tr>\n",
       "      <th>125</th>\n",
       "      <td>ENTITY#18</td>\n",
       "      <td>60d</td>\n",
       "      <td>40.121835</td>\n",
       "    </tr>\n",
       "    <tr>\n",
       "      <th>126</th>\n",
       "      <td>ENTITY#18</td>\n",
       "      <td>canon_eos_60d_digital_slr_essentials</td>\n",
       "      <td>5.232448</td>\n",
       "    </tr>\n",
       "    <tr>\n",
       "      <th>183</th>\n",
       "      <td>ENTITY#19</td>\n",
       "      <td>nikon_d3300</td>\n",
       "      <td>19.855785</td>\n",
       "    </tr>\n",
       "    <tr>\n",
       "      <th>184</th>\n",
       "      <td>ENTITY#19</td>\n",
       "      <td>d3300</td>\n",
       "      <td>10.298767</td>\n",
       "    </tr>\n",
       "    <tr>\n",
       "      <th>185</th>\n",
       "      <td>ENTITY#19</td>\n",
       "      <td>nikon_d3300_kit</td>\n",
       "      <td>6.804162</td>\n",
       "    </tr>\n",
       "    <tr>\n",
       "      <th>215</th>\n",
       "      <td>ENTITY#21</td>\n",
       "      <td>d5100</td>\n",
       "      <td>70.574552</td>\n",
       "    </tr>\n",
       "    <tr>\n",
       "      <th>216</th>\n",
       "      <td>ENTITY#21</td>\n",
       "      <td>nikon_d5100</td>\n",
       "      <td>12.926058</td>\n",
       "    </tr>\n",
       "    <tr>\n",
       "      <th>217</th>\n",
       "      <td>ENTITY#21</td>\n",
       "      <td>nikon_d5100_digital_slr_camera</td>\n",
       "      <td>4.335855</td>\n",
       "    </tr>\n",
       "    <tr>\n",
       "      <th>255</th>\n",
       "      <td>ENTITY#23</td>\n",
       "      <td>canon_eos_7d</td>\n",
       "      <td>92.373657</td>\n",
       "    </tr>\n",
       "    <tr>\n",
       "      <th>256</th>\n",
       "      <td>ENTITY#23</td>\n",
       "      <td>7d</td>\n",
       "      <td>9.051864</td>\n",
       "    </tr>\n",
       "    <tr>\n",
       "      <th>257</th>\n",
       "      <td>ENTITY#23</td>\n",
       "      <td>canon_eos_7d_digital_slr_camera</td>\n",
       "      <td>5.300504</td>\n",
       "    </tr>\n",
       "    <tr>\n",
       "      <th>312</th>\n",
       "      <td>ENTITY#36</td>\n",
       "      <td>nikon_d3100</td>\n",
       "      <td>51.899706</td>\n",
       "    </tr>\n",
       "    <tr>\n",
       "      <th>313</th>\n",
       "      <td>ENTITY#36</td>\n",
       "      <td>d3100</td>\n",
       "      <td>15.350052</td>\n",
       "    </tr>\n",
       "    <tr>\n",
       "      <th>314</th>\n",
       "      <td>ENTITY#36</td>\n",
       "      <td>nikon_d3100_digital_slr_camera</td>\n",
       "      <td>5.357365</td>\n",
       "    </tr>\n",
       "    <tr>\n",
       "      <th>406</th>\n",
       "      <td>ENTITY#37</td>\n",
       "      <td>nikon_d80</td>\n",
       "      <td>38.895334</td>\n",
       "    </tr>\n",
       "    <tr>\n",
       "      <th>407</th>\n",
       "      <td>ENTITY#37</td>\n",
       "      <td>nikon_d80_10_2mp_digital_slr_camera_kit</td>\n",
       "      <td>2.781959</td>\n",
       "    </tr>\n",
       "    <tr>\n",
       "      <th>408</th>\n",
       "      <td>ENTITY#37</td>\n",
       "      <td>nikon_d80_digital_slr_camera_black</td>\n",
       "      <td>0.947008</td>\n",
       "    </tr>\n",
       "    <tr>\n",
       "      <th>420</th>\n",
       "      <td>ENTITY#41</td>\n",
       "      <td>d5200</td>\n",
       "      <td>28.432478</td>\n",
       "    </tr>\n",
       "    <tr>\n",
       "      <th>421</th>\n",
       "      <td>ENTITY#41</td>\n",
       "      <td>nikon_d5200</td>\n",
       "      <td>19.834680</td>\n",
       "    </tr>\n",
       "    <tr>\n",
       "      <th>422</th>\n",
       "      <td>ENTITY#41</td>\n",
       "      <td>nikon_d5200_digital_slr_camera</td>\n",
       "      <td>8.464366</td>\n",
       "    </tr>\n",
       "    <tr>\n",
       "      <th>475</th>\n",
       "      <td>ENTITY#44</td>\n",
       "      <td>d3200</td>\n",
       "      <td>62.286398</td>\n",
       "    </tr>\n",
       "    <tr>\n",
       "      <th>476</th>\n",
       "      <td>ENTITY#44</td>\n",
       "      <td>nikon_d3200</td>\n",
       "      <td>30.472951</td>\n",
       "    </tr>\n",
       "    <tr>\n",
       "      <th>477</th>\n",
       "      <td>ENTITY#44</td>\n",
       "      <td>nikon_d3200_digital_slr_camera</td>\n",
       "      <td>5.124019</td>\n",
       "    </tr>\n",
       "    <tr>\n",
       "      <th>549</th>\n",
       "      <td>ENTITY#57</td>\n",
       "      <td>nikon_d800</td>\n",
       "      <td>42.024808</td>\n",
       "    </tr>\n",
       "    <tr>\n",
       "      <th>550</th>\n",
       "      <td>ENTITY#57</td>\n",
       "      <td>d800</td>\n",
       "      <td>9.027797</td>\n",
       "    </tr>\n",
       "    <tr>\n",
       "      <th>551</th>\n",
       "      <td>ENTITY#57</td>\n",
       "      <td>nikon_d800_digital_slr_camera_body</td>\n",
       "      <td>3.221082</td>\n",
       "    </tr>\n",
       "    <tr>\n",
       "      <th>569</th>\n",
       "      <td>ENTITY#58</td>\n",
       "      <td>j1</td>\n",
       "      <td>9.666203</td>\n",
       "    </tr>\n",
       "    <tr>\n",
       "      <th>570</th>\n",
       "      <td>ENTITY#58</td>\n",
       "      <td>1</td>\n",
       "      <td>5.885716</td>\n",
       "    </tr>\n",
       "    <tr>\n",
       "      <th>571</th>\n",
       "      <td>ENTITY#58</td>\n",
       "      <td>1_j1</td>\n",
       "      <td>5.561838</td>\n",
       "    </tr>\n",
       "    <tr>\n",
       "      <th>625</th>\n",
       "      <td>ENTITY#6</td>\n",
       "      <td>nikon_d5300</td>\n",
       "      <td>19.566366</td>\n",
       "    </tr>\n",
       "    <tr>\n",
       "      <th>626</th>\n",
       "      <td>ENTITY#6</td>\n",
       "      <td>nikon_d5300_kit</td>\n",
       "      <td>12.639310</td>\n",
       "    </tr>\n",
       "    <tr>\n",
       "      <th>627</th>\n",
       "      <td>ENTITY#6</td>\n",
       "      <td>nikon_d5300_dslr_camera</td>\n",
       "      <td>7.480171</td>\n",
       "    </tr>\n",
       "    <tr>\n",
       "      <th>681</th>\n",
       "      <td>ENTITY#7</td>\n",
       "      <td>olympus_om_e_m5</td>\n",
       "      <td>5.547876</td>\n",
       "    </tr>\n",
       "    <tr>\n",
       "      <th>682</th>\n",
       "      <td>ENTITY#7</td>\n",
       "      <td>olympus_om-d</td>\n",
       "      <td>5.544860</td>\n",
       "    </tr>\n",
       "    <tr>\n",
       "      <th>683</th>\n",
       "      <td>ENTITY#7</td>\n",
       "      <td>olympus_om-d_e-m5</td>\n",
       "      <td>5.332733</td>\n",
       "    </tr>\n",
       "    <tr>\n",
       "      <th>716</th>\n",
       "      <td>ENTITY#75</td>\n",
       "      <td>d7000</td>\n",
       "      <td>75.081311</td>\n",
       "    </tr>\n",
       "    <tr>\n",
       "      <th>717</th>\n",
       "      <td>ENTITY#75</td>\n",
       "      <td>nikon_d7000</td>\n",
       "      <td>19.028371</td>\n",
       "    </tr>\n",
       "    <tr>\n",
       "      <th>718</th>\n",
       "      <td>ENTITY#75</td>\n",
       "      <td>d7000_body</td>\n",
       "      <td>1.879771</td>\n",
       "    </tr>\n",
       "    <tr>\n",
       "      <th>746</th>\n",
       "      <td>ENTITY#76</td>\n",
       "      <td>d610</td>\n",
       "      <td>27.369843</td>\n",
       "    </tr>\n",
       "    <tr>\n",
       "      <th>747</th>\n",
       "      <td>ENTITY#76</td>\n",
       "      <td>nikon_d610</td>\n",
       "      <td>7.501417</td>\n",
       "    </tr>\n",
       "    <tr>\n",
       "      <th>748</th>\n",
       "      <td>ENTITY#76</td>\n",
       "      <td>nikon_d610_digital_slr_camera_body</td>\n",
       "      <td>5.539062</td>\n",
       "    </tr>\n",
       "    <tr>\n",
       "      <th>776</th>\n",
       "      <td>ENTITY#8</td>\n",
       "      <td>1_j3</td>\n",
       "      <td>23.974972</td>\n",
       "    </tr>\n",
       "    <tr>\n",
       "      <th>777</th>\n",
       "      <td>ENTITY#8</td>\n",
       "      <td>nikon_j3_interchangable_lens_digital_camera</td>\n",
       "      <td>7.391838</td>\n",
       "    </tr>\n",
       "    <tr>\n",
       "      <th>778</th>\n",
       "      <td>ENTITY#8</td>\n",
       "      <td>j3</td>\n",
       "      <td>5.968734</td>\n",
       "    </tr>\n",
       "    <tr>\n",
       "      <th>799</th>\n",
       "      <td>ENTITY#84</td>\n",
       "      <td>nikon_d300</td>\n",
       "      <td>38.517716</td>\n",
       "    </tr>\n",
       "    <tr>\n",
       "      <th>800</th>\n",
       "      <td>ENTITY#84</td>\n",
       "      <td>nikon_d300_body</td>\n",
       "      <td>1.875102</td>\n",
       "    </tr>\n",
       "    <tr>\n",
       "      <th>801</th>\n",
       "      <td>ENTITY#84</td>\n",
       "      <td>d300</td>\n",
       "      <td>1.806945</td>\n",
       "    </tr>\n",
       "    <tr>\n",
       "      <th>812</th>\n",
       "      <td>ENTITY#96</td>\n",
       "      <td>70d</td>\n",
       "      <td>17.721835</td>\n",
       "    </tr>\n",
       "    <tr>\n",
       "      <th>813</th>\n",
       "      <td>ENTITY#96</td>\n",
       "      <td>canon_eos_70d</td>\n",
       "      <td>13.641610</td>\n",
       "    </tr>\n",
       "    <tr>\n",
       "      <th>814</th>\n",
       "      <td>ENTITY#96</td>\n",
       "      <td>canon_eos_70d_dslr_camera</td>\n",
       "      <td>10.901305</td>\n",
       "    </tr>\n",
       "  </tbody>\n",
       "</table>\n",
       "</div>"
      ],
      "text/plain": [
       "          label                                         term     weight\n",
       "0    ENTITY#101                                  5d_mark_iii  34.716912\n",
       "1    ENTITY#101                                      5d_mark   7.262597\n",
       "2    ENTITY#101     canon_eos_5d_mark_iii_22_3_mp_full_frame   3.797256\n",
       "65   ENTITY#102                                           ii  59.270775\n",
       "66   ENTITY#102                                         mark  15.274917\n",
       "67   ENTITY#102                                 canon_eos_5d  13.672350\n",
       "93    ENTITY#16                                    nikon_d90  58.398855\n",
       "94    ENTITY#16                        nikon_d90_camera_body   1.922653\n",
       "95    ENTITY#16                             nikon_d90_camera   1.911760\n",
       "124   ENTITY#18                                canon_eos_60d  49.905525\n",
       "125   ENTITY#18                                          60d  40.121835\n",
       "126   ENTITY#18         canon_eos_60d_digital_slr_essentials   5.232448\n",
       "183   ENTITY#19                                  nikon_d3300  19.855785\n",
       "184   ENTITY#19                                        d3300  10.298767\n",
       "185   ENTITY#19                              nikon_d3300_kit   6.804162\n",
       "215   ENTITY#21                                        d5100  70.574552\n",
       "216   ENTITY#21                                  nikon_d5100  12.926058\n",
       "217   ENTITY#21               nikon_d5100_digital_slr_camera   4.335855\n",
       "255   ENTITY#23                                 canon_eos_7d  92.373657\n",
       "256   ENTITY#23                                           7d   9.051864\n",
       "257   ENTITY#23              canon_eos_7d_digital_slr_camera   5.300504\n",
       "312   ENTITY#36                                  nikon_d3100  51.899706\n",
       "313   ENTITY#36                                        d3100  15.350052\n",
       "314   ENTITY#36               nikon_d3100_digital_slr_camera   5.357365\n",
       "406   ENTITY#37                                    nikon_d80  38.895334\n",
       "407   ENTITY#37      nikon_d80_10_2mp_digital_slr_camera_kit   2.781959\n",
       "408   ENTITY#37           nikon_d80_digital_slr_camera_black   0.947008\n",
       "420   ENTITY#41                                        d5200  28.432478\n",
       "421   ENTITY#41                                  nikon_d5200  19.834680\n",
       "422   ENTITY#41               nikon_d5200_digital_slr_camera   8.464366\n",
       "475   ENTITY#44                                        d3200  62.286398\n",
       "476   ENTITY#44                                  nikon_d3200  30.472951\n",
       "477   ENTITY#44               nikon_d3200_digital_slr_camera   5.124019\n",
       "549   ENTITY#57                                   nikon_d800  42.024808\n",
       "550   ENTITY#57                                         d800   9.027797\n",
       "551   ENTITY#57           nikon_d800_digital_slr_camera_body   3.221082\n",
       "569   ENTITY#58                                           j1   9.666203\n",
       "570   ENTITY#58                                            1   5.885716\n",
       "571   ENTITY#58                                         1_j1   5.561838\n",
       "625    ENTITY#6                                  nikon_d5300  19.566366\n",
       "626    ENTITY#6                              nikon_d5300_kit  12.639310\n",
       "627    ENTITY#6                      nikon_d5300_dslr_camera   7.480171\n",
       "681    ENTITY#7                              olympus_om_e_m5   5.547876\n",
       "682    ENTITY#7                                 olympus_om-d   5.544860\n",
       "683    ENTITY#7                            olympus_om-d_e-m5   5.332733\n",
       "716   ENTITY#75                                        d7000  75.081311\n",
       "717   ENTITY#75                                  nikon_d7000  19.028371\n",
       "718   ENTITY#75                                   d7000_body   1.879771\n",
       "746   ENTITY#76                                         d610  27.369843\n",
       "747   ENTITY#76                                   nikon_d610   7.501417\n",
       "748   ENTITY#76           nikon_d610_digital_slr_camera_body   5.539062\n",
       "776    ENTITY#8                                         1_j3  23.974972\n",
       "777    ENTITY#8  nikon_j3_interchangable_lens_digital_camera   7.391838\n",
       "778    ENTITY#8                                           j3   5.968734\n",
       "799   ENTITY#84                                   nikon_d300  38.517716\n",
       "800   ENTITY#84                              nikon_d300_body   1.875102\n",
       "801   ENTITY#84                                         d300   1.806945\n",
       "812   ENTITY#96                                          70d  17.721835\n",
       "813   ENTITY#96                                canon_eos_70d  13.641610\n",
       "814   ENTITY#96                    canon_eos_70d_dslr_camera  10.901305"
      ]
     },
     "execution_count": 10,
     "metadata": {},
     "output_type": "execute_result"
    }
   ],
   "source": [
    "ranking_df.groupby('label').head(3)"
   ]
  },
  {
   "cell_type": "markdown",
   "metadata": {},
   "source": [
    "---"
   ]
  },
  {
   "cell_type": "markdown",
   "metadata": {},
   "source": [
    "## Save ranking"
   ]
  },
  {
   "cell_type": "code",
   "execution_count": 11,
   "metadata": {
    "ExecuteTime": {
     "end_time": "2021-01-09T21:59:09.816356Z",
     "start_time": "2021-01-09T21:59:09.809606Z"
    }
   },
   "outputs": [],
   "source": [
    "ranking_filename = f'ranking_{dataset_name}_bert_{test_name}.xlsx'\n",
    "ranking_filepath = os.path.join(root_dir, data_dir, ranking_filename)"
   ]
  },
  {
   "cell_type": "code",
   "execution_count": 12,
   "metadata": {
    "ExecuteTime": {
     "end_time": "2021-01-09T21:59:11.569156Z",
     "start_time": "2021-01-09T21:59:11.565799Z"
    }
   },
   "outputs": [
    {
     "data": {
      "text/plain": [
       "'../../data/terms/ranking_alaska_bert_sampling_terms_test1.xlsx'"
      ]
     },
     "execution_count": 12,
     "metadata": {},
     "output_type": "execute_result"
    }
   ],
   "source": [
    "ranking_filepath"
   ]
  },
  {
   "cell_type": "code",
   "execution_count": 13,
   "metadata": {
    "ExecuteTime": {
     "end_time": "2021-01-09T21:59:17.287757Z",
     "start_time": "2021-01-09T21:59:16.810787Z"
    }
   },
   "outputs": [],
   "source": [
    "ranking_df.to_excel(ranking_filepath)"
   ]
  },
  {
   "cell_type": "markdown",
   "metadata": {},
   "source": [
    "---"
   ]
  }
 ],
 "metadata": {
  "kernelspec": {
   "display_name": "Python 3",
   "language": "python",
   "name": "python3"
  },
  "language_info": {
   "codemirror_mode": {
    "name": "ipython",
    "version": 3
   },
   "file_extension": ".py",
   "mimetype": "text/x-python",
   "name": "python",
   "nbconvert_exporter": "python",
   "pygments_lexer": "ipython3",
   "version": "3.8.1"
  },
  "toc": {
   "base_numbering": 1,
   "nav_menu": {},
   "number_sections": true,
   "sideBar": true,
   "skip_h1_title": false,
   "title_cell": "Table of Contents",
   "title_sidebar": "Contents",
   "toc_cell": false,
   "toc_position": {},
   "toc_section_display": true,
   "toc_window_display": false
  }
 },
 "nbformat": 4,
 "nbformat_minor": 4
}
