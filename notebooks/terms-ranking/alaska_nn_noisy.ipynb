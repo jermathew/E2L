{
 "cells": [
  {
   "cell_type": "markdown",
   "metadata": {},
   "source": [
    "# Process terms \n",
    "Process terms retrieved from the neural network model using `LIME`"
   ]
  },
  {
   "cell_type": "markdown",
   "metadata": {},
   "source": [
    "## Load the retrieved terms"
   ]
  },
  {
   "cell_type": "code",
   "execution_count": 1,
   "metadata": {
    "ExecuteTime": {
     "end_time": "2021-03-17T15:07:01.802041Z",
     "start_time": "2021-03-17T15:07:01.798857Z"
    }
   },
   "outputs": [],
   "source": [
    "import os"
   ]
  },
  {
   "cell_type": "code",
   "execution_count": 2,
   "metadata": {
    "ExecuteTime": {
     "end_time": "2021-03-17T15:07:02.113000Z",
     "start_time": "2021-03-17T15:07:02.109757Z"
    }
   },
   "outputs": [],
   "source": [
    "root_dir = '../..'\n",
    "data_dir = 'data/terms'\n",
    "filename = 'relevant_terms_alaska_nn_noisy.csv'\n",
    "filepath = os.path.join(root_dir, data_dir, filename)"
   ]
  },
  {
   "cell_type": "code",
   "execution_count": 3,
   "metadata": {
    "ExecuteTime": {
     "end_time": "2021-03-17T15:07:02.974588Z",
     "start_time": "2021-03-17T15:07:02.730782Z"
    }
   },
   "outputs": [],
   "source": [
    "import pandas as pd"
   ]
  },
  {
   "cell_type": "code",
   "execution_count": 4,
   "metadata": {
    "ExecuteTime": {
     "end_time": "2021-03-17T15:07:03.154213Z",
     "start_time": "2021-03-17T15:07:03.143701Z"
    }
   },
   "outputs": [],
   "source": [
    "terms_df = pd.read_csv(filepath)"
   ]
  },
  {
   "cell_type": "code",
   "execution_count": 5,
   "metadata": {
    "ExecuteTime": {
     "end_time": "2021-03-17T15:07:03.875876Z",
     "start_time": "2021-03-17T15:07:03.860499Z"
    }
   },
   "outputs": [
    {
     "data": {
      "text/html": [
       "<div>\n",
       "<style scoped>\n",
       "    .dataframe tbody tr th:only-of-type {\n",
       "        vertical-align: middle;\n",
       "    }\n",
       "\n",
       "    .dataframe tbody tr th {\n",
       "        vertical-align: top;\n",
       "    }\n",
       "\n",
       "    .dataframe thead th {\n",
       "        text-align: right;\n",
       "    }\n",
       "</style>\n",
       "<table border=\"1\" class=\"dataframe\">\n",
       "  <thead>\n",
       "    <tr style=\"text-align: right;\">\n",
       "      <th></th>\n",
       "      <th>label</th>\n",
       "      <th>term</th>\n",
       "      <th>weight</th>\n",
       "      <th>data_id</th>\n",
       "    </tr>\n",
       "  </thead>\n",
       "  <tbody>\n",
       "    <tr>\n",
       "      <th>0</th>\n",
       "      <td>ENTITY#44</td>\n",
       "      <td>nikon_d3200_dslr_camera</td>\n",
       "      <td>0.368663</td>\n",
       "      <td>0</td>\n",
       "    </tr>\n",
       "    <tr>\n",
       "      <th>1</th>\n",
       "      <td>ENTITY#44</td>\n",
       "      <td>55_200mm_lenses</td>\n",
       "      <td>0.218637</td>\n",
       "      <td>0</td>\n",
       "    </tr>\n",
       "    <tr>\n",
       "      <th>2</th>\n",
       "      <td>ENTITY#44</td>\n",
       "      <td>black_ebay</td>\n",
       "      <td>0.171967</td>\n",
       "      <td>0</td>\n",
       "    </tr>\n",
       "    <tr>\n",
       "      <th>3</th>\n",
       "      <td>ENTITY#44</td>\n",
       "      <td>18_55mm</td>\n",
       "      <td>0.112081</td>\n",
       "      <td>0</td>\n",
       "    </tr>\n",
       "    <tr>\n",
       "      <th>4</th>\n",
       "      <td>ENTITY#44</td>\n",
       "      <td>nikon_d3200</td>\n",
       "      <td>0.515836</td>\n",
       "      <td>1</td>\n",
       "    </tr>\n",
       "  </tbody>\n",
       "</table>\n",
       "</div>"
      ],
      "text/plain": [
       "       label                     term    weight  data_id\n",
       "0  ENTITY#44  nikon_d3200_dslr_camera  0.368663        0\n",
       "1  ENTITY#44          55_200mm_lenses  0.218637        0\n",
       "2  ENTITY#44               black_ebay  0.171967        0\n",
       "3  ENTITY#44                  18_55mm  0.112081        0\n",
       "4  ENTITY#44              nikon_d3200  0.515836        1"
      ]
     },
     "execution_count": 5,
     "metadata": {},
     "output_type": "execute_result"
    }
   ],
   "source": [
    "terms_df.head()"
   ]
  },
  {
   "cell_type": "markdown",
   "metadata": {},
   "source": [
    "---"
   ]
  },
  {
   "cell_type": "markdown",
   "metadata": {},
   "source": [
    "## Rank terms"
   ]
  },
  {
   "cell_type": "markdown",
   "metadata": {},
   "source": [
    "### Aggregate (sum) LIME weights for each term"
   ]
  },
  {
   "cell_type": "code",
   "execution_count": 6,
   "metadata": {
    "ExecuteTime": {
     "end_time": "2021-03-17T15:07:07.931079Z",
     "start_time": "2021-03-17T15:07:07.917391Z"
    }
   },
   "outputs": [],
   "source": [
    "terms_stats_df = terms_df.groupby(['label', 'term']).agg({'weight': 'sum'}).reset_index()"
   ]
  },
  {
   "cell_type": "code",
   "execution_count": 7,
   "metadata": {
    "ExecuteTime": {
     "end_time": "2021-03-17T15:07:08.198941Z",
     "start_time": "2021-03-17T15:07:08.187726Z"
    }
   },
   "outputs": [
    {
     "data": {
      "text/html": [
       "<div>\n",
       "<style scoped>\n",
       "    .dataframe tbody tr th:only-of-type {\n",
       "        vertical-align: middle;\n",
       "    }\n",
       "\n",
       "    .dataframe tbody tr th {\n",
       "        vertical-align: top;\n",
       "    }\n",
       "\n",
       "    .dataframe thead th {\n",
       "        text-align: right;\n",
       "    }\n",
       "</style>\n",
       "<table border=\"1\" class=\"dataframe\">\n",
       "  <thead>\n",
       "    <tr style=\"text-align: right;\">\n",
       "      <th></th>\n",
       "      <th>label</th>\n",
       "      <th>term</th>\n",
       "      <th>weight</th>\n",
       "    </tr>\n",
       "  </thead>\n",
       "  <tbody>\n",
       "    <tr>\n",
       "      <th>0</th>\n",
       "      <td>ENTITY#101</td>\n",
       "      <td>22_3_mp_dslr_kit</td>\n",
       "      <td>0.130257</td>\n",
       "    </tr>\n",
       "    <tr>\n",
       "      <th>1</th>\n",
       "      <td>ENTITY#101</td>\n",
       "      <td>5d</td>\n",
       "      <td>1.146376</td>\n",
       "    </tr>\n",
       "    <tr>\n",
       "      <th>2</th>\n",
       "      <td>ENTITY#101</td>\n",
       "      <td>5d_mark</td>\n",
       "      <td>9.793319</td>\n",
       "    </tr>\n",
       "    <tr>\n",
       "      <th>3</th>\n",
       "      <td>ENTITY#101</td>\n",
       "      <td>5d_mark_iii</td>\n",
       "      <td>37.501637</td>\n",
       "    </tr>\n",
       "    <tr>\n",
       "      <th>4</th>\n",
       "      <td>ENTITY#101</td>\n",
       "      <td>5d_mark_iii_black_slr_digital_camera_kit_w/</td>\n",
       "      <td>1.635001</td>\n",
       "    </tr>\n",
       "  </tbody>\n",
       "</table>\n",
       "</div>"
      ],
      "text/plain": [
       "        label                                         term     weight\n",
       "0  ENTITY#101                             22_3_mp_dslr_kit   0.130257\n",
       "1  ENTITY#101                                           5d   1.146376\n",
       "2  ENTITY#101                                      5d_mark   9.793319\n",
       "3  ENTITY#101                                  5d_mark_iii  37.501637\n",
       "4  ENTITY#101  5d_mark_iii_black_slr_digital_camera_kit_w/   1.635001"
      ]
     },
     "execution_count": 7,
     "metadata": {},
     "output_type": "execute_result"
    }
   ],
   "source": [
    "terms_stats_df.head()"
   ]
  },
  {
   "cell_type": "markdown",
   "metadata": {
    "ExecuteTime": {
     "end_time": "2020-09-22T21:07:22.493467Z",
     "start_time": "2020-09-22T21:07:22.478186Z"
    }
   },
   "source": [
    "### Sort terms\n",
    "Rank terms by total weight (descending)"
   ]
  },
  {
   "cell_type": "code",
   "execution_count": 8,
   "metadata": {
    "ExecuteTime": {
     "end_time": "2021-03-17T15:07:09.331240Z",
     "start_time": "2021-03-17T15:07:09.310935Z"
    }
   },
   "outputs": [],
   "source": [
    "ranking_df = terms_stats_df.groupby('label')\\\n",
    "                .apply(lambda grp: grp.sort_values(by='weight', ascending=False))\\\n",
    "                .reset_index(drop=True)"
   ]
  },
  {
   "cell_type": "code",
   "execution_count": 9,
   "metadata": {
    "ExecuteTime": {
     "end_time": "2021-03-17T15:07:10.224725Z",
     "start_time": "2021-03-17T15:07:10.211092Z"
    }
   },
   "outputs": [
    {
     "data": {
      "text/html": [
       "<div>\n",
       "<style scoped>\n",
       "    .dataframe tbody tr th:only-of-type {\n",
       "        vertical-align: middle;\n",
       "    }\n",
       "\n",
       "    .dataframe tbody tr th {\n",
       "        vertical-align: top;\n",
       "    }\n",
       "\n",
       "    .dataframe thead th {\n",
       "        text-align: right;\n",
       "    }\n",
       "</style>\n",
       "<table border=\"1\" class=\"dataframe\">\n",
       "  <thead>\n",
       "    <tr style=\"text-align: right;\">\n",
       "      <th></th>\n",
       "      <th>label</th>\n",
       "      <th>term</th>\n",
       "      <th>weight</th>\n",
       "    </tr>\n",
       "  </thead>\n",
       "  <tbody>\n",
       "    <tr>\n",
       "      <th>0</th>\n",
       "      <td>ENTITY#101</td>\n",
       "      <td>5d_mark_iii</td>\n",
       "      <td>37.501637</td>\n",
       "    </tr>\n",
       "    <tr>\n",
       "      <th>1</th>\n",
       "      <td>ENTITY#101</td>\n",
       "      <td>5d_mark</td>\n",
       "      <td>9.793319</td>\n",
       "    </tr>\n",
       "    <tr>\n",
       "      <th>2</th>\n",
       "      <td>ENTITY#101</td>\n",
       "      <td>canon_eos</td>\n",
       "      <td>9.270045</td>\n",
       "    </tr>\n",
       "    <tr>\n",
       "      <th>50</th>\n",
       "      <td>ENTITY#16</td>\n",
       "      <td>nikon_d90</td>\n",
       "      <td>59.187000</td>\n",
       "    </tr>\n",
       "    <tr>\n",
       "      <th>51</th>\n",
       "      <td>ENTITY#16</td>\n",
       "      <td>nikon_d90_camera</td>\n",
       "      <td>1.894752</td>\n",
       "    </tr>\n",
       "    <tr>\n",
       "      <th>52</th>\n",
       "      <td>ENTITY#16</td>\n",
       "      <td>nikon_d90_dx_12_3mp_digital_slr_camera</td>\n",
       "      <td>1.866237</td>\n",
       "    </tr>\n",
       "    <tr>\n",
       "      <th>84</th>\n",
       "      <td>ENTITY#18</td>\n",
       "      <td>canon_eos_60d</td>\n",
       "      <td>51.488703</td>\n",
       "    </tr>\n",
       "    <tr>\n",
       "      <th>85</th>\n",
       "      <td>ENTITY#18</td>\n",
       "      <td>nikon_d300</td>\n",
       "      <td>32.064259</td>\n",
       "    </tr>\n",
       "    <tr>\n",
       "      <th>86</th>\n",
       "      <td>ENTITY#18</td>\n",
       "      <td>canon</td>\n",
       "      <td>12.011575</td>\n",
       "    </tr>\n",
       "    <tr>\n",
       "      <th>261</th>\n",
       "      <td>ENTITY#23</td>\n",
       "      <td>canon_eos_7d</td>\n",
       "      <td>100.059516</td>\n",
       "    </tr>\n",
       "    <tr>\n",
       "      <th>262</th>\n",
       "      <td>ENTITY#23</td>\n",
       "      <td>1_j3</td>\n",
       "      <td>24.763961</td>\n",
       "    </tr>\n",
       "    <tr>\n",
       "      <th>263</th>\n",
       "      <td>ENTITY#23</td>\n",
       "      <td>7d</td>\n",
       "      <td>9.055000</td>\n",
       "    </tr>\n",
       "    <tr>\n",
       "      <th>350</th>\n",
       "      <td>ENTITY#36</td>\n",
       "      <td>nikon_d3100</td>\n",
       "      <td>27.143691</td>\n",
       "    </tr>\n",
       "    <tr>\n",
       "      <th>351</th>\n",
       "      <td>ENTITY#36</td>\n",
       "      <td>14_2_mp_digital_slr_camera_black_kit</td>\n",
       "      <td>9.149005</td>\n",
       "    </tr>\n",
       "    <tr>\n",
       "      <th>352</th>\n",
       "      <td>ENTITY#36</td>\n",
       "      <td>nikon_d3100_digital_slr_camera</td>\n",
       "      <td>5.741861</td>\n",
       "    </tr>\n",
       "    <tr>\n",
       "      <th>522</th>\n",
       "      <td>ENTITY#37</td>\n",
       "      <td>nikon_d80</td>\n",
       "      <td>31.683654</td>\n",
       "    </tr>\n",
       "    <tr>\n",
       "      <th>523</th>\n",
       "      <td>ENTITY#37</td>\n",
       "      <td>10_2_mp_digital_slr_camera_black_body</td>\n",
       "      <td>3.710303</td>\n",
       "    </tr>\n",
       "    <tr>\n",
       "      <th>524</th>\n",
       "      <td>ENTITY#37</td>\n",
       "      <td>nikon_d80_10_2mp_digital_slr_camera_kit</td>\n",
       "      <td>2.734983</td>\n",
       "    </tr>\n",
       "    <tr>\n",
       "      <th>571</th>\n",
       "      <td>ENTITY#41</td>\n",
       "      <td>nikon</td>\n",
       "      <td>33.316347</td>\n",
       "    </tr>\n",
       "    <tr>\n",
       "      <th>572</th>\n",
       "      <td>ENTITY#41</td>\n",
       "      <td>16</td>\n",
       "      <td>25.346444</td>\n",
       "    </tr>\n",
       "    <tr>\n",
       "      <th>573</th>\n",
       "      <td>ENTITY#41</td>\n",
       "      <td>d7000</td>\n",
       "      <td>21.352936</td>\n",
       "    </tr>\n",
       "    <tr>\n",
       "      <th>930</th>\n",
       "      <td>ENTITY#44</td>\n",
       "      <td>ii</td>\n",
       "      <td>32.577837</td>\n",
       "    </tr>\n",
       "    <tr>\n",
       "      <th>931</th>\n",
       "      <td>ENTITY#44</td>\n",
       "      <td>d3200</td>\n",
       "      <td>29.243672</td>\n",
       "    </tr>\n",
       "    <tr>\n",
       "      <th>932</th>\n",
       "      <td>ENTITY#44</td>\n",
       "      <td>mark</td>\n",
       "      <td>22.283323</td>\n",
       "    </tr>\n",
       "    <tr>\n",
       "      <th>1323</th>\n",
       "      <td>ENTITY#57</td>\n",
       "      <td>nikon_d800</td>\n",
       "      <td>26.589743</td>\n",
       "    </tr>\n",
       "    <tr>\n",
       "      <th>1324</th>\n",
       "      <td>ENTITY#57</td>\n",
       "      <td>36_3_mp_digital_slr_camera_black_body</td>\n",
       "      <td>8.813625</td>\n",
       "    </tr>\n",
       "    <tr>\n",
       "      <th>1325</th>\n",
       "      <td>ENTITY#57</td>\n",
       "      <td>d800</td>\n",
       "      <td>6.159033</td>\n",
       "    </tr>\n",
       "    <tr>\n",
       "      <th>1390</th>\n",
       "      <td>ENTITY#6</td>\n",
       "      <td>nikon_d5300</td>\n",
       "      <td>17.193437</td>\n",
       "    </tr>\n",
       "    <tr>\n",
       "      <th>1391</th>\n",
       "      <td>ENTITY#6</td>\n",
       "      <td>nikon_d5300_kit</td>\n",
       "      <td>8.053590</td>\n",
       "    </tr>\n",
       "    <tr>\n",
       "      <th>1392</th>\n",
       "      <td>ENTITY#6</td>\n",
       "      <td>nikon_d5300_digital_slr_camera_black</td>\n",
       "      <td>6.483248</td>\n",
       "    </tr>\n",
       "    <tr>\n",
       "      <th>1567</th>\n",
       "      <td>ENTITY#76</td>\n",
       "      <td>j1</td>\n",
       "      <td>22.722425</td>\n",
       "    </tr>\n",
       "    <tr>\n",
       "      <th>1568</th>\n",
       "      <td>ENTITY#76</td>\n",
       "      <td>nikon_d3300</td>\n",
       "      <td>17.045597</td>\n",
       "    </tr>\n",
       "    <tr>\n",
       "      <th>1569</th>\n",
       "      <td>ENTITY#76</td>\n",
       "      <td>d610</td>\n",
       "      <td>12.707590</td>\n",
       "    </tr>\n",
       "    <tr>\n",
       "      <th>1802</th>\n",
       "      <td>ENTITY#96</td>\n",
       "      <td>canon</td>\n",
       "      <td>13.587850</td>\n",
       "    </tr>\n",
       "    <tr>\n",
       "      <th>1803</th>\n",
       "      <td>ENTITY#96</td>\n",
       "      <td>eos</td>\n",
       "      <td>13.584414</td>\n",
       "    </tr>\n",
       "    <tr>\n",
       "      <th>1804</th>\n",
       "      <td>ENTITY#96</td>\n",
       "      <td>canon_eos_70d</td>\n",
       "      <td>13.518993</td>\n",
       "    </tr>\n",
       "  </tbody>\n",
       "</table>\n",
       "</div>"
      ],
      "text/plain": [
       "           label                                     term      weight\n",
       "0     ENTITY#101                              5d_mark_iii   37.501637\n",
       "1     ENTITY#101                                  5d_mark    9.793319\n",
       "2     ENTITY#101                                canon_eos    9.270045\n",
       "50     ENTITY#16                                nikon_d90   59.187000\n",
       "51     ENTITY#16                         nikon_d90_camera    1.894752\n",
       "52     ENTITY#16   nikon_d90_dx_12_3mp_digital_slr_camera    1.866237\n",
       "84     ENTITY#18                            canon_eos_60d   51.488703\n",
       "85     ENTITY#18                               nikon_d300   32.064259\n",
       "86     ENTITY#18                                    canon   12.011575\n",
       "261    ENTITY#23                             canon_eos_7d  100.059516\n",
       "262    ENTITY#23                                     1_j3   24.763961\n",
       "263    ENTITY#23                                       7d    9.055000\n",
       "350    ENTITY#36                              nikon_d3100   27.143691\n",
       "351    ENTITY#36     14_2_mp_digital_slr_camera_black_kit    9.149005\n",
       "352    ENTITY#36           nikon_d3100_digital_slr_camera    5.741861\n",
       "522    ENTITY#37                                nikon_d80   31.683654\n",
       "523    ENTITY#37    10_2_mp_digital_slr_camera_black_body    3.710303\n",
       "524    ENTITY#37  nikon_d80_10_2mp_digital_slr_camera_kit    2.734983\n",
       "571    ENTITY#41                                    nikon   33.316347\n",
       "572    ENTITY#41                                       16   25.346444\n",
       "573    ENTITY#41                                    d7000   21.352936\n",
       "930    ENTITY#44                                       ii   32.577837\n",
       "931    ENTITY#44                                    d3200   29.243672\n",
       "932    ENTITY#44                                     mark   22.283323\n",
       "1323   ENTITY#57                               nikon_d800   26.589743\n",
       "1324   ENTITY#57    36_3_mp_digital_slr_camera_black_body    8.813625\n",
       "1325   ENTITY#57                                     d800    6.159033\n",
       "1390    ENTITY#6                              nikon_d5300   17.193437\n",
       "1391    ENTITY#6                          nikon_d5300_kit    8.053590\n",
       "1392    ENTITY#6     nikon_d5300_digital_slr_camera_black    6.483248\n",
       "1567   ENTITY#76                                       j1   22.722425\n",
       "1568   ENTITY#76                              nikon_d3300   17.045597\n",
       "1569   ENTITY#76                                     d610   12.707590\n",
       "1802   ENTITY#96                                    canon   13.587850\n",
       "1803   ENTITY#96                                      eos   13.584414\n",
       "1804   ENTITY#96                            canon_eos_70d   13.518993"
      ]
     },
     "execution_count": 9,
     "metadata": {},
     "output_type": "execute_result"
    }
   ],
   "source": [
    "ranking_df.groupby('label').head(3)"
   ]
  },
  {
   "cell_type": "markdown",
   "metadata": {},
   "source": [
    "---"
   ]
  },
  {
   "cell_type": "markdown",
   "metadata": {},
   "source": [
    "## Save ranking"
   ]
  },
  {
   "cell_type": "code",
   "execution_count": 10,
   "metadata": {
    "ExecuteTime": {
     "end_time": "2021-03-17T15:07:12.923790Z",
     "start_time": "2021-03-17T15:07:12.920869Z"
    }
   },
   "outputs": [],
   "source": [
    "ranking_filename = 'ranking_alaska_nn_noisy.xlsx'\n",
    "ranking_filepath = os.path.join(root_dir, data_dir, ranking_filename)"
   ]
  },
  {
   "cell_type": "code",
   "execution_count": 11,
   "metadata": {
    "ExecuteTime": {
     "end_time": "2021-03-17T15:07:13.657104Z",
     "start_time": "2021-03-17T15:07:13.653868Z"
    }
   },
   "outputs": [
    {
     "data": {
      "text/plain": [
       "'../../data/terms/ranking_alaska_nn_noisy.xlsx'"
      ]
     },
     "execution_count": 11,
     "metadata": {},
     "output_type": "execute_result"
    }
   ],
   "source": [
    "ranking_filepath"
   ]
  },
  {
   "cell_type": "code",
   "execution_count": 12,
   "metadata": {
    "ExecuteTime": {
     "end_time": "2021-03-17T15:07:14.889182Z",
     "start_time": "2021-03-17T15:07:14.386529Z"
    }
   },
   "outputs": [],
   "source": [
    "ranking_df.to_excel(ranking_filepath)"
   ]
  },
  {
   "cell_type": "markdown",
   "metadata": {},
   "source": [
    "---"
   ]
  }
 ],
 "metadata": {
  "kernelspec": {
   "display_name": "Python 3",
   "language": "python",
   "name": "python3"
  },
  "language_info": {
   "codemirror_mode": {
    "name": "ipython",
    "version": 3
   },
   "file_extension": ".py",
   "mimetype": "text/x-python",
   "name": "python",
   "nbconvert_exporter": "python",
   "pygments_lexer": "ipython3",
   "version": "3.8.1"
  },
  "toc": {
   "base_numbering": 1,
   "nav_menu": {},
   "number_sections": true,
   "sideBar": true,
   "skip_h1_title": false,
   "title_cell": "Table of Contents",
   "title_sidebar": "Contents",
   "toc_cell": false,
   "toc_position": {},
   "toc_section_display": true,
   "toc_window_display": false
  }
 },
 "nbformat": 4,
 "nbformat_minor": 4
}
