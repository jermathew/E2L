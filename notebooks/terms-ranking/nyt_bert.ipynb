{
 "cells": [
  {
   "cell_type": "markdown",
   "metadata": {},
   "source": [
    "# Process terms \n",
    "Process terms retrieved from the neural network model using `LIME`"
   ]
  },
  {
   "cell_type": "markdown",
   "metadata": {},
   "source": [
    "---\n",
    "## Load the retrieved terms"
   ]
  },
  {
   "cell_type": "code",
   "execution_count": 1,
   "metadata": {
    "ExecuteTime": {
     "end_time": "2021-01-04T10:49:23.408250Z",
     "start_time": "2021-01-04T10:49:23.401448Z"
    }
   },
   "outputs": [],
   "source": [
    "import os"
   ]
  },
  {
   "cell_type": "code",
   "execution_count": 2,
   "metadata": {
    "ExecuteTime": {
     "end_time": "2021-01-04T10:49:23.625061Z",
     "start_time": "2021-01-04T10:49:23.619369Z"
    }
   },
   "outputs": [],
   "source": [
    "dataset_name = 'nyt'\n",
    "model_name = 'bert'"
   ]
  },
  {
   "cell_type": "code",
   "execution_count": 3,
   "metadata": {
    "ExecuteTime": {
     "end_time": "2021-01-04T10:49:23.889573Z",
     "start_time": "2021-01-04T10:49:23.882899Z"
    }
   },
   "outputs": [],
   "source": [
    "root_dir = '../..'\n",
    "data_dir = 'data/terms'\n",
    "filename = f'relevant_terms_{dataset_name}_{model_name}.csv'\n",
    "filepath = os.path.join(root_dir, data_dir, filename)"
   ]
  },
  {
   "cell_type": "code",
   "execution_count": 4,
   "metadata": {
    "ExecuteTime": {
     "end_time": "2021-01-04T10:49:24.561265Z",
     "start_time": "2021-01-04T10:49:24.172337Z"
    }
   },
   "outputs": [],
   "source": [
    "import pandas as pd"
   ]
  },
  {
   "cell_type": "code",
   "execution_count": 5,
   "metadata": {
    "ExecuteTime": {
     "end_time": "2021-01-04T10:49:24.631229Z",
     "start_time": "2021-01-04T10:49:24.596356Z"
    }
   },
   "outputs": [],
   "source": [
    "terms_df = pd.read_csv(filepath)"
   ]
  },
  {
   "cell_type": "code",
   "execution_count": 6,
   "metadata": {
    "ExecuteTime": {
     "end_time": "2021-01-04T10:49:26.157059Z",
     "start_time": "2021-01-04T10:49:26.128064Z"
    }
   },
   "outputs": [
    {
     "data": {
      "text/html": [
       "<div>\n",
       "<style scoped>\n",
       "    .dataframe tbody tr th:only-of-type {\n",
       "        vertical-align: middle;\n",
       "    }\n",
       "\n",
       "    .dataframe tbody tr th {\n",
       "        vertical-align: top;\n",
       "    }\n",
       "\n",
       "    .dataframe thead th {\n",
       "        text-align: right;\n",
       "    }\n",
       "</style>\n",
       "<table border=\"1\" class=\"dataframe\">\n",
       "  <thead>\n",
       "    <tr style=\"text-align: right;\">\n",
       "      <th></th>\n",
       "      <th>label</th>\n",
       "      <th>term</th>\n",
       "      <th>weight</th>\n",
       "      <th>data_id</th>\n",
       "    </tr>\n",
       "  </thead>\n",
       "  <tbody>\n",
       "    <tr>\n",
       "      <th>0</th>\n",
       "      <td>Q11201</td>\n",
       "      <td>appeals_court</td>\n",
       "      <td>0.100571</td>\n",
       "      <td>0</td>\n",
       "    </tr>\n",
       "    <tr>\n",
       "      <th>1</th>\n",
       "      <td>Q11201</td>\n",
       "      <td>one-year_sentence</td>\n",
       "      <td>0.066058</td>\n",
       "      <td>0</td>\n",
       "    </tr>\n",
       "    <tr>\n",
       "      <th>2</th>\n",
       "      <td>Q11201</td>\n",
       "      <td>panel</td>\n",
       "      <td>0.046044</td>\n",
       "      <td>0</td>\n",
       "    </tr>\n",
       "    <tr>\n",
       "      <th>3</th>\n",
       "      <td>Q11201</td>\n",
       "      <td>arguments</td>\n",
       "      <td>0.036779</td>\n",
       "      <td>0</td>\n",
       "    </tr>\n",
       "    <tr>\n",
       "      <th>4</th>\n",
       "      <td>Q11201</td>\n",
       "      <td>whether</td>\n",
       "      <td>0.036227</td>\n",
       "      <td>0</td>\n",
       "    </tr>\n",
       "  </tbody>\n",
       "</table>\n",
       "</div>"
      ],
      "text/plain": [
       "    label               term    weight  data_id\n",
       "0  Q11201      appeals_court  0.100571        0\n",
       "1  Q11201  one-year_sentence  0.066058        0\n",
       "2  Q11201              panel  0.046044        0\n",
       "3  Q11201          arguments  0.036779        0\n",
       "4  Q11201            whether  0.036227        0"
      ]
     },
     "execution_count": 6,
     "metadata": {},
     "output_type": "execute_result"
    }
   ],
   "source": [
    "terms_df.head()"
   ]
  },
  {
   "cell_type": "markdown",
   "metadata": {},
   "source": [
    "---"
   ]
  },
  {
   "cell_type": "markdown",
   "metadata": {},
   "source": [
    "## Rank terms by LIME weights"
   ]
  },
  {
   "cell_type": "markdown",
   "metadata": {},
   "source": [
    "### Aggregate (sum) LIME weights for each term"
   ]
  },
  {
   "cell_type": "code",
   "execution_count": 7,
   "metadata": {
    "ExecuteTime": {
     "end_time": "2021-01-04T10:49:30.110916Z",
     "start_time": "2021-01-04T10:49:30.056685Z"
    }
   },
   "outputs": [],
   "source": [
    "terms_stats_df = terms_df.groupby(['label', 'term']).agg({'weight': 'sum'}).reset_index()"
   ]
  },
  {
   "cell_type": "code",
   "execution_count": 8,
   "metadata": {
    "ExecuteTime": {
     "end_time": "2021-01-04T10:49:30.440636Z",
     "start_time": "2021-01-04T10:49:30.422114Z"
    }
   },
   "outputs": [
    {
     "data": {
      "text/html": [
       "<div>\n",
       "<style scoped>\n",
       "    .dataframe tbody tr th:only-of-type {\n",
       "        vertical-align: middle;\n",
       "    }\n",
       "\n",
       "    .dataframe tbody tr th {\n",
       "        vertical-align: top;\n",
       "    }\n",
       "\n",
       "    .dataframe thead th {\n",
       "        text-align: right;\n",
       "    }\n",
       "</style>\n",
       "<table border=\"1\" class=\"dataframe\">\n",
       "  <thead>\n",
       "    <tr style=\"text-align: right;\">\n",
       "      <th></th>\n",
       "      <th>label</th>\n",
       "      <th>term</th>\n",
       "      <th>weight</th>\n",
       "    </tr>\n",
       "  </thead>\n",
       "  <tbody>\n",
       "    <tr>\n",
       "      <th>0</th>\n",
       "      <td>Q11201</td>\n",
       "      <td>1</td>\n",
       "      <td>0.174647</td>\n",
       "    </tr>\n",
       "    <tr>\n",
       "      <th>1</th>\n",
       "      <td>Q11201</td>\n",
       "      <td>1,500_fee</td>\n",
       "      <td>0.002563</td>\n",
       "    </tr>\n",
       "    <tr>\n",
       "      <th>2</th>\n",
       "      <td>Q11201</td>\n",
       "      <td>1,500_fees</td>\n",
       "      <td>0.001279</td>\n",
       "    </tr>\n",
       "    <tr>\n",
       "      <th>3</th>\n",
       "      <td>Q11201</td>\n",
       "      <td>105-page_document</td>\n",
       "      <td>0.028491</td>\n",
       "    </tr>\n",
       "    <tr>\n",
       "      <th>4</th>\n",
       "      <td>Q11201</td>\n",
       "      <td>10_warrants</td>\n",
       "      <td>0.029505</td>\n",
       "    </tr>\n",
       "  </tbody>\n",
       "</table>\n",
       "</div>"
      ],
      "text/plain": [
       "    label               term    weight\n",
       "0  Q11201                  1  0.174647\n",
       "1  Q11201          1,500_fee  0.002563\n",
       "2  Q11201         1,500_fees  0.001279\n",
       "3  Q11201  105-page_document  0.028491\n",
       "4  Q11201        10_warrants  0.029505"
      ]
     },
     "execution_count": 8,
     "metadata": {},
     "output_type": "execute_result"
    }
   ],
   "source": [
    "terms_stats_df.head()"
   ]
  },
  {
   "cell_type": "markdown",
   "metadata": {
    "ExecuteTime": {
     "end_time": "2020-09-22T21:07:22.493467Z",
     "start_time": "2020-09-22T21:07:22.478186Z"
    }
   },
   "source": [
    "### Sort terms\n",
    "Rank terms by total weight (descending)"
   ]
  },
  {
   "cell_type": "code",
   "execution_count": 9,
   "metadata": {
    "ExecuteTime": {
     "end_time": "2021-01-04T10:49:32.102380Z",
     "start_time": "2021-01-04T10:49:32.068936Z"
    }
   },
   "outputs": [],
   "source": [
    "ranking_df = terms_stats_df.groupby('label')\\\n",
    "                .apply(lambda grp: grp.sort_values(by='weight', ascending=False))\\\n",
    "                .reset_index(drop=True)"
   ]
  },
  {
   "cell_type": "code",
   "execution_count": 10,
   "metadata": {
    "ExecuteTime": {
     "end_time": "2021-01-04T10:49:32.997180Z",
     "start_time": "2021-01-04T10:49:32.965878Z"
    }
   },
   "outputs": [
    {
     "data": {
      "text/html": [
       "<div>\n",
       "<style scoped>\n",
       "    .dataframe tbody tr th:only-of-type {\n",
       "        vertical-align: middle;\n",
       "    }\n",
       "\n",
       "    .dataframe tbody tr th {\n",
       "        vertical-align: top;\n",
       "    }\n",
       "\n",
       "    .dataframe thead th {\n",
       "        text-align: right;\n",
       "    }\n",
       "</style>\n",
       "<table border=\"1\" class=\"dataframe\">\n",
       "  <thead>\n",
       "    <tr style=\"text-align: right;\">\n",
       "      <th></th>\n",
       "      <th>label</th>\n",
       "      <th>term</th>\n",
       "      <th>weight</th>\n",
       "    </tr>\n",
       "  </thead>\n",
       "  <tbody>\n",
       "    <tr>\n",
       "      <th>0</th>\n",
       "      <td>Q11201</td>\n",
       "      <td>court</td>\n",
       "      <td>9.744176</td>\n",
       "    </tr>\n",
       "    <tr>\n",
       "      <th>1</th>\n",
       "      <td>Q11201</td>\n",
       "      <td>supreme_court</td>\n",
       "      <td>7.793146</td>\n",
       "    </tr>\n",
       "    <tr>\n",
       "      <th>2</th>\n",
       "      <td>Q11201</td>\n",
       "      <td>article</td>\n",
       "      <td>3.224292</td>\n",
       "    </tr>\n",
       "    <tr>\n",
       "      <th>3</th>\n",
       "      <td>Q11201</td>\n",
       "      <td>high_court</td>\n",
       "      <td>2.532203</td>\n",
       "    </tr>\n",
       "    <tr>\n",
       "      <th>4</th>\n",
       "      <td>Q11201</td>\n",
       "      <td>supreme_court_justice</td>\n",
       "      <td>1.695288</td>\n",
       "    </tr>\n",
       "    <tr>\n",
       "      <th>1634</th>\n",
       "      <td>Q11211</td>\n",
       "      <td>troops</td>\n",
       "      <td>6.565331</td>\n",
       "    </tr>\n",
       "    <tr>\n",
       "      <th>1635</th>\n",
       "      <td>Q11211</td>\n",
       "      <td>u.</td>\n",
       "      <td>4.751721</td>\n",
       "    </tr>\n",
       "    <tr>\n",
       "      <th>1636</th>\n",
       "      <td>Q11211</td>\n",
       "      <td>iraq</td>\n",
       "      <td>4.275116</td>\n",
       "    </tr>\n",
       "    <tr>\n",
       "      <th>1637</th>\n",
       "      <td>Q11211</td>\n",
       "      <td>s.</td>\n",
       "      <td>2.826302</td>\n",
       "    </tr>\n",
       "    <tr>\n",
       "      <th>1638</th>\n",
       "      <td>Q11211</td>\n",
       "      <td>us</td>\n",
       "      <td>2.091001</td>\n",
       "    </tr>\n",
       "    <tr>\n",
       "      <th>3616</th>\n",
       "      <td>Q1124</td>\n",
       "      <td>clinton</td>\n",
       "      <td>28.297009</td>\n",
       "    </tr>\n",
       "    <tr>\n",
       "      <th>3617</th>\n",
       "      <td>Q1124</td>\n",
       "      <td>president</td>\n",
       "      <td>10.008616</td>\n",
       "    </tr>\n",
       "    <tr>\n",
       "      <th>3618</th>\n",
       "      <td>Q1124</td>\n",
       "      <td>bill_clinton</td>\n",
       "      <td>8.302200</td>\n",
       "    </tr>\n",
       "    <tr>\n",
       "      <th>3619</th>\n",
       "      <td>Q1124</td>\n",
       "      <td>hillary_rodham_clinton</td>\n",
       "      <td>6.725671</td>\n",
       "    </tr>\n",
       "    <tr>\n",
       "      <th>3620</th>\n",
       "      <td>Q1124</td>\n",
       "      <td>bill</td>\n",
       "      <td>5.802482</td>\n",
       "    </tr>\n",
       "    <tr>\n",
       "      <th>4578</th>\n",
       "      <td>Q1384</td>\n",
       "      <td>new_york</td>\n",
       "      <td>39.282109</td>\n",
       "    </tr>\n",
       "    <tr>\n",
       "      <th>4579</th>\n",
       "      <td>Q1384</td>\n",
       "      <td>new_york_city</td>\n",
       "      <td>12.378258</td>\n",
       "    </tr>\n",
       "    <tr>\n",
       "      <th>4580</th>\n",
       "      <td>Q1384</td>\n",
       "      <td>new_york_state</td>\n",
       "      <td>4.836321</td>\n",
       "    </tr>\n",
       "    <tr>\n",
       "      <th>4581</th>\n",
       "      <td>Q1384</td>\n",
       "      <td>new</td>\n",
       "      <td>4.738122</td>\n",
       "    </tr>\n",
       "    <tr>\n",
       "      <th>4582</th>\n",
       "      <td>Q1384</td>\n",
       "      <td>new_jersey</td>\n",
       "      <td>4.414395</td>\n",
       "    </tr>\n",
       "    <tr>\n",
       "      <th>5559</th>\n",
       "      <td>Q148</td>\n",
       "      <td>china</td>\n",
       "      <td>80.306568</td>\n",
       "    </tr>\n",
       "    <tr>\n",
       "      <th>5560</th>\n",
       "      <td>Q148</td>\n",
       "      <td>hong_kong</td>\n",
       "      <td>6.513311</td>\n",
       "    </tr>\n",
       "    <tr>\n",
       "      <th>5561</th>\n",
       "      <td>Q148</td>\n",
       "      <td>communist_china</td>\n",
       "      <td>5.805562</td>\n",
       "    </tr>\n",
       "    <tr>\n",
       "      <th>5562</th>\n",
       "      <td>Q148</td>\n",
       "      <td>chinese</td>\n",
       "      <td>4.453805</td>\n",
       "    </tr>\n",
       "    <tr>\n",
       "      <th>5563</th>\n",
       "      <td>Q148</td>\n",
       "      <td>taiwan</td>\n",
       "      <td>3.824585</td>\n",
       "    </tr>\n",
       "    <tr>\n",
       "      <th>6369</th>\n",
       "      <td>Q23505</td>\n",
       "      <td>bush</td>\n",
       "      <td>28.170546</td>\n",
       "    </tr>\n",
       "    <tr>\n",
       "      <th>6370</th>\n",
       "      <td>Q23505</td>\n",
       "      <td>vice_president</td>\n",
       "      <td>4.516508</td>\n",
       "    </tr>\n",
       "    <tr>\n",
       "      <th>6371</th>\n",
       "      <td>Q23505</td>\n",
       "      <td>g.</td>\n",
       "      <td>4.473331</td>\n",
       "    </tr>\n",
       "    <tr>\n",
       "      <th>6372</th>\n",
       "      <td>Q23505</td>\n",
       "      <td>p.</td>\n",
       "      <td>3.157670</td>\n",
       "    </tr>\n",
       "    <tr>\n",
       "      <th>6373</th>\n",
       "      <td>Q23505</td>\n",
       "      <td>president</td>\n",
       "      <td>3.029393</td>\n",
       "    </tr>\n",
       "    <tr>\n",
       "      <th>7248</th>\n",
       "      <td>Q29468</td>\n",
       "      <td>party</td>\n",
       "      <td>10.322763</td>\n",
       "    </tr>\n",
       "    <tr>\n",
       "      <th>7249</th>\n",
       "      <td>Q29468</td>\n",
       "      <td>republicans</td>\n",
       "      <td>9.188342</td>\n",
       "    </tr>\n",
       "    <tr>\n",
       "      <th>7250</th>\n",
       "      <td>Q29468</td>\n",
       "      <td>democrats</td>\n",
       "      <td>5.966340</td>\n",
       "    </tr>\n",
       "    <tr>\n",
       "      <th>7251</th>\n",
       "      <td>Q29468</td>\n",
       "      <td>republican</td>\n",
       "      <td>5.152451</td>\n",
       "    </tr>\n",
       "    <tr>\n",
       "      <th>7252</th>\n",
       "      <td>Q29468</td>\n",
       "      <td>republican_party</td>\n",
       "      <td>3.558098</td>\n",
       "    </tr>\n",
       "    <tr>\n",
       "      <th>8800</th>\n",
       "      <td>Q330963</td>\n",
       "      <td>politics</td>\n",
       "      <td>2.814004</td>\n",
       "    </tr>\n",
       "    <tr>\n",
       "      <th>8801</th>\n",
       "      <td>Q330963</td>\n",
       "      <td>democracy</td>\n",
       "      <td>2.442684</td>\n",
       "    </tr>\n",
       "    <tr>\n",
       "      <th>8802</th>\n",
       "      <td>Q330963</td>\n",
       "      <td>system</td>\n",
       "      <td>1.698904</td>\n",
       "    </tr>\n",
       "    <tr>\n",
       "      <th>8803</th>\n",
       "      <td>Q330963</td>\n",
       "      <td>power</td>\n",
       "      <td>1.301700</td>\n",
       "    </tr>\n",
       "    <tr>\n",
       "      <th>8804</th>\n",
       "      <td>Q330963</td>\n",
       "      <td>control</td>\n",
       "      <td>1.234108</td>\n",
       "    </tr>\n",
       "    <tr>\n",
       "      <th>11554</th>\n",
       "      <td>Q66096</td>\n",
       "      <td>senate</td>\n",
       "      <td>67.652510</td>\n",
       "    </tr>\n",
       "    <tr>\n",
       "      <th>11555</th>\n",
       "      <td>Q66096</td>\n",
       "      <td>senate_democrats</td>\n",
       "      <td>6.876290</td>\n",
       "    </tr>\n",
       "    <tr>\n",
       "      <th>11556</th>\n",
       "      <td>Q66096</td>\n",
       "      <td>us_senate</td>\n",
       "      <td>5.185533</td>\n",
       "    </tr>\n",
       "    <tr>\n",
       "      <th>11557</th>\n",
       "      <td>Q66096</td>\n",
       "      <td>senate_republicans</td>\n",
       "      <td>5.126597</td>\n",
       "    </tr>\n",
       "    <tr>\n",
       "      <th>11558</th>\n",
       "      <td>Q66096</td>\n",
       "      <td>senate_panel</td>\n",
       "      <td>3.544871</td>\n",
       "    </tr>\n",
       "    <tr>\n",
       "      <th>12665</th>\n",
       "      <td>Q744448</td>\n",
       "      <td>foreign_policy</td>\n",
       "      <td>20.006126</td>\n",
       "    </tr>\n",
       "    <tr>\n",
       "      <th>12666</th>\n",
       "      <td>Q744448</td>\n",
       "      <td>policy</td>\n",
       "      <td>9.158313</td>\n",
       "    </tr>\n",
       "    <tr>\n",
       "      <th>12667</th>\n",
       "      <td>Q744448</td>\n",
       "      <td>us</td>\n",
       "      <td>5.601576</td>\n",
       "    </tr>\n",
       "    <tr>\n",
       "      <th>12668</th>\n",
       "      <td>Q744448</td>\n",
       "      <td>foreign_affairs</td>\n",
       "      <td>4.564101</td>\n",
       "    </tr>\n",
       "    <tr>\n",
       "      <th>12669</th>\n",
       "      <td>Q744448</td>\n",
       "      <td>foreign</td>\n",
       "      <td>2.902078</td>\n",
       "    </tr>\n",
       "  </tbody>\n",
       "</table>\n",
       "</div>"
      ],
      "text/plain": [
       "         label                    term     weight\n",
       "0       Q11201                   court   9.744176\n",
       "1       Q11201           supreme_court   7.793146\n",
       "2       Q11201                 article   3.224292\n",
       "3       Q11201              high_court   2.532203\n",
       "4       Q11201   supreme_court_justice   1.695288\n",
       "1634    Q11211                  troops   6.565331\n",
       "1635    Q11211                      u.   4.751721\n",
       "1636    Q11211                    iraq   4.275116\n",
       "1637    Q11211                      s.   2.826302\n",
       "1638    Q11211                      us   2.091001\n",
       "3616     Q1124                 clinton  28.297009\n",
       "3617     Q1124               president  10.008616\n",
       "3618     Q1124            bill_clinton   8.302200\n",
       "3619     Q1124  hillary_rodham_clinton   6.725671\n",
       "3620     Q1124                    bill   5.802482\n",
       "4578     Q1384                new_york  39.282109\n",
       "4579     Q1384           new_york_city  12.378258\n",
       "4580     Q1384          new_york_state   4.836321\n",
       "4581     Q1384                     new   4.738122\n",
       "4582     Q1384              new_jersey   4.414395\n",
       "5559      Q148                   china  80.306568\n",
       "5560      Q148               hong_kong   6.513311\n",
       "5561      Q148         communist_china   5.805562\n",
       "5562      Q148                 chinese   4.453805\n",
       "5563      Q148                  taiwan   3.824585\n",
       "6369    Q23505                    bush  28.170546\n",
       "6370    Q23505          vice_president   4.516508\n",
       "6371    Q23505                      g.   4.473331\n",
       "6372    Q23505                      p.   3.157670\n",
       "6373    Q23505               president   3.029393\n",
       "7248    Q29468                   party  10.322763\n",
       "7249    Q29468             republicans   9.188342\n",
       "7250    Q29468               democrats   5.966340\n",
       "7251    Q29468              republican   5.152451\n",
       "7252    Q29468        republican_party   3.558098\n",
       "8800   Q330963                politics   2.814004\n",
       "8801   Q330963               democracy   2.442684\n",
       "8802   Q330963                  system   1.698904\n",
       "8803   Q330963                   power   1.301700\n",
       "8804   Q330963                 control   1.234108\n",
       "11554   Q66096                  senate  67.652510\n",
       "11555   Q66096        senate_democrats   6.876290\n",
       "11556   Q66096               us_senate   5.185533\n",
       "11557   Q66096      senate_republicans   5.126597\n",
       "11558   Q66096            senate_panel   3.544871\n",
       "12665  Q744448          foreign_policy  20.006126\n",
       "12666  Q744448                  policy   9.158313\n",
       "12667  Q744448                      us   5.601576\n",
       "12668  Q744448         foreign_affairs   4.564101\n",
       "12669  Q744448                 foreign   2.902078"
      ]
     },
     "execution_count": 10,
     "metadata": {},
     "output_type": "execute_result"
    }
   ],
   "source": [
    "ranking_df.groupby('label').head()"
   ]
  },
  {
   "cell_type": "markdown",
   "metadata": {},
   "source": [
    "---"
   ]
  },
  {
   "cell_type": "markdown",
   "metadata": {},
   "source": [
    "## Save ranking"
   ]
  },
  {
   "cell_type": "code",
   "execution_count": 11,
   "metadata": {
    "ExecuteTime": {
     "end_time": "2021-01-04T10:49:56.979009Z",
     "start_time": "2021-01-04T10:49:56.972595Z"
    }
   },
   "outputs": [],
   "source": [
    "ranking_filename = f'ranking_{dataset_name}_{model_name}.xlsx'\n",
    "ranking_filepath = os.path.join(root_dir, data_dir, ranking_filename)"
   ]
  },
  {
   "cell_type": "code",
   "execution_count": 12,
   "metadata": {
    "ExecuteTime": {
     "end_time": "2021-01-04T10:49:57.845004Z",
     "start_time": "2021-01-04T10:49:57.840034Z"
    }
   },
   "outputs": [
    {
     "data": {
      "text/plain": [
       "'../../data/terms/ranking_nyt_bert.xlsx'"
      ]
     },
     "execution_count": 12,
     "metadata": {},
     "output_type": "execute_result"
    }
   ],
   "source": [
    "ranking_filepath"
   ]
  },
  {
   "cell_type": "code",
   "execution_count": 13,
   "metadata": {
    "ExecuteTime": {
     "end_time": "2021-01-04T10:50:03.371573Z",
     "start_time": "2021-01-04T10:49:59.574991Z"
    }
   },
   "outputs": [],
   "source": [
    "ranking_df.to_excel(ranking_filepath)"
   ]
  },
  {
   "cell_type": "markdown",
   "metadata": {},
   "source": [
    "---"
   ]
  }
 ],
 "metadata": {
  "kernelspec": {
   "display_name": "Python 3",
   "language": "python",
   "name": "python3"
  },
  "language_info": {
   "codemirror_mode": {
    "name": "ipython",
    "version": 3
   },
   "file_extension": ".py",
   "mimetype": "text/x-python",
   "name": "python",
   "nbconvert_exporter": "python",
   "pygments_lexer": "ipython3",
   "version": "3.8.1"
  },
  "toc": {
   "base_numbering": 1,
   "nav_menu": {},
   "number_sections": true,
   "sideBar": true,
   "skip_h1_title": false,
   "title_cell": "Table of Contents",
   "title_sidebar": "Contents",
   "toc_cell": false,
   "toc_position": {},
   "toc_section_display": true,
   "toc_window_display": false
  }
 },
 "nbformat": 4,
 "nbformat_minor": 4
}
