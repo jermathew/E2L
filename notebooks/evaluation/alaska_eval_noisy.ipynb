{
 "cells": [
  {
   "cell_type": "markdown",
   "metadata": {},
   "source": [
    "# Alaska evaluation"
   ]
  },
  {
   "cell_type": "markdown",
   "metadata": {},
   "source": [
    "## Define filepaths"
   ]
  },
  {
   "cell_type": "code",
   "execution_count": 1,
   "metadata": {
    "ExecuteTime": {
     "end_time": "2021-03-17T15:23:59.371789Z",
     "start_time": "2021-03-17T15:23:59.367767Z"
    }
   },
   "outputs": [],
   "source": [
    "root_dir = '../..'\n",
    "data_dir = 'data'\n",
    "corpus_dir = 'corpus'\n",
    "rank_dir = 'terms'"
   ]
  },
  {
   "cell_type": "markdown",
   "metadata": {},
   "source": [
    "## Load ground truth"
   ]
  },
  {
   "cell_type": "code",
   "execution_count": 2,
   "metadata": {
    "ExecuteTime": {
     "end_time": "2021-03-17T15:23:59.783742Z",
     "start_time": "2021-03-17T15:23:59.781100Z"
    }
   },
   "outputs": [],
   "source": [
    "import os\n",
    "import json"
   ]
  },
  {
   "cell_type": "code",
   "execution_count": 3,
   "metadata": {
    "ExecuteTime": {
     "end_time": "2021-03-17T15:24:00.018088Z",
     "start_time": "2021-03-17T15:24:00.015437Z"
    }
   },
   "outputs": [],
   "source": [
    "gt_filename = 'alaska_camera_gt.json'\n",
    "gt_filepath = os.path.join(root_dir, data_dir, corpus_dir, gt_filename)"
   ]
  },
  {
   "cell_type": "code",
   "execution_count": 4,
   "metadata": {
    "ExecuteTime": {
     "end_time": "2021-03-17T15:24:00.208920Z",
     "start_time": "2021-03-17T15:24:00.206278Z"
    }
   },
   "outputs": [],
   "source": [
    "with open(gt_filepath, 'r') as fd:\n",
    "    gt_dict = json.load(fd)"
   ]
  },
  {
   "cell_type": "code",
   "execution_count": 5,
   "metadata": {
    "ExecuteTime": {
     "end_time": "2021-03-17T15:24:00.435488Z",
     "start_time": "2021-03-17T15:24:00.432892Z"
    }
   },
   "outputs": [],
   "source": [
    "from pprint import pprint"
   ]
  },
  {
   "cell_type": "code",
   "execution_count": 6,
   "metadata": {
    "ExecuteTime": {
     "end_time": "2021-03-17T15:24:00.697331Z",
     "start_time": "2021-03-17T15:24:00.690121Z"
    }
   },
   "outputs": [
    {
     "name": "stdout",
     "output_type": "stream",
     "text": [
      "{'ENTITY#101': 'canon eos 5d mark iii',\n",
      " 'ENTITY#102': 'canon eos 5d mark ii',\n",
      " 'ENTITY#16': 'nikon d90',\n",
      " 'ENTITY#18': 'canon eos 60d',\n",
      " 'ENTITY#19': 'nikon d3300',\n",
      " 'ENTITY#21': 'nikon d5100',\n",
      " 'ENTITY#23': 'canon eos 7d',\n",
      " 'ENTITY#36': 'nikon d3100',\n",
      " 'ENTITY#37': 'nikon d80',\n",
      " 'ENTITY#41': 'nikon d5200',\n",
      " 'ENTITY#44': 'nikon d3200',\n",
      " 'ENTITY#57': 'nikon d800',\n",
      " 'ENTITY#58': 'nikon 1 j1',\n",
      " 'ENTITY#6': 'nikon d5300',\n",
      " 'ENTITY#7': 'olympus omd em5',\n",
      " 'ENTITY#75': 'nikon d7000',\n",
      " 'ENTITY#76': 'nikon d610',\n",
      " 'ENTITY#8': 'nikon 1 j3',\n",
      " 'ENTITY#84': 'nikon d300',\n",
      " 'ENTITY#96': 'canon eos 70d'}\n"
     ]
    }
   ],
   "source": [
    "pprint(gt_dict)"
   ]
  },
  {
   "cell_type": "markdown",
   "metadata": {},
   "source": [
    "## Build noisy ground truth labels"
   ]
  },
  {
   "cell_type": "code",
   "execution_count": 7,
   "metadata": {
    "ExecuteTime": {
     "end_time": "2021-03-17T15:24:01.381988Z",
     "start_time": "2021-03-17T15:24:01.377159Z"
    }
   },
   "outputs": [],
   "source": [
    "gt_dict[\"ENTITY#44\"] = ', '.join([gt_dict[\"ENTITY#44\"], \n",
    "                                 gt_dict[\"ENTITY#7\"], \n",
    "                                 gt_dict[\"ENTITY#102\"]])\n",
    "\n",
    "gt_dict[\"ENTITY#23\"] = gt_dict[\"ENTITY#23\"] + ', ' + gt_dict[\"ENTITY#8\"]\n",
    "gt_dict[\"ENTITY#18\"] = gt_dict[\"ENTITY#18\"] + ', ' + gt_dict[\"ENTITY#84\"]\n",
    "\n",
    "gt_dict[\"ENTITY#41\"] = ', '.join([gt_dict[\"ENTITY#41\"], \n",
    "                                 gt_dict[\"ENTITY#21\"], \n",
    "                                 gt_dict[\"ENTITY#75\"]])\n",
    "\n",
    "gt_dict[\"ENTITY#76\"] = ', '.join([gt_dict[\"ENTITY#76\"], \n",
    "                                 gt_dict[\"ENTITY#58\"], \n",
    "                                 gt_dict[\"ENTITY#19\"]])\n",
    "\n",
    "noisy_labels = [\"ENTITY#44\", \"ENTITY#23\", \"ENTITY#18\", \"ENTITY#41\", \"ENTITY#76\"]"
   ]
  },
  {
   "cell_type": "code",
   "execution_count": 8,
   "metadata": {
    "ExecuteTime": {
     "end_time": "2021-03-17T15:24:02.003603Z",
     "start_time": "2021-03-17T15:24:01.996785Z"
    }
   },
   "outputs": [
    {
     "name": "stdout",
     "output_type": "stream",
     "text": [
      "{'ENTITY#101': 'canon eos 5d mark iii',\n",
      " 'ENTITY#102': 'canon eos 5d mark ii',\n",
      " 'ENTITY#16': 'nikon d90',\n",
      " 'ENTITY#18': 'canon eos 60d, nikon d300',\n",
      " 'ENTITY#19': 'nikon d3300',\n",
      " 'ENTITY#21': 'nikon d5100',\n",
      " 'ENTITY#23': 'canon eos 7d, nikon 1 j3',\n",
      " 'ENTITY#36': 'nikon d3100',\n",
      " 'ENTITY#37': 'nikon d80',\n",
      " 'ENTITY#41': 'nikon d5200, nikon d5100, nikon d7000',\n",
      " 'ENTITY#44': 'nikon d3200, olympus omd em5, canon eos 5d mark ii',\n",
      " 'ENTITY#57': 'nikon d800',\n",
      " 'ENTITY#58': 'nikon 1 j1',\n",
      " 'ENTITY#6': 'nikon d5300',\n",
      " 'ENTITY#7': 'olympus omd em5',\n",
      " 'ENTITY#75': 'nikon d7000',\n",
      " 'ENTITY#76': 'nikon d610, nikon 1 j1, nikon d3300',\n",
      " 'ENTITY#8': 'nikon 1 j3',\n",
      " 'ENTITY#84': 'nikon d300',\n",
      " 'ENTITY#96': 'canon eos 70d'}\n"
     ]
    }
   ],
   "source": [
    "pprint(gt_dict)"
   ]
  },
  {
   "cell_type": "markdown",
   "metadata": {},
   "source": [
    "## Load rankings"
   ]
  },
  {
   "cell_type": "markdown",
   "metadata": {},
   "source": [
    "### LIME on GloVe-based neural network"
   ]
  },
  {
   "cell_type": "code",
   "execution_count": 9,
   "metadata": {
    "ExecuteTime": {
     "end_time": "2021-03-17T15:24:03.401186Z",
     "start_time": "2021-03-17T15:24:03.175607Z"
    }
   },
   "outputs": [],
   "source": [
    "import pandas as pd"
   ]
  },
  {
   "cell_type": "code",
   "execution_count": 10,
   "metadata": {
    "ExecuteTime": {
     "end_time": "2021-03-17T15:24:03.428831Z",
     "start_time": "2021-03-17T15:24:03.425346Z"
    }
   },
   "outputs": [],
   "source": [
    "glove_nn_rank_filename = 'ranking_alaska_nn_noisy.xlsx'\n",
    "glove_nn_rank_filepath = os.path.join(root_dir, data_dir, rank_dir, glove_nn_rank_filename)"
   ]
  },
  {
   "cell_type": "code",
   "execution_count": 11,
   "metadata": {
    "ExecuteTime": {
     "end_time": "2021-03-17T15:24:03.902837Z",
     "start_time": "2021-03-17T15:24:03.740106Z"
    }
   },
   "outputs": [
    {
     "data": {
      "text/html": [
       "<div>\n",
       "<style scoped>\n",
       "    .dataframe tbody tr th:only-of-type {\n",
       "        vertical-align: middle;\n",
       "    }\n",
       "\n",
       "    .dataframe tbody tr th {\n",
       "        vertical-align: top;\n",
       "    }\n",
       "\n",
       "    .dataframe thead th {\n",
       "        text-align: right;\n",
       "    }\n",
       "</style>\n",
       "<table border=\"1\" class=\"dataframe\">\n",
       "  <thead>\n",
       "    <tr style=\"text-align: right;\">\n",
       "      <th></th>\n",
       "      <th>label</th>\n",
       "      <th>term</th>\n",
       "      <th>weight</th>\n",
       "    </tr>\n",
       "  </thead>\n",
       "  <tbody>\n",
       "    <tr>\n",
       "      <th>0</th>\n",
       "      <td>ENTITY#101</td>\n",
       "      <td>5d mark iii</td>\n",
       "      <td>37.501637</td>\n",
       "    </tr>\n",
       "    <tr>\n",
       "      <th>1</th>\n",
       "      <td>ENTITY#101</td>\n",
       "      <td>5d mark</td>\n",
       "      <td>9.793319</td>\n",
       "    </tr>\n",
       "    <tr>\n",
       "      <th>2</th>\n",
       "      <td>ENTITY#101</td>\n",
       "      <td>canon eos</td>\n",
       "      <td>9.270045</td>\n",
       "    </tr>\n",
       "    <tr>\n",
       "      <th>3</th>\n",
       "      <td>ENTITY#101</td>\n",
       "      <td>canon eos 5d mark iii 22 3 mp full frame</td>\n",
       "      <td>3.834493</td>\n",
       "    </tr>\n",
       "    <tr>\n",
       "      <th>4</th>\n",
       "      <td>ENTITY#101</td>\n",
       "      <td>canon eos 5d mark iii body</td>\n",
       "      <td>3.660367</td>\n",
       "    </tr>\n",
       "  </tbody>\n",
       "</table>\n",
       "</div>"
      ],
      "text/plain": [
       "        label                                      term     weight\n",
       "0  ENTITY#101                               5d mark iii  37.501637\n",
       "1  ENTITY#101                                   5d mark   9.793319\n",
       "2  ENTITY#101                                 canon eos   9.270045\n",
       "3  ENTITY#101  canon eos 5d mark iii 22 3 mp full frame   3.834493\n",
       "4  ENTITY#101                canon eos 5d mark iii body   3.660367"
      ]
     },
     "execution_count": 11,
     "metadata": {},
     "output_type": "execute_result"
    }
   ],
   "source": [
    "glove_nn_rank_df = pd.read_excel(glove_nn_rank_filepath, index_col=0)\n",
    "# Replace '_' character with whitespaces\n",
    "glove_nn_rank_df['term'] = glove_nn_rank_df['term'].map(lambda x: x.replace('_', ' '))\n",
    "glove_nn_rank_df['term'] = glove_nn_rank_df['term'].map(lambda x: x.replace('-', ''))\n",
    "glove_nn_rank_df.head()"
   ]
  },
  {
   "cell_type": "code",
   "execution_count": 12,
   "metadata": {
    "ExecuteTime": {
     "end_time": "2021-03-17T15:24:04.329951Z",
     "start_time": "2021-03-17T15:24:04.326841Z"
    }
   },
   "outputs": [
    {
     "data": {
      "text/plain": [
       "(1905, 3)"
      ]
     },
     "execution_count": 12,
     "metadata": {},
     "output_type": "execute_result"
    }
   ],
   "source": [
    "glove_nn_rank_df.shape"
   ]
  },
  {
   "cell_type": "markdown",
   "metadata": {},
   "source": [
    "### LIME on DistilBERT"
   ]
  },
  {
   "cell_type": "code",
   "execution_count": 13,
   "metadata": {
    "ExecuteTime": {
     "end_time": "2021-03-17T15:24:06.644959Z",
     "start_time": "2021-03-17T15:24:06.642148Z"
    }
   },
   "outputs": [],
   "source": [
    "bert_rank_filename = 'ranking_alaska_bert_noisy.xlsx'\n",
    "bert_rank_filepath = os.path.join(root_dir, data_dir, rank_dir, bert_rank_filename)"
   ]
  },
  {
   "cell_type": "code",
   "execution_count": 14,
   "metadata": {
    "ExecuteTime": {
     "end_time": "2021-03-17T15:24:07.138600Z",
     "start_time": "2021-03-17T15:24:07.047591Z"
    }
   },
   "outputs": [
    {
     "data": {
      "text/html": [
       "<div>\n",
       "<style scoped>\n",
       "    .dataframe tbody tr th:only-of-type {\n",
       "        vertical-align: middle;\n",
       "    }\n",
       "\n",
       "    .dataframe tbody tr th {\n",
       "        vertical-align: top;\n",
       "    }\n",
       "\n",
       "    .dataframe thead th {\n",
       "        text-align: right;\n",
       "    }\n",
       "</style>\n",
       "<table border=\"1\" class=\"dataframe\">\n",
       "  <thead>\n",
       "    <tr style=\"text-align: right;\">\n",
       "      <th></th>\n",
       "      <th>label</th>\n",
       "      <th>term</th>\n",
       "      <th>weight</th>\n",
       "    </tr>\n",
       "  </thead>\n",
       "  <tbody>\n",
       "    <tr>\n",
       "      <th>0</th>\n",
       "      <td>ENTITY#101</td>\n",
       "      <td>5d mark iii</td>\n",
       "      <td>36.710231</td>\n",
       "    </tr>\n",
       "    <tr>\n",
       "      <th>1</th>\n",
       "      <td>ENTITY#101</td>\n",
       "      <td>5d mark</td>\n",
       "      <td>10.632592</td>\n",
       "    </tr>\n",
       "    <tr>\n",
       "      <th>2</th>\n",
       "      <td>ENTITY#101</td>\n",
       "      <td>canon eos 5d mark iii 22 3 mp full frame</td>\n",
       "      <td>3.788720</td>\n",
       "    </tr>\n",
       "    <tr>\n",
       "      <th>3</th>\n",
       "      <td>ENTITY#101</td>\n",
       "      <td>canon eos 5d mark iii body</td>\n",
       "      <td>3.580491</td>\n",
       "    </tr>\n",
       "    <tr>\n",
       "      <th>4</th>\n",
       "      <td>ENTITY#101</td>\n",
       "      <td>5d mark iii dslr camera</td>\n",
       "      <td>2.824653</td>\n",
       "    </tr>\n",
       "  </tbody>\n",
       "</table>\n",
       "</div>"
      ],
      "text/plain": [
       "        label                                      term     weight\n",
       "0  ENTITY#101                               5d mark iii  36.710231\n",
       "1  ENTITY#101                                   5d mark  10.632592\n",
       "2  ENTITY#101  canon eos 5d mark iii 22 3 mp full frame   3.788720\n",
       "3  ENTITY#101                canon eos 5d mark iii body   3.580491\n",
       "4  ENTITY#101                   5d mark iii dslr camera   2.824653"
      ]
     },
     "execution_count": 14,
     "metadata": {},
     "output_type": "execute_result"
    }
   ],
   "source": [
    "bert_rank_df = pd.read_excel(bert_rank_filepath, index_col=0)\n",
    "# Replace '_' character with whitespaces\n",
    "bert_rank_df['term'] = bert_rank_df['term'].map(lambda x: x.replace('_', ' '))\n",
    "bert_rank_df['term'] = bert_rank_df['term'].map(lambda x: x.replace('-', ''))\n",
    "bert_rank_df.head()"
   ]
  },
  {
   "cell_type": "code",
   "execution_count": 15,
   "metadata": {
    "ExecuteTime": {
     "end_time": "2021-03-17T15:24:07.589764Z",
     "start_time": "2021-03-17T15:24:07.586297Z"
    }
   },
   "outputs": [
    {
     "data": {
      "text/plain": [
       "(974, 3)"
      ]
     },
     "execution_count": 15,
     "metadata": {},
     "output_type": "execute_result"
    }
   ],
   "source": [
    "bert_rank_df.shape"
   ]
  },
  {
   "cell_type": "markdown",
   "metadata": {},
   "source": [
    "### TF-IDF baseline"
   ]
  },
  {
   "cell_type": "code",
   "execution_count": 16,
   "metadata": {
    "ExecuteTime": {
     "end_time": "2021-03-17T15:24:09.300519Z",
     "start_time": "2021-03-17T15:24:09.297258Z"
    }
   },
   "outputs": [],
   "source": [
    "tfidf_rank_filename = 'ranking_alaska_baseline_noisy.xlsx'\n",
    "tfidf_rank_filepath = os.path.join(root_dir, data_dir, rank_dir, tfidf_rank_filename)"
   ]
  },
  {
   "cell_type": "code",
   "execution_count": 17,
   "metadata": {
    "ExecuteTime": {
     "end_time": "2021-03-17T15:24:11.259821Z",
     "start_time": "2021-03-17T15:24:09.509126Z"
    }
   },
   "outputs": [
    {
     "data": {
      "text/html": [
       "<div>\n",
       "<style scoped>\n",
       "    .dataframe tbody tr th:only-of-type {\n",
       "        vertical-align: middle;\n",
       "    }\n",
       "\n",
       "    .dataframe tbody tr th {\n",
       "        vertical-align: top;\n",
       "    }\n",
       "\n",
       "    .dataframe thead th {\n",
       "        text-align: right;\n",
       "    }\n",
       "</style>\n",
       "<table border=\"1\" class=\"dataframe\">\n",
       "  <thead>\n",
       "    <tr style=\"text-align: right;\">\n",
       "      <th></th>\n",
       "      <th>label</th>\n",
       "      <th>term</th>\n",
       "    </tr>\n",
       "  </thead>\n",
       "  <tbody>\n",
       "    <tr>\n",
       "      <th>0</th>\n",
       "      <td>ENTITY#44</td>\n",
       "      <td>canon eos 5d</td>\n",
       "    </tr>\n",
       "    <tr>\n",
       "      <th>1</th>\n",
       "      <td>ENTITY#44</td>\n",
       "      <td>d3200</td>\n",
       "    </tr>\n",
       "    <tr>\n",
       "      <th>2</th>\n",
       "      <td>ENTITY#44</td>\n",
       "      <td>mark</td>\n",
       "    </tr>\n",
       "    <tr>\n",
       "      <th>3</th>\n",
       "      <td>ENTITY#44</td>\n",
       "      <td>ii</td>\n",
       "    </tr>\n",
       "    <tr>\n",
       "      <th>4</th>\n",
       "      <td>ENTITY#44</td>\n",
       "      <td>nikon d3200</td>\n",
       "    </tr>\n",
       "  </tbody>\n",
       "</table>\n",
       "</div>"
      ],
      "text/plain": [
       "       label          term\n",
       "0  ENTITY#44  canon eos 5d\n",
       "1  ENTITY#44         d3200\n",
       "2  ENTITY#44          mark\n",
       "3  ENTITY#44            ii\n",
       "4  ENTITY#44   nikon d3200"
      ]
     },
     "execution_count": 17,
     "metadata": {},
     "output_type": "execute_result"
    }
   ],
   "source": [
    "tfidf_rank_df = pd.read_excel(tfidf_rank_filepath, index_col=0)\n",
    "tfidf_rank_df['term'] = tfidf_rank_df['term'].map(lambda x: x.replace('_', ' '))\n",
    "tfidf_rank_df['term'] = tfidf_rank_df['term'].map(lambda x: x.replace('-', ''))\n",
    "tfidf_rank_df.head()"
   ]
  },
  {
   "cell_type": "code",
   "execution_count": 18,
   "metadata": {
    "ExecuteTime": {
     "end_time": "2021-03-17T15:24:11.264705Z",
     "start_time": "2021-03-17T15:24:11.261548Z"
    }
   },
   "outputs": [
    {
     "data": {
      "text/plain": [
       "(33216, 2)"
      ]
     },
     "execution_count": 18,
     "metadata": {},
     "output_type": "execute_result"
    }
   ],
   "source": [
    "tfidf_rank_df.shape"
   ]
  },
  {
   "cell_type": "markdown",
   "metadata": {},
   "source": [
    "### BART baseline"
   ]
  },
  {
   "cell_type": "markdown",
   "metadata": {},
   "source": [
    "Load summaries"
   ]
  },
  {
   "cell_type": "code",
   "execution_count": 19,
   "metadata": {
    "ExecuteTime": {
     "end_time": "2021-03-17T15:24:11.268407Z",
     "start_time": "2021-03-17T15:24:11.266157Z"
    }
   },
   "outputs": [],
   "source": [
    "summaries_filename = 'chunk_summary_alaska_noisy.xlsx'\n",
    "summaries_filepath = os.path.join(root_dir, data_dir, rank_dir, summaries_filename)"
   ]
  },
  {
   "cell_type": "code",
   "execution_count": 20,
   "metadata": {
    "ExecuteTime": {
     "end_time": "2021-03-17T15:24:11.280813Z",
     "start_time": "2021-03-17T15:24:11.269674Z"
    }
   },
   "outputs": [
    {
     "data": {
      "text/html": [
       "<div>\n",
       "<style scoped>\n",
       "    .dataframe tbody tr th:only-of-type {\n",
       "        vertical-align: middle;\n",
       "    }\n",
       "\n",
       "    .dataframe tbody tr th {\n",
       "        vertical-align: top;\n",
       "    }\n",
       "\n",
       "    .dataframe thead th {\n",
       "        text-align: right;\n",
       "    }\n",
       "</style>\n",
       "<table border=\"1\" class=\"dataframe\">\n",
       "  <thead>\n",
       "    <tr style=\"text-align: right;\">\n",
       "      <th></th>\n",
       "      <th>summary</th>\n",
       "    </tr>\n",
       "    <tr>\n",
       "      <th>entity</th>\n",
       "      <th></th>\n",
       "    </tr>\n",
       "  </thead>\n",
       "  <tbody>\n",
       "    <tr>\n",
       "      <th>ENTITY#44</th>\n",
       "      <td>nikon_d3200_digital_slr_camera 24_2_megapixels...</td>\n",
       "    </tr>\n",
       "    <tr>\n",
       "      <th>ENTITY#23</th>\n",
       "      <td>ebay_canon_eos_7d sale 734 39. camera 28_135mm...</td>\n",
       "    </tr>\n",
       "    <tr>\n",
       "      <th>ENTITY#18</th>\n",
       "      <td>camerafarm_australia canon eos 60d 18 1x optic...</td>\n",
       "    </tr>\n",
       "    <tr>\n",
       "      <th>ENTITY#36</th>\n",
       "      <td>ebay_nikon_d3100 18-55/3_5-5_6_vr 55-300/4 5 5...</td>\n",
       "    </tr>\n",
       "    <tr>\n",
       "      <th>ENTITY#41</th>\n",
       "      <td>ebay buy nikon_d5200_digital_slr_camera black ...</td>\n",
       "    </tr>\n",
       "  </tbody>\n",
       "</table>\n",
       "</div>"
      ],
      "text/plain": [
       "                                                     summary\n",
       "entity                                                      \n",
       "ENTITY#44  nikon_d3200_digital_slr_camera 24_2_megapixels...\n",
       "ENTITY#23  ebay_canon_eos_7d sale 734 39. camera 28_135mm...\n",
       "ENTITY#18  camerafarm_australia canon eos 60d 18 1x optic...\n",
       "ENTITY#36  ebay_nikon_d3100 18-55/3_5-5_6_vr 55-300/4 5 5...\n",
       "ENTITY#41  ebay buy nikon_d5200_digital_slr_camera black ..."
      ]
     },
     "execution_count": 20,
     "metadata": {},
     "output_type": "execute_result"
    }
   ],
   "source": [
    "summaries_df = pd.read_excel(summaries_filepath, index_col=0)\n",
    "summaries_df.head()"
   ]
  },
  {
   "cell_type": "markdown",
   "metadata": {},
   "source": [
    "Rank terms based on their position"
   ]
  },
  {
   "cell_type": "code",
   "execution_count": 21,
   "metadata": {
    "ExecuteTime": {
     "end_time": "2021-03-17T15:24:11.645224Z",
     "start_time": "2021-03-17T15:24:11.641971Z"
    }
   },
   "outputs": [],
   "source": [
    "summary_rank_list = []"
   ]
  },
  {
   "cell_type": "code",
   "execution_count": 22,
   "metadata": {
    "ExecuteTime": {
     "end_time": "2021-03-17T15:24:12.193853Z",
     "start_time": "2021-03-17T15:24:12.188745Z"
    }
   },
   "outputs": [],
   "source": [
    "for idx, row in summaries_df.iterrows():\n",
    "    summary = row['summary']\n",
    "    for term in summary.split():\n",
    "        entry = (idx, term)\n",
    "        summary_rank_list.append(entry)"
   ]
  },
  {
   "cell_type": "code",
   "execution_count": 23,
   "metadata": {
    "ExecuteTime": {
     "end_time": "2021-03-17T15:24:12.486302Z",
     "start_time": "2021-03-17T15:24:12.469295Z"
    }
   },
   "outputs": [
    {
     "data": {
      "text/html": [
       "<div>\n",
       "<style scoped>\n",
       "    .dataframe tbody tr th:only-of-type {\n",
       "        vertical-align: middle;\n",
       "    }\n",
       "\n",
       "    .dataframe tbody tr th {\n",
       "        vertical-align: top;\n",
       "    }\n",
       "\n",
       "    .dataframe thead th {\n",
       "        text-align: right;\n",
       "    }\n",
       "</style>\n",
       "<table border=\"1\" class=\"dataframe\">\n",
       "  <thead>\n",
       "    <tr style=\"text-align: right;\">\n",
       "      <th></th>\n",
       "      <th>label</th>\n",
       "      <th>term</th>\n",
       "    </tr>\n",
       "  </thead>\n",
       "  <tbody>\n",
       "    <tr>\n",
       "      <th>0</th>\n",
       "      <td>ENTITY#44</td>\n",
       "      <td>nikon d3200 digital slr camera</td>\n",
       "    </tr>\n",
       "    <tr>\n",
       "      <th>1</th>\n",
       "      <td>ENTITY#44</td>\n",
       "      <td>24 2 megapixels</td>\n",
       "    </tr>\n",
       "    <tr>\n",
       "      <th>2</th>\n",
       "      <td>ENTITY#44</td>\n",
       "      <td>less</td>\n",
       "    </tr>\n",
       "    <tr>\n",
       "      <th>3</th>\n",
       "      <td>ENTITY#44</td>\n",
       "      <td>walmart</td>\n",
       "    </tr>\n",
       "    <tr>\n",
       "      <th>4</th>\n",
       "      <td>ENTITY#44</td>\n",
       "      <td>com</td>\n",
       "    </tr>\n",
       "  </tbody>\n",
       "</table>\n",
       "</div>"
      ],
      "text/plain": [
       "       label                            term\n",
       "0  ENTITY#44  nikon d3200 digital slr camera\n",
       "1  ENTITY#44                 24 2 megapixels\n",
       "2  ENTITY#44                            less\n",
       "3  ENTITY#44                         walmart\n",
       "4  ENTITY#44                             com"
      ]
     },
     "execution_count": 23,
     "metadata": {},
     "output_type": "execute_result"
    }
   ],
   "source": [
    "summary_rank_df = pd.DataFrame(summary_rank_list, columns=['label', 'term'])\n",
    "summary_rank_df['term'] = summary_rank_df['term'].map(lambda x: x.replace('_', ' '))\n",
    "summary_rank_df['term'] = summary_rank_df['term'].map(lambda x: x.replace('-', ''))\n",
    "summary_rank_df.head()"
   ]
  },
  {
   "cell_type": "code",
   "execution_count": 24,
   "metadata": {
    "ExecuteTime": {
     "end_time": "2021-03-17T15:24:13.004246Z",
     "start_time": "2021-03-17T15:24:13.000286Z"
    }
   },
   "outputs": [
    {
     "data": {
      "text/plain": [
       "(176, 2)"
      ]
     },
     "execution_count": 24,
     "metadata": {},
     "output_type": "execute_result"
    }
   ],
   "source": [
    "summary_rank_df.shape"
   ]
  },
  {
   "cell_type": "markdown",
   "metadata": {},
   "source": [
    "Group by labels"
   ]
  },
  {
   "cell_type": "code",
   "execution_count": 25,
   "metadata": {
    "ExecuteTime": {
     "end_time": "2021-03-17T15:24:14.495765Z",
     "start_time": "2021-03-17T15:24:14.489976Z"
    }
   },
   "outputs": [],
   "source": [
    "grouped_tfidf_df = tfidf_rank_df.groupby('label')\n",
    "grouped_summary_df = summary_rank_df.groupby('label')\n",
    "grouped_glove_df = glove_nn_rank_df.groupby('label')\n",
    "grouped_bert_df = bert_rank_df.groupby('label')"
   ]
  },
  {
   "cell_type": "markdown",
   "metadata": {},
   "source": [
    "---"
   ]
  },
  {
   "cell_type": "markdown",
   "metadata": {},
   "source": [
    "## Write top N terms to file"
   ]
  },
  {
   "cell_type": "code",
   "execution_count": 26,
   "metadata": {
    "ExecuteTime": {
     "end_time": "2021-03-17T15:24:16.166196Z",
     "start_time": "2021-03-17T15:24:16.163416Z"
    }
   },
   "outputs": [],
   "source": [
    "filename = 'top_n_alaska_noisy.xlsx'\n",
    "filepath = os.path.join(root_dir, data_dir, rank_dir, filename)"
   ]
  },
  {
   "cell_type": "code",
   "execution_count": 27,
   "metadata": {
    "ExecuteTime": {
     "end_time": "2021-03-17T15:24:16.848552Z",
     "start_time": "2021-03-17T15:24:16.846319Z"
    }
   },
   "outputs": [],
   "source": [
    "top_n = 30"
   ]
  },
  {
   "cell_type": "code",
   "execution_count": 28,
   "metadata": {
    "ExecuteTime": {
     "end_time": "2021-03-17T15:24:22.309330Z",
     "start_time": "2021-03-17T15:24:22.055340Z"
    }
   },
   "outputs": [],
   "source": [
    "with pd.ExcelWriter(filepath) as writer:\n",
    "    for group_name in noisy_labels:\n",
    "        tfidf_terms = grouped_tfidf_df.get_group(group_name)['term'][:top_n].values\n",
    "        summary_terms = grouped_summary_df.get_group(group_name)['term'][:top_n].values\n",
    "        glove_terms = grouped_glove_df.get_group(group_name)['term'][:top_n].values\n",
    "        bert_terms = grouped_bert_df.get_group(group_name)['term'][:top_n].values\n",
    "        target = gt_dict[group_name]\n",
    "\n",
    "        df = pd.DataFrame({'tfidf_term': pd.Series(tfidf_terms), \n",
    "                           'summary_term': pd.Series(summary_terms), \n",
    "                           'glove_term': pd.Series(glove_terms), \n",
    "                           'bert_term': pd.Series(bert_terms),\n",
    "                           'target': target})\n",
    "        df.to_excel(writer,\n",
    "                    sheet_name=group_name, \n",
    "                    index=False)   "
   ]
  },
  {
   "cell_type": "markdown",
   "metadata": {},
   "source": [
    "---"
   ]
  }
 ],
 "metadata": {
  "kernelspec": {
   "display_name": "Python 3",
   "language": "python",
   "name": "python3"
  },
  "language_info": {
   "codemirror_mode": {
    "name": "ipython",
    "version": 3
   },
   "file_extension": ".py",
   "mimetype": "text/x-python",
   "name": "python",
   "nbconvert_exporter": "python",
   "pygments_lexer": "ipython3",
   "version": "3.8.1"
  },
  "toc": {
   "base_numbering": 1,
   "nav_menu": {},
   "number_sections": true,
   "sideBar": true,
   "skip_h1_title": false,
   "title_cell": "Table of Contents",
   "title_sidebar": "Contents",
   "toc_cell": false,
   "toc_position": {},
   "toc_section_display": true,
   "toc_window_display": false
  }
 },
 "nbformat": 4,
 "nbformat_minor": 4
}
