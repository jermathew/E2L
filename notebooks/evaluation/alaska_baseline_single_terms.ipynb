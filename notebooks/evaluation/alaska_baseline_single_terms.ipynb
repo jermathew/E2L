{
 "cells": [
  {
   "cell_type": "code",
   "execution_count": 1,
   "metadata": {
    "ExecuteTime": {
     "end_time": "2020-11-25T09:58:36.143964Z",
     "start_time": "2020-11-25T09:58:35.788798Z"
    }
   },
   "outputs": [],
   "source": [
    "import os\n",
    "import numpy as np\n",
    "import pandas as pd\n",
    "from tqdm.notebook import tqdm"
   ]
  },
  {
   "cell_type": "code",
   "execution_count": 2,
   "metadata": {
    "ExecuteTime": {
     "end_time": "2020-11-25T09:58:36.744021Z",
     "start_time": "2020-11-25T09:58:36.737996Z"
    }
   },
   "outputs": [],
   "source": [
    "root_dir = '../..'\n",
    "data_dir = 'data'\n",
    "corpus_dir = 'corpus'\n",
    "terms_dir = 'terms'\n",
    "filename = 'alaska_corpus.xlsx'\n",
    "filepath = os.path.join(root_dir, data_dir, corpus_dir, filename)"
   ]
  },
  {
   "cell_type": "code",
   "execution_count": 3,
   "metadata": {
    "ExecuteTime": {
     "end_time": "2020-11-25T09:58:37.772561Z",
     "start_time": "2020-11-25T09:58:37.769016Z"
    }
   },
   "outputs": [],
   "source": [
    "# data = '../../data/alaska_corpus.xlsx'"
   ]
  },
  {
   "cell_type": "code",
   "execution_count": 4,
   "metadata": {
    "ExecuteTime": {
     "end_time": "2020-11-25T09:58:39.018602Z",
     "start_time": "2020-11-25T09:58:38.729942Z"
    }
   },
   "outputs": [],
   "source": [
    "#A = pd.read_excel(data, index_col=0)\n",
    "A = pd.read_excel(filepath, index_col=0)"
   ]
  },
  {
   "cell_type": "code",
   "execution_count": 5,
   "metadata": {
    "ExecuteTime": {
     "end_time": "2020-11-25T09:58:39.882364Z",
     "start_time": "2020-11-25T09:58:39.854323Z"
    }
   },
   "outputs": [
    {
     "data": {
      "text/html": [
       "<div>\n",
       "<style scoped>\n",
       "    .dataframe tbody tr th:only-of-type {\n",
       "        vertical-align: middle;\n",
       "    }\n",
       "\n",
       "    .dataframe tbody tr th {\n",
       "        vertical-align: top;\n",
       "    }\n",
       "\n",
       "    .dataframe thead th {\n",
       "        text-align: right;\n",
       "    }\n",
       "</style>\n",
       "<table border=\"1\" class=\"dataframe\">\n",
       "  <thead>\n",
       "    <tr style=\"text-align: right;\">\n",
       "      <th></th>\n",
       "      <th>doc_id</th>\n",
       "      <th>chunk_doc</th>\n",
       "      <th>label</th>\n",
       "    </tr>\n",
       "  </thead>\n",
       "  <tbody>\n",
       "    <tr>\n",
       "      <th>0</th>\n",
       "      <td>0</td>\n",
       "      <td>nikon_d3200_dslr_camera 18_55mm 55_200mm_lense...</td>\n",
       "      <td>ENTITY#44</td>\n",
       "    </tr>\n",
       "    <tr>\n",
       "      <th>1</th>\n",
       "      <td>1</td>\n",
       "      <td>nikon_d3200 18-55/3 5-5 6 55-200/4 0-5 6 new_z...</td>\n",
       "      <td>ENTITY#44</td>\n",
       "    </tr>\n",
       "    <tr>\n",
       "      <th>2</th>\n",
       "      <td>2</td>\n",
       "      <td>nikon_d3200 digital_dslr_camera w 18 55mm 55 2...</td>\n",
       "      <td>ENTITY#44</td>\n",
       "    </tr>\n",
       "    <tr>\n",
       "      <th>3</th>\n",
       "      <td>3</td>\n",
       "      <td>nikon_d3200_digital_dslr_camera 24 1 w 18 55mm...</td>\n",
       "      <td>ENTITY#44</td>\n",
       "    </tr>\n",
       "    <tr>\n",
       "      <th>4</th>\n",
       "      <td>4</td>\n",
       "      <td>nikon_d3200 body_price india bangalore hyderab...</td>\n",
       "      <td>ENTITY#44</td>\n",
       "    </tr>\n",
       "  </tbody>\n",
       "</table>\n",
       "</div>"
      ],
      "text/plain": [
       "   doc_id                                          chunk_doc      label\n",
       "0       0  nikon_d3200_dslr_camera 18_55mm 55_200mm_lense...  ENTITY#44\n",
       "1       1  nikon_d3200 18-55/3 5-5 6 55-200/4 0-5 6 new_z...  ENTITY#44\n",
       "2       2  nikon_d3200 digital_dslr_camera w 18 55mm 55 2...  ENTITY#44\n",
       "3       3  nikon_d3200_digital_dslr_camera 24 1 w 18 55mm...  ENTITY#44\n",
       "4       4  nikon_d3200 body_price india bangalore hyderab...  ENTITY#44"
      ]
     },
     "execution_count": 5,
     "metadata": {},
     "output_type": "execute_result"
    }
   ],
   "source": [
    "A.head()"
   ]
  },
  {
   "cell_type": "markdown",
   "metadata": {},
   "source": [
    "Split noun chunks into single terms"
   ]
  },
  {
   "cell_type": "code",
   "execution_count": 6,
   "metadata": {
    "ExecuteTime": {
     "end_time": "2020-11-25T09:58:43.693456Z",
     "start_time": "2020-11-25T09:58:43.672805Z"
    }
   },
   "outputs": [
    {
     "data": {
      "text/html": [
       "<div>\n",
       "<style scoped>\n",
       "    .dataframe tbody tr th:only-of-type {\n",
       "        vertical-align: middle;\n",
       "    }\n",
       "\n",
       "    .dataframe tbody tr th {\n",
       "        vertical-align: top;\n",
       "    }\n",
       "\n",
       "    .dataframe thead th {\n",
       "        text-align: right;\n",
       "    }\n",
       "</style>\n",
       "<table border=\"1\" class=\"dataframe\">\n",
       "  <thead>\n",
       "    <tr style=\"text-align: right;\">\n",
       "      <th></th>\n",
       "      <th>doc_id</th>\n",
       "      <th>chunk_doc</th>\n",
       "      <th>label</th>\n",
       "    </tr>\n",
       "  </thead>\n",
       "  <tbody>\n",
       "    <tr>\n",
       "      <th>0</th>\n",
       "      <td>0</td>\n",
       "      <td>nikon d3200 dslr camera 18 55mm 55 200mm lense...</td>\n",
       "      <td>ENTITY#44</td>\n",
       "    </tr>\n",
       "    <tr>\n",
       "      <th>1</th>\n",
       "      <td>1</td>\n",
       "      <td>nikon d3200 18-55/3 5-5 6 55-200/4 0-5 6 new z...</td>\n",
       "      <td>ENTITY#44</td>\n",
       "    </tr>\n",
       "    <tr>\n",
       "      <th>2</th>\n",
       "      <td>2</td>\n",
       "      <td>nikon d3200 digital dslr camera w 18 55mm 55 2...</td>\n",
       "      <td>ENTITY#44</td>\n",
       "    </tr>\n",
       "    <tr>\n",
       "      <th>3</th>\n",
       "      <td>3</td>\n",
       "      <td>nikon d3200 digital dslr camera 24 1 w 18 55mm...</td>\n",
       "      <td>ENTITY#44</td>\n",
       "    </tr>\n",
       "    <tr>\n",
       "      <th>4</th>\n",
       "      <td>4</td>\n",
       "      <td>nikon d3200 body price india bangalore hyderab...</td>\n",
       "      <td>ENTITY#44</td>\n",
       "    </tr>\n",
       "  </tbody>\n",
       "</table>\n",
       "</div>"
      ],
      "text/plain": [
       "   doc_id                                          chunk_doc      label\n",
       "0       0  nikon d3200 dslr camera 18 55mm 55 200mm lense...  ENTITY#44\n",
       "1       1  nikon d3200 18-55/3 5-5 6 55-200/4 0-5 6 new z...  ENTITY#44\n",
       "2       2  nikon d3200 digital dslr camera w 18 55mm 55 2...  ENTITY#44\n",
       "3       3  nikon d3200 digital dslr camera 24 1 w 18 55mm...  ENTITY#44\n",
       "4       4  nikon d3200 body price india bangalore hyderab...  ENTITY#44"
      ]
     },
     "execution_count": 6,
     "metadata": {},
     "output_type": "execute_result"
    }
   ],
   "source": [
    "A['chunk_doc'] = A['chunk_doc'].map(lambda x: ' '.join(x.split('_')))\n",
    "A.head()"
   ]
  },
  {
   "cell_type": "code",
   "execution_count": 7,
   "metadata": {
    "ExecuteTime": {
     "end_time": "2020-11-25T09:58:46.783115Z",
     "start_time": "2020-11-25T09:58:46.297020Z"
    }
   },
   "outputs": [],
   "source": [
    "from collections import defaultdict\n",
    "from sklearn.feature_extraction.text import TfidfVectorizer"
   ]
  },
  {
   "cell_type": "code",
   "execution_count": 8,
   "metadata": {
    "ExecuteTime": {
     "end_time": "2020-11-25T09:58:48.131509Z",
     "start_time": "2020-11-25T09:58:47.816017Z"
    }
   },
   "outputs": [],
   "source": [
    "pseudo_docs = defaultdict(lambda: \"\")\n",
    "for i, doc in A.iterrows():\n",
    "    pseudo_docs[doc.label] += \" \" + doc.chunk_doc"
   ]
  },
  {
   "cell_type": "code",
   "execution_count": 9,
   "metadata": {
    "ExecuteTime": {
     "end_time": "2020-11-25T09:58:53.027063Z",
     "start_time": "2020-11-25T09:58:53.022312Z"
    }
   },
   "outputs": [],
   "source": [
    "entities = list(pseudo_docs.keys())\n",
    "pdocs = [pseudo_docs[k] for k in entities]"
   ]
  },
  {
   "cell_type": "code",
   "execution_count": 10,
   "metadata": {
    "ExecuteTime": {
     "end_time": "2020-11-25T09:58:53.756854Z",
     "start_time": "2020-11-25T09:58:53.706760Z"
    }
   },
   "outputs": [],
   "source": [
    "vectorizer = TfidfVectorizer(min_df=1)\n",
    "X = vectorizer.fit_transform(pdocs).toarray()"
   ]
  },
  {
   "cell_type": "code",
   "execution_count": 11,
   "metadata": {
    "ExecuteTime": {
     "end_time": "2020-11-25T09:58:54.922844Z",
     "start_time": "2020-11-25T09:58:54.845648Z"
    }
   },
   "outputs": [],
   "source": [
    "ranking = {}\n",
    "features = vectorizer.get_feature_names()\n",
    "for i, entity in enumerate(entities):\n",
    "    rank = [(features[i], x) for i, x in sorted(enumerate(X[i]), key=lambda z: -z[1])]\n",
    "    ranking[entity] = rank"
   ]
  },
  {
   "cell_type": "code",
   "execution_count": 12,
   "metadata": {
    "ExecuteTime": {
     "end_time": "2020-11-25T09:58:55.756620Z",
     "start_time": "2020-11-25T09:58:55.714210Z"
    }
   },
   "outputs": [
    {
     "name": "stdout",
     "output_type": "stream",
     "text": [
      "ENTITY#44\n",
      "d3200 0.78\n",
      "nikon 0.33\n",
      "18 0.21\n",
      "camera 0.16\n",
      "digital 0.16\n",
      "\n",
      "ENTITY#23\n",
      "7d 0.59\n",
      "eos 0.44\n",
      "canon 0.44\n",
      "013803117493 0.33\n",
      "18 0.19\n",
      "\n",
      "ENTITY#18\n",
      "60d 0.65\n",
      "canon 0.43\n",
      "eos 0.42\n",
      "013803129052 0.22\n",
      "18 0.21\n",
      "\n",
      "ENTITY#36\n",
      "d3100 0.74\n",
      "14 0.33\n",
      "nikon 0.31\n",
      "18 0.18\n",
      "camera 0.17\n",
      "\n",
      "ENTITY#41\n",
      "d5200 0.78\n",
      "nikon 0.35\n",
      "18 0.22\n",
      "vr 0.16\n",
      "camera 0.16\n",
      "\n",
      "ENTITY#21\n",
      "d5100 0.72\n",
      "018208254781 0.31\n",
      "nikon 0.31\n",
      "16 0.27\n",
      "18 0.18\n",
      "\n",
      "ENTITY#75\n",
      "d7000 0.76\n",
      "nikon 0.32\n",
      "018208254682 0.31\n",
      "16 0.25\n",
      "digital 0.16\n",
      "\n",
      "ENTITY#96\n",
      "70d 0.64\n",
      "canon 0.42\n",
      "eos 0.41\n",
      "stm 0.2\n",
      "20 0.17\n",
      "\n",
      "ENTITY#6\n",
      "d5300 0.77\n",
      "nikon 0.34\n",
      "018208015191 0.24\n",
      "18 0.2\n",
      "camera 0.16\n",
      "\n",
      "ENTITY#101\n",
      "5d 0.5\n",
      "mark 0.44\n",
      "iii 0.41\n",
      "eos 0.37\n",
      "canon 0.37\n",
      "\n",
      "ENTITY#102\n",
      "5d 0.45\n",
      "mark 0.41\n",
      "013803105384 0.39\n",
      "21 0.36\n",
      "canon 0.33\n",
      "\n",
      "ENTITY#16\n",
      "d90 0.7\n",
      "12 0.37\n",
      "018208254460 0.31\n",
      "nikon 0.29\n",
      "camera 0.17\n",
      "\n",
      "ENTITY#57\n",
      "d800 0.58\n",
      "018208254804 0.5\n",
      "36 0.43\n",
      "nikon 0.27\n",
      "camera 0.18\n",
      "\n",
      "ENTITY#76\n",
      "d610 0.68\n",
      "018208015405 0.37\n",
      "nikon 0.33\n",
      "24 0.24\n",
      "fx 0.2\n",
      "\n",
      "ENTITY#19\n",
      "d3300 0.77\n",
      "nikon 0.34\n",
      "018208015320 0.23\n",
      "18 0.19\n",
      "vr 0.15\n",
      "\n",
      "ENTITY#58\n",
      "j1 0.62\n",
      "10 0.46\n",
      "white 0.31\n",
      "30mm 0.3\n",
      "nikon 0.25\n",
      "\n",
      "ENTITY#37\n",
      "d80 0.7\n",
      "018208254125 0.37\n",
      "10 0.31\n",
      "nikon 0.27\n",
      "ebay 0.19\n",
      "\n",
      "ENTITY#84\n",
      "d300 0.71\n",
      "12 0.45\n",
      "nikon 0.3\n",
      "ebay 0.2\n",
      "camera 0.18\n",
      "\n",
      "ENTITY#8\n",
      "j3 0.63\n",
      "30mm 0.3\n",
      "14 0.3\n",
      "nikon 0.26\n",
      "10 0.26\n",
      "\n",
      "ENTITY#7\n",
      "olympus 0.57\n",
      "om 0.55\n",
      "m5 0.53\n",
      "silver 0.11\n",
      "12 0.09\n",
      "\n"
     ]
    }
   ],
   "source": [
    "for entity in entities:\n",
    "    print(entity)\n",
    "    for word, w in ranking[entity][:5]:\n",
    "        print(word, round(w, 2))\n",
    "    print()"
   ]
  },
  {
   "cell_type": "markdown",
   "metadata": {},
   "source": [
    "---\n",
    "## Save ranking to a file"
   ]
  },
  {
   "cell_type": "code",
   "execution_count": 13,
   "metadata": {
    "ExecuteTime": {
     "end_time": "2020-11-25T09:59:10.416354Z",
     "start_time": "2020-11-25T09:59:10.380364Z"
    }
   },
   "outputs": [],
   "source": [
    "df_list = []\n",
    "for entity, terms_tfidf in ranking.items():\n",
    "    df_list.append(pd.DataFrame({'label': [entity]*len(terms_tfidf), \n",
    "                                 'term': [term for term, _ in terms_tfidf]}))"
   ]
  },
  {
   "cell_type": "code",
   "execution_count": 14,
   "metadata": {
    "ExecuteTime": {
     "end_time": "2020-11-25T09:59:12.531041Z",
     "start_time": "2020-11-25T09:59:12.508868Z"
    }
   },
   "outputs": [
    {
     "data": {
      "text/html": [
       "<div>\n",
       "<style scoped>\n",
       "    .dataframe tbody tr th:only-of-type {\n",
       "        vertical-align: middle;\n",
       "    }\n",
       "\n",
       "    .dataframe tbody tr th {\n",
       "        vertical-align: top;\n",
       "    }\n",
       "\n",
       "    .dataframe thead th {\n",
       "        text-align: right;\n",
       "    }\n",
       "</style>\n",
       "<table border=\"1\" class=\"dataframe\">\n",
       "  <thead>\n",
       "    <tr style=\"text-align: right;\">\n",
       "      <th></th>\n",
       "      <th>label</th>\n",
       "      <th>term</th>\n",
       "    </tr>\n",
       "  </thead>\n",
       "  <tbody>\n",
       "    <tr>\n",
       "      <th>0</th>\n",
       "      <td>ENTITY#44</td>\n",
       "      <td>d3200</td>\n",
       "    </tr>\n",
       "    <tr>\n",
       "      <th>1</th>\n",
       "      <td>ENTITY#44</td>\n",
       "      <td>nikon</td>\n",
       "    </tr>\n",
       "    <tr>\n",
       "      <th>2</th>\n",
       "      <td>ENTITY#44</td>\n",
       "      <td>18</td>\n",
       "    </tr>\n",
       "    <tr>\n",
       "      <th>3</th>\n",
       "      <td>ENTITY#44</td>\n",
       "      <td>camera</td>\n",
       "    </tr>\n",
       "    <tr>\n",
       "      <th>4</th>\n",
       "      <td>ENTITY#44</td>\n",
       "      <td>digital</td>\n",
       "    </tr>\n",
       "  </tbody>\n",
       "</table>\n",
       "</div>"
      ],
      "text/plain": [
       "       label     term\n",
       "0  ENTITY#44    d3200\n",
       "1  ENTITY#44    nikon\n",
       "2  ENTITY#44       18\n",
       "3  ENTITY#44   camera\n",
       "4  ENTITY#44  digital"
      ]
     },
     "execution_count": 14,
     "metadata": {},
     "output_type": "execute_result"
    }
   ],
   "source": [
    "df = pd.concat(df_list, axis=0)\n",
    "df.head()"
   ]
  },
  {
   "cell_type": "code",
   "execution_count": 15,
   "metadata": {
    "ExecuteTime": {
     "end_time": "2020-11-25T09:59:15.668801Z",
     "start_time": "2020-11-25T09:59:15.662657Z"
    }
   },
   "outputs": [
    {
     "data": {
      "text/plain": [
       "(21760, 2)"
      ]
     },
     "execution_count": 15,
     "metadata": {},
     "output_type": "execute_result"
    }
   ],
   "source": [
    "df.shape"
   ]
  },
  {
   "cell_type": "code",
   "execution_count": 16,
   "metadata": {
    "ExecuteTime": {
     "end_time": "2020-11-25T09:59:18.559917Z",
     "start_time": "2020-11-25T09:59:18.555423Z"
    }
   },
   "outputs": [],
   "source": [
    "ranking_filename = 'ranking_alaska_baseline_single_terms.xlsx'\n",
    "ranking_filepath = os.path.join(root_dir, data_dir, terms_dir, ranking_filename)"
   ]
  },
  {
   "cell_type": "code",
   "execution_count": 17,
   "metadata": {
    "ExecuteTime": {
     "end_time": "2020-11-25T09:59:19.455243Z",
     "start_time": "2020-11-25T09:59:19.449503Z"
    }
   },
   "outputs": [
    {
     "data": {
      "text/plain": [
       "'../../data/terms/ranking_alaska_baseline_single_terms.xlsx'"
      ]
     },
     "execution_count": 17,
     "metadata": {},
     "output_type": "execute_result"
    }
   ],
   "source": [
    "ranking_filepath"
   ]
  },
  {
   "cell_type": "code",
   "execution_count": 18,
   "metadata": {
    "ExecuteTime": {
     "end_time": "2020-11-25T09:59:23.644834Z",
     "start_time": "2020-11-25T09:59:20.749872Z"
    }
   },
   "outputs": [],
   "source": [
    "df.to_excel(ranking_filepath)"
   ]
  },
  {
   "cell_type": "markdown",
   "metadata": {},
   "source": [
    "---"
   ]
  }
 ],
 "metadata": {
  "kernelspec": {
   "display_name": "Python 3",
   "language": "python",
   "name": "python3"
  },
  "language_info": {
   "codemirror_mode": {
    "name": "ipython",
    "version": 3
   },
   "file_extension": ".py",
   "mimetype": "text/x-python",
   "name": "python",
   "nbconvert_exporter": "python",
   "pygments_lexer": "ipython3",
   "version": "3.8.1"
  },
  "toc": {
   "base_numbering": 1,
   "nav_menu": {},
   "number_sections": true,
   "sideBar": true,
   "skip_h1_title": true,
   "title_cell": "Table of Contents",
   "title_sidebar": "Contents",
   "toc_cell": false,
   "toc_position": {},
   "toc_section_display": true,
   "toc_window_display": false
  }
 },
 "nbformat": 4,
 "nbformat_minor": 2
}
