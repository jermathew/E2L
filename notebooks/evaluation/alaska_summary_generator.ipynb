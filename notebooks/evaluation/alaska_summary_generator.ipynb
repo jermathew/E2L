{
 "cells": [
  {
   "cell_type": "markdown",
   "metadata": {},
   "source": [
    "# Summary generator"
   ]
  },
  {
   "cell_type": "markdown",
   "metadata": {},
   "source": [
    "## Load the data"
   ]
  },
  {
   "cell_type": "code",
   "execution_count": 1,
   "metadata": {
    "ExecuteTime": {
     "end_time": "2020-12-03T10:38:57.696486Z",
     "start_time": "2020-12-03T10:38:57.691385Z"
    }
   },
   "outputs": [],
   "source": [
    "root_dir = '../../'\n",
    "src_dir = 'src'\n",
    "data_dir = 'data/corpus'\n",
    "models_dir = 'data/models'"
   ]
  },
  {
   "cell_type": "code",
   "execution_count": 2,
   "metadata": {
    "ExecuteTime": {
     "end_time": "2020-12-03T10:38:58.475514Z",
     "start_time": "2020-12-03T10:38:58.472303Z"
    }
   },
   "outputs": [],
   "source": [
    "import os\n",
    "import sys"
   ]
  },
  {
   "cell_type": "code",
   "execution_count": 3,
   "metadata": {
    "ExecuteTime": {
     "end_time": "2020-12-03T10:38:58.935488Z",
     "start_time": "2020-12-03T10:38:58.932445Z"
    }
   },
   "outputs": [],
   "source": [
    "sys.path.append(os.path.join(root_dir, src_dir))"
   ]
  },
  {
   "cell_type": "code",
   "execution_count": 4,
   "metadata": {
    "ExecuteTime": {
     "end_time": "2020-12-03T10:38:59.299485Z",
     "start_time": "2020-12-03T10:38:59.296027Z"
    }
   },
   "outputs": [],
   "source": [
    "corpus_filename = 'alaska_corpus.json'"
   ]
  },
  {
   "cell_type": "code",
   "execution_count": 5,
   "metadata": {
    "ExecuteTime": {
     "end_time": "2020-12-03T10:39:00.774148Z",
     "start_time": "2020-12-03T10:38:59.605133Z"
    }
   },
   "outputs": [],
   "source": [
    "from training import TrainingCorpus"
   ]
  },
  {
   "cell_type": "code",
   "execution_count": 6,
   "metadata": {
    "ExecuteTime": {
     "end_time": "2020-12-03T10:39:02.960952Z",
     "start_time": "2020-12-03T10:39:02.936924Z"
    }
   },
   "outputs": [],
   "source": [
    "alaska_corpus = TrainingCorpus()\n",
    "alaska_corpus.load(os.path.join(root_dir, data_dir, corpus_filename))"
   ]
  },
  {
   "cell_type": "code",
   "execution_count": 7,
   "metadata": {
    "ExecuteTime": {
     "end_time": "2020-12-03T10:39:03.410139Z",
     "start_time": "2020-12-03T10:39:03.398451Z"
    }
   },
   "outputs": [
    {
     "data": {
      "text/plain": [
       "2171"
      ]
     },
     "execution_count": 7,
     "metadata": {},
     "output_type": "execute_result"
    }
   ],
   "source": [
    "alaska_corpus.size"
   ]
  },
  {
   "cell_type": "markdown",
   "metadata": {},
   "source": [
    "---"
   ]
  },
  {
   "cell_type": "markdown",
   "metadata": {},
   "source": [
    "## Builds pseudo-docs"
   ]
  },
  {
   "cell_type": "code",
   "execution_count": 8,
   "metadata": {
    "ExecuteTime": {
     "end_time": "2020-12-03T10:39:04.433284Z",
     "start_time": "2020-12-03T10:39:04.429983Z"
    }
   },
   "outputs": [],
   "source": [
    "from collections import defaultdict"
   ]
  },
  {
   "cell_type": "code",
   "execution_count": 9,
   "metadata": {
    "ExecuteTime": {
     "end_time": "2020-12-03T10:39:04.809584Z",
     "start_time": "2020-12-03T10:39:04.807176Z"
    }
   },
   "outputs": [],
   "source": [
    "pseudo_docs = defaultdict(str)"
   ]
  },
  {
   "cell_type": "code",
   "execution_count": 10,
   "metadata": {
    "ExecuteTime": {
     "end_time": "2020-12-03T10:39:05.215665Z",
     "start_time": "2020-12-03T10:39:05.205224Z"
    }
   },
   "outputs": [],
   "source": [
    "for doc_id in alaska_corpus.docs:\n",
    "    text = alaska_corpus.get_text(doc_id)\n",
    "    label = alaska_corpus.target[doc_id][0]\n",
    "    pseudo_docs[label] += ' ' + text"
   ]
  },
  {
   "cell_type": "markdown",
   "metadata": {
    "ExecuteTime": {
     "end_time": "2020-12-03T09:34:52.385404Z",
     "start_time": "2020-12-03T09:34:52.380486Z"
    }
   },
   "source": [
    "## Summarize pseudo-docs"
   ]
  },
  {
   "cell_type": "code",
   "execution_count": 11,
   "metadata": {
    "ExecuteTime": {
     "end_time": "2020-12-03T10:39:05.904508Z",
     "start_time": "2020-12-03T10:39:05.900702Z"
    }
   },
   "outputs": [],
   "source": [
    "summary = {}"
   ]
  },
  {
   "cell_type": "code",
   "execution_count": 12,
   "metadata": {
    "ExecuteTime": {
     "end_time": "2020-12-03T10:39:08.169089Z",
     "start_time": "2020-12-03T10:39:06.162537Z"
    }
   },
   "outputs": [],
   "source": [
    "from transformers import pipeline"
   ]
  },
  {
   "cell_type": "code",
   "execution_count": 13,
   "metadata": {
    "ExecuteTime": {
     "end_time": "2020-12-03T10:39:08.173363Z",
     "start_time": "2020-12-03T10:39:08.170749Z"
    }
   },
   "outputs": [],
   "source": [
    "model_name = 'bart-large-cnn'"
   ]
  },
  {
   "cell_type": "code",
   "execution_count": 14,
   "metadata": {
    "ExecuteTime": {
     "end_time": "2020-12-03T10:39:19.801247Z",
     "start_time": "2020-12-03T10:39:08.175492Z"
    }
   },
   "outputs": [
    {
     "name": "stderr",
     "output_type": "stream",
     "text": [
      "Couldn't reach server at 'https://s3.amazonaws.com/models.huggingface.co/bert/facebook/bart-large-cnn/modelcard.json' to download model card file.\n",
      "Creating an empty model card.\n"
     ]
    }
   ],
   "source": [
    "summarizer = pipeline('summarization', model=model_name)"
   ]
  },
  {
   "cell_type": "code",
   "execution_count": 15,
   "metadata": {
    "ExecuteTime": {
     "end_time": "2020-12-03T10:39:19.805359Z",
     "start_time": "2020-12-03T10:39:19.802988Z"
    }
   },
   "outputs": [],
   "source": [
    "min_len = 5\n",
    "max_len = 10\n",
    "do_sample = False"
   ]
  },
  {
   "cell_type": "code",
   "execution_count": 16,
   "metadata": {
    "ExecuteTime": {
     "end_time": "2020-12-03T10:40:39.264999Z",
     "start_time": "2020-12-03T10:39:19.806735Z"
    }
   },
   "outputs": [],
   "source": [
    "for entity_id, pseudo_doc in pseudo_docs.items():\n",
    "    summary_text = summarizer(pseudo_doc, min_length=min_len, max_length=max_len, do_sample=do_sample)[0]['summary_text']\n",
    "    summary[entity_id] = summary_text"
   ]
  },
  {
   "cell_type": "code",
   "execution_count": 17,
   "metadata": {
    "ExecuteTime": {
     "end_time": "2020-12-03T10:40:39.277935Z",
     "start_time": "2020-12-03T10:40:39.272829Z"
    }
   },
   "outputs": [],
   "source": [
    "from pprint import pprint"
   ]
  },
  {
   "cell_type": "code",
   "execution_count": 18,
   "metadata": {
    "ExecuteTime": {
     "end_time": "2020-12-03T10:40:39.299169Z",
     "start_time": "2020-12-03T10:40:39.283981Z"
    }
   },
   "outputs": [
    {
     "name": "stdout",
     "output_type": "stream",
     "text": [
      "{'ENTITY#101': 'Canon eos 5d mark',\n",
      " 'ENTITY#102': 'The Canon Eos 5d mark',\n",
      " 'ENTITY#16': 'Nikon d90 + 18',\n",
      " 'ENTITY#18': 'Camerafarm australia',\n",
      " 'ENTITY#19': 'Nikon d3300',\n",
      " 'ENTITY#21': 'Nikon d5100 camera',\n",
      " 'ENTITY#23': 'Ebay canon eos 7d',\n",
      " 'ENTITY#36': 'Nikon d3100 is',\n",
      " 'ENTITY#37': 'Nikon d80 10 2',\n",
      " 'ENTITY#41': 'Nikon d5200 +',\n",
      " 'ENTITY#44': 'Nikon d3200 is',\n",
      " 'ENTITY#57': 'Nikon d800 digital sl',\n",
      " 'ENTITY#58': 'Nikon 1 j1 is',\n",
      " 'ENTITY#6': 'Nikon d5300 is',\n",
      " 'ENTITY#7': 'Olympus om-d e',\n",
      " 'ENTITY#75': ' ebay nikon d7',\n",
      " 'ENTITY#76': 'Nikon d610 digital sl',\n",
      " 'ENTITY#8': 'Nikon 1 j3 digital',\n",
      " 'ENTITY#84': 'Nikon d300 12 3',\n",
      " 'ENTITY#96': 'Canon eos 70d is'}\n"
     ]
    }
   ],
   "source": [
    "pprint(summary)"
   ]
  },
  {
   "cell_type": "markdown",
   "metadata": {},
   "source": [
    "---"
   ]
  }
 ],
 "metadata": {
  "kernelspec": {
   "display_name": "Python 3",
   "language": "python",
   "name": "python3"
  },
  "language_info": {
   "codemirror_mode": {
    "name": "ipython",
    "version": 3
   },
   "file_extension": ".py",
   "mimetype": "text/x-python",
   "name": "python",
   "nbconvert_exporter": "python",
   "pygments_lexer": "ipython3",
   "version": "3.7.7"
  },
  "toc": {
   "base_numbering": 1,
   "nav_menu": {},
   "number_sections": true,
   "sideBar": true,
   "skip_h1_title": false,
   "title_cell": "Table of Contents",
   "title_sidebar": "Contents",
   "toc_cell": false,
   "toc_position": {},
   "toc_section_display": true,
   "toc_window_display": false
  }
 },
 "nbformat": 4,
 "nbformat_minor": 4
}
