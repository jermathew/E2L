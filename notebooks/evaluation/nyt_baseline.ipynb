{
 "cells": [
  {
   "cell_type": "code",
   "execution_count": 1,
   "metadata": {
    "ExecuteTime": {
     "end_time": "2021-01-04T10:58:59.917313Z",
     "start_time": "2021-01-04T10:58:59.504933Z"
    }
   },
   "outputs": [],
   "source": [
    "import os\n",
    "import numpy as np\n",
    "import pandas as pd\n",
    "from tqdm.notebook import tqdm"
   ]
  },
  {
   "cell_type": "code",
   "execution_count": 2,
   "metadata": {
    "ExecuteTime": {
     "end_time": "2021-01-04T10:58:59.934896Z",
     "start_time": "2021-01-04T10:58:59.925407Z"
    }
   },
   "outputs": [],
   "source": [
    "root_dir = '../..'\n",
    "data_dir = 'data'\n",
    "corpus_dir = 'corpus'\n",
    "terms_dir = 'terms'\n",
    "dataset_name = 'nyt'\n",
    "filename = f'{dataset_name}_corpus.xlsx'\n",
    "filepath = os.path.join(root_dir, data_dir, corpus_dir, filename)"
   ]
  },
  {
   "cell_type": "code",
   "execution_count": 3,
   "metadata": {
    "ExecuteTime": {
     "end_time": "2021-01-04T10:59:01.076277Z",
     "start_time": "2021-01-04T10:59:00.634569Z"
    }
   },
   "outputs": [],
   "source": [
    "A = pd.read_excel(filepath, index_col=0)"
   ]
  },
  {
   "cell_type": "code",
   "execution_count": 4,
   "metadata": {
    "ExecuteTime": {
     "end_time": "2021-01-04T10:59:01.271382Z",
     "start_time": "2021-01-04T10:59:01.245570Z"
    }
   },
   "outputs": [
    {
     "data": {
      "text/html": [
       "<div>\n",
       "<style scoped>\n",
       "    .dataframe tbody tr th:only-of-type {\n",
       "        vertical-align: middle;\n",
       "    }\n",
       "\n",
       "    .dataframe tbody tr th {\n",
       "        vertical-align: top;\n",
       "    }\n",
       "\n",
       "    .dataframe thead th {\n",
       "        text-align: right;\n",
       "    }\n",
       "</style>\n",
       "<table border=\"1\" class=\"dataframe\">\n",
       "  <thead>\n",
       "    <tr style=\"text-align: right;\">\n",
       "      <th></th>\n",
       "      <th>doc_id</th>\n",
       "      <th>chunk_doc</th>\n",
       "      <th>label</th>\n",
       "    </tr>\n",
       "  </thead>\n",
       "  <tbody>\n",
       "    <tr>\n",
       "      <th>0</th>\n",
       "      <td>0</td>\n",
       "      <td>panel new_york_state_judges hear arguments whe...</td>\n",
       "      <td>Q11201</td>\n",
       "    </tr>\n",
       "    <tr>\n",
       "      <th>1</th>\n",
       "      <td>1</td>\n",
       "      <td>prof_stephen_gillers op-ed_article says florid...</td>\n",
       "      <td>Q11201</td>\n",
       "    </tr>\n",
       "    <tr>\n",
       "      <th>2</th>\n",
       "      <td>2</td>\n",
       "      <td>seabury start sup ct action bring hastings com...</td>\n",
       "      <td>Q11201</td>\n",
       "    </tr>\n",
       "    <tr>\n",
       "      <th>3</th>\n",
       "      <td>3</td>\n",
       "      <td>3-judge_fed_panel_rules nys election_law would...</td>\n",
       "      <td>Q11201</td>\n",
       "    </tr>\n",
       "    <tr>\n",
       "      <th>4</th>\n",
       "      <td>4</td>\n",
       "      <td>federal_appeals_court_judges ruled california_...</td>\n",
       "      <td>Q11201</td>\n",
       "    </tr>\n",
       "  </tbody>\n",
       "</table>\n",
       "</div>"
      ],
      "text/plain": [
       "   doc_id                                          chunk_doc   label\n",
       "0       0  panel new_york_state_judges hear arguments whe...  Q11201\n",
       "1       1  prof_stephen_gillers op-ed_article says florid...  Q11201\n",
       "2       2  seabury start sup ct action bring hastings com...  Q11201\n",
       "3       3  3-judge_fed_panel_rules nys election_law would...  Q11201\n",
       "4       4  federal_appeals_court_judges ruled california_...  Q11201"
      ]
     },
     "execution_count": 4,
     "metadata": {},
     "output_type": "execute_result"
    }
   ],
   "source": [
    "A.head()"
   ]
  },
  {
   "cell_type": "code",
   "execution_count": 5,
   "metadata": {
    "ExecuteTime": {
     "end_time": "2021-01-04T10:59:03.632914Z",
     "start_time": "2021-01-04T10:59:02.900433Z"
    }
   },
   "outputs": [],
   "source": [
    "from collections import defaultdict\n",
    "from sklearn.feature_extraction.text import TfidfVectorizer"
   ]
  },
  {
   "cell_type": "code",
   "execution_count": 6,
   "metadata": {
    "ExecuteTime": {
     "end_time": "2021-01-04T10:59:04.185607Z",
     "start_time": "2021-01-04T10:59:03.638179Z"
    }
   },
   "outputs": [],
   "source": [
    "pseudo_docs = defaultdict(lambda: \"\")\n",
    "for i, doc in A.iterrows():\n",
    "    pseudo_docs[doc.label] += \" \" + doc.chunk_doc"
   ]
  },
  {
   "cell_type": "code",
   "execution_count": 7,
   "metadata": {
    "ExecuteTime": {
     "end_time": "2021-01-04T10:59:04.209412Z",
     "start_time": "2021-01-04T10:59:04.192166Z"
    }
   },
   "outputs": [],
   "source": [
    "entities = list(pseudo_docs.keys())\n",
    "pdocs = [pseudo_docs[k] for k in entities]"
   ]
  },
  {
   "cell_type": "code",
   "execution_count": 8,
   "metadata": {
    "ExecuteTime": {
     "end_time": "2021-01-04T10:59:04.484733Z",
     "start_time": "2021-01-04T10:59:04.211564Z"
    }
   },
   "outputs": [],
   "source": [
    "vectorizer = TfidfVectorizer(min_df=1)\n",
    "X = vectorizer.fit_transform(pdocs).toarray()"
   ]
  },
  {
   "cell_type": "code",
   "execution_count": 9,
   "metadata": {
    "ExecuteTime": {
     "end_time": "2021-01-04T10:59:06.155625Z",
     "start_time": "2021-01-04T10:59:05.638961Z"
    }
   },
   "outputs": [],
   "source": [
    "ranking = {}\n",
    "features = vectorizer.get_feature_names()\n",
    "for i, entity in enumerate(entities):\n",
    "    rank = [(features[i], x) for i, x in sorted(enumerate(X[i]), key=lambda z: -z[1])]\n",
    "    ranking[entity] = rank"
   ]
  },
  {
   "cell_type": "code",
   "execution_count": 10,
   "metadata": {
    "ExecuteTime": {
     "end_time": "2021-01-04T10:59:06.193543Z",
     "start_time": "2021-01-04T10:59:06.162964Z"
    }
   },
   "outputs": [
    {
     "name": "stdout",
     "output_type": "stream",
     "text": [
      "Q11201\n",
      "court 0.39\n",
      "supreme_court 0.18\n",
      "says 0.18\n",
      "ruling 0.16\n",
      "ct 0.14\n",
      "\n",
      "Q11211\n",
      "iraq 0.36\n",
      "says 0.28\n",
      "baghdad 0.17\n",
      "killed 0.15\n",
      "troops 0.14\n",
      "\n",
      "Q1124\n",
      "says 0.38\n",
      "clinton 0.37\n",
      "president 0.19\n",
      "bill 0.17\n",
      "pres 0.16\n",
      "\n",
      "Q1384\n",
      "new_york 0.38\n",
      "says 0.23\n",
      "photo 0.16\n",
      "albany 0.15\n",
      "state 0.15\n",
      "\n",
      "Q148\n",
      "china 0.73\n",
      "hong_kong 0.32\n",
      "taiwan 0.22\n",
      "chinese 0.14\n",
      "japan 0.12\n",
      "\n",
      "Q23505\n",
      "bush 0.49\n",
      "says 0.24\n",
      "pres 0.22\n",
      "_p 0.17\n",
      "_o 0.16\n",
      "\n",
      "Q29468\n",
      "republicans 0.26\n",
      "says 0.25\n",
      "democrats 0.2\n",
      "party 0.18\n",
      "republican 0.14\n",
      "\n",
      "Q330963\n",
      "says 0.45\n",
      "would 0.16\n",
      "pres 0.13\n",
      "may 0.12\n",
      "iraq 0.12\n",
      "\n",
      "Q66096\n",
      "senate 0.62\n",
      "republicans 0.24\n",
      "senate_democrats 0.2\n",
      "democrats 0.15\n",
      "says 0.15\n",
      "\n",
      "Q744448\n",
      "says 0.41\n",
      "us 0.27\n",
      "foreign_policy 0.2\n",
      "china 0.15\n",
      "policy 0.14\n",
      "\n"
     ]
    }
   ],
   "source": [
    "for entity in entities:\n",
    "    print(entity)\n",
    "    for word, w in ranking[entity][:5]:\n",
    "        print(word, round(w, 2))\n",
    "    print()"
   ]
  },
  {
   "cell_type": "markdown",
   "metadata": {},
   "source": [
    "---\n",
    "## Save ranking to a file"
   ]
  },
  {
   "cell_type": "code",
   "execution_count": 11,
   "metadata": {
    "ExecuteTime": {
     "end_time": "2021-01-04T10:59:13.793226Z",
     "start_time": "2021-01-04T10:59:13.670863Z"
    }
   },
   "outputs": [],
   "source": [
    "df_list = []\n",
    "for entity, terms_tfidf in ranking.items():\n",
    "    df_list.append(pd.DataFrame({'label': [entity]*len(terms_tfidf), \n",
    "                                 'term': [term for term, _ in terms_tfidf]}))"
   ]
  },
  {
   "cell_type": "code",
   "execution_count": 12,
   "metadata": {
    "ExecuteTime": {
     "end_time": "2021-01-04T10:59:14.099991Z",
     "start_time": "2021-01-04T10:59:14.072272Z"
    }
   },
   "outputs": [
    {
     "data": {
      "text/html": [
       "<div>\n",
       "<style scoped>\n",
       "    .dataframe tbody tr th:only-of-type {\n",
       "        vertical-align: middle;\n",
       "    }\n",
       "\n",
       "    .dataframe tbody tr th {\n",
       "        vertical-align: top;\n",
       "    }\n",
       "\n",
       "    .dataframe thead th {\n",
       "        text-align: right;\n",
       "    }\n",
       "</style>\n",
       "<table border=\"1\" class=\"dataframe\">\n",
       "  <thead>\n",
       "    <tr style=\"text-align: right;\">\n",
       "      <th></th>\n",
       "      <th>label</th>\n",
       "      <th>term</th>\n",
       "    </tr>\n",
       "  </thead>\n",
       "  <tbody>\n",
       "    <tr>\n",
       "      <th>0</th>\n",
       "      <td>Q11201</td>\n",
       "      <td>court</td>\n",
       "    </tr>\n",
       "    <tr>\n",
       "      <th>1</th>\n",
       "      <td>Q11201</td>\n",
       "      <td>supreme_court</td>\n",
       "    </tr>\n",
       "    <tr>\n",
       "      <th>2</th>\n",
       "      <td>Q11201</td>\n",
       "      <td>says</td>\n",
       "    </tr>\n",
       "    <tr>\n",
       "      <th>3</th>\n",
       "      <td>Q11201</td>\n",
       "      <td>ruling</td>\n",
       "    </tr>\n",
       "    <tr>\n",
       "      <th>4</th>\n",
       "      <td>Q11201</td>\n",
       "      <td>ct</td>\n",
       "    </tr>\n",
       "  </tbody>\n",
       "</table>\n",
       "</div>"
      ],
      "text/plain": [
       "    label           term\n",
       "0  Q11201          court\n",
       "1  Q11201  supreme_court\n",
       "2  Q11201           says\n",
       "3  Q11201         ruling\n",
       "4  Q11201             ct"
      ]
     },
     "execution_count": 12,
     "metadata": {},
     "output_type": "execute_result"
    }
   ],
   "source": [
    "df = pd.concat(df_list, axis=0)\n",
    "df.head()"
   ]
  },
  {
   "cell_type": "code",
   "execution_count": 13,
   "metadata": {
    "ExecuteTime": {
     "end_time": "2021-01-04T10:59:16.206297Z",
     "start_time": "2021-01-04T10:59:16.196764Z"
    }
   },
   "outputs": [
    {
     "data": {
      "text/plain": [
       "(276020, 2)"
      ]
     },
     "execution_count": 13,
     "metadata": {},
     "output_type": "execute_result"
    }
   ],
   "source": [
    "df.shape"
   ]
  },
  {
   "cell_type": "code",
   "execution_count": 14,
   "metadata": {
    "ExecuteTime": {
     "end_time": "2021-01-04T10:59:17.474358Z",
     "start_time": "2021-01-04T10:59:17.468363Z"
    }
   },
   "outputs": [],
   "source": [
    "ranking_filename = f'ranking_{dataset_name}_baseline.xlsx'\n",
    "ranking_filepath = os.path.join(root_dir, data_dir, terms_dir, ranking_filename)"
   ]
  },
  {
   "cell_type": "code",
   "execution_count": 15,
   "metadata": {
    "ExecuteTime": {
     "end_time": "2021-01-04T10:59:17.842179Z",
     "start_time": "2021-01-04T10:59:17.834236Z"
    }
   },
   "outputs": [
    {
     "data": {
      "text/plain": [
       "'../../data/terms/ranking_nyt_baseline.xlsx'"
      ]
     },
     "execution_count": 15,
     "metadata": {},
     "output_type": "execute_result"
    }
   ],
   "source": [
    "ranking_filepath"
   ]
  },
  {
   "cell_type": "code",
   "execution_count": 16,
   "metadata": {
    "ExecuteTime": {
     "end_time": "2021-01-04T11:00:15.942741Z",
     "start_time": "2021-01-04T10:59:19.340537Z"
    }
   },
   "outputs": [],
   "source": [
    "df.to_excel(ranking_filepath)"
   ]
  },
  {
   "cell_type": "markdown",
   "metadata": {},
   "source": [
    "---"
   ]
  }
 ],
 "metadata": {
  "kernelspec": {
   "display_name": "Python 3",
   "language": "python",
   "name": "python3"
  },
  "language_info": {
   "codemirror_mode": {
    "name": "ipython",
    "version": 3
   },
   "file_extension": ".py",
   "mimetype": "text/x-python",
   "name": "python",
   "nbconvert_exporter": "python",
   "pygments_lexer": "ipython3",
   "version": "3.8.1"
  },
  "toc": {
   "base_numbering": 1,
   "nav_menu": {},
   "number_sections": true,
   "sideBar": true,
   "skip_h1_title": true,
   "title_cell": "Table of Contents",
   "title_sidebar": "Contents",
   "toc_cell": false,
   "toc_position": {},
   "toc_section_display": true,
   "toc_window_display": false
  }
 },
 "nbformat": 4,
 "nbformat_minor": 2
}
