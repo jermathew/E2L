{
 "cells": [
  {
   "cell_type": "markdown",
   "metadata": {},
   "source": [
    "# Wikidata evaluation"
   ]
  },
  {
   "cell_type": "markdown",
   "metadata": {},
   "source": [
    "Evaluate the EKE methodology w.r.t the baseline (i.e TF-IDF)"
   ]
  },
  {
   "cell_type": "markdown",
   "metadata": {},
   "source": [
    "## Define filepaths"
   ]
  },
  {
   "cell_type": "code",
   "execution_count": 1,
   "metadata": {
    "ExecuteTime": {
     "end_time": "2020-11-13T15:25:24.849322Z",
     "start_time": "2020-11-13T15:25:24.841707Z"
    }
   },
   "outputs": [],
   "source": [
    "root_dir = '../..'\n",
    "data_dir = 'data'\n",
    "corpus_dir = 'corpus'\n",
    "rank_dir = 'terms'"
   ]
  },
  {
   "cell_type": "code",
   "execution_count": 2,
   "metadata": {
    "ExecuteTime": {
     "end_time": "2020-11-13T15:25:24.999446Z",
     "start_time": "2020-11-13T15:25:24.993751Z"
    }
   },
   "outputs": [],
   "source": [
    "version = 'v2'"
   ]
  },
  {
   "cell_type": "markdown",
   "metadata": {},
   "source": [
    "## Load ground truth"
   ]
  },
  {
   "cell_type": "markdown",
   "metadata": {},
   "source": [
    "Load each dataset"
   ]
  },
  {
   "cell_type": "code",
   "execution_count": 3,
   "metadata": {
    "ExecuteTime": {
     "end_time": "2020-11-13T15:25:26.176843Z",
     "start_time": "2020-11-13T15:25:25.809738Z"
    }
   },
   "outputs": [],
   "source": [
    "import os\n",
    "import pandas as pd"
   ]
  },
  {
   "cell_type": "code",
   "execution_count": 4,
   "metadata": {
    "ExecuteTime": {
     "end_time": "2020-11-13T15:25:26.182164Z",
     "start_time": "2020-11-13T15:25:26.179399Z"
    }
   },
   "outputs": [],
   "source": [
    "wikidata_dir = 'cities_wikidata'"
   ]
  },
  {
   "cell_type": "code",
   "execution_count": 5,
   "metadata": {
    "ExecuteTime": {
     "end_time": "2020-11-13T15:25:29.394765Z",
     "start_time": "2020-11-13T15:25:26.420167Z"
    }
   },
   "outputs": [
    {
     "data": {
      "text/plain": [
       "329"
      ]
     },
     "execution_count": 5,
     "metadata": {},
     "output_type": "execute_result"
    }
   ],
   "source": [
    "datasets_df = []\n",
    "\n",
    "for filename in os.listdir(os.path.join(root_dir, data_dir, corpus_dir, wikidata_dir)):\n",
    "    filepath = os.path.join(root_dir, data_dir, corpus_dir, wikidata_dir, filename)\n",
    "    entry_df = pd.read_excel(filepath, index_col=0)\n",
    "    datasets_df.append(entry_df)\n",
    "\n",
    "len(datasets_df)"
   ]
  },
  {
   "cell_type": "markdown",
   "metadata": {},
   "source": [
    "Merge all datasets into a single DataFrame"
   ]
  },
  {
   "cell_type": "code",
   "execution_count": 6,
   "metadata": {
    "ExecuteTime": {
     "end_time": "2020-11-13T15:25:29.478971Z",
     "start_time": "2020-11-13T15:25:29.397591Z"
    }
   },
   "outputs": [
    {
     "data": {
      "text/html": [
       "<div>\n",
       "<style scoped>\n",
       "    .dataframe tbody tr th:only-of-type {\n",
       "        vertical-align: middle;\n",
       "    }\n",
       "\n",
       "    .dataframe tbody tr th {\n",
       "        vertical-align: top;\n",
       "    }\n",
       "\n",
       "    .dataframe thead th {\n",
       "        text-align: right;\n",
       "    }\n",
       "</style>\n",
       "<table border=\"1\" class=\"dataframe\">\n",
       "  <thead>\n",
       "    <tr style=\"text-align: right;\">\n",
       "      <th></th>\n",
       "      <th>entity</th>\n",
       "      <th>target</th>\n",
       "    </tr>\n",
       "  </thead>\n",
       "  <tbody>\n",
       "    <tr>\n",
       "      <th>0</th>\n",
       "      <td>Q42053</td>\n",
       "      <td>Isfahan (City in Iran, Isfahan province, cente...</td>\n",
       "    </tr>\n",
       "    <tr>\n",
       "      <th>17</th>\n",
       "      <td>Q1367759</td>\n",
       "      <td>Isfahan Province (Province of Iran)</td>\n",
       "    </tr>\n",
       "    <tr>\n",
       "      <th>18</th>\n",
       "      <td>Q25433162</td>\n",
       "      <td>Isfahan (electoral district in Iran)</td>\n",
       "    </tr>\n",
       "    <tr>\n",
       "      <th>30</th>\n",
       "      <td>Q21998562</td>\n",
       "      <td>Isfahan (1967 jazz song by Duke Ellington)</td>\n",
       "    </tr>\n",
       "    <tr>\n",
       "      <th>45</th>\n",
       "      <td>Q1282082</td>\n",
       "      <td>Isfahan County (county in Isfahan, Iran)</td>\n",
       "    </tr>\n",
       "  </tbody>\n",
       "</table>\n",
       "</div>"
      ],
      "text/plain": [
       "       entity                                             target\n",
       "0      Q42053  Isfahan (City in Iran, Isfahan province, cente...\n",
       "17   Q1367759                Isfahan Province (Province of Iran)\n",
       "18  Q25433162               Isfahan (electoral district in Iran)\n",
       "30  Q21998562         Isfahan (1967 jazz song by Duke Ellington)\n",
       "45   Q1282082           Isfahan County (county in Isfahan, Iran)"
      ]
     },
     "execution_count": 6,
     "metadata": {},
     "output_type": "execute_result"
    }
   ],
   "source": [
    "df = pd.concat(datasets_df, axis=0, ignore_index=True)\n",
    "df = df[['entity', 'target']].drop_duplicates()\n",
    "df.head()"
   ]
  },
  {
   "cell_type": "code",
   "execution_count": 7,
   "metadata": {
    "ExecuteTime": {
     "end_time": "2020-11-13T15:25:29.484729Z",
     "start_time": "2020-11-13T15:25:29.481627Z"
    }
   },
   "outputs": [],
   "source": [
    "gt_dict = pd.Series(df['target'].values,index=df['entity']).to_dict()"
   ]
  },
  {
   "cell_type": "code",
   "execution_count": 8,
   "metadata": {
    "ExecuteTime": {
     "end_time": "2020-11-13T15:25:33.034658Z",
     "start_time": "2020-11-13T15:25:33.024139Z"
    }
   },
   "outputs": [],
   "source": [
    "del datasets_df\n",
    "del df"
   ]
  },
  {
   "cell_type": "markdown",
   "metadata": {},
   "source": [
    "## Load rankings"
   ]
  },
  {
   "cell_type": "markdown",
   "metadata": {},
   "source": [
    "### LIME-based"
   ]
  },
  {
   "cell_type": "code",
   "execution_count": 9,
   "metadata": {
    "ExecuteTime": {
     "end_time": "2020-11-13T15:25:37.744750Z",
     "start_time": "2020-11-13T15:25:37.737355Z"
    }
   },
   "outputs": [],
   "source": [
    "lime_filename = f'ranking_wikidata_nn_{version}.xlsx'\n",
    "lime_filepath = os.path.join(root_dir, data_dir, rank_dir, lime_filename)"
   ]
  },
  {
   "cell_type": "code",
   "execution_count": 10,
   "metadata": {
    "ExecuteTime": {
     "end_time": "2020-11-13T15:25:38.569620Z",
     "start_time": "2020-11-13T15:25:38.176322Z"
    }
   },
   "outputs": [
    {
     "data": {
      "text/html": [
       "<div>\n",
       "<style scoped>\n",
       "    .dataframe tbody tr th:only-of-type {\n",
       "        vertical-align: middle;\n",
       "    }\n",
       "\n",
       "    .dataframe tbody tr th {\n",
       "        vertical-align: top;\n",
       "    }\n",
       "\n",
       "    .dataframe thead th {\n",
       "        text-align: right;\n",
       "    }\n",
       "</style>\n",
       "<table border=\"1\" class=\"dataframe\">\n",
       "  <thead>\n",
       "    <tr style=\"text-align: right;\">\n",
       "      <th></th>\n",
       "      <th>label</th>\n",
       "      <th>term</th>\n",
       "      <th>weight</th>\n",
       "      <th>rank</th>\n",
       "      <th>count</th>\n",
       "    </tr>\n",
       "  </thead>\n",
       "  <tbody>\n",
       "    <tr>\n",
       "      <th>0</th>\n",
       "      <td>Q1005682</td>\n",
       "      <td>hamburg</td>\n",
       "      <td>6.433465</td>\n",
       "      <td>1.000000</td>\n",
       "      <td>11</td>\n",
       "    </tr>\n",
       "    <tr>\n",
       "      <th>1</th>\n",
       "      <td>Q1005682</td>\n",
       "      <td>states</td>\n",
       "      <td>2.278421</td>\n",
       "      <td>2.454545</td>\n",
       "      <td>11</td>\n",
       "    </tr>\n",
       "    <tr>\n",
       "      <th>2</th>\n",
       "      <td>Q1005682</td>\n",
       "      <td>513</td>\n",
       "      <td>0.418916</td>\n",
       "      <td>3.000000</td>\n",
       "      <td>2</td>\n",
       "    </tr>\n",
       "    <tr>\n",
       "      <th>3</th>\n",
       "      <td>Q1005682</td>\n",
       "      <td>minnesota</td>\n",
       "      <td>1.838184</td>\n",
       "      <td>3.100000</td>\n",
       "      <td>10</td>\n",
       "    </tr>\n",
       "    <tr>\n",
       "      <th>4</th>\n",
       "      <td>Q1005682</td>\n",
       "      <td>united</td>\n",
       "      <td>2.012429</td>\n",
       "      <td>3.636364</td>\n",
       "      <td>11</td>\n",
       "    </tr>\n",
       "  </tbody>\n",
       "</table>\n",
       "</div>"
      ],
      "text/plain": [
       "      label       term    weight      rank  count\n",
       "0  Q1005682    hamburg  6.433465  1.000000     11\n",
       "1  Q1005682     states  2.278421  2.454545     11\n",
       "2  Q1005682        513  0.418916  3.000000      2\n",
       "3  Q1005682  minnesota  1.838184  3.100000     10\n",
       "4  Q1005682     united  2.012429  3.636364     11"
      ]
     },
     "execution_count": 10,
     "metadata": {},
     "output_type": "execute_result"
    }
   ],
   "source": [
    "lime_df = pd.read_excel(lime_filepath, index_col=0)\n",
    "# Replace '_' character with whitespaces\n",
    "lime_df['term'] = lime_df['term'].map(lambda x: x.replace('_', ' '))\n",
    "lime_df.head()"
   ]
  },
  {
   "cell_type": "code",
   "execution_count": 11,
   "metadata": {
    "ExecuteTime": {
     "end_time": "2020-11-13T15:25:40.402281Z",
     "start_time": "2020-11-13T15:25:40.394210Z"
    }
   },
   "outputs": [
    {
     "data": {
      "text/plain": [
       "(3829, 5)"
      ]
     },
     "execution_count": 11,
     "metadata": {},
     "output_type": "execute_result"
    }
   ],
   "source": [
    "lime_df.shape"
   ]
  },
  {
   "cell_type": "markdown",
   "metadata": {},
   "source": [
    "### Baseline"
   ]
  },
  {
   "cell_type": "code",
   "execution_count": 12,
   "metadata": {
    "ExecuteTime": {
     "end_time": "2020-11-13T15:25:42.120849Z",
     "start_time": "2020-11-13T15:25:42.113454Z"
    }
   },
   "outputs": [],
   "source": [
    "baseline_filename = f'ranking_wikidata_baseline_{version}.xlsx'\n",
    "baseline_filepath = os.path.join(root_dir, data_dir, rank_dir, baseline_filename)"
   ]
  },
  {
   "cell_type": "code",
   "execution_count": null,
   "metadata": {},
   "outputs": [],
   "source": []
  },
  {
   "cell_type": "code",
   "execution_count": 13,
   "metadata": {
    "ExecuteTime": {
     "end_time": "2020-11-13T15:26:21.289313Z",
     "start_time": "2020-11-13T15:25:42.384168Z"
    }
   },
   "outputs": [
    {
     "data": {
      "text/html": [
       "<div>\n",
       "<style scoped>\n",
       "    .dataframe tbody tr th:only-of-type {\n",
       "        vertical-align: middle;\n",
       "    }\n",
       "\n",
       "    .dataframe tbody tr th {\n",
       "        vertical-align: top;\n",
       "    }\n",
       "\n",
       "    .dataframe thead th {\n",
       "        text-align: right;\n",
       "    }\n",
       "</style>\n",
       "<table border=\"1\" class=\"dataframe\">\n",
       "  <thead>\n",
       "    <tr style=\"text-align: right;\">\n",
       "      <th></th>\n",
       "      <th>label</th>\n",
       "      <th>term</th>\n",
       "    </tr>\n",
       "  </thead>\n",
       "  <tbody>\n",
       "    <tr>\n",
       "      <th>0</th>\n",
       "      <td>Q1754</td>\n",
       "      <td>stockholm</td>\n",
       "    </tr>\n",
       "    <tr>\n",
       "      <th>1</th>\n",
       "      <td>Q1754</td>\n",
       "      <td>sthlm</td>\n",
       "    </tr>\n",
       "    <tr>\n",
       "      <th>2</th>\n",
       "      <td>Q1754</td>\n",
       "      <td>city</td>\n",
       "    </tr>\n",
       "    <tr>\n",
       "      <th>3</th>\n",
       "      <td>Q1754</td>\n",
       "      <td>sweden</td>\n",
       "    </tr>\n",
       "    <tr>\n",
       "      <th>4</th>\n",
       "      <td>Q1754</td>\n",
       "      <td>capital</td>\n",
       "    </tr>\n",
       "  </tbody>\n",
       "</table>\n",
       "</div>"
      ],
      "text/plain": [
       "   label       term\n",
       "0  Q1754  stockholm\n",
       "1  Q1754      sthlm\n",
       "2  Q1754       city\n",
       "3  Q1754     sweden\n",
       "4  Q1754    capital"
      ]
     },
     "execution_count": 13,
     "metadata": {},
     "output_type": "execute_result"
    }
   ],
   "source": [
    "baseline_df = pd.read_excel(baseline_filepath, index_col=0)\n",
    "# Replace '_' character with whitespaces\n",
    "baseline_df['term'] = baseline_df['term'].map(lambda x: x.replace('_', ' '))\n",
    "baseline_df.head()"
   ]
  },
  {
   "cell_type": "code",
   "execution_count": 14,
   "metadata": {
    "ExecuteTime": {
     "end_time": "2020-11-13T15:26:21.302098Z",
     "start_time": "2020-11-13T15:26:21.292358Z"
    }
   },
   "outputs": [
    {
     "data": {
      "text/plain": [
       "(895050, 2)"
      ]
     },
     "execution_count": 14,
     "metadata": {},
     "output_type": "execute_result"
    }
   ],
   "source": [
    "baseline_df.shape"
   ]
  },
  {
   "cell_type": "markdown",
   "metadata": {},
   "source": [
    "## Compute precision and recall"
   ]
  },
  {
   "cell_type": "code",
   "execution_count": 15,
   "metadata": {
    "ExecuteTime": {
     "end_time": "2020-11-13T15:29:54.700309Z",
     "start_time": "2020-11-13T15:29:54.696658Z"
    }
   },
   "outputs": [],
   "source": [
    "src_dir = 'src'"
   ]
  },
  {
   "cell_type": "code",
   "execution_count": 16,
   "metadata": {
    "ExecuteTime": {
     "end_time": "2020-11-13T15:29:56.188940Z",
     "start_time": "2020-11-13T15:29:55.141326Z"
    }
   },
   "outputs": [],
   "source": [
    "import sys\n",
    "sys.path.append(os.path.join(root_dir, src_dir))\n",
    "\n",
    "from training import TrainingCorpus"
   ]
  },
  {
   "cell_type": "code",
   "execution_count": 22,
   "metadata": {
    "ExecuteTime": {
     "end_time": "2020-11-13T16:15:55.477495Z",
     "start_time": "2020-11-13T16:15:55.467706Z"
    }
   },
   "outputs": [
    {
     "data": {
      "text/plain": [
       "array(['stockholm', 'sthlm', 'city', ..., '鄂尔多斯沙漠', '鄂爾多斯', '鄂爾多斯沙漠'],\n",
       "      dtype=object)"
      ]
     },
     "execution_count": 22,
     "metadata": {},
     "output_type": "execute_result"
    }
   ],
   "source": []
  },
  {
   "cell_type": "code",
   "execution_count": 24,
   "metadata": {
    "ExecuteTime": {
     "end_time": "2020-11-13T16:16:40.128138Z",
     "start_time": "2020-11-13T16:16:40.121840Z"
    }
   },
   "outputs": [
    {
     "data": {
      "text/plain": [
       "(895050,)"
      ]
     },
     "execution_count": 24,
     "metadata": {},
     "output_type": "execute_result"
    }
   ],
   "source": [
    "baseline_df.term.values.shape"
   ]
  },
  {
   "cell_type": "code",
   "execution_count": null,
   "metadata": {},
   "outputs": [],
   "source": []
  },
  {
   "cell_type": "code",
   "execution_count": 45,
   "metadata": {
    "ExecuteTime": {
     "end_time": "2020-11-13T22:25:18.126598Z",
     "start_time": "2020-11-13T22:25:18.121192Z"
    }
   },
   "outputs": [],
   "source": [
    "def compute_fscore(p, r, beta):\n",
    "    try:\n",
    "        return (1 + beta**2) * p * r/(beta**2 * p + r)\n",
    "    except:\n",
    "        return 0"
   ]
  },
  {
   "cell_type": "code",
   "execution_count": 47,
   "metadata": {
    "ExecuteTime": {
     "end_time": "2020-11-13T22:26:03.953919Z",
     "start_time": "2020-11-13T22:26:03.914109Z"
    }
   },
   "outputs": [],
   "source": [
    "def compute_metrics(entity_id, gt_dict, terms):\n",
    "    size = terms.shape[0]\n",
    "    target_tokens = TrainingCorpus.tokenize(gt_dict[entity_id].lower())\n",
    "    target_tokens_len = len(target_tokens)\n",
    "    \n",
    "    tokens_count = 0\n",
    "    tokens_found = []\n",
    "    \n",
    "    precision_list = []\n",
    "    recall_list = []\n",
    "    f1score_list = []\n",
    "    f2score_list = []\n",
    "    f05score_list = []\n",
    "    \n",
    "    for i in range(size):\n",
    "        selected_terms = terms[i].split()\n",
    "        \n",
    "        for term in selected_terms:\n",
    "            tokens_count += 1\n",
    "            if term in target_tokens and term not in tokens_found:\n",
    "                tokens_found.append(term)\n",
    "        \n",
    "        precision = len(tokens_found)/tokens_count\n",
    "        precision_list.append(precision)\n",
    "        \n",
    "        recall = len(tokens_found)/target_tokens_len\n",
    "        recall_list.append(recall)\n",
    "\n",
    "        f1score = compute_fscore(precision, recall, 1)\n",
    "        f1score_list.append(f1score)\n",
    "        \n",
    "        f2score = compute_fscore(precision, recall, 2)\n",
    "        f2score_list.append(f2score)\n",
    "        \n",
    "        f05score = compute_fscore(precision, recall, 0.5)\n",
    "        f05score_list.append(f05score)\n",
    "    \n",
    "    # debug only\n",
    "    print(precision_list)\n",
    "    print(recall_list)\n",
    "    print(f1score_list)\n",
    "    print(f2score_list)\n",
    "    print(f05score_list)\n",
    "    \n",
    "    metrics_dict = {}\n",
    "    metrics_dict['entity'] = entity_id\n",
    "    metrics_dict['k_recall'] = -1\n",
    "    metrics_dict['max_f1scores'] = [-1] * size\n",
    "    metrics_dict['k_f1score'] = -1\n",
    "    metrics_dict['max_f2scores'] = [-1] * size\n",
    "    metrics_dict['max_f05scores'] = [-1] * size\n",
    "    metrics_dict['max_recall'] = -1\n",
    "    metrics_dict['max_precision'] = -1\n",
    "    \n",
    "    # compute k_recall\n",
    "    k_recall_threshold = 0.9\n",
    "    not_found = True\n",
    "    i = 0\n",
    "    while i < size and not_found:\n",
    "        if recall_list[i] > 0.9:\n",
    "            not_found = False\n",
    "            metrics_dict['k_recall'] = i + 1 # starts from 0\n",
    "        i += 1\n",
    "    \n",
    "    # compute max_f1scores\n",
    "    max_f1score = -1\n",
    "    for i in range(size):\n",
    "        if f1score_list[i] > max_f1score:\n",
    "            max_f1score = f1score_list[i]\n",
    "        metrics_dict['max_f1scores'][i] = max_f1score\n",
    "    \n",
    "    # compute k_f1score\n",
    "    metrics_dict['k_f1score'] = max(list(range(size)), key=lambda i: f1score_list[i])\n",
    "    \n",
    "    # compute max_f2scores\n",
    "    max_f2score = -1\n",
    "    for i in range(size):\n",
    "        if f2score_list[i] > max_f2score:\n",
    "            max_f2score = f2score_list[i]\n",
    "        metrics_dict['max_f2scores'][i] = max_f2score\n",
    "    \n",
    "    # compute max_f05scores\n",
    "    max_f05score = -1\n",
    "    for i in range(size):\n",
    "        if f05score_list[i] > max_f05score:\n",
    "            max_f05score = f05score_list[i]\n",
    "        metrics_dict['max_f05scores'][i] = max_f05score\n",
    "    \n",
    "    # compute max_recall\n",
    "    p_threshold = 0.9\n",
    "    selected_idxs = [idx for idx, p in enumerate(precision_list) if p > p_threshold]\n",
    "    metrics_dict['max_recall'] = max([recall_list[idx] for idx in selected_idxs])\n",
    "    \n",
    "    # compute max_precision\n",
    "    r_threshold = 0.9\n",
    "    selected_idxs = [idx for idx, r in enumerate(recall_list) if r > r_threshold]\n",
    "    metrics_dict['max_precision'] = max([precision_list[idx] for idx in selected_idxs])\n",
    "    \n",
    "    return metrics_dict "
   ]
  },
  {
   "cell_type": "code",
   "execution_count": 32,
   "metadata": {
    "ExecuteTime": {
     "end_time": "2020-11-13T22:18:13.210568Z",
     "start_time": "2020-11-13T22:18:13.105999Z"
    }
   },
   "outputs": [
    {
     "data": {
      "text/html": [
       "<div>\n",
       "<style scoped>\n",
       "    .dataframe tbody tr th:only-of-type {\n",
       "        vertical-align: middle;\n",
       "    }\n",
       "\n",
       "    .dataframe tbody tr th {\n",
       "        vertical-align: top;\n",
       "    }\n",
       "\n",
       "    .dataframe thead th {\n",
       "        text-align: right;\n",
       "    }\n",
       "</style>\n",
       "<table border=\"1\" class=\"dataframe\">\n",
       "  <thead>\n",
       "    <tr style=\"text-align: right;\">\n",
       "      <th></th>\n",
       "      <th>label</th>\n",
       "      <th>term</th>\n",
       "    </tr>\n",
       "  </thead>\n",
       "  <tbody>\n",
       "    <tr>\n",
       "      <th>0</th>\n",
       "      <td>Q1754</td>\n",
       "      <td>stockholm</td>\n",
       "    </tr>\n",
       "    <tr>\n",
       "      <th>1</th>\n",
       "      <td>Q1754</td>\n",
       "      <td>sthlm</td>\n",
       "    </tr>\n",
       "    <tr>\n",
       "      <th>2</th>\n",
       "      <td>Q1754</td>\n",
       "      <td>city</td>\n",
       "    </tr>\n",
       "    <tr>\n",
       "      <th>3</th>\n",
       "      <td>Q1754</td>\n",
       "      <td>sweden</td>\n",
       "    </tr>\n",
       "    <tr>\n",
       "      <th>4</th>\n",
       "      <td>Q1754</td>\n",
       "      <td>capital</td>\n",
       "    </tr>\n",
       "    <tr>\n",
       "      <th>5</th>\n",
       "      <td>Q1754</td>\n",
       "      <td>baltic</td>\n",
       "    </tr>\n",
       "    <tr>\n",
       "      <th>6</th>\n",
       "      <td>Q1754</td>\n",
       "      <td>ericsson</td>\n",
       "    </tr>\n",
       "    <tr>\n",
       "      <th>7</th>\n",
       "      <td>Q1754</td>\n",
       "      <td>fourteen islands</td>\n",
       "    </tr>\n",
       "    <tr>\n",
       "      <th>8</th>\n",
       "      <td>Q1754</td>\n",
       "      <td>globe</td>\n",
       "    </tr>\n",
       "    <tr>\n",
       "      <th>9</th>\n",
       "      <td>Q1754</td>\n",
       "      <td>hall</td>\n",
       "    </tr>\n",
       "  </tbody>\n",
       "</table>\n",
       "</div>"
      ],
      "text/plain": [
       "   label              term\n",
       "0  Q1754         stockholm\n",
       "1  Q1754             sthlm\n",
       "2  Q1754              city\n",
       "3  Q1754            sweden\n",
       "4  Q1754           capital\n",
       "5  Q1754            baltic\n",
       "6  Q1754          ericsson\n",
       "7  Q1754  fourteen islands\n",
       "8  Q1754             globe\n",
       "9  Q1754              hall"
      ]
     },
     "execution_count": 32,
     "metadata": {},
     "output_type": "execute_result"
    }
   ],
   "source": [
    "test_df = baseline_df[baseline_df['label'] == 'Q1754'].head(10)\n",
    "test_df"
   ]
  },
  {
   "cell_type": "code",
   "execution_count": 42,
   "metadata": {
    "ExecuteTime": {
     "end_time": "2020-11-13T22:22:12.512071Z",
     "start_time": "2020-11-13T22:22:12.501975Z"
    }
   },
   "outputs": [
    {
     "data": {
      "text/plain": [
       "['stockholm', 'capital', 'sweden']"
      ]
     },
     "execution_count": 42,
     "metadata": {},
     "output_type": "execute_result"
    }
   ],
   "source": [
    "TrainingCorpus.tokenize(gt_dict['Q1754'].lower())"
   ]
  },
  {
   "cell_type": "markdown",
   "metadata": {},
   "source": [
    "TODO:\n",
    " - test function\n",
    " - plot\n",
    " - plot for alaska"
   ]
  },
  {
   "cell_type": "code",
   "execution_count": 48,
   "metadata": {
    "ExecuteTime": {
     "end_time": "2020-11-13T22:26:09.213325Z",
     "start_time": "2020-11-13T22:26:09.200696Z"
    }
   },
   "outputs": [
    {
     "name": "stdout",
     "output_type": "stream",
     "text": [
      "[1.0, 0.5, 0.3333333333333333, 0.5, 0.6, 0.5, 0.42857142857142855, 0.3333333333333333, 0.3, 0.2727272727272727]\n",
      "[0.3333333333333333, 0.3333333333333333, 0.3333333333333333, 0.6666666666666666, 1.0, 1.0, 1.0, 1.0, 1.0, 1.0]\n",
      "[0.5, 0.4, 0.3333333333333333, 0.5714285714285715, 0.7499999999999999, 0.6666666666666666, 0.6, 0.5, 0.4615384615384615, 0.42857142857142855]\n",
      "[0.3846153846153846, 0.3571428571428571, 0.3333333333333333, 0.625, 0.8823529411764706, 0.8333333333333334, 0.7894736842105262, 0.7142857142857143, 0.6818181818181818, 0.6521739130434783]\n",
      "[0.7142857142857143, 0.45454545454545453, 0.3333333333333333, 0.5263157894736842, 0.6521739130434783, 0.5555555555555556, 0.48387096774193544, 0.3846153846153846, 0.3488372093023256, 0.3191489361702128]\n"
     ]
    },
    {
     "data": {
      "text/plain": [
       "{'entity': 'Q1754',\n",
       " 'k_recall': 5,\n",
       " 'max_f1scores': [0.5,\n",
       "  0.5,\n",
       "  0.5,\n",
       "  0.5714285714285715,\n",
       "  0.7499999999999999,\n",
       "  0.7499999999999999,\n",
       "  0.7499999999999999,\n",
       "  0.7499999999999999,\n",
       "  0.7499999999999999,\n",
       "  0.7499999999999999],\n",
       " 'k_f1score': 4,\n",
       " 'max_f2scores': [0.3846153846153846,\n",
       "  0.3846153846153846,\n",
       "  0.3846153846153846,\n",
       "  0.625,\n",
       "  0.8823529411764706,\n",
       "  0.8823529411764706,\n",
       "  0.8823529411764706,\n",
       "  0.8823529411764706,\n",
       "  0.8823529411764706,\n",
       "  0.8823529411764706],\n",
       " 'max_f05scores': [0.7142857142857143,\n",
       "  0.7142857142857143,\n",
       "  0.7142857142857143,\n",
       "  0.7142857142857143,\n",
       "  0.7142857142857143,\n",
       "  0.7142857142857143,\n",
       "  0.7142857142857143,\n",
       "  0.7142857142857143,\n",
       "  0.7142857142857143,\n",
       "  0.7142857142857143],\n",
       " 'max_recall': 0.3333333333333333,\n",
       " 'max_precision': 0.6}"
      ]
     },
     "execution_count": 48,
     "metadata": {},
     "output_type": "execute_result"
    }
   ],
   "source": [
    "compute_metrics('Q1754', gt_dict, test_df['term'].values)"
   ]
  },
  {
   "cell_type": "code",
   "execution_count": 46,
   "metadata": {
    "ExecuteTime": {
     "end_time": "2020-11-13T22:25:22.959376Z",
     "start_time": "2020-11-13T22:25:22.950200Z"
    }
   },
   "outputs": [
    {
     "data": {
      "text/plain": [
       "0"
      ]
     },
     "execution_count": 46,
     "metadata": {},
     "output_type": "execute_result"
    }
   ],
   "source": [
    "compute_fscore(0, 0, 1)"
   ]
  },
  {
   "cell_type": "code",
   "execution_count": null,
   "metadata": {},
   "outputs": [],
   "source": []
  }
 ],
 "metadata": {
  "kernelspec": {
   "display_name": "Python 3",
   "language": "python",
   "name": "python3"
  },
  "language_info": {
   "codemirror_mode": {
    "name": "ipython",
    "version": 3
   },
   "file_extension": ".py",
   "mimetype": "text/x-python",
   "name": "python",
   "nbconvert_exporter": "python",
   "pygments_lexer": "ipython3",
   "version": "3.8.1"
  },
  "toc": {
   "base_numbering": 1,
   "nav_menu": {},
   "number_sections": true,
   "sideBar": true,
   "skip_h1_title": false,
   "title_cell": "Table of Contents",
   "title_sidebar": "Contents",
   "toc_cell": false,
   "toc_position": {},
   "toc_section_display": true,
   "toc_window_display": false
  }
 },
 "nbformat": 4,
 "nbformat_minor": 4
}
