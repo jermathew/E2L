{
 "cells": [
  {
   "cell_type": "markdown",
   "metadata": {},
   "source": [
    "# Summary baseline"
   ]
  },
  {
   "cell_type": "markdown",
   "metadata": {},
   "source": [
    "## Load the data"
   ]
  },
  {
   "cell_type": "code",
   "execution_count": 1,
   "metadata": {
    "ExecuteTime": {
     "end_time": "2020-12-05T22:55:41.519630Z",
     "start_time": "2020-12-05T22:55:41.514606Z"
    }
   },
   "outputs": [],
   "source": [
    "root_dir = '../../'\n",
    "src_dir = 'src'\n",
    "data_dir = 'data/corpus'\n",
    "models_dir = 'data/models'"
   ]
  },
  {
   "cell_type": "code",
   "execution_count": 2,
   "metadata": {
    "ExecuteTime": {
     "end_time": "2020-12-05T22:55:41.524585Z",
     "start_time": "2020-12-05T22:55:41.522157Z"
    }
   },
   "outputs": [],
   "source": [
    "import os\n",
    "import sys"
   ]
  },
  {
   "cell_type": "code",
   "execution_count": 3,
   "metadata": {
    "ExecuteTime": {
     "end_time": "2020-12-05T22:55:41.530589Z",
     "start_time": "2020-12-05T22:55:41.527052Z"
    }
   },
   "outputs": [],
   "source": [
    "sys.path.append(os.path.join(root_dir, src_dir))"
   ]
  },
  {
   "cell_type": "code",
   "execution_count": 4,
   "metadata": {
    "ExecuteTime": {
     "end_time": "2020-12-05T22:55:41.535462Z",
     "start_time": "2020-12-05T22:55:41.532865Z"
    }
   },
   "outputs": [],
   "source": [
    "corpus_filename = 'alaska_corpus.json'"
   ]
  },
  {
   "cell_type": "code",
   "execution_count": 5,
   "metadata": {
    "ExecuteTime": {
     "end_time": "2020-12-05T22:55:43.576616Z",
     "start_time": "2020-12-05T22:55:41.537440Z"
    }
   },
   "outputs": [],
   "source": [
    "from training import TrainingCorpus"
   ]
  },
  {
   "cell_type": "code",
   "execution_count": 6,
   "metadata": {
    "ExecuteTime": {
     "end_time": "2020-12-05T22:55:43.597288Z",
     "start_time": "2020-12-05T22:55:43.578966Z"
    }
   },
   "outputs": [],
   "source": [
    "corpus = TrainingCorpus()\n",
    "corpus.load(os.path.join(root_dir, data_dir, corpus_filename))"
   ]
  },
  {
   "cell_type": "code",
   "execution_count": 7,
   "metadata": {
    "ExecuteTime": {
     "end_time": "2020-12-05T22:55:43.612135Z",
     "start_time": "2020-12-05T22:55:43.599646Z"
    }
   },
   "outputs": [
    {
     "data": {
      "text/plain": [
       "2171"
      ]
     },
     "execution_count": 7,
     "metadata": {},
     "output_type": "execute_result"
    }
   ],
   "source": [
    "corpus.size"
   ]
  },
  {
   "cell_type": "markdown",
   "metadata": {},
   "source": [
    "---"
   ]
  },
  {
   "cell_type": "markdown",
   "metadata": {},
   "source": [
    "## Builds pseudo-docs"
   ]
  },
  {
   "cell_type": "code",
   "execution_count": 8,
   "metadata": {
    "ExecuteTime": {
     "end_time": "2020-12-05T22:55:43.619355Z",
     "start_time": "2020-12-05T22:55:43.616602Z"
    }
   },
   "outputs": [],
   "source": [
    "from collections import defaultdict"
   ]
  },
  {
   "cell_type": "code",
   "execution_count": 9,
   "metadata": {
    "ExecuteTime": {
     "end_time": "2020-12-05T22:55:43.626276Z",
     "start_time": "2020-12-05T22:55:43.622845Z"
    }
   },
   "outputs": [],
   "source": [
    "pseudodocs_dict = defaultdict(str)"
   ]
  },
  {
   "cell_type": "code",
   "execution_count": 10,
   "metadata": {
    "ExecuteTime": {
     "end_time": "2020-12-05T22:55:43.636899Z",
     "start_time": "2020-12-05T22:55:43.629015Z"
    }
   },
   "outputs": [],
   "source": [
    "for doc_id in corpus.docs:\n",
    "    text = corpus.get_text(doc_id)\n",
    "    label = corpus.target[doc_id][0]\n",
    "    pseudodocs_dict[label] += ' ' + text"
   ]
  },
  {
   "cell_type": "markdown",
   "metadata": {
    "ExecuteTime": {
     "end_time": "2020-12-03T09:34:52.385404Z",
     "start_time": "2020-12-03T09:34:52.380486Z"
    }
   },
   "source": [
    "## Summarize pseudo-docs"
   ]
  },
  {
   "cell_type": "code",
   "execution_count": 11,
   "metadata": {
    "ExecuteTime": {
     "end_time": "2020-12-05T22:55:43.643580Z",
     "start_time": "2020-12-05T22:55:43.639160Z"
    }
   },
   "outputs": [],
   "source": [
    "entities = list(pseudodocs_dict.keys())\n",
    "num_entities = len(entities)\n",
    "pseudodocs = [pseudodocs_dict[e_id] for e_id in entities]"
   ]
  },
  {
   "cell_type": "code",
   "execution_count": 12,
   "metadata": {
    "ExecuteTime": {
     "end_time": "2020-12-05T22:55:43.649271Z",
     "start_time": "2020-12-05T22:55:43.646076Z"
    }
   },
   "outputs": [],
   "source": [
    "summaries = []"
   ]
  },
  {
   "cell_type": "code",
   "execution_count": 13,
   "metadata": {
    "ExecuteTime": {
     "end_time": "2020-12-05T22:55:45.835616Z",
     "start_time": "2020-12-05T22:55:43.651635Z"
    }
   },
   "outputs": [],
   "source": [
    "from transformers import pipeline"
   ]
  },
  {
   "cell_type": "code",
   "execution_count": 14,
   "metadata": {
    "ExecuteTime": {
     "end_time": "2020-12-05T22:55:45.840168Z",
     "start_time": "2020-12-05T22:55:45.837652Z"
    }
   },
   "outputs": [],
   "source": [
    "model_name = 'bart-large-cnn'"
   ]
  },
  {
   "cell_type": "code",
   "execution_count": 15,
   "metadata": {
    "ExecuteTime": {
     "end_time": "2020-12-05T22:55:59.537355Z",
     "start_time": "2020-12-05T22:55:45.841917Z"
    }
   },
   "outputs": [
    {
     "name": "stderr",
     "output_type": "stream",
     "text": [
      "Couldn't reach server at 'https://s3.amazonaws.com/models.huggingface.co/bert/facebook/bart-large-cnn/modelcard.json' to download model card file.\n",
      "Creating an empty model card.\n"
     ]
    }
   ],
   "source": [
    "summarizer = pipeline('summarization', model=model_name)"
   ]
  },
  {
   "cell_type": "code",
   "execution_count": 16,
   "metadata": {
    "ExecuteTime": {
     "end_time": "2020-12-05T22:55:59.541895Z",
     "start_time": "2020-12-05T22:55:59.539163Z"
    }
   },
   "outputs": [],
   "source": [
    "min_len = 10\n",
    "max_len = 50\n",
    "do_sample = False"
   ]
  },
  {
   "cell_type": "code",
   "execution_count": 17,
   "metadata": {
    "ExecuteTime": {
     "end_time": "2020-12-05T23:07:51.896491Z",
     "start_time": "2020-12-05T22:55:59.543550Z"
    }
   },
   "outputs": [],
   "source": [
    "for i in range(num_entities):\n",
    "    doc = pseudodocs[i]\n",
    "    summary_text = summarizer(doc, min_length=min_len, max_length=max_len, do_sample=do_sample)[0]['summary_text']\n",
    "    summaries.append(summary_text)"
   ]
  },
  {
   "cell_type": "code",
   "execution_count": 18,
   "metadata": {
    "ExecuteTime": {
     "end_time": "2020-12-05T23:07:51.915385Z",
     "start_time": "2020-12-05T23:07:51.906502Z"
    }
   },
   "outputs": [],
   "source": [
    "from pprint import pprint"
   ]
  },
  {
   "cell_type": "code",
   "execution_count": 19,
   "metadata": {
    "ExecuteTime": {
     "end_time": "2020-12-05T23:07:51.949955Z",
     "start_time": "2020-12-05T23:07:51.923763Z"
    }
   },
   "outputs": [
    {
     "name": "stdout",
     "output_type": "stream",
     "text": [
      "['Nikon d3200 digital slr camera, 24.2 megapixels for less at walmart.com. '\n",
      " 'Save money. live live better.  nikon  dslr camera with 18 55mm and 55',\n",
      " 'Canon eos 7d digital slr camera with 18-135mm f/3.5-5.6 is reviews - '\n",
      " 'buzzillions.com cammarkt.',\n",
      " 'Camerafarm australia canon eos 60d 18.1x optical zoom - 4272 x 2848 image - '\n",
      " '1920 x 1080 video - hdmi - pictbridge - hD movie mode.',\n",
      " ' ebay nikon d3100 + 18-55/3.5-5.6 vr + 55-300/4.5 - 5.5 vr  new zealand '\n",
      " 'prices - priceme.  ',\n",
      " 'Ebay buy nikon d5200 digital slr camera, black (body only) cameras - digital '\n",
      " '- slr 1501 today at pc connection.  nikons.com   \\xa0nikon 5200',\n",
      " 'Nikon d5100 16.2 mp cmos digital slr camera bundle with 18-55mm lens. 2 en '\n",
      " 'el14 batteries, no charger.',\n",
      " ' ebay nikon d7000 (18-105 mm) price in india, bangalore, hyderabad, delhi, '\n",
      " 'chennai, mumbai, pune, kolkatta nik on d7',\n",
      " 'Canon eos 70d digital slr 20 2 mp camera with 18 55mm stm f 3 5 5 6 lens on '\n",
      " 'sale for $1008.81. Canon eos70d + 18-135/3.5',\n",
      " 'Nikon d5300 24.2 mp cmos digital slr camera with built-in wi-fi on sale for '\n",
      " '$847.82.',\n",
      " 'Canon eos 5d mark iii digital slr camera with 24-105mm f/4l is lens digital '\n",
      " 'slR camera. Ebay canon dslr eos5d markii digital camera with genuine canon '\n",
      " 'grip.',\n",
      " 'Ebay canon eos 5d mark ii 21 1 mp digital slr camera kit w ef 24 70mm l usm '\n",
      " 'lens 5055147552252. Canon eos5d mark iw canon 85mm 1 8',\n",
      " 'Nikon d90 + 18-200/3.5-5.6 vr ii  new zealand prices - priceme nikon  12 3 '\n",
      " 'mp digital slr camera black body only 25446.',\n",
      " 'Buy nikon d800 digital slr body, 36.3mp (body only) cameras - digital - slr '\n",
      " '25480 today at pc connection.',\n",
      " 'Nikon d610 24.3mp fx-format digital slr on sale for $1859.95. The 24-85mm '\n",
      " 'kit is also available for $2746.99.',\n",
      " 'Nikon d3300 (18-55 mm & 55-200 mm vr) price in india, bangalore, hyderabad, '\n",
      " 'delhi, chennai, mumbai, pune, kolkatta',\n",
      " 'Ebay nikon 1 j1 mirrorless 10-30 mm price in india with offers, reviews & '\n",
      " 'full specifications. Prices range from 10/2.8 to 10/3.5-5.6 vr.',\n",
      " 'Ebay nikon d80 with 28 80 lens and extras on sale for $1486.49. ebay '\n",
      " 'cammarkt | nik on d80 10.2mp digital slr camera kit with 18-55mm',\n",
      " 'Nikon d300 12 3mp dslr has less than 15 000 actuations on shutter | ebay '\n",
      " 'nikon  d300 body only 22827 actuations exc. ebay    ebay read nik',\n",
      " 'Nikon 1 j3 digital slr camera white w 10â\\x80\\x9330mm vr lens kit bundle 14 '\n",
      " '2mp hd 018208276387 | ebay. nikon j3  new zeal',\n",
      " 'Olympus om-d e-m5 + 12-50/3.5-6.3  new zealand prices - priceme olympus e m5 '\n",
      " 'camera silver body only including ep 11 eyecup.']\n"
     ]
    }
   ],
   "source": [
    "pprint(summaries)"
   ]
  },
  {
   "cell_type": "markdown",
   "metadata": {},
   "source": [
    "---"
   ]
  },
  {
   "cell_type": "markdown",
   "metadata": {},
   "source": [
    "## Compute tf-idf on each pseudo-document"
   ]
  },
  {
   "cell_type": "markdown",
   "metadata": {},
   "source": [
    "### Define corpus"
   ]
  },
  {
   "cell_type": "code",
   "execution_count": 20,
   "metadata": {
    "ExecuteTime": {
     "end_time": "2020-12-05T23:07:52.371085Z",
     "start_time": "2020-12-05T23:07:51.958221Z"
    }
   },
   "outputs": [
    {
     "data": {
      "text/plain": [
       "20"
      ]
     },
     "execution_count": 20,
     "metadata": {},
     "output_type": "execute_result"
    }
   ],
   "source": [
    "clean_pseudodocs = []\n",
    "\n",
    "for i in range(num_entities):\n",
    "    doc = pseudodocs[i]\n",
    "    clean_doc = ' '.join(TrainingCorpus.tokenize(doc))\n",
    "    clean_pseudodocs.append(clean_doc)\n",
    "\n",
    "len(clean_pseudodocs)"
   ]
  },
  {
   "cell_type": "markdown",
   "metadata": {
    "ExecuteTime": {
     "end_time": "2020-12-05T11:18:53.469356Z",
     "start_time": "2020-12-05T11:18:53.464468Z"
    }
   },
   "source": [
    "# Fit tf-idf vectorizer"
   ]
  },
  {
   "cell_type": "code",
   "execution_count": 21,
   "metadata": {
    "ExecuteTime": {
     "end_time": "2020-12-05T23:07:52.382458Z",
     "start_time": "2020-12-05T23:07:52.377511Z"
    }
   },
   "outputs": [],
   "source": [
    "from sklearn.feature_extraction.text import TfidfVectorizer"
   ]
  },
  {
   "cell_type": "code",
   "execution_count": 22,
   "metadata": {
    "ExecuteTime": {
     "end_time": "2020-12-05T23:07:52.430308Z",
     "start_time": "2020-12-05T23:07:52.390036Z"
    }
   },
   "outputs": [
    {
     "name": "stderr",
     "output_type": "stream",
     "text": [
      "/home/nvidia/.local/lib/python3.7/site-packages/sklearn/feature_extraction/text.py:484: UserWarning: The parameter 'token_pattern' will not be used since 'tokenizer' is not None'\n",
      "  warnings.warn(\"The parameter 'token_pattern' will not be used\"\n"
     ]
    },
    {
     "data": {
      "text/plain": [
       "TfidfVectorizer(lowercase=False,\n",
       "                tokenizer=<function <lambda> at 0x7f4bce7dcdd0>)"
      ]
     },
     "execution_count": 22,
     "metadata": {},
     "output_type": "execute_result"
    }
   ],
   "source": [
    "vectorizer = TfidfVectorizer(lowercase=False, tokenizer=lambda x: x.split())\n",
    "vectorizer.fit(clean_pseudodocs)"
   ]
  },
  {
   "cell_type": "markdown",
   "metadata": {},
   "source": [
    "## Save tf-idf weights into a dict"
   ]
  },
  {
   "cell_type": "code",
   "execution_count": 23,
   "metadata": {
    "ExecuteTime": {
     "end_time": "2020-12-05T23:07:52.470766Z",
     "start_time": "2020-12-05T23:07:52.441403Z"
    }
   },
   "outputs": [
    {
     "data": {
      "text/plain": [
       "(20, 1224)"
      ]
     },
     "execution_count": 23,
     "metadata": {},
     "output_type": "execute_result"
    }
   ],
   "source": [
    "vectorized_docs = vectorizer.transform(clean_pseudodocs)\n",
    "vectorized_docs.shape"
   ]
  },
  {
   "cell_type": "code",
   "execution_count": 24,
   "metadata": {
    "ExecuteTime": {
     "end_time": "2020-12-05T23:08:05.884867Z",
     "start_time": "2020-12-05T23:07:52.479362Z"
    }
   },
   "outputs": [],
   "source": [
    "tfidf_weights = []\n",
    "\n",
    "for i in range(num_entities):\n",
    "    doc_vector = vectorized_docs[i].toarray().reshape(-1)\n",
    "    weights = {}\n",
    "    \n",
    "    for j, w in enumerate(doc_vector):\n",
    "        feature_name = vectorizer.get_feature_names()[j]\n",
    "        if w > 0:\n",
    "            weights[feature_name] = w\n",
    "    \n",
    "    tfidf_weights.append(weights)"
   ]
  },
  {
   "cell_type": "markdown",
   "metadata": {},
   "source": [
    "## Compute baseline summaries"
   ]
  },
  {
   "cell_type": "code",
   "execution_count": 25,
   "metadata": {
    "ExecuteTime": {
     "end_time": "2020-12-05T23:08:05.903088Z",
     "start_time": "2020-12-05T23:08:05.895253Z"
    }
   },
   "outputs": [],
   "source": [
    "min_len = 1\n",
    "max_len = 10"
   ]
  },
  {
   "cell_type": "code",
   "execution_count": 26,
   "metadata": {
    "ExecuteTime": {
     "end_time": "2020-12-05T23:08:05.918124Z",
     "start_time": "2020-12-05T23:08:05.911994Z"
    }
   },
   "outputs": [],
   "source": [
    "tolerance = 5"
   ]
  },
  {
   "cell_type": "code",
   "execution_count": 27,
   "metadata": {
    "ExecuteTime": {
     "end_time": "2020-12-05T23:08:05.935699Z",
     "start_time": "2020-12-05T23:08:05.927119Z"
    }
   },
   "outputs": [],
   "source": [
    "def compute_score(idx, text):\n",
    "    weights = tfidf_weights[idx]\n",
    "    tokenized_text = TrainingCorpus.tokenize(text.lower())\n",
    "    score = 0\n",
    "    \n",
    "    if tokenized_text:\n",
    "        for token in tokenized_text:\n",
    "            if token in weights:\n",
    "                score += weights[token]\n",
    "    \n",
    "    return score"
   ]
  },
  {
   "cell_type": "code",
   "execution_count": 28,
   "metadata": {
    "ExecuteTime": {
     "end_time": "2020-12-05T23:08:05.948020Z",
     "start_time": "2020-12-05T23:08:05.944108Z"
    }
   },
   "outputs": [],
   "source": [
    "import numpy as np"
   ]
  },
  {
   "cell_type": "code",
   "execution_count": 29,
   "metadata": {
    "ExecuteTime": {
     "end_time": "2020-12-05T23:08:05.959878Z",
     "start_time": "2020-12-05T23:08:05.954799Z"
    }
   },
   "outputs": [],
   "source": [
    "threshold_percentile = 98"
   ]
  },
  {
   "cell_type": "code",
   "execution_count": 30,
   "metadata": {
    "ExecuteTime": {
     "end_time": "2020-12-05T23:08:06.036588Z",
     "start_time": "2020-12-05T23:08:05.966985Z"
    }
   },
   "outputs": [],
   "source": [
    "final_summaries = []\n",
    "\n",
    "for i in range(num_entities):\n",
    "    summary = summaries[i].split()\n",
    "    weights = list(tfidf_weights[i].values())\n",
    "    threshold = np.percentile(weights, threshold_percentile)\n",
    "    below_threshold_count = 0\n",
    "    prev_score = 0\n",
    "    \n",
    "    for j in range(min_len, max_len):\n",
    "        selected_summary_tokens = summary[:j]\n",
    "        selected_summary = ' '.join(selected_summary_tokens)\n",
    "        score = compute_score(i, selected_summary)\n",
    "        delta_score = score - prev_score\n",
    "        \n",
    "        if delta_score >= threshold:\n",
    "            below_threshold_count = 0\n",
    "        else:\n",
    "            below_threshold_count += 1\n",
    "            \n",
    "        if below_threshold_count > tolerance:\n",
    "            final_summary = ' '.join(selected_summary_tokens[:j-tolerance-1])\n",
    "            break\n",
    "                \n",
    "        else:\n",
    "            final_summary = selected_summary\n",
    "        \n",
    "        prev_score = score\n",
    "    \n",
    "    final_summaries.append(final_summary)"
   ]
  },
  {
   "cell_type": "code",
   "execution_count": 31,
   "metadata": {
    "ExecuteTime": {
     "end_time": "2020-12-05T23:08:06.054966Z",
     "start_time": "2020-12-05T23:08:06.044056Z"
    }
   },
   "outputs": [
    {
     "data": {
      "text/plain": [
       "['Nikon d3200 digital slr camera, 24.2 megapixels for less',\n",
       " 'Canon eos 7d',\n",
       " 'Camerafarm australia canon eos 60d 18.1x optical zoom -',\n",
       " 'ebay nikon d3100',\n",
       " 'Ebay buy nikon d5200 digital slr camera, black (body',\n",
       " 'Nikon d5100 16.2',\n",
       " 'ebay nikon d7000',\n",
       " 'Canon eos 70d digital slr 20 2 mp camera',\n",
       " 'Nikon d5300 24.2 mp cmos digital slr camera with',\n",
       " 'Canon eos 5d mark iii digital slr camera with',\n",
       " 'Ebay canon eos 5d mark ii 21 1 mp',\n",
       " 'Nikon d90',\n",
       " 'Buy nikon d800 digital slr body, 36.3mp (body only)',\n",
       " 'Nikon d610 24.3mp',\n",
       " 'Nikon d3300',\n",
       " 'Ebay nikon 1 j1 mirrorless 10-30 mm price in',\n",
       " 'Ebay nikon d80',\n",
       " 'Nikon d300 12',\n",
       " 'Nikon 1 j3',\n",
       " 'Olympus om-d e-m5']"
      ]
     },
     "execution_count": 31,
     "metadata": {},
     "output_type": "execute_result"
    }
   ],
   "source": [
    "final_summaries"
   ]
  },
  {
   "cell_type": "markdown",
   "metadata": {},
   "source": [
    "---"
   ]
  }
 ],
 "metadata": {
  "kernelspec": {
   "display_name": "Python 3",
   "language": "python",
   "name": "python3"
  },
  "language_info": {
   "codemirror_mode": {
    "name": "ipython",
    "version": 3
   },
   "file_extension": ".py",
   "mimetype": "text/x-python",
   "name": "python",
   "nbconvert_exporter": "python",
   "pygments_lexer": "ipython3",
   "version": "3.7.7"
  },
  "toc": {
   "base_numbering": 1,
   "nav_menu": {},
   "number_sections": true,
   "sideBar": true,
   "skip_h1_title": false,
   "title_cell": "Table of Contents",
   "title_sidebar": "Contents",
   "toc_cell": false,
   "toc_position": {},
   "toc_section_display": true,
   "toc_window_display": false
  }
 },
 "nbformat": 4,
 "nbformat_minor": 4
}
