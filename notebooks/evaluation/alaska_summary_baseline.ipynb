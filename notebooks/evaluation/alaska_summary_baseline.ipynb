{
 "cells": [
  {
   "cell_type": "markdown",
   "metadata": {},
   "source": [
    "# Summary baseline"
   ]
  },
  {
   "cell_type": "markdown",
   "metadata": {},
   "source": [
    "## Load the data"
   ]
  },
  {
   "cell_type": "code",
   "execution_count": 1,
   "metadata": {
    "ExecuteTime": {
     "end_time": "2020-12-05T18:10:20.794492Z",
     "start_time": "2020-12-05T18:10:20.790061Z"
    }
   },
   "outputs": [],
   "source": [
    "root_dir = '../../'\n",
    "src_dir = 'src'\n",
    "data_dir = 'data/corpus'\n",
    "models_dir = 'data/models'"
   ]
  },
  {
   "cell_type": "code",
   "execution_count": 2,
   "metadata": {
    "ExecuteTime": {
     "end_time": "2020-12-05T18:10:21.017361Z",
     "start_time": "2020-12-05T18:10:21.014328Z"
    }
   },
   "outputs": [],
   "source": [
    "import os\n",
    "import sys"
   ]
  },
  {
   "cell_type": "code",
   "execution_count": 3,
   "metadata": {
    "ExecuteTime": {
     "end_time": "2020-12-05T18:10:21.240631Z",
     "start_time": "2020-12-05T18:10:21.236703Z"
    }
   },
   "outputs": [],
   "source": [
    "sys.path.append(os.path.join(root_dir, src_dir))"
   ]
  },
  {
   "cell_type": "code",
   "execution_count": 4,
   "metadata": {
    "ExecuteTime": {
     "end_time": "2020-12-05T18:10:21.462309Z",
     "start_time": "2020-12-05T18:10:21.459177Z"
    }
   },
   "outputs": [],
   "source": [
    "corpus_filename = 'alaska_corpus.json'"
   ]
  },
  {
   "cell_type": "code",
   "execution_count": 5,
   "metadata": {
    "ExecuteTime": {
     "end_time": "2020-12-05T18:10:23.149747Z",
     "start_time": "2020-12-05T18:10:21.680664Z"
    }
   },
   "outputs": [],
   "source": [
    "from training import TrainingCorpus"
   ]
  },
  {
   "cell_type": "code",
   "execution_count": 6,
   "metadata": {
    "ExecuteTime": {
     "end_time": "2020-12-05T18:10:23.169670Z",
     "start_time": "2020-12-05T18:10:23.152170Z"
    }
   },
   "outputs": [],
   "source": [
    "corpus = TrainingCorpus()\n",
    "corpus.load(os.path.join(root_dir, data_dir, corpus_filename))"
   ]
  },
  {
   "cell_type": "code",
   "execution_count": 7,
   "metadata": {
    "ExecuteTime": {
     "end_time": "2020-12-05T18:10:23.185031Z",
     "start_time": "2020-12-05T18:10:23.171599Z"
    }
   },
   "outputs": [
    {
     "data": {
      "text/plain": [
       "2171"
      ]
     },
     "execution_count": 7,
     "metadata": {},
     "output_type": "execute_result"
    }
   ],
   "source": [
    "corpus.size"
   ]
  },
  {
   "cell_type": "markdown",
   "metadata": {},
   "source": [
    "---"
   ]
  },
  {
   "cell_type": "markdown",
   "metadata": {},
   "source": [
    "## Builds pseudo-docs"
   ]
  },
  {
   "cell_type": "code",
   "execution_count": 8,
   "metadata": {
    "ExecuteTime": {
     "end_time": "2020-12-05T18:10:23.190995Z",
     "start_time": "2020-12-05T18:10:23.187571Z"
    }
   },
   "outputs": [],
   "source": [
    "from collections import defaultdict"
   ]
  },
  {
   "cell_type": "code",
   "execution_count": 9,
   "metadata": {
    "ExecuteTime": {
     "end_time": "2020-12-05T18:10:23.197072Z",
     "start_time": "2020-12-05T18:10:23.193949Z"
    }
   },
   "outputs": [],
   "source": [
    "pseudodocs_dict = defaultdict(str)"
   ]
  },
  {
   "cell_type": "code",
   "execution_count": 10,
   "metadata": {
    "ExecuteTime": {
     "end_time": "2020-12-05T18:10:23.421178Z",
     "start_time": "2020-12-05T18:10:23.410517Z"
    }
   },
   "outputs": [],
   "source": [
    "for doc_id in corpus.docs:\n",
    "    text = corpus.get_text(doc_id)\n",
    "    label = corpus.target[doc_id][0]\n",
    "    pseudodocs_dict[label] += ' ' + text"
   ]
  },
  {
   "cell_type": "markdown",
   "metadata": {
    "ExecuteTime": {
     "end_time": "2020-12-03T09:34:52.385404Z",
     "start_time": "2020-12-03T09:34:52.380486Z"
    }
   },
   "source": [
    "## Summarize pseudo-docs"
   ]
  },
  {
   "cell_type": "code",
   "execution_count": 11,
   "metadata": {
    "ExecuteTime": {
     "end_time": "2020-12-05T18:10:23.959993Z",
     "start_time": "2020-12-05T18:10:23.955238Z"
    }
   },
   "outputs": [],
   "source": [
    "entities = list(pseudodocs_dict.keys())\n",
    "num_entities = len(entities)\n",
    "pseudodocs = [pseudodocs_dict[e_id] for e_id in entities]"
   ]
  },
  {
   "cell_type": "code",
   "execution_count": 12,
   "metadata": {
    "ExecuteTime": {
     "end_time": "2020-12-05T18:10:24.252186Z",
     "start_time": "2020-12-05T18:10:24.248627Z"
    }
   },
   "outputs": [],
   "source": [
    "summary = []"
   ]
  },
  {
   "cell_type": "code",
   "execution_count": 13,
   "metadata": {
    "ExecuteTime": {
     "end_time": "2020-12-05T18:10:26.730528Z",
     "start_time": "2020-12-05T18:10:24.483637Z"
    }
   },
   "outputs": [],
   "source": [
    "from transformers import pipeline"
   ]
  },
  {
   "cell_type": "code",
   "execution_count": 14,
   "metadata": {
    "ExecuteTime": {
     "end_time": "2020-12-05T18:10:26.735286Z",
     "start_time": "2020-12-05T18:10:26.732496Z"
    }
   },
   "outputs": [],
   "source": [
    "model_name = 'bart-large-cnn'"
   ]
  },
  {
   "cell_type": "code",
   "execution_count": 15,
   "metadata": {
    "ExecuteTime": {
     "end_time": "2020-12-05T18:10:39.921637Z",
     "start_time": "2020-12-05T18:10:26.737234Z"
    }
   },
   "outputs": [
    {
     "name": "stderr",
     "output_type": "stream",
     "text": [
      "Couldn't reach server at 'https://s3.amazonaws.com/models.huggingface.co/bert/facebook/bart-large-cnn/modelcard.json' to download model card file.\n",
      "Creating an empty model card.\n"
     ]
    }
   ],
   "source": [
    "summarizer = pipeline('summarization', model=model_name)"
   ]
  },
  {
   "cell_type": "code",
   "execution_count": 16,
   "metadata": {
    "ExecuteTime": {
     "end_time": "2020-12-05T18:10:39.927037Z",
     "start_time": "2020-12-05T18:10:39.924156Z"
    }
   },
   "outputs": [],
   "source": [
    "min_len = 10\n",
    "max_len = 50\n",
    "do_sample = False"
   ]
  },
  {
   "cell_type": "code",
   "execution_count": 17,
   "metadata": {
    "ExecuteTime": {
     "end_time": "2020-12-05T18:14:17.470325Z",
     "start_time": "2020-12-05T18:10:39.928476Z"
    }
   },
   "outputs": [],
   "source": [
    "for i in range(num_entities):\n",
    "    doc = pseudodocs[i]\n",
    "    summary_text = summarizer(doc, min_length=min_len, max_length=max_len, do_sample=do_sample)[0]['summary_text']\n",
    "    summary.append(summary_text)"
   ]
  },
  {
   "cell_type": "code",
   "execution_count": 18,
   "metadata": {
    "ExecuteTime": {
     "end_time": "2020-12-05T18:14:17.510572Z",
     "start_time": "2020-12-05T18:14:17.492198Z"
    }
   },
   "outputs": [],
   "source": [
    "from pprint import pprint"
   ]
  },
  {
   "cell_type": "code",
   "execution_count": 19,
   "metadata": {
    "ExecuteTime": {
     "end_time": "2020-12-05T18:14:17.543812Z",
     "start_time": "2020-12-05T18:14:17.517469Z"
    }
   },
   "outputs": [
    {
     "name": "stdout",
     "output_type": "stream",
     "text": [
      "['Nikon d3200 digital slr camera, 24.2 megapixels for less at walmart.com. '\n",
      " 'Save money. live live better.  nikon  dslr camera with 18 55mm and 55',\n",
      " 'Canon eos 7d digital slr camera with 18-135mm f/3.5-5.6 is reviews - '\n",
      " 'buzzillions.com cammarkt.',\n",
      " 'Camerafarm australia canon eos 60d 18.1x optical zoom - 4272 x 2848 image - '\n",
      " '1920 x 1080 video - hdmi - pictbridge - hD movie mode.',\n",
      " ' ebay nikon d3100 + 18-55/3.5-5.6 vr + 55-300/4.5 - 5.5 vr  new zealand '\n",
      " 'prices - priceme.  ',\n",
      " 'Ebay buy nikon d5200 digital slr camera, black (body only) cameras - digital '\n",
      " '- slr 1501 today at pc connection.  nikons.com   \\xa0nikon 5200',\n",
      " 'Nikon d5100 16.2 mp cmos digital slr camera bundle with 18-55mm lens. 2 en '\n",
      " 'el14 batteries, no charger.',\n",
      " ' ebay nikon d7000 (18-105 mm) price in india, bangalore, hyderabad, delhi, '\n",
      " 'chennai, mumbai, pune, kolkatta nik on d7',\n",
      " 'Canon eos 70d digital slr 20 2 mp camera with 18 55mm stm f 3 5 5 6 lens on '\n",
      " 'sale for $1008.81. Canon eos70d + 18-135/3.5',\n",
      " 'Nikon d5300 24.2 mp cmos digital slr camera with built-in wi-fi on sale for '\n",
      " '$847.82.',\n",
      " 'Canon eos 5d mark iii digital slr camera with 24-105mm f/4l is lens digital '\n",
      " 'slR camera. Ebay canon dslr eos5d markii digital camera with genuine canon '\n",
      " 'grip.',\n",
      " 'Ebay canon eos 5d mark ii 21 1 mp digital slr camera kit w ef 24 70mm l usm '\n",
      " 'lens 5055147552252. Canon eos5d mark iw canon 85mm 1 8',\n",
      " 'Nikon d90 + 18-200/3.5-5.6 vr ii  new zealand prices - priceme nikon  12 3 '\n",
      " 'mp digital slr camera black body only 25446.',\n",
      " 'Buy nikon d800 digital slr body, 36.3mp (body only) cameras - digital - slr '\n",
      " '25480 today at pc connection.',\n",
      " 'Nikon d610 24.3mp fx-format digital slr on sale for $1859.95. The 24-85mm '\n",
      " 'kit is also available for $2746.99.',\n",
      " 'Nikon d3300 (18-55 mm & 55-200 mm vr) price in india, bangalore, hyderabad, '\n",
      " 'delhi, chennai, mumbai, pune, kolkatta',\n",
      " 'Ebay nikon 1 j1 mirrorless 10-30 mm price in india with offers, reviews & '\n",
      " 'full specifications. Prices range from 10/2.8 to 10/3.5-5.6 vr.',\n",
      " 'Ebay nikon d80 with 28 80 lens and extras on sale for $1486.49. ebay '\n",
      " 'cammarkt | nik on d80 10.2mp digital slr camera kit with 18-55mm',\n",
      " 'Nikon d300 12 3mp dslr has less than 15 000 actuations on shutter | ebay '\n",
      " 'nikon  d300 body only 22827 actuations exc. ebay    ebay read nik',\n",
      " 'Nikon 1 j3 digital slr camera white w 10â\\x80\\x9330mm vr lens kit bundle 14 '\n",
      " '2mp hd 018208276387 | ebay. nikon j3  new zeal',\n",
      " 'Olympus om-d e-m5 + 12-50/3.5-6.3  new zealand prices - priceme olympus e m5 '\n",
      " 'camera silver body only including ep 11 eyecup.']\n"
     ]
    }
   ],
   "source": [
    "pprint(summary)"
   ]
  },
  {
   "cell_type": "markdown",
   "metadata": {},
   "source": [
    "---"
   ]
  },
  {
   "cell_type": "markdown",
   "metadata": {},
   "source": [
    "## Compute tf-idf on each pseudo-document"
   ]
  },
  {
   "cell_type": "markdown",
   "metadata": {},
   "source": [
    "### Define corpus"
   ]
  },
  {
   "cell_type": "code",
   "execution_count": 20,
   "metadata": {
    "ExecuteTime": {
     "end_time": "2020-12-05T18:14:17.839273Z",
     "start_time": "2020-12-05T18:14:17.556123Z"
    }
   },
   "outputs": [
    {
     "data": {
      "text/plain": [
       "20"
      ]
     },
     "execution_count": 20,
     "metadata": {},
     "output_type": "execute_result"
    }
   ],
   "source": [
    "clean_pseudodocs = []\n",
    "\n",
    "for i in range(num_entities):\n",
    "    doc = pseudodocs[i]\n",
    "    clean_doc = ' '.join(TrainingCorpus.tokenize(doc))\n",
    "    clean_pseudodocs.append(clean_doc)\n",
    "\n",
    "len(clean_pseudodocs)"
   ]
  },
  {
   "cell_type": "markdown",
   "metadata": {
    "ExecuteTime": {
     "end_time": "2020-12-05T11:18:53.469356Z",
     "start_time": "2020-12-05T11:18:53.464468Z"
    }
   },
   "source": [
    "# Fit tf-idf vectorizer"
   ]
  },
  {
   "cell_type": "code",
   "execution_count": 21,
   "metadata": {
    "ExecuteTime": {
     "end_time": "2020-12-05T18:14:17.845813Z",
     "start_time": "2020-12-05T18:14:17.842347Z"
    }
   },
   "outputs": [],
   "source": [
    "from sklearn.feature_extraction.text import TfidfVectorizer"
   ]
  },
  {
   "cell_type": "code",
   "execution_count": 22,
   "metadata": {
    "ExecuteTime": {
     "end_time": "2020-12-05T18:14:17.868378Z",
     "start_time": "2020-12-05T18:14:17.849343Z"
    }
   },
   "outputs": [
    {
     "name": "stderr",
     "output_type": "stream",
     "text": [
      "/home/nvidia/.local/lib/python3.7/site-packages/sklearn/feature_extraction/text.py:484: UserWarning: The parameter 'token_pattern' will not be used since 'tokenizer' is not None'\n",
      "  warnings.warn(\"The parameter 'token_pattern' will not be used\"\n"
     ]
    },
    {
     "data": {
      "text/plain": [
       "TfidfVectorizer(lowercase=False,\n",
       "                tokenizer=<function <lambda> at 0x7f991dc4a170>)"
      ]
     },
     "execution_count": 22,
     "metadata": {},
     "output_type": "execute_result"
    }
   ],
   "source": [
    "vectorizer = TfidfVectorizer(lowercase=False, tokenizer=lambda x: x.split())\n",
    "vectorizer.fit(clean_pseudodocs)"
   ]
  },
  {
   "cell_type": "markdown",
   "metadata": {},
   "source": [
    "## Save tf-idf weights into a dict"
   ]
  },
  {
   "cell_type": "code",
   "execution_count": 23,
   "metadata": {
    "ExecuteTime": {
     "end_time": "2020-12-05T18:14:17.881974Z",
     "start_time": "2020-12-05T18:14:17.869657Z"
    }
   },
   "outputs": [
    {
     "data": {
      "text/plain": [
       "(20, 1224)"
      ]
     },
     "execution_count": 23,
     "metadata": {},
     "output_type": "execute_result"
    }
   ],
   "source": [
    "vectorized_docs = vectorizer.transform(clean_pseudodocs)\n",
    "vectorized_docs.shape"
   ]
  },
  {
   "cell_type": "code",
   "execution_count": 26,
   "metadata": {
    "ExecuteTime": {
     "end_time": "2020-12-05T18:14:25.787059Z",
     "start_time": "2020-12-05T18:14:17.893133Z"
    }
   },
   "outputs": [],
   "source": [
    "tfidf_weights = []\n",
    "\n",
    "for i in range(num_entities):\n",
    "    doc_vector = vectorized_docs[i].toarray().reshape(-1)\n",
    "    weights = {}\n",
    "    \n",
    "    for j, w in enumerate(doc_vector):\n",
    "        feature_name = vectorizer.get_feature_names()[j]\n",
    "        if w > 0:\n",
    "            weights[feature_name] = w\n",
    "    \n",
    "    tfidf_weights.append(weights)"
   ]
  },
  {
   "cell_type": "markdown",
   "metadata": {},
   "source": [
    "## Compute n-grams and score them"
   ]
  },
  {
   "cell_type": "code",
   "execution_count": 38,
   "metadata": {
    "ExecuteTime": {
     "end_time": "2020-12-05T18:18:21.486834Z",
     "start_time": "2020-12-05T18:18:21.479967Z"
    }
   },
   "outputs": [],
   "source": [
    "ngram_min = 1\n",
    "ngram_max = 10"
   ]
  },
  {
   "cell_type": "code",
   "execution_count": 57,
   "metadata": {
    "ExecuteTime": {
     "end_time": "2020-12-05T18:23:53.688126Z",
     "start_time": "2020-12-05T18:23:53.672310Z"
    }
   },
   "outputs": [],
   "source": [
    "def custom_fn(x, alpha):\n",
    "    return 1 + alpha*x"
   ]
  },
  {
   "cell_type": "code",
   "execution_count": 66,
   "metadata": {
    "ExecuteTime": {
     "end_time": "2020-12-05T18:25:37.101404Z",
     "start_time": "2020-12-05T18:25:37.097648Z"
    }
   },
   "outputs": [],
   "source": [
    "alpha = 0.2"
   ]
  },
  {
   "cell_type": "code",
   "execution_count": 67,
   "metadata": {
    "ExecuteTime": {
     "end_time": "2020-12-05T18:25:37.351322Z",
     "start_time": "2020-12-05T18:25:37.347738Z"
    }
   },
   "outputs": [],
   "source": [
    "import math\n",
    "from nltk import ngrams"
   ]
  },
  {
   "cell_type": "code",
   "execution_count": 68,
   "metadata": {
    "ExecuteTime": {
     "end_time": "2020-12-05T18:26:11.546487Z",
     "start_time": "2020-12-05T18:25:37.575909Z"
    }
   },
   "outputs": [],
   "source": [
    "final_summaries = []\n",
    "\n",
    "for i in range(num_entities):\n",
    "    doc = pseudodocs[i].split()\n",
    "    doc_len = len(doc)\n",
    "    n_max = min(doc_len, ngram_max)\n",
    "    entity_weights = tfidf_weights[i]\n",
    "    entity_ngrams = {}\n",
    "    \n",
    "    # compute all ngrams\n",
    "    for j in range(ngram_min, n_max + 1):\n",
    "        ngrams_list = ngrams(doc, j)\n",
    "        \n",
    "        # compute score for each ngram by\n",
    "        # summing up the tf-idf weights of the \n",
    "        # tf-idf vector associated with the ngram\n",
    "        for ngram in ngrams_list:\n",
    "            ngram_str = ' '.join(ngram).lower()\n",
    "            clean_ngram = TrainingCorpus.tokenize(ngram_str)\n",
    "            score = 0\n",
    "            \n",
    "            # check for null list of tokens\n",
    "            if clean_ngram:\n",
    "                for token in clean_ngram:\n",
    "                    if token in entity_weights:\n",
    "                        score += entity_weights[token]\n",
    "            \n",
    "            if score:\n",
    "                # penalize long summaries\n",
    "                score = score/custom_fn(j, alpha)\n",
    "                entity_ngrams[ngram_str] = score\n",
    "        \n",
    "    sorted_ngrams = sorted(entity_ngrams.items(), key=lambda x: -x[1])    \n",
    "    selected_ngram = sorted_ngrams[0][0]\n",
    "    final_summaries.append(selected_ngram)"
   ]
  },
  {
   "cell_type": "code",
   "execution_count": 69,
   "metadata": {
    "ExecuteTime": {
     "end_time": "2020-12-05T18:26:11.553467Z",
     "start_time": "2020-12-05T18:26:11.548840Z"
    }
   },
   "outputs": [
    {
     "data": {
      "text/plain": [
       "['nikon d3200 with 18 55mm | ebay nikon d3200',\n",
       " 'canon eos 7d body only canon eos 7d',\n",
       " 'canon eos 60d body | ebay canon eos 60d',\n",
       " 'nikon d3100 | ebay nikon d3100 14',\n",
       " 'nikon d5200 body nikon d5200',\n",
       " 'nikon d5100 camera | ebay nikon d5100',\n",
       " 'nikon d7000 018208254682 | ebay nikon d7000 16',\n",
       " 'eos 70d digital camera 013803221596 | ebay canon eos 70d',\n",
       " 'nikon d5300 black digital slr body nikon d5300',\n",
       " 'eos 5d mark iii digital camera - buy 5d iii,canon,digital',\n",
       " '5d mark ii 013803105384 | ebay canon eos 5d mark',\n",
       " 'nikon d90 12.3',\n",
       " '018208254804 | ebay nikon d800 body nikon d800 36',\n",
       " 'nikon d610 body only digital slr camera nikon d610 24.3mp',\n",
       " 'nikon d3300 black body digital slr nikon d3300',\n",
       " 'nikon 1 j1 | ebay nikon 1 j1 10 1',\n",
       " '018208254125 | ebay nikon d80 10.2mp digital slr camera',\n",
       " 'd300 12.3 mp dslr camera body nikkor nikon d300 12',\n",
       " 'nikon 1 j3 14.2',\n",
       " 'olympus om-d e-m5 black body olympus om-d e-m5']"
      ]
     },
     "execution_count": 69,
     "metadata": {},
     "output_type": "execute_result"
    }
   ],
   "source": [
    "final_summaries"
   ]
  },
  {
   "cell_type": "markdown",
   "metadata": {},
   "source": [
    "---"
   ]
  }
 ],
 "metadata": {
  "kernelspec": {
   "display_name": "Python 3",
   "language": "python",
   "name": "python3"
  },
  "language_info": {
   "codemirror_mode": {
    "name": "ipython",
    "version": 3
   },
   "file_extension": ".py",
   "mimetype": "text/x-python",
   "name": "python",
   "nbconvert_exporter": "python",
   "pygments_lexer": "ipython3",
   "version": "3.7.7"
  },
  "toc": {
   "base_numbering": 1,
   "nav_menu": {},
   "number_sections": true,
   "sideBar": true,
   "skip_h1_title": false,
   "title_cell": "Table of Contents",
   "title_sidebar": "Contents",
   "toc_cell": false,
   "toc_position": {},
   "toc_section_display": true,
   "toc_window_display": false
  }
 },
 "nbformat": 4,
 "nbformat_minor": 4
}
