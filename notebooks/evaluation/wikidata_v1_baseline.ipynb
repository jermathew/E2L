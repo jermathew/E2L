{
 "cells": [
  {
   "cell_type": "code",
   "execution_count": 2,
   "metadata": {
    "ExecuteTime": {
     "end_time": "2020-11-05T22:05:42.336918Z",
     "start_time": "2020-11-05T22:05:41.832660Z"
    }
   },
   "outputs": [],
   "source": [
    "import os\n",
    "import numpy as np\n",
    "import pandas as pd\n",
    "from tqdm.notebook import tqdm"
   ]
  },
  {
   "cell_type": "code",
   "execution_count": null,
   "metadata": {},
   "outputs": [],
   "source": [
    "version = 'v1'"
   ]
  },
  {
   "cell_type": "code",
   "execution_count": 3,
   "metadata": {
    "ExecuteTime": {
     "end_time": "2020-11-05T22:05:42.351821Z",
     "start_time": "2020-11-05T22:05:42.345040Z"
    }
   },
   "outputs": [],
   "source": [
    "root_dir = '../..'\n",
    "data_dir = 'data'\n",
    "corpus_dir = 'corpus'\n",
    "terms_dir = 'terms'\n",
    "filename = f'wikidata_corpus_{version}.xlsx'\n",
    "filepath = os.path.join(root_dir, data_dir, corpus_dir, filename)"
   ]
  },
  {
   "cell_type": "code",
   "execution_count": 4,
   "metadata": {
    "ExecuteTime": {
     "end_time": "2020-11-05T22:05:42.401120Z",
     "start_time": "2020-11-05T22:05:42.354090Z"
    }
   },
   "outputs": [],
   "source": [
    "#A = pd.read_excel(data, index_col=0)\n",
    "A = pd.read_excel(filepath, index_col=0)"
   ]
  },
  {
   "cell_type": "code",
   "execution_count": 5,
   "metadata": {
    "ExecuteTime": {
     "end_time": "2020-11-05T22:05:42.441223Z",
     "start_time": "2020-11-05T22:05:42.407513Z"
    }
   },
   "outputs": [
    {
     "data": {
      "text/html": [
       "<div>\n",
       "<style scoped>\n",
       "    .dataframe tbody tr th:only-of-type {\n",
       "        vertical-align: middle;\n",
       "    }\n",
       "\n",
       "    .dataframe tbody tr th {\n",
       "        vertical-align: top;\n",
       "    }\n",
       "\n",
       "    .dataframe thead th {\n",
       "        text-align: right;\n",
       "    }\n",
       "</style>\n",
       "<table border=\"1\" class=\"dataframe\">\n",
       "  <thead>\n",
       "    <tr style=\"text-align: right;\">\n",
       "      <th></th>\n",
       "      <th>doc_id</th>\n",
       "      <th>chunk_doc</th>\n",
       "      <th>label</th>\n",
       "    </tr>\n",
       "  </thead>\n",
       "  <tbody>\n",
       "    <tr>\n",
       "      <th>0</th>\n",
       "      <td>0</td>\n",
       "      <td>berlin city-state capital largest_city germany</td>\n",
       "      <td>Q64</td>\n",
       "    </tr>\n",
       "    <tr>\n",
       "      <th>1</th>\n",
       "      <td>1</td>\n",
       "      <td>berlin city millions inhabitants economy based...</td>\n",
       "      <td>Q64</td>\n",
       "    </tr>\n",
       "    <tr>\n",
       "      <th>2</th>\n",
       "      <td>2</td>\n",
       "      <td>berlin federal capital significant industries ...</td>\n",
       "      <td>Q64</td>\n",
       "    </tr>\n",
       "    <tr>\n",
       "      <th>3</th>\n",
       "      <td>3</td>\n",
       "      <td>berlin city millions inhabitants_capital large...</td>\n",
       "      <td>Q64</td>\n",
       "    </tr>\n",
       "    <tr>\n",
       "      <th>4</th>\n",
       "      <td>4</td>\n",
       "      <td>berlin urban municipality germany east berlin ...</td>\n",
       "      <td>Q64</td>\n",
       "    </tr>\n",
       "  </tbody>\n",
       "</table>\n",
       "</div>"
      ],
      "text/plain": [
       "   doc_id                                          chunk_doc label\n",
       "0       0     berlin city-state capital largest_city germany   Q64\n",
       "1       1  berlin city millions inhabitants economy based...   Q64\n",
       "2       2  berlin federal capital significant industries ...   Q64\n",
       "3       3  berlin city millions inhabitants_capital large...   Q64\n",
       "4       4  berlin urban municipality germany east berlin ...   Q64"
      ]
     },
     "execution_count": 5,
     "metadata": {},
     "output_type": "execute_result"
    }
   ],
   "source": [
    "A.head()"
   ]
  },
  {
   "cell_type": "code",
   "execution_count": 6,
   "metadata": {
    "ExecuteTime": {
     "end_time": "2020-11-05T22:05:43.400943Z",
     "start_time": "2020-11-05T22:05:42.645598Z"
    }
   },
   "outputs": [],
   "source": [
    "from collections import defaultdict\n",
    "from sklearn.feature_extraction.text import TfidfVectorizer"
   ]
  },
  {
   "cell_type": "code",
   "execution_count": 7,
   "metadata": {
    "ExecuteTime": {
     "end_time": "2020-11-05T22:05:43.454751Z",
     "start_time": "2020-11-05T22:05:43.415654Z"
    }
   },
   "outputs": [],
   "source": [
    "pseudo_docs = defaultdict(lambda: \"\")\n",
    "for i, doc in A.iterrows():\n",
    "    pseudo_docs[doc.label] += \" \" + doc.chunk_doc"
   ]
  },
  {
   "cell_type": "code",
   "execution_count": 8,
   "metadata": {
    "ExecuteTime": {
     "end_time": "2020-11-05T22:05:43.466982Z",
     "start_time": "2020-11-05T22:05:43.461851Z"
    }
   },
   "outputs": [],
   "source": [
    "entities = list(pseudo_docs.keys())\n",
    "pdocs = [pseudo_docs[k] for k in entities]"
   ]
  },
  {
   "cell_type": "code",
   "execution_count": 9,
   "metadata": {
    "ExecuteTime": {
     "end_time": "2020-11-05T22:05:43.483464Z",
     "start_time": "2020-11-05T22:05:43.473167Z"
    }
   },
   "outputs": [],
   "source": [
    "vectorizer = TfidfVectorizer(min_df=1)\n",
    "X = vectorizer.fit_transform(pdocs).toarray()"
   ]
  },
  {
   "cell_type": "code",
   "execution_count": 10,
   "metadata": {
    "ExecuteTime": {
     "end_time": "2020-11-05T22:05:43.544044Z",
     "start_time": "2020-11-05T22:05:43.535508Z"
    }
   },
   "outputs": [],
   "source": [
    "ranking = {}\n",
    "features = vectorizer.get_feature_names()\n",
    "for i, entity in enumerate(entities):\n",
    "    rank = [(features[i], x) for i, x in sorted(enumerate(X[i]), key=lambda z: -z[1])]\n",
    "    ranking[entity] = rank"
   ]
  },
  {
   "cell_type": "code",
   "execution_count": 11,
   "metadata": {
    "ExecuteTime": {
     "end_time": "2020-11-05T22:05:43.875724Z",
     "start_time": "2020-11-05T22:05:43.850026Z"
    }
   },
   "outputs": [
    {
     "name": "stdout",
     "output_type": "stream",
     "text": [
      "Q64\n",
      "germany 0.51\n",
      "berlin 0.43\n",
      "capital 0.42\n",
      "museum 0.25\n",
      "largest_city 0.21\n",
      "\n",
      "Q821244\n",
      "city 0.46\n",
      "hampshire 0.39\n",
      "new 0.36\n",
      "berlin 0.36\n",
      "united 0.26\n",
      "\n",
      "Q614184\n",
      "human 0.49\n",
      "settlement 0.49\n",
      "maryland 0.37\n",
      "berlin 0.29\n",
      "delaware 0.17\n",
      "\n",
      "Q1569850\n",
      "city 0.43\n",
      "class 0.37\n",
      "fourth 0.37\n",
      "wisconsin 0.35\n",
      "green 0.3\n",
      "\n",
      "Q1086827\n",
      "borough 0.49\n",
      "jersey 0.39\n",
      "new 0.32\n",
      "census 0.29\n",
      "berlin 0.23\n",
      "\n",
      "Q821199\n",
      "town 0.56\n",
      "berlin 0.41\n",
      "connecticut 0.39\n",
      "united 0.35\n",
      "states 0.3\n",
      "\n"
     ]
    }
   ],
   "source": [
    "for entity in entities:\n",
    "    print(entity)\n",
    "    for word, w in ranking[entity][:5]:\n",
    "        print(word, round(w, 2))\n",
    "    print()"
   ]
  },
  {
   "cell_type": "markdown",
   "metadata": {},
   "source": [
    "---\n",
    "## Save ranking to a file"
   ]
  },
  {
   "cell_type": "code",
   "execution_count": 12,
   "metadata": {
    "ExecuteTime": {
     "end_time": "2020-11-05T22:05:44.915252Z",
     "start_time": "2020-11-05T22:05:44.902955Z"
    }
   },
   "outputs": [],
   "source": [
    "df_list = []\n",
    "for entity, terms_tfidf in ranking.items():\n",
    "    df_list.append(pd.DataFrame({'label': [entity]*len(terms_tfidf), \n",
    "                                 'term': [term for term, _ in terms_tfidf]}))"
   ]
  },
  {
   "cell_type": "code",
   "execution_count": 13,
   "metadata": {
    "ExecuteTime": {
     "end_time": "2020-11-05T22:05:45.286264Z",
     "start_time": "2020-11-05T22:05:45.269695Z"
    }
   },
   "outputs": [
    {
     "data": {
      "text/html": [
       "<div>\n",
       "<style scoped>\n",
       "    .dataframe tbody tr th:only-of-type {\n",
       "        vertical-align: middle;\n",
       "    }\n",
       "\n",
       "    .dataframe tbody tr th {\n",
       "        vertical-align: top;\n",
       "    }\n",
       "\n",
       "    .dataframe thead th {\n",
       "        text-align: right;\n",
       "    }\n",
       "</style>\n",
       "<table border=\"1\" class=\"dataframe\">\n",
       "  <thead>\n",
       "    <tr style=\"text-align: right;\">\n",
       "      <th></th>\n",
       "      <th>label</th>\n",
       "      <th>term</th>\n",
       "    </tr>\n",
       "  </thead>\n",
       "  <tbody>\n",
       "    <tr>\n",
       "      <th>0</th>\n",
       "      <td>Q64</td>\n",
       "      <td>germany</td>\n",
       "    </tr>\n",
       "    <tr>\n",
       "      <th>1</th>\n",
       "      <td>Q64</td>\n",
       "      <td>berlin</td>\n",
       "    </tr>\n",
       "    <tr>\n",
       "      <th>2</th>\n",
       "      <td>Q64</td>\n",
       "      <td>capital</td>\n",
       "    </tr>\n",
       "    <tr>\n",
       "      <th>3</th>\n",
       "      <td>Q64</td>\n",
       "      <td>museum</td>\n",
       "    </tr>\n",
       "    <tr>\n",
       "      <th>4</th>\n",
       "      <td>Q64</td>\n",
       "      <td>largest_city</td>\n",
       "    </tr>\n",
       "  </tbody>\n",
       "</table>\n",
       "</div>"
      ],
      "text/plain": [
       "  label          term\n",
       "0   Q64       germany\n",
       "1   Q64        berlin\n",
       "2   Q64       capital\n",
       "3   Q64        museum\n",
       "4   Q64  largest_city"
      ]
     },
     "execution_count": 13,
     "metadata": {},
     "output_type": "execute_result"
    }
   ],
   "source": [
    "df = pd.concat(df_list, axis=0)\n",
    "df.head()"
   ]
  },
  {
   "cell_type": "code",
   "execution_count": 14,
   "metadata": {
    "ExecuteTime": {
     "end_time": "2020-11-05T22:05:46.235791Z",
     "start_time": "2020-11-05T22:05:46.227617Z"
    }
   },
   "outputs": [
    {
     "data": {
      "text/plain": [
       "(1410, 2)"
      ]
     },
     "execution_count": 14,
     "metadata": {},
     "output_type": "execute_result"
    }
   ],
   "source": [
    "df.shape"
   ]
  },
  {
   "cell_type": "code",
   "execution_count": 15,
   "metadata": {
    "ExecuteTime": {
     "end_time": "2020-11-05T22:05:47.762109Z",
     "start_time": "2020-11-05T22:05:47.756215Z"
    }
   },
   "outputs": [],
   "source": [
    "ranking_filename = f'ranking_wikidata_baseline_{version}.xlsx'\n",
    "ranking_filepath = os.path.join(root_dir, data_dir, terms_dir, ranking_filename)"
   ]
  },
  {
   "cell_type": "code",
   "execution_count": 16,
   "metadata": {
    "ExecuteTime": {
     "end_time": "2020-11-05T22:05:48.154856Z",
     "start_time": "2020-11-05T22:05:48.145394Z"
    }
   },
   "outputs": [
    {
     "data": {
      "text/plain": [
       "'../../data/terms/ranking_wikidata_baseline.xlsx'"
      ]
     },
     "execution_count": 16,
     "metadata": {},
     "output_type": "execute_result"
    }
   ],
   "source": [
    "ranking_filepath"
   ]
  },
  {
   "cell_type": "code",
   "execution_count": 17,
   "metadata": {
    "ExecuteTime": {
     "end_time": "2020-11-05T22:05:50.541391Z",
     "start_time": "2020-11-05T22:05:49.904169Z"
    }
   },
   "outputs": [],
   "source": [
    "df.to_excel(ranking_filepath)"
   ]
  },
  {
   "cell_type": "code",
   "execution_count": 19,
   "metadata": {
    "ExecuteTime": {
     "end_time": "2020-11-05T22:06:19.748112Z",
     "start_time": "2020-11-05T22:06:19.723241Z"
    }
   },
   "outputs": [],
   "source": [
    "df.groupby('label').head(5).to_excel('test1.xlsx')"
   ]
  },
  {
   "cell_type": "markdown",
   "metadata": {},
   "source": [
    "---"
   ]
  }
 ],
 "metadata": {
  "kernelspec": {
   "display_name": "Python 3",
   "language": "python",
   "name": "python3"
  },
  "language_info": {
   "codemirror_mode": {
    "name": "ipython",
    "version": 3
   },
   "file_extension": ".py",
   "mimetype": "text/x-python",
   "name": "python",
   "nbconvert_exporter": "python",
   "pygments_lexer": "ipython3",
   "version": "3.8.1"
  },
  "toc": {
   "base_numbering": 1,
   "nav_menu": {},
   "number_sections": true,
   "sideBar": true,
   "skip_h1_title": true,
   "title_cell": "Table of Contents",
   "title_sidebar": "Contents",
   "toc_cell": false,
   "toc_position": {},
   "toc_section_display": true,
   "toc_window_display": false
  }
 },
 "nbformat": 4,
 "nbformat_minor": 2
}
