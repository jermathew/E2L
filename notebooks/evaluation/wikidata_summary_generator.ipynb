{
 "cells": [
  {
   "cell_type": "markdown",
   "metadata": {},
   "source": [
    "# Summary generator"
   ]
  },
  {
   "cell_type": "markdown",
   "metadata": {},
   "source": [
    "## Load the data"
   ]
  },
  {
   "cell_type": "code",
   "execution_count": 1,
   "metadata": {
    "ExecuteTime": {
     "end_time": "2020-12-03T09:55:30.183219Z",
     "start_time": "2020-12-03T09:55:30.179547Z"
    }
   },
   "outputs": [],
   "source": [
    "root_dir = '../../'\n",
    "src_dir = 'src'\n",
    "data_dir = 'data/corpus'\n",
    "models_dir = 'data/models'"
   ]
  },
  {
   "cell_type": "code",
   "execution_count": 2,
   "metadata": {
    "ExecuteTime": {
     "end_time": "2020-12-03T09:55:30.400905Z",
     "start_time": "2020-12-03T09:55:30.397689Z"
    }
   },
   "outputs": [],
   "source": [
    "import os\n",
    "import sys"
   ]
  },
  {
   "cell_type": "code",
   "execution_count": 3,
   "metadata": {
    "ExecuteTime": {
     "end_time": "2020-12-03T09:55:30.639894Z",
     "start_time": "2020-12-03T09:55:30.636486Z"
    }
   },
   "outputs": [],
   "source": [
    "sys.path.append(os.path.join(root_dir, src_dir))"
   ]
  },
  {
   "cell_type": "code",
   "execution_count": 4,
   "metadata": {
    "ExecuteTime": {
     "end_time": "2020-12-03T09:55:30.847739Z",
     "start_time": "2020-12-03T09:55:30.844332Z"
    }
   },
   "outputs": [],
   "source": [
    "version = 'v2'"
   ]
  },
  {
   "cell_type": "code",
   "execution_count": 5,
   "metadata": {
    "ExecuteTime": {
     "end_time": "2020-12-03T09:55:31.051699Z",
     "start_time": "2020-12-03T09:55:31.048791Z"
    }
   },
   "outputs": [],
   "source": [
    "corpus_filename = f'wikidata_corpus_{version}.json'"
   ]
  },
  {
   "cell_type": "code",
   "execution_count": 6,
   "metadata": {
    "ExecuteTime": {
     "end_time": "2020-12-03T09:55:32.628487Z",
     "start_time": "2020-12-03T09:55:31.512410Z"
    }
   },
   "outputs": [],
   "source": [
    "from training import TrainingCorpus"
   ]
  },
  {
   "cell_type": "code",
   "execution_count": 7,
   "metadata": {
    "ExecuteTime": {
     "end_time": "2020-12-03T09:55:32.651975Z",
     "start_time": "2020-12-03T09:55:32.630756Z"
    }
   },
   "outputs": [],
   "source": [
    "corpus = TrainingCorpus()\n",
    "corpus.load(os.path.join(root_dir, data_dir, corpus_filename))"
   ]
  },
  {
   "cell_type": "code",
   "execution_count": 8,
   "metadata": {
    "ExecuteTime": {
     "end_time": "2020-12-03T09:55:32.662943Z",
     "start_time": "2020-12-03T09:55:32.653917Z"
    }
   },
   "outputs": [
    {
     "data": {
      "text/plain": [
       "3294"
      ]
     },
     "execution_count": 8,
     "metadata": {},
     "output_type": "execute_result"
    }
   ],
   "source": [
    "corpus.size"
   ]
  },
  {
   "cell_type": "markdown",
   "metadata": {},
   "source": [
    "---"
   ]
  },
  {
   "cell_type": "markdown",
   "metadata": {},
   "source": [
    "## Builds pseudo-docs"
   ]
  },
  {
   "cell_type": "code",
   "execution_count": 9,
   "metadata": {
    "ExecuteTime": {
     "end_time": "2020-12-03T09:55:33.559489Z",
     "start_time": "2020-12-03T09:55:33.556544Z"
    }
   },
   "outputs": [],
   "source": [
    "from collections import defaultdict"
   ]
  },
  {
   "cell_type": "code",
   "execution_count": 10,
   "metadata": {
    "ExecuteTime": {
     "end_time": "2020-12-03T09:55:33.861602Z",
     "start_time": "2020-12-03T09:55:33.859133Z"
    }
   },
   "outputs": [],
   "source": [
    "pseudo_docs = defaultdict(str)"
   ]
  },
  {
   "cell_type": "code",
   "execution_count": 11,
   "metadata": {
    "ExecuteTime": {
     "end_time": "2020-12-03T09:55:34.415417Z",
     "start_time": "2020-12-03T09:55:34.401817Z"
    }
   },
   "outputs": [],
   "source": [
    "for doc_id in corpus.docs:\n",
    "    text = corpus.get_text(doc_id)\n",
    "    label = corpus.target[doc_id][0]\n",
    "    pseudo_docs[label] += ' ' + text"
   ]
  },
  {
   "cell_type": "markdown",
   "metadata": {
    "ExecuteTime": {
     "end_time": "2020-12-03T09:34:52.385404Z",
     "start_time": "2020-12-03T09:34:52.380486Z"
    }
   },
   "source": [
    "## Summarize pseudo-docs"
   ]
  },
  {
   "cell_type": "code",
   "execution_count": 12,
   "metadata": {
    "ExecuteTime": {
     "end_time": "2020-12-03T09:55:35.716203Z",
     "start_time": "2020-12-03T09:55:35.712803Z"
    }
   },
   "outputs": [],
   "source": [
    "summary = {}"
   ]
  },
  {
   "cell_type": "code",
   "execution_count": 13,
   "metadata": {
    "ExecuteTime": {
     "end_time": "2020-12-03T09:55:38.245319Z",
     "start_time": "2020-12-03T09:55:35.981664Z"
    }
   },
   "outputs": [],
   "source": [
    "from transformers import pipeline"
   ]
  },
  {
   "cell_type": "code",
   "execution_count": 14,
   "metadata": {
    "ExecuteTime": {
     "end_time": "2020-12-03T09:55:38.250291Z",
     "start_time": "2020-12-03T09:55:38.247369Z"
    }
   },
   "outputs": [],
   "source": [
    "model_name = 'bart-large-cnn'"
   ]
  },
  {
   "cell_type": "code",
   "execution_count": 15,
   "metadata": {
    "ExecuteTime": {
     "end_time": "2020-12-03T09:55:49.945036Z",
     "start_time": "2020-12-03T09:55:38.252914Z"
    }
   },
   "outputs": [
    {
     "name": "stderr",
     "output_type": "stream",
     "text": [
      "Couldn't reach server at 'https://s3.amazonaws.com/models.huggingface.co/bert/facebook/bart-large-cnn/modelcard.json' to download model card file.\n",
      "Creating an empty model card.\n"
     ]
    }
   ],
   "source": [
    "summarizer = pipeline('summarization', model=model_name)"
   ]
  },
  {
   "cell_type": "code",
   "execution_count": 16,
   "metadata": {
    "ExecuteTime": {
     "end_time": "2020-12-03T09:55:49.950055Z",
     "start_time": "2020-12-03T09:55:49.947268Z"
    }
   },
   "outputs": [],
   "source": [
    "min_len = 10\n",
    "max_len = 30\n",
    "do_sample = False"
   ]
  },
  {
   "cell_type": "code",
   "execution_count": 17,
   "metadata": {
    "ExecuteTime": {
     "end_time": "2020-12-03T10:11:38.448435Z",
     "start_time": "2020-12-03T09:55:49.951544Z"
    }
   },
   "outputs": [
    {
     "name": "stderr",
     "output_type": "stream",
     "text": [
      "Your max_length is set to 30, but you input_length is only 29. You might consider decreasing max_length manually, e.g. summarizer('...', max_length=50)\n"
     ]
    }
   ],
   "source": [
    "for entity_id, pseudo_doc in pseudo_docs.items():\n",
    "    summary_text = summarizer(pseudo_doc, min_length=min_len, max_length=max_len, do_sample=do_sample)[0]['summary_text']\n",
    "    summary[entity_id] = summary_text"
   ]
  },
  {
   "cell_type": "code",
   "execution_count": 18,
   "metadata": {
    "ExecuteTime": {
     "end_time": "2020-12-03T10:11:38.461116Z",
     "start_time": "2020-12-03T10:11:38.455951Z"
    }
   },
   "outputs": [],
   "source": [
    "from pprint import pprint"
   ]
  },
  {
   "cell_type": "code",
   "execution_count": 19,
   "metadata": {
    "ExecuteTime": {
     "end_time": "2020-12-03T10:11:38.536039Z",
     "start_time": "2020-12-03T10:11:38.468008Z"
    }
   },
   "outputs": [
    {
     "name": "stdout",
     "output_type": "stream",
     "text": [
      "{'Q1005682': 'Hamburg is a city in Carver County, Minnesota, United States. '\n",
      "             'The population was 513 at the 2010 census.',\n",
      " 'Q10123': 'Until 2008, Tangerang Regency was subdivided into 36 Districts, '\n",
      "           'which were further divided into several villages and '\n",
      "           'administrative villages.',\n",
      " 'Q10127': 'Tangerang is a city in the province of Banten, Indonesia. It has '\n",
      "           'an area of 164.54 square kilometres (',\n",
      " 'Q1013097': 'Toronto is a town in Clinton County, Iowa, United States.The '\n",
      "             'population was 124 at the 2010 census.',\n",
      " 'Q1055': 'A hamburger (also burger for short) is a sandwich consisting of one '\n",
      "          'or more cooked patties of ground meat, usually beef',\n",
      " 'Q1067027': 'Samara asteroid  26922 is an asteroid. It is located in the '\n",
      "             'asteroid belt between Earth and Mars.',\n",
      " 'Q1074991': 'Chittagong District, officially known as Chattogram District, is '\n",
      "             'a district located in the south-eastern region of Bangladesh.',\n",
      " 'Q1075639': 'The Division of Sydney is an Australian electoral division in '\n",
      "             'the state of New South Wales.',\n",
      " 'Q1082931': 'Hamburg is a borough in Sussex County, New Jersey, United '\n",
      "             \"States.As of the 2010 United States Census, the borough's\",\n",
      " 'Q10887841': 'Yu Yue was a prominent scholar and official of Qing Dynasty '\n",
      "              'China. An expert in philology and textual studies, he taught '\n",
      "              'and wrote prolific',\n",
      " 'Q10929492': 'Tang-keou town in China serves as the seat of Huangyuan County, '\n",
      "              'lying about 45 km (28 mi) upstream',\n",
      " 'Q1094063': 'The City of Adelaide is a local government area in the '\n",
      "             'metropolitan area of greater Adelaide, South Australia. It '\n",
      "             'includes the Adelaide city centre,',\n",
      " 'Q11255517': 'Lima (surname) family name Adriana Lima (born 1981), Brazilian '\n",
      "              'model. Lima family name family name Lima family',\n",
      " 'Q1142219': \"Jorge Chávez International Airport is Peru's main international \"\n",
      "             'and domestic airport. It is located in Callao, 11 kilometers (7',\n",
      " 'Q1151131': 'Jeddah Lighthouse lighthouse is located at the end of the outer '\n",
      "             'pier on the north side of the entrance to Jeddah Se',\n",
      " 'Q115787': 'Johann Amman was a Swiss-Russian botanist. He is best known for '\n",
      "            'his Stirpium Rariorum',\n",
      " 'Q116240': 'Jost Amman was a Swiss woodcut artist. About 1,500 prints are '\n",
      "            'attributed to him.',\n",
      " 'Q1181264': 'Hamburg is a borough in Berks County, Pennsylvania, United '\n",
      "             'States. The population was 4,289 at the 2010 census.',\n",
      " 'Q1181355': 'The asteroid is named 7850 Buenos Aires asteroid. It is thought '\n",
      "             'to be the largest asteroid in the world.',\n",
      " 'Q1200549': 'Mariaai devi Māri is related with the Hindu goddesses Parvati '\n",
      "             'and Durga as well as with her North Indian counterpart',\n",
      " 'Q120730': 'Kyoto Prefecture is one of Japan\\'s two \"prefectures\" using the '\n",
      "            'designation fu rather than the standard ken for pre',\n",
      " 'Q1238770': 'Addis Ababa University is the oldest school of higher education '\n",
      "             'in Ethiopia. The Ministry of Education admits qualified students '\n",
      "             'to AAU based on',\n",
      " 'Q12487146': 'The Duri–Tangerang railway is a railway connecting Tangerang to '\n",
      "              'Jakarta, the capital city of Indonesia. It was constructed',\n",
      " 'Q1249255': 'The Riyadh Region is a region of Saudi Arabia, located in the '\n",
      "             'geographic center of the country. It has an area of 404,240',\n",
      " 'Q127455': 'The Ordos culture occupied a region centered on the Ordos Loop '\n",
      "            '(modern Inner Mongolia, China) during the Bronze and early Iron '\n",
      "            'Age',\n",
      " 'Q128361': 'Odessa is a city in and the county seat of Ector County, Texas, '\n",
      "            'United States. It is located primarily in E',\n",
      " 'Q1292535': 'Chennai Super Kings are the second-most valuable IPL franchise, '\n",
      "             'after Mumbai Indians. The brand value of the Super Kings in',\n",
      " 'Q129960': 'The settlement was named in 1898, commemorating the American '\n",
      "            'naval victory at the Battle of Manila Bay in the Philippines.',\n",
      " 'Q1352': 'Chennai is one of the 100 Indian cities to be developed as a smart '\n",
      "          'city under the Smart Cities Mission. The city together with',\n",
      " 'Q1364464': 'University of Madras or Madras University is a public state '\n",
      "             'university in Chennai, Tamil Nadu, India. Established in 1857,',\n",
      " 'Q1374077': 'Damascus is a town in Washington County, Virginia, United '\n",
      "             'States. It is part of the Kingsport–Bristol (TN',\n",
      " 'Q1376135': 'Warsaw is a town in and the county seat of Richmond County, '\n",
      "             'Virginia. The population was 1,512 at the 2010 census.',\n",
      " 'Q141026': 'Algiers Province is a province (wilayah) in Algeria, named after '\n",
      "            'its capital, Algiers. It is',\n",
      " 'Q1414527': 'Algiers is a 1938 American drama film directed by John Cromwell '\n",
      "             'and starring Charles Boyer, Sigrid Gurie, and',\n",
      " 'Q1461': 'The Spanish city of Manila was founded on June 24, 1571, by Spanish '\n",
      "          'conquistador Miguel López de Legazpi',\n",
      " 'Q1482450': '21088 Chelyabinsk asteroid It was discovered on 30 January 1992, '\n",
      "             \"by Belgian astronomer Eric Elst at ESO's La S\",\n",
      " 'Q1484620': ' Stockholm asteroid  10552 Stockholm asteroid is a large '\n",
      "             'asteroid. It is located in the asteroid belt between Earth and '\n",
      "             'the Earth.',\n",
      " 'Q1486': 'Buenos Aires is the capital and largest city of Argentina. The city '\n",
      "          'is located on the western shore of the estuary of the R',\n",
      " 'Q149681': '2606 Odessa, provisional designation 1976 GX2, is a background '\n",
      "            'asteroid from the central regions of the asteroid belt, '\n",
      "            'approximately 16',\n",
      " 'Q15051586': 'Tangerang Station (Indonesian: Stasiun Tangerang) is a railway '\n",
      "              'station located in the city of Tanger',\n",
      " 'Q15116': 'Chennai is a megacity and local government district that contains '\n",
      "           'the historic centre and the Central business district (CBD) of '\n",
      "           'Chennai',\n",
      " 'Q153721': '4352 Kyoto asteroid  4352. Kyoto asteroid is an asteroid. It is '\n",
      "            'located in the asteroid belt between Earth and Mars.',\n",
      " 'Q158087': 'Chittagong Division is the largest of the eight administrative '\n",
      "            \"divisions of Bangladesh. Cox's Bazar is the longest natural sea \"\n",
      "            'beach in',\n",
      " 'Q159658': 'ODESSA secret society international Nazi network. ODESSA  secret '\n",
      "            'society  O DESSA secret Society international NaziNetwork.',\n",
      " 'Q16250141': 'The Addis Ababa Light Rail is a light rail transportation '\n",
      "              'system in Ethiopia. It is operated by the Shenzhen Metro Group.',\n",
      " 'Q1643457': 'Juárez is a town and one of the 119 municipalities of Chiapas, '\n",
      "             'in southern Mexico. As of 2010, the town',\n",
      " 'Q16479584': 'Amman is a surname of German origin. It is an occupational '\n",
      "              'surname for an Ammann, an administrative position in Medieval '\n",
      "              'and early modern',\n",
      " 'Q1670841': 'The Ordos Desert is a desert/steppe region in Northwest China, '\n",
      "             'administrated under the prefecture of Ordos City in the',\n",
      " 'Q17167': 'Roman Republic republic period of ancient Roman civilization (509 '\n",
      "           'BC-27 BC) res publica historical period These multiple tensions '\n",
      "           'led to a series',\n",
      " 'Q172': 'With a recorded population of 2,731,571 in 2016, it is the most '\n",
      "         'populous city in Canada. More than 50 percent',\n",
      " 'Q1752043': 'King Saud University (KSU) is a public university in Riyadh, '\n",
      "             'Saudi Arabia, founded in 1957 by King Saud bin Abdulaziz',\n",
      " 'Q1754': 'Stockholm is the capital and most populous urban area of Sweden. It '\n",
      "          'hosts the annual Nobel Prize ceremonies and banquet at the '\n",
      "          'Stockholm Concert Hall',\n",
      " 'Q1777988': 'South Ural State University (SUSU) in Chelyabinsk is one of the '\n",
      "             'largest educational institutions in Russia. In 2018',\n",
      " 'Q1787199': ' Stockholm is a town in Grant County, South Dakota, United '\n",
      "             'States. Stockholm was laid out in 1896, and named after the '\n",
      "             'capital city',\n",
      " 'Q1825597': 'Maxime Martin and Frederic Makowiecki secured their third '\n",
      "             'qualifying race victory of the year. The team then secured its '\n",
      "             'first championship',\n",
      " 'Q1849321': 'Agra Airport is a military airbase and public airport serving '\n",
      "             'the city of Agra, in the state of Uttar Pradesh, India.',\n",
      " 'Q1874': 'Odessa is sometimes called the \"pearl of the Black Sea\", the \"South '\n",
      "          'Capital\" (under the Russian Empire and Soviet',\n",
      " 'Q18915128': 'Sydney is a given name. Notable people and characters named '\n",
      "              'Sydney include: Sydney (given name) unisex given name',\n",
      " 'Q1919763': 'The name was suggested by a riverboat captain, who was reading '\n",
      "             'Thaddeus of Warsaw, by Jane Porter, when the city was',\n",
      " 'Q1924611': 'Aurangabad is a town in Suti II CD Block in Jangipur subdivision '\n",
      "             'of  Murshidabad district.',\n",
      " 'Q1925709': 'Rome is a village in Henry County, Iowa, United States. The '\n",
      "             'population was 117 at the 2010 census.',\n",
      " 'Q1955496': 'Damascus is a city in Faulkner and Van Buren counties of central '\n",
      "             'Arkansas, United States.',\n",
      " 'Q19625339': '13513 Manila asteroid is a Manille asteroid. It is located in '\n",
      "              'the asteroid belt between Earth and the moon.',\n",
      " 'Q20012828': 'Algiers is an American rock band from Atlanta, Georgia, formed '\n",
      "              'in 2012. The band consists of multi-instrumentalists',\n",
      " 'Q200713': 'Aurangabad (pronunciation ) is a city in the Indian state of '\n",
      "            'Maharashtra. Located on a hilly upland terrain in',\n",
      " 'Q2025478': 'The municipality covers an area 520 km2 (201 sq mi) and has a '\n",
      "             'population of 21,300.',\n",
      " 'Q20982403': 'The Addis Ababa–Djibouti Railway is a new standard gauge '\n",
      "              'international railway that serves as the backbone of the new',\n",
      " 'Q209878': 'Rome is a British-American-Italian historical drama television '\n",
      "            'series created by John Milius, William J. MacDonald, and Bruno',\n",
      " 'Q2101554': ' Buenos Aires is a city located in the state of Pernambuco, '\n",
      "             'Brazil. It has an estimated (Ibge 2009',\n",
      " 'Q2199224': 'Damascus is a city in Early County, Georgia, United States. The '\n",
      "             'population was 254 at the 2010 census.',\n",
      " 'Q220': 'Rome is the third most populous city in the European Union by '\n",
      "         'population within city limits. Its historic centre is listed by '\n",
      "         'UNESCO as a',\n",
      " 'Q2228947': 'Odessa is a city in Big Stone County, Minnesota, United States. '\n",
      "             'The population was 135 at the 2010 census.',\n",
      " 'Q2267106': 'Jeddah Islamic Port is a Saudi Arabian port, located in the '\n",
      "             'middle of an international shipping route between east and west. '\n",
      "             'It is',\n",
      " 'Q22713116': 'Medellín asteroid asteroid.  366272 Medellín asteroids. '\n",
      "              'Medellin asteroid is a member of the family of asteroids.',\n",
      " 'Q2301099': 'Belgrade is a town in Kennebec County, Maine, United States. The '\n",
      "             'population was 3,189 at the 2010 census.',\n",
      " 'Q2332010': 'The time zone applies to the Ural Federal District, and '\n",
      "             'Bashkortostan, Orenburg Oblast and Perm Kra',\n",
      " 'Q25217466': '\"Kyoto\" is widely considered by critics and fans alike to be '\n",
      "              \"Yung Lean's best song and one of the best cloud rap\",\n",
      " 'Q2557122': 'Juárez is one of the 67 municipalities of Chihuahua, in northern '\n",
      "             'Mexico.It is named for 19th-century',\n",
      " 'Q257382': 'Chennai Central is a railway station in Chennai, Tamil Nadu, '\n",
      "            'India. It is one of the most profitable stations of the Southern',\n",
      " 'Q26590': 'Ciudad Juárez is the most populous city in the Mexican state of '\n",
      "           'Chihuahua. The city is commonly referred',\n",
      " 'Q2666611': 'Toronto is a city in Woodson County, Kansas, along the Verdigris '\n",
      "             'River. As of the 2010 census, the city population',\n",
      " 'Q2669006': ' Buenos Aires is a canton in the Puntarenas province of Costa '\n",
      "             'Rica. The head city is in Buenos Aires district.',\n",
      " 'Q2688228': 'Toronto was laid out in 1884, and named after the capital of '\n",
      "             'Ontario, Canada, the native home of a first settler.',\n",
      " 'Q270': 'Poland has millions of inhabitants. Warsaw is the largest city in '\n",
      "         'the country.',\n",
      " 'Q271167': 'Zhongshan District is an administrative district of Taipei City, '\n",
      "            'named after Sun Yat-sen, better known in Chinese',\n",
      " 'Q2745909': 'Belgrade is a village in Nance County, Nebraska, United States. '\n",
      "             'The population was 126 at the 2010 census.',\n",
      " 'Q2827127': 'Agra is a city in Phillips County, Kansas, United States. As of '\n",
      "             'the 2010 census, the city population was 267.',\n",
      " 'Q28465089': 'Medellín-Inder UCI Continental Team Team Medellín is a '\n",
      "              'Colombian cycling team founded in 2017.',\n",
      " 'Q2868': 'Lima was named by natives in the agricultural region known by '\n",
      "          'native Peruvians as Limaq. The National University of San Marcos,',\n",
      " 'Q2903059': 'Aurangabad Airport (IATA: IXU, ICAO: VAAU), is a public airport '\n",
      "             'located in Aur',\n",
      " 'Q2933906': 'Calgary is a federal electoral district in Alberta, Canada.',\n",
      " 'Q2973361': 'The Division of Adelaide is an Australian electoral division in '\n",
      "             'South Australia. It is named for the city of Adelaide, South '\n",
      "             \"Australia's capital.\",\n",
      " 'Q3031413': 'Lima district is the oldest in Lima Province and as such, '\n",
      "             \"vestiges of the city's colonial era remain today in the Historic\",\n",
      " 'Q30599096': ' Stockholm (known as The Captor in some countries) is a 2018 '\n",
      "              'Canadian crime film written, produced and directed by Robert '\n",
      "              'Budreau.',\n",
      " 'Q3130': 'Sydney is the capital city of the state of New South Wales, and the '\n",
      "          'most populous city in Oceania. The University',\n",
      " 'Q336264': 'Kyoto University has the most Nobel laureates of all universities '\n",
      "            'in Asia. Kyoto University has generated 5 prime ministers of '\n",
      "            'Japan to date.',\n",
      " 'Q3438102': 'Sámara is a district of the Nicoya canton, in the Guanacaste '\n",
      "             'province of Costa Rica.',\n",
      " 'Q3447382': ' Stockholm is a town in Aroostook County, Maine, United States. '\n",
      "             'The population was 253 at the 2010 census.',\n",
      " 'Q34600': 'As of 2018, the city had a population of 1.47 million. The modern '\n",
      "           'municipality of Kyoto was established in 1889.',\n",
      " 'Q3476260': 'Belgrade is an unincorporated community in Washington County, '\n",
      "             'Missouri, USA. It is located on Missouri Supplemental Route C.',\n",
      " 'Q3476539': 'The area that later became the city had a population of 9,022 in '\n",
      "             '2000. Damascus is located east of Happy Valley and Interstate '\n",
      "             '205',\n",
      " 'Q34932': 'Brisbane is the capital of and the most populated city in the '\n",
      "           'Australian state of Queensland, and the third most populous city '\n",
      "           'in Australia',\n",
      " 'Q352962': 'Addis Ababa Stadium is a multi-purpose stadium in Ethiopia. It is '\n",
      "            'used mostly for football matches but also has athletics '\n",
      "            'facilities.',\n",
      " 'Q3538450': 'Ordos Ejin Horo Airport is an airport serving Ordos City in '\n",
      "             \"China's Inner Mongolia Autonomous Region.\",\n",
      " 'Q354633': 'Adelaide is the English form of a Germanic given name, from the '\n",
      "            'Old High German Adalheidis, meaning \"noble',\n",
      " 'Q3561': \"Algeria's capital city, Algiers, has millions of inhabitants. The \"\n",
      "          'city is one of the largest in the world.',\n",
      " 'Q3624': 'Addis Ababa is the capital and largest city of Ethiopia. It is '\n",
      "          'where the African Union is headquartered and where its predecessor '\n",
      "          'the Organisation',\n",
      " 'Q36312': \"The Calgary Metropolitan Region is home to Canada's second-highest \"\n",
      "           \"number of corporate head offices among the country's 800 largest \"\n",
      "           'corporations. In 2015',\n",
      " 'Q3659306': 'Tangerang is a third-level administrative country subdivision in '\n",
      "             'Indonesia. It is located in the province of Banten.',\n",
      " 'Q3692': 'Riyadh is the capital of Saudi Arabia and the largest city on the '\n",
      "          'Arabian Peninsula. The city is divided into 15 municipal districts.',\n",
      " 'Q370523': 'Agra is a town in northern Lincoln County, Oklahoma, United '\n",
      "            'States. The population was 339 at the 2010 census.',\n",
      " 'Q3711': 'Belgrade is one of the oldest continuously inhabited cities in '\n",
      "          'Europe and the World. It is located at the confluence of the Sava',\n",
      " 'Q374365': 'Jeddah is the largest city in Makkah Province, the second-largest '\n",
      "            'in Saudi Arabia (after the capital Riyadh), and',\n",
      " 'Q3766': 'Damascus is the capital of Syria. It is colloquially known in Syria '\n",
      "          'as aš-Šām (ال',\n",
      " 'Q376749': 'Chittagong is a major coastal city and financial centre in '\n",
      "            'southeastern Bangladesh. The port is the busiest international '\n",
      "            'seaport on the',\n",
      " 'Q3805': 'Amman is the capital of Jordan. The city has millions of '\n",
      "          'inhabitants. It is the largest city in Jordan.',\n",
      " 'Q383502': 'Sydney asteroid 15550 Sydney asteroid  Sydney asteroid. Sydney '\n",
      "            'asteroid asteroid Sydney asteroid is part of a larger asteroid '\n",
      "            'family.',\n",
      " 'Q3846448': 'Juárez Hidalgo is a town and one of the 84 municipalities of '\n",
      "             'Hidal go, in central-eastern Mexico.',\n",
      " 'Q3855748': 'The Riyadh Metro is a rapid transit system under construction in '\n",
      "             'the city of Riyadh, the capital of Saudi Arabia. It will consist '\n",
      "             'of six',\n",
      " 'Q389974': '2104 Toronto, provisional designation 1963 PD, is a metallic '\n",
      "            'background asteroid from the outer regions of the asteroid belt. '\n",
      "            'It was discovered on',\n",
      " 'Q3946386': 'Samara is an Indian name of Sanskrit origin derived from '\n",
      "             'Sanskrit word \" sAmara\" which means \" with immortals; '\n",
      "             'accompanied',\n",
      " 'Q39852': 'Agra is a town and comune located in the province of Varese, in '\n",
      "           'the Lombardy region of northern Italy.',\n",
      " 'Q4033577': 'Adults of some species are probably predators of other '\n",
      "             'arthropods. Adult beetles have anti-predator secretions that are '\n",
      "             'offensive to',\n",
      " 'Q4118886': 'Princess Nora bint Abdul Rahman University is the largest '\n",
      "             \"women's university in the world. Designed by Perkins & Wills \"\n",
      "             'Architects, part',\n",
      " 'Q41662326': 'The surname Juárez is a Spanish surname. Notable people with '\n",
      "              'the surname include:\\xa0Adrián\\xa0Jiménez',\n",
      " 'Q44754': 'The province covers an area of 307,571 km2 (118,754 sq mi), about '\n",
      "           \"11% of Argentina's total area.\",\n",
      " 'Q44923': 'Addis Ababa Bole International Airport (IATA: ADD, ICAO: HAAB) is '\n",
      "           'an international airport in',\n",
      " 'Q4661508': 'The explosion generated a bright flash, producing a hot cloud of '\n",
      "             'dust and gas that penetrated to 26.2 km (16.3 mi',\n",
      " 'Q4724224': 'Algiers is a section of New Orleans, the only Orleans Parish '\n",
      "             'community located on the West Bank of the Mississippi River.',\n",
      " 'Q4724226': 'Algiers is the seventh studio album by indie rock americana band '\n",
      "             'Calexico, released on September 11, 2012.',\n",
      " 'Q4747127': 'Amman building was listed on the U.S. National Register of '\n",
      "             'Historic Places in 1987. It was designed by architect Albert '\n",
      "             'Held.',\n",
      " 'Q475697': 'During the autumn months, they are a popular source of amusement '\n",
      "            'for children who enjoy tossing them in the air and watching them '\n",
      "            'spin to the',\n",
      " 'Q4822111': 'Aurangabad Lok Sabha constituency is one of the 40 Lok Sabha '\n",
      "             '(parliamentary) constituencies in Bihar state in eastern India.',\n",
      " 'Q48278': 'Medellín is located in the Aburrá Valley, a central region of the '\n",
      "           'Andes Mountains in South America. The city',\n",
      " 'Q487990': 'The asteroid was discovered 21 October 1908 by Joel Hastings '\n",
      "            'Metcalf. It was rediscovered 3 October 1930 by Sylvain Arend as',\n",
      " 'Q4968562': 'Brisbane County was one of the original Nineteen Counties in New '\n",
      "             'South Wales. It includes Scone, Merriwa and',\n",
      " 'Q5019595': 'Calgary is a hamlet on the northwest coast of the Isle of Mull, '\n",
      "             'in Argyll and Bute, Scotland.',\n",
      " 'Q5019630': 'Calgary was a provincial electoral district in Alberta, Canada, '\n",
      "             'mandated to return one to six members to the Legislative '\n",
      "             'Assembly of Alberta from 1905',\n",
      " 'Q502670': 'Chennai International Airport (IATA: MAA, ICAO: VOMM) is an '\n",
      "            'international airport serving the city',\n",
      " 'Q5102380': 'Chittagong is a 2012 Indian historical war drama film directed '\n",
      "             'by Bedabrata Pain. The film won the 60th National',\n",
      " 'Q5112': 'Adelaide is the capital city of the state of South Australia, and '\n",
      "          'the fifth-most populous city of Australia. Its metropolitan area '\n",
      "          'extends',\n",
      " 'Q519558': 'Maria de Fátima Agra is a Brazilian botanist and associate '\n",
      "            'professor at the Universidade Federal da Para',\n",
      " 'Q5355018': 'Adelaide is a single-member electoral district for the South '\n",
      "             'Australian House of Assembly. The 22.8 km² state seat of '\n",
      "             'Adelaide',\n",
      " 'Q5356001': 'Sydney is an electoral district of the Legislative Assembly of '\n",
      "             'the Australian state of New South Wales in Inner Sydney. It '\n",
      "             'includes the Sydney',\n",
      " 'Q55616335': 'Kyoto is the sixth studio album by American rapper Tyga. The '\n",
      "              'album features guest appearances from 24hrs, Gucci Mane,',\n",
      " 'Q56017387': 'The second Diriyah ePrix was held on 22 and 23 November 2019. '\n",
      "              'It was the first Formula E race to be held in',\n",
      " 'Q5642461': 'Chittagong thana of Bangladesh Halishahar Housing Estate is a '\n",
      "             'large residential area in Chittagongs.',\n",
      " 'Q570937': 'Ordos is one of the twelve major subdivisions of Inner Mongolia, '\n",
      "            'China. It lies within the Ordos Plateau of the Yellow',\n",
      " 'Q5714': 'Chelyabinsk is a federal subject (an oblast) of Russia in the Ural '\n",
      "          'Mountains region, on the border of Europe',\n",
      " 'Q576165': 'Warsaw is a city in Hancock County, Illinois, United States. The '\n",
      "            'population was 1,607 at the 2010 census, a decline',\n",
      " 'Q5816925': 'Juárez is a station on both lines 1 and 2 of the Guadalajara '\n",
      "             'light rail system. It is located at the',\n",
      " 'Q581832': 'Belgrade is a city in Stearns County, Minnesota, United States. '\n",
      "            'The population was 740 at the 2010 census.',\n",
      " 'Q584916': 'Aurangabad is located in the Bulandshahr district of the Indian '\n",
      "            'state of Uttar Pradesh.',\n",
      " 'Q590550': 'Aurangabad is a city in Aurangabad District, Bihar, India. The '\n",
      "            'people of this region speak Magahi and Hindi',\n",
      " 'Q59223': 'Zhongshan is a prefecture-level city in the south of the Pearl '\n",
      "           'River Delta in Guangdong province, China',\n",
      " 'Q600277': 'Chelyabinsk Tractor Plant is a tractor plant in the Russian city '\n",
      "            'of Chelyabinski. It is also known as',\n",
      " 'Q6008533': 'Medellín de Bravo, formerly known as Tecamachales, is a town in '\n",
      "             'the state of Veracruz de',\n",
      " 'Q6172687': 'Jeddah was a British Thoroughbred racehorse and sire. In a '\n",
      "             'career that lasted from 1897 to 1899 he ran nine',\n",
      " 'Q621143': 'Ordos Plateau is a highland sedimentary basin in northwest China '\n",
      "            'with an elevation of 1,000–1,600 m.',\n",
      " 'Q63166816': '\"Medellín\" is a song by American singer Madonna and Colombian '\n",
      "              \"singer Maluma from Madonna's fourteenth studio album Madame X.\",\n",
      " 'Q647093': 'Brisbane asteroid  5277 Brisbane asteroid. Brisbane asteroid '\n",
      "            'asteroid Brisbane asteroid  Brisbane asteroid asteroids.',\n",
      " 'Q6580': 'Rome is the largest city in Northwest Georgia and the 19th-largest '\n",
      "          'city in the state. At the 2010 census, the city',\n",
      " 'Q6586': \"Rome is in New York's 22nd congressional district. The population \"\n",
      "          'was 33,725 at the 2010 census.',\n",
      " 'Q6645392': 'Manila census-designated place is located 3.25 miles (5.2 km) '\n",
      "             'north of downtown Eureka, at',\n",
      " 'Q668384': 'Medellín is a village in the province of Badajoz, Extremadura, '\n",
      "            'Spain, notable as both the birthplace of H',\n",
      " 'Q6779': 'UAE Standard Time time zone named for a UTC offset.  UTC+04:00 time '\n",
      "          'zone Named for a Time Zone.',\n",
      " 'Q6797461': 'Maynila (transl. Manila Philippine television series Manila) is '\n",
      "             'a Philippine television drama romance anthology show broadcast '\n",
      "             'by GMA Network.',\n",
      " 'Q699591': 'Cao Kun was a Chinese warlord and politician. He served the '\n",
      "            'President of the Republic of China from 1923 to 1924, as well',\n",
      " 'Q722557': 'Jeddah Club is an association football club based in Jeddah, '\n",
      "            'Saudi Arabia. The club was founded in 1903.',\n",
      " 'Q736775': 'Toronto is the second-largest city in Jefferson County, Ohio, '\n",
      "            'United States, along the Ohio River 6 miles northeast of '\n",
      "            'Steubenville',\n",
      " 'Q737945': \"Jeddah Tower is planned to be the world's first 1 km (3,281 ft) \"\n",
      "            'high building, and the centrepiece',\n",
      " 'Q742785': 'As of the 2010 census, the town had a population of 56,936. The '\n",
      "            'villages of Hamburg and Blasdell are',\n",
      " 'Q754122': 'In the early 20th century, there existed an incorporated '\n",
      "            'municipality lasting a quarter century.',\n",
      " 'Q754420': 'Odessa is a small town in New Castle County, Delaware, United '\n",
      "            \"States. Founded as Cantwell's Bridge in the 18\",\n",
      " 'Q7682892': 'Tangerang Wolves F.C. is an Indonesian football club based in '\n",
      "             'Tangerang, Banten.',\n",
      " 'Q7895267': 'University of Chittagong is a public research university with '\n",
      "             'multidisciplinary faculties situated across a 2110-acre hilly '\n",
      "             'landmass',\n",
      " 'Q79626': 'The population of Manila, Arkansas was 3,342 at the 2010 census. '\n",
      "           'It was the hometown of World War I sniper Herman Davis.',\n",
      " 'Q79657': 'Hamburg is a city and county seat of Ashley County, Arkansas. The '\n",
      "           'population was 2,857 at the 2010 census.',\n",
      " 'Q7970879': 'Warsaw is a town in Wyoming County, in the U.S. state of New '\n",
      "             'York. It is located approximately 37 miles east',\n",
      " 'Q815570': 'Belgrade is a city in Gallatin County, Montana, United States. It '\n",
      "            'is the largest city in Montana not a county seat.',\n",
      " 'Q8573': 'Nakayama Shō human Chinese physician, politician and revolutionary '\n",
      "          '(1866-1925) Sun Yat-sen human ',\n",
      " 'Q894': 'Samara is the largest city and administrative centre of Samara '\n",
      "         'Oblast. It is located at the confluence of the Volga and',\n",
      " 'Q906': 'Located in the northeast of the oblast, 210 kilometers (130 mi) '\n",
      "         'south of Yekaterinburg, the city is just',\n",
      " 'Q917658': 'Brisbane is a lunar impact crater that is located in the '\n",
      "            'southeastern part of the Moon. To the northwest lie the craters '\n",
      "            'Vega',\n",
      " 'Q917665': 'The Division of Brisbane is an Australian electoral division in '\n",
      "            'the state of Queensland. It is part of the Australian House of '\n",
      "            'Representatives.',\n",
      " 'Q917671': 'Brisbane is a small city located in California in the northern '\n",
      "            'part of San Mateo County on the lower slopes of San Bruno '\n",
      "            'Mountain',\n",
      " 'Q932261': 'Sydney was founded in 1785 by the British, was incorporated as a '\n",
      "            'city in 1904, and dissolved on 1 August 1995.',\n",
      " 'Q9658': 'The 1988 Winter Olympics were held in Calgary, Canada. The Games '\n",
      "          'were the first Winter Olympics to be held over a whole two-week',\n",
      " 'Q967161': 'Warsaw is a city located in Benton County, Missouri, United '\n",
      "            'States. The population was 2,127 at the 2010 census.',\n",
      " 'Q971268': 'Calgary asteroid asteroid Calgary asteroid asteroid 96192 Calgary '\n",
      "            'asteroid. Calgary asteroid asteroids are part of the asteroid '\n",
      "            'belt.',\n",
      " 'Q976601': ' Stockholm is a village in Pepin County, Wisconsin, United '\n",
      "            'States, founded in 1854 by immigrants from Karlskoga, Sweden.',\n",
      " 'Q983974': 'Lima (LY-mə) is a city in and the county seat of Allen County, '\n",
      "            'Ohio, United States.',\n",
      " 'Q992560': 'Warsaw is a city in and the county seat of Kosciusko County, '\n",
      "            'Indiana, United States.',\n",
      " 'Q9927': 'L is the twelfth letter of the modern English alphabet. Its name in '\n",
      "          'English is el (pronounced ), plural els.',\n",
      " 'Q998718': 'Hamburg is a city in Fremont County, Iowa, United States. It '\n",
      "            'derives its name from the German city of Hamburg.'}\n"
     ]
    }
   ],
   "source": [
    "pprint(summary)"
   ]
  },
  {
   "cell_type": "markdown",
   "metadata": {},
   "source": [
    "---"
   ]
  }
 ],
 "metadata": {
  "kernelspec": {
   "display_name": "Python 3",
   "language": "python",
   "name": "python3"
  },
  "language_info": {
   "codemirror_mode": {
    "name": "ipython",
    "version": 3
   },
   "file_extension": ".py",
   "mimetype": "text/x-python",
   "name": "python",
   "nbconvert_exporter": "python",
   "pygments_lexer": "ipython3",
   "version": "3.7.7"
  },
  "toc": {
   "base_numbering": 1,
   "nav_menu": {},
   "number_sections": true,
   "sideBar": true,
   "skip_h1_title": false,
   "title_cell": "Table of Contents",
   "title_sidebar": "Contents",
   "toc_cell": false,
   "toc_position": {},
   "toc_section_display": true,
   "toc_window_display": false
  }
 },
 "nbformat": 4,
 "nbformat_minor": 4
}
