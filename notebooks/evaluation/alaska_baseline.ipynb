{
 "cells": [
  {
   "cell_type": "code",
   "execution_count": 1,
   "metadata": {
    "ExecuteTime": {
     "end_time": "2020-10-06T21:42:37.571310Z",
     "start_time": "2020-10-06T21:42:37.233834Z"
    }
   },
   "outputs": [],
   "source": [
    "import os\n",
    "import numpy as np\n",
    "import pandas as pd\n",
    "from tqdm.notebook import tqdm"
   ]
  },
  {
   "cell_type": "code",
   "execution_count": 2,
   "metadata": {
    "ExecuteTime": {
     "end_time": "2020-10-06T21:42:37.793747Z",
     "start_time": "2020-10-06T21:42:37.788455Z"
    }
   },
   "outputs": [],
   "source": [
    "root_dir = '../..'\n",
    "data_dir = 'data'\n",
    "corpus_dir = 'corpus'\n",
    "terms_dir = 'terms'\n",
    "filename = 'alaska_corpus.xlsx'\n",
    "filepath = os.path.join(root_dir, data_dir, corpus_dir, filename)"
   ]
  },
  {
   "cell_type": "code",
   "execution_count": 3,
   "metadata": {
    "ExecuteTime": {
     "end_time": "2020-10-06T21:42:39.422707Z",
     "start_time": "2020-10-06T21:42:39.419903Z"
    }
   },
   "outputs": [],
   "source": [
    "# data = '../../data/alaska_corpus.xlsx'"
   ]
  },
  {
   "cell_type": "code",
   "execution_count": 4,
   "metadata": {
    "ExecuteTime": {
     "end_time": "2020-10-06T21:42:55.057706Z",
     "start_time": "2020-10-06T21:42:54.643082Z"
    }
   },
   "outputs": [],
   "source": [
    "#A = pd.read_excel(data, index_col=0)\n",
    "A = pd.read_excel(filepath, index_col=0)"
   ]
  },
  {
   "cell_type": "code",
   "execution_count": 5,
   "metadata": {
    "ExecuteTime": {
     "end_time": "2020-10-06T21:42:56.101381Z",
     "start_time": "2020-10-06T21:42:56.067859Z"
    }
   },
   "outputs": [
    {
     "data": {
      "text/html": [
       "<div>\n",
       "<style scoped>\n",
       "    .dataframe tbody tr th:only-of-type {\n",
       "        vertical-align: middle;\n",
       "    }\n",
       "\n",
       "    .dataframe tbody tr th {\n",
       "        vertical-align: top;\n",
       "    }\n",
       "\n",
       "    .dataframe thead th {\n",
       "        text-align: right;\n",
       "    }\n",
       "</style>\n",
       "<table border=\"1\" class=\"dataframe\">\n",
       "  <thead>\n",
       "    <tr style=\"text-align: right;\">\n",
       "      <th></th>\n",
       "      <th>doc_id</th>\n",
       "      <th>chunk_doc</th>\n",
       "      <th>label</th>\n",
       "    </tr>\n",
       "  </thead>\n",
       "  <tbody>\n",
       "    <tr>\n",
       "      <th>0</th>\n",
       "      <td>0</td>\n",
       "      <td>nikon_d3200_dslr_camera 18_55mm 55_200mm_lense...</td>\n",
       "      <td>ENTITY#44</td>\n",
       "    </tr>\n",
       "    <tr>\n",
       "      <th>1</th>\n",
       "      <td>1</td>\n",
       "      <td>nikon_d3200 18-55/3 5-5 6 55-200/4 0-5 6 new_z...</td>\n",
       "      <td>ENTITY#44</td>\n",
       "    </tr>\n",
       "    <tr>\n",
       "      <th>2</th>\n",
       "      <td>2</td>\n",
       "      <td>nikon_d3200 digital_dslr_camera w 18 55mm 55 2...</td>\n",
       "      <td>ENTITY#44</td>\n",
       "    </tr>\n",
       "    <tr>\n",
       "      <th>3</th>\n",
       "      <td>3</td>\n",
       "      <td>nikon_d3200_digital_dslr_camera 24 1 w 18 55mm...</td>\n",
       "      <td>ENTITY#44</td>\n",
       "    </tr>\n",
       "    <tr>\n",
       "      <th>4</th>\n",
       "      <td>4</td>\n",
       "      <td>nikon_d3200 body_price india bangalore hyderab...</td>\n",
       "      <td>ENTITY#44</td>\n",
       "    </tr>\n",
       "  </tbody>\n",
       "</table>\n",
       "</div>"
      ],
      "text/plain": [
       "   doc_id                                          chunk_doc      label\n",
       "0       0  nikon_d3200_dslr_camera 18_55mm 55_200mm_lense...  ENTITY#44\n",
       "1       1  nikon_d3200 18-55/3 5-5 6 55-200/4 0-5 6 new_z...  ENTITY#44\n",
       "2       2  nikon_d3200 digital_dslr_camera w 18 55mm 55 2...  ENTITY#44\n",
       "3       3  nikon_d3200_digital_dslr_camera 24 1 w 18 55mm...  ENTITY#44\n",
       "4       4  nikon_d3200 body_price india bangalore hyderab...  ENTITY#44"
      ]
     },
     "execution_count": 5,
     "metadata": {},
     "output_type": "execute_result"
    }
   ],
   "source": [
    "A.head()"
   ]
  },
  {
   "cell_type": "code",
   "execution_count": 6,
   "metadata": {
    "ExecuteTime": {
     "end_time": "2020-10-06T21:42:59.917773Z",
     "start_time": "2020-10-06T21:42:59.396042Z"
    }
   },
   "outputs": [],
   "source": [
    "from collections import defaultdict\n",
    "from sklearn.feature_extraction.text import TfidfVectorizer"
   ]
  },
  {
   "cell_type": "code",
   "execution_count": 7,
   "metadata": {
    "ExecuteTime": {
     "end_time": "2020-10-06T21:43:02.334148Z",
     "start_time": "2020-10-06T21:43:01.937329Z"
    }
   },
   "outputs": [],
   "source": [
    "pseudo_docs = defaultdict(lambda: \"\")\n",
    "for i, doc in A.iterrows():\n",
    "    pseudo_docs[doc.label] += \" \" + doc.chunk_doc"
   ]
  },
  {
   "cell_type": "code",
   "execution_count": 8,
   "metadata": {
    "ExecuteTime": {
     "end_time": "2020-10-06T21:43:02.882772Z",
     "start_time": "2020-10-06T21:43:02.878912Z"
    }
   },
   "outputs": [],
   "source": [
    "entities = list(pseudo_docs.keys())\n",
    "pdocs = [pseudo_docs[k] for k in entities]"
   ]
  },
  {
   "cell_type": "code",
   "execution_count": 9,
   "metadata": {
    "ExecuteTime": {
     "end_time": "2020-10-06T21:43:03.386733Z",
     "start_time": "2020-10-06T21:43:03.348089Z"
    }
   },
   "outputs": [],
   "source": [
    "vectorizer = TfidfVectorizer(min_df=1)\n",
    "X = vectorizer.fit_transform(pdocs).toarray()"
   ]
  },
  {
   "cell_type": "code",
   "execution_count": 10,
   "metadata": {
    "ExecuteTime": {
     "end_time": "2020-10-06T21:43:03.894489Z",
     "start_time": "2020-10-06T21:43:03.791802Z"
    }
   },
   "outputs": [],
   "source": [
    "ranking = {}\n",
    "features = vectorizer.get_feature_names()\n",
    "for i, entity in enumerate(entities):\n",
    "    rank = [(features[i], x) for i, x in sorted(enumerate(X[i]), key=lambda z: -z[1])]\n",
    "    ranking[entity] = rank"
   ]
  },
  {
   "cell_type": "code",
   "execution_count": 11,
   "metadata": {
    "ExecuteTime": {
     "end_time": "2020-10-06T21:43:11.601293Z",
     "start_time": "2020-10-06T21:43:11.553762Z"
    }
   },
   "outputs": [
    {
     "name": "stdout",
     "output_type": "stream",
     "text": [
      "ENTITY#44\n",
      "d3200 0.67\n",
      "nikon_d3200 0.36\n",
      "18 0.31\n",
      "nikon 0.3\n",
      "24_2_mp_digital_slr_camera_black_kit 0.21\n",
      "\n",
      "ENTITY#23\n",
      "canon_eos_7d 0.78\n",
      "013803117493 0.32\n",
      "013803117493_ebay 0.31\n",
      "18 0.29\n",
      "mp_digital_slr_camera_black_body 0.17\n",
      "\n",
      "ENTITY#18\n",
      "canon_eos_60d 0.49\n",
      "60d 0.47\n",
      "canon 0.32\n",
      "eos 0.31\n",
      "18 0.31\n",
      "\n",
      "ENTITY#36\n",
      "nikon_d3100 0.74\n",
      "14_2_mp_digital_slr_camera_black_kit 0.26\n",
      "18 0.25\n",
      "dx_vr 0.25\n",
      "d3100 0.23\n",
      "\n",
      "ENTITY#41\n",
      "18 0.46\n",
      "d5200 0.45\n",
      "nikon_d5200 0.31\n",
      "24_1_mp_digital_slr_camera_black_kit 0.28\n",
      "nikon 0.22\n",
      "\n",
      "ENTITY#21\n",
      "d5100 0.66\n",
      "16 0.37\n",
      "018208254781 0.35\n",
      "nikon 0.25\n",
      "18 0.19\n",
      "\n",
      "ENTITY#75\n",
      "d7000 0.74\n",
      "nikon 0.32\n",
      "16 0.3\n",
      "018208254682 0.27\n",
      "nikon_d7000 0.19\n",
      "\n",
      "ENTITY#96\n",
      "70d 0.52\n",
      "canon 0.35\n",
      "eos 0.32\n",
      "013803221596 0.32\n",
      "18 0.23\n",
      "\n",
      "ENTITY#6\n",
      "018208015191 0.54\n",
      "18 0.41\n",
      "nikon_d5300 0.36\n",
      "nikon_d5300_kit 0.24\n",
      "ebay 0.21\n",
      "\n",
      "ENTITY#101\n",
      "canon_eos 0.6\n",
      "5d_mark_iii 0.55\n",
      "22_3_mp_digital_slr_camera_black_body 0.26\n",
      "ebay 0.25\n",
      "5d_mark 0.19\n",
      "\n",
      "ENTITY#102\n",
      "canon_eos_5d 0.61\n",
      "mark 0.58\n",
      "ii 0.36\n",
      "013803105384_ebay 0.22\n",
      "21_1_mp_digital_slr_camera_black_body 0.2\n",
      "\n",
      "ENTITY#16\n",
      "nikon_d90 0.8\n",
      "018208254460 0.39\n",
      "12_3_mp_digital_slr_camera_black_body 0.21\n",
      "ebay 0.18\n",
      "12_3_mp_digital_slr_camera_black_kit 0.17\n",
      "\n",
      "ENTITY#57\n",
      "018208254804 0.68\n",
      "nikon_d800 0.57\n",
      "36_3_mp_digital_slr_camera_black_body 0.33\n",
      "ebay 0.21\n",
      "d800 0.12\n",
      "\n",
      "ENTITY#76\n",
      "d610 0.61\n",
      "018208015405 0.38\n",
      "nikon 0.26\n",
      "018208015405_ebay 0.26\n",
      "24_3_mp_cmos_fx 0.24\n",
      "\n",
      "ENTITY#19\n",
      "nikon_d3300 0.52\n",
      "18 0.37\n",
      "018208015320 0.3\n",
      "018208015320_ebay 0.28\n",
      "d3300 0.26\n",
      "\n",
      "ENTITY#58\n",
      "10 0.63\n",
      "j1 0.52\n",
      "nikon 0.3\n",
      "1_mp_digital_camera_white_kit 0.22\n",
      "30mm 0.21\n",
      "\n",
      "ENTITY#37\n",
      "nikon_d80 0.8\n",
      "018208254125_ebay 0.33\n",
      "018208254125 0.27\n",
      "10_2_mp_digital_slr_camera_black_body 0.22\n",
      "ebay 0.16\n",
      "\n",
      "ENTITY#84\n",
      "nikon_d300 0.88\n",
      "12_3_mp_digital_slr_camera_black_body 0.28\n",
      "ebay 0.23\n",
      "018208094813_ebay 0.1\n",
      "12_3_mp_digital_slr_camera 0.09\n",
      "\n",
      "ENTITY#8\n",
      "1_j3 0.51\n",
      "10 0.39\n",
      "14 0.37\n",
      "nikon 0.31\n",
      "018208276387 0.24\n",
      "\n",
      "ENTITY#7\n",
      "olympus_om 0.68\n",
      "d_e 0.5\n",
      "m5 0.23\n",
      "14 0.15\n",
      "12 0.14\n",
      "\n"
     ]
    }
   ],
   "source": [
    "for entity in entities:\n",
    "    print(entity)\n",
    "    for word, w in ranking[entity][:5]:\n",
    "        print(word, round(w, 2))\n",
    "    print()"
   ]
  },
  {
   "cell_type": "markdown",
   "metadata": {},
   "source": [
    "---\n",
    "## Save ranking to a file"
   ]
  },
  {
   "cell_type": "code",
   "execution_count": 12,
   "metadata": {
    "ExecuteTime": {
     "end_time": "2020-10-06T21:43:20.382927Z",
     "start_time": "2020-10-06T21:43:20.340893Z"
    }
   },
   "outputs": [],
   "source": [
    "df_list = []\n",
    "for entity, terms_tfidf in ranking.items():\n",
    "    df_list.append(pd.DataFrame({'label': [entity]*len(terms_tfidf), \n",
    "                                 'term': [term for term, _ in terms_tfidf]}))"
   ]
  },
  {
   "cell_type": "code",
   "execution_count": 13,
   "metadata": {
    "ExecuteTime": {
     "end_time": "2020-10-06T21:43:22.585358Z",
     "start_time": "2020-10-06T21:43:22.560469Z"
    }
   },
   "outputs": [
    {
     "data": {
      "text/html": [
       "<div>\n",
       "<style scoped>\n",
       "    .dataframe tbody tr th:only-of-type {\n",
       "        vertical-align: middle;\n",
       "    }\n",
       "\n",
       "    .dataframe tbody tr th {\n",
       "        vertical-align: top;\n",
       "    }\n",
       "\n",
       "    .dataframe thead th {\n",
       "        text-align: right;\n",
       "    }\n",
       "</style>\n",
       "<table border=\"1\" class=\"dataframe\">\n",
       "  <thead>\n",
       "    <tr style=\"text-align: right;\">\n",
       "      <th></th>\n",
       "      <th>label</th>\n",
       "      <th>term</th>\n",
       "    </tr>\n",
       "  </thead>\n",
       "  <tbody>\n",
       "    <tr>\n",
       "      <th>0</th>\n",
       "      <td>ENTITY#44</td>\n",
       "      <td>d3200</td>\n",
       "    </tr>\n",
       "    <tr>\n",
       "      <th>1</th>\n",
       "      <td>ENTITY#44</td>\n",
       "      <td>nikon_d3200</td>\n",
       "    </tr>\n",
       "    <tr>\n",
       "      <th>2</th>\n",
       "      <td>ENTITY#44</td>\n",
       "      <td>18</td>\n",
       "    </tr>\n",
       "    <tr>\n",
       "      <th>3</th>\n",
       "      <td>ENTITY#44</td>\n",
       "      <td>nikon</td>\n",
       "    </tr>\n",
       "    <tr>\n",
       "      <th>4</th>\n",
       "      <td>ENTITY#44</td>\n",
       "      <td>24_2_mp_digital_slr_camera_black_kit</td>\n",
       "    </tr>\n",
       "  </tbody>\n",
       "</table>\n",
       "</div>"
      ],
      "text/plain": [
       "       label                                  term\n",
       "0  ENTITY#44                                 d3200\n",
       "1  ENTITY#44                           nikon_d3200\n",
       "2  ENTITY#44                                    18\n",
       "3  ENTITY#44                                 nikon\n",
       "4  ENTITY#44  24_2_mp_digital_slr_camera_black_kit"
      ]
     },
     "execution_count": 13,
     "metadata": {},
     "output_type": "execute_result"
    }
   ],
   "source": [
    "df = pd.concat(df_list, axis=0)\n",
    "df.head()"
   ]
  },
  {
   "cell_type": "code",
   "execution_count": 14,
   "metadata": {
    "ExecuteTime": {
     "end_time": "2020-10-06T21:43:24.490774Z",
     "start_time": "2020-10-06T21:43:24.485848Z"
    }
   },
   "outputs": [
    {
     "data": {
      "text/plain": [
       "(55360, 2)"
      ]
     },
     "execution_count": 14,
     "metadata": {},
     "output_type": "execute_result"
    }
   ],
   "source": [
    "df.shape"
   ]
  },
  {
   "cell_type": "code",
   "execution_count": 15,
   "metadata": {
    "ExecuteTime": {
     "end_time": "2020-10-06T21:43:27.010502Z",
     "start_time": "2020-10-06T21:43:27.007126Z"
    }
   },
   "outputs": [],
   "source": [
    "ranking_filename = 'ranking_alaska_baseline.xlsx'\n",
    "ranking_filepath = os.path.join(root_dir, data_dir, terms_dir, ranking_filename)"
   ]
  },
  {
   "cell_type": "code",
   "execution_count": 16,
   "metadata": {
    "ExecuteTime": {
     "end_time": "2020-10-06T21:43:28.515113Z",
     "start_time": "2020-10-06T21:43:28.505267Z"
    }
   },
   "outputs": [
    {
     "data": {
      "text/plain": [
       "'../../data/terms/ranking_alaska_baseline.xlsx'"
      ]
     },
     "execution_count": 16,
     "metadata": {},
     "output_type": "execute_result"
    }
   ],
   "source": [
    "ranking_filepath"
   ]
  },
  {
   "cell_type": "code",
   "execution_count": 17,
   "metadata": {
    "ExecuteTime": {
     "end_time": "2020-10-06T21:43:38.085847Z",
     "start_time": "2020-10-06T21:43:30.253031Z"
    }
   },
   "outputs": [],
   "source": [
    "df.to_excel(ranking_filepath)"
   ]
  },
  {
   "cell_type": "markdown",
   "metadata": {},
   "source": [
    "---"
   ]
  }
 ],
 "metadata": {
  "kernelspec": {
   "display_name": "Python 3",
   "language": "python",
   "name": "python3"
  },
  "language_info": {
   "codemirror_mode": {
    "name": "ipython",
    "version": 3
   },
   "file_extension": ".py",
   "mimetype": "text/x-python",
   "name": "python",
   "nbconvert_exporter": "python",
   "pygments_lexer": "ipython3",
   "version": "3.8.1"
  },
  "toc": {
   "base_numbering": 1,
   "nav_menu": {},
   "number_sections": true,
   "sideBar": true,
   "skip_h1_title": true,
   "title_cell": "Table of Contents",
   "title_sidebar": "Contents",
   "toc_cell": false,
   "toc_position": {},
   "toc_section_display": true,
   "toc_window_display": false
  }
 },
 "nbformat": 4,
 "nbformat_minor": 2
}
