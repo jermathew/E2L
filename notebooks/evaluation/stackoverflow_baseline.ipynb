{
 "cells": [
  {
   "cell_type": "code",
   "execution_count": 1,
   "metadata": {
    "ExecuteTime": {
     "end_time": "2021-01-04T15:15:51.058595Z",
     "start_time": "2021-01-04T15:15:50.654437Z"
    }
   },
   "outputs": [],
   "source": [
    "import os\n",
    "import numpy as np\n",
    "import pandas as pd\n",
    "from tqdm.notebook import tqdm"
   ]
  },
  {
   "cell_type": "code",
   "execution_count": 2,
   "metadata": {
    "ExecuteTime": {
     "end_time": "2021-01-04T15:15:51.084991Z",
     "start_time": "2021-01-04T15:15:51.066442Z"
    }
   },
   "outputs": [],
   "source": [
    "root_dir = '../..'\n",
    "data_dir = 'data'\n",
    "corpus_dir = 'corpus'\n",
    "terms_dir = 'terms'\n",
    "dataset_name = 'stackoverflow'\n",
    "filename = f'{dataset_name}_corpus.xlsx'\n",
    "filepath = os.path.join(root_dir, data_dir, corpus_dir, filename)"
   ]
  },
  {
   "cell_type": "code",
   "execution_count": 3,
   "metadata": {
    "ExecuteTime": {
     "end_time": "2021-01-04T15:15:51.501378Z",
     "start_time": "2021-01-04T15:15:51.103119Z"
    }
   },
   "outputs": [],
   "source": [
    "A = pd.read_excel(filepath, index_col=0)"
   ]
  },
  {
   "cell_type": "code",
   "execution_count": 4,
   "metadata": {
    "ExecuteTime": {
     "end_time": "2021-01-04T15:15:51.533195Z",
     "start_time": "2021-01-04T15:15:51.508223Z"
    }
   },
   "outputs": [
    {
     "data": {
      "text/html": [
       "<div>\n",
       "<style scoped>\n",
       "    .dataframe tbody tr th:only-of-type {\n",
       "        vertical-align: middle;\n",
       "    }\n",
       "\n",
       "    .dataframe tbody tr th {\n",
       "        vertical-align: top;\n",
       "    }\n",
       "\n",
       "    .dataframe thead th {\n",
       "        text-align: right;\n",
       "    }\n",
       "</style>\n",
       "<table border=\"1\" class=\"dataframe\">\n",
       "  <thead>\n",
       "    <tr style=\"text-align: right;\">\n",
       "      <th></th>\n",
       "      <th>doc_id</th>\n",
       "      <th>chunk_doc</th>\n",
       "      <th>label</th>\n",
       "    </tr>\n",
       "  </thead>\n",
       "  <tbody>\n",
       "    <tr>\n",
       "      <th>0</th>\n",
       "      <td>0</td>\n",
       "      <td>truncate string net given string projects mult...</td>\n",
       "      <td>.net</td>\n",
       "    </tr>\n",
       "    <tr>\n",
       "      <th>1</th>\n",
       "      <td>1</td>\n",
       "      <td>net_windows_application automatically call pro...</td>\n",
       "      <td>.net</td>\n",
       "    </tr>\n",
       "    <tr>\n",
       "      <th>2</th>\n",
       "      <td>2</td>\n",
       "      <td>c_convert string unique id let assume_string_n...</td>\n",
       "      <td>.net</td>\n",
       "    </tr>\n",
       "    <tr>\n",
       "      <th>3</th>\n",
       "      <td>3</td>\n",
       "      <td>consolewriteline output webservice go consolew...</td>\n",
       "      <td>.net</td>\n",
       "    </tr>\n",
       "    <tr>\n",
       "      <th>4</th>\n",
       "      <td>4</td>\n",
       "      <td>net_applications_immune_classic_pointer_errors...</td>\n",
       "      <td>.net</td>\n",
       "    </tr>\n",
       "  </tbody>\n",
       "</table>\n",
       "</div>"
      ],
      "text/plain": [
       "   doc_id                                          chunk_doc label\n",
       "0       0  truncate string net given string projects mult...  .net\n",
       "1       1  net_windows_application automatically call pro...  .net\n",
       "2       2  c_convert string unique id let assume_string_n...  .net\n",
       "3       3  consolewriteline output webservice go consolew...  .net\n",
       "4       4  net_applications_immune_classic_pointer_errors...  .net"
      ]
     },
     "execution_count": 4,
     "metadata": {},
     "output_type": "execute_result"
    }
   ],
   "source": [
    "A.head()"
   ]
  },
  {
   "cell_type": "code",
   "execution_count": 5,
   "metadata": {
    "ExecuteTime": {
     "end_time": "2021-01-04T15:15:52.331696Z",
     "start_time": "2021-01-04T15:15:51.538606Z"
    }
   },
   "outputs": [],
   "source": [
    "from collections import defaultdict\n",
    "from sklearn.feature_extraction.text import TfidfVectorizer"
   ]
  },
  {
   "cell_type": "code",
   "execution_count": 6,
   "metadata": {
    "ExecuteTime": {
     "end_time": "2021-01-04T15:15:52.872302Z",
     "start_time": "2021-01-04T15:15:52.334811Z"
    }
   },
   "outputs": [],
   "source": [
    "pseudo_docs = defaultdict(lambda: \"\")\n",
    "for i, doc in A.iterrows():\n",
    "    pseudo_docs[doc.label] += \" \" + str(doc.chunk_doc)"
   ]
  },
  {
   "cell_type": "code",
   "execution_count": 7,
   "metadata": {
    "ExecuteTime": {
     "end_time": "2021-01-04T15:15:52.886027Z",
     "start_time": "2021-01-04T15:15:52.879816Z"
    }
   },
   "outputs": [],
   "source": [
    "entities = list(pseudo_docs.keys())\n",
    "pdocs = [pseudo_docs[k] for k in entities]"
   ]
  },
  {
   "cell_type": "code",
   "execution_count": 8,
   "metadata": {
    "ExecuteTime": {
     "end_time": "2021-01-04T15:15:53.373790Z",
     "start_time": "2021-01-04T15:15:52.892607Z"
    }
   },
   "outputs": [],
   "source": [
    "vectorizer = TfidfVectorizer(min_df=1)\n",
    "X = vectorizer.fit_transform(pdocs).toarray()"
   ]
  },
  {
   "cell_type": "code",
   "execution_count": 9,
   "metadata": {
    "ExecuteTime": {
     "end_time": "2021-01-04T15:15:55.001269Z",
     "start_time": "2021-01-04T15:15:53.380552Z"
    }
   },
   "outputs": [],
   "source": [
    "ranking = {}\n",
    "features = vectorizer.get_feature_names()\n",
    "for i, entity in enumerate(entities):\n",
    "    rank = [(features[i], x) for i, x in sorted(enumerate(X[i]), key=lambda z: -z[1])]\n",
    "    ranking[entity] = rank"
   ]
  },
  {
   "cell_type": "code",
   "execution_count": 10,
   "metadata": {
    "ExecuteTime": {
     "end_time": "2021-01-04T15:15:55.053077Z",
     "start_time": "2021-01-04T15:15:55.008189Z"
    }
   },
   "outputs": [
    {
     "name": "stdout",
     "output_type": "stream",
     "text": [
      ".net\n",
      "net 0.21\n",
      "using 0.19\n",
      "like 0.17\n",
      "get 0.16\n",
      "cangrowtrue_cangrow 0.15\n",
      "\n",
      "android\n",
      "wrap_content 0.35\n",
      "androidlayout_height 0.29\n",
      "androidlayout_width 0.29\n",
      "savedinstancestate 0.18\n",
      "intent 0.17\n",
      "\n",
      "angularjs\n",
      "div 0.47\n",
      "td_td0 0.4\n",
      "angularjs 0.23\n",
      "angular 0.17\n",
      "td 0.15\n",
      "\n",
      "asp.net\n",
      "runat_server 0.42\n",
      "id 0.35\n",
      "div 0.24\n",
      "itemtemplate 0.24\n",
      "asptemplatefield 0.16\n",
      "\n",
      "c\n",
      "printf 0.45\n",
      "int 0.31\n",
      "struct 0.27\n",
      "include 0.18\n",
      "stdioh 0.16\n",
      "\n",
      "c#\n",
      "get 0.29\n",
      "using 0.23\n",
      "set 0.22\n",
      "xmlelement_elementname 0.2\n",
      "int 0.17\n",
      "\n",
      "c++\n",
      "cout 0.55\n",
      "int 0.24\n",
      "endl 0.21\n",
      "include 0.21\n",
      "stdbasic_ostream_elem 0.2\n",
      "\n",
      "css\n",
      "div 0.51\n",
      "css 0.22\n",
      "padding 0.19\n",
      "ul 0.18\n",
      "0px 0.15\n",
      "\n",
      "html\n",
      "div 0.45\n",
      "td_tdvalue 0.35\n",
      "lia_href 0.28\n",
      "want 0.14\n",
      "li 0.14\n",
      "\n",
      "ios\n",
      "ios 0.26\n",
      "app 0.2\n",
      "nsstring 0.19\n",
      "get 0.17\n",
      "want 0.16\n",
      "\n",
      "iphone\n",
      "iphone 0.25\n",
      "want 0.18\n",
      "like 0.17\n",
      "app 0.12\n",
      "get 0.12\n",
      "\n",
      "java\n",
      "systemoutprintln 0.23\n",
      "public 0.23\n",
      "public_void 0.2\n",
      "static 0.18\n",
      "int 0.17\n",
      "\n",
      "javascript\n",
      "_0x3eb4 0.45\n",
      "var 0.32\n",
      "javascript 0.2\n",
      "function 0.18\n",
      "plays 0.18\n",
      "\n",
      "jquery\n",
      "div 0.44\n",
      "div_style_textalign 0.35\n",
      "td_align 0.31\n",
      "td 0.23\n",
      "abbr 0.2\n",
      "\n",
      "mysql\n",
      "tinytext 0.4\n",
      "shutting 0.3\n",
      "20130706 0.28\n",
      "mysql 0.21\n",
      "plugin 0.2\n",
      "\n",
      "objective-c\n",
      "datausingencodingnsutf8stringencoding 0.31\n",
      "nsstring 0.28\n",
      "objectivec 0.25\n",
      "void 0.19\n",
      "alloc 0.16\n",
      "\n",
      "php\n",
      "_post 0.47\n",
      "php 0.24\n",
      "id 0.2\n",
      "_files 0.19\n",
      "echo 0.16\n",
      "\n",
      "python\n",
      "def 0.36\n",
      "print 0.23\n",
      "python 0.23\n",
      "like 0.17\n",
      "self 0.14\n",
      "\n",
      "ruby-on-rails\n",
      "rails 0.38\n",
      "def 0.3\n",
      "end 0.22\n",
      "th 0.18\n",
      "redirect_to 0.16\n",
      "\n",
      "sql\n",
      "select 0.28\n",
      "join 0.23\n",
      "sql 0.21\n",
      "query 0.17\n",
      "table 0.17\n",
      "\n"
     ]
    }
   ],
   "source": [
    "for entity in entities:\n",
    "    print(entity)\n",
    "    for word, w in ranking[entity][:5]:\n",
    "        print(word, round(w, 2))\n",
    "    print()"
   ]
  },
  {
   "cell_type": "markdown",
   "metadata": {},
   "source": [
    "## Build a Dataframe out of data"
   ]
  },
  {
   "cell_type": "code",
   "execution_count": 11,
   "metadata": {
    "ExecuteTime": {
     "end_time": "2021-01-04T15:15:55.541252Z",
     "start_time": "2021-01-04T15:15:55.056940Z"
    }
   },
   "outputs": [],
   "source": [
    "df_list = []\n",
    "for entity, terms_tfidf in ranking.items():\n",
    "    df_list.append(pd.DataFrame({'label': [entity]*len(terms_tfidf), \n",
    "                                 'term': [term for term, _ in terms_tfidf]}))"
   ]
  },
  {
   "cell_type": "code",
   "execution_count": 12,
   "metadata": {
    "ExecuteTime": {
     "end_time": "2021-01-04T15:15:56.151900Z",
     "start_time": "2021-01-04T15:15:55.549384Z"
    }
   },
   "outputs": [
    {
     "data": {
      "text/html": [
       "<div>\n",
       "<style scoped>\n",
       "    .dataframe tbody tr th:only-of-type {\n",
       "        vertical-align: middle;\n",
       "    }\n",
       "\n",
       "    .dataframe tbody tr th {\n",
       "        vertical-align: top;\n",
       "    }\n",
       "\n",
       "    .dataframe thead th {\n",
       "        text-align: right;\n",
       "    }\n",
       "</style>\n",
       "<table border=\"1\" class=\"dataframe\">\n",
       "  <thead>\n",
       "    <tr style=\"text-align: right;\">\n",
       "      <th></th>\n",
       "      <th>label</th>\n",
       "      <th>term</th>\n",
       "    </tr>\n",
       "  </thead>\n",
       "  <tbody>\n",
       "    <tr>\n",
       "      <th>0</th>\n",
       "      <td>.net</td>\n",
       "      <td>net</td>\n",
       "    </tr>\n",
       "    <tr>\n",
       "      <th>1</th>\n",
       "      <td>.net</td>\n",
       "      <td>using</td>\n",
       "    </tr>\n",
       "    <tr>\n",
       "      <th>2</th>\n",
       "      <td>.net</td>\n",
       "      <td>like</td>\n",
       "    </tr>\n",
       "    <tr>\n",
       "      <th>3</th>\n",
       "      <td>.net</td>\n",
       "      <td>get</td>\n",
       "    </tr>\n",
       "    <tr>\n",
       "      <th>4</th>\n",
       "      <td>.net</td>\n",
       "      <td>cangrowtrue_cangrow</td>\n",
       "    </tr>\n",
       "  </tbody>\n",
       "</table>\n",
       "</div>"
      ],
      "text/plain": [
       "  label                 term\n",
       "0  .net                  net\n",
       "1  .net                using\n",
       "2  .net                 like\n",
       "3  .net                  get\n",
       "4  .net  cangrowtrue_cangrow"
      ]
     },
     "execution_count": 12,
     "metadata": {},
     "output_type": "execute_result"
    }
   ],
   "source": [
    "df = pd.concat(df_list, axis=0)\n",
    "df['term'] = df['term'].astype(str)\n",
    "df.head()"
   ]
  },
  {
   "cell_type": "code",
   "execution_count": 13,
   "metadata": {
    "ExecuteTime": {
     "end_time": "2021-01-04T15:15:56.167928Z",
     "start_time": "2021-01-04T15:15:56.160494Z"
    }
   },
   "outputs": [
    {
     "data": {
      "text/plain": [
       "(1059460, 2)"
      ]
     },
     "execution_count": 13,
     "metadata": {},
     "output_type": "execute_result"
    }
   ],
   "source": [
    "df.shape"
   ]
  },
  {
   "cell_type": "markdown",
   "metadata": {},
   "source": [
    "---\n",
    "## Sample data"
   ]
  },
  {
   "cell_type": "code",
   "execution_count": 14,
   "metadata": {
    "ExecuteTime": {
     "end_time": "2021-01-04T15:15:56.349192Z",
     "start_time": "2021-01-04T15:15:56.173054Z"
    }
   },
   "outputs": [],
   "source": [
    "n = 1000\n",
    "sampled_data_list = []\n",
    "grouped_df = df.groupby('label')\n",
    "\n",
    "for group_name, group_df in grouped_df:\n",
    "    top_n_df = group_df.iloc[:n]\n",
    "    sampled_data_list.append(top_n_df)"
   ]
  },
  {
   "cell_type": "code",
   "execution_count": 15,
   "metadata": {
    "ExecuteTime": {
     "end_time": "2021-01-04T15:15:56.383644Z",
     "start_time": "2021-01-04T15:15:56.355577Z"
    }
   },
   "outputs": [
    {
     "data": {
      "text/html": [
       "<div>\n",
       "<style scoped>\n",
       "    .dataframe tbody tr th:only-of-type {\n",
       "        vertical-align: middle;\n",
       "    }\n",
       "\n",
       "    .dataframe tbody tr th {\n",
       "        vertical-align: top;\n",
       "    }\n",
       "\n",
       "    .dataframe thead th {\n",
       "        text-align: right;\n",
       "    }\n",
       "</style>\n",
       "<table border=\"1\" class=\"dataframe\">\n",
       "  <thead>\n",
       "    <tr style=\"text-align: right;\">\n",
       "      <th></th>\n",
       "      <th>label</th>\n",
       "      <th>term</th>\n",
       "    </tr>\n",
       "  </thead>\n",
       "  <tbody>\n",
       "    <tr>\n",
       "      <th>0</th>\n",
       "      <td>.net</td>\n",
       "      <td>net</td>\n",
       "    </tr>\n",
       "    <tr>\n",
       "      <th>1</th>\n",
       "      <td>.net</td>\n",
       "      <td>using</td>\n",
       "    </tr>\n",
       "    <tr>\n",
       "      <th>2</th>\n",
       "      <td>.net</td>\n",
       "      <td>like</td>\n",
       "    </tr>\n",
       "    <tr>\n",
       "      <th>3</th>\n",
       "      <td>.net</td>\n",
       "      <td>get</td>\n",
       "    </tr>\n",
       "    <tr>\n",
       "      <th>4</th>\n",
       "      <td>.net</td>\n",
       "      <td>cangrowtrue_cangrow</td>\n",
       "    </tr>\n",
       "  </tbody>\n",
       "</table>\n",
       "</div>"
      ],
      "text/plain": [
       "  label                 term\n",
       "0  .net                  net\n",
       "1  .net                using\n",
       "2  .net                 like\n",
       "3  .net                  get\n",
       "4  .net  cangrowtrue_cangrow"
      ]
     },
     "execution_count": 15,
     "metadata": {},
     "output_type": "execute_result"
    }
   ],
   "source": [
    "sampled_df = pd.concat(sampled_data_list)\n",
    "sampled_df['term'] = sampled_df['term'].astype(str)\n",
    "sampled_df.head()"
   ]
  },
  {
   "cell_type": "code",
   "execution_count": 16,
   "metadata": {
    "ExecuteTime": {
     "end_time": "2021-01-04T15:15:56.400146Z",
     "start_time": "2021-01-04T15:15:56.392184Z"
    }
   },
   "outputs": [
    {
     "data": {
      "text/plain": [
       "(20000, 2)"
      ]
     },
     "execution_count": 16,
     "metadata": {},
     "output_type": "execute_result"
    }
   ],
   "source": [
    "sampled_df.shape"
   ]
  },
  {
   "cell_type": "code",
   "execution_count": 17,
   "metadata": {
    "ExecuteTime": {
     "end_time": "2021-01-04T15:16:00.806824Z",
     "start_time": "2021-01-04T15:16:00.799910Z"
    }
   },
   "outputs": [
    {
     "data": {
      "text/plain": [
       "array(['.net', 'android', 'angularjs', 'asp.net', 'c', 'c#', 'c++', 'css',\n",
       "       'html', 'ios', 'iphone', 'java', 'javascript', 'jquery', 'mysql',\n",
       "       'objective-c', 'php', 'python', 'ruby-on-rails', 'sql'],\n",
       "      dtype=object)"
      ]
     },
     "execution_count": 17,
     "metadata": {},
     "output_type": "execute_result"
    }
   ],
   "source": [
    "sampled_df.label.unique()"
   ]
  },
  {
   "cell_type": "markdown",
   "metadata": {},
   "source": [
    "---\n",
    "## Save ranking to a file"
   ]
  },
  {
   "cell_type": "code",
   "execution_count": 18,
   "metadata": {
    "ExecuteTime": {
     "end_time": "2021-01-04T15:16:01.481389Z",
     "start_time": "2021-01-04T15:16:01.474055Z"
    }
   },
   "outputs": [],
   "source": [
    "ranking_filename = f'ranking_{dataset_name}_baseline.xlsx'\n",
    "ranking_filepath = os.path.join(root_dir, data_dir, terms_dir, ranking_filename)"
   ]
  },
  {
   "cell_type": "code",
   "execution_count": 19,
   "metadata": {
    "ExecuteTime": {
     "end_time": "2021-01-04T15:16:01.921191Z",
     "start_time": "2021-01-04T15:16:01.915571Z"
    }
   },
   "outputs": [
    {
     "data": {
      "text/plain": [
       "'../../data/terms/ranking_stackoverflow_baseline.xlsx'"
      ]
     },
     "execution_count": 19,
     "metadata": {},
     "output_type": "execute_result"
    }
   ],
   "source": [
    "ranking_filepath"
   ]
  },
  {
   "cell_type": "code",
   "execution_count": 20,
   "metadata": {
    "ExecuteTime": {
     "end_time": "2021-01-04T15:16:07.048561Z",
     "start_time": "2021-01-04T15:16:02.425897Z"
    }
   },
   "outputs": [],
   "source": [
    "sampled_df.to_excel(ranking_filepath)"
   ]
  },
  {
   "cell_type": "markdown",
   "metadata": {},
   "source": [
    "---"
   ]
  }
 ],
 "metadata": {
  "kernelspec": {
   "display_name": "Python 3",
   "language": "python",
   "name": "python3"
  },
  "language_info": {
   "codemirror_mode": {
    "name": "ipython",
    "version": 3
   },
   "file_extension": ".py",
   "mimetype": "text/x-python",
   "name": "python",
   "nbconvert_exporter": "python",
   "pygments_lexer": "ipython3",
   "version": "3.8.1"
  },
  "toc": {
   "base_numbering": 1,
   "nav_menu": {},
   "number_sections": true,
   "sideBar": true,
   "skip_h1_title": true,
   "title_cell": "Table of Contents",
   "title_sidebar": "Contents",
   "toc_cell": false,
   "toc_position": {},
   "toc_section_display": true,
   "toc_window_display": false
  }
 },
 "nbformat": 4,
 "nbformat_minor": 2
}
