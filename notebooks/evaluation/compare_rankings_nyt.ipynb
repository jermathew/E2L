{
 "cells": [
  {
   "cell_type": "markdown",
   "metadata": {},
   "source": [
    "# Compare rankings"
   ]
  },
  {
   "cell_type": "markdown",
   "metadata": {},
   "source": [
    "## Define filepaths"
   ]
  },
  {
   "cell_type": "code",
   "execution_count": 1,
   "metadata": {
    "ExecuteTime": {
     "end_time": "2021-01-04T14:29:21.124189Z",
     "start_time": "2021-01-04T14:29:21.119366Z"
    }
   },
   "outputs": [],
   "source": [
    "root_dir = '../..'\n",
    "data_dir = 'data'\n",
    "corpus_dir = 'corpus'\n",
    "rank_dir = 'terms'\n",
    "src_dir = 'src'\n",
    "dataset_name = 'nyt'\n",
    "model_name = 'bert'"
   ]
  },
  {
   "cell_type": "markdown",
   "metadata": {},
   "source": [
    "## Load rankings"
   ]
  },
  {
   "cell_type": "markdown",
   "metadata": {},
   "source": [
    "### LIME"
   ]
  },
  {
   "cell_type": "code",
   "execution_count": 2,
   "metadata": {
    "ExecuteTime": {
     "end_time": "2021-01-04T14:29:22.056695Z",
     "start_time": "2021-01-04T14:29:21.690719Z"
    }
   },
   "outputs": [],
   "source": [
    "import os\n",
    "import pandas as pd"
   ]
  },
  {
   "cell_type": "code",
   "execution_count": 3,
   "metadata": {
    "ExecuteTime": {
     "end_time": "2021-01-04T14:29:23.614294Z",
     "start_time": "2021-01-04T14:29:22.064789Z"
    }
   },
   "outputs": [
    {
     "data": {
      "text/html": [
       "<div>\n",
       "<style scoped>\n",
       "    .dataframe tbody tr th:only-of-type {\n",
       "        vertical-align: middle;\n",
       "    }\n",
       "\n",
       "    .dataframe tbody tr th {\n",
       "        vertical-align: top;\n",
       "    }\n",
       "\n",
       "    .dataframe thead th {\n",
       "        text-align: right;\n",
       "    }\n",
       "</style>\n",
       "<table border=\"1\" class=\"dataframe\">\n",
       "  <thead>\n",
       "    <tr style=\"text-align: right;\">\n",
       "      <th></th>\n",
       "      <th>label</th>\n",
       "      <th>term</th>\n",
       "      <th>weight</th>\n",
       "    </tr>\n",
       "  </thead>\n",
       "  <tbody>\n",
       "    <tr>\n",
       "      <th>0</th>\n",
       "      <td>Q11201</td>\n",
       "      <td>court</td>\n",
       "      <td>9.744176</td>\n",
       "    </tr>\n",
       "    <tr>\n",
       "      <th>1</th>\n",
       "      <td>Q11201</td>\n",
       "      <td>supreme_court</td>\n",
       "      <td>7.793146</td>\n",
       "    </tr>\n",
       "    <tr>\n",
       "      <th>2</th>\n",
       "      <td>Q11201</td>\n",
       "      <td>article</td>\n",
       "      <td>3.224292</td>\n",
       "    </tr>\n",
       "    <tr>\n",
       "      <th>3</th>\n",
       "      <td>Q11201</td>\n",
       "      <td>high_court</td>\n",
       "      <td>2.532203</td>\n",
       "    </tr>\n",
       "    <tr>\n",
       "      <th>4</th>\n",
       "      <td>Q11201</td>\n",
       "      <td>supreme_court_justice</td>\n",
       "      <td>1.695288</td>\n",
       "    </tr>\n",
       "  </tbody>\n",
       "</table>\n",
       "</div>"
      ],
      "text/plain": [
       "    label                   term    weight\n",
       "0  Q11201                  court  9.744176\n",
       "1  Q11201          supreme_court  7.793146\n",
       "2  Q11201                article  3.224292\n",
       "3  Q11201             high_court  2.532203\n",
       "4  Q11201  supreme_court_justice  1.695288"
      ]
     },
     "execution_count": 3,
     "metadata": {},
     "output_type": "execute_result"
    }
   ],
   "source": [
    "lime_rankings_filename = f'ranking_{dataset_name}_{model_name}.xlsx'\n",
    "lime_rankings_filepath = os.path.join(root_dir, data_dir, rank_dir, lime_rankings_filename)\n",
    "lime_df = pd.read_excel(lime_rankings_filepath, index_col=0)\n",
    "lime_df.head()"
   ]
  },
  {
   "cell_type": "code",
   "execution_count": 4,
   "metadata": {
    "ExecuteTime": {
     "end_time": "2021-01-04T14:29:23.621239Z",
     "start_time": "2021-01-04T14:29:23.616827Z"
    }
   },
   "outputs": [
    {
     "data": {
      "text/plain": [
       "(14325, 3)"
      ]
     },
     "execution_count": 4,
     "metadata": {},
     "output_type": "execute_result"
    }
   ],
   "source": [
    "lime_df.shape"
   ]
  },
  {
   "cell_type": "markdown",
   "metadata": {},
   "source": [
    "### Baseline"
   ]
  },
  {
   "cell_type": "code",
   "execution_count": 5,
   "metadata": {
    "ExecuteTime": {
     "end_time": "2021-01-04T14:29:43.345176Z",
     "start_time": "2021-01-04T14:29:23.623563Z"
    }
   },
   "outputs": [
    {
     "data": {
      "text/html": [
       "<div>\n",
       "<style scoped>\n",
       "    .dataframe tbody tr th:only-of-type {\n",
       "        vertical-align: middle;\n",
       "    }\n",
       "\n",
       "    .dataframe tbody tr th {\n",
       "        vertical-align: top;\n",
       "    }\n",
       "\n",
       "    .dataframe thead th {\n",
       "        text-align: right;\n",
       "    }\n",
       "</style>\n",
       "<table border=\"1\" class=\"dataframe\">\n",
       "  <thead>\n",
       "    <tr style=\"text-align: right;\">\n",
       "      <th></th>\n",
       "      <th>label</th>\n",
       "      <th>term</th>\n",
       "    </tr>\n",
       "  </thead>\n",
       "  <tbody>\n",
       "    <tr>\n",
       "      <th>0</th>\n",
       "      <td>Q11201</td>\n",
       "      <td>court</td>\n",
       "    </tr>\n",
       "    <tr>\n",
       "      <th>1</th>\n",
       "      <td>Q11201</td>\n",
       "      <td>supreme_court</td>\n",
       "    </tr>\n",
       "    <tr>\n",
       "      <th>2</th>\n",
       "      <td>Q11201</td>\n",
       "      <td>says</td>\n",
       "    </tr>\n",
       "    <tr>\n",
       "      <th>3</th>\n",
       "      <td>Q11201</td>\n",
       "      <td>ruling</td>\n",
       "    </tr>\n",
       "    <tr>\n",
       "      <th>4</th>\n",
       "      <td>Q11201</td>\n",
       "      <td>ct</td>\n",
       "    </tr>\n",
       "  </tbody>\n",
       "</table>\n",
       "</div>"
      ],
      "text/plain": [
       "    label           term\n",
       "0  Q11201          court\n",
       "1  Q11201  supreme_court\n",
       "2  Q11201           says\n",
       "3  Q11201         ruling\n",
       "4  Q11201             ct"
      ]
     },
     "execution_count": 5,
     "metadata": {},
     "output_type": "execute_result"
    }
   ],
   "source": [
    "baseline_ranking_filename = f'ranking_{dataset_name}_baseline.xlsx'\n",
    "baseline_ranking_filepath = os.path.join(root_dir, data_dir, rank_dir, baseline_ranking_filename)\n",
    "baseline_df = pd.read_excel(baseline_ranking_filepath, index_col=0)\n",
    "baseline_df.head()"
   ]
  },
  {
   "cell_type": "code",
   "execution_count": 6,
   "metadata": {
    "ExecuteTime": {
     "end_time": "2021-01-04T14:29:43.351842Z",
     "start_time": "2021-01-04T14:29:43.347384Z"
    }
   },
   "outputs": [
    {
     "data": {
      "text/plain": [
       "(276020, 2)"
      ]
     },
     "execution_count": 6,
     "metadata": {},
     "output_type": "execute_result"
    }
   ],
   "source": [
    "baseline_df.shape"
   ]
  },
  {
   "cell_type": "markdown",
   "metadata": {},
   "source": [
    "## Retrieve label names"
   ]
  },
  {
   "cell_type": "code",
   "execution_count": 7,
   "metadata": {
    "ExecuteTime": {
     "end_time": "2021-01-04T14:29:43.361957Z",
     "start_time": "2021-01-04T14:29:43.353736Z"
    }
   },
   "outputs": [],
   "source": [
    "label_names_filename = 'expansion.xlsx'\n",
    "label_names_filepath = os.path.join(root_dir, data_dir, corpus_dir, label_names_filename)"
   ]
  },
  {
   "cell_type": "code",
   "execution_count": 8,
   "metadata": {
    "ExecuteTime": {
     "end_time": "2021-01-04T14:29:43.449595Z",
     "start_time": "2021-01-04T14:29:43.364554Z"
    }
   },
   "outputs": [
    {
     "data": {
      "text/html": [
       "<div>\n",
       "<style scoped>\n",
       "    .dataframe tbody tr th:only-of-type {\n",
       "        vertical-align: middle;\n",
       "    }\n",
       "\n",
       "    .dataframe tbody tr th {\n",
       "        vertical-align: top;\n",
       "    }\n",
       "\n",
       "    .dataframe thead th {\n",
       "        text-align: right;\n",
       "    }\n",
       "</style>\n",
       "<table border=\"1\" class=\"dataframe\">\n",
       "  <thead>\n",
       "    <tr style=\"text-align: right;\">\n",
       "      <th></th>\n",
       "      <th>label</th>\n",
       "    </tr>\n",
       "    <tr>\n",
       "      <th>id</th>\n",
       "      <th></th>\n",
       "    </tr>\n",
       "  </thead>\n",
       "  <tbody>\n",
       "    <tr>\n",
       "      <th>Q60</th>\n",
       "      <td>New York City</td>\n",
       "    </tr>\n",
       "    <tr>\n",
       "      <th>Q51929311</th>\n",
       "      <td>largest city</td>\n",
       "    </tr>\n",
       "    <tr>\n",
       "      <th>Q1093829</th>\n",
       "      <td>city of the United States</td>\n",
       "    </tr>\n",
       "    <tr>\n",
       "      <th>Q486972</th>\n",
       "      <td>human settlement</td>\n",
       "    </tr>\n",
       "    <tr>\n",
       "      <th>Q1549591</th>\n",
       "      <td>big city</td>\n",
       "    </tr>\n",
       "  </tbody>\n",
       "</table>\n",
       "</div>"
      ],
      "text/plain": [
       "                               label\n",
       "id                                  \n",
       "Q60                    New York City\n",
       "Q51929311               largest city\n",
       "Q1093829   city of the United States\n",
       "Q486972             human settlement\n",
       "Q1549591                    big city"
      ]
     },
     "execution_count": 8,
     "metadata": {},
     "output_type": "execute_result"
    }
   ],
   "source": [
    "label_names_df = pd.read_excel(label_names_filepath, index_col=0)\n",
    "label_names_df = label_names_df.drop(columns='terms')\n",
    "label_names_df.head()"
   ]
  },
  {
   "cell_type": "markdown",
   "metadata": {},
   "source": [
    "## Group by label"
   ]
  },
  {
   "cell_type": "code",
   "execution_count": 9,
   "metadata": {
    "ExecuteTime": {
     "end_time": "2021-01-04T14:29:43.457667Z",
     "start_time": "2021-01-04T14:29:43.453542Z"
    }
   },
   "outputs": [],
   "source": [
    "grouped_lime_df = lime_df.groupby('label')\n",
    "grouped_baseline_df = baseline_df.groupby('label')"
   ]
  },
  {
   "cell_type": "markdown",
   "metadata": {},
   "source": [
    "## Save the top N terms to a file"
   ]
  },
  {
   "cell_type": "code",
   "execution_count": 10,
   "metadata": {
    "ExecuteTime": {
     "end_time": "2021-01-04T14:29:43.466899Z",
     "start_time": "2021-01-04T14:29:43.460355Z"
    }
   },
   "outputs": [],
   "source": [
    "n = 30"
   ]
  },
  {
   "cell_type": "code",
   "execution_count": 11,
   "metadata": {
    "ExecuteTime": {
     "end_time": "2021-01-04T14:29:43.495091Z",
     "start_time": "2021-01-04T14:29:43.470923Z"
    }
   },
   "outputs": [],
   "source": [
    "filename = f'top_n_{dataset_name}.xlsx'\n",
    "filepath = os.path.join(root_dir, data_dir, rank_dir, filename)"
   ]
  },
  {
   "cell_type": "code",
   "execution_count": 12,
   "metadata": {
    "ExecuteTime": {
     "end_time": "2021-01-04T14:29:43.871722Z",
     "start_time": "2021-01-04T14:29:43.496866Z"
    }
   },
   "outputs": [],
   "source": [
    "with pd.ExcelWriter(filepath) as writer:\n",
    "    for group_name, group_lime_df in grouped_lime_df:\n",
    "        group_baseline_df = grouped_baseline_df.get_group(group_name)\n",
    "\n",
    "        lime_terms = group_lime_df['term'].values[:n]\n",
    "        baseline_terms = group_baseline_df['term'].values[:n]\n",
    "\n",
    "        label_name = label_names_df.loc[group_name, 'label']\n",
    "        \n",
    "        df = pd.DataFrame({'tfidf_term': pd.Series(baseline_terms), \n",
    "                           'bert_term': pd.Series(lime_terms), \n",
    "                           'label_name': label_name})\n",
    "    \n",
    "        df.to_excel(writer, \n",
    "                    sheet_name=group_name, \n",
    "                    index=False)"
   ]
  },
  {
   "cell_type": "markdown",
   "metadata": {},
   "source": [
    "---"
   ]
  }
 ],
 "metadata": {
  "kernelspec": {
   "display_name": "Python 3",
   "language": "python",
   "name": "python3"
  },
  "language_info": {
   "codemirror_mode": {
    "name": "ipython",
    "version": 3
   },
   "file_extension": ".py",
   "mimetype": "text/x-python",
   "name": "python",
   "nbconvert_exporter": "python",
   "pygments_lexer": "ipython3",
   "version": "3.8.1"
  },
  "toc": {
   "base_numbering": 1,
   "nav_menu": {},
   "number_sections": true,
   "sideBar": true,
   "skip_h1_title": false,
   "title_cell": "Table of Contents",
   "title_sidebar": "Contents",
   "toc_cell": false,
   "toc_position": {},
   "toc_section_display": true,
   "toc_window_display": false
  }
 },
 "nbformat": 4,
 "nbformat_minor": 4
}
