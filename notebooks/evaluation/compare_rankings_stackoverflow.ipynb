{
 "cells": [
  {
   "cell_type": "markdown",
   "metadata": {},
   "source": [
    "# Compare rankings"
   ]
  },
  {
   "cell_type": "markdown",
   "metadata": {},
   "source": [
    "## Define filepaths"
   ]
  },
  {
   "cell_type": "code",
   "execution_count": 1,
   "metadata": {
    "ExecuteTime": {
     "end_time": "2021-01-04T15:20:38.067163Z",
     "start_time": "2021-01-04T15:20:38.058383Z"
    }
   },
   "outputs": [],
   "source": [
    "root_dir = '../..'\n",
    "data_dir = 'data'\n",
    "corpus_dir = 'corpus'\n",
    "rank_dir = 'terms'\n",
    "src_dir = 'src'\n",
    "dataset_name = 'stackoverflow'\n",
    "model_name = 'bert'"
   ]
  },
  {
   "cell_type": "markdown",
   "metadata": {},
   "source": [
    "## Load rankings"
   ]
  },
  {
   "cell_type": "markdown",
   "metadata": {},
   "source": [
    "### LIME"
   ]
  },
  {
   "cell_type": "code",
   "execution_count": 2,
   "metadata": {
    "ExecuteTime": {
     "end_time": "2021-01-04T15:20:38.423143Z",
     "start_time": "2021-01-04T15:20:38.069801Z"
    }
   },
   "outputs": [],
   "source": [
    "import os\n",
    "import pandas as pd"
   ]
  },
  {
   "cell_type": "code",
   "execution_count": 3,
   "metadata": {
    "ExecuteTime": {
     "end_time": "2021-01-04T15:20:40.044418Z",
     "start_time": "2021-01-04T15:20:38.430415Z"
    }
   },
   "outputs": [
    {
     "data": {
      "text/html": [
       "<div>\n",
       "<style scoped>\n",
       "    .dataframe tbody tr th:only-of-type {\n",
       "        vertical-align: middle;\n",
       "    }\n",
       "\n",
       "    .dataframe tbody tr th {\n",
       "        vertical-align: top;\n",
       "    }\n",
       "\n",
       "    .dataframe thead th {\n",
       "        text-align: right;\n",
       "    }\n",
       "</style>\n",
       "<table border=\"1\" class=\"dataframe\">\n",
       "  <thead>\n",
       "    <tr style=\"text-align: right;\">\n",
       "      <th></th>\n",
       "      <th>label</th>\n",
       "      <th>term</th>\n",
       "      <th>weight</th>\n",
       "    </tr>\n",
       "  </thead>\n",
       "  <tbody>\n",
       "    <tr>\n",
       "      <th>0</th>\n",
       "      <td>.net</td>\n",
       "      <td>net</td>\n",
       "      <td>8.574018</td>\n",
       "    </tr>\n",
       "    <tr>\n",
       "      <th>1</th>\n",
       "      <td>.net</td>\n",
       "      <td>net_application</td>\n",
       "      <td>1.086539</td>\n",
       "    </tr>\n",
       "    <tr>\n",
       "      <th>2</th>\n",
       "      <td>.net</td>\n",
       "      <td>linq_net_two_data_tables</td>\n",
       "      <td>0.820128</td>\n",
       "    </tr>\n",
       "    <tr>\n",
       "      <th>3</th>\n",
       "      <td>.net</td>\n",
       "      <td>best_net_code</td>\n",
       "      <td>0.791083</td>\n",
       "    </tr>\n",
       "    <tr>\n",
       "      <th>4</th>\n",
       "      <td>.net</td>\n",
       "      <td>net_convert_number_string_representation</td>\n",
       "      <td>0.775314</td>\n",
       "    </tr>\n",
       "  </tbody>\n",
       "</table>\n",
       "</div>"
      ],
      "text/plain": [
       "  label                                      term    weight\n",
       "0  .net                                       net  8.574018\n",
       "1  .net                           net_application  1.086539\n",
       "2  .net                  linq_net_two_data_tables  0.820128\n",
       "3  .net                             best_net_code  0.791083\n",
       "4  .net  net_convert_number_string_representation  0.775314"
      ]
     },
     "execution_count": 3,
     "metadata": {},
     "output_type": "execute_result"
    }
   ],
   "source": [
    "lime_rankings_filename = f'ranking_{dataset_name}_{model_name}.xlsx'\n",
    "lime_rankings_filepath = os.path.join(root_dir, data_dir, rank_dir, lime_rankings_filename)\n",
    "lime_df = pd.read_excel(lime_rankings_filepath, index_col=0)\n",
    "lime_df.head()"
   ]
  },
  {
   "cell_type": "code",
   "execution_count": 4,
   "metadata": {
    "ExecuteTime": {
     "end_time": "2021-01-04T15:20:40.058880Z",
     "start_time": "2021-01-04T15:20:40.051007Z"
    }
   },
   "outputs": [
    {
     "data": {
      "text/plain": [
       "(14705, 3)"
      ]
     },
     "execution_count": 4,
     "metadata": {},
     "output_type": "execute_result"
    }
   ],
   "source": [
    "lime_df.shape"
   ]
  },
  {
   "cell_type": "markdown",
   "metadata": {},
   "source": [
    "### Baseline"
   ]
  },
  {
   "cell_type": "code",
   "execution_count": 5,
   "metadata": {
    "ExecuteTime": {
     "end_time": "2021-01-04T15:20:41.849192Z",
     "start_time": "2021-01-04T15:20:40.064900Z"
    }
   },
   "outputs": [
    {
     "data": {
      "text/html": [
       "<div>\n",
       "<style scoped>\n",
       "    .dataframe tbody tr th:only-of-type {\n",
       "        vertical-align: middle;\n",
       "    }\n",
       "\n",
       "    .dataframe tbody tr th {\n",
       "        vertical-align: top;\n",
       "    }\n",
       "\n",
       "    .dataframe thead th {\n",
       "        text-align: right;\n",
       "    }\n",
       "</style>\n",
       "<table border=\"1\" class=\"dataframe\">\n",
       "  <thead>\n",
       "    <tr style=\"text-align: right;\">\n",
       "      <th></th>\n",
       "      <th>label</th>\n",
       "      <th>term</th>\n",
       "    </tr>\n",
       "  </thead>\n",
       "  <tbody>\n",
       "    <tr>\n",
       "      <th>0</th>\n",
       "      <td>.net</td>\n",
       "      <td>net</td>\n",
       "    </tr>\n",
       "    <tr>\n",
       "      <th>1</th>\n",
       "      <td>.net</td>\n",
       "      <td>using</td>\n",
       "    </tr>\n",
       "    <tr>\n",
       "      <th>2</th>\n",
       "      <td>.net</td>\n",
       "      <td>like</td>\n",
       "    </tr>\n",
       "    <tr>\n",
       "      <th>3</th>\n",
       "      <td>.net</td>\n",
       "      <td>get</td>\n",
       "    </tr>\n",
       "    <tr>\n",
       "      <th>4</th>\n",
       "      <td>.net</td>\n",
       "      <td>cangrowtrue_cangrow</td>\n",
       "    </tr>\n",
       "  </tbody>\n",
       "</table>\n",
       "</div>"
      ],
      "text/plain": [
       "  label                 term\n",
       "0  .net                  net\n",
       "1  .net                using\n",
       "2  .net                 like\n",
       "3  .net                  get\n",
       "4  .net  cangrowtrue_cangrow"
      ]
     },
     "execution_count": 5,
     "metadata": {},
     "output_type": "execute_result"
    }
   ],
   "source": [
    "baseline_ranking_filename = f'ranking_{dataset_name}_baseline.xlsx'\n",
    "baseline_ranking_filepath = os.path.join(root_dir, data_dir, rank_dir, baseline_ranking_filename)\n",
    "baseline_df = pd.read_excel(baseline_ranking_filepath, index_col=0)\n",
    "baseline_df['term'] = baseline_df['term'].astype(str)\n",
    "baseline_df.head()"
   ]
  },
  {
   "cell_type": "code",
   "execution_count": 6,
   "metadata": {
    "ExecuteTime": {
     "end_time": "2021-01-04T15:20:41.864793Z",
     "start_time": "2021-01-04T15:20:41.856374Z"
    }
   },
   "outputs": [
    {
     "data": {
      "text/plain": [
       "(20000, 2)"
      ]
     },
     "execution_count": 6,
     "metadata": {},
     "output_type": "execute_result"
    }
   ],
   "source": [
    "baseline_df.shape"
   ]
  },
  {
   "cell_type": "markdown",
   "metadata": {},
   "source": [
    "## Group by label"
   ]
  },
  {
   "cell_type": "code",
   "execution_count": 7,
   "metadata": {
    "ExecuteTime": {
     "end_time": "2021-01-04T15:20:41.873183Z",
     "start_time": "2021-01-04T15:20:41.868051Z"
    }
   },
   "outputs": [],
   "source": [
    "grouped_lime_df = lime_df.groupby('label')\n",
    "grouped_baseline_df = baseline_df.groupby('label')"
   ]
  },
  {
   "cell_type": "markdown",
   "metadata": {},
   "source": [
    "## Save the top N terms to a file"
   ]
  },
  {
   "cell_type": "code",
   "execution_count": 8,
   "metadata": {
    "ExecuteTime": {
     "end_time": "2021-01-04T15:20:41.878565Z",
     "start_time": "2021-01-04T15:20:41.875676Z"
    }
   },
   "outputs": [],
   "source": [
    "n = 30"
   ]
  },
  {
   "cell_type": "code",
   "execution_count": 9,
   "metadata": {
    "ExecuteTime": {
     "end_time": "2021-01-04T15:20:41.884582Z",
     "start_time": "2021-01-04T15:20:41.880783Z"
    }
   },
   "outputs": [],
   "source": [
    "filename = f'top_n_{dataset_name}.xlsx'\n",
    "filepath = os.path.join(root_dir, data_dir, rank_dir, filename)"
   ]
  },
  {
   "cell_type": "code",
   "execution_count": 10,
   "metadata": {
    "ExecuteTime": {
     "end_time": "2021-01-04T15:20:42.284465Z",
     "start_time": "2021-01-04T15:20:41.886901Z"
    }
   },
   "outputs": [],
   "source": [
    "with pd.ExcelWriter(filepath) as writer:\n",
    "    for group_name, group_lime_df in grouped_lime_df:\n",
    "        group_baseline_df = grouped_baseline_df.get_group(group_name)\n",
    "\n",
    "        lime_terms = group_lime_df['term'].values[:n]\n",
    "        baseline_terms = group_baseline_df['term'].values[:n]\n",
    "        \n",
    "        df = pd.DataFrame({'tfidf_term': pd.Series(baseline_terms), \n",
    "                           'bert_term': pd.Series(lime_terms)})\n",
    "    \n",
    "        df.to_excel(writer, \n",
    "                    sheet_name=group_name, \n",
    "                    index=False)"
   ]
  },
  {
   "cell_type": "markdown",
   "metadata": {},
   "source": [
    "---"
   ]
  }
 ],
 "metadata": {
  "kernelspec": {
   "display_name": "Python 3",
   "language": "python",
   "name": "python3"
  },
  "language_info": {
   "codemirror_mode": {
    "name": "ipython",
    "version": 3
   },
   "file_extension": ".py",
   "mimetype": "text/x-python",
   "name": "python",
   "nbconvert_exporter": "python",
   "pygments_lexer": "ipython3",
   "version": "3.8.1"
  },
  "toc": {
   "base_numbering": 1,
   "nav_menu": {},
   "number_sections": true,
   "sideBar": true,
   "skip_h1_title": false,
   "title_cell": "Table of Contents",
   "title_sidebar": "Contents",
   "toc_cell": false,
   "toc_position": {},
   "toc_section_display": true,
   "toc_window_display": false
  }
 },
 "nbformat": 4,
 "nbformat_minor": 4
}
