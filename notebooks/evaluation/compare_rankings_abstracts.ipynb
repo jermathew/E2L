{
 "cells": [
  {
   "cell_type": "markdown",
   "metadata": {},
   "source": [
    "# Compare rankings"
   ]
  },
  {
   "cell_type": "markdown",
   "metadata": {},
   "source": [
    "## Define filepaths"
   ]
  },
  {
   "cell_type": "code",
   "execution_count": 1,
   "metadata": {
    "ExecuteTime": {
     "end_time": "2021-01-04T14:42:24.091234Z",
     "start_time": "2021-01-04T14:42:24.087601Z"
    }
   },
   "outputs": [],
   "source": [
    "root_dir = '../..'\n",
    "data_dir = 'data'\n",
    "corpus_dir = 'corpus'\n",
    "rank_dir = 'terms'\n",
    "src_dir = 'src'\n",
    "dataset_name = 'abstracts'\n",
    "model_name = 'bert'"
   ]
  },
  {
   "cell_type": "markdown",
   "metadata": {},
   "source": [
    "## Load rankings"
   ]
  },
  {
   "cell_type": "markdown",
   "metadata": {},
   "source": [
    "### LIME"
   ]
  },
  {
   "cell_type": "code",
   "execution_count": 2,
   "metadata": {
    "ExecuteTime": {
     "end_time": "2021-01-04T14:42:25.032523Z",
     "start_time": "2021-01-04T14:42:24.759341Z"
    }
   },
   "outputs": [],
   "source": [
    "import os\n",
    "import pandas as pd"
   ]
  },
  {
   "cell_type": "code",
   "execution_count": 3,
   "metadata": {
    "ExecuteTime": {
     "end_time": "2021-01-04T14:42:26.930098Z",
     "start_time": "2021-01-04T14:42:25.034756Z"
    }
   },
   "outputs": [
    {
     "data": {
      "text/html": [
       "<div>\n",
       "<style scoped>\n",
       "    .dataframe tbody tr th:only-of-type {\n",
       "        vertical-align: middle;\n",
       "    }\n",
       "\n",
       "    .dataframe tbody tr th {\n",
       "        vertical-align: top;\n",
       "    }\n",
       "\n",
       "    .dataframe thead th {\n",
       "        text-align: right;\n",
       "    }\n",
       "</style>\n",
       "<table border=\"1\" class=\"dataframe\">\n",
       "  <thead>\n",
       "    <tr style=\"text-align: right;\">\n",
       "      <th></th>\n",
       "      <th>label</th>\n",
       "      <th>term</th>\n",
       "      <th>weight</th>\n",
       "    </tr>\n",
       "  </thead>\n",
       "  <tbody>\n",
       "    <tr>\n",
       "      <th>0</th>\n",
       "      <td>cs</td>\n",
       "      <td>algorithm</td>\n",
       "      <td>5.667145</td>\n",
       "    </tr>\n",
       "    <tr>\n",
       "      <th>1</th>\n",
       "      <td>cs</td>\n",
       "      <td>queries</td>\n",
       "      <td>2.093655</td>\n",
       "    </tr>\n",
       "    <tr>\n",
       "      <th>2</th>\n",
       "      <td>cs</td>\n",
       "      <td>algorithms</td>\n",
       "      <td>2.025943</td>\n",
       "    </tr>\n",
       "    <tr>\n",
       "      <th>3</th>\n",
       "      <td>cs</td>\n",
       "      <td>computing</td>\n",
       "      <td>1.922598</td>\n",
       "    </tr>\n",
       "    <tr>\n",
       "      <th>4</th>\n",
       "      <td>cs</td>\n",
       "      <td>using</td>\n",
       "      <td>1.851915</td>\n",
       "    </tr>\n",
       "  </tbody>\n",
       "</table>\n",
       "</div>"
      ],
      "text/plain": [
       "  label        term    weight\n",
       "0    cs   algorithm  5.667145\n",
       "1    cs     queries  2.093655\n",
       "2    cs  algorithms  2.025943\n",
       "3    cs   computing  1.922598\n",
       "4    cs       using  1.851915"
      ]
     },
     "execution_count": 3,
     "metadata": {},
     "output_type": "execute_result"
    }
   ],
   "source": [
    "lime_rankings_filename = f'ranking_{dataset_name}_{model_name}.xlsx'\n",
    "lime_rankings_filepath = os.path.join(root_dir, data_dir, rank_dir, lime_rankings_filename)\n",
    "lime_df = pd.read_excel(lime_rankings_filepath, index_col=0)\n",
    "lime_df.head()"
   ]
  },
  {
   "cell_type": "code",
   "execution_count": 4,
   "metadata": {
    "ExecuteTime": {
     "end_time": "2021-01-04T14:42:26.944514Z",
     "start_time": "2021-01-04T14:42:26.932283Z"
    }
   },
   "outputs": [
    {
     "data": {
      "text/plain": [
       "(20302, 3)"
      ]
     },
     "execution_count": 4,
     "metadata": {},
     "output_type": "execute_result"
    }
   ],
   "source": [
    "lime_df.shape"
   ]
  },
  {
   "cell_type": "markdown",
   "metadata": {},
   "source": [
    "### Baseline"
   ]
  },
  {
   "cell_type": "code",
   "execution_count": 5,
   "metadata": {
    "ExecuteTime": {
     "end_time": "2021-01-04T14:42:39.822362Z",
     "start_time": "2021-01-04T14:42:26.952415Z"
    }
   },
   "outputs": [
    {
     "data": {
      "text/html": [
       "<div>\n",
       "<style scoped>\n",
       "    .dataframe tbody tr th:only-of-type {\n",
       "        vertical-align: middle;\n",
       "    }\n",
       "\n",
       "    .dataframe tbody tr th {\n",
       "        vertical-align: top;\n",
       "    }\n",
       "\n",
       "    .dataframe thead th {\n",
       "        text-align: right;\n",
       "    }\n",
       "</style>\n",
       "<table border=\"1\" class=\"dataframe\">\n",
       "  <thead>\n",
       "    <tr style=\"text-align: right;\">\n",
       "      <th></th>\n",
       "      <th>label</th>\n",
       "      <th>term</th>\n",
       "    </tr>\n",
       "  </thead>\n",
       "  <tbody>\n",
       "    <tr>\n",
       "      <th>0</th>\n",
       "      <td>cs</td>\n",
       "      <td>paper</td>\n",
       "    </tr>\n",
       "    <tr>\n",
       "      <th>1</th>\n",
       "      <td>cs</td>\n",
       "      <td>using</td>\n",
       "    </tr>\n",
       "    <tr>\n",
       "      <th>2</th>\n",
       "      <td>cs</td>\n",
       "      <td>show</td>\n",
       "    </tr>\n",
       "    <tr>\n",
       "      <th>3</th>\n",
       "      <td>cs</td>\n",
       "      <td>used</td>\n",
       "    </tr>\n",
       "    <tr>\n",
       "      <th>4</th>\n",
       "      <td>cs</td>\n",
       "      <td>also</td>\n",
       "    </tr>\n",
       "  </tbody>\n",
       "</table>\n",
       "</div>"
      ],
      "text/plain": [
       "  label   term\n",
       "0    cs  paper\n",
       "1    cs  using\n",
       "2    cs   show\n",
       "3    cs   used\n",
       "4    cs   also"
      ]
     },
     "execution_count": 5,
     "metadata": {},
     "output_type": "execute_result"
    }
   ],
   "source": [
    "baseline_ranking_filename = f'ranking_{dataset_name}_baseline.xlsx'\n",
    "baseline_ranking_filepath = os.path.join(root_dir, data_dir, rank_dir, baseline_ranking_filename)\n",
    "baseline_df = pd.read_excel(baseline_ranking_filepath, index_col=0)\n",
    "baseline_df.head()"
   ]
  },
  {
   "cell_type": "code",
   "execution_count": 6,
   "metadata": {
    "ExecuteTime": {
     "end_time": "2021-01-04T14:42:39.831678Z",
     "start_time": "2021-01-04T14:42:39.825022Z"
    }
   },
   "outputs": [
    {
     "data": {
      "text/plain": [
       "(152712, 2)"
      ]
     },
     "execution_count": 6,
     "metadata": {},
     "output_type": "execute_result"
    }
   ],
   "source": [
    "baseline_df.shape"
   ]
  },
  {
   "cell_type": "markdown",
   "metadata": {},
   "source": [
    "## Group by label"
   ]
  },
  {
   "cell_type": "code",
   "execution_count": 7,
   "metadata": {
    "ExecuteTime": {
     "end_time": "2021-01-04T14:42:39.837891Z",
     "start_time": "2021-01-04T14:42:39.833760Z"
    }
   },
   "outputs": [],
   "source": [
    "grouped_lime_df = lime_df.groupby('label')\n",
    "grouped_baseline_df = baseline_df.groupby('label')"
   ]
  },
  {
   "cell_type": "markdown",
   "metadata": {},
   "source": [
    "## Save the top N terms to a file"
   ]
  },
  {
   "cell_type": "code",
   "execution_count": 8,
   "metadata": {
    "ExecuteTime": {
     "end_time": "2021-01-04T14:42:39.844005Z",
     "start_time": "2021-01-04T14:42:39.840807Z"
    }
   },
   "outputs": [],
   "source": [
    "n = 30"
   ]
  },
  {
   "cell_type": "code",
   "execution_count": 9,
   "metadata": {
    "ExecuteTime": {
     "end_time": "2021-01-04T14:42:39.850407Z",
     "start_time": "2021-01-04T14:42:39.846553Z"
    }
   },
   "outputs": [],
   "source": [
    "filename = f'top_n_{dataset_name}.xlsx'\n",
    "filepath = os.path.join(root_dir, data_dir, rank_dir, filename)"
   ]
  },
  {
   "cell_type": "code",
   "execution_count": 10,
   "metadata": {
    "ExecuteTime": {
     "end_time": "2021-01-04T14:42:40.081636Z",
     "start_time": "2021-01-04T14:42:39.852559Z"
    }
   },
   "outputs": [],
   "source": [
    "with pd.ExcelWriter(filepath) as writer:\n",
    "    for group_name, group_lime_df in grouped_lime_df:\n",
    "        group_baseline_df = grouped_baseline_df.get_group(group_name)\n",
    "\n",
    "        lime_terms = group_lime_df['term'].values[:n]\n",
    "        baseline_terms = group_baseline_df['term'].values[:n]\n",
    "        \n",
    "        df = pd.DataFrame({'tfidf_term': pd.Series(baseline_terms), \n",
    "                           'bert_term': pd.Series(lime_terms)})\n",
    "    \n",
    "        df.to_excel(writer, \n",
    "                    sheet_name=group_name, \n",
    "                    index=False)"
   ]
  },
  {
   "cell_type": "markdown",
   "metadata": {},
   "source": [
    "---"
   ]
  }
 ],
 "metadata": {
  "kernelspec": {
   "display_name": "Python 3",
   "language": "python",
   "name": "python3"
  },
  "language_info": {
   "codemirror_mode": {
    "name": "ipython",
    "version": 3
   },
   "file_extension": ".py",
   "mimetype": "text/x-python",
   "name": "python",
   "nbconvert_exporter": "python",
   "pygments_lexer": "ipython3",
   "version": "3.8.1"
  },
  "toc": {
   "base_numbering": 1,
   "nav_menu": {},
   "number_sections": true,
   "sideBar": true,
   "skip_h1_title": false,
   "title_cell": "Table of Contents",
   "title_sidebar": "Contents",
   "toc_cell": false,
   "toc_position": {},
   "toc_section_display": true,
   "toc_window_display": false
  }
 },
 "nbformat": 4,
 "nbformat_minor": 4
}
