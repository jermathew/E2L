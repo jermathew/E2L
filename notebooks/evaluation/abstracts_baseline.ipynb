{
 "cells": [
  {
   "cell_type": "code",
   "execution_count": 1,
   "metadata": {
    "ExecuteTime": {
     "end_time": "2021-01-04T11:00:51.836370Z",
     "start_time": "2021-01-04T11:00:51.422944Z"
    }
   },
   "outputs": [],
   "source": [
    "import os\n",
    "import numpy as np\n",
    "import pandas as pd\n",
    "from tqdm.notebook import tqdm"
   ]
  },
  {
   "cell_type": "code",
   "execution_count": 2,
   "metadata": {
    "ExecuteTime": {
     "end_time": "2021-01-04T11:00:51.844603Z",
     "start_time": "2021-01-04T11:00:51.838946Z"
    }
   },
   "outputs": [],
   "source": [
    "root_dir = '../..'\n",
    "data_dir = 'data'\n",
    "corpus_dir = 'corpus'\n",
    "terms_dir = 'terms'\n",
    "dataset_name = 'abstracts'\n",
    "filename = f'{dataset_name}_corpus.xlsx'\n",
    "filepath = os.path.join(root_dir, data_dir, corpus_dir, filename)"
   ]
  },
  {
   "cell_type": "code",
   "execution_count": 3,
   "metadata": {
    "ExecuteTime": {
     "end_time": "2021-01-04T11:00:52.213675Z",
     "start_time": "2021-01-04T11:00:51.923551Z"
    }
   },
   "outputs": [],
   "source": [
    "A = pd.read_excel(filepath, index_col=0)"
   ]
  },
  {
   "cell_type": "code",
   "execution_count": 4,
   "metadata": {
    "ExecuteTime": {
     "end_time": "2021-01-04T11:00:52.247166Z",
     "start_time": "2021-01-04T11:00:52.218955Z"
    }
   },
   "outputs": [
    {
     "data": {
      "text/html": [
       "<div>\n",
       "<style scoped>\n",
       "    .dataframe tbody tr th:only-of-type {\n",
       "        vertical-align: middle;\n",
       "    }\n",
       "\n",
       "    .dataframe tbody tr th {\n",
       "        vertical-align: top;\n",
       "    }\n",
       "\n",
       "    .dataframe thead th {\n",
       "        text-align: right;\n",
       "    }\n",
       "</style>\n",
       "<table border=\"1\" class=\"dataframe\">\n",
       "  <thead>\n",
       "    <tr style=\"text-align: right;\">\n",
       "      <th></th>\n",
       "      <th>doc_id</th>\n",
       "      <th>chunk_doc</th>\n",
       "      <th>label</th>\n",
       "    </tr>\n",
       "  </thead>\n",
       "  <tbody>\n",
       "    <tr>\n",
       "      <th>0</th>\n",
       "      <td>0</td>\n",
       "      <td>work mind construction concurrent_systems comp...</td>\n",
       "      <td>cs</td>\n",
       "    </tr>\n",
       "    <tr>\n",
       "      <th>1</th>\n",
       "      <td>1</td>\n",
       "      <td>optimal_selection interdependent projects impl...</td>\n",
       "      <td>cs</td>\n",
       "    </tr>\n",
       "    <tr>\n",
       "      <th>2</th>\n",
       "      <td>2</td>\n",
       "      <td>sorting one classic_problems computer_science ...</td>\n",
       "      <td>cs</td>\n",
       "    </tr>\n",
       "    <tr>\n",
       "      <th>3</th>\n",
       "      <td>3</td>\n",
       "      <td>dependency_analysis technique identify determi...</td>\n",
       "      <td>cs</td>\n",
       "    </tr>\n",
       "    <tr>\n",
       "      <th>4</th>\n",
       "      <td>4</td>\n",
       "      <td>module theorem janhunen et_al demonstrates pro...</td>\n",
       "      <td>cs</td>\n",
       "    </tr>\n",
       "  </tbody>\n",
       "</table>\n",
       "</div>"
      ],
      "text/plain": [
       "   doc_id                                          chunk_doc label\n",
       "0       0  work mind construction concurrent_systems comp...    cs\n",
       "1       1  optimal_selection interdependent projects impl...    cs\n",
       "2       2  sorting one classic_problems computer_science ...    cs\n",
       "3       3  dependency_analysis technique identify determi...    cs\n",
       "4       4  module theorem janhunen et_al demonstrates pro...    cs"
      ]
     },
     "execution_count": 4,
     "metadata": {},
     "output_type": "execute_result"
    }
   ],
   "source": [
    "A.head()"
   ]
  },
  {
   "cell_type": "code",
   "execution_count": 5,
   "metadata": {
    "ExecuteTime": {
     "end_time": "2021-01-04T11:00:52.973240Z",
     "start_time": "2021-01-04T11:00:52.368162Z"
    }
   },
   "outputs": [],
   "source": [
    "from collections import defaultdict\n",
    "from sklearn.feature_extraction.text import TfidfVectorizer"
   ]
  },
  {
   "cell_type": "code",
   "execution_count": 6,
   "metadata": {
    "ExecuteTime": {
     "end_time": "2021-01-04T11:00:53.373193Z",
     "start_time": "2021-01-04T11:00:52.981641Z"
    }
   },
   "outputs": [],
   "source": [
    "pseudo_docs = defaultdict(lambda: \"\")\n",
    "for i, doc in A.iterrows():\n",
    "    pseudo_docs[doc.label] += \" \" + doc.chunk_doc"
   ]
  },
  {
   "cell_type": "code",
   "execution_count": 7,
   "metadata": {
    "ExecuteTime": {
     "end_time": "2021-01-04T11:00:53.384479Z",
     "start_time": "2021-01-04T11:00:53.378422Z"
    }
   },
   "outputs": [],
   "source": [
    "entities = list(pseudo_docs.keys())\n",
    "pdocs = [pseudo_docs[k] for k in entities]"
   ]
  },
  {
   "cell_type": "code",
   "execution_count": 8,
   "metadata": {
    "ExecuteTime": {
     "end_time": "2021-01-04T11:00:53.756775Z",
     "start_time": "2021-01-04T11:00:53.386426Z"
    }
   },
   "outputs": [],
   "source": [
    "vectorizer = TfidfVectorizer(min_df=1)\n",
    "X = vectorizer.fit_transform(pdocs).toarray()"
   ]
  },
  {
   "cell_type": "code",
   "execution_count": 9,
   "metadata": {
    "ExecuteTime": {
     "end_time": "2021-01-04T11:00:54.081226Z",
     "start_time": "2021-01-04T11:00:53.763978Z"
    }
   },
   "outputs": [],
   "source": [
    "ranking = {}\n",
    "features = vectorizer.get_feature_names()\n",
    "for i, entity in enumerate(entities):\n",
    "    rank = [(features[i], x) for i, x in sorted(enumerate(X[i]), key=lambda z: -z[1])]\n",
    "    ranking[entity] = rank"
   ]
  },
  {
   "cell_type": "code",
   "execution_count": 10,
   "metadata": {
    "ExecuteTime": {
     "end_time": "2021-01-04T11:00:54.106695Z",
     "start_time": "2021-01-04T11:00:54.088913Z"
    }
   },
   "outputs": [
    {
     "name": "stdout",
     "output_type": "stream",
     "text": [
      "cs\n",
      "paper 0.33\n",
      "using 0.22\n",
      "show 0.2\n",
      "used 0.2\n",
      "also 0.19\n",
      "\n",
      "math\n",
      "show 0.26\n",
      "prove 0.24\n",
      "also 0.23\n",
      "paper 0.2\n",
      "study 0.17\n",
      "\n",
      "physics\n",
      "using 0.21\n",
      "also 0.19\n",
      "show 0.17\n",
      "used 0.17\n",
      "based 0.16\n",
      "\n",
      "stat\n",
      "paper 0.23\n",
      "show 0.22\n",
      "based 0.2\n",
      "using 0.2\n",
      "also 0.19\n",
      "\n"
     ]
    }
   ],
   "source": [
    "for entity in entities:\n",
    "    print(entity)\n",
    "    for word, w in ranking[entity][:5]:\n",
    "        print(word, round(w, 2))\n",
    "    print()"
   ]
  },
  {
   "cell_type": "markdown",
   "metadata": {},
   "source": [
    "---\n",
    "## Save ranking to a file"
   ]
  },
  {
   "cell_type": "code",
   "execution_count": 11,
   "metadata": {
    "ExecuteTime": {
     "end_time": "2021-01-04T11:00:54.333969Z",
     "start_time": "2021-01-04T11:00:54.261111Z"
    }
   },
   "outputs": [],
   "source": [
    "df_list = []\n",
    "for entity, terms_tfidf in ranking.items():\n",
    "    df_list.append(pd.DataFrame({'label': [entity]*len(terms_tfidf), \n",
    "                                 'term': [term for term, _ in terms_tfidf]}))"
   ]
  },
  {
   "cell_type": "code",
   "execution_count": 12,
   "metadata": {
    "ExecuteTime": {
     "end_time": "2021-01-04T11:00:54.646800Z",
     "start_time": "2021-01-04T11:00:54.624677Z"
    }
   },
   "outputs": [
    {
     "data": {
      "text/html": [
       "<div>\n",
       "<style scoped>\n",
       "    .dataframe tbody tr th:only-of-type {\n",
       "        vertical-align: middle;\n",
       "    }\n",
       "\n",
       "    .dataframe tbody tr th {\n",
       "        vertical-align: top;\n",
       "    }\n",
       "\n",
       "    .dataframe thead th {\n",
       "        text-align: right;\n",
       "    }\n",
       "</style>\n",
       "<table border=\"1\" class=\"dataframe\">\n",
       "  <thead>\n",
       "    <tr style=\"text-align: right;\">\n",
       "      <th></th>\n",
       "      <th>label</th>\n",
       "      <th>term</th>\n",
       "    </tr>\n",
       "  </thead>\n",
       "  <tbody>\n",
       "    <tr>\n",
       "      <th>0</th>\n",
       "      <td>cs</td>\n",
       "      <td>paper</td>\n",
       "    </tr>\n",
       "    <tr>\n",
       "      <th>1</th>\n",
       "      <td>cs</td>\n",
       "      <td>using</td>\n",
       "    </tr>\n",
       "    <tr>\n",
       "      <th>2</th>\n",
       "      <td>cs</td>\n",
       "      <td>show</td>\n",
       "    </tr>\n",
       "    <tr>\n",
       "      <th>3</th>\n",
       "      <td>cs</td>\n",
       "      <td>used</td>\n",
       "    </tr>\n",
       "    <tr>\n",
       "      <th>4</th>\n",
       "      <td>cs</td>\n",
       "      <td>also</td>\n",
       "    </tr>\n",
       "  </tbody>\n",
       "</table>\n",
       "</div>"
      ],
      "text/plain": [
       "  label   term\n",
       "0    cs  paper\n",
       "1    cs  using\n",
       "2    cs   show\n",
       "3    cs   used\n",
       "4    cs   also"
      ]
     },
     "execution_count": 12,
     "metadata": {},
     "output_type": "execute_result"
    }
   ],
   "source": [
    "df = pd.concat(df_list, axis=0)\n",
    "df.head()"
   ]
  },
  {
   "cell_type": "code",
   "execution_count": 13,
   "metadata": {
    "ExecuteTime": {
     "end_time": "2021-01-04T11:00:54.926036Z",
     "start_time": "2021-01-04T11:00:54.916960Z"
    }
   },
   "outputs": [
    {
     "data": {
      "text/plain": [
       "(152712, 2)"
      ]
     },
     "execution_count": 13,
     "metadata": {},
     "output_type": "execute_result"
    }
   ],
   "source": [
    "df.shape"
   ]
  },
  {
   "cell_type": "code",
   "execution_count": 14,
   "metadata": {
    "ExecuteTime": {
     "end_time": "2021-01-04T11:00:55.187438Z",
     "start_time": "2021-01-04T11:00:55.181142Z"
    }
   },
   "outputs": [],
   "source": [
    "ranking_filename = f'ranking_{dataset_name}_baseline.xlsx'\n",
    "ranking_filepath = os.path.join(root_dir, data_dir, terms_dir, ranking_filename)"
   ]
  },
  {
   "cell_type": "code",
   "execution_count": 15,
   "metadata": {
    "ExecuteTime": {
     "end_time": "2021-01-04T11:00:55.549062Z",
     "start_time": "2021-01-04T11:00:55.540819Z"
    }
   },
   "outputs": [
    {
     "data": {
      "text/plain": [
       "'../../data/terms/ranking_abstracts_baseline.xlsx'"
      ]
     },
     "execution_count": 15,
     "metadata": {},
     "output_type": "execute_result"
    }
   ],
   "source": [
    "ranking_filepath"
   ]
  },
  {
   "cell_type": "code",
   "execution_count": 16,
   "metadata": {
    "ExecuteTime": {
     "end_time": "2021-01-04T11:01:23.865333Z",
     "start_time": "2021-01-04T11:00:56.065724Z"
    }
   },
   "outputs": [],
   "source": [
    "df.to_excel(ranking_filepath)"
   ]
  },
  {
   "cell_type": "markdown",
   "metadata": {},
   "source": [
    "---"
   ]
  }
 ],
 "metadata": {
  "kernelspec": {
   "display_name": "Python 3",
   "language": "python",
   "name": "python3"
  },
  "language_info": {
   "codemirror_mode": {
    "name": "ipython",
    "version": 3
   },
   "file_extension": ".py",
   "mimetype": "text/x-python",
   "name": "python",
   "nbconvert_exporter": "python",
   "pygments_lexer": "ipython3",
   "version": "3.8.1"
  },
  "toc": {
   "base_numbering": 1,
   "nav_menu": {},
   "number_sections": true,
   "sideBar": true,
   "skip_h1_title": true,
   "title_cell": "Table of Contents",
   "title_sidebar": "Contents",
   "toc_cell": false,
   "toc_position": {},
   "toc_section_display": true,
   "toc_window_display": false
  }
 },
 "nbformat": 4,
 "nbformat_minor": 2
}
