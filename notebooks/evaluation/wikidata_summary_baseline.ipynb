{
 "cells": [
  {
   "cell_type": "markdown",
   "metadata": {},
   "source": [
    "# Summary baseline"
   ]
  },
  {
   "cell_type": "markdown",
   "metadata": {},
   "source": [
    "## Load the data"
   ]
  },
  {
   "cell_type": "code",
   "execution_count": 1,
   "metadata": {
    "ExecuteTime": {
     "end_time": "2020-12-05T18:35:39.824064Z",
     "start_time": "2020-12-05T18:35:39.819985Z"
    }
   },
   "outputs": [],
   "source": [
    "root_dir = '../../'\n",
    "src_dir = 'src'\n",
    "data_dir = 'data/corpus'\n",
    "models_dir = 'data/models'"
   ]
  },
  {
   "cell_type": "code",
   "execution_count": 2,
   "metadata": {
    "ExecuteTime": {
     "end_time": "2020-12-05T18:35:40.012271Z",
     "start_time": "2020-12-05T18:35:40.009412Z"
    }
   },
   "outputs": [],
   "source": [
    "import os\n",
    "import sys"
   ]
  },
  {
   "cell_type": "code",
   "execution_count": 3,
   "metadata": {
    "ExecuteTime": {
     "end_time": "2020-12-05T18:35:40.187047Z",
     "start_time": "2020-12-05T18:35:40.183178Z"
    }
   },
   "outputs": [],
   "source": [
    "sys.path.append(os.path.join(root_dir, src_dir))"
   ]
  },
  {
   "cell_type": "code",
   "execution_count": 4,
   "metadata": {
    "ExecuteTime": {
     "end_time": "2020-12-05T18:35:40.423889Z",
     "start_time": "2020-12-05T18:35:40.420772Z"
    }
   },
   "outputs": [],
   "source": [
    "version = 'v2'\n",
    "corpus_filename = f'wikidata_corpus_{version}.json'"
   ]
  },
  {
   "cell_type": "code",
   "execution_count": 5,
   "metadata": {
    "ExecuteTime": {
     "end_time": "2020-12-05T18:35:42.392914Z",
     "start_time": "2020-12-05T18:35:40.658407Z"
    }
   },
   "outputs": [],
   "source": [
    "from training import TrainingCorpus"
   ]
  },
  {
   "cell_type": "code",
   "execution_count": 6,
   "metadata": {
    "ExecuteTime": {
     "end_time": "2020-12-05T18:35:42.419243Z",
     "start_time": "2020-12-05T18:35:42.394869Z"
    }
   },
   "outputs": [],
   "source": [
    "corpus = TrainingCorpus()\n",
    "corpus.load(os.path.join(root_dir, data_dir, corpus_filename))"
   ]
  },
  {
   "cell_type": "code",
   "execution_count": 7,
   "metadata": {
    "ExecuteTime": {
     "end_time": "2020-12-05T18:35:42.430323Z",
     "start_time": "2020-12-05T18:35:42.421093Z"
    }
   },
   "outputs": [
    {
     "data": {
      "text/plain": [
       "3294"
      ]
     },
     "execution_count": 7,
     "metadata": {},
     "output_type": "execute_result"
    }
   ],
   "source": [
    "corpus.size"
   ]
  },
  {
   "cell_type": "markdown",
   "metadata": {},
   "source": [
    "---"
   ]
  },
  {
   "cell_type": "markdown",
   "metadata": {},
   "source": [
    "## Builds pseudo-docs"
   ]
  },
  {
   "cell_type": "code",
   "execution_count": 8,
   "metadata": {
    "ExecuteTime": {
     "end_time": "2020-12-05T18:35:44.599148Z",
     "start_time": "2020-12-05T18:35:44.596114Z"
    }
   },
   "outputs": [],
   "source": [
    "from collections import defaultdict"
   ]
  },
  {
   "cell_type": "code",
   "execution_count": 9,
   "metadata": {
    "ExecuteTime": {
     "end_time": "2020-12-05T18:35:44.932237Z",
     "start_time": "2020-12-05T18:35:44.929059Z"
    }
   },
   "outputs": [],
   "source": [
    "pseudodocs_dict = defaultdict(str)"
   ]
  },
  {
   "cell_type": "code",
   "execution_count": 10,
   "metadata": {
    "ExecuteTime": {
     "end_time": "2020-12-05T18:35:45.288903Z",
     "start_time": "2020-12-05T18:35:45.277727Z"
    }
   },
   "outputs": [],
   "source": [
    "for doc_id in corpus.docs:\n",
    "    text = corpus.get_text(doc_id)\n",
    "    label = corpus.target[doc_id][0]\n",
    "    pseudodocs_dict[label] += ' ' + text"
   ]
  },
  {
   "cell_type": "markdown",
   "metadata": {
    "ExecuteTime": {
     "end_time": "2020-12-03T09:34:52.385404Z",
     "start_time": "2020-12-03T09:34:52.380486Z"
    }
   },
   "source": [
    "## Summarize pseudo-docs"
   ]
  },
  {
   "cell_type": "code",
   "execution_count": 11,
   "metadata": {
    "ExecuteTime": {
     "end_time": "2020-12-05T18:35:46.398463Z",
     "start_time": "2020-12-05T18:35:46.394895Z"
    }
   },
   "outputs": [],
   "source": [
    "entities = list(pseudodocs_dict.keys())\n",
    "num_entities = len(entities)\n",
    "pseudodocs = [pseudodocs_dict[e_id] for e_id in entities]"
   ]
  },
  {
   "cell_type": "code",
   "execution_count": 12,
   "metadata": {
    "ExecuteTime": {
     "end_time": "2020-12-05T18:35:46.935318Z",
     "start_time": "2020-12-05T18:35:46.932278Z"
    }
   },
   "outputs": [],
   "source": [
    "summary = []"
   ]
  },
  {
   "cell_type": "code",
   "execution_count": 13,
   "metadata": {
    "ExecuteTime": {
     "end_time": "2020-12-05T18:35:49.922431Z",
     "start_time": "2020-12-05T18:35:47.462818Z"
    }
   },
   "outputs": [],
   "source": [
    "from transformers import pipeline"
   ]
  },
  {
   "cell_type": "code",
   "execution_count": 14,
   "metadata": {
    "ExecuteTime": {
     "end_time": "2020-12-05T18:35:49.926828Z",
     "start_time": "2020-12-05T18:35:49.924381Z"
    }
   },
   "outputs": [],
   "source": [
    "model_name = 'bart-large-cnn'"
   ]
  },
  {
   "cell_type": "code",
   "execution_count": 15,
   "metadata": {
    "ExecuteTime": {
     "end_time": "2020-12-05T18:36:03.415440Z",
     "start_time": "2020-12-05T18:35:49.928693Z"
    }
   },
   "outputs": [
    {
     "name": "stderr",
     "output_type": "stream",
     "text": [
      "Couldn't reach server at 'https://s3.amazonaws.com/models.huggingface.co/bert/facebook/bart-large-cnn/modelcard.json' to download model card file.\n",
      "Creating an empty model card.\n"
     ]
    }
   ],
   "source": [
    "summarizer = pipeline('summarization', model=model_name)"
   ]
  },
  {
   "cell_type": "code",
   "execution_count": 16,
   "metadata": {
    "ExecuteTime": {
     "end_time": "2020-12-05T18:36:03.420683Z",
     "start_time": "2020-12-05T18:36:03.417580Z"
    }
   },
   "outputs": [],
   "source": [
    "min_len = 10\n",
    "max_len = 50\n",
    "do_sample = False"
   ]
  },
  {
   "cell_type": "code",
   "execution_count": 17,
   "metadata": {
    "ExecuteTime": {
     "end_time": "2020-12-05T19:48:42.890262Z",
     "start_time": "2020-12-05T18:36:03.422348Z"
    }
   },
   "outputs": [
    {
     "name": "stderr",
     "output_type": "stream",
     "text": [
      "Your max_length is set to 50, but you input_length is only 29. You might consider decreasing max_length manually, e.g. summarizer('...', max_length=50)\n",
      "Your max_length is set to 50, but you input_length is only 44. You might consider decreasing max_length manually, e.g. summarizer('...', max_length=50)\n"
     ]
    }
   ],
   "source": [
    "for i in range(num_entities):\n",
    "    doc = pseudodocs[i]\n",
    "    summary_text = summarizer(doc, min_length=min_len, max_length=max_len, do_sample=do_sample)[0]['summary_text']\n",
    "    summary.append(summary_text)"
   ]
  },
  {
   "cell_type": "code",
   "execution_count": 18,
   "metadata": {
    "ExecuteTime": {
     "end_time": "2020-12-05T19:48:42.909117Z",
     "start_time": "2020-12-05T19:48:42.901396Z"
    }
   },
   "outputs": [],
   "source": [
    "from pprint import pprint"
   ]
  },
  {
   "cell_type": "code",
   "execution_count": 19,
   "metadata": {
    "ExecuteTime": {
     "end_time": "2020-12-05T19:48:43.025185Z",
     "start_time": "2020-12-05T19:48:42.914185Z"
    }
   },
   "outputs": [
    {
     "name": "stdout",
     "output_type": "stream",
     "text": [
      "['Stockholm is the capital and most populous urban area of Sweden as well as '\n",
      " 'in Scandinavia. It hosts the annual Nobel Prize ceremonies and banquet at '\n",
      " 'the Stockholm Concert Hall and Stockholm City Hall.',\n",
      " ' Stockholm is a town in Grant County, South Dakota, United States. It was '\n",
      " 'laid out in 1896, and named after the capital city of Sweden. The population '\n",
      " 'was 108 at the 2010 census.',\n",
      " ' Stockholm is a village in Pepin County, Wisconsin, United States, founded '\n",
      " 'in 1854 by immigrants from Karlskoga, Sweden, who named it after their '\n",
      " \"country's capital. The village is located within the Town of Stockholm.\",\n",
      " ' Stockholm asteroid  10552 Stockholm asteroid is a large asteroid. It is '\n",
      " 'located in the asteroid belt between Earth and the Earth.',\n",
      " ' Stockholm is a town in Aroostook County, Maine, United States. The '\n",
      " 'population was 253 at the 2010 census.',\n",
      " ' Stockholm (known as The Captor in some countries) is a 2018 Canadian crime '\n",
      " 'film written, produced and directed by Robert Budreau. It stars Ethan Hawke, '\n",
      " 'Noomi Rapace, Mark Strong, Christopher Heyerdahl,',\n",
      " 'Located in the northeast of the oblast, 210 kilometers (130 mi) south of '\n",
      " 'Yekaterinburg, the city is just to the east of the Ural Mountains. It is the '\n",
      " 'seventh-largest city in Russia by population',\n",
      " '21088 Chelyabinsk asteroid It was discovered on 30 January 1992, by Belgian '\n",
      " \"astronomer Eric Elst at ESO's La Silla Observatory in northern Chile. It is \"\n",
      " 'a stony asteroid and near-Earth object of the Am',\n",
      " 'Chelyabinsk Oblast is a federal subject (an oblast) of Russia in the Ural '\n",
      " 'Mountains region, on the border of Europe and Asia. Its population is '\n",
      " '3,476,217.',\n",
      " 'South Ural State University (SUSU) in Chelyabinsk is one of the largest '\n",
      " 'educational institutions in Russia. It is among the top-ten of the Russian '\n",
      " 'universities according to the state rating of the Ministry of Education.',\n",
      " 'The explosion generated a bright flash, producing a hot cloud of dust and '\n",
      " 'gas that penetrated to 26.2 km (16.3 mi) About 1,500 people were injured '\n",
      " 'seriously enough to seek medical treatment.',\n",
      " 'The time zone applies to the Ural Federal District, and Bashkortostan, '\n",
      " 'Orenburg Oblast and Perm Krai. In 2011, Russia moved to year-round daylight '\n",
      " 'saving time.',\n",
      " 'Chelyabinsk Tractor Plant is a tractor plant in the Russian city of '\n",
      " 'Chelyabinski. It is also known as CTZ-Uraltrak.',\n",
      " 'Samara is the largest city and administrative centre of Samara Oblast. It is '\n",
      " 'located at the confluence of the Volga and the Samara rivers. It has a '\n",
      " 'continental climate characterised by hot summers and cold winters.',\n",
      " 'A samara is a non-opening dry fruit with a flattened wing of fibrous, papery '\n",
      " 'tissue. They are a popular source of amusement for children who enjoy '\n",
      " 'tossing them in the air and watching them spin to the ground.',\n",
      " 'Samara asteroid  26922 is an asteroid. It is located in the asteroid belt '\n",
      " 'between Earth and Mars.',\n",
      " 'Samara or Saamara is an Indian name of Sanskrit origin derived from Sanskrit '\n",
      " 'word \" sAmara\" which means \" with immortals; accompanied by god \" Samara is '\n",
      " 'a feminine name of Arabic and Hebrew origin.',\n",
      " 'Sámara is a district of the Nicoya canton, in the Guanacaste province of '\n",
      " 'Costa Rica.',\n",
      " 'UAE Standard Time time zone named for a UTC offset.  UTC+04:00 time zone '\n",
      " 'Named for a  UTC offset:\\xa0\\xa0Samara,\\xa0Mauritius,\\xa0Seychelles,\\xa0UAE',\n",
      " 'Sydney is the capital city of the state of New South Wales, and the most '\n",
      " 'populous city in Oceania. Ranked eleventh in the world for economic '\n",
      " 'opportunity, Sydney has an advanced market economy with strengths in '\n",
      " 'finance, manufacturing',\n",
      " 'Sydney was founded in 1785 by the British, was incorporated as a city in '\n",
      " '1904, and dissolved on 1 August 1995, when it was amalgamated into the '\n",
      " 'regional municipality. The post-war period witnessed a major decline',\n",
      " 'Sydney is a given name. Notable people and characters named Sydney include: '\n",
      " 'Sydney (given name) and Sydney (first name) Sydney is also the name of a '\n",
      " 'city in Australia.',\n",
      " 'The Division of Sydney is an Australian electoral division in the state of '\n",
      " 'New South Wales. Sydney division of the Australian House of Representatives '\n",
      " 'Australian federal electoral division.',\n",
      " 'Sydney asteroid 15550 Sydney asteroid  Sydney asteroid. Sydney asteroid '\n",
      " 'asteroid Sydney asteroid is part of a series of asteroids named after '\n",
      " 'Sydney.',\n",
      " 'Sydney is an electoral district of the Legislative Assembly of the '\n",
      " 'Australian state of New South Wales in Inner Sydney. Independent Alex '\n",
      " 'Greenwich has represented the seat since the 2012 Sydney by-election.',\n",
      " 'A hamburger is a sandwich consisting of one or more cooked patties of ground '\n",
      " 'meat, usually beef, placed inside a sliced bread roll or bun. The patty may '\n",
      " 'be pan fried, grilled, smoked or flame broiled.',\n",
      " 'Hamburg is a city and county seat of Ashley County, Arkansas, United States. '\n",
      " 'The population was 2,857 at the 2010 census.',\n",
      " 'Hamburg is a city in Fremont County, Iowa, United States. It derives its '\n",
      " 'name from the German city of Hamburg. It is situated between the Nishnabotna '\n",
      " 'and Missouri rivers.',\n",
      " 'As of the 2010 census, the town had a population of 56,936. The villages of '\n",
      " 'Hamburg and Blasdell are in the town. It is named after the city of Hamburg, '\n",
      " 'in Germany.',\n",
      " 'Hamburg is a city in Carver County, Minnesota, United States. The population '\n",
      " 'was 513 at the 2010 census.',\n",
      " 'Hamburg is a borough in Sussex County, New Jersey, United States.As of the '\n",
      " \"2010 United States Census, the borough's population was 3,277. The borough \"\n",
      " 'was named for Hamburg, Germany.',\n",
      " 'Hamburg, Pennsylvania borough of Pennsylvania The population was 4,289 at '\n",
      " 'the 2010 census. The town is named after Hamburg, Germany.',\n",
      " \"Rome's history spans 28 centuries. It is the third most populous city in the \"\n",
      " 'European Union by population within city limits. Its historic centre is '\n",
      " 'listed by UNESCO as a World Heritage Site.',\n",
      " 'Roman Republic republic period of ancient Roman civilization (509 BC-27 BC) '\n",
      " 'res publica historical period These multiple tensions led to a series of '\n",
      " 'civil wars; the first between the two generals Julius Caesar and Pompey.',\n",
      " 'Rome is the largest city in Northwest Georgia and the 19th-largest city in '\n",
      " 'the state. It is the principal city of the Rome, Georgia, metropolitan '\n",
      " 'statistical area, which encompasses all of Floyd County.',\n",
      " 'Rome, New York city of the United States The population was 33,725 at the '\n",
      " \"2010 census. Rome is in New York's 22nd congressional district.\",\n",
      " 'Rome is a British-American-Italian historical drama television series '\n",
      " \"created by John Milius, William J. MacDonald, and Bruno Heller. The show's \"\n",
      " 'two seasons were broadcast on HBO, BBC Two, and Rai 2 between 2005',\n",
      " 'Rome is a village in Henry County, Iowa, United States. The population was '\n",
      " '117 at the 2010 census.',\n",
      " 'Buenos Aires is the capital and largest city of Argentina. It is located on '\n",
      " 'the western shore of the estuary of the Río de la Plata. The city is neither '\n",
      " \"part of Buenos Aires Province nor the Province's capital\",\n",
      " 'The province covers an area of 307,571 km2 (118,754 sq mi), which is about '\n",
      " \"11% of Argentina's total area and makes it the country's largest province. \"\n",
      " 'It borders the provinces of Entre Ríos',\n",
      " ' Buenos Aires is a city located in the state of Pernambuco, Brazil. It has '\n",
      " 'an estimated (Ibge 2009) population of 13,675 people.',\n",
      " 'The municipality covers an area 520 km2 (201 sq mi) and has a population of '\n",
      " '21,300. Founded in by Vasco de Guzmán and Alonso de Fuenmayor in 1551.',\n",
      " ' Buenos Aires is a canton in the Puntarenas province of Costa Rica. The head '\n",
      " 'city is in Buenos Aires district.',\n",
      " 'The asteroid is named 7850 Buenos Aires asteroid. It is thought to be the '\n",
      " 'largest asteroid in the world.',\n",
      " 'Tangerang is a city in the province of Banten, Indonesia. It has an area of '\n",
      " '164.54 square kilometres (63.53 square miles) The latest official estimate '\n",
      " 'as at mid 2020 is 2,273,697',\n",
      " 'Until 2008, Tangerang Regency was subdivided into 36 Districts, which were '\n",
      " 'further divided into several villages and administrative villages. It now '\n",
      " 'comprises 29 districts. The current regent is Ahmed Zaki Iskandar.',\n",
      " 'Tangerang is a third-level administrative country subdivision in Indonesia. '\n",
      " 'It is located in the province of Banten.',\n",
      " 'The Duri–Tangerang railway is a railway connecting Tangerang to Jakarta, the '\n",
      " 'capital city of Indonesia. The railway is serviced by KA Commuter '\n",
      " \"Jabodetabek's brown line.\",\n",
      " 'Tangerang Station is a railway station located in the city of Tangerang, '\n",
      " 'Banten. It is the western terminus of the Duri-Tangersang railway. '\n",
      " 'Passengers are mainly commuters going from the suburbs in',\n",
      " 'Tangerang Wolves F.C. is an Indonesian football club based in Tangerang, '\n",
      " 'Banten. The team plays in the Liga Primer Indonesia.',\n",
      " 'With a recorded population of 2,731,571 in 2016, it is the most populous '\n",
      " 'city in Canada. More than 50 percent of residents belong to a visible '\n",
      " 'minority population group. Over 200 distinct ethnic origins are represented '\n",
      " 'among its inhabitants',\n",
      " 'Toronto is the second-largest city in Jefferson County, Ohio, United States, '\n",
      " 'along the Ohio River 6 miles northeast of Steubenville. The population was '\n",
      " '5,091 at the 2010 census.',\n",
      " '2104 Toronto, provisional designation 1963 PD, is a metallic background '\n",
      " 'asteroid from the outer regions of the asteroid belt. It was discovered on '\n",
      " '15 August 1963, by Karl Kamper at the David Dunlap Observatory in Germany.',\n",
      " 'Toronto is a town in Clinton County, Iowa, United States.The population was '\n",
      " '124 at the 2010 census.',\n",
      " 'Toronto is a city in Woodson County, Kansas, United States, along the '\n",
      " 'Verdigris River. As of the 2010 census, the city population was 281.',\n",
      " 'Toronto was laid out in 1884, and named after the capital of Ontario, '\n",
      " 'Canada, the native home of a first settler. The population was 212 at the '\n",
      " '2010 census.',\n",
      " 'The Spanish city of Manila was founded on June 24, 1571, by Spanish '\n",
      " 'conquistador Miguel López de Legazpi. A Tagalog fortified polity called '\n",
      " 'Maynilà had already existed on the site, dating back',\n",
      " 'The population was 3,342 at the 2010 census. It was the hometown of World '\n",
      " 'War I sniper Herman Davis. A park in the town honors his memory today.',\n",
      " 'The town is at the junction of State Route 43 and State Route 44, and is the '\n",
      " 'county seat of Daggett County. The settlement was named in 1898, '\n",
      " 'commemorating the American naval victory at the Battle of Manila Bay.',\n",
      " 'Manila census-designated place is located 3.25 miles (5.2 km) north of '\n",
      " 'downtown Eureka, at an elevation of 13 feet (4 m) The ZIP Code is 95521.',\n",
      " '13513 Manila asteroid is a Manille asteroid. It is located in the asteroid '\n",
      " 'belt between Mars and Jupiter. The asteroid was discovered on December 13, '\n",
      " '1984.',\n",
      " 'Maynila (transl. Manila Philippine television series Manila) is a Philippine '\n",
      " 'television drama romance anthology show broadcast by GMA Network. It '\n",
      " \"premiered on November 23, 1998 on the network's weekday afternoon line up.\",\n",
      " \"The Calgary Metropolitan Region is home to Canada's second-highest number of \"\n",
      " \"corporate head offices among the country's 800 largest corporations. The \"\n",
      " 'Economist Intelligence Unit ranked Calgary the most livable city in North '\n",
      " 'America in both 2018 and 2019.',\n",
      " 'Calgary asteroid asteroid Calgary asteroid asteroid 96192 Calgary asteroid. '\n",
      " 'Calgary asteroid asteroids are part of the asteroid belt.',\n",
      " 'Calgary is a hamlet on the northwest coast of the Isle of Mull, in Argyll '\n",
      " 'and Bute, Scotland. It was the origin of the name of Fort Calgary in Canada, '\n",
      " 'which became the city of Calgary.',\n",
      " 'Calgary was a provincial electoral district in Alberta, Canada, mandated to '\n",
      " 'return one to six members to the Legislative Assembly of Alberta from 1905 '\n",
      " 'to 1913, and again from 1921 to 1959.',\n",
      " 'The 1988 Winter Olympics were the first Winter Olympics to be held over a '\n",
      " 'whole two-week period. Most events took place in Calgary, while several '\n",
      " 'skiing events were held west of the city at the Nakiska mountain resort and '\n",
      " 'in Can',\n",
      " 'Calgary is a federal electoral district in Alberta, Canada.',\n",
      " 'Chennai is one of the most-visited Indian cities by foreign tourists. The '\n",
      " 'city together with the adjoining regions constitutes the Chennai '\n",
      " 'Metropolitan Area, which is the 36th-largest urban area by population in the '\n",
      " 'world. In 2015',\n",
      " 'Chennai International Airport (IATA: MAA, ICAO: VOMM) is an international '\n",
      " 'airport serving the city of Chennai, Tamil Nadu, India, and its metropolitan '\n",
      " 'area. The airport serves as the regional headquarters',\n",
      " 'As of 2011, the district had a population of 7,100,000 with a sex-ratio of '\n",
      " '989 females for every 1,000 males. It is the smallest and densest of all the '\n",
      " 'districts in the state.',\n",
      " 'The University of Madras or Madras University is a public state university '\n",
      " 'in Chennai, Tamil Nadu, India. Established in 1857, it is one of the oldest '\n",
      " 'universities in India, incorporated by an Act of Legislative Council of '\n",
      " 'India',\n",
      " 'Chennai Super Kings are the second-most valuable IPL franchise, after Mumbai '\n",
      " 'Indians. The team served a two-year suspension from the IPL starting July '\n",
      " '2015 for the alleged involvement of their owners in the 2013 IPL betting',\n",
      " 'Chennai Central is a railway station in Chennai, Tamil Nadu, India. It is '\n",
      " 'one of the most profitable stations of Southern Railways. The station is '\n",
      " 'also a main hub for the Chennai Suburban Railway system.',\n",
      " 'Poland has millions of inhabitants. Warsaw is the largest city in the '\n",
      " 'country.',\n",
      " 'Warsaw is a city in and the county seat of Kosciusko County, Indiana, United '\n",
      " 'States. Warsaw has a population of 13,559 as of the 2010 U.S. Census.',\n",
      " 'The name was suggested by a riverboat captain, who was reading Thaddeus of '\n",
      " 'Warsaw, by Jane Porter, when the city was being founded. The city had a '\n",
      " 'population of 1,615 at the 2010 census.',\n",
      " 'Warsaw is a city in Hancock County, Illinois, United States. The population '\n",
      " 'was 1,607 at the 2010 census, a decline from 1,793 in 2000. The city is '\n",
      " 'notable for its historic downtown and the Warsaw Brewery.',\n",
      " 'Warsaw is a city located in Benton County, Missouri, United States. The '\n",
      " 'population was 2,127 at the 2010 census.',\n",
      " 'Warsaw is a town in and the county seat of Richmond County, Virginia, United '\n",
      " 'States. The population was 1,512 at the 2010 census.',\n",
      " 'Warsaw is a town in Wyoming County, in the U.S. state of New York. It is '\n",
      " 'located approximately 37 miles east southeast of Buffalo and 37 miles '\n",
      " 'southwest of Rochester. The village is the county seat of Wyoming County.',\n",
      " 'Amman is the capital of Jordan and the capital city of Jordan. The city has '\n",
      " 'millions of inhabitants. Amman is also the largest city in Jordan.',\n",
      " 'Jost Amman was born in Zürich, the son of a professor of Classics and Logic. '\n",
      " 'His productivity was very remarkable, as may be gathered from the statement '\n",
      " 'of one of his pupils.',\n",
      " 'Mariaai devi Māri is related with the Hindu goddesses Parvati and Durga. Her '\n",
      " 'festivals are held during the late summer/early autumn season of \"Aadi\" '\n",
      " 'throughout the Tamil Nadu and Deccan region.',\n",
      " 'Johann Amman was a Swiss-Russian botanist. He is best known for his Stirpium '\n",
      " 'Rariorum in Imperio Rutheno Sponte Provenientium Icones et Descriptiones.',\n",
      " 'Amman is a surname of German origin. Amman is an occupational surname for an '\n",
      " 'Ammann, an administrative position in Medieval and early modern '\n",
      " 'German-speaking countries.',\n",
      " 'Amman building in Spokane, Washington is a building constructed in 1904. It '\n",
      " 'was listed on the U.S. National Register of Historic Places in 1987.',\n",
      " 'Belgrade is one of the oldest continuously inhabited cities in Europe and '\n",
      " 'the World. It is located at the confluence of the Sava and Danube rivers and '\n",
      " 'the crossroads of the Pannonian Plain and the Balkan Peninsula.',\n",
      " 'Belgrade is a city in Gallatin County, Montana, United States. It is the '\n",
      " 'largest city in Montana that is not a county seat. The post office was '\n",
      " 'established in 1887 with Thomas Quaw as postmaster.',\n",
      " 'Belgrade is a city in Stearns County, Minnesota, United States. The '\n",
      " 'population was 740 at the 2010 census. Belgrade is part of the U.S. Cloud '\n",
      " 'Metropolitan Statistical Area.',\n",
      " 'Belgrade is a town in Kennebec County, Maine, United States. The population '\n",
      " 'was 3,189 at the 2010 census. Belgrade is included in the Augusta, Maine '\n",
      " 'micropolitan New England City and Town Area.',\n",
      " 'Belgrade is a village in Nance County, Nebraska, United States. The '\n",
      " 'population was 126 at the 2010 census.',\n",
      " 'It is located on Missouri Supplemental Route C, approximately six miles (10 '\n",
      " 'km) west of Caledonia and ten miles (16 km) south of Potosi.',\n",
      " 'Lima was named by natives in the agricultural region known by native '\n",
      " 'Peruvians as Limaq. Lima is home to one of the oldest institutions of higher '\n",
      " 'learning in the New World.',\n",
      " 'L is the twelfth letter of the modern English alphabet and the ISO basic '\n",
      " 'Latin alphabet. Its name in English is el (pronounced ), plural els.',\n",
      " 'Lima is a city in and the county seat of Allen County, Ohio, United States. '\n",
      " 'As of the 2010 census, the city had a population of 38,771. Lima was founded '\n",
      " 'in 1831.',\n",
      " 'Lima/Central district of Peru Lima is a district of Lima Province in Peru. '\n",
      " 'Lima district is the oldest in Lima Province and as such, vestiges of the '\n",
      " \"city's colonial era remain today in the Historic centre of Lima.\",\n",
      " 'Lima (surname) family name Adriana Lima (born 1981), Brazilian model, '\n",
      " 'television presenter and reporter. Lima family name family name Lima '\n",
      " '(1910-1976), was a Cuban novelist, essayist and poet.',\n",
      " 'Jorge Chávez International Airport (IATA: LIM, ICAO: SPJC, formerly SPIM), '\n",
      " \"is Peru's main international and domestic airport. During 2017, the airport \"\n",
      " 'served 22,025,704 passengers. The',\n",
      " \"Jeddah is a city in the Hejaz region of Saudi Arabia and the country's \"\n",
      " 'commercial center. Jeddah Islamic Port is the second-largest and '\n",
      " 'second-busiest seaport in the Arab world.',\n",
      " 'Jeddah (1895–1909) was a British Thoroughbred racehorse and sire. In a '\n",
      " 'career that lasted from 1897 to 1899 he ran nine times and won three races.',\n",
      " \"Jeddah Tower is planned to be the world's first 1 km (3,281 ft) high \"\n",
      " 'building. It is the centrepiece and first phase of a development and tourist '\n",
      " 'attraction known as Jeddah Economic City. In January',\n",
      " 'Jeddah Lighthouse lighthouse is located at the end of the outer pier on the '\n",
      " 'north side of the entrance to Jeddah Seaport. With a height of about 133 m '\n",
      " '(436 ft) it \"has a credible claim',\n",
      " 'Jeddah Club is an association football club based in Jeddah, Saudi Arabia. '\n",
      " 'The club was founded in 1881 and is known for its association football.',\n",
      " 'Jeddah is the second-largest city in Saudi Arabia (after the capital '\n",
      " \"Riyadh), and is Saudi Arabia's commercial capital. Jeddah Islamic Port is a \"\n",
      " 'Saudi Arabian port, located in the middle of an international shipping '\n",
      " 'route.',\n",
      " 'Chittagong is a major coastal city and financial centre in southeastern '\n",
      " 'Bangladesh. The port is the busiest international seaport on the Bay of '\n",
      " 'Bengal and the third busiest in South Asia.',\n",
      " 'Chittagong is a 2012 Indian historical war drama film directed by Bedabrata '\n",
      " 'Pain. The film won the 60th National Film Awards for the Best Debut Film of '\n",
      " 'a Director.',\n",
      " 'Chittagong thana of Bangladesh Halishahar Housing Estate is a large '\n",
      " 'residential area in Chittagongs. Chittgong is a district in the Division of '\n",
      " 'Chitt gong in Bangladesh.',\n",
      " 'Chittagong Division is the largest of the eight administrative divisions of '\n",
      " \"Bangladesh. Cox's Bazar is the longest natural sea beach in the world. St. \"\n",
      " \"Martin's Island is Bangladesh's sole coral reef.\",\n",
      " 'Chittagong District, officially known as Chattogram District, is a district '\n",
      " 'located in the south-eastern region of Bangladesh. It is a part of the '\n",
      " 'Chittagongs Division.',\n",
      " 'University of Chittagong is a public research university with '\n",
      " 'multidisciplinary faculties situated across a 2110-acre hilly landmass. The '\n",
      " 'academic activities of the university formally began on 18 November 1966.',\n",
      " 'Odessa hosts both the Port of Odessa and Port Yuzhne, a significant oil '\n",
      " \"terminal situated in the city's suburbs. Another notable port, Chornomorsk, \"\n",
      " 'is located in the same oblast, to',\n",
      " 'Odessa is a city in and the county seat of Ector County, Texas, United '\n",
      " 'States. In 1948 Odessa was also the home of First Lady Barbara Bush, and the '\n",
      " 'onetime home of former Presidents.',\n",
      " 'ODESSA secret society international Nazi network. ODESSA  secret society  '\n",
      " 'ODES SA secret society.  O DESSA secret Society international NaziNetwork.',\n",
      " 'Odessa is a small town in New Castle County, Delaware, United States. Today '\n",
      " 'a significant part of the town is a historic district list on the National '\n",
      " 'Register of Historic Places.',\n",
      " '2606 Odessa, provisional designation 1976 GX2, is a background asteroid from '\n",
      " 'the central regions of the asteroid belt, approximately 16 kilometers (10 '\n",
      " 'miles) in diameter. The presumably metallic X- or M-type asteroid has an',\n",
      " 'Odessa is a city in Big Stone County, Minnesota, United States. The '\n",
      " 'population was 135 at the 2010 census.',\n",
      " 'As of 2018, the city had a population of 1.47 million. The city was spared '\n",
      " 'from large-scale destruction during World War II and as a result, its prewar '\n",
      " 'cultural heritage has mostly been preserved.',\n",
      " '4352 Kyoto asteroid  4352. Kyoto asteroid is an asteroid. It is located in '\n",
      " 'the asteroid belt between Earth and the Earth. The asteroid is thought to be '\n",
      " 'around 4.4 billion years old.',\n",
      " 'Kyoto Prefecture is centered on the historic Imperial capital of Kyoto. It '\n",
      " 'is one of Japan\\'s two \"prefectures\" using the designation fu rather than '\n",
      " 'the standard ken for prefectures. Kyoto Prefecture borders Fukui',\n",
      " 'Kyoto University is a national university in Kyoto, Japan. The university is '\n",
      " \"usually ranked among the top two in Japan, top 10 in Asia, and the world's \"\n",
      " 'top thirty institutions of higher education. Kyoto University has generated '\n",
      " '5 prime ministers',\n",
      " 'Kyoto is the sixth studio album by American rapper Tyga. The album features '\n",
      " 'guest appearances from 24hrs, Gucci Mane, Kyndall and Tory Lanez.',\n",
      " '\"Kyoto\" is widely considered by critics and fans alike to be Yung Lean\\'s '\n",
      " 'best song and one of the best cloud rap songs of all time. It was '\n",
      " 'self-released prior to his debut studio album Unknown Memory, but',\n",
      " 'Riyadh is the capital of Saudi Arabia and the largest city on the Arabian '\n",
      " 'Peninsula. The city is divided into 15 municipal districts, which are '\n",
      " 'overseen by the Municipality of Riyadh.',\n",
      " 'The Riyadh Region is a region of Saudi Arabia located in the geographic '\n",
      " 'center of the country. It has an area of 404,240 km² and with a 2017 '\n",
      " 'population of 8,216,284, it is the second-largest region',\n",
      " 'King Saud University (KSU) is a public university in Riyadh, Saudi Arabia. '\n",
      " 'It was founded in 1957 by King Saud bin Abdulaziz as Riyadh University. The '\n",
      " 'student body of KSU today consists of 40,000 students.',\n",
      " \"Princess Nora bint Abdul Rahman University is the largest women's university \"\n",
      " 'in the world. Designed by Perkins & Wills Architects, part of Dar Group, it '\n",
      " 'has innovative design and technology.',\n",
      " 'The Riyadh Metro is a rapid transit system under construction in Riyadh, the '\n",
      " 'capital of Saudi Arabia. It will consist of six metro lines spanning a total '\n",
      " 'length of 176 kilometers, with 85 stations. The project will cost $22.5 '\n",
      " 'billion',\n",
      " 'The second Diriyah ePrix was held on 22 and 23 November 2019. It was first '\n",
      " 'held as part of the 2018–19 season and was the first Formula E race to be '\n",
      " 'held in the Middle East.',\n",
      " 'Adelaide is the capital city of the state of South Australia, and the '\n",
      " 'fifth-most populous city of Australia. Its metropolitan area extends 20 km '\n",
      " '(12 mi) from the coast to the foothills of the Mount Lofty Ranges',\n",
      " 'Adelaide is the English form of a Germanic given name, from the Old High '\n",
      " 'German Adalheidis, meaning \"noble natured\" The name Addie is a diminutive of '\n",
      " 'Adelaide and Heidi is a nickname for Ad',\n",
      " 'The City of Adelaide is a local government area in the metropolitan area of '\n",
      " 'greater Adelaide, South Australia. It includes the Adelaide city centre, '\n",
      " 'North Adelaide, and the Adelaide Park Lands, which surround North Adelaide '\n",
      " 'and the city centre.',\n",
      " 'The asteroid was discovered 21 October 1908 by Joel Hastings Metcalf. When '\n",
      " 'it was rediscovered 3 October 1930 by Sylvain Arend as  1930 TA, it was '\n",
      " 'named 1171 Rusthawelia.',\n",
      " 'The 22.8 km² state seat of Adelaide currently consists of the Adelaide city '\n",
      " 'centre including North Adelaide and suburbs to the inner north and inner '\n",
      " 'north east. Adelaide is a single-member electoral district for the South '\n",
      " 'Australian House of Assembly.',\n",
      " 'The Division of Adelaide is an Australian electoral division in South '\n",
      " \"Australia. It is named for the city of Adelaide, South Australia's capital. \"\n",
      " 'At the 2016 federal election, the electorate covered 76 km².',\n",
      " 'Medellín is located in the Aburrá Valley, a central region of the Andes '\n",
      " 'Mountains in South America. In 1826, the city was named the capital of the '\n",
      " 'Department of Antioquia by the National Congress',\n",
      " '\"Medellín\" is a song by American singer Madonna and Colombian singer Maluma '\n",
      " \"from Madonna's fourteenth studio album Madame X (2019) The song is a Latin \"\n",
      " 'pop track with elements of reggaeton and dance-pop.',\n",
      " 'Medellín-Inder UCI Continental Team Team Medellín is a Colombian cycling '\n",
      " 'team founded in 2017. The team is part of the UCI\\xa0Colombian\\xa0'\n",
      " 'Continental.',\n",
      " 'Medellín is a village in the province of Badajoz, Extremadura, Spain. It is '\n",
      " 'notable as both the birthplace of Hernán Cortés in 1485 and the site of the '\n",
      " 'Battle of Medellín.',\n",
      " 'Medellín de Bravo, formerly known as Tecamachales, is a town in the state of '\n",
      " 'Veracruz de Ignacio de la Llave, Mexico. It is the capital of the '\n",
      " 'municipality of Medellín.',\n",
      " 'Medellín asteroid asteroid.  366272 Medellín asteroids. Medellin asteroid is '\n",
      " 'a member of the family of asteroids.',\n",
      " 'Ordos is one of the twelve major subdivisions of Inner Mongolia, China. It '\n",
      " 'lies within the Ordos Plateau of the Yellow River. Although mainly rural, '\n",
      " 'Ordos is administered as a prefecture-level city.',\n",
      " 'The Ordos Desert is a desert/steppe region in Northwest China, administrated '\n",
      " 'under the prefecture of Ordos City in the Inner Mongolian Autonomous Region. '\n",
      " 'It is wedged between the arable Hetao region to',\n",
      " 'The Ordos culture was a culture occupying a region centered on the Ordos '\n",
      " 'Loop (modern Inner Mongolia, China) during the Bronze and early Iron Age. '\n",
      " 'The area came under at least nominal control of contemporaneous Chinese '\n",
      " 'states.',\n",
      " 'Ordos Ejin Horo Airport (IATA: DSN, ICAO: ZBDS) is an airport serving Ordos '\n",
      " \"City in China's Inner Mongolia Autonomous Region.\",\n",
      " 'The Ordos Plateau is a highland sedimentary basin in northwest China with an '\n",
      " 'elevation of 1,000–1,600 m (3,300–5,200 ft) The area is of high '\n",
      " 'archaeological interest.',\n",
      " \"Marc VDS Racing's Maxime Martin and Frederic Makowiecki secured their third \"\n",
      " 'qualifying race victory of the year. The team then secured its first '\n",
      " 'championship race win in the World GT1 series.',\n",
      " 'Damascus is the capital of Syria and one of the oldest continuously '\n",
      " 'inhabited cities in the world. It is colloquially known in Syria as aš-Šām '\n",
      " 'and titled the \"City of Jasmine\"',\n",
      " 'Damascus is a city in Early County, Georgia, United States. The population '\n",
      " 'was 254 at the 2010 census.',\n",
      " 'Damascus is a town in Washington County, Virginia, United States. The '\n",
      " 'population was 814 at the 2010 census. It is part of the Kingsport–Bristol '\n",
      " '(TN) – Bristol (VA) Metropolitan Statistical Area.',\n",
      " 'In the early 20th century, there existed an incorporated municipality '\n",
      " 'lasting a quarter century. Damascus is a census-designated place in '\n",
      " 'Montgomery County, Maryland, United States.',\n",
      " 'The area that later became the city had a population of 9,022 in 2000. '\n",
      " 'Damascus is located east of Happy Valley and Interstate 205 and west of '\n",
      " 'Boring. The population was 10,539 residents as of the 2010 census.',\n",
      " 'The population of Damascus was 382 at the 2010 census. Damascus is a city in '\n",
      " 'Faulkner and Van Buren counties of central Arkansas, United States.',\n",
      " 'Ciudad Juárez is the most populous city in the Mexican state of Chihuahua. '\n",
      " 'It was known as El Paso del Norte (The Pass of the North) until 1888. In '\n",
      " '2008, fDi Magazine',\n",
      " 'Juárez is one of the 67 municipalities of Chihuahua, in northern Mexico.The '\n",
      " 'municipality is named for 19th-century president Benito Juárez, as is the '\n",
      " 'city of Ciudad Juarez.',\n",
      " 'Juárez is a town and one of the 119 municipalities of Chiapas, in southern '\n",
      " 'Mexico. As of 2010, the municipality had a total population of 21,084, up '\n",
      " 'from 19,956 as of 2005.',\n",
      " 'The surname Juárez is a Spanish surname. Notable people with the surname '\n",
      " 'include:\\xa0Adrián Juáz Jiménez (born 1978), Mexican politician Agustín Juá '\n",
      " 'Rez (born 1943), Mexican cyclist',\n",
      " 'Juárez Hidalgo is a town and one of the 84 municipalities in central-eastern '\n",
      " 'Mexico. The municipality covers an area of 161.9 km². As of 2005, the '\n",
      " 'municipality had a total population of 1820',\n",
      " 'Juárez is a station on both lines 1 and 2 of the Guadalajara light rail '\n",
      " 'system. It is located at the intersection of Del Federalismo Sur with '\n",
      " 'Avenida Benito Juarez.',\n",
      " 'Adults of some species are probably predators of other arthropods. Adult '\n",
      " 'beetles have anti-predator secretions that are offensive to predators; they '\n",
      " 'have been noted to repel bats.',\n",
      " 'Agra comune of Italy Agra is a town and comune located in the province of '\n",
      " 'Varese, in the Lombardy region of northern Italy.',\n",
      " 'Agra is a city in Phillips County, Kansas, United States. As of the 2010 '\n",
      " 'census, the city population was 267.',\n",
      " 'Maria de Fátima Agra is a Brazilian botanist and associate professor at the '\n",
      " 'Universidade Federal da Paraíba (UFPB) She specializes in ethnobotany, '\n",
      " 'pharmacognosy, and',\n",
      " 'Agra is a town in northern Lincoln County, Oklahoma, United States. The '\n",
      " 'population was 339 at the 2010 census. Population is projected to grow by '\n",
      " '6-8.9% by 2025.',\n",
      " 'Agra Airport (also known as Pandit Deen Dayal Upadhyay Airport) is a '\n",
      " 'military airbase and public airport serving the city of Agra, in the state '\n",
      " 'of Uttar Pradesh, India.',\n",
      " \"Algeria's capital city, Algiers, has millions of inhabitants. The city is \"\n",
      " 'one of the largest in the world.',\n",
      " 'Algiers Province is the most densely populated province of Algeria, and also '\n",
      " 'the smallest by area. It is adopted from the old French département of '\n",
      " 'Algiers and has a population of about 3 million.',\n",
      " 'Algiers is a 1938 American drama film directed by John Cromwell and starring '\n",
      " 'Charles Boyer, Sigrid Gurie, and Hedy Lamarr. Written by John Howard Lawson, '\n",
      " 'the film is about a notorious French jewel thief',\n",
      " 'The neighborhood is the second oldest in the city and is considered '\n",
      " 'significant in the history of New Orleans. The neighborhood became the '\n",
      " 'birthplace of jazz as it was once home to many of the early African American '\n",
      " 'jazz artists in the early 1900s.',\n",
      " 'Algiers is an American rock band from Atlanta, Georgia, United States, '\n",
      " 'formed in 2012. The band consists of multi-instrumentalists Franklin James '\n",
      " 'Fisher, Ryan Mahan, Lee Tesche, and Matt Tong.',\n",
      " 'Algiers is the seventh studio album by indie rock americana band Calexico. '\n",
      " \"The album's name comes from Algiers, New Orleans, which is where the album \"\n",
      " 'was recorded.',\n",
      " 'Nakayama Shō human Chinese physician, politician and revolutionary '\n",
      " '(1866-1925) Sun Yat-sen human  Sun Yixian human, Chinese physician and '\n",
      " 'politician.',\n",
      " 'Zhongshan is a prefecture-level city in the south of the Pearl River Delta '\n",
      " 'in Guangdong province, China, with a population of over 3 million. It is '\n",
      " 'named after Dr. Sun Yat-sen',\n",
      " 'Zhongshan District is an administrative district of Taipei City, named after '\n",
      " 'Sun Yat-sen, better known in Chinese as \"Sun Zhong Shansan\" ZhongShan '\n",
      " 'District district of Taiwan is named after',\n",
      " 'Cao Kun was a Chinese warlord and politician. He served the President of the '\n",
      " 'Republic of China from 1923 to 1924, as well as the military leader of the '\n",
      " 'Zhili clique in the Beiyang Army.',\n",
      " 'Yu Yue was a prominent scholar and official of Qing Dynasty China. An expert '\n",
      " 'in philology and textual studies, he taught and wrote prolifically on the '\n",
      " 'classics and histories. His great-grandson was Yu Pingbo.',\n",
      " 'Tang-keou town in China serves as the seat of Huangyuan County, lying about '\n",
      " '45 km (28 mi) upstream (west) from the provincial capital of Xining. '\n",
      " 'Chengguan, also known as Huangy',\n",
      " 'Addis Ababa is the capital and largest city of Ethiopia. It is where the '\n",
      " 'African Union is headquartered and where its predecessor the Organisation of '\n",
      " 'African Unity (OAU) was based. The city is surrounded by the Special Zone of '\n",
      " 'O',\n",
      " 'Addis Ababa University is the oldest school of higher education in Ethiopia. '\n",
      " 'The Ministry of Education admits qualified students to AAU based on their '\n",
      " 'score on the Ethiopian University Entrance Examination (EUEE) AAU has '\n",
      " 'thirteen campuses.',\n",
      " 'Addis Ababa Bole International Airport (IATA: ADD, ICAO: HAAB) is an '\n",
      " 'international airport in Ethiopia. As of June 2018, nearly 450 flights per '\n",
      " 'day were departing from and arriving at the airport',\n",
      " 'Addis Ababa Stadium is a multi-purpose stadium in Ethiopia. It is used '\n",
      " 'mostly for football matches although it also has athletics facilities. The '\n",
      " 'stadium has a capacity of 35,000 people.',\n",
      " 'In 2019 the railway transported 84 073 passengers and generated US$1.2 '\n",
      " \"million in revenue from that service. More than 95% of Ethiopia's trade \"\n",
      " 'passes through Djibouti, accounting for 70% of the activity at the',\n",
      " 'Addis Ababa Light Rail is a light rail transportation system in Ethiopia. It '\n",
      " 'is operated by the Shenzhen Metro Group. Service began on 9 November 2015 '\n",
      " 'for the second line (west-east)',\n",
      " 'Aurangabad (pronunciation ) is a city in the Indian state of Maharashtra. '\n",
      " 'Located on a hilly upland terrain in the Deccan Traps, Aurangabad is the '\n",
      " 'fourth-most populous urban area in Maharashtra.',\n",
      " 'Aurangabad is a city in Aurangabad District, Bihar, India. It is the '\n",
      " \"district's centre of governance and has a population of 102,244 as of 2011.\",\n",
      " 'Aurangabad Airport (IATA: IXU, ICAO: VAAU), is a public airport located in '\n",
      " 'Aurangabad, Maharashtra, India. It is owned and operated by the Airports '\n",
      " 'Authority of India.',\n",
      " 'Aurangabad Lok Sabha constituency is one of the 40 Lok Sabha (parliamentary) '\n",
      " 'constituencies in Bihar state in eastern India.',\n",
      " 'Aurangabad is a town in Suti II CD Block in Jangipur subdivision of  '\n",
      " 'Murshidabad district in the Indian state of West Bengal.',\n",
      " 'Aurangabad is a nagar panchayat, a town that has rapidly transitioned from '\n",
      " 'rural to urban. It is located in the Bulandshahr district of the Indian '\n",
      " 'state of Uttar Pradesh.',\n",
      " 'Brisbane is the capital of and the most populated city in the Australian '\n",
      " 'state of Queensland, and the third most populous city in Australia. The city '\n",
      " 'is noted for its cuisine brunches, outdoor dining, and rooftop bar scene.',\n",
      " 'Brisbane (pron. BRIZ-bayn, unlike Brisbane, Australia) is a small city '\n",
      " 'located in California in the northern part of San Mateo County. The '\n",
      " 'population was 4,282 as of the 2010 census.',\n",
      " 'The Division of Brisbane is an Australian electoral division in the state of '\n",
      " 'Queensland. It is part of the Australian House of Representatives.',\n",
      " 'Brisbane asteroid  5277 Brisbane asteroid. Brisbane asteroid asteroid '\n",
      " 'Brisbane asteroid  Brisbane asteroid asteroids.',\n",
      " 'Brisbane County was one of the original Nineteen Counties in New South '\n",
      " 'Wales. It includes Scone, Merriwa and Murrurundi.',\n",
      " 'Brisbane is a lunar impact crater that is located in the southeastern part '\n",
      " 'of the Moon. To the northwest lie the craters Vega and Reimarus, and farther '\n",
      " 'to the east is the walled plain Lyot.']\n"
     ]
    }
   ],
   "source": [
    "pprint(summary)"
   ]
  },
  {
   "cell_type": "markdown",
   "metadata": {},
   "source": [
    "---"
   ]
  },
  {
   "cell_type": "markdown",
   "metadata": {},
   "source": [
    "## Compute tf-idf on each pseudo-document"
   ]
  },
  {
   "cell_type": "markdown",
   "metadata": {},
   "source": [
    "### Define corpus"
   ]
  },
  {
   "cell_type": "code",
   "execution_count": 20,
   "metadata": {
    "ExecuteTime": {
     "end_time": "2020-12-05T19:48:43.605984Z",
     "start_time": "2020-12-05T19:48:43.028589Z"
    }
   },
   "outputs": [
    {
     "data": {
      "text/plain": [
       "195"
      ]
     },
     "execution_count": 20,
     "metadata": {},
     "output_type": "execute_result"
    }
   ],
   "source": [
    "clean_pseudodocs = []\n",
    "\n",
    "for i in range(num_entities):\n",
    "    doc = pseudodocs[i]\n",
    "    clean_doc = ' '.join(TrainingCorpus.tokenize(doc))\n",
    "    clean_pseudodocs.append(clean_doc)\n",
    "\n",
    "len(clean_pseudodocs)"
   ]
  },
  {
   "cell_type": "markdown",
   "metadata": {
    "ExecuteTime": {
     "end_time": "2020-12-05T11:18:53.469356Z",
     "start_time": "2020-12-05T11:18:53.464468Z"
    }
   },
   "source": [
    "# Fit tf-idf vectorizer"
   ]
  },
  {
   "cell_type": "code",
   "execution_count": 21,
   "metadata": {
    "ExecuteTime": {
     "end_time": "2020-12-05T19:48:43.611390Z",
     "start_time": "2020-12-05T19:48:43.608147Z"
    }
   },
   "outputs": [],
   "source": [
    "from sklearn.feature_extraction.text import TfidfVectorizer"
   ]
  },
  {
   "cell_type": "code",
   "execution_count": 22,
   "metadata": {
    "ExecuteTime": {
     "end_time": "2020-12-05T19:48:43.668759Z",
     "start_time": "2020-12-05T19:48:43.613515Z"
    }
   },
   "outputs": [
    {
     "name": "stderr",
     "output_type": "stream",
     "text": [
      "/home/nvidia/.local/lib/python3.7/site-packages/sklearn/feature_extraction/text.py:484: UserWarning: The parameter 'token_pattern' will not be used since 'tokenizer' is not None'\n",
      "  warnings.warn(\"The parameter 'token_pattern' will not be used\"\n"
     ]
    },
    {
     "data": {
      "text/plain": [
       "TfidfVectorizer(lowercase=False,\n",
       "                tokenizer=<function <lambda> at 0x7f3739bc35f0>)"
      ]
     },
     "execution_count": 22,
     "metadata": {},
     "output_type": "execute_result"
    }
   ],
   "source": [
    "vectorizer = TfidfVectorizer(lowercase=False, tokenizer=lambda x: x.split())\n",
    "vectorizer.fit(clean_pseudodocs)"
   ]
  },
  {
   "cell_type": "markdown",
   "metadata": {},
   "source": [
    "## Save tf-idf weights into a dict"
   ]
  },
  {
   "cell_type": "code",
   "execution_count": 23,
   "metadata": {
    "ExecuteTime": {
     "end_time": "2020-12-05T19:48:43.701819Z",
     "start_time": "2020-12-05T19:48:43.670477Z"
    }
   },
   "outputs": [
    {
     "data": {
      "text/plain": [
       "(195, 4783)"
      ]
     },
     "execution_count": 23,
     "metadata": {},
     "output_type": "execute_result"
    }
   ],
   "source": [
    "vectorized_docs = vectorizer.transform(clean_pseudodocs)\n",
    "vectorized_docs.shape"
   ]
  },
  {
   "cell_type": "code",
   "execution_count": 24,
   "metadata": {
    "ExecuteTime": {
     "end_time": "2020-12-05T20:17:14.156993Z",
     "start_time": "2020-12-05T19:48:43.703786Z"
    }
   },
   "outputs": [],
   "source": [
    "tfidf_weights = []\n",
    "\n",
    "for i in range(num_entities):\n",
    "    doc_vector = vectorized_docs[i].toarray().reshape(-1)\n",
    "    weights = {}\n",
    "    \n",
    "    for j, w in enumerate(doc_vector):\n",
    "        feature_name = vectorizer.get_feature_names()[j]\n",
    "        if w > 0:\n",
    "            weights[feature_name] = w\n",
    "    \n",
    "    tfidf_weights.append(weights)"
   ]
  },
  {
   "cell_type": "markdown",
   "metadata": {},
   "source": [
    "## Compute n-grams and score them"
   ]
  },
  {
   "cell_type": "code",
   "execution_count": 25,
   "metadata": {
    "ExecuteTime": {
     "end_time": "2020-12-05T20:17:14.161960Z",
     "start_time": "2020-12-05T20:17:14.159040Z"
    }
   },
   "outputs": [],
   "source": [
    "ngram_min = 1\n",
    "ngram_max = 10"
   ]
  },
  {
   "cell_type": "code",
   "execution_count": 26,
   "metadata": {
    "ExecuteTime": {
     "end_time": "2020-12-05T20:17:14.167578Z",
     "start_time": "2020-12-05T20:17:14.165057Z"
    }
   },
   "outputs": [],
   "source": [
    "def custom_fn(x, alpha):\n",
    "    return 1 + alpha*x"
   ]
  },
  {
   "cell_type": "code",
   "execution_count": 27,
   "metadata": {
    "ExecuteTime": {
     "end_time": "2020-12-05T20:17:14.171754Z",
     "start_time": "2020-12-05T20:17:14.169599Z"
    }
   },
   "outputs": [],
   "source": [
    "alpha = 0.2"
   ]
  },
  {
   "cell_type": "code",
   "execution_count": 28,
   "metadata": {
    "ExecuteTime": {
     "end_time": "2020-12-05T20:17:14.175815Z",
     "start_time": "2020-12-05T20:17:14.173543Z"
    }
   },
   "outputs": [],
   "source": [
    "import math\n",
    "from nltk import ngrams"
   ]
  },
  {
   "cell_type": "code",
   "execution_count": 29,
   "metadata": {
    "ExecuteTime": {
     "end_time": "2020-12-05T20:18:34.272250Z",
     "start_time": "2020-12-05T20:17:14.177627Z"
    }
   },
   "outputs": [],
   "source": [
    "final_summaries = []\n",
    "\n",
    "for i in range(num_entities):\n",
    "    doc = pseudodocs[i].split()\n",
    "    doc_len = len(doc)\n",
    "    n_max = min(doc_len, ngram_max)\n",
    "    entity_weights = tfidf_weights[i]\n",
    "    entity_ngrams = {}\n",
    "    \n",
    "    # compute all ngrams\n",
    "    for j in range(ngram_min, n_max + 1):\n",
    "        ngrams_list = ngrams(doc, j)\n",
    "        \n",
    "        # compute score for each ngram by\n",
    "        # summing up the tf-idf weights of the \n",
    "        # tf-idf vector associated with the ngram\n",
    "        for ngram in ngrams_list:\n",
    "            ngram_str = ' '.join(ngram).lower()\n",
    "            clean_ngram = TrainingCorpus.tokenize(ngram_str)\n",
    "            score = 0\n",
    "            \n",
    "            # check for null list of tokens\n",
    "            if clean_ngram:\n",
    "                for token in clean_ngram:\n",
    "                    if token in entity_weights:\n",
    "                        score += entity_weights[token]\n",
    "            \n",
    "            if score:\n",
    "                # penalize long summaries\n",
    "                score = score/custom_fn(j, alpha)\n",
    "                entity_ngrams[ngram_str] = score\n",
    "        \n",
    "    sorted_ngrams = sorted(entity_ngrams.items(), key=lambda x: -x[1])    \n",
    "    selected_ngram = sorted_ngrams[0][0]\n",
    "    final_summaries.append(selected_ngram)"
   ]
  },
  {
   "cell_type": "code",
   "execution_count": 30,
   "metadata": {
    "ExecuteTime": {
     "end_time": "2020-12-05T20:18:34.281111Z",
     "start_time": "2020-12-05T20:18:34.274300Z"
    }
   },
   "outputs": [
    {
     "data": {
      "text/plain": [
       "['city the city stretches across fourteen islands',\n",
       " 'town of the united states town',\n",
       " 'village of stockholm village of wisconsin village',\n",
       " 'asteroid asteroid 10552 stockholm asteroid 10552 stockholm asteroid asteroid',\n",
       " 'town of the united states town',\n",
       " 'film 2018 film stockholm film the film',\n",
       " 'city/town city in russia čelâbinsk administrative territorial entity',\n",
       " 'asteroid asteroid 21088 chelyabinsk asteroid asteroid 21088 chelyabinsk asteroid 21088',\n",
       " 'oblast oblast of russia oblast of russia chelyabinsk oblast oblast',\n",
       " 'university university university',\n",
       " 'meteor meteor the chelyabinsk meteor',\n",
       " 'time zone time zone yekaterinburg time time zone time zone',\n",
       " 'тракторный завод, romanized: chelyabinskiy traktornyy zavod, abbreviated',\n",
       " 'city/town city',\n",
       " 'samara type of fruit type of non-opening dry fruit',\n",
       " 'asteroid (26922) samara asteroid asteroid 26922 samara asteroid asteroid (26922)',\n",
       " '(given name) female given name female given name',\n",
       " 'human settlement district in nicoya canton, guanacaste province,',\n",
       " 'offset samara time time zone named',\n",
       " 'populous city in australia sydney big city the city',\n",
       " 'city community',\n",
       " '(given name) unisex given name unisex given name',\n",
       " 'electoral division division of sydney division',\n",
       " 'asteroid asteroid 15550 sydney asteroid 15550 sydney asteroid asteroid 15550',\n",
       " 'electoral district of sydney electoral district',\n",
       " 'beef burger, turkey burger, bison burger, or veggie burger.',\n",
       " 'city and county seat',\n",
       " 'rivers. hamburg city',\n",
       " 'town. hamburg town',\n",
       " 'city of the united states city',\n",
       " 'borough of new jersey borough',\n",
       " 'borough of pennsylvania borough',\n",
       " 'city roman city the city',\n",
       " 'several violent civil wars. rome historical period period',\n",
       " 'county seat this project',\n",
       " '22nd congressional district. rome city',\n",
       " 'television series tv series rome television series tv series',\n",
       " '117 at the 2010 census. rome city',\n",
       " 'primate city capital of argentina autonomous city',\n",
       " 'province electoral district province of argentina buenos aires province province',\n",
       " 'municipality of brazil municipality',\n",
       " 'municipality of colombia colombian municipality',\n",
       " 'canton canton',\n",
       " 'asteroid asteroid 7850 buenos aires asteroid asteroid 7850',\n",
       " '164.54 square kilometres (63.53 square',\n",
       " 'regency regency of indonesia regency',\n",
       " 'kecamatan tangerang third-level administrative country subdivision',\n",
       " 'railway. tangerang-duri railway railway line railway line',\n",
       " 'railway station railway station railway station',\n",
       " 'association football club tangerang wolves football club',\n",
       " 'city capital city',\n",
       " 'second-largest city',\n",
       " 'asteroid asteroid toronto asteroid asteroid toronto asteroid asteroid toronto asteroid',\n",
       " 'human settlement town',\n",
       " 'city population was 281. toronto city',\n",
       " 'town of the united states town',\n",
       " 'highly urbanized city capital city',\n",
       " 'city of the united states city',\n",
       " '(13,528 ft), the highest point in utah. manila town',\n",
       " 'census-designated place manila is a census-designated place located adjacent',\n",
       " '13513 manila asteroid (13513) manille asteroid 13513 manila asteroid (13513)',\n",
       " 'television series filipino drama tv anthology maynila philippine television series',\n",
       " 'city city in alberta, canada calgary city city',\n",
       " 'asteroid asteroid calgary asteroid asteroid 96192 calgary asteroid asteroid 96192',\n",
       " 'hamlet hamlet',\n",
       " 'provincial electoral district of alberta provincial electoral district',\n",
       " '1988 calgary 1988',\n",
       " 'federal electoral district of canada federal electoral district',\n",
       " 'city (city worth',\n",
       " 'airport international airport airport',\n",
       " 'district district of india district',\n",
       " 'university public university public university',\n",
       " 'sports team the team',\n",
       " 'railway station railway station railway',\n",
       " 'city with powiat rights warsaw city with powiat rights capital',\n",
       " 'population of 13,559',\n",
       " 'city and county seat of gallatin county, kentucky warsaw city',\n",
       " '100 years beginning in 1861 and, after renovation, reopened',\n",
       " '2,127 at the 2010 census. warsaw city',\n",
       " 'town of the united states town',\n",
       " 'town of the united states town',\n",
       " 'capital amman big city amman big city amman capital capital',\n",
       " 'human swiss printmaker (1539-1591) jobst amman human swiss printmaker (1539-1591)',\n",
       " 'devi. mariamman devi',\n",
       " 'human swiss-russian botanist (1707-1741) john amman human',\n",
       " 'family name family name amman family name family name',\n",
       " 'building building',\n",
       " 'first-level administrative country subdivision capital',\n",
       " 'unmanned railroad siding 9.7 miles west',\n",
       " 'city of the united states city',\n",
       " 'town area. belgrade town',\n",
       " 'village in the united states village',\n",
       " 'unincorporated community in the united states unincorporated community',\n",
       " 'capital capital',\n",
       " 'consonant letter letter of the latin alphabet el consonant letter',\n",
       " 'combined statistical area. lima, ohio county seat city',\n",
       " 'district of peru lima district',\n",
       " 'family name family name lima family name family name',\n",
       " 'airport airport airport',\n",
       " 'governorate city',\n",
       " 'horse race horse jeddah horse',\n",
       " 'skyscraper skyscraper',\n",
       " 'lighthouse lighthouse lighthouse',\n",
       " 'club association football club jeddah club association football club association',\n",
       " 'port port port',\n",
       " 'big city second largest city',\n",
       " 'film 2012 film by bedabrata pain chittagong film 2012 film',\n",
       " 'thana',\n",
       " 'division division of bangladesh division of bangladesh chattogram division division',\n",
       " 'district. chittagong district district',\n",
       " 'public research university public, multidisciplinary university',\n",
       " 'hromada capital city',\n",
       " 'county. odessa county seat city',\n",
       " 'secret society odessa secret society odessa secret society odessa secret',\n",
       " '18th century, the name was changed in the 19th century,',\n",
       " 'asteroid asteroid odessa asteroid asteroid 2606 odessa asteroid asteroid 2606',\n",
       " 'city in minnesota odessa city',\n",
       " 'city designated by government ordinance city',\n",
       " 'asteroid asteroid 4352 kyoto asteroid asteroid 4352 kyoto asteroid asteroid',\n",
       " 'prefecture prefecture of japan kyoto prefecture borders fukui prefecture',\n",
       " 'university national university national university',\n",
       " 'studio album 2018 album by tyga kyoto studio album',\n",
       " 'single single',\n",
       " 'lit. riyadh city with millions of inhabitants capital',\n",
       " 'region, medina region and the al-qassim region. riyadh region region',\n",
       " 'university university university in saudi arabia riyadh university university university',\n",
       " 'university higher education institution public women’s university',\n",
       " 'proposed entity metro system in riyadh riyadh metro proposed entity',\n",
       " 'recurring sporting event',\n",
       " 'city centre',\n",
       " 'female given name female given name adelaide female given name',\n",
       " 'local government area of south australia local government area',\n",
       " 'asteroid main-belt asteroid 525 adelaide asteroid main-belt asteroid 525',\n",
       " 'electoral district electoral district of adelaide electoral district',\n",
       " 'federal electoral division division of adelaide division',\n",
       " 'big city city',\n",
       " 'song the song',\n",
       " 'cycling team medellín uci continental team colombian cycling team',\n",
       " 'municipality of spain municipality',\n",
       " 'human settlement medellín de',\n",
       " 'asteroid asteroid 366272 medellín asteroid 366272 medellín asteroid asteroid 366272',\n",
       " 'city prefecture-level city prefecture-level city',\n",
       " 'desert desert desert',\n",
       " 'culture archaeological culture archaeological culture ordos culture archaeological culture',\n",
       " 'airport airport airport',\n",
       " 'plateau geographic region plateau',\n",
       " 'auto racing track motorsport track',\n",
       " 'city. sham city jasmine city city',\n",
       " 'municipality of georgia city',\n",
       " 'town of the united states town',\n",
       " 'census-designated place census-designated place',\n",
       " 'human settlement it was disincorporated july 18, 2016',\n",
       " 'human settlement human settlement',\n",
       " 'border town border',\n",
       " 'municipality municipality',\n",
       " 'municipality municipality',\n",
       " '(born 1975), argentine footballer efraín juárez (born',\n",
       " 'municipality of mexico municipality',\n",
       " 'railway station light train station',\n",
       " 'taxon genus of insects agra taxon genus',\n",
       " 'comune agra comune of italy italian comune agra comune',\n",
       " 'city population was 267.',\n",
       " 'botanist maria de fátima agra human brazilian botanist maria de',\n",
       " 'town agra town of the united states town agra town',\n",
       " 'airport commercial traffic aerodrome airport',\n",
       " 'city capital city of algeria algiers city capital city',\n",
       " 'province province of algeria province of algeria algiers province province',\n",
       " 'film algiers film 1938 american drama film algiers film',\n",
       " 'neighborhood community within',\n",
       " 'musical group band algiers musical group',\n",
       " 'album calexico album algiers album calexico album algiers album',\n",
       " 'human nakayama shō human chinese physician, politician and revolutionary (1866-1925)',\n",
       " 'prefecture-level city prefecture-level city',\n",
       " 'district district of taiwan zhongshan district is an administrative district',\n",
       " '(仲珊)) (december 12, 1862 – may 15, 1938)',\n",
       " 'human chinese philosopher yinfu human',\n",
       " 'town in china town in eastern qinghai, china tankar town',\n",
       " 'city capital city',\n",
       " 'university university state university',\n",
       " 'international airport international airport international airport',\n",
       " 'stadium association football stadium football stadium',\n",
       " 'railway railway line international railway line',\n",
       " 'light rail light rail addis ababa light rail',\n",
       " 'city with millions of inhabitants a city',\n",
       " 'human settlement human settlement',\n",
       " 'airport airport in india aurangabad airport airport airport',\n",
       " 'constituency lok sabha constituency lok sabha constituency',\n",
       " 'census town',\n",
       " 'human settlement human settlement aurangabad human settlement human settlement',\n",
       " 'city capital city of queensland, australia brisbane city capital city',\n",
       " 'city located',\n",
       " 'electoral division division of brisbane division',\n",
       " 'asteroid asteroid 5277 brisbane asteroid asteroid brisbane asteroid asteroid 5277',\n",
       " 'county county',\n",
       " 'impact crater lunar crater brisbane impact crater lunar crater']"
      ]
     },
     "execution_count": 30,
     "metadata": {},
     "output_type": "execute_result"
    }
   ],
   "source": [
    "final_summaries"
   ]
  },
  {
   "cell_type": "markdown",
   "metadata": {},
   "source": [
    "---"
   ]
  }
 ],
 "metadata": {
  "kernelspec": {
   "display_name": "Python 3",
   "language": "python",
   "name": "python3"
  },
  "language_info": {
   "codemirror_mode": {
    "name": "ipython",
    "version": 3
   },
   "file_extension": ".py",
   "mimetype": "text/x-python",
   "name": "python",
   "nbconvert_exporter": "python",
   "pygments_lexer": "ipython3",
   "version": "3.7.7"
  },
  "toc": {
   "base_numbering": 1,
   "nav_menu": {},
   "number_sections": true,
   "sideBar": true,
   "skip_h1_title": false,
   "title_cell": "Table of Contents",
   "title_sidebar": "Contents",
   "toc_cell": false,
   "toc_position": {},
   "toc_section_display": true,
   "toc_window_display": false
  }
 },
 "nbformat": 4,
 "nbformat_minor": 4
}
