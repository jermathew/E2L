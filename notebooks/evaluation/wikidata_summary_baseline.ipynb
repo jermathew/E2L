{
 "cells": [
  {
   "cell_type": "markdown",
   "metadata": {},
   "source": [
    "# Summary baseline"
   ]
  },
  {
   "cell_type": "markdown",
   "metadata": {},
   "source": [
    "## Load the data"
   ]
  },
  {
   "cell_type": "code",
   "execution_count": 1,
   "metadata": {
    "ExecuteTime": {
     "end_time": "2020-12-08T16:08:54.615707Z",
     "start_time": "2020-12-08T16:08:54.611105Z"
    }
   },
   "outputs": [],
   "source": [
    "root_dir = '../../'\n",
    "src_dir = 'src'\n",
    "data_dir = 'data/corpus'\n",
    "models_dir = 'data/models'"
   ]
  },
  {
   "cell_type": "code",
   "execution_count": 2,
   "metadata": {
    "ExecuteTime": {
     "end_time": "2020-12-08T16:08:54.818698Z",
     "start_time": "2020-12-08T16:08:54.815320Z"
    }
   },
   "outputs": [],
   "source": [
    "import os\n",
    "import sys"
   ]
  },
  {
   "cell_type": "code",
   "execution_count": 3,
   "metadata": {
    "ExecuteTime": {
     "end_time": "2020-12-08T16:08:55.025100Z",
     "start_time": "2020-12-08T16:08:55.020687Z"
    }
   },
   "outputs": [],
   "source": [
    "sys.path.append(os.path.join(root_dir, src_dir))"
   ]
  },
  {
   "cell_type": "code",
   "execution_count": 4,
   "metadata": {
    "ExecuteTime": {
     "end_time": "2020-12-08T16:08:55.215710Z",
     "start_time": "2020-12-08T16:08:55.211858Z"
    }
   },
   "outputs": [],
   "source": [
    "version = 'v2'\n",
    "corpus_filename = f'wikidata_corpus_{version}.json'"
   ]
  },
  {
   "cell_type": "code",
   "execution_count": 5,
   "metadata": {
    "ExecuteTime": {
     "end_time": "2020-12-08T16:08:56.488384Z",
     "start_time": "2020-12-08T16:08:55.403159Z"
    }
   },
   "outputs": [],
   "source": [
    "from training import TrainingCorpus"
   ]
  },
  {
   "cell_type": "code",
   "execution_count": 6,
   "metadata": {
    "ExecuteTime": {
     "end_time": "2020-12-08T16:08:56.512889Z",
     "start_time": "2020-12-08T16:08:56.489988Z"
    }
   },
   "outputs": [],
   "source": [
    "corpus = TrainingCorpus()\n",
    "corpus.load(os.path.join(root_dir, data_dir, corpus_filename))"
   ]
  },
  {
   "cell_type": "code",
   "execution_count": 7,
   "metadata": {
    "ExecuteTime": {
     "end_time": "2020-12-08T16:08:56.522307Z",
     "start_time": "2020-12-08T16:08:56.514525Z"
    }
   },
   "outputs": [
    {
     "data": {
      "text/plain": [
       "3294"
      ]
     },
     "execution_count": 7,
     "metadata": {},
     "output_type": "execute_result"
    }
   ],
   "source": [
    "corpus.size"
   ]
  },
  {
   "cell_type": "markdown",
   "metadata": {},
   "source": [
    "---"
   ]
  },
  {
   "cell_type": "markdown",
   "metadata": {},
   "source": [
    "## Builds pseudo-docs"
   ]
  },
  {
   "cell_type": "code",
   "execution_count": 8,
   "metadata": {
    "ExecuteTime": {
     "end_time": "2020-12-08T16:08:56.532297Z",
     "start_time": "2020-12-08T16:08:56.530256Z"
    }
   },
   "outputs": [],
   "source": [
    "from collections import defaultdict"
   ]
  },
  {
   "cell_type": "code",
   "execution_count": 9,
   "metadata": {
    "ExecuteTime": {
     "end_time": "2020-12-08T16:08:56.755248Z",
     "start_time": "2020-12-08T16:08:56.751430Z"
    }
   },
   "outputs": [],
   "source": [
    "pseudodocs_dict = defaultdict(str)"
   ]
  },
  {
   "cell_type": "code",
   "execution_count": 10,
   "metadata": {
    "ExecuteTime": {
     "end_time": "2020-12-08T16:08:56.954063Z",
     "start_time": "2020-12-08T16:08:56.941142Z"
    }
   },
   "outputs": [],
   "source": [
    "for doc_id in corpus.docs:\n",
    "    text = corpus.get_text(doc_id)\n",
    "    label = corpus.target[doc_id][0]\n",
    "    pseudodocs_dict[label] += ' ' + text"
   ]
  },
  {
   "cell_type": "markdown",
   "metadata": {
    "ExecuteTime": {
     "end_time": "2020-12-03T09:34:52.385404Z",
     "start_time": "2020-12-03T09:34:52.380486Z"
    }
   },
   "source": [
    "## Summarize pseudo-docs"
   ]
  },
  {
   "cell_type": "code",
   "execution_count": 11,
   "metadata": {
    "ExecuteTime": {
     "end_time": "2020-12-08T16:08:57.547545Z",
     "start_time": "2020-12-08T16:08:57.542594Z"
    }
   },
   "outputs": [],
   "source": [
    "entities = list(pseudodocs_dict.keys())\n",
    "num_entities = len(entities)\n",
    "pseudodocs = [pseudodocs_dict[e_id] for e_id in entities]"
   ]
  },
  {
   "cell_type": "code",
   "execution_count": 12,
   "metadata": {
    "ExecuteTime": {
     "end_time": "2020-12-08T16:08:57.832648Z",
     "start_time": "2020-12-08T16:08:57.830015Z"
    }
   },
   "outputs": [],
   "source": [
    "model_name = 'facebook/bart-large-cnn'"
   ]
  },
  {
   "cell_type": "code",
   "execution_count": 13,
   "metadata": {
    "ExecuteTime": {
     "end_time": "2020-12-08T16:09:13.201778Z",
     "start_time": "2020-12-08T16:08:58.387963Z"
    }
   },
   "outputs": [],
   "source": [
    "from transformers import AutoTokenizer, AutoModelForSeq2SeqLM\n",
    "\n",
    "tokenizer = AutoTokenizer.from_pretrained(model_name)\n",
    "model = AutoModelForSeq2SeqLM.from_pretrained(model_name)"
   ]
  },
  {
   "cell_type": "code",
   "execution_count": 14,
   "metadata": {
    "ExecuteTime": {
     "end_time": "2020-12-08T16:09:13.206929Z",
     "start_time": "2020-12-08T16:09:13.204024Z"
    }
   },
   "outputs": [],
   "source": [
    "min_len = 10\n",
    "max_len = 100\n",
    "do_sample = False"
   ]
  },
  {
   "cell_type": "code",
   "execution_count": 15,
   "metadata": {
    "ExecuteTime": {
     "end_time": "2020-12-08T16:31:57.141862Z",
     "start_time": "2020-12-08T16:09:13.208718Z"
    }
   },
   "outputs": [],
   "source": [
    "summaries = []\n",
    "\n",
    "for i in range(num_entities):\n",
    "    doc = pseudodocs[i]\n",
    "    encoded_doc = tokenizer([doc], padding=True, truncation=True, return_tensors='pt')\n",
    "    summary_ids = model.generate(encoded_doc['input_ids'], min_length=min_len, max_length=max_len, do_sample=do_sample)\n",
    "    summary_text = [tokenizer.decode(g, skip_special_tokens=True, clean_up_tokenization_spaces=False) for g in summary_ids][0]\n",
    "    summaries.append(summary_text)"
   ]
  },
  {
   "cell_type": "markdown",
   "metadata": {},
   "source": [
    "## Save summaries to a file"
   ]
  },
  {
   "cell_type": "code",
   "execution_count": 16,
   "metadata": {
    "ExecuteTime": {
     "end_time": "2020-12-08T17:01:19.778986Z",
     "start_time": "2020-12-08T17:01:19.772334Z"
    }
   },
   "outputs": [],
   "source": [
    "import pandas as pd"
   ]
  },
  {
   "cell_type": "code",
   "execution_count": 17,
   "metadata": {
    "ExecuteTime": {
     "end_time": "2020-12-08T17:01:21.484633Z",
     "start_time": "2020-12-08T17:01:21.456633Z"
    }
   },
   "outputs": [
    {
     "data": {
      "text/html": [
       "<div>\n",
       "<style scoped>\n",
       "    .dataframe tbody tr th:only-of-type {\n",
       "        vertical-align: middle;\n",
       "    }\n",
       "\n",
       "    .dataframe tbody tr th {\n",
       "        vertical-align: top;\n",
       "    }\n",
       "\n",
       "    .dataframe thead th {\n",
       "        text-align: right;\n",
       "    }\n",
       "</style>\n",
       "<table border=\"1\" class=\"dataframe\">\n",
       "  <thead>\n",
       "    <tr style=\"text-align: right;\">\n",
       "      <th></th>\n",
       "      <th>entity</th>\n",
       "      <th>summary</th>\n",
       "    </tr>\n",
       "  </thead>\n",
       "  <tbody>\n",
       "    <tr>\n",
       "      <th>0</th>\n",
       "      <td>Q1754</td>\n",
       "      <td>Stockholm is the capital and most populous ur...</td>\n",
       "    </tr>\n",
       "    <tr>\n",
       "      <th>1</th>\n",
       "      <td>Q1787199</td>\n",
       "      <td>Stockholm is a town in Grant County, South Da...</td>\n",
       "    </tr>\n",
       "    <tr>\n",
       "      <th>2</th>\n",
       "      <td>Q976601</td>\n",
       "      <td>Stockholm is a village in Pepin County, Wisco...</td>\n",
       "    </tr>\n",
       "    <tr>\n",
       "      <th>3</th>\n",
       "      <td>Q1484620</td>\n",
       "      <td>Stockholm asteroid  10552 Stockholm asteroid ...</td>\n",
       "    </tr>\n",
       "    <tr>\n",
       "      <th>4</th>\n",
       "      <td>Q3447382</td>\n",
       "      <td>Stockholm is a town in Aroostook County, Main...</td>\n",
       "    </tr>\n",
       "  </tbody>\n",
       "</table>\n",
       "</div>"
      ],
      "text/plain": [
       "     entity                                            summary\n",
       "0     Q1754   Stockholm is the capital and most populous ur...\n",
       "1  Q1787199   Stockholm is a town in Grant County, South Da...\n",
       "2   Q976601   Stockholm is a village in Pepin County, Wisco...\n",
       "3  Q1484620   Stockholm asteroid  10552 Stockholm asteroid ...\n",
       "4  Q3447382   Stockholm is a town in Aroostook County, Main..."
      ]
     },
     "execution_count": 17,
     "metadata": {},
     "output_type": "execute_result"
    }
   ],
   "source": [
    "raw_summaries_df = pd.DataFrame([(e, s) for e, s in zip(entities, summaries)], columns=['entity', 'summary'])\n",
    "raw_summaries_df.head()"
   ]
  },
  {
   "cell_type": "code",
   "execution_count": 18,
   "metadata": {
    "ExecuteTime": {
     "end_time": "2020-12-08T17:01:23.546509Z",
     "start_time": "2020-12-08T17:01:23.336031Z"
    }
   },
   "outputs": [],
   "source": [
    "raw_summaries_filename = f'raw_summary_wikidata_{version}.xlsx'\n",
    "raw_summaries_filepath = os.path.join(root_dir, 'data/terms', raw_summaries_filename)\n",
    "raw_summaries_df.to_excel(raw_summaries_filepath, index=False)"
   ]
  },
  {
   "cell_type": "markdown",
   "metadata": {},
   "source": [
    "---\n",
    "## Compute ranking"
   ]
  },
  {
   "cell_type": "markdown",
   "metadata": {},
   "source": [
    "### Define utility functions"
   ]
  },
  {
   "cell_type": "code",
   "execution_count": 21,
   "metadata": {
    "ExecuteTime": {
     "end_time": "2020-12-08T17:18:50.961121Z",
     "start_time": "2020-12-08T17:18:50.948755Z"
    }
   },
   "outputs": [],
   "source": [
    "def find_mix(seq, subseq):\n",
    "    n = len(seq)\n",
    "    m = len(subseq)\n",
    "    for i in range(n - m + 1):\n",
    "        if seq[i] == subseq[0] and seq[i:i + m] == subseq:\n",
    "            yield range(i, i + m)\n",
    "            \n",
    "\n",
    "def get_chunk_document(chunks, text) -> list:\n",
    "    tokens = TrainingCorpus.tokenize(text.lower())\n",
    "    \n",
    "    if len(chunks) > 0:\n",
    "        for k_chunk in chunks:\n",
    "            chunk = k_chunk.split('_')\n",
    "            replacements = [r for r in find_mix(tokens, chunk)]\n",
    "            l, f = 0, []\n",
    "            \n",
    "            while l < len(tokens):\n",
    "                replaced = False\n",
    "                \n",
    "                for r in replacements:\n",
    "                    if l in r:\n",
    "                        replaced = True\n",
    "                        f.append(chunk)\n",
    "                        l += len(chunk)\n",
    "                        break\n",
    "                    else:\n",
    "                        pass\n",
    "                if not replaced:\n",
    "                    f.append(tokens[l])\n",
    "                    l += 1\n",
    "            \n",
    "            new_tokens = []\n",
    "            \n",
    "            for x in f:\n",
    "                if isinstance(x, list):\n",
    "                    new_tokens.append(\"_\".join(x))\n",
    "                else:\n",
    "                    new_tokens.append(x)\n",
    "            tokens = new_tokens\n",
    "    \n",
    "    return ' '.join(tokens)"
   ]
  },
  {
   "cell_type": "markdown",
   "metadata": {},
   "source": [
    "### Get chunk document"
   ]
  },
  {
   "cell_type": "code",
   "execution_count": 19,
   "metadata": {
    "ExecuteTime": {
     "end_time": "2020-12-08T17:01:26.226992Z",
     "start_time": "2020-12-08T17:01:26.218092Z"
    }
   },
   "outputs": [],
   "source": [
    "import spacy\n",
    "from tqdm.notebook import tqdm"
   ]
  },
  {
   "cell_type": "code",
   "execution_count": 23,
   "metadata": {
    "ExecuteTime": {
     "end_time": "2020-12-08T17:20:02.725357Z",
     "start_time": "2020-12-08T17:19:58.796642Z"
    }
   },
   "outputs": [
    {
     "data": {
      "application/vnd.jupyter.widget-view+json": {
       "model_id": "9db8a294bf37490e844ee9f21531f857",
       "version_major": 2,
       "version_minor": 0
      },
      "text/plain": [
       "HBox(children=(HTML(value=''), FloatProgress(value=0.0, max=195.0), HTML(value='')))"
      ]
     },
     "metadata": {},
     "output_type": "display_data"
    },
    {
     "name": "stdout",
     "output_type": "stream",
     "text": [
      "\n"
     ]
    }
   ],
   "source": [
    "summary_chunks = []\n",
    "spacy_model_name = 'en_core_web_sm'\n",
    "spacy_model = spacy.load(spacy_model_name)\n",
    "\n",
    "for s in tqdm(summaries):\n",
    "    chunks = []\n",
    "    for chunk in spacy_model(s.lower()).noun_chunks:\n",
    "        c = '_'.join(TrainingCorpus.tokenize(chunk.text))\n",
    "        if c:\n",
    "            chunks.append(c)\n",
    "    \n",
    "    chunk_doc = get_chunk_document(chunks, s)\n",
    "    summary_chunks.append(chunk_doc)"
   ]
  },
  {
   "cell_type": "code",
   "execution_count": 39,
   "metadata": {
    "ExecuteTime": {
     "end_time": "2020-12-08T18:26:38.751526Z",
     "start_time": "2020-12-08T18:26:38.742474Z"
    }
   },
   "outputs": [
    {
     "data": {
      "text/plain": [
       "'tangerang city province banten indonesia latest_official_estimate mid 2020 2,273,697 – making eighth populated suburb world area 164_54_square_kilometres 63_53_square_miles'"
      ]
     },
     "execution_count": 39,
     "metadata": {},
     "output_type": "execute_result"
    }
   ],
   "source": [
    "summary_chunks[44]"
   ]
  },
  {
   "cell_type": "markdown",
   "metadata": {
    "ExecuteTime": {
     "end_time": "2020-12-08T17:22:53.296297Z",
     "start_time": "2020-12-08T17:22:53.291752Z"
    }
   },
   "source": [
    "### Save chunks to a file"
   ]
  },
  {
   "cell_type": "code",
   "execution_count": 26,
   "metadata": {
    "ExecuteTime": {
     "end_time": "2020-12-08T17:27:51.615309Z",
     "start_time": "2020-12-08T17:27:51.596142Z"
    }
   },
   "outputs": [
    {
     "data": {
      "text/html": [
       "<div>\n",
       "<style scoped>\n",
       "    .dataframe tbody tr th:only-of-type {\n",
       "        vertical-align: middle;\n",
       "    }\n",
       "\n",
       "    .dataframe tbody tr th {\n",
       "        vertical-align: top;\n",
       "    }\n",
       "\n",
       "    .dataframe thead th {\n",
       "        text-align: right;\n",
       "    }\n",
       "</style>\n",
       "<table border=\"1\" class=\"dataframe\">\n",
       "  <thead>\n",
       "    <tr style=\"text-align: right;\">\n",
       "      <th></th>\n",
       "      <th>entity</th>\n",
       "      <th>summary</th>\n",
       "    </tr>\n",
       "  </thead>\n",
       "  <tbody>\n",
       "    <tr>\n",
       "      <th>0</th>\n",
       "      <td>Q1754</td>\n",
       "      <td>stockholm capital populous_urban_area sweden w...</td>\n",
       "    </tr>\n",
       "    <tr>\n",
       "      <th>1</th>\n",
       "      <td>Q1787199</td>\n",
       "      <td>stockholm town grant_county south_dakota unite...</td>\n",
       "    </tr>\n",
       "    <tr>\n",
       "      <th>2</th>\n",
       "      <td>Q976601</td>\n",
       "      <td>stockholm village pepin_county wisconsin unite...</td>\n",
       "    </tr>\n",
       "    <tr>\n",
       "      <th>3</th>\n",
       "      <td>Q1484620</td>\n",
       "      <td>stockholm asteroid 10552_stockholm_asteroid as...</td>\n",
       "    </tr>\n",
       "    <tr>\n",
       "      <th>4</th>\n",
       "      <td>Q3447382</td>\n",
       "      <td>stockholm town aroostook_county maine united_s...</td>\n",
       "    </tr>\n",
       "  </tbody>\n",
       "</table>\n",
       "</div>"
      ],
      "text/plain": [
       "     entity                                            summary\n",
       "0     Q1754  stockholm capital populous_urban_area sweden w...\n",
       "1  Q1787199  stockholm town grant_county south_dakota unite...\n",
       "2   Q976601  stockholm village pepin_county wisconsin unite...\n",
       "3  Q1484620  stockholm asteroid 10552_stockholm_asteroid as...\n",
       "4  Q3447382  stockholm town aroostook_county maine united_s..."
      ]
     },
     "execution_count": 26,
     "metadata": {},
     "output_type": "execute_result"
    }
   ],
   "source": [
    "chunks_df = pd.DataFrame([(e, s) for e, s in zip(entities, summary_chunks)], columns=['entity', 'summary'])\n",
    "chunks_df.head()"
   ]
  },
  {
   "cell_type": "code",
   "execution_count": 29,
   "metadata": {
    "ExecuteTime": {
     "end_time": "2020-12-08T17:30:17.516562Z",
     "start_time": "2020-12-08T17:30:17.474941Z"
    }
   },
   "outputs": [],
   "source": [
    "chunks_filename = f'chunk_summary_wikidata_{version}.xlsx'\n",
    "chunks_filepath = os.path.join(root_dir, 'data/terms', chunks_filename)\n",
    "chunks_df.to_excel(chunks_filepath, index=False)"
   ]
  },
  {
   "cell_type": "markdown",
   "metadata": {},
   "source": [
    "---"
   ]
  },
  {
   "cell_type": "markdown",
   "metadata": {},
   "source": [
    "## Compute tf-idf on each pseudo-document"
   ]
  },
  {
   "cell_type": "markdown",
   "metadata": {},
   "source": [
    "### Define corpus"
   ]
  },
  {
   "cell_type": "code",
   "execution_count": 18,
   "metadata": {
    "ExecuteTime": {
     "end_time": "2020-12-07T14:03:59.328038Z",
     "start_time": "2020-12-07T14:03:58.791162Z"
    }
   },
   "outputs": [
    {
     "data": {
      "text/plain": [
       "195"
      ]
     },
     "execution_count": 18,
     "metadata": {},
     "output_type": "execute_result"
    }
   ],
   "source": [
    "clean_pseudodocs = []\n",
    "\n",
    "for i in range(num_entities):\n",
    "    doc = pseudodocs[i].lower()\n",
    "    clean_doc = ' '.join(TrainingCorpus.tokenize(doc))\n",
    "    clean_pseudodocs.append(clean_doc)\n",
    "\n",
    "len(clean_pseudodocs)"
   ]
  },
  {
   "cell_type": "markdown",
   "metadata": {
    "ExecuteTime": {
     "end_time": "2020-12-05T11:18:53.469356Z",
     "start_time": "2020-12-05T11:18:53.464468Z"
    }
   },
   "source": [
    "# Fit tf-idf vectorizer"
   ]
  },
  {
   "cell_type": "code",
   "execution_count": 19,
   "metadata": {
    "ExecuteTime": {
     "end_time": "2020-12-07T14:03:59.332619Z",
     "start_time": "2020-12-07T14:03:59.329743Z"
    }
   },
   "outputs": [],
   "source": [
    "from sklearn.feature_extraction.text import TfidfVectorizer"
   ]
  },
  {
   "cell_type": "code",
   "execution_count": 20,
   "metadata": {
    "ExecuteTime": {
     "end_time": "2020-12-07T14:03:59.368294Z",
     "start_time": "2020-12-07T14:03:59.334421Z"
    }
   },
   "outputs": [
    {
     "name": "stderr",
     "output_type": "stream",
     "text": [
      "/home/nvidia/anaconda3/envs/testenv/lib/python3.8/site-packages/sklearn/feature_extraction/text.py:507: UserWarning: The parameter 'token_pattern' will not be used since 'tokenizer' is not None'\n",
      "  warnings.warn(\"The parameter 'token_pattern' will not be used\"\n"
     ]
    },
    {
     "data": {
      "text/plain": [
       "TfidfVectorizer(analyzer='word', binary=False, decode_error='strict',\n",
       "                dtype=<class 'numpy.float64'>, encoding='utf-8',\n",
       "                input='content', lowercase=False, max_df=1.0, max_features=None,\n",
       "                min_df=1, ngram_range=(1, 1), norm='l2', preprocessor=None,\n",
       "                smooth_idf=True, stop_words=None, strip_accents=None,\n",
       "                sublinear_tf=False, token_pattern='(?u)\\\\b\\\\w\\\\w+\\\\b',\n",
       "                tokenizer=<function <lambda> at 0x7f961018d5e0>, use_idf=True,\n",
       "                vocabulary=None)"
      ]
     },
     "execution_count": 20,
     "metadata": {},
     "output_type": "execute_result"
    }
   ],
   "source": [
    "vectorizer = TfidfVectorizer(lowercase=False, tokenizer=lambda x: x.split())\n",
    "vectorizer.fit(clean_pseudodocs)"
   ]
  },
  {
   "cell_type": "markdown",
   "metadata": {},
   "source": [
    "## Save tf-idf weights into a dict"
   ]
  },
  {
   "cell_type": "code",
   "execution_count": 21,
   "metadata": {
    "ExecuteTime": {
     "end_time": "2020-12-07T14:03:59.392935Z",
     "start_time": "2020-12-07T14:03:59.370183Z"
    }
   },
   "outputs": [
    {
     "data": {
      "text/plain": [
       "(195, 4444)"
      ]
     },
     "execution_count": 21,
     "metadata": {},
     "output_type": "execute_result"
    }
   ],
   "source": [
    "vectorized_docs = vectorizer.transform(clean_pseudodocs)\n",
    "vectorized_docs.shape"
   ]
  },
  {
   "cell_type": "code",
   "execution_count": 22,
   "metadata": {
    "ExecuteTime": {
     "end_time": "2020-12-07T14:36:17.301439Z",
     "start_time": "2020-12-07T14:03:59.394554Z"
    }
   },
   "outputs": [],
   "source": [
    "tfidf_weights = []\n",
    "\n",
    "for i in range(num_entities):\n",
    "    doc_vector = vectorized_docs[i].toarray().reshape(-1)\n",
    "    weights = {}\n",
    "    \n",
    "    for j, w in enumerate(doc_vector):\n",
    "        feature_name = vectorizer.get_feature_names()[j]\n",
    "        if w > 0:\n",
    "            weights[feature_name] = w\n",
    "    \n",
    "    tfidf_weights.append(weights)"
   ]
  },
  {
   "cell_type": "markdown",
   "metadata": {},
   "source": [
    "## Compute baseline summaries"
   ]
  },
  {
   "cell_type": "code",
   "execution_count": 23,
   "metadata": {
    "ExecuteTime": {
     "end_time": "2020-12-07T14:36:17.307414Z",
     "start_time": "2020-12-07T14:36:17.303815Z"
    }
   },
   "outputs": [],
   "source": [
    "min_len = 1\n",
    "max_len = 30"
   ]
  },
  {
   "cell_type": "code",
   "execution_count": 24,
   "metadata": {
    "ExecuteTime": {
     "end_time": "2020-12-07T14:36:17.313182Z",
     "start_time": "2020-12-07T14:36:17.309205Z"
    }
   },
   "outputs": [],
   "source": [
    "def compute_score(idx, text):\n",
    "    if text:\n",
    "        weights = tfidf_weights[idx]\n",
    "        tokenized_text = TrainingCorpus.tokenize(text.lower())\n",
    "        score = 0\n",
    "\n",
    "        if tokenized_text:\n",
    "            for token in tokenized_text:\n",
    "                if token in weights:\n",
    "                    score += weights[token]\n",
    "        text_len = len(text.split())\n",
    "        score = score/text_len\n",
    "        return score\n",
    "    else:\n",
    "        return 0"
   ]
  },
  {
   "cell_type": "code",
   "execution_count": 25,
   "metadata": {
    "ExecuteTime": {
     "end_time": "2020-12-07T14:36:17.317291Z",
     "start_time": "2020-12-07T14:36:17.314917Z"
    }
   },
   "outputs": [],
   "source": [
    "import nltk"
   ]
  },
  {
   "cell_type": "code",
   "execution_count": 26,
   "metadata": {
    "ExecuteTime": {
     "end_time": "2020-12-07T14:36:17.396943Z",
     "start_time": "2020-12-07T14:36:17.318944Z"
    }
   },
   "outputs": [],
   "source": [
    "final_summaries = []\n",
    "\n",
    "for i in range(num_entities):\n",
    "    # split on sentences\n",
    "    final_summary = []\n",
    "    sentences = nltk.tokenize.sent_tokenize(summaries[i])\n",
    "    prev_score = 0\n",
    "    \n",
    "    for sentence in sentences:\n",
    "        score = compute_score(i, sentence)\n",
    "        delta_score = score - prev_score\n",
    "        \n",
    "        if delta_score > 0:\n",
    "            final_summary.append(sentence)\n",
    "        else:\n",
    "            break\n",
    "        \n",
    "        prev_score = score\n",
    "    \n",
    "    final_summaries.append(' '.join(final_summary))"
   ]
  },
  {
   "cell_type": "code",
   "execution_count": 27,
   "metadata": {
    "ExecuteTime": {
     "end_time": "2020-12-07T14:36:17.404242Z",
     "start_time": "2020-12-07T14:36:17.398448Z"
    }
   },
   "outputs": [
    {
     "data": {
      "text/plain": [
       "[' Stockholm is the capital and most populous urban area of Sweden as well as in Scandinavia. It hosts the annual Nobel Prize ceremonies and banquet at the Stockholm Concert Hall and Stockholm City Hall.',\n",
       " ' Stockholm is a town in Grant County, South Dakota, United States.',\n",
       " ' Stockholm is a village in Pepin County, Wisconsin, United States, founded in 1854 by immigrants from Karlskoga, Sweden.',\n",
       " ' Stockholm asteroid  10552 Stockholm asteroid is an asteroid.',\n",
       " ' Stockholm is a town in Aroostook County, Maine, United States.',\n",
       " ' Stockholm (known as The Captor in some countries) is a 2018 Canadian crime film written, produced and directed by Robert Budreau.',\n",
       " 'Located in the northeast of the oblast, 210 kilometers (130 mi) south of Yekaterinburg, the city is just to the east of the Ural Mountains. It is the seventh-largest city in Russia by population',\n",
       " \"21088 Chelyabinsk asteroid It was discovered on 30 January 1992, by Belgian astronomer Eric Elst at ESO's La Silla Observatory in northern Chile.\",\n",
       " 'Chelyabinsk Oblast is a federal subject (an oblast) of Russia in the Ural Mountains region, on the border of Europe and Asia.',\n",
       " 'South Ural State University (SUSU) in Chelyabinsk is one of the largest educational institutions in Russia.',\n",
       " 'The explosion generated a bright flash, producing a hot cloud of dust and gas that penetrated to 26.2 km (16.3 mi) About 1,500 people were injured seriously enough to seek medical treatment. The Chelyabinsk',\n",
       " 'The time zone applies to the Ural Federal District, and Bashkortostan, Orenburg Oblast and Perm Krai in the Volga Federal District. In 2011, Russia moved to year-round daylight saving time',\n",
       " 'Chelyabinsk Tractor Plant is a tractor plant in the Russian city of Chelyabinski.',\n",
       " 'Samara is the largest city and administrative centre of Samara Oblast.',\n",
       " 'During the autumn months, they are a popular source of amusement for children who enjoy tossing them in the air and watching them spin to the ground. A samara is a simple dry fruit and indehiscent (not opening along a',\n",
       " 'Samara asteroid  26922 Samara asteroid asteroid (26922) is an asteroid.',\n",
       " 'Samara or Saamara is an Indian name of Sanskrit origin derived from Sanskrit word \" sAmara\" which means \" with immortals; accompanied by god \" Samara is of Arabic and Hebrew origin and its meaning is guardian or',\n",
       " 'Sámara is a district of the Nicoya canton, in the Guanacaste province of Costa Rica.',\n",
       " ' UTC+04:00 time zone named for a UTC offset  Samara Time time zone names for a time offset from UTC of +4.',\n",
       " 'Sydney is the capital city of the state of New South Wales, and the most populous city in Oceania.',\n",
       " 'Sydney was founded in 1785 by the British, was incorporated as a city in 1904, and dissolved on 1 August 1995, when it was amalgamated into the regional municipality.',\n",
       " 'Sydney is a given name.',\n",
       " 'The Division of Sydney is an Australian electoral division in the state of New South Wales. Sydney division of the Australian House of Representatives is a federal electoral division.',\n",
       " 'Sydney asteroid  15550 Sydney asteroid  Sydney asteroid is part of a series of asteroids named after Sydney landmarks.',\n",
       " 'Sydney is an electoral district of the Legislative Assembly of the Australian state of New South Wales in Inner Sydney.',\n",
       " 'A hamburger (also burger for short) is a sandwich consisting of one or more cooked patties of ground meat, usually beef, placed inside a sliced bread roll or bun.',\n",
       " 'Hamburg is a city and county seat of Ashley County, Arkansas, United States.',\n",
       " 'Hamburg is a city in Fremont County, Iowa, United States, that is the most southwestern city in Iowa.',\n",
       " 'As of the 2010 census, the town had a population of 56,936. The villages of Hamburg and Blasdell are in the town.',\n",
       " 'Hamburg is a city in Carver County, Minnesota, United States.The population was 513 at the 2010 census.',\n",
       " \"Hamburg is a borough in Sussex County, New Jersey, United States.As of the 2010 United States Census, the borough's population was 3,277, reflecting an increase of 172 (+5.5%) from the 3,\",\n",
       " 'Hamburg, Pennsylvania borough of Pennsylvania The population was 4,289 at the 2010 census.',\n",
       " 'Rome is the third most populous city in the European Union by population within city limits.',\n",
       " 'Roman Republic republic period of ancient Roman civilization (509 BC-27 BC) res publica historical period These multiple tensions led to a series of civil wars; the first between the two generals Julius Caesar and Pompey.',\n",
       " 'Rome is the largest city in Northwest Georgia and the 19th-largest city in the state.',\n",
       " \"Rome is in New York's 22nd congressional district.\",\n",
       " 'Rome is a British-American-Italian historical drama television series created by John Milius, William J. MacDonald, and Bruno Heller.',\n",
       " 'Rome is a village in Henry County, Iowa, United States.',\n",
       " 'Buenos Aires is the capital and largest city of Argentina.',\n",
       " \"The province covers an area of 307,571 km2 (118,754 sq mi), which is about 11% of Argentina's total area and makes it the country's largest province. The entire province is part of the Pampas\",\n",
       " ' Buenos Aires is a city located in the state of Pernambuco, Brazil.',\n",
       " ' Buenos Aires is a town and municipality in the Cauca Department, Colombia.',\n",
       " 'The head city is in Buenos Aires district. Buenos Aires is a canton in the Puntarenas province of Costa Rica.',\n",
       " ' Buenos Aires asteroid asteroid 7850 Buenos Aires.',\n",
       " 'Tangerang is a city in the province of Banten, Indonesia.',\n",
       " 'Until 2008, Tangerang Regency was subdivided into 36 Districts, which were further divided into several villages and administrative villages. The current regent is Ahmed Zaki Iskandar. The residual Regency now has an',\n",
       " 'Tangerang kecamatan is a third-level administrative country subdivision in Indonesia.',\n",
       " 'The Duri–Tangerang railway is a railway connecting Tangerang to Jakarta, the capital city of Indonesia.',\n",
       " 'Tangerang Station is a railway station located in the city of Tangerang, Banten.',\n",
       " 'Tangerang Wolves Football Club is an Indonesian football club based in Tangerang, Banten.',\n",
       " 'With a recorded population of 2,731,571 in 2016, it is the most populous city in Canada.',\n",
       " 'Toronto is the second-largest city in Jefferson County, Ohio, United States, along the Ohio River 6 miles northeast of Steubenville.',\n",
       " '2104 Toronto, provisional designation 1963 PD, is a metallic background asteroid from the outer regions of the asteroid belt, approximately 36 kilometers in diameter.',\n",
       " 'Toronto is a town in Clinton County, Iowa, United States.The population was 124 at the 2010 census.',\n",
       " 'Toronto is a city in Woodson County, Kansas, United States, along the Verdigris River.',\n",
       " 'Toronto was laid out in 1884, and named after the capital of Ontario, Canada, the native home of a first settler.',\n",
       " 'The Spanish city of Manila was founded on June 24, 1571, by Spanish conquistador Miguel López de Legazpi.',\n",
       " 'The population of Manila, Arkansas was 3,342 at the 2010 census.',\n",
       " 'The settlement was named in 1898, commemorating the American naval victory at the Battle of Manila Bay in the Philippines. The town is at the junction of State Route 43 and State Route 44, and is the county seat of Daggett',\n",
       " 'Manila census-designated place is located 3.25 miles (5.2 km) north of downtown Eureka, at an elevation of 13 feet (4 m) The ZIP Code is 95521. Manila census-',\n",
       " '13513 Manila asteroid is an asteroid.',\n",
       " 'Maynila is a Philippine television drama romance anthology show broadcast by GMA Network.',\n",
       " \"The Calgary Metropolitan Region is home to Canada's second-highest number of corporate head offices among the country's 800 largest corporations. The city had a population of 1,285,711 in 2019, making it Alberta's most-pop\",\n",
       " 'Calgary asteroid asteroid Calgary asteroid asteroid 96192 Calgary asteroid asteroids.',\n",
       " 'Calgary is a hamlet on the northwest coast of the Isle of Mull, in Argyll and Bute, Scotland.',\n",
       " 'Calgary was a provincial electoral district in Alberta, Canada, mandated to return one to six members to the Legislative Assembly of Alberta from 1905 to 1913, and again from 1921 to 1959.',\n",
       " 'The 1988 Winter Olympics were the first Winter Olympics to be held over a whole two-week period.',\n",
       " 'Calgary is a federal electoral district in Alberta, Canada.',\n",
       " 'Chennai is one of the 100 Indian cities to be developed as a smart city under the Smart Cities Mission.',\n",
       " 'Chennai International Airport (IATA: MAA, ICAO: VOMM) is an international airport serving the city of Chennai, Tamil Nadu, India, and its metropolitan area.',\n",
       " 'Chennai is a megacity and local government district that contains the historic centre and the Central business district (CBD) of Chennai metropolitan area.',\n",
       " 'The University of Madras or Madras University is a public state university in Chennai, Tamil Nadu, India.',\n",
       " 'Chennai Super Kings are an Indian cricket team.',\n",
       " 'Chennai Central is the main railway station in the city of Chennai, Tamil Nadu.',\n",
       " 'Poland has millions of inhabitants. Warsaw is the largest city in the country.',\n",
       " 'Warsaw is a city in and the county seat of Kosciusko County, Indiana, United States.',\n",
       " 'The name was suggested by a riverboat captain, who was reading Thaddeus of Warsaw, by Jane Porter, when the city was being founded.',\n",
       " 'Warsaw is a city in Hancock County, Illinois, United States.',\n",
       " 'Warsaw is a city located in Benton County, Missouri, United States.',\n",
       " 'Warsaw is a town in and the county seat of Richmond County, Virginia, United States.',\n",
       " 'Warsaw is a town in Wyoming County, in the U.S. state of New York.It is located approximately 37 miles east southeast of Buffalo and 37 miles southwest of Rochester.',\n",
       " 'Amman is the capital of Jordan and the capital city of Jordan.',\n",
       " 'Jost Amman was born in Zürich, the son of a professor of Classics and Logic.',\n",
       " 'Mariaai devi Māri, also known as Mariamman, is the South Indian Hindu goddess of rain.',\n",
       " 'Johann Amman was a Swiss-Russian botanist.',\n",
       " 'Amman is a surname of German origin.',\n",
       " 'Amman building was listed on the U.S. National Register of Historic Places in 1987.',\n",
       " 'Belgrade is one of the oldest continuously inhabited cities in Europe and the World.',\n",
       " 'Belgrade is a city in Gallatin County, Montana, United States.',\n",
       " 'Belgrade is a city in Stearns County, Minnesota, United States.',\n",
       " 'Belgrade is a town in Kennebec County, Maine, United States.',\n",
       " 'Belgrade is a village in Nance County, Nebraska, United States.',\n",
       " 'It is located on Missouri Supplemental Route C, approximately six miles (10 km) west of Caledonia and ten miles (16 km) south of Potosi.',\n",
       " 'Lima is considered to be the political, cultural, financial and commercial center of the country.',\n",
       " 'L is the twelfth letter of the modern English alphabet.',\n",
       " 'Lima is a city in and the county seat of Allen County, Ohio, United States.',\n",
       " 'Lima/Central district of Peru Lima is a district of Lima Province in Peru.',\n",
       " 'Lima (surname) family name Adriana Lima (born 1981), Brazilian model.',\n",
       " \"Jorge Chávez International Airport (IATA: LIM, ICAO: SPJC, formerly SPIM), is Peru's main international and domestic airport.\",\n",
       " \"Jeddah is a city in the Hejaz region of Saudi Arabia and the country's commercial center.\",\n",
       " 'Jeddah was a British Thoroughbred racehorse and sire.',\n",
       " \"Jeddah Tower is planned to be the world's first 1 km (3,281 ft) high building.\",\n",
       " 'Jeddah Lighthouse lighthouse is located at the end of the outer pier on the north side of the entrance to Jeddah Seaport.',\n",
       " 'Jeddah Club is an association football club based in Jeddah, Saudi Arabia.',\n",
       " \"Jeddah is the second-largest city in Saudi Arabia (after the capital Riyadh), and is Saudi Arabia's commercial capital. Jeddah Islamic Port is located in the middle of an international shipping route between east and west.\",\n",
       " 'Chittagong is a major coastal city and financial centre in southeastern Bangladesh.',\n",
       " 'Chittagong is a 2012 Indian historical war drama film directed by Bedabrata Pain.',\n",
       " 'Chittagong thana of Bangladesh Halishahar Housing Estate is a large residential area in Chittagongs.',\n",
       " 'Chittagong Division is the largest of the eight administrative divisions of Bangladesh.',\n",
       " 'Chittagong District, officially known as Chattogram District, is a district located in the south-eastern region of Bangladesh.',\n",
       " 'University of Chittagong is a public research university with multidisciplinary faculties.',\n",
       " \"Odessa hosts both the Port of Odessa and Port Yuzhne, a significant oil terminal situated in the city's suburbs.\",\n",
       " 'Odessa is a city in and the county seat of Ector County, Texas, United States.',\n",
       " 'ODESSA secret society international Nazi network.',\n",
       " 'Odessa is a small town in New Castle County, Delaware, United States.',\n",
       " '2606 Odessa, provisional designation 1976 GX2, is a background asteroid from the central regions of the asteroid belt, approximately 16 kilometers (10 miles) in diameter.',\n",
       " 'Odessa is a city in Big Stone County, Minnesota, United States.',\n",
       " 'As of 2018, the city had a population of 1.47 million. The modern municipality of Kyoto was established in 1889. The city was spared from large-scale destruction during World War II.',\n",
       " '4352 Kyoto asteroid  4352 Kyoto asteroids are near the surface of the Earth.',\n",
       " 'Kyoto Prefecture is one of Japan\\'s two \"prefectures\" using the designation fu rather than the standard ken for prefectures.',\n",
       " 'Kyoto University is a national university in Kyoto, Japan.',\n",
       " 'Kyoto is the sixth studio album by American rapper Tyga.',\n",
       " '\"Kyoto\" is widely considered by critics and fans alike to be Yung Lean\\'s best song and one of the best cloud rap songs of all time.',\n",
       " 'Riyadh is the capital of Saudi Arabia and the largest city on the Arabian Peninsula.',\n",
       " 'The Riyadh Region is a region of Saudi Arabia, located in the geographic center of the country.',\n",
       " 'King Saud University (KSU) is a public university in Riyadh, Saudi Arabia.',\n",
       " \"Princess Nora bint Abdul Rahman University is the largest women's university in the world.\",\n",
       " 'The Riyadh Metro is a rapid transit system under construction in the city of Riyadh, the capital of Saudi Arabia.',\n",
       " 'The second Diriyah ePrix was held on 22 and 23 November 2019.',\n",
       " 'Adelaide is the capital city of the state of South Australia, and the fifth-most populous city of Australia.',\n",
       " 'Adelaide is the English form of a Germanic given name, from the Old High German Adalheidis, meaning \"noble natured\" The name Addie is a diminutive of Adelaide and Heidi is a nickname for Ad',\n",
       " 'The City of Adelaide is a local government area in the metropolitan area of greater Adelaide, South Australia. It includes the Adelaide city centre, North Adelaide, and the Adelaide Park Lands.',\n",
       " 'It was discovered 21 October 1908 by Joel Hastings Metcalf. It was rediscovered 3 October 1930 by Sylvain Arend as  1930 TA, it was named 1171 Rusthawelia.',\n",
       " 'The 22.8 km² state seat of Adelaide currently consists of the Adelaide city centre including North Adelaide and suburbs to the inner north and inner north east. Adelaide is a single-member electoral district for the South Australian House of Assembly.',\n",
       " \"The Division of Adelaide is an Australian electoral division in South Australia and is named for the city of Adelaide, South Australia's capital.\",\n",
       " 'Medellín is located in the Aburrá Valley, a central region of the Andes Mountains in South America.',\n",
       " '\"Medellín\" is a song by American singer Madonna and Colombian singer Maluma from Madonna\\'s fourteenth studio album Madame X (2019) It is a Latin pop track with elements of reggaeton and dance-pop.',\n",
       " 'Medellín-Inder UCI Continental Team Team Medellín is a ColombianUCI Continental cycling team founded in 2017.',\n",
       " 'Medellín is a village in the province of Badajoz, Extremadura, Spain, notable as both the birthplace of Hernán Cortés in 1485 and the site of the Battle of Medellín, during the',\n",
       " 'Medellín de Bravo, formerly known as Tecamachales, is a town in the state of Veracruz de Ignacio de la Llave, Mexico.',\n",
       " 'Medellín asteroid asteroid.',\n",
       " 'Ordos (Mongolian: , Ordos) is one of the twelve major subdivisions of Inner Mongolia, China.',\n",
       " 'The Ordos Desert is a desert/steppe region in Northwest China, administrated under the prefecture of Ordos City in the Inner Mongolian Autonomous Region.',\n",
       " 'The Ordos culture was a culture occupying a region centered on the Ordos Loop (modern Inner Mongolia, China) during the Bronze and early Iron Age from the 6th to 2nd centuries BCE.',\n",
       " \"Ordos Ejin Horo Airport (IATA: DSN, ICAO: ZBDS) is an airport serving Ordos City in China's Inner Mongolia Autonomous Region.\",\n",
       " 'The Ordos Plateau is a highland sedimentary basin in northwest China with an elevation of 1,000–1,600 m (3,300–5,200 ft) It consists mostly of land enclosed by the Ordos',\n",
       " \"Marc VDS Racing's Maxime Martin and Frederic Makowiecki secured their third qualifying race victory of the year.\",\n",
       " 'Damascus is the capital of Syria and one of the oldest continuously inhabited cities in the world. It is colloquially known in Syria as aš-Šām and titled the \"City of Jasmine\" It is',\n",
       " 'Damascus is a city in Early County, Georgia, United States.The population was 254 at the 2010 census.',\n",
       " 'Damascus is a town in Washington County, Virginia, United States.',\n",
       " 'In the early 20th century, there existed an incorporated municipality lasting a quarter century. Damascus is a census-designated place in Montgomery County, Maryland, United States.',\n",
       " 'The area that later became the city had a population of 9,022 in 2000.',\n",
       " 'Damascus is a city in Faulkner and Van Buren counties of central Arkansas, United States.',\n",
       " 'Ciudad Juárez was known as El Paso del Norte (The Pass of the North) until 1888.',\n",
       " 'Juárez is one of the 67 municipalities of Chihuahua, in northern Mexico.The municipality is named for 19th-century president Benito Juárez.',\n",
       " 'Juárez is a town and one of the 119 municipalities of Chiapas, in southern Mexico.',\n",
       " 'The surname Juárez is a Spanish surname.',\n",
       " 'Juárez Hidalgo is a town and one of the 84 municipalities in central-eastern Mexico.',\n",
       " 'Juárez is a station on both lines 1 and 2 of the Guadalajara light rail system.',\n",
       " 'Adults of some species are probably predators of other arthropods. Adult beetles have anti-predator secretions that are offensive to predators; they have been noted to repel bats.',\n",
       " 'Agra comune of Italy Agra is a town and comune located in the province of Varese, in the Lombardy region of northern Italy.',\n",
       " 'Agra is a city in Phillips County, Kansas, United States.',\n",
       " 'Maria de Fátima Agra is a Brazilian botanist and associate professor at the Universidade Federal da Paraíba (UFPB) She specializes in ethnobotany, pharmacognosy, and',\n",
       " 'Agra is a town in northern Lincoln County, Oklahoma, United States.',\n",
       " 'Agra Airport (also known as Pandit Deen Dayal Upadhyay Airport) (IATA: AGR, ICAO: VIAG) is a military airbase and public airport serving the city of Ag',\n",
       " \"Algeria's capital city, Algiers, has millions of inhabitants.\",\n",
       " 'Algiers Province is the most densely populated province of Algeria, and also the smallest by area.',\n",
       " 'Algiers is a 1938 American drama film directed by John Cromwell and starring Charles Boyer, Sigrid Gurie, and Hedy Lamarr.',\n",
       " 'The neighborhood is the second oldest in the city and is considered significant in the history of New Orleans.',\n",
       " 'Algiers is an American rock band from Atlanta, Georgia, United States, formed in 2012.',\n",
       " 'Algiers is the seventh studio album by indie rock americana band Calexico.',\n",
       " 'Nakayama Shō human Chinese physician, politician and revolutionary (1866-1925) Sun Yat-sen human   Sun Wen human  Sun Yi Xian human Chinese doctor, politician, revolutionary.',\n",
       " 'Zhongshan is a prefecture-level city in the south of the Pearl River Delta in Guangdong province, China, with a population of over 3 million.',\n",
       " 'Zhongshan District is an administrative district of Taipei City, named after Sun Yat-sen, better known in Chinese as \"Sun Zhong Shansan\" ZhongShan District district of Taiwan is named after',\n",
       " 'Cao Kun was a Chinese warlord and politician.',\n",
       " 'Yu Yue was a prominent scholar and official of Qing Dynasty China.',\n",
       " 'Chengguan, also known as Huangyuan and by other names, is a town on the Huangshui River in Qinghai, China.',\n",
       " 'Addis Ababa is the capital and largest city of Ethiopia.',\n",
       " 'Addis Ababa University (AAU) is the oldest school of higher education in Ethiopia.',\n",
       " 'Addis Ababa Bole International Airport (IATA: ADD, ICAO: HAAB) is an international airport in Ethiopia.',\n",
       " 'Addis Ababa Stadium is a multi-purpose stadium in Ethiopia.',\n",
       " 'In 2019 the railway transported 84 073 passengers and generated US$1.2 million in revenue from that service.',\n",
       " 'Addis Ababa Light Rail is a light rail transportation system in Ethiopia.',\n",
       " 'Aurangabad (pronunciation ) is a city in the Indian state of Maharashtra.',\n",
       " 'Aurangabad is a city in Aurangabad District, Bihar, India.',\n",
       " 'Aurangabad Airport (IATA: IXU, ICAO: VAAU), is a public airport located in Aurangabad, Maharashtra, India.',\n",
       " 'Aurangabad Lok Sabha constituency is one of the 40 Lok Sabha (parliamentary) constituencies in Bihar state in eastern India.',\n",
       " 'Aurangabad is a town in Suti II CD Block in Jangipur subdivision of  Murshidabad district in the Indian state of West Bengal.',\n",
       " 'Aurangabad is a nagar panchayat, a town that has rapidly transitioned from rural to urban.',\n",
       " 'Brisbane is the capital of and the most populated city in the Australian state of Queensland, and the third most populous city in Australia.',\n",
       " 'Brisbane (pron.',\n",
       " 'The Division of Brisbane is an Australian electoral division in the state of Queensland.',\n",
       " 'Brisbane asteroid  5277 Brisbane asteroid asteroid   \\xa05277 Brisbane asteroids.',\n",
       " 'Brisbane County was one of the original Nineteen Counties in New South Wales.',\n",
       " 'There are small craterlets along the rim, most notably along the western wall and the northeast inner wall. To the northwest lie the craters Vega and Reimarus, and farther to the east is the walled plain Lyot.']"
      ]
     },
     "execution_count": 27,
     "metadata": {},
     "output_type": "execute_result"
    }
   ],
   "source": [
    "final_summaries"
   ]
  },
  {
   "cell_type": "markdown",
   "metadata": {},
   "source": [
    "## Build a DataFrame out of summaries"
   ]
  },
  {
   "cell_type": "code",
   "execution_count": 29,
   "metadata": {
    "ExecuteTime": {
     "end_time": "2020-12-07T14:36:17.421137Z",
     "start_time": "2020-12-07T14:36:17.409333Z"
    }
   },
   "outputs": [
    {
     "data": {
      "text/html": [
       "<div>\n",
       "<style scoped>\n",
       "    .dataframe tbody tr th:only-of-type {\n",
       "        vertical-align: middle;\n",
       "    }\n",
       "\n",
       "    .dataframe tbody tr th {\n",
       "        vertical-align: top;\n",
       "    }\n",
       "\n",
       "    .dataframe thead th {\n",
       "        text-align: right;\n",
       "    }\n",
       "</style>\n",
       "<table border=\"1\" class=\"dataframe\">\n",
       "  <thead>\n",
       "    <tr style=\"text-align: right;\">\n",
       "      <th></th>\n",
       "      <th>entity</th>\n",
       "      <th>summary</th>\n",
       "    </tr>\n",
       "  </thead>\n",
       "  <tbody>\n",
       "    <tr>\n",
       "      <th>0</th>\n",
       "      <td>Q1754</td>\n",
       "      <td>Stockholm is the capital and most populous ur...</td>\n",
       "    </tr>\n",
       "    <tr>\n",
       "      <th>1</th>\n",
       "      <td>Q1787199</td>\n",
       "      <td>Stockholm is a town in Grant County, South Da...</td>\n",
       "    </tr>\n",
       "    <tr>\n",
       "      <th>2</th>\n",
       "      <td>Q976601</td>\n",
       "      <td>Stockholm is a village in Pepin County, Wisco...</td>\n",
       "    </tr>\n",
       "    <tr>\n",
       "      <th>3</th>\n",
       "      <td>Q1484620</td>\n",
       "      <td>Stockholm asteroid  10552 Stockholm asteroid ...</td>\n",
       "    </tr>\n",
       "    <tr>\n",
       "      <th>4</th>\n",
       "      <td>Q3447382</td>\n",
       "      <td>Stockholm is a town in Aroostook County, Main...</td>\n",
       "    </tr>\n",
       "  </tbody>\n",
       "</table>\n",
       "</div>"
      ],
      "text/plain": [
       "     entity                                            summary\n",
       "0     Q1754   Stockholm is the capital and most populous ur...\n",
       "1  Q1787199   Stockholm is a town in Grant County, South Da...\n",
       "2   Q976601   Stockholm is a village in Pepin County, Wisco...\n",
       "3  Q1484620   Stockholm asteroid  10552 Stockholm asteroid ...\n",
       "4  Q3447382   Stockholm is a town in Aroostook County, Main..."
      ]
     },
     "execution_count": 29,
     "metadata": {},
     "output_type": "execute_result"
    }
   ],
   "source": [
    "df = pd.DataFrame([(e, s) for e, s in zip(entities, final_summaries)], columns=['entity', 'summary'])\n",
    "df.head()"
   ]
  },
  {
   "cell_type": "markdown",
   "metadata": {},
   "source": [
    "## Save DataFrame to a file"
   ]
  },
  {
   "cell_type": "code",
   "execution_count": 30,
   "metadata": {
    "ExecuteTime": {
     "end_time": "2020-12-07T14:36:17.548244Z",
     "start_time": "2020-12-07T14:36:17.422457Z"
    }
   },
   "outputs": [],
   "source": [
    "filename = f'summary_baseline_wikidata_{version}.xlsx'\n",
    "filepath = os.path.join(root_dir, 'data/terms', filename)\n",
    "df.to_excel(filepath, index=False)"
   ]
  },
  {
   "cell_type": "markdown",
   "metadata": {},
   "source": [
    "---"
   ]
  }
 ],
 "metadata": {
  "kernelspec": {
   "display_name": "Python 3",
   "language": "python",
   "name": "python3"
  },
  "language_info": {
   "codemirror_mode": {
    "name": "ipython",
    "version": 3
   },
   "file_extension": ".py",
   "mimetype": "text/x-python",
   "name": "python",
   "nbconvert_exporter": "python",
   "pygments_lexer": "ipython3",
   "version": "3.8.1"
  },
  "toc": {
   "base_numbering": 1,
   "nav_menu": {},
   "number_sections": true,
   "sideBar": true,
   "skip_h1_title": false,
   "title_cell": "Table of Contents",
   "title_sidebar": "Contents",
   "toc_cell": false,
   "toc_position": {},
   "toc_section_display": true,
   "toc_window_display": false
  }
 },
 "nbformat": 4,
 "nbformat_minor": 4
}
