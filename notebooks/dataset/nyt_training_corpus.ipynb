{
 "cells": [
  {
   "cell_type": "markdown",
   "metadata": {},
   "source": [
    "# Build the dataset"
   ]
  },
  {
   "cell_type": "markdown",
   "metadata": {},
   "source": [
    "## Define filepaths"
   ]
  },
  {
   "cell_type": "code",
   "execution_count": 1,
   "metadata": {
    "ExecuteTime": {
     "end_time": "2020-12-31T15:58:14.141390Z",
     "start_time": "2020-12-31T15:58:14.138440Z"
    }
   },
   "outputs": [],
   "source": [
    "import os"
   ]
  },
  {
   "cell_type": "code",
   "execution_count": 2,
   "metadata": {
    "ExecuteTime": {
     "end_time": "2020-12-31T15:58:14.370929Z",
     "start_time": "2020-12-31T15:58:14.367478Z"
    }
   },
   "outputs": [],
   "source": [
    "root_dir = '../..'\n",
    "data_dir = 'data/corpus'\n",
    "src_dir = 'src'\n",
    "full_corpus_filename = 'reduced_single_annotated_corpus.json'\n",
    "full_corpus_filepath = os.path.join(root_dir, data_dir, full_corpus_filename)"
   ]
  },
  {
   "cell_type": "markdown",
   "metadata": {},
   "source": [
    "---"
   ]
  },
  {
   "cell_type": "markdown",
   "metadata": {},
   "source": [
    "## Load and parse the dataset into a DataFrame"
   ]
  },
  {
   "cell_type": "code",
   "execution_count": 3,
   "metadata": {
    "ExecuteTime": {
     "end_time": "2020-12-31T15:58:15.739908Z",
     "start_time": "2020-12-31T15:58:15.734132Z"
    }
   },
   "outputs": [],
   "source": [
    "import json"
   ]
  },
  {
   "cell_type": "code",
   "execution_count": 4,
   "metadata": {
    "ExecuteTime": {
     "end_time": "2020-12-31T15:58:16.204727Z",
     "start_time": "2020-12-31T15:58:16.073516Z"
    }
   },
   "outputs": [],
   "source": [
    "with open(full_corpus_filepath) as fd:\n",
    "    full_corpus = json.load(fd)"
   ]
  },
  {
   "cell_type": "code",
   "execution_count": 5,
   "metadata": {
    "ExecuteTime": {
     "end_time": "2020-12-31T15:58:16.724479Z",
     "start_time": "2020-12-31T15:58:16.404491Z"
    }
   },
   "outputs": [],
   "source": [
    "import pandas as pd"
   ]
  },
  {
   "cell_type": "code",
   "execution_count": 6,
   "metadata": {
    "ExecuteTime": {
     "end_time": "2020-12-31T15:58:16.865443Z",
     "start_time": "2020-12-31T15:58:16.785853Z"
    }
   },
   "outputs": [
    {
     "data": {
      "text/html": [
       "<div>\n",
       "<style scoped>\n",
       "    .dataframe tbody tr th:only-of-type {\n",
       "        vertical-align: middle;\n",
       "    }\n",
       "\n",
       "    .dataframe tbody tr th {\n",
       "        vertical-align: top;\n",
       "    }\n",
       "\n",
       "    .dataframe thead th {\n",
       "        text-align: right;\n",
       "    }\n",
       "</style>\n",
       "<table border=\"1\" class=\"dataframe\">\n",
       "  <thead>\n",
       "    <tr style=\"text-align: right;\">\n",
       "      <th></th>\n",
       "      <th>text</th>\n",
       "      <th>tokens</th>\n",
       "      <th>annotations</th>\n",
       "    </tr>\n",
       "  </thead>\n",
       "  <tbody>\n",
       "    <tr>\n",
       "      <th>0</th>\n",
       "      <td>vice presidency; gov. roosevelt's nomination n...</td>\n",
       "      <td>[vice, presidency, gov, roosevelt, nomination,...</td>\n",
       "      <td>[Q1124, Q207, Q23505]</td>\n",
       "    </tr>\n",
       "    <tr>\n",
       "      <th>1</th>\n",
       "      <td>clubs; \"civic army\" formation address issued i...</td>\n",
       "      <td>[clubs, civic, army, formation, address, issue...</td>\n",
       "      <td>[Q29468]</td>\n",
       "    </tr>\n",
       "    <tr>\n",
       "      <th>2</th>\n",
       "      <td>corruption fund; senator mccarren and w. j. st...</td>\n",
       "      <td>[corruption, fund, senator, mccarren, w., j., ...</td>\n",
       "      <td>[Q1124]</td>\n",
       "    </tr>\n",
       "    <tr>\n",
       "      <th>3</th>\n",
       "      <td>bearing of the campaign in newark on the gover...</td>\n",
       "      <td>[bearing, campaign, newark, governorship, elec...</td>\n",
       "      <td>[Q60, Q1384, Q1408]</td>\n",
       "    </tr>\n",
       "    <tr>\n",
       "      <th>4</th>\n",
       "      <td>parade.danforth for vice president.</td>\n",
       "      <td>[parade, danforth, vice, president]</td>\n",
       "      <td>[Q1124, Q23505]</td>\n",
       "    </tr>\n",
       "  </tbody>\n",
       "</table>\n",
       "</div>"
      ],
      "text/plain": [
       "                                                text  \\\n",
       "0  vice presidency; gov. roosevelt's nomination n...   \n",
       "1  clubs; \"civic army\" formation address issued i...   \n",
       "2  corruption fund; senator mccarren and w. j. st...   \n",
       "3  bearing of the campaign in newark on the gover...   \n",
       "4                parade.danforth for vice president.   \n",
       "\n",
       "                                              tokens            annotations  \n",
       "0  [vice, presidency, gov, roosevelt, nomination,...  [Q1124, Q207, Q23505]  \n",
       "1  [clubs, civic, army, formation, address, issue...               [Q29468]  \n",
       "2  [corruption, fund, senator, mccarren, w., j., ...                [Q1124]  \n",
       "3  [bearing, campaign, newark, governorship, elec...    [Q60, Q1384, Q1408]  \n",
       "4                [parade, danforth, vice, president]        [Q1124, Q23505]  "
      ]
     },
     "execution_count": 6,
     "metadata": {},
     "output_type": "execute_result"
    }
   ],
   "source": [
    "full_corpus_df = pd.DataFrame({'doc_id': full_corpus['docs'],\n",
    "                               'text': full_corpus['texts'],\n",
    "                               'tokens': full_corpus['tokens']})\n",
    "full_corpus_df['annotations'] = full_corpus_df['doc_id'].map(lambda x: full_corpus['annotations'][str(x)])\n",
    "full_corpus_df = full_corpus_df.drop(columns='doc_id')\n",
    "full_corpus_df.head()"
   ]
  },
  {
   "cell_type": "markdown",
   "metadata": {},
   "source": [
    "### Filter out texts with two or more annotations"
   ]
  },
  {
   "cell_type": "code",
   "execution_count": 7,
   "metadata": {
    "ExecuteTime": {
     "end_time": "2020-12-31T15:58:17.810180Z",
     "start_time": "2020-12-31T15:58:17.755865Z"
    }
   },
   "outputs": [
    {
     "data": {
      "text/html": [
       "<div>\n",
       "<style scoped>\n",
       "    .dataframe tbody tr th:only-of-type {\n",
       "        vertical-align: middle;\n",
       "    }\n",
       "\n",
       "    .dataframe tbody tr th {\n",
       "        vertical-align: top;\n",
       "    }\n",
       "\n",
       "    .dataframe thead th {\n",
       "        text-align: right;\n",
       "    }\n",
       "</style>\n",
       "<table border=\"1\" class=\"dataframe\">\n",
       "  <thead>\n",
       "    <tr style=\"text-align: right;\">\n",
       "      <th></th>\n",
       "      <th>text</th>\n",
       "      <th>tokens</th>\n",
       "      <th>annotation</th>\n",
       "    </tr>\n",
       "  </thead>\n",
       "  <tbody>\n",
       "    <tr>\n",
       "      <th>1</th>\n",
       "      <td>clubs; \"civic army\" formation address issued i...</td>\n",
       "      <td>[clubs, civic, army, formation, address, issue...</td>\n",
       "      <td>Q29468</td>\n",
       "    </tr>\n",
       "    <tr>\n",
       "      <th>2</th>\n",
       "      <td>corruption fund; senator mccarren and w. j. st...</td>\n",
       "      <td>[corruption, fund, senator, mccarren, w., j., ...</td>\n",
       "      <td>Q1124</td>\n",
       "    </tr>\n",
       "    <tr>\n",
       "      <th>6</th>\n",
       "      <td>summary of campaigns.eleven republican nationa...</td>\n",
       "      <td>[summary, campaigns, eleven, republican, natio...</td>\n",
       "      <td>Q29468</td>\n",
       "    </tr>\n",
       "    <tr>\n",
       "      <th>7</th>\n",
       "      <td>hendricks, ex-senator francis; gov. roosevelt ...</td>\n",
       "      <td>[hendricks, ex-senator, francis, gov, roosevel...</td>\n",
       "      <td>Q23505</td>\n",
       "    </tr>\n",
       "    <tr>\n",
       "      <th>8</th>\n",
       "      <td>recorder goff's charge that law forbids the re...</td>\n",
       "      <td>[recorder, goff, charge, law, forbids, retenti...</td>\n",
       "      <td>Q11201</td>\n",
       "    </tr>\n",
       "  </tbody>\n",
       "</table>\n",
       "</div>"
      ],
      "text/plain": [
       "                                                text  \\\n",
       "1  clubs; \"civic army\" formation address issued i...   \n",
       "2  corruption fund; senator mccarren and w. j. st...   \n",
       "6  summary of campaigns.eleven republican nationa...   \n",
       "7  hendricks, ex-senator francis; gov. roosevelt ...   \n",
       "8  recorder goff's charge that law forbids the re...   \n",
       "\n",
       "                                              tokens annotation  \n",
       "1  [clubs, civic, army, formation, address, issue...     Q29468  \n",
       "2  [corruption, fund, senator, mccarren, w., j., ...      Q1124  \n",
       "6  [summary, campaigns, eleven, republican, natio...     Q29468  \n",
       "7  [hendricks, ex-senator, francis, gov, roosevel...     Q23505  \n",
       "8  [recorder, goff, charge, law, forbids, retenti...     Q11201  "
      ]
     },
     "execution_count": 7,
     "metadata": {},
     "output_type": "execute_result"
    }
   ],
   "source": [
    "full_corpus_df = full_corpus_df.loc[full_corpus_df['annotations'].map(len) == 1].copy()\n",
    "full_corpus_df['annotation'] = full_corpus_df['annotations'].map(lambda x: x[0])\n",
    "full_corpus_df = full_corpus_df.drop(columns='annotations')\n",
    "full_corpus_df.head()"
   ]
  },
  {
   "cell_type": "code",
   "execution_count": 8,
   "metadata": {
    "ExecuteTime": {
     "end_time": "2020-12-31T15:58:18.591793Z",
     "start_time": "2020-12-31T15:58:18.583670Z"
    }
   },
   "outputs": [
    {
     "data": {
      "text/plain": [
       "(7160, 3)"
      ]
     },
     "execution_count": 8,
     "metadata": {},
     "output_type": "execute_result"
    }
   ],
   "source": [
    "full_corpus_df.shape"
   ]
  },
  {
   "cell_type": "markdown",
   "metadata": {},
   "source": [
    "### Group by annotation and sample data"
   ]
  },
  {
   "cell_type": "code",
   "execution_count": 9,
   "metadata": {
    "ExecuteTime": {
     "end_time": "2020-12-31T15:58:19.462206Z",
     "start_time": "2020-12-31T15:58:19.458589Z"
    }
   },
   "outputs": [],
   "source": [
    "sample_size = 300\n",
    "random_state = 3"
   ]
  },
  {
   "cell_type": "code",
   "execution_count": 10,
   "metadata": {
    "ExecuteTime": {
     "end_time": "2020-12-31T15:58:19.765834Z",
     "start_time": "2020-12-31T15:58:19.725495Z"
    }
   },
   "outputs": [],
   "source": [
    "grouped_full_corpus_df = full_corpus_df.groupby('annotation')\n",
    "sampled_data_list = []\n",
    "\n",
    "for group_name, group_df in grouped_full_corpus_df:\n",
    "    group_size = group_df.shape[0]\n",
    "    sampled_rows = group_df.sample(n=min(group_size, sample_size), random_state=random_state)\n",
    "    sampled_data_list.append(sampled_rows)"
   ]
  },
  {
   "cell_type": "code",
   "execution_count": 11,
   "metadata": {
    "ExecuteTime": {
     "end_time": "2020-12-31T15:58:20.069650Z",
     "start_time": "2020-12-31T15:58:20.056182Z"
    }
   },
   "outputs": [
    {
     "data": {
      "text/plain": [
       "(3755, 3)"
      ]
     },
     "execution_count": 11,
     "metadata": {},
     "output_type": "execute_result"
    }
   ],
   "source": [
    "sampled_df = pd.concat(sampled_data_list, axis=0)\n",
    "sampled_df.shape"
   ]
  },
  {
   "cell_type": "markdown",
   "metadata": {},
   "source": [
    "### Find out each group size "
   ]
  },
  {
   "cell_type": "code",
   "execution_count": 12,
   "metadata": {
    "ExecuteTime": {
     "end_time": "2020-12-31T15:58:20.714192Z",
     "start_time": "2020-12-31T15:58:20.702018Z"
    }
   },
   "outputs": [
    {
     "data": {
      "text/plain": [
       "annotation\n",
       "Q744448     300\n",
       "Q66096      300\n",
       "Q11211      300\n",
       "Q1124       300\n",
       "Q1384       300\n",
       "Q148        300\n",
       "Q11201      300\n",
       "Q29468      300\n",
       "Q330963     300\n",
       "Q23505      281\n",
       "Q60         200\n",
       "Q3480437    163\n",
       "Q11268      149\n",
       "Q29552      138\n",
       "Q1408        86\n",
       "Q181648      28\n",
       "Q207         10\n",
       "dtype: int64"
      ]
     },
     "execution_count": 12,
     "metadata": {},
     "output_type": "execute_result"
    }
   ],
   "source": [
    "grouped_sampled_df = sampled_df.groupby('annotation')\n",
    "grouped_sampled_df.size().sort_values(ascending=False)"
   ]
  },
  {
   "cell_type": "markdown",
   "metadata": {},
   "source": [
    "### Take the top N groups by size"
   ]
  },
  {
   "cell_type": "code",
   "execution_count": 13,
   "metadata": {
    "ExecuteTime": {
     "end_time": "2020-12-31T15:58:21.781146Z",
     "start_time": "2020-12-31T15:58:21.776179Z"
    }
   },
   "outputs": [
    {
     "data": {
      "text/plain": [
       "array(['Q744448', 'Q66096', 'Q11211', 'Q1124', 'Q1384', 'Q148', 'Q11201',\n",
       "       'Q29468', 'Q330963', 'Q23505'], dtype=object)"
      ]
     },
     "execution_count": 13,
     "metadata": {},
     "output_type": "execute_result"
    }
   ],
   "source": [
    "top_n = 10\n",
    "top_n_labels = grouped_sampled_df.size().sort_values(ascending=False).index.values[:10]\n",
    "top_n_labels"
   ]
  },
  {
   "cell_type": "markdown",
   "metadata": {
    "ExecuteTime": {
     "end_time": "2020-12-31T14:39:15.401539Z",
     "start_time": "2020-12-31T14:39:15.393253Z"
    }
   },
   "source": [
    "### Filter in documents within the top N labels"
   ]
  },
  {
   "cell_type": "code",
   "execution_count": 14,
   "metadata": {
    "ExecuteTime": {
     "end_time": "2020-12-31T15:58:22.765139Z",
     "start_time": "2020-12-31T15:58:22.742241Z"
    }
   },
   "outputs": [
    {
     "data": {
      "text/html": [
       "<div>\n",
       "<style scoped>\n",
       "    .dataframe tbody tr th:only-of-type {\n",
       "        vertical-align: middle;\n",
       "    }\n",
       "\n",
       "    .dataframe tbody tr th {\n",
       "        vertical-align: top;\n",
       "    }\n",
       "\n",
       "    .dataframe thead th {\n",
       "        text-align: right;\n",
       "    }\n",
       "</style>\n",
       "<table border=\"1\" class=\"dataframe\">\n",
       "  <thead>\n",
       "    <tr style=\"text-align: right;\">\n",
       "      <th></th>\n",
       "      <th>text</th>\n",
       "      <th>tokens</th>\n",
       "      <th>annotation</th>\n",
       "    </tr>\n",
       "  </thead>\n",
       "  <tbody>\n",
       "    <tr>\n",
       "      <th>0</th>\n",
       "      <td>panel of new york state judges hear arguments ...</td>\n",
       "      <td>[panel, new, york, state, judges, hear, argume...</td>\n",
       "      <td>Q11201</td>\n",
       "    </tr>\n",
       "    <tr>\n",
       "      <th>1</th>\n",
       "      <td>prof stephen gillers op-ed article says florid...</td>\n",
       "      <td>[prof, stephen, gillers, op-ed, article, says,...</td>\n",
       "      <td>Q11201</td>\n",
       "    </tr>\n",
       "    <tr>\n",
       "      <th>2</th>\n",
       "      <td>s seabury will start sup ct action to bring ha...</td>\n",
       "      <td>[seabury, start, sup, ct, action, bring, hasti...</td>\n",
       "      <td>Q11201</td>\n",
       "    </tr>\n",
       "    <tr>\n",
       "      <th>3</th>\n",
       "      <td>3-judge fed panel rules that nys election law ...</td>\n",
       "      <td>[3-judge, fed, panel, rules, nys, election, la...</td>\n",
       "      <td>Q11201</td>\n",
       "    </tr>\n",
       "    <tr>\n",
       "      <th>4</th>\n",
       "      <td>federal appeals court judges who ruled that ca...</td>\n",
       "      <td>[federal, appeals, court, judges, ruled, calif...</td>\n",
       "      <td>Q11201</td>\n",
       "    </tr>\n",
       "  </tbody>\n",
       "</table>\n",
       "</div>"
      ],
      "text/plain": [
       "                                                text  \\\n",
       "0  panel of new york state judges hear arguments ...   \n",
       "1  prof stephen gillers op-ed article says florid...   \n",
       "2  s seabury will start sup ct action to bring ha...   \n",
       "3  3-judge fed panel rules that nys election law ...   \n",
       "4  federal appeals court judges who ruled that ca...   \n",
       "\n",
       "                                              tokens annotation  \n",
       "0  [panel, new, york, state, judges, hear, argume...     Q11201  \n",
       "1  [prof, stephen, gillers, op-ed, article, says,...     Q11201  \n",
       "2  [seabury, start, sup, ct, action, bring, hasti...     Q11201  \n",
       "3  [3-judge, fed, panel, rules, nys, election, la...     Q11201  \n",
       "4  [federal, appeals, court, judges, ruled, calif...     Q11201  "
      ]
     },
     "execution_count": 14,
     "metadata": {},
     "output_type": "execute_result"
    }
   ],
   "source": [
    "sampled_corpus_df = sampled_df.loc[sampled_df['annotation'].isin(top_n_labels)].copy()\n",
    "sampled_corpus_df = sampled_corpus_df.reset_index(drop=True)\n",
    "sampled_corpus_df.head()"
   ]
  },
  {
   "cell_type": "code",
   "execution_count": 15,
   "metadata": {
    "ExecuteTime": {
     "end_time": "2020-12-31T15:58:24.300743Z",
     "start_time": "2020-12-31T15:58:24.295537Z"
    }
   },
   "outputs": [
    {
     "data": {
      "text/plain": [
       "(2981, 3)"
      ]
     },
     "execution_count": 15,
     "metadata": {},
     "output_type": "execute_result"
    }
   ],
   "source": [
    "sampled_corpus_df.shape"
   ]
  },
  {
   "cell_type": "markdown",
   "metadata": {},
   "source": [
    "## Convert the data to the `TrainingCorpus` format"
   ]
  },
  {
   "cell_type": "code",
   "execution_count": 16,
   "metadata": {
    "ExecuteTime": {
     "end_time": "2020-12-31T15:58:25.007165Z",
     "start_time": "2020-12-31T15:58:25.003319Z"
    }
   },
   "outputs": [],
   "source": [
    "data_dict = {}"
   ]
  },
  {
   "cell_type": "markdown",
   "metadata": {},
   "source": [
    "### Define the `docs` field"
   ]
  },
  {
   "cell_type": "code",
   "execution_count": 17,
   "metadata": {
    "ExecuteTime": {
     "end_time": "2020-12-31T15:58:25.834551Z",
     "start_time": "2020-12-31T15:58:25.830473Z"
    }
   },
   "outputs": [],
   "source": [
    "data_dict['docs'] = sampled_corpus_df.index.tolist()"
   ]
  },
  {
   "cell_type": "markdown",
   "metadata": {},
   "source": [
    "### Define the `texts` field"
   ]
  },
  {
   "cell_type": "code",
   "execution_count": 18,
   "metadata": {
    "ExecuteTime": {
     "end_time": "2020-12-31T15:58:27.460618Z",
     "start_time": "2020-12-31T15:58:27.455796Z"
    }
   },
   "outputs": [],
   "source": [
    "data_dict['texts'] = sampled_corpus_df['text'].tolist()"
   ]
  },
  {
   "cell_type": "markdown",
   "metadata": {},
   "source": [
    "### Define the `tokens` field"
   ]
  },
  {
   "cell_type": "code",
   "execution_count": 19,
   "metadata": {
    "ExecuteTime": {
     "end_time": "2020-12-31T15:58:28.003179Z",
     "start_time": "2020-12-31T15:58:27.999072Z"
    }
   },
   "outputs": [],
   "source": [
    "data_dict['tokens'] = sampled_corpus_df['tokens'].tolist()"
   ]
  },
  {
   "cell_type": "markdown",
   "metadata": {
    "ExecuteTime": {
     "end_time": "2020-09-21T15:43:58.834548Z",
     "start_time": "2020-09-21T15:43:58.661651Z"
    }
   },
   "source": [
    "### Define the `labels` field"
   ]
  },
  {
   "cell_type": "code",
   "execution_count": 20,
   "metadata": {
    "ExecuteTime": {
     "end_time": "2020-12-31T15:58:28.810326Z",
     "start_time": "2020-12-31T15:58:28.806503Z"
    }
   },
   "outputs": [],
   "source": [
    "data_dict['labels'] = sorted(top_n_labels.tolist())"
   ]
  },
  {
   "cell_type": "markdown",
   "metadata": {
    "ExecuteTime": {
     "end_time": "2020-09-21T15:46:39.827848Z",
     "start_time": "2020-09-21T15:46:39.820220Z"
    }
   },
   "source": [
    "### Define the `target` field"
   ]
  },
  {
   "cell_type": "code",
   "execution_count": 21,
   "metadata": {
    "ExecuteTime": {
     "end_time": "2020-12-31T15:58:29.881554Z",
     "start_time": "2020-12-31T15:58:29.871311Z"
    }
   },
   "outputs": [],
   "source": [
    "data_dict['target'] = sampled_corpus_df['annotation'].map(lambda x: [x]).to_dict()"
   ]
  },
  {
   "cell_type": "markdown",
   "metadata": {},
   "source": [
    "---"
   ]
  },
  {
   "cell_type": "markdown",
   "metadata": {},
   "source": [
    "## Save to JSON file"
   ]
  },
  {
   "cell_type": "code",
   "execution_count": 22,
   "metadata": {
    "ExecuteTime": {
     "end_time": "2020-12-31T15:58:38.599722Z",
     "start_time": "2020-12-31T15:58:38.596031Z"
    }
   },
   "outputs": [],
   "source": [
    "dataset_filename = 'nyt_corpus.json'\n",
    "dataset_filepath = os.path.join(root_dir, data_dir, dataset_filename)"
   ]
  },
  {
   "cell_type": "code",
   "execution_count": 23,
   "metadata": {
    "ExecuteTime": {
     "end_time": "2020-12-31T15:58:39.239635Z",
     "start_time": "2020-12-31T15:58:39.105344Z"
    }
   },
   "outputs": [],
   "source": [
    "with open(dataset_filepath, 'w') as fd:\n",
    "    json.dump(data_dict, fd)"
   ]
  },
  {
   "cell_type": "markdown",
   "metadata": {},
   "source": [
    "---"
   ]
  },
  {
   "cell_type": "markdown",
   "metadata": {},
   "source": [
    "## Open the dataset as an instance of the `TrainingCorpus` class"
   ]
  },
  {
   "cell_type": "code",
   "execution_count": 24,
   "metadata": {
    "ExecuteTime": {
     "end_time": "2020-12-31T15:58:40.543605Z",
     "start_time": "2020-12-31T15:58:40.540164Z"
    }
   },
   "outputs": [],
   "source": [
    "import sys\n",
    "sys.path.append(os.path.join(root_dir, src_dir))"
   ]
  },
  {
   "cell_type": "code",
   "execution_count": 25,
   "metadata": {
    "ExecuteTime": {
     "end_time": "2020-12-31T15:58:42.005163Z",
     "start_time": "2020-12-31T15:58:40.850942Z"
    }
   },
   "outputs": [],
   "source": [
    "from training import TrainingCorpus"
   ]
  },
  {
   "cell_type": "code",
   "execution_count": 26,
   "metadata": {
    "ExecuteTime": {
     "end_time": "2020-12-31T15:58:42.048483Z",
     "start_time": "2020-12-31T15:58:42.006783Z"
    }
   },
   "outputs": [],
   "source": [
    "corpus = TrainingCorpus()\n",
    "corpus.load(dataset_filepath)"
   ]
  },
  {
   "cell_type": "code",
   "execution_count": 27,
   "metadata": {
    "ExecuteTime": {
     "end_time": "2020-12-31T15:58:42.538832Z",
     "start_time": "2020-12-31T15:58:42.534581Z"
    }
   },
   "outputs": [
    {
     "data": {
      "text/plain": [
       "\"panel of new york state judges hear arguments about whether former sen guy j velella of bronx should be returned to prison, from which he was released by mayoral panel after serving three months of one-year sentence for conspiring to accept bribes; photo (m).appeals court weighs velella's return to jail\""
      ]
     },
     "execution_count": 27,
     "metadata": {},
     "output_type": "execute_result"
    }
   ],
   "source": [
    "corpus.get_text(0)"
   ]
  },
  {
   "cell_type": "code",
   "execution_count": 28,
   "metadata": {
    "ExecuteTime": {
     "end_time": "2020-12-31T15:58:43.802427Z",
     "start_time": "2020-12-31T15:58:43.796394Z"
    }
   },
   "outputs": [
    {
     "data": {
      "text/plain": [
       "['panel',\n",
       " 'new',\n",
       " 'york',\n",
       " 'state',\n",
       " 'judges',\n",
       " 'hear',\n",
       " 'arguments',\n",
       " 'whether',\n",
       " 'former',\n",
       " 'sen',\n",
       " 'guy',\n",
       " 'j',\n",
       " 'velella',\n",
       " 'bronx',\n",
       " 'returned',\n",
       " 'prison',\n",
       " 'released',\n",
       " 'mayoral',\n",
       " 'panel',\n",
       " 'serving',\n",
       " 'three',\n",
       " 'months',\n",
       " 'one-year',\n",
       " 'sentence',\n",
       " 'conspiring',\n",
       " 'accept',\n",
       " 'bribes',\n",
       " 'photo',\n",
       " 'appeals',\n",
       " 'court',\n",
       " 'weighs',\n",
       " 'velella',\n",
       " 'return',\n",
       " 'jail']"
      ]
     },
     "execution_count": 28,
     "metadata": {},
     "output_type": "execute_result"
    }
   ],
   "source": [
    "corpus.get_tokens(0)"
   ]
  },
  {
   "cell_type": "markdown",
   "metadata": {},
   "source": [
    "---"
   ]
  },
  {
   "cell_type": "markdown",
   "metadata": {},
   "source": [
    "## Compute noun chunks"
   ]
  },
  {
   "cell_type": "code",
   "execution_count": 29,
   "metadata": {
    "ExecuteTime": {
     "end_time": "2020-12-31T15:59:57.324329Z",
     "start_time": "2020-12-31T15:59:57.320922Z"
    }
   },
   "outputs": [],
   "source": [
    "chunks_filename = 'nyt_chunks.json'\n",
    "chunks_filepath = os.path.join(root_dir, data_dir, chunks_filename)"
   ]
  },
  {
   "cell_type": "code",
   "execution_count": 30,
   "metadata": {
    "ExecuteTime": {
     "end_time": "2020-12-31T15:59:58.084154Z",
     "start_time": "2020-12-31T15:59:58.080370Z"
    }
   },
   "outputs": [
    {
     "data": {
      "text/plain": [
       "'../../data/corpus/nyt_chunks.json'"
      ]
     },
     "execution_count": 30,
     "metadata": {},
     "output_type": "execute_result"
    }
   ],
   "source": [
    "chunks_filepath"
   ]
  },
  {
   "cell_type": "code",
   "execution_count": 31,
   "metadata": {
    "ExecuteTime": {
     "end_time": "2020-12-31T16:01:05.673088Z",
     "start_time": "2020-12-31T16:00:02.074739Z"
    }
   },
   "outputs": [
    {
     "name": "stderr",
     "output_type": "stream",
     "text": [
      "100%|██████████| 2981/2981 [01:02<00:00, 47.70it/s]\n"
     ]
    }
   ],
   "source": [
    "corpus.detect_chunks()"
   ]
  },
  {
   "cell_type": "code",
   "execution_count": 32,
   "metadata": {
    "ExecuteTime": {
     "end_time": "2020-12-31T16:01:18.433626Z",
     "start_time": "2020-12-31T16:01:18.322535Z"
    }
   },
   "outputs": [],
   "source": [
    "corpus.save_chunks(chunks_filepath)"
   ]
  },
  {
   "cell_type": "markdown",
   "metadata": {},
   "source": [
    "---"
   ]
  },
  {
   "cell_type": "markdown",
   "metadata": {},
   "source": [
    "## Load chunks"
   ]
  },
  {
   "cell_type": "code",
   "execution_count": 33,
   "metadata": {
    "ExecuteTime": {
     "end_time": "2020-12-31T16:01:20.244354Z",
     "start_time": "2020-12-31T16:01:20.201893Z"
    }
   },
   "outputs": [],
   "source": [
    "corpus.load_chunks(chunks_filepath)"
   ]
  },
  {
   "cell_type": "code",
   "execution_count": 34,
   "metadata": {
    "ExecuteTime": {
     "end_time": "2020-12-31T16:01:21.153558Z",
     "start_time": "2020-12-31T16:01:21.139562Z"
    }
   },
   "outputs": [
    {
     "data": {
      "text/plain": [
       "[('panel', 14), ('new_york_state_judges', 1), ('arguments', 11)]"
      ]
     },
     "execution_count": 34,
     "metadata": {},
     "output_type": "execute_result"
    }
   ],
   "source": [
    "list(corpus.noun_chunks.items())[:3]"
   ]
  },
  {
   "cell_type": "code",
   "execution_count": 35,
   "metadata": {
    "ExecuteTime": {
     "end_time": "2020-12-31T16:01:23.153043Z",
     "start_time": "2020-12-31T16:01:23.147417Z"
    }
   },
   "outputs": [
    {
     "data": {
      "text/plain": [
       "['panel',\n",
       " 'new_york_state_judges',\n",
       " 'hear',\n",
       " 'arguments',\n",
       " 'whether',\n",
       " 'former_sen_guy_j_velella',\n",
       " 'bronx',\n",
       " 'returned',\n",
       " 'prison',\n",
       " 'released',\n",
       " 'mayoral_panel',\n",
       " 'serving',\n",
       " 'three_months',\n",
       " 'one-year_sentence',\n",
       " 'conspiring',\n",
       " 'accept',\n",
       " 'bribes',\n",
       " 'photo',\n",
       " 'appeals_court',\n",
       " 'weighs',\n",
       " 'velella_return',\n",
       " 'jail']"
      ]
     },
     "execution_count": 35,
     "metadata": {},
     "output_type": "execute_result"
    }
   ],
   "source": [
    "corpus.get_chunk_document(0, threshold=0)"
   ]
  },
  {
   "cell_type": "code",
   "execution_count": 36,
   "metadata": {
    "ExecuteTime": {
     "end_time": "2020-12-31T16:01:25.381378Z",
     "start_time": "2020-12-31T16:01:25.375842Z"
    }
   },
   "outputs": [
    {
     "data": {
      "text/plain": [
       "\"panel of new york state judges hear arguments about whether former sen guy j velella of bronx should be returned to prison, from which he was released by mayoral panel after serving three months of one-year sentence for conspiring to accept bribes; photo (m).appeals court weighs velella's return to jail\""
      ]
     },
     "execution_count": 36,
     "metadata": {},
     "output_type": "execute_result"
    }
   ],
   "source": [
    "corpus.get_text(0)"
   ]
  },
  {
   "cell_type": "code",
   "execution_count": 37,
   "metadata": {
    "ExecuteTime": {
     "end_time": "2020-12-31T16:01:27.417128Z",
     "start_time": "2020-12-31T16:01:27.411789Z"
    }
   },
   "outputs": [
    {
     "data": {
      "text/plain": [
       "['panel',\n",
       " 'new',\n",
       " 'york',\n",
       " 'state',\n",
       " 'judges',\n",
       " 'hear',\n",
       " 'arguments',\n",
       " 'whether',\n",
       " 'former',\n",
       " 'sen',\n",
       " 'guy',\n",
       " 'j',\n",
       " 'velella',\n",
       " 'bronx',\n",
       " 'returned',\n",
       " 'prison',\n",
       " 'released',\n",
       " 'mayoral',\n",
       " 'panel',\n",
       " 'serving',\n",
       " 'three',\n",
       " 'months',\n",
       " 'one-year',\n",
       " 'sentence',\n",
       " 'conspiring',\n",
       " 'accept',\n",
       " 'bribes',\n",
       " 'photo',\n",
       " 'appeals',\n",
       " 'court',\n",
       " 'weighs',\n",
       " 'velella',\n",
       " 'return',\n",
       " 'jail']"
      ]
     },
     "execution_count": 37,
     "metadata": {},
     "output_type": "execute_result"
    }
   ],
   "source": [
    "corpus.get_tokens(0)"
   ]
  },
  {
   "cell_type": "markdown",
   "metadata": {},
   "source": [
    "---"
   ]
  }
 ],
 "metadata": {
  "kernelspec": {
   "display_name": "Python 3",
   "language": "python",
   "name": "python3"
  },
  "language_info": {
   "codemirror_mode": {
    "name": "ipython",
    "version": 3
   },
   "file_extension": ".py",
   "mimetype": "text/x-python",
   "name": "python",
   "nbconvert_exporter": "python",
   "pygments_lexer": "ipython3",
   "version": "3.8.1"
  },
  "toc": {
   "base_numbering": 1,
   "nav_menu": {},
   "number_sections": true,
   "sideBar": true,
   "skip_h1_title": false,
   "title_cell": "Table of Contents",
   "title_sidebar": "Contents",
   "toc_cell": false,
   "toc_position": {},
   "toc_section_display": true,
   "toc_window_display": false
  }
 },
 "nbformat": 4,
 "nbformat_minor": 2
}
