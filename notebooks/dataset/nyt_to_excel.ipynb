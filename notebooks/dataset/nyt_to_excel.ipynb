{
 "cells": [
  {
   "cell_type": "markdown",
   "metadata": {},
   "source": [
    "# Write dataset to excel"
   ]
  },
  {
   "cell_type": "markdown",
   "metadata": {},
   "source": [
    "## Load the data"
   ]
  },
  {
   "cell_type": "code",
   "execution_count": 1,
   "metadata": {
    "ExecuteTime": {
     "end_time": "2021-01-04T10:54:42.213254Z",
     "start_time": "2021-01-04T10:54:42.207462Z"
    }
   },
   "outputs": [],
   "source": [
    "root_dir = '../..'\n",
    "src_dir = 'src'\n",
    "data_dir = 'data/corpus'"
   ]
  },
  {
   "cell_type": "code",
   "execution_count": 2,
   "metadata": {
    "ExecuteTime": {
     "end_time": "2021-01-04T10:54:42.465501Z",
     "start_time": "2021-01-04T10:54:42.459625Z"
    }
   },
   "outputs": [],
   "source": [
    "import os\n",
    "import sys"
   ]
  },
  {
   "cell_type": "code",
   "execution_count": 3,
   "metadata": {
    "ExecuteTime": {
     "end_time": "2021-01-04T10:54:42.790590Z",
     "start_time": "2021-01-04T10:54:42.783591Z"
    }
   },
   "outputs": [],
   "source": [
    "sys.path.append(os.path.join(root_dir, src_dir))"
   ]
  },
  {
   "cell_type": "code",
   "execution_count": 4,
   "metadata": {
    "ExecuteTime": {
     "end_time": "2021-01-04T10:54:44.641743Z",
     "start_time": "2021-01-04T10:54:43.057719Z"
    }
   },
   "outputs": [],
   "source": [
    "from training import TrainingCorpus"
   ]
  },
  {
   "cell_type": "code",
   "execution_count": 5,
   "metadata": {
    "ExecuteTime": {
     "end_time": "2021-01-04T10:54:44.655465Z",
     "start_time": "2021-01-04T10:54:44.650143Z"
    }
   },
   "outputs": [],
   "source": [
    "dataset_name = 'nyt'"
   ]
  },
  {
   "cell_type": "code",
   "execution_count": 6,
   "metadata": {
    "ExecuteTime": {
     "end_time": "2021-01-04T10:54:45.705000Z",
     "start_time": "2021-01-04T10:54:45.699223Z"
    }
   },
   "outputs": [],
   "source": [
    "dataset_filename = f'{dataset_name}_corpus.json'\n",
    "chunks_filename = f'{dataset_name}_chunks.json'"
   ]
  },
  {
   "cell_type": "code",
   "execution_count": 7,
   "metadata": {
    "ExecuteTime": {
     "end_time": "2021-01-04T10:54:46.379121Z",
     "start_time": "2021-01-04T10:54:46.273200Z"
    }
   },
   "outputs": [],
   "source": [
    "corpus = TrainingCorpus()\n",
    "corpus.load(os.path.join(root_dir, data_dir, dataset_filename))\n",
    "corpus.load_chunks(os.path.join(root_dir, data_dir, chunks_filename))"
   ]
  },
  {
   "cell_type": "code",
   "execution_count": 8,
   "metadata": {
    "ExecuteTime": {
     "end_time": "2021-01-04T10:54:46.846871Z",
     "start_time": "2021-01-04T10:54:46.828302Z"
    }
   },
   "outputs": [
    {
     "data": {
      "text/plain": [
       "\"panel of new york state judges hear arguments about whether former sen guy j velella of bronx should be returned to prison, from which he was released by mayoral panel after serving three months of one-year sentence for conspiring to accept bribes; photo (m).appeals court weighs velella's return to jail\""
      ]
     },
     "execution_count": 8,
     "metadata": {},
     "output_type": "execute_result"
    }
   ],
   "source": [
    "corpus.get_text(0)"
   ]
  },
  {
   "cell_type": "code",
   "execution_count": 9,
   "metadata": {
    "ExecuteTime": {
     "end_time": "2021-01-04T10:54:47.699448Z",
     "start_time": "2021-01-04T10:54:47.694182Z"
    }
   },
   "outputs": [
    {
     "data": {
      "text/plain": [
       "['panel',\n",
       " 'new',\n",
       " 'york',\n",
       " 'state',\n",
       " 'judges',\n",
       " 'hear',\n",
       " 'arguments',\n",
       " 'whether',\n",
       " 'former',\n",
       " 'sen',\n",
       " 'guy',\n",
       " 'j',\n",
       " 'velella',\n",
       " 'bronx',\n",
       " 'returned',\n",
       " 'prison',\n",
       " 'released',\n",
       " 'mayoral',\n",
       " 'panel',\n",
       " 'serving',\n",
       " 'three',\n",
       " 'months',\n",
       " 'one-year',\n",
       " 'sentence',\n",
       " 'conspiring',\n",
       " 'accept',\n",
       " 'bribes',\n",
       " 'photo',\n",
       " 'appeals',\n",
       " 'court',\n",
       " 'weighs',\n",
       " 'velella',\n",
       " 'return',\n",
       " 'jail']"
      ]
     },
     "execution_count": 9,
     "metadata": {},
     "output_type": "execute_result"
    }
   ],
   "source": [
    "corpus.get_tokens(0)"
   ]
  },
  {
   "cell_type": "code",
   "execution_count": 10,
   "metadata": {
    "ExecuteTime": {
     "end_time": "2021-01-04T10:54:48.304330Z",
     "start_time": "2021-01-04T10:54:48.294693Z"
    }
   },
   "outputs": [
    {
     "data": {
      "text/plain": [
       "['panel',\n",
       " 'new_york_state_judges',\n",
       " 'hear',\n",
       " 'arguments',\n",
       " 'whether',\n",
       " 'former_sen_guy_j_velella',\n",
       " 'bronx',\n",
       " 'returned',\n",
       " 'prison',\n",
       " 'released',\n",
       " 'mayoral_panel',\n",
       " 'serving',\n",
       " 'three_months',\n",
       " 'one-year_sentence',\n",
       " 'conspiring',\n",
       " 'accept',\n",
       " 'bribes',\n",
       " 'photo',\n",
       " 'appeals_court',\n",
       " 'weighs',\n",
       " 'velella_return',\n",
       " 'jail']"
      ]
     },
     "execution_count": 10,
     "metadata": {},
     "output_type": "execute_result"
    }
   ],
   "source": [
    "corpus.get_chunk_document(0, threshold=0)"
   ]
  },
  {
   "cell_type": "markdown",
   "metadata": {},
   "source": [
    "---"
   ]
  },
  {
   "cell_type": "markdown",
   "metadata": {},
   "source": [
    "## Build a DataFrame"
   ]
  },
  {
   "cell_type": "code",
   "execution_count": 11,
   "metadata": {
    "ExecuteTime": {
     "end_time": "2021-01-04T10:54:49.934417Z",
     "start_time": "2021-01-04T10:54:49.597526Z"
    }
   },
   "outputs": [],
   "source": [
    "import pandas as pd"
   ]
  },
  {
   "cell_type": "code",
   "execution_count": 12,
   "metadata": {
    "ExecuteTime": {
     "end_time": "2021-01-04T10:54:51.981262Z",
     "start_time": "2021-01-04T10:54:49.941632Z"
    }
   },
   "outputs": [],
   "source": [
    "df =pd.DataFrame([{'doc_id': doc_id,\n",
    "                   'chunk_doc': ' '.join(corpus.get_chunk_document(doc_id, threshold=0)),\n",
    "                   'label': corpus.target[doc_id][0]} for doc_id in corpus.docs])"
   ]
  },
  {
   "cell_type": "code",
   "execution_count": 13,
   "metadata": {
    "ExecuteTime": {
     "end_time": "2021-01-04T10:54:52.003945Z",
     "start_time": "2021-01-04T10:54:51.988557Z"
    }
   },
   "outputs": [
    {
     "data": {
      "text/html": [
       "<div>\n",
       "<style scoped>\n",
       "    .dataframe tbody tr th:only-of-type {\n",
       "        vertical-align: middle;\n",
       "    }\n",
       "\n",
       "    .dataframe tbody tr th {\n",
       "        vertical-align: top;\n",
       "    }\n",
       "\n",
       "    .dataframe thead th {\n",
       "        text-align: right;\n",
       "    }\n",
       "</style>\n",
       "<table border=\"1\" class=\"dataframe\">\n",
       "  <thead>\n",
       "    <tr style=\"text-align: right;\">\n",
       "      <th></th>\n",
       "      <th>doc_id</th>\n",
       "      <th>chunk_doc</th>\n",
       "      <th>label</th>\n",
       "    </tr>\n",
       "  </thead>\n",
       "  <tbody>\n",
       "    <tr>\n",
       "      <th>0</th>\n",
       "      <td>0</td>\n",
       "      <td>panel new_york_state_judges hear arguments whe...</td>\n",
       "      <td>Q11201</td>\n",
       "    </tr>\n",
       "    <tr>\n",
       "      <th>1</th>\n",
       "      <td>1</td>\n",
       "      <td>prof_stephen_gillers op-ed_article says florid...</td>\n",
       "      <td>Q11201</td>\n",
       "    </tr>\n",
       "    <tr>\n",
       "      <th>2</th>\n",
       "      <td>2</td>\n",
       "      <td>seabury start sup ct action bring hastings com...</td>\n",
       "      <td>Q11201</td>\n",
       "    </tr>\n",
       "    <tr>\n",
       "      <th>3</th>\n",
       "      <td>3</td>\n",
       "      <td>3-judge_fed_panel_rules nys election_law would...</td>\n",
       "      <td>Q11201</td>\n",
       "    </tr>\n",
       "    <tr>\n",
       "      <th>4</th>\n",
       "      <td>4</td>\n",
       "      <td>federal_appeals_court_judges ruled california_...</td>\n",
       "      <td>Q11201</td>\n",
       "    </tr>\n",
       "  </tbody>\n",
       "</table>\n",
       "</div>"
      ],
      "text/plain": [
       "   doc_id                                          chunk_doc   label\n",
       "0       0  panel new_york_state_judges hear arguments whe...  Q11201\n",
       "1       1  prof_stephen_gillers op-ed_article says florid...  Q11201\n",
       "2       2  seabury start sup ct action bring hastings com...  Q11201\n",
       "3       3  3-judge_fed_panel_rules nys election_law would...  Q11201\n",
       "4       4  federal_appeals_court_judges ruled california_...  Q11201"
      ]
     },
     "execution_count": 13,
     "metadata": {},
     "output_type": "execute_result"
    }
   ],
   "source": [
    "df.head()"
   ]
  },
  {
   "cell_type": "markdown",
   "metadata": {},
   "source": [
    "---"
   ]
  },
  {
   "cell_type": "markdown",
   "metadata": {},
   "source": [
    "## Write to excel"
   ]
  },
  {
   "cell_type": "code",
   "execution_count": 14,
   "metadata": {
    "ExecuteTime": {
     "end_time": "2021-01-04T10:54:55.561161Z",
     "start_time": "2021-01-04T10:54:55.555608Z"
    }
   },
   "outputs": [],
   "source": [
    "filename = f'{dataset_name}_corpus.xlsx'"
   ]
  },
  {
   "cell_type": "code",
   "execution_count": 16,
   "metadata": {
    "ExecuteTime": {
     "end_time": "2021-01-04T10:55:02.566103Z",
     "start_time": "2021-01-04T10:55:01.490417Z"
    }
   },
   "outputs": [],
   "source": [
    "df.to_excel(os.path.join(root_dir, data_dir, filename))"
   ]
  },
  {
   "cell_type": "markdown",
   "metadata": {},
   "source": [
    "---"
   ]
  }
 ],
 "metadata": {
  "kernelspec": {
   "display_name": "Python 3",
   "language": "python",
   "name": "python3"
  },
  "language_info": {
   "codemirror_mode": {
    "name": "ipython",
    "version": 3
   },
   "file_extension": ".py",
   "mimetype": "text/x-python",
   "name": "python",
   "nbconvert_exporter": "python",
   "pygments_lexer": "ipython3",
   "version": "3.8.1"
  },
  "toc": {
   "base_numbering": 1,
   "nav_menu": {},
   "number_sections": true,
   "sideBar": true,
   "skip_h1_title": false,
   "title_cell": "Table of Contents",
   "title_sidebar": "Contents",
   "toc_cell": false,
   "toc_position": {},
   "toc_section_display": true,
   "toc_window_display": false
  }
 },
 "nbformat": 4,
 "nbformat_minor": 4
}
