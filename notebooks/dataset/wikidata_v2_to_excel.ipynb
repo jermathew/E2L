{
 "cells": [
  {
   "cell_type": "markdown",
   "metadata": {},
   "source": [
    "# Write Wikidata dataset to excel"
   ]
  },
  {
   "cell_type": "markdown",
   "metadata": {},
   "source": [
    "## Load the data"
   ]
  },
  {
   "cell_type": "code",
   "execution_count": 1,
   "metadata": {
    "ExecuteTime": {
     "end_time": "2020-11-13T14:24:07.895794Z",
     "start_time": "2020-11-13T14:24:07.891370Z"
    }
   },
   "outputs": [],
   "source": [
    "root_dir = '../..'\n",
    "src_dir = 'src'\n",
    "data_dir = 'data/corpus'"
   ]
  },
  {
   "cell_type": "code",
   "execution_count": 2,
   "metadata": {
    "ExecuteTime": {
     "end_time": "2020-11-13T14:24:08.152310Z",
     "start_time": "2020-11-13T14:24:08.148960Z"
    }
   },
   "outputs": [],
   "source": [
    "version = 'v2'"
   ]
  },
  {
   "cell_type": "code",
   "execution_count": 3,
   "metadata": {
    "ExecuteTime": {
     "end_time": "2020-11-13T14:24:08.790891Z",
     "start_time": "2020-11-13T14:24:08.787583Z"
    }
   },
   "outputs": [],
   "source": [
    "import os\n",
    "import sys"
   ]
  },
  {
   "cell_type": "code",
   "execution_count": 4,
   "metadata": {
    "ExecuteTime": {
     "end_time": "2020-11-13T14:24:09.174616Z",
     "start_time": "2020-11-13T14:24:09.170565Z"
    }
   },
   "outputs": [],
   "source": [
    "sys.path.append(os.path.join(root_dir, src_dir))"
   ]
  },
  {
   "cell_type": "code",
   "execution_count": 5,
   "metadata": {
    "ExecuteTime": {
     "end_time": "2020-11-13T14:24:10.458768Z",
     "start_time": "2020-11-13T14:24:09.551076Z"
    }
   },
   "outputs": [],
   "source": [
    "from training import TrainingCorpus"
   ]
  },
  {
   "cell_type": "code",
   "execution_count": 6,
   "metadata": {
    "ExecuteTime": {
     "end_time": "2020-11-13T14:24:10.463209Z",
     "start_time": "2020-11-13T14:24:10.460571Z"
    }
   },
   "outputs": [],
   "source": [
    "dataset_filename = f'wikidata_corpus_{version}.json'\n",
    "chunks_filename = f'wikidata_chunks_{version}.json'"
   ]
  },
  {
   "cell_type": "code",
   "execution_count": 7,
   "metadata": {
    "ExecuteTime": {
     "end_time": "2020-11-13T14:24:11.897621Z",
     "start_time": "2020-11-13T14:24:11.842228Z"
    }
   },
   "outputs": [],
   "source": [
    "corpus = TrainingCorpus()\n",
    "corpus.load(os.path.join(root_dir, data_dir, dataset_filename))\n",
    "corpus.load_chunks(os.path.join(root_dir, data_dir, chunks_filename))"
   ]
  },
  {
   "cell_type": "code",
   "execution_count": 8,
   "metadata": {
    "ExecuteTime": {
     "end_time": "2020-11-13T14:24:12.350608Z",
     "start_time": "2020-11-13T14:24:12.335081Z"
    }
   },
   "outputs": [
    {
     "data": {
      "text/plain": [
       "'Stockholm city capital of Sweden'"
      ]
     },
     "execution_count": 8,
     "metadata": {},
     "output_type": "execute_result"
    }
   ],
   "source": [
    "corpus.get_text(0)"
   ]
  },
  {
   "cell_type": "code",
   "execution_count": 9,
   "metadata": {
    "ExecuteTime": {
     "end_time": "2020-11-13T14:24:13.605373Z",
     "start_time": "2020-11-13T14:24:13.599133Z"
    }
   },
   "outputs": [
    {
     "data": {
      "text/plain": [
       "['stockholm', 'city', 'capital', 'sweden']"
      ]
     },
     "execution_count": 9,
     "metadata": {},
     "output_type": "execute_result"
    }
   ],
   "source": [
    "corpus.get_tokens(0)"
   ]
  },
  {
   "cell_type": "code",
   "execution_count": 10,
   "metadata": {
    "ExecuteTime": {
     "end_time": "2020-11-13T14:24:13.952007Z",
     "start_time": "2020-11-13T14:24:13.945959Z"
    }
   },
   "outputs": [
    {
     "data": {
      "text/plain": [
       "['stockholm', 'city', 'capital', 'sweden']"
      ]
     },
     "execution_count": 10,
     "metadata": {},
     "output_type": "execute_result"
    }
   ],
   "source": [
    "corpus.get_chunk_document(0, threshold=0)"
   ]
  },
  {
   "cell_type": "markdown",
   "metadata": {},
   "source": [
    "---"
   ]
  },
  {
   "cell_type": "markdown",
   "metadata": {},
   "source": [
    "## Build a DataFrame"
   ]
  },
  {
   "cell_type": "code",
   "execution_count": 11,
   "metadata": {
    "ExecuteTime": {
     "end_time": "2020-11-13T14:24:15.446304Z",
     "start_time": "2020-11-13T14:24:15.203271Z"
    }
   },
   "outputs": [],
   "source": [
    "import pandas as pd"
   ]
  },
  {
   "cell_type": "code",
   "execution_count": 12,
   "metadata": {
    "ExecuteTime": {
     "end_time": "2020-11-13T14:24:15.792682Z",
     "start_time": "2020-11-13T14:24:15.501651Z"
    }
   },
   "outputs": [],
   "source": [
    "df =pd.DataFrame([{'doc_id': doc_id,\n",
    "                   'chunk_doc': ' '.join(corpus.get_chunk_document(doc_id, threshold=0)),\n",
    "                   'label': corpus.target[doc_id][0]} for doc_id in corpus.docs])"
   ]
  },
  {
   "cell_type": "code",
   "execution_count": 13,
   "metadata": {
    "ExecuteTime": {
     "end_time": "2020-11-13T14:24:16.845337Z",
     "start_time": "2020-11-13T14:24:16.829309Z"
    }
   },
   "outputs": [
    {
     "data": {
      "text/html": [
       "<div>\n",
       "<style scoped>\n",
       "    .dataframe tbody tr th:only-of-type {\n",
       "        vertical-align: middle;\n",
       "    }\n",
       "\n",
       "    .dataframe tbody tr th {\n",
       "        vertical-align: top;\n",
       "    }\n",
       "\n",
       "    .dataframe thead th {\n",
       "        text-align: right;\n",
       "    }\n",
       "</style>\n",
       "<table border=\"1\" class=\"dataframe\">\n",
       "  <thead>\n",
       "    <tr style=\"text-align: right;\">\n",
       "      <th></th>\n",
       "      <th>doc_id</th>\n",
       "      <th>chunk_doc</th>\n",
       "      <th>label</th>\n",
       "    </tr>\n",
       "  </thead>\n",
       "  <tbody>\n",
       "    <tr>\n",
       "      <th>0</th>\n",
       "      <td>0</td>\n",
       "      <td>stockholm city capital sweden</td>\n",
       "      <td>Q1754</td>\n",
       "    </tr>\n",
       "    <tr>\n",
       "      <th>1</th>\n",
       "      <td>1</td>\n",
       "      <td>stockholm capital capital sweden</td>\n",
       "      <td>Q1754</td>\n",
       "    </tr>\n",
       "    <tr>\n",
       "      <th>2</th>\n",
       "      <td>2</td>\n",
       "      <td>sthlm city city stretches across fourteen_isla...</td>\n",
       "      <td>Q1754</td>\n",
       "    </tr>\n",
       "    <tr>\n",
       "      <th>3</th>\n",
       "      <td>3</td>\n",
       "      <td>sthlm capital city stretches across fourteen_i...</td>\n",
       "      <td>Q1754</td>\n",
       "    </tr>\n",
       "    <tr>\n",
       "      <th>4</th>\n",
       "      <td>4</td>\n",
       "      <td>stockholm big city hosts annual nobel prize ce...</td>\n",
       "      <td>Q1754</td>\n",
       "    </tr>\n",
       "  </tbody>\n",
       "</table>\n",
       "</div>"
      ],
      "text/plain": [
       "   doc_id                                          chunk_doc  label\n",
       "0       0                      stockholm city capital sweden  Q1754\n",
       "1       1                   stockholm capital capital sweden  Q1754\n",
       "2       2  sthlm city city stretches across fourteen_isla...  Q1754\n",
       "3       3  sthlm capital city stretches across fourteen_i...  Q1754\n",
       "4       4  stockholm big city hosts annual nobel prize ce...  Q1754"
      ]
     },
     "execution_count": 13,
     "metadata": {},
     "output_type": "execute_result"
    }
   ],
   "source": [
    "df.head()"
   ]
  },
  {
   "cell_type": "markdown",
   "metadata": {},
   "source": [
    "---"
   ]
  },
  {
   "cell_type": "markdown",
   "metadata": {},
   "source": [
    "## Write to excel"
   ]
  },
  {
   "cell_type": "code",
   "execution_count": 14,
   "metadata": {
    "ExecuteTime": {
     "end_time": "2020-11-13T14:24:19.471683Z",
     "start_time": "2020-11-13T14:24:19.467795Z"
    }
   },
   "outputs": [],
   "source": [
    "filename = f'wikidata_corpus_{version}.xlsx'"
   ]
  },
  {
   "cell_type": "code",
   "execution_count": 15,
   "metadata": {
    "ExecuteTime": {
     "end_time": "2020-11-13T14:24:20.711245Z",
     "start_time": "2020-11-13T14:24:19.942330Z"
    }
   },
   "outputs": [],
   "source": [
    "df.to_excel(os.path.join(root_dir, data_dir, filename))"
   ]
  },
  {
   "cell_type": "markdown",
   "metadata": {},
   "source": [
    "---"
   ]
  }
 ],
 "metadata": {
  "kernelspec": {
   "display_name": "Python 3",
   "language": "python",
   "name": "python3"
  },
  "language_info": {
   "codemirror_mode": {
    "name": "ipython",
    "version": 3
   },
   "file_extension": ".py",
   "mimetype": "text/x-python",
   "name": "python",
   "nbconvert_exporter": "python",
   "pygments_lexer": "ipython3",
   "version": "3.8.1"
  },
  "toc": {
   "base_numbering": 1,
   "nav_menu": {},
   "number_sections": true,
   "sideBar": true,
   "skip_h1_title": false,
   "title_cell": "Table of Contents",
   "title_sidebar": "Contents",
   "toc_cell": false,
   "toc_position": {},
   "toc_section_display": true,
   "toc_window_display": false
  }
 },
 "nbformat": 4,
 "nbformat_minor": 4
}
