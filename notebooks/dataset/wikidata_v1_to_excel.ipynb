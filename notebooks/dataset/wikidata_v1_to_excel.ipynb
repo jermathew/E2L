{
 "cells": [
  {
   "cell_type": "markdown",
   "metadata": {},
   "source": [
    "# Write Wikidata dataset to excel"
   ]
  },
  {
   "cell_type": "markdown",
   "metadata": {},
   "source": [
    "## Load the data"
   ]
  },
  {
   "cell_type": "code",
   "execution_count": 1,
   "metadata": {
    "ExecuteTime": {
     "end_time": "2020-11-05T17:22:31.734905Z",
     "start_time": "2020-11-05T17:22:31.729995Z"
    }
   },
   "outputs": [],
   "source": [
    "root_dir = '../..'\n",
    "src_dir = 'src'\n",
    "data_dir = 'data/corpus'"
   ]
  },
  {
   "cell_type": "code",
   "execution_count": null,
   "metadata": {},
   "outputs": [],
   "source": [
    "version = 'v1'"
   ]
  },
  {
   "cell_type": "code",
   "execution_count": 2,
   "metadata": {
    "ExecuteTime": {
     "end_time": "2020-11-05T17:22:31.998036Z",
     "start_time": "2020-11-05T17:22:31.992810Z"
    }
   },
   "outputs": [],
   "source": [
    "import os\n",
    "import sys"
   ]
  },
  {
   "cell_type": "code",
   "execution_count": 3,
   "metadata": {
    "ExecuteTime": {
     "end_time": "2020-11-05T17:22:32.222990Z",
     "start_time": "2020-11-05T17:22:32.217371Z"
    }
   },
   "outputs": [],
   "source": [
    "sys.path.append(os.path.join(root_dir, src_dir))"
   ]
  },
  {
   "cell_type": "code",
   "execution_count": 4,
   "metadata": {
    "ExecuteTime": {
     "end_time": "2020-11-05T17:22:34.589366Z",
     "start_time": "2020-11-05T17:22:32.457375Z"
    }
   },
   "outputs": [],
   "source": [
    "from training import TrainingCorpus"
   ]
  },
  {
   "cell_type": "code",
   "execution_count": 5,
   "metadata": {
    "ExecuteTime": {
     "end_time": "2020-11-05T17:22:34.598451Z",
     "start_time": "2020-11-05T17:22:34.592464Z"
    }
   },
   "outputs": [],
   "source": [
    "dataset_filename = f'wikidata_corpus_{version}.json'\n",
    "chunks_filename = f'wikidata_chunks_{version}.json'"
   ]
  },
  {
   "cell_type": "code",
   "execution_count": 6,
   "metadata": {
    "ExecuteTime": {
     "end_time": "2020-11-05T17:22:34.615257Z",
     "start_time": "2020-11-05T17:22:34.604501Z"
    }
   },
   "outputs": [],
   "source": [
    "corpus = TrainingCorpus()\n",
    "corpus.load(os.path.join(root_dir, data_dir, dataset_filename))\n",
    "corpus.load_chunks(os.path.join(root_dir, data_dir, chunks_filename))"
   ]
  },
  {
   "cell_type": "code",
   "execution_count": 7,
   "metadata": {
    "ExecuteTime": {
     "end_time": "2020-11-05T17:22:34.649745Z",
     "start_time": "2020-11-05T17:22:34.622427Z"
    }
   },
   "outputs": [
    {
     "data": {
      "text/plain": [
       "'Berlin city-state capital and largest city of Germany'"
      ]
     },
     "execution_count": 7,
     "metadata": {},
     "output_type": "execute_result"
    }
   ],
   "source": [
    "corpus.get_text(0)"
   ]
  },
  {
   "cell_type": "code",
   "execution_count": 8,
   "metadata": {
    "ExecuteTime": {
     "end_time": "2020-11-05T17:22:34.688848Z",
     "start_time": "2020-11-05T17:22:34.663209Z"
    }
   },
   "outputs": [
    {
     "data": {
      "text/plain": [
       "['berlin', 'city-state', 'capital', 'largest', 'city', 'germany']"
      ]
     },
     "execution_count": 8,
     "metadata": {},
     "output_type": "execute_result"
    }
   ],
   "source": [
    "corpus.get_tokens(0)"
   ]
  },
  {
   "cell_type": "code",
   "execution_count": 9,
   "metadata": {
    "ExecuteTime": {
     "end_time": "2020-11-05T17:22:34.725167Z",
     "start_time": "2020-11-05T17:22:34.706148Z"
    }
   },
   "outputs": [
    {
     "data": {
      "text/plain": [
       "['berlin', 'city-state', 'capital', 'largest_city', 'germany']"
      ]
     },
     "execution_count": 9,
     "metadata": {},
     "output_type": "execute_result"
    }
   ],
   "source": [
    "corpus.get_chunk_document(0, threshold=0)"
   ]
  },
  {
   "cell_type": "markdown",
   "metadata": {},
   "source": [
    "---"
   ]
  },
  {
   "cell_type": "markdown",
   "metadata": {},
   "source": [
    "## Build a DataFrame"
   ]
  },
  {
   "cell_type": "code",
   "execution_count": 10,
   "metadata": {
    "ExecuteTime": {
     "end_time": "2020-11-05T17:22:37.034519Z",
     "start_time": "2020-11-05T17:22:36.422290Z"
    }
   },
   "outputs": [],
   "source": [
    "import pandas as pd"
   ]
  },
  {
   "cell_type": "code",
   "execution_count": 11,
   "metadata": {
    "ExecuteTime": {
     "end_time": "2020-11-05T17:22:37.063717Z",
     "start_time": "2020-11-05T17:22:37.038621Z"
    }
   },
   "outputs": [],
   "source": [
    "df =pd.DataFrame([{'doc_id': doc_id,\n",
    "                   'chunk_doc': ' '.join(corpus.get_chunk_document(doc_id, threshold=0)),\n",
    "                   'label': corpus.target[doc_id][0]} for doc_id in corpus.docs])"
   ]
  },
  {
   "cell_type": "code",
   "execution_count": 12,
   "metadata": {
    "ExecuteTime": {
     "end_time": "2020-11-05T17:22:37.089194Z",
     "start_time": "2020-11-05T17:22:37.066867Z"
    }
   },
   "outputs": [
    {
     "data": {
      "text/html": [
       "<div>\n",
       "<style scoped>\n",
       "    .dataframe tbody tr th:only-of-type {\n",
       "        vertical-align: middle;\n",
       "    }\n",
       "\n",
       "    .dataframe tbody tr th {\n",
       "        vertical-align: top;\n",
       "    }\n",
       "\n",
       "    .dataframe thead th {\n",
       "        text-align: right;\n",
       "    }\n",
       "</style>\n",
       "<table border=\"1\" class=\"dataframe\">\n",
       "  <thead>\n",
       "    <tr style=\"text-align: right;\">\n",
       "      <th></th>\n",
       "      <th>doc_id</th>\n",
       "      <th>chunk_doc</th>\n",
       "      <th>label</th>\n",
       "    </tr>\n",
       "  </thead>\n",
       "  <tbody>\n",
       "    <tr>\n",
       "      <td>0</td>\n",
       "      <td>0</td>\n",
       "      <td>berlin city-state capital largest_city germany</td>\n",
       "      <td>Q64</td>\n",
       "    </tr>\n",
       "    <tr>\n",
       "      <td>1</td>\n",
       "      <td>1</td>\n",
       "      <td>berlin city millions inhabitants economy based...</td>\n",
       "      <td>Q64</td>\n",
       "    </tr>\n",
       "    <tr>\n",
       "      <td>2</td>\n",
       "      <td>2</td>\n",
       "      <td>berlin federal capital significant industries ...</td>\n",
       "      <td>Q64</td>\n",
       "    </tr>\n",
       "    <tr>\n",
       "      <td>3</td>\n",
       "      <td>3</td>\n",
       "      <td>berlin city millions inhabitants_capital large...</td>\n",
       "      <td>Q64</td>\n",
       "    </tr>\n",
       "    <tr>\n",
       "      <td>4</td>\n",
       "      <td>4</td>\n",
       "      <td>berlin urban municipality germany east berlin ...</td>\n",
       "      <td>Q64</td>\n",
       "    </tr>\n",
       "  </tbody>\n",
       "</table>\n",
       "</div>"
      ],
      "text/plain": [
       "   doc_id                                          chunk_doc label\n",
       "0       0     berlin city-state capital largest_city germany   Q64\n",
       "1       1  berlin city millions inhabitants economy based...   Q64\n",
       "2       2  berlin federal capital significant industries ...   Q64\n",
       "3       3  berlin city millions inhabitants_capital large...   Q64\n",
       "4       4  berlin urban municipality germany east berlin ...   Q64"
      ]
     },
     "execution_count": 12,
     "metadata": {},
     "output_type": "execute_result"
    }
   ],
   "source": [
    "df.head()"
   ]
  },
  {
   "cell_type": "markdown",
   "metadata": {},
   "source": [
    "---"
   ]
  },
  {
   "cell_type": "markdown",
   "metadata": {},
   "source": [
    "## Write to excel"
   ]
  },
  {
   "cell_type": "code",
   "execution_count": 13,
   "metadata": {
    "ExecuteTime": {
     "end_time": "2020-11-05T17:22:44.110403Z",
     "start_time": "2020-11-05T17:22:44.104538Z"
    }
   },
   "outputs": [],
   "source": [
    "filename = f'wikidata_corpus_{version}.xlsx'"
   ]
  },
  {
   "cell_type": "code",
   "execution_count": 14,
   "metadata": {
    "ExecuteTime": {
     "end_time": "2020-11-05T17:22:45.674203Z",
     "start_time": "2020-11-05T17:22:44.595994Z"
    }
   },
   "outputs": [],
   "source": [
    "df.to_excel(os.path.join(root_dir, data_dir, filename))"
   ]
  },
  {
   "cell_type": "markdown",
   "metadata": {},
   "source": [
    "---"
   ]
  }
 ],
 "metadata": {
  "kernelspec": {
   "display_name": "Python 3",
   "language": "python",
   "name": "python3"
  },
  "language_info": {
   "codemirror_mode": {
    "name": "ipython",
    "version": 3
   },
   "file_extension": ".py",
   "mimetype": "text/x-python",
   "name": "python",
   "nbconvert_exporter": "python",
   "pygments_lexer": "ipython3",
   "version": "3.8.1"
  },
  "toc": {
   "base_numbering": 1,
   "nav_menu": {},
   "number_sections": true,
   "sideBar": true,
   "skip_h1_title": false,
   "title_cell": "Table of Contents",
   "title_sidebar": "Contents",
   "toc_cell": false,
   "toc_position": {},
   "toc_section_display": true,
   "toc_window_display": false
  }
 },
 "nbformat": 4,
 "nbformat_minor": 4
}
