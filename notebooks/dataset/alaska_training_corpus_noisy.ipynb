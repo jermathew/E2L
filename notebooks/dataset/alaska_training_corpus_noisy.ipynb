{
 "cells": [
  {
   "cell_type": "markdown",
   "metadata": {},
   "source": [
    "# Build the dataset\n",
    "Build a dataset of `<product description>` `<product id>`pairs"
   ]
  },
  {
   "cell_type": "markdown",
   "metadata": {},
   "source": [
    "## Define filepaths"
   ]
  },
  {
   "cell_type": "code",
   "execution_count": 1,
   "metadata": {
    "ExecuteTime": {
     "end_time": "2021-03-17T11:14:07.480303Z",
     "start_time": "2021-03-17T11:14:07.476904Z"
    }
   },
   "outputs": [],
   "source": [
    "root_dir = '../..'\n",
    "data_dir = 'data/corpus'\n",
    "alaska_dir = 'alaska_camera'"
   ]
  },
  {
   "cell_type": "markdown",
   "metadata": {},
   "source": [
    "## Load the dataset"
   ]
  },
  {
   "cell_type": "markdown",
   "metadata": {},
   "source": [
    "### Load the Alaska camera dataset for entity resolution (ER)"
   ]
  },
  {
   "cell_type": "code",
   "execution_count": 2,
   "metadata": {
    "ExecuteTime": {
     "end_time": "2021-03-17T11:14:08.199450Z",
     "start_time": "2021-03-17T11:14:07.960516Z"
    }
   },
   "outputs": [],
   "source": [
    "import os\n",
    "import pandas as pd"
   ]
  },
  {
   "cell_type": "code",
   "execution_count": 3,
   "metadata": {
    "ExecuteTime": {
     "end_time": "2021-03-17T11:14:08.203491Z",
     "start_time": "2021-03-17T11:14:08.201103Z"
    }
   },
   "outputs": [],
   "source": [
    "filename = 'camera_entity_resolution_gt.xlsx'"
   ]
  },
  {
   "cell_type": "code",
   "execution_count": 4,
   "metadata": {
    "ExecuteTime": {
     "end_time": "2021-03-17T11:14:08.515201Z",
     "start_time": "2021-03-17T11:14:08.334240Z"
    }
   },
   "outputs": [
    {
     "data": {
      "text/html": [
       "<div>\n",
       "<style scoped>\n",
       "    .dataframe tbody tr th:only-of-type {\n",
       "        vertical-align: middle;\n",
       "    }\n",
       "\n",
       "    .dataframe tbody tr th {\n",
       "        vertical-align: top;\n",
       "    }\n",
       "\n",
       "    .dataframe thead th {\n",
       "        text-align: right;\n",
       "    }\n",
       "</style>\n",
       "<table border=\"1\" class=\"dataframe\">\n",
       "  <thead>\n",
       "    <tr style=\"text-align: right;\">\n",
       "      <th></th>\n",
       "      <th>entity_id,spec_id</th>\n",
       "    </tr>\n",
       "  </thead>\n",
       "  <tbody>\n",
       "    <tr>\n",
       "      <th>0</th>\n",
       "      <td>ENTITY#1,buy.net//4236</td>\n",
       "    </tr>\n",
       "    <tr>\n",
       "      <th>1</th>\n",
       "      <td>ENTITY#1,www.ebay.com//46670</td>\n",
       "    </tr>\n",
       "    <tr>\n",
       "      <th>2</th>\n",
       "      <td>ENTITY#10,www.pcconnection.com//12363</td>\n",
       "    </tr>\n",
       "    <tr>\n",
       "      <th>3</th>\n",
       "      <td>ENTITY#10,buy.net//6531</td>\n",
       "    </tr>\n",
       "    <tr>\n",
       "      <th>4</th>\n",
       "      <td>ENTITY#10,www.shopmania.in//698</td>\n",
       "    </tr>\n",
       "  </tbody>\n",
       "</table>\n",
       "</div>"
      ],
      "text/plain": [
       "                       entity_id,spec_id\n",
       "0                 ENTITY#1,buy.net//4236\n",
       "1           ENTITY#1,www.ebay.com//46670\n",
       "2  ENTITY#10,www.pcconnection.com//12363\n",
       "3                ENTITY#10,buy.net//6531\n",
       "4        ENTITY#10,www.shopmania.in//698"
      ]
     },
     "execution_count": 4,
     "metadata": {},
     "output_type": "execute_result"
    }
   ],
   "source": [
    "alaska_camera_df = pd.read_excel(os.path.join(root_dir, data_dir, filename))\n",
    "alaska_camera_df.head()"
   ]
  },
  {
   "cell_type": "code",
   "execution_count": 5,
   "metadata": {
    "ExecuteTime": {
     "end_time": "2021-03-17T11:14:08.770360Z",
     "start_time": "2021-03-17T11:14:08.766247Z"
    }
   },
   "outputs": [
    {
     "data": {
      "text/plain": [
       "(3865, 1)"
      ]
     },
     "execution_count": 5,
     "metadata": {},
     "output_type": "execute_result"
    }
   ],
   "source": [
    "alaska_camera_df.shape"
   ]
  },
  {
   "cell_type": "code",
   "execution_count": 6,
   "metadata": {
    "ExecuteTime": {
     "end_time": "2021-03-17T11:14:09.041988Z",
     "start_time": "2021-03-17T11:14:09.031801Z"
    }
   },
   "outputs": [],
   "source": [
    "alaska_camera_df['entity_id'] = alaska_camera_df['entity_id,spec_id'].map(lambda x: x.split(',')[0])\n",
    "alaska_camera_df['spec_id'] = alaska_camera_df['entity_id,spec_id'].map(lambda x: x.split(',')[1])"
   ]
  },
  {
   "cell_type": "code",
   "execution_count": 7,
   "metadata": {
    "ExecuteTime": {
     "end_time": "2021-03-17T11:14:09.254379Z",
     "start_time": "2021-03-17T11:14:09.241916Z"
    }
   },
   "outputs": [
    {
     "data": {
      "text/html": [
       "<div>\n",
       "<style scoped>\n",
       "    .dataframe tbody tr th:only-of-type {\n",
       "        vertical-align: middle;\n",
       "    }\n",
       "\n",
       "    .dataframe tbody tr th {\n",
       "        vertical-align: top;\n",
       "    }\n",
       "\n",
       "    .dataframe thead th {\n",
       "        text-align: right;\n",
       "    }\n",
       "</style>\n",
       "<table border=\"1\" class=\"dataframe\">\n",
       "  <thead>\n",
       "    <tr style=\"text-align: right;\">\n",
       "      <th></th>\n",
       "      <th>entity_id</th>\n",
       "      <th>spec_id</th>\n",
       "    </tr>\n",
       "  </thead>\n",
       "  <tbody>\n",
       "    <tr>\n",
       "      <th>0</th>\n",
       "      <td>ENTITY#1</td>\n",
       "      <td>buy.net//4236</td>\n",
       "    </tr>\n",
       "    <tr>\n",
       "      <th>1</th>\n",
       "      <td>ENTITY#1</td>\n",
       "      <td>www.ebay.com//46670</td>\n",
       "    </tr>\n",
       "    <tr>\n",
       "      <th>2</th>\n",
       "      <td>ENTITY#10</td>\n",
       "      <td>www.pcconnection.com//12363</td>\n",
       "    </tr>\n",
       "    <tr>\n",
       "      <th>3</th>\n",
       "      <td>ENTITY#10</td>\n",
       "      <td>buy.net//6531</td>\n",
       "    </tr>\n",
       "    <tr>\n",
       "      <th>4</th>\n",
       "      <td>ENTITY#10</td>\n",
       "      <td>www.shopmania.in//698</td>\n",
       "    </tr>\n",
       "  </tbody>\n",
       "</table>\n",
       "</div>"
      ],
      "text/plain": [
       "   entity_id                      spec_id\n",
       "0   ENTITY#1                buy.net//4236\n",
       "1   ENTITY#1          www.ebay.com//46670\n",
       "2  ENTITY#10  www.pcconnection.com//12363\n",
       "3  ENTITY#10                buy.net//6531\n",
       "4  ENTITY#10        www.shopmania.in//698"
      ]
     },
     "execution_count": 7,
     "metadata": {},
     "output_type": "execute_result"
    }
   ],
   "source": [
    "alaska_camera_df = alaska_camera_df.drop(columns=['entity_id,spec_id'])\n",
    "alaska_camera_df.head()"
   ]
  },
  {
   "cell_type": "markdown",
   "metadata": {},
   "source": [
    "### Load the product description for each `spec_id`"
   ]
  },
  {
   "cell_type": "code",
   "execution_count": 8,
   "metadata": {
    "ExecuteTime": {
     "end_time": "2021-03-17T11:14:09.755107Z",
     "start_time": "2021-03-17T11:14:09.752258Z"
    }
   },
   "outputs": [],
   "source": [
    "import json"
   ]
  },
  {
   "cell_type": "code",
   "execution_count": 9,
   "metadata": {
    "ExecuteTime": {
     "end_time": "2021-03-17T11:14:10.181241Z",
     "start_time": "2021-03-17T11:14:10.177484Z"
    }
   },
   "outputs": [],
   "source": [
    "def parse_json(source, product_id):\n",
    "    product_id = product_id + '.json'\n",
    "    filepath = os.path.join(root_dir, data_dir, alaska_dir, source, product_id)\n",
    "    with open(filepath) as fd:\n",
    "        data = json.load(fd)\n",
    "    return data"
   ]
  },
  {
   "cell_type": "code",
   "execution_count": 10,
   "metadata": {
    "ExecuteTime": {
     "end_time": "2021-03-17T11:14:10.672506Z",
     "start_time": "2021-03-17T11:14:10.422670Z"
    }
   },
   "outputs": [],
   "source": [
    "alaska_camera_df['page_title'] = alaska_camera_df['spec_id'].map(lambda x: parse_json(*x.split('//'))['<page title>'])\n",
    "alaska_camera_df['page_title'] = alaska_camera_df['page_title'].map(lambda x: x.lower())"
   ]
  },
  {
   "cell_type": "code",
   "execution_count": 11,
   "metadata": {
    "ExecuteTime": {
     "end_time": "2021-03-17T11:14:10.724105Z",
     "start_time": "2021-03-17T11:14:10.706415Z"
    }
   },
   "outputs": [
    {
     "data": {
      "text/html": [
       "<div>\n",
       "<style scoped>\n",
       "    .dataframe tbody tr th:only-of-type {\n",
       "        vertical-align: middle;\n",
       "    }\n",
       "\n",
       "    .dataframe tbody tr th {\n",
       "        vertical-align: top;\n",
       "    }\n",
       "\n",
       "    .dataframe thead th {\n",
       "        text-align: right;\n",
       "    }\n",
       "</style>\n",
       "<table border=\"1\" class=\"dataframe\">\n",
       "  <thead>\n",
       "    <tr style=\"text-align: right;\">\n",
       "      <th></th>\n",
       "      <th>entity_id</th>\n",
       "      <th>spec_id</th>\n",
       "      <th>page_title</th>\n",
       "    </tr>\n",
       "  </thead>\n",
       "  <tbody>\n",
       "    <tr>\n",
       "      <th>0</th>\n",
       "      <td>ENTITY#1</td>\n",
       "      <td>buy.net//4236</td>\n",
       "      <td>polaroid is426 16 megapixel compact camera - r...</td>\n",
       "    </tr>\n",
       "    <tr>\n",
       "      <th>1</th>\n",
       "      <td>ENTITY#1</td>\n",
       "      <td>www.ebay.com//46670</td>\n",
       "      <td>camera polaroid is426 4x zoom | ebay</td>\n",
       "    </tr>\n",
       "    <tr>\n",
       "      <th>2</th>\n",
       "      <td>ENTITY#10</td>\n",
       "      <td>www.pcconnection.com//12363</td>\n",
       "      <td>buy sony a7 interchangeable lens camera with l...</td>\n",
       "    </tr>\n",
       "    <tr>\n",
       "      <th>3</th>\n",
       "      <td>ENTITY#10</td>\n",
       "      <td>buy.net//6531</td>\n",
       "      <td>sony alpha a7 black digital camera kit w/ 28-7...</td>\n",
       "    </tr>\n",
       "    <tr>\n",
       "      <th>4</th>\n",
       "      <td>ENTITY#10</td>\n",
       "      <td>www.shopmania.in//698</td>\n",
       "      <td>sony alpha 7 kit 28-70mm digital camera prices...</td>\n",
       "    </tr>\n",
       "  </tbody>\n",
       "</table>\n",
       "</div>"
      ],
      "text/plain": [
       "   entity_id                      spec_id  \\\n",
       "0   ENTITY#1                buy.net//4236   \n",
       "1   ENTITY#1          www.ebay.com//46670   \n",
       "2  ENTITY#10  www.pcconnection.com//12363   \n",
       "3  ENTITY#10                buy.net//6531   \n",
       "4  ENTITY#10        www.shopmania.in//698   \n",
       "\n",
       "                                          page_title  \n",
       "0  polaroid is426 16 megapixel compact camera - r...  \n",
       "1               camera polaroid is426 4x zoom | ebay  \n",
       "2  buy sony a7 interchangeable lens camera with l...  \n",
       "3  sony alpha a7 black digital camera kit w/ 28-7...  \n",
       "4  sony alpha 7 kit 28-70mm digital camera prices...  "
      ]
     },
     "execution_count": 11,
     "metadata": {},
     "output_type": "execute_result"
    }
   ],
   "source": [
    "alaska_camera_df.head()"
   ]
  },
  {
   "cell_type": "markdown",
   "metadata": {},
   "source": [
    "---"
   ]
  },
  {
   "cell_type": "markdown",
   "metadata": {},
   "source": [
    "## Select clusters by their size"
   ]
  },
  {
   "cell_type": "markdown",
   "metadata": {},
   "source": [
    "### Get each cluster's name"
   ]
  },
  {
   "cell_type": "code",
   "execution_count": 12,
   "metadata": {
    "ExecuteTime": {
     "end_time": "2021-03-17T11:14:11.697708Z",
     "start_time": "2021-03-17T11:14:11.694640Z"
    }
   },
   "outputs": [],
   "source": [
    "gt_filename = 'alaska_camera_gt.json'\n",
    "gt_filepath = os.path.join(root_dir, data_dir, gt_filename)"
   ]
  },
  {
   "cell_type": "code",
   "execution_count": 13,
   "metadata": {
    "ExecuteTime": {
     "end_time": "2021-03-17T11:14:11.957062Z",
     "start_time": "2021-03-17T11:14:11.954502Z"
    }
   },
   "outputs": [],
   "source": [
    "import json"
   ]
  },
  {
   "cell_type": "code",
   "execution_count": 14,
   "metadata": {
    "ExecuteTime": {
     "end_time": "2021-03-17T11:14:12.203043Z",
     "start_time": "2021-03-17T11:14:12.200192Z"
    }
   },
   "outputs": [],
   "source": [
    "with open(gt_filepath, 'r') as fd:\n",
    "    gt_dict = json.load(fd)"
   ]
  },
  {
   "cell_type": "markdown",
   "metadata": {},
   "source": [
    "### Select top N clusters"
   ]
  },
  {
   "cell_type": "code",
   "execution_count": 15,
   "metadata": {
    "ExecuteTime": {
     "end_time": "2021-03-17T11:14:12.712981Z",
     "start_time": "2021-03-17T11:14:12.709125Z"
    }
   },
   "outputs": [],
   "source": [
    "grouped_alaska_df = alaska_camera_df.groupby('entity_id')"
   ]
  },
  {
   "cell_type": "code",
   "execution_count": 16,
   "metadata": {
    "ExecuteTime": {
     "end_time": "2021-03-17T11:14:13.013807Z",
     "start_time": "2021-03-17T11:14:13.008110Z"
    }
   },
   "outputs": [
    {
     "name": "stdout",
     "output_type": "stream",
     "text": [
      "There are 103 clusters\n"
     ]
    }
   ],
   "source": [
    "print(f'There are {grouped_alaska_df.size().shape[0]} clusters')"
   ]
  },
  {
   "cell_type": "code",
   "execution_count": 17,
   "metadata": {
    "ExecuteTime": {
     "end_time": "2021-03-17T11:14:13.251105Z",
     "start_time": "2021-03-17T11:14:13.246965Z"
    }
   },
   "outputs": [],
   "source": [
    "NUM_CLUSTERS = 20"
   ]
  },
  {
   "cell_type": "code",
   "execution_count": 18,
   "metadata": {
    "ExecuteTime": {
     "end_time": "2021-03-17T11:14:13.537653Z",
     "start_time": "2021-03-17T11:14:13.520997Z"
    }
   },
   "outputs": [
    {
     "data": {
      "text/html": [
       "<div>\n",
       "<style scoped>\n",
       "    .dataframe tbody tr th:only-of-type {\n",
       "        vertical-align: middle;\n",
       "    }\n",
       "\n",
       "    .dataframe tbody tr th {\n",
       "        vertical-align: top;\n",
       "    }\n",
       "\n",
       "    .dataframe thead th {\n",
       "        text-align: right;\n",
       "    }\n",
       "</style>\n",
       "<table border=\"1\" class=\"dataframe\">\n",
       "  <thead>\n",
       "    <tr style=\"text-align: right;\">\n",
       "      <th></th>\n",
       "      <th>entity_id</th>\n",
       "      <th>size</th>\n",
       "      <th>entity_name</th>\n",
       "    </tr>\n",
       "  </thead>\n",
       "  <tbody>\n",
       "    <tr>\n",
       "      <th>0</th>\n",
       "      <td>ENTITY#44</td>\n",
       "      <td>184</td>\n",
       "      <td>nikon d3200</td>\n",
       "    </tr>\n",
       "    <tr>\n",
       "      <th>1</th>\n",
       "      <td>ENTITY#23</td>\n",
       "      <td>178</td>\n",
       "      <td>canon eos 7d</td>\n",
       "    </tr>\n",
       "    <tr>\n",
       "      <th>2</th>\n",
       "      <td>ENTITY#18</td>\n",
       "      <td>168</td>\n",
       "      <td>canon eos 60d</td>\n",
       "    </tr>\n",
       "    <tr>\n",
       "      <th>3</th>\n",
       "      <td>ENTITY#36</td>\n",
       "      <td>155</td>\n",
       "      <td>nikon d3100</td>\n",
       "    </tr>\n",
       "    <tr>\n",
       "      <th>4</th>\n",
       "      <td>ENTITY#41</td>\n",
       "      <td>144</td>\n",
       "      <td>nikon d5200</td>\n",
       "    </tr>\n",
       "    <tr>\n",
       "      <th>5</th>\n",
       "      <td>ENTITY#21</td>\n",
       "      <td>137</td>\n",
       "      <td>nikon d5100</td>\n",
       "    </tr>\n",
       "    <tr>\n",
       "      <th>6</th>\n",
       "      <td>ENTITY#75</td>\n",
       "      <td>130</td>\n",
       "      <td>nikon d7000</td>\n",
       "    </tr>\n",
       "    <tr>\n",
       "      <th>7</th>\n",
       "      <td>ENTITY#96</td>\n",
       "      <td>125</td>\n",
       "      <td>canon eos 70d</td>\n",
       "    </tr>\n",
       "    <tr>\n",
       "      <th>8</th>\n",
       "      <td>ENTITY#6</td>\n",
       "      <td>117</td>\n",
       "      <td>nikon d5300</td>\n",
       "    </tr>\n",
       "    <tr>\n",
       "      <th>9</th>\n",
       "      <td>ENTITY#101</td>\n",
       "      <td>112</td>\n",
       "      <td>canon eos 5d mark iii</td>\n",
       "    </tr>\n",
       "    <tr>\n",
       "      <th>10</th>\n",
       "      <td>ENTITY#102</td>\n",
       "      <td>95</td>\n",
       "      <td>canon eos 5d mark ii</td>\n",
       "    </tr>\n",
       "    <tr>\n",
       "      <th>11</th>\n",
       "      <td>ENTITY#16</td>\n",
       "      <td>91</td>\n",
       "      <td>nikon d90</td>\n",
       "    </tr>\n",
       "    <tr>\n",
       "      <th>12</th>\n",
       "      <td>ENTITY#57</td>\n",
       "      <td>80</td>\n",
       "      <td>nikon d800</td>\n",
       "    </tr>\n",
       "    <tr>\n",
       "      <th>13</th>\n",
       "      <td>ENTITY#76</td>\n",
       "      <td>79</td>\n",
       "      <td>nikon d610</td>\n",
       "    </tr>\n",
       "    <tr>\n",
       "      <th>14</th>\n",
       "      <td>ENTITY#19</td>\n",
       "      <td>79</td>\n",
       "      <td>nikon d3300</td>\n",
       "    </tr>\n",
       "    <tr>\n",
       "      <th>15</th>\n",
       "      <td>ENTITY#58</td>\n",
       "      <td>78</td>\n",
       "      <td>nikon 1 j1</td>\n",
       "    </tr>\n",
       "    <tr>\n",
       "      <th>16</th>\n",
       "      <td>ENTITY#37</td>\n",
       "      <td>57</td>\n",
       "      <td>nikon d80</td>\n",
       "    </tr>\n",
       "    <tr>\n",
       "      <th>17</th>\n",
       "      <td>ENTITY#84</td>\n",
       "      <td>55</td>\n",
       "      <td>nikon d300</td>\n",
       "    </tr>\n",
       "    <tr>\n",
       "      <th>18</th>\n",
       "      <td>ENTITY#8</td>\n",
       "      <td>54</td>\n",
       "      <td>nikon 1 j3</td>\n",
       "    </tr>\n",
       "    <tr>\n",
       "      <th>19</th>\n",
       "      <td>ENTITY#7</td>\n",
       "      <td>53</td>\n",
       "      <td>olympus omd em5</td>\n",
       "    </tr>\n",
       "  </tbody>\n",
       "</table>\n",
       "</div>"
      ],
      "text/plain": [
       "     entity_id  size            entity_name\n",
       "0    ENTITY#44   184            nikon d3200\n",
       "1    ENTITY#23   178           canon eos 7d\n",
       "2    ENTITY#18   168          canon eos 60d\n",
       "3    ENTITY#36   155            nikon d3100\n",
       "4    ENTITY#41   144            nikon d5200\n",
       "5    ENTITY#21   137            nikon d5100\n",
       "6    ENTITY#75   130            nikon d7000\n",
       "7    ENTITY#96   125          canon eos 70d\n",
       "8     ENTITY#6   117            nikon d5300\n",
       "9   ENTITY#101   112  canon eos 5d mark iii\n",
       "10  ENTITY#102    95   canon eos 5d mark ii\n",
       "11   ENTITY#16    91              nikon d90\n",
       "12   ENTITY#57    80             nikon d800\n",
       "13   ENTITY#76    79             nikon d610\n",
       "14   ENTITY#19    79            nikon d3300\n",
       "15   ENTITY#58    78             nikon 1 j1\n",
       "16   ENTITY#37    57              nikon d80\n",
       "17   ENTITY#84    55             nikon d300\n",
       "18    ENTITY#8    54             nikon 1 j3\n",
       "19    ENTITY#7    53        olympus omd em5"
      ]
     },
     "execution_count": 18,
     "metadata": {},
     "output_type": "execute_result"
    }
   ],
   "source": [
    "top_n_clusters = grouped_alaska_df.size().sort_values(ascending=False).head(NUM_CLUSTERS)\n",
    "top_n_clusters = top_n_clusters.to_frame().reset_index()\n",
    "top_n_clusters = top_n_clusters.rename(columns={0: 'size'})\n",
    "top_n_clusters[\"entity_name\"] = top_n_clusters[\"entity_id\"].map(lambda x: gt_dict[x])\n",
    "top_n_clusters"
   ]
  },
  {
   "cell_type": "markdown",
   "metadata": {},
   "source": [
    "### Build a Dataframe using the selected product descriptions"
   ]
  },
  {
   "cell_type": "code",
   "execution_count": 19,
   "metadata": {
    "ExecuteTime": {
     "end_time": "2021-03-17T11:14:14.688913Z",
     "start_time": "2021-03-17T11:14:14.683986Z"
    }
   },
   "outputs": [
    {
     "data": {
      "text/plain": [
       "'The selected clusters contain 2171 product descriptions'"
      ]
     },
     "execution_count": 19,
     "metadata": {},
     "output_type": "execute_result"
    }
   ],
   "source": [
    "f'The selected clusters contain {top_n_clusters[\"size\"].sum()} product descriptions'"
   ]
  },
  {
   "cell_type": "code",
   "execution_count": 20,
   "metadata": {
    "ExecuteTime": {
     "end_time": "2021-03-17T11:14:14.931899Z",
     "start_time": "2021-03-17T11:14:14.927409Z"
    }
   },
   "outputs": [],
   "source": [
    "top_n_clusters_ids = top_n_clusters[\"entity_id\"].tolist()"
   ]
  },
  {
   "cell_type": "code",
   "execution_count": 21,
   "metadata": {
    "ExecuteTime": {
     "end_time": "2021-03-17T11:14:15.300923Z",
     "start_time": "2021-03-17T11:14:15.286140Z"
    }
   },
   "outputs": [],
   "source": [
    "df_list = []\n",
    "for cluster_id in top_n_clusters_ids:\n",
    "    selected_df = grouped_alaska_df.get_group(cluster_id)\n",
    "    df_list.append(selected_df)\n",
    "\n",
    "reduced_alaska_df = pd.concat(df_list, ignore_index=True)\n",
    "reduced_alaska_df = reduced_alaska_df.drop(columns=['spec_id'])"
   ]
  },
  {
   "cell_type": "code",
   "execution_count": 22,
   "metadata": {
    "ExecuteTime": {
     "end_time": "2021-03-17T11:14:15.979670Z",
     "start_time": "2021-03-17T11:14:15.966276Z"
    }
   },
   "outputs": [
    {
     "data": {
      "text/html": [
       "<div>\n",
       "<style scoped>\n",
       "    .dataframe tbody tr th:only-of-type {\n",
       "        vertical-align: middle;\n",
       "    }\n",
       "\n",
       "    .dataframe tbody tr th {\n",
       "        vertical-align: top;\n",
       "    }\n",
       "\n",
       "    .dataframe thead th {\n",
       "        text-align: right;\n",
       "    }\n",
       "</style>\n",
       "<table border=\"1\" class=\"dataframe\">\n",
       "  <thead>\n",
       "    <tr style=\"text-align: right;\">\n",
       "      <th></th>\n",
       "      <th>entity_id</th>\n",
       "      <th>page_title</th>\n",
       "    </tr>\n",
       "  </thead>\n",
       "  <tbody>\n",
       "    <tr>\n",
       "      <th>0</th>\n",
       "      <td>ENTITY#44</td>\n",
       "      <td>nikon d3200 dslr camera with 18 55mm and 55 20...</td>\n",
       "    </tr>\n",
       "    <tr>\n",
       "      <th>1</th>\n",
       "      <td>ENTITY#44</td>\n",
       "      <td>nikon d3200 + 18-55/3.5-5.6 + 55-200/4.0-5.6  ...</td>\n",
       "    </tr>\n",
       "    <tr>\n",
       "      <th>2</th>\n",
       "      <td>ENTITY#44</td>\n",
       "      <td>nikon d3200 digital dslr camera w 18 55mm 55 2...</td>\n",
       "    </tr>\n",
       "    <tr>\n",
       "      <th>3</th>\n",
       "      <td>ENTITY#44</td>\n",
       "      <td>nikon d3200 digital dslr camera 24 1 w 18 55mm...</td>\n",
       "    </tr>\n",
       "    <tr>\n",
       "      <th>4</th>\n",
       "      <td>ENTITY#44</td>\n",
       "      <td>nikon d3200 (body only) price in india, bangal...</td>\n",
       "    </tr>\n",
       "  </tbody>\n",
       "</table>\n",
       "</div>"
      ],
      "text/plain": [
       "   entity_id                                         page_title\n",
       "0  ENTITY#44  nikon d3200 dslr camera with 18 55mm and 55 20...\n",
       "1  ENTITY#44  nikon d3200 + 18-55/3.5-5.6 + 55-200/4.0-5.6  ...\n",
       "2  ENTITY#44  nikon d3200 digital dslr camera w 18 55mm 55 2...\n",
       "3  ENTITY#44  nikon d3200 digital dslr camera 24 1 w 18 55mm...\n",
       "4  ENTITY#44  nikon d3200 (body only) price in india, bangal..."
      ]
     },
     "execution_count": 22,
     "metadata": {},
     "output_type": "execute_result"
    }
   ],
   "source": [
    "reduced_alaska_df.head()"
   ]
  },
  {
   "cell_type": "code",
   "execution_count": 23,
   "metadata": {
    "ExecuteTime": {
     "end_time": "2021-03-17T11:14:16.380249Z",
     "start_time": "2021-03-17T11:14:16.374800Z"
    }
   },
   "outputs": [
    {
     "data": {
      "text/plain": [
       "(2171, 2)"
      ]
     },
     "execution_count": 23,
     "metadata": {},
     "output_type": "execute_result"
    }
   ],
   "source": [
    "reduced_alaska_df.shape"
   ]
  },
  {
   "cell_type": "markdown",
   "metadata": {},
   "source": [
    "## Merge clusters in order to get \"noisy\" ones"
   ]
  },
  {
   "cell_type": "markdown",
   "metadata": {},
   "source": [
    "Merging: \n",
    "- nikon d3200 (ENTITY#44) with olympus omd em5 (ENTITY#7) and canon eos 5d mark ii (ENTITY#102) (big + small + medium cluster\n",
    "- canon eos 7d (ENTITY#23) with nikon 1 j3 (ENTITY#8) (big + small cluster)\n",
    "- canon eos 60d (ENTITY#18) with nikon nikon d300 (ENTITY#84) (big + small cluster)\n",
    "- nikon d5200 (ENTITY#41) with nikon d5100 (ENTITY#21) and nikon d7000 (ENTITY#75) (same size)\n",
    "- nikon d610 (ENTITY#76) with nikon d3300 (ENTITY#19) with nikon 1 j1 (ENTITY#58)(same size)"
   ]
  },
  {
   "cell_type": "code",
   "execution_count": 24,
   "metadata": {
    "ExecuteTime": {
     "end_time": "2021-03-17T11:14:22.924069Z",
     "start_time": "2021-03-17T11:14:22.918451Z"
    }
   },
   "outputs": [],
   "source": [
    "noisy_mappings = {\"ENTITY#7\": \"ENTITY#44\",\n",
    "                  \"ENTITY#102\": \"ENTITY#44\",\n",
    "                  \"ENTITY#8\": \"ENTITY#23\",\n",
    "                  \"ENTITY#84\": \"ENTITY#18\",\n",
    "                  \"ENTITY#21\": \"ENTITY#41\",\n",
    "                  \"ENTITY#75\": \"ENTITY#41\",\n",
    "                  \"ENTITY#58\": \"ENTITY#76\",\n",
    "                  \"ENTITY#19\": \"ENTITY#76\"}\n",
    "\n",
    "reduced_alaska_df[\"entity_id\"] = reduced_alaska_df[\"entity_id\"].map(lambda x: noisy_mappings[x] if x in noisy_mappings else x)"
   ]
  },
  {
   "cell_type": "code",
   "execution_count": 25,
   "metadata": {
    "ExecuteTime": {
     "end_time": "2021-03-17T11:14:24.076234Z",
     "start_time": "2021-03-17T11:14:24.071090Z"
    }
   },
   "outputs": [
    {
     "data": {
      "text/plain": [
       "array(['ENTITY#44', 'ENTITY#23', 'ENTITY#18', 'ENTITY#36', 'ENTITY#41',\n",
       "       'ENTITY#96', 'ENTITY#6', 'ENTITY#101', 'ENTITY#16', 'ENTITY#57',\n",
       "       'ENTITY#76', 'ENTITY#37'], dtype=object)"
      ]
     },
     "execution_count": 25,
     "metadata": {},
     "output_type": "execute_result"
    }
   ],
   "source": [
    "reduced_alaska_df[\"entity_id\"].unique()"
   ]
  },
  {
   "cell_type": "code",
   "execution_count": 26,
   "metadata": {
    "ExecuteTime": {
     "end_time": "2021-03-17T11:14:35.832223Z",
     "start_time": "2021-03-17T11:14:35.828117Z"
    }
   },
   "outputs": [
    {
     "data": {
      "text/plain": [
       "12"
      ]
     },
     "execution_count": 26,
     "metadata": {},
     "output_type": "execute_result"
    }
   ],
   "source": [
    "len(reduced_alaska_df[\"entity_id\"].unique())"
   ]
  },
  {
   "cell_type": "markdown",
   "metadata": {},
   "source": [
    "## Convert the data to the `TrainingCorpus` format"
   ]
  },
  {
   "cell_type": "code",
   "execution_count": 27,
   "metadata": {
    "ExecuteTime": {
     "end_time": "2021-03-17T11:14:39.524520Z",
     "start_time": "2021-03-17T11:14:39.522036Z"
    }
   },
   "outputs": [],
   "source": [
    "reduced_alaska_dict = {}"
   ]
  },
  {
   "cell_type": "markdown",
   "metadata": {},
   "source": [
    "### Define the `docs` field"
   ]
  },
  {
   "cell_type": "code",
   "execution_count": 28,
   "metadata": {
    "ExecuteTime": {
     "end_time": "2021-03-17T11:14:40.634158Z",
     "start_time": "2021-03-17T11:14:40.630084Z"
    }
   },
   "outputs": [],
   "source": [
    "reduced_alaska_dict['docs'] = reduced_alaska_df.index.tolist()"
   ]
  },
  {
   "cell_type": "markdown",
   "metadata": {},
   "source": [
    "### Define the `texts` field"
   ]
  },
  {
   "cell_type": "code",
   "execution_count": 29,
   "metadata": {
    "ExecuteTime": {
     "end_time": "2021-03-17T11:14:42.255182Z",
     "start_time": "2021-03-17T11:14:42.251198Z"
    }
   },
   "outputs": [],
   "source": [
    "reduced_alaska_dict['texts'] = reduced_alaska_df['page_title'].tolist()"
   ]
  },
  {
   "cell_type": "markdown",
   "metadata": {},
   "source": [
    "### Define the `tokens` field"
   ]
  },
  {
   "cell_type": "code",
   "execution_count": 30,
   "metadata": {
    "ExecuteTime": {
     "end_time": "2021-03-17T11:14:43.338600Z",
     "start_time": "2021-03-17T11:14:43.336057Z"
    }
   },
   "outputs": [],
   "source": [
    "src_dir = 'src'"
   ]
  },
  {
   "cell_type": "code",
   "execution_count": 31,
   "metadata": {
    "ExecuteTime": {
     "end_time": "2021-03-17T11:14:44.064880Z",
     "start_time": "2021-03-17T11:14:44.062484Z"
    }
   },
   "outputs": [],
   "source": [
    "import sys"
   ]
  },
  {
   "cell_type": "code",
   "execution_count": 32,
   "metadata": {
    "ExecuteTime": {
     "end_time": "2021-03-17T11:14:45.087238Z",
     "start_time": "2021-03-17T11:14:45.084376Z"
    }
   },
   "outputs": [],
   "source": [
    "sys.path.append(os.path.join(root_dir, src_dir))"
   ]
  },
  {
   "cell_type": "code",
   "execution_count": 33,
   "metadata": {
    "ExecuteTime": {
     "end_time": "2021-03-17T11:14:47.260765Z",
     "start_time": "2021-03-17T11:14:45.761295Z"
    }
   },
   "outputs": [],
   "source": [
    "from training import TrainingCorpus"
   ]
  },
  {
   "cell_type": "code",
   "execution_count": 34,
   "metadata": {
    "ExecuteTime": {
     "end_time": "2021-03-17T11:14:47.638739Z",
     "start_time": "2021-03-17T11:14:47.263152Z"
    }
   },
   "outputs": [],
   "source": [
    "reduced_alaska_dict['tokens'] = reduced_alaska_df['page_title']\\\n",
    ".map(lambda x: TrainingCorpus.tokenize(x.lower())).tolist()"
   ]
  },
  {
   "cell_type": "markdown",
   "metadata": {
    "ExecuteTime": {
     "end_time": "2020-09-21T15:43:58.834548Z",
     "start_time": "2020-09-21T15:43:58.661651Z"
    }
   },
   "source": [
    "### Define the `labels` field"
   ]
  },
  {
   "cell_type": "code",
   "execution_count": 35,
   "metadata": {
    "ExecuteTime": {
     "end_time": "2021-03-17T11:14:50.851034Z",
     "start_time": "2021-03-17T11:14:50.846716Z"
    }
   },
   "outputs": [],
   "source": [
    "reduced_alaska_dict['labels'] = sorted(reduced_alaska_df['entity_id'].unique().tolist(), \n",
    "                                       key=lambda x: int(x.split('#')[1]))"
   ]
  },
  {
   "cell_type": "markdown",
   "metadata": {
    "ExecuteTime": {
     "end_time": "2020-09-21T15:46:39.827848Z",
     "start_time": "2020-09-21T15:46:39.820220Z"
    }
   },
   "source": [
    "### Define the `target` field"
   ]
  },
  {
   "cell_type": "code",
   "execution_count": 36,
   "metadata": {
    "ExecuteTime": {
     "end_time": "2021-03-17T11:14:53.454458Z",
     "start_time": "2021-03-17T11:14:53.446479Z"
    }
   },
   "outputs": [],
   "source": [
    "reduced_alaska_dict['target'] = reduced_alaska_df['entity_id'].map(lambda x: [x]).to_dict()"
   ]
  },
  {
   "cell_type": "markdown",
   "metadata": {},
   "source": [
    "---"
   ]
  },
  {
   "cell_type": "markdown",
   "metadata": {},
   "source": [
    "## Save to JSON file"
   ]
  },
  {
   "cell_type": "code",
   "execution_count": 37,
   "metadata": {
    "ExecuteTime": {
     "end_time": "2021-03-17T11:15:12.060376Z",
     "start_time": "2021-03-17T11:15:12.057520Z"
    }
   },
   "outputs": [],
   "source": [
    "dataset_filename = 'alaska_corpus_noisy.json'\n",
    "dataset_filepath = os.path.join(root_dir, data_dir, dataset_filename)"
   ]
  },
  {
   "cell_type": "code",
   "execution_count": 38,
   "metadata": {
    "ExecuteTime": {
     "end_time": "2021-03-17T11:15:12.567246Z",
     "start_time": "2021-03-17T11:15:12.535531Z"
    }
   },
   "outputs": [],
   "source": [
    "with open(dataset_filepath, 'w') as fd:\n",
    "    json.dump(reduced_alaska_dict, fd)"
   ]
  },
  {
   "cell_type": "markdown",
   "metadata": {},
   "source": [
    "---"
   ]
  },
  {
   "cell_type": "markdown",
   "metadata": {},
   "source": [
    "## Open the dataset as an instance of the `TrainingCorpus` class"
   ]
  },
  {
   "cell_type": "code",
   "execution_count": 39,
   "metadata": {
    "ExecuteTime": {
     "end_time": "2021-03-17T11:15:16.516979Z",
     "start_time": "2021-03-17T11:15:16.492833Z"
    }
   },
   "outputs": [],
   "source": [
    "alaska_corpus = TrainingCorpus()\n",
    "alaska_corpus.load(dataset_filepath)"
   ]
  },
  {
   "cell_type": "code",
   "execution_count": 40,
   "metadata": {
    "ExecuteTime": {
     "end_time": "2021-03-17T11:15:17.501939Z",
     "start_time": "2021-03-17T11:15:17.497865Z"
    }
   },
   "outputs": [
    {
     "data": {
      "text/plain": [
       "'nikon d3200 dslr camera with 18 55mm and 55 200mm lenses black | ebay'"
      ]
     },
     "execution_count": 40,
     "metadata": {},
     "output_type": "execute_result"
    }
   ],
   "source": [
    "alaska_corpus.get_text(0)"
   ]
  },
  {
   "cell_type": "code",
   "execution_count": 41,
   "metadata": {
    "ExecuteTime": {
     "end_time": "2021-03-17T11:15:19.414215Z",
     "start_time": "2021-03-17T11:15:19.409883Z"
    }
   },
   "outputs": [
    {
     "data": {
      "text/plain": [
       "['nikon',\n",
       " 'd3200',\n",
       " 'dslr',\n",
       " 'camera',\n",
       " '18',\n",
       " '55mm',\n",
       " '55',\n",
       " '200mm',\n",
       " 'lenses',\n",
       " 'black',\n",
       " 'ebay']"
      ]
     },
     "execution_count": 41,
     "metadata": {},
     "output_type": "execute_result"
    }
   ],
   "source": [
    "alaska_corpus.get_tokens(0)"
   ]
  },
  {
   "cell_type": "markdown",
   "metadata": {},
   "source": [
    "---"
   ]
  },
  {
   "cell_type": "markdown",
   "metadata": {},
   "source": [
    "## Compute noun chunks"
   ]
  },
  {
   "cell_type": "code",
   "execution_count": 42,
   "metadata": {
    "ExecuteTime": {
     "end_time": "2021-03-17T11:15:22.918804Z",
     "start_time": "2021-03-17T11:15:22.915180Z"
    }
   },
   "outputs": [],
   "source": [
    "chunks_filename = 'alaska_chunks_noisy.json'\n",
    "chunks_filepath = os.path.join(root_dir, data_dir, chunks_filename)"
   ]
  },
  {
   "cell_type": "code",
   "execution_count": 43,
   "metadata": {
    "ExecuteTime": {
     "end_time": "2021-03-17T11:15:23.678373Z",
     "start_time": "2021-03-17T11:15:23.674581Z"
    }
   },
   "outputs": [
    {
     "data": {
      "text/plain": [
       "'../../data/corpus/alaska_chunks_noisy.json'"
      ]
     },
     "execution_count": 43,
     "metadata": {},
     "output_type": "execute_result"
    }
   ],
   "source": [
    "chunks_filepath"
   ]
  },
  {
   "cell_type": "code",
   "execution_count": 44,
   "metadata": {
    "ExecuteTime": {
     "end_time": "2021-03-17T11:15:46.651869Z",
     "start_time": "2021-03-17T11:15:25.890642Z"
    }
   },
   "outputs": [
    {
     "name": "stderr",
     "output_type": "stream",
     "text": [
      "100%|██████████| 2171/2171 [00:19<00:00, 109.46it/s]\n"
     ]
    }
   ],
   "source": [
    "alaska_corpus.detect_chunks()"
   ]
  },
  {
   "cell_type": "code",
   "execution_count": 45,
   "metadata": {
    "ExecuteTime": {
     "end_time": "2021-03-17T11:15:48.480686Z",
     "start_time": "2021-03-17T11:15:48.459569Z"
    }
   },
   "outputs": [],
   "source": [
    "alaska_corpus.save_chunks(chunks_filepath)"
   ]
  },
  {
   "cell_type": "markdown",
   "metadata": {},
   "source": [
    "---"
   ]
  },
  {
   "cell_type": "markdown",
   "metadata": {},
   "source": [
    "## Load chunks"
   ]
  },
  {
   "cell_type": "code",
   "execution_count": 46,
   "metadata": {
    "ExecuteTime": {
     "end_time": "2021-03-17T11:15:49.617970Z",
     "start_time": "2021-03-17T11:15:49.605316Z"
    }
   },
   "outputs": [],
   "source": [
    "alaska_corpus.load_chunks(chunks_filepath)"
   ]
  },
  {
   "cell_type": "code",
   "execution_count": 47,
   "metadata": {
    "ExecuteTime": {
     "end_time": "2021-03-17T11:15:50.039912Z",
     "start_time": "2021-03-17T11:15:50.034648Z"
    }
   },
   "outputs": [
    {
     "data": {
      "text/plain": [
       "[('nikon_d3200_dslr_camera', 5), ('18_55mm', 55), ('55_200mm_lenses', 2)]"
      ]
     },
     "execution_count": 47,
     "metadata": {},
     "output_type": "execute_result"
    }
   ],
   "source": [
    "list(alaska_corpus.noun_chunks.items())[:3]"
   ]
  },
  {
   "cell_type": "code",
   "execution_count": 48,
   "metadata": {
    "ExecuteTime": {
     "end_time": "2021-03-17T11:15:50.557140Z",
     "start_time": "2021-03-17T11:15:50.551891Z"
    }
   },
   "outputs": [
    {
     "data": {
      "text/plain": [
       "['nikon_d3200_dslr_camera', '18_55mm', '55_200mm_lenses', 'black_ebay']"
      ]
     },
     "execution_count": 48,
     "metadata": {},
     "output_type": "execute_result"
    }
   ],
   "source": [
    "alaska_corpus.get_chunk_document(0, threshold=0)"
   ]
  },
  {
   "cell_type": "code",
   "execution_count": 49,
   "metadata": {
    "ExecuteTime": {
     "end_time": "2021-03-17T11:15:51.109319Z",
     "start_time": "2021-03-17T11:15:51.104298Z"
    }
   },
   "outputs": [
    {
     "data": {
      "text/plain": [
       "'nikon d3200 dslr camera with 18 55mm and 55 200mm lenses black | ebay'"
      ]
     },
     "execution_count": 49,
     "metadata": {},
     "output_type": "execute_result"
    }
   ],
   "source": [
    "alaska_corpus.get_text(0)"
   ]
  },
  {
   "cell_type": "code",
   "execution_count": 50,
   "metadata": {
    "ExecuteTime": {
     "end_time": "2021-03-17T11:15:51.825063Z",
     "start_time": "2021-03-17T11:15:51.821050Z"
    }
   },
   "outputs": [
    {
     "data": {
      "text/plain": [
       "['nikon',\n",
       " 'd3200',\n",
       " 'dslr',\n",
       " 'camera',\n",
       " '18',\n",
       " '55mm',\n",
       " '55',\n",
       " '200mm',\n",
       " 'lenses',\n",
       " 'black',\n",
       " 'ebay']"
      ]
     },
     "execution_count": 50,
     "metadata": {},
     "output_type": "execute_result"
    }
   ],
   "source": [
    "alaska_corpus.get_tokens(0)"
   ]
  },
  {
   "cell_type": "markdown",
   "metadata": {},
   "source": [
    "---"
   ]
  }
 ],
 "metadata": {
  "kernelspec": {
   "display_name": "Python 3",
   "language": "python",
   "name": "python3"
  },
  "language_info": {
   "codemirror_mode": {
    "name": "ipython",
    "version": 3
   },
   "file_extension": ".py",
   "mimetype": "text/x-python",
   "name": "python",
   "nbconvert_exporter": "python",
   "pygments_lexer": "ipython3",
   "version": "3.8.1"
  },
  "toc": {
   "base_numbering": 1,
   "nav_menu": {},
   "number_sections": true,
   "sideBar": true,
   "skip_h1_title": false,
   "title_cell": "Table of Contents",
   "title_sidebar": "Contents",
   "toc_cell": false,
   "toc_position": {},
   "toc_section_display": true,
   "toc_window_display": false
  }
 },
 "nbformat": 4,
 "nbformat_minor": 2
}
