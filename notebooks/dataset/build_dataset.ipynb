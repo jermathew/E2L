{
 "cells": [
  {
   "cell_type": "markdown",
   "metadata": {},
   "source": [
    "# Build the dataset\n",
    "Build a dataset of `<product description>` `<product id` pairs"
   ]
  },
  {
   "cell_type": "markdown",
   "metadata": {},
   "source": [
    "---"
   ]
  },
  {
   "cell_type": "markdown",
   "metadata": {},
   "source": [
    "## Define filepaths"
   ]
  },
  {
   "cell_type": "code",
   "execution_count": 1,
   "metadata": {
    "ExecuteTime": {
     "end_time": "2020-09-22T09:23:11.064986Z",
     "start_time": "2020-09-22T09:23:11.057637Z"
    }
   },
   "outputs": [],
   "source": [
    "root_dir = '../..'\n",
    "data_dir = 'data/corpus'\n",
    "alaska_dir = 'alaska_camera'"
   ]
  },
  {
   "cell_type": "markdown",
   "metadata": {},
   "source": [
    "---"
   ]
  },
  {
   "cell_type": "markdown",
   "metadata": {},
   "source": [
    "## Load the dataset"
   ]
  },
  {
   "cell_type": "markdown",
   "metadata": {},
   "source": [
    "### Load the Alaska camera dataset for entity resolution (ER)"
   ]
  },
  {
   "cell_type": "code",
   "execution_count": 2,
   "metadata": {
    "ExecuteTime": {
     "end_time": "2020-09-22T09:23:13.027412Z",
     "start_time": "2020-09-22T09:23:12.414710Z"
    }
   },
   "outputs": [],
   "source": [
    "import os\n",
    "import pandas as pd"
   ]
  },
  {
   "cell_type": "code",
   "execution_count": 3,
   "metadata": {
    "ExecuteTime": {
     "end_time": "2020-09-22T09:23:14.347317Z",
     "start_time": "2020-09-22T09:23:14.343184Z"
    }
   },
   "outputs": [],
   "source": [
    "filename = 'camera_entity_resolution_gt.xlsx'"
   ]
  },
  {
   "cell_type": "code",
   "execution_count": 4,
   "metadata": {
    "ExecuteTime": {
     "end_time": "2020-09-22T09:23:15.306706Z",
     "start_time": "2020-09-22T09:23:15.124371Z"
    }
   },
   "outputs": [
    {
     "data": {
      "text/html": [
       "<div>\n",
       "<style scoped>\n",
       "    .dataframe tbody tr th:only-of-type {\n",
       "        vertical-align: middle;\n",
       "    }\n",
       "\n",
       "    .dataframe tbody tr th {\n",
       "        vertical-align: top;\n",
       "    }\n",
       "\n",
       "    .dataframe thead th {\n",
       "        text-align: right;\n",
       "    }\n",
       "</style>\n",
       "<table border=\"1\" class=\"dataframe\">\n",
       "  <thead>\n",
       "    <tr style=\"text-align: right;\">\n",
       "      <th></th>\n",
       "      <th>entity_id,spec_id</th>\n",
       "    </tr>\n",
       "  </thead>\n",
       "  <tbody>\n",
       "    <tr>\n",
       "      <td>0</td>\n",
       "      <td>ENTITY#1,buy.net//4236</td>\n",
       "    </tr>\n",
       "    <tr>\n",
       "      <td>1</td>\n",
       "      <td>ENTITY#1,www.ebay.com//46670</td>\n",
       "    </tr>\n",
       "    <tr>\n",
       "      <td>2</td>\n",
       "      <td>ENTITY#10,www.pcconnection.com//12363</td>\n",
       "    </tr>\n",
       "    <tr>\n",
       "      <td>3</td>\n",
       "      <td>ENTITY#10,buy.net//6531</td>\n",
       "    </tr>\n",
       "    <tr>\n",
       "      <td>4</td>\n",
       "      <td>ENTITY#10,www.shopmania.in//698</td>\n",
       "    </tr>\n",
       "  </tbody>\n",
       "</table>\n",
       "</div>"
      ],
      "text/plain": [
       "                       entity_id,spec_id\n",
       "0                 ENTITY#1,buy.net//4236\n",
       "1           ENTITY#1,www.ebay.com//46670\n",
       "2  ENTITY#10,www.pcconnection.com//12363\n",
       "3                ENTITY#10,buy.net//6531\n",
       "4        ENTITY#10,www.shopmania.in//698"
      ]
     },
     "execution_count": 4,
     "metadata": {},
     "output_type": "execute_result"
    }
   ],
   "source": [
    "alaska_camera_df = pd.read_excel(os.path.join(root_dir, data_dir, filename))\n",
    "alaska_camera_df.head()"
   ]
  },
  {
   "cell_type": "code",
   "execution_count": 5,
   "metadata": {
    "ExecuteTime": {
     "end_time": "2020-09-22T09:23:23.288453Z",
     "start_time": "2020-09-22T09:23:23.281178Z"
    }
   },
   "outputs": [
    {
     "data": {
      "text/plain": [
       "(3865, 1)"
      ]
     },
     "execution_count": 5,
     "metadata": {},
     "output_type": "execute_result"
    }
   ],
   "source": [
    "alaska_camera_df.shape"
   ]
  },
  {
   "cell_type": "code",
   "execution_count": 6,
   "metadata": {
    "ExecuteTime": {
     "end_time": "2020-09-22T09:23:23.638072Z",
     "start_time": "2020-09-22T09:23:23.625615Z"
    }
   },
   "outputs": [],
   "source": [
    "alaska_camera_df['entity_id'] = alaska_camera_df['entity_id,spec_id'].map(lambda x: x.split(',')[0])\n",
    "alaska_camera_df['spec_id'] = alaska_camera_df['entity_id,spec_id'].map(lambda x: x.split(',')[1])"
   ]
  },
  {
   "cell_type": "code",
   "execution_count": 7,
   "metadata": {
    "ExecuteTime": {
     "end_time": "2020-09-22T09:23:26.142871Z",
     "start_time": "2020-09-22T09:23:26.124392Z"
    }
   },
   "outputs": [
    {
     "data": {
      "text/html": [
       "<div>\n",
       "<style scoped>\n",
       "    .dataframe tbody tr th:only-of-type {\n",
       "        vertical-align: middle;\n",
       "    }\n",
       "\n",
       "    .dataframe tbody tr th {\n",
       "        vertical-align: top;\n",
       "    }\n",
       "\n",
       "    .dataframe thead th {\n",
       "        text-align: right;\n",
       "    }\n",
       "</style>\n",
       "<table border=\"1\" class=\"dataframe\">\n",
       "  <thead>\n",
       "    <tr style=\"text-align: right;\">\n",
       "      <th></th>\n",
       "      <th>entity_id</th>\n",
       "      <th>spec_id</th>\n",
       "    </tr>\n",
       "  </thead>\n",
       "  <tbody>\n",
       "    <tr>\n",
       "      <td>0</td>\n",
       "      <td>ENTITY#1</td>\n",
       "      <td>buy.net//4236</td>\n",
       "    </tr>\n",
       "    <tr>\n",
       "      <td>1</td>\n",
       "      <td>ENTITY#1</td>\n",
       "      <td>www.ebay.com//46670</td>\n",
       "    </tr>\n",
       "    <tr>\n",
       "      <td>2</td>\n",
       "      <td>ENTITY#10</td>\n",
       "      <td>www.pcconnection.com//12363</td>\n",
       "    </tr>\n",
       "    <tr>\n",
       "      <td>3</td>\n",
       "      <td>ENTITY#10</td>\n",
       "      <td>buy.net//6531</td>\n",
       "    </tr>\n",
       "    <tr>\n",
       "      <td>4</td>\n",
       "      <td>ENTITY#10</td>\n",
       "      <td>www.shopmania.in//698</td>\n",
       "    </tr>\n",
       "  </tbody>\n",
       "</table>\n",
       "</div>"
      ],
      "text/plain": [
       "   entity_id                      spec_id\n",
       "0   ENTITY#1                buy.net//4236\n",
       "1   ENTITY#1          www.ebay.com//46670\n",
       "2  ENTITY#10  www.pcconnection.com//12363\n",
       "3  ENTITY#10                buy.net//6531\n",
       "4  ENTITY#10        www.shopmania.in//698"
      ]
     },
     "execution_count": 7,
     "metadata": {},
     "output_type": "execute_result"
    }
   ],
   "source": [
    "alaska_camera_df = alaska_camera_df.drop(columns=['entity_id,spec_id'])\n",
    "alaska_camera_df.head()"
   ]
  },
  {
   "cell_type": "markdown",
   "metadata": {},
   "source": [
    "### Load the product description for each `spec_id`"
   ]
  },
  {
   "cell_type": "code",
   "execution_count": 8,
   "metadata": {
    "ExecuteTime": {
     "end_time": "2020-09-22T09:23:28.165897Z",
     "start_time": "2020-09-22T09:23:28.162455Z"
    }
   },
   "outputs": [],
   "source": [
    "import json"
   ]
  },
  {
   "cell_type": "code",
   "execution_count": 9,
   "metadata": {
    "ExecuteTime": {
     "end_time": "2020-09-22T09:23:28.472584Z",
     "start_time": "2020-09-22T09:23:28.466517Z"
    }
   },
   "outputs": [],
   "source": [
    "def parse_json(source, product_id):\n",
    "    product_id = product_id + '.json'\n",
    "    filepath = os.path.join(root_dir, data_dir, alaska_dir, source, product_id)\n",
    "    with open(filepath) as fd:\n",
    "        data = json.load(fd)\n",
    "    return data"
   ]
  },
  {
   "cell_type": "code",
   "execution_count": 10,
   "metadata": {
    "ExecuteTime": {
     "end_time": "2020-09-22T09:24:15.610140Z",
     "start_time": "2020-09-22T09:24:15.261811Z"
    }
   },
   "outputs": [],
   "source": [
    "alaska_camera_df['page_title'] = alaska_camera_df['spec_id'].map(lambda x: parse_json(*x.split('//'))['<page title>'])\n",
    "alaska_camera_df['page_title'] = alaska_camera_df['page_title'].map(lambda x: x.lower())"
   ]
  },
  {
   "cell_type": "code",
   "execution_count": 11,
   "metadata": {
    "ExecuteTime": {
     "end_time": "2020-09-22T09:24:15.938808Z",
     "start_time": "2020-09-22T09:24:15.926980Z"
    }
   },
   "outputs": [
    {
     "data": {
      "text/html": [
       "<div>\n",
       "<style scoped>\n",
       "    .dataframe tbody tr th:only-of-type {\n",
       "        vertical-align: middle;\n",
       "    }\n",
       "\n",
       "    .dataframe tbody tr th {\n",
       "        vertical-align: top;\n",
       "    }\n",
       "\n",
       "    .dataframe thead th {\n",
       "        text-align: right;\n",
       "    }\n",
       "</style>\n",
       "<table border=\"1\" class=\"dataframe\">\n",
       "  <thead>\n",
       "    <tr style=\"text-align: right;\">\n",
       "      <th></th>\n",
       "      <th>entity_id</th>\n",
       "      <th>spec_id</th>\n",
       "      <th>page_title</th>\n",
       "    </tr>\n",
       "  </thead>\n",
       "  <tbody>\n",
       "    <tr>\n",
       "      <td>0</td>\n",
       "      <td>ENTITY#1</td>\n",
       "      <td>buy.net//4236</td>\n",
       "      <td>polaroid is426 16 megapixel compact camera - r...</td>\n",
       "    </tr>\n",
       "    <tr>\n",
       "      <td>1</td>\n",
       "      <td>ENTITY#1</td>\n",
       "      <td>www.ebay.com//46670</td>\n",
       "      <td>camera polaroid is426 4x zoom | ebay</td>\n",
       "    </tr>\n",
       "    <tr>\n",
       "      <td>2</td>\n",
       "      <td>ENTITY#10</td>\n",
       "      <td>www.pcconnection.com//12363</td>\n",
       "      <td>buy sony a7 interchangeable lens camera with l...</td>\n",
       "    </tr>\n",
       "    <tr>\n",
       "      <td>3</td>\n",
       "      <td>ENTITY#10</td>\n",
       "      <td>buy.net//6531</td>\n",
       "      <td>sony alpha a7 black digital camera kit w/ 28-7...</td>\n",
       "    </tr>\n",
       "    <tr>\n",
       "      <td>4</td>\n",
       "      <td>ENTITY#10</td>\n",
       "      <td>www.shopmania.in//698</td>\n",
       "      <td>sony alpha 7 kit 28-70mm digital camera prices...</td>\n",
       "    </tr>\n",
       "  </tbody>\n",
       "</table>\n",
       "</div>"
      ],
      "text/plain": [
       "   entity_id                      spec_id  \\\n",
       "0   ENTITY#1                buy.net//4236   \n",
       "1   ENTITY#1          www.ebay.com//46670   \n",
       "2  ENTITY#10  www.pcconnection.com//12363   \n",
       "3  ENTITY#10                buy.net//6531   \n",
       "4  ENTITY#10        www.shopmania.in//698   \n",
       "\n",
       "                                          page_title  \n",
       "0  polaroid is426 16 megapixel compact camera - r...  \n",
       "1               camera polaroid is426 4x zoom | ebay  \n",
       "2  buy sony a7 interchangeable lens camera with l...  \n",
       "3  sony alpha a7 black digital camera kit w/ 28-7...  \n",
       "4  sony alpha 7 kit 28-70mm digital camera prices...  "
      ]
     },
     "execution_count": 11,
     "metadata": {},
     "output_type": "execute_result"
    }
   ],
   "source": [
    "alaska_camera_df.head()"
   ]
  },
  {
   "cell_type": "markdown",
   "metadata": {},
   "source": [
    "---"
   ]
  },
  {
   "cell_type": "markdown",
   "metadata": {},
   "source": [
    "## Select clusters by their size"
   ]
  },
  {
   "cell_type": "code",
   "execution_count": 12,
   "metadata": {
    "ExecuteTime": {
     "end_time": "2020-09-22T09:24:17.531029Z",
     "start_time": "2020-09-22T09:24:17.513469Z"
    }
   },
   "outputs": [],
   "source": [
    "grouped_alaska_df = alaska_camera_df.groupby('entity_id')"
   ]
  },
  {
   "cell_type": "code",
   "execution_count": 13,
   "metadata": {
    "ExecuteTime": {
     "end_time": "2020-09-22T09:24:17.893436Z",
     "start_time": "2020-09-22T09:24:17.884140Z"
    }
   },
   "outputs": [
    {
     "name": "stdout",
     "output_type": "stream",
     "text": [
      "There are 103 clusters\n"
     ]
    }
   ],
   "source": [
    "print(f'There are {grouped_alaska_df.size().shape[0]} clusters')"
   ]
  },
  {
   "cell_type": "code",
   "execution_count": 14,
   "metadata": {
    "ExecuteTime": {
     "end_time": "2020-09-22T09:24:18.454552Z",
     "start_time": "2020-09-22T09:24:18.449921Z"
    }
   },
   "outputs": [],
   "source": [
    "NUM_CLUSTERS = 10"
   ]
  },
  {
   "cell_type": "code",
   "execution_count": 15,
   "metadata": {
    "ExecuteTime": {
     "end_time": "2020-09-22T09:24:18.761029Z",
     "start_time": "2020-09-22T09:24:18.750862Z"
    }
   },
   "outputs": [
    {
     "data": {
      "text/plain": [
       "entity_id\n",
       "ENTITY#44     184\n",
       "ENTITY#23     178\n",
       "ENTITY#18     168\n",
       "ENTITY#36     155\n",
       "ENTITY#41     144\n",
       "ENTITY#21     137\n",
       "ENTITY#75     130\n",
       "ENTITY#96     125\n",
       "ENTITY#6      117\n",
       "ENTITY#101    112\n",
       "dtype: int64"
      ]
     },
     "execution_count": 15,
     "metadata": {},
     "output_type": "execute_result"
    }
   ],
   "source": [
    "top_n_clusters = grouped_alaska_df.size().sort_values(ascending=False).head(NUM_CLUSTERS)\n",
    "top_n_clusters"
   ]
  },
  {
   "cell_type": "code",
   "execution_count": 16,
   "metadata": {
    "ExecuteTime": {
     "end_time": "2020-09-22T09:24:19.211106Z",
     "start_time": "2020-09-22T09:24:19.205169Z"
    }
   },
   "outputs": [
    {
     "data": {
      "text/plain": [
       "'The selected clusters contain 1450 product descriptions'"
      ]
     },
     "execution_count": 16,
     "metadata": {},
     "output_type": "execute_result"
    }
   ],
   "source": [
    "f'The selected clusters contain {top_n_clusters.values.sum()} product descriptions'"
   ]
  },
  {
   "cell_type": "code",
   "execution_count": 17,
   "metadata": {
    "ExecuteTime": {
     "end_time": "2020-09-22T09:24:19.647110Z",
     "start_time": "2020-09-22T09:24:19.643224Z"
    }
   },
   "outputs": [],
   "source": [
    "top_n_clusters_ids = top_n_clusters.index.tolist()"
   ]
  },
  {
   "cell_type": "code",
   "execution_count": 18,
   "metadata": {
    "ExecuteTime": {
     "end_time": "2020-09-22T09:24:20.312237Z",
     "start_time": "2020-09-22T09:24:20.298489Z"
    }
   },
   "outputs": [],
   "source": [
    "df_list = []\n",
    "for cluster_id in top_n_clusters_ids:\n",
    "    selected_df = grouped_alaska_df.get_group(cluster_id)\n",
    "    df_list.append(selected_df)\n",
    "\n",
    "reduced_alaska_df = pd.concat(df_list, ignore_index=True)\n",
    "reduced_alaska_df = reduced_alaska_df.drop(columns=['spec_id'])"
   ]
  },
  {
   "cell_type": "code",
   "execution_count": 19,
   "metadata": {
    "ExecuteTime": {
     "end_time": "2020-09-22T09:24:20.688051Z",
     "start_time": "2020-09-22T09:24:20.675263Z"
    }
   },
   "outputs": [
    {
     "data": {
      "text/html": [
       "<div>\n",
       "<style scoped>\n",
       "    .dataframe tbody tr th:only-of-type {\n",
       "        vertical-align: middle;\n",
       "    }\n",
       "\n",
       "    .dataframe tbody tr th {\n",
       "        vertical-align: top;\n",
       "    }\n",
       "\n",
       "    .dataframe thead th {\n",
       "        text-align: right;\n",
       "    }\n",
       "</style>\n",
       "<table border=\"1\" class=\"dataframe\">\n",
       "  <thead>\n",
       "    <tr style=\"text-align: right;\">\n",
       "      <th></th>\n",
       "      <th>entity_id</th>\n",
       "      <th>page_title</th>\n",
       "    </tr>\n",
       "  </thead>\n",
       "  <tbody>\n",
       "    <tr>\n",
       "      <td>0</td>\n",
       "      <td>ENTITY#44</td>\n",
       "      <td>nikon d3200 dslr camera with 18 55mm and 55 20...</td>\n",
       "    </tr>\n",
       "    <tr>\n",
       "      <td>1</td>\n",
       "      <td>ENTITY#44</td>\n",
       "      <td>nikon d3200 + 18-55/3.5-5.6 + 55-200/4.0-5.6  ...</td>\n",
       "    </tr>\n",
       "    <tr>\n",
       "      <td>2</td>\n",
       "      <td>ENTITY#44</td>\n",
       "      <td>nikon d3200 digital dslr camera w 18 55mm 55 2...</td>\n",
       "    </tr>\n",
       "    <tr>\n",
       "      <td>3</td>\n",
       "      <td>ENTITY#44</td>\n",
       "      <td>nikon d3200 digital dslr camera 24 1 w 18 55mm...</td>\n",
       "    </tr>\n",
       "    <tr>\n",
       "      <td>4</td>\n",
       "      <td>ENTITY#44</td>\n",
       "      <td>nikon d3200 (body only) price in india, bangal...</td>\n",
       "    </tr>\n",
       "  </tbody>\n",
       "</table>\n",
       "</div>"
      ],
      "text/plain": [
       "   entity_id                                         page_title\n",
       "0  ENTITY#44  nikon d3200 dslr camera with 18 55mm and 55 20...\n",
       "1  ENTITY#44  nikon d3200 + 18-55/3.5-5.6 + 55-200/4.0-5.6  ...\n",
       "2  ENTITY#44  nikon d3200 digital dslr camera w 18 55mm 55 2...\n",
       "3  ENTITY#44  nikon d3200 digital dslr camera 24 1 w 18 55mm...\n",
       "4  ENTITY#44  nikon d3200 (body only) price in india, bangal..."
      ]
     },
     "execution_count": 19,
     "metadata": {},
     "output_type": "execute_result"
    }
   ],
   "source": [
    "reduced_alaska_df.head()"
   ]
  },
  {
   "cell_type": "code",
   "execution_count": 20,
   "metadata": {
    "ExecuteTime": {
     "end_time": "2020-09-22T09:24:23.462200Z",
     "start_time": "2020-09-22T09:24:23.453392Z"
    }
   },
   "outputs": [
    {
     "data": {
      "text/plain": [
       "(1450, 2)"
      ]
     },
     "execution_count": 20,
     "metadata": {},
     "output_type": "execute_result"
    }
   ],
   "source": [
    "reduced_alaska_df.shape"
   ]
  },
  {
   "cell_type": "markdown",
   "metadata": {},
   "source": [
    "## Convert the data to the `TrainingCorpus` format"
   ]
  },
  {
   "cell_type": "code",
   "execution_count": 21,
   "metadata": {
    "ExecuteTime": {
     "end_time": "2020-09-22T09:24:24.453165Z",
     "start_time": "2020-09-22T09:24:24.449317Z"
    }
   },
   "outputs": [],
   "source": [
    "reduced_alaska_dict = {}"
   ]
  },
  {
   "cell_type": "markdown",
   "metadata": {},
   "source": [
    "### Define the `docs` field"
   ]
  },
  {
   "cell_type": "code",
   "execution_count": 22,
   "metadata": {
    "ExecuteTime": {
     "end_time": "2020-09-22T09:24:25.258351Z",
     "start_time": "2020-09-22T09:24:25.252527Z"
    }
   },
   "outputs": [],
   "source": [
    "reduced_alaska_dict['docs'] = reduced_alaska_df.index.tolist()"
   ]
  },
  {
   "cell_type": "markdown",
   "metadata": {},
   "source": [
    "### Define the `texts` field"
   ]
  },
  {
   "cell_type": "code",
   "execution_count": 23,
   "metadata": {
    "ExecuteTime": {
     "end_time": "2020-09-22T09:24:25.929505Z",
     "start_time": "2020-09-22T09:24:25.924991Z"
    }
   },
   "outputs": [],
   "source": [
    "reduced_alaska_dict['texts'] = reduced_alaska_df['page_title'].tolist()"
   ]
  },
  {
   "cell_type": "markdown",
   "metadata": {},
   "source": [
    "### Define the `tokens` field"
   ]
  },
  {
   "cell_type": "code",
   "execution_count": 24,
   "metadata": {
    "ExecuteTime": {
     "end_time": "2020-09-22T09:24:26.650284Z",
     "start_time": "2020-09-22T09:24:26.645897Z"
    }
   },
   "outputs": [],
   "source": [
    "src_dir = 'src'"
   ]
  },
  {
   "cell_type": "code",
   "execution_count": 25,
   "metadata": {
    "ExecuteTime": {
     "end_time": "2020-09-22T09:24:27.213360Z",
     "start_time": "2020-09-22T09:24:27.208958Z"
    }
   },
   "outputs": [],
   "source": [
    "import sys"
   ]
  },
  {
   "cell_type": "code",
   "execution_count": 26,
   "metadata": {
    "ExecuteTime": {
     "end_time": "2020-09-22T09:24:28.622658Z",
     "start_time": "2020-09-22T09:24:28.617485Z"
    }
   },
   "outputs": [],
   "source": [
    "sys.path.append(os.path.join(root_dir, src_dir))"
   ]
  },
  {
   "cell_type": "code",
   "execution_count": 27,
   "metadata": {
    "ExecuteTime": {
     "end_time": "2020-09-22T09:24:30.053871Z",
     "start_time": "2020-09-22T09:24:28.901064Z"
    }
   },
   "outputs": [],
   "source": [
    "from dataset.training import TrainingCorpus"
   ]
  },
  {
   "cell_type": "code",
   "execution_count": 28,
   "metadata": {
    "ExecuteTime": {
     "end_time": "2020-09-22T09:24:30.487214Z",
     "start_time": "2020-09-22T09:24:30.056618Z"
    }
   },
   "outputs": [],
   "source": [
    "reduced_alaska_dict['tokens'] = reduced_alaska_df['page_title']\\\n",
    ".map(lambda x: TrainingCorpus.tokenize(x.lower())).tolist()"
   ]
  },
  {
   "cell_type": "markdown",
   "metadata": {
    "ExecuteTime": {
     "end_time": "2020-09-21T15:43:58.834548Z",
     "start_time": "2020-09-21T15:43:58.661651Z"
    }
   },
   "source": [
    "### Define the `labels` field"
   ]
  },
  {
   "cell_type": "code",
   "execution_count": 29,
   "metadata": {
    "ExecuteTime": {
     "end_time": "2020-09-22T09:24:31.628637Z",
     "start_time": "2020-09-22T09:24:31.623260Z"
    }
   },
   "outputs": [],
   "source": [
    "reduced_alaska_dict['labels'] = sorted(reduced_alaska_df['entity_id'].unique().tolist(), \n",
    "                                       key=lambda x: int(x.split('#')[1]))"
   ]
  },
  {
   "cell_type": "markdown",
   "metadata": {
    "ExecuteTime": {
     "end_time": "2020-09-21T15:46:39.827848Z",
     "start_time": "2020-09-21T15:46:39.820220Z"
    }
   },
   "source": [
    "### Define the `target` field"
   ]
  },
  {
   "cell_type": "code",
   "execution_count": 30,
   "metadata": {
    "ExecuteTime": {
     "end_time": "2020-09-22T09:24:33.274015Z",
     "start_time": "2020-09-22T09:24:33.267573Z"
    }
   },
   "outputs": [],
   "source": [
    "reduced_alaska_dict['target'] = reduced_alaska_df['entity_id'].map(lambda x: [x]).to_dict()"
   ]
  },
  {
   "cell_type": "markdown",
   "metadata": {},
   "source": [
    "---"
   ]
  },
  {
   "cell_type": "markdown",
   "metadata": {},
   "source": [
    "## Save to JSON file"
   ]
  },
  {
   "cell_type": "code",
   "execution_count": 31,
   "metadata": {
    "ExecuteTime": {
     "end_time": "2020-09-22T09:24:37.408540Z",
     "start_time": "2020-09-22T09:24:37.403728Z"
    }
   },
   "outputs": [],
   "source": [
    "dataset_filename = 'reduced_alaska.json'\n",
    "dataset_filepath = os.path.join(root_dir, data_dir, dataset_filename)"
   ]
  },
  {
   "cell_type": "code",
   "execution_count": 32,
   "metadata": {
    "ExecuteTime": {
     "end_time": "2020-09-22T09:24:37.767499Z",
     "start_time": "2020-09-22T09:24:37.720505Z"
    }
   },
   "outputs": [],
   "source": [
    "with open(dataset_filepath, 'w') as fd:\n",
    "    json.dump(reduced_alaska_dict, fd)"
   ]
  },
  {
   "cell_type": "markdown",
   "metadata": {},
   "source": [
    "---"
   ]
  },
  {
   "cell_type": "markdown",
   "metadata": {},
   "source": [
    "## Open the dataset as an instance of the `TrainingCorpus` class"
   ]
  },
  {
   "cell_type": "code",
   "execution_count": 33,
   "metadata": {
    "ExecuteTime": {
     "end_time": "2020-09-22T09:24:40.059120Z",
     "start_time": "2020-09-22T09:24:40.038676Z"
    }
   },
   "outputs": [],
   "source": [
    "alaska_corpus = TrainingCorpus()\n",
    "alaska_corpus.load(dataset_filepath)"
   ]
  },
  {
   "cell_type": "code",
   "execution_count": 34,
   "metadata": {
    "ExecuteTime": {
     "end_time": "2020-09-22T09:24:41.075385Z",
     "start_time": "2020-09-22T09:24:41.068601Z"
    }
   },
   "outputs": [
    {
     "data": {
      "text/plain": [
       "'nikon d3200 dslr camera with 18 55mm and 55 200mm lenses black | ebay'"
      ]
     },
     "execution_count": 34,
     "metadata": {},
     "output_type": "execute_result"
    }
   ],
   "source": [
    "alaska_corpus.get_text(0)"
   ]
  },
  {
   "cell_type": "code",
   "execution_count": 35,
   "metadata": {
    "ExecuteTime": {
     "end_time": "2020-09-22T09:24:41.527228Z",
     "start_time": "2020-09-22T09:24:41.518879Z"
    }
   },
   "outputs": [
    {
     "data": {
      "text/plain": [
       "['nikon',\n",
       " 'd3200',\n",
       " 'dslr',\n",
       " 'camera',\n",
       " '18',\n",
       " '55mm',\n",
       " '55',\n",
       " '200mm',\n",
       " 'lenses',\n",
       " 'black',\n",
       " 'ebay']"
      ]
     },
     "execution_count": 35,
     "metadata": {},
     "output_type": "execute_result"
    }
   ],
   "source": [
    "alaska_corpus.get_tokens(0)"
   ]
  },
  {
   "cell_type": "markdown",
   "metadata": {},
   "source": [
    "---"
   ]
  },
  {
   "cell_type": "markdown",
   "metadata": {},
   "source": [
    "## Compute noun chunks"
   ]
  },
  {
   "cell_type": "code",
   "execution_count": 37,
   "metadata": {
    "ExecuteTime": {
     "end_time": "2020-09-22T09:26:27.193263Z",
     "start_time": "2020-09-22T09:26:27.188804Z"
    }
   },
   "outputs": [],
   "source": [
    "chunks_filename = 'alaska_chunks.json'\n",
    "chunks_filepath = os.path.join(root_dir, data_dir, chunks_filename)"
   ]
  },
  {
   "cell_type": "code",
   "execution_count": 38,
   "metadata": {
    "ExecuteTime": {
     "end_time": "2020-09-22T09:26:32.528337Z",
     "start_time": "2020-09-22T09:26:32.521782Z"
    }
   },
   "outputs": [
    {
     "data": {
      "text/plain": [
       "'../../data/corpus/alaska_chunks.json'"
      ]
     },
     "execution_count": 38,
     "metadata": {},
     "output_type": "execute_result"
    }
   ],
   "source": [
    "chunks_filepath"
   ]
  },
  {
   "cell_type": "code",
   "execution_count": 36,
   "metadata": {
    "ExecuteTime": {
     "end_time": "2020-09-22T09:25:34.411453Z",
     "start_time": "2020-09-22T09:25:15.643961Z"
    }
   },
   "outputs": [
    {
     "name": "stderr",
     "output_type": "stream",
     "text": [
      "100%|██████████| 1450/1450 [00:17<00:00, 80.92it/s]\n"
     ]
    }
   ],
   "source": [
    "alaska_corpus.detect_chunks()"
   ]
  },
  {
   "cell_type": "code",
   "execution_count": 39,
   "metadata": {
    "ExecuteTime": {
     "end_time": "2020-09-22T09:26:56.700873Z",
     "start_time": "2020-09-22T09:26:56.668854Z"
    }
   },
   "outputs": [],
   "source": [
    "alaska_corpus.save_chunks(chunks_filepath)"
   ]
  },
  {
   "cell_type": "markdown",
   "metadata": {},
   "source": [
    "---"
   ]
  },
  {
   "cell_type": "markdown",
   "metadata": {},
   "source": [
    "## Load chunks"
   ]
  },
  {
   "cell_type": "code",
   "execution_count": 41,
   "metadata": {
    "ExecuteTime": {
     "end_time": "2020-09-22T09:27:45.094028Z",
     "start_time": "2020-09-22T09:27:45.080549Z"
    }
   },
   "outputs": [],
   "source": [
    "alaska_corpus.load_chunks(chunks_filepath)"
   ]
  },
  {
   "cell_type": "code",
   "execution_count": 43,
   "metadata": {
    "ExecuteTime": {
     "end_time": "2020-09-22T09:28:24.491078Z",
     "start_time": "2020-09-22T09:28:24.483286Z"
    }
   },
   "outputs": [
    {
     "data": {
      "text/plain": [
       "[('nikon_d3200_dslr_camera', 5), ('18_55mm', 49), ('55_200mm_lenses', 2)]"
      ]
     },
     "execution_count": 43,
     "metadata": {},
     "output_type": "execute_result"
    }
   ],
   "source": [
    "list(alaska_corpus.noun_chunks.items())[:3]"
   ]
  },
  {
   "cell_type": "markdown",
   "metadata": {},
   "source": [
    "---"
   ]
  }
 ],
 "metadata": {
  "kernelspec": {
   "display_name": "Python 3",
   "language": "python",
   "name": "python3"
  },
  "language_info": {
   "codemirror_mode": {
    "name": "ipython",
    "version": 3
   },
   "file_extension": ".py",
   "mimetype": "text/x-python",
   "name": "python",
   "nbconvert_exporter": "python",
   "pygments_lexer": "ipython3",
   "version": "3.7.4"
  },
  "toc": {
   "base_numbering": 1,
   "nav_menu": {},
   "number_sections": true,
   "sideBar": true,
   "skip_h1_title": false,
   "title_cell": "Table of Contents",
   "title_sidebar": "Contents",
   "toc_cell": false,
   "toc_position": {},
   "toc_section_display": true,
   "toc_window_display": false
  }
 },
 "nbformat": 4,
 "nbformat_minor": 2
}
