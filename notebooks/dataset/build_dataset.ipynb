{
 "cells": [
  {
   "cell_type": "markdown",
   "metadata": {},
   "source": [
    "# Build the dataset\n",
    "Build a dataset of `<product description>` `<product id` pairs"
   ]
  },
  {
   "cell_type": "markdown",
   "metadata": {},
   "source": [
    "## Define filepaths"
   ]
  },
  {
   "cell_type": "code",
   "execution_count": 1,
   "metadata": {
    "ExecuteTime": {
     "end_time": "2020-09-21T10:17:20.245457Z",
     "start_time": "2020-09-21T10:17:20.237479Z"
    }
   },
   "outputs": [],
   "source": [
    "root_dir = '../..'\n",
    "data_dir = 'data'\n",
    "alaska_dir = 'alaska_camera'"
   ]
  },
  {
   "cell_type": "markdown",
   "metadata": {},
   "source": [
    "## Load the dataset"
   ]
  },
  {
   "cell_type": "markdown",
   "metadata": {},
   "source": [
    "### Load the Alaska camera dataset for entity resolution (ER)"
   ]
  },
  {
   "cell_type": "code",
   "execution_count": 2,
   "metadata": {
    "ExecuteTime": {
     "end_time": "2020-09-21T10:17:20.942497Z",
     "start_time": "2020-09-21T10:17:20.250101Z"
    }
   },
   "outputs": [],
   "source": [
    "import os\n",
    "import pandas as pd"
   ]
  },
  {
   "cell_type": "code",
   "execution_count": 3,
   "metadata": {
    "ExecuteTime": {
     "end_time": "2020-09-21T10:17:20.952526Z",
     "start_time": "2020-09-21T10:17:20.945612Z"
    }
   },
   "outputs": [],
   "source": [
    "filename = 'camera_entity_resolution_gt.xlsx'"
   ]
  },
  {
   "cell_type": "code",
   "execution_count": 4,
   "metadata": {
    "ExecuteTime": {
     "end_time": "2020-09-21T10:17:21.102578Z",
     "start_time": "2020-09-21T10:17:20.959271Z"
    }
   },
   "outputs": [
    {
     "data": {
      "text/html": [
       "<div>\n",
       "<style scoped>\n",
       "    .dataframe tbody tr th:only-of-type {\n",
       "        vertical-align: middle;\n",
       "    }\n",
       "\n",
       "    .dataframe tbody tr th {\n",
       "        vertical-align: top;\n",
       "    }\n",
       "\n",
       "    .dataframe thead th {\n",
       "        text-align: right;\n",
       "    }\n",
       "</style>\n",
       "<table border=\"1\" class=\"dataframe\">\n",
       "  <thead>\n",
       "    <tr style=\"text-align: right;\">\n",
       "      <th></th>\n",
       "      <th>entity_id,spec_id</th>\n",
       "    </tr>\n",
       "  </thead>\n",
       "  <tbody>\n",
       "    <tr>\n",
       "      <td>0</td>\n",
       "      <td>ENTITY#1,buy.net//4236</td>\n",
       "    </tr>\n",
       "    <tr>\n",
       "      <td>1</td>\n",
       "      <td>ENTITY#1,www.ebay.com//46670</td>\n",
       "    </tr>\n",
       "    <tr>\n",
       "      <td>2</td>\n",
       "      <td>ENTITY#10,www.pcconnection.com//12363</td>\n",
       "    </tr>\n",
       "    <tr>\n",
       "      <td>3</td>\n",
       "      <td>ENTITY#10,buy.net//6531</td>\n",
       "    </tr>\n",
       "    <tr>\n",
       "      <td>4</td>\n",
       "      <td>ENTITY#10,www.shopmania.in//698</td>\n",
       "    </tr>\n",
       "  </tbody>\n",
       "</table>\n",
       "</div>"
      ],
      "text/plain": [
       "                       entity_id,spec_id\n",
       "0                 ENTITY#1,buy.net//4236\n",
       "1           ENTITY#1,www.ebay.com//46670\n",
       "2  ENTITY#10,www.pcconnection.com//12363\n",
       "3                ENTITY#10,buy.net//6531\n",
       "4        ENTITY#10,www.shopmania.in//698"
      ]
     },
     "execution_count": 4,
     "metadata": {},
     "output_type": "execute_result"
    }
   ],
   "source": [
    "alaska_camera_df = pd.read_excel(os.path.join(root_dir, data_dir, filename))\n",
    "alaska_camera_df.head()"
   ]
  },
  {
   "cell_type": "code",
   "execution_count": 5,
   "metadata": {
    "ExecuteTime": {
     "end_time": "2020-09-21T10:17:21.113947Z",
     "start_time": "2020-09-21T10:17:21.106248Z"
    }
   },
   "outputs": [
    {
     "data": {
      "text/plain": [
       "(3865, 1)"
      ]
     },
     "execution_count": 5,
     "metadata": {},
     "output_type": "execute_result"
    }
   ],
   "source": [
    "alaska_camera_df.shape"
   ]
  },
  {
   "cell_type": "code",
   "execution_count": 6,
   "metadata": {
    "ExecuteTime": {
     "end_time": "2020-09-21T10:17:21.131097Z",
     "start_time": "2020-09-21T10:17:21.117971Z"
    }
   },
   "outputs": [],
   "source": [
    "alaska_camera_df['entity_id'] = alaska_camera_df['entity_id,spec_id'].map(lambda x: x.split(',')[0])\n",
    "alaska_camera_df['spec_id'] = alaska_camera_df['entity_id,spec_id'].map(lambda x: x.split(',')[1])"
   ]
  },
  {
   "cell_type": "code",
   "execution_count": 7,
   "metadata": {
    "ExecuteTime": {
     "end_time": "2020-09-21T10:17:21.153567Z",
     "start_time": "2020-09-21T10:17:21.138417Z"
    }
   },
   "outputs": [
    {
     "data": {
      "text/html": [
       "<div>\n",
       "<style scoped>\n",
       "    .dataframe tbody tr th:only-of-type {\n",
       "        vertical-align: middle;\n",
       "    }\n",
       "\n",
       "    .dataframe tbody tr th {\n",
       "        vertical-align: top;\n",
       "    }\n",
       "\n",
       "    .dataframe thead th {\n",
       "        text-align: right;\n",
       "    }\n",
       "</style>\n",
       "<table border=\"1\" class=\"dataframe\">\n",
       "  <thead>\n",
       "    <tr style=\"text-align: right;\">\n",
       "      <th></th>\n",
       "      <th>entity_id</th>\n",
       "      <th>spec_id</th>\n",
       "    </tr>\n",
       "  </thead>\n",
       "  <tbody>\n",
       "    <tr>\n",
       "      <td>0</td>\n",
       "      <td>ENTITY#1</td>\n",
       "      <td>buy.net//4236</td>\n",
       "    </tr>\n",
       "    <tr>\n",
       "      <td>1</td>\n",
       "      <td>ENTITY#1</td>\n",
       "      <td>www.ebay.com//46670</td>\n",
       "    </tr>\n",
       "    <tr>\n",
       "      <td>2</td>\n",
       "      <td>ENTITY#10</td>\n",
       "      <td>www.pcconnection.com//12363</td>\n",
       "    </tr>\n",
       "    <tr>\n",
       "      <td>3</td>\n",
       "      <td>ENTITY#10</td>\n",
       "      <td>buy.net//6531</td>\n",
       "    </tr>\n",
       "    <tr>\n",
       "      <td>4</td>\n",
       "      <td>ENTITY#10</td>\n",
       "      <td>www.shopmania.in//698</td>\n",
       "    </tr>\n",
       "  </tbody>\n",
       "</table>\n",
       "</div>"
      ],
      "text/plain": [
       "   entity_id                      spec_id\n",
       "0   ENTITY#1                buy.net//4236\n",
       "1   ENTITY#1          www.ebay.com//46670\n",
       "2  ENTITY#10  www.pcconnection.com//12363\n",
       "3  ENTITY#10                buy.net//6531\n",
       "4  ENTITY#10        www.shopmania.in//698"
      ]
     },
     "execution_count": 7,
     "metadata": {},
     "output_type": "execute_result"
    }
   ],
   "source": [
    "alaska_camera_df = alaska_camera_df.drop(columns=['entity_id,spec_id'])\n",
    "alaska_camera_df.head()"
   ]
  },
  {
   "cell_type": "markdown",
   "metadata": {},
   "source": [
    "### Load the product description for each `spec_id`"
   ]
  },
  {
   "cell_type": "code",
   "execution_count": 8,
   "metadata": {
    "ExecuteTime": {
     "end_time": "2020-09-21T10:17:21.163384Z",
     "start_time": "2020-09-21T10:17:21.158046Z"
    }
   },
   "outputs": [],
   "source": [
    "import json"
   ]
  },
  {
   "cell_type": "code",
   "execution_count": 9,
   "metadata": {
    "ExecuteTime": {
     "end_time": "2020-09-21T10:17:21.174862Z",
     "start_time": "2020-09-21T10:17:21.166691Z"
    }
   },
   "outputs": [],
   "source": [
    "def parse_json(source, product_id):\n",
    "    product_id = product_id + '.json'\n",
    "    filepath = os.path.join(root_dir, data_dir, alaska_dir, source, product_id)\n",
    "    with open(filepath) as fd:\n",
    "        data = json.load(fd)\n",
    "    return data"
   ]
  },
  {
   "cell_type": "code",
   "execution_count": 10,
   "metadata": {
    "ExecuteTime": {
     "end_time": "2020-09-21T10:17:21.555303Z",
     "start_time": "2020-09-21T10:17:21.178037Z"
    }
   },
   "outputs": [],
   "source": [
    "alaska_camera_df['page_title'] = alaska_camera_df['spec_id'].map(lambda x: parse_json(*x.split('//'))['<page title>'])"
   ]
  },
  {
   "cell_type": "code",
   "execution_count": 11,
   "metadata": {
    "ExecuteTime": {
     "end_time": "2020-09-21T10:17:21.571502Z",
     "start_time": "2020-09-21T10:17:21.558394Z"
    }
   },
   "outputs": [
    {
     "data": {
      "text/html": [
       "<div>\n",
       "<style scoped>\n",
       "    .dataframe tbody tr th:only-of-type {\n",
       "        vertical-align: middle;\n",
       "    }\n",
       "\n",
       "    .dataframe tbody tr th {\n",
       "        vertical-align: top;\n",
       "    }\n",
       "\n",
       "    .dataframe thead th {\n",
       "        text-align: right;\n",
       "    }\n",
       "</style>\n",
       "<table border=\"1\" class=\"dataframe\">\n",
       "  <thead>\n",
       "    <tr style=\"text-align: right;\">\n",
       "      <th></th>\n",
       "      <th>entity_id</th>\n",
       "      <th>spec_id</th>\n",
       "      <th>page_title</th>\n",
       "    </tr>\n",
       "  </thead>\n",
       "  <tbody>\n",
       "    <tr>\n",
       "      <td>0</td>\n",
       "      <td>ENTITY#1</td>\n",
       "      <td>buy.net//4236</td>\n",
       "      <td>Polaroid Is426 16 Megapixel Compact Camera - R...</td>\n",
       "    </tr>\n",
       "    <tr>\n",
       "      <td>1</td>\n",
       "      <td>ENTITY#1</td>\n",
       "      <td>www.ebay.com//46670</td>\n",
       "      <td>Camera Polaroid IS426 4X Zoom | eBay</td>\n",
       "    </tr>\n",
       "    <tr>\n",
       "      <td>2</td>\n",
       "      <td>ENTITY#10</td>\n",
       "      <td>www.pcconnection.com//12363</td>\n",
       "      <td>Buy Sony a7 Interchangeable Lens Camera with L...</td>\n",
       "    </tr>\n",
       "    <tr>\n",
       "      <td>3</td>\n",
       "      <td>ENTITY#10</td>\n",
       "      <td>buy.net//6531</td>\n",
       "      <td>Sony Alpha A7 Black Digital Camera Kit W/ 28-7...</td>\n",
       "    </tr>\n",
       "    <tr>\n",
       "      <td>4</td>\n",
       "      <td>ENTITY#10</td>\n",
       "      <td>www.shopmania.in//698</td>\n",
       "      <td>Sony Alpha 7 kit 28-70mm digital camera prices...</td>\n",
       "    </tr>\n",
       "  </tbody>\n",
       "</table>\n",
       "</div>"
      ],
      "text/plain": [
       "   entity_id                      spec_id  \\\n",
       "0   ENTITY#1                buy.net//4236   \n",
       "1   ENTITY#1          www.ebay.com//46670   \n",
       "2  ENTITY#10  www.pcconnection.com//12363   \n",
       "3  ENTITY#10                buy.net//6531   \n",
       "4  ENTITY#10        www.shopmania.in//698   \n",
       "\n",
       "                                          page_title  \n",
       "0  Polaroid Is426 16 Megapixel Compact Camera - R...  \n",
       "1               Camera Polaroid IS426 4X Zoom | eBay  \n",
       "2  Buy Sony a7 Interchangeable Lens Camera with L...  \n",
       "3  Sony Alpha A7 Black Digital Camera Kit W/ 28-7...  \n",
       "4  Sony Alpha 7 kit 28-70mm digital camera prices...  "
      ]
     },
     "execution_count": 11,
     "metadata": {},
     "output_type": "execute_result"
    }
   ],
   "source": [
    "alaska_camera_df.head()"
   ]
  },
  {
   "cell_type": "markdown",
   "metadata": {},
   "source": [
    "## Preprocess the `page_title` column"
   ]
  },
  {
   "cell_type": "markdown",
   "metadata": {},
   "source": [
    "### Convert all words to lowercase, remove stopwords and punctuation"
   ]
  },
  {
   "cell_type": "code",
   "execution_count": 12,
   "metadata": {
    "ExecuteTime": {
     "end_time": "2020-09-21T10:17:22.228465Z",
     "start_time": "2020-09-21T10:17:21.575173Z"
    }
   },
   "outputs": [],
   "source": [
    "import string\n",
    "import nltk\n",
    "from nltk.tokenize import word_tokenize\n",
    "from nltk.corpus import stopwords"
   ]
  },
  {
   "cell_type": "code",
   "execution_count": 13,
   "metadata": {
    "ExecuteTime": {
     "end_time": "2020-09-21T10:17:22.240934Z",
     "start_time": "2020-09-21T10:17:22.231042Z"
    }
   },
   "outputs": [],
   "source": [
    "stopwords_eng = list(stopwords.words('english'))"
   ]
  },
  {
   "cell_type": "code",
   "execution_count": 14,
   "metadata": {
    "ExecuteTime": {
     "end_time": "2020-09-21T10:17:22.255796Z",
     "start_time": "2020-09-21T10:17:22.244396Z"
    }
   },
   "outputs": [],
   "source": [
    "punctuations = list(string.punctuation)\n",
    "punctuations.append(\"''\")\n",
    "punctuations.append('--')\n",
    "punctuations.append('“')\n",
    "punctuations.append('”')\n",
    "punctuations.append('``')"
   ]
  },
  {
   "cell_type": "code",
   "execution_count": 15,
   "metadata": {
    "ExecuteTime": {
     "end_time": "2020-09-21T10:17:22.270771Z",
     "start_time": "2020-09-21T10:17:22.260492Z"
    }
   },
   "outputs": [],
   "source": [
    "def preprocess_text(text):\n",
    "    lowercase_text = text.lower()\n",
    "    tokenized_text = word_tokenize(lowercase_text)\n",
    "    stop = stopwords_eng + punctuations\n",
    "    new_tokenized_text = [token for token in tokenized_text if token not in stop]\n",
    "    new_text = ' '.join(new_tokenized_text)\n",
    "    return new_text"
   ]
  },
  {
   "cell_type": "code",
   "execution_count": 16,
   "metadata": {
    "ExecuteTime": {
     "end_time": "2020-09-21T10:17:23.158747Z",
     "start_time": "2020-09-21T10:17:22.275141Z"
    }
   },
   "outputs": [
    {
     "data": {
      "text/html": [
       "<div>\n",
       "<style scoped>\n",
       "    .dataframe tbody tr th:only-of-type {\n",
       "        vertical-align: middle;\n",
       "    }\n",
       "\n",
       "    .dataframe tbody tr th {\n",
       "        vertical-align: top;\n",
       "    }\n",
       "\n",
       "    .dataframe thead th {\n",
       "        text-align: right;\n",
       "    }\n",
       "</style>\n",
       "<table border=\"1\" class=\"dataframe\">\n",
       "  <thead>\n",
       "    <tr style=\"text-align: right;\">\n",
       "      <th></th>\n",
       "      <th>entity_id</th>\n",
       "      <th>spec_id</th>\n",
       "      <th>page_title</th>\n",
       "    </tr>\n",
       "  </thead>\n",
       "  <tbody>\n",
       "    <tr>\n",
       "      <td>0</td>\n",
       "      <td>ENTITY#1</td>\n",
       "      <td>buy.net//4236</td>\n",
       "      <td>polaroid is426 16 megapixel compact camera red...</td>\n",
       "    </tr>\n",
       "    <tr>\n",
       "      <td>1</td>\n",
       "      <td>ENTITY#1</td>\n",
       "      <td>www.ebay.com//46670</td>\n",
       "      <td>camera polaroid is426 4x zoom ebay</td>\n",
       "    </tr>\n",
       "    <tr>\n",
       "      <td>2</td>\n",
       "      <td>ENTITY#10</td>\n",
       "      <td>www.pcconnection.com//12363</td>\n",
       "      <td>buy sony a7 interchangeable lens camera lens c...</td>\n",
       "    </tr>\n",
       "    <tr>\n",
       "      <td>3</td>\n",
       "      <td>ENTITY#10</td>\n",
       "      <td>buy.net//6531</td>\n",
       "      <td>sony alpha a7 black digital camera kit w/ 28-7...</td>\n",
       "    </tr>\n",
       "    <tr>\n",
       "      <td>4</td>\n",
       "      <td>ENTITY#10</td>\n",
       "      <td>www.shopmania.in//698</td>\n",
       "      <td>sony alpha 7 kit 28-70mm digital camera prices...</td>\n",
       "    </tr>\n",
       "  </tbody>\n",
       "</table>\n",
       "</div>"
      ],
      "text/plain": [
       "   entity_id                      spec_id  \\\n",
       "0   ENTITY#1                buy.net//4236   \n",
       "1   ENTITY#1          www.ebay.com//46670   \n",
       "2  ENTITY#10  www.pcconnection.com//12363   \n",
       "3  ENTITY#10                buy.net//6531   \n",
       "4  ENTITY#10        www.shopmania.in//698   \n",
       "\n",
       "                                          page_title  \n",
       "0  polaroid is426 16 megapixel compact camera red...  \n",
       "1                 camera polaroid is426 4x zoom ebay  \n",
       "2  buy sony a7 interchangeable lens camera lens c...  \n",
       "3  sony alpha a7 black digital camera kit w/ 28-7...  \n",
       "4  sony alpha 7 kit 28-70mm digital camera prices...  "
      ]
     },
     "execution_count": 16,
     "metadata": {},
     "output_type": "execute_result"
    }
   ],
   "source": [
    "alaska_camera_df['page_title'] = alaska_camera_df['page_title'].map(lambda x: preprocess_text(x))\n",
    "alaska_camera_df.head()"
   ]
  },
  {
   "cell_type": "markdown",
   "metadata": {},
   "source": [
    "## Select clusters by their size"
   ]
  },
  {
   "cell_type": "code",
   "execution_count": 17,
   "metadata": {
    "ExecuteTime": {
     "end_time": "2020-09-21T10:18:39.681490Z",
     "start_time": "2020-09-21T10:18:39.673300Z"
    }
   },
   "outputs": [],
   "source": [
    "grouped_alaska_df = alaska_camera_df.groupby('entity_id')"
   ]
  },
  {
   "cell_type": "code",
   "execution_count": 29,
   "metadata": {
    "ExecuteTime": {
     "end_time": "2020-09-21T10:22:35.761998Z",
     "start_time": "2020-09-21T10:22:35.752961Z"
    }
   },
   "outputs": [
    {
     "name": "stdout",
     "output_type": "stream",
     "text": [
      "There are 103 clusters\n"
     ]
    }
   ],
   "source": [
    "print(f'There are {grouped_alaska_df.size().shape[0]} clusters')"
   ]
  },
  {
   "cell_type": "code",
   "execution_count": 39,
   "metadata": {
    "ExecuteTime": {
     "end_time": "2020-09-21T10:26:39.003869Z",
     "start_time": "2020-09-21T10:26:38.999549Z"
    }
   },
   "outputs": [],
   "source": [
    "NUM_CLUSTERS = 10"
   ]
  },
  {
   "cell_type": "code",
   "execution_count": 48,
   "metadata": {
    "ExecuteTime": {
     "end_time": "2020-09-21T10:29:03.925981Z",
     "start_time": "2020-09-21T10:29:03.914286Z"
    }
   },
   "outputs": [
    {
     "data": {
      "text/plain": [
       "entity_id\n",
       "ENTITY#44     184\n",
       "ENTITY#23     178\n",
       "ENTITY#18     168\n",
       "ENTITY#36     155\n",
       "ENTITY#41     144\n",
       "ENTITY#21     137\n",
       "ENTITY#75     130\n",
       "ENTITY#96     125\n",
       "ENTITY#6      117\n",
       "ENTITY#101    112\n",
       "dtype: int64"
      ]
     },
     "execution_count": 48,
     "metadata": {},
     "output_type": "execute_result"
    }
   ],
   "source": [
    "top_n_clusters = grouped_alaska_df.size().sort_values(ascending=False).head(NUM_CLUSTERS)\n",
    "top_n_clusters"
   ]
  },
  {
   "cell_type": "code",
   "execution_count": 58,
   "metadata": {
    "ExecuteTime": {
     "end_time": "2020-09-21T10:40:10.214291Z",
     "start_time": "2020-09-21T10:40:10.206433Z"
    }
   },
   "outputs": [
    {
     "data": {
      "text/plain": [
       "'The selected clusters contain 1450 product descriptions'"
      ]
     },
     "execution_count": 58,
     "metadata": {},
     "output_type": "execute_result"
    }
   ],
   "source": [
    "f'The selected clusters contain {top_n_clusters.values.sum()} product descriptions'"
   ]
  },
  {
   "cell_type": "code",
   "execution_count": 49,
   "metadata": {
    "ExecuteTime": {
     "end_time": "2020-09-21T10:29:20.507545Z",
     "start_time": "2020-09-21T10:29:20.502812Z"
    }
   },
   "outputs": [],
   "source": [
    "top_n_clusters_ids = top_n_clusters.index.tolist()"
   ]
  },
  {
   "cell_type": "code",
   "execution_count": 51,
   "metadata": {
    "ExecuteTime": {
     "end_time": "2020-09-21T10:32:42.875793Z",
     "start_time": "2020-09-21T10:32:42.857170Z"
    }
   },
   "outputs": [
    {
     "data": {
      "text/html": [
       "<div>\n",
       "<style scoped>\n",
       "    .dataframe tbody tr th:only-of-type {\n",
       "        vertical-align: middle;\n",
       "    }\n",
       "\n",
       "    .dataframe tbody tr th {\n",
       "        vertical-align: top;\n",
       "    }\n",
       "\n",
       "    .dataframe thead th {\n",
       "        text-align: right;\n",
       "    }\n",
       "</style>\n",
       "<table border=\"1\" class=\"dataframe\">\n",
       "  <thead>\n",
       "    <tr style=\"text-align: right;\">\n",
       "      <th></th>\n",
       "      <th>entity_id</th>\n",
       "      <th>spec_id</th>\n",
       "      <th>page_title</th>\n",
       "    </tr>\n",
       "  </thead>\n",
       "  <tbody>\n",
       "    <tr>\n",
       "      <td>1855</td>\n",
       "      <td>ENTITY#44</td>\n",
       "      <td>www.ebay.com//47729</td>\n",
       "      <td>nikon d3200 dslr camera 18 55mm 55 200mm lense...</td>\n",
       "    </tr>\n",
       "    <tr>\n",
       "      <td>1856</td>\n",
       "      <td>ENTITY#44</td>\n",
       "      <td>www.priceme.co.nz//2249</td>\n",
       "      <td>nikon d3200 18-55/3.5-5.6 55-200/4.0-5.6 new z...</td>\n",
       "    </tr>\n",
       "    <tr>\n",
       "      <td>1857</td>\n",
       "      <td>ENTITY#44</td>\n",
       "      <td>www.ebay.com//60850</td>\n",
       "      <td>nikon d3200 digital dslr camera w 18 55mm 55 2...</td>\n",
       "    </tr>\n",
       "    <tr>\n",
       "      <td>1858</td>\n",
       "      <td>ENTITY#44</td>\n",
       "      <td>www.ebay.com//47447</td>\n",
       "      <td>nikon d3200 digital dslr camera 24 1 w 18 55mm...</td>\n",
       "    </tr>\n",
       "    <tr>\n",
       "      <td>1859</td>\n",
       "      <td>ENTITY#44</td>\n",
       "      <td>www.mypriceindia.com//710</td>\n",
       "      <td>nikon d3200 body price india bangalore hyderab...</td>\n",
       "    </tr>\n",
       "    <tr>\n",
       "      <td>...</td>\n",
       "      <td>...</td>\n",
       "      <td>...</td>\n",
       "      <td>...</td>\n",
       "    </tr>\n",
       "    <tr>\n",
       "      <td>2034</td>\n",
       "      <td>ENTITY#44</td>\n",
       "      <td>www.priceme.co.nz//1778</td>\n",
       "      <td>nikon d3200 18-140mm new zealand prices priceme</td>\n",
       "    </tr>\n",
       "    <tr>\n",
       "      <td>2035</td>\n",
       "      <td>ENTITY#44</td>\n",
       "      <td>www.ebay.com//59606</td>\n",
       "      <td>nikon d3200 digital camera body 16gb package ebay</td>\n",
       "    </tr>\n",
       "    <tr>\n",
       "      <td>2036</td>\n",
       "      <td>ENTITY#44</td>\n",
       "      <td>www.gosale.com//848</td>\n",
       "      <td>nikon d3200 24.2mp digital slr camera sale 298.00</td>\n",
       "    </tr>\n",
       "    <tr>\n",
       "      <td>2037</td>\n",
       "      <td>ENTITY#44</td>\n",
       "      <td>www.ebay.com//48415</td>\n",
       "      <td>nikon d3200 red digital slr camera 18 55mm vr ...</td>\n",
       "    </tr>\n",
       "    <tr>\n",
       "      <td>2038</td>\n",
       "      <td>ENTITY#44</td>\n",
       "      <td>www.ilgs.net//58</td>\n",
       "      <td>nikon d3200 18-55 vr kit digital cameras photo...</td>\n",
       "    </tr>\n",
       "  </tbody>\n",
       "</table>\n",
       "<p>184 rows × 3 columns</p>\n",
       "</div>"
      ],
      "text/plain": [
       "      entity_id                    spec_id  \\\n",
       "1855  ENTITY#44        www.ebay.com//47729   \n",
       "1856  ENTITY#44    www.priceme.co.nz//2249   \n",
       "1857  ENTITY#44        www.ebay.com//60850   \n",
       "1858  ENTITY#44        www.ebay.com//47447   \n",
       "1859  ENTITY#44  www.mypriceindia.com//710   \n",
       "...         ...                        ...   \n",
       "2034  ENTITY#44    www.priceme.co.nz//1778   \n",
       "2035  ENTITY#44        www.ebay.com//59606   \n",
       "2036  ENTITY#44        www.gosale.com//848   \n",
       "2037  ENTITY#44        www.ebay.com//48415   \n",
       "2038  ENTITY#44           www.ilgs.net//58   \n",
       "\n",
       "                                             page_title  \n",
       "1855  nikon d3200 dslr camera 18 55mm 55 200mm lense...  \n",
       "1856  nikon d3200 18-55/3.5-5.6 55-200/4.0-5.6 new z...  \n",
       "1857  nikon d3200 digital dslr camera w 18 55mm 55 2...  \n",
       "1858  nikon d3200 digital dslr camera 24 1 w 18 55mm...  \n",
       "1859  nikon d3200 body price india bangalore hyderab...  \n",
       "...                                                 ...  \n",
       "2034    nikon d3200 18-140mm new zealand prices priceme  \n",
       "2035  nikon d3200 digital camera body 16gb package ebay  \n",
       "2036  nikon d3200 24.2mp digital slr camera sale 298.00  \n",
       "2037  nikon d3200 red digital slr camera 18 55mm vr ...  \n",
       "2038  nikon d3200 18-55 vr kit digital cameras photo...  \n",
       "\n",
       "[184 rows x 3 columns]"
      ]
     },
     "execution_count": 51,
     "metadata": {},
     "output_type": "execute_result"
    }
   ],
   "source": [
    "grouped_alaska_df.get_group(top_n_clusters_ids[0])"
   ]
  },
  {
   "cell_type": "code",
   "execution_count": 55,
   "metadata": {
    "ExecuteTime": {
     "end_time": "2020-09-21T10:37:49.589129Z",
     "start_time": "2020-09-21T10:37:49.575549Z"
    }
   },
   "outputs": [],
   "source": [
    "df_list = []\n",
    "for cluster_id in top_n_clusters_ids:\n",
    "    selected_df = grouped_alaska_df.get_group(cluster_id)\n",
    "    df_list.append(selected_df)\n",
    "\n",
    "reduced_alaska_df = pd.concat(df_list, ignore_index=True)\n",
    "reduced_alaska_df = reduced_alaska_df.drop(columns=['spec_id'])"
   ]
  },
  {
   "cell_type": "code",
   "execution_count": 56,
   "metadata": {
    "ExecuteTime": {
     "end_time": "2020-09-21T10:37:51.500353Z",
     "start_time": "2020-09-21T10:37:51.487738Z"
    }
   },
   "outputs": [
    {
     "data": {
      "text/html": [
       "<div>\n",
       "<style scoped>\n",
       "    .dataframe tbody tr th:only-of-type {\n",
       "        vertical-align: middle;\n",
       "    }\n",
       "\n",
       "    .dataframe tbody tr th {\n",
       "        vertical-align: top;\n",
       "    }\n",
       "\n",
       "    .dataframe thead th {\n",
       "        text-align: right;\n",
       "    }\n",
       "</style>\n",
       "<table border=\"1\" class=\"dataframe\">\n",
       "  <thead>\n",
       "    <tr style=\"text-align: right;\">\n",
       "      <th></th>\n",
       "      <th>entity_id</th>\n",
       "      <th>page_title</th>\n",
       "    </tr>\n",
       "  </thead>\n",
       "  <tbody>\n",
       "    <tr>\n",
       "      <td>0</td>\n",
       "      <td>ENTITY#44</td>\n",
       "      <td>nikon d3200 dslr camera 18 55mm 55 200mm lense...</td>\n",
       "    </tr>\n",
       "    <tr>\n",
       "      <td>1</td>\n",
       "      <td>ENTITY#44</td>\n",
       "      <td>nikon d3200 18-55/3.5-5.6 55-200/4.0-5.6 new z...</td>\n",
       "    </tr>\n",
       "    <tr>\n",
       "      <td>2</td>\n",
       "      <td>ENTITY#44</td>\n",
       "      <td>nikon d3200 digital dslr camera w 18 55mm 55 2...</td>\n",
       "    </tr>\n",
       "    <tr>\n",
       "      <td>3</td>\n",
       "      <td>ENTITY#44</td>\n",
       "      <td>nikon d3200 digital dslr camera 24 1 w 18 55mm...</td>\n",
       "    </tr>\n",
       "    <tr>\n",
       "      <td>4</td>\n",
       "      <td>ENTITY#44</td>\n",
       "      <td>nikon d3200 body price india bangalore hyderab...</td>\n",
       "    </tr>\n",
       "  </tbody>\n",
       "</table>\n",
       "</div>"
      ],
      "text/plain": [
       "   entity_id                                         page_title\n",
       "0  ENTITY#44  nikon d3200 dslr camera 18 55mm 55 200mm lense...\n",
       "1  ENTITY#44  nikon d3200 18-55/3.5-5.6 55-200/4.0-5.6 new z...\n",
       "2  ENTITY#44  nikon d3200 digital dslr camera w 18 55mm 55 2...\n",
       "3  ENTITY#44  nikon d3200 digital dslr camera 24 1 w 18 55mm...\n",
       "4  ENTITY#44  nikon d3200 body price india bangalore hyderab..."
      ]
     },
     "execution_count": 56,
     "metadata": {},
     "output_type": "execute_result"
    }
   ],
   "source": [
    "reduced_alaska_df.head()"
   ]
  },
  {
   "cell_type": "code",
   "execution_count": 57,
   "metadata": {
    "ExecuteTime": {
     "end_time": "2020-09-21T10:38:02.332914Z",
     "start_time": "2020-09-21T10:38:02.322449Z"
    }
   },
   "outputs": [
    {
     "data": {
      "text/plain": [
       "(1450, 2)"
      ]
     },
     "execution_count": 57,
     "metadata": {},
     "output_type": "execute_result"
    }
   ],
   "source": [
    "reduced_alaska_df.shape"
   ]
  }
 ],
 "metadata": {
  "kernelspec": {
   "display_name": "Python 3",
   "language": "python",
   "name": "python3"
  },
  "language_info": {
   "codemirror_mode": {
    "name": "ipython",
    "version": 3
   },
   "file_extension": ".py",
   "mimetype": "text/x-python",
   "name": "python",
   "nbconvert_exporter": "python",
   "pygments_lexer": "ipython3",
   "version": "3.7.4"
  },
  "toc": {
   "base_numbering": 1,
   "nav_menu": {},
   "number_sections": true,
   "sideBar": true,
   "skip_h1_title": false,
   "title_cell": "Table of Contents",
   "title_sidebar": "Contents",
   "toc_cell": false,
   "toc_position": {},
   "toc_section_display": true,
   "toc_window_display": false
  }
 },
 "nbformat": 4,
 "nbformat_minor": 2
}
