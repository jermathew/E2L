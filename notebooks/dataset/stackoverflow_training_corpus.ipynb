{
 "cells": [
  {
   "cell_type": "markdown",
   "metadata": {},
   "source": [
    "# Build the dataset"
   ]
  },
  {
   "cell_type": "markdown",
   "metadata": {},
   "source": [
    "## Define filepaths"
   ]
  },
  {
   "cell_type": "code",
   "execution_count": 1,
   "metadata": {
    "ExecuteTime": {
     "end_time": "2021-01-03T14:46:39.814216Z",
     "start_time": "2021-01-03T14:46:39.810302Z"
    }
   },
   "outputs": [],
   "source": [
    "import os"
   ]
  },
  {
   "cell_type": "code",
   "execution_count": 2,
   "metadata": {
    "ExecuteTime": {
     "end_time": "2021-01-03T14:46:39.821096Z",
     "start_time": "2021-01-03T14:46:39.816837Z"
    }
   },
   "outputs": [],
   "source": [
    "root_dir = '../..'\n",
    "data_dir = 'data/corpus'\n",
    "src_dir = 'src'\n",
    "\n",
    "data_filename = 'stack-overflow-data.csv'\n",
    "data_filepath = os.path.join(root_dir, data_dir, data_filename)"
   ]
  },
  {
   "cell_type": "markdown",
   "metadata": {},
   "source": [
    "## Load the data"
   ]
  },
  {
   "cell_type": "code",
   "execution_count": 3,
   "metadata": {
    "ExecuteTime": {
     "end_time": "2021-01-03T14:46:40.120519Z",
     "start_time": "2021-01-03T14:46:39.823803Z"
    }
   },
   "outputs": [],
   "source": [
    "import pandas as pd"
   ]
  },
  {
   "cell_type": "code",
   "execution_count": 4,
   "metadata": {
    "ExecuteTime": {
     "end_time": "2021-01-03T14:46:40.208255Z",
     "start_time": "2021-01-03T14:46:40.122507Z"
    }
   },
   "outputs": [
    {
     "data": {
      "text/html": [
       "<div>\n",
       "<style scoped>\n",
       "    .dataframe tbody tr th:only-of-type {\n",
       "        vertical-align: middle;\n",
       "    }\n",
       "\n",
       "    .dataframe tbody tr th {\n",
       "        vertical-align: top;\n",
       "    }\n",
       "\n",
       "    .dataframe thead th {\n",
       "        text-align: right;\n",
       "    }\n",
       "</style>\n",
       "<table border=\"1\" class=\"dataframe\">\n",
       "  <thead>\n",
       "    <tr style=\"text-align: right;\">\n",
       "      <th></th>\n",
       "      <th>post</th>\n",
       "      <th>tags</th>\n",
       "    </tr>\n",
       "  </thead>\n",
       "  <tbody>\n",
       "    <tr>\n",
       "      <th>0</th>\n",
       "      <td>what is causing this behavior  in our c# datet...</td>\n",
       "      <td>c#</td>\n",
       "    </tr>\n",
       "    <tr>\n",
       "      <th>1</th>\n",
       "      <td>have dynamic html load as if it was in an ifra...</td>\n",
       "      <td>asp.net</td>\n",
       "    </tr>\n",
       "    <tr>\n",
       "      <th>2</th>\n",
       "      <td>how to convert a float value in to min:sec  i ...</td>\n",
       "      <td>objective-c</td>\n",
       "    </tr>\n",
       "    <tr>\n",
       "      <th>3</th>\n",
       "      <td>.net framework 4 redistributable  just wonderi...</td>\n",
       "      <td>.net</td>\n",
       "    </tr>\n",
       "    <tr>\n",
       "      <th>4</th>\n",
       "      <td>trying to calculate and print the mean and its...</td>\n",
       "      <td>python</td>\n",
       "    </tr>\n",
       "  </tbody>\n",
       "</table>\n",
       "</div>"
      ],
      "text/plain": [
       "                                                post         tags\n",
       "0  what is causing this behavior  in our c# datet...           c#\n",
       "1  have dynamic html load as if it was in an ifra...      asp.net\n",
       "2  how to convert a float value in to min:sec  i ...  objective-c\n",
       "3  .net framework 4 redistributable  just wonderi...         .net\n",
       "4  trying to calculate and print the mean and its...       python"
      ]
     },
     "execution_count": 4,
     "metadata": {},
     "output_type": "execute_result"
    }
   ],
   "source": [
    "df = pd.read_csv(data_filepath)\n",
    "df = df[pd.notnull(df['tags'])]\n",
    "df.head()"
   ]
  },
  {
   "cell_type": "code",
   "execution_count": 5,
   "metadata": {
    "ExecuteTime": {
     "end_time": "2021-01-03T14:46:40.213298Z",
     "start_time": "2021-01-03T14:46:40.209799Z"
    }
   },
   "outputs": [
    {
     "data": {
      "text/plain": [
       "(6013, 2)"
      ]
     },
     "execution_count": 5,
     "metadata": {},
     "output_type": "execute_result"
    }
   ],
   "source": [
    "df.shape"
   ]
  },
  {
   "cell_type": "code",
   "execution_count": 6,
   "metadata": {
    "ExecuteTime": {
     "end_time": "2021-01-03T14:46:40.219689Z",
     "start_time": "2021-01-03T14:46:40.215321Z"
    }
   },
   "outputs": [
    {
     "data": {
      "text/plain": [
       "array(['c#', 'asp.net', 'objective-c', '.net', 'python', 'angularjs',\n",
       "       'iphone', 'ruby-on-rails', 'ios', 'c', 'sql', 'java', 'jquery',\n",
       "       'css', 'c++', 'php', 'android', 'mysql', 'javascript', 'html'],\n",
       "      dtype=object)"
      ]
     },
     "execution_count": 6,
     "metadata": {},
     "output_type": "execute_result"
    }
   ],
   "source": [
    "df.tags.unique()"
   ]
  },
  {
   "cell_type": "code",
   "execution_count": 7,
   "metadata": {
    "ExecuteTime": {
     "end_time": "2021-01-03T14:46:40.225370Z",
     "start_time": "2021-01-03T14:46:40.221431Z"
    }
   },
   "outputs": [
    {
     "data": {
      "text/plain": [
       "(20,)"
      ]
     },
     "execution_count": 7,
     "metadata": {},
     "output_type": "execute_result"
    }
   ],
   "source": [
    "df.tags.unique().shape"
   ]
  },
  {
   "cell_type": "markdown",
   "metadata": {},
   "source": [
    "## Preprocess data"
   ]
  },
  {
   "cell_type": "code",
   "execution_count": 8,
   "metadata": {
    "ExecuteTime": {
     "end_time": "2021-01-03T14:46:40.916093Z",
     "start_time": "2021-01-03T14:46:40.226827Z"
    }
   },
   "outputs": [],
   "source": [
    "import re\n",
    "from nltk.corpus import stopwords\n",
    "from bs4 import BeautifulSoup"
   ]
  },
  {
   "cell_type": "code",
   "execution_count": 9,
   "metadata": {
    "ExecuteTime": {
     "end_time": "2021-01-03T14:46:43.663834Z",
     "start_time": "2021-01-03T14:46:40.917797Z"
    }
   },
   "outputs": [],
   "source": [
    "# code from https://towardsdatascience.com/multi-class-text-classification-model-comparison-and-selection-5eb066197568\n",
    "\n",
    "REPLACE_BY_SPACE_RE = re.compile('[/(){}\\[\\]\\|@,;]')\n",
    "BAD_SYMBOLS_RE = re.compile('[^0-9a-z #+_]')\n",
    "STOPWORDS = set(stopwords.words('english'))\n",
    "\n",
    "def clean_text(text):\n",
    "    \"\"\"\n",
    "        text: a string\n",
    "        \n",
    "        return: modified initial string\n",
    "    \"\"\"\n",
    "    text = BeautifulSoup(text, \"lxml\").text # HTML decoding\n",
    "    text = text.lower() # lowercase text\n",
    "    text = REPLACE_BY_SPACE_RE.sub(' ', text) # replace REPLACE_BY_SPACE_RE symbols by space in text\n",
    "    text = BAD_SYMBOLS_RE.sub('', text) # delete symbols which are in BAD_SYMBOLS_RE from text\n",
    "    text = ' '.join(word for word in text.split() if word not in STOPWORDS) # delete stopwors from text\n",
    "    return text\n",
    "    \n",
    "df['post'] = df['post'].apply(clean_text)"
   ]
  },
  {
   "cell_type": "code",
   "execution_count": 10,
   "metadata": {
    "ExecuteTime": {
     "end_time": "2021-01-03T14:46:43.674969Z",
     "start_time": "2021-01-03T14:46:43.666136Z"
    }
   },
   "outputs": [
    {
     "data": {
      "text/html": [
       "<div>\n",
       "<style scoped>\n",
       "    .dataframe tbody tr th:only-of-type {\n",
       "        vertical-align: middle;\n",
       "    }\n",
       "\n",
       "    .dataframe tbody tr th {\n",
       "        vertical-align: top;\n",
       "    }\n",
       "\n",
       "    .dataframe thead th {\n",
       "        text-align: right;\n",
       "    }\n",
       "</style>\n",
       "<table border=\"1\" class=\"dataframe\">\n",
       "  <thead>\n",
       "    <tr style=\"text-align: right;\">\n",
       "      <th></th>\n",
       "      <th>post</th>\n",
       "      <th>tags</th>\n",
       "    </tr>\n",
       "  </thead>\n",
       "  <tbody>\n",
       "    <tr>\n",
       "      <th>0</th>\n",
       "      <td>causing behavior c# datetime type test public ...</td>\n",
       "      <td>c#</td>\n",
       "    </tr>\n",
       "    <tr>\n",
       "      <th>1</th>\n",
       "      <td>dynamic html load iframe aspnet 40 site users ...</td>\n",
       "      <td>asp.net</td>\n",
       "    </tr>\n",
       "    <tr>\n",
       "      <th>2</th>\n",
       "      <td>convert float value minsec trying convert seco...</td>\n",
       "      <td>objective-c</td>\n",
       "    </tr>\n",
       "    <tr>\n",
       "      <th>3</th>\n",
       "      <td>net framework 4 redistributable wondering get ...</td>\n",
       "      <td>.net</td>\n",
       "    </tr>\n",
       "    <tr>\n",
       "      <th>4</th>\n",
       "      <td>trying calculate print mean returning rather n...</td>\n",
       "      <td>python</td>\n",
       "    </tr>\n",
       "  </tbody>\n",
       "</table>\n",
       "</div>"
      ],
      "text/plain": [
       "                                                post         tags\n",
       "0  causing behavior c# datetime type test public ...           c#\n",
       "1  dynamic html load iframe aspnet 40 site users ...      asp.net\n",
       "2  convert float value minsec trying convert seco...  objective-c\n",
       "3  net framework 4 redistributable wondering get ...         .net\n",
       "4  trying calculate print mean returning rather n...       python"
      ]
     },
     "execution_count": 10,
     "metadata": {},
     "output_type": "execute_result"
    }
   ],
   "source": [
    "df.head()"
   ]
  },
  {
   "cell_type": "markdown",
   "metadata": {},
   "source": [
    "## Sample data for each tag"
   ]
  },
  {
   "cell_type": "code",
   "execution_count": 11,
   "metadata": {
    "ExecuteTime": {
     "end_time": "2021-01-03T14:46:43.678486Z",
     "start_time": "2021-01-03T14:46:43.676419Z"
    }
   },
   "outputs": [],
   "source": [
    "random_state = 3"
   ]
  },
  {
   "cell_type": "code",
   "execution_count": 12,
   "metadata": {
    "ExecuteTime": {
     "end_time": "2021-01-03T14:46:43.692765Z",
     "start_time": "2021-01-03T14:46:43.679948Z"
    }
   },
   "outputs": [],
   "source": [
    "grouped_df = df.groupby('tags')\n",
    "grouped_sampled_df = grouped_df.sample(n=150, random_state=random_state)"
   ]
  },
  {
   "cell_type": "code",
   "execution_count": 13,
   "metadata": {
    "ExecuteTime": {
     "end_time": "2021-01-03T14:46:43.701042Z",
     "start_time": "2021-01-03T14:46:43.694267Z"
    }
   },
   "outputs": [
    {
     "data": {
      "text/html": [
       "<div>\n",
       "<style scoped>\n",
       "    .dataframe tbody tr th:only-of-type {\n",
       "        vertical-align: middle;\n",
       "    }\n",
       "\n",
       "    .dataframe tbody tr th {\n",
       "        vertical-align: top;\n",
       "    }\n",
       "\n",
       "    .dataframe thead th {\n",
       "        text-align: right;\n",
       "    }\n",
       "</style>\n",
       "<table border=\"1\" class=\"dataframe\">\n",
       "  <thead>\n",
       "    <tr style=\"text-align: right;\">\n",
       "      <th></th>\n",
       "      <th>post</th>\n",
       "      <th>tags</th>\n",
       "    </tr>\n",
       "  </thead>\n",
       "  <tbody>\n",
       "    <tr>\n",
       "      <th>0</th>\n",
       "      <td>truncate string net given string projects mult...</td>\n",
       "      <td>.net</td>\n",
       "    </tr>\n",
       "    <tr>\n",
       "      <th>1</th>\n",
       "      <td>net windows application automatically call pro...</td>\n",
       "      <td>.net</td>\n",
       "    </tr>\n",
       "    <tr>\n",
       "      <th>2</th>\n",
       "      <td>c# convert string unique id let assume string ...</td>\n",
       "      <td>.net</td>\n",
       "    </tr>\n",
       "    <tr>\n",
       "      <th>3</th>\n",
       "      <td>consolewriteline output webservice go consolew...</td>\n",
       "      <td>.net</td>\n",
       "    </tr>\n",
       "    <tr>\n",
       "      <th>4</th>\n",
       "      <td>net applications immune classic pointer errors...</td>\n",
       "      <td>.net</td>\n",
       "    </tr>\n",
       "  </tbody>\n",
       "</table>\n",
       "</div>"
      ],
      "text/plain": [
       "                                                post  tags\n",
       "0  truncate string net given string projects mult...  .net\n",
       "1  net windows application automatically call pro...  .net\n",
       "2  c# convert string unique id let assume string ...  .net\n",
       "3  consolewriteline output webservice go consolew...  .net\n",
       "4  net applications immune classic pointer errors...  .net"
      ]
     },
     "execution_count": 13,
     "metadata": {},
     "output_type": "execute_result"
    }
   ],
   "source": [
    "sampled_df = grouped_sampled_df.reset_index(drop=True)\n",
    "sampled_df.head()"
   ]
  },
  {
   "cell_type": "code",
   "execution_count": 14,
   "metadata": {
    "ExecuteTime": {
     "end_time": "2021-01-03T14:46:43.707100Z",
     "start_time": "2021-01-03T14:46:43.703826Z"
    }
   },
   "outputs": [
    {
     "data": {
      "text/plain": [
       "(3000, 2)"
      ]
     },
     "execution_count": 14,
     "metadata": {},
     "output_type": "execute_result"
    }
   ],
   "source": [
    "sampled_df.shape"
   ]
  },
  {
   "cell_type": "markdown",
   "metadata": {},
   "source": [
    "## Convert the data to the `TrainingCorpus` format"
   ]
  },
  {
   "cell_type": "code",
   "execution_count": 15,
   "metadata": {
    "ExecuteTime": {
     "end_time": "2021-01-03T14:46:43.711286Z",
     "start_time": "2021-01-03T14:46:43.708994Z"
    }
   },
   "outputs": [],
   "source": [
    "data_dict = {}"
   ]
  },
  {
   "cell_type": "markdown",
   "metadata": {},
   "source": [
    "### Define the `docs` field"
   ]
  },
  {
   "cell_type": "code",
   "execution_count": 16,
   "metadata": {
    "ExecuteTime": {
     "end_time": "2021-01-03T14:46:43.715141Z",
     "start_time": "2021-01-03T14:46:43.712841Z"
    }
   },
   "outputs": [],
   "source": [
    "data_dict['docs'] = sampled_df.index.tolist()"
   ]
  },
  {
   "cell_type": "markdown",
   "metadata": {},
   "source": [
    "### Define the `texts` field"
   ]
  },
  {
   "cell_type": "code",
   "execution_count": 17,
   "metadata": {
    "ExecuteTime": {
     "end_time": "2021-01-03T14:46:43.719635Z",
     "start_time": "2021-01-03T14:46:43.716539Z"
    }
   },
   "outputs": [],
   "source": [
    "data_dict['texts'] = sampled_df['post'].tolist()"
   ]
  },
  {
   "cell_type": "markdown",
   "metadata": {},
   "source": [
    "### Define the `tokens` field"
   ]
  },
  {
   "cell_type": "code",
   "execution_count": 18,
   "metadata": {
    "ExecuteTime": {
     "end_time": "2021-01-03T14:46:43.723960Z",
     "start_time": "2021-01-03T14:46:43.721466Z"
    }
   },
   "outputs": [],
   "source": [
    "import sys\n",
    "sys.path.append(os.path.join(root_dir, src_dir))"
   ]
  },
  {
   "cell_type": "code",
   "execution_count": 19,
   "metadata": {
    "ExecuteTime": {
     "end_time": "2021-01-03T14:46:43.929716Z",
     "start_time": "2021-01-03T14:46:43.725278Z"
    }
   },
   "outputs": [],
   "source": [
    "from training import TrainingCorpus"
   ]
  },
  {
   "cell_type": "code",
   "execution_count": 20,
   "metadata": {
    "ExecuteTime": {
     "end_time": "2021-01-03T14:46:45.420306Z",
     "start_time": "2021-01-03T14:46:43.931315Z"
    }
   },
   "outputs": [],
   "source": [
    "data_dict['tokens'] = sampled_df['post']\\\n",
    "                        .map(lambda x: TrainingCorpus.tokenize(x)).tolist()"
   ]
  },
  {
   "cell_type": "markdown",
   "metadata": {
    "ExecuteTime": {
     "end_time": "2020-09-21T15:43:58.834548Z",
     "start_time": "2020-09-21T15:43:58.661651Z"
    }
   },
   "source": [
    "### Define the `labels` field"
   ]
  },
  {
   "cell_type": "code",
   "execution_count": 21,
   "metadata": {
    "ExecuteTime": {
     "end_time": "2021-01-03T14:46:45.427956Z",
     "start_time": "2021-01-03T14:46:45.422866Z"
    }
   },
   "outputs": [],
   "source": [
    "data_dict['labels'] = sorted(sampled_df['tags'].unique().tolist())"
   ]
  },
  {
   "cell_type": "markdown",
   "metadata": {
    "ExecuteTime": {
     "end_time": "2020-09-21T15:46:39.827848Z",
     "start_time": "2020-09-21T15:46:39.820220Z"
    }
   },
   "source": [
    "### Define the `target` field"
   ]
  },
  {
   "cell_type": "code",
   "execution_count": 22,
   "metadata": {
    "ExecuteTime": {
     "end_time": "2021-01-03T14:46:45.435005Z",
     "start_time": "2021-01-03T14:46:45.429607Z"
    }
   },
   "outputs": [],
   "source": [
    "data_dict['target'] = sampled_df['tags'].map(lambda x: [x]).to_dict()"
   ]
  },
  {
   "cell_type": "markdown",
   "metadata": {},
   "source": [
    "---"
   ]
  },
  {
   "cell_type": "markdown",
   "metadata": {},
   "source": [
    "## Save to JSON file"
   ]
  },
  {
   "cell_type": "code",
   "execution_count": 23,
   "metadata": {
    "ExecuteTime": {
     "end_time": "2021-01-03T14:46:45.438826Z",
     "start_time": "2021-01-03T14:46:45.436652Z"
    }
   },
   "outputs": [],
   "source": [
    "import json"
   ]
  },
  {
   "cell_type": "code",
   "execution_count": 24,
   "metadata": {
    "ExecuteTime": {
     "end_time": "2021-01-03T14:46:45.442963Z",
     "start_time": "2021-01-03T14:46:45.440506Z"
    }
   },
   "outputs": [],
   "source": [
    "dataset_filename = 'stackoverflow_corpus.json'\n",
    "dataset_filepath = os.path.join(root_dir, data_dir, dataset_filename)"
   ]
  },
  {
   "cell_type": "code",
   "execution_count": 25,
   "metadata": {
    "ExecuteTime": {
     "end_time": "2021-01-03T14:46:45.576910Z",
     "start_time": "2021-01-03T14:46:45.444567Z"
    }
   },
   "outputs": [],
   "source": [
    "with open(dataset_filepath, 'w') as fd:\n",
    "    json.dump(data_dict, fd)"
   ]
  },
  {
   "cell_type": "markdown",
   "metadata": {},
   "source": [
    "---"
   ]
  },
  {
   "cell_type": "markdown",
   "metadata": {},
   "source": [
    "## Open the dataset as an instance of the `TrainingCorpus` class"
   ]
  },
  {
   "cell_type": "code",
   "execution_count": 26,
   "metadata": {
    "ExecuteTime": {
     "end_time": "2021-01-03T14:46:45.665549Z",
     "start_time": "2021-01-03T14:46:45.578464Z"
    }
   },
   "outputs": [],
   "source": [
    "corpus = TrainingCorpus()\n",
    "corpus.load(dataset_filepath)"
   ]
  },
  {
   "cell_type": "code",
   "execution_count": 27,
   "metadata": {
    "ExecuteTime": {
     "end_time": "2021-01-03T14:46:45.670592Z",
     "start_time": "2021-01-03T14:46:45.666935Z"
    }
   },
   "outputs": [
    {
     "data": {
      "text/plain": [
       "'truncate string net given string projects multiply_amada multiplyweb shared homeaspx want remove trailing characters third result projects multiply_amada would like without using split charindex'"
      ]
     },
     "execution_count": 27,
     "metadata": {},
     "output_type": "execute_result"
    }
   ],
   "source": [
    "corpus.get_text(0)"
   ]
  },
  {
   "cell_type": "code",
   "execution_count": 28,
   "metadata": {
    "ExecuteTime": {
     "end_time": "2021-01-03T14:46:45.675046Z",
     "start_time": "2021-01-03T14:46:45.671831Z"
    }
   },
   "outputs": [
    {
     "data": {
      "text/plain": [
       "['truncate',\n",
       " 'string',\n",
       " 'net',\n",
       " 'given',\n",
       " 'string',\n",
       " 'projects',\n",
       " 'multiply_amada',\n",
       " 'multiplyweb',\n",
       " 'shared',\n",
       " 'homeaspx',\n",
       " 'want',\n",
       " 'remove',\n",
       " 'trailing',\n",
       " 'characters',\n",
       " 'third',\n",
       " 'result',\n",
       " 'projects',\n",
       " 'multiply_amada',\n",
       " 'would',\n",
       " 'like',\n",
       " 'without',\n",
       " 'using',\n",
       " 'split',\n",
       " 'charindex']"
      ]
     },
     "execution_count": 28,
     "metadata": {},
     "output_type": "execute_result"
    }
   ],
   "source": [
    "corpus.get_tokens(0)"
   ]
  },
  {
   "cell_type": "markdown",
   "metadata": {},
   "source": [
    "---"
   ]
  },
  {
   "cell_type": "markdown",
   "metadata": {},
   "source": [
    "## Compute noun chunks"
   ]
  },
  {
   "cell_type": "code",
   "execution_count": 29,
   "metadata": {
    "ExecuteTime": {
     "end_time": "2021-01-03T14:46:45.678496Z",
     "start_time": "2021-01-03T14:46:45.676315Z"
    }
   },
   "outputs": [],
   "source": [
    "chunks_filename = 'stackoverflow_chunks.json'\n",
    "chunks_filepath = os.path.join(root_dir, data_dir, chunks_filename)"
   ]
  },
  {
   "cell_type": "code",
   "execution_count": 30,
   "metadata": {
    "ExecuteTime": {
     "end_time": "2021-01-03T14:46:45.682664Z",
     "start_time": "2021-01-03T14:46:45.679877Z"
    }
   },
   "outputs": [
    {
     "data": {
      "text/plain": [
       "'../../data/corpus/stackoverflow_chunks.json'"
      ]
     },
     "execution_count": 30,
     "metadata": {},
     "output_type": "execute_result"
    }
   ],
   "source": [
    "chunks_filepath"
   ]
  },
  {
   "cell_type": "code",
   "execution_count": 31,
   "metadata": {
    "ExecuteTime": {
     "end_time": "2021-01-03T14:47:43.323291Z",
     "start_time": "2021-01-03T14:46:45.683927Z"
    }
   },
   "outputs": [
    {
     "name": "stderr",
     "output_type": "stream",
     "text": [
      "100%|██████████| 3000/3000 [00:56<00:00, 52.68it/s]\n"
     ]
    }
   ],
   "source": [
    "corpus.detect_chunks()"
   ]
  },
  {
   "cell_type": "code",
   "execution_count": 32,
   "metadata": {
    "ExecuteTime": {
     "end_time": "2021-01-03T14:47:43.413233Z",
     "start_time": "2021-01-03T14:47:43.325531Z"
    }
   },
   "outputs": [],
   "source": [
    "corpus.save_chunks(chunks_filepath)"
   ]
  },
  {
   "cell_type": "markdown",
   "metadata": {},
   "source": [
    "---"
   ]
  },
  {
   "cell_type": "markdown",
   "metadata": {},
   "source": [
    "## Load chunks"
   ]
  },
  {
   "cell_type": "code",
   "execution_count": 33,
   "metadata": {
    "ExecuteTime": {
     "end_time": "2021-01-03T14:47:43.449425Z",
     "start_time": "2021-01-03T14:47:43.414748Z"
    }
   },
   "outputs": [],
   "source": [
    "corpus.load_chunks(chunks_filepath)"
   ]
  },
  {
   "cell_type": "code",
   "execution_count": 34,
   "metadata": {
    "ExecuteTime": {
     "end_time": "2021-01-03T14:47:43.539244Z",
     "start_time": "2021-01-03T14:47:43.451106Z"
    }
   },
   "outputs": [
    {
     "data": {
      "text/plain": [
       "[('string_projects_multiply_amada_multiplyweb', 1),\n",
       " ('characters', 10),\n",
       " ('third_result_projects', 1)]"
      ]
     },
     "execution_count": 34,
     "metadata": {},
     "output_type": "execute_result"
    }
   ],
   "source": [
    "list(corpus.noun_chunks.items())[:3]"
   ]
  },
  {
   "cell_type": "code",
   "execution_count": 35,
   "metadata": {
    "ExecuteTime": {
     "end_time": "2021-01-03T14:47:43.544735Z",
     "start_time": "2021-01-03T14:47:43.540714Z"
    }
   },
   "outputs": [
    {
     "data": {
      "text/plain": [
       "['truncate',\n",
       " 'string',\n",
       " 'net',\n",
       " 'given',\n",
       " 'string',\n",
       " 'projects',\n",
       " 'multiply_amada',\n",
       " 'multiplyweb',\n",
       " 'shared',\n",
       " 'homeaspx',\n",
       " 'want',\n",
       " 'remove',\n",
       " 'trailing',\n",
       " 'characters',\n",
       " 'third_result_projects',\n",
       " 'multiply_amada',\n",
       " 'would',\n",
       " 'like',\n",
       " 'without',\n",
       " 'using',\n",
       " 'split_charindex']"
      ]
     },
     "execution_count": 35,
     "metadata": {},
     "output_type": "execute_result"
    }
   ],
   "source": [
    "corpus.get_chunk_document(0, threshold=0)"
   ]
  },
  {
   "cell_type": "code",
   "execution_count": 36,
   "metadata": {
    "ExecuteTime": {
     "end_time": "2021-01-03T14:47:43.549473Z",
     "start_time": "2021-01-03T14:47:43.546316Z"
    }
   },
   "outputs": [
    {
     "data": {
      "text/plain": [
       "'truncate string net given string projects multiply_amada multiplyweb shared homeaspx want remove trailing characters third result projects multiply_amada would like without using split charindex'"
      ]
     },
     "execution_count": 36,
     "metadata": {},
     "output_type": "execute_result"
    }
   ],
   "source": [
    "corpus.get_text(0)"
   ]
  },
  {
   "cell_type": "code",
   "execution_count": 37,
   "metadata": {
    "ExecuteTime": {
     "end_time": "2021-01-03T14:47:43.554469Z",
     "start_time": "2021-01-03T14:47:43.550936Z"
    }
   },
   "outputs": [
    {
     "data": {
      "text/plain": [
       "['truncate',\n",
       " 'string',\n",
       " 'net',\n",
       " 'given',\n",
       " 'string',\n",
       " 'projects',\n",
       " 'multiply_amada',\n",
       " 'multiplyweb',\n",
       " 'shared',\n",
       " 'homeaspx',\n",
       " 'want',\n",
       " 'remove',\n",
       " 'trailing',\n",
       " 'characters',\n",
       " 'third',\n",
       " 'result',\n",
       " 'projects',\n",
       " 'multiply_amada',\n",
       " 'would',\n",
       " 'like',\n",
       " 'without',\n",
       " 'using',\n",
       " 'split',\n",
       " 'charindex']"
      ]
     },
     "execution_count": 37,
     "metadata": {},
     "output_type": "execute_result"
    }
   ],
   "source": [
    "corpus.get_tokens(0)"
   ]
  },
  {
   "cell_type": "markdown",
   "metadata": {},
   "source": [
    "---"
   ]
  }
 ],
 "metadata": {
  "kernelspec": {
   "display_name": "Python 3",
   "language": "python",
   "name": "python3"
  },
  "language_info": {
   "codemirror_mode": {
    "name": "ipython",
    "version": 3
   },
   "file_extension": ".py",
   "mimetype": "text/x-python",
   "name": "python",
   "nbconvert_exporter": "python",
   "pygments_lexer": "ipython3",
   "version": "3.8.1"
  },
  "toc": {
   "base_numbering": 1,
   "nav_menu": {},
   "number_sections": true,
   "sideBar": true,
   "skip_h1_title": false,
   "title_cell": "Table of Contents",
   "title_sidebar": "Contents",
   "toc_cell": false,
   "toc_position": {},
   "toc_section_display": true,
   "toc_window_display": false
  }
 },
 "nbformat": 4,
 "nbformat_minor": 2
}
