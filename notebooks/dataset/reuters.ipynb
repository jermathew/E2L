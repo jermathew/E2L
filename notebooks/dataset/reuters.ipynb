{
 "cells": [
  {
   "cell_type": "markdown",
   "metadata": {},
   "source": [
    "# Build the dataset"
   ]
  },
  {
   "cell_type": "markdown",
   "metadata": {},
   "source": [
    "---"
   ]
  },
  {
   "cell_type": "markdown",
   "metadata": {},
   "source": [
    "## Define filepaths"
   ]
  },
  {
   "cell_type": "code",
   "execution_count": 1,
   "metadata": {
    "ExecuteTime": {
     "end_time": "2020-09-28T10:45:00.230238Z",
     "start_time": "2020-09-28T10:45:00.226366Z"
    }
   },
   "outputs": [],
   "source": [
    "root_dir = '../..'\n",
    "data_dir = 'data/corpus'"
   ]
  },
  {
   "cell_type": "markdown",
   "metadata": {},
   "source": [
    "---\n",
    "## Load the data"
   ]
  },
  {
   "cell_type": "code",
   "execution_count": 2,
   "metadata": {
    "ExecuteTime": {
     "end_time": "2020-09-28T10:45:01.180801Z",
     "start_time": "2020-09-28T10:45:00.232821Z"
    }
   },
   "outputs": [
    {
     "name": "stderr",
     "output_type": "stream",
     "text": [
      "[nltk_data] Downloading package reuters to /home/nvidia/nltk_data...\n",
      "[nltk_data]   Package reuters is already up-to-date!\n"
     ]
    }
   ],
   "source": [
    "import nltk\n",
    "nltk.download('reuters')\n",
    "from nltk.corpus import reuters"
   ]
  },
  {
   "cell_type": "code",
   "execution_count": 3,
   "metadata": {
    "ExecuteTime": {
     "end_time": "2020-09-28T10:45:02.845713Z",
     "start_time": "2020-09-28T10:45:01.183009Z"
    }
   },
   "outputs": [
    {
     "name": "stdout",
     "output_type": "stream",
     "text": [
      "The Reuters dataset contains 10788 instances classified into 90 topics\n"
     ]
    }
   ],
   "source": [
    "print(f'The Reuters dataset contains {len(reuters.fileids())} instances classified into {len(reuters.categories())} topics')"
   ]
  },
  {
   "cell_type": "code",
   "execution_count": 4,
   "metadata": {
    "ExecuteTime": {
     "end_time": "2020-09-28T10:45:02.852312Z",
     "start_time": "2020-09-28T10:45:02.848615Z"
    }
   },
   "outputs": [],
   "source": [
    "from pprint import pprint"
   ]
  },
  {
   "cell_type": "code",
   "execution_count": 5,
   "metadata": {
    "ExecuteTime": {
     "end_time": "2020-09-28T10:45:02.863772Z",
     "start_time": "2020-09-28T10:45:02.854550Z"
    }
   },
   "outputs": [],
   "source": [
    "category_to_size = {cat: len(reuters.fileids(cat)) for cat in reuters.categories()}\n",
    "sorted_categories = sorted(category_to_size.items(), key=lambda x:x[1], reverse=True)"
   ]
  },
  {
   "cell_type": "code",
   "execution_count": 6,
   "metadata": {
    "ExecuteTime": {
     "end_time": "2020-09-28T10:45:02.975068Z",
     "start_time": "2020-09-28T10:45:02.865970Z"
    }
   },
   "outputs": [
    {
     "name": "stdout",
     "output_type": "stream",
     "text": [
      "[('earn', 3964),\n",
      " ('acq', 2369),\n",
      " ('money-fx', 717),\n",
      " ('grain', 582),\n",
      " ('crude', 578),\n",
      " ('trade', 485),\n",
      " ('interest', 478),\n",
      " ('ship', 286),\n",
      " ('wheat', 283),\n",
      " ('corn', 237),\n",
      " ('dlr', 175),\n",
      " ('money-supply', 174),\n",
      " ('oilseed', 171),\n",
      " ('sugar', 162),\n",
      " ('coffee', 139),\n",
      " ('gnp', 136),\n",
      " ('gold', 124),\n",
      " ('veg-oil', 124),\n",
      " ('soybean', 111),\n",
      " ('bop', 105),\n",
      " ('nat-gas', 105),\n",
      " ('livestock', 99),\n",
      " ('cpi', 97),\n",
      " ('cocoa', 73),\n",
      " ('reserves', 73),\n",
      " ('carcass', 68),\n",
      " ('jobs', 67),\n",
      " ('copper', 65),\n",
      " ('cotton', 59),\n",
      " ('rice', 59),\n",
      " ('yen', 59),\n",
      " ('alum', 58),\n",
      " ('gas', 54),\n",
      " ('iron-steel', 54),\n",
      " ('ipi', 53),\n",
      " ('barley', 51),\n",
      " ('meal-feed', 49),\n",
      " ('rubber', 49),\n",
      " ('palm-oil', 40),\n",
      " ('sorghum', 34),\n",
      " ('zinc', 34),\n",
      " ('pet-chem', 32),\n",
      " ('tin', 30),\n",
      " ('lead', 29),\n",
      " ('silver', 29),\n",
      " ('wpi', 29),\n",
      " ('orange', 27),\n",
      " ('rapeseed', 27),\n",
      " ('strategic-metal', 27),\n",
      " ('soy-meal', 26),\n",
      " ('retail', 25),\n",
      " ('soy-oil', 25),\n",
      " ('fuel', 23),\n",
      " ('hog', 22),\n",
      " ('housing', 20),\n",
      " ('heat', 19),\n",
      " ('income', 16),\n",
      " ('lumber', 16),\n",
      " ('sunseed', 16),\n",
      " ('lei', 15),\n",
      " ('dmk', 14),\n",
      " ('oat', 14),\n",
      " ('tea', 13),\n",
      " ('platinum', 12),\n",
      " ('groundnut', 9),\n",
      " ('nickel', 9),\n",
      " ('l-cattle', 8),\n",
      " ('rape-oil', 8),\n",
      " ('coconut-oil', 7),\n",
      " ('sun-oil', 7),\n",
      " ('coconut', 6),\n",
      " ('instal-debt', 6),\n",
      " ('naphtha', 6),\n",
      " ('potato', 6),\n",
      " ('propane', 6),\n",
      " ('jet', 5),\n",
      " ('cpu', 4),\n",
      " ('nzdlr', 4),\n",
      " ('copra-cake', 3),\n",
      " ('cotton-oil', 3),\n",
      " ('dfl', 3),\n",
      " ('nkr', 3),\n",
      " ('palladium', 3),\n",
      " ('palmkernel', 3),\n",
      " ('rand', 3),\n",
      " ('castor-oil', 2),\n",
      " ('groundnut-oil', 2),\n",
      " ('lin-oil', 2),\n",
      " ('rye', 2),\n",
      " ('sun-meal', 2)]\n"
     ]
    }
   ],
   "source": [
    "pprint(sorted_categories)"
   ]
  },
  {
   "cell_type": "markdown",
   "metadata": {},
   "source": [
    "## Filter documents by topics"
   ]
  },
  {
   "cell_type": "markdown",
   "metadata": {},
   "source": [
    "We take only the top 20 most common topics and their corresponding documents"
   ]
  },
  {
   "cell_type": "code",
   "execution_count": 7,
   "metadata": {
    "ExecuteTime": {
     "end_time": "2020-09-28T10:45:02.989148Z",
     "start_time": "2020-09-28T10:45:02.986472Z"
    }
   },
   "outputs": [],
   "source": [
    "num_topics = 20"
   ]
  },
  {
   "cell_type": "code",
   "execution_count": 8,
   "metadata": {
    "ExecuteTime": {
     "end_time": "2020-09-28T10:45:03.001247Z",
     "start_time": "2020-09-28T10:45:02.991598Z"
    }
   },
   "outputs": [
    {
     "data": {
      "text/plain": [
       "['earn',\n",
       " 'acq',\n",
       " 'money-fx',\n",
       " 'grain',\n",
       " 'crude',\n",
       " 'trade',\n",
       " 'interest',\n",
       " 'ship',\n",
       " 'wheat',\n",
       " 'corn',\n",
       " 'dlr',\n",
       " 'money-supply',\n",
       " 'oilseed',\n",
       " 'sugar',\n",
       " 'coffee',\n",
       " 'gnp',\n",
       " 'gold',\n",
       " 'veg-oil',\n",
       " 'soybean',\n",
       " 'bop']"
      ]
     },
     "execution_count": 8,
     "metadata": {},
     "output_type": "execute_result"
    }
   ],
   "source": [
    "selected_categories = [cat for cat, _ in sorted_categories[:num_topics]]\n",
    "selected_categories"
   ]
  },
  {
   "cell_type": "code",
   "execution_count": 9,
   "metadata": {
    "ExecuteTime": {
     "end_time": "2020-09-28T10:45:03.006230Z",
     "start_time": "2020-09-28T10:45:03.003175Z"
    }
   },
   "outputs": [],
   "source": [
    "reuters_dict = []"
   ]
  },
  {
   "cell_type": "code",
   "execution_count": 10,
   "metadata": {
    "ExecuteTime": {
     "end_time": "2020-09-28T10:45:05.403455Z",
     "start_time": "2020-09-28T10:45:03.008314Z"
    }
   },
   "outputs": [],
   "source": [
    "doc_list = []\n",
    "\n",
    "for cat in selected_categories:\n",
    "    docs_ids = reuters.fileids(cat)\n",
    "    for doc_id in docs_ids:\n",
    "        if doc_id not in doc_list:\n",
    "            doc_list.append(doc_id)\n",
    "            reuters_dict.append({'file_id': doc_id,\n",
    "                                 'text': reuters.raw(doc_id)})"
   ]
  },
  {
   "cell_type": "code",
   "execution_count": 11,
   "metadata": {
    "ExecuteTime": {
     "end_time": "2020-09-28T10:45:05.535620Z",
     "start_time": "2020-09-28T10:45:05.405150Z"
    }
   },
   "outputs": [],
   "source": [
    "import pandas as pd"
   ]
  },
  {
   "cell_type": "code",
   "execution_count": 12,
   "metadata": {
    "ExecuteTime": {
     "end_time": "2020-09-28T10:45:05.558635Z",
     "start_time": "2020-09-28T10:45:05.537014Z"
    }
   },
   "outputs": [
    {
     "data": {
      "text/html": [
       "<div>\n",
       "<style scoped>\n",
       "    .dataframe tbody tr th:only-of-type {\n",
       "        vertical-align: middle;\n",
       "    }\n",
       "\n",
       "    .dataframe tbody tr th {\n",
       "        vertical-align: top;\n",
       "    }\n",
       "\n",
       "    .dataframe thead th {\n",
       "        text-align: right;\n",
       "    }\n",
       "</style>\n",
       "<table border=\"1\" class=\"dataframe\">\n",
       "  <thead>\n",
       "    <tr style=\"text-align: right;\">\n",
       "      <th></th>\n",
       "      <th>file_id</th>\n",
       "      <th>text</th>\n",
       "    </tr>\n",
       "  </thead>\n",
       "  <tbody>\n",
       "    <tr>\n",
       "      <th>0</th>\n",
       "      <td>test/14859</td>\n",
       "      <td>AMATIL PROPOSES TWO-FOR-FIVE BONUS SHARE ISSUE...</td>\n",
       "    </tr>\n",
       "    <tr>\n",
       "      <th>1</th>\n",
       "      <td>test/14860</td>\n",
       "      <td>BOWATER 1986 PRETAX PROFITS RISE 15.6 MLN STG\\...</td>\n",
       "    </tr>\n",
       "    <tr>\n",
       "      <th>2</th>\n",
       "      <td>test/14872</td>\n",
       "      <td>BOWATER INDUSTRIES PROFIT EXCEED EXPECTATIONS\\...</td>\n",
       "    </tr>\n",
       "    <tr>\n",
       "      <th>3</th>\n",
       "      <td>test/14873</td>\n",
       "      <td>CITIBANK NORWAY UNIT LOSES SIX MLN CROWNS IN 1...</td>\n",
       "    </tr>\n",
       "    <tr>\n",
       "      <th>4</th>\n",
       "      <td>test/14875</td>\n",
       "      <td>VIEILLE MONTAGNE SAYS 1986 CONDITIONS UNFAVOUR...</td>\n",
       "    </tr>\n",
       "  </tbody>\n",
       "</table>\n",
       "</div>"
      ],
      "text/plain": [
       "      file_id                                               text\n",
       "0  test/14859  AMATIL PROPOSES TWO-FOR-FIVE BONUS SHARE ISSUE...\n",
       "1  test/14860  BOWATER 1986 PRETAX PROFITS RISE 15.6 MLN STG\\...\n",
       "2  test/14872  BOWATER INDUSTRIES PROFIT EXCEED EXPECTATIONS\\...\n",
       "3  test/14873  CITIBANK NORWAY UNIT LOSES SIX MLN CROWNS IN 1...\n",
       "4  test/14875  VIEILLE MONTAGNE SAYS 1986 CONDITIONS UNFAVOUR..."
      ]
     },
     "execution_count": 12,
     "metadata": {},
     "output_type": "execute_result"
    }
   ],
   "source": [
    "reuters_df = pd.DataFrame(reuters_dict)\n",
    "reuters_df.head()"
   ]
  },
  {
   "cell_type": "code",
   "execution_count": 13,
   "metadata": {
    "ExecuteTime": {
     "end_time": "2020-09-28T10:45:05.569107Z",
     "start_time": "2020-09-28T10:45:05.561296Z"
    }
   },
   "outputs": [
    {
     "data": {
      "text/plain": [
       "(9848, 2)"
      ]
     },
     "execution_count": 13,
     "metadata": {},
     "output_type": "execute_result"
    }
   ],
   "source": [
    "reuters_df.shape"
   ]
  },
  {
   "cell_type": "markdown",
   "metadata": {
    "ExecuteTime": {
     "end_time": "2020-09-28T10:16:06.687006Z",
     "start_time": "2020-09-28T10:16:06.679451Z"
    }
   },
   "source": [
    "---\n",
    "## Retrieve labels for each text"
   ]
  },
  {
   "cell_type": "markdown",
   "metadata": {},
   "source": [
    "First, make all texts lowercase"
   ]
  },
  {
   "cell_type": "code",
   "execution_count": 14,
   "metadata": {
    "ExecuteTime": {
     "end_time": "2020-09-28T10:45:05.588616Z",
     "start_time": "2020-09-28T10:45:05.571438Z"
    }
   },
   "outputs": [],
   "source": [
    "reuters_df['text'] = reuters_df['text'].map(lambda x: x.lower())"
   ]
  },
  {
   "cell_type": "code",
   "execution_count": 15,
   "metadata": {
    "ExecuteTime": {
     "end_time": "2020-09-28T10:45:05.615881Z",
     "start_time": "2020-09-28T10:45:05.590515Z"
    }
   },
   "outputs": [],
   "source": [
    "reuters_df['labels'] = reuters_df['file_id'].map(lambda x: reuters.categories(x))\n",
    "reuters_df['labels'] = reuters_df['labels'].map(lambda categories: [cat for cat in categories if cat in selected_categories])"
   ]
  },
  {
   "cell_type": "code",
   "execution_count": 16,
   "metadata": {
    "ExecuteTime": {
     "end_time": "2020-09-28T10:45:05.626183Z",
     "start_time": "2020-09-28T10:45:05.617504Z"
    }
   },
   "outputs": [
    {
     "data": {
      "text/html": [
       "<div>\n",
       "<style scoped>\n",
       "    .dataframe tbody tr th:only-of-type {\n",
       "        vertical-align: middle;\n",
       "    }\n",
       "\n",
       "    .dataframe tbody tr th {\n",
       "        vertical-align: top;\n",
       "    }\n",
       "\n",
       "    .dataframe thead th {\n",
       "        text-align: right;\n",
       "    }\n",
       "</style>\n",
       "<table border=\"1\" class=\"dataframe\">\n",
       "  <thead>\n",
       "    <tr style=\"text-align: right;\">\n",
       "      <th></th>\n",
       "      <th>file_id</th>\n",
       "      <th>text</th>\n",
       "      <th>labels</th>\n",
       "    </tr>\n",
       "  </thead>\n",
       "  <tbody>\n",
       "    <tr>\n",
       "      <th>0</th>\n",
       "      <td>test/14859</td>\n",
       "      <td>amatil proposes two-for-five bonus share issue...</td>\n",
       "      <td>[earn]</td>\n",
       "    </tr>\n",
       "    <tr>\n",
       "      <th>1</th>\n",
       "      <td>test/14860</td>\n",
       "      <td>bowater 1986 pretax profits rise 15.6 mln stg\\...</td>\n",
       "      <td>[earn]</td>\n",
       "    </tr>\n",
       "    <tr>\n",
       "      <th>2</th>\n",
       "      <td>test/14872</td>\n",
       "      <td>bowater industries profit exceed expectations\\...</td>\n",
       "      <td>[earn]</td>\n",
       "    </tr>\n",
       "    <tr>\n",
       "      <th>3</th>\n",
       "      <td>test/14873</td>\n",
       "      <td>citibank norway unit loses six mln crowns in 1...</td>\n",
       "      <td>[earn]</td>\n",
       "    </tr>\n",
       "    <tr>\n",
       "      <th>4</th>\n",
       "      <td>test/14875</td>\n",
       "      <td>vieille montagne says 1986 conditions unfavour...</td>\n",
       "      <td>[earn]</td>\n",
       "    </tr>\n",
       "  </tbody>\n",
       "</table>\n",
       "</div>"
      ],
      "text/plain": [
       "      file_id                                               text  labels\n",
       "0  test/14859  amatil proposes two-for-five bonus share issue...  [earn]\n",
       "1  test/14860  bowater 1986 pretax profits rise 15.6 mln stg\\...  [earn]\n",
       "2  test/14872  bowater industries profit exceed expectations\\...  [earn]\n",
       "3  test/14873  citibank norway unit loses six mln crowns in 1...  [earn]\n",
       "4  test/14875  vieille montagne says 1986 conditions unfavour...  [earn]"
      ]
     },
     "execution_count": 16,
     "metadata": {},
     "output_type": "execute_result"
    }
   ],
   "source": [
    "reuters_df.head()"
   ]
  },
  {
   "cell_type": "markdown",
   "metadata": {},
   "source": [
    "---\n",
    "## Convert the data to the `TrainingCorpus` format"
   ]
  },
  {
   "cell_type": "code",
   "execution_count": 17,
   "metadata": {
    "ExecuteTime": {
     "end_time": "2020-09-28T10:45:05.630622Z",
     "start_time": "2020-09-28T10:45:05.627794Z"
    }
   },
   "outputs": [],
   "source": [
    "reuters_to_json = {}"
   ]
  },
  {
   "cell_type": "markdown",
   "metadata": {},
   "source": [
    "### Define the `docs` field"
   ]
  },
  {
   "cell_type": "code",
   "execution_count": 18,
   "metadata": {
    "ExecuteTime": {
     "end_time": "2020-09-28T10:45:05.634936Z",
     "start_time": "2020-09-28T10:45:05.632232Z"
    }
   },
   "outputs": [],
   "source": [
    "reuters_to_json['docs'] = reuters_df.index.tolist()"
   ]
  },
  {
   "cell_type": "markdown",
   "metadata": {},
   "source": [
    "### Define the `texts` field"
   ]
  },
  {
   "cell_type": "code",
   "execution_count": 19,
   "metadata": {
    "ExecuteTime": {
     "end_time": "2020-09-28T10:45:05.641158Z",
     "start_time": "2020-09-28T10:45:05.638290Z"
    }
   },
   "outputs": [],
   "source": [
    "reuters_to_json['texts'] = reuters_df['text'].tolist()"
   ]
  },
  {
   "cell_type": "markdown",
   "metadata": {},
   "source": [
    "### Define the `tokens` field"
   ]
  },
  {
   "cell_type": "code",
   "execution_count": 20,
   "metadata": {
    "ExecuteTime": {
     "end_time": "2020-09-28T10:45:05.646649Z",
     "start_time": "2020-09-28T10:45:05.643066Z"
    }
   },
   "outputs": [],
   "source": [
    "import os\n",
    "import sys"
   ]
  },
  {
   "cell_type": "code",
   "execution_count": 21,
   "metadata": {
    "ExecuteTime": {
     "end_time": "2020-09-28T10:45:05.650471Z",
     "start_time": "2020-09-28T10:45:05.648109Z"
    }
   },
   "outputs": [],
   "source": [
    "src_dir = 'src'"
   ]
  },
  {
   "cell_type": "code",
   "execution_count": 22,
   "metadata": {
    "ExecuteTime": {
     "end_time": "2020-09-28T10:45:05.654766Z",
     "start_time": "2020-09-28T10:45:05.652171Z"
    }
   },
   "outputs": [],
   "source": [
    "sys.path.append(os.path.join(root_dir, src_dir))"
   ]
  },
  {
   "cell_type": "code",
   "execution_count": 23,
   "metadata": {
    "ExecuteTime": {
     "end_time": "2020-09-28T10:45:05.915418Z",
     "start_time": "2020-09-28T10:45:05.656496Z"
    }
   },
   "outputs": [],
   "source": [
    "from training import TrainingCorpus"
   ]
  },
  {
   "cell_type": "code",
   "execution_count": 24,
   "metadata": {
    "ExecuteTime": {
     "end_time": "2020-09-28T10:45:16.862992Z",
     "start_time": "2020-09-28T10:45:05.916960Z"
    }
   },
   "outputs": [],
   "source": [
    "reuters_to_json['tokens'] = reuters_df['text']\\\n",
    "                            .map(lambda x: TrainingCorpus.tokenize(x)).tolist()"
   ]
  },
  {
   "cell_type": "markdown",
   "metadata": {},
   "source": [
    "### Define the `labels` field"
   ]
  },
  {
   "cell_type": "code",
   "execution_count": 25,
   "metadata": {
    "ExecuteTime": {
     "end_time": "2020-09-28T10:45:16.870185Z",
     "start_time": "2020-09-28T10:45:16.864980Z"
    }
   },
   "outputs": [],
   "source": [
    "reuters_to_json['labels'] = sorted(selected_categories)"
   ]
  },
  {
   "cell_type": "markdown",
   "metadata": {
    "ExecuteTime": {
     "end_time": "2020-09-28T10:27:02.994280Z",
     "start_time": "2020-09-28T10:27:02.889576Z"
    }
   },
   "source": [
    "### Define the `target` field"
   ]
  },
  {
   "cell_type": "code",
   "execution_count": 26,
   "metadata": {
    "ExecuteTime": {
     "end_time": "2020-09-28T10:45:16.881212Z",
     "start_time": "2020-09-28T10:45:16.871616Z"
    }
   },
   "outputs": [],
   "source": [
    "reuters_to_json['target'] = reuters_df['labels'].to_dict()"
   ]
  },
  {
   "cell_type": "markdown",
   "metadata": {},
   "source": [
    "---\n",
    "## Save to JSON file"
   ]
  },
  {
   "cell_type": "code",
   "execution_count": 27,
   "metadata": {
    "ExecuteTime": {
     "end_time": "2020-09-28T10:45:16.886410Z",
     "start_time": "2020-09-28T10:45:16.882620Z"
    }
   },
   "outputs": [],
   "source": [
    "dataset_filename = 'reuters_corpus.json'\n",
    "dataset_filepath = os.path.join(root_dir, data_dir, dataset_filename)"
   ]
  },
  {
   "cell_type": "code",
   "execution_count": 28,
   "metadata": {
    "ExecuteTime": {
     "end_time": "2020-09-28T10:45:16.897679Z",
     "start_time": "2020-09-28T10:45:16.890397Z"
    }
   },
   "outputs": [],
   "source": [
    "import json"
   ]
  },
  {
   "cell_type": "code",
   "execution_count": 29,
   "metadata": {
    "ExecuteTime": {
     "end_time": "2020-09-28T10:45:17.514730Z",
     "start_time": "2020-09-28T10:45:16.900333Z"
    }
   },
   "outputs": [],
   "source": [
    "with open(dataset_filepath, 'w') as fd:\n",
    "    json.dump(reuters_to_json, fd)"
   ]
  },
  {
   "cell_type": "markdown",
   "metadata": {},
   "source": [
    "---\n",
    "## Open the dataset as an instance of the `TrainingCorpus` class"
   ]
  },
  {
   "cell_type": "code",
   "execution_count": 30,
   "metadata": {
    "ExecuteTime": {
     "end_time": "2020-09-28T10:45:17.834274Z",
     "start_time": "2020-09-28T10:45:17.516794Z"
    }
   },
   "outputs": [],
   "source": [
    "reuters_corpus = TrainingCorpus()\n",
    "reuters_corpus.load(dataset_filepath)"
   ]
  },
  {
   "cell_type": "code",
   "execution_count": 31,
   "metadata": {
    "ExecuteTime": {
     "end_time": "2020-09-28T10:45:17.845907Z",
     "start_time": "2020-09-28T10:45:17.835834Z"
    }
   },
   "outputs": [
    {
     "data": {
      "text/plain": [
       "'amatil proposes two-for-five bonus share issue\\n  amatil ltd &lt;amaa.s> said it proposes to\\n  make a two-for-five bonus issue out of its revaluation reserve\\n  to shareholders registered may 26.\\n      shareholders will be asked to approve the issue and an\\n  increase in authorised capital to 175 mln s'"
      ]
     },
     "execution_count": 31,
     "metadata": {},
     "output_type": "execute_result"
    }
   ],
   "source": [
    "reuters_corpus.get_text(0)[:300]"
   ]
  },
  {
   "cell_type": "code",
   "execution_count": 32,
   "metadata": {
    "ExecuteTime": {
     "end_time": "2020-09-28T10:45:17.858326Z",
     "start_time": "2020-09-28T10:45:17.848833Z"
    }
   },
   "outputs": [
    {
     "data": {
      "text/plain": [
       "['amatil',\n",
       " 'proposes',\n",
       " 'two-for-five',\n",
       " 'bonus',\n",
       " 'share',\n",
       " 'issue',\n",
       " 'amatil',\n",
       " 'ltd',\n",
       " 'lt',\n",
       " 'amaa',\n",
       " 'said',\n",
       " 'proposes',\n",
       " 'make',\n",
       " 'two-for-five',\n",
       " 'bonus']"
      ]
     },
     "execution_count": 32,
     "metadata": {},
     "output_type": "execute_result"
    }
   ],
   "source": [
    "reuters_corpus.get_tokens(0)[:15]"
   ]
  },
  {
   "cell_type": "markdown",
   "metadata": {},
   "source": [
    "---\n",
    "## Compute noun chunks"
   ]
  },
  {
   "cell_type": "code",
   "execution_count": 33,
   "metadata": {
    "ExecuteTime": {
     "end_time": "2020-09-28T10:45:17.866972Z",
     "start_time": "2020-09-28T10:45:17.861346Z"
    }
   },
   "outputs": [],
   "source": [
    "chunks_filename = 'reuters_chunks.json'\n",
    "chunks_filepath = os.path.join(root_dir, data_dir, chunks_filename)"
   ]
  },
  {
   "cell_type": "code",
   "execution_count": 34,
   "metadata": {
    "ExecuteTime": {
     "end_time": "2020-09-28T10:49:34.042659Z",
     "start_time": "2020-09-28T10:45:17.871085Z"
    }
   },
   "outputs": [
    {
     "name": "stderr",
     "output_type": "stream",
     "text": [
      "100%|██████████| 9848/9848 [04:15<00:00, 38.60it/s]\n"
     ]
    }
   ],
   "source": [
    "reuters_corpus.detect_chunks()"
   ]
  },
  {
   "cell_type": "code",
   "execution_count": 35,
   "metadata": {
    "ExecuteTime": {
     "end_time": "2020-09-28T10:49:34.323101Z",
     "start_time": "2020-09-28T10:49:34.044932Z"
    }
   },
   "outputs": [],
   "source": [
    "reuters_corpus.save_chunks(chunks_filepath)"
   ]
  },
  {
   "cell_type": "markdown",
   "metadata": {},
   "source": [
    "---\n",
    "## Load chunks"
   ]
  },
  {
   "cell_type": "code",
   "execution_count": 37,
   "metadata": {
    "ExecuteTime": {
     "end_time": "2020-09-28T10:51:00.181794Z",
     "start_time": "2020-09-28T10:50:59.768075Z"
    }
   },
   "outputs": [],
   "source": [
    "reuters_corpus.load_chunks(chunks_filepath)"
   ]
  },
  {
   "cell_type": "code",
   "execution_count": 38,
   "metadata": {
    "ExecuteTime": {
     "end_time": "2020-09-28T10:51:18.262074Z",
     "start_time": "2020-09-28T10:51:18.229592Z"
    }
   },
   "outputs": [
    {
     "data": {
      "text/plain": [
       "[('amatil', 2), ('two-for-five_bonus_share_issue', 1), ('amatil_ltd', 1)]"
      ]
     },
     "execution_count": 38,
     "metadata": {},
     "output_type": "execute_result"
    }
   ],
   "source": [
    "list(reuters_corpus.noun_chunks.items())[:3]"
   ]
  },
  {
   "cell_type": "code",
   "execution_count": 40,
   "metadata": {
    "ExecuteTime": {
     "end_time": "2020-09-28T10:51:35.550134Z",
     "start_time": "2020-09-28T10:51:35.538663Z"
    }
   },
   "outputs": [
    {
     "data": {
      "text/plain": [
       "'amatil proposes two-for-five_bonus_share_issue amatil_ltd lt_amaa said proposes make two-for-five_bonus_issue revaluation_reserve shareholders registered may 26. shareholders asked approve issue increase authorised_capital 175_mln_shares 125 mln general_meeting may 1 said statement new_shares rank dividends declared october 31. amatil b. a. t. industries plc lt bti l holds 41_pct_stake said expect maintain latest_annual_dividend_rate 29_cents share enlarged_capital'"
      ]
     },
     "execution_count": 40,
     "metadata": {},
     "output_type": "execute_result"
    }
   ],
   "source": [
    "' '.join(reuters_corpus.get_chunk_document(0, threshold=0))"
   ]
  },
  {
   "cell_type": "code",
   "execution_count": 42,
   "metadata": {
    "ExecuteTime": {
     "end_time": "2020-09-28T10:51:51.969694Z",
     "start_time": "2020-09-28T10:51:51.965672Z"
    }
   },
   "outputs": [
    {
     "data": {
      "text/plain": [
       "'amatil proposes two-for-five bonus share issue\\n  amatil ltd &lt;amaa.s> said it proposes to\\n  make a two-for-five bonus issue out of its revaluation reserve\\n  to shareholders registered may 26.\\n      shareholders will be asked to approve the issue and an\\n  increase in authorised capital to 175 mln shares from 125 mln\\n  at a general meeting on may 1, it said in a statement.\\n      the new shares will rank for dividends declared after\\n  october 31. amatil, in which b.a.t. industries plc &lt;bti.l>\\n  holds a 41 pct stake, said it does not expect to maintain its\\n  latest annual dividend rate of 29 cents a share on the enlarged\\n  capital.\\n  \\n\\n'"
      ]
     },
     "execution_count": 42,
     "metadata": {},
     "output_type": "execute_result"
    }
   ],
   "source": [
    "reuters_corpus.get_text(0)"
   ]
  },
  {
   "cell_type": "markdown",
   "metadata": {},
   "source": [
    "---"
   ]
  },
  {
   "cell_type": "markdown",
   "metadata": {},
   "source": [
    "## Get average document length"
   ]
  },
  {
   "cell_type": "code",
   "execution_count": 43,
   "metadata": {
    "ExecuteTime": {
     "end_time": "2020-09-28T10:58:57.309029Z",
     "start_time": "2020-09-28T10:58:57.290898Z"
    }
   },
   "outputs": [
    {
     "data": {
      "text/plain": [
       "90.64429325751422"
      ]
     },
     "execution_count": 43,
     "metadata": {},
     "output_type": "execute_result"
    }
   ],
   "source": [
    "sum(len(reuters_corpus.get_tokens(doc_id)) for doc_id in reuters_corpus.docs)/len(reuters_corpus.docs)"
   ]
  },
  {
   "cell_type": "markdown",
   "metadata": {},
   "source": [
    "---"
   ]
  }
 ],
 "metadata": {
  "kernelspec": {
   "display_name": "Python 3",
   "language": "python",
   "name": "python3"
  },
  "language_info": {
   "codemirror_mode": {
    "name": "ipython",
    "version": 3
   },
   "file_extension": ".py",
   "mimetype": "text/x-python",
   "name": "python",
   "nbconvert_exporter": "python",
   "pygments_lexer": "ipython3",
   "version": "3.8.1"
  },
  "toc": {
   "base_numbering": 1,
   "nav_menu": {},
   "number_sections": true,
   "sideBar": true,
   "skip_h1_title": false,
   "title_cell": "Table of Contents",
   "title_sidebar": "Contents",
   "toc_cell": false,
   "toc_position": {},
   "toc_section_display": true,
   "toc_window_display": false
  }
 },
 "nbformat": 4,
 "nbformat_minor": 4
}
