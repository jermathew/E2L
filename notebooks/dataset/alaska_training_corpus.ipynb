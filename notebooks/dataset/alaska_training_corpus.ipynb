{
 "cells": [
  {
   "cell_type": "markdown",
   "metadata": {},
   "source": [
    "# Build the dataset\n",
    "Build a dataset of `<product description>` `<product id` pairs"
   ]
  },
  {
   "cell_type": "markdown",
   "metadata": {},
   "source": [
    "---"
   ]
  },
  {
   "cell_type": "markdown",
   "metadata": {},
   "source": [
    "## Define filepaths"
   ]
  },
  {
   "cell_type": "code",
   "execution_count": 1,
   "metadata": {
    "ExecuteTime": {
     "end_time": "2020-09-25T18:34:50.307602Z",
     "start_time": "2020-09-25T18:34:50.304721Z"
    }
   },
   "outputs": [],
   "source": [
    "root_dir = '../..'\n",
    "data_dir = 'data/corpus'\n",
    "alaska_dir = 'alaska_camera'"
   ]
  },
  {
   "cell_type": "markdown",
   "metadata": {},
   "source": [
    "---"
   ]
  },
  {
   "cell_type": "markdown",
   "metadata": {},
   "source": [
    "## Load the dataset"
   ]
  },
  {
   "cell_type": "markdown",
   "metadata": {},
   "source": [
    "### Load the Alaska camera dataset for entity resolution (ER)"
   ]
  },
  {
   "cell_type": "code",
   "execution_count": 2,
   "metadata": {
    "ExecuteTime": {
     "end_time": "2020-09-25T18:34:51.322505Z",
     "start_time": "2020-09-25T18:34:50.996971Z"
    }
   },
   "outputs": [],
   "source": [
    "import os\n",
    "import pandas as pd"
   ]
  },
  {
   "cell_type": "code",
   "execution_count": 3,
   "metadata": {
    "ExecuteTime": {
     "end_time": "2020-09-25T18:34:51.326816Z",
     "start_time": "2020-09-25T18:34:51.324456Z"
    }
   },
   "outputs": [],
   "source": [
    "filename = 'camera_entity_resolution_gt.xlsx'"
   ]
  },
  {
   "cell_type": "code",
   "execution_count": 4,
   "metadata": {
    "ExecuteTime": {
     "end_time": "2020-09-25T18:34:51.561647Z",
     "start_time": "2020-09-25T18:34:51.359130Z"
    }
   },
   "outputs": [
    {
     "data": {
      "text/html": [
       "<div>\n",
       "<style scoped>\n",
       "    .dataframe tbody tr th:only-of-type {\n",
       "        vertical-align: middle;\n",
       "    }\n",
       "\n",
       "    .dataframe tbody tr th {\n",
       "        vertical-align: top;\n",
       "    }\n",
       "\n",
       "    .dataframe thead th {\n",
       "        text-align: right;\n",
       "    }\n",
       "</style>\n",
       "<table border=\"1\" class=\"dataframe\">\n",
       "  <thead>\n",
       "    <tr style=\"text-align: right;\">\n",
       "      <th></th>\n",
       "      <th>entity_id,spec_id</th>\n",
       "    </tr>\n",
       "  </thead>\n",
       "  <tbody>\n",
       "    <tr>\n",
       "      <th>0</th>\n",
       "      <td>ENTITY#1,buy.net//4236</td>\n",
       "    </tr>\n",
       "    <tr>\n",
       "      <th>1</th>\n",
       "      <td>ENTITY#1,www.ebay.com//46670</td>\n",
       "    </tr>\n",
       "    <tr>\n",
       "      <th>2</th>\n",
       "      <td>ENTITY#10,www.pcconnection.com//12363</td>\n",
       "    </tr>\n",
       "    <tr>\n",
       "      <th>3</th>\n",
       "      <td>ENTITY#10,buy.net//6531</td>\n",
       "    </tr>\n",
       "    <tr>\n",
       "      <th>4</th>\n",
       "      <td>ENTITY#10,www.shopmania.in//698</td>\n",
       "    </tr>\n",
       "  </tbody>\n",
       "</table>\n",
       "</div>"
      ],
      "text/plain": [
       "                       entity_id,spec_id\n",
       "0                 ENTITY#1,buy.net//4236\n",
       "1           ENTITY#1,www.ebay.com//46670\n",
       "2  ENTITY#10,www.pcconnection.com//12363\n",
       "3                ENTITY#10,buy.net//6531\n",
       "4        ENTITY#10,www.shopmania.in//698"
      ]
     },
     "execution_count": 4,
     "metadata": {},
     "output_type": "execute_result"
    }
   ],
   "source": [
    "alaska_camera_df = pd.read_excel(os.path.join(root_dir, data_dir, filename))\n",
    "alaska_camera_df.head()"
   ]
  },
  {
   "cell_type": "code",
   "execution_count": 5,
   "metadata": {
    "ExecuteTime": {
     "end_time": "2020-09-25T18:34:51.573855Z",
     "start_time": "2020-09-25T18:34:51.570312Z"
    }
   },
   "outputs": [
    {
     "data": {
      "text/plain": [
       "(3865, 1)"
      ]
     },
     "execution_count": 5,
     "metadata": {},
     "output_type": "execute_result"
    }
   ],
   "source": [
    "alaska_camera_df.shape"
   ]
  },
  {
   "cell_type": "code",
   "execution_count": 6,
   "metadata": {
    "ExecuteTime": {
     "end_time": "2020-09-25T18:34:51.840989Z",
     "start_time": "2020-09-25T18:34:51.826390Z"
    }
   },
   "outputs": [],
   "source": [
    "alaska_camera_df['entity_id'] = alaska_camera_df['entity_id,spec_id'].map(lambda x: x.split(',')[0])\n",
    "alaska_camera_df['spec_id'] = alaska_camera_df['entity_id,spec_id'].map(lambda x: x.split(',')[1])"
   ]
  },
  {
   "cell_type": "code",
   "execution_count": 7,
   "metadata": {
    "ExecuteTime": {
     "end_time": "2020-09-25T18:34:52.060997Z",
     "start_time": "2020-09-25T18:34:52.035983Z"
    }
   },
   "outputs": [
    {
     "data": {
      "text/html": [
       "<div>\n",
       "<style scoped>\n",
       "    .dataframe tbody tr th:only-of-type {\n",
       "        vertical-align: middle;\n",
       "    }\n",
       "\n",
       "    .dataframe tbody tr th {\n",
       "        vertical-align: top;\n",
       "    }\n",
       "\n",
       "    .dataframe thead th {\n",
       "        text-align: right;\n",
       "    }\n",
       "</style>\n",
       "<table border=\"1\" class=\"dataframe\">\n",
       "  <thead>\n",
       "    <tr style=\"text-align: right;\">\n",
       "      <th></th>\n",
       "      <th>entity_id</th>\n",
       "      <th>spec_id</th>\n",
       "    </tr>\n",
       "  </thead>\n",
       "  <tbody>\n",
       "    <tr>\n",
       "      <th>0</th>\n",
       "      <td>ENTITY#1</td>\n",
       "      <td>buy.net//4236</td>\n",
       "    </tr>\n",
       "    <tr>\n",
       "      <th>1</th>\n",
       "      <td>ENTITY#1</td>\n",
       "      <td>www.ebay.com//46670</td>\n",
       "    </tr>\n",
       "    <tr>\n",
       "      <th>2</th>\n",
       "      <td>ENTITY#10</td>\n",
       "      <td>www.pcconnection.com//12363</td>\n",
       "    </tr>\n",
       "    <tr>\n",
       "      <th>3</th>\n",
       "      <td>ENTITY#10</td>\n",
       "      <td>buy.net//6531</td>\n",
       "    </tr>\n",
       "    <tr>\n",
       "      <th>4</th>\n",
       "      <td>ENTITY#10</td>\n",
       "      <td>www.shopmania.in//698</td>\n",
       "    </tr>\n",
       "  </tbody>\n",
       "</table>\n",
       "</div>"
      ],
      "text/plain": [
       "   entity_id                      spec_id\n",
       "0   ENTITY#1                buy.net//4236\n",
       "1   ENTITY#1          www.ebay.com//46670\n",
       "2  ENTITY#10  www.pcconnection.com//12363\n",
       "3  ENTITY#10                buy.net//6531\n",
       "4  ENTITY#10        www.shopmania.in//698"
      ]
     },
     "execution_count": 7,
     "metadata": {},
     "output_type": "execute_result"
    }
   ],
   "source": [
    "alaska_camera_df = alaska_camera_df.drop(columns=['entity_id,spec_id'])\n",
    "alaska_camera_df.head()"
   ]
  },
  {
   "cell_type": "markdown",
   "metadata": {},
   "source": [
    "### Load the product description for each `spec_id`"
   ]
  },
  {
   "cell_type": "code",
   "execution_count": 8,
   "metadata": {
    "ExecuteTime": {
     "end_time": "2020-09-25T18:34:52.425238Z",
     "start_time": "2020-09-25T18:34:52.421433Z"
    }
   },
   "outputs": [],
   "source": [
    "import json"
   ]
  },
  {
   "cell_type": "code",
   "execution_count": 9,
   "metadata": {
    "ExecuteTime": {
     "end_time": "2020-09-25T18:34:52.563289Z",
     "start_time": "2020-09-25T18:34:52.558316Z"
    }
   },
   "outputs": [],
   "source": [
    "def parse_json(source, product_id):\n",
    "    product_id = product_id + '.json'\n",
    "    filepath = os.path.join(root_dir, data_dir, alaska_dir, source, product_id)\n",
    "    with open(filepath) as fd:\n",
    "        data = json.load(fd)\n",
    "    return data"
   ]
  },
  {
   "cell_type": "code",
   "execution_count": 60,
   "metadata": {
    "ExecuteTime": {
     "end_time": "2020-11-13T12:21:30.985231Z",
     "start_time": "2020-11-13T12:21:30.966594Z"
    }
   },
   "outputs": [
    {
     "data": {
      "text/html": [
       "<div>\n",
       "<style scoped>\n",
       "    .dataframe tbody tr th:only-of-type {\n",
       "        vertical-align: middle;\n",
       "    }\n",
       "\n",
       "    .dataframe tbody tr th {\n",
       "        vertical-align: top;\n",
       "    }\n",
       "\n",
       "    .dataframe thead th {\n",
       "        text-align: right;\n",
       "    }\n",
       "</style>\n",
       "<table border=\"1\" class=\"dataframe\">\n",
       "  <thead>\n",
       "    <tr style=\"text-align: right;\">\n",
       "      <th></th>\n",
       "      <th>entity_id</th>\n",
       "      <th>spec_id</th>\n",
       "      <th>page_title</th>\n",
       "    </tr>\n",
       "  </thead>\n",
       "  <tbody>\n",
       "    <tr>\n",
       "      <th>3830</th>\n",
       "      <td>ENTITY#96</td>\n",
       "      <td>www.ebay.com//24855</td>\n",
       "      <td>canon eos 7d digital slr camera 4 lens 18 55 s...</td>\n",
       "    </tr>\n",
       "  </tbody>\n",
       "</table>\n",
       "</div>"
      ],
      "text/plain": [
       "      entity_id              spec_id  \\\n",
       "3830  ENTITY#96  www.ebay.com//24855   \n",
       "\n",
       "                                             page_title  \n",
       "3830  canon eos 7d digital slr camera 4 lens 18 55 s...  "
      ]
     },
     "execution_count": 60,
     "metadata": {},
     "output_type": "execute_result"
    }
   ],
   "source": [
    "alaska_camera_df.loc[alaska_camera_df['spec_id'] == 'www.ebay.com//24855']"
   ]
  },
  {
   "cell_type": "code",
   "execution_count": 58,
   "metadata": {
    "ExecuteTime": {
     "end_time": "2020-11-13T12:19:21.686042Z",
     "start_time": "2020-11-13T12:19:21.679009Z"
    }
   },
   "outputs": [
    {
     "data": {
      "text/plain": [
       "'../../data/corpus/alaska_camera_annotated/www.ebay.com/24855.json'"
      ]
     },
     "execution_count": 58,
     "metadata": {},
     "output_type": "execute_result"
    }
   ],
   "source": [
    "filepath_prova = os.path.join(root_dir, data_dir, 'alaska_camera_annotated', 'www.ebay.com', '24855.json')\n",
    "filepath_prova"
   ]
  },
  {
   "cell_type": "code",
   "execution_count": 59,
   "metadata": {
    "ExecuteTime": {
     "end_time": "2020-11-13T12:19:31.879852Z",
     "start_time": "2020-11-13T12:19:31.745213Z"
    }
   },
   "outputs": [
    {
     "name": "stdout",
     "output_type": "stream",
     "text": [
      "{\r\n",
      "    \"<page title>\": \"Canon EOS 7D Digital SLR Camera 4 Lens 18 55 STM Sigma 70 300 32GB Top Kit | eBay\",\r\n",
      "    \"__extracted_model\": \"canon eos 7d\",\r\n",
      "    \"brand\": \"Canon\",\r\n",
      "    \"color\": \"Black\",\r\n",
      "    \"condition\": \"New: A brand-new, unused, unopened, undamaged item in its original packaging (where packaging is\\napplicable). Packaging should be the same as what is found in a retail store, unless the item is handmade or was packaged by the manufacturer in non-retail packaging, such as an unprinted box or plastic bag. See the seller's listing for full details.\\nSee all condition definitions- opens in a new window or tab\\n... Read moreabout the condition\",\r\n",
      "    \"ean\": \"4960999654621\",\r\n",
      "    \"fld filter\": \"helps balance light in outdoor situations or\\nwhere fluorescent lights are used\",\r\n",
      "    \"manufacturer warranty\": \"No\",\r\n",
      "    \"polarizing filter\": \"eliminates reflections from\\nnon-metallic surfaces, and increases contrast and color saturation\",\r\n",
      "    \"type\": \"Digital SLR\",\r\n",
      "    \"uv filter\": \"absorbs ultraviolet rays to produce crisp, clear\\nphotographs\"\r\n",
      "}"
     ]
    }
   ],
   "source": [
    "!cat '../../data/corpus/alaska_camera_annotated/www.ebay.com/24855.json'"
   ]
  },
  {
   "cell_type": "code",
   "execution_count": 10,
   "metadata": {
    "ExecuteTime": {
     "end_time": "2020-09-25T18:34:53.009359Z",
     "start_time": "2020-09-25T18:34:52.734534Z"
    }
   },
   "outputs": [],
   "source": [
    "alaska_camera_df['page_title'] = alaska_camera_df['spec_id'].map(lambda x: parse_json(*x.split('//'))['<page title>'])\n",
    "alaska_camera_df['page_title'] = alaska_camera_df['page_title'].map(lambda x: x.lower())"
   ]
  },
  {
   "cell_type": "code",
   "execution_count": 11,
   "metadata": {
    "ExecuteTime": {
     "end_time": "2020-09-25T18:34:53.019329Z",
     "start_time": "2020-09-25T18:34:53.011115Z"
    }
   },
   "outputs": [
    {
     "data": {
      "text/html": [
       "<div>\n",
       "<style scoped>\n",
       "    .dataframe tbody tr th:only-of-type {\n",
       "        vertical-align: middle;\n",
       "    }\n",
       "\n",
       "    .dataframe tbody tr th {\n",
       "        vertical-align: top;\n",
       "    }\n",
       "\n",
       "    .dataframe thead th {\n",
       "        text-align: right;\n",
       "    }\n",
       "</style>\n",
       "<table border=\"1\" class=\"dataframe\">\n",
       "  <thead>\n",
       "    <tr style=\"text-align: right;\">\n",
       "      <th></th>\n",
       "      <th>entity_id</th>\n",
       "      <th>spec_id</th>\n",
       "      <th>page_title</th>\n",
       "    </tr>\n",
       "  </thead>\n",
       "  <tbody>\n",
       "    <tr>\n",
       "      <th>0</th>\n",
       "      <td>ENTITY#1</td>\n",
       "      <td>buy.net//4236</td>\n",
       "      <td>polaroid is426 16 megapixel compact camera - r...</td>\n",
       "    </tr>\n",
       "    <tr>\n",
       "      <th>1</th>\n",
       "      <td>ENTITY#1</td>\n",
       "      <td>www.ebay.com//46670</td>\n",
       "      <td>camera polaroid is426 4x zoom | ebay</td>\n",
       "    </tr>\n",
       "    <tr>\n",
       "      <th>2</th>\n",
       "      <td>ENTITY#10</td>\n",
       "      <td>www.pcconnection.com//12363</td>\n",
       "      <td>buy sony a7 interchangeable lens camera with l...</td>\n",
       "    </tr>\n",
       "    <tr>\n",
       "      <th>3</th>\n",
       "      <td>ENTITY#10</td>\n",
       "      <td>buy.net//6531</td>\n",
       "      <td>sony alpha a7 black digital camera kit w/ 28-7...</td>\n",
       "    </tr>\n",
       "    <tr>\n",
       "      <th>4</th>\n",
       "      <td>ENTITY#10</td>\n",
       "      <td>www.shopmania.in//698</td>\n",
       "      <td>sony alpha 7 kit 28-70mm digital camera prices...</td>\n",
       "    </tr>\n",
       "  </tbody>\n",
       "</table>\n",
       "</div>"
      ],
      "text/plain": [
       "   entity_id                      spec_id  \\\n",
       "0   ENTITY#1                buy.net//4236   \n",
       "1   ENTITY#1          www.ebay.com//46670   \n",
       "2  ENTITY#10  www.pcconnection.com//12363   \n",
       "3  ENTITY#10                buy.net//6531   \n",
       "4  ENTITY#10        www.shopmania.in//698   \n",
       "\n",
       "                                          page_title  \n",
       "0  polaroid is426 16 megapixel compact camera - r...  \n",
       "1               camera polaroid is426 4x zoom | ebay  \n",
       "2  buy sony a7 interchangeable lens camera with l...  \n",
       "3  sony alpha a7 black digital camera kit w/ 28-7...  \n",
       "4  sony alpha 7 kit 28-70mm digital camera prices...  "
      ]
     },
     "execution_count": 11,
     "metadata": {},
     "output_type": "execute_result"
    }
   ],
   "source": [
    "alaska_camera_df.head()"
   ]
  },
  {
   "cell_type": "markdown",
   "metadata": {},
   "source": [
    "---"
   ]
  },
  {
   "cell_type": "markdown",
   "metadata": {},
   "source": [
    "## Select clusters by their size"
   ]
  },
  {
   "cell_type": "code",
   "execution_count": 12,
   "metadata": {
    "ExecuteTime": {
     "end_time": "2020-09-25T18:34:53.335635Z",
     "start_time": "2020-09-25T18:34:53.330624Z"
    }
   },
   "outputs": [],
   "source": [
    "grouped_alaska_df = alaska_camera_df.groupby('entity_id')"
   ]
  },
  {
   "cell_type": "code",
   "execution_count": 13,
   "metadata": {
    "ExecuteTime": {
     "end_time": "2020-09-25T18:34:53.495999Z",
     "start_time": "2020-09-25T18:34:53.486212Z"
    }
   },
   "outputs": [
    {
     "name": "stdout",
     "output_type": "stream",
     "text": [
      "There are 103 clusters\n"
     ]
    }
   ],
   "source": [
    "print(f'There are {grouped_alaska_df.size().shape[0]} clusters')"
   ]
  },
  {
   "cell_type": "code",
   "execution_count": 14,
   "metadata": {
    "ExecuteTime": {
     "end_time": "2020-09-25T18:34:53.670483Z",
     "start_time": "2020-09-25T18:34:53.666965Z"
    }
   },
   "outputs": [],
   "source": [
    "NUM_CLUSTERS = 20"
   ]
  },
  {
   "cell_type": "code",
   "execution_count": 15,
   "metadata": {
    "ExecuteTime": {
     "end_time": "2020-09-25T18:34:53.835577Z",
     "start_time": "2020-09-25T18:34:53.819767Z"
    }
   },
   "outputs": [
    {
     "data": {
      "text/plain": [
       "entity_id\n",
       "ENTITY#44     184\n",
       "ENTITY#23     178\n",
       "ENTITY#18     168\n",
       "ENTITY#36     155\n",
       "ENTITY#41     144\n",
       "ENTITY#21     137\n",
       "ENTITY#75     130\n",
       "ENTITY#96     125\n",
       "ENTITY#6      117\n",
       "ENTITY#101    112\n",
       "ENTITY#102     95\n",
       "ENTITY#16      91\n",
       "ENTITY#57      80\n",
       "ENTITY#76      79\n",
       "ENTITY#19      79\n",
       "ENTITY#58      78\n",
       "ENTITY#37      57\n",
       "ENTITY#84      55\n",
       "ENTITY#8       54\n",
       "ENTITY#7       53\n",
       "dtype: int64"
      ]
     },
     "execution_count": 15,
     "metadata": {},
     "output_type": "execute_result"
    }
   ],
   "source": [
    "top_n_clusters = grouped_alaska_df.size().sort_values(ascending=False).head(NUM_CLUSTERS)\n",
    "top_n_clusters"
   ]
  },
  {
   "cell_type": "code",
   "execution_count": null,
   "metadata": {},
   "outputs": [],
   "source": [
    "'canon eos 7d digital slr camera 4 lens 18 55 stm sigma 70 300 32gb top kit | ebay'"
   ]
  },
  {
   "cell_type": "code",
   "execution_count": 57,
   "metadata": {
    "ExecuteTime": {
     "end_time": "2020-11-13T11:54:51.528220Z",
     "start_time": "2020-11-13T11:54:51.518785Z"
    }
   },
   "outputs": [
    {
     "data": {
      "text/plain": [
       "['canon eos 7d 18 0 mp digital slr camera with ef s 18 135mm f 3 5 5 6 lens 013803117493 | ebay',\n",
       " 'canon eos 7d - price comparison & reviews - digital cameras - australia',\n",
       " 'canon eos 7d 18 0 mp digital slr camera black kit w is 28 135mm lens | ebay',\n",
       " 'canon eos 7d  new zealand prices - priceme',\n",
       " 'bundle canon eos 7d 18 0 mp digital slr camera black kit w is 28 135mm lens | ebay',\n",
       " 'canon 7d 18 0 mp digital slr camera body only excellent condition no marks 013803117493 | ebay',\n",
       " 'canon eos 7d 18mp dslr camera on sale for $734.39',\n",
       " 'canon eos 7d digital slr camera with 2 canon lenses 18 55 is 75 300 32gb kit | ebay',\n",
       " 'canon eos 7d digital slr camera ef 28 135 f 3 5 5 6 is usm kit with original box | ebay',\n",
       " 'canon eos 7d 18 0 mp digital slr camera black body only 013803117493 | ebay',\n",
       " 'canon eos 7d (body only) price in india, bangalore, hyderabad, delhi, chennai, mumbai, pune, kolkatta',\n",
       " 'canon eos 7d + 17-55/2.8 is  new zealand prices - priceme',\n",
       " 'canon eos 7d 18 0 mp digital slr camera black kit w is 28 135mm lens | ebay',\n",
       " 'canon eos 7d kit with no stock lenses | ebay',\n",
       " 'canon eos 7d kit with 18-200mm is lens digital slr camera',\n",
       " 'canon eos 7d 18 0 mp digital slr camera black body only 013803117509 | ebay',\n",
       " 'canon eos 7d 18mp dslr digital camera body w extras excellent condition 013803117493 | ebay',\n",
       " 'canon eos 7d + 15-85/3.5-5.6 is  new zealand prices - priceme',\n",
       " 'canon eos 7d digital slr camera 5 lens 18 55 75 300 500mm 16gb loaded kit 013803117493 | ebay',\n",
       " 'canon eos 7d 18 0 mp digital slr camera black kit w ef s is 18 135mm lens | ebay',\n",
       " 'canon eos 7d body only 18 0 mp digital dslr slr camera japan model new 013803117493 | ebay',\n",
       " 'usa canon eos 7d digital slr camera 7 lens loaded kit new dslr mega bundle 013803117493 | ebay',\n",
       " 'canon eos 7d 18 0 mp digital slr camera black body only 013803117493 | ebay',\n",
       " 'canon eos 7d 18 0 mp digital slr camera black kit w is 28 135mm lens | ebay',\n",
       " 'canon eos 7d 18mp digital slr camera body only 9913 shutters 013803117493 | ebay',\n",
       " 'canon eos 7d (18-135 mm is) price in india, bangalore, hyderabad, delhi, chennai, mumbai, pune, kolkatta',\n",
       " 'canon eos 7d 18 0 mp digital slr camera black kit w is 28 135mm lens | ebay',\n",
       " 'canon eos 7d 18 0 mp digital slr camera ef s 18 135 is stm lens fast shipping | ebay',\n",
       " 'canon eos 7d kit with 15-85mm is lens digital slr camera',\n",
       " 'canon eos 7d 18 0 mp digital slr camera black | ebay',\n",
       " 'canon eos 7d 18 0 megapixel camera body great camera 22950 013803117493 | ebay',\n",
       " '(not provided) | canon eos 7d 18 mp cmos digital slr camera with 3-inch lcd and 18-135mm f/3.5-5.6 is reviews - buzzillions.com',\n",
       " 'cammarkt | canon eos 7d 18 mp cmos digital slr camera with 3-inch lcd and 1',\n",
       " 'canon eos 7d 18 0 mp digital slr camera black body only 013803117493 | ebay',\n",
       " 'canon 7d slr seller bundle 2 x batteries carrying bag much more 013803117493 | ebay',\n",
       " 'canon 7d bundle w canon bg e7 grip canon17 40 and 8mm fisheye lens prestine 013803117493 | ebay',\n",
       " 'canon eos 7d 18 0 mp digital slr camera black body only 013803117493 | ebay',\n",
       " 'canon eos 7d + ef-s 18-135mm f/3.5-5.6 is - digital cameras - photo - visual | ilgs.net',\n",
       " 'canon eos 7d 18 0 mp digital slr camera black body only new usa warranty 013803117493 | ebay',\n",
       " 'canon eos 7d 7 lens dslr camera kit 44 piece pro package 013803117493 | ebay',\n",
       " '(not provided) | canon eos 7d digital slr camera reviews - buzzillions.com',\n",
       " 'canon eos 7d kit comes with everything you see 013803117493 | ebay',\n",
       " 'canon eos 7d digital slr camera with 18 55 is 55 250 is lens kit new usa 8714574550558 | ebay',\n",
       " 'canon eos 7d 18 0 mp digital slr camera black body only with extras 013803117509 | ebay',\n",
       " 'canon eos 7d digital slr camera 18 55 75 300mm is lens kit new usa | ebay',\n",
       " 'canon eos 7d 18 mp cmos dslr camera kit on sale for $1099.99',\n",
       " 'canon eos 7d 18 0 mp digital slr camera black body only 013803117493 | ebay',\n",
       " 'canon eos 7d 18 0 mp digital slr camera body only with extras 013803117493 | ebay',\n",
       " 'mint canon eos 7d 18 0 mp digital slr camera black body only 013803117509 | ebay',\n",
       " 'canon eos 7d 18 0 megapixel camera body great camera 22847 013803117493 | ebay',\n",
       " 'canon eos 7d 18 0 mp digital slr camera black body only 013803117493 | ebay',\n",
       " 'canon eos 7d body digital camera prices, shopping comparison for canon eos 7 d body, buy online in india - shopmania',\n",
       " 'canon eos 7d 18 0 mp digital slr camera black body only 013803117493 | ebay',\n",
       " 'canon eos 7d 18 0 mp digital slr camera black body only w battery grip plus 013803117493 | ebay',\n",
       " 'canon eos 7d 18 0 mp digital slr camera black body only 013803117493 | ebay',\n",
       " 'canon eos 7d + 24-105/4.0 l is usm  new zealand prices - priceme',\n",
       " 'canon eos 7d 18 0 mp digital slr camera black kit w ef s is usm 15 85mm | ebay',\n",
       " 'canon eos 7d body only',\n",
       " 'canon eos 7d 18 0 megapixel camera body great camera 013803117493 | ebay',\n",
       " 'canon eos 7d slr digital camera 18 0mp body only 013803117493 | ebay',\n",
       " 'canon eos 7d with bg e7 battery girp 013803117493 | ebay',\n",
       " 'canon eos 7d black slr digital camera kit w/ 28-135mm lens (18 mp, 4.8x opt, compactflash slot) price comparison at buy.net',\n",
       " 'canon eos 7d 18 0 mp digital slr camera with 28 135 is usm lens 6425 shot only | ebay',\n",
       " 'canon eos 7d dslr body refurbished with battery grip 013803117493 | ebay',\n",
       " 'canon eos 7d digital slr camera kit w ef 28 135 is usm lens extra bat chrgr | ebay',\n",
       " 'canon eos 7d / 24-105mm kit - price comparison & reviews - digital cameras - australia',\n",
       " 'canon eos 7d body only 18 0 mp digital dslr slr camera japan model new 013803117493 | ebay',\n",
       " 'canon eos 7d 18mp digital slr camera body only 3814b004 013803117493 | ebay',\n",
       " 'canon eos 7d 18 0 mp digital slr camera black kit w ef s is 18 135mm lens | ebay',\n",
       " 'canon eos 7d + 18-200/3.5-5.6 is  new zealand prices - priceme',\n",
       " 'canon eos 7d 18 0 megapixel camera body great camera 23186 013803117493 | ebay',\n",
       " 'canon eos 7d dslr 013803117493 | ebay',\n",
       " 'canon eos 7d 18 0 mp digital slr camera black kit w ef s is 18 55mm lens | ebay',\n",
       " 'canon eos 7d 18.0 mp digital slr camera - black (body only)',\n",
       " 'canon black eos 7d 18 0 mp megapixel digital slr dslr camera body only bundle 013803117493 | ebay',\n",
       " 'canon eos 7d with hotrods pl mount 013803117493 | ebay',\n",
       " 'canon eos 7d 18 0 mp digital slr camera body only english version free express 013803117493 | ebay',\n",
       " 'canon eos 7d 18 0 mp digital slr camera black includes battery grip 013803117493 | ebay',\n",
       " 'canon eos 7d 18 0 mp digital slr camera black body only 013803117493 | ebay',\n",
       " 'canon eos 7d 18 0 mp digital slr camera black body and battery grip 013803117493 | ebay',\n",
       " 'canon eos 7d digital slr (7dplk) | camerafarm australia',\n",
       " 'canon eos 7d 18 0 mp dslr camera in good condition body only 013803117509 | ebay',\n",
       " 'canon eos 7d 18 0 mp digital slr camera body only english version free express 013803117493 | ebay',\n",
       " 'canon eos 7d 18 0 mp digital slr camera black body only 013803117493 | ebay',\n",
       " 'genuine canon eos 7d body 18 200mm lens kit digital dslr camera new ems f s | ebay',\n",
       " 'canon eos 7d 18 0 mp digital slr camera and canon ef 28 135 mm f 3 5 5 6 is usm | ebay',\n",
       " 'canon eos 7d body only digital slr camera',\n",
       " 'canon eos 7d slr body accesories exc condition includes 60mb s flash card | ebay',\n",
       " 'canon eos 7d 18 0 megapixel camera body great camera 23186 013803117493 | ebay',\n",
       " 'canon eos 7d camera with battery grip bg e7 near perfect no reserve 013803117493 | ebay',\n",
       " 'canon eos 7d dslr camera body only brand new free shipping 013803117493 | ebay',\n",
       " 'canon eos 7d kit 18-135mm digital camera prices, shopping comparison for canon eos 7d kit 18 135mm, buy online in india - shopmania',\n",
       " 'canon eos 7d 18 0 mp digital slr camera black body only 013803117509 | ebay',\n",
       " 'canon eos 7d 18 0 megapixel camera body great camera 23673 013803117493 | ebay',\n",
       " 'canon eos 7d 18 0 mp digital slr camera black body only 75k shutter 013803117493 | ebay',\n",
       " 'canon eos 7d digital slr camera + ef-s on sale for $1502.99',\n",
       " 'canon eos 7d 18 0 mp digital slr camera body only complete kit 013803117509 | ebay',\n",
       " '10187 canon eos 7d digital slr excellent condition 013803117493 | ebay',\n",
       " 'canon eos 7d 18 0 mp digital slr camera body only 013803117493 | ebay',\n",
       " 'canon eos 7d digital slr camera body extra battery remote 32gb top value kit 013803117493 | ebay',\n",
       " 'canon eos 7d 18 0 mp digital slr camera black body only 013803117493 | ebay',\n",
       " 'canon eos 7d 18 0 mp digital slr camera black body only 013803117493 | ebay',\n",
       " 'canon eos 7d 18.0 mp digital slr camera - body only - perfect condition',\n",
       " 'canon eos 7d 18 0 mp digital slr camera black body only 75k shutter 013803117493 | ebay',\n",
       " 'canon eos 7d / 17-55mm kit - price comparison & reviews - digital cameras - australia',\n",
       " 'canon eos 7d 18 0 mp dslr w ef s is 18 135mm lens low shutter count 147 only | ebay',\n",
       " 'nice tested canon eos 7d 18mp body batt charger 013803117493 | ebay',\n",
       " 'canon eos 7d 18 0 mp dslr body box memory cards excellent 013803117493 | ebay',\n",
       " 'canon eos 7d 18 0 mp digital slr camera body only 013803117509 | ebay',\n",
       " 'canon eos 7d + 18-55/3.5-5.6 is + 55-250/4.0-5.6 is  new zealand prices - priceme',\n",
       " 'â\\x80»ext canon eos 7d 18 0 mp digital slr camera black body only from japan 013803117493 | ebay',\n",
       " 'canon eos 7d body 15 85mm f3 5 5 6 is usm lens kit digital camera japan model 013803117493 | ebay',\n",
       " 'canon eos 7d 18 0 mp digital slr camera black body only 013803117493 | ebay',\n",
       " 'canon eos 7d (ef-s 15-85 mm is) price in india, bangalore, hyderabad, delhi, chennai, mumbai, pune, kolkatta',\n",
       " 'canon eos 7d / 24-70mm - price comparison & reviews - digital cameras - australia',\n",
       " 'canon eos 7d 18 0 mp digital slr camera black kit w ef s is 18 55mm lens | ebay',\n",
       " 'usa canon eos 7d 18mp canon 18 55 3 lens 16gb full camera kit new | ebay',\n",
       " 'canon eos 7d 18 0 mp digital slr camera black body only 013803117493 | ebay',\n",
       " 'pre stock perfect condition canon eos 7d digital slr camera body from japan 013803117493 | ebay',\n",
       " 'canon eos 7d slr body 18 0mp 4 gb lexar cf memory card 1 3814b004 013803117493 | ebay',\n",
       " 'canon eos 7d kit with 18-135mm is lens digital slr camera',\n",
       " 'canon eos 7d kit 18-200mm digital camera prices, shopping comparison for canon eos 7d kit 18 200mm, buy online in india - shopmania',\n",
       " 'cannon eos 7d package kit 18 0mp canon digital slr full hd video 013803117493 | ebay',\n",
       " 'canon eos 7d digital slr camera on sale for $1499.00',\n",
       " 'canon eos 7d 18mp digital slr camera body only, 3\" lcd - walmart.com',\n",
       " 'canon eos 7d kit 15-85mm digital camera prices, shopping comparison for canon eos 7d kit 15 85mm, buy online in india - shopmania',\n",
       " 'canon eos 7d + ef-s 15-85mm f/3.5-5.6 is usm - digital cameras - photo - visual | ilgs.net',\n",
       " 'canon eos 7d 18 0 mp digital slr camera excellent condition extra battery 013803117493 | ebay',\n",
       " 'canon eos 7d digital slr camera body only with original box and accessories 013803117493 | ebay',\n",
       " 'canon eos 7d digital slr camera body refurbished 013803117493 | ebay',\n",
       " 'canon eos 7d 18 0 mp digital slr camera is 18 135mm 75 300 mm pistol grip | ebay',\n",
       " 'canon eos 7d dslr camera with rrs bracket 013803117493 | ebay',\n",
       " 'canon eos 7d + 15-85/3.5-5.6 + 70-300/4.5-5.6  new zealand prices - priceme',\n",
       " 'canon eos 7d 18 0 mp digital slr camera black kit w ef s is 18 55mm lens | ebay',\n",
       " 'canon eos 7d + 24-70mm f2.8 l  new zealand prices - priceme',\n",
       " 'canon eos 7d 18 0 megapixel camera body great camera 23752 013803117493 | ebay',\n",
       " 'canon eos 7d 18 0 mp digital slr camera black body only 013803117493 | ebay',\n",
       " 'canon eos 7d 18 0 mp digital slr camera with 28 135mm lens and many extras 013803117493 | ebay',\n",
       " '2 canon eos 7d 18 0 mp digital slr camera black body only 013803117493 | ebay',\n",
       " 'usa canon eos 7d digital slr camera 7 lens loaded kit 16gb 013803117493 | ebay',\n",
       " 'canon eos 7d + 28-135/3.5-5.6 is usm  new zealand prices - priceme',\n",
       " 'canon eos 7d 18 0 mp digital slr camera black | ebay',\n",
       " 'sale brand new canon eos 7d body only 18 0 mp aps c digital slr express 013803117493 | ebay',\n",
       " 'canon eos 7d 18 0 mp digital slr camera black body only plus vertical grip 013803117493 | ebay',\n",
       " 'canon eos 7d + 18-55/3.5-5.6  new zealand prices - priceme',\n",
       " 'usa canon eos 7d digital slr camera body 7 lens loaded kit 013803117493 | ebay',\n",
       " 'canon eos 7d 18 0 mp digital slr camera black body only 013803117493 | ebay',\n",
       " 'canon eos 7d 18mp cmos digital slr camera on sale for $1099.00',\n",
       " '14539 canon eos 7d double zoom full size excellent japan import f s gift nakano 013803117493 | ebay',\n",
       " 'usa canon eos 7d 18mp 5 lens 16gb complete digital slr camera kit new 8714574550558 | ebay',\n",
       " 'canon eos 7d 18 0 mp digital slr camera black body only 013803117493 | ebay',\n",
       " 'canon eos 7d 18 0 megapixel camera body great camera 23072 013803117493 | ebay',\n",
       " 'canon eos 7d 18 0 mp digital slr camera black body only 1yr warranty 013803117493 | ebay',\n",
       " 'canon eos 7d 18 0 mp digital slr camera black body only 013803117493 | ebay',\n",
       " 'canon eos 7d 18 0 mp digital slr camera black kit w ef s is 18 135mm lens | ebay',\n",
       " 'canon eos 7d dslr 15-85mm black price in india with offers, reviews & full specifications | pricedekho.com',\n",
       " 'new canon 7d canon 18 55 75 300 iii 32gb 5 lens pkg top value bundle kit | ebay',\n",
       " 'canon eos 7d body in box dslr camera excellent condition no reserve 013803117493 | ebay',\n",
       " 'canon eos 7d premium kit',\n",
       " 'canon eos 7d dslr camera body only perfect shape no reserve 013803117493 | ebay',\n",
       " 'canon 7d pl mount hot rod mod 013803117493 | ebay',\n",
       " 'canon eos 7d 18 0 mp digital slr camera black body only 013803117493 | ebay',\n",
       " 'canon eos 7d platinum kit',\n",
       " 'cammarkt | canon eos 7d 18 mp cmos digital slr camera with 3-inch lcd',\n",
       " 'canon eos 7d 18 0 mp digital slr camera black kit w ef s is 18 135mm lens | ebay',\n",
       " 'canon eos 7d + 18-135/3.5-5.6 is  new zealand prices - priceme',\n",
       " 'canon 7d body 013803117493 | ebay',\n",
       " 'canon eos 7d 18 0mp digital camera body in excellent condition 013803117493 | ebay',\n",
       " 'canon eos 7d 7 d 18 0 mp digital slr camera box black body only from japan 013803117493 | ebay',\n",
       " 'canon eos 7d 18 0mp digital slr camera body only with magic lantern guide book 013803117493 | ebay',\n",
       " 'cammarkt | canon eos 7d 18 mp cmos digital slr camera with 3-inch lcd (body',\n",
       " 'canon eos 7d dslr body black price in india with offers, reviews & full specifications | pricedekho.com',\n",
       " 'canon 7d bundle with 3 lenses tripod lots of filters lots of extras 013803117493 | ebay',\n",
       " 'canon eos 7d 18 0 mp digital slr camera black \"excellent condition\" 390 013803117493 | ebay',\n",
       " 'canon eos 7d / 15-85mm kit - price comparison & reviews - digital cameras - australia',\n",
       " 'canon eos 7d 18mp digital slr camera body only 3814b004 013803117493 | ebay',\n",
       " 'canon eos 7d 18 0 mp dslr w ef s 18 135mm bundle | ebay',\n",
       " 'new canon eos 7d 18 0 mp digital slr camera is 28 135mm lens usa 2014 | ebay']"
      ]
     },
     "execution_count": 57,
     "metadata": {},
     "output_type": "execute_result"
    }
   ],
   "source": [
    "grouped_alaska_df.get_group('ENTITY#23').page_title.tolist()"
   ]
  },
  {
   "cell_type": "code",
   "execution_count": 16,
   "metadata": {
    "ExecuteTime": {
     "end_time": "2020-09-25T18:34:54.029606Z",
     "start_time": "2020-09-25T18:34:54.022973Z"
    }
   },
   "outputs": [
    {
     "data": {
      "text/plain": [
       "'The selected clusters contain 2171 product descriptions'"
      ]
     },
     "execution_count": 16,
     "metadata": {},
     "output_type": "execute_result"
    }
   ],
   "source": [
    "f'The selected clusters contain {top_n_clusters.values.sum()} product descriptions'"
   ]
  },
  {
   "cell_type": "code",
   "execution_count": 17,
   "metadata": {
    "ExecuteTime": {
     "end_time": "2020-09-25T18:34:54.201287Z",
     "start_time": "2020-09-25T18:34:54.196972Z"
    }
   },
   "outputs": [],
   "source": [
    "top_n_clusters_ids = top_n_clusters.index.tolist()"
   ]
  },
  {
   "cell_type": "code",
   "execution_count": 18,
   "metadata": {
    "ExecuteTime": {
     "end_time": "2020-09-25T18:34:54.353743Z",
     "start_time": "2020-09-25T18:34:54.326821Z"
    }
   },
   "outputs": [],
   "source": [
    "df_list = []\n",
    "for cluster_id in top_n_clusters_ids:\n",
    "    selected_df = grouped_alaska_df.get_group(cluster_id)\n",
    "    df_list.append(selected_df)\n",
    "\n",
    "reduced_alaska_df = pd.concat(df_list, ignore_index=True)\n",
    "reduced_alaska_df = reduced_alaska_df.drop(columns=['spec_id'])"
   ]
  },
  {
   "cell_type": "code",
   "execution_count": 19,
   "metadata": {
    "ExecuteTime": {
     "end_time": "2020-09-25T18:34:54.505497Z",
     "start_time": "2020-09-25T18:34:54.495041Z"
    }
   },
   "outputs": [
    {
     "data": {
      "text/html": [
       "<div>\n",
       "<style scoped>\n",
       "    .dataframe tbody tr th:only-of-type {\n",
       "        vertical-align: middle;\n",
       "    }\n",
       "\n",
       "    .dataframe tbody tr th {\n",
       "        vertical-align: top;\n",
       "    }\n",
       "\n",
       "    .dataframe thead th {\n",
       "        text-align: right;\n",
       "    }\n",
       "</style>\n",
       "<table border=\"1\" class=\"dataframe\">\n",
       "  <thead>\n",
       "    <tr style=\"text-align: right;\">\n",
       "      <th></th>\n",
       "      <th>entity_id</th>\n",
       "      <th>page_title</th>\n",
       "    </tr>\n",
       "  </thead>\n",
       "  <tbody>\n",
       "    <tr>\n",
       "      <th>0</th>\n",
       "      <td>ENTITY#44</td>\n",
       "      <td>nikon d3200 dslr camera with 18 55mm and 55 20...</td>\n",
       "    </tr>\n",
       "    <tr>\n",
       "      <th>1</th>\n",
       "      <td>ENTITY#44</td>\n",
       "      <td>nikon d3200 + 18-55/3.5-5.6 + 55-200/4.0-5.6  ...</td>\n",
       "    </tr>\n",
       "    <tr>\n",
       "      <th>2</th>\n",
       "      <td>ENTITY#44</td>\n",
       "      <td>nikon d3200 digital dslr camera w 18 55mm 55 2...</td>\n",
       "    </tr>\n",
       "    <tr>\n",
       "      <th>3</th>\n",
       "      <td>ENTITY#44</td>\n",
       "      <td>nikon d3200 digital dslr camera 24 1 w 18 55mm...</td>\n",
       "    </tr>\n",
       "    <tr>\n",
       "      <th>4</th>\n",
       "      <td>ENTITY#44</td>\n",
       "      <td>nikon d3200 (body only) price in india, bangal...</td>\n",
       "    </tr>\n",
       "  </tbody>\n",
       "</table>\n",
       "</div>"
      ],
      "text/plain": [
       "   entity_id                                         page_title\n",
       "0  ENTITY#44  nikon d3200 dslr camera with 18 55mm and 55 20...\n",
       "1  ENTITY#44  nikon d3200 + 18-55/3.5-5.6 + 55-200/4.0-5.6  ...\n",
       "2  ENTITY#44  nikon d3200 digital dslr camera w 18 55mm 55 2...\n",
       "3  ENTITY#44  nikon d3200 digital dslr camera 24 1 w 18 55mm...\n",
       "4  ENTITY#44  nikon d3200 (body only) price in india, bangal..."
      ]
     },
     "execution_count": 19,
     "metadata": {},
     "output_type": "execute_result"
    }
   ],
   "source": [
    "reduced_alaska_df.head()"
   ]
  },
  {
   "cell_type": "code",
   "execution_count": 20,
   "metadata": {
    "ExecuteTime": {
     "end_time": "2020-09-25T18:34:54.850595Z",
     "start_time": "2020-09-25T18:34:54.846506Z"
    }
   },
   "outputs": [
    {
     "data": {
      "text/plain": [
       "(2171, 2)"
      ]
     },
     "execution_count": 20,
     "metadata": {},
     "output_type": "execute_result"
    }
   ],
   "source": [
    "reduced_alaska_df.shape"
   ]
  },
  {
   "cell_type": "markdown",
   "metadata": {},
   "source": [
    "## Convert the data to the `TrainingCorpus` format"
   ]
  },
  {
   "cell_type": "code",
   "execution_count": 21,
   "metadata": {
    "ExecuteTime": {
     "end_time": "2020-09-25T18:34:55.101840Z",
     "start_time": "2020-09-25T18:34:55.098222Z"
    }
   },
   "outputs": [],
   "source": [
    "reduced_alaska_dict = {}"
   ]
  },
  {
   "cell_type": "markdown",
   "metadata": {},
   "source": [
    "### Define the `docs` field"
   ]
  },
  {
   "cell_type": "code",
   "execution_count": 22,
   "metadata": {
    "ExecuteTime": {
     "end_time": "2020-09-25T18:34:55.483793Z",
     "start_time": "2020-09-25T18:34:55.480150Z"
    }
   },
   "outputs": [],
   "source": [
    "reduced_alaska_dict['docs'] = reduced_alaska_df.index.tolist()"
   ]
  },
  {
   "cell_type": "markdown",
   "metadata": {},
   "source": [
    "### Define the `texts` field"
   ]
  },
  {
   "cell_type": "code",
   "execution_count": 23,
   "metadata": {
    "ExecuteTime": {
     "end_time": "2020-09-25T18:34:55.889290Z",
     "start_time": "2020-09-25T18:34:55.882820Z"
    }
   },
   "outputs": [],
   "source": [
    "reduced_alaska_dict['texts'] = reduced_alaska_df['page_title'].tolist()"
   ]
  },
  {
   "cell_type": "markdown",
   "metadata": {},
   "source": [
    "### Define the `tokens` field"
   ]
  },
  {
   "cell_type": "code",
   "execution_count": 24,
   "metadata": {
    "ExecuteTime": {
     "end_time": "2020-09-25T18:34:56.293409Z",
     "start_time": "2020-09-25T18:34:56.290164Z"
    }
   },
   "outputs": [],
   "source": [
    "src_dir = 'src'"
   ]
  },
  {
   "cell_type": "code",
   "execution_count": 25,
   "metadata": {
    "ExecuteTime": {
     "end_time": "2020-09-25T18:34:56.503754Z",
     "start_time": "2020-09-25T18:34:56.498954Z"
    }
   },
   "outputs": [],
   "source": [
    "import sys"
   ]
  },
  {
   "cell_type": "code",
   "execution_count": 26,
   "metadata": {
    "ExecuteTime": {
     "end_time": "2020-09-25T18:34:56.696033Z",
     "start_time": "2020-09-25T18:34:56.690032Z"
    }
   },
   "outputs": [],
   "source": [
    "sys.path.append(os.path.join(root_dir, src_dir))"
   ]
  },
  {
   "cell_type": "code",
   "execution_count": 27,
   "metadata": {
    "ExecuteTime": {
     "end_time": "2020-09-25T18:34:58.003206Z",
     "start_time": "2020-09-25T18:34:56.892047Z"
    }
   },
   "outputs": [],
   "source": [
    "from training import TrainingCorpus"
   ]
  },
  {
   "cell_type": "code",
   "execution_count": 28,
   "metadata": {
    "ExecuteTime": {
     "end_time": "2020-09-25T18:34:58.376910Z",
     "start_time": "2020-09-25T18:34:58.005850Z"
    }
   },
   "outputs": [],
   "source": [
    "reduced_alaska_dict['tokens'] = reduced_alaska_df['page_title']\\\n",
    ".map(lambda x: TrainingCorpus.tokenize(x.lower())).tolist()"
   ]
  },
  {
   "cell_type": "markdown",
   "metadata": {
    "ExecuteTime": {
     "end_time": "2020-09-21T15:43:58.834548Z",
     "start_time": "2020-09-21T15:43:58.661651Z"
    }
   },
   "source": [
    "### Define the `labels` field"
   ]
  },
  {
   "cell_type": "code",
   "execution_count": 29,
   "metadata": {
    "ExecuteTime": {
     "end_time": "2020-09-25T18:34:58.382699Z",
     "start_time": "2020-09-25T18:34:58.379212Z"
    }
   },
   "outputs": [],
   "source": [
    "reduced_alaska_dict['labels'] = sorted(reduced_alaska_df['entity_id'].unique().tolist(), \n",
    "                                       key=lambda x: int(x.split('#')[1]))"
   ]
  },
  {
   "cell_type": "markdown",
   "metadata": {
    "ExecuteTime": {
     "end_time": "2020-09-21T15:46:39.827848Z",
     "start_time": "2020-09-21T15:46:39.820220Z"
    }
   },
   "source": [
    "### Define the `target` field"
   ]
  },
  {
   "cell_type": "code",
   "execution_count": 30,
   "metadata": {
    "ExecuteTime": {
     "end_time": "2020-09-25T18:34:58.388782Z",
     "start_time": "2020-09-25T18:34:58.384404Z"
    }
   },
   "outputs": [],
   "source": [
    "reduced_alaska_dict['target'] = reduced_alaska_df['entity_id'].map(lambda x: [x]).to_dict()"
   ]
  },
  {
   "cell_type": "markdown",
   "metadata": {},
   "source": [
    "---"
   ]
  },
  {
   "cell_type": "markdown",
   "metadata": {},
   "source": [
    "## Save to JSON file"
   ]
  },
  {
   "cell_type": "code",
   "execution_count": 31,
   "metadata": {
    "ExecuteTime": {
     "end_time": "2020-09-25T18:34:59.790699Z",
     "start_time": "2020-09-25T18:34:59.788177Z"
    }
   },
   "outputs": [],
   "source": [
    "dataset_filename = 'alaska_corpus.json'\n",
    "dataset_filepath = os.path.join(root_dir, data_dir, dataset_filename)"
   ]
  },
  {
   "cell_type": "code",
   "execution_count": 32,
   "metadata": {
    "ExecuteTime": {
     "end_time": "2020-09-25T18:35:00.059366Z",
     "start_time": "2020-09-25T18:34:59.999307Z"
    }
   },
   "outputs": [],
   "source": [
    "with open(dataset_filepath, 'w') as fd:\n",
    "    json.dump(reduced_alaska_dict, fd)"
   ]
  },
  {
   "cell_type": "markdown",
   "metadata": {},
   "source": [
    "---"
   ]
  },
  {
   "cell_type": "markdown",
   "metadata": {},
   "source": [
    "## Open the dataset as an instance of the `TrainingCorpus` class"
   ]
  },
  {
   "cell_type": "code",
   "execution_count": 33,
   "metadata": {
    "ExecuteTime": {
     "end_time": "2020-09-25T18:35:03.333078Z",
     "start_time": "2020-09-25T18:35:03.305503Z"
    }
   },
   "outputs": [],
   "source": [
    "alaska_corpus = TrainingCorpus()\n",
    "alaska_corpus.load(dataset_filepath)"
   ]
  },
  {
   "cell_type": "code",
   "execution_count": 34,
   "metadata": {
    "ExecuteTime": {
     "end_time": "2020-09-25T18:35:03.734397Z",
     "start_time": "2020-09-25T18:35:03.730600Z"
    }
   },
   "outputs": [
    {
     "data": {
      "text/plain": [
       "'nikon d3200 dslr camera with 18 55mm and 55 200mm lenses black | ebay'"
      ]
     },
     "execution_count": 34,
     "metadata": {},
     "output_type": "execute_result"
    }
   ],
   "source": [
    "alaska_corpus.get_text(0)"
   ]
  },
  {
   "cell_type": "code",
   "execution_count": 35,
   "metadata": {
    "ExecuteTime": {
     "end_time": "2020-09-25T18:35:05.834863Z",
     "start_time": "2020-09-25T18:35:05.829561Z"
    }
   },
   "outputs": [
    {
     "data": {
      "text/plain": [
       "['nikon',\n",
       " 'd3200',\n",
       " 'dslr',\n",
       " 'camera',\n",
       " '18',\n",
       " '55mm',\n",
       " '55',\n",
       " '200mm',\n",
       " 'lenses',\n",
       " 'black',\n",
       " 'ebay']"
      ]
     },
     "execution_count": 35,
     "metadata": {},
     "output_type": "execute_result"
    }
   ],
   "source": [
    "alaska_corpus.get_tokens(0)"
   ]
  },
  {
   "cell_type": "markdown",
   "metadata": {},
   "source": [
    "---"
   ]
  },
  {
   "cell_type": "markdown",
   "metadata": {},
   "source": [
    "## Compute noun chunks"
   ]
  },
  {
   "cell_type": "code",
   "execution_count": 36,
   "metadata": {
    "ExecuteTime": {
     "end_time": "2020-09-25T18:35:09.041860Z",
     "start_time": "2020-09-25T18:35:09.038761Z"
    }
   },
   "outputs": [],
   "source": [
    "chunks_filename = 'alaska_chunks.json'\n",
    "chunks_filepath = os.path.join(root_dir, data_dir, chunks_filename)"
   ]
  },
  {
   "cell_type": "code",
   "execution_count": 37,
   "metadata": {
    "ExecuteTime": {
     "end_time": "2020-09-25T18:35:10.363064Z",
     "start_time": "2020-09-25T18:35:10.358505Z"
    }
   },
   "outputs": [
    {
     "data": {
      "text/plain": [
       "'../../data/corpus/alaska_chunks.json'"
      ]
     },
     "execution_count": 37,
     "metadata": {},
     "output_type": "execute_result"
    }
   ],
   "source": [
    "chunks_filepath"
   ]
  },
  {
   "cell_type": "code",
   "execution_count": 38,
   "metadata": {
    "ExecuteTime": {
     "end_time": "2020-09-25T18:35:37.483565Z",
     "start_time": "2020-09-25T18:35:10.684398Z"
    }
   },
   "outputs": [
    {
     "name": "stderr",
     "output_type": "stream",
     "text": [
      "100%|██████████| 2171/2171 [00:25<00:00, 83.93it/s]\n"
     ]
    }
   ],
   "source": [
    "alaska_corpus.detect_chunks()"
   ]
  },
  {
   "cell_type": "code",
   "execution_count": 39,
   "metadata": {
    "ExecuteTime": {
     "end_time": "2020-09-25T18:35:38.398682Z",
     "start_time": "2020-09-25T18:35:38.362922Z"
    }
   },
   "outputs": [],
   "source": [
    "alaska_corpus.save_chunks(chunks_filepath)"
   ]
  },
  {
   "cell_type": "markdown",
   "metadata": {},
   "source": [
    "---"
   ]
  },
  {
   "cell_type": "markdown",
   "metadata": {},
   "source": [
    "## Load chunks"
   ]
  },
  {
   "cell_type": "code",
   "execution_count": 40,
   "metadata": {
    "ExecuteTime": {
     "end_time": "2020-09-25T18:35:40.032372Z",
     "start_time": "2020-09-25T18:35:40.020367Z"
    }
   },
   "outputs": [],
   "source": [
    "alaska_corpus.load_chunks(chunks_filepath)"
   ]
  },
  {
   "cell_type": "code",
   "execution_count": 42,
   "metadata": {
    "ExecuteTime": {
     "end_time": "2020-09-25T18:35:44.629705Z",
     "start_time": "2020-09-25T18:35:44.623241Z"
    }
   },
   "outputs": [
    {
     "data": {
      "text/plain": [
       "[('nikon_d3200_dslr_camera', 5), ('18_55mm', 55), ('55_200mm_lenses', 2)]"
      ]
     },
     "execution_count": 42,
     "metadata": {},
     "output_type": "execute_result"
    }
   ],
   "source": [
    "list(alaska_corpus.noun_chunks.items())[:3]"
   ]
  },
  {
   "cell_type": "code",
   "execution_count": 43,
   "metadata": {
    "ExecuteTime": {
     "end_time": "2020-09-25T18:35:45.439642Z",
     "start_time": "2020-09-25T18:35:45.429182Z"
    }
   },
   "outputs": [
    {
     "data": {
      "text/plain": [
       "['nikon_d3200_dslr_camera', '18_55mm', '55_200mm_lenses', 'black_ebay']"
      ]
     },
     "execution_count": 43,
     "metadata": {},
     "output_type": "execute_result"
    }
   ],
   "source": [
    "alaska_corpus.get_chunk_document(0, threshold=0)"
   ]
  },
  {
   "cell_type": "code",
   "execution_count": 44,
   "metadata": {
    "ExecuteTime": {
     "end_time": "2020-09-25T18:35:47.060988Z",
     "start_time": "2020-09-25T18:35:47.056873Z"
    }
   },
   "outputs": [
    {
     "data": {
      "text/plain": [
       "'nikon d3200 dslr camera with 18 55mm and 55 200mm lenses black | ebay'"
      ]
     },
     "execution_count": 44,
     "metadata": {},
     "output_type": "execute_result"
    }
   ],
   "source": [
    "alaska_corpus.get_text(0)"
   ]
  },
  {
   "cell_type": "code",
   "execution_count": 45,
   "metadata": {
    "ExecuteTime": {
     "end_time": "2020-09-25T18:35:47.838698Z",
     "start_time": "2020-09-25T18:35:47.833825Z"
    }
   },
   "outputs": [
    {
     "data": {
      "text/plain": [
       "['nikon',\n",
       " 'd3200',\n",
       " 'dslr',\n",
       " 'camera',\n",
       " '18',\n",
       " '55mm',\n",
       " '55',\n",
       " '200mm',\n",
       " 'lenses',\n",
       " 'black',\n",
       " 'ebay']"
      ]
     },
     "execution_count": 45,
     "metadata": {},
     "output_type": "execute_result"
    }
   ],
   "source": [
    "alaska_corpus.get_tokens(0)"
   ]
  },
  {
   "cell_type": "markdown",
   "metadata": {},
   "source": [
    "---"
   ]
  }
 ],
 "metadata": {
  "kernelspec": {
   "display_name": "Python 3",
   "language": "python",
   "name": "python3"
  },
  "language_info": {
   "codemirror_mode": {
    "name": "ipython",
    "version": 3
   },
   "file_extension": ".py",
   "mimetype": "text/x-python",
   "name": "python",
   "nbconvert_exporter": "python",
   "pygments_lexer": "ipython3",
   "version": "3.8.1"
  },
  "toc": {
   "base_numbering": 1,
   "nav_menu": {},
   "number_sections": true,
   "sideBar": true,
   "skip_h1_title": false,
   "title_cell": "Table of Contents",
   "title_sidebar": "Contents",
   "toc_cell": false,
   "toc_position": {},
   "toc_section_display": true,
   "toc_window_display": false
  }
 },
 "nbformat": 4,
 "nbformat_minor": 2
}
