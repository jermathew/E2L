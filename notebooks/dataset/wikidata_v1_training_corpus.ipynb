{
 "cells": [
  {
   "cell_type": "markdown",
   "metadata": {},
   "source": [
    "# Wikidata"
   ]
  },
  {
   "cell_type": "markdown",
   "metadata": {},
   "source": [
    "Build a `TrainingCorpus` complying dataset from a Wikidata dataset"
   ]
  },
  {
   "cell_type": "markdown",
   "metadata": {},
   "source": [
    "---\n",
    "## Define filepaths"
   ]
  },
  {
   "cell_type": "code",
   "execution_count": 1,
   "metadata": {
    "ExecuteTime": {
     "end_time": "2020-11-05T17:18:21.063248Z",
     "start_time": "2020-11-05T17:18:21.058886Z"
    }
   },
   "outputs": [],
   "source": [
    "root_dir = '../..'\n",
    "data_dir = 'data/corpus'"
   ]
  },
  {
   "cell_type": "code",
   "execution_count": null,
   "metadata": {},
   "outputs": [],
   "source": [
    "version = 'v1'"
   ]
  },
  {
   "cell_type": "markdown",
   "metadata": {},
   "source": [
    "---\n",
    "## Load the dataset"
   ]
  },
  {
   "cell_type": "code",
   "execution_count": 2,
   "metadata": {
    "ExecuteTime": {
     "end_time": "2020-11-05T17:18:22.424126Z",
     "start_time": "2020-11-05T17:18:21.511916Z"
    }
   },
   "outputs": [],
   "source": [
    "import os\n",
    "import pandas as pd"
   ]
  },
  {
   "cell_type": "code",
   "execution_count": 3,
   "metadata": {
    "ExecuteTime": {
     "end_time": "2020-11-05T17:18:22.432303Z",
     "start_time": "2020-11-05T17:18:22.427078Z"
    }
   },
   "outputs": [],
   "source": [
    "filename = 'wikisample.xlsx'\n",
    "filepath = os.path.join(root_dir, data_dir, filename)"
   ]
  },
  {
   "cell_type": "code",
   "execution_count": 4,
   "metadata": {
    "ExecuteTime": {
     "end_time": "2020-11-05T17:18:22.550716Z",
     "start_time": "2020-11-05T17:18:22.437708Z"
    }
   },
   "outputs": [
    {
     "data": {
      "text/html": [
       "<div>\n",
       "<style scoped>\n",
       "    .dataframe tbody tr th:only-of-type {\n",
       "        vertical-align: middle;\n",
       "    }\n",
       "\n",
       "    .dataframe tbody tr th {\n",
       "        vertical-align: top;\n",
       "    }\n",
       "\n",
       "    .dataframe thead th {\n",
       "        text-align: right;\n",
       "    }\n",
       "</style>\n",
       "<table border=\"1\" class=\"dataframe\">\n",
       "  <thead>\n",
       "    <tr style=\"text-align: right;\">\n",
       "      <th></th>\n",
       "      <th>entity</th>\n",
       "      <th>name</th>\n",
       "      <th>class</th>\n",
       "      <th>text</th>\n",
       "      <th>target</th>\n",
       "    </tr>\n",
       "  </thead>\n",
       "  <tbody>\n",
       "    <tr>\n",
       "      <td>0</td>\n",
       "      <td>Q64</td>\n",
       "      <td>Berlin</td>\n",
       "      <td>city-state</td>\n",
       "      <td>capital and largest city of Germany</td>\n",
       "      <td>Berlin (capital and largest city of Germany)</td>\n",
       "    </tr>\n",
       "    <tr>\n",
       "      <td>1</td>\n",
       "      <td>Q64</td>\n",
       "      <td>Berlin</td>\n",
       "      <td>city with millions of inhabitants</td>\n",
       "      <td>Its economy is based on high-tech firms and th...</td>\n",
       "      <td>Berlin (capital and largest city of Germany)</td>\n",
       "    </tr>\n",
       "    <tr>\n",
       "      <td>2</td>\n",
       "      <td>Q64</td>\n",
       "      <td>Berlin</td>\n",
       "      <td>federal capital</td>\n",
       "      <td>Significant industries also include IT, pharma...</td>\n",
       "      <td>Berlin (capital and largest city of Germany)</td>\n",
       "    </tr>\n",
       "    <tr>\n",
       "      <td>3</td>\n",
       "      <td>Q64</td>\n",
       "      <td>Berlin</td>\n",
       "      <td>city with millions of inhabitants</td>\n",
       "      <td>capital and largest city of Germany</td>\n",
       "      <td>Berlin (capital and largest city of Germany)</td>\n",
       "    </tr>\n",
       "    <tr>\n",
       "      <td>4</td>\n",
       "      <td>Q64</td>\n",
       "      <td>Berlin</td>\n",
       "      <td>urban municipality of Germany</td>\n",
       "      <td>East Berlin was declared capital of East Germa...</td>\n",
       "      <td>Berlin (capital and largest city of Germany)</td>\n",
       "    </tr>\n",
       "  </tbody>\n",
       "</table>\n",
       "</div>"
      ],
      "text/plain": [
       "  entity    name                              class  \\\n",
       "0    Q64  Berlin                         city-state   \n",
       "1    Q64  Berlin  city with millions of inhabitants   \n",
       "2    Q64  Berlin                    federal capital   \n",
       "3    Q64  Berlin  city with millions of inhabitants   \n",
       "4    Q64  Berlin      urban municipality of Germany   \n",
       "\n",
       "                                                text  \\\n",
       "0                capital and largest city of Germany   \n",
       "1  Its economy is based on high-tech firms and th...   \n",
       "2  Significant industries also include IT, pharma...   \n",
       "3                capital and largest city of Germany   \n",
       "4  East Berlin was declared capital of East Germa...   \n",
       "\n",
       "                                         target  \n",
       "0  Berlin (capital and largest city of Germany)  \n",
       "1  Berlin (capital and largest city of Germany)  \n",
       "2  Berlin (capital and largest city of Germany)  \n",
       "3  Berlin (capital and largest city of Germany)  \n",
       "4  Berlin (capital and largest city of Germany)  "
      ]
     },
     "execution_count": 4,
     "metadata": {},
     "output_type": "execute_result"
    }
   ],
   "source": [
    "df = pd.read_excel(filepath, index_col=0)\n",
    "df.head()"
   ]
  },
  {
   "cell_type": "code",
   "execution_count": 5,
   "metadata": {
    "ExecuteTime": {
     "end_time": "2020-11-05T17:18:22.566296Z",
     "start_time": "2020-11-05T17:18:22.554944Z"
    }
   },
   "outputs": [
    {
     "data": {
      "text/plain": [
       "(120, 5)"
      ]
     },
     "execution_count": 5,
     "metadata": {},
     "output_type": "execute_result"
    }
   ],
   "source": [
    "df.shape"
   ]
  },
  {
   "cell_type": "code",
   "execution_count": 6,
   "metadata": {
    "ExecuteTime": {
     "end_time": "2020-11-05T17:18:22.579426Z",
     "start_time": "2020-11-05T17:18:22.572262Z"
    }
   },
   "outputs": [],
   "source": [
    "grouped_df = df.groupby('target')"
   ]
  },
  {
   "cell_type": "code",
   "execution_count": 7,
   "metadata": {
    "ExecuteTime": {
     "end_time": "2020-11-05T17:18:22.600778Z",
     "start_time": "2020-11-05T17:18:22.582357Z"
    }
   },
   "outputs": [
    {
     "name": "stdout",
     "output_type": "stream",
     "text": [
      "Listing all clusters:\n",
      "---------------------\n"
     ]
    },
    {
     "data": {
      "text/plain": [
       "target\n",
       "Berlin (borough in Camden County, New Jersey, United States)                   20\n",
       "Berlin (capital and largest city of Germany)                                   20\n",
       "Berlin (city in Coos County, New Hampshire, USA)                               20\n",
       "Berlin (city in Green Lake and Waushara counties, Wisconsin, United States)    20\n",
       "Berlin (town in Connecticut)                                                   20\n",
       "Berlin (town in Maryland, United States)                                       20\n",
       "dtype: int64"
      ]
     },
     "execution_count": 7,
     "metadata": {},
     "output_type": "execute_result"
    }
   ],
   "source": [
    "print('Listing all clusters:')\n",
    "print('---------------------')\n",
    "grouped_df.size()"
   ]
  },
  {
   "cell_type": "code",
   "execution_count": 8,
   "metadata": {
    "ExecuteTime": {
     "end_time": "2020-11-05T17:18:22.789325Z",
     "start_time": "2020-11-05T17:18:22.769380Z"
    }
   },
   "outputs": [
    {
     "name": "stdout",
     "output_type": "stream",
     "text": [
      "There are 6 clusters\n"
     ]
    }
   ],
   "source": [
    "print(f'There are {grouped_df.size().shape[0]} clusters')"
   ]
  },
  {
   "cell_type": "markdown",
   "metadata": {},
   "source": [
    "Add a `description` column by concatenating `name`, `class` and `text`"
   ]
  },
  {
   "cell_type": "code",
   "execution_count": 9,
   "metadata": {
    "ExecuteTime": {
     "end_time": "2020-11-05T17:18:23.135470Z",
     "start_time": "2020-11-05T17:18:23.119945Z"
    }
   },
   "outputs": [
    {
     "data": {
      "text/plain": [
       "0    Berlin city-state capital and largest city of ...\n",
       "1    Berlin city with millions of inhabitants Its e...\n",
       "2    Berlin federal capital Significant industries ...\n",
       "3    Berlin city with millions of inhabitants capit...\n",
       "4    Berlin urban municipality of Germany East Berl...\n",
       "Name: description, dtype: object"
      ]
     },
     "execution_count": 9,
     "metadata": {},
     "output_type": "execute_result"
    }
   ],
   "source": [
    "df['description'] = df['name'] + ' ' + df['class'] + ' ' + df['text']\n",
    "df['description'].head()"
   ]
  },
  {
   "cell_type": "markdown",
   "metadata": {},
   "source": [
    "---\n",
    "## Convert the data to the `TrainingCorpus` format"
   ]
  },
  {
   "cell_type": "code",
   "execution_count": 10,
   "metadata": {
    "ExecuteTime": {
     "end_time": "2020-11-05T17:18:23.559568Z",
     "start_time": "2020-11-05T17:18:23.554105Z"
    }
   },
   "outputs": [],
   "source": [
    "data_dict = {}"
   ]
  },
  {
   "cell_type": "markdown",
   "metadata": {},
   "source": [
    "### Define the `docs` field"
   ]
  },
  {
   "cell_type": "code",
   "execution_count": 11,
   "metadata": {
    "ExecuteTime": {
     "end_time": "2020-11-05T17:18:23.943248Z",
     "start_time": "2020-11-05T17:18:23.937771Z"
    }
   },
   "outputs": [],
   "source": [
    "data_dict['docs'] = df.index.tolist()"
   ]
  },
  {
   "cell_type": "markdown",
   "metadata": {},
   "source": [
    "### Define the `texts` field"
   ]
  },
  {
   "cell_type": "code",
   "execution_count": 12,
   "metadata": {
    "ExecuteTime": {
     "end_time": "2020-11-05T17:18:24.322546Z",
     "start_time": "2020-11-05T17:18:24.317246Z"
    }
   },
   "outputs": [],
   "source": [
    "data_dict['texts'] = df['description'].tolist()"
   ]
  },
  {
   "cell_type": "markdown",
   "metadata": {},
   "source": [
    "### Define the `tokens` field"
   ]
  },
  {
   "cell_type": "code",
   "execution_count": 13,
   "metadata": {
    "ExecuteTime": {
     "end_time": "2020-11-05T17:18:24.722949Z",
     "start_time": "2020-11-05T17:18:24.718139Z"
    }
   },
   "outputs": [],
   "source": [
    "src_dir = 'src'"
   ]
  },
  {
   "cell_type": "code",
   "execution_count": 14,
   "metadata": {
    "ExecuteTime": {
     "end_time": "2020-11-05T17:18:26.245098Z",
     "start_time": "2020-11-05T17:18:24.938761Z"
    }
   },
   "outputs": [],
   "source": [
    "import sys\n",
    "sys.path.append(os.path.join(root_dir, src_dir))\n",
    "\n",
    "from training import TrainingCorpus"
   ]
  },
  {
   "cell_type": "code",
   "execution_count": 15,
   "metadata": {
    "ExecuteTime": {
     "end_time": "2020-11-05T17:18:26.320224Z",
     "start_time": "2020-11-05T17:18:26.248272Z"
    }
   },
   "outputs": [],
   "source": [
    "data_dict['tokens'] = df['description']\\\n",
    "                        .map(lambda x: TrainingCorpus.tokenize(x.lower())).tolist()"
   ]
  },
  {
   "cell_type": "markdown",
   "metadata": {},
   "source": [
    "### Define the `labels` field"
   ]
  },
  {
   "cell_type": "code",
   "execution_count": 16,
   "metadata": {
    "ExecuteTime": {
     "end_time": "2020-11-05T17:18:26.340609Z",
     "start_time": "2020-11-05T17:18:26.325750Z"
    }
   },
   "outputs": [
    {
     "data": {
      "text/plain": [
       "['Q1086827', 'Q1569850', 'Q614184', 'Q64', 'Q821199', 'Q821244']"
      ]
     },
     "execution_count": 16,
     "metadata": {},
     "output_type": "execute_result"
    }
   ],
   "source": [
    "sorted(df['entity'].unique().tolist())"
   ]
  },
  {
   "cell_type": "code",
   "execution_count": 17,
   "metadata": {
    "ExecuteTime": {
     "end_time": "2020-11-05T17:18:26.352976Z",
     "start_time": "2020-11-05T17:18:26.344313Z"
    }
   },
   "outputs": [],
   "source": [
    "data_dict['labels'] = sorted(df['entity'].unique().tolist())"
   ]
  },
  {
   "cell_type": "markdown",
   "metadata": {},
   "source": [
    "### Define the `target` field"
   ]
  },
  {
   "cell_type": "code",
   "execution_count": 18,
   "metadata": {
    "ExecuteTime": {
     "end_time": "2020-11-05T17:18:26.369340Z",
     "start_time": "2020-11-05T17:18:26.357694Z"
    }
   },
   "outputs": [],
   "source": [
    "data_dict['target'] = df['entity'].map(lambda x: [x]).to_dict()"
   ]
  },
  {
   "cell_type": "markdown",
   "metadata": {},
   "source": [
    "---\n",
    "## Save to JSON file"
   ]
  },
  {
   "cell_type": "code",
   "execution_count": 19,
   "metadata": {
    "ExecuteTime": {
     "end_time": "2020-11-05T17:18:26.656018Z",
     "start_time": "2020-11-05T17:18:26.649906Z"
    }
   },
   "outputs": [],
   "source": [
    "filename = f'wikidata_corpus_{version}.json'\n",
    "filepath = os.path.join(root_dir, data_dir, filename)"
   ]
  },
  {
   "cell_type": "code",
   "execution_count": 20,
   "metadata": {
    "ExecuteTime": {
     "end_time": "2020-11-05T17:18:26.857496Z",
     "start_time": "2020-11-05T17:18:26.852671Z"
    }
   },
   "outputs": [],
   "source": [
    "import json"
   ]
  },
  {
   "cell_type": "code",
   "execution_count": 21,
   "metadata": {
    "ExecuteTime": {
     "end_time": "2020-11-05T17:18:27.202017Z",
     "start_time": "2020-11-05T17:18:27.185357Z"
    }
   },
   "outputs": [],
   "source": [
    "with open(filepath, 'w') as fd:\n",
    "    json.dump(data_dict, fd)"
   ]
  },
  {
   "cell_type": "markdown",
   "metadata": {},
   "source": [
    "---\n",
    "## Open the dataset as an instance of the `TrainingCorpus` class"
   ]
  },
  {
   "cell_type": "code",
   "execution_count": 22,
   "metadata": {
    "ExecuteTime": {
     "end_time": "2020-11-05T17:18:27.709301Z",
     "start_time": "2020-11-05T17:18:27.702554Z"
    }
   },
   "outputs": [],
   "source": [
    "wikidata_corpus = TrainingCorpus()\n",
    "wikidata_corpus.load(filepath)"
   ]
  },
  {
   "cell_type": "code",
   "execution_count": 23,
   "metadata": {
    "ExecuteTime": {
     "end_time": "2020-11-05T17:18:27.953659Z",
     "start_time": "2020-11-05T17:18:27.944812Z"
    }
   },
   "outputs": [
    {
     "data": {
      "text/plain": [
       "'Berlin city-state capital and largest city of Germany'"
      ]
     },
     "execution_count": 23,
     "metadata": {},
     "output_type": "execute_result"
    }
   ],
   "source": [
    "wikidata_corpus.get_text(0)"
   ]
  },
  {
   "cell_type": "code",
   "execution_count": 24,
   "metadata": {
    "ExecuteTime": {
     "end_time": "2020-11-05T17:18:28.259546Z",
     "start_time": "2020-11-05T17:18:28.250395Z"
    }
   },
   "outputs": [
    {
     "data": {
      "text/plain": [
       "['berlin', 'city-state', 'capital', 'largest', 'city', 'germany']"
      ]
     },
     "execution_count": 24,
     "metadata": {},
     "output_type": "execute_result"
    }
   ],
   "source": [
    "wikidata_corpus.get_tokens(0)"
   ]
  },
  {
   "cell_type": "markdown",
   "metadata": {},
   "source": [
    "---\n",
    "## Compute noun chunks"
   ]
  },
  {
   "cell_type": "code",
   "execution_count": 25,
   "metadata": {
    "ExecuteTime": {
     "end_time": "2020-11-05T17:18:29.027510Z",
     "start_time": "2020-11-05T17:18:29.023363Z"
    }
   },
   "outputs": [],
   "source": [
    "chunks_filename = f'wikidata_chunks_{version}.json'\n",
    "chunks_filepath = os.path.join(root_dir, data_dir, chunks_filename)"
   ]
  },
  {
   "cell_type": "code",
   "execution_count": 26,
   "metadata": {
    "ExecuteTime": {
     "end_time": "2020-11-05T17:18:29.427543Z",
     "start_time": "2020-11-05T17:18:29.421142Z"
    }
   },
   "outputs": [
    {
     "data": {
      "text/plain": [
       "'../../data/corpus/wikidata_chunks.json'"
      ]
     },
     "execution_count": 26,
     "metadata": {},
     "output_type": "execute_result"
    }
   ],
   "source": [
    "chunks_filepath"
   ]
  },
  {
   "cell_type": "code",
   "execution_count": 27,
   "metadata": {
    "ExecuteTime": {
     "end_time": "2020-11-05T17:18:32.634522Z",
     "start_time": "2020-11-05T17:18:29.683923Z"
    }
   },
   "outputs": [
    {
     "name": "stderr",
     "output_type": "stream",
     "text": [
      "100%|██████████| 120/120 [00:02<00:00, 56.95it/s]\n"
     ]
    }
   ],
   "source": [
    "wikidata_corpus.detect_chunks()"
   ]
  },
  {
   "cell_type": "code",
   "execution_count": 28,
   "metadata": {
    "ExecuteTime": {
     "end_time": "2020-11-05T17:18:35.078254Z",
     "start_time": "2020-11-05T17:18:35.055210Z"
    }
   },
   "outputs": [],
   "source": [
    "wikidata_corpus.save_chunks(chunks_filepath)"
   ]
  },
  {
   "cell_type": "markdown",
   "metadata": {},
   "source": [
    "---\n",
    "## Load chunks"
   ]
  },
  {
   "cell_type": "code",
   "execution_count": 29,
   "metadata": {
    "ExecuteTime": {
     "end_time": "2020-11-05T17:18:36.211913Z",
     "start_time": "2020-11-05T17:18:36.205820Z"
    }
   },
   "outputs": [],
   "source": [
    "wikidata_corpus.load_chunks(chunks_filepath)"
   ]
  },
  {
   "cell_type": "code",
   "execution_count": 30,
   "metadata": {
    "ExecuteTime": {
     "end_time": "2020-11-05T17:18:37.406976Z",
     "start_time": "2020-11-05T17:18:37.399186Z"
    }
   },
   "outputs": [
    {
     "data": {
      "text/plain": [
       "[('Berlin_city-state_capital', 1), ('largest_city', 7), ('Germany', 10)]"
      ]
     },
     "execution_count": 30,
     "metadata": {},
     "output_type": "execute_result"
    }
   ],
   "source": [
    "list(wikidata_corpus.noun_chunks.items())[:3]"
   ]
  },
  {
   "cell_type": "code",
   "execution_count": 31,
   "metadata": {
    "ExecuteTime": {
     "end_time": "2020-11-05T17:18:38.153500Z",
     "start_time": "2020-11-05T17:18:38.144625Z"
    }
   },
   "outputs": [
    {
     "data": {
      "text/plain": [
       "['berlin', 'city-state', 'capital', 'largest_city', 'germany']"
      ]
     },
     "execution_count": 31,
     "metadata": {},
     "output_type": "execute_result"
    }
   ],
   "source": [
    "wikidata_corpus.get_chunk_document(0, threshold=0)"
   ]
  },
  {
   "cell_type": "code",
   "execution_count": 32,
   "metadata": {
    "ExecuteTime": {
     "end_time": "2020-11-05T17:18:38.873563Z",
     "start_time": "2020-11-05T17:18:38.864839Z"
    }
   },
   "outputs": [
    {
     "data": {
      "text/plain": [
       "'Berlin city-state capital and largest city of Germany'"
      ]
     },
     "execution_count": 32,
     "metadata": {},
     "output_type": "execute_result"
    }
   ],
   "source": [
    "wikidata_corpus.get_text(0)"
   ]
  },
  {
   "cell_type": "code",
   "execution_count": 33,
   "metadata": {
    "ExecuteTime": {
     "end_time": "2020-11-05T17:18:40.593817Z",
     "start_time": "2020-11-05T17:18:40.585515Z"
    }
   },
   "outputs": [
    {
     "data": {
      "text/plain": [
       "['berlin', 'city-state', 'capital', 'largest', 'city', 'germany']"
      ]
     },
     "execution_count": 33,
     "metadata": {},
     "output_type": "execute_result"
    }
   ],
   "source": [
    "wikidata_corpus.get_tokens(0)"
   ]
  },
  {
   "cell_type": "markdown",
   "metadata": {},
   "source": [
    "---"
   ]
  }
 ],
 "metadata": {
  "kernelspec": {
   "display_name": "Python 3",
   "language": "python",
   "name": "python3"
  },
  "language_info": {
   "codemirror_mode": {
    "name": "ipython",
    "version": 3
   },
   "file_extension": ".py",
   "mimetype": "text/x-python",
   "name": "python",
   "nbconvert_exporter": "python",
   "pygments_lexer": "ipython3",
   "version": "3.8.1"
  },
  "toc": {
   "base_numbering": 1,
   "nav_menu": {},
   "number_sections": true,
   "sideBar": true,
   "skip_h1_title": false,
   "title_cell": "Table of Contents",
   "title_sidebar": "Contents",
   "toc_cell": false,
   "toc_position": {},
   "toc_section_display": true,
   "toc_window_display": false
  }
 },
 "nbformat": 4,
 "nbformat_minor": 2
}
