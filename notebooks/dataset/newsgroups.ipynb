{
 "cells": [
  {
   "cell_type": "markdown",
   "metadata": {},
   "source": [
    "# Build the dataset"
   ]
  },
  {
   "cell_type": "markdown",
   "metadata": {},
   "source": [
    "---"
   ]
  },
  {
   "cell_type": "markdown",
   "metadata": {},
   "source": [
    "## Define filepaths"
   ]
  },
  {
   "cell_type": "code",
   "execution_count": 1,
   "metadata": {
    "ExecuteTime": {
     "end_time": "2020-09-25T21:54:12.812329Z",
     "start_time": "2020-09-25T21:54:12.808209Z"
    }
   },
   "outputs": [],
   "source": [
    "root_dir = '../..'\n",
    "data_dir = 'data/corpus'\n",
    "newsgroups_dir = 'newsgroups'"
   ]
  },
  {
   "cell_type": "markdown",
   "metadata": {},
   "source": [
    "---"
   ]
  },
  {
   "cell_type": "markdown",
   "metadata": {},
   "source": [
    "## Load the dataset"
   ]
  },
  {
   "cell_type": "markdown",
   "metadata": {},
   "source": [
    "### Fetch the dataset using sklearn"
   ]
  },
  {
   "cell_type": "code",
   "execution_count": 2,
   "metadata": {
    "ExecuteTime": {
     "end_time": "2020-09-25T21:54:14.189920Z",
     "start_time": "2020-09-25T21:54:13.434128Z"
    }
   },
   "outputs": [],
   "source": [
    "from sklearn.datasets import fetch_20newsgroups"
   ]
  },
  {
   "cell_type": "code",
   "execution_count": 3,
   "metadata": {
    "ExecuteTime": {
     "end_time": "2020-09-25T21:54:16.827580Z",
     "start_time": "2020-09-25T21:54:14.193438Z"
    }
   },
   "outputs": [],
   "source": [
    "newsgroups_dataset = fetch_20newsgroups(subset='all',\n",
    "                                        remove=('headers', 'footers', 'quotes'),\n",
    "                                        random_state=3)"
   ]
  },
  {
   "cell_type": "markdown",
   "metadata": {},
   "source": [
    "### Build a Dataframe out of the data"
   ]
  },
  {
   "cell_type": "code",
   "execution_count": 4,
   "metadata": {
    "ExecuteTime": {
     "end_time": "2020-09-25T21:54:17.059814Z",
     "start_time": "2020-09-25T21:54:16.829721Z"
    }
   },
   "outputs": [],
   "source": [
    "import pandas as pd"
   ]
  },
  {
   "cell_type": "code",
   "execution_count": 5,
   "metadata": {
    "ExecuteTime": {
     "end_time": "2020-09-25T21:54:17.072442Z",
     "start_time": "2020-09-25T21:54:17.061896Z"
    }
   },
   "outputs": [],
   "source": [
    "newsgroups_df = pd.DataFrame({'text': newsgroups_dataset.data, 'label': newsgroups_dataset.target})"
   ]
  },
  {
   "cell_type": "code",
   "execution_count": 6,
   "metadata": {
    "ExecuteTime": {
     "end_time": "2020-09-25T21:54:17.088352Z",
     "start_time": "2020-09-25T21:54:17.074256Z"
    }
   },
   "outputs": [
    {
     "data": {
      "text/html": [
       "<div>\n",
       "<style scoped>\n",
       "    .dataframe tbody tr th:only-of-type {\n",
       "        vertical-align: middle;\n",
       "    }\n",
       "\n",
       "    .dataframe tbody tr th {\n",
       "        vertical-align: top;\n",
       "    }\n",
       "\n",
       "    .dataframe thead th {\n",
       "        text-align: right;\n",
       "    }\n",
       "</style>\n",
       "<table border=\"1\" class=\"dataframe\">\n",
       "  <thead>\n",
       "    <tr style=\"text-align: right;\">\n",
       "      <th></th>\n",
       "      <th>text</th>\n",
       "      <th>label</th>\n",
       "    </tr>\n",
       "  </thead>\n",
       "  <tbody>\n",
       "    <tr>\n",
       "      <th>0</th>\n",
       "      <td>I have a mac plus with 2.5MB RAM. I have just ...</td>\n",
       "      <td>4</td>\n",
       "    </tr>\n",
       "    <tr>\n",
       "      <th>1</th>\n",
       "      <td>I was wondering if anyone knows of a graphics ...</td>\n",
       "      <td>1</td>\n",
       "    </tr>\n",
       "    <tr>\n",
       "      <th>2</th>\n",
       "      <td>----- News saved at 23 Apr 93 22:22:40 GMT\\n  ...</td>\n",
       "      <td>14</td>\n",
       "    </tr>\n",
       "    <tr>\n",
       "      <th>3</th>\n",
       "      <td>\\nNot everyone should be trusted with tools. ;...</td>\n",
       "      <td>7</td>\n",
       "    </tr>\n",
       "    <tr>\n",
       "      <th>4</th>\n",
       "      <td>\\n\\n\\nWell, most hangings are very quick and, ...</td>\n",
       "      <td>0</td>\n",
       "    </tr>\n",
       "  </tbody>\n",
       "</table>\n",
       "</div>"
      ],
      "text/plain": [
       "                                                text  label\n",
       "0  I have a mac plus with 2.5MB RAM. I have just ...      4\n",
       "1  I was wondering if anyone knows of a graphics ...      1\n",
       "2  ----- News saved at 23 Apr 93 22:22:40 GMT\\n  ...     14\n",
       "3  \\nNot everyone should be trusted with tools. ;...      7\n",
       "4  \\n\\n\\nWell, most hangings are very quick and, ...      0"
      ]
     },
     "execution_count": 6,
     "metadata": {},
     "output_type": "execute_result"
    }
   ],
   "source": [
    "newsgroups_df.head()"
   ]
  },
  {
   "cell_type": "code",
   "execution_count": 7,
   "metadata": {
    "ExecuteTime": {
     "end_time": "2020-09-25T21:54:17.093260Z",
     "start_time": "2020-09-25T21:54:17.089847Z"
    }
   },
   "outputs": [
    {
     "data": {
      "text/plain": [
       "(18846, 2)"
      ]
     },
     "execution_count": 7,
     "metadata": {},
     "output_type": "execute_result"
    }
   ],
   "source": [
    "newsgroups_df.shape"
   ]
  },
  {
   "cell_type": "code",
   "execution_count": 8,
   "metadata": {
    "ExecuteTime": {
     "end_time": "2020-09-25T21:54:17.099846Z",
     "start_time": "2020-09-25T21:54:17.094692Z"
    }
   },
   "outputs": [
    {
     "data": {
      "text/plain": [
       "10    999\n",
       "15    997\n",
       "8     996\n",
       "9     994\n",
       "11    991\n",
       "13    990\n",
       "7     990\n",
       "5     988\n",
       "14    987\n",
       "2     985\n",
       "12    984\n",
       "3     982\n",
       "6     975\n",
       "1     973\n",
       "4     963\n",
       "17    940\n",
       "16    910\n",
       "0     799\n",
       "18    775\n",
       "19    628\n",
       "Name: label, dtype: int64"
      ]
     },
     "execution_count": 8,
     "metadata": {},
     "output_type": "execute_result"
    }
   ],
   "source": [
    "newsgroups_df['label'].value_counts()"
   ]
  },
  {
   "cell_type": "markdown",
   "metadata": {},
   "source": [
    "## Make the text lowercase"
   ]
  },
  {
   "cell_type": "code",
   "execution_count": 9,
   "metadata": {
    "ExecuteTime": {
     "end_time": "2020-09-25T21:54:17.151978Z",
     "start_time": "2020-09-25T21:54:17.101858Z"
    }
   },
   "outputs": [],
   "source": [
    "newsgroups_df['text'] = newsgroups_df['text'].map(lambda x: x.lower())"
   ]
  },
  {
   "cell_type": "code",
   "execution_count": 10,
   "metadata": {
    "ExecuteTime": {
     "end_time": "2020-09-25T21:54:17.161512Z",
     "start_time": "2020-09-25T21:54:17.154075Z"
    }
   },
   "outputs": [
    {
     "data": {
      "text/html": [
       "<div>\n",
       "<style scoped>\n",
       "    .dataframe tbody tr th:only-of-type {\n",
       "        vertical-align: middle;\n",
       "    }\n",
       "\n",
       "    .dataframe tbody tr th {\n",
       "        vertical-align: top;\n",
       "    }\n",
       "\n",
       "    .dataframe thead th {\n",
       "        text-align: right;\n",
       "    }\n",
       "</style>\n",
       "<table border=\"1\" class=\"dataframe\">\n",
       "  <thead>\n",
       "    <tr style=\"text-align: right;\">\n",
       "      <th></th>\n",
       "      <th>text</th>\n",
       "      <th>label</th>\n",
       "    </tr>\n",
       "  </thead>\n",
       "  <tbody>\n",
       "    <tr>\n",
       "      <th>0</th>\n",
       "      <td>i have a mac plus with 2.5mb ram. i have just ...</td>\n",
       "      <td>4</td>\n",
       "    </tr>\n",
       "    <tr>\n",
       "      <th>1</th>\n",
       "      <td>i was wondering if anyone knows of a graphics ...</td>\n",
       "      <td>1</td>\n",
       "    </tr>\n",
       "    <tr>\n",
       "      <th>2</th>\n",
       "      <td>----- news saved at 23 apr 93 22:22:40 gmt\\n  ...</td>\n",
       "      <td>14</td>\n",
       "    </tr>\n",
       "    <tr>\n",
       "      <th>3</th>\n",
       "      <td>\\nnot everyone should be trusted with tools. ;...</td>\n",
       "      <td>7</td>\n",
       "    </tr>\n",
       "    <tr>\n",
       "      <th>4</th>\n",
       "      <td>\\n\\n\\nwell, most hangings are very quick and, ...</td>\n",
       "      <td>0</td>\n",
       "    </tr>\n",
       "  </tbody>\n",
       "</table>\n",
       "</div>"
      ],
      "text/plain": [
       "                                                text  label\n",
       "0  i have a mac plus with 2.5mb ram. i have just ...      4\n",
       "1  i was wondering if anyone knows of a graphics ...      1\n",
       "2  ----- news saved at 23 apr 93 22:22:40 gmt\\n  ...     14\n",
       "3  \\nnot everyone should be trusted with tools. ;...      7\n",
       "4  \\n\\n\\nwell, most hangings are very quick and, ...      0"
      ]
     },
     "execution_count": 10,
     "metadata": {},
     "output_type": "execute_result"
    }
   ],
   "source": [
    "newsgroups_df.head()"
   ]
  },
  {
   "cell_type": "markdown",
   "metadata": {},
   "source": [
    "---"
   ]
  },
  {
   "cell_type": "markdown",
   "metadata": {},
   "source": [
    "## Preprocess data"
   ]
  },
  {
   "cell_type": "markdown",
   "metadata": {},
   "source": [
    "Remove leading and trailing asterisk from texts"
   ]
  },
  {
   "cell_type": "code",
   "execution_count": 11,
   "metadata": {
    "ExecuteTime": {
     "end_time": "2020-09-25T21:54:17.166328Z",
     "start_time": "2020-09-25T21:54:17.162952Z"
    }
   },
   "outputs": [],
   "source": [
    "def clear_asterisks(text):\n",
    "    tokenized_text = text.split()\n",
    "    new_tokenized_text = []\n",
    "    for token in tokenized_text:\n",
    "        new_token = token.strip('*')\n",
    "        if new_token:\n",
    "            new_tokenized_text.append(new_token)\n",
    "    \n",
    "    \n",
    "    new_text = ' '.join(new_tokenized_text)\n",
    "    return new_text"
   ]
  },
  {
   "cell_type": "code",
   "execution_count": 12,
   "metadata": {
    "ExecuteTime": {
     "end_time": "2020-09-25T21:54:17.855385Z",
     "start_time": "2020-09-25T21:54:17.168021Z"
    }
   },
   "outputs": [],
   "source": [
    "newsgroups_df['text'] = newsgroups_df['text'].map(lambda x: clear_asterisks(x))"
   ]
  },
  {
   "cell_type": "code",
   "execution_count": 13,
   "metadata": {
    "ExecuteTime": {
     "end_time": "2020-09-25T21:54:17.871447Z",
     "start_time": "2020-09-25T21:54:17.857389Z"
    }
   },
   "outputs": [
    {
     "data": {
      "text/html": [
       "<div>\n",
       "<style scoped>\n",
       "    .dataframe tbody tr th:only-of-type {\n",
       "        vertical-align: middle;\n",
       "    }\n",
       "\n",
       "    .dataframe tbody tr th {\n",
       "        vertical-align: top;\n",
       "    }\n",
       "\n",
       "    .dataframe thead th {\n",
       "        text-align: right;\n",
       "    }\n",
       "</style>\n",
       "<table border=\"1\" class=\"dataframe\">\n",
       "  <thead>\n",
       "    <tr style=\"text-align: right;\">\n",
       "      <th></th>\n",
       "      <th>text</th>\n",
       "      <th>label</th>\n",
       "    </tr>\n",
       "  </thead>\n",
       "  <tbody>\n",
       "    <tr>\n",
       "      <th>0</th>\n",
       "      <td>i have a mac plus with 2.5mb ram. i have just ...</td>\n",
       "      <td>4</td>\n",
       "    </tr>\n",
       "    <tr>\n",
       "      <th>1</th>\n",
       "      <td>i was wondering if anyone knows of a graphics ...</td>\n",
       "      <td>1</td>\n",
       "    </tr>\n",
       "    <tr>\n",
       "      <th>2</th>\n",
       "      <td>----- news saved at 23 apr 93 22:22:40 gmt wel...</td>\n",
       "      <td>14</td>\n",
       "    </tr>\n",
       "    <tr>\n",
       "      <th>3</th>\n",
       "      <td>not everyone should be trusted with tools. ;-)</td>\n",
       "      <td>7</td>\n",
       "    </tr>\n",
       "    <tr>\n",
       "      <th>4</th>\n",
       "      <td>well, most hangings are very quick and, i imag...</td>\n",
       "      <td>0</td>\n",
       "    </tr>\n",
       "  </tbody>\n",
       "</table>\n",
       "</div>"
      ],
      "text/plain": [
       "                                                text  label\n",
       "0  i have a mac plus with 2.5mb ram. i have just ...      4\n",
       "1  i was wondering if anyone knows of a graphics ...      1\n",
       "2  ----- news saved at 23 apr 93 22:22:40 gmt wel...     14\n",
       "3     not everyone should be trusted with tools. ;-)      7\n",
       "4  well, most hangings are very quick and, i imag...      0"
      ]
     },
     "execution_count": 13,
     "metadata": {},
     "output_type": "execute_result"
    }
   ],
   "source": [
    "newsgroups_df.head()"
   ]
  },
  {
   "cell_type": "markdown",
   "metadata": {},
   "source": [
    "---"
   ]
  },
  {
   "cell_type": "markdown",
   "metadata": {},
   "source": [
    "## Take a sample of the data"
   ]
  },
  {
   "cell_type": "code",
   "execution_count": 14,
   "metadata": {
    "ExecuteTime": {
     "end_time": "2020-09-25T21:54:23.550410Z",
     "start_time": "2020-09-25T21:54:23.520615Z"
    }
   },
   "outputs": [],
   "source": [
    "newsgroups_df = newsgroups_df.groupby('label').sample(n=500, random_state=3).reset_index(drop=True)"
   ]
  },
  {
   "cell_type": "markdown",
   "metadata": {},
   "source": [
    "## Convert the data to the `TrainingCorpus` format"
   ]
  },
  {
   "cell_type": "code",
   "execution_count": 15,
   "metadata": {
    "ExecuteTime": {
     "end_time": "2020-09-25T21:54:24.308506Z",
     "start_time": "2020-09-25T21:54:24.305059Z"
    }
   },
   "outputs": [],
   "source": [
    "newsgroups_dict = {}"
   ]
  },
  {
   "cell_type": "markdown",
   "metadata": {},
   "source": [
    "### Define the docs field"
   ]
  },
  {
   "cell_type": "code",
   "execution_count": 16,
   "metadata": {
    "ExecuteTime": {
     "end_time": "2020-09-25T21:54:25.109288Z",
     "start_time": "2020-09-25T21:54:25.104942Z"
    }
   },
   "outputs": [],
   "source": [
    "newsgroups_dict['docs'] = newsgroups_df.index.tolist()"
   ]
  },
  {
   "cell_type": "markdown",
   "metadata": {},
   "source": [
    "### Define the `texts` field"
   ]
  },
  {
   "cell_type": "code",
   "execution_count": 17,
   "metadata": {
    "ExecuteTime": {
     "end_time": "2020-09-25T21:54:25.744518Z",
     "start_time": "2020-09-25T21:54:25.736300Z"
    }
   },
   "outputs": [],
   "source": [
    "newsgroups_dict['texts'] = newsgroups_df['text'].tolist()"
   ]
  },
  {
   "cell_type": "markdown",
   "metadata": {},
   "source": [
    "### Define the `tokens` field"
   ]
  },
  {
   "cell_type": "code",
   "execution_count": 18,
   "metadata": {
    "ExecuteTime": {
     "end_time": "2020-09-25T21:54:26.318291Z",
     "start_time": "2020-09-25T21:54:26.314952Z"
    }
   },
   "outputs": [],
   "source": [
    "src_dir = 'src'"
   ]
  },
  {
   "cell_type": "code",
   "execution_count": 19,
   "metadata": {
    "ExecuteTime": {
     "end_time": "2020-09-25T21:54:26.712393Z",
     "start_time": "2020-09-25T21:54:26.709643Z"
    }
   },
   "outputs": [],
   "source": [
    "import os\n",
    "import sys"
   ]
  },
  {
   "cell_type": "code",
   "execution_count": 20,
   "metadata": {
    "ExecuteTime": {
     "end_time": "2020-09-25T21:54:27.098872Z",
     "start_time": "2020-09-25T21:54:27.092398Z"
    }
   },
   "outputs": [],
   "source": [
    "sys.path.append(os.path.join(root_dir, src_dir))"
   ]
  },
  {
   "cell_type": "code",
   "execution_count": 21,
   "metadata": {
    "ExecuteTime": {
     "end_time": "2020-09-25T21:54:27.918209Z",
     "start_time": "2020-09-25T21:54:27.385604Z"
    }
   },
   "outputs": [],
   "source": [
    "from training import TrainingCorpus"
   ]
  },
  {
   "cell_type": "code",
   "execution_count": 22,
   "metadata": {
    "ExecuteTime": {
     "end_time": "2020-09-25T21:54:45.895284Z",
     "start_time": "2020-09-25T21:54:27.920140Z"
    }
   },
   "outputs": [],
   "source": [
    "newsgroups_dict['tokens'] = newsgroups_df['text'].map(lambda x: TrainingCorpus.tokenize(x)).tolist()"
   ]
  },
  {
   "cell_type": "markdown",
   "metadata": {},
   "source": [
    "### Define the `labels` field"
   ]
  },
  {
   "cell_type": "code",
   "execution_count": 23,
   "metadata": {
    "ExecuteTime": {
     "end_time": "2020-09-25T21:54:45.902479Z",
     "start_time": "2020-09-25T21:54:45.897946Z"
    }
   },
   "outputs": [],
   "source": [
    "newsgroups_dict['labels'] = sorted(newsgroups_df['label'].unique().tolist())"
   ]
  },
  {
   "cell_type": "markdown",
   "metadata": {},
   "source": [
    "### Define the `target` field"
   ]
  },
  {
   "cell_type": "code",
   "execution_count": 24,
   "metadata": {
    "ExecuteTime": {
     "end_time": "2020-09-25T21:54:45.918841Z",
     "start_time": "2020-09-25T21:54:45.904130Z"
    }
   },
   "outputs": [],
   "source": [
    "newsgroups_dict['target'] = newsgroups_df['label'].map(lambda x: [x]).to_dict()"
   ]
  },
  {
   "cell_type": "markdown",
   "metadata": {},
   "source": [
    "---"
   ]
  },
  {
   "cell_type": "markdown",
   "metadata": {},
   "source": [
    "## Save to JSON file"
   ]
  },
  {
   "cell_type": "code",
   "execution_count": 25,
   "metadata": {
    "ExecuteTime": {
     "end_time": "2020-09-25T21:54:48.157191Z",
     "start_time": "2020-09-25T21:54:48.153335Z"
    }
   },
   "outputs": [],
   "source": [
    "import json"
   ]
  },
  {
   "cell_type": "code",
   "execution_count": 26,
   "metadata": {
    "ExecuteTime": {
     "end_time": "2020-09-25T21:54:48.517420Z",
     "start_time": "2020-09-25T21:54:48.513981Z"
    }
   },
   "outputs": [],
   "source": [
    "dataset_filename = 'newsgroups_corpus.json'\n",
    "dataset_filepath = os.path.join(root_dir, data_dir, dataset_filename)"
   ]
  },
  {
   "cell_type": "code",
   "execution_count": 27,
   "metadata": {
    "ExecuteTime": {
     "end_time": "2020-09-25T21:54:49.573754Z",
     "start_time": "2020-09-25T21:54:48.892124Z"
    }
   },
   "outputs": [],
   "source": [
    "with open(dataset_filepath, 'w') as fd:\n",
    "    json.dump(newsgroups_dict, fd)"
   ]
  },
  {
   "cell_type": "markdown",
   "metadata": {
    "ExecuteTime": {
     "end_time": "2020-09-25T17:52:49.580271Z",
     "start_time": "2020-09-25T17:52:49.576387Z"
    }
   },
   "source": [
    "---"
   ]
  },
  {
   "cell_type": "markdown",
   "metadata": {},
   "source": [
    "## Open the dataset as an instance of the `TrainingCorpus` class"
   ]
  },
  {
   "cell_type": "code",
   "execution_count": 28,
   "metadata": {
    "ExecuteTime": {
     "end_time": "2020-09-25T21:54:52.583427Z",
     "start_time": "2020-09-25T21:54:51.962375Z"
    }
   },
   "outputs": [],
   "source": [
    "newsgroups_corpus = TrainingCorpus()\n",
    "newsgroups_corpus.load(dataset_filepath)"
   ]
  },
  {
   "cell_type": "code",
   "execution_count": 29,
   "metadata": {
    "ExecuteTime": {
     "end_time": "2020-09-25T21:54:52.590321Z",
     "start_time": "2020-09-25T21:54:52.585797Z"
    }
   },
   "outputs": [
    {
     "data": {
      "text/plain": [
       "'[deleted stuff from andrew wrt which atheist myth is bill re: to] \"counterfeit atheists\". hmmmm. so, we\\'re just cheap knock-offs of the true atheists. religion demonstrates itself to be absurd. constantly. personally, if someone asks, i\\'m happy to point out how this is so. man, what is your pill wrt atheists? if you\\'re going to make such contentious statements, back them up! at least, read news: time-and-time again, we\\'ve hashed out the beliefs various religous doctrines hold. try debating reasonably with someone who makes a statement like, \"...more accurately oxymoric is the a term like, reasonable atheist.\" then take a look at the responses we\\'ve given tammy. seem pretty \"reasonable\", nay, even \"polite\" to me. [accusations of myths a-flyin\\'] i saw your reference to \"according to\" in the original article. then you do such an excellent job of spewing dogma that, well, the implication was pretty clear (if wrong, in this case). [jeez, a misunderstanding. let it go.] [more statements to wrap this thing up] if you had written your post with the same as care as the faq has been, we wouldn\\'t be having this discussion. [gems about evidence deleted] jeez, do i have to point this out to you? this discussion is not all instances of human reason. therefore, your implication is false. how lame can you get. who said anything about the \\'truth\\' of things? read the faq very carefully, please. then report your findings about where it says the purpose of a.a is to find the \\'truth\\' of things. and stop impressing your own misguided image of atheists upon us. it\\'s really pissing me off.'"
      ]
     },
     "execution_count": 29,
     "metadata": {},
     "output_type": "execute_result"
    }
   ],
   "source": [
    "newsgroups_corpus.get_text(0)"
   ]
  },
  {
   "cell_type": "code",
   "execution_count": 30,
   "metadata": {
    "ExecuteTime": {
     "end_time": "2020-09-25T21:54:55.267018Z",
     "start_time": "2020-09-25T21:54:55.260346Z"
    }
   },
   "outputs": [
    {
     "data": {
      "text/plain": [
       "['deleted', 'stuff', 'andrew', 'wrt', 'atheist']"
      ]
     },
     "execution_count": 30,
     "metadata": {},
     "output_type": "execute_result"
    }
   ],
   "source": [
    "newsgroups_corpus.get_tokens(0)[:5]"
   ]
  },
  {
   "cell_type": "markdown",
   "metadata": {},
   "source": [
    "---"
   ]
  },
  {
   "cell_type": "markdown",
   "metadata": {},
   "source": [
    "## Compute noun chunks"
   ]
  },
  {
   "cell_type": "code",
   "execution_count": 31,
   "metadata": {
    "ExecuteTime": {
     "end_time": "2020-09-25T21:54:57.357759Z",
     "start_time": "2020-09-25T21:54:57.350799Z"
    }
   },
   "outputs": [],
   "source": [
    "chunks_filename = 'newsgroups_chunks.json'\n",
    "chunks_filepath = os.path.join(root_dir, data_dir, chunks_filename)"
   ]
  },
  {
   "cell_type": "code",
   "execution_count": 32,
   "metadata": {
    "ExecuteTime": {
     "end_time": "2020-09-25T21:54:58.063628Z",
     "start_time": "2020-09-25T21:54:58.059273Z"
    }
   },
   "outputs": [
    {
     "data": {
      "text/plain": [
       "'../../data/corpus/newsgroups_chunks.json'"
      ]
     },
     "execution_count": 32,
     "metadata": {},
     "output_type": "execute_result"
    }
   ],
   "source": [
    "chunks_filepath"
   ]
  },
  {
   "cell_type": "code",
   "execution_count": 33,
   "metadata": {
    "ExecuteTime": {
     "end_time": "2020-09-25T22:00:54.735209Z",
     "start_time": "2020-09-25T21:54:58.834199Z"
    }
   },
   "outputs": [
    {
     "name": "stderr",
     "output_type": "stream",
     "text": [
      "100%|██████████| 10000/10000 [05:55<00:00, 28.16it/s]\n"
     ]
    }
   ],
   "source": [
    "newsgroups_corpus.detect_chunks()"
   ]
  },
  {
   "cell_type": "code",
   "execution_count": 34,
   "metadata": {
    "ExecuteTime": {
     "end_time": "2020-09-25T22:00:57.799321Z",
     "start_time": "2020-09-25T22:00:57.097298Z"
    }
   },
   "outputs": [],
   "source": [
    "newsgroups_corpus.save_chunks(chunks_filepath)"
   ]
  },
  {
   "cell_type": "markdown",
   "metadata": {},
   "source": [
    "---"
   ]
  },
  {
   "cell_type": "markdown",
   "metadata": {},
   "source": [
    "## Load chunks"
   ]
  },
  {
   "cell_type": "code",
   "execution_count": 35,
   "metadata": {
    "ExecuteTime": {
     "end_time": "2020-09-25T22:00:59.498657Z",
     "start_time": "2020-09-25T22:00:59.242089Z"
    }
   },
   "outputs": [],
   "source": [
    "newsgroups_corpus.load_chunks(chunks_filepath)"
   ]
  },
  {
   "cell_type": "code",
   "execution_count": 36,
   "metadata": {
    "ExecuteTime": {
     "end_time": "2020-09-25T22:00:59.777365Z",
     "start_time": "2020-09-25T22:00:59.723542Z"
    }
   },
   "outputs": [
    {
     "data": {
      "text/plain": [
       "[('stuff', 276), ('andrew_wrt', 1), ('atheist_myth', 1)]"
      ]
     },
     "execution_count": 36,
     "metadata": {},
     "output_type": "execute_result"
    }
   ],
   "source": [
    "list(newsgroups_corpus.noun_chunks.items())[:3]"
   ]
  },
  {
   "cell_type": "code",
   "execution_count": 37,
   "metadata": {
    "ExecuteTime": {
     "end_time": "2020-09-25T22:01:00.709824Z",
     "start_time": "2020-09-25T22:01:00.705014Z"
    }
   },
   "outputs": [
    {
     "data": {
      "text/plain": [
       "['sounds', 'though', 'confused', 'want', 'think', 'morally', 'right']"
      ]
     },
     "execution_count": 37,
     "metadata": {},
     "output_type": "execute_result"
    }
   ],
   "source": [
    "newsgroups_corpus.get_chunk_document(21, threshold=0)"
   ]
  },
  {
   "cell_type": "code",
   "execution_count": 38,
   "metadata": {
    "ExecuteTime": {
     "end_time": "2020-09-25T22:01:01.436274Z",
     "start_time": "2020-09-25T22:01:01.430346Z"
    }
   },
   "outputs": [
    {
     "data": {
      "text/plain": [
       "\"you should wear your nicest boxer shorts and bring plenty of spf 45+ sunscreen. i'll grab my bathing suit, towerl and some veggie hotdogs and we can have bonfire cookout!! does that sound good enough to you, dean? every a.a poster is invited!!!\""
      ]
     },
     "execution_count": 38,
     "metadata": {},
     "output_type": "execute_result"
    }
   ],
   "source": [
    "newsgroups_corpus.get_text(45)"
   ]
  },
  {
   "cell_type": "code",
   "execution_count": 39,
   "metadata": {
    "ExecuteTime": {
     "end_time": "2020-09-25T22:01:03.139801Z",
     "start_time": "2020-09-25T22:01:03.130094Z"
    }
   },
   "outputs": [
    {
     "data": {
      "text/plain": [
       "['sounds', 'though', 'confused', 'want', 'think', 'morally', 'right']"
      ]
     },
     "execution_count": 39,
     "metadata": {},
     "output_type": "execute_result"
    }
   ],
   "source": [
    "newsgroups_corpus.get_tokens(21)"
   ]
  },
  {
   "cell_type": "code",
   "execution_count": 40,
   "metadata": {
    "ExecuteTime": {
     "end_time": "2020-09-25T22:01:12.560439Z",
     "start_time": "2020-09-25T22:01:12.555263Z"
    }
   },
   "outputs": [
    {
     "data": {
      "text/plain": [
       "'sounds as though you are confused between \"what i want\" and \"what i think is morally right\".'"
      ]
     },
     "execution_count": 40,
     "metadata": {},
     "output_type": "execute_result"
    }
   ],
   "source": [
    "newsgroups_corpus.get_text(21)"
   ]
  },
  {
   "cell_type": "markdown",
   "metadata": {},
   "source": [
    "---"
   ]
  }
 ],
 "metadata": {
  "kernelspec": {
   "display_name": "Python 3",
   "language": "python",
   "name": "python3"
  },
  "language_info": {
   "codemirror_mode": {
    "name": "ipython",
    "version": 3
   },
   "file_extension": ".py",
   "mimetype": "text/x-python",
   "name": "python",
   "nbconvert_exporter": "python",
   "pygments_lexer": "ipython3",
   "version": "3.8.1"
  },
  "toc": {
   "base_numbering": 1,
   "nav_menu": {},
   "number_sections": true,
   "sideBar": true,
   "skip_h1_title": false,
   "title_cell": "Table of Contents",
   "title_sidebar": "Contents",
   "toc_cell": false,
   "toc_position": {},
   "toc_section_display": true,
   "toc_window_display": false
  }
 },
 "nbformat": 4,
 "nbformat_minor": 4
}
