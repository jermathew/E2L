{
 "cells": [
  {
   "cell_type": "markdown",
   "metadata": {},
   "source": [
    "# Build the dataset"
   ]
  },
  {
   "cell_type": "markdown",
   "metadata": {},
   "source": [
    "## Define filepaths"
   ]
  },
  {
   "cell_type": "code",
   "execution_count": 1,
   "metadata": {
    "ExecuteTime": {
     "end_time": "2021-01-03T14:23:50.089591Z",
     "start_time": "2021-01-03T14:23:50.086563Z"
    }
   },
   "outputs": [],
   "source": [
    "import os"
   ]
  },
  {
   "cell_type": "code",
   "execution_count": 2,
   "metadata": {
    "ExecuteTime": {
     "end_time": "2021-01-03T14:23:50.278286Z",
     "start_time": "2021-01-03T14:23:50.274299Z"
    }
   },
   "outputs": [],
   "source": [
    "root_dir = '../..'\n",
    "data_dir = 'data/corpus'\n",
    "dataset_dir = 'papers'\n",
    "src_dir = 'src'\n",
    "\n",
    "input_filename = 'data_input.csv'\n",
    "input_filepath = os.path.join(root_dir, data_dir, dataset_dir, input_filename)\n",
    "\n",
    "output_filename = 'data_output.csv'\n",
    "output_filepath = os.path.join(root_dir, data_dir, dataset_dir, output_filename)"
   ]
  },
  {
   "cell_type": "markdown",
   "metadata": {},
   "source": [
    "## Load the data"
   ]
  },
  {
   "cell_type": "code",
   "execution_count": 3,
   "metadata": {
    "ExecuteTime": {
     "end_time": "2021-01-03T14:23:50.939622Z",
     "start_time": "2021-01-03T14:23:50.676267Z"
    }
   },
   "outputs": [],
   "source": [
    "import pandas as pd"
   ]
  },
  {
   "cell_type": "code",
   "execution_count": 4,
   "metadata": {
    "ExecuteTime": {
     "end_time": "2021-01-03T14:23:51.599744Z",
     "start_time": "2021-01-03T14:23:50.941303Z"
    }
   },
   "outputs": [
    {
     "data": {
      "text/html": [
       "<div>\n",
       "<style scoped>\n",
       "    .dataframe tbody tr th:only-of-type {\n",
       "        vertical-align: middle;\n",
       "    }\n",
       "\n",
       "    .dataframe tbody tr th {\n",
       "        vertical-align: top;\n",
       "    }\n",
       "\n",
       "    .dataframe thead th {\n",
       "        text-align: right;\n",
       "    }\n",
       "</style>\n",
       "<table border=\"1\" class=\"dataframe\">\n",
       "  <thead>\n",
       "    <tr style=\"text-align: right;\">\n",
       "      <th></th>\n",
       "      <th>abstract</th>\n",
       "    </tr>\n",
       "  </thead>\n",
       "  <tbody>\n",
       "    <tr>\n",
       "      <th>0</th>\n",
       "      <td>turing machines and g\\\"odel numbers are import...</td>\n",
       "    </tr>\n",
       "    <tr>\n",
       "      <th>1</th>\n",
       "      <td>rna-sequencing has revolutionized biomedical r...</td>\n",
       "    </tr>\n",
       "    <tr>\n",
       "      <th>2</th>\n",
       "      <td>queuing models provide insight into the tempor...</td>\n",
       "    </tr>\n",
       "    <tr>\n",
       "      <th>3</th>\n",
       "      <td>in a multiple-object auction, every bidder tri...</td>\n",
       "    </tr>\n",
       "    <tr>\n",
       "      <th>4</th>\n",
       "      <td>in arxiv:1109.6438v1 [math.ag] we introduced a...</td>\n",
       "    </tr>\n",
       "  </tbody>\n",
       "</table>\n",
       "</div>"
      ],
      "text/plain": [
       "                                            abstract\n",
       "0  turing machines and g\\\"odel numbers are import...\n",
       "1  rna-sequencing has revolutionized biomedical r...\n",
       "2  queuing models provide insight into the tempor...\n",
       "3  in a multiple-object auction, every bidder tri...\n",
       "4  in arxiv:1109.6438v1 [math.ag] we introduced a..."
      ]
     },
     "execution_count": 4,
     "metadata": {},
     "output_type": "execute_result"
    }
   ],
   "source": [
    "input_df = pd.read_csv(input_filepath)\n",
    "input_df = input_df.drop(columns='id')\n",
    "# lowercase texts\n",
    "input_df['abstract'] = input_df['abstract'].map(lambda x: x.lower())\n",
    "input_df.head()"
   ]
  },
  {
   "cell_type": "code",
   "execution_count": 5,
   "metadata": {
    "ExecuteTime": {
     "end_time": "2021-01-03T14:23:51.606142Z",
     "start_time": "2021-01-03T14:23:51.602122Z"
    }
   },
   "outputs": [
    {
     "data": {
      "text/plain": [
       "(86209, 1)"
      ]
     },
     "execution_count": 5,
     "metadata": {},
     "output_type": "execute_result"
    }
   ],
   "source": [
    "input_df.shape"
   ]
  },
  {
   "cell_type": "code",
   "execution_count": 6,
   "metadata": {
    "ExecuteTime": {
     "end_time": "2021-01-03T14:23:51.629976Z",
     "start_time": "2021-01-03T14:23:51.608333Z"
    }
   },
   "outputs": [
    {
     "data": {
      "text/html": [
       "<div>\n",
       "<style scoped>\n",
       "    .dataframe tbody tr th:only-of-type {\n",
       "        vertical-align: middle;\n",
       "    }\n",
       "\n",
       "    .dataframe tbody tr th {\n",
       "        vertical-align: top;\n",
       "    }\n",
       "\n",
       "    .dataframe thead th {\n",
       "        text-align: right;\n",
       "    }\n",
       "</style>\n",
       "<table border=\"1\" class=\"dataframe\">\n",
       "  <thead>\n",
       "    <tr style=\"text-align: right;\">\n",
       "      <th></th>\n",
       "      <th>category</th>\n",
       "    </tr>\n",
       "  </thead>\n",
       "  <tbody>\n",
       "    <tr>\n",
       "      <th>0</th>\n",
       "      <td>cs</td>\n",
       "    </tr>\n",
       "    <tr>\n",
       "      <th>1</th>\n",
       "      <td>stat</td>\n",
       "    </tr>\n",
       "    <tr>\n",
       "      <th>2</th>\n",
       "      <td>physics</td>\n",
       "    </tr>\n",
       "    <tr>\n",
       "      <th>3</th>\n",
       "      <td>cs</td>\n",
       "    </tr>\n",
       "    <tr>\n",
       "      <th>4</th>\n",
       "      <td>math</td>\n",
       "    </tr>\n",
       "  </tbody>\n",
       "</table>\n",
       "</div>"
      ],
      "text/plain": [
       "  category\n",
       "0       cs\n",
       "1     stat\n",
       "2  physics\n",
       "3       cs\n",
       "4     math"
      ]
     },
     "execution_count": 6,
     "metadata": {},
     "output_type": "execute_result"
    }
   ],
   "source": [
    "output_df = pd.read_csv(output_filepath)\n",
    "output_df = output_df.drop(columns='id')\n",
    "output_df.head()"
   ]
  },
  {
   "cell_type": "code",
   "execution_count": 7,
   "metadata": {
    "ExecuteTime": {
     "end_time": "2021-01-03T14:23:51.634623Z",
     "start_time": "2021-01-03T14:23:51.631276Z"
    }
   },
   "outputs": [
    {
     "data": {
      "text/plain": [
       "(86209, 1)"
      ]
     },
     "execution_count": 7,
     "metadata": {},
     "output_type": "execute_result"
    }
   ],
   "source": [
    "output_df.shape"
   ]
  },
  {
   "cell_type": "markdown",
   "metadata": {},
   "source": [
    "Merge both Dataframes"
   ]
  },
  {
   "cell_type": "code",
   "execution_count": 8,
   "metadata": {
    "ExecuteTime": {
     "end_time": "2021-01-03T14:23:52.052593Z",
     "start_time": "2021-01-03T14:23:52.041524Z"
    }
   },
   "outputs": [
    {
     "data": {
      "text/html": [
       "<div>\n",
       "<style scoped>\n",
       "    .dataframe tbody tr th:only-of-type {\n",
       "        vertical-align: middle;\n",
       "    }\n",
       "\n",
       "    .dataframe tbody tr th {\n",
       "        vertical-align: top;\n",
       "    }\n",
       "\n",
       "    .dataframe thead th {\n",
       "        text-align: right;\n",
       "    }\n",
       "</style>\n",
       "<table border=\"1\" class=\"dataframe\">\n",
       "  <thead>\n",
       "    <tr style=\"text-align: right;\">\n",
       "      <th></th>\n",
       "      <th>abstract</th>\n",
       "      <th>category</th>\n",
       "    </tr>\n",
       "  </thead>\n",
       "  <tbody>\n",
       "    <tr>\n",
       "      <th>0</th>\n",
       "      <td>turing machines and g\\\"odel numbers are import...</td>\n",
       "      <td>cs</td>\n",
       "    </tr>\n",
       "    <tr>\n",
       "      <th>1</th>\n",
       "      <td>rna-sequencing has revolutionized biomedical r...</td>\n",
       "      <td>stat</td>\n",
       "    </tr>\n",
       "    <tr>\n",
       "      <th>2</th>\n",
       "      <td>queuing models provide insight into the tempor...</td>\n",
       "      <td>physics</td>\n",
       "    </tr>\n",
       "    <tr>\n",
       "      <th>3</th>\n",
       "      <td>in a multiple-object auction, every bidder tri...</td>\n",
       "      <td>cs</td>\n",
       "    </tr>\n",
       "    <tr>\n",
       "      <th>4</th>\n",
       "      <td>in arxiv:1109.6438v1 [math.ag] we introduced a...</td>\n",
       "      <td>math</td>\n",
       "    </tr>\n",
       "  </tbody>\n",
       "</table>\n",
       "</div>"
      ],
      "text/plain": [
       "                                            abstract category\n",
       "0  turing machines and g\\\"odel numbers are import...       cs\n",
       "1  rna-sequencing has revolutionized biomedical r...     stat\n",
       "2  queuing models provide insight into the tempor...  physics\n",
       "3  in a multiple-object auction, every bidder tri...       cs\n",
       "4  in arxiv:1109.6438v1 [math.ag] we introduced a...     math"
      ]
     },
     "execution_count": 8,
     "metadata": {},
     "output_type": "execute_result"
    }
   ],
   "source": [
    "df = pd.concat([input_df, output_df], axis=1)\n",
    "df.head()"
   ]
  },
  {
   "cell_type": "markdown",
   "metadata": {},
   "source": [
    "## Sample data for each category"
   ]
  },
  {
   "cell_type": "code",
   "execution_count": 9,
   "metadata": {
    "ExecuteTime": {
     "end_time": "2021-01-03T14:23:52.467970Z",
     "start_time": "2021-01-03T14:23:52.465904Z"
    }
   },
   "outputs": [],
   "source": [
    "random_state = 3"
   ]
  },
  {
   "cell_type": "code",
   "execution_count": 10,
   "metadata": {
    "ExecuteTime": {
     "end_time": "2021-01-03T14:23:52.626900Z",
     "start_time": "2021-01-03T14:23:52.609558Z"
    }
   },
   "outputs": [],
   "source": [
    "grouped_df = df.groupby('category')\n",
    "grouped_sampled_df = grouped_df.sample(n=500, random_state=random_state)"
   ]
  },
  {
   "cell_type": "code",
   "execution_count": 11,
   "metadata": {
    "ExecuteTime": {
     "end_time": "2021-01-03T14:23:52.782128Z",
     "start_time": "2021-01-03T14:23:52.774389Z"
    }
   },
   "outputs": [
    {
     "data": {
      "text/html": [
       "<div>\n",
       "<style scoped>\n",
       "    .dataframe tbody tr th:only-of-type {\n",
       "        vertical-align: middle;\n",
       "    }\n",
       "\n",
       "    .dataframe tbody tr th {\n",
       "        vertical-align: top;\n",
       "    }\n",
       "\n",
       "    .dataframe thead th {\n",
       "        text-align: right;\n",
       "    }\n",
       "</style>\n",
       "<table border=\"1\" class=\"dataframe\">\n",
       "  <thead>\n",
       "    <tr style=\"text-align: right;\">\n",
       "      <th></th>\n",
       "      <th>abstract</th>\n",
       "      <th>category</th>\n",
       "    </tr>\n",
       "  </thead>\n",
       "  <tbody>\n",
       "    <tr>\n",
       "      <th>0</th>\n",
       "      <td>in this work, having in mind the construction ...</td>\n",
       "      <td>cs</td>\n",
       "    </tr>\n",
       "    <tr>\n",
       "      <th>1</th>\n",
       "      <td>optimal selection of interdependent it project...</td>\n",
       "      <td>cs</td>\n",
       "    </tr>\n",
       "    <tr>\n",
       "      <th>2</th>\n",
       "      <td>sorting is one of the classic problems of comp...</td>\n",
       "      <td>cs</td>\n",
       "    </tr>\n",
       "    <tr>\n",
       "      <th>3</th>\n",
       "      <td>dependency analysis is a technique to identify...</td>\n",
       "      <td>cs</td>\n",
       "    </tr>\n",
       "    <tr>\n",
       "      <th>4</th>\n",
       "      <td>the module theorem by janhunen et al. demonstr...</td>\n",
       "      <td>cs</td>\n",
       "    </tr>\n",
       "  </tbody>\n",
       "</table>\n",
       "</div>"
      ],
      "text/plain": [
       "                                            abstract category\n",
       "0  in this work, having in mind the construction ...       cs\n",
       "1  optimal selection of interdependent it project...       cs\n",
       "2  sorting is one of the classic problems of comp...       cs\n",
       "3  dependency analysis is a technique to identify...       cs\n",
       "4  the module theorem by janhunen et al. demonstr...       cs"
      ]
     },
     "execution_count": 11,
     "metadata": {},
     "output_type": "execute_result"
    }
   ],
   "source": [
    "sampled_df = grouped_sampled_df.reset_index(drop=True)\n",
    "sampled_df.head()"
   ]
  },
  {
   "cell_type": "markdown",
   "metadata": {},
   "source": [
    "## Convert the data to the `TrainingCorpus` format"
   ]
  },
  {
   "cell_type": "code",
   "execution_count": 12,
   "metadata": {
    "ExecuteTime": {
     "end_time": "2021-01-03T14:23:53.183721Z",
     "start_time": "2021-01-03T14:23:53.180852Z"
    }
   },
   "outputs": [],
   "source": [
    "data_dict = {}"
   ]
  },
  {
   "cell_type": "markdown",
   "metadata": {},
   "source": [
    "### Define the `docs` field"
   ]
  },
  {
   "cell_type": "code",
   "execution_count": 13,
   "metadata": {
    "ExecuteTime": {
     "end_time": "2021-01-03T14:23:53.608010Z",
     "start_time": "2021-01-03T14:23:53.604068Z"
    }
   },
   "outputs": [],
   "source": [
    "data_dict['docs'] = sampled_df.index.tolist()"
   ]
  },
  {
   "cell_type": "markdown",
   "metadata": {},
   "source": [
    "### Define the `texts` field"
   ]
  },
  {
   "cell_type": "code",
   "execution_count": 14,
   "metadata": {
    "ExecuteTime": {
     "end_time": "2021-01-03T14:23:53.987358Z",
     "start_time": "2021-01-03T14:23:53.983285Z"
    }
   },
   "outputs": [],
   "source": [
    "data_dict['texts'] = sampled_df['abstract'].tolist()"
   ]
  },
  {
   "cell_type": "markdown",
   "metadata": {},
   "source": [
    "### Define the `tokens` field"
   ]
  },
  {
   "cell_type": "code",
   "execution_count": 15,
   "metadata": {
    "ExecuteTime": {
     "end_time": "2021-01-03T14:23:54.435775Z",
     "start_time": "2021-01-03T14:23:54.431972Z"
    }
   },
   "outputs": [],
   "source": [
    "import sys\n",
    "sys.path.append(os.path.join(root_dir, src_dir))"
   ]
  },
  {
   "cell_type": "code",
   "execution_count": 16,
   "metadata": {
    "ExecuteTime": {
     "end_time": "2021-01-03T14:23:55.536618Z",
     "start_time": "2021-01-03T14:23:54.624458Z"
    }
   },
   "outputs": [],
   "source": [
    "from training import TrainingCorpus"
   ]
  },
  {
   "cell_type": "code",
   "execution_count": 17,
   "metadata": {
    "ExecuteTime": {
     "end_time": "2021-01-03T14:23:57.292222Z",
     "start_time": "2021-01-03T14:23:55.538173Z"
    }
   },
   "outputs": [],
   "source": [
    "data_dict['tokens'] = sampled_df['abstract']\\\n",
    "                        .map(lambda x: TrainingCorpus.tokenize(x)).tolist()"
   ]
  },
  {
   "cell_type": "markdown",
   "metadata": {
    "ExecuteTime": {
     "end_time": "2020-09-21T15:43:58.834548Z",
     "start_time": "2020-09-21T15:43:58.661651Z"
    }
   },
   "source": [
    "### Define the `labels` field"
   ]
  },
  {
   "cell_type": "code",
   "execution_count": 18,
   "metadata": {
    "ExecuteTime": {
     "end_time": "2021-01-03T14:23:57.299130Z",
     "start_time": "2021-01-03T14:23:57.294860Z"
    }
   },
   "outputs": [],
   "source": [
    "data_dict['labels'] = sorted(sampled_df['category'].unique().tolist())"
   ]
  },
  {
   "cell_type": "markdown",
   "metadata": {
    "ExecuteTime": {
     "end_time": "2020-09-21T15:46:39.827848Z",
     "start_time": "2020-09-21T15:46:39.820220Z"
    }
   },
   "source": [
    "### Define the `target` field"
   ]
  },
  {
   "cell_type": "code",
   "execution_count": 19,
   "metadata": {
    "ExecuteTime": {
     "end_time": "2021-01-03T14:23:57.305049Z",
     "start_time": "2021-01-03T14:23:57.300707Z"
    }
   },
   "outputs": [],
   "source": [
    "data_dict['target'] = sampled_df['category'].map(lambda x: [x]).to_dict()"
   ]
  },
  {
   "cell_type": "markdown",
   "metadata": {},
   "source": [
    "---"
   ]
  },
  {
   "cell_type": "markdown",
   "metadata": {},
   "source": [
    "## Save to JSON file"
   ]
  },
  {
   "cell_type": "code",
   "execution_count": 20,
   "metadata": {
    "ExecuteTime": {
     "end_time": "2021-01-03T14:23:57.308919Z",
     "start_time": "2021-01-03T14:23:57.306799Z"
    }
   },
   "outputs": [],
   "source": [
    "import json"
   ]
  },
  {
   "cell_type": "code",
   "execution_count": 21,
   "metadata": {
    "ExecuteTime": {
     "end_time": "2021-01-03T14:23:57.312982Z",
     "start_time": "2021-01-03T14:23:57.310450Z"
    }
   },
   "outputs": [],
   "source": [
    "dataset_filename = 'abstracts_corpus.json'\n",
    "dataset_filepath = os.path.join(root_dir, data_dir, dataset_filename)"
   ]
  },
  {
   "cell_type": "code",
   "execution_count": 22,
   "metadata": {
    "ExecuteTime": {
     "end_time": "2021-01-03T14:23:57.387812Z",
     "start_time": "2021-01-03T14:23:57.314771Z"
    }
   },
   "outputs": [],
   "source": [
    "with open(dataset_filepath, 'w') as fd:\n",
    "    json.dump(data_dict, fd)"
   ]
  },
  {
   "cell_type": "markdown",
   "metadata": {},
   "source": [
    "---"
   ]
  },
  {
   "cell_type": "markdown",
   "metadata": {},
   "source": [
    "## Open the dataset as an instance of the `TrainingCorpus` class"
   ]
  },
  {
   "cell_type": "code",
   "execution_count": 23,
   "metadata": {
    "ExecuteTime": {
     "end_time": "2021-01-03T14:23:58.422212Z",
     "start_time": "2021-01-03T14:23:58.326124Z"
    }
   },
   "outputs": [],
   "source": [
    "corpus = TrainingCorpus()\n",
    "corpus.load(dataset_filepath)"
   ]
  },
  {
   "cell_type": "code",
   "execution_count": 24,
   "metadata": {
    "ExecuteTime": {
     "end_time": "2021-01-03T14:23:58.618855Z",
     "start_time": "2021-01-03T14:23:58.613846Z"
    }
   },
   "outputs": [
    {
     "data": {
      "text/plain": [
       "'in this work, having in mind the construction of concurrent systems from components, we discuss the difference between actions and events. for this discussion, we propose an(other) architecture description language in which actions and events are made explicit in the description of a component and a system. our work builds from the ideas set forth by the categorical approach to the construction of software based systems from components advocated by goguen and burstall, in the context of institutions, and by fiadeiro and maibaum, in the context of temporal logic. in this context, we formalize a notion of a component as an element of an indexed category and we elicit a notion of a morphism between components as morphisms of this category. moreover, we elaborate on how this formalization captures, in a convenient manner, the underlying structure of a component and the basic interaction mechanisms for putting components together. further, we advance some ideas on how certain matters related to the openness and the compositionality of a component/system may be described in terms of classes of morphisms, thus potentially supporting a compositional rely/guarantee reasoning.'"
      ]
     },
     "execution_count": 24,
     "metadata": {},
     "output_type": "execute_result"
    }
   ],
   "source": [
    "corpus.get_text(0)"
   ]
  },
  {
   "cell_type": "code",
   "execution_count": 25,
   "metadata": {
    "ExecuteTime": {
     "end_time": "2021-01-03T14:23:59.193534Z",
     "start_time": "2021-01-03T14:23:59.185652Z"
    }
   },
   "outputs": [
    {
     "data": {
      "text/plain": [
       "['work',\n",
       " 'mind',\n",
       " 'construction',\n",
       " 'concurrent',\n",
       " 'systems',\n",
       " 'components',\n",
       " 'discuss',\n",
       " 'difference',\n",
       " 'actions',\n",
       " 'events',\n",
       " 'discussion',\n",
       " 'propose',\n",
       " 'architecture',\n",
       " 'description',\n",
       " 'language',\n",
       " 'actions',\n",
       " 'events',\n",
       " 'made',\n",
       " 'explicit',\n",
       " 'description',\n",
       " 'component',\n",
       " 'system',\n",
       " 'work',\n",
       " 'builds',\n",
       " 'ideas',\n",
       " 'set',\n",
       " 'forth',\n",
       " 'categorical',\n",
       " 'approach',\n",
       " 'construction',\n",
       " 'software',\n",
       " 'based',\n",
       " 'systems',\n",
       " 'components',\n",
       " 'advocated',\n",
       " 'goguen',\n",
       " 'burstall',\n",
       " 'context',\n",
       " 'institutions',\n",
       " 'fiadeiro',\n",
       " 'maibaum',\n",
       " 'context',\n",
       " 'temporal',\n",
       " 'logic',\n",
       " 'context',\n",
       " 'formalize',\n",
       " 'notion',\n",
       " 'component',\n",
       " 'element',\n",
       " 'indexed',\n",
       " 'category',\n",
       " 'elicit',\n",
       " 'notion',\n",
       " 'morphism',\n",
       " 'components',\n",
       " 'morphisms',\n",
       " 'category',\n",
       " 'moreover',\n",
       " 'elaborate',\n",
       " 'formalization',\n",
       " 'captures',\n",
       " 'convenient',\n",
       " 'manner',\n",
       " 'underlying',\n",
       " 'structure',\n",
       " 'component',\n",
       " 'basic',\n",
       " 'interaction',\n",
       " 'mechanisms',\n",
       " 'putting',\n",
       " 'components',\n",
       " 'together',\n",
       " 'advance',\n",
       " 'ideas',\n",
       " 'certain',\n",
       " 'matters',\n",
       " 'related',\n",
       " 'openness',\n",
       " 'compositionality',\n",
       " 'component/system',\n",
       " 'may',\n",
       " 'described',\n",
       " 'terms',\n",
       " 'classes',\n",
       " 'morphisms',\n",
       " 'thus',\n",
       " 'potentially',\n",
       " 'supporting',\n",
       " 'compositional',\n",
       " 'rely/guarantee',\n",
       " 'reasoning']"
      ]
     },
     "execution_count": 25,
     "metadata": {},
     "output_type": "execute_result"
    }
   ],
   "source": [
    "corpus.get_tokens(0)"
   ]
  },
  {
   "cell_type": "markdown",
   "metadata": {},
   "source": [
    "---"
   ]
  },
  {
   "cell_type": "markdown",
   "metadata": {},
   "source": [
    "## Compute noun chunks"
   ]
  },
  {
   "cell_type": "code",
   "execution_count": 26,
   "metadata": {
    "ExecuteTime": {
     "end_time": "2021-01-03T14:24:00.568416Z",
     "start_time": "2021-01-03T14:24:00.564305Z"
    }
   },
   "outputs": [],
   "source": [
    "chunks_filename = 'abstracts_chunks.json'\n",
    "chunks_filepath = os.path.join(root_dir, data_dir, chunks_filename)"
   ]
  },
  {
   "cell_type": "code",
   "execution_count": 27,
   "metadata": {
    "ExecuteTime": {
     "end_time": "2021-01-03T14:24:01.001287Z",
     "start_time": "2021-01-03T14:24:00.996420Z"
    }
   },
   "outputs": [
    {
     "data": {
      "text/plain": [
       "'../../data/corpus/abstracts_chunks.json'"
      ]
     },
     "execution_count": 27,
     "metadata": {},
     "output_type": "execute_result"
    }
   ],
   "source": [
    "chunks_filepath"
   ]
  },
  {
   "cell_type": "code",
   "execution_count": 28,
   "metadata": {
    "ExecuteTime": {
     "end_time": "2021-01-03T14:24:50.933927Z",
     "start_time": "2021-01-03T14:24:01.337021Z"
    }
   },
   "outputs": [
    {
     "name": "stderr",
     "output_type": "stream",
     "text": [
      "100%|██████████| 2000/2000 [00:48<00:00, 40.94it/s]\n"
     ]
    }
   ],
   "source": [
    "corpus.detect_chunks()"
   ]
  },
  {
   "cell_type": "code",
   "execution_count": 29,
   "metadata": {
    "ExecuteTime": {
     "end_time": "2021-01-03T14:24:51.016302Z",
     "start_time": "2021-01-03T14:24:50.936303Z"
    }
   },
   "outputs": [],
   "source": [
    "corpus.save_chunks(chunks_filepath)"
   ]
  },
  {
   "cell_type": "markdown",
   "metadata": {},
   "source": [
    "---"
   ]
  },
  {
   "cell_type": "markdown",
   "metadata": {},
   "source": [
    "## Load chunks"
   ]
  },
  {
   "cell_type": "code",
   "execution_count": 30,
   "metadata": {
    "ExecuteTime": {
     "end_time": "2021-01-03T14:24:51.044242Z",
     "start_time": "2021-01-03T14:24:51.018265Z"
    }
   },
   "outputs": [],
   "source": [
    "corpus.load_chunks(chunks_filepath)"
   ]
  },
  {
   "cell_type": "code",
   "execution_count": 31,
   "metadata": {
    "ExecuteTime": {
     "end_time": "2021-01-03T14:24:51.129650Z",
     "start_time": "2021-01-03T14:24:51.046030Z"
    }
   },
   "outputs": [
    {
     "data": {
      "text/plain": [
       "[('work', 113), ('mind', 3), ('construction', 47)]"
      ]
     },
     "execution_count": 31,
     "metadata": {},
     "output_type": "execute_result"
    }
   ],
   "source": [
    "list(corpus.noun_chunks.items())[:3]"
   ]
  },
  {
   "cell_type": "code",
   "execution_count": 32,
   "metadata": {
    "ExecuteTime": {
     "end_time": "2021-01-03T14:24:51.138252Z",
     "start_time": "2021-01-03T14:24:51.131138Z"
    }
   },
   "outputs": [
    {
     "data": {
      "text/plain": [
       "['work',\n",
       " 'mind',\n",
       " 'construction',\n",
       " 'concurrent_systems',\n",
       " 'components',\n",
       " 'discuss',\n",
       " 'difference',\n",
       " 'actions',\n",
       " 'events',\n",
       " 'discussion',\n",
       " 'propose',\n",
       " 'architecture_description_language',\n",
       " 'actions',\n",
       " 'events',\n",
       " 'made',\n",
       " 'explicit',\n",
       " 'description',\n",
       " 'component',\n",
       " 'system',\n",
       " 'work',\n",
       " 'builds',\n",
       " 'ideas',\n",
       " 'set',\n",
       " 'forth',\n",
       " 'categorical_approach',\n",
       " 'construction',\n",
       " 'software_based_systems',\n",
       " 'components',\n",
       " 'advocated',\n",
       " 'goguen',\n",
       " 'burstall',\n",
       " 'context',\n",
       " 'institutions',\n",
       " 'fiadeiro',\n",
       " 'maibaum',\n",
       " 'context',\n",
       " 'temporal_logic',\n",
       " 'context',\n",
       " 'formalize',\n",
       " 'notion',\n",
       " 'component',\n",
       " 'element',\n",
       " 'indexed_category',\n",
       " 'elicit',\n",
       " 'notion',\n",
       " 'morphism',\n",
       " 'components',\n",
       " 'morphisms',\n",
       " 'category',\n",
       " 'moreover',\n",
       " 'elaborate',\n",
       " 'formalization',\n",
       " 'captures',\n",
       " 'convenient_manner',\n",
       " 'underlying_structure',\n",
       " 'component',\n",
       " 'basic_interaction_mechanisms',\n",
       " 'putting',\n",
       " 'components',\n",
       " 'together',\n",
       " 'advance',\n",
       " 'ideas',\n",
       " 'certain_matters',\n",
       " 'related',\n",
       " 'openness',\n",
       " 'compositionality',\n",
       " 'component/system',\n",
       " 'may',\n",
       " 'described',\n",
       " 'terms',\n",
       " 'classes',\n",
       " 'morphisms',\n",
       " 'thus',\n",
       " 'potentially',\n",
       " 'supporting',\n",
       " 'compositional_rely/guarantee_reasoning']"
      ]
     },
     "execution_count": 32,
     "metadata": {},
     "output_type": "execute_result"
    }
   ],
   "source": [
    "corpus.get_chunk_document(0, threshold=0)"
   ]
  },
  {
   "cell_type": "code",
   "execution_count": 33,
   "metadata": {
    "ExecuteTime": {
     "end_time": "2021-01-03T14:24:51.142836Z",
     "start_time": "2021-01-03T14:24:51.139598Z"
    }
   },
   "outputs": [
    {
     "data": {
      "text/plain": [
       "'in this work, having in mind the construction of concurrent systems from components, we discuss the difference between actions and events. for this discussion, we propose an(other) architecture description language in which actions and events are made explicit in the description of a component and a system. our work builds from the ideas set forth by the categorical approach to the construction of software based systems from components advocated by goguen and burstall, in the context of institutions, and by fiadeiro and maibaum, in the context of temporal logic. in this context, we formalize a notion of a component as an element of an indexed category and we elicit a notion of a morphism between components as morphisms of this category. moreover, we elaborate on how this formalization captures, in a convenient manner, the underlying structure of a component and the basic interaction mechanisms for putting components together. further, we advance some ideas on how certain matters related to the openness and the compositionality of a component/system may be described in terms of classes of morphisms, thus potentially supporting a compositional rely/guarantee reasoning.'"
      ]
     },
     "execution_count": 33,
     "metadata": {},
     "output_type": "execute_result"
    }
   ],
   "source": [
    "corpus.get_text(0)"
   ]
  },
  {
   "cell_type": "code",
   "execution_count": 34,
   "metadata": {
    "ExecuteTime": {
     "end_time": "2021-01-03T14:24:51.148423Z",
     "start_time": "2021-01-03T14:24:51.144203Z"
    }
   },
   "outputs": [
    {
     "data": {
      "text/plain": [
       "['work',\n",
       " 'mind',\n",
       " 'construction',\n",
       " 'concurrent',\n",
       " 'systems',\n",
       " 'components',\n",
       " 'discuss',\n",
       " 'difference',\n",
       " 'actions',\n",
       " 'events',\n",
       " 'discussion',\n",
       " 'propose',\n",
       " 'architecture',\n",
       " 'description',\n",
       " 'language',\n",
       " 'actions',\n",
       " 'events',\n",
       " 'made',\n",
       " 'explicit',\n",
       " 'description',\n",
       " 'component',\n",
       " 'system',\n",
       " 'work',\n",
       " 'builds',\n",
       " 'ideas',\n",
       " 'set',\n",
       " 'forth',\n",
       " 'categorical',\n",
       " 'approach',\n",
       " 'construction',\n",
       " 'software',\n",
       " 'based',\n",
       " 'systems',\n",
       " 'components',\n",
       " 'advocated',\n",
       " 'goguen',\n",
       " 'burstall',\n",
       " 'context',\n",
       " 'institutions',\n",
       " 'fiadeiro',\n",
       " 'maibaum',\n",
       " 'context',\n",
       " 'temporal',\n",
       " 'logic',\n",
       " 'context',\n",
       " 'formalize',\n",
       " 'notion',\n",
       " 'component',\n",
       " 'element',\n",
       " 'indexed',\n",
       " 'category',\n",
       " 'elicit',\n",
       " 'notion',\n",
       " 'morphism',\n",
       " 'components',\n",
       " 'morphisms',\n",
       " 'category',\n",
       " 'moreover',\n",
       " 'elaborate',\n",
       " 'formalization',\n",
       " 'captures',\n",
       " 'convenient',\n",
       " 'manner',\n",
       " 'underlying',\n",
       " 'structure',\n",
       " 'component',\n",
       " 'basic',\n",
       " 'interaction',\n",
       " 'mechanisms',\n",
       " 'putting',\n",
       " 'components',\n",
       " 'together',\n",
       " 'advance',\n",
       " 'ideas',\n",
       " 'certain',\n",
       " 'matters',\n",
       " 'related',\n",
       " 'openness',\n",
       " 'compositionality',\n",
       " 'component/system',\n",
       " 'may',\n",
       " 'described',\n",
       " 'terms',\n",
       " 'classes',\n",
       " 'morphisms',\n",
       " 'thus',\n",
       " 'potentially',\n",
       " 'supporting',\n",
       " 'compositional',\n",
       " 'rely/guarantee',\n",
       " 'reasoning']"
      ]
     },
     "execution_count": 34,
     "metadata": {},
     "output_type": "execute_result"
    }
   ],
   "source": [
    "corpus.get_tokens(0)"
   ]
  },
  {
   "cell_type": "markdown",
   "metadata": {},
   "source": [
    "---"
   ]
  }
 ],
 "metadata": {
  "kernelspec": {
   "display_name": "Python 3",
   "language": "python",
   "name": "python3"
  },
  "language_info": {
   "codemirror_mode": {
    "name": "ipython",
    "version": 3
   },
   "file_extension": ".py",
   "mimetype": "text/x-python",
   "name": "python",
   "nbconvert_exporter": "python",
   "pygments_lexer": "ipython3",
   "version": "3.8.1"
  },
  "toc": {
   "base_numbering": 1,
   "nav_menu": {},
   "number_sections": true,
   "sideBar": true,
   "skip_h1_title": false,
   "title_cell": "Table of Contents",
   "title_sidebar": "Contents",
   "toc_cell": false,
   "toc_position": {},
   "toc_section_display": true,
   "toc_window_display": false
  }
 },
 "nbformat": 4,
 "nbformat_minor": 2
}
