{
 "cells": [
  {
   "cell_type": "markdown",
   "metadata": {},
   "source": [
    "# Write dataset to excel"
   ]
  },
  {
   "cell_type": "markdown",
   "metadata": {},
   "source": [
    "## Load the data"
   ]
  },
  {
   "cell_type": "code",
   "execution_count": 1,
   "metadata": {
    "ExecuteTime": {
     "end_time": "2021-01-04T10:56:41.619003Z",
     "start_time": "2021-01-04T10:56:41.612311Z"
    }
   },
   "outputs": [],
   "source": [
    "root_dir = '../..'\n",
    "src_dir = 'src'\n",
    "data_dir = 'data/corpus'"
   ]
  },
  {
   "cell_type": "code",
   "execution_count": 2,
   "metadata": {
    "ExecuteTime": {
     "end_time": "2021-01-04T10:56:41.813133Z",
     "start_time": "2021-01-04T10:56:41.808854Z"
    }
   },
   "outputs": [],
   "source": [
    "import os\n",
    "import sys"
   ]
  },
  {
   "cell_type": "code",
   "execution_count": 3,
   "metadata": {
    "ExecuteTime": {
     "end_time": "2021-01-04T10:56:42.041780Z",
     "start_time": "2021-01-04T10:56:42.037990Z"
    }
   },
   "outputs": [],
   "source": [
    "sys.path.append(os.path.join(root_dir, src_dir))"
   ]
  },
  {
   "cell_type": "code",
   "execution_count": 4,
   "metadata": {
    "ExecuteTime": {
     "end_time": "2021-01-04T10:56:43.776318Z",
     "start_time": "2021-01-04T10:56:42.240459Z"
    }
   },
   "outputs": [],
   "source": [
    "from training import TrainingCorpus"
   ]
  },
  {
   "cell_type": "code",
   "execution_count": 5,
   "metadata": {
    "ExecuteTime": {
     "end_time": "2021-01-04T10:56:43.787695Z",
     "start_time": "2021-01-04T10:56:43.778795Z"
    }
   },
   "outputs": [],
   "source": [
    "dataset_name = 'stackoverflow'"
   ]
  },
  {
   "cell_type": "code",
   "execution_count": 6,
   "metadata": {
    "ExecuteTime": {
     "end_time": "2021-01-04T10:56:43.797582Z",
     "start_time": "2021-01-04T10:56:43.790188Z"
    }
   },
   "outputs": [],
   "source": [
    "dataset_filename = f'{dataset_name}_corpus.json'\n",
    "chunks_filename = f'{dataset_name}_chunks.json'"
   ]
  },
  {
   "cell_type": "code",
   "execution_count": 7,
   "metadata": {
    "ExecuteTime": {
     "end_time": "2021-01-04T10:56:44.020494Z",
     "start_time": "2021-01-04T10:56:43.799700Z"
    }
   },
   "outputs": [],
   "source": [
    "corpus = TrainingCorpus()\n",
    "corpus.load(os.path.join(root_dir, data_dir, dataset_filename))\n",
    "corpus.load_chunks(os.path.join(root_dir, data_dir, chunks_filename))"
   ]
  },
  {
   "cell_type": "code",
   "execution_count": 8,
   "metadata": {
    "ExecuteTime": {
     "end_time": "2021-01-04T10:56:44.046198Z",
     "start_time": "2021-01-04T10:56:44.026842Z"
    }
   },
   "outputs": [
    {
     "data": {
      "text/plain": [
       "'truncate string net given string projects multiply_amada multiplyweb shared homeaspx want remove trailing characters third result projects multiply_amada would like without using split charindex'"
      ]
     },
     "execution_count": 8,
     "metadata": {},
     "output_type": "execute_result"
    }
   ],
   "source": [
    "corpus.get_text(0)"
   ]
  },
  {
   "cell_type": "code",
   "execution_count": 9,
   "metadata": {
    "ExecuteTime": {
     "end_time": "2021-01-04T10:56:44.059330Z",
     "start_time": "2021-01-04T10:56:44.051068Z"
    }
   },
   "outputs": [
    {
     "data": {
      "text/plain": [
       "['truncate',\n",
       " 'string',\n",
       " 'net',\n",
       " 'given',\n",
       " 'string',\n",
       " 'projects',\n",
       " 'multiply_amada',\n",
       " 'multiplyweb',\n",
       " 'shared',\n",
       " 'homeaspx',\n",
       " 'want',\n",
       " 'remove',\n",
       " 'trailing',\n",
       " 'characters',\n",
       " 'third',\n",
       " 'result',\n",
       " 'projects',\n",
       " 'multiply_amada',\n",
       " 'would',\n",
       " 'like',\n",
       " 'without',\n",
       " 'using',\n",
       " 'split',\n",
       " 'charindex']"
      ]
     },
     "execution_count": 9,
     "metadata": {},
     "output_type": "execute_result"
    }
   ],
   "source": [
    "corpus.get_tokens(0)"
   ]
  },
  {
   "cell_type": "code",
   "execution_count": 10,
   "metadata": {
    "ExecuteTime": {
     "end_time": "2021-01-04T10:56:44.077619Z",
     "start_time": "2021-01-04T10:56:44.067182Z"
    }
   },
   "outputs": [
    {
     "data": {
      "text/plain": [
       "['truncate',\n",
       " 'string',\n",
       " 'net',\n",
       " 'given',\n",
       " 'string',\n",
       " 'projects',\n",
       " 'multiply_amada',\n",
       " 'multiplyweb',\n",
       " 'shared',\n",
       " 'homeaspx',\n",
       " 'want',\n",
       " 'remove',\n",
       " 'trailing',\n",
       " 'characters',\n",
       " 'third_result_projects',\n",
       " 'multiply_amada',\n",
       " 'would',\n",
       " 'like',\n",
       " 'without',\n",
       " 'using',\n",
       " 'split_charindex']"
      ]
     },
     "execution_count": 10,
     "metadata": {},
     "output_type": "execute_result"
    }
   ],
   "source": [
    "corpus.get_chunk_document(0, threshold=0)"
   ]
  },
  {
   "cell_type": "markdown",
   "metadata": {},
   "source": [
    "---"
   ]
  },
  {
   "cell_type": "markdown",
   "metadata": {},
   "source": [
    "## Build a DataFrame"
   ]
  },
  {
   "cell_type": "code",
   "execution_count": 11,
   "metadata": {
    "ExecuteTime": {
     "end_time": "2021-01-04T10:56:45.075202Z",
     "start_time": "2021-01-04T10:56:44.728395Z"
    }
   },
   "outputs": [],
   "source": [
    "import pandas as pd"
   ]
  },
  {
   "cell_type": "code",
   "execution_count": 12,
   "metadata": {
    "ExecuteTime": {
     "end_time": "2021-01-04T10:56:54.652219Z",
     "start_time": "2021-01-04T10:56:45.080641Z"
    }
   },
   "outputs": [],
   "source": [
    "df =pd.DataFrame([{'doc_id': doc_id,\n",
    "                   'chunk_doc': ' '.join(corpus.get_chunk_document(doc_id, threshold=0)),\n",
    "                   'label': corpus.target[doc_id][0]} for doc_id in corpus.docs])"
   ]
  },
  {
   "cell_type": "code",
   "execution_count": 13,
   "metadata": {
    "ExecuteTime": {
     "end_time": "2021-01-04T10:56:54.676363Z",
     "start_time": "2021-01-04T10:56:54.658172Z"
    }
   },
   "outputs": [
    {
     "data": {
      "text/html": [
       "<div>\n",
       "<style scoped>\n",
       "    .dataframe tbody tr th:only-of-type {\n",
       "        vertical-align: middle;\n",
       "    }\n",
       "\n",
       "    .dataframe tbody tr th {\n",
       "        vertical-align: top;\n",
       "    }\n",
       "\n",
       "    .dataframe thead th {\n",
       "        text-align: right;\n",
       "    }\n",
       "</style>\n",
       "<table border=\"1\" class=\"dataframe\">\n",
       "  <thead>\n",
       "    <tr style=\"text-align: right;\">\n",
       "      <th></th>\n",
       "      <th>doc_id</th>\n",
       "      <th>chunk_doc</th>\n",
       "      <th>label</th>\n",
       "    </tr>\n",
       "  </thead>\n",
       "  <tbody>\n",
       "    <tr>\n",
       "      <th>0</th>\n",
       "      <td>0</td>\n",
       "      <td>truncate string net given string projects mult...</td>\n",
       "      <td>.net</td>\n",
       "    </tr>\n",
       "    <tr>\n",
       "      <th>1</th>\n",
       "      <td>1</td>\n",
       "      <td>net_windows_application automatically call pro...</td>\n",
       "      <td>.net</td>\n",
       "    </tr>\n",
       "    <tr>\n",
       "      <th>2</th>\n",
       "      <td>2</td>\n",
       "      <td>c_convert string unique id let assume_string_n...</td>\n",
       "      <td>.net</td>\n",
       "    </tr>\n",
       "    <tr>\n",
       "      <th>3</th>\n",
       "      <td>3</td>\n",
       "      <td>consolewriteline output webservice go consolew...</td>\n",
       "      <td>.net</td>\n",
       "    </tr>\n",
       "    <tr>\n",
       "      <th>4</th>\n",
       "      <td>4</td>\n",
       "      <td>net_applications_immune_classic_pointer_errors...</td>\n",
       "      <td>.net</td>\n",
       "    </tr>\n",
       "  </tbody>\n",
       "</table>\n",
       "</div>"
      ],
      "text/plain": [
       "   doc_id                                          chunk_doc label\n",
       "0       0  truncate string net given string projects mult...  .net\n",
       "1       1  net_windows_application automatically call pro...  .net\n",
       "2       2  c_convert string unique id let assume_string_n...  .net\n",
       "3       3  consolewriteline output webservice go consolew...  .net\n",
       "4       4  net_applications_immune_classic_pointer_errors...  .net"
      ]
     },
     "execution_count": 13,
     "metadata": {},
     "output_type": "execute_result"
    }
   ],
   "source": [
    "df.head()"
   ]
  },
  {
   "cell_type": "markdown",
   "metadata": {},
   "source": [
    "---"
   ]
  },
  {
   "cell_type": "markdown",
   "metadata": {},
   "source": [
    "## Write to excel"
   ]
  },
  {
   "cell_type": "code",
   "execution_count": 14,
   "metadata": {
    "ExecuteTime": {
     "end_time": "2021-01-04T10:56:54.685895Z",
     "start_time": "2021-01-04T10:56:54.678459Z"
    }
   },
   "outputs": [],
   "source": [
    "filename = f'{dataset_name}_corpus.xlsx'"
   ]
  },
  {
   "cell_type": "code",
   "execution_count": 15,
   "metadata": {
    "ExecuteTime": {
     "end_time": "2021-01-04T10:56:55.828018Z",
     "start_time": "2021-01-04T10:56:54.687849Z"
    }
   },
   "outputs": [],
   "source": [
    "df.to_excel(os.path.join(root_dir, data_dir, filename))"
   ]
  },
  {
   "cell_type": "markdown",
   "metadata": {},
   "source": [
    "---"
   ]
  }
 ],
 "metadata": {
  "kernelspec": {
   "display_name": "Python 3",
   "language": "python",
   "name": "python3"
  },
  "language_info": {
   "codemirror_mode": {
    "name": "ipython",
    "version": 3
   },
   "file_extension": ".py",
   "mimetype": "text/x-python",
   "name": "python",
   "nbconvert_exporter": "python",
   "pygments_lexer": "ipython3",
   "version": "3.8.1"
  },
  "toc": {
   "base_numbering": 1,
   "nav_menu": {},
   "number_sections": true,
   "sideBar": true,
   "skip_h1_title": false,
   "title_cell": "Table of Contents",
   "title_sidebar": "Contents",
   "toc_cell": false,
   "toc_position": {},
   "toc_section_display": true,
   "toc_window_display": false
  }
 },
 "nbformat": 4,
 "nbformat_minor": 4
}
