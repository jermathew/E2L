{
 "cells": [
  {
   "cell_type": "markdown",
   "metadata": {},
   "source": [
    "# Write alaska dataset to excel"
   ]
  },
  {
   "cell_type": "markdown",
   "metadata": {},
   "source": [
    "## Load the data"
   ]
  },
  {
   "cell_type": "code",
   "execution_count": 1,
   "metadata": {
    "ExecuteTime": {
     "end_time": "2021-03-17T11:17:22.887253Z",
     "start_time": "2021-03-17T11:17:22.884180Z"
    }
   },
   "outputs": [],
   "source": [
    "root_dir = '../..'\n",
    "src_dir = 'src'\n",
    "data_dir = 'data/corpus'"
   ]
  },
  {
   "cell_type": "code",
   "execution_count": 2,
   "metadata": {
    "ExecuteTime": {
     "end_time": "2021-03-17T11:17:23.109065Z",
     "start_time": "2021-03-17T11:17:23.105437Z"
    }
   },
   "outputs": [],
   "source": [
    "import os\n",
    "import sys"
   ]
  },
  {
   "cell_type": "code",
   "execution_count": 3,
   "metadata": {
    "ExecuteTime": {
     "end_time": "2021-03-17T11:17:23.567736Z",
     "start_time": "2021-03-17T11:17:23.564578Z"
    }
   },
   "outputs": [],
   "source": [
    "sys.path.append(os.path.join(root_dir, src_dir))"
   ]
  },
  {
   "cell_type": "code",
   "execution_count": 4,
   "metadata": {
    "ExecuteTime": {
     "end_time": "2021-03-17T11:17:24.743162Z",
     "start_time": "2021-03-17T11:17:23.847432Z"
    }
   },
   "outputs": [],
   "source": [
    "from training import TrainingCorpus"
   ]
  },
  {
   "cell_type": "code",
   "execution_count": 5,
   "metadata": {
    "ExecuteTime": {
     "end_time": "2021-03-17T11:17:24.747746Z",
     "start_time": "2021-03-17T11:17:24.745126Z"
    }
   },
   "outputs": [],
   "source": [
    "alaska_dataset_filename = 'alaska_corpus_noisy.json'\n",
    "alaska_chunks_filename = 'alaska_chunks_noisy.json'"
   ]
  },
  {
   "cell_type": "code",
   "execution_count": 6,
   "metadata": {
    "ExecuteTime": {
     "end_time": "2021-03-17T11:17:24.769165Z",
     "start_time": "2021-03-17T11:17:24.749737Z"
    }
   },
   "outputs": [],
   "source": [
    "alaska_corpus = TrainingCorpus()\n",
    "alaska_corpus.load(os.path.join(root_dir, data_dir, alaska_dataset_filename))\n",
    "alaska_corpus.load_chunks(os.path.join(root_dir, data_dir, alaska_chunks_filename))"
   ]
  },
  {
   "cell_type": "code",
   "execution_count": 7,
   "metadata": {
    "ExecuteTime": {
     "end_time": "2021-03-17T11:17:24.867268Z",
     "start_time": "2021-03-17T11:17:24.851363Z"
    }
   },
   "outputs": [
    {
     "data": {
      "text/plain": [
       "'nikon d3200 dslr camera with 18 55mm and 55 200mm lenses black | ebay'"
      ]
     },
     "execution_count": 7,
     "metadata": {},
     "output_type": "execute_result"
    }
   ],
   "source": [
    "alaska_corpus.get_text(0)"
   ]
  },
  {
   "cell_type": "code",
   "execution_count": 8,
   "metadata": {
    "ExecuteTime": {
     "end_time": "2021-03-17T11:17:25.183008Z",
     "start_time": "2021-03-17T11:17:25.177595Z"
    }
   },
   "outputs": [
    {
     "data": {
      "text/plain": [
       "['nikon',\n",
       " 'd3200',\n",
       " 'dslr',\n",
       " 'camera',\n",
       " '18',\n",
       " '55mm',\n",
       " '55',\n",
       " '200mm',\n",
       " 'lenses',\n",
       " 'black',\n",
       " 'ebay']"
      ]
     },
     "execution_count": 8,
     "metadata": {},
     "output_type": "execute_result"
    }
   ],
   "source": [
    "alaska_corpus.get_tokens(0)"
   ]
  },
  {
   "cell_type": "code",
   "execution_count": 9,
   "metadata": {
    "ExecuteTime": {
     "end_time": "2021-03-17T11:17:25.867243Z",
     "start_time": "2021-03-17T11:17:25.861164Z"
    }
   },
   "outputs": [
    {
     "data": {
      "text/plain": [
       "['nikon_d3200_dslr_camera', '18_55mm', '55_200mm_lenses', 'black_ebay']"
      ]
     },
     "execution_count": 9,
     "metadata": {},
     "output_type": "execute_result"
    }
   ],
   "source": [
    "alaska_corpus.get_chunk_document(0, threshold=0)"
   ]
  },
  {
   "cell_type": "markdown",
   "metadata": {},
   "source": [
    "---"
   ]
  },
  {
   "cell_type": "markdown",
   "metadata": {},
   "source": [
    "## Build a DataFrame"
   ]
  },
  {
   "cell_type": "code",
   "execution_count": 10,
   "metadata": {
    "ExecuteTime": {
     "end_time": "2021-03-17T11:17:32.476662Z",
     "start_time": "2021-03-17T11:17:32.218738Z"
    }
   },
   "outputs": [],
   "source": [
    "import pandas as pd"
   ]
  },
  {
   "cell_type": "code",
   "execution_count": 11,
   "metadata": {
    "ExecuteTime": {
     "end_time": "2021-03-17T11:17:32.786114Z",
     "start_time": "2021-03-17T11:17:32.676959Z"
    }
   },
   "outputs": [],
   "source": [
    "alaska_df =pd.DataFrame([{'doc_id': doc_id,\n",
    "                          'chunk_doc': ' '.join(alaska_corpus.get_chunk_document(doc_id, threshold=0)),\n",
    "                          'label': alaska_corpus.target[doc_id][0]} for doc_id in alaska_corpus.docs])"
   ]
  },
  {
   "cell_type": "code",
   "execution_count": 12,
   "metadata": {
    "ExecuteTime": {
     "end_time": "2021-03-17T11:17:33.638657Z",
     "start_time": "2021-03-17T11:17:33.628147Z"
    }
   },
   "outputs": [
    {
     "data": {
      "text/html": [
       "<div>\n",
       "<style scoped>\n",
       "    .dataframe tbody tr th:only-of-type {\n",
       "        vertical-align: middle;\n",
       "    }\n",
       "\n",
       "    .dataframe tbody tr th {\n",
       "        vertical-align: top;\n",
       "    }\n",
       "\n",
       "    .dataframe thead th {\n",
       "        text-align: right;\n",
       "    }\n",
       "</style>\n",
       "<table border=\"1\" class=\"dataframe\">\n",
       "  <thead>\n",
       "    <tr style=\"text-align: right;\">\n",
       "      <th></th>\n",
       "      <th>doc_id</th>\n",
       "      <th>chunk_doc</th>\n",
       "      <th>label</th>\n",
       "    </tr>\n",
       "  </thead>\n",
       "  <tbody>\n",
       "    <tr>\n",
       "      <th>0</th>\n",
       "      <td>0</td>\n",
       "      <td>nikon_d3200_dslr_camera 18_55mm 55_200mm_lense...</td>\n",
       "      <td>ENTITY#44</td>\n",
       "    </tr>\n",
       "    <tr>\n",
       "      <th>1</th>\n",
       "      <td>1</td>\n",
       "      <td>nikon_d3200 18-55/3 5-5 6 55-200/4 0-5 6 new_z...</td>\n",
       "      <td>ENTITY#44</td>\n",
       "    </tr>\n",
       "    <tr>\n",
       "      <th>2</th>\n",
       "      <td>2</td>\n",
       "      <td>nikon_d3200 digital_dslr_camera w 18 55mm 55 2...</td>\n",
       "      <td>ENTITY#44</td>\n",
       "    </tr>\n",
       "    <tr>\n",
       "      <th>3</th>\n",
       "      <td>3</td>\n",
       "      <td>nikon_d3200_digital_dslr_camera 24 1 w 18 55mm...</td>\n",
       "      <td>ENTITY#44</td>\n",
       "    </tr>\n",
       "    <tr>\n",
       "      <th>4</th>\n",
       "      <td>4</td>\n",
       "      <td>nikon_d3200 body_price india bangalore hyderab...</td>\n",
       "      <td>ENTITY#44</td>\n",
       "    </tr>\n",
       "  </tbody>\n",
       "</table>\n",
       "</div>"
      ],
      "text/plain": [
       "   doc_id                                          chunk_doc      label\n",
       "0       0  nikon_d3200_dslr_camera 18_55mm 55_200mm_lense...  ENTITY#44\n",
       "1       1  nikon_d3200 18-55/3 5-5 6 55-200/4 0-5 6 new_z...  ENTITY#44\n",
       "2       2  nikon_d3200 digital_dslr_camera w 18 55mm 55 2...  ENTITY#44\n",
       "3       3  nikon_d3200_digital_dslr_camera 24 1 w 18 55mm...  ENTITY#44\n",
       "4       4  nikon_d3200 body_price india bangalore hyderab...  ENTITY#44"
      ]
     },
     "execution_count": 12,
     "metadata": {},
     "output_type": "execute_result"
    }
   ],
   "source": [
    "alaska_df.head()"
   ]
  },
  {
   "cell_type": "markdown",
   "metadata": {},
   "source": [
    "---"
   ]
  },
  {
   "cell_type": "markdown",
   "metadata": {},
   "source": [
    "## Write to excel"
   ]
  },
  {
   "cell_type": "code",
   "execution_count": 13,
   "metadata": {
    "ExecuteTime": {
     "end_time": "2021-03-17T11:17:36.785546Z",
     "start_time": "2021-03-17T11:17:36.782538Z"
    }
   },
   "outputs": [],
   "source": [
    "filename = 'alaska_corpus_noisy.xlsx'"
   ]
  },
  {
   "cell_type": "code",
   "execution_count": 14,
   "metadata": {
    "ExecuteTime": {
     "end_time": "2021-03-17T11:17:38.057177Z",
     "start_time": "2021-03-17T11:17:37.415186Z"
    }
   },
   "outputs": [],
   "source": [
    "alaska_df.to_excel(os.path.join(root_dir, data_dir, filename))"
   ]
  },
  {
   "cell_type": "markdown",
   "metadata": {},
   "source": [
    "---"
   ]
  }
 ],
 "metadata": {
  "kernelspec": {
   "display_name": "Python 3",
   "language": "python",
   "name": "python3"
  },
  "language_info": {
   "codemirror_mode": {
    "name": "ipython",
    "version": 3
   },
   "file_extension": ".py",
   "mimetype": "text/x-python",
   "name": "python",
   "nbconvert_exporter": "python",
   "pygments_lexer": "ipython3",
   "version": "3.8.1"
  },
  "toc": {
   "base_numbering": 1,
   "nav_menu": {},
   "number_sections": true,
   "sideBar": true,
   "skip_h1_title": false,
   "title_cell": "Table of Contents",
   "title_sidebar": "Contents",
   "toc_cell": false,
   "toc_position": {},
   "toc_section_display": true,
   "toc_window_display": false
  }
 },
 "nbformat": 4,
 "nbformat_minor": 4
}
