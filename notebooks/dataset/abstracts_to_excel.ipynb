{
 "cells": [
  {
   "cell_type": "markdown",
   "metadata": {},
   "source": [
    "# Write dataset to excel"
   ]
  },
  {
   "cell_type": "markdown",
   "metadata": {},
   "source": [
    "## Load the data"
   ]
  },
  {
   "cell_type": "code",
   "execution_count": 1,
   "metadata": {
    "ExecuteTime": {
     "end_time": "2021-01-04T10:55:35.206543Z",
     "start_time": "2021-01-04T10:55:35.199998Z"
    }
   },
   "outputs": [],
   "source": [
    "root_dir = '../..'\n",
    "src_dir = 'src'\n",
    "data_dir = 'data/corpus'"
   ]
  },
  {
   "cell_type": "code",
   "execution_count": 2,
   "metadata": {
    "ExecuteTime": {
     "end_time": "2021-01-04T10:55:35.436089Z",
     "start_time": "2021-01-04T10:55:35.430571Z"
    }
   },
   "outputs": [],
   "source": [
    "import os\n",
    "import sys"
   ]
  },
  {
   "cell_type": "code",
   "execution_count": 3,
   "metadata": {
    "ExecuteTime": {
     "end_time": "2021-01-04T10:55:35.706636Z",
     "start_time": "2021-01-04T10:55:35.698469Z"
    }
   },
   "outputs": [],
   "source": [
    "sys.path.append(os.path.join(root_dir, src_dir))"
   ]
  },
  {
   "cell_type": "code",
   "execution_count": 4,
   "metadata": {
    "ExecuteTime": {
     "end_time": "2021-01-04T10:55:37.555611Z",
     "start_time": "2021-01-04T10:55:35.935719Z"
    }
   },
   "outputs": [],
   "source": [
    "from training import TrainingCorpus"
   ]
  },
  {
   "cell_type": "code",
   "execution_count": 5,
   "metadata": {
    "ExecuteTime": {
     "end_time": "2021-01-04T10:55:37.570278Z",
     "start_time": "2021-01-04T10:55:37.562459Z"
    }
   },
   "outputs": [],
   "source": [
    "dataset_name = 'abstracts'"
   ]
  },
  {
   "cell_type": "code",
   "execution_count": 6,
   "metadata": {
    "ExecuteTime": {
     "end_time": "2021-01-04T10:55:37.585155Z",
     "start_time": "2021-01-04T10:55:37.577789Z"
    }
   },
   "outputs": [],
   "source": [
    "dataset_filename = f'{dataset_name}_corpus.json'\n",
    "chunks_filename = f'{dataset_name}_chunks.json'"
   ]
  },
  {
   "cell_type": "code",
   "execution_count": 7,
   "metadata": {
    "ExecuteTime": {
     "end_time": "2021-01-04T10:55:37.754249Z",
     "start_time": "2021-01-04T10:55:37.593460Z"
    }
   },
   "outputs": [],
   "source": [
    "corpus = TrainingCorpus()\n",
    "corpus.load(os.path.join(root_dir, data_dir, dataset_filename))\n",
    "corpus.load_chunks(os.path.join(root_dir, data_dir, chunks_filename))"
   ]
  },
  {
   "cell_type": "code",
   "execution_count": 8,
   "metadata": {
    "ExecuteTime": {
     "end_time": "2021-01-04T10:55:40.166029Z",
     "start_time": "2021-01-04T10:55:40.148097Z"
    }
   },
   "outputs": [
    {
     "data": {
      "text/plain": [
       "'in this work, having in mind the construction of concurrent systems from components, we discuss the difference between actions and events. for this discussion, we propose an(other) architecture description language in which actions and events are made explicit in the description of a component and a system. our work builds from the ideas set forth by the categorical approach to the construction of software based systems from components advocated by goguen and burstall, in the context of institutions, and by fiadeiro and maibaum, in the context of temporal logic. in this context, we formalize a notion of a component as an element of an indexed category and we elicit a notion of a morphism between components as morphisms of this category. moreover, we elaborate on how this formalization captures, in a convenient manner, the underlying structure of a component and the basic interaction mechanisms for putting components together. further, we advance some ideas on how certain matters related to the openness and the compositionality of a component/system may be described in terms of classes of morphisms, thus potentially supporting a compositional rely/guarantee reasoning.'"
      ]
     },
     "execution_count": 8,
     "metadata": {},
     "output_type": "execute_result"
    }
   ],
   "source": [
    "corpus.get_text(0)"
   ]
  },
  {
   "cell_type": "code",
   "execution_count": 9,
   "metadata": {
    "ExecuteTime": {
     "end_time": "2021-01-04T10:55:40.645643Z",
     "start_time": "2021-01-04T10:55:40.635069Z"
    }
   },
   "outputs": [
    {
     "data": {
      "text/plain": [
       "['work',\n",
       " 'mind',\n",
       " 'construction',\n",
       " 'concurrent',\n",
       " 'systems',\n",
       " 'components',\n",
       " 'discuss',\n",
       " 'difference',\n",
       " 'actions',\n",
       " 'events',\n",
       " 'discussion',\n",
       " 'propose',\n",
       " 'architecture',\n",
       " 'description',\n",
       " 'language',\n",
       " 'actions',\n",
       " 'events',\n",
       " 'made',\n",
       " 'explicit',\n",
       " 'description',\n",
       " 'component',\n",
       " 'system',\n",
       " 'work',\n",
       " 'builds',\n",
       " 'ideas',\n",
       " 'set',\n",
       " 'forth',\n",
       " 'categorical',\n",
       " 'approach',\n",
       " 'construction',\n",
       " 'software',\n",
       " 'based',\n",
       " 'systems',\n",
       " 'components',\n",
       " 'advocated',\n",
       " 'goguen',\n",
       " 'burstall',\n",
       " 'context',\n",
       " 'institutions',\n",
       " 'fiadeiro',\n",
       " 'maibaum',\n",
       " 'context',\n",
       " 'temporal',\n",
       " 'logic',\n",
       " 'context',\n",
       " 'formalize',\n",
       " 'notion',\n",
       " 'component',\n",
       " 'element',\n",
       " 'indexed',\n",
       " 'category',\n",
       " 'elicit',\n",
       " 'notion',\n",
       " 'morphism',\n",
       " 'components',\n",
       " 'morphisms',\n",
       " 'category',\n",
       " 'moreover',\n",
       " 'elaborate',\n",
       " 'formalization',\n",
       " 'captures',\n",
       " 'convenient',\n",
       " 'manner',\n",
       " 'underlying',\n",
       " 'structure',\n",
       " 'component',\n",
       " 'basic',\n",
       " 'interaction',\n",
       " 'mechanisms',\n",
       " 'putting',\n",
       " 'components',\n",
       " 'together',\n",
       " 'advance',\n",
       " 'ideas',\n",
       " 'certain',\n",
       " 'matters',\n",
       " 'related',\n",
       " 'openness',\n",
       " 'compositionality',\n",
       " 'component/system',\n",
       " 'may',\n",
       " 'described',\n",
       " 'terms',\n",
       " 'classes',\n",
       " 'morphisms',\n",
       " 'thus',\n",
       " 'potentially',\n",
       " 'supporting',\n",
       " 'compositional',\n",
       " 'rely/guarantee',\n",
       " 'reasoning']"
      ]
     },
     "execution_count": 9,
     "metadata": {},
     "output_type": "execute_result"
    }
   ],
   "source": [
    "corpus.get_tokens(0)"
   ]
  },
  {
   "cell_type": "code",
   "execution_count": 10,
   "metadata": {
    "ExecuteTime": {
     "end_time": "2021-01-04T10:55:42.262796Z",
     "start_time": "2021-01-04T10:55:42.245837Z"
    }
   },
   "outputs": [
    {
     "data": {
      "text/plain": [
       "['work',\n",
       " 'mind',\n",
       " 'construction',\n",
       " 'concurrent_systems',\n",
       " 'components',\n",
       " 'discuss',\n",
       " 'difference',\n",
       " 'actions',\n",
       " 'events',\n",
       " 'discussion',\n",
       " 'propose',\n",
       " 'architecture_description_language',\n",
       " 'actions',\n",
       " 'events',\n",
       " 'made',\n",
       " 'explicit',\n",
       " 'description',\n",
       " 'component',\n",
       " 'system',\n",
       " 'work',\n",
       " 'builds',\n",
       " 'ideas',\n",
       " 'set',\n",
       " 'forth',\n",
       " 'categorical_approach',\n",
       " 'construction',\n",
       " 'software_based_systems',\n",
       " 'components',\n",
       " 'advocated',\n",
       " 'goguen',\n",
       " 'burstall',\n",
       " 'context',\n",
       " 'institutions',\n",
       " 'fiadeiro',\n",
       " 'maibaum',\n",
       " 'context',\n",
       " 'temporal_logic',\n",
       " 'context',\n",
       " 'formalize',\n",
       " 'notion',\n",
       " 'component',\n",
       " 'element',\n",
       " 'indexed_category',\n",
       " 'elicit',\n",
       " 'notion',\n",
       " 'morphism',\n",
       " 'components',\n",
       " 'morphisms',\n",
       " 'category',\n",
       " 'moreover',\n",
       " 'elaborate',\n",
       " 'formalization',\n",
       " 'captures',\n",
       " 'convenient_manner',\n",
       " 'underlying_structure',\n",
       " 'component',\n",
       " 'basic_interaction_mechanisms',\n",
       " 'putting',\n",
       " 'components',\n",
       " 'together',\n",
       " 'advance',\n",
       " 'ideas',\n",
       " 'certain_matters',\n",
       " 'related',\n",
       " 'openness',\n",
       " 'compositionality',\n",
       " 'component/system',\n",
       " 'may',\n",
       " 'described',\n",
       " 'terms',\n",
       " 'classes',\n",
       " 'morphisms',\n",
       " 'thus',\n",
       " 'potentially',\n",
       " 'supporting',\n",
       " 'compositional_rely/guarantee_reasoning']"
      ]
     },
     "execution_count": 10,
     "metadata": {},
     "output_type": "execute_result"
    }
   ],
   "source": [
    "corpus.get_chunk_document(0, threshold=0)"
   ]
  },
  {
   "cell_type": "markdown",
   "metadata": {},
   "source": [
    "---"
   ]
  },
  {
   "cell_type": "markdown",
   "metadata": {},
   "source": [
    "## Build a DataFrame"
   ]
  },
  {
   "cell_type": "code",
   "execution_count": 11,
   "metadata": {
    "ExecuteTime": {
     "end_time": "2021-01-04T10:55:45.792645Z",
     "start_time": "2021-01-04T10:55:45.461895Z"
    }
   },
   "outputs": [],
   "source": [
    "import pandas as pd"
   ]
  },
  {
   "cell_type": "code",
   "execution_count": 12,
   "metadata": {
    "ExecuteTime": {
     "end_time": "2021-01-04T10:55:50.629166Z",
     "start_time": "2021-01-04T10:55:45.799143Z"
    }
   },
   "outputs": [],
   "source": [
    "df =pd.DataFrame([{'doc_id': doc_id,\n",
    "                   'chunk_doc': ' '.join(corpus.get_chunk_document(doc_id, threshold=0)),\n",
    "                   'label': corpus.target[doc_id][0]} for doc_id in corpus.docs])"
   ]
  },
  {
   "cell_type": "code",
   "execution_count": 13,
   "metadata": {
    "ExecuteTime": {
     "end_time": "2021-01-04T10:55:50.659580Z",
     "start_time": "2021-01-04T10:55:50.637689Z"
    }
   },
   "outputs": [
    {
     "data": {
      "text/html": [
       "<div>\n",
       "<style scoped>\n",
       "    .dataframe tbody tr th:only-of-type {\n",
       "        vertical-align: middle;\n",
       "    }\n",
       "\n",
       "    .dataframe tbody tr th {\n",
       "        vertical-align: top;\n",
       "    }\n",
       "\n",
       "    .dataframe thead th {\n",
       "        text-align: right;\n",
       "    }\n",
       "</style>\n",
       "<table border=\"1\" class=\"dataframe\">\n",
       "  <thead>\n",
       "    <tr style=\"text-align: right;\">\n",
       "      <th></th>\n",
       "      <th>doc_id</th>\n",
       "      <th>chunk_doc</th>\n",
       "      <th>label</th>\n",
       "    </tr>\n",
       "  </thead>\n",
       "  <tbody>\n",
       "    <tr>\n",
       "      <th>0</th>\n",
       "      <td>0</td>\n",
       "      <td>work mind construction concurrent_systems comp...</td>\n",
       "      <td>cs</td>\n",
       "    </tr>\n",
       "    <tr>\n",
       "      <th>1</th>\n",
       "      <td>1</td>\n",
       "      <td>optimal_selection interdependent projects impl...</td>\n",
       "      <td>cs</td>\n",
       "    </tr>\n",
       "    <tr>\n",
       "      <th>2</th>\n",
       "      <td>2</td>\n",
       "      <td>sorting one classic_problems computer_science ...</td>\n",
       "      <td>cs</td>\n",
       "    </tr>\n",
       "    <tr>\n",
       "      <th>3</th>\n",
       "      <td>3</td>\n",
       "      <td>dependency_analysis technique identify determi...</td>\n",
       "      <td>cs</td>\n",
       "    </tr>\n",
       "    <tr>\n",
       "      <th>4</th>\n",
       "      <td>4</td>\n",
       "      <td>module theorem janhunen et_al demonstrates pro...</td>\n",
       "      <td>cs</td>\n",
       "    </tr>\n",
       "  </tbody>\n",
       "</table>\n",
       "</div>"
      ],
      "text/plain": [
       "   doc_id                                          chunk_doc label\n",
       "0       0  work mind construction concurrent_systems comp...    cs\n",
       "1       1  optimal_selection interdependent projects impl...    cs\n",
       "2       2  sorting one classic_problems computer_science ...    cs\n",
       "3       3  dependency_analysis technique identify determi...    cs\n",
       "4       4  module theorem janhunen et_al demonstrates pro...    cs"
      ]
     },
     "execution_count": 13,
     "metadata": {},
     "output_type": "execute_result"
    }
   ],
   "source": [
    "df.head()"
   ]
  },
  {
   "cell_type": "markdown",
   "metadata": {},
   "source": [
    "---"
   ]
  },
  {
   "cell_type": "markdown",
   "metadata": {},
   "source": [
    "## Write to excel"
   ]
  },
  {
   "cell_type": "code",
   "execution_count": 14,
   "metadata": {
    "ExecuteTime": {
     "end_time": "2021-01-04T10:56:04.850584Z",
     "start_time": "2021-01-04T10:56:04.844959Z"
    }
   },
   "outputs": [],
   "source": [
    "filename = f'{dataset_name}_corpus.xlsx'"
   ]
  },
  {
   "cell_type": "code",
   "execution_count": 15,
   "metadata": {
    "ExecuteTime": {
     "end_time": "2021-01-04T10:56:06.080926Z",
     "start_time": "2021-01-04T10:56:05.248820Z"
    }
   },
   "outputs": [],
   "source": [
    "df.to_excel(os.path.join(root_dir, data_dir, filename))"
   ]
  },
  {
   "cell_type": "markdown",
   "metadata": {},
   "source": [
    "---"
   ]
  }
 ],
 "metadata": {
  "kernelspec": {
   "display_name": "Python 3",
   "language": "python",
   "name": "python3"
  },
  "language_info": {
   "codemirror_mode": {
    "name": "ipython",
    "version": 3
   },
   "file_extension": ".py",
   "mimetype": "text/x-python",
   "name": "python",
   "nbconvert_exporter": "python",
   "pygments_lexer": "ipython3",
   "version": "3.8.1"
  },
  "toc": {
   "base_numbering": 1,
   "nav_menu": {},
   "number_sections": true,
   "sideBar": true,
   "skip_h1_title": false,
   "title_cell": "Table of Contents",
   "title_sidebar": "Contents",
   "toc_cell": false,
   "toc_position": {},
   "toc_section_display": true,
   "toc_window_display": false
  }
 },
 "nbformat": 4,
 "nbformat_minor": 4
}
