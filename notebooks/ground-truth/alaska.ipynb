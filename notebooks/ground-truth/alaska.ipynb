{
 "cells": [
  {
   "cell_type": "markdown",
   "metadata": {},
   "source": [
    "## Define the ground truth labels"
   ]
  },
  {
   "cell_type": "markdown",
   "metadata": {},
   "source": [
    "---"
   ]
  },
  {
   "cell_type": "markdown",
   "metadata": {},
   "source": [
    "## Define filepaths"
   ]
  },
  {
   "cell_type": "code",
   "execution_count": 1,
   "metadata": {
    "ExecuteTime": {
     "end_time": "2020-09-27T22:00:22.290550Z",
     "start_time": "2020-09-27T22:00:22.285852Z"
    }
   },
   "outputs": [],
   "source": [
    "root_dir = '../..'\n",
    "data_dir = 'data/corpus'\n",
    "alaska_dir = 'alaska_camera'"
   ]
  },
  {
   "cell_type": "markdown",
   "metadata": {},
   "source": [
    "---"
   ]
  },
  {
   "cell_type": "markdown",
   "metadata": {},
   "source": [
    "## Load the dataset"
   ]
  },
  {
   "cell_type": "code",
   "execution_count": 2,
   "metadata": {
    "ExecuteTime": {
     "end_time": "2020-09-27T22:00:22.623005Z",
     "start_time": "2020-09-27T22:00:22.293937Z"
    }
   },
   "outputs": [],
   "source": [
    "import os\n",
    "import pandas as pd"
   ]
  },
  {
   "cell_type": "code",
   "execution_count": 3,
   "metadata": {
    "ExecuteTime": {
     "end_time": "2020-09-27T22:00:22.626958Z",
     "start_time": "2020-09-27T22:00:22.624811Z"
    }
   },
   "outputs": [],
   "source": [
    "filename = 'camera_entity_resolution_gt.xlsx'"
   ]
  },
  {
   "cell_type": "code",
   "execution_count": 4,
   "metadata": {
    "ExecuteTime": {
     "end_time": "2020-09-27T22:00:22.770753Z",
     "start_time": "2020-09-27T22:00:22.628650Z"
    }
   },
   "outputs": [
    {
     "data": {
      "text/html": [
       "<div>\n",
       "<style scoped>\n",
       "    .dataframe tbody tr th:only-of-type {\n",
       "        vertical-align: middle;\n",
       "    }\n",
       "\n",
       "    .dataframe tbody tr th {\n",
       "        vertical-align: top;\n",
       "    }\n",
       "\n",
       "    .dataframe thead th {\n",
       "        text-align: right;\n",
       "    }\n",
       "</style>\n",
       "<table border=\"1\" class=\"dataframe\">\n",
       "  <thead>\n",
       "    <tr style=\"text-align: right;\">\n",
       "      <th></th>\n",
       "      <th>entity_id,spec_id</th>\n",
       "    </tr>\n",
       "  </thead>\n",
       "  <tbody>\n",
       "    <tr>\n",
       "      <th>0</th>\n",
       "      <td>ENTITY#1,buy.net//4236</td>\n",
       "    </tr>\n",
       "    <tr>\n",
       "      <th>1</th>\n",
       "      <td>ENTITY#1,www.ebay.com//46670</td>\n",
       "    </tr>\n",
       "    <tr>\n",
       "      <th>2</th>\n",
       "      <td>ENTITY#10,www.pcconnection.com//12363</td>\n",
       "    </tr>\n",
       "    <tr>\n",
       "      <th>3</th>\n",
       "      <td>ENTITY#10,buy.net//6531</td>\n",
       "    </tr>\n",
       "    <tr>\n",
       "      <th>4</th>\n",
       "      <td>ENTITY#10,www.shopmania.in//698</td>\n",
       "    </tr>\n",
       "  </tbody>\n",
       "</table>\n",
       "</div>"
      ],
      "text/plain": [
       "                       entity_id,spec_id\n",
       "0                 ENTITY#1,buy.net//4236\n",
       "1           ENTITY#1,www.ebay.com//46670\n",
       "2  ENTITY#10,www.pcconnection.com//12363\n",
       "3                ENTITY#10,buy.net//6531\n",
       "4        ENTITY#10,www.shopmania.in//698"
      ]
     },
     "execution_count": 4,
     "metadata": {},
     "output_type": "execute_result"
    }
   ],
   "source": [
    "alaska_camera_df = pd.read_excel(os.path.join(root_dir, data_dir, filename))\n",
    "alaska_camera_df.head()"
   ]
  },
  {
   "cell_type": "code",
   "execution_count": 5,
   "metadata": {
    "ExecuteTime": {
     "end_time": "2020-09-27T22:00:22.775734Z",
     "start_time": "2020-09-27T22:00:22.772270Z"
    }
   },
   "outputs": [
    {
     "data": {
      "text/plain": [
       "(3865, 1)"
      ]
     },
     "execution_count": 5,
     "metadata": {},
     "output_type": "execute_result"
    }
   ],
   "source": [
    "alaska_camera_df.shape"
   ]
  },
  {
   "cell_type": "code",
   "execution_count": 6,
   "metadata": {
    "ExecuteTime": {
     "end_time": "2020-09-27T22:00:22.784796Z",
     "start_time": "2020-09-27T22:00:22.777098Z"
    }
   },
   "outputs": [],
   "source": [
    "alaska_camera_df['entity_id'] = alaska_camera_df['entity_id,spec_id'].map(lambda x: x.split(',')[0])\n",
    "alaska_camera_df['spec_id'] = alaska_camera_df['entity_id,spec_id'].map(lambda x: x.split(',')[1])"
   ]
  },
  {
   "cell_type": "code",
   "execution_count": 7,
   "metadata": {
    "ExecuteTime": {
     "end_time": "2020-09-27T22:00:22.793986Z",
     "start_time": "2020-09-27T22:00:22.786244Z"
    }
   },
   "outputs": [
    {
     "data": {
      "text/html": [
       "<div>\n",
       "<style scoped>\n",
       "    .dataframe tbody tr th:only-of-type {\n",
       "        vertical-align: middle;\n",
       "    }\n",
       "\n",
       "    .dataframe tbody tr th {\n",
       "        vertical-align: top;\n",
       "    }\n",
       "\n",
       "    .dataframe thead th {\n",
       "        text-align: right;\n",
       "    }\n",
       "</style>\n",
       "<table border=\"1\" class=\"dataframe\">\n",
       "  <thead>\n",
       "    <tr style=\"text-align: right;\">\n",
       "      <th></th>\n",
       "      <th>entity_id</th>\n",
       "      <th>spec_id</th>\n",
       "    </tr>\n",
       "  </thead>\n",
       "  <tbody>\n",
       "    <tr>\n",
       "      <th>0</th>\n",
       "      <td>ENTITY#1</td>\n",
       "      <td>buy.net//4236</td>\n",
       "    </tr>\n",
       "    <tr>\n",
       "      <th>1</th>\n",
       "      <td>ENTITY#1</td>\n",
       "      <td>www.ebay.com//46670</td>\n",
       "    </tr>\n",
       "    <tr>\n",
       "      <th>2</th>\n",
       "      <td>ENTITY#10</td>\n",
       "      <td>www.pcconnection.com//12363</td>\n",
       "    </tr>\n",
       "    <tr>\n",
       "      <th>3</th>\n",
       "      <td>ENTITY#10</td>\n",
       "      <td>buy.net//6531</td>\n",
       "    </tr>\n",
       "    <tr>\n",
       "      <th>4</th>\n",
       "      <td>ENTITY#10</td>\n",
       "      <td>www.shopmania.in//698</td>\n",
       "    </tr>\n",
       "  </tbody>\n",
       "</table>\n",
       "</div>"
      ],
      "text/plain": [
       "   entity_id                      spec_id\n",
       "0   ENTITY#1                buy.net//4236\n",
       "1   ENTITY#1          www.ebay.com//46670\n",
       "2  ENTITY#10  www.pcconnection.com//12363\n",
       "3  ENTITY#10                buy.net//6531\n",
       "4  ENTITY#10        www.shopmania.in//698"
      ]
     },
     "execution_count": 7,
     "metadata": {},
     "output_type": "execute_result"
    }
   ],
   "source": [
    "alaska_camera_df = alaska_camera_df.drop(columns=['entity_id,spec_id'])\n",
    "alaska_camera_df.head()"
   ]
  },
  {
   "cell_type": "markdown",
   "metadata": {},
   "source": [
    "---"
   ]
  },
  {
   "cell_type": "markdown",
   "metadata": {},
   "source": [
    "## Filter selected entities"
   ]
  },
  {
   "cell_type": "code",
   "execution_count": 8,
   "metadata": {
    "ExecuteTime": {
     "end_time": "2020-09-27T22:00:22.798129Z",
     "start_time": "2020-09-27T22:00:22.796181Z"
    }
   },
   "outputs": [],
   "source": [
    "import sys"
   ]
  },
  {
   "cell_type": "code",
   "execution_count": 9,
   "metadata": {
    "ExecuteTime": {
     "end_time": "2020-09-27T22:00:22.801896Z",
     "start_time": "2020-09-27T22:00:22.799930Z"
    }
   },
   "outputs": [],
   "source": [
    "src_dir = 'src'"
   ]
  },
  {
   "cell_type": "code",
   "execution_count": 10,
   "metadata": {
    "ExecuteTime": {
     "end_time": "2020-09-27T22:00:22.805672Z",
     "start_time": "2020-09-27T22:00:22.803396Z"
    }
   },
   "outputs": [],
   "source": [
    "sys.path.append(os.path.join(root_dir, src_dir))"
   ]
  },
  {
   "cell_type": "code",
   "execution_count": 11,
   "metadata": {
    "ExecuteTime": {
     "end_time": "2020-09-27T22:00:23.600411Z",
     "start_time": "2020-09-27T22:00:22.807082Z"
    }
   },
   "outputs": [],
   "source": [
    "from training import TrainingCorpus"
   ]
  },
  {
   "cell_type": "code",
   "execution_count": 12,
   "metadata": {
    "ExecuteTime": {
     "end_time": "2020-09-27T22:00:23.606041Z",
     "start_time": "2020-09-27T22:00:23.602103Z"
    }
   },
   "outputs": [],
   "source": [
    "alaska_corpus_filename = 'alaska_corpus.json'"
   ]
  },
  {
   "cell_type": "code",
   "execution_count": 13,
   "metadata": {
    "ExecuteTime": {
     "end_time": "2020-09-27T22:00:23.622161Z",
     "start_time": "2020-09-27T22:00:23.607726Z"
    }
   },
   "outputs": [],
   "source": [
    "alaska_corpus = TrainingCorpus()\n",
    "alaska_corpus.load(os.path.join(root_dir, data_dir, alaska_corpus_filename))"
   ]
  },
  {
   "cell_type": "code",
   "execution_count": 14,
   "metadata": {
    "ExecuteTime": {
     "end_time": "2020-09-27T22:00:23.633086Z",
     "start_time": "2020-09-27T22:00:23.623840Z"
    }
   },
   "outputs": [
    {
     "data": {
      "text/plain": [
       "['ENTITY#6',\n",
       " 'ENTITY#7',\n",
       " 'ENTITY#8',\n",
       " 'ENTITY#16',\n",
       " 'ENTITY#18',\n",
       " 'ENTITY#19',\n",
       " 'ENTITY#21',\n",
       " 'ENTITY#23',\n",
       " 'ENTITY#36',\n",
       " 'ENTITY#37',\n",
       " 'ENTITY#41',\n",
       " 'ENTITY#44',\n",
       " 'ENTITY#57',\n",
       " 'ENTITY#58',\n",
       " 'ENTITY#75',\n",
       " 'ENTITY#76',\n",
       " 'ENTITY#84',\n",
       " 'ENTITY#96',\n",
       " 'ENTITY#101',\n",
       " 'ENTITY#102']"
      ]
     },
     "execution_count": 14,
     "metadata": {},
     "output_type": "execute_result"
    }
   ],
   "source": [
    "selected_clusters_id = alaska_corpus.labels\n",
    "selected_clusters_id"
   ]
  },
  {
   "cell_type": "code",
   "execution_count": 15,
   "metadata": {
    "ExecuteTime": {
     "end_time": "2020-09-27T22:00:23.647496Z",
     "start_time": "2020-09-27T22:00:23.635930Z"
    }
   },
   "outputs": [
    {
     "data": {
      "text/html": [
       "<div>\n",
       "<style scoped>\n",
       "    .dataframe tbody tr th:only-of-type {\n",
       "        vertical-align: middle;\n",
       "    }\n",
       "\n",
       "    .dataframe tbody tr th {\n",
       "        vertical-align: top;\n",
       "    }\n",
       "\n",
       "    .dataframe thead th {\n",
       "        text-align: right;\n",
       "    }\n",
       "</style>\n",
       "<table border=\"1\" class=\"dataframe\">\n",
       "  <thead>\n",
       "    <tr style=\"text-align: right;\">\n",
       "      <th></th>\n",
       "      <th>entity_id</th>\n",
       "      <th>spec_id</th>\n",
       "    </tr>\n",
       "  </thead>\n",
       "  <tbody>\n",
       "    <tr>\n",
       "      <th>35</th>\n",
       "      <td>ENTITY#101</td>\n",
       "      <td>www.ebay.com//47984</td>\n",
       "    </tr>\n",
       "    <tr>\n",
       "      <th>36</th>\n",
       "      <td>ENTITY#101</td>\n",
       "      <td>www.ebay.com//55902</td>\n",
       "    </tr>\n",
       "    <tr>\n",
       "      <th>37</th>\n",
       "      <td>ENTITY#101</td>\n",
       "      <td>www.ebay.com//46638</td>\n",
       "    </tr>\n",
       "    <tr>\n",
       "      <th>38</th>\n",
       "      <td>ENTITY#101</td>\n",
       "      <td>www.ebay.com//43377</td>\n",
       "    </tr>\n",
       "    <tr>\n",
       "      <th>39</th>\n",
       "      <td>ENTITY#101</td>\n",
       "      <td>www.ebay.com//54031</td>\n",
       "    </tr>\n",
       "    <tr>\n",
       "      <th>...</th>\n",
       "      <td>...</td>\n",
       "      <td>...</td>\n",
       "    </tr>\n",
       "    <tr>\n",
       "      <th>3860</th>\n",
       "      <td>ENTITY#96</td>\n",
       "      <td>www.ebay.com//58771</td>\n",
       "    </tr>\n",
       "    <tr>\n",
       "      <th>3861</th>\n",
       "      <td>ENTITY#96</td>\n",
       "      <td>www.ebay.com//53048</td>\n",
       "    </tr>\n",
       "    <tr>\n",
       "      <th>3862</th>\n",
       "      <td>ENTITY#96</td>\n",
       "      <td>www.priceme.co.nz//1714</td>\n",
       "    </tr>\n",
       "    <tr>\n",
       "      <th>3863</th>\n",
       "      <td>ENTITY#96</td>\n",
       "      <td>www.ebay.com//48341</td>\n",
       "    </tr>\n",
       "    <tr>\n",
       "      <th>3864</th>\n",
       "      <td>ENTITY#96</td>\n",
       "      <td>www.ebay.com//46581</td>\n",
       "    </tr>\n",
       "  </tbody>\n",
       "</table>\n",
       "<p>2171 rows × 2 columns</p>\n",
       "</div>"
      ],
      "text/plain": [
       "       entity_id                  spec_id\n",
       "35    ENTITY#101      www.ebay.com//47984\n",
       "36    ENTITY#101      www.ebay.com//55902\n",
       "37    ENTITY#101      www.ebay.com//46638\n",
       "38    ENTITY#101      www.ebay.com//43377\n",
       "39    ENTITY#101      www.ebay.com//54031\n",
       "...          ...                      ...\n",
       "3860   ENTITY#96      www.ebay.com//58771\n",
       "3861   ENTITY#96      www.ebay.com//53048\n",
       "3862   ENTITY#96  www.priceme.co.nz//1714\n",
       "3863   ENTITY#96      www.ebay.com//48341\n",
       "3864   ENTITY#96      www.ebay.com//46581\n",
       "\n",
       "[2171 rows x 2 columns]"
      ]
     },
     "execution_count": 15,
     "metadata": {},
     "output_type": "execute_result"
    }
   ],
   "source": [
    "alaska_camera_df = alaska_camera_df.loc[alaska_camera_df['entity_id'].isin(selected_clusters_id)]\n",
    "alaska_camera_df"
   ]
  },
  {
   "cell_type": "markdown",
   "metadata": {},
   "source": [
    "---"
   ]
  },
  {
   "cell_type": "markdown",
   "metadata": {},
   "source": [
    "## Find GT labels for the selected clusters"
   ]
  },
  {
   "cell_type": "code",
   "execution_count": 16,
   "metadata": {
    "ExecuteTime": {
     "end_time": "2020-09-27T22:00:23.650874Z",
     "start_time": "2020-09-27T22:00:23.648952Z"
    }
   },
   "outputs": [],
   "source": [
    "dir_name = 'alaska_camera_annotated'"
   ]
  },
  {
   "cell_type": "code",
   "execution_count": 17,
   "metadata": {
    "ExecuteTime": {
     "end_time": "2020-09-27T22:00:23.655948Z",
     "start_time": "2020-09-27T22:00:23.653804Z"
    }
   },
   "outputs": [],
   "source": [
    "import json"
   ]
  },
  {
   "cell_type": "code",
   "execution_count": 18,
   "metadata": {
    "ExecuteTime": {
     "end_time": "2020-09-27T22:00:23.660932Z",
     "start_time": "2020-09-27T22:00:23.657362Z"
    }
   },
   "outputs": [],
   "source": [
    "def retrieve_gt_label(spec_id):\n",
    "    entity_label = None\n",
    "    spec_src, spec_id = spec_id.split('//')\n",
    "    spec_id += '.json'\n",
    "    spec_filepath = os.path.join(root_dir,\n",
    "                                 data_dir,\n",
    "                                 dir_name,\n",
    "                                 spec_src,\n",
    "                                 spec_id)\n",
    "    with open(spec_filepath) as fd:\n",
    "        spec_data = json.load(fd)\n",
    "    \n",
    "    if '__extracted_model' in spec_data:\n",
    "        entity_label = spec_data['__extracted_model']\n",
    "    return entity_label"
   ]
  },
  {
   "cell_type": "code",
   "execution_count": 19,
   "metadata": {
    "ExecuteTime": {
     "end_time": "2020-09-27T22:00:23.664393Z",
     "start_time": "2020-09-27T22:00:23.662449Z"
    }
   },
   "outputs": [],
   "source": [
    "from collections import defaultdict"
   ]
  },
  {
   "cell_type": "code",
   "execution_count": 20,
   "metadata": {
    "ExecuteTime": {
     "end_time": "2020-09-27T22:00:23.667742Z",
     "start_time": "2020-09-27T22:00:23.665720Z"
    }
   },
   "outputs": [],
   "source": [
    "entity_to_label_dict = defaultdict(list)"
   ]
  },
  {
   "cell_type": "code",
   "execution_count": 21,
   "metadata": {
    "ExecuteTime": {
     "end_time": "2020-09-27T22:00:24.124647Z",
     "start_time": "2020-09-27T22:00:23.669033Z"
    }
   },
   "outputs": [],
   "source": [
    "for _, row in alaska_camera_df.iterrows():\n",
    "    entity_id = row['entity_id']\n",
    "    entity_label = retrieve_gt_label(row['spec_id'])\n",
    "    if entity_label and entity_label not in entity_to_label_dict[entity_id]:\n",
    "        entity_to_label_dict[entity_id].append(entity_label)\n"
   ]
  },
  {
   "cell_type": "code",
   "execution_count": 22,
   "metadata": {
    "ExecuteTime": {
     "end_time": "2020-09-27T22:00:24.130495Z",
     "start_time": "2020-09-27T22:00:24.126445Z"
    }
   },
   "outputs": [],
   "source": [
    "from pprint import pprint"
   ]
  },
  {
   "cell_type": "code",
   "execution_count": 23,
   "metadata": {
    "ExecuteTime": {
     "end_time": "2020-09-27T22:00:24.142801Z",
     "start_time": "2020-09-27T22:00:24.134000Z"
    }
   },
   "outputs": [
    {
     "name": "stdout",
     "output_type": "stream",
     "text": [
      "defaultdict(<class 'list'>,\n",
      "            {'ENTITY#101': ['canon eos 5d mark iii', 'canon eos 5d'],\n",
      "             'ENTITY#102': ['canon eos 5d mark ii', 'canon eos 5d'],\n",
      "             'ENTITY#16': ['nikon d90'],\n",
      "             'ENTITY#18': ['canon eos 60d'],\n",
      "             'ENTITY#19': ['nikon d3300'],\n",
      "             'ENTITY#21': ['nikon d5100'],\n",
      "             'ENTITY#23': ['canon eos 7d'],\n",
      "             'ENTITY#36': ['nikon d3100'],\n",
      "             'ENTITY#37': ['nikon d80'],\n",
      "             'ENTITY#41': ['nikon d5200'],\n",
      "             'ENTITY#44': ['nikon d3200'],\n",
      "             'ENTITY#57': ['nikon d800'],\n",
      "             'ENTITY#58': ['nikon 1 j1'],\n",
      "             'ENTITY#6': ['nikon d5300', 'nikon d800e'],\n",
      "             'ENTITY#7': ['olympus omd em5'],\n",
      "             'ENTITY#75': ['nikon d7000'],\n",
      "             'ENTITY#76': ['nikon d610'],\n",
      "             'ENTITY#8': ['nikon 1 j3'],\n",
      "             'ENTITY#84': ['nikon d300'],\n",
      "             'ENTITY#96': ['canon eos 70d', 'canon eos 7d']})\n"
     ]
    }
   ],
   "source": [
    "pprint(entity_to_label_dict)"
   ]
  },
  {
   "cell_type": "markdown",
   "metadata": {},
   "source": [
    "Fix gt labels "
   ]
  },
  {
   "cell_type": "code",
   "execution_count": 24,
   "metadata": {
    "ExecuteTime": {
     "end_time": "2020-09-27T22:00:24.148502Z",
     "start_time": "2020-09-27T22:00:24.144928Z"
    }
   },
   "outputs": [],
   "source": [
    "entity_to_label_dict['ENTITY#101'] = ['canon eos 5d mark iii']\n",
    "entity_to_label_dict['ENTITY#102'] = ['canon eos 5d mark ii']\n",
    "entity_to_label_dict['ENTITY#7'].append('olympus om-d em5')\n",
    "entity_to_label_dict['ENTITY#7'].append('olympus om-d e-m5')\n",
    "entity_to_label_dict['ENTITY#7'].append('olympus omd e-m5')"
   ]
  },
  {
   "cell_type": "markdown",
   "metadata": {},
   "source": [
    "## Save GT to a file"
   ]
  },
  {
   "cell_type": "code",
   "execution_count": 25,
   "metadata": {
    "ExecuteTime": {
     "end_time": "2020-09-27T22:00:24.153565Z",
     "start_time": "2020-09-27T22:00:24.150416Z"
    }
   },
   "outputs": [],
   "source": [
    "gt_filename = 'alaska_camera_gt.json'\n",
    "gt_filepath = os.path.join(root_dir, data_dir, gt_filename)"
   ]
  },
  {
   "cell_type": "code",
   "execution_count": 26,
   "metadata": {
    "ExecuteTime": {
     "end_time": "2020-09-27T22:00:24.158385Z",
     "start_time": "2020-09-27T22:00:24.155206Z"
    }
   },
   "outputs": [],
   "source": [
    "with open(gt_filepath, 'w') as fd:\n",
    "    json.dump(entity_to_label_dict, fd)"
   ]
  },
  {
   "cell_type": "markdown",
   "metadata": {
    "ExecuteTime": {
     "end_time": "2020-09-27T20:48:25.645232Z",
     "start_time": "2020-09-27T20:48:25.505482Z"
    }
   },
   "source": [
    "---"
   ]
  }
 ],
 "metadata": {
  "kernelspec": {
   "display_name": "Python 3",
   "language": "python",
   "name": "python3"
  },
  "language_info": {
   "codemirror_mode": {
    "name": "ipython",
    "version": 3
   },
   "file_extension": ".py",
   "mimetype": "text/x-python",
   "name": "python",
   "nbconvert_exporter": "python",
   "pygments_lexer": "ipython3",
   "version": "3.8.1"
  },
  "toc": {
   "base_numbering": 1,
   "nav_menu": {},
   "number_sections": true,
   "sideBar": true,
   "skip_h1_title": false,
   "title_cell": "Table of Contents",
   "title_sidebar": "Contents",
   "toc_cell": false,
   "toc_position": {},
   "toc_section_display": true,
   "toc_window_display": false
  }
 },
 "nbformat": 4,
 "nbformat_minor": 4
}
